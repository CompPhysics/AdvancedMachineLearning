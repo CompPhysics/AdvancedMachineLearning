{
 "cells": [
  {
   "cell_type": "markdown",
   "id": "553e3684",
   "metadata": {},
   "source": [
    "<!-- HTML file automatically generated from DocOnce source (https://github.com/doconce/doconce/)\n",
    "doconce format html lorenz.do.txt  -->"
   ]
  },
  {
   "cell_type": "code",
   "execution_count": 3,
   "id": "908959a7",
   "metadata": {},
   "outputs": [],
   "source": [
    "%matplotlib inline\n",
    "\n",
    "# Common imports\n",
    "import numpy as np\n",
    "import pandas as pd\n",
    "from scipy.integrate import odeint\n",
    "from math import *\n",
    "import matplotlib.pyplot as plt\n",
    "import os\n",
    "\n",
    "# Where to save the figures and data files\n",
    "PROJECT_ROOT_DIR = \"Results\"\n",
    "FIGURE_ID = \"Results/FigureFiles\"\n",
    "DATA_ID = \"DataFiles/\"\n",
    "\n",
    "if not os.path.exists(PROJECT_ROOT_DIR):\n",
    "    os.mkdir(PROJECT_ROOT_DIR)\n",
    "\n",
    "if not os.path.exists(FIGURE_ID):\n",
    "    os.makedirs(FIGURE_ID)\n",
    "\n",
    "if not os.path.exists(DATA_ID):\n",
    "    os.makedirs(DATA_ID)\n",
    "\n",
    "def image_path(fig_id):\n",
    "    return os.path.join(FIGURE_ID, fig_id)\n",
    "\n",
    "def data_path(dat_id):\n",
    "    return os.path.join(DATA_ID, dat_id)\n",
    "\n",
    "def save_fig(fig_id):\n",
    "    plt.savefig(image_path(fig_id) + \".png\", format='png')\n",
    "\n",
    "\n",
    "\n",
    "dt =0.01; tfinal = 8; t = np.arange(0,tfinal+dt, dt)\n",
    "beta =8.0/3.0; rho = 28.0; sigma = 10.0\n",
    "\n",
    "nninput = np.zeros((100*len(t)-1,3))\n",
    "nnoutput = np.zeros((100*len(t)-1,3))\n",
    "\n",
    "\n",
    "def lorenz_derivative(xyz, t0, sigma=sigma,beta=beta,rho=rho):\n",
    "    x, y, z = xyz\n",
    "    return [sigma*(x-y), x*(rho-z)-y, x*y-beta*z]\n",
    "\n",
    "# generate 100 random initial values\n",
    "\n",
    "x0 = -15.0+30.0*np.random.random((100,3))\n",
    "\n",
    "# Use odeint functionality by sending in derivative function\n",
    "x_t = np.asarray([odeint(lorenz_derivative, x0_j, t) \n",
    "                  for x0_j in x0])\n",
    "\n",
    "# define the inputs and outputs for the neural networks\n",
    "for j in range(100):\n",
    "    nninput[j*(len(t)-1):(j+1)*(len(t)-1),:] = x_t[j,:-1,:]\n",
    "    nnoutput[j*(len(t)-1):(j+1)*(len(t)-1),:] = x_t[j,1:,:]"
   ]
  },
  {
   "cell_type": "code",
   "execution_count": null,
   "id": "a0da724f",
   "metadata": {},
   "outputs": [],
   "source": []
  }
 ],
 "metadata": {
  "kernelspec": {
   "display_name": "Python 3 (ipykernel)",
   "language": "python",
   "name": "python3"
  },
  "language_info": {
   "codemirror_mode": {
    "name": "ipython",
    "version": 3
   },
   "file_extension": ".py",
   "mimetype": "text/x-python",
   "name": "python",
   "nbconvert_exporter": "python",
   "pygments_lexer": "ipython3",
   "version": "3.9.10"
  }
 },
 "nbformat": 4,
 "nbformat_minor": 5
}
