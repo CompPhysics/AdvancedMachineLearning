{
 "cells": [
  {
   "cell_type": "markdown",
   "id": "d87403fc",
   "metadata": {},
   "source": [
    "<!-- HTML file automatically generated from DocOnce source (https://github.com/doconce/doconce/)\n",
    "doconce format html projectwriting.do.txt  -->\n",
    "<!-- dom:TITLE: How to write a scientific project -->"
   ]
  },
  {
   "cell_type": "markdown",
   "id": "e88d6de0",
   "metadata": {},
   "source": [
    "# How to write a scientific project\n",
    "**Morten Hjorth-Jensen**, Department of Physics, University of Oslo and Department of Physics and Astronomy and National Superconducting Cyclotron Laboratory, Michigan State University\n",
    "\n",
    "Date: **Sep 26, 2023**\n",
    "\n",
    "Copyright 1999-2023, Morten Hjorth-Jensen. Released under CC Attribution-NonCommercial 4.0 license"
   ]
  },
  {
   "cell_type": "markdown",
   "id": "2b6137a3",
   "metadata": {},
   "source": [
    "## The report: how to write a good scienfitic/technical report\n",
    "**What should it contain? A typical structure.**\n",
    "\n",
    " * An abstract where you give the main summary of your work\n",
    "\n",
    " * An introduction where you explain the aims and rationale for the physics case and  what you have done. At the end of the introduction you should give a brief summary of the structure of the report\n",
    "\n",
    " * Theoretical models and technicalities. This is the methods section\n",
    "\n",
    " * Code structure, tests and more\n",
    "\n",
    " * Results and discussion\n",
    "\n",
    " * Conclusions and perspectives\n",
    "\n",
    " * Appendix with extra material\n",
    "\n",
    " * Bibliography\n",
    "\n",
    "Keep always a good log of what you do."
   ]
  },
  {
   "cell_type": "markdown",
   "id": "7b782bf5",
   "metadata": {},
   "source": [
    "## The report, the abstract\n",
    "The abstract gives the reader a quick overview of what has been done and the most important results. Here is a typical example\n",
    "taken from a recent [scientific article](https://journals.aps.org/prl/abstract/10.1103/PhysRevLett.131.131401) \n",
    "\n",
    "**We construct the first four-dimensional multiple black hole solution of general relativity with a positive cosmological constant. The solution consists of two static black holes whose gravitational attraction is balanced by the cosmic expansion. These static binaries provide the first four-dimensional example of nonuniqueness in general relativity without matter.**\n",
    "\n",
    "If you have specific recommendations and/or results you may also highlight them in the abstract."
   ]
  },
  {
   "cell_type": "markdown",
   "id": "64115d65",
   "metadata": {},
   "source": [
    "## The report, the introduction\n",
    "**What should I focus on? Introduction.**\n",
    "\n",
    "You don't need to answer all questions in a chronological order.  When you write the introduction you could focus on the following aspects\n",
    " * Motivate the reader, the first part of the introduction gives always a motivation and tries to give the overarching ideas\n",
    "\n",
    " * What I have done\n",
    "\n",
    " * The structure of the report, how it is organized etc"
   ]
  },
  {
   "cell_type": "markdown",
   "id": "f5d92d4d",
   "metadata": {},
   "source": [
    "## The report, discussion of methods and codes\n",
    "**What should I focus on? Methods sections.**\n",
    "\n",
    " * Describe the methods and algorithms\n",
    "\n",
    " * You need to explain how you implemented the methods and also say something about the structure of your algorithm and present some parts of your code\n",
    "\n",
    " * You should plug in some calculations to demonstrate your code, such as selected runs used to validate and verify your results. The latter is extremely important!!  A reader needs to understand that your code reproduces selected benchmarks and reproduces previous results, either numerical and/or well-known  closed form expressions.\n",
    "\n",
    "See also the next slide."
   ]
  },
  {
   "cell_type": "markdown",
   "id": "3c40a7db",
   "metadata": {},
   "source": [
    "## The report, code part\n",
    "\n",
    "Try to make a GitHub/Gitlab etc repository with three folders\n",
    "\n",
    "1. One which contains the report\n",
    "\n",
    "2. One which contains some test runs and eventually additional results not presented in the report\n",
    "\n",
    "3. One which contains the code\n",
    "\n",
    "The code should be well documented and make sure it produces the results you are showing in the report. Here you can doucment soruce files and/or jupyter-notebooks.\n",
    "\n",
    "You may also add a README file which tells what is contained in the this repository."
   ]
  },
  {
   "cell_type": "markdown",
   "id": "827a5d78",
   "metadata": {},
   "source": [
    "## The report, results part\n",
    "**What should I focus on? Results.**\n",
    "\n",
    " * Present your results\n",
    "\n",
    " * Give a critical discussion of your work and place it in the correct context.\n",
    "\n",
    " * Relate your work to other calculations/studies\n",
    "\n",
    " * An eventual reader should be able to reproduce your calculations. All input variables should be properly explained.\n",
    "\n",
    " * Make sure that figures and tables should contain enough information in their captions, axis labels etc so that an eventual reader can gain a first impression of your work by studying figures and tables only."
   ]
  },
  {
   "cell_type": "markdown",
   "id": "af36654a",
   "metadata": {},
   "source": [
    "## The report, conclusions and perspectives\n",
    "**What should I focus on? Conclusions.**\n",
    "\n",
    " * State your main findings and interpretations\n",
    "\n",
    " * Try as far as possible to present perspectives for future work\n",
    "\n",
    " * Try to discuss the pros and cons of the methods and possible improvements"
   ]
  },
  {
   "cell_type": "markdown",
   "id": "4e1110c4",
   "metadata": {},
   "source": [
    "## The report, appendices\n",
    "**What should I focus on? additional material.**\n",
    "\n",
    " * Additional calculations used to validate the codes\n",
    "\n",
    " * Selected calculations, these can be listed with  few comments\n",
    "\n",
    " * Listing of the code if you feel this is necessary\n",
    "\n",
    "You can consider moving parts of the material from the methods section to the appendix or your GitHub/Gitlab repository. You can also place additional material on your webpage."
   ]
  },
  {
   "cell_type": "markdown",
   "id": "3e43a925",
   "metadata": {},
   "source": [
    "## The report, references\n",
    "**What should I focus on? References.**\n",
    "\n",
    " * Give always references to material you base your work on, either  scientific articles/reports or books.\n",
    "\n",
    " * Refer to articles as: name(s) of author(s), journal, volume (boldfaced), page and year in parenthesis.\n",
    "\n",
    " * Refer to books as: name(s) of author(s), title of book, publisher, place and year, eventual page numbers"
   ]
  },
  {
   "cell_type": "markdown",
   "id": "40bd5668",
   "metadata": {},
   "source": [
    "## Where do I find scientific articles, books etc and examples of reports\n",
    " * With a UiO IP number you can access freely all books and scientific journals available at our [University library](http://www.ub.uio.no/)\n",
    "\n",
    " * For scientific articles, go to for example the journal [Physical Review Letters of the American Physical Society](http://journals.aps.org/prl/issues/117/10)"
   ]
  },
  {
   "cell_type": "markdown",
   "id": "3421124c",
   "metadata": {},
   "source": [
    "## Procrastination... the curse of all?\n",
    "<!-- dom:FIGURE: [fig-projectwriting/procrast.jpg, width=700 frac=0.9] -->\n",
    "<!-- begin figure -->\n",
    "\n",
    "<img src=\"fig-projectwriting/procrast.jpg\" width=\"700\"><p style=\"font-size: 0.9em\"><i>Figure 1: </i></p>\n",
    "<!-- end figure -->\n",
    "\n",
    "[Enjoy this video](https://www.youtube.com/watch?v=arj7oStGLkU)\n",
    "\n",
    "[And research shows that procrastinating enhances creativity!!](http://www.nytimes.com/2016/01/17/opinion/sunday/why-i-taught-myself-to-procrastinate.html?_r=0)"
   ]
  }
 ],
 "metadata": {
  "kernelspec": {
   "display_name": "Python 3 (ipykernel)",
   "language": "python",
   "name": "python3"
  },
  "language_info": {
   "codemirror_mode": {
    "name": "ipython",
    "version": 3
   },
   "file_extension": ".py",
   "mimetype": "text/x-python",
   "name": "python",
   "nbconvert_exporter": "python",
   "pygments_lexer": "ipython3",
   "version": "3.9.10"
  }
 },
 "nbformat": 4,
 "nbformat_minor": 5
}
