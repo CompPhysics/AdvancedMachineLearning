{
 "cells": [
  {
   "cell_type": "markdown",
   "id": "09ea2e51",
   "metadata": {
    "editable": true
   },
   "source": [
    "<!-- HTML file automatically generated from DocOnce source (https://github.com/doconce/doconce/)\n",
    "doconce format html CNNandmore.do.txt  -->\n",
    "<!-- dom:TITLE: Project 1 CNNs, RNNs, Autoencoders and more -->"
   ]
  },
  {
   "cell_type": "markdown",
   "id": "c50b3119",
   "metadata": {
    "editable": true
   },
   "source": [
    "# Project 1 CNNs, RNNs, Autoencoders and more\n",
    "**[FYS5429/9429](https://www.uio.no/studier/emner/matnat/fys/FYS5429/index-eng.html), Advanced machine learning and data analysis for the physical sciences, University of Oslo, Norway**\n",
    "\n",
    "Date: **Spring semester 2025, deadline March 21**"
   ]
  },
  {
   "cell_type": "markdown",
   "id": "82321e0f",
   "metadata": {
    "editable": true
   },
   "source": [
    "## Discriminative methods\n",
    "\n",
    "This project explores different discriminative methods, starting with\n",
    "standard neural networks, then moving to Comvolutional NNs (CNNs) or\n",
    "Recurrent NNs (RNNs), Autoencoders and/or Graphical NNs (GNNs).  It\n",
    "allows also for a smooth transition to generative methods like\n",
    "Boltzmann machines, VAEs, GANs and Diffusion models. These methods are\n",
    "the topic of the second project."
   ]
  },
  {
   "cell_type": "markdown",
   "id": "fa877269",
   "metadata": {
    "editable": true
   },
   "source": [
    "### Images and more\n",
    "\n",
    "A data set which many of you are familiar with is the MNIST set of\n",
    "handwritten numbers, see\n",
    "<https://en.wikipedia.org/wiki/MNIST_database>.  Here you can\n",
    "study this data set with NNs, CNNs and eventually autoencoders or\n",
    "GNNs. For project 2 you could continue with the same data set and\n",
    "explore generative methods.  You can obviously replace this data set\n",
    "with other images, such as images from modeling of phase transitions\n",
    "in physical systems, see <https://www.arxiv.org/abs/2501.05547> or\n",
    "other data sets of your choice."
   ]
  },
  {
   "cell_type": "markdown",
   "id": "07952a8d",
   "metadata": {
    "editable": true
   },
   "source": [
    "### Time series\n",
    "\n",
    "Another frequently occuring type of data are so-called time\n",
    "series. Here again you can start with NNs, move over to RNNs and\n",
    "autoencoders. Similarly, for project 2, you can include VAEs,\n",
    "Diffusion models or other generative methods. At the end you will have\n",
    "studied a broad set of deep learning methods, allowing you thereby to\n",
    "assess their pros and cons.\n",
    "\n",
    "Feel free to develop own codes or use libraries like TensorFlow and/or PyTorch."
   ]
  },
  {
   "cell_type": "markdown",
   "id": "d3295d04",
   "metadata": {
    "editable": true
   },
   "source": [
    "## Introduction to numerical projects\n",
    "\n",
    "Here follows a brief recipe and recommendation on how to write a report for each\n",
    "project.\n",
    "\n",
    "  * Give a short description of the nature of the problem and the eventual  numerical methods you have used.\n",
    "\n",
    "  * Describe the algorithm you have used and/or developed. Here you may find it convenient to use pseudocoding. In many cases you can describe the algorithm in the program itself.\n",
    "\n",
    "  * Include the source code of your program. Comment your program properly.\n",
    "\n",
    "  * If possible, try to find analytic solutions, or known limits in order to test your program when developing the code.\n",
    "\n",
    "  * Include your results either in figure form or in a table. Remember to        label your results. All tables and figures should have relevant captions        and labels on the axes.\n",
    "\n",
    "  * Try to evaluate the reliabilty and numerical stability/precision of your results. If possible, include a qualitative and/or quantitative discussion of the numerical stability, eventual loss of precision etc.\n",
    "\n",
    "  * Try to give an interpretation of you results in your answers to  the problems.\n",
    "\n",
    "  * Critique: if possible include your comments and reflections about the  exercise, whether you felt you learnt something, ideas for improvements and  other thoughts you've made when solving the exercise. We wish to keep this course at the interactive level and your comments can help us improve it.\n",
    "\n",
    "  * Try to establish a practice where you log your work at the  computerlab. You may find such a logbook very handy at later stages in your work, especially when you don't properly remember  what a previous test version  of your program did. Here you could also record  the time spent on solving the exercise, various algorithms you may have tested or other topics which you feel worthy of mentioning."
   ]
  },
  {
   "cell_type": "markdown",
   "id": "8b6ffd62",
   "metadata": {
    "editable": true
   },
   "source": [
    "## Format for electronic delivery of report and programs\n",
    "\n",
    "The preferred format for the report is a PDF file. You can also use DOC or postscript formats or as an ipython notebook file.  As programming language we prefer that you choose between C/C++, Fortran2008 or Python. The following prescription should be followed when preparing the report:\n",
    "\n",
    "  * Send us an email in order  to hand in your projects with a link to your GitHub/Gitlab repository.\n",
    "\n",
    "  * In your GitHub/GitLab or similar repository, please include a folder which contains selected results. These can be in the form of output from your code for a selected set of runs and input parameters.\n",
    "\n",
    "Finally, \n",
    "we encourage you to collaborate. Optimal working groups consist of \n",
    "2-3 students. You can then hand in a common report."
   ]
  }
 ],
 "metadata": {},
 "nbformat": 4,
 "nbformat_minor": 5
}
