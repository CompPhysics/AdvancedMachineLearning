{
 "cells": [
  {
   "cell_type": "markdown",
   "id": "11a2f4cd",
   "metadata": {
    "editable": true
   },
   "source": [
    "<!-- HTML file automatically generated from DocOnce source (https://github.com/doconce/doconce/)\n",
    "doconce format html PDE.do.txt  -->\n",
    "<!-- dom:TITLE: Project 1, Partial differential equations with Neural Networks -->"
   ]
  },
  {
   "cell_type": "markdown",
   "id": "260387d0",
   "metadata": {
    "editable": true
   },
   "source": [
    "# Project 1, Partial differential equations with Neural Networks\n",
    "**[FYS5429/9429](https://www.uio.no/studier/emner/matnat/fys/FYS5429/index-eng.html), Advanced machine learning and data analysis for the physical sciences, University of Oslo, Norway**\n",
    "\n",
    "Date: **Spring semester 2025, deadline March 21**"
   ]
  },
  {
   "cell_type": "markdown",
   "id": "d6b91195",
   "metadata": {
    "editable": true
   },
   "source": [
    "## Solving partial differential equations with neural networks\n",
    "\n",
    "This variant of project 1 is tailored to those of you who are\n",
    "interested in studying differential equations and may have followed\n",
    "popular courses on these methods. **It can also be seen as a stepping\n",
    "stone towards studies of PINNs, laying thereby  the basis for\n",
    "project 2**.\n",
    "\n",
    "For this variant of project 1, we will assume that you have some\n",
    "background in the solution of partial differential equations using\n",
    "finite difference schemes. If you are not familiar with these methods, we can give you an introduction.\n",
    "\n",
    "We will study the solution of the diffusion\n",
    "equation in one dimension using a standard explicit scheme and neural\n",
    "networks to solve the same equations. Feel free to add more advanced finite difference or finite element methods.\n",
    "\n",
    "For the explicit scheme, you can study for example chapter 10 of the lecture notes in [Computational Physics, FYS3150/4150](https://github.com/CompPhysics/ComputationalPhysics/blob/master/doc/Lectures/lectures2015.pdf) or alternative sources from courses like [MAT-MEK4270](https://www.uio.no/studier/emner/matnat/math/MAT-MEK4270/index.html). For the solution of ordinary and partial differential equations using neural networks, the lectures by of week 43 at for example <https://compphysics.github.io/MachineLearning/doc/pub/week42/html/week43.html> at this course are highly recommended.\n",
    "\n",
    "For the machine learning part you can use your own codes\n",
    "or the functionality of for example **Tensorflow/Keras**, **PyTorch** or\n",
    "other libraries such as [Physics informed machine learning](https://maziarraissi.github.io/PINNs/)."
   ]
  },
  {
   "cell_type": "markdown",
   "id": "859189c1",
   "metadata": {
    "editable": true
   },
   "source": [
    "### Alternative differential equations\n",
    "\n",
    "Note that you can replace the one-dimensional diffusion equation\n",
    "discussed below with other sets of either ordinary differential\n",
    "equations or partial differential equations.\n",
    "A typical equation many of you may be interested in is for example the Navier-Stokes equation.\n",
    "\n",
    "An alternative is a\n",
    "stochastic diffusion equation, known as the Black-Scholes equation\n",
    "(Nobel prize in economy, see\n",
    "<https://en.wikipedia.org/wiki/Black%E2%80%93Scholes_model>).\n",
    "\n",
    "An interesting article on PINNs with the Black-Scholes equation could serve as a possible path for the second project, see <https://arxiv.org/abs/2312.06711>."
   ]
  },
  {
   "cell_type": "markdown",
   "id": "c070757d",
   "metadata": {
    "editable": true
   },
   "source": [
    "### Part a), setting up the problem\n",
    "\n",
    "The physical problem can be that of the temperature gradient in a rod of length $L=1$ at $x=0$ and $x=1$.\n",
    "We are looking at a one-dimensional\n",
    "problem"
   ]
  },
  {
   "cell_type": "markdown",
   "id": "f874ea52",
   "metadata": {
    "editable": true
   },
   "source": [
    "$$\n",
    "\\frac{\\partial^2 u(x,t)}{\\partial x^2} =\\frac{\\partial u(x,t)}{\\partial t}, t> 0, x\\in [0,L]\n",
    "$$"
   ]
  },
  {
   "cell_type": "markdown",
   "id": "0fbce94d",
   "metadata": {
    "editable": true
   },
   "source": [
    "or"
   ]
  },
  {
   "cell_type": "markdown",
   "id": "8cd9fef3",
   "metadata": {
    "editable": true
   },
   "source": [
    "$$\n",
    "u_{xx} = u_t,\n",
    "$$"
   ]
  },
  {
   "cell_type": "markdown",
   "id": "9ed33fb2",
   "metadata": {
    "editable": true
   },
   "source": [
    "with initial conditions, i.e., the conditions at $t=0$,"
   ]
  },
  {
   "cell_type": "markdown",
   "id": "c945eb3e",
   "metadata": {
    "editable": true
   },
   "source": [
    "$$\n",
    "u(x,0)= \\sin{(\\pi x)} \\hspace{0.5cm} 0 < x < L,\n",
    "$$"
   ]
  },
  {
   "cell_type": "markdown",
   "id": "46c27da4",
   "metadata": {
    "editable": true
   },
   "source": [
    "with $L=1$ the length of the $x$-region of interest. The \n",
    "boundary conditions are"
   ]
  },
  {
   "cell_type": "markdown",
   "id": "21c6c0d9",
   "metadata": {
    "editable": true
   },
   "source": [
    "$$\n",
    "u(0,t)= 0 \\hspace{0.5cm} t \\ge 0,\n",
    "$$"
   ]
  },
  {
   "cell_type": "markdown",
   "id": "b81dc9a1",
   "metadata": {
    "editable": true
   },
   "source": [
    "and"
   ]
  },
  {
   "cell_type": "markdown",
   "id": "2bc48877",
   "metadata": {
    "editable": true
   },
   "source": [
    "$$\n",
    "u(L,t)= 0 \\hspace{0.5cm} t \\ge 0.\n",
    "$$"
   ]
  },
  {
   "cell_type": "markdown",
   "id": "ff778bff",
   "metadata": {
    "editable": true
   },
   "source": [
    "The function $u(x,t)$  can be the temperature gradient of a  rod.\n",
    "As time increases, the velocity approaches a linear variation with $x$. \n",
    "\n",
    "We will limit ourselves to the so-called explicit forward Euler algorithm with discretized versions of time given by a forward formula and a centered difference in space resulting in"
   ]
  },
  {
   "cell_type": "markdown",
   "id": "70226b9c",
   "metadata": {
    "editable": true
   },
   "source": [
    "$$\n",
    "u_t\\approx \\frac{u(x,t+\\Delta t)-u(x,t)}{\\Delta t}=\\frac{u(x_i,t_j+\\Delta t)-u(x_i,t_j)}{\\Delta t}\n",
    "$$"
   ]
  },
  {
   "cell_type": "markdown",
   "id": "56dbadc8",
   "metadata": {
    "editable": true
   },
   "source": [
    "and"
   ]
  },
  {
   "cell_type": "markdown",
   "id": "16179055",
   "metadata": {
    "editable": true
   },
   "source": [
    "$$\n",
    "u_{xx}\\approx \\frac{u(x+\\Delta x,t)-2u(x,t)+u(x-\\Delta x,t)}{\\Delta x^2},\n",
    "$$"
   ]
  },
  {
   "cell_type": "markdown",
   "id": "5803b8c2",
   "metadata": {
    "editable": true
   },
   "source": [
    "or"
   ]
  },
  {
   "cell_type": "markdown",
   "id": "3dc1434e",
   "metadata": {
    "editable": true
   },
   "source": [
    "$$\n",
    "u_{xx}\\approx \\frac{u(x_i+\\Delta x,t_j)-2u(x_i,t_j)+u(x_i-\\Delta x,t_j)}{\\Delta x^2}.\n",
    "$$"
   ]
  },
  {
   "cell_type": "markdown",
   "id": "f32974f7",
   "metadata": {
    "editable": true
   },
   "source": [
    "Write down the algorithm and the equations you need to implement.\n",
    "Find also the analytical solution to the problem."
   ]
  },
  {
   "cell_type": "markdown",
   "id": "f189fc1a",
   "metadata": {
    "editable": true
   },
   "source": [
    "### Part b)\n",
    "\n",
    "Implement the explicit scheme  algorithm and perform tests of the solution \n",
    "for $\\Delta x=1/10$, $\\Delta x=1/100$ using  $\\Delta t$ as dictated by the stability limit of the explicit scheme. The stability criterion for the explicit scheme requires that $\\Delta t/\\Delta x^2 \\leq 1/2$. \n",
    "\n",
    "Study the solutions at two time points $t_1$ and $t_2$ where $u(x,t_1)$ is smooth but still significantly curved\n",
    "and $u(x,t_2)$ is almost linear, close to the stationary state."
   ]
  },
  {
   "cell_type": "markdown",
   "id": "93d64276",
   "metadata": {
    "editable": true
   },
   "source": [
    "### Part c) Neural networks\n",
    "\n",
    "Study now the lecture notes on solving ODEs and PDEs with neural\n",
    "network and use either your own code from project 2 or the\n",
    "functionality of tensorflow/keras to solve the same equation as in\n",
    "part b).  Discuss your results and compare them with the standard\n",
    "explicit scheme. Include also the analytical solution and compare with\n",
    "that."
   ]
  },
  {
   "cell_type": "markdown",
   "id": "2630fef5",
   "metadata": {
    "editable": true
   },
   "source": [
    "### Part d) Neural network complexity\n",
    "\n",
    "Here we study the stability of the results of the results as functions of the number of hidden nodes, layers and activation functions for the hidden layers.\n",
    "Increase the number of hidden nodes and layers in order to see if this improves your results. Try also different activation functions for the hidden layers, such as the **tanh**, **ReLU**, and other activation functions. \n",
    "Discuss your results."
   ]
  },
  {
   "cell_type": "markdown",
   "id": "81320da6",
   "metadata": {
    "editable": true
   },
   "source": [
    "### Part e)\n",
    "\n",
    "Finally, present a critical assessment of the methods you have studied\n",
    "and discuss the potential for the solving differential equations with machine learning methods."
   ]
  },
  {
   "cell_type": "markdown",
   "id": "16d94f5e",
   "metadata": {
    "editable": true
   },
   "source": [
    "## Introduction to numerical projects\n",
    "\n",
    "Here follows a brief recipe and recommendation on how to write a report for each\n",
    "project.\n",
    "\n",
    "  * Give a short description of the nature of the problem and the eventual  numerical methods you have used.\n",
    "\n",
    "  * Describe the algorithm you have used and/or developed. Here you may find it convenient to use pseudocoding. In many cases you can describe the algorithm in the program itself.\n",
    "\n",
    "  * Include the source code of your program. Comment your program properly.\n",
    "\n",
    "  * If possible, try to find analytic solutions, or known limits in order to test your program when developing the code.\n",
    "\n",
    "  * Include your results either in figure form or in a table. Remember to        label your results. All tables and figures should have relevant captions        and labels on the axes.\n",
    "\n",
    "  * Try to evaluate the reliabilty and numerical stability/precision of your results. If possible, include a qualitative and/or quantitative discussion of the numerical stability, eventual loss of precision etc.\n",
    "\n",
    "  * Try to give an interpretation of you results in your answers to  the problems.\n",
    "\n",
    "  * Critique: if possible include your comments and reflections about the  exercise, whether you felt you learnt something, ideas for improvements and  other thoughts you've made when solving the exercise. We wish to keep this course at the interactive level and your comments can help us improve it.\n",
    "\n",
    "  * Try to establish a practice where you log your work at the  computerlab. You may find such a logbook very handy at later stages in your work, especially when you don't properly remember  what a previous test version  of your program did. Here you could also record  the time spent on solving the exercise, various algorithms you may have tested or other topics which you feel worthy of mentioning."
   ]
  },
  {
   "cell_type": "markdown",
   "id": "0aad2614",
   "metadata": {
    "editable": true
   },
   "source": [
    "## Format for electronic delivery of report and programs\n",
    "\n",
    "The preferred format for the report is a PDF file. You can also use DOC or postscript formats or as an ipython notebook file.  As programming language we prefer that you choose between C/C++, Fortran2008 or Python. The following prescription should be followed when preparing the report:\n",
    "\n",
    "  * Send us an email in order  to hand in your projects with a link to your GitHub/Gitlab repository.\n",
    "\n",
    "  * In your GitHub/GitLab or similar repository, please include a folder which contains selected results. These can be in the form of output from your code for a selected set of runs and input parameters.\n",
    "\n",
    "Finally, \n",
    "we encourage you to collaborate. Optimal working groups consist of \n",
    "2-3 students. You can then hand in a common report."
   ]
  }
 ],
 "metadata": {},
 "nbformat": 4,
 "nbformat_minor": 5
}
