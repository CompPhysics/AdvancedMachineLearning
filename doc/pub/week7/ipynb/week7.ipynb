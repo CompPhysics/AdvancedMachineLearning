{
 "cells": [
  {
   "cell_type": "markdown",
   "id": "93dd78c6",
   "metadata": {
    "editable": true
   },
   "source": [
    "<!-- HTML file automatically generated from DocOnce source (https://github.com/doconce/doconce/)\n",
    "doconce format html week7.do.txt --no_mako -->\n",
    "<!-- dom:TITLE: February 26-March 1: Advanced machine learning and data analysis for the physical sciences -->"
   ]
  },
  {
   "cell_type": "markdown",
   "id": "70861aaf",
   "metadata": {
    "editable": true
   },
   "source": [
    "# February 26-March 1: Advanced machine learning and data analysis for the physical sciences\n",
    "**Morten Hjorth-Jensen**, Department of Physics and Center for Computing in Science Education, University of Oslo, Norway and Department of Physics and Astronomy and Facility for Rare Isotope Beams, Michigan State University, East Lansing, Michigan, USA\n",
    "\n",
    "Date: **February 26-March 1, 2024**"
   ]
  },
  {
   "cell_type": "markdown",
   "id": "cd5ab830",
   "metadata": {
    "editable": true
   },
   "source": [
    "## Plans for the week February 26-March 1\n",
    "\n",
    "1. Finalizing discussion of Convolutional  Neural Networks (CNNs)\n",
    "\n",
    "2. Discussion of recurrent neural networks (RNNs)\n",
    "\n",
    "3. Reading recommendations:\n",
    "\n",
    "a. Goodfellow, Bengio and Courville's chapter 10 from [Deep Learning](https://www.deeplearningbook.org/)\n",
    "\n",
    "b. [Sebastian Rashcka et al, chapter 15, Machine learning with Sickit-Learn and PyTorch](https://sebastianraschka.com/blog/2022/ml-pytorch-book.html)\n",
    "\n",
    "c. [David Foster, Generative Deep Learning with TensorFlow, see chapter 5](https://www.oreilly.com/library/view/generative-deep-learning/9781098134174/ch05.html)\n",
    "\n",
    "The last two books have codes for RNNs in PyTorch and TensorFlow/Keras. Next week we will study the solution of differential equations."
   ]
  },
  {
   "cell_type": "markdown",
   "id": "dd4bd130",
   "metadata": {
    "editable": true
   },
   "source": [
    "## From FFNNs and CNNs to recurrent neural networks (RNNs)\n",
    "\n",
    "There are limitation of FFNNs, one of which being that FFNNs are not\n",
    "designed to handle sequential data (data for which the order matters)\n",
    "effectively because they lack the capabilities of storing information\n",
    "about previous inputs; each input is being treated indepen-\n",
    "dently. This is a limitation when dealing with sequential data where\n",
    "past information can be vital to correctly process current and future\n",
    "inputs."
   ]
  },
  {
   "cell_type": "markdown",
   "id": "40fcb395",
   "metadata": {
    "editable": true
   },
   "source": [
    "## Feedback connections\n",
    "\n",
    "In contrast to FFNs, recurrent networks introduce feedback\n",
    "connections, meaning the information is al- lowed to be carried to\n",
    "subsequent nodes across different time steps. These cyclic or feedback\n",
    "connections have the objective of providing the network with some kind\n",
    "of memory, making RNNs particularly suited for time- series data,\n",
    "natural language processing, speech recog- nition, and several other\n",
    "problems for which the order of the data is crucial.  RNN\n",
    "architectures vary greatly in how they manage information flow and\n",
    "memory in the network."
   ]
  },
  {
   "cell_type": "markdown",
   "id": "93c8bf59",
   "metadata": {
    "editable": true
   },
   "source": [
    "## Vanishing gradients\n",
    "\n",
    "Different architectures often aim at improving\n",
    "some sub-optimal characteristics of the network. The simplest form of\n",
    "recurrent network, commonly called simple or vanilla RNN, for example,\n",
    "is known to suffer from the problem of vanishing gradients. This\n",
    "problem arises due to the nature of backpropagation in time. Gradients\n",
    "of the cost/loss function may get exponentially small (or large) if\n",
    "there are many layers in the network, which is the case of RNN when\n",
    "the sequence gets long."
   ]
  },
  {
   "cell_type": "markdown",
   "id": "b8a58fc7",
   "metadata": {
    "editable": true
   },
   "source": [
    "## Recurrent neural networks (RNNs): Overarching view\n",
    "\n",
    "Till now our focus has been, including convolutional neural networks\n",
    "as well, on feedforward neural networks. The output or the activations\n",
    "flow only in one direction, from the input layer to the output layer.\n",
    "\n",
    "A recurrent neural network (RNN) looks very much like a feedforward\n",
    "neural network, except that it also has connections pointing\n",
    "backward. \n",
    "\n",
    "RNNs are used to analyze time series data such as stock prices, and\n",
    "tell you when to buy or sell. In autonomous driving systems, they can\n",
    "anticipate car trajectories and help avoid accidents. More generally,\n",
    "they can work on sequences of arbitrary lengths, rather than on\n",
    "fixed-sized inputs like all the nets we have discussed so far. For\n",
    "example, they can take sentences, documents, or audio samples as\n",
    "input, making them extremely useful for natural language processing\n",
    "systems such as automatic translation and speech-to-text."
   ]
  },
  {
   "cell_type": "markdown",
   "id": "c87516e4",
   "metadata": {
    "editable": true
   },
   "source": [
    "## Sequential data only?\n",
    "\n",
    "An important issue is that in many deep learning methods we assume\n",
    "that the input and output data can be treated as independent and\n",
    "identically distributed, normally abbreviated to **iid**.\n",
    "This means that the data we use can be seen as mutually independent.\n",
    "\n",
    "This is however not the case for most data sets used in RNNs since we\n",
    "are dealing with sequences of data with strong inter-dependencies.\n",
    "This applies in particular to time series, which are sequential by\n",
    "contruction.\n",
    "\n",
    "As an example, the solutions of ordinary differential equations can be\n",
    "represented as a time series, similarly, how stock prices evolve as\n",
    "function of time is another example of a typical time series, or voice\n",
    "records and many other examples.\n",
    "\n",
    "Not all sequential data may however have a time stamp, texts being a\n",
    "typical example thereof, or DNA sequences.\n",
    "\n",
    "The main focus here is on data that can be structured either as time\n",
    "series or as ordered series of data.  We will not focus on for example\n",
    "natural language processing or similar data sets."
   ]
  },
  {
   "cell_type": "markdown",
   "id": "307fc4b9",
   "metadata": {
    "editable": true
   },
   "source": [
    "## A simple example"
   ]
  },
  {
   "cell_type": "code",
   "execution_count": 1,
   "id": "8d597cbd",
   "metadata": {
    "collapsed": false,
    "editable": true
   },
   "outputs": [],
   "source": [
    "%matplotlib inline\n",
    "\n",
    "# Start importing packages\n",
    "import pandas as pd\n",
    "import numpy as np\n",
    "import matplotlib.pyplot as plt\n",
    "import tensorflow as tf\n",
    "from tensorflow.keras import datasets, layers, models\n",
    "from tensorflow.keras.layers import Input\n",
    "from tensorflow.keras.models import Model, Sequential \n",
    "from tensorflow.keras.layers import Dense, SimpleRNN, LSTM, GRU\n",
    "from tensorflow.keras import optimizers     \n",
    "from tensorflow.keras import regularizers           \n",
    "from tensorflow.keras.utils import to_categorical \n",
    "\n",
    "\n",
    "\n",
    "# convert into dataset matrix\n",
    "def convertToMatrix(data, step):\n",
    " X, Y =[], []\n",
    " for i in range(len(data)-step):\n",
    "  d=i+step  \n",
    "  X.append(data[i:d,])\n",
    "  Y.append(data[d,])\n",
    " return np.array(X), np.array(Y)\n",
    "\n",
    "step = 4\n",
    "N = 1000    \n",
    "Tp = 800    \n",
    "\n",
    "t=np.arange(0,N)\n",
    "x=np.sin(0.02*t)+2*np.random.rand(N)\n",
    "df = pd.DataFrame(x)\n",
    "df.head()\n",
    "\n",
    "values=df.values\n",
    "train,test = values[0:Tp,:], values[Tp:N,:]\n",
    "\n",
    "# add step elements into train and test\n",
    "test = np.append(test,np.repeat(test[-1,],step))\n",
    "train = np.append(train,np.repeat(train[-1,],step))\n",
    " \n",
    "trainX,trainY =convertToMatrix(train,step)\n",
    "testX,testY =convertToMatrix(test,step)\n",
    "trainX = np.reshape(trainX, (trainX.shape[0], 1, trainX.shape[1]))\n",
    "testX = np.reshape(testX, (testX.shape[0], 1, testX.shape[1]))\n",
    "\n",
    "model = Sequential()\n",
    "model.add(SimpleRNN(units=32, input_shape=(1,step), activation=\"relu\"))\n",
    "model.add(Dense(8, activation=\"relu\")) \n",
    "model.add(Dense(1))\n",
    "model.compile(loss='mean_squared_error', optimizer='rmsprop')\n",
    "model.summary()\n",
    "\n",
    "model.fit(trainX,trainY, epochs=100, batch_size=16, verbose=2)\n",
    "trainPredict = model.predict(trainX)\n",
    "testPredict= model.predict(testX)\n",
    "predicted=np.concatenate((trainPredict,testPredict),axis=0)\n",
    "\n",
    "trainScore = model.evaluate(trainX, trainY, verbose=0)\n",
    "print(trainScore)\n",
    "plt.plot(df)\n",
    "plt.plot(predicted)\n",
    "plt.show()"
   ]
  },
  {
   "cell_type": "markdown",
   "id": "ca2bc302",
   "metadata": {
    "editable": true
   },
   "source": [
    "## Memoryless models\n",
    "\n",
    "Autoregressive models predict the next term in a sequence from a fixed number of previous terms. [David Foster, Generative Deep Learning with TensorFlow, discusses in chapter 5 autoregressive models](https://www.oreilly.com/library/view/generative-deep-learning/9781098134174/ch05.html). We will come back later to autoregressive models.\n",
    "\n",
    "**Feed-forward neural networks.**\n",
    "\n",
    "These generalize autoregressive\n",
    "models by using one or more\n",
    "layers of non-linear hidden units.\n",
    "\n",
    "If we give our generative model some hidden state, and if we give\n",
    "this hidden state its own internal dynamics, we get a much more\n",
    "interesting kind of model.\n",
    "1. It can store information in its hidden state for a long time.\n",
    "\n",
    "2. If the dynamics is noisy and the way it generates outputs from its hidden state is noisy, we can never know its exact hidden state.\n",
    "\n",
    "3. The best we can do is to infer a probability distribution over the\n",
    "\n",
    "space of hidden state vectors.\n",
    "\n",
    "This inference is only tractable for two types of hidden state models."
   ]
  },
  {
   "cell_type": "markdown",
   "id": "446bfe88",
   "metadata": {
    "editable": true
   },
   "source": [
    "## RNNs\n",
    "\n",
    "RNNs are very powerful, because they\n",
    "combine two properties:\n",
    "1. Distributed hidden state that allows them to store a lot of information about the past efficiently.\n",
    "\n",
    "2. Non-linear dynamics that allows them to update their hidden state in complicated ways.\n",
    "\n",
    "With enough neurons and time, RNNs\n",
    "can compute anything that can be\n",
    "computed by your computer."
   ]
  },
  {
   "cell_type": "markdown",
   "id": "e3ca0847",
   "metadata": {
    "editable": true
   },
   "source": [
    "## What kinds of behaviour can RNNs exhibit?\n",
    "\n",
    "1. They can oscillate. \n",
    "\n",
    "2. They can settle to point attractors.\n",
    "\n",
    "3. They can behave chaotically.\n",
    "\n",
    "4. RNNs could potentially learn to implement lots of small programs that each capture a nugget of knowledge and run in parallel, interacting to produce very complicated effects.\n",
    "\n",
    "But the extensive computational needs  of RNNs makes them very hard to train."
   ]
  },
  {
   "cell_type": "markdown",
   "id": "1434f841",
   "metadata": {
    "editable": true
   },
   "source": [
    "## Basic layout,  [Figures from Sebastian Rashcka et al, Machine learning with Sickit-Learn and PyTorch](https://sebastianraschka.com/blog/2022/ml-pytorch-book.html)\n",
    "\n",
    "<!-- dom:FIGURE: [figslides/RNN1.png, width=700 frac=0.9] -->\n",
    "<!-- begin figure -->\n",
    "\n",
    "<img src=\"figslides/RNN1.png\" width=\"700\"><p style=\"font-size: 0.9em\"><i>Figure 1: </i></p>\n",
    "<!-- end figure -->"
   ]
  },
  {
   "cell_type": "markdown",
   "id": "ff9455fd",
   "metadata": {
    "editable": true
   },
   "source": [
    "## We need to specify the initial activity state of all the hidden and output units\n",
    "\n",
    "1. We could just fix these initial states to have some default value like 0.5.\n",
    "\n",
    "2. But it is better to treat the initial states as learned parameters.\n",
    "\n",
    "3. We learn them in the same way as we learn the weights.\n",
    "\n",
    "* Start off with an initial random guess for the initial states.\n",
    "\n",
    "a. At the end of each training sequence, backpropagate through time all the way to the initial states to get the gradient of the error function with respect to each initial state.\n",
    "\n",
    "b. Adjust the initial states by following the negative gradient."
   ]
  },
  {
   "cell_type": "markdown",
   "id": "352642f7",
   "metadata": {
    "editable": true
   },
   "source": [
    "## We can specify inputs in several ways\n",
    "\n",
    "1. Specify the initial states of all the units.\n",
    "\n",
    "2. Specify the initial states of a subset of the units.\n",
    "\n",
    "3. Specify the states of the same subset of the units at every time step.\n",
    "\n",
    "This is the natural way to model most sequential data."
   ]
  },
  {
   "cell_type": "markdown",
   "id": "bd61af86",
   "metadata": {
    "editable": true
   },
   "source": [
    "## We can specify targets in several ways\n",
    "\n",
    "1. Specify desired final activities of all the units\n",
    "\n",
    "2. Specify desired activities of all units for the last few steps\n",
    "\n",
    "* Good for learning attractors\n",
    "\n",
    "* It is easy to add in extra error derivatives as we backpropagate.\n",
    "\n",
    "  * Specify the desired activity of a subset of the units.\n",
    "\n",
    "* The other units are input or hidden units."
   ]
  },
  {
   "cell_type": "markdown",
   "id": "9545a375",
   "metadata": {
    "editable": true
   },
   "source": [
    "## Solving differential equations with RNNs\n",
    "\n",
    "More material to be added here."
   ]
  },
  {
   "cell_type": "markdown",
   "id": "02621ec7",
   "metadata": {
    "editable": true
   },
   "source": [
    "## RNNs in mode detail\n",
    "\n",
    "<!-- dom:FIGURE: [figslides/RNN2.png, width=700 frac=0.9] -->\n",
    "<!-- begin figure -->\n",
    "\n",
    "<img src=\"figslides/RNN2.png\" width=\"700\"><p style=\"font-size: 0.9em\"><i>Figure 1: </i></p>\n",
    "<!-- end figure -->"
   ]
  },
  {
   "cell_type": "markdown",
   "id": "d7b5dbef",
   "metadata": {
    "editable": true
   },
   "source": [
    "## RNNs in mode detail, part 2\n",
    "\n",
    "<!-- dom:FIGURE: [figslides/RNN3.png, width=700 frac=0.9] -->\n",
    "<!-- begin figure -->\n",
    "\n",
    "<img src=\"figslides/RNN3.png\" width=\"700\"><p style=\"font-size: 0.9em\"><i>Figure 1: </i></p>\n",
    "<!-- end figure -->"
   ]
  },
  {
   "cell_type": "markdown",
   "id": "89e3793d",
   "metadata": {
    "editable": true
   },
   "source": [
    "## RNNs in mode detail, part 3\n",
    "\n",
    "<!-- dom:FIGURE: [figslides/RNN4.png, width=700 frac=0.9] -->\n",
    "<!-- begin figure -->\n",
    "\n",
    "<img src=\"figslides/RNN4.png\" width=\"700\"><p style=\"font-size: 0.9em\"><i>Figure 1: </i></p>\n",
    "<!-- end figure -->"
   ]
  },
  {
   "cell_type": "markdown",
   "id": "4bc25db0",
   "metadata": {
    "editable": true
   },
   "source": [
    "## RNNs in mode detail, part 4\n",
    "\n",
    "<!-- dom:FIGURE: [figslides/RNN5.png, width=700 frac=0.9] -->\n",
    "<!-- begin figure -->\n",
    "\n",
    "<img src=\"figslides/RNN5.png\" width=\"700\"><p style=\"font-size: 0.9em\"><i>Figure 1: </i></p>\n",
    "<!-- end figure -->"
   ]
  },
  {
   "cell_type": "markdown",
   "id": "94d44377",
   "metadata": {
    "editable": true
   },
   "source": [
    "## RNNs in mode detail, part 5\n",
    "\n",
    "<!-- dom:FIGURE: [figslides/RNN6.png, width=700 frac=0.9] -->\n",
    "<!-- begin figure -->\n",
    "\n",
    "<img src=\"figslides/RNN6.png\" width=\"700\"><p style=\"font-size: 0.9em\"><i>Figure 1: </i></p>\n",
    "<!-- end figure -->"
   ]
  },
  {
   "cell_type": "markdown",
   "id": "b711143c",
   "metadata": {
    "editable": true
   },
   "source": [
    "## RNNs in mode detail, part 6\n",
    "\n",
    "<!-- dom:FIGURE: [figslides/RNN7.png, width=700 frac=0.9] -->\n",
    "<!-- begin figure -->\n",
    "\n",
    "<img src=\"figslides/RNN7.png\" width=\"700\"><p style=\"font-size: 0.9em\"><i>Figure 1: </i></p>\n",
    "<!-- end figure -->"
   ]
  },
  {
   "cell_type": "markdown",
   "id": "e5adaa46",
   "metadata": {
    "editable": true
   },
   "source": [
    "## RNNs in mode detail, part 7\n",
    "\n",
    "<!-- dom:FIGURE: [figslides/RNN8.png, width=700 frac=0.9] -->\n",
    "<!-- begin figure -->\n",
    "\n",
    "<img src=\"figslides/RNN8.png\" width=\"700\"><p style=\"font-size: 0.9em\"><i>Figure 1: </i></p>\n",
    "<!-- end figure -->"
   ]
  },
  {
   "cell_type": "markdown",
   "id": "199b1554",
   "metadata": {
    "editable": true
   },
   "source": [
    "## Backpropagation through time\n",
    "\n",
    "We can think of the recurrent net as a layered, feed-forward\n",
    "net with shared weights and then train the feed-forward net\n",
    "with weight constraints.\n",
    "\n",
    "We can also think of this training algorithm in the time domain:\n",
    "1. The forward pass builds up a stack of the activities of all the units at each time step.\n",
    "\n",
    "2. The backward pass peels activities off the stack to compute the error derivatives at each time step.\n",
    "\n",
    "3. After the backward pass we add together the derivatives at all the different times for each weight."
   ]
  },
  {
   "cell_type": "markdown",
   "id": "626e9dfe",
   "metadata": {
    "editable": true
   },
   "source": [
    "## The backward pass is linear\n",
    "\n",
    "1. There is a big difference between the forward and backward passes.\n",
    "\n",
    "2. In the forward pass we use squashing functions (like the logistic) to prevent the activity vectors from exploding.\n",
    "\n",
    "3. The backward pass, is completely linear. If you double the error derivatives at the final layer, all the error derivatives will double.\n",
    "\n",
    "The forward pass determines the slope of the linear function used for\n",
    "backpropagating through each neuron"
   ]
  },
  {
   "cell_type": "markdown",
   "id": "f9fc47ea",
   "metadata": {
    "editable": true
   },
   "source": [
    "## The problem of exploding or vanishing gradients\n",
    "* What happens to the magnitude of the gradients as we backpropagate through many layers?\n",
    "\n",
    "a. If the weights are small, the gradients shrink exponentially.\n",
    "\n",
    "b. If the weights are big the gradients grow exponentially.\n",
    "\n",
    "* Typical feed-forward neural nets can cope with these exponential effects because they only have a few hidden layers.\n",
    "\n",
    "* In an RNN trained on long sequences (e.g. 100 time steps) the gradients can easily explode or vanish.\n",
    "\n",
    "a. We can avoid this by initializing the weights very carefully.\n",
    "\n",
    "* Even with good initial weights, its very hard to detect that the current target output depends on an input from many time-steps ago.\n",
    "\n",
    "RNNs have difficulty dealing with long-range dependencies."
   ]
  },
  {
   "cell_type": "markdown",
   "id": "944d210d",
   "metadata": {
    "editable": true
   },
   "source": [
    "## Mathematical setup\n",
    "\n",
    "The expression for the simplest Recurrent network resembles that of a\n",
    "regular feed-forward neural network, but now with\n",
    "the concept of temporal dependencies"
   ]
  },
  {
   "cell_type": "markdown",
   "id": "8d8e844e",
   "metadata": {
    "editable": true
   },
   "source": [
    "$$\n",
    "\\begin{align*}\n",
    "    \\mathbf{a}^{(t)} & = U * \\mathbf{x}^{(t)} + W * \\mathbf{h}^{(t-1)} + \\mathbf{b}, \\notag \\\\\n",
    "    \\mathbf{h}^{(t)} &= \\sigma_h(\\mathbf{a}^{(t)}), \\notag\\\\\n",
    "    \\mathbf{o}^{(t)} &= V * \\mathbf{h}^{(t)} + \\mathbf{c}, \\notag\\\\\n",
    "    \\mathbf{\\hat{y}}^{(t)} &= \\sigma_y(\\mathbf{o}^{(t)}).\n",
    "\\end{align*}\n",
    "$$"
   ]
  },
  {
   "cell_type": "markdown",
   "id": "03f41545",
   "metadata": {
    "editable": true
   },
   "source": [
    "## Back propagation in time through figures, part 1\n",
    "\n",
    "<!-- dom:FIGURE: [figslides/RNN9.png, width=700 frac=0.9] -->\n",
    "<!-- begin figure -->\n",
    "\n",
    "<img src=\"figslides/RNN9.png\" width=\"700\"><p style=\"font-size: 0.9em\"><i>Figure 1: </i></p>\n",
    "<!-- end figure -->"
   ]
  },
  {
   "cell_type": "markdown",
   "id": "113f7c48",
   "metadata": {
    "editable": true
   },
   "source": [
    "## Back propagation in time, part 2\n",
    "\n",
    "<!-- dom:FIGURE: [figslides/RNN10.png, width=700 frac=0.9] -->\n",
    "<!-- begin figure -->\n",
    "\n",
    "<img src=\"figslides/RNN10.png\" width=\"700\"><p style=\"font-size: 0.9em\"><i>Figure 1: </i></p>\n",
    "<!-- end figure -->"
   ]
  },
  {
   "cell_type": "markdown",
   "id": "ba81e1f0",
   "metadata": {
    "editable": true
   },
   "source": [
    "## Back propagation in time, part 3\n",
    "\n",
    "<!-- dom:FIGURE: [figslides/RNN11.png, width=700 frac=0.9] -->\n",
    "<!-- begin figure -->\n",
    "\n",
    "<img src=\"figslides/RNN11.png\" width=\"700\"><p style=\"font-size: 0.9em\"><i>Figure 1: </i></p>\n",
    "<!-- end figure -->"
   ]
  },
  {
   "cell_type": "markdown",
   "id": "d5e6c00b",
   "metadata": {
    "editable": true
   },
   "source": [
    "## Back propagation in time, part 4\n",
    "\n",
    "<!-- dom:FIGURE: [figslides/RNN12.png, width=700 frac=0.9] -->\n",
    "<!-- begin figure -->\n",
    "\n",
    "<img src=\"figslides/RNN12.png\" width=\"700\"><p style=\"font-size: 0.9em\"><i>Figure 1: </i></p>\n",
    "<!-- end figure -->"
   ]
  },
  {
   "cell_type": "markdown",
   "id": "db0887cc",
   "metadata": {
    "editable": true
   },
   "source": [
    "## Back propagation in time in equations\n",
    "\n",
    "To derive the expression of the gradients of $\\mathcal{L}$ for\n",
    "the RNN, we need to start recursively from the nodes closer to the\n",
    "output layer in the temporal unrolling scheme - such as $\\mathbf{o}$\n",
    "and $\\mathbf{h}$ at final time $t = \\tau$,"
   ]
  },
  {
   "cell_type": "markdown",
   "id": "a447164b",
   "metadata": {
    "editable": true
   },
   "source": [
    "$$\n",
    "\\begin{align*}\n",
    "    (\\nabla_{ \\mathbf{o}^{(t)}} \\mathcal{L})_{i} &= \\frac{\\partial \\mathcal{L}}{\\partial L^{(t)}}\\frac{\\partial L^{(t)}}{\\partial o_{i}^{(t)}}, \\notag\\\\\n",
    "    \\nabla_{\\mathbf{h}^{(\\tau)}} \\mathcal{L} &= \\mathbf{V}^\\mathsf{T}\\nabla_{ \\mathbf{o}^{(\\tau)}} \\mathcal{L}.\n",
    "\\end{align*}\n",
    "$$"
   ]
  },
  {
   "cell_type": "markdown",
   "id": "7b4dd10c",
   "metadata": {
    "editable": true
   },
   "source": [
    "## Chain rule again\n",
    "For the following hidden nodes, we have to iterate through time, so by the chain rule,"
   ]
  },
  {
   "cell_type": "markdown",
   "id": "dc282954",
   "metadata": {
    "editable": true
   },
   "source": [
    "$$\n",
    "\\begin{align*}\n",
    "    \\nabla_{\\mathbf{h}^{(t)}} \\mathcal{L} &= \\left(\\frac{\\partial\\mathbf{h}^{(t+1)}}{\\partial\\mathbf{h}^{(t)}}\\right)^\\mathsf{T}\\nabla_{\\mathbf{h}^{(t+1)}}\\mathcal{L} + \\left(\\frac{\\partial\\mathbf{o}^{(t)}}{\\partial\\mathbf{h}^{(t)}}\\right)^\\mathsf{T}\\nabla_{ \\mathbf{o}^{(t)}} \\mathcal{L}.\n",
    "\\end{align*}\n",
    "$$"
   ]
  },
  {
   "cell_type": "markdown",
   "id": "2d788c5a",
   "metadata": {
    "editable": true
   },
   "source": [
    "## Gradients of loss functions\n",
    "Similarly, the gradients of $\\mathcal{L}$ with respect to the weights and biases follow,"
   ]
  },
  {
   "cell_type": "markdown",
   "id": "2efd10b7",
   "metadata": {
    "editable": true
   },
   "source": [
    "<!-- Equation labels as ordinary links -->\n",
    "<div id=\"eq:rnn_gradients3\"></div>\n",
    "\n",
    "$$\n",
    "\\begin{align*}\n",
    "    \\nabla_{\\mathbf{c}} \\mathcal{L} &=\\sum_{t}\\left(\\frac{\\partial \\mathbf{o}^{(t)}}{\\partial \\mathbf{c}}\\right)^\\mathsf{T} \\nabla_{\\mathbf{o}^{(t)}} \\mathcal{L} \\notag\\\\\n",
    "    \\nabla_{\\mathbf{b}} \\mathcal{L} &=\\sum_{t}\\left(\\frac{\\partial \\mathbf{h}^{(t)}}{\\partial \\mathbf{b}}\\right)^\\mathsf{T}        \\nabla_{\\mathbf{h}^{(t)}} \\mathcal{L} \\notag\\\\\n",
    "    \\nabla_{\\mathbf{V}} \\mathcal{L} &=\\sum_{t}\\sum_{i}\\left(\\frac{\\partial \\mathcal{L}}{\\partial o_i^{(t)} }\\right)\\nabla_{\\mathbf{V}^{(t)}}o_i^{(t)} \\notag\\\\\n",
    "    \\nabla_{\\mathbf{W}} \\mathcal{L} &=\\sum_{t}\\sum_{i}\\left(\\frac{\\partial \\mathcal{L}}{\\partial h_i^{(t)}}\\right)\\nabla_{\\mathbf{w}^{(t)}} h_i^{(t)} \\notag\\\\\n",
    "    \\nabla_{\\mathbf{U}} \\mathcal{L} &=\\sum_{t}\\sum_{i}\\left(\\frac{\\partial \\mathcal{L}}{\\partial h_i^{(t)}}\\right)\\nabla_{\\mathbf{U}^{(t)}}h_i^{(t)}.\n",
    "    \\label{eq:rnn_gradients3} \\tag{1}\n",
    "\\end{align*}\n",
    "$$"
   ]
  },
  {
   "cell_type": "markdown",
   "id": "f40e1bb6",
   "metadata": {
    "editable": true
   },
   "source": [
    "## Summary of RNNs\n",
    "\n",
    "Recurrent neural networks (RNNs) have in general no probabilistic component\n",
    "in a model. With a given fixed input and target from data, the RNNs learn the intermediate\n",
    "association between various layers.\n",
    "The inputs, outputs, and internal representation (hidden states) are all\n",
    "real-valued vectors.\n",
    "\n",
    "In a  traditional NN, it is assumed that every input is\n",
    "independent of each other.  But with sequential data, the input at a given stage $t$ depends on the input from the previous stage $t-1$"
   ]
  },
  {
   "cell_type": "markdown",
   "id": "4138ddde",
   "metadata": {
    "editable": true
   },
   "source": [
    "## A typical RNN\n",
    "\n",
    "1. Weight matrices $U$, $W$ and $V$ that connect the input layer at a stage $t$ with the hidden layer $h_t$, the previous hidden layer $h_{t-1}$ with $h_t$ and the hidden layer $h_t$ connecting with the output layer at the same stage and producing an output $\\tilde{y}_t$, respectively.\n",
    "\n",
    "2. The output from the hidden layer $h_t$ is oftem modulated by a $\\tanh{}$ function $h_t=f(x_t,h_{t-1})=\\tanh{(Ux_t+Wh_{t-1}+b)}$ with $b$ a bias value\n",
    "\n",
    "3. The output from the hidden layer produces $\\tilde{y}_t=g(Vh_t+c)$ where $c$ is a new bias parameter.\n",
    "\n",
    "4. The output from the training at a given stage is in turn compared with the observation $y_t$ thorugh a chosen cost function.\n",
    "\n",
    "The function $g$ can any of the standard activation functions, that is a Sigmoid, a Softmax, a ReLU and other.\n",
    "The parameters are trained through the so-called back-propagation through time (BPTT) algorithm."
   ]
  },
  {
   "cell_type": "markdown",
   "id": "a2534eee",
   "metadata": {
    "editable": true
   },
   "source": [
    "## Solving differential equations with RNNs, code examples\n",
    "\n",
    "Examples to be added for week 8"
   ]
  },
  {
   "cell_type": "markdown",
   "id": "8346527c",
   "metadata": {
    "editable": true
   },
   "source": [
    "## Four effective ways to learn an RNN\n",
    "1. Long Short Term Memory Make the RNN out of little modules that are designed to remember values for a long time.\n",
    "\n",
    "2. Hessian Free Optimization: Deal with the vanishing gradients problem by using a fancy optimizer that can detect directions with a tiny gradient but even smaller curvature.\n",
    "\n",
    "3. Echo State Networks: Initialize the input a hidden and hidden-hidden and output-hidden connections very carefully so that the hidden state has a huge reservoir of weakly coupled oscillators which can be selectively driven by the input.\n",
    "\n",
    "  * ESNs only need to learn the hidden-output connections.\n",
    "\n",
    "4. Good initialization with momentum Initialize like in Echo State Networks, but then learn all of the connections using momentum"
   ]
  },
  {
   "cell_type": "markdown",
   "id": "c778bb17",
   "metadata": {
    "editable": true
   },
   "source": [
    "## Long Short Term Memory (LSTM)\n",
    "\n",
    "LSTM uses a memory cell for \n",
    " modeling long-range dependencies and avoid vanishing gradient\n",
    " problems.\n",
    "\n",
    "1. Introduced by Hochreiter and Schmidhuber (1997) who solved the problem of getting an RNN to remember things for a long time (like hundreds of time steps).\n",
    "\n",
    "2. They designed a memory cell using logistic and linear units with multiplicative interactions.\n",
    "\n",
    "3. Information gets into the cell whenever its “write” gate is on.\n",
    "\n",
    "4. The information stays in the cell so long as its **keep** gate is on.\n",
    "\n",
    "5. Information can be read from the cell by turning on its **read** gate."
   ]
  },
  {
   "cell_type": "markdown",
   "id": "400f4a1b",
   "metadata": {
    "editable": true
   },
   "source": [
    "## Implementing a memory cell in a neural network\n",
    "To preserve information for a long time in\n",
    "the activities of an RNN, we use a circuit\n",
    "that implements an analog memory cell.\n",
    "\n",
    "1. A linear unit that has a self-link with a weight of 1 will maintain its state.\n",
    "\n",
    "2. Information is stored in the cell by activating its write gate.\n",
    "\n",
    "3. Information is retrieved by activating the read gate.\n",
    "\n",
    "4. We can backpropagate through this circuit because logistics are have nice derivatives."
   ]
  },
  {
   "cell_type": "markdown",
   "id": "10bfc596",
   "metadata": {
    "editable": true
   },
   "source": [
    "## Long Short Term Memory (LSTM), part 1\n",
    "\n",
    "<!-- dom:FIGURE: [figslides/LSTM1.png, width=700 frac=0.9] -->\n",
    "<!-- begin figure -->\n",
    "\n",
    "<img src=\"figslides/LSTM1.png\" width=\"700\"><p style=\"font-size: 0.9em\"><i>Figure 1: </i></p>\n",
    "<!-- end figure -->"
   ]
  },
  {
   "cell_type": "markdown",
   "id": "78c62d74",
   "metadata": {
    "editable": true
   },
   "source": [
    "## Long Short Term Memory (LSTM), part 2\n",
    "\n",
    "<!-- dom:FIGURE: [figslides/LSTM2.png, width=700 frac=0.9] -->\n",
    "<!-- begin figure -->\n",
    "\n",
    "<img src=\"figslides/LSTM2.png\" width=\"700\"><p style=\"font-size: 0.9em\"><i>Figure 1: </i></p>\n",
    "<!-- end figure -->"
   ]
  },
  {
   "cell_type": "markdown",
   "id": "a9ecd350",
   "metadata": {
    "editable": true
   },
   "source": [
    "## Long Short Term Memory (LSTM), part 3\n",
    "\n",
    "<!-- dom:FIGURE: [figslides/LSTM3.png, width=700 frac=0.9] -->\n",
    "<!-- begin figure -->\n",
    "\n",
    "<img src=\"figslides/LSTM3.png\" width=\"700\"><p style=\"font-size: 0.9em\"><i>Figure 1: </i></p>\n",
    "<!-- end figure -->"
   ]
  },
  {
   "cell_type": "markdown",
   "id": "1172b295",
   "metadata": {
    "editable": true
   },
   "source": [
    "## Long Short Term Memory (LSTM), part 4\n",
    "\n",
    "<!-- dom:FIGURE: [figslides/LSTM4.png, width=700 frac=0.9] -->\n",
    "<!-- begin figure -->\n",
    "\n",
    "<img src=\"figslides/LSTM4.png\" width=\"700\"><p style=\"font-size: 0.9em\"><i>Figure 1: </i></p>\n",
    "<!-- end figure -->"
   ]
  },
  {
   "cell_type": "markdown",
   "id": "61259b78",
   "metadata": {
    "editable": true
   },
   "source": [
    "## Long Short Term Memory (LSTM), part 5\n",
    "\n",
    "<!-- dom:FIGURE: [figslides/LSTM5.png, width=700 frac=0.9] -->\n",
    "<!-- begin figure -->\n",
    "\n",
    "<img src=\"figslides/LSTM5.png\" width=\"700\"><p style=\"font-size: 0.9em\"><i>Figure 1: </i></p>\n",
    "<!-- end figure -->"
   ]
  },
  {
   "cell_type": "markdown",
   "id": "a426e91e",
   "metadata": {
    "editable": true
   },
   "source": [
    "## Long Short Term Memory (LSTM), part 6\n",
    "\n",
    "<!-- dom:FIGURE: [figslides/LSTM6.png, width=700 frac=0.9] -->\n",
    "<!-- begin figure -->\n",
    "\n",
    "<img src=\"figslides/LSTM6.png\" width=\"700\"><p style=\"font-size: 0.9em\"><i>Figure 1: </i></p>\n",
    "<!-- end figure -->"
   ]
  },
  {
   "cell_type": "markdown",
   "id": "25a58f4c",
   "metadata": {
    "editable": true
   },
   "source": [
    "## Long Short Term Memory (LSTM), part 7\n",
    "\n",
    "<!-- dom:FIGURE: [figslides/LSTM7.png, width=700 frac=0.9] -->\n",
    "<!-- begin figure -->\n",
    "\n",
    "<img src=\"figslides/LSTM7.png\" width=\"700\"><p style=\"font-size: 0.9em\"><i>Figure 1: </i></p>\n",
    "<!-- end figure -->"
   ]
  },
  {
   "cell_type": "markdown",
   "id": "3a05582a",
   "metadata": {
    "editable": true
   },
   "source": [
    "## Long Short Term Memory (LSTM), part 8\n",
    "\n",
    "<!-- dom:FIGURE: [figslides/LSTM8.png, width=700 frac=0.9] -->\n",
    "<!-- begin figure -->\n",
    "\n",
    "<img src=\"figslides/LSTM8.png\" width=\"700\"><p style=\"font-size: 0.9em\"><i>Figure 1: </i></p>\n",
    "<!-- end figure -->"
   ]
  },
  {
   "cell_type": "markdown",
   "id": "c00214f6",
   "metadata": {
    "editable": true
   },
   "source": [
    "## Long Short Term Memory (LSTM), part 9\n",
    "\n",
    "<!-- dom:FIGURE: [figslides/LSTM9.png, width=700 frac=0.9] -->\n",
    "<!-- begin figure -->\n",
    "\n",
    "<img src=\"figslides/LSTM9.png\" width=\"700\"><p style=\"font-size: 0.9em\"><i>Figure 1: </i></p>\n",
    "<!-- end figure -->"
   ]
  },
  {
   "cell_type": "markdown",
   "id": "b7e7e961",
   "metadata": {
    "editable": true
   },
   "source": [
    "## Long Short Term Memory (LSTM), part 10\n",
    "\n",
    "<!-- dom:FIGURE: [figslides/LSTM10.png, width=700 frac=0.9] -->\n",
    "<!-- begin figure -->\n",
    "\n",
    "<img src=\"figslides/LSTM10.png\" width=\"700\"><p style=\"font-size: 0.9em\"><i>Figure 1: </i></p>\n",
    "<!-- end figure -->"
   ]
  },
  {
   "cell_type": "markdown",
   "id": "690eac5c",
   "metadata": {
    "editable": true
   },
   "source": [
    "## An extrapolation example\n",
    "\n",
    "The following code provides an example of how recurrent neural\n",
    "networks can be used to extrapolate to unknown values of physics data\n",
    "sets.  Specifically, the data sets used in this program come from\n",
    "a quantum mechanical many-body calculation of energies as functions of the number of particles."
   ]
  },
  {
   "cell_type": "code",
   "execution_count": 2,
   "id": "7ccc56f6",
   "metadata": {
    "collapsed": false,
    "editable": true
   },
   "outputs": [],
   "source": [
    "\n",
    "# For matrices and calculations\n",
    "import numpy as np\n",
    "# For machine learning (backend for keras)\n",
    "import tensorflow as tf\n",
    "# User-friendly machine learning library\n",
    "# Front end for TensorFlow\n",
    "import tensorflow.keras\n",
    "# Different methods from Keras needed to create an RNN\n",
    "# This is not necessary but it shortened function calls \n",
    "# that need to be used in the code.\n",
    "from tensorflow.keras import datasets, layers, models\n",
    "from tensorflow.keras.layers import Input\n",
    "from tensorflow.keras import regularizers\n",
    "from tensorflow.keras.models import Model, Sequential\n",
    "from tensorflow.keras.layers import Dense, SimpleRNN, LSTM, GRU\n",
    "# For timing the code\n",
    "from timeit import default_timer as timer\n",
    "# For plotting\n",
    "import matplotlib.pyplot as plt\n",
    "\n",
    "\n",
    "# The data set\n",
    "datatype='VaryDimension'\n",
    "X_tot = np.arange(2, 42, 2)\n",
    "y_tot = np.array([-0.03077640549, -0.08336233266, -0.1446729567, -0.2116753732, -0.2830637392, -0.3581341341, -0.436462435, -0.5177783846,\n",
    "\t-0.6019067271, -0.6887363571, -0.7782028952, -0.8702784034, -0.9649652536, -1.062292565, -1.16231451, \n",
    "\t-1.265109911, -1.370782966, -1.479465113, -1.591317992, -1.70653767])"
   ]
  },
  {
   "cell_type": "markdown",
   "id": "9cae83d1",
   "metadata": {
    "editable": true
   },
   "source": [
    "## Formatting the Data\n",
    "\n",
    "The way the recurrent neural networks are trained in this program\n",
    "differs from how machine learning algorithms are usually trained.\n",
    "Typically a machine learning algorithm is trained by learning the\n",
    "relationship between the x data and the y data.  In this program, the\n",
    "recurrent neural network will be trained to recognize the relationship\n",
    "in a sequence of y values.  This is type of data formatting is\n",
    "typically used time series forcasting, but it can also be used in any\n",
    "extrapolation (time series forecasting is just a specific type of\n",
    "extrapolation along the time axis).  This method of data formatting\n",
    "does not use the x data and assumes that the y data are evenly spaced.\n",
    "\n",
    "For a standard machine learning algorithm, the training data has the\n",
    "form of (x,y) so the machine learning algorithm learns to assiciate a\n",
    "y value with a given x value.  This is useful when the test data has x\n",
    "values within the same range as the training data.  However, for this\n",
    "application, the x values of the test data are outside of the x values\n",
    "of the training data and the traditional method of training a machine\n",
    "learning algorithm does not work as well.  For this reason, the\n",
    "recurrent neural network is trained on sequences of y values of the\n",
    "form ((y1, y2), y3), so that the network is concerned with learning\n",
    "the pattern of the y data and not the relation between the x and y\n",
    "data.  As long as the pattern of y data outside of the training region\n",
    "stays relatively stable compared to what was inside the training\n",
    "region, this method of training can produce accurate extrapolations to\n",
    "y values far removed from the training data set.\n",
    "\n",
    "<!--  -->\n",
    "<!-- The idea behind formatting the data in this way comes from [this resource](https://machinelearningmastery.com/time-series-prediction-lstm-recurrent-neural-networks-python-keras/) and [this one](https://fairyonice.github.io/Understand-Keras%27s-RNN-behind-the-scenes-with-a-sin-wave-example.html). -->\n",
    "<!--  -->\n",
    "<!-- The following method takes in a y data set and formats it so the \"x data\" are of the form (y1, y2) and the \"y data\" are of the form y3, with extra brackets added in to make the resulting arrays compatable with both Keras and Tensorflow. -->\n",
    "<!--  -->\n",
    "<!-- Note: Using a sequence length of two is not required for time series forecasting so any lenght of sequence could be used (for example instead of ((y1, y2) y3) you could change the length of sequence to be 4 and the resulting data points would have the form ((y1, y2, y3, y4), y5)).  While the following method can be used to create a data set of any sequence length, the remainder of the code expects the length of sequence to be 2.  This is because the data sets are very small and the higher the lenght of the sequence the less resulting data points. -->"
   ]
  },
  {
   "cell_type": "code",
   "execution_count": 3,
   "id": "255ff9d9",
   "metadata": {
    "collapsed": false,
    "editable": true
   },
   "outputs": [],
   "source": [
    "# FORMAT_DATA\n",
    "def format_data(data, length_of_sequence = 2):  \n",
    "    \"\"\"\n",
    "        Inputs:\n",
    "            data(a numpy array): the data that will be the inputs to the recurrent neural\n",
    "                network\n",
    "            length_of_sequence (an int): the number of elements in one iteration of the\n",
    "                sequence patter.  For a function approximator use length_of_sequence = 2.\n",
    "        Returns:\n",
    "            rnn_input (a 3D numpy array): the input data for the recurrent neural network.  Its\n",
    "                dimensions are length of data - length of sequence, length of sequence, \n",
    "                dimnsion of data\n",
    "            rnn_output (a numpy array): the training data for the neural network\n",
    "        Formats data to be used in a recurrent neural network.\n",
    "    \"\"\"\n",
    "\n",
    "    X, Y = [], []\n",
    "    for i in range(len(data)-length_of_sequence):\n",
    "        # Get the next length_of_sequence elements\n",
    "        a = data[i:i+length_of_sequence]\n",
    "        # Get the element that immediately follows that\n",
    "        b = data[i+length_of_sequence]\n",
    "        # Reshape so that each data point is contained in its own array\n",
    "        a = np.reshape (a, (len(a), 1))\n",
    "        X.append(a)\n",
    "        Y.append(b)\n",
    "    rnn_input = np.array(X)\n",
    "    rnn_output = np.array(Y)\n",
    "\n",
    "    return rnn_input, rnn_output\n",
    "\n",
    "\n",
    "# ## Defining the Recurrent Neural Network Using Keras\n",
    "# \n",
    "# The following method defines a simple recurrent neural network in keras consisting of one input layer, one hidden layer, and one output layer.\n",
    "\n",
    "def rnn(length_of_sequences, batch_size = None, stateful = False):\n",
    "    \"\"\"\n",
    "        Inputs:\n",
    "            length_of_sequences (an int): the number of y values in \"x data\".  This is determined\n",
    "                when the data is formatted\n",
    "            batch_size (an int): Default value is None.  See Keras documentation of SimpleRNN.\n",
    "            stateful (a boolean): Default value is False.  See Keras documentation of SimpleRNN.\n",
    "        Returns:\n",
    "            model (a Keras model): The recurrent neural network that is built and compiled by this\n",
    "                method\n",
    "        Builds and compiles a recurrent neural network with one hidden layer and returns the model.\n",
    "    \"\"\"\n",
    "    # Number of neurons in the input and output layers\n",
    "    in_out_neurons = 1\n",
    "    # Number of neurons in the hidden layer\n",
    "    hidden_neurons = 200\n",
    "    # Define the input layer\n",
    "    inp = Input(batch_shape=(batch_size, \n",
    "                length_of_sequences, \n",
    "                in_out_neurons))  \n",
    "    # Define the hidden layer as a simple RNN layer with a set number of neurons and add it to \n",
    "    # the network immediately after the input layer\n",
    "    rnn = SimpleRNN(hidden_neurons, \n",
    "                    return_sequences=False,\n",
    "                    stateful = stateful,\n",
    "                    name=\"RNN\")(inp)\n",
    "    # Define the output layer as a dense neural network layer (standard neural network layer)\n",
    "    #and add it to the network immediately after the hidden layer.\n",
    "    dens = Dense(in_out_neurons,name=\"dense\")(rnn)\n",
    "    # Create the machine learning model starting with the input layer and ending with the \n",
    "    # output layer\n",
    "    model = Model(inputs=[inp],outputs=[dens])\n",
    "    # Compile the machine learning model using the mean squared error function as the loss \n",
    "    # function and an Adams optimizer.\n",
    "    model.compile(loss=\"mean_squared_error\", optimizer=\"adam\")  \n",
    "    return model"
   ]
  },
  {
   "cell_type": "markdown",
   "id": "12444e66",
   "metadata": {
    "editable": true
   },
   "source": [
    "## Predicting New Points With A Trained Recurrent Neural Network"
   ]
  },
  {
   "cell_type": "code",
   "execution_count": 4,
   "id": "51595094",
   "metadata": {
    "collapsed": false,
    "editable": true
   },
   "outputs": [],
   "source": [
    "def test_rnn (x1, y_test, plot_min, plot_max):\n",
    "    \"\"\"\n",
    "        Inputs:\n",
    "            x1 (a list or numpy array): The complete x component of the data set\n",
    "            y_test (a list or numpy array): The complete y component of the data set\n",
    "            plot_min (an int or float): the smallest x value used in the training data\n",
    "            plot_max (an int or float): the largest x valye used in the training data\n",
    "        Returns:\n",
    "            None.\n",
    "        Uses a trained recurrent neural network model to predict future points in the \n",
    "        series.  Computes the MSE of the predicted data set from the true data set, saves\n",
    "        the predicted data set to a csv file, and plots the predicted and true data sets w\n",
    "        while also displaying the data range used for training.\n",
    "    \"\"\"\n",
    "    # Add the training data as the first dim points in the predicted data array as these\n",
    "    # are known values.\n",
    "    y_pred = y_test[:dim].tolist()\n",
    "    # Generate the first input to the trained recurrent neural network using the last two \n",
    "    # points of the training data.  Based on how the network was trained this means that it\n",
    "    # will predict the first point in the data set after the training data.  All of the \n",
    "    # brackets are necessary for Tensorflow.\n",
    "    next_input = np.array([[[y_test[dim-2]], [y_test[dim-1]]]])\n",
    "    # Save the very last point in the training data set.  This will be used later.\n",
    "    last = [y_test[dim-1]]\n",
    "\n",
    "    # Iterate until the complete data set is created.\n",
    "    for i in range (dim, len(y_test)):\n",
    "        # Predict the next point in the data set using the previous two points.\n",
    "        next = model.predict(next_input)\n",
    "        # Append just the number of the predicted data set\n",
    "        y_pred.append(next[0][0])\n",
    "        # Create the input that will be used to predict the next data point in the data set.\n",
    "        next_input = np.array([[last, next[0]]], dtype=np.float64)\n",
    "        last = next\n",
    "\n",
    "    # Print the mean squared error between the known data set and the predicted data set.\n",
    "    print('MSE: ', np.square(np.subtract(y_test, y_pred)).mean())\n",
    "    # Save the predicted data set as a csv file for later use\n",
    "    name = datatype + 'Predicted'+str(dim)+'.csv'\n",
    "    np.savetxt(name, y_pred, delimiter=',')\n",
    "    # Plot the known data set and the predicted data set.  The red box represents the region that was used\n",
    "    # for the training data.\n",
    "    fig, ax = plt.subplots()\n",
    "    ax.plot(x1, y_test, label=\"true\", linewidth=3)\n",
    "    ax.plot(x1, y_pred, 'g-.',label=\"predicted\", linewidth=4)\n",
    "    ax.legend()\n",
    "    # Created a red region to represent the points used in the training data.\n",
    "    ax.axvspan(plot_min, plot_max, alpha=0.25, color='red')\n",
    "    plt.show()\n",
    "\n",
    "# Check to make sure the data set is complete\n",
    "assert len(X_tot) == len(y_tot)\n",
    "\n",
    "# This is the number of points that will be used in as the training data\n",
    "dim=12\n",
    "\n",
    "# Separate the training data from the whole data set\n",
    "X_train = X_tot[:dim]\n",
    "y_train = y_tot[:dim]\n",
    "\n",
    "\n",
    "# Generate the training data for the RNN, using a sequence of 2\n",
    "rnn_input, rnn_training = format_data(y_train, 2)\n",
    "\n",
    "\n",
    "# Create a recurrent neural network in Keras and produce a summary of the \n",
    "# machine learning model\n",
    "model = rnn(length_of_sequences = rnn_input.shape[1])\n",
    "model.summary()\n",
    "\n",
    "# Start the timer.  Want to time training+testing\n",
    "start = timer()\n",
    "# Fit the model using the training data genenerated above using 150 training iterations and a 5%\n",
    "# validation split.  Setting verbose to True prints information about each training iteration.\n",
    "hist = model.fit(rnn_input, rnn_training, batch_size=None, epochs=150, \n",
    "                 verbose=True,validation_split=0.05)\n",
    "\n",
    "for label in [\"loss\",\"val_loss\"]:\n",
    "    plt.plot(hist.history[label],label=label)\n",
    "\n",
    "plt.ylabel(\"loss\")\n",
    "plt.xlabel(\"epoch\")\n",
    "plt.title(\"The final validation loss: {}\".format(hist.history[\"val_loss\"][-1]))\n",
    "plt.legend()\n",
    "plt.show()\n",
    "\n",
    "# Use the trained neural network to predict more points of the data set\n",
    "test_rnn(X_tot, y_tot, X_tot[0], X_tot[dim-1])\n",
    "# Stop the timer and calculate the total time needed.\n",
    "end = timer()\n",
    "print('Time: ', end-start)"
   ]
  },
  {
   "cell_type": "markdown",
   "id": "aac1cbeb",
   "metadata": {
    "editable": true
   },
   "source": [
    "## Other Things to Try\n",
    "\n",
    "Changing the size of the recurrent neural network and its parameters\n",
    "can drastically change the results you get from the model.  The below\n",
    "code takes the simple recurrent neural network from above and adds a\n",
    "second hidden layer, changes the number of neurons in the hidden\n",
    "layer, and explicitly declares the activation function of the hidden\n",
    "layers to be a sigmoid function.  The loss function and optimizer can\n",
    "also be changed but are kept the same as the above network.  These\n",
    "parameters can be tuned to provide the optimal result from the\n",
    "network.  For some ideas on how to improve the performance of a\n",
    "[recurrent neural network](https://danijar.com/tips-for-training-recurrent-neural-networks)."
   ]
  },
  {
   "cell_type": "code",
   "execution_count": 5,
   "id": "2449f9ea",
   "metadata": {
    "collapsed": false,
    "editable": true
   },
   "outputs": [],
   "source": [
    "def rnn_2layers(length_of_sequences, batch_size = None, stateful = False):\n",
    "    \"\"\"\n",
    "        Inputs:\n",
    "            length_of_sequences (an int): the number of y values in \"x data\".  This is determined\n",
    "                when the data is formatted\n",
    "            batch_size (an int): Default value is None.  See Keras documentation of SimpleRNN.\n",
    "            stateful (a boolean): Default value is False.  See Keras documentation of SimpleRNN.\n",
    "        Returns:\n",
    "            model (a Keras model): The recurrent neural network that is built and compiled by this\n",
    "                method\n",
    "        Builds and compiles a recurrent neural network with two hidden layers and returns the model.\n",
    "    \"\"\"\n",
    "    # Number of neurons in the input and output layers\n",
    "    in_out_neurons = 1\n",
    "    # Number of neurons in the hidden layer, increased from the first network\n",
    "    hidden_neurons = 500\n",
    "    # Define the input layer\n",
    "    inp = Input(batch_shape=(batch_size, \n",
    "                length_of_sequences, \n",
    "                in_out_neurons))  \n",
    "    # Create two hidden layers instead of one hidden layer.  Explicitly set the activation\n",
    "    # function to be the sigmoid function (the default value is hyperbolic tangent)\n",
    "    rnn1 = SimpleRNN(hidden_neurons, \n",
    "                    return_sequences=True,  # This needs to be True if another hidden layer is to follow\n",
    "                    stateful = stateful, activation = 'sigmoid',\n",
    "                    name=\"RNN1\")(inp)\n",
    "    rnn2 = SimpleRNN(hidden_neurons, \n",
    "                    return_sequences=False, activation = 'sigmoid',\n",
    "                    stateful = stateful,\n",
    "                    name=\"RNN2\")(rnn1)\n",
    "    # Define the output layer as a dense neural network layer (standard neural network layer)\n",
    "    #and add it to the network immediately after the hidden layer.\n",
    "    dens = Dense(in_out_neurons,name=\"dense\")(rnn2)\n",
    "    # Create the machine learning model starting with the input layer and ending with the \n",
    "    # output layer\n",
    "    model = Model(inputs=[inp],outputs=[dens])\n",
    "    # Compile the machine learning model using the mean squared error function as the loss \n",
    "    # function and an Adams optimizer.\n",
    "    model.compile(loss=\"mean_squared_error\", optimizer=\"adam\")  \n",
    "    return model\n",
    "\n",
    "# Check to make sure the data set is complete\n",
    "assert len(X_tot) == len(y_tot)\n",
    "\n",
    "# This is the number of points that will be used in as the training data\n",
    "dim=12\n",
    "\n",
    "# Separate the training data from the whole data set\n",
    "X_train = X_tot[:dim]\n",
    "y_train = y_tot[:dim]\n",
    "\n",
    "\n",
    "# Generate the training data for the RNN, using a sequence of 2\n",
    "rnn_input, rnn_training = format_data(y_train, 2)\n",
    "\n",
    "\n",
    "# Create a recurrent neural network in Keras and produce a summary of the \n",
    "# machine learning model\n",
    "model = rnn_2layers(length_of_sequences = 2)\n",
    "model.summary()\n",
    "\n",
    "# Start the timer.  Want to time training+testing\n",
    "start = timer()\n",
    "# Fit the model using the training data genenerated above using 150 training iterations and a 5%\n",
    "# validation split.  Setting verbose to True prints information about each training iteration.\n",
    "hist = model.fit(rnn_input, rnn_training, batch_size=None, epochs=150, \n",
    "                 verbose=True,validation_split=0.05)\n",
    "\n",
    "\n",
    "# This section plots the training loss and the validation loss as a function of training iteration.\n",
    "# This is not required for analyzing the couple cluster data but can help determine if the network is\n",
    "# being overtrained.\n",
    "for label in [\"loss\",\"val_loss\"]:\n",
    "    plt.plot(hist.history[label],label=label)\n",
    "\n",
    "plt.ylabel(\"loss\")\n",
    "plt.xlabel(\"epoch\")\n",
    "plt.title(\"The final validation loss: {}\".format(hist.history[\"val_loss\"][-1]))\n",
    "plt.legend()\n",
    "plt.show()\n",
    "\n",
    "# Use the trained neural network to predict more points of the data set\n",
    "test_rnn(X_tot, y_tot, X_tot[0], X_tot[dim-1])\n",
    "# Stop the timer and calculate the total time needed.\n",
    "end = timer()\n",
    "print('Time: ', end-start)"
   ]
  },
  {
   "cell_type": "markdown",
   "id": "49798e9b",
   "metadata": {
    "editable": true
   },
   "source": [
    "## Other Types of Recurrent Neural Networks\n",
    "\n",
    "Besides a simple recurrent neural network layer, there are two other\n",
    "commonly used types of recurrent neural network layers: Long Short\n",
    "Term Memory (LSTM) and Gated Recurrent Unit (GRU).  For a short\n",
    "introduction to these layers see <https://medium.com/mindboard/lstm-vs-gru-experimental-comparison-955820c21e8b>\n",
    "and <https://medium.com/mindboard/lstm-vs-gru-experimental-comparison-955820c21e8b>.\n",
    "\n",
    "The first network created below is similar to the previous network,\n",
    "but it replaces the SimpleRNN layers with LSTM layers.  The second\n",
    "network below has two hidden layers made up of GRUs, which are\n",
    "preceeded by two dense (feeddorward) neural network layers.  These\n",
    "dense layers \"preprocess\" the data before it reaches the recurrent\n",
    "layers.  This architecture has been shown to improve the performance\n",
    "of recurrent neural networks (see the link above and also\n",
    "<https://arxiv.org/pdf/1807.02857.pdf>."
   ]
  },
  {
   "cell_type": "code",
   "execution_count": 6,
   "id": "4ab1ae04",
   "metadata": {
    "collapsed": false,
    "editable": true
   },
   "outputs": [],
   "source": [
    "def lstm_2layers(length_of_sequences, batch_size = None, stateful = False):\n",
    "    \"\"\"\n",
    "        Inputs:\n",
    "            length_of_sequences (an int): the number of y values in \"x data\".  This is determined\n",
    "                when the data is formatted\n",
    "            batch_size (an int): Default value is None.  See Keras documentation of SimpleRNN.\n",
    "            stateful (a boolean): Default value is False.  See Keras documentation of SimpleRNN.\n",
    "        Returns:\n",
    "            model (a Keras model): The recurrent neural network that is built and compiled by this\n",
    "                method\n",
    "        Builds and compiles a recurrent neural network with two LSTM hidden layers and returns the model.\n",
    "    \"\"\"\n",
    "    # Number of neurons on the input/output layer and the number of neurons in the hidden layer\n",
    "    in_out_neurons = 1\n",
    "    hidden_neurons = 250\n",
    "    # Input Layer\n",
    "    inp = Input(batch_shape=(batch_size, \n",
    "                length_of_sequences, \n",
    "                in_out_neurons)) \n",
    "    # Hidden layers (in this case they are LSTM layers instead if SimpleRNN layers)\n",
    "    rnn= LSTM(hidden_neurons, \n",
    "                    return_sequences=True,\n",
    "                    stateful = stateful,\n",
    "                    name=\"RNN\", use_bias=True, activation='tanh')(inp)\n",
    "    rnn1 = LSTM(hidden_neurons, \n",
    "                    return_sequences=False,\n",
    "                    stateful = stateful,\n",
    "                    name=\"RNN1\", use_bias=True, activation='tanh')(rnn)\n",
    "    # Output layer\n",
    "    dens = Dense(in_out_neurons,name=\"dense\")(rnn1)\n",
    "    # Define the midel\n",
    "    model = Model(inputs=[inp],outputs=[dens])\n",
    "    # Compile the model\n",
    "    model.compile(loss='mean_squared_error', optimizer='adam')  \n",
    "    # Return the model\n",
    "    return model\n",
    "\n",
    "def dnn2_gru2(length_of_sequences, batch_size = None, stateful = False):\n",
    "    \"\"\"\n",
    "        Inputs:\n",
    "            length_of_sequences (an int): the number of y values in \"x data\".  This is determined\n",
    "                when the data is formatted\n",
    "            batch_size (an int): Default value is None.  See Keras documentation of SimpleRNN.\n",
    "            stateful (a boolean): Default value is False.  See Keras documentation of SimpleRNN.\n",
    "        Returns:\n",
    "            model (a Keras model): The recurrent neural network that is built and compiled by this\n",
    "                method\n",
    "        Builds and compiles a recurrent neural network with four hidden layers (two dense followed by\n",
    "        two GRU layers) and returns the model.\n",
    "    \"\"\"    \n",
    "    # Number of neurons on the input/output layers and hidden layers\n",
    "    in_out_neurons = 1\n",
    "    hidden_neurons = 250\n",
    "    # Input layer\n",
    "    inp = Input(batch_shape=(batch_size, \n",
    "                length_of_sequences, \n",
    "                in_out_neurons)) \n",
    "    # Hidden Dense (feedforward) layers\n",
    "    dnn = Dense(hidden_neurons/2, activation='relu', name='dnn')(inp)\n",
    "    dnn1 = Dense(hidden_neurons/2, activation='relu', name='dnn1')(dnn)\n",
    "    # Hidden GRU layers\n",
    "    rnn1 = GRU(hidden_neurons, \n",
    "                    return_sequences=True,\n",
    "                    stateful = stateful,\n",
    "                    name=\"RNN1\", use_bias=True)(dnn1)\n",
    "    rnn = GRU(hidden_neurons, \n",
    "                    return_sequences=False,\n",
    "                    stateful = stateful,\n",
    "                    name=\"RNN\", use_bias=True)(rnn1)\n",
    "    # Output layer\n",
    "    dens = Dense(in_out_neurons,name=\"dense\")(rnn)\n",
    "    # Define the model\n",
    "    model = Model(inputs=[inp],outputs=[dens])\n",
    "    # Compile the mdoel\n",
    "    model.compile(loss='mean_squared_error', optimizer='adam')  \n",
    "    # Return the model\n",
    "    return model\n",
    "\n",
    "# Check to make sure the data set is complete\n",
    "assert len(X_tot) == len(y_tot)\n",
    "\n",
    "# This is the number of points that will be used in as the training data\n",
    "dim=12\n",
    "\n",
    "# Separate the training data from the whole data set\n",
    "X_train = X_tot[:dim]\n",
    "y_train = y_tot[:dim]\n",
    "\n",
    "\n",
    "# Generate the training data for the RNN, using a sequence of 2\n",
    "rnn_input, rnn_training = format_data(y_train, 2)\n",
    "\n",
    "\n",
    "# Create a recurrent neural network in Keras and produce a summary of the \n",
    "# machine learning model\n",
    "# Change the method name to reflect which network you want to use\n",
    "model = dnn2_gru2(length_of_sequences = 2)\n",
    "model.summary()\n",
    "\n",
    "# Start the timer.  Want to time training+testing\n",
    "start = timer()\n",
    "# Fit the model using the training data genenerated above using 150 training iterations and a 5%\n",
    "# validation split.  Setting verbose to True prints information about each training iteration.\n",
    "hist = model.fit(rnn_input, rnn_training, batch_size=None, epochs=150, \n",
    "                 verbose=True,validation_split=0.05)\n",
    "\n",
    "\n",
    "# This section plots the training loss and the validation loss as a function of training iteration.\n",
    "# This is not required for analyzing the couple cluster data but can help determine if the network is\n",
    "# being overtrained.\n",
    "for label in [\"loss\",\"val_loss\"]:\n",
    "    plt.plot(hist.history[label],label=label)\n",
    "\n",
    "plt.ylabel(\"loss\")\n",
    "plt.xlabel(\"epoch\")\n",
    "plt.title(\"The final validation loss: {}\".format(hist.history[\"val_loss\"][-1]))\n",
    "plt.legend()\n",
    "plt.show()\n",
    "\n",
    "# Use the trained neural network to predict more points of the data set\n",
    "test_rnn(X_tot, y_tot, X_tot[0], X_tot[dim-1])\n",
    "# Stop the timer and calculate the total time needed.\n",
    "end = timer()\n",
    "print('Time: ', end-start)\n",
    "\n",
    "\n",
    "# ### Training Recurrent Neural Networks in the Standard Way (i.e. learning the relationship between the X and Y data)\n",
    "# \n",
    "# Finally, comparing the performace of a recurrent neural network using the standard data formatting to the performance of the network with time sequence data formatting shows the benefit of this type of data formatting with extrapolation.\n",
    "\n",
    "# Check to make sure the data set is complete\n",
    "assert len(X_tot) == len(y_tot)\n",
    "\n",
    "# This is the number of points that will be used in as the training data\n",
    "dim=12\n",
    "\n",
    "# Separate the training data from the whole data set\n",
    "X_train = X_tot[:dim]\n",
    "y_train = y_tot[:dim]\n",
    "\n",
    "# Reshape the data for Keras specifications\n",
    "X_train = X_train.reshape((dim, 1))\n",
    "y_train = y_train.reshape((dim, 1))\n",
    "\n",
    "\n",
    "# Create a recurrent neural network in Keras and produce a summary of the \n",
    "# machine learning model\n",
    "# Set the sequence length to 1 for regular data formatting \n",
    "model = rnn(length_of_sequences = 1)\n",
    "model.summary()\n",
    "\n",
    "# Start the timer.  Want to time training+testing\n",
    "start = timer()\n",
    "# Fit the model using the training data genenerated above using 150 training iterations and a 5%\n",
    "# validation split.  Setting verbose to True prints information about each training iteration.\n",
    "hist = model.fit(X_train, y_train, batch_size=None, epochs=150, \n",
    "                 verbose=True,validation_split=0.05)\n",
    "\n",
    "\n",
    "# This section plots the training loss and the validation loss as a function of training iteration.\n",
    "# This is not required for analyzing the couple cluster data but can help determine if the network is\n",
    "# being overtrained.\n",
    "for label in [\"loss\",\"val_loss\"]:\n",
    "    plt.plot(hist.history[label],label=label)\n",
    "\n",
    "plt.ylabel(\"loss\")\n",
    "plt.xlabel(\"epoch\")\n",
    "plt.title(\"The final validation loss: {}\".format(hist.history[\"val_loss\"][-1]))\n",
    "plt.legend()\n",
    "plt.show()\n",
    "\n",
    "# Use the trained neural network to predict the remaining data points\n",
    "X_pred = X_tot[dim:]\n",
    "X_pred = X_pred.reshape((len(X_pred), 1))\n",
    "y_model = model.predict(X_pred)\n",
    "y_pred = np.concatenate((y_tot[:dim], y_model.flatten()))\n",
    "\n",
    "# Plot the known data set and the predicted data set.  The red box represents the region that was used\n",
    "# for the training data.\n",
    "fig, ax = plt.subplots()\n",
    "ax.plot(X_tot, y_tot, label=\"true\", linewidth=3)\n",
    "ax.plot(X_tot, y_pred, 'g-.',label=\"predicted\", linewidth=4)\n",
    "ax.legend()\n",
    "# Created a red region to represent the points used in the training data.\n",
    "ax.axvspan(X_tot[0], X_tot[dim], alpha=0.25, color='red')\n",
    "plt.show()\n",
    "\n",
    "# Stop the timer and calculate the total time needed.\n",
    "end = timer()\n",
    "print('Time: ', end-start)"
   ]
  },
  {
   "cell_type": "markdown",
   "id": "3509a534",
   "metadata": {
    "editable": true
   },
   "source": [
    "## Gating mechanism: Long Short Term Memory (LSTM)\n",
    "\n",
    "Besides a simple recurrent neural network layer, as discussed above, there are two other\n",
    "commonly used types of recurrent neural network layers: Long Short\n",
    "Term Memory (LSTM) and Gated Recurrent Unit (GRU).  For a short\n",
    "introduction to these layers see <https://medium.com/mindboard/lstm-vs-gru-experimental-comparison-955820c21e8b>\n",
    "and <https://medium.com/mindboard/lstm-vs-gru-experimental-comparison-955820c21e8b>.\n",
    "\n",
    "LSTM uses a memory cell for \n",
    "modeling long-range dependencies and avoid vanishing gradient\n",
    " problems.\n",
    "Capable of modeling longer term dependencies by having\n",
    "memory cells and gates that controls the information flow along\n",
    "with the memory cells.\n",
    "\n",
    "1. Introduced by Hochreiter and Schmidhuber (1997) who solved the problem of getting an RNN to remember things for a long time (like hundreds of time steps).\n",
    "\n",
    "2. They designed a memory cell using logistic and linear units with multiplicative interactions.\n",
    "\n",
    "3. Information gets into the cell whenever its “write” gate is on.\n",
    "\n",
    "4. The information stays in the cell so long as its **keep** gate is on.\n",
    "\n",
    "5. Information can be read from the cell by turning on its **read** gate."
   ]
  },
  {
   "cell_type": "markdown",
   "id": "b836c318",
   "metadata": {
    "editable": true
   },
   "source": [
    "## Implementing a memory cell in a neural network\n",
    "\n",
    "To preserve information for a long time in\n",
    "the activities of an RNN, we use a circuit\n",
    "that implements an analog memory cell.\n",
    "\n",
    "1. A linear unit that has a self-link with a weight of 1 will maintain its state.\n",
    "\n",
    "2. Information is stored in the cell by activating its write gate.\n",
    "\n",
    "3. Information is retrieved by activating the read gate.\n",
    "\n",
    "4. We can backpropagate through this circuit because logistics are have nice derivatives. \n",
    "\n",
    "In contrast to FFNs, recurrent networks introduce feedback\n",
    "connections, meaning the information is allowed to be carried to\n",
    "subsequent nodes across different time steps. These cyclic or feedback\n",
    "connections have the objective of providing the network with some kind\n",
    "of memory, making RNNs particularly suited for time-series data,\n",
    "natural language processing, speech recognition, and several other\n",
    "problems for which the order of the data is crucial.\n",
    "\n",
    "RNN architectures vary greatly in how they manage information flow and\n",
    "memory in the network. Different architectures often aim at improving\n",
    "some sub-optimal characteristics of the network. The simplest form of\n",
    "recurrent network, commonly called simple or vanilla RNN, for example,\n",
    "is known to suffer from the problem of vanishing gradients.  This\n",
    "problem arises due to the nature of backpropagation in time. Gradients\n",
    "of the cost/loss function may get exponentially small (or large) if\n",
    "there are many layers in the network, which is the case of RNN when\n",
    "the sequence gets long. Consequently, the convergence to correctly\n",
    "predicted values in the training process happens very slowly. This is\n",
    "particularly the case when using activation functions like the Sigmoid\n",
    "or hyperbolic tangent, (whose outputs are between 0 and 1 for Sigmoid,\n",
    "and -1 and 1 for $\\tanh$), with equally small gradients by design\n",
    "($<1$).\n",
    "\n",
    "To address that, one natural alternative is to use the Long Short-Term\n",
    "Memory (LSTM) variation. While LSTMs are generally used, they also\n",
    "present the downside of being inefficient for large-scale models. For\n",
    "such problems, Gated recurrent units (GRUs) can be employed as they\n",
    "have a simpler architecture, thus being computationally faster. We\n",
    "will hereafter focus simply on the Vanilla and LSTM variants for their\n",
    "simplicity and popularity."
   ]
  }
 ],
 "metadata": {},
 "nbformat": 4,
 "nbformat_minor": 5
}
