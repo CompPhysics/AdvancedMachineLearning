{
 "cells": [
  {
   "cell_type": "markdown",
   "id": "0836ce8e",
   "metadata": {
    "editable": true
   },
   "source": [
    "<!-- HTML file automatically generated from DocOnce source (https://github.com/doconce/doconce/)\n",
    "doconce format html week1.do.txt --no_mako -->\n",
    "<!-- dom:TITLE: January 23-27: Advanced machine learning and data analysis for the physical sciences -->"
   ]
  },
  {
   "cell_type": "markdown",
   "id": "83e2aac9",
   "metadata": {
    "editable": true
   },
   "source": [
    "# January 23-27: Advanced machine learning and data analysis for the physical sciences\n",
    "**Morten Hjorth-Jensen**, Department of Physics and Center for Computing in Science Education, University of Oslo, Norway and Department of Physics and Astronomy and Facility for Rare Isotope Beams, Michigan State University, East Lansing, Michigan, USA\n",
    "\n",
    "Date: **Jan 25, 2023**\n",
    "\n",
    "Copyright 1999-2023, Morten Hjorth-Jensen. Released under CC Attribution-NonCommercial 4.0 license"
   ]
  },
  {
   "cell_type": "markdown",
   "id": "d7950b23",
   "metadata": {
    "editable": true
   },
   "source": [
    "## Overview of week first week\n",
    "\n",
    "1. Presentation of course and participants\n",
    "\n",
    "2. Discussion of possible projects\n",
    "\n",
    "3. Discussion of evaluation forms\n",
    "\n",
    "4. Eventual start with theory discussions on deep learning methods\n",
    "\n",
    "[Video of lecture](https://youtube)"
   ]
  },
  {
   "cell_type": "markdown",
   "id": "b68ee205",
   "metadata": {
    "editable": true
   },
   "source": [
    "## Practicalities and possible projects\n",
    "\n",
    "1. Although the course is defined as a self-study course, we can have weekly lectures with small weekly exercise assignments\n",
    "\n",
    "2. We plan to work on two projects which will define the content of the course, the format can be agreed upon by the participants but the following topics could define an outline for possible projects and machine learning topics\n",
    "\n",
    " * Deep learning with the aim to develop a code for CNNs and/or RNNs and study data of relevance for own research ([Higgs challenge for example](https://github.com/CompPhysics/AdvancedMachineLearning/tree/main/doc/EarlierProjects/2022))\n",
    "\n",
    " * Study autoencoders and variational autoencoders with application to own data\n",
    "\n",
    " * GANS and applications to own data\n",
    "\n",
    " * Solve quantum/or classical many-body problems with deep learning methods (overlaps with FYS4411)\n",
    "\n",
    " * Physics informed Machine Learning, applications to for example solution of Navier-Stokes equations\n",
    "\n",
    " * Bayesian Machine Learning and Gaussian processes\n",
    "\n",
    " * and many other research paths and topics\n",
    "\n",
    "3. Final oral examination to be agreed upon\n",
    "\n",
    "4. All info at the GitHub address <https://github.com/CompPhysics/AdvancedMachineLearning>"
   ]
  }
 ],
 "metadata": {},
 "nbformat": 4,
 "nbformat_minor": 5
}
