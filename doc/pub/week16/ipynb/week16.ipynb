{
 "cells": [
  {
   "cell_type": "markdown",
   "id": "fc7b576a",
   "metadata": {
    "editable": true
   },
   "source": [
    "<!-- HTML file automatically generated from DocOnce source (https://github.com/doconce/doconce/)\n",
    "doconce format html week16.do.txt --no_mako -->\n",
    "<!-- dom:TITLE: Advanced machine learning and data analysis for the physical sciences -->"
   ]
  },
  {
   "cell_type": "markdown",
   "id": "d6fc25e6",
   "metadata": {
    "editable": true
   },
   "source": [
    "# Advanced machine learning and data analysis for the physical sciences\n",
    "**Morten Hjorth-Jensen**, Department of Physics and Center for Computing in Science Education, University of Oslo, Norway and Department of Physics and Astronomy and Facility for Rare Isotope Beams, Michigan State University, East Lansing, Michigan, USA\n",
    "\n",
    "Date: **May 7, 2024**"
   ]
  },
  {
   "cell_type": "markdown",
   "id": "ad3ebe30",
   "metadata": {
    "editable": true
   },
   "source": [
    "## Plans for the week of May 6-10, 2024\n",
    "\n",
    "**Deep generative models and summary of course.**\n",
    "\n",
    "1. Finalizing discussion of diffusion models\n",
    "\n",
    "2. Summary of course and plans for the lab sessions\n",
    "<!-- o [Video of lecture](https://youtu.be/rw-NBN293o4) -->\n",
    "<!-- o [Whiteboard notes](https://github.com/CompPhysics/AdvancedMachineLearning/blob/main/doc/HandwrittenNotes/2024/NotesApril30.pdf) -->"
   ]
  },
  {
   "cell_type": "markdown",
   "id": "dec570c8",
   "metadata": {
    "editable": true
   },
   "source": [
    "## Diffusion models\n",
    "\n",
    "Text to come here."
   ]
  },
  {
   "cell_type": "markdown",
   "id": "23623e45",
   "metadata": {
    "editable": true
   },
   "source": [
    "## Summary of course and topics covered"
   ]
  }
 ],
 "metadata": {},
 "nbformat": 4,
 "nbformat_minor": 5
}
