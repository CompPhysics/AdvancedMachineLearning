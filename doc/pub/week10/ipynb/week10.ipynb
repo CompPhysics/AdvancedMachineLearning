{
 "cells": [
  {
   "cell_type": "markdown",
   "id": "68d09cff",
   "metadata": {
    "editable": true
   },
   "source": [
    "<!-- HTML file automatically generated from DocOnce source (https://github.com/doconce/doconce/)\n",
    "doconce format html week10.do.txt --no_mako -->\n",
    "<!-- dom:TITLE: March 27-31: Advanced machine learning and data analysis for the physical sciences -->"
   ]
  },
  {
   "cell_type": "markdown",
   "id": "8dab6072",
   "metadata": {
    "editable": true
   },
   "source": [
    "# March 27-31: Advanced machine learning and data analysis for the physical sciences\n",
    "**Morten Hjorth-Jensen**, Department of Physics and Center for Computing in Science Education, University of Oslo, Norway and Department of Physics and Astronomy and Facility for Rare Isotope Beams, Michigan State University, East Lansing, Michigan, USA\n",
    "\n",
    "Date: **March 27-31, 2023**"
   ]
  },
  {
   "cell_type": "markdown",
   "id": "3e4779eb",
   "metadata": {
    "editable": true
   },
   "source": [
    "## Plans for the week March 27-31\n",
    "\n",
    "**Deep generative models.**\n",
    "\n",
    "1. Monte Carlo methods and structured probabilistic models for deep learning\n",
    "\n",
    "2. Partition function and Boltzmann machines\n",
    "\n",
    "3. Reading recommendation: Goodfellow et al chapters 16-18\n",
    "\n",
    "4. [Video of lecture](https://youtu.be/)\n",
    "\n",
    "5. [Whiteboard notes](https://github.com/CompPhysics/AdvancedMachineLearning/blob/main/doc/HandwrittenNotes/NotesMar292023.pdf)"
   ]
  }
 ],
 "metadata": {},
 "nbformat": 4,
 "nbformat_minor": 5
}
