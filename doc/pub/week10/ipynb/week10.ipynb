{
 "cells": [
  {
   "cell_type": "markdown",
   "id": "a499df0c",
   "metadata": {
    "editable": true
   },
   "source": [
    "<!-- HTML file automatically generated from DocOnce source (https://github.com/doconce/doconce/)\n",
    "doconce format html week10.do.txt --no_mako -->\n",
    "<!-- dom:TITLE: March 27-31: Advanced machine learning and data analysis for the physical sciences -->"
   ]
  },
  {
   "cell_type": "markdown",
   "id": "14b7550a",
   "metadata": {
    "editable": true
   },
   "source": [
    "# March 27-31: Advanced machine learning and data analysis for the physical sciences\n",
    "**Morten Hjorth-Jensen**, Department of Physics and Center for Computing in Science Education, University of Oslo, Norway and Department of Physics and Astronomy and Facility for Rare Isotope Beams, Michigan State University, East Lansing, Michigan, USA\n",
    "\n",
    "Date: **March 27-31, 2023**"
   ]
  },
  {
   "cell_type": "markdown",
   "id": "65002e8a",
   "metadata": {
    "editable": true
   },
   "source": [
    "## Plans for the week March 27-31\n",
    "\n",
    "**Deep generative models.**\n",
    "\n",
    "1. Monte Carlo methods and structured probabilistic models for deep learning\n",
    "\n",
    "2. Partition function and Boltzmann machines\n",
    "\n",
    "3. Reading recommendation: Goodfellow et al chapters 16-18\n",
    "\n",
    "4. [Video of lecture](https://youtu.be/DMZP54-tPxc)\n",
    "\n",
    "5. [Whiteboard notes](https://github.com/CompPhysics/AdvancedMachineLearning/blob/main/doc/HandwrittenNotes/NotesMar292023.pdf)"
   ]
  },
  {
   "cell_type": "markdown",
   "id": "34ba1883",
   "metadata": {
    "editable": true
   },
   "source": [
    "## Probabilistic models and Bayesian statistics\n",
    "\n",
    "See also whiteboard notes March 29\n",
    "\n",
    "A central theorem in statistics is Bayes' theorem. This theorem plays a similar role as the good old Pythagoras' theorem in geometry.\n",
    "Bayes' theorem is extremely simple to derive. But to do so we need some basic axioms from statistics.\n",
    "\n",
    "Assume we have two domains of events $X=[x_0,x_1,\\dots,x_{n-1}]$ and $Y=[y_0,y_1,\\dots,y_{n-1}]$.\n",
    "\n",
    "We define also the likelihood for $X$ and $Y$ as $p(X)$ and $p(Y)$ respectively.\n",
    "The likelihood of a specific event $x_i$ (or $y_i$) is then written as $p(X=x_i)$ or just $p(x_i)=p_i$. \n",
    "\n",
    "**Union of events is given by.**"
   ]
  },
  {
   "cell_type": "markdown",
   "id": "5072123b",
   "metadata": {
    "editable": true
   },
   "source": [
    "$$\n",
    "p(X \\cup Y)= p(X)+p(Y)-p(X \\cap Y).\n",
    "$$"
   ]
  },
  {
   "cell_type": "markdown",
   "id": "eb95f6eb",
   "metadata": {
    "editable": true
   },
   "source": [
    "**The product rule (aka joint probability) is given by.**"
   ]
  },
  {
   "cell_type": "markdown",
   "id": "9df6d13d",
   "metadata": {
    "editable": true
   },
   "source": [
    "$$\n",
    "p(X \\cup Y)= p(X,Y)= p(X\\vert Y)p(Y)=p(Y\\vert X)p(X),\n",
    "$$"
   ]
  },
  {
   "cell_type": "markdown",
   "id": "16a16bb4",
   "metadata": {
    "editable": true
   },
   "source": [
    "where we read $p(X\\vert Y)$ as the likelihood of obtaining $X$ given $Y$.\n",
    "\n",
    "If we have independent events then $p(X,Y)=p(X)p(Y)$."
   ]
  },
  {
   "cell_type": "markdown",
   "id": "ffd831be",
   "metadata": {
    "editable": true
   },
   "source": [
    "## Marginal Probability\n",
    "\n",
    "The marginal probability is defined in terms of only one of the set of variables $X,Y$. For a discrete probability we have"
   ]
  },
  {
   "cell_type": "markdown",
   "id": "f274fa8d",
   "metadata": {
    "editable": true
   },
   "source": [
    "$$\n",
    "p(X)=\\sum_{i=0}^{n-1}p(X,Y=y_i)=\\sum_{i=0}^{n-1}p(X\\vert Y=y_i)p(Y=y_i)=\\sum_{i=0}^{n-1}p(X\\vert y_i)p(y_i).\n",
    "$$"
   ]
  },
  {
   "cell_type": "markdown",
   "id": "60af7cc2",
   "metadata": {
    "editable": true
   },
   "source": [
    "## Conditional  Probability\n",
    "\n",
    "The conditional  probability, if $p(Y) > 0$, is"
   ]
  },
  {
   "cell_type": "markdown",
   "id": "744b6a9a",
   "metadata": {
    "editable": true
   },
   "source": [
    "$$\n",
    "p(X\\vert Y)= \\frac{p(X,Y)}{p(Y)}=\\frac{p(X,Y)}{\\sum_{i=0}^{n-1}p(Y\\vert X=x_i)p(x_i)}.\n",
    "$$"
   ]
  },
  {
   "cell_type": "markdown",
   "id": "f929b6b5",
   "metadata": {
    "editable": true
   },
   "source": [
    "## Bayes' Theorem\n",
    "\n",
    "If we combine the conditional probability with the marginal probability and the standard product rule, we have"
   ]
  },
  {
   "cell_type": "markdown",
   "id": "60868f8b",
   "metadata": {
    "editable": true
   },
   "source": [
    "$$\n",
    "p(X\\vert Y)= \\frac{p(X,Y)}{p(Y)},\n",
    "$$"
   ]
  },
  {
   "cell_type": "markdown",
   "id": "f592c5f1",
   "metadata": {
    "editable": true
   },
   "source": [
    "which we can rewrite as"
   ]
  },
  {
   "cell_type": "markdown",
   "id": "1d43793f",
   "metadata": {
    "editable": true
   },
   "source": [
    "$$\n",
    "p(X\\vert Y)= \\frac{p(X,Y)}{\\sum_{i=0}^{n-1}p(Y\\vert X=x_i)p(x_i)}=\\frac{p(Y\\vert X)p(X)}{\\sum_{i=0}^{n-1}p(Y\\vert X=x_i)p(x_i)},\n",
    "$$"
   ]
  },
  {
   "cell_type": "markdown",
   "id": "45dbd256",
   "metadata": {
    "editable": true
   },
   "source": [
    "which is Bayes' theorem. It allows us to evaluate the uncertainty in in $X$ after we have observed $Y$. We can easily interchange $X$ with $Y$."
   ]
  },
  {
   "cell_type": "markdown",
   "id": "083606fd",
   "metadata": {
    "editable": true
   },
   "source": [
    "## Interpretations of Bayes' Theorem\n",
    "\n",
    "The quantity $p(Y\\vert X)$ on the right-hand side of the theorem is\n",
    "evaluated for the observed data $Y$ and can be viewed as a function of\n",
    "the parameter space represented by $X$. This function is not\n",
    "necesseraly normalized and is normally called the likelihood function.\n",
    "\n",
    "The function $p(X)$ on the right hand side is called the prior while the function on the left hand side is the called the posterior probability. The denominator on the right hand side serves as a normalization factor for the posterior distribution.\n",
    "\n",
    "Let us try to illustrate Bayes' theorem through an example."
   ]
  },
  {
   "cell_type": "markdown",
   "id": "6014063b",
   "metadata": {
    "editable": true
   },
   "source": [
    "## Example of Usage of Bayes' theorem\n",
    "\n",
    "Let us suppose that you are undergoing a series of mammography scans in\n",
    "order to rule out possible breast cancer cases.  We define the\n",
    "sensitivity for a positive event by the variable $X$. It takes binary\n",
    "values with $X=1$ representing a positive event and $X=0$ being a\n",
    "negative event. We reserve $Y$ as a classification parameter for\n",
    "either a negative or a positive breast cancer confirmation. (Short note on wordings: positive here means having breast cancer, although none of us would consider this being a  positive thing).\n",
    "\n",
    "We let $Y=1$ represent the the case of having breast cancer and $Y=0$ as not.\n",
    "\n",
    "Let us assume that if you have breast cancer, the test will be positive with a probability of $0.8$, that is we have"
   ]
  },
  {
   "cell_type": "markdown",
   "id": "0236e22f",
   "metadata": {
    "editable": true
   },
   "source": [
    "$$\n",
    "p(X=1\\vert Y=1) =0.8.\n",
    "$$"
   ]
  },
  {
   "cell_type": "markdown",
   "id": "02d2896c",
   "metadata": {
    "editable": true
   },
   "source": [
    "This obviously sounds  scary since many would conclude that if the test is positive, there is a likelihood of $80\\%$ for having cancer.\n",
    "It is however not correct, as the following Bayesian analysis shows."
   ]
  },
  {
   "cell_type": "markdown",
   "id": "41281334",
   "metadata": {
    "editable": true
   },
   "source": [
    "## Doing it correctly\n",
    "\n",
    "If we look at various national surveys on breast cancer, the general likelihood of developing breast cancer is a very small number.\n",
    "Let us assume that the prior probability in the population as a whole is"
   ]
  },
  {
   "cell_type": "markdown",
   "id": "ee52b575",
   "metadata": {
    "editable": true
   },
   "source": [
    "$$\n",
    "p(Y=1) =0.004.\n",
    "$$"
   ]
  },
  {
   "cell_type": "markdown",
   "id": "389db4bf",
   "metadata": {
    "editable": true
   },
   "source": [
    "We need also to account for the fact that the test may produce a false positive result (false alarm). Let us here assume that we have"
   ]
  },
  {
   "cell_type": "markdown",
   "id": "9d4a857b",
   "metadata": {
    "editable": true
   },
   "source": [
    "$$\n",
    "p(X=1\\vert Y=0) =0.1.\n",
    "$$"
   ]
  },
  {
   "cell_type": "markdown",
   "id": "52659ec8",
   "metadata": {
    "editable": true
   },
   "source": [
    "Using Bayes' theorem we can then find the posterior probability that the person has breast cancer in case of a positive test, that is we can compute"
   ]
  },
  {
   "cell_type": "markdown",
   "id": "67fa162e",
   "metadata": {
    "editable": true
   },
   "source": [
    "$$\n",
    "p(Y=1\\vert X=1)=\\frac{p(X=1\\vert Y=1)p(Y=1)}{p(X=1\\vert Y=1)p(Y=1)+p(X=1\\vert Y=0)p(Y=0)}=\\frac{0.8\\times 0.004}{0.8\\times 0.004+0.1\\times 0.996}=0.031.\n",
    "$$"
   ]
  },
  {
   "cell_type": "markdown",
   "id": "9baf15ad",
   "metadata": {
    "editable": true
   },
   "source": [
    "That is, in case of a positive test, there is only a $3\\%$ chance of having breast cancer!"
   ]
  },
  {
   "cell_type": "markdown",
   "id": "712e242e",
   "metadata": {
    "editable": true
   },
   "source": [
    "## Why Markov chains, Brownian motion and the Metropolis algorithm\n",
    "\n",
    "* We want to study a physical system which evolves towards equilibrium, from given  initial conditions.\n",
    "\n",
    "* We start with a PDF $w(x_0,t_0)$  and we want to understand how the system evolves with time.\n",
    "\n",
    "* We want to reach a situation where after a given number of time steps we obtain a steady state. This means that the system reaches its most likely state (equilibrium situation)\n",
    "\n",
    "* Our PDF is normally a multidimensional object whose normalization constant is impossible to find.\n",
    "\n",
    "* Analytical calculations from $w(x,t)$ are not possible.\n",
    "\n",
    "* To sample directly from from $w(x,t)$ is not possible/difficult.\n",
    "\n",
    "* The transition probability $W$ is also not  known.\n",
    "\n",
    "* How can we establish that we have reached a steady state?   Sounds impossible!\n",
    "\n",
    "**Use Markov chain Monte Carlo**"
   ]
  },
  {
   "cell_type": "markdown",
   "id": "6c188448",
   "metadata": {
    "editable": true
   },
   "source": [
    "## Brownian motion and Markov processes\n",
    "A Markov process is a random walk with a selected probability for making a\n",
    "move. The new move is independent of the previous history of the system.\n",
    "\n",
    "The Markov process is used repeatedly in Monte Carlo simulations in order to generate\n",
    "new random states.\n",
    "\n",
    "The reason for choosing a Markov process is that when it is run for a\n",
    "long enough time starting with a random state, we will eventually reach the most likely state of the system.\n",
    "\n",
    "In thermodynamics, this means that after a certain number of Markov processes\n",
    "we reach an equilibrium distribution.\n",
    "\n",
    "This mimicks the way a real system reaches\n",
    "its most likely state at a given temperature of the surroundings.\n",
    "\n",
    "To reach this distribution, the Markov process needs to obey two important conditions, that of\n",
    "**ergodicity** and **detailed balance**. These conditions impose then constraints on our algorithms\n",
    "for accepting or rejecting new random states.\n",
    "\n",
    "The Metropolis algorithm discussed here\n",
    "abides to both these constraints.\n",
    "\n",
    "The Metropolis algorithm is widely used in Monte Carlo\n",
    "simulations and the understanding of it rests within\n",
    "the interpretation of random walks and Markov processes.\n",
    "\n",
    "In a random walk one defines a mathematical entity called a **walker**, \n",
    "whose  attributes\n",
    "completely define the state of the system in question. \n",
    "\n",
    "The state of the system  can refer to any physical quantities,\n",
    "from the vibrational state of a molecule specified by a set of quantum numbers, \n",
    "to the brands of coffee in your favourite supermarket.\n",
    "\n",
    "The walker moves in an appropriate state space by a combination of \n",
    "deterministic and random displacements from its previous\n",
    "position.\n",
    "\n",
    "This sequence of steps forms a **chain**.\n",
    "\n",
    "* We want to study a physical system which evolves towards equilibrium, from given  initial conditions.\n",
    "\n",
    "* Markov chains are intimately linked with the physical process of diffusion. \n",
    "\n",
    "* From a Markov chain we can then derive the conditions for detailed balance and ergodicity. These are the conditions needed for obtaining a steady state.\n",
    "\n",
    "* The widely used algorithm for doing this is the so-called Metropolis algorithm, in its refined form the Metropolis-Hastings algorithm."
   ]
  },
  {
   "cell_type": "markdown",
   "id": "8e68fe80",
   "metadata": {
    "editable": true
   },
   "source": [
    "## Applications: almost every field in science\n",
    "\n",
    "* Financial engineering, see for example Patriarca *et al*, Physica **340**, [page 334 (2004)](http://www.sciencedirect.com/science/article/pii/S0378437104004327).\n",
    "\n",
    "* Neuroscience, see for example Lipinski, Physics Medical Biology **35**, [page 441 (1990)](http://iopscience.iop.org/article/10.1088/0031-9155/35/3/012/meta;jsessionid=FA91B191036E1F10948F7C42B6A6D295.c1) or Farnell and Gibson, Journal of Computational Physics **208**, [page 253 (2005)](http://www.sciencedirect.com/science/article/pii/S0021999105001087)\n",
    "\n",
    "* Tons of applications in physics\n",
    "\n",
    "* and chemistry\n",
    "\n",
    "* and biology, medicine\n",
    "\n",
    "* Nobel prize in economy to Black and Scholes"
   ]
  },
  {
   "cell_type": "markdown",
   "id": "f13d78a7",
   "metadata": {
    "editable": true
   },
   "source": [
    "$$\n",
    "\\frac{\\partial V}{\\partial t}+\\frac{1}{2}\\sigma^{2}S^{2}\\frac{\\partial^{2} V}{\\partial S^{2}}+rS\\frac{\\partial V}{\\partial S}-rV=0.\n",
    "$$"
   ]
  },
  {
   "cell_type": "markdown",
   "id": "3f903afe",
   "metadata": {
    "editable": true
   },
   "source": [
    "The Black and Scholes equation is a partial differential equation, which describes the price\n",
    "of the option over time. It is a diffusion equation with a random term.\n",
    "\n",
    "The list of applications is endless\n",
    "\n",
    "The obvious case is that of a random walker on a one-, or two- or three-dimensional lattice\n",
    "(dubbed coordinate space hereafter).\n",
    "\n",
    "Consider a system whose energy is defined by the orientation of single spins.\n",
    "Consider the state $i$, with given energy $E_i$ represented by the following $N$ spins"
   ]
  },
  {
   "cell_type": "markdown",
   "id": "86f98b8b",
   "metadata": {
    "editable": true
   },
   "source": [
    "$$\n",
    "\\begin{array}{cccccccccc}\n",
    "\\uparrow&\\uparrow&\\uparrow&\\dots&\\uparrow&\\downarrow&\\uparrow&\\dots&\\uparrow&\\downarrow\\\\\n",
    "1&2&3&\\dots& k-1&k&k+1&\\dots&N-1&N\\end{array}\n",
    "$$"
   ]
  },
  {
   "cell_type": "markdown",
   "id": "5e928065",
   "metadata": {
    "editable": true
   },
   "source": [
    "We may be  interested in the transition with one single  spinflip to a new state $j$ with energy $E_j$"
   ]
  },
  {
   "cell_type": "markdown",
   "id": "7aaf1599",
   "metadata": {
    "editable": true
   },
   "source": [
    "$$\n",
    "\\begin{array}{cccccccccc}\n",
    "\\uparrow&\\uparrow&\\uparrow&\\dots&\\uparrow&\\uparrow&\\uparrow&\\dots&\\uparrow&\\downarrow\\\\\n",
    "1&2&3&\\dots& k-1&k&k+1&\\dots&N-1&N\\end{array}\n",
    "$$"
   ]
  },
  {
   "cell_type": "markdown",
   "id": "903d44f7",
   "metadata": {
    "editable": true
   },
   "source": [
    "This change from one microstate $i$ (or spin configuration)  to another microstate $j$ is the\n",
    "**configuration space**  analogue to a random walk on a lattice. Instead of jumping from\n",
    "one place to another in space, we 'jump' from one microstate to another."
   ]
  },
  {
   "cell_type": "markdown",
   "id": "4d2287ab",
   "metadata": {
    "editable": true
   },
   "source": [
    "## Markov processes\n",
    "A Markov process allows in principle for a microscopic description of Brownian motion.\n",
    "As with the random walk studied in the previous section, we consider a particle \n",
    "which moves along the  $x$-axis in the form of a series of jumps with step length \n",
    "$\\Delta x = l$. Time and space are discretized and the subsequent moves are\n",
    "statistically independent, i.e., the new move depends only on the previous step\n",
    "and not on the results from earlier trials. \n",
    "We start at a position $x=jl=j\\Delta x$ and move to \n",
    "a new position $x =i\\Delta x$ during a step $\\Delta t=\\epsilon$, where \n",
    "$i\\ge  0$ and $j\\ge 0$ are integers. \n",
    "The original probability distribution function (PDF) of the particles is given by  \n",
    "$w_i(t=0)$ where $i$ refers to a specific position on the grid in\n",
    "\n",
    "The function $w_i(t=0)$ is now the discretized version of $w(x,t)$.\n",
    "We can regard the discretized PDF as a vector.\n",
    "\n",
    "For the Markov process we have a transition probability from a position\n",
    "$x=jl$ to a position $x=il$ given by"
   ]
  },
  {
   "cell_type": "markdown",
   "id": "d751606f",
   "metadata": {
    "editable": true
   },
   "source": [
    "$$\n",
    "W_{ij}(\\epsilon)=W(il-jl,\\epsilon)=\\left\\{\\begin{array}{cc}\\frac{1}{2} & |i-j| = 1\\\\\n",
    "             0 & \\mathrm{else} \\end{array} \\right. ,\n",
    "$$"
   ]
  },
  {
   "cell_type": "markdown",
   "id": "d92e5dc5",
   "metadata": {
    "editable": true
   },
   "source": [
    "where $W_{ij}$ is normally called \n",
    "the transition probability and we can represent it, see below,\n",
    "as a matrix. \n",
    "**Here we have specialized to a case where the transition probability is known**.\n",
    "\n",
    "Our new PDF $w_i(t=\\epsilon)$ is now related to the PDF at\n",
    "$t=0$ through the relation"
   ]
  },
  {
   "cell_type": "markdown",
   "id": "68628a10",
   "metadata": {
    "editable": true
   },
   "source": [
    "$$\n",
    "w_i(t=\\epsilon) =\\sum_{j} W(j\\rightarrow i)w_j(t=0).\n",
    "$$"
   ]
  },
  {
   "cell_type": "markdown",
   "id": "dabeebfc",
   "metadata": {
    "editable": true
   },
   "source": [
    "This equation represents the discretized time-development of an original \n",
    "PDF with equal probability of jumping left or right.\n",
    "\n",
    "Since both $W$ and $w$ represent probabilities, they have to be normalized, i.e., we require\n",
    "that at each time step we have"
   ]
  },
  {
   "cell_type": "markdown",
   "id": "3d61a060",
   "metadata": {
    "editable": true
   },
   "source": [
    "$$\n",
    "\\sum_i w_i(t) = 1,\n",
    "$$"
   ]
  },
  {
   "cell_type": "markdown",
   "id": "2829d61a",
   "metadata": {
    "editable": true
   },
   "source": [
    "and"
   ]
  },
  {
   "cell_type": "markdown",
   "id": "22a3d12f",
   "metadata": {
    "editable": true
   },
   "source": [
    "$$\n",
    "\\sum_j W(j\\rightarrow i) = 1,\n",
    "$$"
   ]
  },
  {
   "cell_type": "markdown",
   "id": "a60703cc",
   "metadata": {
    "editable": true
   },
   "source": [
    "which applies for all $j$-values.\n",
    "The further constraints are\n",
    "$0 \\le W_{ij} \\le 1$  and  $0 \\le w_{j} \\le 1$.\n",
    "Note that the probability for remaining at the same place is in general \n",
    "not necessarily equal zero. \n",
    "\n",
    "The time development of our initial PDF can now be represented through the action of\n",
    "the transition probability matrix applied $n$ times. At a \n",
    "time  $t_n=n\\epsilon$ our initial distribution has developed into"
   ]
  },
  {
   "cell_type": "markdown",
   "id": "748b9292",
   "metadata": {
    "editable": true
   },
   "source": [
    "$$\n",
    "w_i(t_n) = \\sum_jW_{ij}(t_n)w_j(0),\n",
    "$$"
   ]
  },
  {
   "cell_type": "markdown",
   "id": "ebb3078e",
   "metadata": {
    "editable": true
   },
   "source": [
    "and defining"
   ]
  },
  {
   "cell_type": "markdown",
   "id": "ddb70ff1",
   "metadata": {
    "editable": true
   },
   "source": [
    "$$\n",
    "W(il-jl,n\\epsilon)=(W^n(\\epsilon))_{ij}\n",
    "$$"
   ]
  },
  {
   "cell_type": "markdown",
   "id": "319ec0cc",
   "metadata": {
    "editable": true
   },
   "source": [
    "we obtain"
   ]
  },
  {
   "cell_type": "markdown",
   "id": "98fee144",
   "metadata": {
    "editable": true
   },
   "source": [
    "$$\n",
    "w_i(n\\epsilon) = \\sum_j(W^n(\\epsilon))_{ij}w_j(0),\n",
    "$$"
   ]
  },
  {
   "cell_type": "markdown",
   "id": "1e559bdd",
   "metadata": {
    "editable": true
   },
   "source": [
    "or in matrix form"
   ]
  },
  {
   "cell_type": "markdown",
   "id": "3b67cc9b",
   "metadata": {
    "editable": true
   },
   "source": [
    "<!-- Equation labels as ordinary links -->\n",
    "<div id=\"eq:wfinal\"></div>\n",
    "\n",
    "$$\n",
    "\\begin{equation} \\label{eq:wfinal} \\tag{1}\n",
    "   \\hat{w}(n\\epsilon) = \\hat{W}^n(\\epsilon)\\hat{w}(0).\n",
    "\\end{equation}\n",
    "$$"
   ]
  },
  {
   "cell_type": "markdown",
   "id": "ce3ace92",
   "metadata": {
    "editable": true
   },
   "source": [
    "## An Illustrative Example\n",
    "\n",
    "The following simple example may help in understanding the meaning of \n",
    "the transition matrix $\\hat{W}$ and the vector $\\hat{w}$.\n",
    "Consider the $4\\times 4$ matrix $\\hat{W}$"
   ]
  },
  {
   "cell_type": "markdown",
   "id": "96661e14",
   "metadata": {
    "editable": true
   },
   "source": [
    "$$\n",
    "\\hat{W} = \\left(\\begin{array}{cccc} 1/4 & 1/9 & 3/8 & 1/3 \\\\                   \n",
    "                                       2/4 & 2/9 & 0 & 1/3\\\\                   \n",
    "                                       0   & 1/9 & 3/8 & 0\\\\\n",
    "                                       1/4 & 5/9&  2/8 & 1/3 \\end{array} \\right),\n",
    "$$"
   ]
  },
  {
   "cell_type": "markdown",
   "id": "36cbffea",
   "metadata": {
    "editable": true
   },
   "source": [
    "and we choose our initial state as"
   ]
  },
  {
   "cell_type": "markdown",
   "id": "b6f90d3b",
   "metadata": {
    "editable": true
   },
   "source": [
    "$$\n",
    "\\hat{w}(t=0)=  \\left(\\begin{array}{c} 1\\\\                   \n",
    "                                 0\\\\\n",
    "                                 0 \\\\                   \n",
    "                                 0 \\end{array} \\right).\n",
    "$$"
   ]
  },
  {
   "cell_type": "markdown",
   "id": "91a0a479",
   "metadata": {
    "editable": true
   },
   "source": [
    "We note that both the vector and the matrix are properly normalized. Summing the vector elements gives one and\n",
    "summing over columns for the matrix results also in one.  Furthermore, the largest eigenvalue is one.\n",
    "We act then on $\\hat{w}$ with $\\hat{W}$.\n",
    "The first iteration is"
   ]
  },
  {
   "cell_type": "markdown",
   "id": "95ff23dd",
   "metadata": {
    "editable": true
   },
   "source": [
    "$$\n",
    "\\hat{w}(t=\\epsilon) = \\hat{W}\\hat{w}(t=0),\n",
    "$$"
   ]
  },
  {
   "cell_type": "markdown",
   "id": "3fffee14",
   "metadata": {
    "editable": true
   },
   "source": [
    "resulting in"
   ]
  },
  {
   "cell_type": "markdown",
   "id": "bffc82f5",
   "metadata": {
    "editable": true
   },
   "source": [
    "$$\n",
    "\\hat{w}(t=\\epsilon)=  \\left(\\begin{array}{c} 1/4\\\\                   \n",
    "                                1/2 \\\\\n",
    "                                0 \\\\                   \n",
    "                                1/4 \\end{array} \\right).\n",
    "$$"
   ]
  },
  {
   "cell_type": "markdown",
   "id": "e783d74e",
   "metadata": {
    "editable": true
   },
   "source": [
    "The next iteration results in"
   ]
  },
  {
   "cell_type": "markdown",
   "id": "1f7e5d00",
   "metadata": {
    "editable": true
   },
   "source": [
    "$$\n",
    "\\hat{w}(t=2\\epsilon) = \\hat{W}\\hat{w}(t=\\epsilon),\n",
    "$$"
   ]
  },
  {
   "cell_type": "markdown",
   "id": "4a35937a",
   "metadata": {
    "editable": true
   },
   "source": [
    "resulting in"
   ]
  },
  {
   "cell_type": "markdown",
   "id": "22540902",
   "metadata": {
    "editable": true
   },
   "source": [
    "$$\n",
    "\\hat{w}(t=2\\epsilon)=  \\left(\\begin{array}{c} 0.201389\\\\\n",
    "   0.319444 \\\\\n",
    "   0.055556 \\\\\n",
    "   0.423611 \\end{array} \\right).\n",
    "$$"
   ]
  },
  {
   "cell_type": "markdown",
   "id": "6afbc944",
   "metadata": {
    "editable": true
   },
   "source": [
    "Note that the vector $\\hat{w}$ is always normalized to $1$. \n",
    "\n",
    "We find the steady state of the system by solving the set of equations"
   ]
  },
  {
   "cell_type": "markdown",
   "id": "68c1b508",
   "metadata": {
    "editable": true
   },
   "source": [
    "$$\n",
    "w(t=\\infty) = Ww(t=\\infty),\n",
    "$$"
   ]
  },
  {
   "cell_type": "markdown",
   "id": "e42f0af3",
   "metadata": {
    "editable": true
   },
   "source": [
    "which is an eigenvalue problem with eigenvalue equal to **one**!\n",
    "This set of equations reads"
   ]
  },
  {
   "cell_type": "markdown",
   "id": "1ef3f28b",
   "metadata": {
    "editable": true
   },
   "source": [
    "$$\n",
    "W_{11}w_1(t=\\infty) +W_{12}w_2(t=\\infty) +W_{13}w_3(t=\\infty)+ W_{14}w_4(t=\\infty)=w_1(t=\\infty) \\nonumber\n",
    "$$"
   ]
  },
  {
   "cell_type": "markdown",
   "id": "5058fa88",
   "metadata": {
    "editable": true
   },
   "source": [
    "$$\n",
    "W_{21}w_1(t=\\infty) + W_{22}w_2(t=\\infty) + W_{23}w_3(t=\\infty)+ W_{24}w_4(t=\\infty)=w_2(t=\\infty) \\nonumber\n",
    "$$"
   ]
  },
  {
   "cell_type": "markdown",
   "id": "9e790644",
   "metadata": {
    "editable": true
   },
   "source": [
    "$$\n",
    "W_{31}w_1(t=\\infty) + W_{32}w_2(t=\\infty) + W_{33}w_3(t=\\infty)+ W_{34}w_4(t=\\infty)=w_3(t=\\infty) \\nonumber\n",
    "$$"
   ]
  },
  {
   "cell_type": "markdown",
   "id": "8348233c",
   "metadata": {
    "editable": true
   },
   "source": [
    "$$\n",
    "W_{41}w_1(t=\\infty) + W_{42}w_2(t=\\infty) + W_{43}w_3(t=\\infty)+ W_{44}w_4(t=\\infty)=w_4(t=\\infty) \\nonumber\n",
    "$$"
   ]
  },
  {
   "cell_type": "markdown",
   "id": "dad73fd3",
   "metadata": {
    "editable": true
   },
   "source": [
    "<!-- Equation labels as ordinary links -->\n",
    "<div id=\"_auto1\"></div>\n",
    "\n",
    "$$\n",
    "\\begin{equation} \n",
    "\\label{_auto1} \\tag{2}\n",
    "\\end{equation}\n",
    "$$"
   ]
  },
  {
   "cell_type": "markdown",
   "id": "45d2c050",
   "metadata": {
    "editable": true
   },
   "source": [
    "with the constraint that"
   ]
  },
  {
   "cell_type": "markdown",
   "id": "ffd02ee8",
   "metadata": {
    "editable": true
   },
   "source": [
    "$$\n",
    "\\sum_i w_i(t=\\infty) = 1,\n",
    "$$"
   ]
  },
  {
   "cell_type": "markdown",
   "id": "e83ae336",
   "metadata": {
    "editable": true
   },
   "source": [
    "yielding as solution"
   ]
  },
  {
   "cell_type": "markdown",
   "id": "382ad388",
   "metadata": {
    "editable": true
   },
   "source": [
    "$$\n",
    "\\hat{w}(t=\\infty)=  \\left(\\begin{array}{c}0.244318 \\\\                   \n",
    "                                 0.319602 \\\\  0.056818 \\\\  0.379261 \\end{array} \\right).\n",
    "$$"
   ]
  },
  {
   "cell_type": "markdown",
   "id": "52c04083",
   "metadata": {
    "editable": true
   },
   "source": [
    "The table here  demonstrates the convergence as a function of the number of iterations or\n",
    "time steps. After  twelve iterations we have reached the exact value with six leading digits. \n",
    "\n",
    "<table class=\"dotable\" border=\"1\">\n",
    "<thead>\n",
    "<tr><th align=\"center\">     Iteration     </th> <th align=\"center\"> $w_1$  </th> <th align=\"center\"> $w_2$  </th> <th align=\"center\"> $w_3$  </th> <th align=\"center\"> $w_4$  </th> </tr>\n",
    "</thead>\n",
    "<tbody>\n",
    "<tr><td align=\"right\">   0                      </td> <td align=\"left\">   1.000000    </td> <td align=\"left\">   0.000000    </td> <td align=\"left\">   0.000000    </td> <td align=\"left\">   0.000000    </td> </tr>\n",
    "<tr><td align=\"right\">   1                      </td> <td align=\"left\">   0.250000    </td> <td align=\"left\">   0.500000    </td> <td align=\"left\">   0.000000    </td> <td align=\"left\">   0.250000    </td> </tr>\n",
    "<tr><td align=\"right\">   2                      </td> <td align=\"left\">   0.201389    </td> <td align=\"left\">   0.319444    </td> <td align=\"left\">   0.055556    </td> <td align=\"left\">   0.423611    </td> </tr>\n",
    "<tr><td align=\"right\">   3                      </td> <td align=\"left\">   0.247878    </td> <td align=\"left\">   0.312886    </td> <td align=\"left\">   0.056327    </td> <td align=\"left\">   0.382909    </td> </tr>\n",
    "<tr><td align=\"right\">   4                      </td> <td align=\"left\">   0.245494    </td> <td align=\"left\">   0.321106    </td> <td align=\"left\">   0.055888    </td> <td align=\"left\">   0.377513    </td> </tr>\n",
    "<tr><td align=\"right\">   5                      </td> <td align=\"left\">   0.243847    </td> <td align=\"left\">   0.319941    </td> <td align=\"left\">   0.056636    </td> <td align=\"left\">   0.379575    </td> </tr>\n",
    "<tr><td align=\"right\">   6                      </td> <td align=\"left\">   0.244274    </td> <td align=\"left\">   0.319547    </td> <td align=\"left\">   0.056788    </td> <td align=\"left\">   0.379391    </td> </tr>\n",
    "<tr><td align=\"right\">   7                      </td> <td align=\"left\">   0.244333    </td> <td align=\"left\">   0.319611    </td> <td align=\"left\">   0.056801    </td> <td align=\"left\">   0.379255    </td> </tr>\n",
    "<tr><td align=\"right\">   8                      </td> <td align=\"left\">   0.244314    </td> <td align=\"left\">   0.319610    </td> <td align=\"left\">   0.056813    </td> <td align=\"left\">   0.379264    </td> </tr>\n",
    "<tr><td align=\"right\">   9                      </td> <td align=\"left\">   0.244317    </td> <td align=\"left\">   0.319603    </td> <td align=\"left\">   0.056817    </td> <td align=\"left\">   0.379264    </td> </tr>\n",
    "<tr><td align=\"right\">   10                     </td> <td align=\"left\">   0.244318    </td> <td align=\"left\">   0.319602    </td> <td align=\"left\">   0.056818    </td> <td align=\"left\">   0.379262    </td> </tr>\n",
    "<tr><td align=\"right\">   11                     </td> <td align=\"left\">   0.244318    </td> <td align=\"left\">   0.319602    </td> <td align=\"left\">   0.056818    </td> <td align=\"left\">   0.379261    </td> </tr>\n",
    "<tr><td align=\"right\">   12                     </td> <td align=\"left\">   0.244318    </td> <td align=\"left\">   0.319602    </td> <td align=\"left\">   0.056818    </td> <td align=\"left\">   0.379261    </td> </tr>\n",
    "<tr><td align=\"right\">   $\\hat{w}(t=\\infty)$    </td> <td align=\"left\">   0.244318    </td> <td align=\"left\">   0.319602    </td> <td align=\"left\">   0.056818    </td> <td align=\"left\">   0.379261    </td> </tr>\n",
    "</tbody>\n",
    "</table>\n",
    "\n",
    "We have after $t$-steps"
   ]
  },
  {
   "cell_type": "markdown",
   "id": "40115a78",
   "metadata": {
    "editable": true
   },
   "source": [
    "$$\n",
    "\\hat{w}(t) = \\hat{W}^t\\hat{w}(0),\n",
    "$$"
   ]
  },
  {
   "cell_type": "markdown",
   "id": "14060fdc",
   "metadata": {
    "editable": true
   },
   "source": [
    "with $\\hat{w}(0)$ the distribution at $t=0$ and $\\hat{W}$ representing the \n",
    "transition probability matrix. \n",
    "\n",
    "We can always expand $\\hat{w}(0)$ in terms of the right eigenvectors \n",
    "$\\hat{v}$ of $\\hat{W}$ as"
   ]
  },
  {
   "cell_type": "markdown",
   "id": "fc01179c",
   "metadata": {
    "editable": true
   },
   "source": [
    "$$\n",
    "\\hat{w}(0)  = \\sum_i\\alpha_i\\hat{v}_i,\n",
    "$$"
   ]
  },
  {
   "cell_type": "markdown",
   "id": "186b6bd8",
   "metadata": {
    "editable": true
   },
   "source": [
    "resulting in"
   ]
  },
  {
   "cell_type": "markdown",
   "id": "e349400d",
   "metadata": {
    "editable": true
   },
   "source": [
    "$$\n",
    "\\hat{w}(t) = \\hat{W}^t\\hat{w}(0)=\\hat{W}^t\\sum_i\\alpha_i\\hat{v}_i=\n",
    "\\sum_i\\lambda_i^t\\alpha_i\\hat{v}_i,\n",
    "$$"
   ]
  },
  {
   "cell_type": "markdown",
   "id": "602c9d5c",
   "metadata": {
    "editable": true
   },
   "source": [
    "with $\\lambda_i$ the $i^{\\mathrm{th}}$ eigenvalue corresponding to  \n",
    "the eigenvector $\\hat{v}_i$. \n",
    "\n",
    "If we assume that $\\lambda_0$ is the largest eigenvector we see that in the limit $t\\rightarrow \\infty$,\n",
    "$\\hat{w}(t)$ becomes proportional to the corresponding eigenvector \n",
    "$\\hat{v}_0$. This is our steady state or final distribution. \n",
    "\n",
    "Let us recapitulate some of our results about Markov chains and random walks.\n",
    "\n",
    "  * The time development of our PDF $w(t)$, after \n",
    "\n",
    "one time-step from $t=0$ is given by"
   ]
  },
  {
   "cell_type": "markdown",
   "id": "c2a509af",
   "metadata": {
    "editable": true
   },
   "source": [
    "$$\n",
    "w_i(t=\\epsilon) = W(j\\rightarrow i)w_j(t=0).\n",
    "$$"
   ]
  },
  {
   "cell_type": "markdown",
   "id": "b88bf7eb",
   "metadata": {
    "editable": true
   },
   "source": [
    "This equation represents the discretized time-development of an original \n",
    "PDF.  We can rewrite this as a"
   ]
  },
  {
   "cell_type": "markdown",
   "id": "d5d7aa49",
   "metadata": {
    "editable": true
   },
   "source": [
    "$$\n",
    "w_i(t=\\epsilon) = W_{ij}w_j(t=0).\n",
    "$$"
   ]
  },
  {
   "cell_type": "markdown",
   "id": "21784d0e",
   "metadata": {
    "editable": true
   },
   "source": [
    "with the transition matrix $W$ for a random walk given by"
   ]
  },
  {
   "cell_type": "markdown",
   "id": "0b816738",
   "metadata": {
    "editable": true
   },
   "source": [
    "$$\n",
    "W_{ij}(\\epsilon)=W(il-jl,\\epsilon)=\\left\\{\\begin{array}{cc}\\frac{1}{2} & |i-j| = 1\\\\\n",
    "                                             0 & \\mathrm{else} \\end{array} \\right.\n",
    "$$"
   ]
  },
  {
   "cell_type": "markdown",
   "id": "47ee366c",
   "metadata": {
    "editable": true
   },
   "source": [
    "We call $W_{ij}$ for the transition probability and we represent it\n",
    "as a matrix. \n",
    "  * Both  $W$ and $w$ represent probabilities and they have to be normalized, meaning that at each time step we have"
   ]
  },
  {
   "cell_type": "markdown",
   "id": "351691e2",
   "metadata": {
    "editable": true
   },
   "source": [
    "$$\n",
    "\\sum_i w_i(t) = 1,\n",
    "$$"
   ]
  },
  {
   "cell_type": "markdown",
   "id": "47b7aee3",
   "metadata": {
    "editable": true
   },
   "source": [
    "and"
   ]
  },
  {
   "cell_type": "markdown",
   "id": "1ffca5de",
   "metadata": {
    "editable": true
   },
   "source": [
    "$$\n",
    "\\sum_j W(j\\rightarrow i) = 1.\n",
    "$$"
   ]
  },
  {
   "cell_type": "markdown",
   "id": "5efd82c8",
   "metadata": {
    "editable": true
   },
   "source": [
    "Here we have written the previous matrix $W_{ij}=W(j\\rightarrow i)$.\n",
    "\n",
    "The further constraints are\n",
    "$0 \\le W_{ij} \\le 1$  and  $0 \\le w_{j} \\le 1$.\n",
    "  * We can thus write the action of $W$ as"
   ]
  },
  {
   "cell_type": "markdown",
   "id": "53c53891",
   "metadata": {
    "editable": true
   },
   "source": [
    "$$\n",
    "w_i(t+1) = \\sum_jW_{ij}w_j(t),\n",
    "$$"
   ]
  },
  {
   "cell_type": "markdown",
   "id": "ae21bff0",
   "metadata": {
    "editable": true
   },
   "source": [
    "or as vector-matrix relation"
   ]
  },
  {
   "cell_type": "markdown",
   "id": "3d9b42ae",
   "metadata": {
    "editable": true
   },
   "source": [
    "$$\n",
    "\\hat{w}(t+1) = \\hat{W\\hat{w}}(t),\n",
    "$$"
   ]
  },
  {
   "cell_type": "markdown",
   "id": "d5b75943",
   "metadata": {
    "editable": true
   },
   "source": [
    "and if we have that $||\\hat{w}(t+1)-\\hat{w}(t)||\\rightarrow 0$, we say that \n",
    "we have reached the most likely state of the system, the so-called steady state or equilibrium state.\n",
    "\n",
    "Another way of phrasing this is"
   ]
  },
  {
   "cell_type": "markdown",
   "id": "2dc3d747",
   "metadata": {
    "editable": true
   },
   "source": [
    "<!-- Equation labels as ordinary links -->\n",
    "<div id=\"_auto2\"></div>\n",
    "\n",
    "$$\n",
    "\\begin{equation} \n",
    "w(t=\\infty) = Ww(t=\\infty). \n",
    "\\label{_auto2} \\tag{3}\n",
    "\\end{equation}\n",
    "$$"
   ]
  },
  {
   "cell_type": "markdown",
   "id": "e6936821",
   "metadata": {
    "editable": true
   },
   "source": [
    "The question then is how can we model anything under such a severe lack of knowledge? The Metropolis algorithm comes to our rescue here. Since $W(j\\rightarrow i)$ is unknown, we model it as the product of two probabilities, \n",
    "a probability for accepting the proposed move from the state $j$ to the state $j$, and a probability for making the transition to the state $i$ being in the state $j$. We label these probabilities $A(j\\rightarrow i)$ and $T(j\\rightarrow i)$, respectively.  Our total transition probability is then"
   ]
  },
  {
   "cell_type": "markdown",
   "id": "3761b35e",
   "metadata": {
    "editable": true
   },
   "source": [
    "$$\n",
    "W(j\\rightarrow i)=T(j\\rightarrow i)A(j\\rightarrow i).\n",
    "$$"
   ]
  },
  {
   "cell_type": "markdown",
   "id": "1796a86b",
   "metadata": {
    "editable": true
   },
   "source": [
    "The algorithm can then be expressed as\n",
    "\n",
    "  * We make a suggested move to the new state $i$ with some transition or moving probability $T_{j\\rightarrow i}$.\n",
    "\n",
    "  * We accept this move to the new state with an acceptance probability $A_{j \\rightarrow i}$. The new state $i$ is in turn used as our new starting point for the next move.  We reject this proposed moved with a $1-A_{j\\rightarrow i}$ and the original state $j$ is used again as a sample.\n",
    "\n",
    "We wish to derive the required properties of the probabilities $T$ and $A$ such that\n",
    "$w_i^{(t\\rightarrow \\infty)} \\rightarrow w_i$, starting\n",
    "from any distribution, will lead us to the correct distribution.\n",
    "\n",
    "We can now derive the dynamical process towards \n",
    "equilibrium. To obtain this equation we note that after $t$ time steps the probability for being in a state $i$ is related \n",
    "to the probability of being in a state $j$ and performing a transition to the new state together with the probability of actually being in the state $i$ and making a move to any of the possible states $j$ from the previous time step.\n",
    "\n",
    "We can express this as, assuming that $T$ and $A$ are time-independent,"
   ]
  },
  {
   "cell_type": "markdown",
   "id": "d8732731",
   "metadata": {
    "editable": true
   },
   "source": [
    "$$\n",
    "w_i(t+1) = \\sum_j \\left [\n",
    "w_j(t)T_{j\\rightarrow i} A_{j\\rightarrow i} \n",
    "+w_i(t)T_{i\\rightarrow j}\\left ( 1- A_{i\\rightarrow j} \\right)\n",
    "\\right ] \\,.\n",
    "$$"
   ]
  },
  {
   "cell_type": "markdown",
   "id": "108b34a8",
   "metadata": {
    "editable": true
   },
   "source": [
    "All probabilities are normalized, meaning that \n",
    "$\\sum_j T_{i\\rightarrow j} = 1$. Using the latter, we can rewrite the previous equation as"
   ]
  },
  {
   "cell_type": "markdown",
   "id": "cdb2e348",
   "metadata": {
    "editable": true
   },
   "source": [
    "$$\n",
    "w_i(t+1) = w_i(t) +\n",
    " \\sum_j \\left [\n",
    "w_j(t)T_{j\\rightarrow i} A_{j\\rightarrow i} \n",
    "-w_i(t)T_{i\\rightarrow j}A_{i\\rightarrow j}\\right ] \\,,\n",
    "$$"
   ]
  },
  {
   "cell_type": "markdown",
   "id": "4e1372a9",
   "metadata": {
    "editable": true
   },
   "source": [
    "which can be rewritten as"
   ]
  },
  {
   "cell_type": "markdown",
   "id": "e1df01c4",
   "metadata": {
    "editable": true
   },
   "source": [
    "$$\n",
    "w_i(t+1)-w_i(t) =  \\sum_j \\left [w_j(t)T_{j\\rightarrow i} A_{j\\rightarrow i} \n",
    "-w_i(t)T_{i\\rightarrow j}A_{i\\rightarrow j}\\right ] .\n",
    "$$"
   ]
  },
  {
   "cell_type": "markdown",
   "id": "c774924d",
   "metadata": {
    "editable": true
   },
   "source": [
    "The last equation is very similar to the so-called Master equation, which relates the temporal dependence of \n",
    "a PDF $w_i(t)$ to various transition rates. The equation can be derived from the so-called \n",
    "Chapman-Einstein-Enskog-Kolmogorov equation. The equation is given as"
   ]
  },
  {
   "cell_type": "markdown",
   "id": "fc04beb3",
   "metadata": {
    "editable": true
   },
   "source": [
    "<!-- Equation labels as ordinary links -->\n",
    "<div id=\"eq:masterequation\"></div>\n",
    "\n",
    "$$\n",
    "\\begin{equation}\n",
    "\\label{eq:masterequation} \\tag{4}\n",
    "\\frac{d w_i(t)}{dt} = \\sum_j\\left[ W(j\\rightarrow i)w_j-W(i\\rightarrow j)w_i\\right],\n",
    "\\end{equation}\n",
    "$$"
   ]
  },
  {
   "cell_type": "markdown",
   "id": "751a4c2f",
   "metadata": {
    "editable": true
   },
   "source": [
    "which simply states that the rate at which the systems moves from a state $j$\n",
    "to a final state $i$ (the first term on the right-hand side of the last equation) is balanced by the rate at which the system undergoes transitions from the state $i$ to a state $j$ (the second term). If we have reached the so-called steady state, then the temporal development is zero. This  means that in equilibrium we have"
   ]
  },
  {
   "cell_type": "markdown",
   "id": "251a290b",
   "metadata": {
    "editable": true
   },
   "source": [
    "$$\n",
    "\\frac{d w_i(t)}{dt} = 0.\n",
    "$$"
   ]
  },
  {
   "cell_type": "markdown",
   "id": "e9889eda",
   "metadata": {
    "editable": true
   },
   "source": [
    "In the limit $t\\rightarrow \\infty$ we require that the  two distributions $w_i(t+1)=w_i$ and $w_i(t)=w_i$\n",
    "and we have"
   ]
  },
  {
   "cell_type": "markdown",
   "id": "27b54433",
   "metadata": {
    "editable": true
   },
   "source": [
    "$$\n",
    "\\sum_j w_jT_{j\\rightarrow i} A_{j\\rightarrow i}= \\sum_j w_iT_{i\\rightarrow j}A_{i\\rightarrow j},\n",
    "$$"
   ]
  },
  {
   "cell_type": "markdown",
   "id": "d9e9b9d9",
   "metadata": {
    "editable": true
   },
   "source": [
    "which is the condition for balance when the most likely state (or steady state) has been reached.\n",
    "We see also that the right-hand side  can be  rewritten as"
   ]
  },
  {
   "cell_type": "markdown",
   "id": "78a08bf5",
   "metadata": {
    "editable": true
   },
   "source": [
    "$$\n",
    "\\sum_j w_iT_{i\\rightarrow j}A_{i\\rightarrow j}= \\sum_j w_iW_{i\\rightarrow j},\n",
    "$$"
   ]
  },
  {
   "cell_type": "markdown",
   "id": "9131b458",
   "metadata": {
    "editable": true
   },
   "source": [
    "and using the property that $\\sum_j W_{i\\rightarrow j}=1$, we can rewrite our equation\n",
    "as"
   ]
  },
  {
   "cell_type": "markdown",
   "id": "85617583",
   "metadata": {
    "editable": true
   },
   "source": [
    "$$\n",
    "w_i= \\sum_j w_jT_{j\\rightarrow i} A_{j\\rightarrow i}= \\sum_j w_j W_{j\\rightarrow i},\n",
    "$$"
   ]
  },
  {
   "cell_type": "markdown",
   "id": "18294cf0",
   "metadata": {
    "editable": true
   },
   "source": [
    "which is nothing but the standard equation for a Markov chain when the steady state has been reached.\n",
    "\n",
    "However, the condition that the rates should equal each other is in general not sufficient\n",
    "to guarantee that we, after many simulations, generate the correct distribution.\n",
    "We may risk to end up with so-called cyclic solutions. To avoid this\n",
    "we therefore introduce an additional condition, namely that of detailed balance"
   ]
  },
  {
   "cell_type": "markdown",
   "id": "a1310027",
   "metadata": {
    "editable": true
   },
   "source": [
    "$$\n",
    "W(j\\rightarrow i)w_j= W(i\\rightarrow j)w_i.\n",
    "$$"
   ]
  },
  {
   "cell_type": "markdown",
   "id": "634baafc",
   "metadata": {
    "editable": true
   },
   "source": [
    "These equations were derived by Lars Onsager when studying irreversible processes.\n",
    "At equilibrium detailed balance gives thus"
   ]
  },
  {
   "cell_type": "markdown",
   "id": "97ef28e6",
   "metadata": {
    "editable": true
   },
   "source": [
    "$$\n",
    "\\frac{W(j\\rightarrow i)}{W(i\\rightarrow j)}=\\frac{w_i}{w_j}.\n",
    "$$"
   ]
  },
  {
   "cell_type": "markdown",
   "id": "a18ed1e3",
   "metadata": {
    "editable": true
   },
   "source": [
    "Rewriting the last equation in terms of our transition probabilities $T$ and \n",
    "acceptance probobalities $A$ we obtain"
   ]
  },
  {
   "cell_type": "markdown",
   "id": "2110b872",
   "metadata": {
    "editable": true
   },
   "source": [
    "$$\n",
    "w_j(t)T_{j\\rightarrow i}A_{j\\rightarrow i}= w_i(t)T_{i\\rightarrow j}A_{i\\rightarrow j}.\n",
    "$$"
   ]
  },
  {
   "cell_type": "markdown",
   "id": "7d213c12",
   "metadata": {
    "editable": true
   },
   "source": [
    "Since we normally have an expression \n",
    "for the probability distribution functions $w_i$,  we can rewrite the last equation as"
   ]
  },
  {
   "cell_type": "markdown",
   "id": "be47cb0f",
   "metadata": {
    "editable": true
   },
   "source": [
    "$$\n",
    "\\frac{T_{j\\rightarrow i}A_{j\\rightarrow i}}{T_{i\\rightarrow j}A_{i\\rightarrow j}}= \\frac{w_i}{w_j}.\n",
    "$$"
   ]
  },
  {
   "cell_type": "markdown",
   "id": "4b87d687",
   "metadata": {
    "editable": true
   },
   "source": [
    "In statistical physics this condition ensures that it is e.g., the \n",
    "Boltzmann distribution which is generated when equilibrium is reached.\n",
    "\n",
    "We introduce  now the Boltzmann distribution"
   ]
  },
  {
   "cell_type": "markdown",
   "id": "5c987e2a",
   "metadata": {
    "editable": true
   },
   "source": [
    "$$\n",
    "w_i= \\frac{\\exp{(-\\beta(E_i))}}{Z},\n",
    "$$"
   ]
  },
  {
   "cell_type": "markdown",
   "id": "dcdfef9d",
   "metadata": {
    "editable": true
   },
   "source": [
    "which states that the probability of finding the system in a state $i$ with energy $E_i$ \n",
    "at an inverse temperature $\\beta = 1/k_BT$ is $w_i\\propto \\exp{(-\\beta(E_i))}$.\n",
    "The denominator $Z$ is a normalization constant which ensures that the sum of all\n",
    "probabilities is normalized to one. It is defined as the sum of probabilities over all microstates\n",
    "$j$ of the system"
   ]
  },
  {
   "cell_type": "markdown",
   "id": "062f08b1",
   "metadata": {
    "editable": true
   },
   "source": [
    "$$\n",
    "Z=\\sum_j \\exp{(-\\beta(E_i))}.\n",
    "$$"
   ]
  },
  {
   "cell_type": "markdown",
   "id": "eaae8232",
   "metadata": {
    "editable": true
   },
   "source": [
    "From the partition function we can in principle generate all interesting quantities\n",
    "for a given system in equilibrium with its surroundings at a temperature $T$.\n",
    "\n",
    "With the probability distribution given by the Boltzmann distribution we are now in a position\n",
    "where we can generate expectation values for a given variable $A$ through the\n",
    "definition"
   ]
  },
  {
   "cell_type": "markdown",
   "id": "ced1a5d0",
   "metadata": {
    "editable": true
   },
   "source": [
    "$$\n",
    "\\langle A \\rangle = \\sum_jA_jw_j=\n",
    "    \\frac{\\sum_jA_j\\exp{(-\\beta(E_j)}}{Z}.\n",
    "$$"
   ]
  },
  {
   "cell_type": "markdown",
   "id": "37512c49",
   "metadata": {
    "editable": true
   },
   "source": [
    "In general, most systems have an infinity of microstates making thereby the computation\n",
    "of $Z$ practically impossible and \n",
    "a brute force Monte Carlo calculation over a given number of randomly selected microstates\n",
    "may therefore not yield those microstates which are important \n",
    "at equilibrium. \n",
    "To select the most important contributions we need to  \n",
    "use the condition for detailed balance. Since this is just given by the ratios of probabilities,\n",
    "we never need to evaluate the partition function $Z$.\n",
    "\n",
    "For the \n",
    "Boltzmann distribution, detailed balance results in"
   ]
  },
  {
   "cell_type": "markdown",
   "id": "14786c81",
   "metadata": {
    "editable": true
   },
   "source": [
    "$$\n",
    "\\frac{w_i}{w_j}= \\exp{(-\\beta(E_i-E_j))}.\n",
    "$$"
   ]
  },
  {
   "cell_type": "markdown",
   "id": "51e2dee9",
   "metadata": {
    "editable": true
   },
   "source": [
    "Let us now specialize to a system whose energy is defined by the orientation of single spins.\n",
    "Consider the state $i$, with given energy $E_i$ represented by the following $N$ spins"
   ]
  },
  {
   "cell_type": "markdown",
   "id": "67a38120",
   "metadata": {
    "editable": true
   },
   "source": [
    "$$\n",
    "\\begin{array}{cccccccccc}\n",
    "\\uparrow&\\uparrow&\\uparrow&\\dots&\\uparrow&\\downarrow&\\uparrow&\\dots&\\uparrow&\\downarrow\\\\\n",
    "1&2&3&\\dots& k-1&k&k+1&\\dots&N-1&N\\end{array}\n",
    "$$"
   ]
  },
  {
   "cell_type": "markdown",
   "id": "97feef2b",
   "metadata": {
    "editable": true
   },
   "source": [
    "We are interested in the transition with one single  spinflip to a new state $j$ with energy $E_j$"
   ]
  },
  {
   "cell_type": "markdown",
   "id": "9aaebfc0",
   "metadata": {
    "editable": true
   },
   "source": [
    "$$\n",
    "\\begin{array}{cccccccccc}\n",
    "\\uparrow&\\uparrow&\\uparrow&\\dots&\\uparrow&\\uparrow&\\uparrow&\\dots&\\uparrow&\\downarrow\\\\\n",
    "1&2&3&\\dots& k-1&k&k+1&\\dots&N-1&N\\end{array}\n",
    "$$"
   ]
  },
  {
   "cell_type": "markdown",
   "id": "147b64dc",
   "metadata": {
    "editable": true
   },
   "source": [
    "This change from one microstate $i$ (or spin configuration)  to another microstate $j$ is the\n",
    "configuration space analogue to a random walk on a lattice. Instead of jumping from \n",
    "one place to another in space, we 'jump' from one microstate to another.\n",
    "\n",
    "However, the selection of states has to generate a final distribution which is the\n",
    "Boltzmann distribution. This is again the same we saw for a random walker, for the discrete case we had \n",
    "always a binomial distribution, whereas for the continuous case we had a normal distribution.\n",
    "The way we sample configurations should result, when equilibrium is established, in the \n",
    "Boltzmann distribution. Else, our algorithm for selecting microstates is wrong.\n",
    "\n",
    "As stated above, we do in general not know the closed-form expression of the transition rate and we are free to model it as\n",
    "     $W(i\\rightarrow j)=T(i\\rightarrow j)A(i\\rightarrow j)$.\n",
    "Our ratio between probabilities gives us"
   ]
  },
  {
   "cell_type": "markdown",
   "id": "0047503f",
   "metadata": {
    "editable": true
   },
   "source": [
    "$$\n",
    "\\frac{A_{j\\rightarrow i}}{A_{i\\rightarrow j}}= \\frac{w_iT_{i\\rightarrow j}}{w_jT_{j\\rightarrow i}}.\n",
    "$$"
   ]
  },
  {
   "cell_type": "markdown",
   "id": "e0b13d82",
   "metadata": {
    "editable": true
   },
   "source": [
    "The simplest form of the Metropolis algorithm (sometimes called for brute force Metropolis) assumes that \n",
    "the transition probability $T(i\\rightarrow j)$ is symmetric, implying that $T(i\\rightarrow j)=T(j\\rightarrow i)$.\n",
    "\n",
    "We obtain then (using the Boltzmann distribution)"
   ]
  },
  {
   "cell_type": "markdown",
   "id": "0487f69e",
   "metadata": {
    "editable": true
   },
   "source": [
    "$$\n",
    "\\frac{A(j\\rightarrow i)}{A(i\\rightarrow j)}= \\exp{(-\\beta(E_i-E_j))} .\n",
    "$$"
   ]
  },
  {
   "cell_type": "markdown",
   "id": "f5c37940",
   "metadata": {
    "editable": true
   },
   "source": [
    "We are in this case interested in a new state $E_j$ whose energy is lower than \n",
    "$E_i$, viz., $\\Delta E = E_j-E_i \\le 0$. A simple test would then be to accept only those\n",
    "microstates which lower the energy.  \n",
    "Suppose we have ten microstates with energy $E_0 \\le E_1 \\le E_2 \\le E_3 \\le \\dots \\le E_9$.\n",
    "Our desired energy is $E_0$.\n",
    "\n",
    "At a given temperature $T$ we start our simulation by randomly choosing state\n",
    "$E_9$. Flipping spins we may then find a path from $E_9\\rightarrow E_8 \\rightarrow E_7 \\dots \\rightarrow E_1 \\rightarrow E_0$. \n",
    "This would however lead to biased statistical averages since it would violate the ergodic hypothesis discussed\n",
    "in the previous section. This principle states  that \n",
    "it should be possible for any Markov process to reach every possible state of the system\n",
    "from any starting point if the simulations is carried out for a long enough time.\n",
    "\n",
    "Any state in a Boltzmann distribution has a probability different from zero and if such \n",
    "a state cannot be reached from a given starting point, then the system is not ergodic.\n",
    "This means that another possible path to $E_0$ could be \n",
    "$E_9\\rightarrow E_7 \\rightarrow E_8 \\dots \\rightarrow E_9 \\rightarrow E_5 \\rightarrow E_0$ and so forth.\n",
    "Even though such a path could have a negligible probability it is still a possibility, and if\n",
    "we simulate long enough it should be included in our computation of an expectation value.\n",
    "\n",
    "Thus, we require that our algorithm should satisfy the principle of detailed balance and be ergodic. \n",
    "The problem with our ratio"
   ]
  },
  {
   "cell_type": "markdown",
   "id": "f8888c2c",
   "metadata": {
    "editable": true
   },
   "source": [
    "$$\n",
    "\\frac{A(j\\rightarrow i)}{A(i\\rightarrow j)}= \\exp{(-\\beta(E_i-E_j))},\n",
    "$$"
   ]
  },
  {
   "cell_type": "markdown",
   "id": "782f6fda",
   "metadata": {
    "editable": true
   },
   "source": [
    "is that we do not know the acceptance probability. This equation only specifies the ratio of pairs of probabilities. Normally we want an algorithm which is as efficient as possible and maximizes the number of accepted moves. \n",
    "Moreover, we know that the acceptance probability has $0$ as its smallest value and $1$ as its largest. \n",
    "If we assume that the largest possible acceptance probability is $1$,  we adjust thereafter the other acceptance probability\n",
    "to this constraint. \n",
    "\n",
    "To understand this better, assume that we have two energies, $E_i$ and $E_j$, with $E_i < E_j$. This means that the largest acceptance value must be \n",
    "$A(j\\rightarrow i)$ since we move to a state with lower energy.  It follows from also from the fact that the probability $w_i$ is larger than $w_j$. \n",
    "The trick then is to fix this value to $A(j\\rightarrow i)=1$. It means that \n",
    "the other acceptance probability has to be"
   ]
  },
  {
   "cell_type": "markdown",
   "id": "5d123d9f",
   "metadata": {
    "editable": true
   },
   "source": [
    "$$\n",
    "A(i\\rightarrow j)= \\exp{(-\\beta(E_j-E_i))}.\n",
    "$$"
   ]
  },
  {
   "cell_type": "markdown",
   "id": "5169ce46",
   "metadata": {
    "editable": true
   },
   "source": [
    "One possible way to encode this equation reads"
   ]
  },
  {
   "cell_type": "markdown",
   "id": "6917dd3a",
   "metadata": {
    "editable": true
   },
   "source": [
    "$$\n",
    "A(j\\rightarrow i)=\\left\\{\\begin{array}{cc}\n",
    "\\exp{(-\\beta(E_i-E_j))} & E_i-E_j > 0 \\\\ 1 & else \\end{array} \\right.,\n",
    "$$"
   ]
  },
  {
   "cell_type": "markdown",
   "id": "dd1f2c22",
   "metadata": {
    "editable": true
   },
   "source": [
    "implying that if we move to a state with a lower energy, we always accept\n",
    "this move with acceptance probability $A(j\\rightarrow i)=1$. If the energy is higher, we need to check\n",
    "this acceptance probability with the ratio between the probabilities  from our PDF.  From a practical point of view, \n",
    "the above ratio is compared with a random number.\n",
    "If the ratio is smaller than a given random number we accept the move to a higher energy, else we stay in the same state. \n",
    "\n",
    "Nothing hinders us obviously in choosing another acceptance ratio, like a weighting  of the two energies via"
   ]
  },
  {
   "cell_type": "markdown",
   "id": "ee9b04e1",
   "metadata": {
    "editable": true
   },
   "source": [
    "$$\n",
    "A(j\\rightarrow i)=\\exp{(-\\frac{1}{2}\\beta(E_i-E_j))}.\n",
    "$$"
   ]
  },
  {
   "cell_type": "markdown",
   "id": "a7f6a233",
   "metadata": {
    "editable": true
   },
   "source": [
    "However, it is easy to see that such an acceptance ratio would result in \n",
    "fewer accepted moves.\n",
    "\n",
    "The Monte Carlo approach, combined with the theory for Markov chains can be summarized as follows:\n",
    "A Markov chain Monte Carlo method for the simulation of a distribution $w$ is any method producing an \n",
    "ergodic Markov chain of events $x$ whose stationary distribution is $w$. The Metropolis algorithm can be phrased as\n",
    "\n",
    "  * Generate an initial value $x^{(i)}$.\n",
    "\n",
    "  * Generate a trial value $y_t$ with probability $T(y_t|x^{(i)})$. The latter quantity represents the probability of generating $y_t$ given $x^{(i)}$.\n",
    "\n",
    "  * Take a new value"
   ]
  },
  {
   "cell_type": "markdown",
   "id": "d429c6e7",
   "metadata": {
    "editable": true
   },
   "source": [
    "$$\n",
    "x^{(i+1)}= \\left\\{\\begin{array}{cc} y_t & \\mathrm{with\\hspace{0.1cm}probability} = A(x^{(i)}\\rightarrow y_t) \\\\                                           x^{(i)}    & \\mathrm{with \\hspace{0.1cm}probability} = 1-A(x^{(i)}\\rightarrow y_t)\\end{array}\\right .\n",
    "$$"
   ]
  },
  {
   "cell_type": "markdown",
   "id": "d9f956df",
   "metadata": {
    "editable": true
   },
   "source": [
    "* We have defined the transition (acceptance) probability as"
   ]
  },
  {
   "cell_type": "markdown",
   "id": "62a7e5de",
   "metadata": {
    "editable": true
   },
   "source": [
    "$$\n",
    "A(x\\rightarrow y)= \\mathrm{min}\\left\\{\\frac{w(y)T(x|y)}{w(x)T(y|x)},1\\right\\}.\n",
    "$$"
   ]
  },
  {
   "cell_type": "markdown",
   "id": "a6c57fd8",
   "metadata": {
    "editable": true
   },
   "source": [
    "## Boltzmann Machines\n",
    "\n",
    "Why use a generative model rather than the more well known discriminative deep neural networks (DNN)? \n",
    "\n",
    "* Discriminitave methods have several limitations: They are mainly supervised learning methods, thus requiring labeled data. And there are tasks they cannot accomplish, like drawing new examples from an unknown probability distribution.\n",
    "\n",
    "* A generative model can learn to represent and sample from a probability distribution. The core idea is to learn a parametric model of the probability distribution from which the training data was drawn. As an example\n",
    "\n",
    "a. A model for images could learn to draw new examples of cats and dogs, given a training dataset of images of cats and dogs.\n",
    "\n",
    "b. Generate a sample of an ordered or disordered Ising model phase, having been given samples of such phases.\n",
    "\n",
    "c. Model the trial function for Monte Carlo calculations\n",
    "\n",
    "4. Both use gradient-descent based learning procedures for minimizing cost functions\n",
    "\n",
    "5. Energy based models don't use backpropagation and automatic differentiation for computing gradients, instead turning to Markov Chain Monte Carlo methods.\n",
    "\n",
    "6. DNNs often have several hidden layers. A restricted Boltzmann machine has only one hidden layer, however several RBMs can be stacked to make up Deep Belief Networks, of which they constitute the building blocks.\n",
    "\n",
    "History: The RBM was developed by amongst others Geoffrey Hinton, called by some the \"Godfather of Deep Learning\", working with the University of Toronto and Google.\n",
    "\n",
    "A BM is what we would call an undirected probabilistic graphical model\n",
    "with stochastic continuous or discrete units.\n",
    "\n",
    "It is interpreted as a stochastic recurrent neural network where the\n",
    "state of each unit(neurons/nodes) depends on the units it is connected\n",
    "to. The weights in the network represent thus the strength of the\n",
    "interaction between various units/nodes.\n",
    "\n",
    "It turns into a Hopfield network if we choose deterministic rather\n",
    "than stochastic units. In contrast to a Hopfield network, a BM is a\n",
    "so-called generative model. It allows us to generate new samples from\n",
    "the learned distribution.\n",
    "\n",
    "A standard BM network is divided into a set of observable and visible units $\\hat{x}$ and a set of unknown hidden units/nodes $\\hat{h}$.\n",
    "\n",
    "Additionally there can be bias nodes for the hidden and visible layers. These biases are normally set to $1$.\n",
    "\n",
    "BMs are stackable, meaning they cwe can train a BM which serves as input to another BM. We can construct deep networks for learning complex PDFs. The layers can be trained one after another, a feature which makes them popular in deep learning\n",
    "\n",
    "However, they are often hard to train. This leads to the introduction of so-called restricted BMs, or RBMS.\n",
    "Here we take away all lateral connections between nodes in the visible layer as well as connections between nodes in the hidden layer. The network is illustrated in the figure below.\n",
    "\n",
    "<!-- FIGURE: [figures/RBM.pdf, width=800 frac=1.0] -->"
   ]
  },
  {
   "cell_type": "markdown",
   "id": "2e394e70",
   "metadata": {
    "editable": true
   },
   "source": [
    "## The network\n",
    "\n",
    "**The network layers**:\n",
    "1. A function $\\mathbf{x}$ that represents the visible layer, a vector of $M$ elements (nodes). This layer represents both what the RBM might be given as training input, and what we want it to be able to reconstruct. This might for example be the pixels of an image, the spin values of the Ising model, or coefficients representing speech.\n",
    "\n",
    "2. The function $\\mathbf{h}$ represents the hidden, or latent, layer. A vector of $N$ elements (nodes). Also called \"feature detectors\".\n",
    "\n",
    "The goal of the hidden layer is to increase the model's expressive power. We encode complex interactions between visible variables by introducing additional, hidden variables that interact with visible degrees of freedom in a simple manner, yet still reproduce the complex correlations between visible degrees in the data once marginalized over (integrated out).\n",
    "\n",
    "Examples of this trick being employed in physics: \n",
    "1. The Hubbard-Stratonovich transformation\n",
    "\n",
    "2. The introduction of ghost fields in gauge theory\n",
    "\n",
    "3. Shadow wave functions in Quantum Monte Carlo simulations\n",
    "\n",
    "**The network parameters, to be optimized/learned**:\n",
    "1. $\\mathbf{a}$ represents the visible bias, a vector of same length as $\\mathbf{x}$.\n",
    "\n",
    "2. $\\mathbf{b}$ represents the hidden bias, a vector of same lenght as $\\mathbf{h}$.\n",
    "\n",
    "3. $W$ represents the interaction weights, a matrix of size $M\\times N$."
   ]
  },
  {
   "cell_type": "markdown",
   "id": "94f45864",
   "metadata": {
    "editable": true
   },
   "source": [
    "### Joint distribution\n",
    "\n",
    "T\n",
    "he restricted Boltzmann machine is described by a Bolztmann distribution"
   ]
  },
  {
   "cell_type": "markdown",
   "id": "5cac7cc5",
   "metadata": {
    "editable": true
   },
   "source": [
    "<!-- Equation labels as ordinary links -->\n",
    "<div id=\"_auto3\"></div>\n",
    "\n",
    "$$\n",
    "\\begin{equation}\n",
    "\tP_{rbm}(\\mathbf{x},\\mathbf{h}) = \\frac{1}{Z} e^{-\\frac{1}{T_0}E(\\mathbf{x},\\mathbf{h})},\n",
    "\\label{_auto3} \\tag{5}\n",
    "\\end{equation}\n",
    "$$"
   ]
  },
  {
   "cell_type": "markdown",
   "id": "4cdc85ff",
   "metadata": {
    "editable": true
   },
   "source": [
    "where $Z$ is the normalization constant or partition function, defined as"
   ]
  },
  {
   "cell_type": "markdown",
   "id": "50843d45",
   "metadata": {
    "editable": true
   },
   "source": [
    "<!-- Equation labels as ordinary links -->\n",
    "<div id=\"_auto4\"></div>\n",
    "\n",
    "$$\n",
    "\\begin{equation}\n",
    "\tZ = \\int \\int e^{-\\frac{1}{T_0}E(\\mathbf{x},\\mathbf{h})} d\\mathbf{x} d\\mathbf{h}.\n",
    "\\label{_auto4} \\tag{6}\n",
    "\\end{equation}\n",
    "$$"
   ]
  },
  {
   "cell_type": "markdown",
   "id": "0e7e2784",
   "metadata": {
    "editable": true
   },
   "source": [
    "It is common to ignore $T_0$ by setting it to one."
   ]
  },
  {
   "cell_type": "markdown",
   "id": "7d1740b8",
   "metadata": {
    "editable": true
   },
   "source": [
    "### Network Elements, the energy function\n",
    "\n",
    "The function $E(\\mathbf{x},\\mathbf{h})$ gives the **energy** of a\n",
    "configuration (pair of vectors) $(\\mathbf{x}, \\mathbf{h})$. The lower\n",
    "the energy of a configuration, the higher the probability of it. This\n",
    "function also depends on the parameters $\\mathbf{a}$, $\\mathbf{b}$ and\n",
    "$W$. Thus, when we adjust them during the learning procedure, we are\n",
    "adjusting the energy function to best fit our problem.\n",
    "\n",
    "An expression for the energy function is"
   ]
  },
  {
   "cell_type": "markdown",
   "id": "e9bf799b",
   "metadata": {
    "editable": true
   },
   "source": [
    "$$\n",
    "E(\\hat{x},\\hat{h}) = -\\sum_{ia}^{NA}b_i^a \\alpha_i^a(x_i)-\\sum_{jd}^{MD}c_j^d \\beta_j^d(h_j)-\\sum_{ijad}^{NAMD}b_i^a \\alpha_i^a(x_i)c_j^d \\beta_j^d(h_j)w_{ij}^{ad}.\n",
    "$$"
   ]
  },
  {
   "cell_type": "markdown",
   "id": "2fbc5380",
   "metadata": {
    "editable": true
   },
   "source": [
    "Here $\\beta_j^d(h_j)$ and $\\alpha_i^a(x_j)$ are so-called transfer functions that map a given input value to a desired feature value. The labels $a$ and $d$ denote that there can be multiple transfer functions per variable. The first sum depends only on the visible units. The second on the hidden ones. **Note** that there is no connection between nodes in a layer.\n",
    "\n",
    "The quantities $b$ and $c$ can be interpreted as the visible and hidden biases, respectively.\n",
    "\n",
    "The connection between the nodes in the two layers is given by the weights $w_{ij}$."
   ]
  },
  {
   "cell_type": "markdown",
   "id": "e5492486",
   "metadata": {
    "editable": true
   },
   "source": [
    "### Defining different types of RBMs\n",
    "\n",
    "There are different variants of RBMs, and the differences lie in the types of visible and hidden units we choose as well as in the implementation of the energy function $E(\\mathbf{x},\\mathbf{h})$. \n",
    "\n",
    "**Binary-Binary RBM:**\n",
    "\n",
    "RBMs were first developed using binary units in both the visible and hidden layer. The corresponding energy function is defined as follows:"
   ]
  },
  {
   "cell_type": "markdown",
   "id": "f2d1707d",
   "metadata": {
    "editable": true
   },
   "source": [
    "<!-- Equation labels as ordinary links -->\n",
    "<div id=\"_auto5\"></div>\n",
    "\n",
    "$$\n",
    "\\begin{equation}\n",
    "\tE(\\mathbf{x}, \\mathbf{h}) = - \\sum_i^M x_i a_i- \\sum_j^N b_j h_j - \\sum_{i,j}^{M,N} x_i w_{ij} h_j,\n",
    "\\label{_auto5} \\tag{7}\n",
    "\\end{equation}\n",
    "$$"
   ]
  },
  {
   "cell_type": "markdown",
   "id": "f8ee99dc",
   "metadata": {
    "editable": true
   },
   "source": [
    "where the binary values taken on by the nodes are most commonly 0 and 1.\n",
    "\n",
    "**Gaussian-Binary RBM:**\n",
    "\n",
    "Another varient is the RBM where the visible units are Gaussian while the hidden units remain binary:"
   ]
  },
  {
   "cell_type": "markdown",
   "id": "9cf4b699",
   "metadata": {
    "editable": true
   },
   "source": [
    "<!-- Equation labels as ordinary links -->\n",
    "<div id=\"_auto6\"></div>\n",
    "\n",
    "$$\n",
    "\\begin{equation}\n",
    "\tE(\\mathbf{x}, \\mathbf{h}) = \\sum_i^M \\frac{(x_i - a_i)^2}{2\\sigma_i^2} - \\sum_j^N b_j h_j - \\sum_{i,j}^{M,N} \\frac{x_i w_{ij} h_j}{\\sigma_i^2}. \n",
    "\\label{_auto6} \\tag{8}\n",
    "\\end{equation}\n",
    "$$"
   ]
  },
  {
   "cell_type": "markdown",
   "id": "6df7a982",
   "metadata": {
    "editable": true
   },
   "source": [
    "1. RBMs are Useful when we model continuous data (i.e., we wish $\\mathbf{x}$ to be continuous)\n",
    "\n",
    "2. Requires a smaller learning rate, since there's no upper bound to the value a component might take in the reconstruction\n",
    "\n",
    "Other types of units include:\n",
    "1. Softmax and multinomial units\n",
    "\n",
    "2. Gaussian visible and hidden units\n",
    "\n",
    "3. Binomial units\n",
    "\n",
    "4. Rectified linear units"
   ]
  },
  {
   "cell_type": "markdown",
   "id": "a4170de9",
   "metadata": {
    "editable": true
   },
   "source": [
    "### Cost function\n",
    "\n",
    "When working with a training dataset, the most common training approach is maximizing the log-likelihood of the training data. The log likelihood characterizes the log-probability of generating the observed data using our generative model. Using this method our cost function is chosen as the negative log-likelihood. The learning then consists of trying to find parameters that maximize the probability of the dataset, and is known as Maximum Likelihood Estimation (MLE).\n",
    "Denoting the parameters as $\\boldsymbol{\\theta} = a_1,...,a_M,b_1,...,b_N,w_{11},...,w_{MN}$, the log-likelihood is given by"
   ]
  },
  {
   "cell_type": "markdown",
   "id": "97a76230",
   "metadata": {
    "editable": true
   },
   "source": [
    "<!-- Equation labels as ordinary links -->\n",
    "<div id=\"_auto7\"></div>\n",
    "\n",
    "$$\n",
    "\\begin{equation}\n",
    "\t\\mathcal{L}(\\{ \\theta_i \\}) = \\langle \\text{log} P_\\theta(\\boldsymbol{x}) \\rangle_{data} \n",
    "\\label{_auto7} \\tag{9}\n",
    "\\end{equation}\n",
    "$$"
   ]
  },
  {
   "cell_type": "markdown",
   "id": "b5effb84",
   "metadata": {
    "editable": true
   },
   "source": [
    "<!-- Equation labels as ordinary links -->\n",
    "<div id=\"_auto8\"></div>\n",
    "\n",
    "$$\n",
    "\\begin{equation} \n",
    "\t= - \\langle E(\\boldsymbol{x}; \\{ \\theta_i\\}) \\rangle_{data} - \\text{log} Z(\\{ \\theta_i\\}),\n",
    "\\label{_auto8} \\tag{10}\n",
    "\\end{equation}\n",
    "$$"
   ]
  },
  {
   "cell_type": "markdown",
   "id": "953c91a0",
   "metadata": {
    "editable": true
   },
   "source": [
    "where we used that the normalization constant does not depend on the data, $\\langle \\text{log} Z(\\{ \\theta_i\\}) \\rangle = \\text{log} Z(\\{ \\theta_i\\})$\n",
    "Our cost function is the negative log-likelihood, $\\mathcal{C}(\\{ \\theta_i \\}) = - \\mathcal{L}(\\{ \\theta_i \\})$"
   ]
  },
  {
   "cell_type": "markdown",
   "id": "690963b4",
   "metadata": {
    "editable": true
   },
   "source": [
    "### Optimization / Training\n",
    "\n",
    "The training procedure of choice often is Stochastic Gradient Descent (SGD). It consists of a series of iterations where we update the parameters according to the equation"
   ]
  },
  {
   "cell_type": "markdown",
   "id": "c9b75c19",
   "metadata": {
    "editable": true
   },
   "source": [
    "<!-- Equation labels as ordinary links -->\n",
    "<div id=\"_auto9\"></div>\n",
    "\n",
    "$$\n",
    "\\begin{equation}\n",
    "\t\\boldsymbol{\\theta}_{k+1} = \\boldsymbol{\\theta}_k - \\eta \\nabla \\mathcal{C} (\\boldsymbol{\\theta}_k)\n",
    "\\label{_auto9} \\tag{11}\n",
    "\\end{equation}\n",
    "$$"
   ]
  },
  {
   "cell_type": "markdown",
   "id": "610e1946",
   "metadata": {
    "editable": true
   },
   "source": [
    "at each $k$-th iteration. There are a range of variants of the algorithm which aim at making the learning rate $\\eta$ more adaptive so the method might be more efficient while remaining stable.\n",
    "\n",
    "We now need the gradient of the cost function in order to minimize it. We find that"
   ]
  },
  {
   "cell_type": "markdown",
   "id": "ca7d3707",
   "metadata": {
    "editable": true
   },
   "source": [
    "<!-- Equation labels as ordinary links -->\n",
    "<div id=\"_auto10\"></div>\n",
    "\n",
    "$$\n",
    "\\begin{equation}\n",
    "\t\\frac{\\partial \\mathcal{C}(\\{ \\theta_i\\})}{\\partial \\theta_i}\n",
    "\t= \\langle \\frac{\\partial E(\\boldsymbol{x}; \\theta_i)}{\\partial \\theta_i} \\rangle_{data}\n",
    "\t+ \\frac{\\partial \\text{log} Z(\\{ \\theta_i\\})}{\\partial \\theta_i} \n",
    "\\label{_auto10} \\tag{12}\n",
    "\\end{equation}\n",
    "$$"
   ]
  },
  {
   "cell_type": "markdown",
   "id": "145b719e",
   "metadata": {
    "editable": true
   },
   "source": [
    "<!-- Equation labels as ordinary links -->\n",
    "<div id=\"_auto11\"></div>\n",
    "\n",
    "$$\n",
    "\\begin{equation} \n",
    "\t= \\langle O_i(\\boldsymbol{x}) \\rangle_{data} - \\langle O_i(\\boldsymbol{x}) \\rangle_{model},\n",
    "\\label{_auto11} \\tag{13}\n",
    "\\end{equation}\n",
    "$$"
   ]
  },
  {
   "cell_type": "markdown",
   "id": "12459161",
   "metadata": {
    "editable": true
   },
   "source": [
    "where in order to simplify notation we defined the \"operator\""
   ]
  },
  {
   "cell_type": "markdown",
   "id": "dc9fb287",
   "metadata": {
    "editable": true
   },
   "source": [
    "<!-- Equation labels as ordinary links -->\n",
    "<div id=\"_auto12\"></div>\n",
    "\n",
    "$$\n",
    "\\begin{equation}\n",
    "\tO_i(\\boldsymbol{x}) = \\frac{\\partial E(\\boldsymbol{x}; \\theta_i)}{\\partial \\theta_i}, \n",
    "\\label{_auto12} \\tag{14}\n",
    "\\end{equation}\n",
    "$$"
   ]
  },
  {
   "cell_type": "markdown",
   "id": "da6448ea",
   "metadata": {
    "editable": true
   },
   "source": [
    "and used the statistical mechanics relationship between expectation values and the log-partition function:"
   ]
  },
  {
   "cell_type": "markdown",
   "id": "87c46cca",
   "metadata": {
    "editable": true
   },
   "source": [
    "<!-- Equation labels as ordinary links -->\n",
    "<div id=\"_auto13\"></div>\n",
    "\n",
    "$$\n",
    "\\begin{equation}\n",
    "\t\\langle O_i(\\boldsymbol{x}) \\rangle_{model} = \\text{Tr} P_\\theta(\\boldsymbol{x})O_i(\\boldsymbol{x}) = - \\frac{\\partial \\text{log} Z(\\{ \\theta_i\\})}{\\partial \\theta_i}.\n",
    "\\label{_auto13} \\tag{15}\n",
    "\\end{equation}\n",
    "$$"
   ]
  },
  {
   "cell_type": "markdown",
   "id": "2436962c",
   "metadata": {
    "editable": true
   },
   "source": [
    "The data-dependent term in the gradient is known as the positive phase\n",
    "of the gradient, while the model-dependent term is known as the\n",
    "negative phase of the gradient. The aim of the training is to lower\n",
    "the energy of configurations that are near observed data points\n",
    "(increasing their probability), and raising the energy of\n",
    "configurations that are far from observed data points (decreasing\n",
    "their probability).\n",
    "\n",
    "The gradient of the negative log-likelihood cost function of a Binary-Binary RBM is then"
   ]
  },
  {
   "cell_type": "markdown",
   "id": "45c55aca",
   "metadata": {
    "editable": true
   },
   "source": [
    "<!-- Equation labels as ordinary links -->\n",
    "<div id=\"_auto14\"></div>\n",
    "\n",
    "$$\n",
    "\\begin{equation}\n",
    "\t\\frac{\\partial \\mathcal{C} (w_{ij}, a_i, b_j)}{\\partial w_{ij}} = \\langle x_i h_j \\rangle_{data} - \\langle x_i h_j \\rangle_{model} \n",
    "\\label{_auto14} \\tag{16}\n",
    "\\end{equation}\n",
    "$$"
   ]
  },
  {
   "cell_type": "markdown",
   "id": "0d59e91d",
   "metadata": {
    "editable": true
   },
   "source": [
    "<!-- Equation labels as ordinary links -->\n",
    "<div id=\"_auto15\"></div>\n",
    "\n",
    "$$\n",
    "\\begin{equation} \n",
    "\t\\frac{\\partial \\mathcal{C} (w_{ij}, a_i, b_j)}{\\partial a_{ij}} = \\langle x_i \\rangle_{data} - \\langle x_i \\rangle_{model} \n",
    "\\label{_auto15} \\tag{17}\n",
    "\\end{equation}\n",
    "$$"
   ]
  },
  {
   "cell_type": "markdown",
   "id": "35366058",
   "metadata": {
    "editable": true
   },
   "source": [
    "<!-- Equation labels as ordinary links -->\n",
    "<div id=\"_auto16\"></div>\n",
    "\n",
    "$$\n",
    "\\begin{equation} \n",
    "\t\\frac{\\partial \\mathcal{C} (w_{ij}, a_i, b_j)}{\\partial b_{ij}} = \\langle h_i \\rangle_{data} - \\langle h_i \\rangle_{model}. \n",
    "\\label{_auto16} \\tag{18}\n",
    "\\end{equation}\n",
    "$$"
   ]
  },
  {
   "cell_type": "markdown",
   "id": "c1accbbc",
   "metadata": {
    "editable": true
   },
   "source": [
    "<!-- Equation labels as ordinary links -->\n",
    "<div id=\"_auto17\"></div>\n",
    "\n",
    "$$\n",
    "\\begin{equation} \n",
    "\\label{_auto17} \\tag{19}\n",
    "\\end{equation}\n",
    "$$"
   ]
  },
  {
   "cell_type": "markdown",
   "id": "af01d964",
   "metadata": {
    "editable": true
   },
   "source": [
    "To get the expectation values with respect to the *data*, we set the visible units to each of the observed samples in the training data, then update the hidden units according to the conditional probability found before. We then average over all samples in the training data to calculate expectation values with respect to the data."
   ]
  },
  {
   "cell_type": "markdown",
   "id": "0c1829b8",
   "metadata": {
    "editable": true
   },
   "source": [
    "### Kullback-Leibler relative entropy\n",
    "\n",
    "When the goal of the training is to approximate a probability\n",
    "distribution, as it is in generative modeling, another relevant\n",
    "measure is the **Kullback-Leibler divergence**, also known as the\n",
    "relative entropy or Shannon entropy. It is a non-symmetric measure of the\n",
    "dissimilarity between two probability density functions $p$ and\n",
    "$q$. If $p$ is the unkown probability which we approximate with $q$,\n",
    "we can measure the difference by"
   ]
  },
  {
   "cell_type": "markdown",
   "id": "7023103a",
   "metadata": {
    "editable": true
   },
   "source": [
    "<!-- Equation labels as ordinary links -->\n",
    "<div id=\"_auto18\"></div>\n",
    "\n",
    "$$\n",
    "\\begin{equation}\n",
    "\t\\text{KL}(p||q) = \\int_{-\\infty}^{\\infty} p (\\boldsymbol{x}) \\log \\frac{p(\\boldsymbol{x})}{q(\\boldsymbol{x})}  d\\boldsymbol{x}.\n",
    "\\label{_auto18} \\tag{20}\n",
    "\\end{equation}\n",
    "$$"
   ]
  },
  {
   "cell_type": "markdown",
   "id": "a72986eb",
   "metadata": {
    "editable": true
   },
   "source": [
    "Thus, the Kullback-Leibler divergence between the distribution of the\n",
    "training data $f(\\boldsymbol{x})$ and the model distribution $p(\\boldsymbol{x}|\n",
    "\\boldsymbol{\\theta})$ is"
   ]
  },
  {
   "cell_type": "markdown",
   "id": "cac4ca4b",
   "metadata": {
    "editable": true
   },
   "source": [
    "<!-- Equation labels as ordinary links -->\n",
    "<div id=\"_auto19\"></div>\n",
    "\n",
    "$$\n",
    "\\begin{equation}\n",
    "\t\\text{KL} (f(\\boldsymbol{x})|| p(\\boldsymbol{x}| \\boldsymbol{\\theta})) = \\int_{-\\infty}^{\\infty}\n",
    "\tf (\\boldsymbol{x}) \\log \\frac{f(\\boldsymbol{x})}{p(\\boldsymbol{x}| \\boldsymbol{\\theta})} d\\boldsymbol{x} \n",
    "\\label{_auto19} \\tag{21}\n",
    "\\end{equation}\n",
    "$$"
   ]
  },
  {
   "cell_type": "markdown",
   "id": "32ce11b6",
   "metadata": {
    "editable": true
   },
   "source": [
    "<!-- Equation labels as ordinary links -->\n",
    "<div id=\"_auto20\"></div>\n",
    "\n",
    "$$\n",
    "\\begin{equation} \n",
    "\t= \\int_{-\\infty}^{\\infty} f(\\boldsymbol{x}) \\log f(\\boldsymbol{x}) d\\boldsymbol{x} - \\int_{-\\infty}^{\\infty} f(\\boldsymbol{x}) \\log\n",
    "\tp(\\boldsymbol{x}| \\boldsymbol{\\theta}) d\\boldsymbol{x} \n",
    "\\label{_auto20} \\tag{22}\n",
    "\\end{equation}\n",
    "$$"
   ]
  },
  {
   "cell_type": "markdown",
   "id": "863311ff",
   "metadata": {
    "editable": true
   },
   "source": [
    "<!-- Equation labels as ordinary links -->\n",
    "<div id=\"_auto21\"></div>\n",
    "\n",
    "$$\n",
    "\\begin{equation} \n",
    "\t%= \\mathbb{E}_{f(\\boldsymbol{x})} (\\log f(\\boldsymbol{x})) - \\mathbb{E}_{f(\\boldsymbol{x})} (\\log p(\\boldsymbol{x}| \\boldsymbol{\\theta}))\n",
    "\t= \\langle \\log f(\\boldsymbol{x}) \\rangle_{f(\\boldsymbol{x})} - \\langle \\log p(\\boldsymbol{x}| \\boldsymbol{\\theta}) \\rangle_{f(\\boldsymbol{x})} \n",
    "\\label{_auto21} \\tag{23}\n",
    "\\end{equation}\n",
    "$$"
   ]
  },
  {
   "cell_type": "markdown",
   "id": "61677190",
   "metadata": {
    "editable": true
   },
   "source": [
    "<!-- Equation labels as ordinary links -->\n",
    "<div id=\"_auto22\"></div>\n",
    "\n",
    "$$\n",
    "\\begin{equation} \n",
    "\t= \\langle \\log f(\\boldsymbol{x}) \\rangle_{data} + \\langle E(\\boldsymbol{x}) \\rangle_{data} + \\log Z \n",
    "\\label{_auto22} \\tag{24}\n",
    "\\end{equation}\n",
    "$$"
   ]
  },
  {
   "cell_type": "markdown",
   "id": "ef9491ac",
   "metadata": {
    "editable": true
   },
   "source": [
    "<!-- Equation labels as ordinary links -->\n",
    "<div id=\"_auto23\"></div>\n",
    "\n",
    "$$\n",
    "\\begin{equation} \n",
    "\t= \\langle \\log f(\\boldsymbol{x}) \\rangle_{data} + \\mathcal{C}_{LL} .\n",
    "\\label{_auto23} \\tag{25}\n",
    "\\end{equation}\n",
    "$$"
   ]
  },
  {
   "cell_type": "markdown",
   "id": "05ec3b18",
   "metadata": {
    "editable": true
   },
   "source": [
    "The first term is constant with respect to $\\boldsymbol{\\theta}$ since $f(\\boldsymbol{x})$ is independent of $\\boldsymbol{\\theta}$. Thus the Kullback-Leibler Divergence is minimal when the second term is minimal. The second term is the log-likelihood cost function, hence minimizing the Kullback-Leibler divergence is equivalent to maximizing the log-likelihood.\n",
    "\n",
    "To further understand generative models it is useful to study the\n",
    "gradient of the cost function which is needed in order to minimize it\n",
    "using methods like stochastic gradient descent. \n",
    "\n",
    "The partition function is the generating function of\n",
    "expectation values, in particular there are mathematical relationships\n",
    "between expectation values and the log-partition function. In this\n",
    "case we have"
   ]
  },
  {
   "cell_type": "markdown",
   "id": "b8d433e3",
   "metadata": {
    "editable": true
   },
   "source": [
    "<!-- Equation labels as ordinary links -->\n",
    "<div id=\"_auto24\"></div>\n",
    "\n",
    "$$\n",
    "\\begin{equation}\n",
    "\t\\langle \\frac{ \\partial E(\\boldsymbol{x}; \\theta_i) } { \\partial \\theta_i} \\rangle_{model}\n",
    "\t= \\int p(\\boldsymbol{x}| \\boldsymbol{\\theta}) \\frac{ \\partial E(\\boldsymbol{x}; \\theta_i) } { \\partial \\theta_i} d\\boldsymbol{x} \n",
    "\t= -\\frac{\\partial \\log Z(\\theta_i)}{ \\partial  \\theta_i} .\n",
    "\\label{_auto24} \\tag{26}\n",
    "\\end{equation}\n",
    "$$"
   ]
  },
  {
   "cell_type": "markdown",
   "id": "c235cb04",
   "metadata": {
    "editable": true
   },
   "source": [
    "Here $\\langle \\cdot \\rangle_{model}$ is the expectation value over the model probability distribution $p(\\boldsymbol{x}| \\boldsymbol{\\theta})$."
   ]
  },
  {
   "cell_type": "markdown",
   "id": "5903328e",
   "metadata": {
    "editable": true
   },
   "source": [
    "## Setting up for gradient descent calculations\n",
    "\n",
    "Using the previous relationship we can express the gradient of the cost function as"
   ]
  },
  {
   "cell_type": "markdown",
   "id": "c4d9ac75",
   "metadata": {
    "editable": true
   },
   "source": [
    "<!-- Equation labels as ordinary links -->\n",
    "<div id=\"_auto25\"></div>\n",
    "\n",
    "$$\n",
    "\\begin{equation}\n",
    "\t\\frac{\\partial \\mathcal{C}_{LL}}{\\partial \\theta_i}\n",
    "\t= \\langle \\frac{ \\partial E(\\boldsymbol{x}; \\theta_i) } { \\partial \\theta_i} \\rangle_{data} + \\frac{\\partial \\log Z(\\theta_i)}{ \\partial  \\theta_i} \n",
    "\\label{_auto25} \\tag{27}\n",
    "\\end{equation}\n",
    "$$"
   ]
  },
  {
   "cell_type": "markdown",
   "id": "9f2a99d6",
   "metadata": {
    "editable": true
   },
   "source": [
    "<!-- Equation labels as ordinary links -->\n",
    "<div id=\"_auto26\"></div>\n",
    "\n",
    "$$\n",
    "\\begin{equation} \n",
    "\t= \\langle \\frac{ \\partial E(\\boldsymbol{x}; \\theta_i) } { \\partial \\theta_i} \\rangle_{data} - \\langle \\frac{ \\partial E(\\boldsymbol{x}; \\theta_i) } { \\partial \\theta_i} \\rangle_{model} \n",
    "\\label{_auto26} \\tag{28}\n",
    "\\end{equation}\n",
    "$$"
   ]
  },
  {
   "cell_type": "markdown",
   "id": "b539d7b0",
   "metadata": {
    "editable": true
   },
   "source": [
    "<!-- Equation labels as ordinary links -->\n",
    "<div id=\"_auto27\"></div>\n",
    "\n",
    "$$\n",
    "\\begin{equation} \n",
    "\t%= \\langle O_i(\\boldsymbol{x}) \\rangle_{data} - \\langle O_i(\\boldsymbol{x}) \\rangle_{model}\n",
    "\\label{_auto27} \\tag{29}\n",
    "\\end{equation}\n",
    "$$"
   ]
  },
  {
   "cell_type": "markdown",
   "id": "ad42da53",
   "metadata": {
    "editable": true
   },
   "source": [
    "This expression shows that the gradient of the log-likelihood cost\n",
    "function is a **difference of moments**, with one calculated from\n",
    "the data and one calculated from the model. The data-dependent term is\n",
    "called the **positive phase** and the model-dependent term is\n",
    "called the **negative phase** of the gradient. We see now that\n",
    "minimizing the cost function results in lowering the energy of\n",
    "configurations $\\boldsymbol{x}$ near points in the training data and\n",
    "increasing the energy of configurations not observed in the training\n",
    "data. That means we increase the model's probability of configurations\n",
    "similar to those in the training data.\n",
    "\n",
    "The gradient of the cost function also demonstrates why gradients of\n",
    "unsupervised, generative models must be computed differently from for\n",
    "those of for example FNNs. While the data-dependent expectation value\n",
    "is easily calculated based on the samples $\\boldsymbol{x}_i$ in the training\n",
    "data, we must sample from the model in order to generate samples from\n",
    "which to caclulate the model-dependent term. We sample from the model\n",
    "by using MCMC-based methods. We can not sample from the model directly\n",
    "because the partition function $Z$ is generally intractable.\n",
    "\n",
    "As in supervised machine learning problems, the goal is also here to\n",
    "perform well on **unseen** data, that is to have good\n",
    "generalization from the training data. The distribution $f(x)$ we\n",
    "approximate is not the **true** distribution we wish to estimate,\n",
    "it is limited to the training data. Hence, in unsupervised training as\n",
    "well it is important to prevent overfitting to the training data. Thus\n",
    "it is common to add regularizers to the cost function in the same\n",
    "manner as we discussed for say linear regression.\n",
    "\n",
    "Because we are restricted to potential functions which are positive it\n",
    "is convenient to express them as exponentials, so that"
   ]
  },
  {
   "cell_type": "markdown",
   "id": "ba332645",
   "metadata": {
    "editable": true
   },
   "source": [
    "<!-- Equation labels as ordinary links -->\n",
    "<div id=\"_auto28\"></div>\n",
    "\n",
    "$$\n",
    "\\begin{equation}\n",
    "\t\\phi_C (\\boldsymbol{x}_C) = e^{-E_C(\\boldsymbol{x}_C)}\n",
    "\\label{_auto28} \\tag{30}\n",
    "\\end{equation}\n",
    "$$"
   ]
  },
  {
   "cell_type": "markdown",
   "id": "ab738173",
   "metadata": {
    "editable": true
   },
   "source": [
    "where $E(\\boldsymbol{x}_C)$ is called an *energy function*, and the\n",
    "exponential representation is the *Boltzmann distribution*. The\n",
    "joint distribution is defined as the product of potentials.\n",
    "\n",
    "The joint distribution of the random variables is then"
   ]
  },
  {
   "cell_type": "markdown",
   "id": "d0ca60bb",
   "metadata": {
    "editable": true
   },
   "source": [
    "$$\n",
    "p(\\boldsymbol{x}) = \\frac{1}{Z} \\prod_C \\phi_C (\\boldsymbol{x}_C) \\nonumber\n",
    "$$"
   ]
  },
  {
   "cell_type": "markdown",
   "id": "2bf7ee7f",
   "metadata": {
    "editable": true
   },
   "source": [
    "$$\n",
    "= \\frac{1}{Z} \\prod_C e^{-E_C(\\boldsymbol{x}_C)} \\nonumber\n",
    "$$"
   ]
  },
  {
   "cell_type": "markdown",
   "id": "d3ab2f78",
   "metadata": {
    "editable": true
   },
   "source": [
    "$$\n",
    "= \\frac{1}{Z} e^{-\\sum_C E_C(\\boldsymbol{x}_C)} \\nonumber\n",
    "$$"
   ]
  },
  {
   "cell_type": "markdown",
   "id": "bf5d0de5",
   "metadata": {
    "editable": true
   },
   "source": [
    "<!-- Equation labels as ordinary links -->\n",
    "<div id=\"_auto29\"></div>\n",
    "\n",
    "$$\n",
    "\\begin{equation} \n",
    "\t= \\frac{1}{Z} e^{-E(\\boldsymbol{x})}.\n",
    "\\label{_auto29} \\tag{31}\n",
    "\\end{equation}\n",
    "$$"
   ]
  },
  {
   "cell_type": "markdown",
   "id": "d1bf2063",
   "metadata": {
    "editable": true
   },
   "source": [
    "<!-- Equation labels as ordinary links -->\n",
    "<div id=\"_auto30\"></div>\n",
    "\n",
    "$$\n",
    "\\begin{equation}\n",
    "\tp_{BM}(\\boldsymbol{x}, \\boldsymbol{h}) = \\frac{1}{Z_{BM}} e^{-\\frac{1}{T}E_{BM}(\\boldsymbol{x}, \\boldsymbol{h})} ,\n",
    "\\label{_auto30} \\tag{32}\n",
    "\\end{equation}\n",
    "$$"
   ]
  },
  {
   "cell_type": "markdown",
   "id": "e9aeca04",
   "metadata": {
    "editable": true
   },
   "source": [
    "with the partition function"
   ]
  },
  {
   "cell_type": "markdown",
   "id": "a1a826d0",
   "metadata": {
    "editable": true
   },
   "source": [
    "<!-- Equation labels as ordinary links -->\n",
    "<div id=\"_auto31\"></div>\n",
    "\n",
    "$$\n",
    "\\begin{equation}\n",
    "\tZ_{BM} = \\int \\int e^{-\\frac{1}{T} E_{BM}(\\tilde{\\boldsymbol{x}}, \\tilde{\\boldsymbol{h}})} d\\tilde{\\boldsymbol{x}} d\\tilde{\\boldsymbol{h}} .\n",
    "\\label{_auto31} \\tag{33}\n",
    "\\end{equation}\n",
    "$$"
   ]
  },
  {
   "cell_type": "markdown",
   "id": "cb17e6ab",
   "metadata": {
    "editable": true
   },
   "source": [
    "$T$ is a physics-inspired parameter named temperature and will be assumed to be 1 unless otherwise stated. The energy function of the Boltzmann machine determines the interactions between the nodes and is defined"
   ]
  },
  {
   "cell_type": "markdown",
   "id": "1b6454dc",
   "metadata": {
    "editable": true
   },
   "source": [
    "$$\n",
    "E_{BM}(\\boldsymbol{x}, \\boldsymbol{h}) = - \\sum_{i, k}^{M, K} a_i^k \\alpha_i^k (x_i)\n",
    "\t- \\sum_{j, l}^{N, L} b_j^l \\beta_j^l (h_j) \n",
    "\t- \\sum_{i,j,k,l}^{M,N,K,L} \\alpha_i^k (x_i) w_{ij}^{kl} \\beta_j^l (h_j) \\nonumber\n",
    "$$"
   ]
  },
  {
   "cell_type": "markdown",
   "id": "74059e17",
   "metadata": {
    "editable": true
   },
   "source": [
    "<!-- Equation labels as ordinary links -->\n",
    "<div id=\"_auto32\"></div>\n",
    "\n",
    "$$\n",
    "\\begin{equation} \n",
    "\t- \\sum_{i, m=i+1, k}^{M, M, K} \\alpha_i^k (x_i) v_{im}^k \\alpha_m^k (x_m)\n",
    "\t- \\sum_{j,n=j+1,l}^{N,N,L} \\beta_j^l (h_j) u_{jn}^l \\beta_n^l (h_n).\n",
    "\\label{_auto32} \\tag{34}\n",
    "\\end{equation}\n",
    "$$"
   ]
  },
  {
   "cell_type": "markdown",
   "id": "f07dde5a",
   "metadata": {
    "editable": true
   },
   "source": [
    "Here $\\alpha_i^k (x_i)$ and $\\beta_j^l (h_j)$ are one-dimensional\n",
    "transfer functions or mappings from the given input value to the\n",
    "desired feature value. They can be arbitrary functions of the input\n",
    "variables and are independent of the parameterization (parameters\n",
    "referring to weight and biases), meaning they are not affected by\n",
    "training of the model. The indices $k$ and $l$ indicate that there can\n",
    "be multiple transfer functions per variable.  Furthermore, $a_i^k$ and\n",
    "$b_j^l$ are the visible and hidden bias. $w_{ij}^{kl}$ are weights of\n",
    "the \\textbf{inter-layer} connection terms which connect visible and\n",
    "hidden units. $ v_{im}^k$ and $u_{jn}^l$ are weights of the\n",
    "\\textbf{intra-layer} connection terms which connect the visible units\n",
    "to each other and the hidden units to each other, respectively.\n",
    "\n",
    "We remove the intra-layer connections by setting $v_{im}$ and $u_{jn}$\n",
    "to zero. The expression for the energy of the RBM is then"
   ]
  },
  {
   "cell_type": "markdown",
   "id": "6ab32232",
   "metadata": {
    "editable": true
   },
   "source": [
    "<!-- Equation labels as ordinary links -->\n",
    "<div id=\"_auto33\"></div>\n",
    "\n",
    "$$\n",
    "\\begin{equation}\n",
    "\tE_{RBM}(\\boldsymbol{x}, \\boldsymbol{h}) = - \\sum_{i, k}^{M, K} a_i^k \\alpha_i^k (x_i)\n",
    "\t- \\sum_{j, l}^{N, L} b_j^l \\beta_j^l (h_j) \n",
    "\t- \\sum_{i,j,k,l}^{M,N,K,L} \\alpha_i^k (x_i) w_{ij}^{kl} \\beta_j^l (h_j). \n",
    "\\label{_auto33} \\tag{35}\n",
    "\\end{equation}\n",
    "$$"
   ]
  },
  {
   "cell_type": "markdown",
   "id": "32613417",
   "metadata": {
    "editable": true
   },
   "source": [
    "resulting in"
   ]
  },
  {
   "cell_type": "markdown",
   "id": "c75e4d85",
   "metadata": {
    "editable": true
   },
   "source": [
    "$$\n",
    "P_{RBM} (\\boldsymbol{x}) = \\int P_{RBM} (\\boldsymbol{x}, \\tilde{\\boldsymbol{h}})  d \\tilde{\\boldsymbol{h}} \\nonumber\n",
    "$$"
   ]
  },
  {
   "cell_type": "markdown",
   "id": "a1848c23",
   "metadata": {
    "editable": true
   },
   "source": [
    "$$\n",
    "= \\frac{1}{Z_{RBM}} \\int e^{-E_{RBM} (\\boldsymbol{x}, \\tilde{\\boldsymbol{h}}) } d\\tilde{\\boldsymbol{h}} \\nonumber\n",
    "$$"
   ]
  },
  {
   "cell_type": "markdown",
   "id": "d2e3b474",
   "metadata": {
    "editable": true
   },
   "source": [
    "$$\n",
    "= \\frac{1}{Z_{RBM}} \\int e^{\\sum_{i, k} a_i^k \\alpha_i^k (x_i)\n",
    "\t+ \\sum_{j, l} b_j^l \\beta_j^l (\\tilde{h}_j) \n",
    "\t+ \\sum_{i,j,k,l} \\alpha_i^k (x_i) w_{ij}^{kl} \\beta_j^l (\\tilde{h}_j)} \n",
    "\td\\tilde{\\boldsymbol{h}} \\nonumber\n",
    "$$"
   ]
  },
  {
   "cell_type": "markdown",
   "id": "2449f9dc",
   "metadata": {
    "editable": true
   },
   "source": [
    "$$\n",
    "= \\frac{1}{Z_{RBM}} e^{\\sum_{i, k} a_i^k \\alpha_i^k (x_i)}\n",
    "\t\\int \\prod_j^N e^{\\sum_l b_j^l \\beta_j^l (\\tilde{h}_j) \n",
    "\t+ \\sum_{i,k,l} \\alpha_i^k (x_i) w_{ij}^{kl} \\beta_j^l (\\tilde{h}_j)} d\\tilde{\\boldsymbol{h}} \\nonumber\n",
    "$$"
   ]
  },
  {
   "cell_type": "markdown",
   "id": "5794b31c",
   "metadata": {
    "editable": true
   },
   "source": [
    "$$\n",
    "= \\frac{1}{Z_{RBM}} e^{\\sum_{i, k} a_i^k \\alpha_i^k (x_i)}\n",
    "\t\\biggl( \\int e^{\\sum_l b_1^l \\beta_1^l (\\tilde{h}_1) + \\sum_{i,k,l} \\alpha_i^k (x_i) w_{i1}^{kl} \\beta_1^l (\\tilde{h}_1)} d \\tilde{h}_1 \\nonumber\n",
    "$$"
   ]
  },
  {
   "cell_type": "markdown",
   "id": "4938d3fc",
   "metadata": {
    "editable": true
   },
   "source": [
    "$$\n",
    "\\times \\int e^{\\sum_l b_2^l \\beta_2^l (\\tilde{h}_2) + \\sum_{i,k,l} \\alpha_i^k (x_i) w_{i2}^{kl} \\beta_2^l (\\tilde{h}_2)} d \\tilde{h}_2 \\nonumber\n",
    "$$"
   ]
  },
  {
   "cell_type": "markdown",
   "id": "034fa0a6",
   "metadata": {
    "editable": true
   },
   "source": [
    "$$\n",
    "\\times ... \\nonumber\n",
    "$$"
   ]
  },
  {
   "cell_type": "markdown",
   "id": "93643ec1",
   "metadata": {
    "editable": true
   },
   "source": [
    "$$\n",
    "\\times \\int e^{\\sum_l b_N^l \\beta_N^l (\\tilde{h}_N) + \\sum_{i,k,l} \\alpha_i^k (x_i) w_{iN}^{kl} \\beta_N^l (\\tilde{h}_N)} d \\tilde{h}_N \\biggr) \\nonumber\n",
    "$$"
   ]
  },
  {
   "cell_type": "markdown",
   "id": "8a74b278",
   "metadata": {
    "editable": true
   },
   "source": [
    "<!-- Equation labels as ordinary links -->\n",
    "<div id=\"_auto34\"></div>\n",
    "\n",
    "$$\n",
    "\\begin{equation} \n",
    "\t= \\frac{1}{Z_{RBM}} e^{\\sum_{i, k} a_i^k \\alpha_i^k (x_i)}\n",
    "\t\\prod_j^N \\int e^{\\sum_l b_j^l \\beta_j^l (\\tilde{h}_j) + \\sum_{i,k,l} \\alpha_i^k (x_i) w_{ij}^{kl} \\beta_j^l (\\tilde{h}_j)}  d\\tilde{h}_j\n",
    "\\label{_auto34} \\tag{36}\n",
    "\\end{equation}\n",
    "$$"
   ]
  },
  {
   "cell_type": "markdown",
   "id": "37898c73",
   "metadata": {
    "editable": true
   },
   "source": [
    "Similarly"
   ]
  },
  {
   "cell_type": "markdown",
   "id": "f88aa294",
   "metadata": {
    "editable": true
   },
   "source": [
    "$$\n",
    "P_{RBM} (\\boldsymbol{h}) = \\frac{1}{Z_{RBM}} \\int e^{-E_{RBM} (\\tilde{\\boldsymbol{x}}, \\boldsymbol{h})} d\\tilde{\\boldsymbol{x}} \\nonumber\n",
    "$$"
   ]
  },
  {
   "cell_type": "markdown",
   "id": "9126254a",
   "metadata": {
    "editable": true
   },
   "source": [
    "<!-- Equation labels as ordinary links -->\n",
    "<div id=\"_auto35\"></div>\n",
    "\n",
    "$$\n",
    "\\begin{equation} \n",
    "\t= \\frac{1}{Z_{RBM}} e^{\\sum_{j, l} b_j^l \\beta_j^l (h_j)}\n",
    "\t\\prod_i^M \\int e^{\\sum_k a_i^k \\alpha_i^k (\\tilde{x}_i)\n",
    "\t+ \\sum_{j,k,l} \\alpha_i^k (\\tilde{x}_i) w_{ij}^{kl} \\beta_j^l (h_j)} d\\tilde{x}_i\n",
    "\\label{_auto35} \\tag{37}\n",
    "\\end{equation}\n",
    "$$"
   ]
  },
  {
   "cell_type": "markdown",
   "id": "32534fcf",
   "metadata": {
    "editable": true
   },
   "source": [
    "Using Bayes theorem"
   ]
  },
  {
   "cell_type": "markdown",
   "id": "e6f3e49b",
   "metadata": {
    "editable": true
   },
   "source": [
    "$$\n",
    "P_{RBM} (\\boldsymbol{h}|\\boldsymbol{x}) = \\frac{P_{RBM} (\\boldsymbol{x}, \\boldsymbol{h})}{P_{RBM} (\\boldsymbol{x})} \\nonumber\n",
    "$$"
   ]
  },
  {
   "cell_type": "markdown",
   "id": "bfb5d5e4",
   "metadata": {
    "editable": true
   },
   "source": [
    "$$\n",
    "= \\frac{\\frac{1}{Z_{RBM}} e^{\\sum_{i, k} a_i^k \\alpha_i^k (x_i)\n",
    "\t+ \\sum_{j, l} b_j^l \\beta_j^l (h_j) \n",
    "\t+ \\sum_{i,j,k,l} \\alpha_i^k (x_i) w_{ij}^{kl} \\beta_j^l (h_j)}}\n",
    "\t{\\frac{1}{Z_{RBM}} e^{\\sum_{i, k} a_i^k \\alpha_i^k (x_i)}\n",
    "\t\\prod_j^N \\int e^{\\sum_l b_j^l \\beta_j^l (\\tilde{h}_j) + \\sum_{i,k,l} \\alpha_i^k (x_i) w_{ij}^{kl} \\beta_j^l (\\tilde{h}_j)}  d\\tilde{h}_j} \\nonumber\n",
    "$$"
   ]
  },
  {
   "cell_type": "markdown",
   "id": "11463e29",
   "metadata": {
    "editable": true
   },
   "source": [
    "<!-- Equation labels as ordinary links -->\n",
    "<div id=\"_auto36\"></div>\n",
    "\n",
    "$$\n",
    "\\begin{equation} \n",
    "\t= \\prod_j^N \\frac{e^{\\sum_l b_j^l \\beta_j^l (h_j) + \\sum_{i,k,l} \\alpha_i^k (x_i) w_{ij}^{kl} \\beta_j^l (h_j)} }\n",
    "\t{\\int e^{\\sum_l b_j^l \\beta_j^l (\\tilde{h}_j) + \\sum_{i,k,l} \\alpha_i^k (x_i) w_{ij}^{kl} \\beta_j^l (\\tilde{h}_j)}  d\\tilde{h}_j}\n",
    "\\label{_auto36} \\tag{38}\n",
    "\\end{equation}\n",
    "$$"
   ]
  },
  {
   "cell_type": "markdown",
   "id": "cb7f14a1",
   "metadata": {
    "editable": true
   },
   "source": [
    "Similarly"
   ]
  },
  {
   "cell_type": "markdown",
   "id": "fc51005b",
   "metadata": {
    "editable": true
   },
   "source": [
    "$$\n",
    "P_{RBM} (\\boldsymbol{x}|\\boldsymbol{h}) =  \\frac{P_{RBM} (\\boldsymbol{x}, \\boldsymbol{h})}{P_{RBM} (\\boldsymbol{h})} \\nonumber\n",
    "$$"
   ]
  },
  {
   "cell_type": "markdown",
   "id": "fdef0d50",
   "metadata": {
    "editable": true
   },
   "source": [
    "<!-- Equation labels as ordinary links -->\n",
    "<div id=\"_auto37\"></div>\n",
    "\n",
    "$$\n",
    "\\begin{equation} \n",
    "\t= \\prod_i^M \\frac{e^{\\sum_k a_i^k \\alpha_i^k (x_i)\n",
    "\t+ \\sum_{j,k,l} \\alpha_i^k (x_i) w_{ij}^{kl} \\beta_j^l (h_j)}}\n",
    "\t{\\int e^{\\sum_k a_i^k \\alpha_i^k (\\tilde{x}_i)\n",
    "\t+ \\sum_{j,k,l} \\alpha_i^k (\\tilde{x}_i) w_{ij}^{kl} \\beta_j^l (h_j)} d\\tilde{x}_i}\n",
    "\\label{_auto37} \\tag{39}\n",
    "\\end{equation}\n",
    "$$"
   ]
  },
  {
   "cell_type": "markdown",
   "id": "c4508445",
   "metadata": {
    "editable": true
   },
   "source": [
    "The original RBM had binary visible and hidden nodes. They were\n",
    "showned to be universal approximators of discrete distributions.\n",
    "It was also shown that adding hidden units yields\n",
    "strictly improved modelling power. The common choice of binary values\n",
    "are 0 and 1. However, in some physics applications, -1 and 1 might be\n",
    "a more natural choice. We will here use 0 and 1."
   ]
  },
  {
   "cell_type": "markdown",
   "id": "f3ed4aee",
   "metadata": {
    "editable": true
   },
   "source": [
    "<!-- Equation labels as ordinary links -->\n",
    "<div id=\"_auto38\"></div>\n",
    "\n",
    "$$\n",
    "\\begin{equation}\n",
    "\tE_{BB}(\\boldsymbol{x}, \\mathbf{h}) = - \\sum_i^M x_i a_i- \\sum_j^N b_j h_j - \\sum_{i,j}^{M,N} x_i w_{ij} h_j.\n",
    "\\label{_auto38} \\tag{40}\n",
    "\\end{equation}\n",
    "$$"
   ]
  },
  {
   "cell_type": "markdown",
   "id": "f8539c22",
   "metadata": {
    "editable": true
   },
   "source": [
    "<!-- Equation labels as ordinary links -->\n",
    "<div id=\"_auto39\"></div>\n",
    "\n",
    "$$\n",
    "\\begin{equation}\n",
    "\tp_{BB}(\\boldsymbol{x}, \\boldsymbol{h}) = \\frac{1}{Z_{BB}} e^{\\sum_i^M a_i x_i + \\sum_j^N b_j h_j + \\sum_{ij}^{M,N} x_i w_{ij} h_j} \n",
    "\\label{_auto39} \\tag{41}\n",
    "\\end{equation}\n",
    "$$"
   ]
  },
  {
   "cell_type": "markdown",
   "id": "ee9dbc93",
   "metadata": {
    "editable": true
   },
   "source": [
    "<!-- Equation labels as ordinary links -->\n",
    "<div id=\"_auto40\"></div>\n",
    "\n",
    "$$\n",
    "\\begin{equation} \n",
    "\t= \\frac{1}{Z_{BB}} e^{\\boldsymbol{x}^T \\boldsymbol{a} + \\boldsymbol{b}^T \\boldsymbol{h} + \\boldsymbol{x}^T \\boldsymbol{W} \\boldsymbol{h}}\n",
    "\\label{_auto40} \\tag{42}\n",
    "\\end{equation}\n",
    "$$"
   ]
  },
  {
   "cell_type": "markdown",
   "id": "08e11af8",
   "metadata": {
    "editable": true
   },
   "source": [
    "with the partition function"
   ]
  },
  {
   "cell_type": "markdown",
   "id": "e0faa034",
   "metadata": {
    "editable": true
   },
   "source": [
    "<!-- Equation labels as ordinary links -->\n",
    "<div id=\"_auto41\"></div>\n",
    "\n",
    "$$\n",
    "\\begin{equation}\n",
    "\tZ_{BB} = \\sum_{\\boldsymbol{x}, \\boldsymbol{h}} e^{\\boldsymbol{x}^T \\boldsymbol{a} + \\boldsymbol{b}^T \\boldsymbol{h} + \\boldsymbol{x}^T \\boldsymbol{W} \\boldsymbol{h}} .\n",
    "\\label{_auto41} \\tag{43}\n",
    "\\end{equation}\n",
    "$$"
   ]
  },
  {
   "cell_type": "markdown",
   "id": "bd7dd6cd",
   "metadata": {
    "editable": true
   },
   "source": [
    "### Marginal Probability Density Functions\n",
    "\n",
    "In order to find the probability of any configuration of the visible units we derive the marginal probability density function."
   ]
  },
  {
   "cell_type": "markdown",
   "id": "66abcd3b",
   "metadata": {
    "editable": true
   },
   "source": [
    "<!-- Equation labels as ordinary links -->\n",
    "<div id=\"_auto42\"></div>\n",
    "\n",
    "$$\n",
    "\\begin{equation}\n",
    "\tp_{BB} (\\boldsymbol{x}) = \\sum_{\\boldsymbol{h}} p_{BB} (\\boldsymbol{x}, \\boldsymbol{h}) \n",
    "\\label{_auto42} \\tag{44}\n",
    "\\end{equation}\n",
    "$$"
   ]
  },
  {
   "cell_type": "markdown",
   "id": "de25a8ab",
   "metadata": {
    "editable": true
   },
   "source": [
    "$$\n",
    "= \\frac{1}{Z_{BB}} \\sum_{\\boldsymbol{h}} e^{\\boldsymbol{x}^T \\boldsymbol{a} + \\boldsymbol{b}^T \\boldsymbol{h} + \\boldsymbol{x}^T \\boldsymbol{W} \\boldsymbol{h}} \\nonumber\n",
    "$$"
   ]
  },
  {
   "cell_type": "markdown",
   "id": "32afb462",
   "metadata": {
    "editable": true
   },
   "source": [
    "$$\n",
    "= \\frac{1}{Z_{BB}} e^{\\boldsymbol{x}^T \\boldsymbol{a}} \\sum_{\\boldsymbol{h}} e^{\\sum_j^N (b_j + \\boldsymbol{x}^T \\boldsymbol{w}_{\\ast j})h_j} \\nonumber\n",
    "$$"
   ]
  },
  {
   "cell_type": "markdown",
   "id": "5ae937ba",
   "metadata": {
    "editable": true
   },
   "source": [
    "$$\n",
    "= \\frac{1}{Z_{BB}} e^{\\boldsymbol{x}^T \\boldsymbol{a}} \\sum_{\\boldsymbol{h}} \\prod_j^N e^{ (b_j + \\boldsymbol{x}^T \\boldsymbol{w}_{\\ast j})h_j} \\nonumber\n",
    "$$"
   ]
  },
  {
   "cell_type": "markdown",
   "id": "a4f7314e",
   "metadata": {
    "editable": true
   },
   "source": [
    "$$\n",
    "= \\frac{1}{Z_{BB}} e^{\\boldsymbol{x}^T \\boldsymbol{a}} \\bigg ( \\sum_{h_1} e^{(b_1 + \\boldsymbol{x}^T \\boldsymbol{w}_{\\ast 1})h_1}\n",
    "\t\\times \\sum_{h_2} e^{(b_2 + \\boldsymbol{x}^T \\boldsymbol{w}_{\\ast 2})h_2} \\times \\nonumber\n",
    "$$"
   ]
  },
  {
   "cell_type": "markdown",
   "id": "f80148de",
   "metadata": {
    "editable": true
   },
   "source": [
    "$$\n",
    "... \\times \\sum_{h_2} e^{(b_N + \\boldsymbol{x}^T \\boldsymbol{w}_{\\ast N})h_N} \\bigg ) \\nonumber\n",
    "$$"
   ]
  },
  {
   "cell_type": "markdown",
   "id": "1a115157",
   "metadata": {
    "editable": true
   },
   "source": [
    "$$\n",
    "= \\frac{1}{Z_{BB}} e^{\\boldsymbol{x}^T \\boldsymbol{a}} \\prod_j^N \\sum_{h_j} e^{(b_j + \\boldsymbol{x}^T \\boldsymbol{w}_{\\ast j}) h_j} \\nonumber\n",
    "$$"
   ]
  },
  {
   "cell_type": "markdown",
   "id": "a392b408",
   "metadata": {
    "editable": true
   },
   "source": [
    "<!-- Equation labels as ordinary links -->\n",
    "<div id=\"_auto43\"></div>\n",
    "\n",
    "$$\n",
    "\\begin{equation} \n",
    "\t= \\frac{1}{Z_{BB}} e^{\\boldsymbol{x}^T \\boldsymbol{a}} \\prod_j^N (1 + e^{b_j + \\boldsymbol{x}^T \\boldsymbol{w}_{\\ast j}}) .\n",
    "\\label{_auto43} \\tag{45}\n",
    "\\end{equation}\n",
    "$$"
   ]
  },
  {
   "cell_type": "markdown",
   "id": "8ef89af4",
   "metadata": {
    "editable": true
   },
   "source": [
    "A similar derivation yields the marginal probability of the hidden units"
   ]
  },
  {
   "cell_type": "markdown",
   "id": "e4dcd841",
   "metadata": {
    "editable": true
   },
   "source": [
    "<!-- Equation labels as ordinary links -->\n",
    "<div id=\"_auto44\"></div>\n",
    "\n",
    "$$\n",
    "\\begin{equation}\n",
    "\tp_{BB} (\\boldsymbol{h}) = \\frac{1}{Z_{BB}} e^{\\boldsymbol{b}^T \\boldsymbol{h}} \\prod_i^M (1 + e^{a_i + \\boldsymbol{w}_{i\\ast}^T \\boldsymbol{h}}) .\n",
    "\\label{_auto44} \\tag{46}\n",
    "\\end{equation}\n",
    "$$"
   ]
  },
  {
   "cell_type": "markdown",
   "id": "69b2bb67",
   "metadata": {
    "editable": true
   },
   "source": [
    "### Conditional Probability Density Functions\n",
    "\n",
    "We derive the probability of the hidden units given the visible units using Bayes' rule"
   ]
  },
  {
   "cell_type": "markdown",
   "id": "dd93beeb",
   "metadata": {
    "editable": true
   },
   "source": [
    "$$\n",
    "p_{BB} (\\boldsymbol{h}|\\boldsymbol{x}) = \\frac{p_{BB} (\\boldsymbol{x}, \\boldsymbol{h})}{p_{BB} (\\boldsymbol{x})} \\nonumber\n",
    "$$"
   ]
  },
  {
   "cell_type": "markdown",
   "id": "184a7084",
   "metadata": {
    "editable": true
   },
   "source": [
    "$$\n",
    "= \\frac{ \\frac{1}{Z_{BB}}  e^{\\boldsymbol{x}^T \\boldsymbol{a} + \\boldsymbol{b}^T \\boldsymbol{h} + \\boldsymbol{x}^T \\boldsymbol{W} \\boldsymbol{h}} }\n",
    "\t        {\\frac{1}{Z_{BB}} e^{\\boldsymbol{x}^T \\boldsymbol{a}} \\prod_j^N (1 + e^{b_j + \\boldsymbol{x}^T \\boldsymbol{w}_{\\ast j}})} \\nonumber\n",
    "$$"
   ]
  },
  {
   "cell_type": "markdown",
   "id": "84ef88cf",
   "metadata": {
    "editable": true
   },
   "source": [
    "$$\n",
    "= \\frac{  e^{\\boldsymbol{x}^T \\boldsymbol{a}} e^{ \\sum_j^N (b_j + \\boldsymbol{x}^T \\boldsymbol{w}_{\\ast j} ) h_j} }\n",
    "\t        { e^{\\boldsymbol{x}^T \\boldsymbol{a}} \\prod_j^N (1 + e^{b_j + \\boldsymbol{x}^T \\boldsymbol{w}_{\\ast j}})} \\nonumber\n",
    "$$"
   ]
  },
  {
   "cell_type": "markdown",
   "id": "d41335d7",
   "metadata": {
    "editable": true
   },
   "source": [
    "$$\n",
    "= \\prod_j^N \\frac{ e^{(b_j + \\boldsymbol{x}^T \\boldsymbol{w}_{\\ast j} ) h_j}  }\n",
    "\t{1 + e^{b_j + \\boldsymbol{x}^T \\boldsymbol{w}_{\\ast j}}} \\nonumber\n",
    "$$"
   ]
  },
  {
   "cell_type": "markdown",
   "id": "69828d01",
   "metadata": {
    "editable": true
   },
   "source": [
    "<!-- Equation labels as ordinary links -->\n",
    "<div id=\"_auto45\"></div>\n",
    "\n",
    "$$\n",
    "\\begin{equation} \n",
    "\t= \\prod_j^N p_{BB} (h_j| \\boldsymbol{x}) .\n",
    "\\label{_auto45} \\tag{47}\n",
    "\\end{equation}\n",
    "$$"
   ]
  },
  {
   "cell_type": "markdown",
   "id": "2c4e4493",
   "metadata": {
    "editable": true
   },
   "source": [
    "From this we find the probability of a hidden unit being \"on\" or \"off\":"
   ]
  },
  {
   "cell_type": "markdown",
   "id": "95d67069",
   "metadata": {
    "editable": true
   },
   "source": [
    "<!-- Equation labels as ordinary links -->\n",
    "<div id=\"_auto46\"></div>\n",
    "\n",
    "$$\n",
    "\\begin{equation}\n",
    "\tp_{BB} (h_j=1 | \\boldsymbol{x}) =   \\frac{ e^{(b_j + \\boldsymbol{x}^T \\boldsymbol{w}_{\\ast j} ) h_j}  }\n",
    "\t{1 + e^{b_j + \\boldsymbol{x}^T \\boldsymbol{w}_{\\ast j}}} \n",
    "\\label{_auto46} \\tag{48}\n",
    "\\end{equation}\n",
    "$$"
   ]
  },
  {
   "cell_type": "markdown",
   "id": "c64aa219",
   "metadata": {
    "editable": true
   },
   "source": [
    "<!-- Equation labels as ordinary links -->\n",
    "<div id=\"_auto47\"></div>\n",
    "\n",
    "$$\n",
    "\\begin{equation} \n",
    "\t=  \\frac{ e^{(b_j + \\boldsymbol{x}^T \\boldsymbol{w}_{\\ast j} )}  }\n",
    "\t{1 + e^{b_j + \\boldsymbol{x}^T \\boldsymbol{w}_{\\ast j}}} \n",
    "\\label{_auto47} \\tag{49}\n",
    "\\end{equation}\n",
    "$$"
   ]
  },
  {
   "cell_type": "markdown",
   "id": "5bd87208",
   "metadata": {
    "editable": true
   },
   "source": [
    "<!-- Equation labels as ordinary links -->\n",
    "<div id=\"_auto48\"></div>\n",
    "\n",
    "$$\n",
    "\\begin{equation} \n",
    "\t=  \\frac{ 1 }{1 + e^{-(b_j + \\boldsymbol{x}^T \\boldsymbol{w}_{\\ast j})} } ,\n",
    "\\label{_auto48} \\tag{50}\n",
    "\\end{equation}\n",
    "$$"
   ]
  },
  {
   "cell_type": "markdown",
   "id": "9a600078",
   "metadata": {
    "editable": true
   },
   "source": [
    "and"
   ]
  },
  {
   "cell_type": "markdown",
   "id": "7199d016",
   "metadata": {
    "editable": true
   },
   "source": [
    "<!-- Equation labels as ordinary links -->\n",
    "<div id=\"_auto49\"></div>\n",
    "\n",
    "$$\n",
    "\\begin{equation}\n",
    "\tp_{BB} (h_j=0 | \\boldsymbol{x}) =\\frac{ 1 }{1 + e^{b_j + \\boldsymbol{x}^T \\boldsymbol{w}_{\\ast j}} } .\n",
    "\\label{_auto49} \\tag{51}\n",
    "\\end{equation}\n",
    "$$"
   ]
  },
  {
   "cell_type": "markdown",
   "id": "0a25098f",
   "metadata": {
    "editable": true
   },
   "source": [
    "Similarly we have that the conditional probability of the visible units given the hidden are"
   ]
  },
  {
   "cell_type": "markdown",
   "id": "df97f7bf",
   "metadata": {
    "editable": true
   },
   "source": [
    "<!-- Equation labels as ordinary links -->\n",
    "<div id=\"_auto50\"></div>\n",
    "\n",
    "$$\n",
    "\\begin{equation}\n",
    "\tp_{BB} (\\boldsymbol{x}|\\boldsymbol{h}) = \\prod_i^M \\frac{ e^{ (a_i + \\boldsymbol{w}_{i\\ast}^T \\boldsymbol{h}) x_i} }{ 1 + e^{a_i + \\boldsymbol{w}_{i\\ast}^T \\boldsymbol{h}} } \n",
    "\\label{_auto50} \\tag{52}\n",
    "\\end{equation}\n",
    "$$"
   ]
  },
  {
   "cell_type": "markdown",
   "id": "471f91a8",
   "metadata": {
    "editable": true
   },
   "source": [
    "<!-- Equation labels as ordinary links -->\n",
    "<div id=\"_auto51\"></div>\n",
    "\n",
    "$$\n",
    "\\begin{equation} \n",
    "\t= \\prod_i^M p_{BB} (x_i | \\boldsymbol{h}) .\n",
    "\\label{_auto51} \\tag{53}\n",
    "\\end{equation}\n",
    "$$"
   ]
  },
  {
   "cell_type": "markdown",
   "id": "1b93d2dc",
   "metadata": {
    "editable": true
   },
   "source": [
    "<!-- Equation labels as ordinary links -->\n",
    "<div id=\"_auto52\"></div>\n",
    "\n",
    "$$\n",
    "\\begin{equation}\n",
    "\tp_{BB} (x_i=1 | \\boldsymbol{h}) = \\frac{1}{1 + e^{-(a_i + \\boldsymbol{w}_{i\\ast}^T \\boldsymbol{h} )}} \n",
    "\\label{_auto52} \\tag{54}\n",
    "\\end{equation}\n",
    "$$"
   ]
  },
  {
   "cell_type": "markdown",
   "id": "78b812c3",
   "metadata": {
    "editable": true
   },
   "source": [
    "<!-- Equation labels as ordinary links -->\n",
    "<div id=\"_auto53\"></div>\n",
    "\n",
    "$$\n",
    "\\begin{equation} \n",
    "\tp_{BB} (x_i=0 | \\boldsymbol{h}) = \\frac{1}{1 + e^{a_i + \\boldsymbol{w}_{i\\ast}^T \\boldsymbol{h} }} .\n",
    "\\label{_auto53} \\tag{55}\n",
    "\\end{equation}\n",
    "$$"
   ]
  },
  {
   "cell_type": "markdown",
   "id": "863bbe1d",
   "metadata": {
    "editable": true
   },
   "source": [
    "### Gaussian-Binary Restricted Boltzmann Machines\n",
    "\n",
    "Inserting into the expression for $E_{RBM}(\\boldsymbol{x},\\boldsymbol{h})$ in equation  results in the energy"
   ]
  },
  {
   "cell_type": "markdown",
   "id": "7767eed4",
   "metadata": {
    "editable": true
   },
   "source": [
    "$$\n",
    "E_{GB}(\\boldsymbol{x}, \\boldsymbol{h}) = \\sum_i^M \\frac{(x_i - a_i)^2}{2\\sigma_i^2}\n",
    "\t- \\sum_j^N b_j h_j \n",
    "\t-\\sum_{ij}^{M,N} \\frac{x_i w_{ij} h_j}{\\sigma_i^2} \\nonumber\n",
    "$$"
   ]
  },
  {
   "cell_type": "markdown",
   "id": "481e3451",
   "metadata": {
    "editable": true
   },
   "source": [
    "<!-- Equation labels as ordinary links -->\n",
    "<div id=\"_auto54\"></div>\n",
    "\n",
    "$$\n",
    "\\begin{equation} \n",
    "\t= \\vert\\vert\\frac{\\boldsymbol{x} -\\boldsymbol{a}}{2\\boldsymbol{\\sigma}}\\vert\\vert^2 - \\boldsymbol{b}^T \\boldsymbol{h} \n",
    "\t- (\\frac{\\boldsymbol{x}}{\\boldsymbol{\\sigma}^2})^T \\boldsymbol{W}\\boldsymbol{h} . \n",
    "\\label{_auto54} \\tag{56}\n",
    "\\end{equation}\n",
    "$$"
   ]
  },
  {
   "cell_type": "markdown",
   "id": "9e9d5e80",
   "metadata": {
    "editable": true
   },
   "source": [
    "### Joint Probability Density Function"
   ]
  },
  {
   "cell_type": "markdown",
   "id": "a422b32e",
   "metadata": {
    "editable": true
   },
   "source": [
    "$$\n",
    "p_{GB} (\\boldsymbol{x}, \\boldsymbol{h}) = \\frac{1}{Z_{GB}} e^{-\\vert\\vert\\frac{\\boldsymbol{x} -\\boldsymbol{a}}{2\\boldsymbol{\\sigma}}\\vert\\vert^2 + \\boldsymbol{b}^T \\boldsymbol{h} \n",
    "\t+ (\\frac{\\boldsymbol{x}}{\\boldsymbol{\\sigma}^2})^T \\boldsymbol{W}\\boldsymbol{h}} \\nonumber\n",
    "$$"
   ]
  },
  {
   "cell_type": "markdown",
   "id": "49d04ea1",
   "metadata": {
    "editable": true
   },
   "source": [
    "$$\n",
    "= \\frac{1}{Z_{GB}} e^{- \\sum_i^M \\frac{(x_i - a_i)^2}{2\\sigma_i^2}\n",
    "\t+ \\sum_j^N b_j h_j \n",
    "\t+\\sum_{ij}^{M,N} \\frac{x_i w_{ij} h_j}{\\sigma_i^2}} \\nonumber\n",
    "$$"
   ]
  },
  {
   "cell_type": "markdown",
   "id": "9c6f1fc3",
   "metadata": {
    "editable": true
   },
   "source": [
    "<!-- Equation labels as ordinary links -->\n",
    "<div id=\"_auto55\"></div>\n",
    "\n",
    "$$\n",
    "\\begin{equation} \n",
    "\t= \\frac{1}{Z_{GB}} \\prod_{ij}^{M,N} e^{-\\frac{(x_i - a_i)^2}{2\\sigma_i^2}\n",
    "\t+ b_j h_j \n",
    "\t+\\frac{x_i w_{ij} h_j}{\\sigma_i^2}} ,\n",
    "\\label{_auto55} \\tag{57}\n",
    "\\end{equation}\n",
    "$$"
   ]
  },
  {
   "cell_type": "markdown",
   "id": "dd833f93",
   "metadata": {
    "editable": true
   },
   "source": [
    "with the partition function given by"
   ]
  },
  {
   "cell_type": "markdown",
   "id": "9c56b921",
   "metadata": {
    "editable": true
   },
   "source": [
    "<!-- Equation labels as ordinary links -->\n",
    "<div id=\"_auto56\"></div>\n",
    "\n",
    "$$\n",
    "\\begin{equation}\n",
    "\tZ_{GB} = \\int \\sum_{\\tilde{\\boldsymbol{h}}}^{\\tilde{\\boldsymbol{H}}} e^{-\\vert\\vert\\frac{\\tilde{\\boldsymbol{x}} -\\boldsymbol{a}}{2\\boldsymbol{\\sigma}}\\vert\\vert^2 + \\boldsymbol{b}^T \\tilde{\\boldsymbol{h}} \n",
    "\t+ (\\frac{\\tilde{\\boldsymbol{x}}}{\\boldsymbol{\\sigma}^2})^T \\boldsymbol{W}\\tilde{\\boldsymbol{h}}} d\\tilde{\\boldsymbol{x}} .\n",
    "\\label{_auto56} \\tag{58}\n",
    "\\end{equation}\n",
    "$$"
   ]
  },
  {
   "cell_type": "markdown",
   "id": "e2dc0100",
   "metadata": {
    "editable": true
   },
   "source": [
    "### Marginal Probability Density Functions\n",
    "\n",
    "We proceed to find the marginal probability densitites of the\n",
    "Gaussian-binary RBM. We first marginalize over the binary hidden units\n",
    "to find $p_{GB} (\\boldsymbol{x})$"
   ]
  },
  {
   "cell_type": "markdown",
   "id": "287eee0f",
   "metadata": {
    "editable": true
   },
   "source": [
    "$$\n",
    "p_{GB} (\\boldsymbol{x}) = \\sum_{\\tilde{\\boldsymbol{h}}}^{\\tilde{\\boldsymbol{H}}} p_{GB} (\\boldsymbol{x}, \\tilde{\\boldsymbol{h}}) \\nonumber\n",
    "$$"
   ]
  },
  {
   "cell_type": "markdown",
   "id": "3be79129",
   "metadata": {
    "editable": true
   },
   "source": [
    "$$\n",
    "= \\frac{1}{Z_{GB}} \\sum_{\\tilde{\\boldsymbol{h}}}^{\\tilde{\\boldsymbol{H}}} \n",
    "\te^{-\\vert\\vert\\frac{\\boldsymbol{x} -\\boldsymbol{a}}{2\\boldsymbol{\\sigma}}\\vert\\vert^2 + \\boldsymbol{b}^T \\tilde{\\boldsymbol{h}} \n",
    "\t+ (\\frac{\\boldsymbol{x}}{\\boldsymbol{\\sigma}^2})^T \\boldsymbol{W}\\tilde{\\boldsymbol{h}}} \\nonumber\n",
    "$$"
   ]
  },
  {
   "cell_type": "markdown",
   "id": "5c695e7c",
   "metadata": {
    "editable": true
   },
   "source": [
    "<!-- Equation labels as ordinary links -->\n",
    "<div id=\"_auto57\"></div>\n",
    "\n",
    "$$\n",
    "\\begin{equation} \n",
    "\t= \\frac{1}{Z_{GB}} e^{-\\vert\\vert\\frac{\\boldsymbol{x} -\\boldsymbol{a}}{2\\boldsymbol{\\sigma}}\\vert\\vert^2}\n",
    "\t\\prod_j^N (1 + e^{b_j + (\\frac{\\boldsymbol{x}}{\\boldsymbol{\\sigma}^2})^T \\boldsymbol{w}_{\\ast j}} ) .\n",
    "\\label{_auto57} \\tag{59}\n",
    "\\end{equation}\n",
    "$$"
   ]
  },
  {
   "cell_type": "markdown",
   "id": "f82c9ce9",
   "metadata": {
    "editable": true
   },
   "source": [
    "We next marginalize over the visible units. This is the first time we\n",
    "marginalize over continuous values. We rewrite the exponential factor\n",
    "dependent on $\\boldsymbol{x}$ as a Gaussian function before we integrate in\n",
    "the last step."
   ]
  },
  {
   "cell_type": "markdown",
   "id": "04e45db6",
   "metadata": {
    "editable": true
   },
   "source": [
    "$$\n",
    "p_{GB} (\\boldsymbol{h}) = \\int p_{GB} (\\tilde{\\boldsymbol{x}}, \\boldsymbol{h}) d\\tilde{\\boldsymbol{x}} \\nonumber\n",
    "$$"
   ]
  },
  {
   "cell_type": "markdown",
   "id": "fd220712",
   "metadata": {
    "editable": true
   },
   "source": [
    "$$\n",
    "= \\frac{1}{Z_{GB}} \\int e^{-\\vert\\vert\\frac{\\tilde{\\boldsymbol{x}} -\\boldsymbol{a}}{2\\boldsymbol{\\sigma}}\\vert\\vert^2 + \\boldsymbol{b}^T \\boldsymbol{h} \n",
    "\t+ (\\frac{\\tilde{\\boldsymbol{x}}}{\\boldsymbol{\\sigma}^2})^T \\boldsymbol{W}\\boldsymbol{h}} d\\tilde{\\boldsymbol{x}} \\nonumber\n",
    "$$"
   ]
  },
  {
   "cell_type": "markdown",
   "id": "a08eb272",
   "metadata": {
    "editable": true
   },
   "source": [
    "$$\n",
    "= \\frac{1}{Z_{GB}} e^{\\boldsymbol{b}^T \\boldsymbol{h} } \\int \\prod_i^M\n",
    "\te^{- \\frac{(\\tilde{x}_i - a_i)^2}{2\\sigma_i^2} + \\frac{\\tilde{x}_i \\boldsymbol{w}_{i\\ast}^T \\boldsymbol{h}}{\\sigma_i^2} } d\\tilde{\\boldsymbol{x}} \\nonumber\n",
    "$$"
   ]
  },
  {
   "cell_type": "markdown",
   "id": "e2d3e596",
   "metadata": {
    "editable": true
   },
   "source": [
    "$$\n",
    "= \\frac{1}{Z_{GB}} e^{\\boldsymbol{b}^T \\boldsymbol{h} }\n",
    "\t\\biggl( \\int e^{- \\frac{(\\tilde{x}_1 - a_1)^2}{2\\sigma_1^2} + \\frac{\\tilde{x}_1 \\boldsymbol{w}_{1\\ast}^T \\boldsymbol{h}}{\\sigma_1^2} } d\\tilde{x}_1 \\nonumber\n",
    "$$"
   ]
  },
  {
   "cell_type": "markdown",
   "id": "2eecd25c",
   "metadata": {
    "editable": true
   },
   "source": [
    "$$\n",
    "\\times \\int e^{- \\frac{(\\tilde{x}_2 - a_2)^2}{2\\sigma_2^2} + \\frac{\\tilde{x}_2 \\boldsymbol{w}_{2\\ast}^T \\boldsymbol{h}}{\\sigma_2^2} } d\\tilde{x}_2 \\nonumber\n",
    "$$"
   ]
  },
  {
   "cell_type": "markdown",
   "id": "e309043b",
   "metadata": {
    "editable": true
   },
   "source": [
    "$$\n",
    "\\times ... \\nonumber\n",
    "$$"
   ]
  },
  {
   "cell_type": "markdown",
   "id": "b5cf5b6d",
   "metadata": {
    "editable": true
   },
   "source": [
    "$$\n",
    "\\times \\int e^{- \\frac{(\\tilde{x}_M - a_M)^2}{2\\sigma_M^2} + \\frac{\\tilde{x}_M \\boldsymbol{w}_{M\\ast}^T \\boldsymbol{h}}{\\sigma_M^2} } d\\tilde{x}_M \\biggr) \\nonumber\n",
    "$$"
   ]
  },
  {
   "cell_type": "markdown",
   "id": "79a8a8d9",
   "metadata": {
    "editable": true
   },
   "source": [
    "$$\n",
    "= \\frac{1}{Z_{GB}} e^{\\boldsymbol{b}^T \\boldsymbol{h}} \\prod_i^M\n",
    "\t\\int e^{- \\frac{(\\tilde{x}_i - a_i)^2 - 2\\tilde{x}_i \\boldsymbol{w}_{i\\ast}^T \\boldsymbol{h}}{2\\sigma_i^2} } d\\tilde{x}_i \\nonumber\n",
    "$$"
   ]
  },
  {
   "cell_type": "markdown",
   "id": "2d7e21fb",
   "metadata": {
    "editable": true
   },
   "source": [
    "$$\n",
    "= \\frac{1}{Z_{GB}} e^{\\boldsymbol{b}^T \\boldsymbol{h}} \\prod_i^M\n",
    "\t\\int e^{- \\frac{\\tilde{x}_i^2 - 2\\tilde{x}_i(a_i + \\tilde{x}_i \\boldsymbol{w}_{i\\ast}^T \\boldsymbol{h}) + a_i^2}{2\\sigma_i^2} } d\\tilde{x}_i \\nonumber\n",
    "$$"
   ]
  },
  {
   "cell_type": "markdown",
   "id": "aee59567",
   "metadata": {
    "editable": true
   },
   "source": [
    "$$\n",
    "= \\frac{1}{Z_{GB}} e^{\\boldsymbol{b}^T \\boldsymbol{h}} \\prod_i^M\n",
    "\t\\int e^{- \\frac{\\tilde{x}_i^2 - 2\\tilde{x}_i(a_i + \\boldsymbol{w}_{i\\ast}^T \\boldsymbol{h}) + (a_i + \\boldsymbol{w}_{i\\ast}^T \\boldsymbol{h})^2 - (a_i + \\boldsymbol{w}_{i\\ast}^T \\boldsymbol{h})^2 + a_i^2}{2\\sigma_i^2} } d\\tilde{x}_i \\nonumber\n",
    "$$"
   ]
  },
  {
   "cell_type": "markdown",
   "id": "942af30d",
   "metadata": {
    "editable": true
   },
   "source": [
    "$$\n",
    "= \\frac{1}{Z_{GB}} e^{\\boldsymbol{b}^T \\boldsymbol{h}} \\prod_i^M\n",
    "\t\\int e^{- \\frac{(\\tilde{x}_i - (a_i + \\boldsymbol{w}_{i\\ast}^T \\boldsymbol{h}))^2 - a_i^2 -2a_i \\boldsymbol{w}_{i\\ast}^T \\boldsymbol{h} - (\\boldsymbol{w}_{i\\ast}^T \\boldsymbol{h})^2 + a_i^2}{2\\sigma_i^2} } d\\tilde{x}_i \\nonumber\n",
    "$$"
   ]
  },
  {
   "cell_type": "markdown",
   "id": "bd078860",
   "metadata": {
    "editable": true
   },
   "source": [
    "$$\n",
    "= \\frac{1}{Z_{GB}} e^{\\boldsymbol{b}^T \\boldsymbol{h}} \\prod_i^M\n",
    "\te^{\\frac{2a_i \\boldsymbol{w}_{i\\ast}^T \\boldsymbol{h} +(\\boldsymbol{w}_{i\\ast}^T \\boldsymbol{h})^2 }{2\\sigma_i^2}}\n",
    "\t\\int e^{- \\frac{(\\tilde{x}_i - a_i - \\boldsymbol{w}_{i\\ast}^T \\boldsymbol{h})^2}{2\\sigma_i^2}}\n",
    "\td\\tilde{x}_i \\nonumber\n",
    "$$"
   ]
  },
  {
   "cell_type": "markdown",
   "id": "44aac8c2",
   "metadata": {
    "editable": true
   },
   "source": [
    "<!-- Equation labels as ordinary links -->\n",
    "<div id=\"_auto58\"></div>\n",
    "\n",
    "$$\n",
    "\\begin{equation} \n",
    "\t= \\frac{1}{Z_{GB}} e^{\\boldsymbol{b}^T \\boldsymbol{h}} \\prod_i^M\n",
    "\t\\sqrt{2\\pi \\sigma_i^2}\n",
    "\te^{\\frac{2a_i \\boldsymbol{w}_{i\\ast}^T \\boldsymbol{h} +(\\boldsymbol{w}_{i\\ast}^T \\boldsymbol{h})^2 }{2\\sigma_i^2}} .\n",
    "\\label{_auto58} \\tag{60}\n",
    "\\end{equation}\n",
    "$$"
   ]
  },
  {
   "cell_type": "markdown",
   "id": "4c478958",
   "metadata": {
    "editable": true
   },
   "source": [
    "### Conditional Probability Density Functions\n",
    "\n",
    "We finish by deriving the conditional probabilities."
   ]
  },
  {
   "cell_type": "markdown",
   "id": "2338c51a",
   "metadata": {
    "editable": true
   },
   "source": [
    "$$\n",
    "p_{GB} (\\boldsymbol{h}| \\boldsymbol{x}) = \\frac{p_{GB} (\\boldsymbol{x}, \\boldsymbol{h})}{p_{GB} (\\boldsymbol{x})} \\nonumber\n",
    "$$"
   ]
  },
  {
   "cell_type": "markdown",
   "id": "6941eb08",
   "metadata": {
    "editable": true
   },
   "source": [
    "$$\n",
    "= \\frac{\\frac{1}{Z_{GB}} e^{-\\vert\\vert\\frac{\\boldsymbol{x} -\\boldsymbol{a}}{2\\boldsymbol{\\sigma}}\\vert\\vert^2 + \\boldsymbol{b}^T \\boldsymbol{h} \n",
    "\t+ (\\frac{\\boldsymbol{x}}{\\boldsymbol{\\sigma}^2})^T \\boldsymbol{W}\\boldsymbol{h}}}\n",
    "\t{\\frac{1}{Z_{GB}} e^{-\\vert\\vert\\frac{\\boldsymbol{x} -\\boldsymbol{a}}{2\\boldsymbol{\\sigma}}\\vert\\vert^2}\n",
    "\t\\prod_j^N (1 + e^{b_j + (\\frac{\\boldsymbol{x}}{\\boldsymbol{\\sigma}^2})^T \\boldsymbol{w}_{\\ast j}} ) }\n",
    "\t\\nonumber\n",
    "$$"
   ]
  },
  {
   "cell_type": "markdown",
   "id": "727c2c21",
   "metadata": {
    "editable": true
   },
   "source": [
    "$$\n",
    "= \\prod_j^N \\frac{e^{(b_j + (\\frac{\\boldsymbol{x}}{\\boldsymbol{\\sigma}^2})^T \\boldsymbol{w}_{\\ast j})h_j } }\n",
    "\t{1 + e^{b_j + (\\frac{\\boldsymbol{x}}{\\boldsymbol{\\sigma}^2})^T \\boldsymbol{w}_{\\ast j}}} \\nonumber\n",
    "$$"
   ]
  },
  {
   "cell_type": "markdown",
   "id": "c08dd2f3",
   "metadata": {
    "editable": true
   },
   "source": [
    "<!-- Equation labels as ordinary links -->\n",
    "<div id=\"_auto59\"></div>\n",
    "\n",
    "$$\n",
    "\\begin{equation} \n",
    "\t= \\prod_j^N p_{GB} (h_j|\\boldsymbol{x}).\n",
    "\\label{_auto59} \\tag{61}\n",
    "\\end{equation}\n",
    "$$"
   ]
  },
  {
   "cell_type": "markdown",
   "id": "c1285cb6",
   "metadata": {
    "editable": true
   },
   "source": [
    "The conditional probability of a binary hidden unit $h_j$ being on or off again takes the form of a sigmoid function"
   ]
  },
  {
   "cell_type": "markdown",
   "id": "5e4efbb4",
   "metadata": {
    "editable": true
   },
   "source": [
    "$$\n",
    "p_{GB} (h_j =1 | \\boldsymbol{x}) = \\frac{e^{b_j + (\\frac{\\boldsymbol{x}}{\\boldsymbol{\\sigma}^2})^T \\boldsymbol{w}_{\\ast j} } }\n",
    "\t{1 + e^{b_j + (\\frac{\\boldsymbol{x}}{\\boldsymbol{\\sigma}^2})^T \\boldsymbol{w}_{\\ast j}}} \\nonumber\n",
    "$$"
   ]
  },
  {
   "cell_type": "markdown",
   "id": "ba4154b7",
   "metadata": {
    "editable": true
   },
   "source": [
    "<!-- Equation labels as ordinary links -->\n",
    "<div id=\"_auto60\"></div>\n",
    "\n",
    "$$\n",
    "\\begin{equation} \n",
    "\t= \\frac{1}{1 + e^{-b_j - (\\frac{\\boldsymbol{x}}{\\boldsymbol{\\sigma}^2})^T \\boldsymbol{w}_{\\ast j}}} \n",
    "\\label{_auto60} \\tag{62}\n",
    "\\end{equation}\n",
    "$$"
   ]
  },
  {
   "cell_type": "markdown",
   "id": "c38bcd5f",
   "metadata": {
    "editable": true
   },
   "source": [
    "<!-- Equation labels as ordinary links -->\n",
    "<div id=\"_auto61\"></div>\n",
    "\n",
    "$$\n",
    "\\begin{equation} \n",
    "\tp_{GB} (h_j =0 | \\boldsymbol{x}) =\n",
    "\t\\frac{1}{1 + e^{b_j +(\\frac{\\boldsymbol{x}}{\\boldsymbol{\\sigma}^2})^T \\boldsymbol{w}_{\\ast j}}} .\n",
    "\\label{_auto61} \\tag{63}\n",
    "\\end{equation}\n",
    "$$"
   ]
  },
  {
   "cell_type": "markdown",
   "id": "fb5d8193",
   "metadata": {
    "editable": true
   },
   "source": [
    "The conditional probability of the continuous $\\boldsymbol{x}$ now has another form, however."
   ]
  },
  {
   "cell_type": "markdown",
   "id": "bc85de70",
   "metadata": {
    "editable": true
   },
   "source": [
    "$$\n",
    "p_{GB} (\\boldsymbol{x}|\\boldsymbol{h})\n",
    "\t= \\frac{p_{GB} (\\boldsymbol{x}, \\boldsymbol{h})}{p_{GB} (\\boldsymbol{h})} \\nonumber\n",
    "$$"
   ]
  },
  {
   "cell_type": "markdown",
   "id": "584a8f44",
   "metadata": {
    "editable": true
   },
   "source": [
    "$$\n",
    "= \\frac{\\frac{1}{Z_{GB}} e^{-\\vert\\vert\\frac{\\boldsymbol{x} -\\boldsymbol{a}}{2\\boldsymbol{\\sigma}}\\vert\\vert^2 + \\boldsymbol{b}^T \\boldsymbol{h} \n",
    "\t+ (\\frac{\\boldsymbol{x}}{\\boldsymbol{\\sigma}^2})^T \\boldsymbol{W}\\boldsymbol{h}}}\n",
    "\t{\\frac{1}{Z_{GB}} e^{\\boldsymbol{b}^T \\boldsymbol{h}} \\prod_i^M\n",
    "\t\\sqrt{2\\pi \\sigma_i^2}\n",
    "\te^{\\frac{2a_i \\boldsymbol{w}_{i\\ast}^T \\boldsymbol{h} +(\\boldsymbol{w}_{i\\ast}^T \\boldsymbol{h})^2 }{2\\sigma_i^2}}}\n",
    "\t\\nonumber\n",
    "$$"
   ]
  },
  {
   "cell_type": "markdown",
   "id": "37d866fa",
   "metadata": {
    "editable": true
   },
   "source": [
    "$$\n",
    "= \\prod_i^M \\frac{1}{\\sqrt{2\\pi \\sigma_i^2}}\n",
    "\t\\frac{e^{- \\frac{(x_i - a_i)^2}{2\\sigma_i^2} + \\frac{x_i \\boldsymbol{w}_{i\\ast}^T \\boldsymbol{h}}{2\\sigma_i^2} }}\n",
    "\t{e^{\\frac{2a_i \\boldsymbol{w}_{i\\ast}^T \\boldsymbol{h} +(\\boldsymbol{w}_{i\\ast}^T \\boldsymbol{h})^2 }{2\\sigma_i^2}}}\n",
    "\t\\nonumber\n",
    "$$"
   ]
  },
  {
   "cell_type": "markdown",
   "id": "e7c0965f",
   "metadata": {
    "editable": true
   },
   "source": [
    "$$\n",
    "= \\prod_i^M \\frac{1}{\\sqrt{2\\pi \\sigma_i^2}}\n",
    "\t\\frac{e^{-\\frac{x_i^2 - 2a_i x_i + a_i^2 - 2x_i \\boldsymbol{w}_{i\\ast}^T\\boldsymbol{h} }{2\\sigma_i^2} } }\n",
    "\t{e^{\\frac{2a_i \\boldsymbol{w}_{i\\ast}^T \\boldsymbol{h} +(\\boldsymbol{w}_{i\\ast}^T \\boldsymbol{h})^2 }{2\\sigma_i^2}}}\n",
    "\t\\nonumber\n",
    "$$"
   ]
  },
  {
   "cell_type": "markdown",
   "id": "75bb9252",
   "metadata": {
    "editable": true
   },
   "source": [
    "$$\n",
    "= \\prod_i^M \\frac{1}{\\sqrt{2\\pi \\sigma_i^2}}\n",
    "\te^{- \\frac{x_i^2 - 2a_i x_i + a_i^2 - 2x_i \\boldsymbol{w}_{i\\ast}^T\\boldsymbol{h}\n",
    "\t+ 2a_i \\boldsymbol{w}_{i\\ast}^T \\boldsymbol{h} +(\\boldsymbol{w}_{i\\ast}^T \\boldsymbol{h})^2}\n",
    "\t{2\\sigma_i^2} }\n",
    "\t\\nonumber\n",
    "$$"
   ]
  },
  {
   "cell_type": "markdown",
   "id": "fa245456",
   "metadata": {
    "editable": true
   },
   "source": [
    "$$\n",
    "= \\prod_i^M \\frac{1}{\\sqrt{2\\pi \\sigma_i^2}}\n",
    "\te^{ - \\frac{(x_i - b_i - \\boldsymbol{w}_{i\\ast}^T \\boldsymbol{h})^2}{2\\sigma_i^2}} \\nonumber\n",
    "$$"
   ]
  },
  {
   "cell_type": "markdown",
   "id": "f5c8e42e",
   "metadata": {
    "editable": true
   },
   "source": [
    "<!-- Equation labels as ordinary links -->\n",
    "<div id=\"_auto62\"></div>\n",
    "\n",
    "$$\n",
    "\\begin{equation} \n",
    "\t= \\prod_i^M \\mathcal{N}\n",
    "\t(x_i | b_i + \\boldsymbol{w}_{i\\ast}^T \\boldsymbol{h}, \\sigma_i^2) \n",
    "\\label{_auto62} \\tag{64}\n",
    "\\end{equation}\n",
    "$$"
   ]
  },
  {
   "cell_type": "markdown",
   "id": "3e169e0b",
   "metadata": {
    "editable": true
   },
   "source": [
    "<!-- Equation labels as ordinary links -->\n",
    "<div id=\"_auto63\"></div>\n",
    "\n",
    "$$\n",
    "\\begin{equation} \n",
    "\t\\Rightarrow p_{GB} (x_i|\\boldsymbol{h}) = \\mathcal{N}\n",
    "\t(x_i | b_i + \\boldsymbol{w}_{i\\ast}^T \\boldsymbol{h}, \\sigma_i^2) .\n",
    "\\label{_auto63} \\tag{65}\n",
    "\\end{equation}\n",
    "$$"
   ]
  },
  {
   "cell_type": "markdown",
   "id": "ecd51c21",
   "metadata": {
    "editable": true
   },
   "source": [
    "The form of these conditional probabilities explains the name\n",
    "\"Gaussian\" and the form of the Gaussian-binary energy function. We see\n",
    "that the conditional probability of $x_i$ given $\\boldsymbol{h}$ is a normal\n",
    "distribution with mean $b_i + \\boldsymbol{w}_{i\\ast}^T \\boldsymbol{h}$ and variance\n",
    "$\\sigma_i^2$."
   ]
  }
 ],
 "metadata": {},
 "nbformat": 4,
 "nbformat_minor": 5
}
