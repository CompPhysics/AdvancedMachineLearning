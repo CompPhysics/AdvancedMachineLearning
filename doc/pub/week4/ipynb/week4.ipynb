{
 "cells": [
  {
   "cell_type": "markdown",
   "id": "2633814b",
   "metadata": {},
   "source": [
    "<!-- HTML file automatically generated from DocOnce source (https://github.com/doconce/doconce/)\n",
    "doconce format html week4.do.txt --no_mako -->\n",
    "<!-- dom:TITLE: February 5-9: Advanced machine learning and data analysis for the physical sciences -->"
   ]
  },
  {
   "cell_type": "markdown",
   "id": "68f70750",
   "metadata": {},
   "source": [
    "# February 5-9: Advanced machine learning and data analysis for the physical sciences\n",
    "**Morten Hjorth-Jensen**, Department of Physics and Center for Computing in Science Education, University of Oslo, Norway and Department of Physics and Astronomy and Facility for Rare Isotope Beams, Michigan State University, East Lansing, Michigan, USA\n",
    "\n",
    "Date: **February 6, 2024**"
   ]
  },
  {
   "cell_type": "markdown",
   "id": "28cbec3b",
   "metadata": {},
   "source": [
    "## Overview of fourth  week, February 5-9\n",
    "\n",
    "1. Review of neural networks and automatic differentiation\n",
    "\n",
    "2. Discussion of codes\n",
    "\n",
    "3. Start discussing Convolutional  Neural Networks (CNNs)."
   ]
  },
  {
   "cell_type": "markdown",
   "id": "78225f39",
   "metadata": {},
   "source": [
    "## Mathematics of deep learning\n",
    "\n",
    "**Two recent books online.**\n",
    "\n",
    "1. [The Modern Mathematics of Deep Learning, by Julius Berner, Philipp Grohs, Gitta Kutyniok, Philipp Petersen](https://arxiv.org/abs/2105.04026), published as [Mathematical Aspects of Deep Learning, pp. 1-111. Cambridge University Press, 2022](https://doi.org/10.1017/9781009025096.002)\n",
    "\n",
    "2. [Mathematical Introduction to Deep Learning: Methods, Implementations, and Theory, Arnulf Jentzen, Benno Kuckuck, Philippe von Wurstemberger](https://doi.org/10.48550/arXiv.2310.20360)"
   ]
  },
  {
   "cell_type": "markdown",
   "id": "10788b59",
   "metadata": {},
   "source": [
    "## Reminder on books with hands-on material and codes\n",
    "* [Sebastian Rashcka et al, Machine learning with Sickit-Learn and PyTorch](https://sebastianraschka.com/blog/2022/ml-pytorch-book.html)\n",
    "\n",
    "* [David Foster, Generative Deep Learning with TensorFlow](https://www.oreilly.com/library/view/generative-deep-learning/9781098134174/ch01.html)\n",
    "\n",
    "* [Bali and Gavras, Generative AI with Python and TensorFlow 2](https://github.com/PacktPublishing/Hands-On-Generative-AI-with-Python-and-TensorFlow-2)\n",
    "\n",
    "All three books have GitHub addresses from where  one can download all codes. We will borrow most of the material from these three texts as well as \n",
    "from Goodfellow, Bengio and Courville's text [Deep Learning](https://www.deeplearningbook.org/)"
   ]
  },
  {
   "cell_type": "markdown",
   "id": "c66b8a08",
   "metadata": {},
   "source": [
    "## Reading recommendations\n",
    "\n",
    "1. Rashkca et al., chapter 11, jupyter-notebook sent separately, from [GitHub](https://github.com/rasbt/machine-learning-book)\n",
    "\n",
    "2. Goodfellow et al, chapter 6 and 7 contain most of the neural network background.\n",
    "\n",
    "3. For CNNs, Goodfellow etal chapter 9 and Rashcka et al., chapter 14"
   ]
  },
  {
   "cell_type": "markdown",
   "id": "97e96792",
   "metadata": {},
   "source": [
    "## Videos on CNNs\n",
    "\n",
    "Excellent lectures on CNNs and Neural Networks\n",
    "* [Video on Deep Learning](https://www.youtube.com/playlist?list=PLZHQObOWTQDNU6R1_67000Dx_ZCJB-3pi)\n",
    "\n",
    "* [Video  on Convolutional Neural Networks from MIT](https://www.youtube.com/watch?v=iaSUYvmCekI&ab_channel=AlexanderAmini)\n",
    "\n",
    "* [Video on CNNs from Stanford](https://www.youtube.com/watch?v=bNb2fEVKeEo&list=PLC1qU-LWwrF64f4QKQT-Vg5Wr4qEE1Zxk&index=6&ab_channel=StanfordUniversitySchoolofEngineering)"
   ]
  },
  {
   "cell_type": "markdown",
   "id": "b5390394",
   "metadata": {},
   "source": [
    "## First network example, simple percepetron with one input\n",
    "\n",
    "As yet another example we define now a simple perceptron model with\n",
    "all quantities given by scalars. We consider only one input variable\n",
    "$x$ and one target value $y$.  We define an activation function\n",
    "$\\sigma_1$ which takes as input"
   ]
  },
  {
   "cell_type": "markdown",
   "id": "5fd70be2",
   "metadata": {},
   "source": [
    "$$\n",
    "z_1 = w_1x+b_1,\n",
    "$$"
   ]
  },
  {
   "cell_type": "markdown",
   "id": "b2754702",
   "metadata": {},
   "source": [
    "where $w_1$ is the weight and $b_1$ is the bias. These are the\n",
    "parameters we want to optimize.  The output is $a_1=\\sigma(z_1)$ (see\n",
    "graph from whiteboard notes). This output is then fed into the\n",
    "**cost/loss** function, which we here for the sake of simplicity just\n",
    "define as the squared error"
   ]
  },
  {
   "cell_type": "markdown",
   "id": "d645c66d",
   "metadata": {},
   "source": [
    "$$\n",
    "C(x;w_1,b_1)=\\frac{1}{2}(a_1-y)^2.\n",
    "$$"
   ]
  },
  {
   "cell_type": "markdown",
   "id": "d6f2ebc3",
   "metadata": {},
   "source": [
    "## Layout of a simple neural network with no hidden layer\n",
    "\n",
    "<!-- dom:FIGURE: [figures/simplenn1.png, width=900 frac=1.0] -->\n",
    "<!-- begin figure -->\n",
    "\n",
    "<img src=\"figures/simplenn1.png\" width=\"900\"><p style=\"font-size: 0.9em\"><i>Figure 1: </i></p>\n",
    "<!-- end figure -->"
   ]
  },
  {
   "cell_type": "markdown",
   "id": "4470e273",
   "metadata": {},
   "source": [
    "## Optimizing the parameters\n",
    "\n",
    "In setting up the feed forward and back propagation parts of the\n",
    "algorithm, we need now the derivative of the various variables we want\n",
    "to train.\n",
    "\n",
    "We need"
   ]
  },
  {
   "cell_type": "markdown",
   "id": "f0119a69",
   "metadata": {},
   "source": [
    "$$\n",
    "\\frac{\\partial C}{\\partial w_1} \\hspace{0.1cm}\\mathrm{and}\\hspace{0.1cm}\\frac{\\partial C}{\\partial b_1}.\n",
    "$$"
   ]
  },
  {
   "cell_type": "markdown",
   "id": "0df499f0",
   "metadata": {},
   "source": [
    "Using the chain rule we find"
   ]
  },
  {
   "cell_type": "markdown",
   "id": "9bcce7cc",
   "metadata": {},
   "source": [
    "$$\n",
    "\\frac{\\partial C}{\\partial w_1}=\\frac{\\partial C}{\\partial a_1}\\frac{\\partial a_1}{\\partial z_1}\\frac{\\partial z_1}{\\partial w_1}=(a_1-y)\\sigma_1'x,\n",
    "$$"
   ]
  },
  {
   "cell_type": "markdown",
   "id": "53af2abe",
   "metadata": {},
   "source": [
    "and"
   ]
  },
  {
   "cell_type": "markdown",
   "id": "2e7c0e90",
   "metadata": {},
   "source": [
    "$$\n",
    "\\frac{\\partial C}{\\partial b_1}=\\frac{\\partial C}{\\partial a_1}\\frac{\\partial a_1}{\\partial z_1}\\frac{\\partial z_1}{\\partial b_1}=(a_1-y)\\sigma_1',\n",
    "$$"
   ]
  },
  {
   "cell_type": "markdown",
   "id": "53451553",
   "metadata": {},
   "source": [
    "which we later will just define as"
   ]
  },
  {
   "cell_type": "markdown",
   "id": "ae6860b2",
   "metadata": {},
   "source": [
    "$$\n",
    "\\frac{\\partial C}{\\partial a_1}\\frac{\\partial a_1}{\\partial z_1}=\\delta_1.\n",
    "$$"
   ]
  },
  {
   "cell_type": "markdown",
   "id": "049c93ec",
   "metadata": {},
   "source": [
    "## Implementing the simple perceptron model\n",
    "\n",
    "In the example code here we implement the above equations (with explict\n",
    "expressions for the derivatives) with just one input variable $x$ and\n",
    "one output variable.  The target value $y=2x+1$ is a simple linear\n",
    "function in $x$. Since this is a regression problem, we define the cost function to be proportional to the least squares error"
   ]
  },
  {
   "cell_type": "markdown",
   "id": "28e47bff",
   "metadata": {},
   "source": [
    "$$\n",
    "C(y,w_1,b_1)=\\frac{1}{2}(a_1-y)^2,\n",
    "$$"
   ]
  },
  {
   "cell_type": "markdown",
   "id": "2b92232c",
   "metadata": {},
   "source": [
    "with $a_1$ the output from the network."
   ]
  },
  {
   "cell_type": "code",
   "execution_count": 4,
   "id": "09dd1ced",
   "metadata": {},
   "outputs": [
    {
     "name": "stdout",
     "output_type": "stream",
     "text": [
      "1.5243828651310408e-15\n"
     ]
    }
   ],
   "source": [
    "%matplotlib inline\n",
    "\n",
    "# import necessary packages\n",
    "import numpy as np\n",
    "import matplotlib.pyplot as plt\n",
    "\n",
    "def feed_forward(x):\n",
    "    # weighted sum of inputs to the output layer\n",
    "    z_1 = x*output_weights + output_bias\n",
    "    # Output from output node (one node only)\n",
    "    # Here the output is equal to the input\n",
    "    a_1 = z_1\n",
    "    return a_1\n",
    "\n",
    "def backpropagation(x, y):\n",
    "    a_1 = feed_forward(x)\n",
    "    # derivative of cost function\n",
    "    derivative_cost = a_1 - y\n",
    "    # the variable delta in the equations, note that output a_1 = z_1, its derivatives wrt z_o is thus 1\n",
    "    delta_1 = derivative_cost\n",
    "    # gradients for the output layer\n",
    "    output_weights_gradient = delta_1*x\n",
    "    output_bias_gradient = delta_1\n",
    "    # The cost function is 0.5*(a_1-y)^2. This gives a measure of the error for each iteration\n",
    "    return output_weights_gradient, output_bias_gradient\n",
    "\n",
    "# ensure the same random numbers appear every time\n",
    "np.random.seed(0)\n",
    "# Input variable\n",
    "x = 4.0\n",
    "# Target values\n",
    "y = 2*x+1.0\n",
    "\n",
    "# Defining the neural network\n",
    "n_inputs = 1\n",
    "n_outputs = 1\n",
    "# Initialize the network\n",
    "# weights and bias in the output layer\n",
    "output_weights = np.random.randn()\n",
    "output_bias = np.random.randn()\n",
    "\n",
    "# implementing a simple gradient descent approach with fixed learning rate\n",
    "eta = 0.001\n",
    "for i in range(1000):\n",
    "    # calculate gradients from back propagation\n",
    "    derivative_w1, derivative_b1 = backpropagation(x, y)\n",
    "    # update weights and biases\n",
    "    output_weights -= eta * derivative_w1\n",
    "    output_bias -= eta * derivative_b1\n",
    "# our final prediction after training\n",
    "ytilde = output_weights*x+output_bias\n",
    "print(0.5*((ytilde-y)**2))"
   ]
  },
  {
   "cell_type": "markdown",
   "id": "c7994258",
   "metadata": {},
   "source": [
    "Running this code gives us an acceptable results after some 40-50 iterations. Note that the results depend on the value of the learning rate."
   ]
  },
  {
   "cell_type": "markdown",
   "id": "af74a014",
   "metadata": {},
   "source": [
    "## Exercise 1: Extensions to the above code\n",
    "\n",
    "Feel free to add more input nodes and weights to the above\n",
    "code. Furthermore, try to increase the amount of input and\n",
    "target/output data. Try also to perform calculations for more values\n",
    "of the learning rates. Feel free to add either hyperparameters with an\n",
    "$l_1$ norm or an $l_2$ norm and discuss your results.\n",
    "\n",
    "You could also try to change the function $f(x)=y$ from a linear polynomial in $x$ to a higher-order polynomial.\n",
    "Comment your results.\n",
    "\n",
    "**Hint**: Increasing the number of input variables and input nodes requires a rewrite of the input data in terms of a matrix. You need to figure out the correct dimensionalities."
   ]
  },
  {
   "cell_type": "markdown",
   "id": "d1777e7d",
   "metadata": {},
   "source": [
    "## Adding a hidden layer\n",
    "\n",
    "We change our simple model to (see graph below)\n",
    "a network with just one hidden layer but with scalar variables only.\n",
    "\n",
    "Our output variable changes to $a_2$ and $a_1$ is now the output from the hidden node and $a_0=x$.\n",
    "We have then"
   ]
  },
  {
   "cell_type": "markdown",
   "id": "1864816a",
   "metadata": {},
   "source": [
    "$$\n",
    "z_1 = w_1a_0+b_1 \\hspace{0.1cm} \\wedge a_1 = \\sigma_1(z_1),\n",
    "$$"
   ]
  },
  {
   "cell_type": "markdown",
   "id": "dafde85f",
   "metadata": {},
   "source": [
    "$$\n",
    "z_2 = w_2a_1+b_2 \\hspace{0.1cm} \\wedge a_2 = \\sigma_2(z_2),\n",
    "$$"
   ]
  },
  {
   "cell_type": "markdown",
   "id": "96857698",
   "metadata": {},
   "source": [
    "and the cost function"
   ]
  },
  {
   "cell_type": "markdown",
   "id": "6683121d",
   "metadata": {},
   "source": [
    "$$\n",
    "C(x;\\boldsymbol{\\Theta})=\\frac{1}{2}(a_2-y)^2,\n",
    "$$"
   ]
  },
  {
   "cell_type": "markdown",
   "id": "7ec33393",
   "metadata": {},
   "source": [
    "with $\\boldsymbol{\\Theta}=[w_1,w_2,b_1,b_2]$."
   ]
  },
  {
   "cell_type": "markdown",
   "id": "e3a2b376",
   "metadata": {},
   "source": [
    "## Layout of a simple neural network with one hidden layer\n",
    "\n",
    "<!-- dom:FIGURE: [figures/simplenn2.png, width=900 frac=1.0] -->\n",
    "<!-- begin figure -->\n",
    "\n",
    "<img src=\"figures/simplenn2.png\" width=\"900\"><p style=\"font-size: 0.9em\"><i>Figure 1: </i></p>\n",
    "<!-- end figure -->"
   ]
  },
  {
   "cell_type": "markdown",
   "id": "7423904b",
   "metadata": {},
   "source": [
    "## The derivatives\n",
    "\n",
    "The derivatives are now, using the chain rule again"
   ]
  },
  {
   "cell_type": "markdown",
   "id": "94175c24",
   "metadata": {},
   "source": [
    "$$\n",
    "\\frac{\\partial C}{\\partial w_2}=\\frac{\\partial C}{\\partial a_2}\\frac{\\partial a_2}{\\partial z_2}\\frac{\\partial z_2}{\\partial w_2}=(a_2-y)\\sigma_2'a_1=\\delta_2a_1,\n",
    "$$"
   ]
  },
  {
   "cell_type": "markdown",
   "id": "0dcf9d2c",
   "metadata": {},
   "source": [
    "$$\n",
    "\\frac{\\partial C}{\\partial b_2}=\\frac{\\partial C}{\\partial a_2}\\frac{\\partial a_2}{\\partial z_2}\\frac{\\partial z_2}{\\partial b_2}=(a_2-y)\\sigma_2'=\\delta_2,\n",
    "$$"
   ]
  },
  {
   "cell_type": "markdown",
   "id": "df4f7c92",
   "metadata": {},
   "source": [
    "$$\n",
    "\\frac{\\partial C}{\\partial w_1}=\\frac{\\partial C}{\\partial a_2}\\frac{\\partial a_2}{\\partial z_2}\\frac{\\partial z_2}{\\partial a_1}\\frac{\\partial a_1}{\\partial z_1}\\frac{\\partial z_1}{\\partial w_1}=(a_2-y)\\sigma_2'a_1\\sigma_1'a_0,\n",
    "$$"
   ]
  },
  {
   "cell_type": "markdown",
   "id": "33b79228",
   "metadata": {},
   "source": [
    "$$\n",
    "\\frac{\\partial C}{\\partial b_1}=\\frac{\\partial C}{\\partial a_2}\\frac{\\partial a_2}{\\partial z_2}\\frac{\\partial z_2}{\\partial a_1}\\frac{\\partial a_1}{\\partial z_1}\\frac{\\partial z_1}{\\partial b_1}=(a_2-y)\\sigma_2'\\sigma_1'=\\delta_1.\n",
    "$$"
   ]
  },
  {
   "cell_type": "markdown",
   "id": "8ff55e55",
   "metadata": {},
   "source": [
    "Can you generalize this to more than one hidden layer?"
   ]
  },
  {
   "cell_type": "markdown",
   "id": "4ee16eaa",
   "metadata": {},
   "source": [
    "## Important observations\n",
    "\n",
    "From the above equations we see that the derivatives of the activation\n",
    "functions play a central role. If they vanish, the training may\n",
    "stop. This is called the vanishing gradient problem, see discussions below. If they become\n",
    "large, the parameters $w_i$ and $b_i$ may simply go to infinity. This\n",
    "is referenced as  the exploding gradient problem."
   ]
  },
  {
   "cell_type": "markdown",
   "id": "9a9b5307",
   "metadata": {},
   "source": [
    "## The training\n",
    "\n",
    "The training of the parameters is done through various gradient descent approximations with"
   ]
  },
  {
   "cell_type": "markdown",
   "id": "3cd6aade",
   "metadata": {},
   "source": [
    "$$\n",
    "w_{i}\\leftarrow w_{i}- \\eta \\delta_i a_{i-1},\n",
    "$$"
   ]
  },
  {
   "cell_type": "markdown",
   "id": "b6702b0e",
   "metadata": {},
   "source": [
    "and"
   ]
  },
  {
   "cell_type": "markdown",
   "id": "f6d731d9",
   "metadata": {},
   "source": [
    "$$\n",
    "b_i \\leftarrow b_i-\\eta \\delta_i,\n",
    "$$"
   ]
  },
  {
   "cell_type": "markdown",
   "id": "a4bb7325",
   "metadata": {},
   "source": [
    "with $\\eta$ is the learning rate.\n",
    "\n",
    "One iteration consists of one feed forward step and one back-propagation step. Each back-propagation step does one update of the parameters $\\boldsymbol{\\Theta}$.\n",
    "\n",
    "For the first hidden layer $a_{i-1}=a_0=x$ for this simple model."
   ]
  },
  {
   "cell_type": "markdown",
   "id": "d5dd199d",
   "metadata": {},
   "source": [
    "## Code example\n",
    "\n",
    "The code here implements the above model with one hidden layer and\n",
    "scalar variables for the same function we studied in the previous\n",
    "example.  The code is however set up so that we can add multiple\n",
    "inputs $x$ and target values $y$. Note also that we have the\n",
    "possibility of defining a feature matrix $\\boldsymbol{X}$ with more than just\n",
    "one column for the input values. This will turn useful in our next example. We have also defined matrices and vectors for all of our operations although it is not necessary here."
   ]
  },
  {
   "cell_type": "code",
   "execution_count": 6,
   "id": "f8645a36",
   "metadata": {},
   "outputs": [
    {
     "name": "stdout",
     "output_type": "stream",
     "text": [
      "[36.89563074]\n",
      "[35.43579483]\n",
      "[34.03371842]\n",
      "[32.68711606]\n",
      "[31.39379274]\n",
      "[30.15164037]\n",
      "[28.95863425]\n",
      "[27.81282983]\n",
      "[26.71235953]\n",
      "[25.65542965]\n",
      "[24.64031749]\n",
      "[23.66536853]\n",
      "[22.72899369]\n",
      "[21.82966681]\n",
      "[20.96592209]\n",
      "[20.13635174]\n",
      "[19.33960368]\n",
      "[18.57437932]\n",
      "[17.83943145]\n",
      "[17.13356222]\n",
      "[16.45562115]\n",
      "[15.80450332]\n",
      "[15.17914747]\n",
      "[14.57853438]\n",
      "[14.00168513]\n",
      "[13.44765952]\n",
      "[12.91555458]\n",
      "[12.40450303]\n",
      "[11.91367192]\n",
      "[11.44226125]\n",
      "[10.98950267]\n",
      "[10.55465824]\n",
      "[10.13701919]\n",
      "[9.73590482]\n",
      "[9.35066132]\n",
      "[8.98066079]\n",
      "[8.62530014]\n",
      "[8.28400016]\n",
      "[7.95620453]\n",
      "[7.64137897]\n",
      "[7.33901032]\n",
      "[7.04860571]\n",
      "[6.7696918]\n",
      "[6.50181394]\n",
      "[6.2445355]\n",
      "[5.9974371]\n",
      "[5.76011597]\n",
      "[5.53218526]\n",
      "[5.31327343]\n",
      "[5.10302365]\n"
     ]
    }
   ],
   "source": [
    "import numpy as np\n",
    "# We use the Sigmoid function as activation function\n",
    "def sigmoid(z):\n",
    "    return 1.0/(1.0+np.exp(-z))\n",
    "\n",
    "def forwardpropagation(x):\n",
    "    # weighted sum of inputs to the hidden layer\n",
    "    z_1 = np.matmul(x, w_1) + b_1\n",
    "    # activation in the hidden layer\n",
    "    a_1 = sigmoid(z_1)\n",
    "    # weighted sum of inputs to the output layer\n",
    "    z_2 = np.matmul(a_1, w_2) + b_2\n",
    "    a_2 = z_2\n",
    "    return a_1, a_2\n",
    "\n",
    "def backpropagation(x, y):\n",
    "    a_1, a_2 = forwardpropagation(x)\n",
    "    # parameter delta for the output layer, note that a_2=z_2 and its derivative wrt z_2 is just 1\n",
    "    delta_2 = a_2 - y\n",
    "    print(0.5*((a_2-y)**2))\n",
    "    # delta for  the hidden layer\n",
    "    delta_1 = np.matmul(delta_2, w_2.T) * a_1 * (1 - a_1)\n",
    "    # gradients for the output layer\n",
    "    output_weights_gradient = np.matmul(a_1.T, delta_2)\n",
    "    output_bias_gradient = np.sum(delta_2, axis=0)\n",
    "    # gradient for the hidden layer\n",
    "    hidden_weights_gradient = np.matmul(x.T, delta_1)\n",
    "    hidden_bias_gradient = np.sum(delta_1, axis=0)\n",
    "    return output_weights_gradient, output_bias_gradient, hidden_weights_gradient, hidden_bias_gradient\n",
    "\n",
    "\n",
    "# ensure the same random numbers appear every time\n",
    "np.random.seed(0)\n",
    "# Input variable\n",
    "x = np.array([4.0],dtype=np.float64)\n",
    "# Target values\n",
    "y = 2*x+1.0 \n",
    "\n",
    "# Defining the neural network, only scalars here\n",
    "n_inputs = x.shape\n",
    "n_features = 1\n",
    "n_hidden_neurons = 1\n",
    "n_outputs = 1\n",
    "\n",
    "# Initialize the network\n",
    "# weights and bias in the hidden layer\n",
    "w_1 = np.random.randn(n_features, n_hidden_neurons)\n",
    "b_1 = np.zeros(n_hidden_neurons) + 0.01\n",
    "\n",
    "# weights and bias in the output layer\n",
    "w_2 = np.random.randn(n_hidden_neurons, n_outputs)\n",
    "b_2 = np.zeros(n_outputs) + 0.01\n",
    "\n",
    "eta = 0.01\n",
    "for i in range(50):\n",
    "    # calculate gradients\n",
    "    derivW2, derivB2, derivW1, derivB1 = backpropagation(x, y)\n",
    "    # update weights and biases\n",
    "    w_2 -= eta * derivW2\n",
    "    b_2 -= eta * derivB2\n",
    "    w_1 -= eta * derivW1\n",
    "    b_1 -= eta * derivB1"
   ]
  },
  {
   "cell_type": "markdown",
   "id": "8673756d",
   "metadata": {},
   "source": [
    "We see that after some few iterations (the results do depend on the learning rate however), we get an error which is rather small."
   ]
  },
  {
   "cell_type": "markdown",
   "id": "07932786",
   "metadata": {},
   "source": [
    "## Exercise 2: Including more data\n",
    "\n",
    "Try to increase the amount of input and\n",
    "target/output data. Try also to perform calculations for more values\n",
    "of the learning rates. Feel free to add either hyperparameters with an\n",
    "$l_1$ norm or an $l_2$ norm and discuss your results.\n",
    "Discuss your results as functions of the amount of training data and various learning rates.\n",
    "\n",
    "**Challenge:** Try to change the activation functions and replace the hard-coded analytical expressions with automatic derivation via either **autograd** or **JAX**."
   ]
  },
  {
   "cell_type": "markdown",
   "id": "6ef6cea0",
   "metadata": {},
   "source": [
    "## Simple neural network and the  back propagation equations\n",
    "\n",
    "Let us now try to increase our level of ambition and attempt at setting \n",
    "up the equations for a neural network with two input nodes, one hidden\n",
    "layer with two hidden nodes and one output layer with one output node/neuron only (see graph)..\n",
    "\n",
    "We need to define the following parameters and variables with the input layer (layer $(0)$) \n",
    "where we label the  nodes $x_0$ and $x_1$"
   ]
  },
  {
   "cell_type": "markdown",
   "id": "15b70fb5",
   "metadata": {},
   "source": [
    "$$\n",
    "x_0 = a_0^{(0)} \\wedge x_1 = a_1^{(0)}.\n",
    "$$"
   ]
  },
  {
   "cell_type": "markdown",
   "id": "641eef30",
   "metadata": {},
   "source": [
    "The  hidden layer (layer $(1)$) has  nodes which yield the outputs $a_0^{(1)}$ and $a_1^{(1)}$) with  weight $\\boldsymbol{w}$ and bias $\\boldsymbol{b}$ parameters"
   ]
  },
  {
   "cell_type": "markdown",
   "id": "654901e0",
   "metadata": {},
   "source": [
    "$$\n",
    "w_{ij}^{(1)}=\\left\\{w_{00}^{(1)},w_{01}^{(1)},w_{10}^{(1)},w_{11}^{(1)}\\right\\} \\wedge b^{(1)}=\\left\\{b_0^{(1)},b_1^{(1)}\\right\\}.\n",
    "$$"
   ]
  },
  {
   "cell_type": "markdown",
   "id": "8afa6d87",
   "metadata": {},
   "source": [
    "## Layout of a simple neural network with two input nodes, one  hidden layer and one output node\n",
    "\n",
    "<!-- dom:FIGURE: [figures/simplenn3.png, width=900 frac=1.0] -->\n",
    "<!-- begin figure -->\n",
    "\n",
    "<img src=\"figures/simplenn3.png\" width=\"900\"><p style=\"font-size: 0.9em\"><i>Figure 1: </i></p>\n",
    "<!-- end figure -->"
   ]
  },
  {
   "cell_type": "markdown",
   "id": "e5365911",
   "metadata": {},
   "source": [
    "## The ouput layer\n",
    "\n",
    "Finally, we have the ouput layer given by layer label $(2)$ with output $a^{(2)}$ and weights and biases to be determined given by the variables"
   ]
  },
  {
   "cell_type": "markdown",
   "id": "3d32f7c5",
   "metadata": {},
   "source": [
    "$$\n",
    "w_{i}^{(2)}=\\left\\{w_{0}^{(2)},w_{1}^{(2)}\\right\\} \\wedge b^{(2)}.\n",
    "$$"
   ]
  },
  {
   "cell_type": "markdown",
   "id": "a28bbba0",
   "metadata": {},
   "source": [
    "Our output is $\\tilde{y}=a^{(2)}$ and we define a generic cost function $C(a^{(2)},y;\\boldsymbol{\\Theta})$ where $y$ is the target value (a scalar here).\n",
    "The parameters we need to optimize are given by"
   ]
  },
  {
   "cell_type": "markdown",
   "id": "9fe7f3e2",
   "metadata": {},
   "source": [
    "$$\n",
    "\\boldsymbol{\\Theta}=\\left\\{w_{00}^{(1)},w_{01}^{(1)},w_{10}^{(1)},w_{11}^{(1)},w_{0}^{(2)},w_{1}^{(2)},b_0^{(1)},b_1^{(1)},b^{(2)}\\right\\}.\n",
    "$$"
   ]
  },
  {
   "cell_type": "markdown",
   "id": "ca54e3e7",
   "metadata": {},
   "source": [
    "## Compact expressions\n",
    "\n",
    "We can define the inputs to the activation functions for the various layers in terms of various matrix-vector multiplications and vector additions.\n",
    "The inputs to the first hidden layer are"
   ]
  },
  {
   "cell_type": "markdown",
   "id": "69b5b1b2",
   "metadata": {},
   "source": [
    "$$\n",
    "\\begin{bmatrix}z_0^{(1)} \\\\ z_1^{(1)} \\end{bmatrix}=\\begin{bmatrix}w_{00}^{(1)} & w_{01}^{(1)}\\\\ w_{10}^{(1)} &w_{11}^{(1)} \\end{bmatrix}\\begin{bmatrix}a_0^{(0)} \\\\ a_1^{(0)} \\end{bmatrix}+\\begin{bmatrix}b_0^{(1)} \\\\ b_1^{(1)} \\end{bmatrix},\n",
    "$$"
   ]
  },
  {
   "cell_type": "markdown",
   "id": "0602154e",
   "metadata": {},
   "source": [
    "with outputs"
   ]
  },
  {
   "cell_type": "markdown",
   "id": "b2300934",
   "metadata": {},
   "source": [
    "$$\n",
    "\\begin{bmatrix}a_0^{(1)} \\\\ a_1^{(1)} \\end{bmatrix}=\\begin{bmatrix}\\sigma^{(1)}(z_0^{(1)}) \\\\ \\sigma^{(1)}(z_1^{(1)}) \\end{bmatrix}.\n",
    "$$"
   ]
  },
  {
   "cell_type": "markdown",
   "id": "f82e5a06",
   "metadata": {},
   "source": [
    "## Output layer\n",
    "\n",
    "For the final output layer we have the inputs to the final activation function"
   ]
  },
  {
   "cell_type": "markdown",
   "id": "366fbad3",
   "metadata": {},
   "source": [
    "$$\n",
    "z^{(2)} = w_{0}^{(2)}a_0^{(1)} +w_{1}^{(2)}a_1^{(1)}+b^{(2)},\n",
    "$$"
   ]
  },
  {
   "cell_type": "markdown",
   "id": "b16ecd25",
   "metadata": {},
   "source": [
    "resulting in the  output"
   ]
  },
  {
   "cell_type": "markdown",
   "id": "55bb3957",
   "metadata": {},
   "source": [
    "$$\n",
    "a^{(2)}=\\sigma^{(2)}(z^{(2)}).\n",
    "$$"
   ]
  },
  {
   "cell_type": "markdown",
   "id": "88ba4b58",
   "metadata": {},
   "source": [
    "## Explicit derivatives\n",
    "\n",
    "In total we have nine parameters which we need to train.  Using the\n",
    "chain rule (or just the back-propagation algorithm) we can find all\n",
    "derivatives. Since we will use automatic differentiation in reverse\n",
    "mode, we start with the derivatives of the cost function with respect\n",
    "to the parameters of the output layer, namely"
   ]
  },
  {
   "cell_type": "markdown",
   "id": "fc16e527",
   "metadata": {},
   "source": [
    "$$\n",
    "\\frac{\\partial C}{\\partial w_{i}^{(2)}}=\\frac{\\partial C}{\\partial a^{(2)}}\\frac{\\partial a^{(2)}}{\\partial z^{(2)}}\\frac{\\partial z^{(2)}}{\\partial w_{i}^{(2)}}=\\delta^{(2)}a_i^{(1)},\n",
    "$$"
   ]
  },
  {
   "cell_type": "markdown",
   "id": "7fcdc5be",
   "metadata": {},
   "source": [
    "with"
   ]
  },
  {
   "cell_type": "markdown",
   "id": "88ec44b3",
   "metadata": {},
   "source": [
    "$$\n",
    "\\delta^{(2)}=\\frac{\\partial C}{\\partial a^{(2)}}\\frac{\\partial a^{(2)}}{\\partial z^{(2)}}\n",
    "$$"
   ]
  },
  {
   "cell_type": "markdown",
   "id": "34970e8b",
   "metadata": {},
   "source": [
    "and finally"
   ]
  },
  {
   "cell_type": "markdown",
   "id": "65536448",
   "metadata": {},
   "source": [
    "$$\n",
    "\\frac{\\partial C}{\\partial b^{(2)}}=\\frac{\\partial C}{\\partial a^{(2)}}\\frac{\\partial a^{(2)}}{\\partial z^{(2)}}\\frac{\\partial z^{(2)}}{\\partial b^{(2)}}=\\delta^{(2)}.\n",
    "$$"
   ]
  },
  {
   "cell_type": "markdown",
   "id": "4eea2edc",
   "metadata": {},
   "source": [
    "## Derivatives of the hidden layer\n",
    "\n",
    "Using the chain rule we have the following expressions for say one of the weight parameters (it is easy to generalize to the other weight parameters)"
   ]
  },
  {
   "cell_type": "markdown",
   "id": "c5a5a0dd",
   "metadata": {},
   "source": [
    "$$\n",
    "\\frac{\\partial C}{\\partial w_{00}^{(1)}}=\\frac{\\partial C}{\\partial a^{(2)}}\\frac{\\partial a^{(2)}}{\\partial z^{(2)}}\n",
    "\\frac{\\partial z^{(2)}}{\\partial z_0^{(1)}}\\frac{\\partial z_0^{(1)}}{\\partial w_{00}^{(1)}}=    \\delta^{(2)}\\frac{\\partial z^{(2)}}{\\partial z_0^{(1)}}\\frac{\\partial z_0^{(1)}}{\\partial w_{00}^{(1)}},\n",
    "$$"
   ]
  },
  {
   "cell_type": "markdown",
   "id": "79053b44",
   "metadata": {},
   "source": [
    "which, noting that"
   ]
  },
  {
   "cell_type": "markdown",
   "id": "d84b54e7",
   "metadata": {},
   "source": [
    "$$\n",
    "z^{(2)} =w_0^{(2)}a_0^{(1)}+w_1^{(2)}a_1^{(1)}+b^{(2)},\n",
    "$$"
   ]
  },
  {
   "cell_type": "markdown",
   "id": "59345718",
   "metadata": {},
   "source": [
    "allows us to rewrite"
   ]
  },
  {
   "cell_type": "markdown",
   "id": "fb496510",
   "metadata": {},
   "source": [
    "$$\n",
    "\\frac{\\partial z^{(2)}}{\\partial z_0^{(1)}}\\frac{\\partial z_0^{(1)}}{\\partial w_{00}^{(1)}}=w_0^{(2)}\\frac{\\partial a_0^{(1)}}{\\partial z_0^{(1)}}a_0^{(1)}.\n",
    "$$"
   ]
  },
  {
   "cell_type": "markdown",
   "id": "fc3c9906",
   "metadata": {},
   "source": [
    "## Final expression\n",
    "Defining"
   ]
  },
  {
   "cell_type": "markdown",
   "id": "4c33e967",
   "metadata": {},
   "source": [
    "$$\n",
    "\\delta_0^{(1)}=w_0^{(2)}\\frac{\\partial a_0^{(1)}}{\\partial z_0^{(1)}}\\delta^{(2)},\n",
    "$$"
   ]
  },
  {
   "cell_type": "markdown",
   "id": "1effce1e",
   "metadata": {},
   "source": [
    "we have"
   ]
  },
  {
   "cell_type": "markdown",
   "id": "212ec074",
   "metadata": {},
   "source": [
    "$$\n",
    "\\frac{\\partial C}{\\partial w_{00}^{(1)}}=\\delta_0^{(1)}a_0^{(1)}.\n",
    "$$"
   ]
  },
  {
   "cell_type": "markdown",
   "id": "a9535659",
   "metadata": {},
   "source": [
    "Similarly, we obtain"
   ]
  },
  {
   "cell_type": "markdown",
   "id": "70bef2a3",
   "metadata": {},
   "source": [
    "$$\n",
    "\\frac{\\partial C}{\\partial w_{01}^{(1)}}=\\delta_0^{(1)}a_1^{(1)}.\n",
    "$$"
   ]
  },
  {
   "cell_type": "markdown",
   "id": "ed699bac",
   "metadata": {},
   "source": [
    "## Completing the list\n",
    "\n",
    "Similarly, we find"
   ]
  },
  {
   "cell_type": "markdown",
   "id": "653c36a7",
   "metadata": {},
   "source": [
    "$$\n",
    "\\frac{\\partial C}{\\partial w_{10}^{(1)}}=\\delta_1^{(1)}a_0^{(1)},\n",
    "$$"
   ]
  },
  {
   "cell_type": "markdown",
   "id": "ec8e3f82",
   "metadata": {},
   "source": [
    "and"
   ]
  },
  {
   "cell_type": "markdown",
   "id": "990fdba3",
   "metadata": {},
   "source": [
    "$$\n",
    "\\frac{\\partial C}{\\partial w_{11}^{(1)}}=\\delta_1^{(1)}a_1^{(1)},\n",
    "$$"
   ]
  },
  {
   "cell_type": "markdown",
   "id": "e3782000",
   "metadata": {},
   "source": [
    "where we have defined"
   ]
  },
  {
   "cell_type": "markdown",
   "id": "6550f22d",
   "metadata": {},
   "source": [
    "$$\n",
    "\\delta_1^{(1)}=w_1^{(2)}\\frac{\\partial a_1^{(1)}}{\\partial z_1^{(1)}}\\delta^{(2)}.\n",
    "$$"
   ]
  },
  {
   "cell_type": "markdown",
   "id": "e2eba5c9",
   "metadata": {},
   "source": [
    "## Final expressions for the biases of the hidden layer\n",
    "\n",
    "For the sake of completeness, we list the derivatives of the biases, which are"
   ]
  },
  {
   "cell_type": "markdown",
   "id": "723a9535",
   "metadata": {},
   "source": [
    "$$\n",
    "\\frac{\\partial C}{\\partial b_{0}^{(1)}}=\\delta_0^{(1)},\n",
    "$$"
   ]
  },
  {
   "cell_type": "markdown",
   "id": "5bbb6a42",
   "metadata": {},
   "source": [
    "and"
   ]
  },
  {
   "cell_type": "markdown",
   "id": "40487d3b",
   "metadata": {},
   "source": [
    "$$\n",
    "\\frac{\\partial C}{\\partial b_{1}^{(1)}}=\\delta_1^{(1)}.\n",
    "$$"
   ]
  },
  {
   "cell_type": "markdown",
   "id": "22e6619a",
   "metadata": {},
   "source": [
    "As we will see below, these expressions can be generalized in a more compact form."
   ]
  },
  {
   "cell_type": "markdown",
   "id": "5fa009e5",
   "metadata": {},
   "source": [
    "## Gradient expressions\n",
    "\n",
    "For this specific model, with just one output node and two hidden\n",
    "nodes, the gradient descent equations take the following form for output layer"
   ]
  },
  {
   "cell_type": "markdown",
   "id": "bbaf9b61",
   "metadata": {},
   "source": [
    "$$\n",
    "w_{i}^{(2)}\\leftarrow w_{i}^{(2)}- \\eta \\delta^{(2)} a_{i}^{(1)},\n",
    "$$"
   ]
  },
  {
   "cell_type": "markdown",
   "id": "251057c0",
   "metadata": {},
   "source": [
    "and"
   ]
  },
  {
   "cell_type": "markdown",
   "id": "d3ad551a",
   "metadata": {},
   "source": [
    "$$\n",
    "b^{(2)} \\leftarrow b^{(2)}-\\eta \\delta^{(2)},\n",
    "$$"
   ]
  },
  {
   "cell_type": "markdown",
   "id": "b1c38592",
   "metadata": {},
   "source": [
    "and"
   ]
  },
  {
   "cell_type": "markdown",
   "id": "e86cc7fb",
   "metadata": {},
   "source": [
    "$$\n",
    "w_{ij}^{(1)}\\leftarrow w_{ij}^{(1)}- \\eta \\delta_{i}^{(1)} a_{j}^{(0)},\n",
    "$$"
   ]
  },
  {
   "cell_type": "markdown",
   "id": "82049c8b",
   "metadata": {},
   "source": [
    "and"
   ]
  },
  {
   "cell_type": "markdown",
   "id": "a195529f",
   "metadata": {},
   "source": [
    "$$\n",
    "b_{i}^{(1)} \\leftarrow b_{i}^{(1)}-\\eta \\delta_{i}^{(1)},\n",
    "$$"
   ]
  },
  {
   "cell_type": "markdown",
   "id": "9fc90094",
   "metadata": {},
   "source": [
    "where $\\eta$ is the learning rate."
   ]
  },
  {
   "cell_type": "markdown",
   "id": "3b8e2d81",
   "metadata": {},
   "source": [
    "## Exercise 3: Extended program\n",
    "\n",
    "We extend our simple code to a function which depends on two variable $x_0$ and $x_1$, that is"
   ]
  },
  {
   "cell_type": "markdown",
   "id": "6aba7c45",
   "metadata": {},
   "source": [
    "$$\n",
    "y=f(x_0,x_1)=x_0^2+3x_0x_1+x_1^2+5.\n",
    "$$"
   ]
  },
  {
   "cell_type": "markdown",
   "id": "e83a620a",
   "metadata": {},
   "source": [
    "We feed our network with $n=100$ entries $x_0$ and $x_1$. We have thus two features represented by these variable and an input matrix/design matrix $\\boldsymbol{X}\\in \\mathbf{R}^{n\\times 2}$"
   ]
  },
  {
   "cell_type": "markdown",
   "id": "ecb9e0ae",
   "metadata": {},
   "source": [
    "$$\n",
    "\\boldsymbol{X}=\\begin{bmatrix} x_{00} & x_{01} \\\\ x_{00} & x_{01} \\\\ x_{10} & x_{11} \\\\ x_{20} & x_{21} \\\\ \\dots & \\dots \\\\ \\dots & \\dots \\\\ x_{n-20} & x_{n-21} \\\\ x_{n-10} & x_{n-11} \\end{bmatrix}.\n",
    "$$"
   ]
  },
  {
   "cell_type": "markdown",
   "id": "ea3def7e",
   "metadata": {},
   "source": [
    "Write a code, based on the previous code examples, which takes as input these data and fit the above function.\n",
    "You can extend your code to include automatic differentiation.\n",
    "\n",
    "With these examples, we are now ready to embark upon the writing of more a general code for neural networks."
   ]
  },
  {
   "cell_type": "markdown",
   "id": "6e7dafce",
   "metadata": {},
   "source": [
    "## Getting serious, the  back propagation equations for a neural network\n",
    "\n",
    "Now it is time to move away from one node in each layer only. Our inputs are also represented either by several inputs.\n",
    "\n",
    "We have thus"
   ]
  },
  {
   "cell_type": "markdown",
   "id": "1f93317b",
   "metadata": {},
   "source": [
    "$$\n",
    "\\frac{\\partial{\\cal C}((\\boldsymbol{\\Theta}^L)}{\\partial w_{jk}^L}  =  \\left(a_j^L - y_j\\right)a_j^L(1-a_j^L)a_k^{L-1},\n",
    "$$"
   ]
  },
  {
   "cell_type": "markdown",
   "id": "d243cb1b",
   "metadata": {},
   "source": [
    "Defining"
   ]
  },
  {
   "cell_type": "markdown",
   "id": "cfe2a123",
   "metadata": {},
   "source": [
    "$$\n",
    "\\delta_j^L = a_j^L(1-a_j^L)\\left(a_j^L - y_j\\right) = \\sigma'(z_j^L)\\frac{\\partial {\\cal C}}{\\partial (a_j^L)},\n",
    "$$"
   ]
  },
  {
   "cell_type": "markdown",
   "id": "05210fa5",
   "metadata": {},
   "source": [
    "and using the Hadamard product of two vectors we can write this as"
   ]
  },
  {
   "cell_type": "markdown",
   "id": "38fafba2",
   "metadata": {},
   "source": [
    "$$\n",
    "\\boldsymbol{\\delta}^L = \\sigma'(\\hat{z}^L)\\circ\\frac{\\partial {\\cal C}}{\\partial (\\boldsymbol{a}^L)}.\n",
    "$$"
   ]
  },
  {
   "cell_type": "markdown",
   "id": "106016a3",
   "metadata": {},
   "source": [
    "## Analyzing the last results\n",
    "\n",
    "This is an important expression. The second term on the right handside\n",
    "measures how fast the cost function is changing as a function of the $j$th\n",
    "output activation.  If, for example, the cost function doesn't depend\n",
    "much on a particular output node $j$, then $\\delta_j^L$ will be small,\n",
    "which is what we would expect. The first term on the right, measures\n",
    "how fast the activation function $f$ is changing at a given activation\n",
    "value $z_j^L$."
   ]
  },
  {
   "cell_type": "markdown",
   "id": "17d7cae6",
   "metadata": {},
   "source": [
    "## More considerations\n",
    "\n",
    "Notice that everything in the above equations is easily computed.  In\n",
    "particular, we compute $z_j^L$ while computing the behaviour of the\n",
    "network, and it is only a small additional overhead to compute\n",
    "$\\sigma'(z^L_j)$.  The exact form of the derivative with respect to the\n",
    "output depends on the form of the cost function.\n",
    "However, provided the cost function is known there should be little\n",
    "trouble in calculating"
   ]
  },
  {
   "cell_type": "markdown",
   "id": "29531304",
   "metadata": {},
   "source": [
    "$$\n",
    "\\frac{\\partial {\\cal C}}{\\partial (a_j^L)}\n",
    "$$"
   ]
  },
  {
   "cell_type": "markdown",
   "id": "2d8e73ab",
   "metadata": {},
   "source": [
    "With the definition of $\\delta_j^L$ we have a more compact definition of the derivative of the cost function in terms of the weights, namely"
   ]
  },
  {
   "cell_type": "markdown",
   "id": "89100d4a",
   "metadata": {},
   "source": [
    "$$\n",
    "\\frac{\\partial{\\cal C}}{\\partial w_{jk}^L}  =  \\delta_j^La_k^{L-1}.\n",
    "$$"
   ]
  },
  {
   "cell_type": "markdown",
   "id": "0a8688b1",
   "metadata": {},
   "source": [
    "## Derivatives in terms of $z_j^L$\n",
    "\n",
    "It is also easy to see that our previous equation can be written as"
   ]
  },
  {
   "cell_type": "markdown",
   "id": "228bf7a2",
   "metadata": {},
   "source": [
    "$$\n",
    "\\delta_j^L =\\frac{\\partial {\\cal C}}{\\partial z_j^L}= \\frac{\\partial {\\cal C}}{\\partial a_j^L}\\frac{\\partial a_j^L}{\\partial z_j^L},\n",
    "$$"
   ]
  },
  {
   "cell_type": "markdown",
   "id": "ec152a37",
   "metadata": {},
   "source": [
    "which can also be interpreted as the partial derivative of the cost function with respect to the biases $b_j^L$, namely"
   ]
  },
  {
   "cell_type": "markdown",
   "id": "8f6a848e",
   "metadata": {},
   "source": [
    "$$\n",
    "\\delta_j^L = \\frac{\\partial {\\cal C}}{\\partial b_j^L}\\frac{\\partial b_j^L}{\\partial z_j^L}=\\frac{\\partial {\\cal C}}{\\partial b_j^L},\n",
    "$$"
   ]
  },
  {
   "cell_type": "markdown",
   "id": "a166507c",
   "metadata": {},
   "source": [
    "That is, the error $\\delta_j^L$ is exactly equal to the rate of change of the cost function as a function of the bias."
   ]
  },
  {
   "cell_type": "markdown",
   "id": "4d3b2376",
   "metadata": {},
   "source": [
    "## Bringing it together\n",
    "\n",
    "We have now three equations that are essential for the computations of the derivatives of the cost function at the output layer. These equations are needed to start the algorithm and they are"
   ]
  },
  {
   "cell_type": "markdown",
   "id": "90152e40",
   "metadata": {},
   "source": [
    "<!-- Equation labels as ordinary links -->\n",
    "<div id=\"_auto1\"></div>\n",
    "\n",
    "$$\n",
    "\\begin{equation}\n",
    "\\frac{\\partial{\\cal C}(\\hat{W^L})}{\\partial w_{jk}^L}  =  \\delta_j^La_k^{L-1},\n",
    "\\label{_auto1} \\tag{1}\n",
    "\\end{equation}\n",
    "$$"
   ]
  },
  {
   "cell_type": "markdown",
   "id": "c6831292",
   "metadata": {},
   "source": [
    "and"
   ]
  },
  {
   "cell_type": "markdown",
   "id": "51cebead",
   "metadata": {},
   "source": [
    "<!-- Equation labels as ordinary links -->\n",
    "<div id=\"_auto2\"></div>\n",
    "\n",
    "$$\n",
    "\\begin{equation}\n",
    "\\delta_j^L = \\sigma'(z_j^L)\\frac{\\partial {\\cal C}}{\\partial (a_j^L)},\n",
    "\\label{_auto2} \\tag{2}\n",
    "\\end{equation}\n",
    "$$"
   ]
  },
  {
   "cell_type": "markdown",
   "id": "440d6147",
   "metadata": {},
   "source": [
    "and"
   ]
  },
  {
   "cell_type": "markdown",
   "id": "57291bf2",
   "metadata": {},
   "source": [
    "<!-- Equation labels as ordinary links -->\n",
    "<div id=\"_auto3\"></div>\n",
    "\n",
    "$$\n",
    "\\begin{equation}\n",
    "\\delta_j^L = \\frac{\\partial {\\cal C}}{\\partial b_j^L},\n",
    "\\label{_auto3} \\tag{3}\n",
    "\\end{equation}\n",
    "$$"
   ]
  },
  {
   "cell_type": "markdown",
   "id": "07b7dd4e",
   "metadata": {},
   "source": [
    "## Final back propagating equation\n",
    "\n",
    "We have that (replacing $L$ with a general layer $l$)"
   ]
  },
  {
   "cell_type": "markdown",
   "id": "f02d6143",
   "metadata": {},
   "source": [
    "$$\n",
    "\\delta_j^l =\\frac{\\partial {\\cal C}}{\\partial z_j^l}.\n",
    "$$"
   ]
  },
  {
   "cell_type": "markdown",
   "id": "35af757e",
   "metadata": {},
   "source": [
    "We want to express this in terms of the equations for layer $l+1$."
   ]
  },
  {
   "cell_type": "markdown",
   "id": "85d96e54",
   "metadata": {},
   "source": [
    "## Using the chain rule and summing over all $k$ entries\n",
    "\n",
    "We obtain"
   ]
  },
  {
   "cell_type": "markdown",
   "id": "6ff69230",
   "metadata": {},
   "source": [
    "$$\n",
    "\\delta_j^l =\\sum_k \\frac{\\partial {\\cal C}}{\\partial z_k^{l+1}}\\frac{\\partial z_k^{l+1}}{\\partial z_j^{l}}=\\sum_k \\delta_k^{l+1}\\frac{\\partial z_k^{l+1}}{\\partial z_j^{l}},\n",
    "$$"
   ]
  },
  {
   "cell_type": "markdown",
   "id": "fcf5f08f",
   "metadata": {},
   "source": [
    "and recalling that"
   ]
  },
  {
   "cell_type": "markdown",
   "id": "599223ef",
   "metadata": {},
   "source": [
    "$$\n",
    "z_j^{l+1} = \\sum_{i=1}^{M_{l}}w_{ij}^{l+1}a_i^{l}+b_j^{l+1},\n",
    "$$"
   ]
  },
  {
   "cell_type": "markdown",
   "id": "607a3a7e",
   "metadata": {},
   "source": [
    "with $M_l$ being the number of nodes in layer $l$, we obtain"
   ]
  },
  {
   "cell_type": "markdown",
   "id": "5ec20fd3",
   "metadata": {},
   "source": [
    "$$\n",
    "\\delta_j^l =\\sum_k \\delta_k^{l+1}w_{kj}^{l+1}\\sigma'(z_j^l),\n",
    "$$"
   ]
  },
  {
   "cell_type": "markdown",
   "id": "dcbf4f54",
   "metadata": {},
   "source": [
    "This is our final equation.\n",
    "\n",
    "We are now ready to set up the algorithm for back propagation and learning the weights and biases."
   ]
  },
  {
   "cell_type": "markdown",
   "id": "ca9591e7",
   "metadata": {},
   "source": [
    "## Setting up the back propagation algorithm\n",
    "\n",
    "The four equations  provide us with a way of computing the gradient of the cost function. Let us write this out in the form of an algorithm.\n",
    "\n",
    "**First**, we set up the input data $\\hat{x}$ and the activations\n",
    "$\\hat{z}_1$ of the input layer and compute the activation function and\n",
    "the pertinent outputs $\\hat{a}^1$.\n",
    "\n",
    "**Secondly**, we perform then the feed forward till we reach the output\n",
    "layer and compute all $\\hat{z}_l$ of the input layer and compute the\n",
    "activation function and the pertinent outputs $\\hat{a}^l$ for\n",
    "$l=1,2,3,\\dots,L$.\n",
    "\n",
    "**Notation**: The first hidden layer has $l=1$ as label and the final output layer has $l=L$."
   ]
  },
  {
   "cell_type": "markdown",
   "id": "926e553b",
   "metadata": {},
   "source": [
    "## Setting up the back propagation algorithm, part 2\n",
    "\n",
    "Thereafter we compute the ouput error $\\hat{\\delta}^L$ by computing all"
   ]
  },
  {
   "cell_type": "markdown",
   "id": "683c28d1",
   "metadata": {},
   "source": [
    "$$\n",
    "\\delta_j^L = \\sigma'(z_j^L)\\frac{\\partial {\\cal C}}{\\partial (a_j^L)}.\n",
    "$$"
   ]
  },
  {
   "cell_type": "markdown",
   "id": "78ed588b",
   "metadata": {},
   "source": [
    "Then we compute the back propagate error for each $l=L-1,L-2,\\dots,1$ as"
   ]
  },
  {
   "cell_type": "markdown",
   "id": "b4975e79",
   "metadata": {},
   "source": [
    "$$\n",
    "\\delta_j^l = \\sum_k \\delta_k^{l+1}w_{kj}^{l+1}\\sigma'(z_j^l).\n",
    "$$"
   ]
  },
  {
   "cell_type": "markdown",
   "id": "556c6ec2",
   "metadata": {},
   "source": [
    "## Setting up the Back propagation algorithm, part 3\n",
    "\n",
    "Finally, we update the weights and the biases using gradient descent\n",
    "for each $l=L-1,L-2,\\dots,1$ and update the weights and biases\n",
    "according to the rules"
   ]
  },
  {
   "cell_type": "markdown",
   "id": "34f6ca56",
   "metadata": {},
   "source": [
    "$$\n",
    "w_{jk}^l\\leftarrow  = w_{jk}^l- \\eta \\delta_j^la_k^{l-1},\n",
    "$$"
   ]
  },
  {
   "cell_type": "markdown",
   "id": "09a6deae",
   "metadata": {},
   "source": [
    "$$\n",
    "b_j^l \\leftarrow b_j^l-\\eta \\frac{\\partial {\\cal C}}{\\partial b_j^l}=b_j^l-\\eta \\delta_j^l,\n",
    "$$"
   ]
  },
  {
   "cell_type": "markdown",
   "id": "efdbf5c6",
   "metadata": {},
   "source": [
    "with $\\eta$ being the learning rate."
   ]
  },
  {
   "cell_type": "markdown",
   "id": "1ccb0099",
   "metadata": {},
   "source": [
    "## Updating the gradients\n",
    "\n",
    "With the back propagate error for each $l=L-1,L-2,\\dots,1$ as"
   ]
  },
  {
   "cell_type": "markdown",
   "id": "209c248d",
   "metadata": {},
   "source": [
    "$$\n",
    "\\delta_j^l = \\sum_k \\delta_k^{l+1}w_{kj}^{l+1}sigma'(z_j^l),\n",
    "$$"
   ]
  },
  {
   "cell_type": "markdown",
   "id": "913da9c1",
   "metadata": {},
   "source": [
    "we update the weights and the biases using gradient descent for each $l=L-1,L-2,\\dots,1$ and update the weights and biases according to the rules"
   ]
  },
  {
   "cell_type": "markdown",
   "id": "874f05ce",
   "metadata": {},
   "source": [
    "$$\n",
    "w_{jk}^l\\leftarrow  = w_{jk}^l- \\eta \\delta_j^la_k^{l-1},\n",
    "$$"
   ]
  },
  {
   "cell_type": "markdown",
   "id": "0cb8d0c3",
   "metadata": {},
   "source": [
    "$$\n",
    "b_j^l \\leftarrow b_j^l-\\eta \\frac{\\partial {\\cal C}}{\\partial b_j^l}=b_j^l-\\eta \\delta_j^l,\n",
    "$$"
   ]
  },
  {
   "cell_type": "markdown",
   "id": "44fc7db7",
   "metadata": {},
   "source": [
    "## Fine-tuning neural network hyperparameters\n",
    "\n",
    "The flexibility of neural networks is also one of their main\n",
    "drawbacks: there are many hyperparameters to tweak. Not only can you\n",
    "use any imaginable network topology (how neurons/nodes are\n",
    "interconnected), but even in a simple FFNN you can change the number\n",
    "of layers, the number of neurons per layer, the type of activation\n",
    "function to use in each layer, the weight initialization logic, the\n",
    "stochastic gradient optmized and much more. How do you know what\n",
    "combination of hyperparameters is the best for your task?\n",
    "\n",
    "* You can use grid search with cross-validation to find the right hyperparameters.\n",
    "\n",
    "However,since there are many hyperparameters to tune, and since\n",
    "training a neural network on a large dataset takes a lot of time, you\n",
    "will only be able to explore a tiny part of the hyperparameter space.\n",
    "\n",
    "* You can use randomized search.\n",
    "\n",
    "* Or use tools like [Oscar](http://oscar.calldesk.ai/), which implements more complex algorithms to help you find a good set of hyperparameters quickly."
   ]
  },
  {
   "cell_type": "markdown",
   "id": "41d4ce11",
   "metadata": {},
   "source": [
    "## Hidden layers\n",
    "\n",
    "For many problems you can start with just one or two hidden layers and\n",
    "it will work just fine.  For the MNIST data set you ca easily get a\n",
    "high accuracy using just one hidden layer with a few hundred neurons.\n",
    "You can reach for this data set above 98% accuracy using two hidden\n",
    "layers with the same total amount of neurons, in roughly the same\n",
    "amount of training time.\n",
    "\n",
    "For more complex problems, you can gradually ramp up the number of\n",
    "hidden layers, until you start overfitting the training set. Very\n",
    "complex tasks, such as large image classification or speech\n",
    "recognition, typically require networks with dozens of layers and they\n",
    "need a huge amount of training data. However, you will rarely have to\n",
    "train such networks from scratch: it is much more common to reuse\n",
    "parts of a pretrained state-of-the-art network that performs a similar\n",
    "task."
   ]
  },
  {
   "cell_type": "markdown",
   "id": "ec115033",
   "metadata": {},
   "source": [
    "## Vanishing gradients\n",
    "\n",
    "The Back propagation algorithm we derived above works by going from\n",
    "the output layer to the input layer, propagating the error gradient on\n",
    "the way. Once the algorithm has computed the gradient of the cost\n",
    "function with regards to each parameter in the network, it uses these\n",
    "gradients to update each parameter with a Gradient Descent (GD) step.\n",
    "\n",
    "Unfortunately for us, the gradients often get smaller and smaller as\n",
    "the algorithm progresses down to the first hidden layers. As a result,\n",
    "the GD update leaves the lower layer connection weights virtually\n",
    "unchanged, and training never converges to a good solution. This is\n",
    "known in the literature as **the vanishing gradients problem**."
   ]
  },
  {
   "cell_type": "markdown",
   "id": "3f592e41",
   "metadata": {},
   "source": [
    "## Exploding gradients\n",
    "\n",
    "In other cases, the opposite can happen, namely the the gradients can\n",
    "grow bigger and bigger. The result is that many of the layers get\n",
    "large updates of the weights the algorithm diverges. This is the\n",
    "**exploding gradients problem**, which is mostly encountered in\n",
    "recurrent neural networks. More generally, deep neural networks suffer\n",
    "from unstable gradients, different layers may learn at widely\n",
    "different speeds"
   ]
  },
  {
   "cell_type": "markdown",
   "id": "7894624c",
   "metadata": {},
   "source": [
    "## Is the Logistic activation function (Sigmoid)  our choice?\n",
    "\n",
    "Although this unfortunate behavior has been empirically observed for\n",
    "quite a while (it was one of the reasons why deep neural networks were\n",
    "mostly abandoned for a long time), it is only around 2010 that\n",
    "significant progress was made in understanding it.\n",
    "\n",
    "A paper titled [Understanding the Difficulty of Training Deep\n",
    "Feedforward Neural Networks by Xavier Glorot and Yoshua Bengio](http://proceedings.mlr.press/v9/glorot10a.html) found that\n",
    "the problems with the popular logistic\n",
    "sigmoid activation function and the weight initialization technique\n",
    "that was most popular at the time, namely random initialization using\n",
    "a normal distribution with a mean of 0 and a standard deviation of\n",
    "1."
   ]
  },
  {
   "cell_type": "markdown",
   "id": "fb5f7094",
   "metadata": {},
   "source": [
    "## Logistic function as the root of problems\n",
    "\n",
    "They showed that with this activation function and this\n",
    "initialization scheme, the variance of the outputs of each layer is\n",
    "much greater than the variance of its inputs. Going forward in the\n",
    "network, the variance keeps increasing after each layer until the\n",
    "activation function saturates at the top layers. This is actually made\n",
    "worse by the fact that the logistic function has a mean of 0.5, not 0\n",
    "(the hyperbolic tangent function has a mean of 0 and behaves slightly\n",
    "better than the logistic function in deep networks)."
   ]
  },
  {
   "cell_type": "markdown",
   "id": "0a4ba977",
   "metadata": {},
   "source": [
    "## The derivative of the Logistic funtion\n",
    "\n",
    "Looking at the logistic activation function, when inputs become large\n",
    "(negative or positive), the function saturates at 0 or 1, with a\n",
    "derivative extremely close to 0. Thus when backpropagation kicks in,\n",
    "it has virtually no gradient to propagate back through the network,\n",
    "and what little gradient exists keeps getting diluted as\n",
    "backpropagation progresses down through the top layers, so there is\n",
    "really nothing left for the lower layers.\n",
    "\n",
    "In their paper, Glorot and Bengio propose a way to significantly\n",
    "alleviate this problem. We need the signal to flow properly in both\n",
    "directions: in the forward direction when making predictions, and in\n",
    "the reverse direction when backpropagating gradients. We don’t want\n",
    "the signal to die out, nor do we want it to explode and saturate. For\n",
    "the signal to flow properly, the authors argue that we need the\n",
    "variance of the outputs of each layer to be equal to the variance of\n",
    "its inputs, and we also need the gradients to have equal variance\n",
    "before and after flowing through a layer in the reverse direction."
   ]
  },
  {
   "cell_type": "markdown",
   "id": "99ebdc0c",
   "metadata": {},
   "source": [
    "## Insights from the paper by Glorot and Bengio\n",
    "\n",
    "One of the insights in the 2010 paper by Glorot and Bengio was that\n",
    "the vanishing/exploding gradients problems were in part due to a poor\n",
    "choice of activation function. Until then most people had assumed that\n",
    "if Nature had chosen to use roughly sigmoid activation functions in\n",
    "biological neurons, they must be an excellent choice. But it turns out\n",
    "that other activation functions behave much better in deep neural\n",
    "networks, in particular the ReLU activation function, mostly because\n",
    "it does not saturate for positive values (and also because it is quite\n",
    "fast to compute)."
   ]
  },
  {
   "cell_type": "markdown",
   "id": "5282d37b",
   "metadata": {},
   "source": [
    "## The RELU function family\n",
    "\n",
    "The ReLU activation function suffers from a problem known as the dying\n",
    "ReLUs: during training, some neurons effectively die, meaning they\n",
    "stop outputting anything other than 0.\n",
    "\n",
    "In some cases, you may find that half of your network’s neurons are\n",
    "dead, especially if you used a large learning rate. During training,\n",
    "if a neuron’s weights get updated such that the weighted sum of the\n",
    "neuron’s inputs is negative, it will start outputting 0. When this\n",
    "happen, the neuron is unlikely to come back to life since the gradient\n",
    "of the ReLU function is 0 when its input is negative."
   ]
  },
  {
   "cell_type": "markdown",
   "id": "2b5747c2",
   "metadata": {},
   "source": [
    "## ELU function\n",
    "\n",
    "To solve this problem, nowadays practitioners use a variant of the\n",
    "ReLU function, such as the leaky ReLU discussed above or the so-called\n",
    "exponential linear unit (ELU) function"
   ]
  },
  {
   "cell_type": "markdown",
   "id": "d02d7d56",
   "metadata": {},
   "source": [
    "$$\n",
    "ELU(z) = \\left\\{\\begin{array}{cc} \\alpha\\left( \\exp{(z)}-1\\right) & z < 0,\\\\  z & z \\ge 0.\\end{array}\\right.\n",
    "$$"
   ]
  },
  {
   "cell_type": "markdown",
   "id": "ff8b7abf",
   "metadata": {},
   "source": [
    "## Which activation function should we use?\n",
    "\n",
    "In general it seems that the ELU activation function is better than\n",
    "the leaky ReLU function (and its variants), which is better than\n",
    "ReLU. ReLU performs better than $\\tanh$ which in turn performs better\n",
    "than the logistic function.\n",
    "\n",
    "If runtime performance is an issue, then you may opt for the leaky\n",
    "ReLU function over the ELU function If you don’t want to tweak yet\n",
    "another hyperparameter, you may just use the default $\\alpha$ of\n",
    "$0.01$ for the leaky ReLU, and $1$ for ELU. If you have spare time and\n",
    "computing power, you can use cross-validation or bootstrap to evaluate\n",
    "other activation functions."
   ]
  },
  {
   "cell_type": "markdown",
   "id": "23d4bfad",
   "metadata": {},
   "source": [
    "## More on activation functions, output layers\n",
    "\n",
    "In most cases you can use the ReLU activation function in the hidden\n",
    "layers (or one of its variants).\n",
    "\n",
    "It is a bit faster to compute than other activation functions, and the\n",
    "gradient descent optimization does in general not get stuck.\n",
    "\n",
    "**For the output layer:**\n",
    "\n",
    "* For classification the softmax activation function is generally a good choice for classification tasks (when the classes are mutually exclusive).\n",
    "\n",
    "* For regression tasks, you can simply use no activation function at all."
   ]
  },
  {
   "cell_type": "markdown",
   "id": "71986aa6",
   "metadata": {},
   "source": [
    "## Batch Normalization\n",
    "\n",
    "Batch Normalization aims to address the vanishing/exploding gradients\n",
    "problems, and more generally the problem that the distribution of each\n",
    "layer’s inputs changes during training, as the parameters of the\n",
    "previous layers change.\n",
    "\n",
    "The technique consists of adding an operation in the model just before\n",
    "the activation function of each layer, simply zero-centering and\n",
    "normalizing the inputs, then scaling and shifting the result using two\n",
    "new parameters per layer (one for scaling, the other for shifting). In\n",
    "other words, this operation lets the model learn the optimal scale and\n",
    "mean of the inputs for each layer.  In order to zero-center and\n",
    "normalize the inputs, the algorithm needs to estimate the inputs’ mean\n",
    "and standard deviation. It does so by evaluating the mean and standard\n",
    "deviation of the inputs over the current mini-batch, from this the\n",
    "name batch normalization."
   ]
  },
  {
   "cell_type": "markdown",
   "id": "4917e8d7",
   "metadata": {},
   "source": [
    "## Dropout\n",
    "\n",
    "It is a fairly simple algorithm: at every training step, every neuron\n",
    "(including the input neurons but excluding the output neurons) has a\n",
    "probability $p$ of being temporarily dropped out, meaning it will be\n",
    "entirely ignored during this training step, but it may be active\n",
    "during the next step.\n",
    "\n",
    "The hyperparameter $p$ is called the dropout rate, and it is typically\n",
    "set to 50%. After training, the neurons are not dropped anymore.  It\n",
    "is viewed as one of the most popular regularization techniques."
   ]
  },
  {
   "cell_type": "markdown",
   "id": "57ef6384",
   "metadata": {},
   "source": [
    "## Gradient Clipping\n",
    "\n",
    "A popular technique to lessen the exploding gradients problem is to\n",
    "simply clip the gradients during backpropagation so that they never\n",
    "exceed some threshold (this is mostly useful for recurrent neural\n",
    "networks).\n",
    "\n",
    "This technique is called Gradient Clipping.\n",
    "\n",
    "In general however, Batch\n",
    "Normalization is preferred."
   ]
  },
  {
   "cell_type": "markdown",
   "id": "330fb06d",
   "metadata": {},
   "source": [
    "## A top-down perspective on Neural networks\n",
    "\n",
    "The first thing we would like to do is divide the data into two or\n",
    "three parts. A training set, a validation or dev (development) set,\n",
    "and a test set. The test set is the data on which we want to make\n",
    "predictions. The dev set is a subset of the training data we use to\n",
    "check how well we are doing out-of-sample, after training the model on\n",
    "the training dataset. We use the validation error as a proxy for the\n",
    "test error in order to make tweaks to our model. It is crucial that we\n",
    "do not use any of the test data to train the algorithm. This is a\n",
    "cardinal sin in ML. Then:\n",
    "\n",
    "1. Estimate optimal error rate\n",
    "\n",
    "2. Minimize underfitting (bias) on training data set.\n",
    "\n",
    "3. Make sure you are not overfitting."
   ]
  },
  {
   "cell_type": "markdown",
   "id": "06a33b05",
   "metadata": {},
   "source": [
    "## More top-down perspectives\n",
    "\n",
    "If the validation and test sets are drawn from the same distributions,\n",
    "then a good performance on the validation set should lead to similarly\n",
    "good performance on the test set. \n",
    "\n",
    "However, sometimes\n",
    "the training data and test data differ in subtle ways because, for\n",
    "example, they are collected using slightly different methods, or\n",
    "because it is cheaper to collect data in one way versus another. In\n",
    "this case, there can be a mismatch between the training and test\n",
    "data. This can lead to the neural network overfitting these small\n",
    "differences between the test and training sets, and a poor performance\n",
    "on the test set despite having a good performance on the validation\n",
    "set. To rectify this, Andrew Ng suggests making two validation or dev\n",
    "sets, one constructed from the training data and one constructed from\n",
    "the test data. The difference between the performance of the algorithm\n",
    "on these two validation sets quantifies the train-test mismatch. This\n",
    "can serve as another important diagnostic when using DNNs for\n",
    "supervised learning."
   ]
  },
  {
   "cell_type": "markdown",
   "id": "9a05f585",
   "metadata": {},
   "source": [
    "## Limitations of supervised learning with deep networks\n",
    "\n",
    "Like all statistical methods, supervised learning using neural\n",
    "networks has important limitations. This is especially important when\n",
    "one seeks to apply these methods, especially to physics problems. Like\n",
    "all tools, DNNs are not a universal solution. Often, the same or\n",
    "better performance on a task can be achieved by using a few\n",
    "hand-engineered features (or even a collection of random\n",
    "features)."
   ]
  },
  {
   "cell_type": "markdown",
   "id": "dc43675f",
   "metadata": {},
   "source": [
    "## Limitations of NNs\n",
    "\n",
    "Here we list some of the important limitations of supervised neural network based models. \n",
    "\n",
    "* **Need labeled data**. All supervised learning methods, DNNs for supervised learning require labeled data. Often, labeled data is harder to acquire than unlabeled data (e.g. one must pay for human experts to label images).\n",
    "\n",
    "* **Supervised neural networks are extremely data intensive.** DNNs are data hungry. They perform best when data is plentiful. This is doubly so for supervised methods where the data must also be labeled. The utility of DNNs is extremely limited if data is hard to acquire or the datasets are small (hundreds to a few thousand samples). In this case, the performance of other methods that utilize hand-engineered features can exceed that of DNNs."
   ]
  },
  {
   "cell_type": "markdown",
   "id": "0909ac80",
   "metadata": {},
   "source": [
    "## Homogeneous data\n",
    "\n",
    "* **Homogeneous data.** Almost all DNNs deal with homogeneous data of one type. It is very hard to design architectures that mix and match data types (i.e. some continuous variables, some discrete variables, some time series). In applications beyond images, video, and language, this is often what is required. In contrast, ensemble models like random forests or gradient-boosted trees have no difficulty handling mixed data types."
   ]
  },
  {
   "cell_type": "markdown",
   "id": "b307f814",
   "metadata": {},
   "source": [
    "## More limitations\n",
    "\n",
    "* **Many problems are not about prediction.** In natural science we are often interested in learning something about the underlying distribution that generates the data. In this case, it is often difficult to cast these ideas in a supervised learning setting. While the problems are related, it is possible to make good predictions with a *wrong* model. The model might or might not be useful for understanding the underlying science.\n",
    "\n",
    "Some of these remarks are particular to DNNs, others are shared by all supervised learning methods. This motivates the use of unsupervised methods which in part circumvent these problems."
   ]
  },
  {
   "cell_type": "markdown",
   "id": "5836e991",
   "metadata": {},
   "source": [
    "## Building a neural network code\n",
    "\n",
    "Here we  present a flexible object oriented codebase\n",
    "for a feed forward neural network, along with a demonstration of how\n",
    "to use it. Before we get into the details of the neural network, we\n",
    "will first present some implementations of various schedulers, cost\n",
    "functions and activation functions that can be used together with the\n",
    "neural network.\n",
    "\n",
    "The codes here were developed by Eric Reber and Gregor Kajda during spring 2023.\n",
    "After these codes we present the TensorFlow inplementation. Pytorch will be discussed next week."
   ]
  },
  {
   "cell_type": "markdown",
   "id": "7bf61473",
   "metadata": {},
   "source": [
    "## Learning rate methods\n",
    "\n",
    "The code below shows object oriented implementations of the Constant,\n",
    "Momentum, Adagrad, AdagradMomentum, RMS prop and Adam schedulers. All\n",
    "of the classes belong to the shared abstract **Scheduler class**, and\n",
    "share the update$\\_$change() and reset() methods allowing for any of the\n",
    "schedulers to be seamlessly used during the training stage, as will\n",
    "later be shown in the fit() method of the neural\n",
    "network. Update$\\_$change() only has one parameter, the gradient, and returns the change which will be subtracted\n",
    "from the weights. The reset() function takes no parameters, and resets\n",
    "the desired variables. For Constant and Momentum, reset does nothing."
   ]
  },
  {
   "cell_type": "code",
   "execution_count": 3,
   "id": "9280c6e7",
   "metadata": {},
   "outputs": [],
   "source": [
    "import autograd.numpy as np\n",
    "\n",
    "class Scheduler:\n",
    "    \"\"\"\n",
    "    Abstract class for Schedulers\n",
    "    \"\"\"\n",
    "\n",
    "    def __init__(self, eta):\n",
    "        self.eta = eta\n",
    "\n",
    "    # should be overwritten\n",
    "    def update_change(self, gradient):\n",
    "        raise NotImplementedError\n",
    "\n",
    "    # overwritten if needed\n",
    "    def reset(self):\n",
    "        pass\n",
    "\n",
    "\n",
    "class Constant(Scheduler):\n",
    "    def __init__(self, eta):\n",
    "        super().__init__(eta)\n",
    "\n",
    "    def update_change(self, gradient):\n",
    "        return self.eta * gradient\n",
    "    \n",
    "    def reset(self):\n",
    "        pass\n",
    "\n",
    "\n",
    "class Momentum(Scheduler):\n",
    "    def __init__(self, eta: float, momentum: float):\n",
    "        super().__init__(eta)\n",
    "        self.momentum = momentum\n",
    "        self.change = 0\n",
    "\n",
    "    def update_change(self, gradient):\n",
    "        self.change = self.momentum * self.change + self.eta * gradient\n",
    "        return self.change\n",
    "\n",
    "    def reset(self):\n",
    "        pass\n",
    "\n",
    "\n",
    "class Adagrad(Scheduler):\n",
    "    def __init__(self, eta):\n",
    "        super().__init__(eta)\n",
    "        self.G_t = None\n",
    "\n",
    "    def update_change(self, gradient):\n",
    "        delta = 1e-8  # avoid division ny zero\n",
    "\n",
    "        if self.G_t is None:\n",
    "            self.G_t = np.zeros((gradient.shape[0], gradient.shape[0]))\n",
    "\n",
    "        self.G_t += gradient @ gradient.T\n",
    "\n",
    "        G_t_inverse = 1 / (\n",
    "            delta + np.sqrt(np.reshape(np.diagonal(self.G_t), (self.G_t.shape[0], 1)))\n",
    "        )\n",
    "        return self.eta * gradient * G_t_inverse\n",
    "\n",
    "    def reset(self):\n",
    "        self.G_t = None\n",
    "\n",
    "\n",
    "class AdagradMomentum(Scheduler):\n",
    "    def __init__(self, eta, momentum):\n",
    "        super().__init__(eta)\n",
    "        self.G_t = None\n",
    "        self.momentum = momentum\n",
    "        self.change = 0\n",
    "\n",
    "    def update_change(self, gradient):\n",
    "        delta = 1e-8  # avoid division ny zero\n",
    "\n",
    "        if self.G_t is None:\n",
    "            self.G_t = np.zeros((gradient.shape[0], gradient.shape[0]))\n",
    "\n",
    "        self.G_t += gradient @ gradient.T\n",
    "\n",
    "        G_t_inverse = 1 / (\n",
    "            delta + np.sqrt(np.reshape(np.diagonal(self.G_t), (self.G_t.shape[0], 1)))\n",
    "        )\n",
    "        self.change = self.change * self.momentum + self.eta * gradient * G_t_inverse\n",
    "        return self.change\n",
    "\n",
    "    def reset(self):\n",
    "        self.G_t = None\n",
    "\n",
    "\n",
    "class RMS_prop(Scheduler):\n",
    "    def __init__(self, eta, rho):\n",
    "        super().__init__(eta)\n",
    "        self.rho = rho\n",
    "        self.second = 0.0\n",
    "\n",
    "    def update_change(self, gradient):\n",
    "        delta = 1e-8  # avoid division ny zero\n",
    "        self.second = self.rho * self.second + (1 - self.rho) * gradient * gradient\n",
    "        return self.eta * gradient / (np.sqrt(self.second + delta))\n",
    "\n",
    "    def reset(self):\n",
    "        self.second = 0.0\n",
    "\n",
    "\n",
    "class Adam(Scheduler):\n",
    "    def __init__(self, eta, rho, rho2):\n",
    "        super().__init__(eta)\n",
    "        self.rho = rho\n",
    "        self.rho2 = rho2\n",
    "        self.moment = 0\n",
    "        self.second = 0\n",
    "        self.n_epochs = 1\n",
    "\n",
    "    def update_change(self, gradient):\n",
    "        delta = 1e-8  # avoid division ny zero\n",
    "\n",
    "        self.moment = self.rho * self.moment + (1 - self.rho) * gradient\n",
    "        self.second = self.rho2 * self.second + (1 - self.rho2) * gradient * gradient\n",
    "\n",
    "        moment_corrected = self.moment / (1 - self.rho**self.n_epochs)\n",
    "        second_corrected = self.second / (1 - self.rho2**self.n_epochs)\n",
    "\n",
    "        return self.eta * moment_corrected / (np.sqrt(second_corrected + delta))\n",
    "\n",
    "    def reset(self):\n",
    "        self.n_epochs += 1\n",
    "        self.moment = 0\n",
    "        self.second = 0"
   ]
  },
  {
   "cell_type": "markdown",
   "id": "98cf0b5d",
   "metadata": {},
   "source": [
    "## Usage of the above learning rate schedulers\n",
    "\n",
    "To initalize a scheduler, simply create the object and pass in the\n",
    "necessary parameters such as the learning rate and the momentum as\n",
    "shown below. As the Scheduler class is an abstract class it should not\n",
    "called directly, and will raise an error upon usage."
   ]
  },
  {
   "cell_type": "code",
   "execution_count": 4,
   "id": "5101a6cd",
   "metadata": {},
   "outputs": [],
   "source": [
    "momentum_scheduler = Momentum(eta=1e-3, momentum=0.9)\n",
    "adam_scheduler = Adam(eta=1e-3, rho=0.9, rho2=0.999)"
   ]
  },
  {
   "cell_type": "markdown",
   "id": "63c0dffc",
   "metadata": {},
   "source": [
    "Here is a small example for how a segment of code using schedulers\n",
    "could look. Switching out the schedulers is simple."
   ]
  },
  {
   "cell_type": "code",
   "execution_count": 5,
   "id": "cb9ed7c8",
   "metadata": {},
   "outputs": [],
   "source": [
    "weights = np.ones((3,3))\n",
    "print(f\"Before scheduler:\\n{weights=}\")\n",
    "\n",
    "epochs = 10\n",
    "for e in range(epochs):\n",
    "    gradient = np.random.rand(3, 3)\n",
    "    change = adam_scheduler.update_change(gradient)\n",
    "    weights = weights - change\n",
    "    adam_scheduler.reset()\n",
    "\n",
    "print(f\"\\nAfter scheduler:\\n{weights=}\")"
   ]
  },
  {
   "cell_type": "markdown",
   "id": "52291885",
   "metadata": {},
   "source": [
    "## Cost functions\n",
    "\n",
    "Here we discuss cost functions that can be used when creating the\n",
    "neural network. Every cost function takes the target vector as its\n",
    "parameter, and returns a function valued only at $x$ such that it may\n",
    "easily be differentiated."
   ]
  },
  {
   "cell_type": "code",
   "execution_count": 6,
   "id": "c7ceb413",
   "metadata": {},
   "outputs": [],
   "source": [
    "import autograd.numpy as np\n",
    "\n",
    "def CostOLS(target):\n",
    "    \n",
    "    def func(X):\n",
    "        return (1.0 / target.shape[0]) * np.sum((target - X) ** 2)\n",
    "\n",
    "    return func\n",
    "\n",
    "\n",
    "def CostLogReg(target):\n",
    "\n",
    "    def func(X):\n",
    "        \n",
    "        return -(1.0 / target.shape[0]) * np.sum(\n",
    "            (target * np.log(X + 10e-10)) + ((1 - target) * np.log(1 - X + 10e-10))\n",
    "        )\n",
    "\n",
    "    return func\n",
    "\n",
    "\n",
    "def CostCrossEntropy(target):\n",
    "    \n",
    "    def func(X):\n",
    "        return -(1.0 / target.size) * np.sum(target * np.log(X + 10e-10))\n",
    "\n",
    "    return func"
   ]
  },
  {
   "cell_type": "markdown",
   "id": "33066214",
   "metadata": {},
   "source": [
    "Below we give a short example of how these cost function may be used\n",
    "to obtain results if you wish to test them out on your own using\n",
    "AutoGrad's automatics differentiation."
   ]
  },
  {
   "cell_type": "code",
   "execution_count": 7,
   "id": "5b8aa363",
   "metadata": {},
   "outputs": [],
   "source": [
    "from autograd import grad\n",
    "\n",
    "target = np.array([[1, 2, 3]]).T\n",
    "a = np.array([[4, 5, 6]]).T\n",
    "\n",
    "cost_func = CostCrossEntropy\n",
    "cost_func_derivative = grad(cost_func(target))\n",
    "\n",
    "valued_at_a = cost_func_derivative(a)\n",
    "print(f\"Derivative of cost function {cost_func.__name__} valued at a:\\n{valued_at_a}\")"
   ]
  },
  {
   "cell_type": "markdown",
   "id": "8f965397",
   "metadata": {},
   "source": [
    "## Activation functions\n",
    "\n",
    "Finally, before we look at the neural network, we will look at the\n",
    "activation functions which can be specified between the hidden layers\n",
    "and as the output function. Each function can be valued for any given\n",
    "vector or matrix X, and can be differentiated via derivate()."
   ]
  },
  {
   "cell_type": "code",
   "execution_count": 8,
   "id": "ffbd0cab",
   "metadata": {},
   "outputs": [],
   "source": [
    "import autograd.numpy as np\n",
    "from autograd import elementwise_grad\n",
    "\n",
    "def identity(X):\n",
    "    return X\n",
    "\n",
    "\n",
    "def sigmoid(X):\n",
    "    try:\n",
    "        return 1.0 / (1 + np.exp(-X))\n",
    "    except FloatingPointError:\n",
    "        return np.where(X > np.zeros(X.shape), np.ones(X.shape), np.zeros(X.shape))\n",
    "\n",
    "\n",
    "def softmax(X):\n",
    "    X = X - np.max(X, axis=-1, keepdims=True)\n",
    "    delta = 10e-10\n",
    "    return np.exp(X) / (np.sum(np.exp(X), axis=-1, keepdims=True) + delta)\n",
    "\n",
    "\n",
    "def RELU(X):\n",
    "    return np.where(X > np.zeros(X.shape), X, np.zeros(X.shape))\n",
    "\n",
    "\n",
    "def LRELU(X):\n",
    "    delta = 10e-4\n",
    "    return np.where(X > np.zeros(X.shape), X, delta * X)\n",
    "\n",
    "\n",
    "def derivate(func):\n",
    "    if func.__name__ == \"RELU\":\n",
    "\n",
    "        def func(X):\n",
    "            return np.where(X > 0, 1, 0)\n",
    "\n",
    "        return func\n",
    "\n",
    "    elif func.__name__ == \"LRELU\":\n",
    "\n",
    "        def func(X):\n",
    "            delta = 10e-4\n",
    "            return np.where(X > 0, 1, delta)\n",
    "\n",
    "        return func\n",
    "\n",
    "    else:\n",
    "        return elementwise_grad(func)"
   ]
  },
  {
   "cell_type": "markdown",
   "id": "32536e2e",
   "metadata": {},
   "source": [
    "Below follows a short demonstration of how to use an activation\n",
    "function. The derivative of the activation function will be important\n",
    "when calculating the output delta term during backpropagation. Note\n",
    "that derivate() can also be used for cost functions for a more\n",
    "generalized approach."
   ]
  },
  {
   "cell_type": "code",
   "execution_count": 9,
   "id": "ce9ece1e",
   "metadata": {},
   "outputs": [],
   "source": [
    "z = np.array([[4, 5, 6]]).T\n",
    "print(f\"Input to activation function:\\n{z}\")\n",
    "\n",
    "act_func = sigmoid\n",
    "a = act_func(z)\n",
    "print(f\"\\nOutput from {act_func.__name__} activation function:\\n{a}\")\n",
    "\n",
    "act_func_derivative = derivate(act_func)\n",
    "valued_at_z = act_func_derivative(a)\n",
    "print(f\"\\nDerivative of {act_func.__name__} activation function valued at z:\\n{valued_at_z}\")"
   ]
  },
  {
   "cell_type": "markdown",
   "id": "ff508e9e",
   "metadata": {},
   "source": [
    "## The Neural Network\n",
    "\n",
    "Now that we have gotten a good understanding of the implementation of\n",
    "some important components, we can take a look at an object oriented\n",
    "implementation of a feed forward neural network. The feed forward\n",
    "neural network has been implemented as a class named FFNN, which can\n",
    "be initiated as a regressor or classifier dependant on the choice of\n",
    "cost function. The FFNN can have any number of input nodes, hidden\n",
    "layers with any amount of hidden nodes, and any amount of output nodes\n",
    "meaning it can perform multiclass classification as well as binary\n",
    "classification and regression problems. Although there is a lot of\n",
    "code present, it makes for an easy to use and generalizeable interface\n",
    "for creating many types of neural networks as will be demonstrated\n",
    "below."
   ]
  },
  {
   "cell_type": "code",
   "execution_count": 10,
   "id": "1449662d",
   "metadata": {},
   "outputs": [],
   "source": [
    "import math\n",
    "import autograd.numpy as np\n",
    "import sys\n",
    "import warnings\n",
    "from autograd import grad, elementwise_grad\n",
    "from random import random, seed\n",
    "from copy import deepcopy, copy\n",
    "from typing import Tuple, Callable\n",
    "from sklearn.utils import resample\n",
    "\n",
    "warnings.simplefilter(\"error\")\n",
    "\n",
    "\n",
    "class FFNN:\n",
    "    \"\"\"\n",
    "    Description:\n",
    "    ------------\n",
    "        Feed Forward Neural Network with interface enabling flexible design of a\n",
    "        nerual networks architecture and the specification of activation function\n",
    "        in the hidden layers and output layer respectively. This model can be used\n",
    "        for both regression and classification problems, depending on the output function.\n",
    "\n",
    "    Attributes:\n",
    "    ------------\n",
    "        I   dimensions (tuple[int]): A list of positive integers, which specifies the\n",
    "            number of nodes in each of the networks layers. The first integer in the array\n",
    "            defines the number of nodes in the input layer, the second integer defines number\n",
    "            of nodes in the first hidden layer and so on until the last number, which\n",
    "            specifies the number of nodes in the output layer.\n",
    "        II  hidden_func (Callable): The activation function for the hidden layers\n",
    "        III output_func (Callable): The activation function for the output layer\n",
    "        IV  cost_func (Callable): Our cost function\n",
    "        V   seed (int): Sets random seed, makes results reproducible\n",
    "    \"\"\"\n",
    "\n",
    "    def __init__(\n",
    "        self,\n",
    "        dimensions: tuple[int],\n",
    "        hidden_func: Callable = sigmoid,\n",
    "        output_func: Callable = lambda x: x,\n",
    "        cost_func: Callable = CostOLS,\n",
    "        seed: int = None,\n",
    "    ):\n",
    "        self.dimensions = dimensions\n",
    "        self.hidden_func = hidden_func\n",
    "        self.output_func = output_func\n",
    "        self.cost_func = cost_func\n",
    "        self.seed = seed\n",
    "        self.weights = list()\n",
    "        self.schedulers_weight = list()\n",
    "        self.schedulers_bias = list()\n",
    "        self.a_matrices = list()\n",
    "        self.z_matrices = list()\n",
    "        self.classification = None\n",
    "\n",
    "        self.reset_weights()\n",
    "        self._set_classification()\n",
    "\n",
    "    def fit(\n",
    "        self,\n",
    "        X: np.ndarray,\n",
    "        t: np.ndarray,\n",
    "        scheduler: Scheduler,\n",
    "        batches: int = 1,\n",
    "        epochs: int = 100,\n",
    "        lam: float = 0,\n",
    "        X_val: np.ndarray = None,\n",
    "        t_val: np.ndarray = None,\n",
    "    ):\n",
    "        \"\"\"\n",
    "        Description:\n",
    "        ------------\n",
    "            This function performs the training the neural network by performing the feedforward and backpropagation\n",
    "            algorithm to update the networks weights.\n",
    "\n",
    "        Parameters:\n",
    "        ------------\n",
    "            I    X (np.ndarray) : training data\n",
    "            II   t (np.ndarray) : target data\n",
    "            III  scheduler (Scheduler) : specified scheduler (algorithm for optimization of gradient descent)\n",
    "            IV   scheduler_args (list[int]) : list of all arguments necessary for scheduler\n",
    "\n",
    "        Optional Parameters:\n",
    "        ------------\n",
    "            V    batches (int) : number of batches the datasets are split into, default equal to 1\n",
    "            VI   epochs (int) : number of iterations used to train the network, default equal to 100\n",
    "            VII  lam (float) : regularization hyperparameter lambda\n",
    "            VIII X_val (np.ndarray) : validation set\n",
    "            IX   t_val (np.ndarray) : validation target set\n",
    "\n",
    "        Returns:\n",
    "        ------------\n",
    "            I   scores (dict) : A dictionary containing the performance metrics of the model.\n",
    "                The number of the metrics depends on the parameters passed to the fit-function.\n",
    "\n",
    "        \"\"\"\n",
    "\n",
    "        # setup \n",
    "        if self.seed is not None:\n",
    "            np.random.seed(self.seed)\n",
    "\n",
    "        val_set = False\n",
    "        if X_val is not None and t_val is not None:\n",
    "            val_set = True\n",
    "\n",
    "        # creating arrays for score metrics\n",
    "        train_errors = np.empty(epochs)\n",
    "        train_errors.fill(np.nan)\n",
    "        val_errors = np.empty(epochs)\n",
    "        val_errors.fill(np.nan)\n",
    "\n",
    "        train_accs = np.empty(epochs)\n",
    "        train_accs.fill(np.nan)\n",
    "        val_accs = np.empty(epochs)\n",
    "        val_accs.fill(np.nan)\n",
    "\n",
    "        self.schedulers_weight = list()\n",
    "        self.schedulers_bias = list()\n",
    "\n",
    "        batch_size = X.shape[0] // batches\n",
    "\n",
    "        X, t = resample(X, t)\n",
    "\n",
    "        # this function returns a function valued only at X\n",
    "        cost_function_train = self.cost_func(t)\n",
    "        if val_set:\n",
    "            cost_function_val = self.cost_func(t_val)\n",
    "\n",
    "        # create schedulers for each weight matrix\n",
    "        for i in range(len(self.weights)):\n",
    "            self.schedulers_weight.append(copy(scheduler))\n",
    "            self.schedulers_bias.append(copy(scheduler))\n",
    "\n",
    "        print(f\"{scheduler.__class__.__name__}: Eta={scheduler.eta}, Lambda={lam}\")\n",
    "\n",
    "        try:\n",
    "            for e in range(epochs):\n",
    "                for i in range(batches):\n",
    "                    # allows for minibatch gradient descent\n",
    "                    if i == batches - 1:\n",
    "                        # If the for loop has reached the last batch, take all thats left\n",
    "                        X_batch = X[i * batch_size :, :]\n",
    "                        t_batch = t[i * batch_size :, :]\n",
    "                    else:\n",
    "                        X_batch = X[i * batch_size : (i + 1) * batch_size, :]\n",
    "                        t_batch = t[i * batch_size : (i + 1) * batch_size, :]\n",
    "\n",
    "                    self._feedforward(X_batch)\n",
    "                    self._backpropagate(X_batch, t_batch, lam)\n",
    "\n",
    "                # reset schedulers for each epoch (some schedulers pass in this call)\n",
    "                for scheduler in self.schedulers_weight:\n",
    "                    scheduler.reset()\n",
    "\n",
    "                for scheduler in self.schedulers_bias:\n",
    "                    scheduler.reset()\n",
    "\n",
    "                # computing performance metrics\n",
    "                pred_train = self.predict(X)\n",
    "                train_error = cost_function_train(pred_train)\n",
    "\n",
    "                train_errors[e] = train_error\n",
    "                if val_set:\n",
    "                    \n",
    "                    pred_val = self.predict(X_val)\n",
    "                    val_error = cost_function_val(pred_val)\n",
    "                    val_errors[e] = val_error\n",
    "\n",
    "                if self.classification:\n",
    "                    train_acc = self._accuracy(self.predict(X), t)\n",
    "                    train_accs[e] = train_acc\n",
    "                    if val_set:\n",
    "                        val_acc = self._accuracy(pred_val, t_val)\n",
    "                        val_accs[e] = val_acc\n",
    "\n",
    "                # printing progress bar\n",
    "                progression = e / epochs\n",
    "                print_length = self._progress_bar(\n",
    "                    progression,\n",
    "                    train_error=train_errors[e],\n",
    "                    train_acc=train_accs[e],\n",
    "                    val_error=val_errors[e],\n",
    "                    val_acc=val_accs[e],\n",
    "                )\n",
    "        except KeyboardInterrupt:\n",
    "            # allows for stopping training at any point and seeing the result\n",
    "            pass\n",
    "\n",
    "        # visualization of training progression (similiar to tensorflow progression bar)\n",
    "        sys.stdout.write(\"\\r\" + \" \" * print_length)\n",
    "        sys.stdout.flush()\n",
    "        self._progress_bar(\n",
    "            1,\n",
    "            train_error=train_errors[e],\n",
    "            train_acc=train_accs[e],\n",
    "            val_error=val_errors[e],\n",
    "            val_acc=val_accs[e],\n",
    "        )\n",
    "        sys.stdout.write(\"\")\n",
    "\n",
    "        # return performance metrics for the entire run\n",
    "        scores = dict()\n",
    "\n",
    "        scores[\"train_errors\"] = train_errors\n",
    "\n",
    "        if val_set:\n",
    "            scores[\"val_errors\"] = val_errors\n",
    "\n",
    "        if self.classification:\n",
    "            scores[\"train_accs\"] = train_accs\n",
    "\n",
    "            if val_set:\n",
    "                scores[\"val_accs\"] = val_accs\n",
    "\n",
    "        return scores\n",
    "\n",
    "    def predict(self, X: np.ndarray, *, threshold=0.5):\n",
    "        \"\"\"\n",
    "         Description:\n",
    "         ------------\n",
    "             Performs prediction after training of the network has been finished.\n",
    "\n",
    "         Parameters:\n",
    "        ------------\n",
    "             I   X (np.ndarray): The design matrix, with n rows of p features each\n",
    "\n",
    "         Optional Parameters:\n",
    "         ------------\n",
    "             II  threshold (float) : sets minimal value for a prediction to be predicted as the positive class\n",
    "                 in classification problems\n",
    "\n",
    "         Returns:\n",
    "         ------------\n",
    "             I   z (np.ndarray): A prediction vector (row) for each row in our design matrix\n",
    "                 This vector is thresholded if regression=False, meaning that classification results\n",
    "                 in a vector of 1s and 0s, while regressions in an array of decimal numbers\n",
    "\n",
    "        \"\"\"\n",
    "\n",
    "        predict = self._feedforward(X)\n",
    "\n",
    "        if self.classification:\n",
    "            return np.where(predict > threshold, 1, 0)\n",
    "        else:\n",
    "            return predict\n",
    "\n",
    "    def reset_weights(self):\n",
    "        \"\"\"\n",
    "        Description:\n",
    "        ------------\n",
    "            Resets/Reinitializes the weights in order to train the network for a new problem.\n",
    "\n",
    "        \"\"\"\n",
    "        if self.seed is not None:\n",
    "            np.random.seed(self.seed)\n",
    "\n",
    "        self.weights = list()\n",
    "        for i in range(len(self.dimensions) - 1):\n",
    "            weight_array = np.random.randn(\n",
    "                self.dimensions[i] + 1, self.dimensions[i + 1]\n",
    "            )\n",
    "            weight_array[0, :] = np.random.randn(self.dimensions[i + 1]) * 0.01\n",
    "\n",
    "            self.weights.append(weight_array)\n",
    "\n",
    "    def _feedforward(self, X: np.ndarray):\n",
    "        \"\"\"\n",
    "        Description:\n",
    "        ------------\n",
    "            Calculates the activation of each layer starting at the input and ending at the output.\n",
    "            Each following activation is calculated from a weighted sum of each of the preceeding\n",
    "            activations (except in the case of the input layer).\n",
    "\n",
    "        Parameters:\n",
    "        ------------\n",
    "            I   X (np.ndarray): The design matrix, with n rows of p features each\n",
    "\n",
    "        Returns:\n",
    "        ------------\n",
    "            I   z (np.ndarray): A prediction vector (row) for each row in our design matrix\n",
    "        \"\"\"\n",
    "\n",
    "        # reset matrices\n",
    "        self.a_matrices = list()\n",
    "        self.z_matrices = list()\n",
    "\n",
    "        # if X is just a vector, make it into a matrix\n",
    "        if len(X.shape) == 1:\n",
    "            X = X.reshape((1, X.shape[0]))\n",
    "\n",
    "        # Add a coloumn of zeros as the first coloumn of the design matrix, in order\n",
    "        # to add bias to our data\n",
    "        bias = np.ones((X.shape[0], 1)) * 0.01\n",
    "        X = np.hstack([bias, X])\n",
    "\n",
    "        # a^0, the nodes in the input layer (one a^0 for each row in X - where the\n",
    "        # exponent indicates layer number).\n",
    "        a = X\n",
    "        self.a_matrices.append(a)\n",
    "        self.z_matrices.append(a)\n",
    "\n",
    "        # The feed forward algorithm\n",
    "        for i in range(len(self.weights)):\n",
    "            if i < len(self.weights) - 1:\n",
    "                z = a @ self.weights[i]\n",
    "                self.z_matrices.append(z)\n",
    "                a = self.hidden_func(z)\n",
    "                # bias column again added to the data here\n",
    "                bias = np.ones((a.shape[0], 1)) * 0.01\n",
    "                a = np.hstack([bias, a])\n",
    "                self.a_matrices.append(a)\n",
    "            else:\n",
    "                try:\n",
    "                    # a^L, the nodes in our output layers\n",
    "                    z = a @ self.weights[i]\n",
    "                    a = self.output_func(z)\n",
    "                    self.a_matrices.append(a)\n",
    "                    self.z_matrices.append(z)\n",
    "                except Exception as OverflowError:\n",
    "                    print(\n",
    "                        \"OverflowError in fit() in FFNN\\nHOW TO DEBUG ERROR: Consider lowering your learning rate or scheduler specific parameters such as momentum, or check if your input values need scaling\"\n",
    "                    )\n",
    "\n",
    "        # this will be a^L\n",
    "        return a\n",
    "\n",
    "    def _backpropagate(self, X, t, lam):\n",
    "        \"\"\"\n",
    "        Description:\n",
    "        ------------\n",
    "            Performs the backpropagation algorithm. In other words, this method\n",
    "            calculates the gradient of all the layers starting at the\n",
    "            output layer, and moving from right to left accumulates the gradient until\n",
    "            the input layer is reached. Each layers respective weights are updated while\n",
    "            the algorithm propagates backwards from the output layer (auto-differentation in reverse mode).\n",
    "\n",
    "        Parameters:\n",
    "        ------------\n",
    "            I   X (np.ndarray): The design matrix, with n rows of p features each.\n",
    "            II  t (np.ndarray): The target vector, with n rows of p targets.\n",
    "            III lam (float32): regularization parameter used to punish the weights in case of overfitting\n",
    "\n",
    "        Returns:\n",
    "        ------------\n",
    "            No return value.\n",
    "\n",
    "        \"\"\"\n",
    "        out_derivative = derivate(self.output_func)\n",
    "        hidden_derivative = derivate(self.hidden_func)\n",
    "\n",
    "        for i in range(len(self.weights) - 1, -1, -1):\n",
    "            # delta terms for output\n",
    "            if i == len(self.weights) - 1:\n",
    "                # for multi-class classification\n",
    "                if (\n",
    "                    self.output_func.__name__ == \"softmax\"\n",
    "                ):\n",
    "                    delta_matrix = self.a_matrices[i + 1] - t\n",
    "                # for single class classification\n",
    "                else:\n",
    "                    cost_func_derivative = grad(self.cost_func(t))\n",
    "                    delta_matrix = out_derivative(\n",
    "                        self.z_matrices[i + 1]\n",
    "                    ) * cost_func_derivative(self.a_matrices[i + 1])\n",
    "\n",
    "            # delta terms for hidden layer\n",
    "            else:\n",
    "                delta_matrix = (\n",
    "                    self.weights[i + 1][1:, :] @ delta_matrix.T\n",
    "                ).T * hidden_derivative(self.z_matrices[i + 1])\n",
    "\n",
    "            # calculate gradient\n",
    "            gradient_weights = self.a_matrices[i][:, 1:].T @ delta_matrix\n",
    "            gradient_bias = np.sum(delta_matrix, axis=0).reshape(\n",
    "                1, delta_matrix.shape[1]\n",
    "            )\n",
    "\n",
    "            # regularization term\n",
    "            gradient_weights += self.weights[i][1:, :] * lam\n",
    "\n",
    "            # use scheduler\n",
    "            update_matrix = np.vstack(\n",
    "                [\n",
    "                    self.schedulers_bias[i].update_change(gradient_bias),\n",
    "                    self.schedulers_weight[i].update_change(gradient_weights),\n",
    "                ]\n",
    "            )\n",
    "\n",
    "            # update weights and bias\n",
    "            self.weights[i] -= update_matrix\n",
    "\n",
    "    def _accuracy(self, prediction: np.ndarray, target: np.ndarray):\n",
    "        \"\"\"\n",
    "        Description:\n",
    "        ------------\n",
    "            Calculates accuracy of given prediction to target\n",
    "\n",
    "        Parameters:\n",
    "        ------------\n",
    "            I   prediction (np.ndarray): vector of predicitons output network\n",
    "                (1s and 0s in case of classification, and real numbers in case of regression)\n",
    "            II  target (np.ndarray): vector of true values (What the network ideally should predict)\n",
    "\n",
    "        Returns:\n",
    "        ------------\n",
    "            A floating point number representing the percentage of correctly classified instances.\n",
    "        \"\"\"\n",
    "        assert prediction.size == target.size\n",
    "        return np.average((target == prediction))\n",
    "    def _set_classification(self):\n",
    "        \"\"\"\n",
    "        Description:\n",
    "        ------------\n",
    "            Decides if FFNN acts as classifier (True) og regressor (False),\n",
    "            sets self.classification during init()\n",
    "        \"\"\"\n",
    "        self.classification = False\n",
    "        if (\n",
    "            self.cost_func.__name__ == \"CostLogReg\"\n",
    "            or self.cost_func.__name__ == \"CostCrossEntropy\"\n",
    "        ):\n",
    "            self.classification = True\n",
    "\n",
    "    def _progress_bar(self, progression, **kwargs):\n",
    "        \"\"\"\n",
    "        Description:\n",
    "        ------------\n",
    "            Displays progress of training\n",
    "        \"\"\"\n",
    "        print_length = 40\n",
    "        num_equals = int(progression * print_length)\n",
    "        num_not = print_length - num_equals\n",
    "        arrow = \">\" if num_equals > 0 else \"\"\n",
    "        bar = \"[\" + \"=\" * (num_equals - 1) + arrow + \"-\" * num_not + \"]\"\n",
    "        perc_print = self._format(progression * 100, decimals=5)\n",
    "        line = f\"  {bar} {perc_print}% \"\n",
    "\n",
    "        for key in kwargs:\n",
    "            if not np.isnan(kwargs[key]):\n",
    "                value = self._format(kwargs[key], decimals=4)\n",
    "                line += f\"| {key}: {value} \"\n",
    "        sys.stdout.write(\"\\r\" + line)\n",
    "        sys.stdout.flush()\n",
    "        return len(line)\n",
    "\n",
    "    def _format(self, value, decimals=4):\n",
    "        \"\"\"\n",
    "        Description:\n",
    "        ------------\n",
    "            Formats decimal numbers for progress bar\n",
    "        \"\"\"\n",
    "        if value > 0:\n",
    "            v = value\n",
    "        elif value < 0:\n",
    "            v = -10 * value\n",
    "        else:\n",
    "            v = 1\n",
    "        n = 1 + math.floor(math.log10(v))\n",
    "        if n >= decimals - 1:\n",
    "            return str(round(value))\n",
    "        return f\"{value:.{decimals-n-1}f}\""
   ]
  },
  {
   "cell_type": "markdown",
   "id": "2f52ee54",
   "metadata": {},
   "source": [
    "Before we make a model, we will quickly generate a dataset we can use\n",
    "for our linear regression problem as shown below"
   ]
  },
  {
   "cell_type": "code",
   "execution_count": 11,
   "id": "7678cbb8",
   "metadata": {},
   "outputs": [],
   "source": [
    "import autograd.numpy as np\n",
    "from sklearn.model_selection import train_test_split\n",
    "\n",
    "def SkrankeFunction(x, y):\n",
    "    return np.ravel(0 + 1*x + 2*y + 3*x**2 + 4*x*y + 5*y**2)\n",
    "\n",
    "def create_X(x, y, n):\n",
    "    if len(x.shape) > 1:\n",
    "        x = np.ravel(x)\n",
    "        y = np.ravel(y)\n",
    "\n",
    "    N = len(x)\n",
    "    l = int((n + 1) * (n + 2) / 2)  # Number of elements in beta\n",
    "    X = np.ones((N, l))\n",
    "\n",
    "    for i in range(1, n + 1):\n",
    "        q = int((i) * (i + 1) / 2)\n",
    "        for k in range(i + 1):\n",
    "            X[:, q + k] = (x ** (i - k)) * (y**k)\n",
    "\n",
    "    return X\n",
    "\n",
    "step=0.5\n",
    "x = np.arange(0, 1, step)\n",
    "y = np.arange(0, 1, step)\n",
    "x, y = np.meshgrid(x, y)\n",
    "target = SkrankeFunction(x, y)\n",
    "target = target.reshape(target.shape[0], 1)\n",
    "\n",
    "poly_degree=3\n",
    "X = create_X(x, y, poly_degree)\n",
    "\n",
    "X_train, X_test, t_train, t_test = train_test_split(X, target)"
   ]
  },
  {
   "cell_type": "markdown",
   "id": "b7af0126",
   "metadata": {},
   "source": [
    "Now that we have our dataset ready for the regression, we can create\n",
    "our regressor. Note that with the seed parameter, we can make sure our\n",
    "results stay the same every time we run the neural network. For\n",
    "inititialization, we simply specify the dimensions (we wish the amount\n",
    "of input nodes to be equal to the datapoints, and the output to\n",
    "predict one value)."
   ]
  },
  {
   "cell_type": "code",
   "execution_count": 12,
   "id": "8f9ae7d6",
   "metadata": {},
   "outputs": [],
   "source": [
    "input_nodes = X_train.shape[1]\n",
    "output_nodes = 1\n",
    "\n",
    "linear_regression = FFNN((input_nodes, output_nodes), output_func=identity, cost_func=CostOLS, seed=2023)"
   ]
  },
  {
   "cell_type": "markdown",
   "id": "5c0d7aaf",
   "metadata": {},
   "source": [
    "We then fit our model with our training data using the scheduler of our choice."
   ]
  },
  {
   "cell_type": "code",
   "execution_count": 13,
   "id": "c4c1697f",
   "metadata": {},
   "outputs": [],
   "source": [
    "linear_regression.reset_weights() # reset weights such that previous runs or reruns don't affect the weights\n",
    "\n",
    "scheduler = Constant(eta=1e-3)\n",
    "scores = linear_regression.fit(X_train, t_train, scheduler)"
   ]
  },
  {
   "cell_type": "markdown",
   "id": "cbc7268e",
   "metadata": {},
   "source": [
    "Due to the progress bar we can see the MSE (train$\\_$error) throughout\n",
    "the FFNN's training. Note that the fit() function has some optional\n",
    "parameters with defualt arguments. For example, the regularization\n",
    "hyperparameter can be left ignored if not needed, and equally the FFNN\n",
    "will by default run for 100 epochs. These can easily be changed, such\n",
    "as for example:"
   ]
  },
  {
   "cell_type": "code",
   "execution_count": 14,
   "id": "95678979",
   "metadata": {},
   "outputs": [],
   "source": [
    "linear_regression.reset_weights() # reset weights such that previous runs or reruns don't affect the weights\n",
    "\n",
    "scores = linear_regression.fit(X_train, t_train, scheduler, lam=1e-4, epochs=1000)"
   ]
  },
  {
   "cell_type": "markdown",
   "id": "769ea580",
   "metadata": {},
   "source": [
    "We see that given more epochs to train on, the regressor reaches a lower MSE.\n",
    "\n",
    "Let us then switch to a binary classification. We use a binary\n",
    "classification dataset, and follow a similar setup to the regression\n",
    "case."
   ]
  },
  {
   "cell_type": "code",
   "execution_count": 15,
   "id": "c8608f3b",
   "metadata": {},
   "outputs": [],
   "source": [
    "from sklearn.datasets import load_breast_cancer\n",
    "from sklearn.preprocessing import MinMaxScaler\n",
    "\n",
    "wisconsin = load_breast_cancer()\n",
    "X = wisconsin.data\n",
    "target = wisconsin.target\n",
    "target = target.reshape(target.shape[0], 1)\n",
    "\n",
    "X_train, X_val, t_train, t_val = train_test_split(X, target)\n",
    "\n",
    "scaler = MinMaxScaler()\n",
    "scaler.fit(X_train)\n",
    "X_train = scaler.transform(X_train)\n",
    "X_val = scaler.transform(X_val)"
   ]
  },
  {
   "cell_type": "code",
   "execution_count": 16,
   "id": "142209a1",
   "metadata": {},
   "outputs": [],
   "source": [
    "input_nodes = X_train.shape[1]\n",
    "output_nodes = 1\n",
    "\n",
    "logistic_regression = FFNN((input_nodes, output_nodes), output_func=sigmoid, cost_func=CostLogReg, seed=2023)"
   ]
  },
  {
   "cell_type": "markdown",
   "id": "44783ca4",
   "metadata": {},
   "source": [
    "We will now make use of our validation data by passing it into our fit function as a keyword argument"
   ]
  },
  {
   "cell_type": "code",
   "execution_count": 17,
   "id": "b9cb7976",
   "metadata": {},
   "outputs": [],
   "source": [
    "logistic_regression.reset_weights() # reset weights such that previous runs or reruns don't affect the weights\n",
    "\n",
    "scheduler = Adam(eta=1e-3, rho=0.9, rho2=0.999)\n",
    "scores = logistic_regression.fit(X_train, t_train, scheduler, epochs=1000, X_val=X_val, t_val=t_val)"
   ]
  },
  {
   "cell_type": "markdown",
   "id": "de548bc2",
   "metadata": {},
   "source": [
    "Finally, we will create a neural network with 2 hidden layers with activation functions."
   ]
  },
  {
   "cell_type": "code",
   "execution_count": 18,
   "id": "c5f0afa2",
   "metadata": {},
   "outputs": [],
   "source": [
    "input_nodes = X_train.shape[1]\n",
    "hidden_nodes1 = 100\n",
    "hidden_nodes2 = 30\n",
    "output_nodes = 1\n",
    "\n",
    "dims = (input_nodes, hidden_nodes1, hidden_nodes2, output_nodes)\n",
    "\n",
    "neural_network = FFNN(dims, hidden_func=RELU, output_func=sigmoid, cost_func=CostLogReg, seed=2023)"
   ]
  },
  {
   "cell_type": "code",
   "execution_count": 19,
   "id": "d42ecd5b",
   "metadata": {},
   "outputs": [],
   "source": [
    "neural_network.reset_weights() # reset weights such that previous runs or reruns don't affect the weights\n",
    "\n",
    "scheduler = Adam(eta=1e-4, rho=0.9, rho2=0.999)\n",
    "scores = neural_network.fit(X_train, t_train, scheduler, epochs=1000, X_val=X_val, t_val=t_val)"
   ]
  },
  {
   "cell_type": "markdown",
   "id": "91314dc5",
   "metadata": {},
   "source": [
    "## Multiclass classification\n",
    "\n",
    "Finally, we will demonstrate the use case of multiclass classification\n",
    "using our FFNN with the famous MNIST dataset, which contain images of\n",
    "digits between the range of 0 to 9."
   ]
  },
  {
   "cell_type": "code",
   "execution_count": 20,
   "id": "f09b42bb",
   "metadata": {},
   "outputs": [],
   "source": [
    "from sklearn.datasets import load_digits\n",
    "\n",
    "def onehot(target: np.ndarray):\n",
    "    onehot = np.zeros((target.size, target.max() + 1))\n",
    "    onehot[np.arange(target.size), target] = 1\n",
    "    return onehot\n",
    "\n",
    "digits = load_digits()\n",
    "\n",
    "X = digits.data\n",
    "target = digits.target\n",
    "target = onehot(target)\n",
    "\n",
    "input_nodes = 64\n",
    "hidden_nodes1 = 100\n",
    "hidden_nodes2 = 30\n",
    "output_nodes = 10\n",
    "\n",
    "dims = (input_nodes, hidden_nodes1, hidden_nodes2, output_nodes)\n",
    "\n",
    "multiclass = FFNN(dims, hidden_func=LRELU, output_func=softmax, cost_func=CostCrossEntropy)\n",
    "\n",
    "multiclass.reset_weights() # reset weights such that previous runs or reruns don't affect the weights\n",
    "\n",
    "scheduler = Adam(eta=1e-4, rho=0.9, rho2=0.999)\n",
    "scores = multiclass.fit(X, target, scheduler, epochs=1000)"
   ]
  },
  {
   "cell_type": "markdown",
   "id": "45de7527",
   "metadata": {},
   "source": [
    "## Testing the XOR gate and other gates\n",
    "\n",
    "Let us now use our code to test the XOR gate."
   ]
  },
  {
   "cell_type": "code",
   "execution_count": 21,
   "id": "455903da",
   "metadata": {},
   "outputs": [],
   "source": [
    "X = np.array([ [0, 0], [0, 1], [1, 0],[1, 1]],dtype=np.float64)\n",
    "\n",
    "# The XOR gate\n",
    "yXOR = np.array( [[ 0], [1] ,[1], [0]])\n",
    "\n",
    "input_nodes = X.shape[1]\n",
    "output_nodes = 1\n",
    "\n",
    "logistic_regression = FFNN((input_nodes, output_nodes), output_func=sigmoid, cost_func=CostLogReg, seed=2023)\n",
    "logistic_regression.reset_weights() # reset weights such that previous runs or reruns don't affect the weights\n",
    "scheduler = Adam(eta=1e-1, rho=0.9, rho2=0.999)\n",
    "scores = logistic_regression.fit(X, yXOR, scheduler, epochs=1000)"
   ]
  },
  {
   "cell_type": "markdown",
   "id": "cce3d571",
   "metadata": {},
   "source": [
    "Not bad, but the results depend strongly on the learning reate. Try different learning rates."
   ]
  },
  {
   "cell_type": "markdown",
   "id": "ce4ab20d",
   "metadata": {},
   "source": [
    "## Building neural networks in Tensorflow and Keras\n",
    "\n",
    "Now we want  to build on the experience gained from our neural network implementation in NumPy and scikit-learn\n",
    "and use it to construct a neural network in Tensorflow. Once we have constructed a neural network in NumPy\n",
    "and Tensorflow, building one in Keras is really quite trivial, though the performance may suffer.  \n",
    "\n",
    "In our previous example we used only one hidden layer, and in this we will use two. From this it should be quite\n",
    "clear how to build one using an arbitrary number of hidden layers, using data structures such as Python lists or\n",
    "NumPy arrays."
   ]
  },
  {
   "cell_type": "markdown",
   "id": "1938c072",
   "metadata": {},
   "source": [
    "## Tensorflow\n",
    "\n",
    "Tensorflow is an open source library machine learning library\n",
    "developed by the Google Brain team for internal use. It was released\n",
    "under the Apache 2.0 open source license in November 9, 2015.\n",
    "\n",
    "Tensorflow is a computational framework that allows you to construct\n",
    "machine learning models at different levels of abstraction, from\n",
    "high-level, object-oriented APIs like Keras, down to the C++ kernels\n",
    "that Tensorflow is built upon. The higher levels of abstraction are\n",
    "simpler to use, but less flexible, and our choice of implementation\n",
    "should reflect the problems we are trying to solve.\n",
    "\n",
    "[Tensorflow uses](https://www.tensorflow.org/guide/graphs) so-called graphs to represent your computation\n",
    "in terms of the dependencies between individual operations, such that you first build a Tensorflow *graph*\n",
    "to represent your model, and then create a Tensorflow *session* to run the graph.\n",
    "\n",
    "In this guide we will analyze the same data as we did in our NumPy and\n",
    "scikit-learn tutorial, gathered from the MNIST database of images. We\n",
    "will give an introduction to the lower level Python Application\n",
    "Program Interfaces (APIs), and see how we use them to build our graph.\n",
    "Then we will build (effectively) the same graph in Keras, to see just\n",
    "how simple solving a machine learning problem can be.\n",
    "\n",
    "To install tensorflow on Unix/Linux systems, use pip as"
   ]
  },
  {
   "cell_type": "code",
   "execution_count": 22,
   "id": "4efbb7d6",
   "metadata": {},
   "outputs": [],
   "source": [
    "pip3 install tensorflow"
   ]
  },
  {
   "cell_type": "markdown",
   "id": "392fe33d",
   "metadata": {},
   "source": [
    "and/or if you use **anaconda**, just write (or install from the graphical user interface)\n",
    "(current release of CPU-only TensorFlow)"
   ]
  },
  {
   "cell_type": "code",
   "execution_count": 23,
   "id": "ad894d2f",
   "metadata": {},
   "outputs": [],
   "source": [
    "conda create -n tf tensorflow\n",
    "conda activate tf"
   ]
  },
  {
   "cell_type": "markdown",
   "id": "737958fc",
   "metadata": {},
   "source": [
    "To install the current release of GPU TensorFlow"
   ]
  },
  {
   "cell_type": "code",
   "execution_count": 24,
   "id": "03b5cc2c",
   "metadata": {},
   "outputs": [],
   "source": [
    "conda create -n tf-gpu tensorflow-gpu\n",
    "conda activate tf-gpu"
   ]
  },
  {
   "cell_type": "markdown",
   "id": "15ed2ca2",
   "metadata": {},
   "source": [
    "## Using Keras\n",
    "\n",
    "Keras is a high level [neural network](https://en.wikipedia.org/wiki/Application_programming_interface)\n",
    "that supports Tensorflow, CTNK and Theano as backends.  \n",
    "If you have Anaconda installed you may run the following command"
   ]
  },
  {
   "cell_type": "code",
   "execution_count": 25,
   "id": "a4f6ce8c",
   "metadata": {},
   "outputs": [],
   "source": [
    "conda install keras"
   ]
  },
  {
   "cell_type": "markdown",
   "id": "1030046d",
   "metadata": {},
   "source": [
    "You can look up the [instructions here](https://keras.io/) for more information.\n",
    "\n",
    "We will to a large extent use **keras** in this course."
   ]
  },
  {
   "cell_type": "markdown",
   "id": "2aa55e35",
   "metadata": {},
   "source": [
    "## Collect and pre-process data\n",
    "\n",
    "Let us look again at the MINST data set."
   ]
  },
  {
   "cell_type": "code",
   "execution_count": 26,
   "id": "a025bf70",
   "metadata": {},
   "outputs": [],
   "source": [
    "# import necessary packages\n",
    "import numpy as np\n",
    "import matplotlib.pyplot as plt\n",
    "import tensorflow as tf\n",
    "from sklearn import datasets\n",
    "\n",
    "\n",
    "# ensure the same random numbers appear every time\n",
    "np.random.seed(0)\n",
    "\n",
    "# display images in notebook\n",
    "%matplotlib inline\n",
    "plt.rcParams['figure.figsize'] = (12,12)\n",
    "\n",
    "\n",
    "# download MNIST dataset\n",
    "digits = datasets.load_digits()\n",
    "\n",
    "# define inputs and labels\n",
    "inputs = digits.images\n",
    "labels = digits.target\n",
    "\n",
    "print(\"inputs = (n_inputs, pixel_width, pixel_height) = \" + str(inputs.shape))\n",
    "print(\"labels = (n_inputs) = \" + str(labels.shape))\n",
    "\n",
    "\n",
    "# flatten the image\n",
    "# the value -1 means dimension is inferred from the remaining dimensions: 8x8 = 64\n",
    "n_inputs = len(inputs)\n",
    "inputs = inputs.reshape(n_inputs, -1)\n",
    "print(\"X = (n_inputs, n_features) = \" + str(inputs.shape))\n",
    "\n",
    "\n",
    "# choose some random images to display\n",
    "indices = np.arange(n_inputs)\n",
    "random_indices = np.random.choice(indices, size=5)\n",
    "\n",
    "for i, image in enumerate(digits.images[random_indices]):\n",
    "    plt.subplot(1, 5, i+1)\n",
    "    plt.axis('off')\n",
    "    plt.imshow(image, cmap=plt.cm.gray_r, interpolation='nearest')\n",
    "    plt.title(\"Label: %d\" % digits.target[random_indices[i]])\n",
    "plt.show()"
   ]
  },
  {
   "cell_type": "code",
   "execution_count": 27,
   "id": "8a22357f",
   "metadata": {},
   "outputs": [],
   "source": [
    "from tensorflow.keras.layers import Input\n",
    "from tensorflow.keras.models import Sequential      #This allows appending layers to existing models\n",
    "from tensorflow.keras.layers import Dense           #This allows defining the characteristics of a particular layer\n",
    "from tensorflow.keras import optimizers             #This allows using whichever optimiser we want (sgd,adam,RMSprop)\n",
    "from tensorflow.keras import regularizers           #This allows using whichever regularizer we want (l1,l2,l1_l2)\n",
    "from tensorflow.keras.utils import to_categorical   #This allows using categorical cross entropy as the cost function\n",
    "\n",
    "from sklearn.model_selection import train_test_split\n",
    "\n",
    "# one-hot representation of labels\n",
    "labels = to_categorical(labels)\n",
    "\n",
    "# split into train and test data\n",
    "train_size = 0.8\n",
    "test_size = 1 - train_size\n",
    "X_train, X_test, Y_train, Y_test = train_test_split(inputs, labels, train_size=train_size,\n",
    "                                                    test_size=test_size)"
   ]
  },
  {
   "cell_type": "code",
   "execution_count": 28,
   "id": "00122026",
   "metadata": {},
   "outputs": [],
   "source": [
    "\n",
    "epochs = 100\n",
    "batch_size = 100\n",
    "n_neurons_layer1 = 100\n",
    "n_neurons_layer2 = 50\n",
    "n_categories = 10\n",
    "eta_vals = np.logspace(-5, 1, 7)\n",
    "lmbd_vals = np.logspace(-5, 1, 7)\n",
    "def create_neural_network_keras(n_neurons_layer1, n_neurons_layer2, n_categories, eta, lmbd):\n",
    "    model = Sequential()\n",
    "    model.add(Dense(n_neurons_layer1, activation='sigmoid', kernel_regularizer=regularizers.l2(lmbd)))\n",
    "    model.add(Dense(n_neurons_layer2, activation='sigmoid', kernel_regularizer=regularizers.l2(lmbd)))\n",
    "    model.add(Dense(n_categories, activation='softmax'))\n",
    "    \n",
    "    sgd = optimizers.SGD(lr=eta)\n",
    "    model.compile(loss='categorical_crossentropy', optimizer=sgd, metrics=['accuracy'])\n",
    "    \n",
    "    return model"
   ]
  },
  {
   "cell_type": "code",
   "execution_count": 29,
   "id": "f5eb1642",
   "metadata": {},
   "outputs": [],
   "source": [
    "DNN_keras = np.zeros((len(eta_vals), len(lmbd_vals)), dtype=object)\n",
    "        \n",
    "for i, eta in enumerate(eta_vals):\n",
    "    for j, lmbd in enumerate(lmbd_vals):\n",
    "        DNN = create_neural_network_keras(n_neurons_layer1, n_neurons_layer2, n_categories,\n",
    "                                         eta=eta, lmbd=lmbd)\n",
    "        DNN.fit(X_train, Y_train, epochs=epochs, batch_size=batch_size, verbose=0)\n",
    "        scores = DNN.evaluate(X_test, Y_test)\n",
    "        \n",
    "        DNN_keras[i][j] = DNN\n",
    "        \n",
    "        print(\"Learning rate = \", eta)\n",
    "        print(\"Lambda = \", lmbd)\n",
    "        print(\"Test accuracy: %.3f\" % scores[1])\n",
    "        print()"
   ]
  },
  {
   "cell_type": "code",
   "execution_count": 30,
   "id": "e627fefa",
   "metadata": {},
   "outputs": [],
   "source": [
    "# optional\n",
    "# visual representation of grid search\n",
    "# uses seaborn heatmap, could probably do this in matplotlib\n",
    "import seaborn as sns\n",
    "\n",
    "sns.set()\n",
    "\n",
    "train_accuracy = np.zeros((len(eta_vals), len(lmbd_vals)))\n",
    "test_accuracy = np.zeros((len(eta_vals), len(lmbd_vals)))\n",
    "\n",
    "for i in range(len(eta_vals)):\n",
    "    for j in range(len(lmbd_vals)):\n",
    "        DNN = DNN_keras[i][j]\n",
    "\n",
    "        train_accuracy[i][j] = DNN.evaluate(X_train, Y_train)[1]\n",
    "        test_accuracy[i][j] = DNN.evaluate(X_test, Y_test)[1]\n",
    "\n",
    "        \n",
    "fig, ax = plt.subplots(figsize = (10, 10))\n",
    "sns.heatmap(train_accuracy, annot=True, ax=ax, cmap=\"viridis\")\n",
    "ax.set_title(\"Training Accuracy\")\n",
    "ax.set_ylabel(\"$\\eta$\")\n",
    "ax.set_xlabel(\"$\\lambda$\")\n",
    "plt.show()\n",
    "\n",
    "fig, ax = plt.subplots(figsize = (10, 10))\n",
    "sns.heatmap(test_accuracy, annot=True, ax=ax, cmap=\"viridis\")\n",
    "ax.set_title(\"Test Accuracy\")\n",
    "ax.set_ylabel(\"$\\eta$\")\n",
    "ax.set_xlabel(\"$\\lambda$\")\n",
    "plt.show()"
   ]
  },
  {
   "cell_type": "markdown",
   "id": "c380c6cf",
   "metadata": {},
   "source": [
    "## And using PyTorch (more discussions to follow)"
   ]
  },
  {
   "cell_type": "code",
   "execution_count": 31,
   "id": "3975ddc3",
   "metadata": {},
   "outputs": [],
   "source": [
    "# Simple neural-network (NN) code using pytorch\n",
    "import numpy as np\n",
    "import torch\n",
    "import torch.nn as nn\n",
    "import torch.optim as optim\n",
    " \n",
    "# load the dataset, split into input (X) and output (y) variables\n",
    "dataset = np.loadtxt('yourdata.csv', delimiter=',')\n",
    "X = dataset[:,0:8]\n",
    "y = dataset[:,8]\n",
    " \n",
    "X = torch.tensor(X, dtype=torch.float32)\n",
    "y = torch.tensor(y, dtype=torch.float32).reshape(-1, 1)\n",
    "\n",
    "# define the model\n",
    "class NNClassifier(nn.Module):\n",
    "    def __init__(self):\n",
    "        super().__init__()\n",
    "        self.hidden1 = nn.Linear(8, 12)\n",
    "        self.act1 = nn.ReLU()\n",
    "        self.hidden2 = nn.Linear(12, 8)\n",
    "        self.act2 = nn.ReLU()\n",
    "        self.output = nn.Linear(8, 1)\n",
    "        self.act_output = nn.Sigmoid()\n",
    " \n",
    "    def forward(self, x):\n",
    "        x = self.act1(self.hidden1(x))\n",
    "        x = self.act2(self.hidden2(x))\n",
    "        x = self.act_output(self.output(x))\n",
    "        return x\n",
    " \n",
    "model = NNClassifier()\n",
    "print(model)\n",
    " \n",
    "# train the model\n",
    "loss_fn   = nn.BCELoss()  # binary cross entropy\n",
    "optimizer = optim.Adam(model.parameters(), lr=0.001)\n",
    "n_epochs = 100\n",
    "batch_size = 10\n",
    " \n",
    "for epoch in range(n_epochs):\n",
    "    for i in range(0, len(X), batch_size):\n",
    "        Xbatch = X[i:i+batch_size]\n",
    "        y_pred = model(Xbatch)\n",
    "        ybatch = y[i:i+batch_size]\n",
    "        loss = loss_fn(y_pred, ybatch)\n",
    "        optimizer.zero_grad()\n",
    "        loss.backward()\n",
    "        optimizer.step()\n",
    " \n",
    "# compute accuracy\n",
    "y_pred = model(X)\n",
    "accuracy = (y_pred.round() == y).float().mean()\n",
    "print(f\"Accuracy {accuracy}\")\n",
    "\n",
    "# make class predictions with the model\n",
    "predictions = (model(X) > 0.5).int()\n",
    "for i in range(5):\n",
    "    print('%s => %d (expected %d)' % (X[i].tolist(), predictions[i], y[i]))"
   ]
  },
  {
   "cell_type": "markdown",
   "id": "71e349e1",
   "metadata": {},
   "source": [
    "## Convolutional Neural Networks (recognizing images)\n",
    "\n",
    "Convolutional neural networks (CNNs) were developed during the last\n",
    "decade of the previous century, with a focus on character recognition\n",
    "tasks. Nowadays, CNNs are a central element in the spectacular success\n",
    "of deep learning methods. The success in for example image\n",
    "classifications have made them a central tool for most machine\n",
    "learning practitioners."
   ]
  },
  {
   "cell_type": "markdown",
   "id": "d53e6586",
   "metadata": {},
   "source": [
    "## Similar to NNs\n",
    "CNNs are very similar to ordinary Neural Networks.\n",
    "They are made up of neurons that have learnable weights and\n",
    "biases. Each neuron receives some inputs, performs a dot product and\n",
    "optionally follows it with a non-linearity. The whole network still\n",
    "expresses a single differentiable score function: from the raw image\n",
    "pixels on one end to class scores at the other. And they still have a\n",
    "loss function (for example Softmax) on the last (fully-connected) layer\n",
    "and all the tips/tricks we developed for learning regular Neural\n",
    "Networks still apply (back propagation, gradient descent etc etc)."
   ]
  },
  {
   "cell_type": "markdown",
   "id": "b875b7ef",
   "metadata": {},
   "source": [
    "## What is the Difference\n",
    "\n",
    "**CNN architectures make the explicit assumption that\n",
    "the inputs are images, which allows us to encode certain properties\n",
    "into the architecture. These then make the forward function more\n",
    "efficient to implement and vastly reduce the amount of parameters in\n",
    "the network.**\n",
    "\n",
    "A good read is the article here <https://arxiv.org/pdf/1603.07285.pdf>."
   ]
  },
  {
   "cell_type": "markdown",
   "id": "a75431c1",
   "metadata": {},
   "source": [
    "## Neural Networks vs CNNs\n",
    "\n",
    "Neural networks are defined as **affine transformations**, that is \n",
    "a vector is received as input and is multiplied with a matrix of so-called weights (our unknown paramters) to produce an\n",
    "output (to which a bias vector is usually added before passing the result\n",
    "through a nonlinear activation function). This is applicable to any type of input, be it an\n",
    "image, a sound clip or an unordered collection of features: whatever their\n",
    "dimensionality, their representation can always be flattened into a vector\n",
    "before the transformation."
   ]
  },
  {
   "cell_type": "markdown",
   "id": "eb036ab2",
   "metadata": {},
   "source": [
    "## Why CNNS for images, sound files, medical images from CT scans etc?\n",
    "\n",
    "However, when we consider images, sound clips and many other similar kinds of data, these data  have an intrinsic\n",
    "structure. More formally, they share these important properties:\n",
    "* They are stored as multi-dimensional arrays (think of the pixels of a figure) .\n",
    "\n",
    "* They feature one or more axes for which ordering matters (e.g., width and height axes for an image, time axis for a sound clip).\n",
    "\n",
    "* One axis, called the channel axis, is used to access different views of the data (e.g., the red, green and blue channels of a color image, or the left and right channels of a stereo audio track)."
   ]
  },
  {
   "cell_type": "markdown",
   "id": "9d018893",
   "metadata": {},
   "source": [
    "## Not affine necessarily transformations\n",
    "These properties are not exploited when an affine transformation is applied; in\n",
    "fact, all the axes are treated in the same way and the topological information\n",
    "is not taken into account. Still, taking advantage of the implicit structure of\n",
    "the data may prove very handy in solving some tasks, like computer vision and\n",
    "speech recognition, and in these cases it would be best to preserve it. This is\n",
    "where discrete convolutions come into play.\n",
    "\n",
    "A discrete convolution is a linear transformation that preserves this notion of\n",
    "ordering. It is sparse (only a few input units contribute to a given output\n",
    "unit) and reuses parameters (the same weights are applied to multiple locations\n",
    "in the input)."
   ]
  },
  {
   "cell_type": "markdown",
   "id": "7abef610",
   "metadata": {},
   "source": [
    "## Regular NNs don’t scale well to full images\n",
    "\n",
    "As an example, consider\n",
    "an image of size $32\\times 32\\times 3$ (32 wide, 32 high, 3 color channels), so a\n",
    "single fully-connected neuron in a first hidden layer of a regular\n",
    "Neural Network would have $32\\times 32\\times 3 = 3072$ weights. This amount still\n",
    "seems manageable, but clearly this fully-connected structure does not\n",
    "scale to larger images. For example, an image of more respectable\n",
    "size, say $200\\times 200\\times 3$, would lead to neurons that have \n",
    "$200\\times 200\\times 3 = 120,000$ weights."
   ]
  },
  {
   "cell_type": "markdown",
   "id": "711da094",
   "metadata": {},
   "source": [
    "## Several neurons\n",
    "\n",
    "We could have\n",
    "several such neurons, and the parameters would add up quickly! Clearly,\n",
    "this full connectivity is wasteful and the huge number of parameters\n",
    "would quickly lead to possible overfitting.\n",
    "\n",
    "<!-- dom:FIGURE: [figslides/nn.jpeg, width=500 frac=0.6]  A regular 3-layer Neural Network. -->\n",
    "<!-- begin figure -->\n",
    "\n",
    "<img src=\"figslides/nn.jpeg\" width=\"500\"><p style=\"font-size: 0.9em\"><i>Figure 1: A regular 3-layer Neural Network.</i></p>\n",
    "<!-- end figure -->"
   ]
  },
  {
   "cell_type": "markdown",
   "id": "28b8a8b7",
   "metadata": {},
   "source": [
    "## 3D volumes of neurons\n",
    "\n",
    "Convolutional Neural Networks take advantage of the fact that the\n",
    "input consists of images and they constrain the architecture in a more\n",
    "sensible way. \n",
    "\n",
    "In particular, unlike a regular Neural Network, the\n",
    "layers of a CNN have neurons arranged in 3 dimensions: width,\n",
    "height, depth. (Note that the word depth here refers to the third\n",
    "dimension of an activation volume, not to the depth of a full Neural\n",
    "Network, which can refer to the total number of layers in a network.)\n",
    "\n",
    "To understand it better, the above example of an image \n",
    "with an input volume of\n",
    "activations has dimensions $32\\times 32\\times 3$ (width, height,\n",
    "depth respectively)."
   ]
  },
  {
   "cell_type": "markdown",
   "id": "2e1cf1b8",
   "metadata": {},
   "source": [
    "## Differences between CNNs and NNs\n",
    "The neurons in a layer will\n",
    "only be connected to a small region of the layer before it, instead of\n",
    "all of the neurons in a fully-connected manner. Moreover, the final\n",
    "output layer could  for this specific image have dimensions $1\\times 1 \\times 10$, \n",
    "because by the\n",
    "end of the CNN architecture we will reduce the full image into a\n",
    "single vector of class scores, arranged along the depth\n",
    "dimension. \n",
    "\n",
    "<!-- dom:FIGURE: [figslides/cnn.jpeg, width=500 frac=0.6]  A CNN arranges its neurons in three dimensions (width, height, depth), as visualized in one of the layers. Every layer of a CNN transforms the 3D input volume to a 3D output volume of neuron activations. In this example, the red input layer holds the image, so its width and height would be the dimensions of the image, and the depth would be 3 (Red, Green, Blue channels). -->\n",
    "<!-- begin figure -->\n",
    "\n",
    "<img src=\"figslides/cnn.jpeg\" width=\"500\"><p style=\"font-size: 0.9em\"><i>Figure 1: A CNN arranges its neurons in three dimensions (width, height, depth), as visualized in one of the layers. Every layer of a CNN transforms the 3D input volume to a 3D output volume of neuron activations. In this example, the red input layer holds the image, so its width and height would be the dimensions of the image, and the depth would be 3 (Red, Green, Blue channels).</i></p>\n",
    "<!-- end figure -->"
   ]
  },
  {
   "cell_type": "markdown",
   "id": "8619f22a",
   "metadata": {},
   "source": [
    "## Layers used to build CNNs\n",
    "\n",
    "A simple CNN is a sequence of layers, and every layer of a CNN\n",
    "transforms one volume of activations to another through a\n",
    "differentiable function. We use three main types of layers to build\n",
    "CNN architectures: Convolutional Layer, Pooling Layer, and\n",
    "Fully-Connected Layer (exactly as seen in regular Neural Networks). We\n",
    "will stack these layers to form a full CNN architecture."
   ]
  },
  {
   "cell_type": "markdown",
   "id": "9e29fc66",
   "metadata": {},
   "source": [
    "## Layout of CNNs\n",
    "A simple CNN for image classification could have the architecture:\n",
    "\n",
    "* **INPUT** ($32\\times 32 \\times 3$) will hold the raw pixel values of the image, in this case an image of width 32, height 32, and with three color channels R,G,B.\n",
    "\n",
    "* **CONV** (convolutional )layer will compute the output of neurons that are connected to local regions in the input, each computing a dot product between their weights and a small region they are connected to in the input volume. This may result in volume such as $[32\\times 32\\times 12]$ if we decided to use 12 filters.\n",
    "\n",
    "* **RELU** layer will apply an elementwise activation function, such as the $max(0,x)$ thresholding at zero. This leaves the size of the volume unchanged ($[32\\times 32\\times 12]$).\n",
    "\n",
    "* **POOL** (pooling) layer will perform a downsampling operation along the spatial dimensions (width, height), resulting in volume such as $[16\\times 16\\times 12]$.\n",
    "\n",
    "* **FC** (i.e. fully-connected) layer will compute the class scores, resulting in volume of size $[1\\times 1\\times 10]$, where each of the 10 numbers correspond to a class score, such as among the 10 categories of the MNIST images we considered above . As with ordinary Neural Networks and as the name implies, each neuron in this layer will be connected to all the numbers in the previous volume."
   ]
  },
  {
   "cell_type": "markdown",
   "id": "caeead44",
   "metadata": {},
   "source": [
    "## Transforming images\n",
    "\n",
    "CNNs transform the original image layer by layer from the original\n",
    "pixel values to the final class scores. \n",
    "\n",
    "Observe that some layers contain\n",
    "parameters and other don’t. In particular, the CNN layers perform\n",
    "transformations that are a function of not only the activations in the\n",
    "input volume, but also of the parameters (the weights and biases of\n",
    "the neurons). On the other hand, the RELU/POOL layers will implement a\n",
    "fixed function. The parameters in the CONV/FC layers will be trained\n",
    "with gradient descent so that the class scores that the CNN computes\n",
    "are consistent with the labels in the training set for each image."
   ]
  },
  {
   "cell_type": "markdown",
   "id": "b323436f",
   "metadata": {},
   "source": [
    "## CNNs in brief\n",
    "\n",
    "In summary:\n",
    "\n",
    "* A CNN architecture is in the simplest case a list of Layers that transform the image volume into an output volume (e.g. holding the class scores)\n",
    "\n",
    "* There are a few distinct types of Layers (e.g. CONV/FC/RELU/POOL are by far the most popular)\n",
    "\n",
    "* Each Layer accepts an input 3D volume and transforms it to an output 3D volume through a differentiable function\n",
    "\n",
    "* Each Layer may or may not have parameters (e.g. CONV/FC do, RELU/POOL don’t)\n",
    "\n",
    "* Each Layer may or may not have additional hyperparameters (e.g. CONV/FC/POOL do, RELU doesn’t)\n",
    "\n",
    "The textbook by Goodfellow et al, see chapter 9 contains an in depth discussion as well."
   ]
  },
  {
   "cell_type": "markdown",
   "id": "48ae45b0",
   "metadata": {},
   "source": [
    "## Key Idea\n",
    "\n",
    "A dense neural network is representd by an affine operation (like matrix-matrix multiplication) where all parameters are included.\n",
    "\n",
    "The key idea in CNNs for say imaging is that in images neighbor pixels tend to be related! So we connect\n",
    "only neighboring neurons in the input instead of connecting all with the first hidden layer.\n",
    "\n",
    "We say we perform a filtering (convolution is the mathematical operation)."
   ]
  },
  {
   "cell_type": "markdown",
   "id": "25e378a0",
   "metadata": {},
   "source": [
    "## Mathematics of CNNs\n",
    "\n",
    "The mathematics of CNNs is based on the mathematical operation of\n",
    "**convolution**.  In mathematics (in particular in functional analysis),\n",
    "convolution is represented by mathematical operation (integration,\n",
    "summation etc) on two function in order to produce a third function\n",
    "that expresses how the shape of one gets modified by the other.\n",
    "Convolution has a plethora of applications in a variety of disciplines, spanning from statistics to signal processing, computer vision, solutions of differential equations,linear algebra, engineering,  and yes, machine learning."
   ]
  },
  {
   "cell_type": "markdown",
   "id": "e543010c",
   "metadata": {},
   "source": [
    "## Convolution\n",
    "Mathematically, convolution is defined as follows (one-dimensional example):\n",
    "Let us define a continuous function $y(t)$ given by"
   ]
  },
  {
   "cell_type": "markdown",
   "id": "0cf3efd1",
   "metadata": {},
   "source": [
    "$$\n",
    "y(t) = \\int x(a) w(t-a) da,\n",
    "$$"
   ]
  },
  {
   "cell_type": "markdown",
   "id": "156f1948",
   "metadata": {},
   "source": [
    "where $x(a)$ represents a so-called input and $w(t-a)$ is normally called the weight function or kernel.\n",
    "\n",
    "The above integral is written in  a more compact form as"
   ]
  },
  {
   "cell_type": "markdown",
   "id": "ffd60128",
   "metadata": {},
   "source": [
    "$$\n",
    "y(t) = \\left(x * w\\right)(t).\n",
    "$$"
   ]
  },
  {
   "cell_type": "markdown",
   "id": "fb1aa3f5",
   "metadata": {},
   "source": [
    "The discretized version reads"
   ]
  },
  {
   "cell_type": "markdown",
   "id": "2d9d8954",
   "metadata": {},
   "source": [
    "$$\n",
    "y(t) = \\sum_{a=-\\infty}^{a=\\infty}x(a)w(t-a).\n",
    "$$"
   ]
  },
  {
   "cell_type": "markdown",
   "id": "dfcc1b5f",
   "metadata": {},
   "source": [
    "Computing the inverse of the above convolution operations is known as deconvolution.\n",
    "\n",
    "How can we use this? And what does it mean? Let us study some familiar examples first."
   ]
  },
  {
   "cell_type": "markdown",
   "id": "d4b0d3fa",
   "metadata": {},
   "source": [
    "## Convolution Examples: Polynomial multiplication\n",
    "\n",
    "We have already met such an example in project 1 when we tried to set\n",
    "up the design matrix for a two-dimensional function. This was an\n",
    "example of polynomial multiplication.  Let us recast such a problem in terms of the convolution operation.\n",
    "Let us look a the following polynomials to second and third order, respectively:"
   ]
  },
  {
   "cell_type": "markdown",
   "id": "b916a097",
   "metadata": {},
   "source": [
    "$$\n",
    "p(t) = \\alpha_0+\\alpha_1 t+\\alpha_2 t^2,\n",
    "$$"
   ]
  },
  {
   "cell_type": "markdown",
   "id": "76b44f25",
   "metadata": {},
   "source": [
    "and"
   ]
  },
  {
   "cell_type": "markdown",
   "id": "f0a1819e",
   "metadata": {},
   "source": [
    "$$\n",
    "s(t) = \\beta_0+\\beta_1 t+\\beta_2 t^2+\\beta_3 t^3.\n",
    "$$"
   ]
  },
  {
   "cell_type": "markdown",
   "id": "62b004ca",
   "metadata": {},
   "source": [
    "The polynomial multiplication gives us a new polynomial of degree $5$"
   ]
  },
  {
   "cell_type": "markdown",
   "id": "4bf38411",
   "metadata": {},
   "source": [
    "$$\n",
    "z(t) = \\delta_0+\\delta_1 t+\\delta_2 t^2+\\delta_3 t^3+\\delta_4 t^4+\\delta_5 t^5.\n",
    "$$"
   ]
  },
  {
   "cell_type": "markdown",
   "id": "5df0b8e3",
   "metadata": {},
   "source": [
    "## Efficient Polynomial Multiplication\n",
    "\n",
    "Computing polynomial products can be implemented efficiently if we rewrite the more brute force multiplications using convolution.\n",
    "We note first that the new coefficients are given as"
   ]
  },
  {
   "cell_type": "markdown",
   "id": "09fef4cf",
   "metadata": {},
   "source": [
    "<!-- Equation labels as ordinary links -->\n",
    "<div id=\"_auto4\"></div>\n",
    "\n",
    "$$\n",
    "\\begin{equation}\n",
    "\\delta_0=\\alpha_0\\beta_0\n",
    "\\label{_auto4} \\tag{4}\n",
    "\\end{equation}\n",
    "$$"
   ]
  },
  {
   "cell_type": "markdown",
   "id": "bb3644ae",
   "metadata": {},
   "source": [
    "<!-- Equation labels as ordinary links -->\n",
    "<div id=\"_auto5\"></div>\n",
    "\n",
    "$$\n",
    "\\begin{equation} \n",
    "\\delta_1=\\alpha_1\\beta_0+\\alpha_1\\beta_0\n",
    "\\label{_auto5} \\tag{5}\n",
    "\\end{equation}\n",
    "$$"
   ]
  },
  {
   "cell_type": "markdown",
   "id": "946baabf",
   "metadata": {},
   "source": [
    "<!-- Equation labels as ordinary links -->\n",
    "<div id=\"_auto6\"></div>\n",
    "\n",
    "$$\n",
    "\\begin{equation} \n",
    "\\delta_2=\\alpha_0\\beta_2+\\alpha_1\\beta_1+\\alpha_2\\beta_0\n",
    "\\label{_auto6} \\tag{6}\n",
    "\\end{equation}\n",
    "$$"
   ]
  },
  {
   "cell_type": "markdown",
   "id": "5a363e7d",
   "metadata": {},
   "source": [
    "<!-- Equation labels as ordinary links -->\n",
    "<div id=\"_auto7\"></div>\n",
    "\n",
    "$$\n",
    "\\begin{equation} \n",
    "\\delta_3=\\alpha_1\\beta_2+\\alpha_2\\beta_1+\\alpha_0\\beta_3\n",
    "\\label{_auto7} \\tag{7}\n",
    "\\end{equation}\n",
    "$$"
   ]
  },
  {
   "cell_type": "markdown",
   "id": "81fd5c22",
   "metadata": {},
   "source": [
    "<!-- Equation labels as ordinary links -->\n",
    "<div id=\"_auto8\"></div>\n",
    "\n",
    "$$\n",
    "\\begin{equation} \n",
    "\\delta_4=\\alpha_2\\beta_2+\\alpha_1\\beta_3\n",
    "\\label{_auto8} \\tag{8}\n",
    "\\end{equation}\n",
    "$$"
   ]
  },
  {
   "cell_type": "markdown",
   "id": "60dd458f",
   "metadata": {},
   "source": [
    "<!-- Equation labels as ordinary links -->\n",
    "<div id=\"_auto9\"></div>\n",
    "\n",
    "$$\n",
    "\\begin{equation} \n",
    "\\delta_5=\\alpha_2\\beta_3.\n",
    "\\label{_auto9} \\tag{9}\n",
    "\\end{equation}\n",
    "$$"
   ]
  },
  {
   "cell_type": "markdown",
   "id": "c14d48d5",
   "metadata": {},
   "source": [
    "<!-- Equation labels as ordinary links -->\n",
    "<div id=\"_auto10\"></div>\n",
    "\n",
    "$$\n",
    "\\begin{equation} \n",
    "\\label{_auto10} \\tag{10}\n",
    "\\end{equation}\n",
    "$$"
   ]
  },
  {
   "cell_type": "markdown",
   "id": "ce3b32e9",
   "metadata": {},
   "source": [
    "## To be noted\n",
    "We note that $\\alpha_i=0$ except for $i\\in \\left\\{0,1,2\\right\\}$ and $\\beta_i=0$ except for $i\\in\\left\\{0,1,2,3\\right\\}$.\n",
    "\n",
    "We can then rewrite the coefficients $\\delta_j$ using a discrete convolution as"
   ]
  },
  {
   "cell_type": "markdown",
   "id": "0d82d142",
   "metadata": {},
   "source": [
    "$$\n",
    "\\delta_j = \\sum_{i=-\\infty}^{i=\\infty}\\alpha_i\\beta_{j-i}=(\\alpha * \\beta)_j,\n",
    "$$"
   ]
  },
  {
   "cell_type": "markdown",
   "id": "40645359",
   "metadata": {},
   "source": [
    "or as a double sum with restriction $l=i+j$"
   ]
  },
  {
   "cell_type": "markdown",
   "id": "459653a0",
   "metadata": {},
   "source": [
    "$$\n",
    "\\delta_l = \\sum_{ij}\\alpha_i\\beta_{j}.\n",
    "$$"
   ]
  },
  {
   "cell_type": "markdown",
   "id": "6448eb4c",
   "metadata": {},
   "source": [
    "Do you see a potential drawback with these equations?"
   ]
  },
  {
   "cell_type": "markdown",
   "id": "c243c12e",
   "metadata": {},
   "source": [
    "## A more efficient way of coding the above Convolution\n",
    "\n",
    "Since we only have a finite number of $\\alpha$ and $\\beta$ values\n",
    "which are non-zero, we can rewrite the above convolution expressions\n",
    "as a matrix-vector multiplication"
   ]
  },
  {
   "cell_type": "markdown",
   "id": "a566383e",
   "metadata": {},
   "source": [
    "$$\n",
    "\\boldsymbol{\\delta}=\\begin{bmatrix}\\alpha_0 & 0 & 0 & 0 \\\\\n",
    "                            \\alpha_1 & \\alpha_0 & 0 & 0 \\\\\n",
    "\t\t\t    \\alpha_2 & \\alpha_1 & \\alpha_0 & 0 \\\\\n",
    "\t\t\t    0 & \\alpha_2 & \\alpha_1 & \\alpha_0 \\\\\n",
    "\t\t\t    0 & 0 & \\alpha_2 & \\alpha_1 \\\\\n",
    "\t\t\t    0 & 0 & 0 & \\alpha_2\n",
    "\t\t\t    \\end{bmatrix}\\begin{bmatrix} \\beta_0 \\\\ \\beta_1 \\\\ \\beta_2 \\\\ \\beta_3\\end{bmatrix}.\n",
    "$$"
   ]
  },
  {
   "cell_type": "markdown",
   "id": "e950894c",
   "metadata": {},
   "source": [
    "## Rewriting\n",
    "The process is commutative and we can easily see that we can rewrite the multiplication in terms of  a matrix holding $\\beta$ and a vector holding $\\alpha$.\n",
    "In this case we have"
   ]
  },
  {
   "cell_type": "markdown",
   "id": "0d142ada",
   "metadata": {},
   "source": [
    "$$\n",
    "\\boldsymbol{\\delta}=\\begin{bmatrix}\\beta_0 & 0 & 0  \\\\\n",
    "                            \\beta_1 & \\beta_0 & 0  \\\\\n",
    "\t\t\t    \\beta_2 & \\beta_1 & \\beta_0  \\\\\n",
    "\t\t\t    \\beta_3 & \\beta_2 & \\beta_1 \\\\\n",
    "\t\t\t    0 & \\beta_3 & \\beta_2 \\\\\n",
    "\t\t\t    0 & 0 & \\beta_3\n",
    "\t\t\t    \\end{bmatrix}\\begin{bmatrix} \\alpha_0 \\\\ \\alpha_1 \\\\ \\alpha_2\\end{bmatrix}.\n",
    "$$"
   ]
  },
  {
   "cell_type": "markdown",
   "id": "fbeb06b7",
   "metadata": {},
   "source": [
    "Note that the use of these  matrices is for mathematical purposes only  and not implementation purposes.\n",
    "When implementing the above equation we do not encode (and allocate memory) the matrices explicitely.\n",
    "We rather code the convolutions in the minimal memory footprint that they require.\n",
    "\n",
    "Does the number of floating point operations change here when we use the commutative property?"
   ]
  },
  {
   "cell_type": "markdown",
   "id": "9a2d1bce",
   "metadata": {},
   "source": [
    "## Two-dimensional Objects\n",
    "\n",
    "We often use convolutions over more than one dimension at a time. If\n",
    "we have a two-dimensional image $I$ as input, we can have a **filter**\n",
    "defined by a two-dimensional **kernel** $K$. This leads to an output $S$"
   ]
  },
  {
   "cell_type": "markdown",
   "id": "c2f8f4a1",
   "metadata": {},
   "source": [
    "$$\n",
    "S_(i,j)=(I * K)(i,j) = \\sum_m\\sum_n I(m,n)K(i-m,j-n).\n",
    "$$"
   ]
  },
  {
   "cell_type": "markdown",
   "id": "7fcc2162",
   "metadata": {},
   "source": [
    "Convolution is a commutatitave process, which means we can rewrite this equation as"
   ]
  },
  {
   "cell_type": "markdown",
   "id": "cbc0bad3",
   "metadata": {},
   "source": [
    "$$\n",
    "S_(i,j)=(I * K)(i,j) = \\sum_m\\sum_n I(i-m,j-n)K(m,n).\n",
    "$$"
   ]
  },
  {
   "cell_type": "markdown",
   "id": "83cf4472",
   "metadata": {},
   "source": [
    "Normally the latter is more straightforward to implement in  a machine elarning library since there is less variation in the range of values of $m$ and $n$."
   ]
  },
  {
   "cell_type": "markdown",
   "id": "ac2e5a80",
   "metadata": {},
   "source": [
    "## Cross-Correlation\n",
    "\n",
    "Many deep learning libraries implement cross-correlation instead of convolution"
   ]
  },
  {
   "cell_type": "markdown",
   "id": "6c8eb3ec",
   "metadata": {},
   "source": [
    "$$\n",
    "S_(i,j)=(I * K)(i,j) = \\sum_m\\sum_n I(i+m,j-+)K(m,n).\n",
    "$$"
   ]
  },
  {
   "cell_type": "markdown",
   "id": "250474ce",
   "metadata": {},
   "source": [
    "## More on Dimensionalities\n",
    "\n",
    "In feilds like signal processing (and imaging as well), one designs\n",
    "so-called filters. These filters are defined by the convolutions and\n",
    "are often hand-crafted. One may specify filters for smoothing, edge\n",
    "detection, frequency reshaping, and similar operations. However with\n",
    "neural networks the idea is to automatically learn the filters and use\n",
    "many of them in conjunction with non-linear operations (activation\n",
    "functions)."
   ]
  },
  {
   "cell_type": "markdown",
   "id": "f8a22ce3",
   "metadata": {},
   "source": [
    "## Sound sequence data\n",
    "As an example consider a neural network operating on sound sequence\n",
    "data.  Assume that we an input vector $\\boldsymbol{x}$ of length $d=10^6$.  We\n",
    "construct then a neural network with onle hidden layer only with\n",
    "$10^4$ nodes. This means that we will have a weight matrix with\n",
    "$10^4\\times 10^6=10^{10}$ weights to be determined, together with $10^4$ biases.\n",
    "\n",
    "Assume furthermore that we have an output layer which is meant to train whether the sound sequence represents a human voice (true) or something else (false).\n",
    "It means that we have only one output node. But since this output node connects to $10^4$ nodes in the hidden layer, there are in total $10^4$ weights to be determined for the output layer, plus one bias. In total we have"
   ]
  },
  {
   "cell_type": "markdown",
   "id": "584635b4",
   "metadata": {},
   "source": [
    "$$\n",
    "\\mathrm{NumberParameters}=10^{10}+10^4+10^4+1 \\approx 10^{10},\n",
    "$$"
   ]
  },
  {
   "cell_type": "markdown",
   "id": "4f3eea32",
   "metadata": {},
   "source": [
    "that is ten billion parameters to determine."
   ]
  },
  {
   "cell_type": "markdown",
   "id": "451ab127",
   "metadata": {},
   "source": [
    "## Further Dimensionality Remarks\n",
    "\n",
    "In today’s architecture one can train such neural networks, however\n",
    "this is a huge number of parameters for the task at hand. In general,\n",
    "it is a very wasteful and inefficient use of dense matrices as\n",
    "parameters. Just as importantly, such trained network parameters are\n",
    "very specific for the type of input data on which they were trained\n",
    "and the network is not likely to generalize easily to variations in\n",
    "the input.\n",
    "\n",
    "The main principles that justify convolutions is locality of\n",
    "information and repetion of patterns within the signal. Sound samples\n",
    "of the input in adjacent spots are much more likely to affect each\n",
    "other than those that are very far away. Similarly, sounds are\n",
    "repeated in multiple times in the signal. While slightly simplistic,\n",
    "reasoning about such a sound example demonstrates this. The same\n",
    "principles then apply to images and other similar data."
   ]
  }
 ],
 "metadata": {
  "kernelspec": {
   "display_name": "Python 3 (ipykernel)",
   "language": "python",
   "name": "python3"
  },
  "language_info": {
   "codemirror_mode": {
    "name": "ipython",
    "version": 3
   },
   "file_extension": ".py",
   "mimetype": "text/x-python",
   "name": "python",
   "nbconvert_exporter": "python",
   "pygments_lexer": "ipython3",
   "version": "3.9.10"
  }
 },
 "nbformat": 4,
 "nbformat_minor": 5
}
