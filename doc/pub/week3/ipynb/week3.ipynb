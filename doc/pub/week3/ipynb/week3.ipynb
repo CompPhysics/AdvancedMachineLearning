{
 "cells": [
  {
   "cell_type": "markdown",
   "id": "efeb5244",
   "metadata": {
    "editable": true
   },
   "source": [
    "<!-- HTML file automatically generated from DocOnce source (https://github.com/doconce/doconce/)\n",
    "doconce format html week3.do.txt --no_mako -->\n",
    "<!-- dom:TITLE: January 29-February 2 : Advanced machine learning and data analysis for the physical sciences -->"
   ]
  },
  {
   "cell_type": "markdown",
   "id": "683be1b2",
   "metadata": {
    "editable": true
   },
   "source": [
    "# January 29-February 2 : Advanced machine learning and data analysis for the physical sciences\n",
    "**Morten Hjorth-Jensen**, Department of Physics and Center for Computing in Science Education, University of Oslo, Norway and Department of Physics and Astronomy and Facility for Rare Isotope Beams, Michigan State University, East Lansing, Michigan, USA\n",
    "\n",
    "Date: **January 30**"
   ]
  },
  {
   "cell_type": "markdown",
   "id": "c1bbbd1a",
   "metadata": {
    "editable": true
   },
   "source": [
    "## Overview of third  week\n",
    "\n",
    "1. Discussion of possible projects\n",
    "\n",
    "2. Review of neural networks and automatic differentiation\n",
    "\n",
    "3. Discussion of codes\n",
    "\n",
    "4. [Video of lecture](https://youtu.be/OUTFo0oJadU)\n",
    "\n",
    "5. [Link to material for project suggestions](https://github.com/CompPhysics/AdvancedMachineLearning/tree/main/doc/Projects/2024/ProjectProposals)"
   ]
  },
  {
   "cell_type": "markdown",
   "id": "ba9cf823",
   "metadata": {
    "editable": true
   },
   "source": [
    "## Mathematics of deep learning\n",
    "\n",
    "**Two recent books online.**\n",
    "\n",
    "1. [The Modern Mathematics of Deep Learning, by Julius Berner, Philipp Grohs, Gitta Kutyniok, Philipp Petersen](https://arxiv.org/abs/2105.04026), published as [Mathematical Aspects of Deep Learning, pp. 1-111. Cambridge University Press, 2022](https://doi.org/10.1017/9781009025096.002)\n",
    "\n",
    "2. [Mathematical Introduction to Deep Learning: Methods, Implementations, and Theory, Arnulf Jentzen, Benno Kuckuck, Philippe von Wurstemberger](https://doi.org/10.48550/arXiv.2310.20360)"
   ]
  },
  {
   "cell_type": "markdown",
   "id": "6e4778d0",
   "metadata": {
    "editable": true
   },
   "source": [
    "## Reminder on books with hands-on material and codes\n",
    "* [Sebastian Rashcka et al, Machine learning with Sickit-Learn and PyTorch](https://sebastianraschka.com/blog/2022/ml-pytorch-book.html)\n",
    "\n",
    "* [David Foster, Generative Deep Learning with TensorFlow](https://www.oreilly.com/library/view/generative-deep-learning/9781098134174/ch01.html)\n",
    "\n",
    "* [Bali and Gavras, Generative AI with Python and TensorFlow 2](https://github.com/PacktPublishing/Hands-On-Generative-AI-with-Python-and-TensorFlow-2)\n",
    "\n",
    "All three books have GitHub addresses from where  one can download all codes. We will borrow most of the material from these three texts as well as \n",
    "from Goodfellow, Bengio and Courville's text [Deep Learning](https://www.deeplearningbook.org/)"
   ]
  },
  {
   "cell_type": "markdown",
   "id": "81cfe24f",
   "metadata": {
    "editable": true
   },
   "source": [
    "## Reading recommendations\n",
    "\n",
    "1. Rashkca et al., chapter 11, jupyter-notebook sent separately, from [GitHub](https://github.com/rasbt/machine-learning-book)\n",
    "\n",
    "2. Goodfellow et al, chapter 6 and 7 contain most of the neural network background."
   ]
  },
  {
   "cell_type": "markdown",
   "id": "cb0a0fde",
   "metadata": {
    "editable": true
   },
   "source": [
    "## Mathematics of deep learning and neural networks\n",
    "\n",
    "Neural networks, in its so-called feed-forward form, where each\n",
    "iterations contains a feed-forward stage and a back-propgagation\n",
    "stage, consist of series of affine matrix-matrix and matrix-vector\n",
    "multiplications. The unknown parameters (the so-called biases and\n",
    "weights which deternine the architecture of a neural network), are\n",
    "uptaded iteratively using the so-called back-propagation algorithm.\n",
    "This algorithm corresponds to the so-called reverse mode of \n",
    "automatic differentation."
   ]
  },
  {
   "cell_type": "markdown",
   "id": "8fac854a",
   "metadata": {
    "editable": true
   },
   "source": [
    "## Basics of an NN\n",
    "\n",
    "A neural network consists of a series of hidden layers, in addition to\n",
    "the input and output layers.  Each layer $l$ has a set of parameters\n",
    "$\\boldsymbol{\\Theta}^{(l)}=(\\boldsymbol{W}^{(l)},\\boldsymbol{b}^{(l)})$ which are related to the\n",
    "parameters in other layers through a series of affine transformations,\n",
    "for a standard NN these are matrix-matrix and matrix-vector\n",
    "multiplications.  For all layers we will simply use a collective variable $\\boldsymbol{\\Theta}$.\n",
    "\n",
    "It consist of two basic steps:\n",
    "1. a feed forward stage which takes a given input and produces a final output which is compared with the target values through our cost/loss function.\n",
    "\n",
    "2. a back-propagation state where the unknown parameters $\\boldsymbol{\\Theta}$ are updated through the optimization of the their gradients. The expressions for the gradients are obtained via the chain rule, starting from the derivative of the cost/function.\n",
    "\n",
    "These two steps make up one iteration. This iterative process is continued till we reach an eventual stopping criterion."
   ]
  },
  {
   "cell_type": "markdown",
   "id": "f91f2344",
   "metadata": {
    "editable": true
   },
   "source": [
    "## Overarching view of a neural network\n",
    "\n",
    "The architecture of a neural network defines our model. This model\n",
    "aims at describing some function $f(\\boldsymbol{x}$ which represents\n",
    "some final result (outputs or tagrget values) given a specific inpput\n",
    "$\\boldsymbol{x}$. Note that here $\\boldsymbol{y}$ and $\\boldsymbol{x}$ are not limited to be\n",
    "vectors.\n",
    "\n",
    "The architecture consists of\n",
    "1. An input and an output layer where the input layer is defined by the inputs $\\boldsymbol{x}$. The output layer produces the model ouput $\\boldsymbol{\\tilde{y}}$ which is compared with the target value $\\boldsymbol{y}$\n",
    "\n",
    "2. A given number of hidden layers and neurons/nodes/units for each layer (this may vary)\n",
    "\n",
    "3. A given activation function $\\sigma(\\boldsymbol{z})$ with arguments $\\boldsymbol{z}$ to be defined below. The activation functions may differ from layer to layer.\n",
    "\n",
    "4. The last layer, normally called **output** layer has normally an activation function tailored to the specific problem\n",
    "\n",
    "5. Finally we define a so-called cost or loss function which is used to gauge the quality of our model."
   ]
  },
  {
   "cell_type": "markdown",
   "id": "b68a751f",
   "metadata": {
    "editable": true
   },
   "source": [
    "## The optimization problem\n",
    "\n",
    "The cost function is a function of the unknown parameters\n",
    "$\\boldsymbol{\\Theta}$ where the latter is a container for all possible\n",
    "parameters needed to define a neural network\n",
    "\n",
    "If we are dealing with a regression task a typical cost/loss function\n",
    "is the mean squared error"
   ]
  },
  {
   "cell_type": "markdown",
   "id": "102622fb",
   "metadata": {
    "editable": true
   },
   "source": [
    "$$\n",
    "C(\\boldsymbol{\\Theta})=\\frac{1}{n}\\left\\{\\left(\\boldsymbol{y}-\\boldsymbol{X}\\boldsymbol{\\theta}\\right)^T\\left(\\boldsymbol{y}-\\boldsymbol{X}\\boldsymbol{\\theta}\\right)\\right\\}.\n",
    "$$"
   ]
  },
  {
   "cell_type": "markdown",
   "id": "68eeb978",
   "metadata": {
    "editable": true
   },
   "source": [
    "This function represents one of many possible ways to define\n",
    "the so-called cost function. Note that here we have assumed a linear dependence in terms of the paramters $\\boldsymbol{\\Theta}$. This is in general not the case."
   ]
  },
  {
   "cell_type": "markdown",
   "id": "738d7677",
   "metadata": {
    "editable": true
   },
   "source": [
    "## Parameters of neural networks\n",
    "For neural networks the parameters\n",
    "$\\boldsymbol{\\Theta}$ are given by the so-called weights and biases (to be\n",
    "defined below).\n",
    "\n",
    "The weights are given by matrix elements $w_{ij}^{(l)}$ where the\n",
    "superscript indicates the layer number. The biases are typically given\n",
    "by vector elements representing each single node of a given layer,\n",
    "that is $b_j^{(l)}$."
   ]
  },
  {
   "cell_type": "markdown",
   "id": "c6c18708",
   "metadata": {
    "editable": true
   },
   "source": [
    "## Other ingredients of a neural network\n",
    "\n",
    "Having defined the architecture of a neural network, the optimization\n",
    "of the cost function with respect to the parameters $\\boldsymbol{\\Theta}$,\n",
    "involves the calculations of gradients and their optimization. The\n",
    "gradients represent the derivatives of a multidimensional object and\n",
    "are often approximated by various gradient methods, including\n",
    "1. various quasi-Newton methods,\n",
    "\n",
    "2. plain gradient descent (GD) with a constant learning rate $\\eta$,\n",
    "\n",
    "3. GD with momentum and other approximations to the learning rates such as\n",
    "\n",
    "  * Adapative gradient (ADAgrad)\n",
    "\n",
    "  * Root mean-square propagation (RMSprop)\n",
    "\n",
    "  * Adaptive gradient with momentum (ADAM) and many other\n",
    "\n",
    "4. Stochastic gradient descent and various families of learning rate approximations"
   ]
  },
  {
   "cell_type": "markdown",
   "id": "38a0e84b",
   "metadata": {
    "editable": true
   },
   "source": [
    "## Other parameters\n",
    "\n",
    "In addition to the above, there are often additional hyperparamaters\n",
    "which are included in the setup of a neural network. These will be\n",
    "discussed below."
   ]
  },
  {
   "cell_type": "markdown",
   "id": "ef22b7ce",
   "metadata": {
    "editable": true
   },
   "source": [
    "## Universal approximation theorem\n",
    "\n",
    "The universal approximation theorem plays a central role in deep\n",
    "learning.  [Cybenko (1989)](https://link.springer.com/article/10.1007/BF02551274) showed\n",
    "the following:\n",
    "\n",
    "Let $\\sigma$ be any continuous sigmoidal function such that"
   ]
  },
  {
   "cell_type": "markdown",
   "id": "0537c6b4",
   "metadata": {
    "editable": true
   },
   "source": [
    "$$\n",
    "\\sigma(z) = \\left\\{\\begin{array}{cc} 1 & z\\rightarrow \\infty\\\\ 0 & z \\rightarrow -\\infty \\end{array}\\right.\n",
    "$$"
   ]
  },
  {
   "cell_type": "markdown",
   "id": "1aabfc0d",
   "metadata": {
    "editable": true
   },
   "source": [
    "Given a continuous and deterministic function $F(\\boldsymbol{x})$ on the unit\n",
    "cube in $d$-dimensions $F\\in [0,1]^d$, $x\\in [0,1]^d$ and a parameter\n",
    "$\\epsilon >0$, there is a one-layer (hidden) neural network\n",
    "$f(\\boldsymbol{x};\\boldsymbol{\\Theta})$ with $\\boldsymbol{\\Theta}=(\\boldsymbol{W},\\boldsymbol{b})$ and $\\boldsymbol{W}\\in\n",
    "\\mathbb{R}^{m\\times n}$ and $\\boldsymbol{b}\\in \\mathbb{R}^{n}$, for which"
   ]
  },
  {
   "cell_type": "markdown",
   "id": "0049912b",
   "metadata": {
    "editable": true
   },
   "source": [
    "$$\n",
    "\\vert F(\\boldsymbol{x})-f(\\boldsymbol{x};\\boldsymbol{\\Theta})\\vert < \\epsilon \\hspace{0.1cm} \\forall \\boldsymbol{x}\\in[0,1]^d.\n",
    "$$"
   ]
  },
  {
   "cell_type": "markdown",
   "id": "9458c7e9",
   "metadata": {
    "editable": true
   },
   "source": [
    "## Some parallels from real analysis\n",
    "\n",
    "For those of you familiar with for example the [Stone-Weierstrass\n",
    "theorem](https://en.wikipedia.org/wiki/Stone%E2%80%93Weierstrass_theorem)\n",
    "for polynomial approximations or the convergence criterion for Fourier\n",
    "series, there are similarities in the derivation of the proof for\n",
    "neural networks."
   ]
  },
  {
   "cell_type": "markdown",
   "id": "05249d23",
   "metadata": {
    "editable": true
   },
   "source": [
    "## The approximation theorem in words\n",
    "\n",
    "**Any continuous function $y=F(\\boldsymbol{x})$ supported on the unit cube in\n",
    "$d$-dimensions can be approximated by a one-layer sigmoidal network to\n",
    "arbitrary accuracy.**\n",
    "\n",
    "[Hornik (1991)](https://www.sciencedirect.com/science/article/abs/pii/089360809190009T) extended the theorem by letting any non-constant, bounded activation function to be included using that the expectation value"
   ]
  },
  {
   "cell_type": "markdown",
   "id": "7085b18b",
   "metadata": {
    "editable": true
   },
   "source": [
    "$$\n",
    "\\mathbb{E}[\\vert F(\\boldsymbol{x})\\vert^2] =\\int_{\\boldsymbol{x}\\in D} \\vert F(\\boldsymbol{x})\\vert^2p(\\boldsymbol{x})d\\boldsymbol{x} < \\infty.\n",
    "$$"
   ]
  },
  {
   "cell_type": "markdown",
   "id": "4c5b5ab0",
   "metadata": {
    "editable": true
   },
   "source": [
    "Then we have"
   ]
  },
  {
   "cell_type": "markdown",
   "id": "af6c62ae",
   "metadata": {
    "editable": true
   },
   "source": [
    "$$\n",
    "\\mathbb{E}[\\vert F(\\boldsymbol{x})-f(\\boldsymbol{x};\\boldsymbol{\\Theta})\\vert^2] =\\int_{\\boldsymbol{x}\\in D} \\vert F(\\boldsymbol{x})-f(\\boldsymbol{x};\\boldsymbol{\\Theta})\\vert^2p(\\boldsymbol{x})d\\boldsymbol{x} < \\epsilon.\n",
    "$$"
   ]
  },
  {
   "cell_type": "markdown",
   "id": "79124d56",
   "metadata": {
    "editable": true
   },
   "source": [
    "## More on the general approximation theorem\n",
    "\n",
    "None of the proofs give any insight into the relation between the\n",
    "number of of hidden layers and nodes and the approximation error\n",
    "$\\epsilon$, nor the magnitudes of $\\boldsymbol{W}$ and $\\boldsymbol{b}$.\n",
    "\n",
    "Neural networks (NNs) have what we may call a kind of universality no matter what function we want to compute.\n",
    "\n",
    "It does not mean that an NN can be used to exactly compute any function. Rather, we get an approximation that is as good as we want."
   ]
  },
  {
   "cell_type": "markdown",
   "id": "5ba47773",
   "metadata": {
    "editable": true
   },
   "source": [
    "## Class of functions we can approximate\n",
    "\n",
    "The class of functions that can be approximated are the continuous ones.\n",
    "If the function $F(\\boldsymbol{x})$ is discontinuous, it won't in general be possible to approximate it. However, an NN may still give an approximation even if we fail in some points."
   ]
  },
  {
   "cell_type": "markdown",
   "id": "4f5c2e84",
   "metadata": {
    "editable": true
   },
   "source": [
    "## Setting up the equations for a neural network\n",
    "\n",
    "The questions we want to ask are how do changes in the biases and the\n",
    "weights in our network change the cost function and how can we use the\n",
    "final output to modify the weights and biases?\n",
    "\n",
    "To derive these equations let us start with a plain regression problem\n",
    "and define our cost function as"
   ]
  },
  {
   "cell_type": "markdown",
   "id": "45c501c1",
   "metadata": {
    "editable": true
   },
   "source": [
    "$$\n",
    "{\\cal C}(\\boldsymbol{\\Theta})  =  \\frac{1}{2}\\sum_{i=1}^n\\left(y_i - \\tilde{y}_i\\right)^2,\n",
    "$$"
   ]
  },
  {
   "cell_type": "markdown",
   "id": "f71c74ae",
   "metadata": {
    "editable": true
   },
   "source": [
    "where the $y_i$s are our $n$ targets (the values we want to\n",
    "reproduce), while the outputs of the network after having propagated\n",
    "all inputs $\\boldsymbol{x}$ are given by $\\boldsymbol{\\tilde{y}}_i$."
   ]
  },
  {
   "cell_type": "markdown",
   "id": "a7013ca9",
   "metadata": {
    "editable": true
   },
   "source": [
    "## Layout of a neural network with three hidden layers\n",
    "\n",
    "<!-- dom:FIGURE: [figures/nn1.png, width=900 frac=1.0] -->\n",
    "<!-- begin figure -->\n",
    "\n",
    "<img src=\"figures/nn1.png\" width=\"900\"><p style=\"font-size: 0.9em\"><i>Figure 1: </i></p>\n",
    "<!-- end figure -->"
   ]
  },
  {
   "cell_type": "markdown",
   "id": "ef22c9cb",
   "metadata": {
    "editable": true
   },
   "source": [
    "## Definitions\n",
    "\n",
    "With our definition of the targets $\\boldsymbol{y}$, the outputs of the\n",
    "network $\\boldsymbol{\\tilde{y}}$ and the inputs $\\boldsymbol{x}$ we\n",
    "define now the activation $z_j^l$ of node/neuron/unit $j$ of the\n",
    "$l$-th layer as a function of the bias, the weights which add up from\n",
    "the previous layer $l-1$ and the forward passes/outputs\n",
    "$\\hat{a}^{l-1}$ from the previous layer as"
   ]
  },
  {
   "cell_type": "markdown",
   "id": "7b7c4ece",
   "metadata": {
    "editable": true
   },
   "source": [
    "$$\n",
    "z_j^l = \\sum_{i=1}^{M_{l-1}}w_{ij}^la_i^{l-1}+b_j^l,\n",
    "$$"
   ]
  },
  {
   "cell_type": "markdown",
   "id": "c5fa4776",
   "metadata": {
    "editable": true
   },
   "source": [
    "where $b_k^l$ are the biases from layer $l$.  Here $M_{l-1}$\n",
    "represents the total number of nodes/neurons/units of layer $l-1$. The\n",
    "figure in the whiteboard notes illustrates this equation.  We can rewrite this in a more\n",
    "compact form as the matrix-vector products we discussed earlier,"
   ]
  },
  {
   "cell_type": "markdown",
   "id": "d510ac0a",
   "metadata": {
    "editable": true
   },
   "source": [
    "$$\n",
    "\\hat{z}^l = \\left(\\hat{W}^l\\right)^T\\hat{a}^{l-1}+\\hat{b}^l.\n",
    "$$"
   ]
  },
  {
   "cell_type": "markdown",
   "id": "d9dc2943",
   "metadata": {
    "editable": true
   },
   "source": [
    "## Inputs to the activation function\n",
    "\n",
    "With the activation values $\\boldsymbol{z}^l$ we can in turn define the\n",
    "output of layer $l$ as $\\boldsymbol{a}^l = f(\\boldsymbol{z}^l)$ where $f$ is our\n",
    "activation function. In the examples here we will use the sigmoid\n",
    "function discussed in our logistic regression lectures. We will also use the same activation function $f$ for all layers\n",
    "and their nodes.  It means we have"
   ]
  },
  {
   "cell_type": "markdown",
   "id": "64b10bac",
   "metadata": {
    "editable": true
   },
   "source": [
    "$$\n",
    "a_j^l = \\sigma(z_j^l) = \\frac{1}{1+\\exp{-(z_j^l)}}.\n",
    "$$"
   ]
  },
  {
   "cell_type": "markdown",
   "id": "c4fd9b57",
   "metadata": {
    "editable": true
   },
   "source": [
    "## Derivatives and the chain rule\n",
    "\n",
    "From the definition of the activation $z_j^l$ we have"
   ]
  },
  {
   "cell_type": "markdown",
   "id": "587dae0f",
   "metadata": {
    "editable": true
   },
   "source": [
    "$$\n",
    "\\frac{\\partial z_j^l}{\\partial w_{ij}^l} = a_i^{l-1},\n",
    "$$"
   ]
  },
  {
   "cell_type": "markdown",
   "id": "cea3f4d1",
   "metadata": {
    "editable": true
   },
   "source": [
    "and"
   ]
  },
  {
   "cell_type": "markdown",
   "id": "f57cdbec",
   "metadata": {
    "editable": true
   },
   "source": [
    "$$\n",
    "\\frac{\\partial z_j^l}{\\partial a_i^{l-1}} = w_{ji}^l.\n",
    "$$"
   ]
  },
  {
   "cell_type": "markdown",
   "id": "94cf819b",
   "metadata": {
    "editable": true
   },
   "source": [
    "With our definition of the activation function we have that (note that this function depends only on $z_j^l$)"
   ]
  },
  {
   "cell_type": "markdown",
   "id": "0dd99d03",
   "metadata": {
    "editable": true
   },
   "source": [
    "$$\n",
    "\\frac{\\partial a_j^l}{\\partial z_j^{l}} = a_j^l(1-a_j^l)=\\sigma(z_j^l)(1-\\sigma(z_j^l)).\n",
    "$$"
   ]
  },
  {
   "cell_type": "markdown",
   "id": "9b8f7535",
   "metadata": {
    "editable": true
   },
   "source": [
    "## Derivative of the cost function\n",
    "\n",
    "With these definitions we can now compute the derivative of the cost function in terms of the weights.\n",
    "\n",
    "Let us specialize to the output layer $l=L$. Our cost function is"
   ]
  },
  {
   "cell_type": "markdown",
   "id": "e2c18ae9",
   "metadata": {
    "editable": true
   },
   "source": [
    "$$\n",
    "{\\cal C}(\\boldsymbol{\\Theta}^L)  =  \\frac{1}{2}\\sum_{i=1}^n\\left(y_i - \\tilde{y}_i\\right)^2=\\frac{1}{2}\\sum_{i=1}^n\\left(a_i^L - y_i\\right)^2,\n",
    "$$"
   ]
  },
  {
   "cell_type": "markdown",
   "id": "5e0dfa96",
   "metadata": {
    "editable": true
   },
   "source": [
    "The derivative of this function with respect to the weights is"
   ]
  },
  {
   "cell_type": "markdown",
   "id": "b449fbdc",
   "metadata": {
    "editable": true
   },
   "source": [
    "$$\n",
    "\\frac{\\partial{\\cal C}(\\boldsymbol{\\Theta}^L)}{\\partial w_{jk}^L}  =  \\left(a_j^L - y_j\\right)\\frac{\\partial a_j^L}{\\partial w_{jk}^{L}},\n",
    "$$"
   ]
  },
  {
   "cell_type": "markdown",
   "id": "931414dd",
   "metadata": {
    "editable": true
   },
   "source": [
    "The last partial derivative can easily be computed and reads (by applying the chain rule)"
   ]
  },
  {
   "cell_type": "markdown",
   "id": "14ee5358",
   "metadata": {
    "editable": true
   },
   "source": [
    "$$\n",
    "\\frac{\\partial a_j^L}{\\partial w_{jk}^{L}} = \\frac{\\partial a_j^L}{\\partial z_{j}^{L}}\\frac{\\partial z_j^L}{\\partial w_{jk}^{L}}=a_j^L(1-a_j^L)a_k^{L-1}.\n",
    "$$"
   ]
  },
  {
   "cell_type": "markdown",
   "id": "b14bf73f",
   "metadata": {
    "editable": true
   },
   "source": [
    "## Simpler examples first, and automatic differentiation\n",
    "\n",
    "In order to understand the back propagation algorithm and its\n",
    "derivation (an implementation of the chain rule), let us first digress\n",
    "with some simple examples. These examples are also meant to motivate\n",
    "the link with back propagation and [automatic differentiation](https://en.wikipedia.org/wiki/Automatic_differentiation)."
   ]
  },
  {
   "cell_type": "markdown",
   "id": "1e2b8433",
   "metadata": {
    "editable": true
   },
   "source": [
    "## Reminder on the chain rule and gradients\n",
    "\n",
    "If we have a multivariate function $f(x,y)$ where $x=x(t)$ and $y=y(t)$ are functions of a variable $t$, we have that the gradient of $f$ with respect to $t$ (without the explicit unit vector components)"
   ]
  },
  {
   "cell_type": "markdown",
   "id": "fa6346cb",
   "metadata": {
    "editable": true
   },
   "source": [
    "$$\n",
    "\\frac{df}{dt} = \\begin{bmatrix}\\frac{\\partial f}{\\partial x} & \\frac{\\partial f}{\\partial y} \\end{bmatrix} \\begin{bmatrix}\\frac{\\partial x}{\\partial t} \\\\ \\frac{\\partial y}{\\partial t} \\end{bmatrix}=\\frac{\\partial f}{\\partial x} \\frac{\\partial x}{\\partial t} +\\frac{\\partial f}{\\partial y} \\frac{\\partial y}{\\partial t}.\n",
    "$$"
   ]
  },
  {
   "cell_type": "markdown",
   "id": "6632f6bb",
   "metadata": {
    "editable": true
   },
   "source": [
    "## Multivariable functions\n",
    "\n",
    "If we have a multivariate function $f(x,y)$ where $x=x(t,s)$ and $y=y(t,s)$ are functions of the variables $t$ and $s$, we have that the partial derivatives"
   ]
  },
  {
   "cell_type": "markdown",
   "id": "ca7c106c",
   "metadata": {
    "editable": true
   },
   "source": [
    "$$\n",
    "\\frac{\\partial f}{\\partial s}=\\frac{\\partial f}{\\partial x}\\frac{\\partial x}{\\partial s}+\\frac{\\partial f}{\\partial y}\\frac{\\partial y}{\\partial s},\n",
    "$$"
   ]
  },
  {
   "cell_type": "markdown",
   "id": "21b94cab",
   "metadata": {
    "editable": true
   },
   "source": [
    "and"
   ]
  },
  {
   "cell_type": "markdown",
   "id": "00e2df82",
   "metadata": {
    "editable": true
   },
   "source": [
    "$$\n",
    "\\frac{\\partial f}{\\partial t}=\\frac{\\partial f}{\\partial x}\\frac{\\partial x}{\\partial t}+\\frac{\\partial f}{\\partial y}\\frac{\\partial y}{\\partial t}.\n",
    "$$"
   ]
  },
  {
   "cell_type": "markdown",
   "id": "c8a4c56e",
   "metadata": {
    "editable": true
   },
   "source": [
    "the gradient of $f$ with respect to $t$ and $s$ (without the explicit unit vector components)"
   ]
  },
  {
   "cell_type": "markdown",
   "id": "039fe7fb",
   "metadata": {
    "editable": true
   },
   "source": [
    "$$\n",
    "\\frac{df}{d(s,t)} = \\begin{bmatrix}\\frac{\\partial f}{\\partial x} & \\frac{\\partial f}{\\partial y} \\end{bmatrix} \\begin{bmatrix}\\frac{\\partial x}{\\partial s}  &\\frac{\\partial x}{\\partial t} \\\\ \\frac{\\partial y}{\\partial s} & \\frac{\\partial y}{\\partial t} \\end{bmatrix}.\n",
    "$$"
   ]
  },
  {
   "cell_type": "markdown",
   "id": "687bbaad",
   "metadata": {
    "editable": true
   },
   "source": [
    "## Automatic differentiation through examples\n",
    "\n",
    "A great introduction to automatic differentiation is given by Baydin et al., see <https://arxiv.org/abs/1502.05767>.\n",
    "\n",
    "Automatic differentiation is a represented by a repeated application\n",
    "of the chain rule on well-known functions and allows for the\n",
    "calculation of derivatives to numerical precision. It is not the same\n",
    "as the calculation of symbolic derivatives via for example SymPy, nor\n",
    "does it use approximative formulae based on Taylor-expansions of a\n",
    "function around a given value. The latter are error prone due to\n",
    "truncation errors and values of the step size $\\Delta$."
   ]
  },
  {
   "cell_type": "markdown",
   "id": "dab74f01",
   "metadata": {
    "editable": true
   },
   "source": [
    "## Simple example\n",
    "\n",
    "Our first example is rather simple,"
   ]
  },
  {
   "cell_type": "markdown",
   "id": "0694fcbb",
   "metadata": {
    "editable": true
   },
   "source": [
    "$$\n",
    "f(x) =\\exp{x^2},\n",
    "$$"
   ]
  },
  {
   "cell_type": "markdown",
   "id": "43f40a17",
   "metadata": {
    "editable": true
   },
   "source": [
    "with derivative"
   ]
  },
  {
   "cell_type": "markdown",
   "id": "e85aeb57",
   "metadata": {
    "editable": true
   },
   "source": [
    "$$\n",
    "f'(x) =2x\\exp{x^2}.\n",
    "$$"
   ]
  },
  {
   "cell_type": "markdown",
   "id": "6dceff22",
   "metadata": {
    "editable": true
   },
   "source": [
    "We can use SymPy to extract the pertinent lines of Python code through the following simple example"
   ]
  },
  {
   "cell_type": "code",
   "execution_count": 1,
   "id": "e25420fb",
   "metadata": {
    "collapsed": false,
    "editable": true
   },
   "outputs": [],
   "source": [
    "from __future__ import division\n",
    "from sympy import *\n",
    "x = symbols('x')\n",
    "expr = exp(x*x)\n",
    "simplify(expr)\n",
    "derivative = diff(expr,x)\n",
    "print(python(expr))\n",
    "print(python(derivative))"
   ]
  },
  {
   "cell_type": "markdown",
   "id": "faab767f",
   "metadata": {
    "editable": true
   },
   "source": [
    "## Smarter way of evaluating the above function\n",
    "If we study this function, we note that we can reduce the number of operations by introducing an intermediate variable"
   ]
  },
  {
   "cell_type": "markdown",
   "id": "03ec2af0",
   "metadata": {
    "editable": true
   },
   "source": [
    "$$\n",
    "a = x^2,\n",
    "$$"
   ]
  },
  {
   "cell_type": "markdown",
   "id": "37f4996f",
   "metadata": {
    "editable": true
   },
   "source": [
    "leading to"
   ]
  },
  {
   "cell_type": "markdown",
   "id": "5b76e8f9",
   "metadata": {
    "editable": true
   },
   "source": [
    "$$\n",
    "f(x) = f(a(x)) = b= \\exp{a}.\n",
    "$$"
   ]
  },
  {
   "cell_type": "markdown",
   "id": "6a57bc26",
   "metadata": {
    "editable": true
   },
   "source": [
    "We now assume that all operations can be counted in terms of equal\n",
    "floating point operations. This means that in order to calculate\n",
    "$f(x)$ we need first to square $x$ and then compute the exponential. We\n",
    "have thus two floating point operations only."
   ]
  },
  {
   "cell_type": "markdown",
   "id": "34514283",
   "metadata": {
    "editable": true
   },
   "source": [
    "## Reducing the number of operations\n",
    "\n",
    "With the introduction of a precalculated quantity $a$ and thereby $f(x)$ we have that the derivative can be written as"
   ]
  },
  {
   "cell_type": "markdown",
   "id": "b1033d80",
   "metadata": {
    "editable": true
   },
   "source": [
    "$$\n",
    "f'(x) = 2xb,\n",
    "$$"
   ]
  },
  {
   "cell_type": "markdown",
   "id": "2eec9c83",
   "metadata": {
    "editable": true
   },
   "source": [
    "which reduces the number of operations from four in the orginal\n",
    "expression to two. This means that if we need to compute $f(x)$ and\n",
    "its derivative (a common task in optimizations), we have reduced the\n",
    "number of operations from six to four in total.\n",
    "\n",
    "**Note** that the usage of a symbolic software like SymPy does not\n",
    "include such simplifications and the calculations of the function and\n",
    "the derivatives yield in general more floating point operations."
   ]
  },
  {
   "cell_type": "markdown",
   "id": "44f84591",
   "metadata": {
    "editable": true
   },
   "source": [
    "## Chain rule, forward and reverse modes\n",
    "\n",
    "In the above example we have introduced the variables $a$ and $b$, and our function is"
   ]
  },
  {
   "cell_type": "markdown",
   "id": "46471767",
   "metadata": {
    "editable": true
   },
   "source": [
    "$$\n",
    "f(x) = f(a(x)) = b= \\exp{a},\n",
    "$$"
   ]
  },
  {
   "cell_type": "markdown",
   "id": "7f856f57",
   "metadata": {
    "editable": true
   },
   "source": [
    "with $a=x^2$. We can decompose the derivative of $f$ with respect to $x$ as"
   ]
  },
  {
   "cell_type": "markdown",
   "id": "c39ea4c1",
   "metadata": {
    "editable": true
   },
   "source": [
    "$$\n",
    "\\frac{df}{dx}=\\frac{df}{db}\\frac{db}{da}\\frac{da}{dx}.\n",
    "$$"
   ]
  },
  {
   "cell_type": "markdown",
   "id": "f3a44d1b",
   "metadata": {
    "editable": true
   },
   "source": [
    "We note that since $b=f(x)$ that"
   ]
  },
  {
   "cell_type": "markdown",
   "id": "8fc6d64b",
   "metadata": {
    "editable": true
   },
   "source": [
    "$$\n",
    "\\frac{df}{db}=1,\n",
    "$$"
   ]
  },
  {
   "cell_type": "markdown",
   "id": "a3c2a0ee",
   "metadata": {
    "editable": true
   },
   "source": [
    "leading to"
   ]
  },
  {
   "cell_type": "markdown",
   "id": "586d6b51",
   "metadata": {
    "editable": true
   },
   "source": [
    "$$\n",
    "\\frac{df}{dx}=\\frac{db}{da}\\frac{da}{dx}=2x\\exp{x^2},\n",
    "$$"
   ]
  },
  {
   "cell_type": "markdown",
   "id": "2ec5d1be",
   "metadata": {
    "editable": true
   },
   "source": [
    "as before."
   ]
  },
  {
   "cell_type": "markdown",
   "id": "1e219f27",
   "metadata": {
    "editable": true
   },
   "source": [
    "## Forward and reverse modes\n",
    "\n",
    "We have that"
   ]
  },
  {
   "cell_type": "markdown",
   "id": "bf6a460a",
   "metadata": {
    "editable": true
   },
   "source": [
    "$$\n",
    "\\frac{df}{dx}=\\frac{df}{db}\\frac{db}{da}\\frac{da}{dx},\n",
    "$$"
   ]
  },
  {
   "cell_type": "markdown",
   "id": "42014d59",
   "metadata": {
    "editable": true
   },
   "source": [
    "which we can rewrite either as"
   ]
  },
  {
   "cell_type": "markdown",
   "id": "2500492b",
   "metadata": {
    "editable": true
   },
   "source": [
    "$$\n",
    "\\frac{df}{dx}=\\left[\\frac{df}{db}\\frac{db}{da}\\right]\\frac{da}{dx},\n",
    "$$"
   ]
  },
  {
   "cell_type": "markdown",
   "id": "4830c86d",
   "metadata": {
    "editable": true
   },
   "source": [
    "or"
   ]
  },
  {
   "cell_type": "markdown",
   "id": "9d34b837",
   "metadata": {
    "editable": true
   },
   "source": [
    "$$\n",
    "\\frac{df}{dx}=\\frac{df}{db}\\left[\\frac{db}{da}\\frac{da}{dx}\\right].\n",
    "$$"
   ]
  },
  {
   "cell_type": "markdown",
   "id": "da93ae63",
   "metadata": {
    "editable": true
   },
   "source": [
    "The first expression is called reverse mode (or back propagation)\n",
    "since we start by evaluating the derivatives at the end point and then\n",
    "propagate backwards. This is the standard way of evaluating\n",
    "derivatives (gradients) when optimizing the parameters of a neural\n",
    "network.  In the context of deep learning this is computationally\n",
    "more efficient since the output of a neural network consists of either\n",
    "one or some few other output variables.\n",
    "\n",
    "The second equation defines the so-called  **forward mode**."
   ]
  },
  {
   "cell_type": "markdown",
   "id": "a1103083",
   "metadata": {
    "editable": true
   },
   "source": [
    "## More complicated function\n",
    "\n",
    "We increase our ambitions and introduce a slightly more complicated function"
   ]
  },
  {
   "cell_type": "markdown",
   "id": "09bd3bdd",
   "metadata": {
    "editable": true
   },
   "source": [
    "$$\n",
    "f(x) =\\sqrt{x^2+exp{x^2}},\n",
    "$$"
   ]
  },
  {
   "cell_type": "markdown",
   "id": "772629a8",
   "metadata": {
    "editable": true
   },
   "source": [
    "with derivative"
   ]
  },
  {
   "cell_type": "markdown",
   "id": "154e7f98",
   "metadata": {
    "editable": true
   },
   "source": [
    "$$\n",
    "f'(x) =\\frac{x(1+\\exp{x^2})}{\\sqrt{x^2+exp{x^2}}}.\n",
    "$$"
   ]
  },
  {
   "cell_type": "markdown",
   "id": "3d799897",
   "metadata": {
    "editable": true
   },
   "source": [
    "The corresponding SymPy code reads"
   ]
  },
  {
   "cell_type": "code",
   "execution_count": 2,
   "id": "48c79db9",
   "metadata": {
    "collapsed": false,
    "editable": true
   },
   "outputs": [],
   "source": [
    "from __future__ import division\n",
    "from sympy import *\n",
    "x = symbols('x')\n",
    "expr = sqrt(x*x+exp(x*x))\n",
    "simplify(expr)\n",
    "derivative = diff(expr,x)\n",
    "print(python(expr))\n",
    "print(python(derivative))"
   ]
  },
  {
   "cell_type": "markdown",
   "id": "bd628c27",
   "metadata": {
    "editable": true
   },
   "source": [
    "## Counting the number of floating point operations\n",
    "\n",
    "A simple count of operations shows that we need five operations for\n",
    "the function itself and ten for the derivative.  Fifteen operations in total if we wish to proceed with the above codes.\n",
    "\n",
    "Can we reduce this to\n",
    "say half the number of operations?"
   ]
  },
  {
   "cell_type": "markdown",
   "id": "e068cd86",
   "metadata": {
    "editable": true
   },
   "source": [
    "## Defining intermediate operations\n",
    "\n",
    "We can indeed reduce the number of operation to half of those listed in the brute force approach above.\n",
    "We define the following quantities"
   ]
  },
  {
   "cell_type": "markdown",
   "id": "49c7ee9f",
   "metadata": {
    "editable": true
   },
   "source": [
    "$$\n",
    "a = x^2,\n",
    "$$"
   ]
  },
  {
   "cell_type": "markdown",
   "id": "f44bc8c4",
   "metadata": {
    "editable": true
   },
   "source": [
    "and"
   ]
  },
  {
   "cell_type": "markdown",
   "id": "9b6dffd0",
   "metadata": {
    "editable": true
   },
   "source": [
    "$$\n",
    "b = \\exp{x^2} = \\exp{a},\n",
    "$$"
   ]
  },
  {
   "cell_type": "markdown",
   "id": "54794dbb",
   "metadata": {
    "editable": true
   },
   "source": [
    "and"
   ]
  },
  {
   "cell_type": "markdown",
   "id": "ae023ce8",
   "metadata": {
    "editable": true
   },
   "source": [
    "$$\n",
    "c= a+b,\n",
    "$$"
   ]
  },
  {
   "cell_type": "markdown",
   "id": "bda86b61",
   "metadata": {
    "editable": true
   },
   "source": [
    "and"
   ]
  },
  {
   "cell_type": "markdown",
   "id": "4c7603cb",
   "metadata": {
    "editable": true
   },
   "source": [
    "$$\n",
    "d=f(x)=\\sqrt{c}.\n",
    "$$"
   ]
  },
  {
   "cell_type": "markdown",
   "id": "f02166de",
   "metadata": {
    "editable": true
   },
   "source": [
    "## New expression for the derivative\n",
    "\n",
    "With these definitions we obtain the following partial derivatives"
   ]
  },
  {
   "cell_type": "markdown",
   "id": "8625259a",
   "metadata": {
    "editable": true
   },
   "source": [
    "$$\n",
    "\\frac{\\partial a}{\\partial x} = 2x,\n",
    "$$"
   ]
  },
  {
   "cell_type": "markdown",
   "id": "c1a36938",
   "metadata": {
    "editable": true
   },
   "source": [
    "and"
   ]
  },
  {
   "cell_type": "markdown",
   "id": "b4ec7f63",
   "metadata": {
    "editable": true
   },
   "source": [
    "$$\n",
    "\\frac{\\partial b}{\\partial a} = \\exp{a},\n",
    "$$"
   ]
  },
  {
   "cell_type": "markdown",
   "id": "e01fa6fa",
   "metadata": {
    "editable": true
   },
   "source": [
    "and"
   ]
  },
  {
   "cell_type": "markdown",
   "id": "2f3593a8",
   "metadata": {
    "editable": true
   },
   "source": [
    "$$\n",
    "\\frac{\\partial c}{\\partial a} = 1,\n",
    "$$"
   ]
  },
  {
   "cell_type": "markdown",
   "id": "a2e23b49",
   "metadata": {
    "editable": true
   },
   "source": [
    "and"
   ]
  },
  {
   "cell_type": "markdown",
   "id": "db0116a5",
   "metadata": {
    "editable": true
   },
   "source": [
    "$$\n",
    "\\frac{\\partial c}{\\partial b} = 1,\n",
    "$$"
   ]
  },
  {
   "cell_type": "markdown",
   "id": "1a013f7c",
   "metadata": {
    "editable": true
   },
   "source": [
    "and"
   ]
  },
  {
   "cell_type": "markdown",
   "id": "e8d48f65",
   "metadata": {
    "editable": true
   },
   "source": [
    "$$\n",
    "\\frac{\\partial d}{\\partial c} = \\frac{1}{2\\sqrt{c}},\n",
    "$$"
   ]
  },
  {
   "cell_type": "markdown",
   "id": "20f5ae0a",
   "metadata": {
    "editable": true
   },
   "source": [
    "and finally"
   ]
  },
  {
   "cell_type": "markdown",
   "id": "52b51c39",
   "metadata": {
    "editable": true
   },
   "source": [
    "$$\n",
    "\\frac{\\partial f}{\\partial d} = 1.\n",
    "$$"
   ]
  },
  {
   "cell_type": "markdown",
   "id": "25966801",
   "metadata": {
    "editable": true
   },
   "source": [
    "## Final derivatives\n",
    "Our final derivatives are thus"
   ]
  },
  {
   "cell_type": "markdown",
   "id": "e61342f9",
   "metadata": {
    "editable": true
   },
   "source": [
    "$$\n",
    "\\frac{\\partial f}{\\partial c} = \\frac{\\partial f}{\\partial d} \\frac{\\partial d}{\\partial c}  = \\frac{1}{2\\sqrt{c}},\n",
    "$$"
   ]
  },
  {
   "cell_type": "markdown",
   "id": "aa486ff6",
   "metadata": {
    "editable": true
   },
   "source": [
    "$$\n",
    "\\frac{\\partial f}{\\partial b} = \\frac{\\partial f}{\\partial c} \\frac{\\partial c}{\\partial b}  = \\frac{1}{2\\sqrt{c}},\n",
    "$$"
   ]
  },
  {
   "cell_type": "markdown",
   "id": "52982c3f",
   "metadata": {
    "editable": true
   },
   "source": [
    "$$\n",
    "\\frac{\\partial f}{\\partial a} = \\frac{\\partial f}{\\partial c} \\frac{\\partial c}{\\partial a}+\n",
    "\\frac{\\partial f}{\\partial b} \\frac{\\partial b}{\\partial a}  = \\frac{1+\\exp{a}}{2\\sqrt{c}},\n",
    "$$"
   ]
  },
  {
   "cell_type": "markdown",
   "id": "496caa6b",
   "metadata": {
    "editable": true
   },
   "source": [
    "and finally"
   ]
  },
  {
   "cell_type": "markdown",
   "id": "5fdf07ec",
   "metadata": {
    "editable": true
   },
   "source": [
    "$$\n",
    "\\frac{\\partial f}{\\partial x} = \\frac{\\partial f}{\\partial a} \\frac{\\partial a}{\\partial x}  = \\frac{x(1+\\exp{a})}{\\sqrt{c}},\n",
    "$$"
   ]
  },
  {
   "cell_type": "markdown",
   "id": "d0678e87",
   "metadata": {
    "editable": true
   },
   "source": [
    "which is just"
   ]
  },
  {
   "cell_type": "markdown",
   "id": "e3d2fed5",
   "metadata": {
    "editable": true
   },
   "source": [
    "$$\n",
    "\\frac{\\partial f}{\\partial x} = \\frac{x(1+b)}{d},\n",
    "$$"
   ]
  },
  {
   "cell_type": "markdown",
   "id": "7747a7a7",
   "metadata": {
    "editable": true
   },
   "source": [
    "and requires only three operations if we can reuse all intermediate variables."
   ]
  },
  {
   "cell_type": "markdown",
   "id": "24d42f7e",
   "metadata": {
    "editable": true
   },
   "source": [
    "## In general not this simple\n",
    "\n",
    "In general, see the generalization below, unless we can obtain simple\n",
    "analytical expressions which we can simplify further, the final\n",
    "implementation of automatic differentiation involves repeated\n",
    "calculations (and thereby operations) of derivatives of elementary\n",
    "functions."
   ]
  },
  {
   "cell_type": "markdown",
   "id": "f0fb3276",
   "metadata": {
    "editable": true
   },
   "source": [
    "## Automatic differentiation\n",
    "\n",
    "We can make this example more formal. Automatic differentiation is a\n",
    "formalization of the previous example (see graph).\n",
    "\n",
    "We define $\\boldsymbol{x}\\in x_1,\\dots, x_l$ input variables to a given function $f(\\boldsymbol{x})$ and $x_{l+1},\\dots, x_L$ intermediate variables.\n",
    "\n",
    "In the above example we have only one input variable, $l=1$ and four intermediate variables, that is"
   ]
  },
  {
   "cell_type": "markdown",
   "id": "bb72ed14",
   "metadata": {
    "editable": true
   },
   "source": [
    "$$\n",
    "\\begin{bmatrix} x_1=x & x_2 = x^2=a & x_3 =\\exp{a}= b & x_4=c=a+b & x_5 = \\sqrt{c}=d \\end{bmatrix}.\n",
    "$$"
   ]
  },
  {
   "cell_type": "markdown",
   "id": "9325cb76",
   "metadata": {
    "editable": true
   },
   "source": [
    "Furthemore, for $i=l+1, \\dots, L$ (here $i=2,3,4,5$ and $f=x_L=d$), we\n",
    "define the elementary functions $g_i(x_{Pa(x_i)})$ where $x_{Pa(x_i)}$ are the parent nodes of the variable $x_i$.\n",
    "\n",
    "In our case, we have for example for $x_3=g_3(x_{Pa(x_i)})=\\exp{a}$, that $g_3=\\exp{()}$ and $x_{Pa(x_3)}=a$."
   ]
  },
  {
   "cell_type": "markdown",
   "id": "c8fcdc51",
   "metadata": {
    "editable": true
   },
   "source": [
    "## Chain rule\n",
    "\n",
    "We can now compute the gradients by back-propagating the derivatives using the chain rule.\n",
    "We have defined"
   ]
  },
  {
   "cell_type": "markdown",
   "id": "3a7c806f",
   "metadata": {
    "editable": true
   },
   "source": [
    "$$\n",
    "\\frac{\\partial f}{\\partial x_L} = 1,\n",
    "$$"
   ]
  },
  {
   "cell_type": "markdown",
   "id": "a95fac0c",
   "metadata": {
    "editable": true
   },
   "source": [
    "which allows us to find the derivatives of the various variables $x_i$ as"
   ]
  },
  {
   "cell_type": "markdown",
   "id": "7f74f392",
   "metadata": {
    "editable": true
   },
   "source": [
    "$$\n",
    "\\frac{\\partial f}{\\partial x_i} = \\sum_{x_j:x_i\\in Pa(x_j)}\\frac{\\partial f}{\\partial x_j} \\frac{\\partial x_j}{\\partial x_i}=\\sum_{x_j:x_i\\in Pa(x_j)}\\frac{\\partial f}{\\partial x_j} \\frac{\\partial g_j}{\\partial x_i}.\n",
    "$$"
   ]
  },
  {
   "cell_type": "markdown",
   "id": "5b3e1708",
   "metadata": {
    "editable": true
   },
   "source": [
    "Whenever we have a function which can be expressed as a computation\n",
    "graph and the various functions can be expressed in terms of\n",
    "elementary functions that are differentiable, then automatic\n",
    "differentiation works.  The functions may not need to be elementary\n",
    "functions, they could also be computer programs, although not all\n",
    "programs can be automatically differentiated."
   ]
  },
  {
   "cell_type": "markdown",
   "id": "e9013a36",
   "metadata": {
    "editable": true
   },
   "source": [
    "## First network example, simple percepetron with one input\n",
    "\n",
    "As yet another example we define now a simple perceptron model with\n",
    "all quantities given by scalars. We consider only one input variable\n",
    "$x$ and one target value $y$.  We define an activation function\n",
    "$\\sigma_1$ which takes as input"
   ]
  },
  {
   "cell_type": "markdown",
   "id": "00d0546c",
   "metadata": {
    "editable": true
   },
   "source": [
    "$$\n",
    "z_1 = w_1x+b_1,\n",
    "$$"
   ]
  },
  {
   "cell_type": "markdown",
   "id": "c5b724a4",
   "metadata": {
    "editable": true
   },
   "source": [
    "where $w_1$ is the weight and $b_1$ is the bias. These are the\n",
    "parameters we want to optimize.  The output is $a_1=\\sigma(z_1)$ (see\n",
    "graph from whiteboard notes). This output is then fed into the\n",
    "**cost/loss** function, which we here for the sake of simplicity just\n",
    "define as the squared error"
   ]
  },
  {
   "cell_type": "markdown",
   "id": "1e80f5af",
   "metadata": {
    "editable": true
   },
   "source": [
    "$$\n",
    "C(x;w_1,b_1)=\\frac{1}{2}(a_1-y)^2.\n",
    "$$"
   ]
  },
  {
   "cell_type": "markdown",
   "id": "34319a56",
   "metadata": {
    "editable": true
   },
   "source": [
    "## Layout of a simple neural network with no hidden layer\n",
    "\n",
    "<!-- dom:FIGURE: [figures/simplenn1.png, width=900 frac=1.0] -->\n",
    "<!-- begin figure -->\n",
    "\n",
    "<img src=\"figures/simplenn1.png\" width=\"900\"><p style=\"font-size: 0.9em\"><i>Figure 1: </i></p>\n",
    "<!-- end figure -->"
   ]
  },
  {
   "cell_type": "markdown",
   "id": "80e7809b",
   "metadata": {
    "editable": true
   },
   "source": [
    "## Optimizing the parameters\n",
    "\n",
    "In setting up the feed forward and back propagation parts of the\n",
    "algorithm, we need now the derivative of the various variables we want\n",
    "to train.\n",
    "\n",
    "We need"
   ]
  },
  {
   "cell_type": "markdown",
   "id": "0cab36c8",
   "metadata": {
    "editable": true
   },
   "source": [
    "$$\n",
    "\\frac{\\partial C}{\\partial w_1} \\hspace{0.1cm}\\mathrm{and}\\hspace{0.1cm}\\frac{\\partial C}{\\partial b_1}.\n",
    "$$"
   ]
  },
  {
   "cell_type": "markdown",
   "id": "b10c9beb",
   "metadata": {
    "editable": true
   },
   "source": [
    "Using the chain rule we find"
   ]
  },
  {
   "cell_type": "markdown",
   "id": "90b3eed5",
   "metadata": {
    "editable": true
   },
   "source": [
    "$$\n",
    "\\frac{\\partial C}{\\partial w_1}=\\frac{\\partial C}{\\partial a_1}\\frac{\\partial a_1}{\\partial z_1}\\frac{\\partial z_1}{\\partial w_1}=(a_1-y)\\sigma_1'x,\n",
    "$$"
   ]
  },
  {
   "cell_type": "markdown",
   "id": "0c62020e",
   "metadata": {
    "editable": true
   },
   "source": [
    "and"
   ]
  },
  {
   "cell_type": "markdown",
   "id": "94cb33eb",
   "metadata": {
    "editable": true
   },
   "source": [
    "$$\n",
    "\\frac{\\partial C}{\\partial b_1}=\\frac{\\partial C}{\\partial a_1}\\frac{\\partial a_1}{\\partial z_1}\\frac{\\partial z_1}{\\partial b_1}=(a_1-y)\\sigma_1',\n",
    "$$"
   ]
  },
  {
   "cell_type": "markdown",
   "id": "1e129165",
   "metadata": {
    "editable": true
   },
   "source": [
    "which we later will just define as"
   ]
  },
  {
   "cell_type": "markdown",
   "id": "ce845e65",
   "metadata": {
    "editable": true
   },
   "source": [
    "$$\n",
    "\\frac{\\partial C}{\\partial a_1}\\frac{\\partial a_1}{\\partial z_1}=\\delta_1.\n",
    "$$"
   ]
  },
  {
   "cell_type": "markdown",
   "id": "2447e510",
   "metadata": {
    "editable": true
   },
   "source": [
    "## Adding a hidden layer\n",
    "\n",
    "We change our simple model to (see graph)\n",
    "a network with just one hidden layer but with scalar variables only.\n",
    "\n",
    "Our output variable changes to $a_2$ and $a_1$ is now the output from the hidden node and $a_0=x$.\n",
    "We have then"
   ]
  },
  {
   "cell_type": "markdown",
   "id": "2940223e",
   "metadata": {
    "editable": true
   },
   "source": [
    "$$\n",
    "z_1 = w_1a_0+b_1 \\hspace{0.1cm} \\wedge a_1 = \\sigma_1(z_1),\n",
    "$$"
   ]
  },
  {
   "cell_type": "markdown",
   "id": "b1fd44f1",
   "metadata": {
    "editable": true
   },
   "source": [
    "$$\n",
    "z_2 = w_2a_1+b_2 \\hspace{0.1cm} \\wedge a_2 = \\sigma_2(z_2),\n",
    "$$"
   ]
  },
  {
   "cell_type": "markdown",
   "id": "82f74f47",
   "metadata": {
    "editable": true
   },
   "source": [
    "and the cost function"
   ]
  },
  {
   "cell_type": "markdown",
   "id": "517fbd43",
   "metadata": {
    "editable": true
   },
   "source": [
    "$$\n",
    "C(x;\\boldsymbol{\\Theta})=\\frac{1}{2}(a_2-y)^2,\n",
    "$$"
   ]
  },
  {
   "cell_type": "markdown",
   "id": "22ff7e52",
   "metadata": {
    "editable": true
   },
   "source": [
    "with $\\boldsymbol{\\Theta}=[w_1,w_2,b_1,b_2]$."
   ]
  },
  {
   "cell_type": "markdown",
   "id": "77534ca4",
   "metadata": {
    "editable": true
   },
   "source": [
    "## Layout of a simple neural network with one hidden layer\n",
    "\n",
    "<!-- dom:FIGURE: [figures/simplenn2.png, width=900 frac=1.0] -->\n",
    "<!-- begin figure -->\n",
    "\n",
    "<img src=\"figures/simplenn2.png\" width=\"900\"><p style=\"font-size: 0.9em\"><i>Figure 1: </i></p>\n",
    "<!-- end figure -->"
   ]
  },
  {
   "cell_type": "markdown",
   "id": "6d86d6e8",
   "metadata": {
    "editable": true
   },
   "source": [
    "## The derivatives\n",
    "\n",
    "The derivatives are now, using the chain rule again"
   ]
  },
  {
   "cell_type": "markdown",
   "id": "dc418813",
   "metadata": {
    "editable": true
   },
   "source": [
    "$$\n",
    "\\frac{\\partial C}{\\partial w_2}=\\frac{\\partial C}{\\partial a_2}\\frac{\\partial a_2}{\\partial z_2}\\frac{\\partial z_2}{\\partial w_2}=(a_2-y)\\sigma_2'a_1=\\delta_2a_1,\n",
    "$$"
   ]
  },
  {
   "cell_type": "markdown",
   "id": "6e3638f3",
   "metadata": {
    "editable": true
   },
   "source": [
    "$$\n",
    "\\frac{\\partial C}{\\partial b_2}=\\frac{\\partial C}{\\partial a_2}\\frac{\\partial a_2}{\\partial z_2}\\frac{\\partial z_2}{\\partial b_2}=(a_2-y)\\sigma_2'=\\delta_2,\n",
    "$$"
   ]
  },
  {
   "cell_type": "markdown",
   "id": "d9b7d5e4",
   "metadata": {
    "editable": true
   },
   "source": [
    "$$\n",
    "\\frac{\\partial C}{\\partial w_1}=\\frac{\\partial C}{\\partial a_2}\\frac{\\partial a_2}{\\partial z_2}\\frac{\\partial z_2}{\\partial a_1}\\frac{\\partial a_1}{\\partial z_1}\\frac{\\partial z_1}{\\partial w_1}=(a_2-y)\\sigma_2'a_1\\sigma_1'a_0,\n",
    "$$"
   ]
  },
  {
   "cell_type": "markdown",
   "id": "0b39c2c5",
   "metadata": {
    "editable": true
   },
   "source": [
    "$$\n",
    "\\frac{\\partial C}{\\partial b_1}=\\frac{\\partial C}{\\partial a_2}\\frac{\\partial a_2}{\\partial z_2}\\frac{\\partial z_2}{\\partial a_1}\\frac{\\partial a_1}{\\partial z_1}\\frac{\\partial z_1}{\\partial b_1}=(a_2-y)\\sigma_2'\\sigma_1'=\\delta_1.\n",
    "$$"
   ]
  },
  {
   "cell_type": "markdown",
   "id": "52047ddd",
   "metadata": {
    "editable": true
   },
   "source": [
    "Can you generalize this to more than one hidden layer?"
   ]
  },
  {
   "cell_type": "markdown",
   "id": "dcc9f27d",
   "metadata": {
    "editable": true
   },
   "source": [
    "## Important observations\n",
    "\n",
    "From the above equations we see that the derivatives of the activation\n",
    "functions play a central role. If they vanish, the training may\n",
    "stop. This is called the vanishing gradient problem, see discussions below. If they become\n",
    "large, the parameters $w_i$ and $b_i$ may simply go to infinity. This\n",
    "is referenced as  the exploding gradient problem."
   ]
  },
  {
   "cell_type": "markdown",
   "id": "6b7e1436",
   "metadata": {
    "editable": true
   },
   "source": [
    "## The training\n",
    "\n",
    "The training of the parameters is done through various gradient descent approximations with"
   ]
  },
  {
   "cell_type": "markdown",
   "id": "2175a237",
   "metadata": {
    "editable": true
   },
   "source": [
    "$$\n",
    "w_{i}\\leftarrow w_{i}- \\eta \\delta_i a_{i-1},\n",
    "$$"
   ]
  },
  {
   "cell_type": "markdown",
   "id": "8c0dbb3d",
   "metadata": {
    "editable": true
   },
   "source": [
    "and"
   ]
  },
  {
   "cell_type": "markdown",
   "id": "8a18a116",
   "metadata": {
    "editable": true
   },
   "source": [
    "$$\n",
    "b_i \\leftarrow b_i-\\eta \\delta_i,\n",
    "$$"
   ]
  },
  {
   "cell_type": "markdown",
   "id": "1bd46e2e",
   "metadata": {
    "editable": true
   },
   "source": [
    "with $\\eta$ is the learning rate.\n",
    "\n",
    "One iteration consists of one feed forward step and one back-propagation step. Each back-propagation step does one update of the parameters $\\boldsymbol{\\Theta}$.\n",
    "\n",
    "For the first hidden layer $a_{i-1}=a_0=x$ for this simple model."
   ]
  }
 ],
 "metadata": {},
 "nbformat": 4,
 "nbformat_minor": 5
}
