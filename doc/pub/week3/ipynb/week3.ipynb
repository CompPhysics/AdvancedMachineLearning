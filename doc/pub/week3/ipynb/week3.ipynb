{
 "cells": [
  {
   "cell_type": "markdown",
   "id": "fe45dec7",
   "metadata": {
    "editable": true
   },
   "source": [
    "<!-- HTML file automatically generated from DocOnce source (https://github.com/doconce/doconce/)\n",
    "doconce format html week3.do.txt --no_mako -->\n",
    "<!-- dom:TITLE: January 29-February 2 : Advanced machine learning and data analysis for the physical sciences -->"
   ]
  },
  {
   "cell_type": "markdown",
   "id": "7cd63fa2",
   "metadata": {
    "editable": true
   },
   "source": [
    "# January 29-February 2 : Advanced machine learning and data analysis for the physical sciences\n",
    "**Morten Hjorth-Jensen**, Department of Physics and Center for Computing in Science Education, University of Oslo, Norway and Department of Physics and Astronomy and Facility for Rare Isotope Beams, Michigan State University, East Lansing, Michigan, USA\n",
    "\n",
    "Date: **Dec 22, 2023**\n",
    "\n",
    "Copyright 1999-2023, Morten Hjorth-Jensen. Released under CC Attribution-NonCommercial 4.0 license"
   ]
  },
  {
   "cell_type": "markdown",
   "id": "79bba1cc",
   "metadata": {
    "editable": true
   },
   "source": [
    "## Overview of third  week\n",
    "\n",
    "1. Review of neural networks and writing own code\n",
    "\n",
    "2. Discussion of first data set"
   ]
  },
  {
   "cell_type": "markdown",
   "id": "6693494e",
   "metadata": {
    "editable": true
   },
   "source": [
    "## Videos on Neural Networks\n",
    "\n",
    "* [Video on Neural Networks](https://www.youtube.com/watch?v=CqOfi41LfDw)\n",
    "\n",
    "* [Video on the back propagation algorithm](https://www.youtube.com/watch?v=Ilg3gGewQ5U)\n",
    "\n",
    "I also  recommend Michael Nielsen's intuitive approach to the neural networks and the universal approximation theorem, see the slides at <http://neuralnetworksanddeeplearning.com/chap4.html>."
   ]
  }
 ],
 "metadata": {},
 "nbformat": 4,
 "nbformat_minor": 5
}
