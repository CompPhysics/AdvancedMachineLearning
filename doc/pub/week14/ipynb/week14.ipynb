{
 "cells": [
  {
   "cell_type": "markdown",
   "id": "98f8b83b",
   "metadata": {
    "editable": true
   },
   "source": [
    "<!-- HTML file automatically generated from DocOnce source (https://github.com/doconce/doconce/)\n",
    "doconce format html week14.do.txt --no_mako -->\n",
    "<!-- dom:TITLE: Advanced machine learning and data analysis for the physical sciences -->"
   ]
  },
  {
   "cell_type": "markdown",
   "id": "44fb8e3b",
   "metadata": {
    "editable": true
   },
   "source": [
    "# Advanced machine learning and data analysis for the physical sciences\n",
    "**Morten Hjorth-Jensen**, Department of Physics and Center for Computing in Science Education, University of Oslo, Norway and Department of Physics and Astronomy and Facility for Rare Isotope Beams, Michigan State University, East Lansing, Michigan, USA\n",
    "\n",
    "Date: **April 23, 2024**"
   ]
  },
  {
   "cell_type": "markdown",
   "id": "134285e3",
   "metadata": {
    "editable": true
   },
   "source": [
    "## Plans for the week April 22-26, 2024\n",
    "\n",
    "**Deep generative models.**\n",
    "\n",
    "1. Variational Autoencoders (VAE)\n",
    "\n",
    "2. GANs\n",
    "\n",
    "3. Reading recommendation: Goodfellow et al chapter 20.10-20-14\n",
    "<!-- o [Video of lecture](https://youtu.be/0VBmdP_iCzA) -->\n",
    "<!-- o [Whiteboard notes](https://github.com/CompPhysics/AdvancedMachineLearning/blob/main/doc/HandwrittenNotes/2024/NotesApril16.pdf) -->"
   ]
  }
 ],
 "metadata": {},
 "nbformat": 4,
 "nbformat_minor": 5
}
