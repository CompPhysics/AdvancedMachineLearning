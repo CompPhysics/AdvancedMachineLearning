{
 "cells": [
  {
   "cell_type": "markdown",
   "id": "2f43841f",
   "metadata": {
    "editable": true
   },
   "source": [
    "<!-- HTML file automatically generated from DocOnce source (https://github.com/doconce/doconce/)\n",
    "doconce format html week14.do.txt --no_mako -->\n",
    "<!-- dom:TITLE: Advanced machine learning and data analysis for the physical sciences -->"
   ]
  },
  {
   "cell_type": "markdown",
   "id": "8ef724e8",
   "metadata": {
    "editable": true
   },
   "source": [
    "# Advanced machine learning and data analysis for the physical sciences\n",
    "**Morten Hjorth-Jensen**, Department of Physics and Center for Computing in Science Education, University of Oslo, Norway and Department of Physics and Astronomy and Facility for Rare Isotope Beams, Michigan State University, East Lansing, Michigan, USA\n",
    "\n",
    "Date: **April 23, 2024**"
   ]
  },
  {
   "cell_type": "markdown",
   "id": "3dd9ef11",
   "metadata": {
    "editable": true
   },
   "source": [
    "## Plans for the week April 22-26, 2024\n",
    "\n",
    "**Deep generative models.**\n",
    "\n",
    "1. Variational Autoencoders (VAE), Mathematics and codes, continuation from last week\n",
    "\n",
    "2. Generative Adversarial Networks (GANs)\n",
    "\n",
    "3. Reading recommendation:\n",
    "\n",
    "a. Goodfellow et al chapter 20.10-20-14\n",
    "\n",
    "b. Calvin Luo <https://calvinyluo.com/2022/08/26/diffusion-tutorial.html>\n",
    "\n",
    "c. An Introduction to Variational Autoencoders, by Kingma and Welling, see <https://arxiv.org/abs/1906.02691>\n",
    "<!-- o \"Video of lecture\":\"\" -->\n",
    "<!-- o [Whiteboard notes](https://github.com/CompPhysics/AdvancedMachineLearning/blob/main/doc/HandwrittenNotes/2024/NotesApril23.pdf) -->"
   ]
  },
  {
   "cell_type": "markdown",
   "id": "9be6477d",
   "metadata": {
    "editable": true
   },
   "source": [
    "## Motivation from Kingma and Welling, An Introduction to Variational Autoencoders, <https://arxiv.org/abs/1906.02691>\n",
    "\n",
    "*There are many reasons why generative modeling is attractive. First,\n",
    "we can express physical laws and constraints into the generative\n",
    "process while details that we don’t know or care about, i.e. nuisance\n",
    "variables, are treated as noise. The resulting models are usually\n",
    "highly intuitive and interpretable and by testing them against\n",
    "observations we can confirm or reject our theories about how the world\n",
    "works.  Another reason for trying to understand the generative process\n",
    "of data is that it naturally expresses causal relations of the\n",
    "world. Causal relations have the great advantage that they generalize\n",
    "much better to new situations than mere correlations. For instance,\n",
    "once we understand the generative process of an earthquake, we can use\n",
    "that knowledge both in California and in Chile.*"
   ]
  },
  {
   "cell_type": "markdown",
   "id": "9b251e97",
   "metadata": {
    "editable": true
   },
   "source": [
    "## Mathematics of  VAEs\n",
    "\n",
    "We want to train the marginal probability with some latent varrables $\\boldsymbol{h}$"
   ]
  },
  {
   "cell_type": "markdown",
   "id": "3f2002d7",
   "metadata": {
    "editable": true
   },
   "source": [
    "$$\n",
    "p(\\boldsymbol{x};\\boldsymbol{\\Theta}) = \\int d\\boldsymbol{h}p(\\boldsymbol{x},\\boldsymbol{h};\\boldsymbol{\\Theta}),\n",
    "$$"
   ]
  },
  {
   "cell_type": "markdown",
   "id": "b975e07c",
   "metadata": {
    "editable": true
   },
   "source": [
    "for the continuous version (see previous slides for the discrete variant)."
   ]
  },
  {
   "cell_type": "markdown",
   "id": "c6e17b94",
   "metadata": {
    "editable": true
   },
   "source": [
    "## Using the KL divergence\n",
    "\n",
    "In practice, for most $\\boldsymbol{h}$, $p(\\boldsymbol{x}\\vert \\boldsymbol{h}; \\boldsymbol{\\Theta})$\n",
    "will be nearly zero, and hence contributes almost nothing to our\n",
    "estimate of $p(\\boldsymbol{x})$.\n",
    "\n",
    "The key idea behind the variational autoencoder is to attempt to\n",
    "sample values of $\\boldsymbol{h}$ that are likely to have produced $\\boldsymbol{x}$,\n",
    "and compute $p(\\boldsymbol{x})$ just from those.\n",
    "\n",
    "This means that we need a new function $Q(\\boldsymbol{h}|\\boldsymbol{x})$ which can\n",
    "take a value of $\\boldsymbol{x}$ and give us a distribution over $\\boldsymbol{h}$\n",
    "values that are likely to produce $\\boldsymbol{x}$.  Hopefully the space of\n",
    "$\\boldsymbol{h}$ values that are likely under $Q$ will be much smaller than\n",
    "the space of all $\\boldsymbol{h}$'s that are likely under the prior\n",
    "$p(\\boldsymbol{h})$.  This lets us, for example, compute $E_{\\boldsymbol{h}\\sim\n",
    "Q}p(\\boldsymbol{x}\\vert \\boldsymbol{h})$ relatively easily. Note that we drop\n",
    "$\\boldsymbol{\\Theta}$ from here and for notational simplicity."
   ]
  },
  {
   "cell_type": "markdown",
   "id": "f5e422a5",
   "metadata": {
    "editable": true
   },
   "source": [
    "## Kullback-Leibler again\n",
    "\n",
    "However, if $\\boldsymbol{h}$ is sampled from an arbitrary distribution with\n",
    "PDF $Q(\\boldsymbol{h})$, which is not $\\mathcal{N}(0,I)$, then how does that\n",
    "help us optimize $p(\\boldsymbol{x})$?\n",
    "\n",
    "The first thing we need to do is relate\n",
    "$E_{\\boldsymbol{h}\\sim Q}P(\\boldsymbol{x}\\vert \\boldsymbol{h})$ and $p(\\boldsymbol{x})$.  We will see where $Q$ comes from later.\n",
    "\n",
    "The relationship between $E_{\\boldsymbol{h}\\sim Q}p(\\boldsymbol{x}\\vert \\boldsymbol{h})$ and $p(\\boldsymbol{x})$ is one of the cornerstones of variational Bayesian methods.\n",
    "We begin with the definition of Kullback-Leibler divergence (KL divergence or $\\mathcal{D}$) between $p(\\boldsymbol{h}\\vert \\boldsymbol{x})$ and $Q(\\boldsymbol{h})$, for some arbitrary $Q$ (which may or may not depend on $\\boldsymbol{x}$):"
   ]
  },
  {
   "cell_type": "markdown",
   "id": "6da77de4",
   "metadata": {
    "editable": true
   },
   "source": [
    "$$\n",
    "\\mathcal{D}\\left[Q(\\boldsymbol{h})\\|p(\\boldsymbol{h}|\\boldsymbol{x})\\right]=E_{\\boldsymbol{h}\\sim Q}\\left[\\log Q(\\boldsymbol{h}) - \\log p(\\boldsymbol{h}|\\boldsymbol{x}) \\right].\n",
    "$$"
   ]
  },
  {
   "cell_type": "markdown",
   "id": "d4f73f66",
   "metadata": {
    "editable": true
   },
   "source": [
    "## And applying Bayes rule\n",
    "\n",
    "We can get both $p(\\boldsymbol{x})$ and $p(\\boldsymbol{x}\\vert \\boldsymbol{h})$ into this equation by applying Bayes rule to $p(\\boldsymbol{h}|\\boldsymbol{x})$"
   ]
  },
  {
   "cell_type": "markdown",
   "id": "b8feb550",
   "metadata": {
    "editable": true
   },
   "source": [
    "$$\n",
    "\\mathcal{D}\\left[Q(\\boldsymbol{h})\\|p(\\boldsymbol{h}\\vert \\boldsymbol{x})\\right]=E_{\\boldsymbol{h}\\sim Q}\\left[\\log Q(\\boldsymbol{h}) - \\log p(\\boldsymbol{x}|\\boldsymbol{h}) - \\log p(\\boldsymbol{h}) \\right] + \\log p(\\boldsymbol{x}).\n",
    "$$"
   ]
  },
  {
   "cell_type": "markdown",
   "id": "253a25c1",
   "metadata": {
    "editable": true
   },
   "source": [
    "Here, $\\log p(\\boldsymbol{x})$ comes out of the expectation because it does not depend on $\\boldsymbol{h}$.\n",
    "Negating both sides, rearranging, and contracting part of $E_{\\boldsymbol{h}\\sim Q}$ into a KL-divergence terms yields:"
   ]
  },
  {
   "cell_type": "markdown",
   "id": "49fde00f",
   "metadata": {
    "editable": true
   },
   "source": [
    "$$\n",
    "\\log p(\\boldsymbol{x}) - \\mathcal{D}\\left[Q(\\boldsymbol{h})\\|p(\\boldsymbol{h}\\vert \\boldsymbol{x})\\right]=E_{\\boldsymbol{h}\\sim Q}\\left[\\log p(\\boldsymbol{x}\\vert\\boldsymbol{h})  \\right] - \\mathcal{D}\\left[Q(\\boldsymbol{h})\\|P(\\boldsymbol{h})\\right].\n",
    "$$"
   ]
  },
  {
   "cell_type": "markdown",
   "id": "5664d9ef",
   "metadata": {
    "editable": true
   },
   "source": [
    "## Rearranging\n",
    "\n",
    "Using Bayes rule we obtain"
   ]
  },
  {
   "cell_type": "markdown",
   "id": "98f5d224",
   "metadata": {
    "editable": true
   },
   "source": [
    "$$\n",
    "E_{\\boldsymbol{h}\\sim Q}\\left[\\log p(y_i|\\boldsymbol{h},x_i)\\right]=E_{\\boldsymbol{h}\\sim Q}\\left[\\log p(\\boldsymbol{h}|y_i,x_i) - \\log p(\\boldsymbol{h}|x_i) + \\log p(y_i|x_i) \\right]\n",
    "$$"
   ]
  },
  {
   "cell_type": "markdown",
   "id": "fc987020",
   "metadata": {
    "editable": true
   },
   "source": [
    "Rearranging the terms and subtracting $E_{\\boldsymbol{h}\\sim Q}\\log Q(\\boldsymbol{h})$ from both sides gives"
   ]
  },
  {
   "cell_type": "markdown",
   "id": "36744b63",
   "metadata": {
    "editable": true
   },
   "source": [
    "$$\n",
    "\\begin{array}{c}\n",
    "\\log P(y_i|x_i) - E_{\\boldsymbol{h}\\sim Q}\\left[\\log Q(\\boldsymbol{h})-\\log p(\\boldsymbol{h}|x_i,y_i)\\right]=\\hspace{10em}\\\\\n",
    "\\hspace{10em}E_{\\boldsymbol{h}\\sim Q}\\left[\\log p(y_i|\\boldsymbol{h},x_i)+\\log p(\\boldsymbol{h}|x_i)-\\log Q(\\boldsymbol{h})\\right]\n",
    "\\end{array}\n",
    "$$"
   ]
  },
  {
   "cell_type": "markdown",
   "id": "1b203439",
   "metadata": {
    "editable": true
   },
   "source": [
    "Note that $\\boldsymbol{x}$ is fixed, and $Q$ can be \\textit{any} distribution, not\n",
    "just a distribution which does a good job mapping $\\boldsymbol{x}$ to the $\\boldsymbol{h}$'s\n",
    "that can produce $X$."
   ]
  },
  {
   "cell_type": "markdown",
   "id": "1c1b08cb",
   "metadata": {
    "editable": true
   },
   "source": [
    "## Inferring the probability\n",
    "\n",
    "Since we are interested in inferring $p(\\boldsymbol{x})$, it makes sense to\n",
    "construct a $Q$ which \\textit{does} depend on $\\boldsymbol{x}$, and in particular,\n",
    "one which makes $\\mathcal{D}\\left[Q(\\boldsymbol{h})\\|p(\\boldsymbol{h}|\\boldsymbol{x})\\right]$ small"
   ]
  },
  {
   "cell_type": "markdown",
   "id": "b9dbe5ea",
   "metadata": {
    "editable": true
   },
   "source": [
    "$$\n",
    "\\log p(\\boldsymbol{x}) - \\mathcal{D}\\left[Q(\\boldsymbol{h}|\\boldsymbol{x})\\|p(\\boldsymbol{h}|\\boldsymbol{x})\\right]=E_{\\boldsymbol{h}\\sim Q}\\left[\\log p(\\boldsymbol{x}|\\boldsymbol{h})  \\right] - \\mathcal{D}\\left[Q(\\boldsymbol{h}|\\boldsymbol{x})\\|p(\\boldsymbol{h})\\right].\n",
    "$$"
   ]
  },
  {
   "cell_type": "markdown",
   "id": "cc1454bd",
   "metadata": {
    "editable": true
   },
   "source": [
    "Hence, during training, it makes sense to choose a $Q$ which will make\n",
    "$E_{\\boldsymbol{h}\\sim Q}[\\log Q(\\boldsymbol{h})-$ $\\log p(\\boldsymbol{h}|x_i,y_i)]$ (a\n",
    "$\\mathcal{D}$-divergence) small, such that the right hand side is a\n",
    "close approximation to $\\log p(y_i|y_i)$."
   ]
  },
  {
   "cell_type": "markdown",
   "id": "551875db",
   "metadata": {
    "editable": true
   },
   "source": [
    "## Central equation of VAEs\n",
    "\n",
    "This equation serves as the core of the variational autoencoder, and\n",
    "it is worth spending some time thinking about what it means.\n",
    "\n",
    "1. The left hand side has the quantity we want to maximize, namely $\\log p(\\boldsymbol{x})$ plus an error term.\n",
    "\n",
    "2. The right hand side is something we can optimize via stochastic gradient descent given the right choice of $Q$."
   ]
  },
  {
   "cell_type": "markdown",
   "id": "5104c8a1",
   "metadata": {
    "editable": true
   },
   "source": [
    "## Setting up SGD\n",
    "So how can we perform stochastic gradient descent?\n",
    "\n",
    "First we need to be a bit more specific about the form that $Q(\\boldsymbol{h}|\\boldsymbol{x})$\n",
    "will take.  The usual choice is to say that\n",
    "$Q(\\boldsymbol{h}|\\boldsymbol{x})=\\mathcal{N}(\\boldsymbol{h}|\\mu(\\boldsymbol{x};\\vartheta),\\Sigma(;\\vartheta))$, where\n",
    "$\\mu$ and $\\Sigma$ are arbitrary deterministic functions with\n",
    "parameters $\\vartheta$ that can be learned from data (we will omit\n",
    "$\\vartheta$ in later equations).  In practice, $\\mu$ and $\\Sigma$ are\n",
    "again implemented via neural networks, and $\\Sigma$ is constrained to\n",
    "be a diagonal matrix."
   ]
  },
  {
   "cell_type": "markdown",
   "id": "6871594d",
   "metadata": {
    "editable": true
   },
   "source": [
    "## More on the SGD\n",
    "\n",
    "The name variational \"autoencoder\" comes from\n",
    "the fact that $\\mu$ and $\\Sigma$ are \"encoding\" $\\boldsymbol{x}$ into the latent\n",
    "space $\\boldsymbol{h}$.  The advantages of this choice are computational, as they\n",
    "make it clear how to compute the right hand side.  The last\n",
    "term---$\\mathcal{D}\\left[Q(\\boldsymbol{h}|\\boldsymbol{x})\\|p(\\boldsymbol{h})\\right]$---is now a KL-divergence\n",
    "between two multivariate Gaussian distributions, which can be computed\n",
    "in closed form as:"
   ]
  },
  {
   "cell_type": "markdown",
   "id": "656db3e9",
   "metadata": {
    "editable": true
   },
   "source": [
    "$$\n",
    "\\begin{array}{c}\n",
    " \\mathcal{D}[\\mathcal{N}(\\mu_0,\\Sigma_0) \\| \\mathcal{N}(\\mu_1,\\Sigma_1)] = \\hspace{20em}\\\\\n",
    "  \\hspace{5em}\\frac{ 1 }{ 2 } \\left( \\mathrm{tr} \\left( \\Sigma_1^{-1} \\Sigma_0 \\right) + \\left( \\mu_1 - \\mu_0\\right)^\\top \\Sigma_1^{-1} ( \\mu_1 - \\mu_0 ) - k + \\log \\left( \\frac{ \\det \\Sigma_1 }{ \\det \\Sigma_0  } \\right)  \\right)\n",
    "\\end{array}\n",
    "$$"
   ]
  },
  {
   "cell_type": "markdown",
   "id": "b8d5d954",
   "metadata": {
    "editable": true
   },
   "source": [
    "where $k$ is the dimensionality of the distribution."
   ]
  },
  {
   "cell_type": "markdown",
   "id": "960f38f4",
   "metadata": {
    "editable": true
   },
   "source": [
    "## Simplification\n",
    "In our case, this simplifies to:"
   ]
  },
  {
   "cell_type": "markdown",
   "id": "0abd14cc",
   "metadata": {
    "editable": true
   },
   "source": [
    "$$\n",
    "\\begin{array}{c}\n",
    " \\mathcal{D}[\\mathcal{N}(\\mu(X),\\Sigma(X)) \\| \\mathcal{N}(0,I)] = \\hspace{20em}\\\\\n",
    "\\hspace{6em}\\frac{ 1 }{ 2 } \\left( \\mathrm{tr} \\left( \\Sigma(X) \\right) + \\left( \\mu(X)\\right)^\\top ( \\mu(X) ) - k - \\log\\det\\left(  \\Sigma(X)  \\right)  \\right).\n",
    "\\end{array}\n",
    "$$"
   ]
  },
  {
   "cell_type": "markdown",
   "id": "c3c38ef2",
   "metadata": {
    "editable": true
   },
   "source": [
    "## Terms to compute\n",
    "\n",
    "The first term on the right hand side is a bit more tricky.\n",
    "We could use sampling to estimate $E_{z\\sim Q}\\left[\\log P(X|z)  \\right]$, but getting a good estimate would require passing many samples of $z$ through $f$, which would be expensive.\n",
    "Hence, as is standard in stochastic gradient descent, we take one sample of $z$ and treat $\\log P(X|z)$ for that $z$ as an approximation of $E_{z\\sim Q}\\left[\\log P(X|z)  \\right]$.\n",
    "After all, we are already doing stochastic gradient descent over different values of $X$ sampled from a dataset $D$.\n",
    "The full equation we want to optimize is:"
   ]
  },
  {
   "cell_type": "markdown",
   "id": "f9a2d4eb",
   "metadata": {
    "editable": true
   },
   "source": [
    "$$\n",
    "\\begin{array}{c}\n",
    "    E_{X\\sim D}\\left[\\log P(X) - \\mathcal{D}\\left[Q(z|X)\\|P(z|X)\\right]\\right]=\\hspace{16em}\\\\\n",
    "\\hspace{10em}E_{X\\sim D}\\left[E_{z\\sim Q}\\left[\\log P(X|z)  \\right] - \\mathcal{D}\\left[Q(z|X)\\|P(z)\\right]\\right].\n",
    "\\end{array}\n",
    "$$"
   ]
  },
  {
   "cell_type": "markdown",
   "id": "d60752ed",
   "metadata": {
    "editable": true
   },
   "source": [
    "## Computing the gradients\n",
    "\n",
    "If we take the gradient of this equation, the gradient symbol can be moved into the expectations.\n",
    "Therefore, we can sample a single value of $X$ and a single value of $z$ from the distribution $Q(z|X)$, and compute the gradient of:"
   ]
  },
  {
   "cell_type": "markdown",
   "id": "2f97d39b",
   "metadata": {
    "editable": true
   },
   "source": [
    "<!-- Equation labels as ordinary links -->\n",
    "<div id=\"_auto1\"></div>\n",
    "\n",
    "$$\n",
    "\\begin{equation}\n",
    " \\log P(X|z)-\\mathcal{D}\\left[Q(z|X)\\|P(z)\\right].\n",
    "\\label{_auto1} \\tag{1}\n",
    "\\end{equation}\n",
    "$$"
   ]
  },
  {
   "cell_type": "markdown",
   "id": "a6240618",
   "metadata": {
    "editable": true
   },
   "source": [
    "We can then average the gradient of this function over arbitrarily many samples of $X$ and $z$, and the result converges to the gradient.\n",
    "\n",
    "There is, however, a significant problem\n",
    "$E_{z\\sim Q}\\left[\\log P(X|z)  \\right]$ depends not just on the parameters of $P$, but also on the parameters of $Q$.\n",
    "\n",
    "In order to make VAEs work, it is essential to drive $Q$ to produce codes for $X$ that $P$ can reliably decode."
   ]
  },
  {
   "cell_type": "markdown",
   "id": "962d7ef0",
   "metadata": {
    "editable": true
   },
   "source": [
    "$$\n",
    "E_{X\\sim D}\\left[E_{\\epsilon\\sim\\mathcal{N}(0,I)}[\\log P(X|z=\\mu(X)+\\Sigma^{1/2}(X)*\\epsilon)]-\\mathcal{D}\\left[Q(z|X)\\|P(z)\\right]\\right].\n",
    "$$"
   ]
  },
  {
   "cell_type": "markdown",
   "id": "f6f3c2d1",
   "metadata": {
    "editable": true
   },
   "source": [
    "## Code examples using Keras\n",
    "\n",
    "Code taken from  <https://keras.io/examples/generative/vae/>"
   ]
  },
  {
   "cell_type": "code",
   "execution_count": 1,
   "id": "f36a064f",
   "metadata": {
    "collapsed": false,
    "editable": true
   },
   "outputs": [],
   "source": [
    "%matplotlib inline\n",
    "\n",
    "\"\"\"\n",
    "Title: Variational AutoEncoder\n",
    "Author: [fchollet](https://twitter.com/fchollet)\n",
    "Date created: 2020/05/03\n",
    "Last modified: 2023/11/22\n",
    "Description: Convolutional Variational AutoEncoder (VAE) trained on MNIST digits.\n",
    "Accelerator: GPU\n",
    "\"\"\"\n",
    "\n",
    "\"\"\"\n",
    "## Setup\n",
    "\"\"\"\n",
    "\n",
    "import os\n",
    "\n",
    "os.environ[\"KERAS_BACKEND\"] = \"tensorflow\"\n",
    "\n",
    "import numpy as np\n",
    "import tensorflow as tf\n",
    "import keras\n",
    "from keras import layers\n",
    "\n",
    "\"\"\"\n",
    "## Create a sampling layer\n",
    "\"\"\"\n",
    "\n",
    "\n",
    "class Sampling(layers.Layer):\n",
    "    \"\"\"Uses (z_mean, z_log_var) to sample z, the vector encoding a digit.\"\"\"\n",
    "\n",
    "    def call(self, inputs):\n",
    "        z_mean, z_log_var = inputs\n",
    "        batch = tf.shape(z_mean)[0]\n",
    "        dim = tf.shape(z_mean)[1]\n",
    "        epsilon = tf.random.normal(shape=(batch, dim))\n",
    "        return z_mean + tf.exp(0.5 * z_log_var) * epsilon\n",
    "\n",
    "\n",
    "\"\"\"\n",
    "## Build the encoder\n",
    "\"\"\"\n",
    "\n",
    "latent_dim = 2\n",
    "\n",
    "encoder_inputs = keras.Input(shape=(28, 28, 1))\n",
    "x = layers.Conv2D(32, 3, activation=\"relu\", strides=2, padding=\"same\")(encoder_inputs)\n",
    "x = layers.Conv2D(64, 3, activation=\"relu\", strides=2, padding=\"same\")(x)\n",
    "x = layers.Flatten()(x)\n",
    "x = layers.Dense(16, activation=\"relu\")(x)\n",
    "z_mean = layers.Dense(latent_dim, name=\"z_mean\")(x)\n",
    "z_log_var = layers.Dense(latent_dim, name=\"z_log_var\")(x)\n",
    "z = Sampling()([z_mean, z_log_var])\n",
    "encoder = keras.Model(encoder_inputs, [z_mean, z_log_var, z], name=\"encoder\")\n",
    "encoder.summary()\n",
    "\n",
    "\"\"\"\n",
    "## Build the decoder\n",
    "\"\"\"\n",
    "\n",
    "latent_inputs = keras.Input(shape=(latent_dim,))\n",
    "x = layers.Dense(7 * 7 * 64, activation=\"relu\")(latent_inputs)\n",
    "x = layers.Reshape((7, 7, 64))(x)\n",
    "x = layers.Conv2DTranspose(64, 3, activation=\"relu\", strides=2, padding=\"same\")(x)\n",
    "x = layers.Conv2DTranspose(32, 3, activation=\"relu\", strides=2, padding=\"same\")(x)\n",
    "decoder_outputs = layers.Conv2DTranspose(1, 3, activation=\"sigmoid\", padding=\"same\")(x)\n",
    "decoder = keras.Model(latent_inputs, decoder_outputs, name=\"decoder\")\n",
    "decoder.summary()\n",
    "\n",
    "\"\"\"\n",
    "## Define the VAE as a `Model` with a custom `train_step`\n",
    "\"\"\"\n",
    "\n",
    "\n",
    "class VAE(keras.Model):\n",
    "    def __init__(self, encoder, decoder, **kwargs):\n",
    "        super().__init__(**kwargs)\n",
    "        self.encoder = encoder\n",
    "        self.decoder = decoder\n",
    "        self.total_loss_tracker = keras.metrics.Mean(name=\"total_loss\")\n",
    "        self.reconstruction_loss_tracker = keras.metrics.Mean(\n",
    "            name=\"reconstruction_loss\"\n",
    "        )\n",
    "        self.kl_loss_tracker = keras.metrics.Mean(name=\"kl_loss\")\n",
    "\n",
    "    @property\n",
    "    def metrics(self):\n",
    "        return [\n",
    "            self.total_loss_tracker,\n",
    "            self.reconstruction_loss_tracker,\n",
    "            self.kl_loss_tracker,\n",
    "        ]\n",
    "\n",
    "    def train_step(self, data):\n",
    "        with tf.GradientTape() as tape:\n",
    "            z_mean, z_log_var, z = self.encoder(data)\n",
    "            reconstruction = self.decoder(z)\n",
    "            reconstruction_loss = tf.reduce_mean(\n",
    "                tf.reduce_sum(\n",
    "                    keras.losses.binary_crossentropy(data, reconstruction),\n",
    "                    axis=(1, 2),\n",
    "                )\n",
    "            )\n",
    "            kl_loss = -0.5 * (1 + z_log_var - tf.square(z_mean) - tf.exp(z_log_var))\n",
    "            kl_loss = tf.reduce_mean(tf.reduce_sum(kl_loss, axis=1))\n",
    "            total_loss = reconstruction_loss + kl_loss\n",
    "        grads = tape.gradient(total_loss, self.trainable_weights)\n",
    "        self.optimizer.apply_gradients(zip(grads, self.trainable_weights))\n",
    "        self.total_loss_tracker.update_state(total_loss)\n",
    "        self.reconstruction_loss_tracker.update_state(reconstruction_loss)\n",
    "        self.kl_loss_tracker.update_state(kl_loss)\n",
    "        return {\n",
    "            \"loss\": self.total_loss_tracker.result(),\n",
    "            \"reconstruction_loss\": self.reconstruction_loss_tracker.result(),\n",
    "            \"kl_loss\": self.kl_loss_tracker.result(),\n",
    "        }\n",
    "\n",
    "\n",
    "\"\"\"\n",
    "## Train the VAE\n",
    "\"\"\"\n",
    "\n",
    "(x_train, _), (x_test, _) = keras.datasets.mnist.load_data()\n",
    "mnist_digits = np.concatenate([x_train, x_test], axis=0)\n",
    "mnist_digits = np.expand_dims(mnist_digits, -1).astype(\"float32\") / 255\n",
    "\n",
    "vae = VAE(encoder, decoder)\n",
    "vae.compile(optimizer=keras.optimizers.Adam())\n",
    "vae.fit(mnist_digits, epochs=30, batch_size=128)\n",
    "\n",
    "\"\"\"\n",
    "## Display a grid of sampled digits\n",
    "\"\"\"\n",
    "\n",
    "import matplotlib.pyplot as plt\n",
    "\n",
    "\n",
    "def plot_latent_space(vae, n=30, figsize=15):\n",
    "    # display a n*n 2D manifold of digits\n",
    "    digit_size = 28\n",
    "    scale = 1.0\n",
    "    figure = np.zeros((digit_size * n, digit_size * n))\n",
    "    # linearly spaced coordinates corresponding to the 2D plot\n",
    "    # of digit classes in the latent space\n",
    "    grid_x = np.linspace(-scale, scale, n)\n",
    "    grid_y = np.linspace(-scale, scale, n)[::-1]\n",
    "\n",
    "    for i, yi in enumerate(grid_y):\n",
    "        for j, xi in enumerate(grid_x):\n",
    "            z_sample = np.array([[xi, yi]])\n",
    "            x_decoded = vae.decoder.predict(z_sample, verbose=0)\n",
    "            digit = x_decoded[0].reshape(digit_size, digit_size)\n",
    "            figure[\n",
    "                i * digit_size : (i + 1) * digit_size,\n",
    "                j * digit_size : (j + 1) * digit_size,\n",
    "            ] = digit\n",
    "\n",
    "    plt.figure(figsize=(figsize, figsize))\n",
    "    start_range = digit_size // 2\n",
    "    end_range = n * digit_size + start_range\n",
    "    pixel_range = np.arange(start_range, end_range, digit_size)\n",
    "    sample_range_x = np.round(grid_x, 1)\n",
    "    sample_range_y = np.round(grid_y, 1)\n",
    "    plt.xticks(pixel_range, sample_range_x)\n",
    "    plt.yticks(pixel_range, sample_range_y)\n",
    "    plt.xlabel(\"z[0]\")\n",
    "    plt.ylabel(\"z[1]\")\n",
    "    plt.imshow(figure, cmap=\"Greys_r\")\n",
    "    plt.show()\n",
    "\n",
    "\n",
    "plot_latent_space(vae)\n",
    "\n",
    "\"\"\"\n",
    "## Display how the latent space clusters different digit classes\n",
    "\"\"\"\n",
    "\n",
    "\n",
    "def plot_label_clusters(vae, data, labels):\n",
    "    # display a 2D plot of the digit classes in the latent space\n",
    "    z_mean, _, _ = vae.encoder.predict(data, verbose=0)\n",
    "    plt.figure(figsize=(12, 10))\n",
    "    plt.scatter(z_mean[:, 0], z_mean[:, 1], c=labels)\n",
    "    plt.colorbar()\n",
    "    plt.xlabel(\"z[0]\")\n",
    "    plt.ylabel(\"z[1]\")\n",
    "    plt.show()\n",
    "\n",
    "\n",
    "(x_train, y_train), _ = keras.datasets.mnist.load_data()\n",
    "x_train = np.expand_dims(x_train, -1).astype(\"float32\") / 255\n",
    "\n",
    "plot_label_clusters(vae, x_train, y_train)"
   ]
  },
  {
   "cell_type": "markdown",
   "id": "dcf00e8d",
   "metadata": {
    "editable": true
   },
   "source": [
    "## Code in PyTorch for VAEs"
   ]
  },
  {
   "cell_type": "code",
   "execution_count": 2,
   "id": "e68b99e3",
   "metadata": {
    "collapsed": false,
    "editable": true
   },
   "outputs": [],
   "source": [
    "import torch\n",
    "from torch.autograd import Variable\n",
    "import numpy as np\n",
    "import torch.nn.functional as F\n",
    "import torchvision\n",
    "from torchvision import transforms\n",
    "import torch.optim as optim\n",
    "from torch import nn\n",
    "import matplotlib.pyplot as plt\n",
    "from torch import distributions\n",
    "\n",
    "class Encoder(torch.nn.Module):\n",
    "    def __init__(self, D_in, H, latent_size):\n",
    "        super(Encoder, self).__init__()\n",
    "        self.linear1 = torch.nn.Linear(D_in, H)\n",
    "        self.linear2 = torch.nn.Linear(H, H)\n",
    "        self.enc_mu = torch.nn.Linear(H, latent_size)\n",
    "        self.enc_log_sigma = torch.nn.Linear(H, latent_size)\n",
    "\n",
    "    def forward(self, x):\n",
    "        x = F.relu(self.linear1(x))\n",
    "        x = F.relu(self.linear2(x))\n",
    "        mu = self.enc_mu(x)\n",
    "        log_sigma = self.enc_log_sigma(x)\n",
    "        sigma = torch.exp(log_sigma)\n",
    "        return torch.distributions.Normal(loc=mu, scale=sigma)\n",
    "\n",
    "\n",
    "class Decoder(torch.nn.Module):\n",
    "    def __init__(self, D_in, H, D_out):\n",
    "        super(Decoder, self).__init__()\n",
    "        self.linear1 = torch.nn.Linear(D_in, H)\n",
    "        self.linear2 = torch.nn.Linear(H, D_out)\n",
    "        \n",
    "\n",
    "    def forward(self, x):\n",
    "        x = F.relu(self.linear1(x))\n",
    "        mu = torch.tanh(self.linear2(x))\n",
    "        return torch.distributions.Normal(mu, torch.ones_like(mu))\n",
    "\n",
    "class VAE(torch.nn.Module):\n",
    "    def __init__(self, encoder, decoder):\n",
    "        super(VAE, self).__init__()\n",
    "        self.encoder = encoder\n",
    "        self.decoder = decoder\n",
    "\n",
    "    def forward(self, state):\n",
    "        q_z = self.encoder(state)\n",
    "        z = q_z.rsample()\n",
    "        return self.decoder(z), q_z\n",
    "\n",
    "\n",
    "transform = transforms.Compose(\n",
    "    [transforms.ToTensor(),\n",
    "     # Normalize the images to be -0.5, 0.5\n",
    "     transforms.Normalize(0.5, 1)]\n",
    "    )\n",
    "mnist = torchvision.datasets.MNIST('./', download=True, transform=transform)\n",
    "\n",
    "input_dim = 28 * 28\n",
    "batch_size = 128\n",
    "num_epochs = 100\n",
    "learning_rate = 0.001\n",
    "hidden_size = 512\n",
    "latent_size = 8\n",
    "\n",
    "if torch.cuda.is_available():\n",
    "    device = torch.device('cuda')\n",
    "else:\n",
    "    device = torch.device('cpu')\n",
    "\n",
    "dataloader = torch.utils.data.DataLoader(\n",
    "    mnist, batch_size=batch_size,\n",
    "    shuffle=True, \n",
    "    pin_memory=torch.cuda.is_available())\n",
    "\n",
    "print('Number of samples: ', len(mnist))\n",
    "\n",
    "encoder = Encoder(input_dim, hidden_size, latent_size)\n",
    "decoder = Decoder(latent_size, hidden_size, input_dim)\n",
    "\n",
    "vae = VAE(encoder, decoder).to(device)\n",
    "\n",
    "optimizer = optim.Adam(vae.parameters(), lr=learning_rate)\n",
    "for epoch in range(num_epochs):\n",
    "    for data in dataloader:\n",
    "        inputs, _ = data\n",
    "        inputs = inputs.view(-1, input_dim).to(device)\n",
    "        optimizer.zero_grad()\n",
    "        p_x, q_z = vae(inputs)\n",
    "        log_likelihood = p_x.log_prob(inputs).sum(-1).mean()\n",
    "        kl = torch.distributions.kl_divergence(\n",
    "            q_z, \n",
    "            torch.distributions.Normal(0, 1.)\n",
    "        ).sum(-1).mean()\n",
    "        loss = -(log_likelihood - kl)\n",
    "        loss.backward()\n",
    "        optimizer.step()\n",
    "        l = loss.item()\n",
    "    print(epoch, l, log_likelihood.item(), kl.item())"
   ]
  },
  {
   "cell_type": "markdown",
   "id": "1d5cb934",
   "metadata": {
    "editable": true
   },
   "source": [
    "## What is a GAN?\n",
    "\n",
    "A GAN is a deep neural network which consists of two networks, a\n",
    "so-called generator network and a discriminating network, or just\n",
    "discriminator. Through several iterations of generation and\n",
    "discrimination, the idea is that these networks will train each other,\n",
    "while also trying to outsmart each other."
   ]
  },
  {
   "cell_type": "markdown",
   "id": "3bbc8b1d",
   "metadata": {
    "editable": true
   },
   "source": [
    "## What is a generator network?\n",
    "\n",
    "A generator network is often a deep network which uses existing data\n",
    "to generate new data (from for example simulations of physical\n",
    "systems, imagesm video, audio and more) from randomly generated\n",
    "inputs, the so-called latent space. Training the network allows us to\n",
    "generate say new data, images etc. As an example a generator network\n",
    "could for example be a Boltzmann machine as discussed earlier. This\n",
    "machine is trained to produce for example a quantum mechanical\n",
    "probability distribution.\n",
    "\n",
    "It can a simple neural network with an input layer and an output layer and a given number of hidden layers."
   ]
  },
  {
   "cell_type": "markdown",
   "id": "97998997",
   "metadata": {
    "editable": true
   },
   "source": [
    "## And what is a discriminator network?\n",
    "\n",
    "A discriminator tries to distinguish between real data and those generated by the abovementioned generator."
   ]
  },
  {
   "cell_type": "markdown",
   "id": "0cf6f221",
   "metadata": {
    "editable": true
   },
   "source": [
    "## Appplications of GANs\n",
    "\n",
    "There are exteremely many applications of GANs\n",
    "1. Image generation\n",
    "\n",
    "2. Text-to-image analysis\n",
    "\n",
    "3. Face-aging\n",
    "\n",
    "4. Image-to-image translation\n",
    "\n",
    "5. Video synthesis\n",
    "\n",
    "6. High-resolution image generation\n",
    "\n",
    "7. Completing missing parts of images and much more"
   ]
  },
  {
   "cell_type": "markdown",
   "id": "424170fd",
   "metadata": {
    "editable": true
   },
   "source": [
    "## Generative Adversarial Networks\n",
    "\n",
    "**Generative Adversarial Networks** are a type of unsupervised machine learning\n",
    "algorithm proposed by Goodfellow et. al, see <https://arxiv.org/pdf/1406.2661.pdf>\n",
    "in 2014 (Read the paper first it's only 6 pages). The simplest formulation of\n",
    "the model is based on a game theoretic approach, *zero sum game*, where we pit\n",
    "two neural networks against one another. We define two rival networks, one\n",
    "generator $g$, and one discriminator $d$. The generator directly produces\n",
    "samples"
   ]
  },
  {
   "cell_type": "markdown",
   "id": "30078aef",
   "metadata": {
    "editable": true
   },
   "source": [
    "$$\n",
    "x = g(z; \\theta^{(g)}).\n",
    "$$"
   ]
  },
  {
   "cell_type": "markdown",
   "id": "503c895d",
   "metadata": {
    "editable": true
   },
   "source": [
    "## Discriminator\n",
    "\n",
    "The discriminator attempts to distinguish between samples drawn from the\n",
    "training data and samples drawn from the generator. In other words, it tries to\n",
    "tell the difference between the fake data produced by $g$ and the actual data\n",
    "samples we want to do prediction on. The discriminator outputs a probability\n",
    "value given by"
   ]
  },
  {
   "cell_type": "markdown",
   "id": "f34733bd",
   "metadata": {
    "editable": true
   },
   "source": [
    "$$\n",
    "d(x; \\theta^{(d)}).\n",
    "$$"
   ]
  },
  {
   "cell_type": "markdown",
   "id": "97bf4484",
   "metadata": {
    "editable": true
   },
   "source": [
    "indicating the probability that $x$ is a real training example rather than a\n",
    "fake sample the generator has generated."
   ]
  },
  {
   "cell_type": "markdown",
   "id": "48fc3642",
   "metadata": {
    "editable": true
   },
   "source": [
    "## Zero-sum game\n",
    "\n",
    "The simplest way to formulate the\n",
    "learning process in a generative adversarial network is a zero-sum game, in\n",
    "which a function"
   ]
  },
  {
   "cell_type": "markdown",
   "id": "897f2f0f",
   "metadata": {
    "editable": true
   },
   "source": [
    "$$\n",
    "v(\\theta^{(g)}, \\theta^{(d)}),\n",
    "$$"
   ]
  },
  {
   "cell_type": "markdown",
   "id": "06d45d17",
   "metadata": {
    "editable": true
   },
   "source": [
    "determines the reward for the discriminator, while the generator gets the\n",
    "conjugate reward"
   ]
  },
  {
   "cell_type": "markdown",
   "id": "80632a7f",
   "metadata": {
    "editable": true
   },
   "source": [
    "$$\n",
    "-v(\\theta^{(g)}, \\theta^{(d)})\n",
    "$$"
   ]
  },
  {
   "cell_type": "markdown",
   "id": "40d470fa",
   "metadata": {
    "editable": true
   },
   "source": [
    "## Maximizing reward\n",
    "\n",
    "During learning both of the networks maximize their own reward function, so that\n",
    "the generator gets better and better at tricking the discriminator, while the\n",
    "discriminator gets better and better at telling the difference between the fake\n",
    "and real data. The generator and discriminator alternate on which one trains at\n",
    "one time (i.e. for one epoch). In other words, we keep the generator constant\n",
    "and train the discriminator, then we keep the discriminator constant to train\n",
    "the generator and repeat. It is this back and forth dynamic which lets GANs\n",
    "tackle otherwise intractable generative problems. As the generator improves with\n",
    " training, the discriminator's performance gets worse because it cannot easily\n",
    " tell the difference between real and fake. If the generator ends up succeeding\n",
    " perfectly, the the discriminator will do no better than random guessing i.e.\n",
    " 50\\%."
   ]
  },
  {
   "cell_type": "markdown",
   "id": "2d52aa0a",
   "metadata": {
    "editable": true
   },
   "source": [
    "## Progression in training\n",
    "\n",
    "This progression in the training poses a problem for the convergence\n",
    " criteria for GANs. The discriminator feedback gets less meaningful over time,\n",
    " if we continue training after this point then the generator is effectively\n",
    " training on junk data which can undo the learning up to that point. Therefore,\n",
    " we stop training when the discriminator starts outputting $1/2$ everywhere.\n",
    " At convergence we have"
   ]
  },
  {
   "cell_type": "markdown",
   "id": "c35d1000",
   "metadata": {
    "editable": true
   },
   "source": [
    "$$\n",
    "g^* = \\underset{g}{\\mathrm{argmin}}\\hspace{2pt}\n",
    "          \\underset{d}{\\mathrm{max}}v(\\theta^{(g)}, \\theta^{(d)}),\n",
    "$$"
   ]
  },
  {
   "cell_type": "markdown",
   "id": "f35e4a88",
   "metadata": {
    "editable": true
   },
   "source": [
    "## Deafault choice\n",
    "The default choice for $v$ is"
   ]
  },
  {
   "cell_type": "markdown",
   "id": "f43806e6",
   "metadata": {
    "editable": true
   },
   "source": [
    "$$\n",
    "v(\\theta^{(g)}, \\theta^{(d)}) = \\mathbb{E}_{x\\sim p_\\mathrm{data}}\\log d(x)\n",
    "                                  + \\mathbb{E}_{x\\sim p_\\mathrm{model}}\n",
    "                                  \\log (1 - d(x)).\n",
    "$$"
   ]
  },
  {
   "cell_type": "markdown",
   "id": "3752063d",
   "metadata": {
    "editable": true
   },
   "source": [
    "## Design of GANs\n",
    "The main motivation for the design of GANs is that the learning process requires\n",
    "neither approximate inference (variational autoencoders for example) nor\n",
    "approximation of a partition function. In the case where"
   ]
  },
  {
   "cell_type": "markdown",
   "id": "4223d887",
   "metadata": {
    "editable": true
   },
   "source": [
    "$$\n",
    "\\underset{d}{\\mathrm{max}}v(\\theta^{(g)}, \\theta^{(d)})\n",
    "$$"
   ]
  },
  {
   "cell_type": "markdown",
   "id": "c19ec75f",
   "metadata": {
    "editable": true
   },
   "source": [
    "is convex in $\\theta^{(g)}$ then the procedure is guaranteed to converge and is\n",
    "asymptotically consistent\n",
    "( [Seth Lloyd on QuGANs](https://arxiv.org/pdf/1804.09139.pdf)  ). This is in\n",
    "general not the case and it is possible to get situations where the training\n",
    "process never converges because the generator and discriminator chase one\n",
    "another around in the parameter space indefinitely."
   ]
  },
  {
   "cell_type": "markdown",
   "id": "31eaed1f",
   "metadata": {
    "editable": true
   },
   "source": [
    "## More references\n",
    "\n",
    "A much deeper discussion on\n",
    "the currently open research problem of GAN convergence is available\n",
    "from <https://www.deeplearningbook.org/contents/generative_models.html>. To\n",
    "anyone interested in learning more about GANs it is a highly recommended read.\n",
    "Direct quote: **In this best-performing formulation, the generator aims to\n",
    "increase the log probability that the discriminator makes a mistake, rather than\n",
    "aiming to decrease the log probability that the discriminator makes the correct\n",
    "prediction.** Another interesting read can be found at <https://arxiv.org/abs/1701.00160>."
   ]
  },
  {
   "cell_type": "markdown",
   "id": "217b5262",
   "metadata": {
    "editable": true
   },
   "source": [
    "## Writing Our First Generative Adversarial Network\n",
    "\n",
    "This part is best seen using the jupyter-notebook.\n",
    "\n",
    "Let us implement a GAN in tensorflow. We will study\n",
    "the performance of our GAN on the MNIST dataset. This code is based on and\n",
    "adapted from the Google tutorial at <https://www.tensorflow.org/tutorials/generative/dcgan>\n",
    "\n",
    "First we import our libraries"
   ]
  },
  {
   "cell_type": "code",
   "execution_count": 3,
   "id": "6d02565c",
   "metadata": {
    "collapsed": false,
    "editable": true
   },
   "outputs": [],
   "source": [
    "import os\n",
    "import time\n",
    "import numpy as np\n",
    "import tensorflow as tf\n",
    "import matplotlib.pyplot as plt\n",
    "from tensorflow.keras import layers\n",
    "from tensorflow.keras.utils import plot_model"
   ]
  },
  {
   "cell_type": "markdown",
   "id": "83c6964a",
   "metadata": {
    "editable": true
   },
   "source": [
    "Next we define our hyperparameters and import our data the usual way"
   ]
  },
  {
   "cell_type": "code",
   "execution_count": 4,
   "id": "f96844de",
   "metadata": {
    "collapsed": false,
    "editable": true
   },
   "outputs": [],
   "source": [
    "BUFFER_SIZE = 60000\n",
    "BATCH_SIZE = 256\n",
    "EPOCHS = 30\n",
    "\n",
    "data = tf.keras.datasets.mnist.load_data()\n",
    "(train_images, train_labels), (test_images, test_labels) = data\n",
    "train_images = np.reshape(train_images, (train_images.shape[0],\n",
    "                                         28,\n",
    "                                         28,\n",
    "                                         1)).astype('float32')\n",
    "\n",
    "# we normalize between -1 and 1\n",
    "train_images = (train_images - 127.5) / 127.5\n",
    "training_dataset = tf.data.Dataset.from_tensor_slices(\n",
    "                      train_images).shuffle(BUFFER_SIZE).batch(BATCH_SIZE)"
   ]
  },
  {
   "cell_type": "markdown",
   "id": "c538a31b",
   "metadata": {
    "editable": true
   },
   "source": [
    "Let's have a quick look"
   ]
  },
  {
   "cell_type": "code",
   "execution_count": 5,
   "id": "1bbef35e",
   "metadata": {
    "collapsed": false,
    "editable": true
   },
   "outputs": [],
   "source": [
    "plt.imshow(train_images[0], cmap='Greys')\n",
    "plt.show()"
   ]
  },
  {
   "cell_type": "markdown",
   "id": "9e19cf3d",
   "metadata": {
    "editable": true
   },
   "source": [
    "Now we define our two models. This is where the 'magic' happens. There are a\n",
    "huge amount of possible formulations for both models. A lot of engineering and\n",
    "trial and error can be done here to try to produce better performing models. For\n",
    "more advanced GANs this is by far the step where you can 'make or break' a\n",
    "model.\n",
    "\n",
    "We start with the generator. As stated in the introductory text the generator\n",
    "$g$ upsamples from a random sample to the shape of what we want to predict. In\n",
    "our case we are trying to predict MNIST images ($28\\times 28$ pixels)."
   ]
  },
  {
   "cell_type": "code",
   "execution_count": 6,
   "id": "62db4ec6",
   "metadata": {
    "collapsed": false,
    "editable": true
   },
   "outputs": [],
   "source": [
    "def generator_model():\n",
    "    \"\"\"\n",
    "    The generator uses upsampling layers tf.keras.layers.Conv2DTranspose() to\n",
    "    produce an image from a random seed. We start with a Dense layer taking this\n",
    "    random sample as an input and subsequently upsample through multiple\n",
    "    convolutional layers.\n",
    "    \"\"\"\n",
    "\n",
    "    # we define our model\n",
    "    model = tf.keras.Sequential()\n",
    "\n",
    "\n",
    "    # adding our input layer. Dense means that every neuron is connected and\n",
    "    # the input shape is the shape of our random noise. The units need to match\n",
    "    # in some sense the upsampling strides to reach our desired output shape.\n",
    "    # we are using 100 random numbers as our seed\n",
    "    model.add(layers.Dense(units=7*7*BATCH_SIZE,\n",
    "                           use_bias=False,\n",
    "                           input_shape=(100, )))\n",
    "    # we normalize the output form the Dense layer\n",
    "    model.add(layers.BatchNormalization())\n",
    "    # and add an activation function to our 'layer'. LeakyReLU avoids vanishing\n",
    "    # gradient problem\n",
    "    model.add(layers.LeakyReLU())\n",
    "    model.add(layers.Reshape((7, 7, BATCH_SIZE)))\n",
    "    assert model.output_shape == (None, 7, 7, BATCH_SIZE)\n",
    "    # even though we just added four keras layers we think of everything above\n",
    "    # as 'one' layer\n",
    "\n",
    "    # next we add our upscaling convolutional layers\n",
    "    model.add(layers.Conv2DTranspose(filters=128,\n",
    "                                     kernel_size=(5, 5),\n",
    "                                     strides=(1, 1),\n",
    "                                     padding='same',\n",
    "                                     use_bias=False))\n",
    "    model.add(layers.BatchNormalization())\n",
    "    model.add(layers.LeakyReLU())\n",
    "    assert model.output_shape == (None, 7, 7, 128)\n",
    "\n",
    "    model.add(layers.Conv2DTranspose(filters=64,\n",
    "                                     kernel_size=(5, 5),\n",
    "                                     strides=(2, 2),\n",
    "                                     padding='same',\n",
    "                                     use_bias=False))\n",
    "    model.add(layers.BatchNormalization())\n",
    "    model.add(layers.LeakyReLU())\n",
    "    assert model.output_shape == (None, 14, 14, 64)\n",
    "\n",
    "    model.add(layers.Conv2DTranspose(filters=1,\n",
    "                                     kernel_size=(5, 5),\n",
    "                                     strides=(2, 2),\n",
    "                                     padding='same',\n",
    "                                     use_bias=False,\n",
    "                                     activation='tanh'))\n",
    "    assert model.output_shape == (None, 28, 28, 1)\n",
    "\n",
    "    return model"
   ]
  },
  {
   "cell_type": "markdown",
   "id": "12398e5b",
   "metadata": {
    "editable": true
   },
   "source": [
    "And there we have our 'simple' generator model. Now we move on to defining our\n",
    "discriminator model $d$, which is a convolutional neural network based image\n",
    "classifier."
   ]
  },
  {
   "cell_type": "code",
   "execution_count": 7,
   "id": "08c1617a",
   "metadata": {
    "collapsed": false,
    "editable": true
   },
   "outputs": [],
   "source": [
    "def discriminator_model():\n",
    "    \"\"\"\n",
    "    The discriminator is a convolutional neural network based image classifier\n",
    "    \"\"\"\n",
    "\n",
    "    # we define our model\n",
    "    model = tf.keras.Sequential()\n",
    "    model.add(layers.Conv2D(filters=64,\n",
    "                            kernel_size=(5, 5),\n",
    "                            strides=(2, 2),\n",
    "                            padding='same',\n",
    "                            input_shape=[28, 28, 1]))\n",
    "    model.add(layers.LeakyReLU())\n",
    "    # adding a dropout layer as you do in conv-nets\n",
    "    model.add(layers.Dropout(0.3))\n",
    "\n",
    "\n",
    "    model.add(layers.Conv2D(filters=128,\n",
    "                            kernel_size=(5, 5),\n",
    "                            strides=(2, 2),\n",
    "                            padding='same'))\n",
    "    model.add(layers.LeakyReLU())\n",
    "    # adding a dropout layer as you do in conv-nets\n",
    "    model.add(layers.Dropout(0.3))\n",
    "\n",
    "    model.add(layers.Flatten())\n",
    "    model.add(layers.Dense(1))\n",
    "\n",
    "    return model"
   ]
  },
  {
   "cell_type": "markdown",
   "id": "75a1d15e",
   "metadata": {
    "editable": true
   },
   "source": [
    "Let us take a look at our models. **Note**: double click images for bigger view."
   ]
  },
  {
   "cell_type": "code",
   "execution_count": 8,
   "id": "43e4528f",
   "metadata": {
    "collapsed": false,
    "editable": true
   },
   "outputs": [],
   "source": [
    "generator = generator_model()\n",
    "plot_model(generator, show_shapes=True, rankdir='LR')"
   ]
  },
  {
   "cell_type": "code",
   "execution_count": 9,
   "id": "928f11ef",
   "metadata": {
    "collapsed": false,
    "editable": true
   },
   "outputs": [],
   "source": [
    "discriminator = discriminator_model()\n",
    "plot_model(discriminator, show_shapes=True, rankdir='LR')"
   ]
  },
  {
   "cell_type": "markdown",
   "id": "a34d5b8a",
   "metadata": {
    "editable": true
   },
   "source": [
    "Next we need a few helper objects we will use in training"
   ]
  },
  {
   "cell_type": "code",
   "execution_count": 10,
   "id": "bc8244fe",
   "metadata": {
    "collapsed": false,
    "editable": true
   },
   "outputs": [],
   "source": [
    "cross_entropy = tf.keras.losses.BinaryCrossentropy(from_logits=True)\n",
    "generator_optimizer = tf.keras.optimizers.Adam(1e-4)\n",
    "discriminator_optimizer = tf.keras.optimizers.Adam(1e-4)"
   ]
  },
  {
   "cell_type": "markdown",
   "id": "07254608",
   "metadata": {
    "editable": true
   },
   "source": [
    "The first object, $cross\\_entropy$ is our loss function and the two others are\n",
    "our optimizers. Notice we use the same learning rate for both $g$ and $d$. This\n",
    "is because they need to improve their accuracy at approximately equal speeds to\n",
    "get convergence (not necessarily exactly equal). Now we define our loss\n",
    "functions"
   ]
  },
  {
   "cell_type": "code",
   "execution_count": 11,
   "id": "62cdd9a8",
   "metadata": {
    "collapsed": false,
    "editable": true
   },
   "outputs": [],
   "source": [
    "def generator_loss(fake_output):\n",
    "    loss = cross_entropy(tf.ones_like(fake_output), fake_output)\n",
    "\n",
    "    return loss"
   ]
  },
  {
   "cell_type": "code",
   "execution_count": 12,
   "id": "f5e0108d",
   "metadata": {
    "collapsed": false,
    "editable": true
   },
   "outputs": [],
   "source": [
    "def discriminator_loss(real_output, fake_output):\n",
    "    real_loss = cross_entropy(tf.ones_like(real_output), real_output)\n",
    "    fake_loss = cross_entropy(tf.zeros_liks(fake_output), fake_output)\n",
    "    total_loss = real_loss + fake_loss\n",
    "\n",
    "    return total_loss"
   ]
  },
  {
   "cell_type": "markdown",
   "id": "1bc5e648",
   "metadata": {
    "editable": true
   },
   "source": [
    "Next we define a kind of seed to help us compare the learning process over\n",
    "multiple training epochs."
   ]
  },
  {
   "cell_type": "code",
   "execution_count": 13,
   "id": "77453e67",
   "metadata": {
    "collapsed": false,
    "editable": true
   },
   "outputs": [],
   "source": [
    "noise_dimension = 100\n",
    "n_examples_to_generate = 16\n",
    "seed_images = tf.random.normal([n_examples_to_generate, noise_dimension])"
   ]
  },
  {
   "cell_type": "markdown",
   "id": "92c69ddf",
   "metadata": {
    "editable": true
   },
   "source": [
    "Now we have everything we need to define our training step, which we will apply\n",
    "for every step in our training loop. Notice the @tf.function flag signifying\n",
    "that the function is tensorflow 'compiled'. Removing this flag doubles the\n",
    "computation time."
   ]
  },
  {
   "cell_type": "code",
   "execution_count": 14,
   "id": "c7dfed33",
   "metadata": {
    "collapsed": false,
    "editable": true
   },
   "outputs": [],
   "source": [
    "@tf.function\n",
    "def train_step(images):\n",
    "    noise = tf.random.normal([BATCH_SIZE, noise_dimension])\n",
    "\n",
    "    with tf.GradientTape() as gen_tape, tf.GradientTape() as disc_tape:\n",
    "        generated_images = generator(noise, training=True)\n",
    "\n",
    "        real_output = discriminator(images, training=True)\n",
    "        fake_output = discriminator(generated_images, training=True)\n",
    "\n",
    "        gen_loss = generator_loss(fake_output)\n",
    "        disc_loss = discriminator_loss(real_output, fake_output)\n",
    "\n",
    "    gradients_of_generator = gen_tape.gradient(gen_loss,\n",
    "                                            generator.trainable_variables)\n",
    "    gradients_of_discriminator = disc_tape.gradient(disc_loss,\n",
    "                                            discriminator.trainable_variables)\n",
    "    generator_optimizer.apply_gradients(zip(gradients_of_generator,\n",
    "                                            generator.trainable_variables))\n",
    "    discriminator_optimizer.apply_gradients(zip(gradients_of_discriminator,\n",
    "                                            discriminator.trainable_variables))\n",
    "\n",
    "    return gen_loss, disc_loss"
   ]
  },
  {
   "cell_type": "markdown",
   "id": "f27cfdc1",
   "metadata": {
    "editable": true
   },
   "source": [
    "Next we define a helper function to produce an output over our training epochs\n",
    "to see the predictive progression of our generator model. **Note**: I am including\n",
    "this code here, but comment it out in the training loop."
   ]
  },
  {
   "cell_type": "code",
   "execution_count": 15,
   "id": "92254266",
   "metadata": {
    "collapsed": false,
    "editable": true
   },
   "outputs": [],
   "source": [
    "def generate_and_save_images(model, epoch, test_input):\n",
    "    # we're making inferences here\n",
    "    predictions = model(test_input, training=False)\n",
    "\n",
    "    fig = plt.figure(figsize=(4, 4))\n",
    "\n",
    "    for i in range(predictions.shape[0]):\n",
    "        plt.subplot(4, 4, i+1)\n",
    "        plt.imshow(predictions[i, :, :, 0] * 127.5 + 127.5, cmap='gray')\n",
    "        plt.axis('off')\n",
    "\n",
    "    plt.savefig(f'./images_from_seed_images/image_at_epoch_{str(epoch).zfill(3)}.png')\n",
    "    plt.close()\n",
    "    #plt.show()"
   ]
  },
  {
   "cell_type": "markdown",
   "id": "fb2b9d9e",
   "metadata": {
    "editable": true
   },
   "source": [
    "Setting up checkpoints to periodically save our model during training so that\n",
    "everything is not lost even if the program were to somehow terminate while\n",
    "training."
   ]
  },
  {
   "cell_type": "code",
   "execution_count": 16,
   "id": "002a64e1",
   "metadata": {
    "collapsed": false,
    "editable": true
   },
   "outputs": [],
   "source": [
    "# Setting up checkpoints to save model during training\n",
    "checkpoint_dir = './training_checkpoints'\n",
    "checkpoint_prefix = os.path.join(checkpoint_dir, 'ckpt')\n",
    "checkpoint = tf.train.Checkpoint(generator_optimizer=generator_optimizer,\n",
    "                            discriminator_optimizer=discriminator_optimizer,\n",
    "                            generator=generator,\n",
    "                            discriminator=discriminator)"
   ]
  },
  {
   "cell_type": "markdown",
   "id": "8cfdb5c6",
   "metadata": {
    "editable": true
   },
   "source": [
    "Now we define our training loop"
   ]
  },
  {
   "cell_type": "code",
   "execution_count": 17,
   "id": "fdfd1102",
   "metadata": {
    "collapsed": false,
    "editable": true
   },
   "outputs": [],
   "source": [
    "def train(dataset, epochs):\n",
    "    generator_loss_list = []\n",
    "    discriminator_loss_list = []\n",
    "\n",
    "    for epoch in range(epochs):\n",
    "        start = time.time()\n",
    "\n",
    "        for image_batch in dataset:\n",
    "            gen_loss, disc_loss = train_step(image_batch)\n",
    "            generator_loss_list.append(gen_loss.numpy())\n",
    "            discriminator_loss_list.append(disc_loss.numpy())\n",
    "\n",
    "        #generate_and_save_images(generator, epoch + 1, seed_images)\n",
    "\n",
    "        if (epoch + 1) % 15 == 0:\n",
    "            checkpoint.save(file_prefix=checkpoint_prefix)\n",
    "\n",
    "        print(f'Time for epoch {epoch} is {time.time() - start}')\n",
    "\n",
    "    #generate_and_save_images(generator, epochs, seed_images)\n",
    "\n",
    "    loss_file = './data/lossfile.txt'\n",
    "    with open(loss_file, 'w') as outfile:\n",
    "        outfile.write(str(generator_loss_list))\n",
    "        outfile.write('\\n')\n",
    "        outfile.write('\\n')\n",
    "        outfile.write(str(discriminator_loss_list))\n",
    "        outfile.write('\\n')\n",
    "        outfile.write('\\n')"
   ]
  },
  {
   "cell_type": "markdown",
   "id": "ed25dd6d",
   "metadata": {
    "editable": true
   },
   "source": [
    "To train simply call this function. **Warning**: this might take a long time so\n",
    "there is a folder of a pretrained network already included in the repository."
   ]
  },
  {
   "cell_type": "code",
   "execution_count": 18,
   "id": "97b724d7",
   "metadata": {
    "collapsed": false,
    "editable": true
   },
   "outputs": [],
   "source": [
    "train(train_dataset, EPOCHS)"
   ]
  },
  {
   "cell_type": "markdown",
   "id": "e98a8685",
   "metadata": {
    "editable": true
   },
   "source": [
    "And here is the result of training our model for 100 epochs\n",
    "\n",
    "<!-- dom:MOVIE: [images_from_seed_images/generation.gif] -->\n",
    "<!-- begin movie -->"
   ]
  },
  {
   "cell_type": "code",
   "execution_count": 19,
   "id": "44225fc9",
   "metadata": {
    "collapsed": false,
    "editable": true
   },
   "outputs": [],
   "source": [
    "from IPython.display import HTML\n",
    "_s = \"\"\"\n",
    "<embed src=\"images_from_seed_images/generation.gif\"  autoplay=\"false\" loop=\"true\"></embed>\n",
    "<p><em></em></p>\n",
    "\"\"\"\n",
    "HTML(_s)"
   ]
  },
  {
   "cell_type": "markdown",
   "id": "e614486f",
   "metadata": {
    "editable": true
   },
   "source": [
    "<!-- end movie -->\n",
    "\n",
    "Now to avoid having to train and everything, which will take a while depending\n",
    "on your computer setup we now load in the model which produced the above gif."
   ]
  },
  {
   "cell_type": "code",
   "execution_count": 20,
   "id": "399c3433",
   "metadata": {
    "collapsed": false,
    "editable": true
   },
   "outputs": [],
   "source": [
    "checkpoint.restore(tf.train.latest_checkpoint(checkpoint_dir))\n",
    "restored_generator = checkpoint.generator\n",
    "restored_discriminator = checkpoint.discriminator\n",
    "\n",
    "print(restored_generator)\n",
    "print(restored_discriminator)"
   ]
  },
  {
   "cell_type": "markdown",
   "id": "fb9be550",
   "metadata": {
    "editable": true
   },
   "source": [
    "## Exploring the Latent Space\n",
    "\n",
    "So we have successfully loaded in our latest model. Let us now play around a bit\n",
    "and see what kind of things we can learn about this model. Our generator takes\n",
    "an array of 100 numbers. One idea can be to try to systematically change our\n",
    "input. Let us try and see what we get"
   ]
  },
  {
   "cell_type": "code",
   "execution_count": 21,
   "id": "5a38e464",
   "metadata": {
    "collapsed": false,
    "editable": true
   },
   "outputs": [],
   "source": [
    "def generate_latent_points(number=100, scale_means=1, scale_stds=1):\n",
    "    latent_dim = 100\n",
    "    means = scale_means * tf.linspace(-1, 1, num=latent_dim)\n",
    "    stds = scale_stds * tf.linspace(-1, 1, num=latent_dim)\n",
    "    latent_space_value_range = tf.random.normal([number, number],\n",
    "                                                means,\n",
    "                                                stds,\n",
    "                                                dtype=tf.float64)\n",
    "\n",
    "    return latent_space_value_range\n",
    "\n",
    "def generate_images(latent_points):\n",
    "    # notice we set training to false because we are making inferences\n",
    "    generated_images = restored_generator(latent_space_value_range,\n",
    "                                          training=False)\n",
    "\n",
    "    return generated_images"
   ]
  },
  {
   "cell_type": "code",
   "execution_count": 22,
   "id": "f7ab6cbb",
   "metadata": {
    "collapsed": false,
    "editable": true
   },
   "outputs": [],
   "source": [
    "def plot_result(generated_images, number):\n",
    "    # obviously this assumes sqrt number is an int\n",
    "    fig, axs = plt.subplots(int(np.sqrt(number)), int(np.sqrt(number)),\n",
    "                            figsize=(10, 10))\n",
    "\n",
    "    for i in range(int(np.sqrt(number))):\n",
    "        for j in range(int(np.sqrt(number))):\n",
    "            axs[i, j].imshow(generated_images[i*j], cmap='Greys')\n",
    "            axs[i, j].axis('off')\n",
    "\n",
    "    plt.show()"
   ]
  },
  {
   "cell_type": "code",
   "execution_count": 23,
   "id": "031505e2",
   "metadata": {
    "collapsed": false,
    "editable": true
   },
   "outputs": [],
   "source": [
    "generated_images = generate_images(generate_latent_points())\n",
    "plot_result(generated_images, number)"
   ]
  },
  {
   "cell_type": "markdown",
   "id": "c4765060",
   "metadata": {
    "editable": true
   },
   "source": [
    "Interesting! We see that the generator generates images that look like MNIST\n",
    "numbers: $1, 4, 7, 9$. Let's try to tweak it a bit more to see if we are able\n",
    "to generate a similar plot where we generate every MNIST number. Let us now try\n",
    "to 'move' a bit around in the latent space. **Note**: decrease the plot number if\n",
    "these following cells take too long to run on your computer."
   ]
  },
  {
   "cell_type": "code",
   "execution_count": 24,
   "id": "cb183b10",
   "metadata": {
    "collapsed": false,
    "editable": true
   },
   "outputs": [],
   "source": [
    "plot_number = 225\n",
    "\n",
    "generated_images = generate_images(generate_latent_points(number=plot_number,\n",
    "                                                          scale_means=5,\n",
    "                                                          scale_stds=1))\n",
    "plot_result(generated_images, plot_number)\n",
    "\n",
    "generated_images = generate_images(generate_latent_points(number=plot_number,\n",
    "                                                          scale_means=-5,\n",
    "                                                          scale_stds=1))\n",
    "plot_result(generated_images, plot_number)\n",
    "\n",
    "generated_images = generate_images(generate_latent_points(number=plot_number,\n",
    "                                                          scale_means=1,\n",
    "                                                          scale_stds=5))\n",
    "plot_result(generated_images, plot_number)"
   ]
  },
  {
   "cell_type": "markdown",
   "id": "e9b10b86",
   "metadata": {
    "editable": true
   },
   "source": [
    "Again, we have found something interesting. *Moving* around using our means\n",
    "takes us from digit to digit, while *moving* around using our standard\n",
    "deviations seem to increase the number of different digits! In the last image\n",
    "above, we can barely make out every MNIST digit. Let us make on last plot using\n",
    "this information by upping the standard deviation of our Gaussian noises."
   ]
  },
  {
   "cell_type": "code",
   "execution_count": 25,
   "id": "795f437e",
   "metadata": {
    "collapsed": false,
    "editable": true
   },
   "outputs": [],
   "source": [
    "plot_number = 400\n",
    "generated_images = generate_images(generate_latent_points(number=plot_number,\n",
    "                                                          scale_means=1,\n",
    "                                                          scale_stds=10))"
   ]
  },
  {
   "cell_type": "markdown",
   "id": "ea69b3b7",
   "metadata": {
    "editable": true
   },
   "source": [
    "A pretty cool result! We see that our generator indeed has learned a\n",
    "distribution which qualitatively looks a whole lot like the MNIST dataset."
   ]
  }
 ],
 "metadata": {},
 "nbformat": 4,
 "nbformat_minor": 5
}
