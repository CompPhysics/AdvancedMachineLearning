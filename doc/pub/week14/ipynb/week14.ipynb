{
 "cells": [
  {
   "cell_type": "markdown",
   "id": "0574a5d1",
   "metadata": {
    "editable": true
   },
   "source": [
    "<!-- HTML file automatically generated from DocOnce source (https://github.com/doconce/doconce/)\n",
    "doconce format html week14.do.txt --no_mako -->\n",
    "<!-- dom:TITLE: May 1-5: Advanced machine learning and data analysis for the physical sciences -->"
   ]
  },
  {
   "cell_type": "markdown",
   "id": "e7240a0d",
   "metadata": {
    "editable": true
   },
   "source": [
    "# May 1-5: Advanced machine learning and data analysis for the physical sciences\n",
    "**Morten Hjorth-Jensen**, Department of Physics and Center for Computing in Science Education, University of Oslo, Norway and Department of Physics and Astronomy and Facility for Rare Isotope Beams, Michigan State University, East Lansing, Michigan, USA\n",
    "\n",
    "Date: **May 1-5, 2023**"
   ]
  },
  {
   "cell_type": "markdown",
   "id": "d3da306d",
   "metadata": {
    "editable": true
   },
   "source": [
    "## Plans for the week May 1-5\n",
    "\n",
    "1. Gaussian processes and Bayesian statistics\n",
    "\n",
    "2. [Video of lecture](https://youtu.be/)\n",
    "\n",
    "3. [Whiteboard notes](https://github.com/CompPhysics/AdvancedMachineLearning/blob/main/doc/HandwrittenNotes/NotesApr262023.pdf)"
   ]
  }
 ],
 "metadata": {},
 "nbformat": 4,
 "nbformat_minor": 5
}
