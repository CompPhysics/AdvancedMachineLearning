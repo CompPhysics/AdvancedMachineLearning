{
 "cells": [
  {
   "cell_type": "markdown",
   "id": "b58ea603",
   "metadata": {
    "editable": true
   },
   "source": [
    "<!-- HTML file automatically generated from DocOnce source (https://github.com/doconce/doconce/)\n",
    "doconce format html week5.do.txt --no_mako -->\n",
    "<!-- dom:TITLE: Advanced machine learning and data analysis for the physical sciences -->"
   ]
  },
  {
   "cell_type": "markdown",
   "id": "9effb79d",
   "metadata": {
    "editable": true
   },
   "source": [
    "# Advanced machine learning and data analysis for the physical sciences\n",
    "**Morten Hjorth-Jensen**, Department of Physics and Center for Computing in Science Education, University of Oslo, Norway\n",
    "\n",
    "Date: **February 20, 2025**"
   ]
  },
  {
   "cell_type": "markdown",
   "id": "b952da1a",
   "metadata": {
    "editable": true
   },
   "source": [
    "## Plans for February 20\n",
    "\n",
    "1. Implementing Convolutional  Neural Networks (CNNs), own codes, TensorFlow+Keras and PyTorch examples\n",
    "\n",
    "2. Start discussion of Recurrent Neural Networks (RNNs).\n",
    "\n",
    "3. Link to project examples from 2024 at <https://github.com/CompPhysics/AdvancedMachineLearning/tree/main/doc/Projects/ProjectExamples>\n",
    "\n",
    "4. [Video of lecture](https://youtu.be/DhuQ1H9RwfQ)\n",
    "<!-- o [Whiteboard notes](https://github.com/CompPhysics/AdvancedMachineLearning/blob/main/doc/HandwrittenNotes/2025/NotesFebruary13.pdf) -->"
   ]
  },
  {
   "cell_type": "markdown",
   "id": "f574cc45",
   "metadata": {
    "editable": true
   },
   "source": [
    "## Reading recommendations\n",
    "\n",
    "1. For CNNs, see Goodfellow et al chapter 9. See also chapter 11 and 12 on practicalities and applications\n",
    "\n",
    "2. For RNNs, see Goodfellow et al chapter 10.\n",
    "\n",
    "3. Reading suggestions for implementation of CNNs in PyTorch: [See Rashcka et al.'s chapter 14 and GitHub site](https://github.com/rasbt/machine-learning-book/tree/main/ch14).\n",
    "\n",
    "4. Reading suggestions for implementation of RNNs in PyTorch: [See Rashcka et al.'s chapter 15 and GitHub site](https://github.com/rasbt/machine-learning-book/tree/main/ch15)."
   ]
  },
  {
   "cell_type": "markdown",
   "id": "8b0ec14b",
   "metadata": {
    "editable": true
   },
   "source": [
    "## TensorFlow examples\n",
    "For TensorFlow (using Keras) implementations, we recommend\n",
    "1. [David Foster Generative Learning, see chapters 2 and 3 from the GitHub link](https://github.com/davidADSP/Generative_Deep_Learning_2nd_Edition/tree/main/notebooks/02_deeplearning/02_cnn)\n",
    "\n",
    "2. [Joseph Babcock and Raghav Bali Generative AI with Python and their GitHub link, chapter 3](https://github.com/raghavbali/generative_ai_with_tensorflow)"
   ]
  },
  {
   "cell_type": "markdown",
   "id": "80d18364",
   "metadata": {
    "editable": true
   },
   "source": [
    "## CNNs in brief\n",
    "\n",
    "In summary:\n",
    "\n",
    "* A CNN architecture is in the simplest case a list of Layers that transform the image volume into an output volume (e.g. holding the class scores)\n",
    "\n",
    "* There are a few distinct types of Layers (e.g. CONV/FC/RELU/POOL are by far the most popular)\n",
    "\n",
    "* Each Layer accepts an input 3D volume and transforms it to an output 3D volume through a differentiable function\n",
    "\n",
    "* Each Layer may or may not have parameters (e.g. CONV/FC do, RELU/POOL don’t)\n",
    "\n",
    "* Each Layer may or may not have additional hyperparameters (e.g. CONV/FC/POOL do, RELU doesn’t)"
   ]
  },
  {
   "cell_type": "markdown",
   "id": "f91ea1a4",
   "metadata": {
    "editable": true
   },
   "source": [
    "## A deep CNN model ([From Raschka et al](https://github.com/rasbt/machine-learning-book))\n",
    "\n",
    "<!-- dom:FIGURE: [figslides/deepcnn.png, width=500 frac=0.67]  A deep CNN -->\n",
    "<!-- begin figure -->\n",
    "\n",
    "<img src=\"figslides/deepcnn.png\" width=\"500\"><p style=\"font-size: 0.9em\"><i>Figure 1: A deep CNN</i></p>\n",
    "<!-- end figure -->"
   ]
  },
  {
   "cell_type": "markdown",
   "id": "6f768590",
   "metadata": {
    "editable": true
   },
   "source": [
    "## Key Idea\n",
    "\n",
    "A dense neural network is representd by an affine operation (like matrix-matrix multiplication) where all parameters are included.\n",
    "\n",
    "The key idea in CNNs for say imaging is that in images neighbor pixels tend to be related! So we connect\n",
    "only neighboring neurons in the input instead of connecting all with the first hidden layer.\n",
    "\n",
    "We say we perform a filtering (convolution is the mathematical operation)."
   ]
  },
  {
   "cell_type": "markdown",
   "id": "afba0ad3",
   "metadata": {
    "editable": true
   },
   "source": [
    "## How did we do image compression before the era of deep learning\n",
    "\n",
    "The singular-value decomposition (SVD) algorithm has been for decades one of the standard ways of compressing images.\n",
    "The [lectures on the SVD](https://compphysics.github.io/MachineLearning/doc/LectureNotes/_build/html/chapter2.html#the-singular-value-decomposition) give many of the essential details concerning the SVD.\n",
    "\n",
    "The orthogonal vectors which are obtained from the SVD, can be used to\n",
    "project down the dimensionality of a given image. In the example here\n",
    "we gray-scale an image and downsize it.\n",
    "\n",
    "This recipe relies on us being able to actually perform the SVD. For\n",
    "large images, and in particular with many images to reconstruct, using the SVD \n",
    "may quickly become an overwhelming task. With the advent of efficient deep\n",
    "learning methods like CNNs and later generative methods, these methods\n",
    "have become in the last years the premier way of performing image\n",
    "analysis. In particular for classification problems with labelled images."
   ]
  },
  {
   "cell_type": "markdown",
   "id": "ad6fbace",
   "metadata": {
    "editable": true
   },
   "source": [
    "## The SVD example"
   ]
  },
  {
   "cell_type": "code",
   "execution_count": 1,
   "id": "7f9f6502",
   "metadata": {
    "collapsed": false,
    "editable": true,
    "jupyter": {
     "outputs_hidden": false
    }
   },
   "outputs": [],
   "source": [
    "%matplotlib inline\n",
    "\n",
    "from matplotlib.image import imread\n",
    "import matplotlib.pyplot as plt\n",
    "import scipy.linalg as ln\n",
    "import numpy as np\n",
    "import os\n",
    "from PIL import Image\n",
    "from math import log10, sqrt \n",
    "plt.rcParams['figure.figsize'] = [16, 8]\n",
    "# Import image\n",
    "A = imread(os.path.join(\"figslides/photo1.jpg\"))\n",
    "X = A.dot([0.299, 0.5870, 0.114]) # Convert RGB to grayscale\n",
    "img = plt.imshow(X)\n",
    "# convert to gray\n",
    "img.set_cmap('gray')\n",
    "plt.axis('off')\n",
    "plt.show()\n",
    "# Call image size\n",
    "print(': %s'%str(X.shape))\n",
    "\n",
    "\n",
    "# split the matrix into U, S, VT\n",
    "U, S, VT = np.linalg.svd(X,full_matrices=False)\n",
    "S = np.diag(S)\n",
    "m = 800 # Image's width\n",
    "n = 1200 # Image's height\n",
    "j = 0\n",
    "# Try compression with different k vectors (these represent projections):\n",
    "for k in (5,10, 20, 100,200,400,500):\n",
    "    # Original size of the image\n",
    "    originalSize = m * n \n",
    "    # Size after compressed\n",
    "    compressedSize = k * (1 + m + n) \n",
    "    # The projection of the original image\n",
    "    Xapprox = U[:,:k] @ S[0:k,:k] @ VT[:k,:]\n",
    "    plt.figure(j+1)\n",
    "    j += 1\n",
    "    img = plt.imshow(Xapprox)\n",
    "    img.set_cmap('gray')\n",
    "    \n",
    "    plt.axis('off')\n",
    "    plt.title('k = ' + str(k))\n",
    "    plt.show() \n",
    "    print('Original size of image:')\n",
    "    print(originalSize)\n",
    "    print('Compression rate as Compressed image / Original size:')\n",
    "    ratio = compressedSize * 1.0 / originalSize\n",
    "    print(ratio)\n",
    "    print('Compression rate is ' + str( round(ratio * 100 ,2)) + '%' )  \n",
    "    # Estimate MQA\n",
    "    x= X.astype(\"float\")\n",
    "    y=Xapprox.astype(\"float\")\n",
    "    err = np.sum((x - y) ** 2)\n",
    "    err /= float(X.shape[0] * Xapprox.shape[1])\n",
    "    print('The mean-square deviation '+ str(round( err)))\n",
    "    max_pixel = 255.0\n",
    "    # Estimate Signal Noise Ratio\n",
    "    srv = 20 * (log10(max_pixel / sqrt(err)))\n",
    "    print('Signa to noise ratio '+ str(round(srv)) +'dB')"
   ]
  },
  {
   "cell_type": "markdown",
   "id": "11af69ff",
   "metadata": {
    "editable": true
   },
   "source": [
    "## Examples of CNN setups\n",
    "\n",
    "Let us assume we have an input volume $V$ given by an image of dimensionality\n",
    "$32\\times 32 \\times 3$, that is three color channels and $32\\times 32$ pixels.\n",
    "\n",
    "We apply a filter of dimension $5\\times 5$ ten times with stride $S=1$ and padding $P=0$.\n",
    "\n",
    "The output volume is given by $(32-5)/1+1=28$, resulting in ten images\n",
    "of dimensionality $28\\times 28\\times 3$.\n",
    "\n",
    "The total number of parameters to train for each filter is then\n",
    "$5\\times 5\\times 3+1$, where the last parameter is the bias. This\n",
    "gives us $76$ parameters for each filter, leading to a total of $760$\n",
    "parameters for the ten filters.\n",
    "\n",
    "How many parameters will a filter of dimensionality $3\\times 3$\n",
    "(adding color channels) result in if we produce $32$ new images? Use $S=1$ and $P=0$.\n",
    "\n",
    "Note that strides constitute a form of **subsampling**. As an alternative to\n",
    "being interpreted as a measure of how much the kernel/filter is translated, strides\n",
    "can also be viewed as how much of the output is retained. For instance, moving\n",
    "the kernel by hops of two is equivalent to moving the kernel by hops of one but\n",
    "retaining only odd output elements."
   ]
  },
  {
   "cell_type": "markdown",
   "id": "aa569b0d",
   "metadata": {
    "editable": true
   },
   "source": [
    "## Summarizing: Performing a general discrete convolution ([From Raschka et al](https://github.com/rasbt/machine-learning-book))\n",
    "\n",
    "<!-- dom:FIGURE: [figslides/discreteconv1.png, width=500 frac=0.67]  A deep CNN -->\n",
    "<!-- begin figure -->\n",
    "\n",
    "<img src=\"figslides/discreteconv1.png\" width=\"500\"><p style=\"font-size: 0.9em\"><i>Figure 1: A deep CNN</i></p>\n",
    "<!-- end figure -->"
   ]
  },
  {
   "cell_type": "markdown",
   "id": "6f5514e7",
   "metadata": {
    "editable": true
   },
   "source": [
    "## Pooling\n",
    "\n",
    "In addition to discrete convolutions themselves, **pooling** operations\n",
    "make up another important building block in CNNs. Pooling operations reduce\n",
    "the size of feature maps by using some function to summarize subregions, such\n",
    "as taking the average or the maximum value.\n",
    "\n",
    "Pooling works by sliding a window across the input and feeding the content of\n",
    "the window to a **pooling function**. In some sense, pooling works very much\n",
    "like a discrete convolution, but replaces the linear combination described by\n",
    "the kernel with some other function."
   ]
  },
  {
   "cell_type": "markdown",
   "id": "4a12f2d7",
   "metadata": {
    "editable": true
   },
   "source": [
    "## Pooling arithmetic\n",
    "\n",
    "In a neural network, pooling layers provide invariance to small translations of\n",
    "the input. The most common kind of pooling is **max pooling**, which\n",
    "consists in splitting the input in (usually non-overlapping) patches and\n",
    "outputting the maximum value of each patch. Other kinds of pooling exist, e.g.,\n",
    "mean or average pooling, which all share the same idea of aggregating the input\n",
    "locally by applying a non-linearity to the content of some patches."
   ]
  },
  {
   "cell_type": "markdown",
   "id": "684a4e68",
   "metadata": {
    "editable": true
   },
   "source": [
    "## Pooling types ([From Raschka et al](https://github.com/rasbt/machine-learning-book))\n",
    "\n",
    "<!-- dom:FIGURE: [figslides/maxpooling.png, width=500 frac=0.67]  A deep CNN -->\n",
    "<!-- begin figure -->\n",
    "\n",
    "<img src=\"figslides/maxpooling.png\" width=\"500\"><p style=\"font-size: 0.9em\"><i>Figure 1: A deep CNN</i></p>\n",
    "<!-- end figure -->"
   ]
  },
  {
   "cell_type": "markdown",
   "id": "3960bde4",
   "metadata": {
    "editable": true
   },
   "source": [
    "## Building convolutional neural networks in Tensorflow and Keras\n",
    "\n",
    "As discussed above, CNNs are neural networks built from the assumption that the inputs\n",
    "to the network are 2D images. This is important because the number of features or pixels in images\n",
    "grows very fast with the image size, and an enormous number of weights and biases are needed in order to build an accurate network.  \n",
    "\n",
    "As before, we still have our input, a hidden layer and an output. What's novel about convolutional networks\n",
    "are the **convolutional** and **pooling** layers stacked in pairs between the input and the hidden layer.\n",
    "In addition, the data is no longer represented as a 2D feature matrix, instead each input is a number of 2D\n",
    "matrices, typically 1 for each color dimension (Red, Green, Blue)."
   ]
  },
  {
   "cell_type": "markdown",
   "id": "ecfdd577",
   "metadata": {
    "editable": true
   },
   "source": [
    "## Setting it up\n",
    "\n",
    "It means that to represent the entire\n",
    "dataset of images, we require a 4D matrix or **tensor**. This tensor has the dimensions:"
   ]
  },
  {
   "cell_type": "markdown",
   "id": "4731a63a",
   "metadata": {
    "editable": true
   },
   "source": [
    "$$\n",
    "(n_{inputs},\\, n_{pixels, width},\\, n_{pixels, height},\\, depth) .\n",
    "$$"
   ]
  },
  {
   "cell_type": "markdown",
   "id": "f0514d10",
   "metadata": {
    "editable": true
   },
   "source": [
    "## The MNIST dataset again\n",
    "\n",
    "The MNIST dataset consists of grayscale images with a pixel size of\n",
    "$28\\times 28$, meaning we require $28 \\times 28 = 724$ weights to each\n",
    "neuron in the first hidden layer.\n",
    "\n",
    "If we were to analyze images of size $128\\times 128$ we would require\n",
    "$128 \\times 128 = 16384$ weights to each neuron. Even worse if we were\n",
    "dealing with color images, as most images are, we have an image matrix\n",
    "of size $128\\times 128$ for each color dimension (Red, Green, Blue),\n",
    "meaning 3 times the number of weights $= 49152$ are required for every\n",
    "single neuron in the first hidden layer."
   ]
  },
  {
   "cell_type": "markdown",
   "id": "eadefaa1",
   "metadata": {
    "editable": true
   },
   "source": [
    "## Strong correlations\n",
    "\n",
    "Images typically have strong local correlations, meaning that a small\n",
    "part of the image varies little from its neighboring regions. If for\n",
    "example we have an image of a blue car, we can roughly assume that a\n",
    "small blue part of the image is surrounded by other blue regions.\n",
    "\n",
    "Therefore, instead of connecting every single pixel to a neuron in the\n",
    "first hidden layer, as we have previously done with deep neural\n",
    "networks, we can instead connect each neuron to a small part of the\n",
    "image (in all 3 RGB depth dimensions).  The size of each small area is\n",
    "fixed, and known as a [receptive](https://en.wikipedia.org/wiki/Receptive_field)."
   ]
  },
  {
   "cell_type": "markdown",
   "id": "1833add6",
   "metadata": {
    "editable": true
   },
   "source": [
    "## Layers of a CNN\n",
    "\n",
    "The layers of a convolutional neural network arrange neurons in 3D: width, height and depth.  \n",
    "The input image is typically a square matrix of depth 3. \n",
    "\n",
    "A **convolution** is performed on the image which outputs\n",
    "a 3D volume of neurons. The weights to the input are arranged in a number of 2D matrices, known as **filters**.\n",
    "\n",
    "Each filter slides along the input image, taking the dot product\n",
    "between each small part of the image and the filter, in all depth\n",
    "dimensions. This is then passed through a non-linear function,\n",
    "typically the **Rectified Linear (ReLu)** function, which serves as the\n",
    "activation of the neurons in the first convolutional layer. This is\n",
    "further passed through a **pooling layer**, which reduces the size of the\n",
    "convolutional layer, e.g. by taking the maximum or average across some\n",
    "small regions, and this serves as input to the next convolutional\n",
    "layer."
   ]
  },
  {
   "cell_type": "markdown",
   "id": "70b802cd",
   "metadata": {
    "editable": true
   },
   "source": [
    "## Systematic reduction\n",
    "\n",
    "By systematically reducing the size of the input volume, through\n",
    "convolution and pooling, the network should create representations of\n",
    "small parts of the input, and then from them assemble representations\n",
    "of larger areas.  The final pooling layer is flattened to serve as\n",
    "input to a hidden layer, such that each neuron in the final pooling\n",
    "layer is connected to every single neuron in the hidden layer. This\n",
    "then serves as input to the output layer, e.g. a softmax output for\n",
    "classification."
   ]
  },
  {
   "cell_type": "markdown",
   "id": "7001719e",
   "metadata": {
    "editable": true
   },
   "source": [
    "## Initialize TensorFlow"
   ]
  },
  {
   "cell_type": "code",
   "execution_count": 4,
   "id": "c8784ca2",
   "metadata": {
    "collapsed": false,
    "editable": true,
    "jupyter": {
     "outputs_hidden": false
    }
   },
   "outputs": [],
   "source": [
    "from tensorflow.keras import datasets, layers, models\n",
    "from tensorflow.keras.layers import Input\n",
    "from tensorflow.keras.models import Sequential      #This allows appending layers to existing models\n",
    "from tensorflow.keras.layers import Dense           #This allows defining the characteristics of a particular layer\n",
    "from tensorflow.keras import optimizers             #This allows using whichever optimiser we want (sgd,adam,RMSprop)\n",
    "from tensorflow.keras import regularizers           #This allows using whichever regularizer we want (l1,l2,l1_l2)\n",
    "from tensorflow.keras.utils import to_categorical   #This allows using categorical cross entropy as the cost function"
   ]
  },
  {
   "cell_type": "markdown",
   "id": "0ac0e2c5",
   "metadata": {
    "editable": true
   },
   "source": [
    "## Example of how we can  up  a model (without a specific image)\n",
    "\n",
    "The 6 lines of code below define the convolutional base using a common pattern: a stack of Conv2D and MaxPooling2D layers.\n",
    "\n",
    "As input, a CNN takes tensors of shape (image$\\_$height, image$\\_$width,\n",
    "color$\\_$channels), ignoring the batch size. If you are new to these\n",
    "dimensions, color$\\_$channels refers to (R,G,B). In this example, you\n",
    "will configure the CNN to process inputs of shape (32, 32, 3) as an\n",
    "example. You can do this by passing the argument input$\\_$shape to our\n",
    "first layer."
   ]
  },
  {
   "cell_type": "code",
   "execution_count": 2,
   "id": "be5cd394",
   "metadata": {
    "collapsed": false,
    "editable": true,
    "jupyter": {
     "outputs_hidden": false
    }
   },
   "outputs": [
    {
     "name": "stdout",
     "output_type": "stream",
     "text": [
      "Model: \"sequential\"\n",
      "_________________________________________________________________\n",
      " Layer (type)                Output Shape              Param #   \n",
      "=================================================================\n",
      " conv2d (Conv2D)             (None, 30, 30, 32)        896       \n",
      "                                                                 \n",
      " max_pooling2d (MaxPooling2D  (None, 15, 15, 32)       0         \n",
      " )                                                               \n",
      "                                                                 \n",
      " conv2d_1 (Conv2D)           (None, 13, 13, 64)        18496     \n",
      "                                                                 \n",
      " max_pooling2d_1 (MaxPooling  (None, 6, 6, 64)         0         \n",
      " 2D)                                                             \n",
      "                                                                 \n",
      " conv2d_2 (Conv2D)           (None, 4, 4, 64)          36928     \n",
      "                                                                 \n",
      "=================================================================\n",
      "Total params: 56,320\n",
      "Trainable params: 56,320\n",
      "Non-trainable params: 0\n",
      "_________________________________________________________________\n"
     ]
    }
   ],
   "source": [
    "model = models.Sequential()\n",
    "model.add(layers.Conv2D(32, (3, 3), activation='relu', input_shape=(32, 32, 3)))\n",
    "model.add(layers.MaxPooling2D((2, 2)))\n",
    "model.add(layers.Conv2D(64, (3, 3), activation='relu'))\n",
    "model.add(layers.MaxPooling2D((2, 2)))\n",
    "model.add(layers.Conv2D(64, (3, 3), activation='relu'))\n",
    "# Here we  display the architecture of our model so far.\n",
    "model.summary()"
   ]
  },
  {
   "cell_type": "markdown",
   "id": "d92e5581",
   "metadata": {
    "editable": true
   },
   "source": [
    "You can see that the output of every Conv2D and MaxPooling2D layer is a 3D tensor of shape (height, width, channels). The width and height dimensions tend to shrink as you go deeper in the network. The number of output channels for each Conv2D layer is controlled by the first argument (e.g., 32 or 64). Typically, as the width and height shrink, you can afford (computationally) to add more output channels in each Conv2D layer."
   ]
  },
  {
   "cell_type": "markdown",
   "id": "74d77b59",
   "metadata": {
    "editable": true
   },
   "source": [
    "## Add Dense layers on top\n",
    "\n",
    "To complete this model, you will feed the last output tensor from the\n",
    "convolutional base (of shape (4, 4, 64)) into one or more Dense layers\n",
    "to perform classification. Dense layers take vectors as input (which\n",
    "are 1D), while the current output is a 3D tensor. First, you will\n",
    "flatten (or unroll) the 3D output to 1D, then add one or more dense\n",
    "layers on top. The MNIST data discussed below  has 10 output classes, so we would use a final dense\n",
    "layer with 10 outputs and a softmax activation."
   ]
  },
  {
   "cell_type": "code",
   "execution_count": 3,
   "id": "116630ce",
   "metadata": {
    "collapsed": false,
    "editable": true,
    "jupyter": {
     "outputs_hidden": false
    }
   },
   "outputs": [
    {
     "name": "stdout",
     "output_type": "stream",
     "text": [
      "Model: \"sequential\"\n",
      "_________________________________________________________________\n",
      " Layer (type)                Output Shape              Param #   \n",
      "=================================================================\n",
      " conv2d (Conv2D)             (None, 30, 30, 32)        896       \n",
      "                                                                 \n",
      " max_pooling2d (MaxPooling2D  (None, 15, 15, 32)       0         \n",
      " )                                                               \n",
      "                                                                 \n",
      " conv2d_1 (Conv2D)           (None, 13, 13, 64)        18496     \n",
      "                                                                 \n",
      " max_pooling2d_1 (MaxPooling  (None, 6, 6, 64)         0         \n",
      " 2D)                                                             \n",
      "                                                                 \n",
      " conv2d_2 (Conv2D)           (None, 4, 4, 64)          36928     \n",
      "                                                                 \n",
      " flatten (Flatten)           (None, 1024)              0         \n",
      "                                                                 \n",
      " dense (Dense)               (None, 64)                65600     \n",
      "                                                                 \n",
      " dense_1 (Dense)             (None, 10)                650       \n",
      "                                                                 \n",
      "=================================================================\n",
      "Total params: 122,570\n",
      "Trainable params: 122,570\n",
      "Non-trainable params: 0\n",
      "_________________________________________________________________\n"
     ]
    }
   ],
   "source": [
    "model.add(layers.Flatten())\n",
    "model.add(layers.Dense(64, activation='relu'))\n",
    "model.add(layers.Dense(10))\n",
    "# Now we list  the complete architecture of our model.\n",
    "model.summary()"
   ]
  },
  {
   "cell_type": "markdown",
   "id": "68df08f7",
   "metadata": {
    "editable": true
   },
   "source": [
    "As you can see, our (4, 4, 64) outputs were flattened into vectors of shape (1024) before going through two Dense layers."
   ]
  },
  {
   "cell_type": "markdown",
   "id": "07c7a693",
   "metadata": {
    "editable": true
   },
   "source": [
    "## Prerequisites: Collect and pre-process data\n",
    "Now we switch to the MNIST data set."
   ]
  },
  {
   "cell_type": "code",
   "execution_count": 5,
   "id": "0b8071ea",
   "metadata": {
    "collapsed": false,
    "editable": true,
    "jupyter": {
     "outputs_hidden": false
    }
   },
   "outputs": [
    {
     "name": "stdout",
     "output_type": "stream",
     "text": [
      "inputs = (n_inputs, pixel_width, pixel_height, depth) = (1797, 8, 8, 1)\n",
      "labels = (n_inputs) = (1797,)\n"
     ]
    },
    {
     "data": {
      "image/png": "[encoded data removed]",
      "text/plain": [
       "<Figure size 1200x1200 with 5 Axes>"
      ]
     },
     "metadata": {},
     "output_type": "display_data"
    }
   ],
   "source": [
    "# import necessary packages\n",
    "import numpy as np\n",
    "import matplotlib.pyplot as plt\n",
    "from sklearn import datasets\n",
    "\n",
    "\n",
    "# ensure the same random numbers appear every time\n",
    "np.random.seed(0)\n",
    "\n",
    "# display images in notebook\n",
    "%matplotlib inline\n",
    "plt.rcParams['figure.figsize'] = (12,12)\n",
    "\n",
    "\n",
    "# download MNIST dataset\n",
    "digits = datasets.load_digits()\n",
    "\n",
    "# define inputs and labels\n",
    "inputs = digits.images\n",
    "labels = digits.target\n",
    "\n",
    "# RGB images have a depth of 3\n",
    "# our images are grayscale so they should have a depth of 1\n",
    "inputs = inputs[:,:,:,np.newaxis]\n",
    "\n",
    "print(\"inputs = (n_inputs, pixel_width, pixel_height, depth) = \" + str(inputs.shape))\n",
    "print(\"labels = (n_inputs) = \" + str(labels.shape))\n",
    "\n",
    "\n",
    "# choose some random images to display\n",
    "n_inputs = len(inputs)\n",
    "indices = np.arange(n_inputs)\n",
    "random_indices = np.random.choice(indices, size=5)\n",
    "\n",
    "for i, image in enumerate(digits.images[random_indices]):\n",
    "    plt.subplot(1, 5, i+1)\n",
    "    plt.axis('off')\n",
    "    plt.imshow(image, cmap=plt.cm.gray_r, interpolation='nearest')\n",
    "    plt.title(\"Label: %d\" % digits.target[random_indices[i]])\n",
    "plt.show()"
   ]
  },
  {
   "cell_type": "markdown",
   "id": "1499b109",
   "metadata": {
    "editable": true
   },
   "source": [
    "## Importing Keras and Tensorflow"
   ]
  },
  {
   "cell_type": "code",
   "execution_count": 6,
   "id": "bbd207e9",
   "metadata": {
    "collapsed": false,
    "editable": true,
    "jupyter": {
     "outputs_hidden": false
    }
   },
   "outputs": [],
   "source": [
    "from tensorflow.keras import datasets, layers, models\n",
    "from tensorflow.keras.layers import Input\n",
    "from tensorflow.keras.models import Sequential      #This allows appending layers to existing models\n",
    "from tensorflow.keras.layers import Dense           #This allows defining the characteristics of a particular layer\n",
    "from tensorflow.keras import optimizers             #This allows using whichever optimiser we want (sgd,adam,RMSprop)\n",
    "from tensorflow.keras import regularizers           #This allows using whichever regularizer we want (l1,l2,l1_l2)\n",
    "from tensorflow.keras.utils import to_categorical   #This allows using categorical cross entropy as the cost function\n",
    "from sklearn.model_selection import train_test_split\n",
    "\n",
    "# representation of labels\n",
    "labels = to_categorical(labels)\n",
    "\n",
    "# split into train and test data\n",
    "# one-liner from scikit-learn library\n",
    "train_size = 0.8\n",
    "test_size = 1 - train_size\n",
    "X_train, X_test, Y_train, Y_test = train_test_split(inputs, labels, train_size=train_size,\n",
    "                                                    test_size=test_size)"
   ]
  },
  {
   "cell_type": "markdown",
   "id": "960884bc",
   "metadata": {
    "editable": true
   },
   "source": [
    "## Running with Keras and setting up the model"
   ]
  },
  {
   "cell_type": "code",
   "execution_count": 8,
   "id": "1b073735",
   "metadata": {
    "collapsed": false,
    "editable": true,
    "jupyter": {
     "outputs_hidden": false
    }
   },
   "outputs": [],
   "source": [
    "def create_convolutional_neural_network_keras(input_shape, receptive_field,\n",
    "                                              n_filters, n_neurons_connected, n_categories,\n",
    "                                              eta, lmbd):\n",
    "    model = Sequential()\n",
    "    model.add(layers.Conv2D(n_filters, (receptive_field, receptive_field), input_shape=input_shape, padding='same',\n",
    "              activation='relu', kernel_regularizer=regularizers.l2(lmbd)))\n",
    "    model.add(layers.MaxPooling2D(pool_size=(2, 2)))\n",
    "    model.add(layers.Flatten())\n",
    "    model.add(layers.Dense(n_neurons_connected, activation='relu', kernel_regularizer=regularizers.l2(lmbd)))\n",
    "    model.add(layers.Dense(n_categories, activation='softmax', kernel_regularizer=regularizers.l2(lmbd)))\n",
    "    \n",
    "    sgd = optimizers.SGD(learning_rate=eta)\n",
    "    model.compile(loss='categorical_crossentropy', optimizer=sgd, metrics=['accuracy'])\n",
    "    \n",
    "    return model\n",
    "#model.summary()\n",
    "epochs = 100\n",
    "batch_size = 100\n",
    "input_shape = X_train.shape[1:4]\n",
    "receptive_field = 3\n",
    "n_filters = 10\n",
    "n_neurons_connected = 50\n",
    "n_categories = 10\n",
    "\n",
    "eta_vals = np.logspace(-5, 1, 7)\n",
    "lmbd_vals = np.logspace(-5, 1, 7)"
   ]
  },
  {
   "cell_type": "markdown",
   "id": "89c96d73",
   "metadata": {
    "editable": true
   },
   "source": [
    "## Final part"
   ]
  },
  {
   "cell_type": "code",
   "execution_count": 9,
   "id": "1533a2d5",
   "metadata": {
    "collapsed": false,
    "editable": true,
    "jupyter": {
     "outputs_hidden": false
    }
   },
   "outputs": [
    {
     "name": "stderr",
     "output_type": "stream",
     "text": [
      "WARNING:absl:At this time, the v2.11+ optimizer `tf.keras.optimizers.SGD` runs slowly on M1/M2 Macs, please use the legacy Keras optimizer instead, located at `tf.keras.optimizers.legacy.SGD`.\n",
      "WARNING:absl:There is a known slowdown when using v2.11+ Keras optimizers on M1/M2 Macs. Falling back to the legacy Keras optimizer, i.e., `tf.keras.optimizers.legacy.SGD`.\n",
      "2025-05-27 17:08:23.644149: W tensorflow/tsl/platform/profile_utils/cpu_utils.cc:128] Failed to get CPU frequency: 0 Hz\n"
     ]
    },
    {
     "name": "stdout",
     "output_type": "stream",
     "text": [
      "12/12 [==============================] - 1s 39ms/step - loss: 4.0398 - accuracy: 0.1417\n"
     ]
    },
    {
     "name": "stderr",
     "output_type": "stream",
     "text": [
      "WARNING:absl:At this time, the v2.11+ optimizer `tf.keras.optimizers.SGD` runs slowly on M1/M2 Macs, please use the legacy Keras optimizer instead, located at `tf.keras.optimizers.legacy.SGD`.\n",
      "WARNING:absl:There is a known slowdown when using v2.11+ Keras optimizers on M1/M2 Macs. Falling back to the legacy Keras optimizer, i.e., `tf.keras.optimizers.legacy.SGD`.\n"
     ]
    },
    {
     "name": "stdout",
     "output_type": "stream",
     "text": [
      "Learning rate =  1e-05\n",
      "Lambda =  1e-05\n",
      "Test accuracy: 0.142\n",
      "\n",
      "12/12 [==============================] - 0s 16ms/step - loss: 2.5344 - accuracy: 0.1833\n"
     ]
    },
    {
     "name": "stderr",
     "output_type": "stream",
     "text": [
      "WARNING:absl:At this time, the v2.11+ optimizer `tf.keras.optimizers.SGD` runs slowly on M1/M2 Macs, please use the legacy Keras optimizer instead, located at `tf.keras.optimizers.legacy.SGD`.\n",
      "WARNING:absl:There is a known slowdown when using v2.11+ Keras optimizers on M1/M2 Macs. Falling back to the legacy Keras optimizer, i.e., `tf.keras.optimizers.legacy.SGD`.\n"
     ]
    },
    {
     "name": "stdout",
     "output_type": "stream",
     "text": [
      "Learning rate =  1e-05\n",
      "Lambda =  0.0001\n",
      "Test accuracy: 0.183\n",
      "\n",
      "12/12 [==============================] - 0s 14ms/step - loss: 3.6491 - accuracy: 0.1639\n"
     ]
    },
    {
     "name": "stderr",
     "output_type": "stream",
     "text": [
      "WARNING:absl:At this time, the v2.11+ optimizer `tf.keras.optimizers.SGD` runs slowly on M1/M2 Macs, please use the legacy Keras optimizer instead, located at `tf.keras.optimizers.legacy.SGD`.\n",
      "WARNING:absl:There is a known slowdown when using v2.11+ Keras optimizers on M1/M2 Macs. Falling back to the legacy Keras optimizer, i.e., `tf.keras.optimizers.legacy.SGD`.\n"
     ]
    },
    {
     "name": "stdout",
     "output_type": "stream",
     "text": [
      "Learning rate =  1e-05\n",
      "Lambda =  0.001\n",
      "Test accuracy: 0.164\n",
      "\n",
      "12/12 [==============================] - 0s 15ms/step - loss: 4.9854 - accuracy: 0.1083\n"
     ]
    },
    {
     "name": "stderr",
     "output_type": "stream",
     "text": [
      "WARNING:absl:At this time, the v2.11+ optimizer `tf.keras.optimizers.SGD` runs slowly on M1/M2 Macs, please use the legacy Keras optimizer instead, located at `tf.keras.optimizers.legacy.SGD`.\n",
      "WARNING:absl:There is a known slowdown when using v2.11+ Keras optimizers on M1/M2 Macs. Falling back to the legacy Keras optimizer, i.e., `tf.keras.optimizers.legacy.SGD`.\n"
     ]
    },
    {
     "name": "stdout",
     "output_type": "stream",
     "text": [
      "Learning rate =  1e-05\n",
      "Lambda =  0.01\n",
      "Test accuracy: 0.108\n",
      "\n",
      "12/12 [==============================] - 0s 14ms/step - loss: 13.4366 - accuracy: 0.1139\n"
     ]
    },
    {
     "name": "stderr",
     "output_type": "stream",
     "text": [
      "WARNING:absl:At this time, the v2.11+ optimizer `tf.keras.optimizers.SGD` runs slowly on M1/M2 Macs, please use the legacy Keras optimizer instead, located at `tf.keras.optimizers.legacy.SGD`.\n",
      "WARNING:absl:There is a known slowdown when using v2.11+ Keras optimizers on M1/M2 Macs. Falling back to the legacy Keras optimizer, i.e., `tf.keras.optimizers.legacy.SGD`.\n"
     ]
    },
    {
     "name": "stdout",
     "output_type": "stream",
     "text": [
      "Learning rate =  1e-05\n",
      "Lambda =  0.1\n",
      "Test accuracy: 0.114\n",
      "\n",
      "12/12 [==============================] - 0s 14ms/step - loss: 91.9076 - accuracy: 0.0917\n"
     ]
    },
    {
     "name": "stderr",
     "output_type": "stream",
     "text": [
      "WARNING:absl:At this time, the v2.11+ optimizer `tf.keras.optimizers.SGD` runs slowly on M1/M2 Macs, please use the legacy Keras optimizer instead, located at `tf.keras.optimizers.legacy.SGD`.\n",
      "WARNING:absl:There is a known slowdown when using v2.11+ Keras optimizers on M1/M2 Macs. Falling back to the legacy Keras optimizer, i.e., `tf.keras.optimizers.legacy.SGD`.\n"
     ]
    },
    {
     "name": "stdout",
     "output_type": "stream",
     "text": [
      "Learning rate =  1e-05\n",
      "Lambda =  1.0\n",
      "Test accuracy: 0.092\n",
      "\n",
      "12/12 [==============================] - 0s 15ms/step - loss: 515.2705 - accuracy: 0.1611\n"
     ]
    },
    {
     "name": "stderr",
     "output_type": "stream",
     "text": [
      "WARNING:absl:At this time, the v2.11+ optimizer `tf.keras.optimizers.SGD` runs slowly on M1/M2 Macs, please use the legacy Keras optimizer instead, located at `tf.keras.optimizers.legacy.SGD`.\n",
      "WARNING:absl:There is a known slowdown when using v2.11+ Keras optimizers on M1/M2 Macs. Falling back to the legacy Keras optimizer, i.e., `tf.keras.optimizers.legacy.SGD`.\n"
     ]
    },
    {
     "name": "stdout",
     "output_type": "stream",
     "text": [
      "Learning rate =  1e-05\n",
      "Lambda =  10.0\n",
      "Test accuracy: 0.161\n",
      "\n",
      "12/12 [==============================] - 0s 14ms/step - loss: 1.8769 - accuracy: 0.3222\n"
     ]
    },
    {
     "name": "stderr",
     "output_type": "stream",
     "text": [
      "WARNING:absl:At this time, the v2.11+ optimizer `tf.keras.optimizers.SGD` runs slowly on M1/M2 Macs, please use the legacy Keras optimizer instead, located at `tf.keras.optimizers.legacy.SGD`.\n",
      "WARNING:absl:There is a known slowdown when using v2.11+ Keras optimizers on M1/M2 Macs. Falling back to the legacy Keras optimizer, i.e., `tf.keras.optimizers.legacy.SGD`.\n"
     ]
    },
    {
     "name": "stdout",
     "output_type": "stream",
     "text": [
      "Learning rate =  0.0001\n",
      "Lambda =  1e-05\n",
      "Test accuracy: 0.322\n",
      "\n",
      "12/12 [==============================] - 0s 15ms/step - loss: 1.6677 - accuracy: 0.4694\n"
     ]
    },
    {
     "name": "stderr",
     "output_type": "stream",
     "text": [
      "WARNING:absl:At this time, the v2.11+ optimizer `tf.keras.optimizers.SGD` runs slowly on M1/M2 Macs, please use the legacy Keras optimizer instead, located at `tf.keras.optimizers.legacy.SGD`.\n",
      "WARNING:absl:There is a known slowdown when using v2.11+ Keras optimizers on M1/M2 Macs. Falling back to the legacy Keras optimizer, i.e., `tf.keras.optimizers.legacy.SGD`.\n"
     ]
    },
    {
     "name": "stdout",
     "output_type": "stream",
     "text": [
      "Learning rate =  0.0001\n",
      "Lambda =  0.0001\n",
      "Test accuracy: 0.469\n",
      "\n",
      "12/12 [==============================] - 0s 18ms/step - loss: 1.9363 - accuracy: 0.3722\n",
      "Learning rate =  0.0001\n",
      "Lambda =  0.001\n",
      "Test accuracy: 0.372\n",
      "\n"
     ]
    },
    {
     "name": "stderr",
     "output_type": "stream",
     "text": [
      "WARNING:absl:At this time, the v2.11+ optimizer `tf.keras.optimizers.SGD` runs slowly on M1/M2 Macs, please use the legacy Keras optimizer instead, located at `tf.keras.optimizers.legacy.SGD`.\n",
      "WARNING:absl:There is a known slowdown when using v2.11+ Keras optimizers on M1/M2 Macs. Falling back to the legacy Keras optimizer, i.e., `tf.keras.optimizers.legacy.SGD`.\n"
     ]
    },
    {
     "name": "stdout",
     "output_type": "stream",
     "text": [
      "12/12 [==============================] - 0s 16ms/step - loss: 2.5220 - accuracy: 0.4361\n"
     ]
    },
    {
     "name": "stderr",
     "output_type": "stream",
     "text": [
      "WARNING:absl:At this time, the v2.11+ optimizer `tf.keras.optimizers.SGD` runs slowly on M1/M2 Macs, please use the legacy Keras optimizer instead, located at `tf.keras.optimizers.legacy.SGD`.\n"
     ]
    },
    {
     "name": "stdout",
     "output_type": "stream",
     "text": [
      "Learning rate =  0.0001\n",
      "Lambda =  0.01\n",
      "Test accuracy: 0.436\n",
      "\n"
     ]
    },
    {
     "name": "stderr",
     "output_type": "stream",
     "text": [
      "WARNING:absl:There is a known slowdown when using v2.11+ Keras optimizers on M1/M2 Macs. Falling back to the legacy Keras optimizer, i.e., `tf.keras.optimizers.legacy.SGD`.\n"
     ]
    },
    {
     "name": "stdout",
     "output_type": "stream",
     "text": [
      "12/12 [==============================] - 0s 15ms/step - loss: 10.8866 - accuracy: 0.3278\n"
     ]
    },
    {
     "name": "stderr",
     "output_type": "stream",
     "text": [
      "WARNING:absl:At this time, the v2.11+ optimizer `tf.keras.optimizers.SGD` runs slowly on M1/M2 Macs, please use the legacy Keras optimizer instead, located at `tf.keras.optimizers.legacy.SGD`.\n",
      "WARNING:absl:There is a known slowdown when using v2.11+ Keras optimizers on M1/M2 Macs. Falling back to the legacy Keras optimizer, i.e., `tf.keras.optimizers.legacy.SGD`.\n"
     ]
    },
    {
     "name": "stdout",
     "output_type": "stream",
     "text": [
      "Learning rate =  0.0001\n",
      "Lambda =  0.1\n",
      "Test accuracy: 0.328\n",
      "\n",
      "12/12 [==============================] - 0s 15ms/step - loss: 53.7592 - accuracy: 0.3722\n"
     ]
    },
    {
     "name": "stderr",
     "output_type": "stream",
     "text": [
      "WARNING:absl:At this time, the v2.11+ optimizer `tf.keras.optimizers.SGD` runs slowly on M1/M2 Macs, please use the legacy Keras optimizer instead, located at `tf.keras.optimizers.legacy.SGD`.\n",
      "WARNING:absl:There is a known slowdown when using v2.11+ Keras optimizers on M1/M2 Macs. Falling back to the legacy Keras optimizer, i.e., `tf.keras.optimizers.legacy.SGD`.\n"
     ]
    },
    {
     "name": "stdout",
     "output_type": "stream",
     "text": [
      "Learning rate =  0.0001\n",
      "Lambda =  1.0\n",
      "Test accuracy: 0.372\n",
      "\n",
      "12/12 [==============================] - 0s 15ms/step - loss: 4.6184 - accuracy: 0.1500\n"
     ]
    },
    {
     "name": "stderr",
     "output_type": "stream",
     "text": [
      "WARNING:absl:At this time, the v2.11+ optimizer `tf.keras.optimizers.SGD` runs slowly on M1/M2 Macs, please use the legacy Keras optimizer instead, located at `tf.keras.optimizers.legacy.SGD`.\n",
      "WARNING:absl:There is a known slowdown when using v2.11+ Keras optimizers on M1/M2 Macs. Falling back to the legacy Keras optimizer, i.e., `tf.keras.optimizers.legacy.SGD`.\n"
     ]
    },
    {
     "name": "stdout",
     "output_type": "stream",
     "text": [
      "Learning rate =  0.0001\n",
      "Lambda =  10.0\n",
      "Test accuracy: 0.150\n",
      "\n",
      "12/12 [==============================] - 0s 14ms/step - loss: 0.2527 - accuracy: 0.9000\n"
     ]
    },
    {
     "name": "stderr",
     "output_type": "stream",
     "text": [
      "WARNING:absl:At this time, the v2.11+ optimizer `tf.keras.optimizers.SGD` runs slowly on M1/M2 Macs, please use the legacy Keras optimizer instead, located at `tf.keras.optimizers.legacy.SGD`.\n",
      "WARNING:absl:There is a known slowdown when using v2.11+ Keras optimizers on M1/M2 Macs. Falling back to the legacy Keras optimizer, i.e., `tf.keras.optimizers.legacy.SGD`.\n"
     ]
    },
    {
     "name": "stdout",
     "output_type": "stream",
     "text": [
      "Learning rate =  0.001\n",
      "Lambda =  1e-05\n",
      "Test accuracy: 0.900\n",
      "\n",
      "12/12 [==============================] - 0s 13ms/step - loss: 0.3268 - accuracy: 0.8972\n"
     ]
    },
    {
     "name": "stderr",
     "output_type": "stream",
     "text": [
      "WARNING:absl:At this time, the v2.11+ optimizer `tf.keras.optimizers.SGD` runs slowly on M1/M2 Macs, please use the legacy Keras optimizer instead, located at `tf.keras.optimizers.legacy.SGD`.\n",
      "WARNING:absl:There is a known slowdown when using v2.11+ Keras optimizers on M1/M2 Macs. Falling back to the legacy Keras optimizer, i.e., `tf.keras.optimizers.legacy.SGD`.\n"
     ]
    },
    {
     "name": "stdout",
     "output_type": "stream",
     "text": [
      "Learning rate =  0.001\n",
      "Lambda =  0.0001\n",
      "Test accuracy: 0.897\n",
      "\n",
      "12/12 [==============================] - 0s 14ms/step - loss: 0.3645 - accuracy: 0.9194\n"
     ]
    },
    {
     "name": "stderr",
     "output_type": "stream",
     "text": [
      "WARNING:absl:At this time, the v2.11+ optimizer `tf.keras.optimizers.SGD` runs slowly on M1/M2 Macs, please use the legacy Keras optimizer instead, located at `tf.keras.optimizers.legacy.SGD`.\n",
      "WARNING:absl:There is a known slowdown when using v2.11+ Keras optimizers on M1/M2 Macs. Falling back to the legacy Keras optimizer, i.e., `tf.keras.optimizers.legacy.SGD`.\n"
     ]
    },
    {
     "name": "stdout",
     "output_type": "stream",
     "text": [
      "Learning rate =  0.001\n",
      "Lambda =  0.001\n",
      "Test accuracy: 0.919\n",
      "\n",
      "12/12 [==============================] - 0s 16ms/step - loss: 1.1322 - accuracy: 0.9333\n"
     ]
    },
    {
     "name": "stderr",
     "output_type": "stream",
     "text": [
      "WARNING:absl:At this time, the v2.11+ optimizer `tf.keras.optimizers.SGD` runs slowly on M1/M2 Macs, please use the legacy Keras optimizer instead, located at `tf.keras.optimizers.legacy.SGD`.\n",
      "WARNING:absl:There is a known slowdown when using v2.11+ Keras optimizers on M1/M2 Macs. Falling back to the legacy Keras optimizer, i.e., `tf.keras.optimizers.legacy.SGD`.\n"
     ]
    },
    {
     "name": "stdout",
     "output_type": "stream",
     "text": [
      "Learning rate =  0.001\n",
      "Lambda =  0.01\n",
      "Test accuracy: 0.933\n",
      "\n",
      "12/12 [==============================] - 0s 15ms/step - loss: 5.7984 - accuracy: 0.9222\n"
     ]
    },
    {
     "name": "stderr",
     "output_type": "stream",
     "text": [
      "WARNING:absl:At this time, the v2.11+ optimizer `tf.keras.optimizers.SGD` runs slowly on M1/M2 Macs, please use the legacy Keras optimizer instead, located at `tf.keras.optimizers.legacy.SGD`.\n",
      "WARNING:absl:There is a known slowdown when using v2.11+ Keras optimizers on M1/M2 Macs. Falling back to the legacy Keras optimizer, i.e., `tf.keras.optimizers.legacy.SGD`.\n"
     ]
    },
    {
     "name": "stdout",
     "output_type": "stream",
     "text": [
      "Learning rate =  0.001\n",
      "Lambda =  0.1\n",
      "Test accuracy: 0.922\n",
      "\n",
      "12/12 [==============================] - 0s 16ms/step - loss: 2.5738 - accuracy: 0.4667\n"
     ]
    },
    {
     "name": "stderr",
     "output_type": "stream",
     "text": [
      "WARNING:absl:At this time, the v2.11+ optimizer `tf.keras.optimizers.SGD` runs slowly on M1/M2 Macs, please use the legacy Keras optimizer instead, located at `tf.keras.optimizers.legacy.SGD`.\n",
      "WARNING:absl:There is a known slowdown when using v2.11+ Keras optimizers on M1/M2 Macs. Falling back to the legacy Keras optimizer, i.e., `tf.keras.optimizers.legacy.SGD`.\n"
     ]
    },
    {
     "name": "stdout",
     "output_type": "stream",
     "text": [
      "Learning rate =  0.001\n",
      "Lambda =  1.0\n",
      "Test accuracy: 0.467\n",
      "\n",
      "12/12 [==============================] - 0s 16ms/step - loss: 2.3032 - accuracy: 0.0778\n",
      "Learning rate =  0.001\n",
      "Lambda =  10.0\n",
      "Test accuracy: 0.078\n",
      "\n"
     ]
    },
    {
     "name": "stderr",
     "output_type": "stream",
     "text": [
      "WARNING:absl:At this time, the v2.11+ optimizer `tf.keras.optimizers.SGD` runs slowly on M1/M2 Macs, please use the legacy Keras optimizer instead, located at `tf.keras.optimizers.legacy.SGD`.\n",
      "WARNING:absl:There is a known slowdown when using v2.11+ Keras optimizers on M1/M2 Macs. Falling back to the legacy Keras optimizer, i.e., `tf.keras.optimizers.legacy.SGD`.\n"
     ]
    },
    {
     "name": "stdout",
     "output_type": "stream",
     "text": [
      "12/12 [==============================] - 0s 17ms/step - loss: 0.1319 - accuracy: 0.9500\n",
      "Learning rate =  0.01\n",
      "Lambda =  1e-05\n",
      "Test accuracy: 0.950\n",
      "\n"
     ]
    },
    {
     "name": "stderr",
     "output_type": "stream",
     "text": [
      "WARNING:absl:At this time, the v2.11+ optimizer `tf.keras.optimizers.SGD` runs slowly on M1/M2 Macs, please use the legacy Keras optimizer instead, located at `tf.keras.optimizers.legacy.SGD`.\n",
      "WARNING:absl:There is a known slowdown when using v2.11+ Keras optimizers on M1/M2 Macs. Falling back to the legacy Keras optimizer, i.e., `tf.keras.optimizers.legacy.SGD`.\n"
     ]
    },
    {
     "name": "stdout",
     "output_type": "stream",
     "text": [
      "12/12 [==============================] - 0s 17ms/step - loss: 0.1150 - accuracy: 0.9778\n",
      "Learning rate =  0.01\n",
      "Lambda =  0.0001\n",
      "Test accuracy: 0.978\n",
      "\n"
     ]
    },
    {
     "name": "stderr",
     "output_type": "stream",
     "text": [
      "WARNING:absl:At this time, the v2.11+ optimizer `tf.keras.optimizers.SGD` runs slowly on M1/M2 Macs, please use the legacy Keras optimizer instead, located at `tf.keras.optimizers.legacy.SGD`.\n",
      "WARNING:absl:There is a known slowdown when using v2.11+ Keras optimizers on M1/M2 Macs. Falling back to the legacy Keras optimizer, i.e., `tf.keras.optimizers.legacy.SGD`.\n"
     ]
    },
    {
     "name": "stdout",
     "output_type": "stream",
     "text": [
      "12/12 [==============================] - 0s 15ms/step - loss: 0.1954 - accuracy: 0.9639\n"
     ]
    },
    {
     "name": "stderr",
     "output_type": "stream",
     "text": [
      "WARNING:absl:At this time, the v2.11+ optimizer `tf.keras.optimizers.SGD` runs slowly on M1/M2 Macs, please use the legacy Keras optimizer instead, located at `tf.keras.optimizers.legacy.SGD`.\n",
      "WARNING:absl:There is a known slowdown when using v2.11+ Keras optimizers on M1/M2 Macs. Falling back to the legacy Keras optimizer, i.e., `tf.keras.optimizers.legacy.SGD`.\n"
     ]
    },
    {
     "name": "stdout",
     "output_type": "stream",
     "text": [
      "Learning rate =  0.01\n",
      "Lambda =  0.001\n",
      "Test accuracy: 0.964\n",
      "\n",
      "12/12 [==============================] - 0s 14ms/step - loss: 0.6933 - accuracy: 0.9778\n"
     ]
    },
    {
     "name": "stderr",
     "output_type": "stream",
     "text": [
      "WARNING:absl:At this time, the v2.11+ optimizer `tf.keras.optimizers.SGD` runs slowly on M1/M2 Macs, please use the legacy Keras optimizer instead, located at `tf.keras.optimizers.legacy.SGD`.\n",
      "WARNING:absl:There is a known slowdown when using v2.11+ Keras optimizers on M1/M2 Macs. Falling back to the legacy Keras optimizer, i.e., `tf.keras.optimizers.legacy.SGD`.\n"
     ]
    },
    {
     "name": "stdout",
     "output_type": "stream",
     "text": [
      "Learning rate =  0.01\n",
      "Lambda =  0.01\n",
      "Test accuracy: 0.978\n",
      "\n",
      "12/12 [==============================] - 0s 14ms/step - loss: 0.9434 - accuracy: 0.9444\n"
     ]
    },
    {
     "name": "stderr",
     "output_type": "stream",
     "text": [
      "WARNING:absl:At this time, the v2.11+ optimizer `tf.keras.optimizers.SGD` runs slowly on M1/M2 Macs, please use the legacy Keras optimizer instead, located at `tf.keras.optimizers.legacy.SGD`.\n",
      "WARNING:absl:There is a known slowdown when using v2.11+ Keras optimizers on M1/M2 Macs. Falling back to the legacy Keras optimizer, i.e., `tf.keras.optimizers.legacy.SGD`.\n"
     ]
    },
    {
     "name": "stdout",
     "output_type": "stream",
     "text": [
      "Learning rate =  0.01\n",
      "Lambda =  0.1\n",
      "Test accuracy: 0.944\n",
      "\n",
      "12/12 [==============================] - 0s 14ms/step - loss: 2.3064 - accuracy: 0.0889\n"
     ]
    },
    {
     "name": "stderr",
     "output_type": "stream",
     "text": [
      "WARNING:absl:At this time, the v2.11+ optimizer `tf.keras.optimizers.SGD` runs slowly on M1/M2 Macs, please use the legacy Keras optimizer instead, located at `tf.keras.optimizers.legacy.SGD`.\n",
      "WARNING:absl:There is a known slowdown when using v2.11+ Keras optimizers on M1/M2 Macs. Falling back to the legacy Keras optimizer, i.e., `tf.keras.optimizers.legacy.SGD`.\n"
     ]
    },
    {
     "name": "stdout",
     "output_type": "stream",
     "text": [
      "Learning rate =  0.01\n",
      "Lambda =  1.0\n",
      "Test accuracy: 0.089\n",
      "\n",
      "12/12 [==============================] - 0s 19ms/step - loss: 2.3063 - accuracy: 0.0778\n"
     ]
    },
    {
     "name": "stderr",
     "output_type": "stream",
     "text": [
      "WARNING:absl:At this time, the v2.11+ optimizer `tf.keras.optimizers.SGD` runs slowly on M1/M2 Macs, please use the legacy Keras optimizer instead, located at `tf.keras.optimizers.legacy.SGD`.\n",
      "WARNING:absl:There is a known slowdown when using v2.11+ Keras optimizers on M1/M2 Macs. Falling back to the legacy Keras optimizer, i.e., `tf.keras.optimizers.legacy.SGD`.\n"
     ]
    },
    {
     "name": "stdout",
     "output_type": "stream",
     "text": [
      "Learning rate =  0.01\n",
      "Lambda =  10.0\n",
      "Test accuracy: 0.078\n",
      "\n",
      "12/12 [==============================] - 0s 16ms/step - loss: 3.6683 - accuracy: 0.5639\n"
     ]
    },
    {
     "name": "stderr",
     "output_type": "stream",
     "text": [
      "WARNING:absl:At this time, the v2.11+ optimizer `tf.keras.optimizers.SGD` runs slowly on M1/M2 Macs, please use the legacy Keras optimizer instead, located at `tf.keras.optimizers.legacy.SGD`.\n",
      "WARNING:absl:There is a known slowdown when using v2.11+ Keras optimizers on M1/M2 Macs. Falling back to the legacy Keras optimizer, i.e., `tf.keras.optimizers.legacy.SGD`.\n"
     ]
    },
    {
     "name": "stdout",
     "output_type": "stream",
     "text": [
      "Learning rate =  0.1\n",
      "Lambda =  1e-05\n",
      "Test accuracy: 0.564\n",
      "\n",
      "12/12 [==============================] - 0s 17ms/step - loss: 2.3437 - accuracy: 0.3778\n",
      "Learning rate =  0.1\n",
      "Lambda =  0.0001\n",
      "Test accuracy: 0.378\n",
      "\n"
     ]
    },
    {
     "name": "stderr",
     "output_type": "stream",
     "text": [
      "WARNING:absl:At this time, the v2.11+ optimizer `tf.keras.optimizers.SGD` runs slowly on M1/M2 Macs, please use the legacy Keras optimizer instead, located at `tf.keras.optimizers.legacy.SGD`.\n",
      "WARNING:absl:There is a known slowdown when using v2.11+ Keras optimizers on M1/M2 Macs. Falling back to the legacy Keras optimizer, i.e., `tf.keras.optimizers.legacy.SGD`.\n"
     ]
    },
    {
     "name": "stdout",
     "output_type": "stream",
     "text": [
      "12/12 [==============================] - 0s 18ms/step - loss: 3.5803 - accuracy: 0.0778\n",
      "Learning rate =  0.1\n",
      "Lambda =  0.001\n",
      "Test accuracy: 0.078\n",
      "\n"
     ]
    },
    {
     "name": "stderr",
     "output_type": "stream",
     "text": [
      "WARNING:absl:At this time, the v2.11+ optimizer `tf.keras.optimizers.SGD` runs slowly on M1/M2 Macs, please use the legacy Keras optimizer instead, located at `tf.keras.optimizers.legacy.SGD`.\n",
      "WARNING:absl:There is a known slowdown when using v2.11+ Keras optimizers on M1/M2 Macs. Falling back to the legacy Keras optimizer, i.e., `tf.keras.optimizers.legacy.SGD`.\n"
     ]
    },
    {
     "name": "stdout",
     "output_type": "stream",
     "text": [
      "12/12 [==============================] - 0s 19ms/step - loss: 4.4832 - accuracy: 0.7806\n"
     ]
    },
    {
     "name": "stderr",
     "output_type": "stream",
     "text": [
      "WARNING:absl:At this time, the v2.11+ optimizer `tf.keras.optimizers.SGD` runs slowly on M1/M2 Macs, please use the legacy Keras optimizer instead, located at `tf.keras.optimizers.legacy.SGD`.\n",
      "WARNING:absl:There is a known slowdown when using v2.11+ Keras optimizers on M1/M2 Macs. Falling back to the legacy Keras optimizer, i.e., `tf.keras.optimizers.legacy.SGD`.\n"
     ]
    },
    {
     "name": "stdout",
     "output_type": "stream",
     "text": [
      "Learning rate =  0.1\n",
      "Lambda =  0.01\n",
      "Test accuracy: 0.781\n",
      "\n",
      "12/12 [==============================] - 0s 16ms/step - loss: 2.3080 - accuracy: 0.0889\n"
     ]
    },
    {
     "name": "stderr",
     "output_type": "stream",
     "text": [
      "WARNING:absl:At this time, the v2.11+ optimizer `tf.keras.optimizers.SGD` runs slowly on M1/M2 Macs, please use the legacy Keras optimizer instead, located at `tf.keras.optimizers.legacy.SGD`.\n",
      "WARNING:absl:There is a known slowdown when using v2.11+ Keras optimizers on M1/M2 Macs. Falling back to the legacy Keras optimizer, i.e., `tf.keras.optimizers.legacy.SGD`.\n"
     ]
    },
    {
     "name": "stdout",
     "output_type": "stream",
     "text": [
      "Learning rate =  0.1\n",
      "Lambda =  0.1\n",
      "Test accuracy: 0.089\n",
      "\n",
      "12/12 [==============================] - 0s 19ms/step - loss: 2.3078 - accuracy: 0.0889\n"
     ]
    },
    {
     "name": "stderr",
     "output_type": "stream",
     "text": [
      "WARNING:absl:At this time, the v2.11+ optimizer `tf.keras.optimizers.SGD` runs slowly on M1/M2 Macs, please use the legacy Keras optimizer instead, located at `tf.keras.optimizers.legacy.SGD`.\n",
      "WARNING:absl:There is a known slowdown when using v2.11+ Keras optimizers on M1/M2 Macs. Falling back to the legacy Keras optimizer, i.e., `tf.keras.optimizers.legacy.SGD`.\n"
     ]
    },
    {
     "name": "stdout",
     "output_type": "stream",
     "text": [
      "Learning rate =  0.1\n",
      "Lambda =  1.0\n",
      "Test accuracy: 0.089\n",
      "\n",
      "12/12 [==============================] - 0s 25ms/step - loss: nan - accuracy: 0.0778\n"
     ]
    },
    {
     "name": "stderr",
     "output_type": "stream",
     "text": [
      "WARNING:absl:At this time, the v2.11+ optimizer `tf.keras.optimizers.SGD` runs slowly on M1/M2 Macs, please use the legacy Keras optimizer instead, located at `tf.keras.optimizers.legacy.SGD`.\n",
      "WARNING:absl:There is a known slowdown when using v2.11+ Keras optimizers on M1/M2 Macs. Falling back to the legacy Keras optimizer, i.e., `tf.keras.optimizers.legacy.SGD`.\n"
     ]
    },
    {
     "name": "stdout",
     "output_type": "stream",
     "text": [
      "Learning rate =  0.1\n",
      "Lambda =  10.0\n",
      "Test accuracy: 0.078\n",
      "\n",
      "12/12 [==============================] - 0s 16ms/step - loss: 55958196224.0000 - accuracy: 0.0917\n"
     ]
    },
    {
     "name": "stderr",
     "output_type": "stream",
     "text": [
      "WARNING:absl:At this time, the v2.11+ optimizer `tf.keras.optimizers.SGD` runs slowly on M1/M2 Macs, please use the legacy Keras optimizer instead, located at `tf.keras.optimizers.legacy.SGD`.\n",
      "WARNING:absl:There is a known slowdown when using v2.11+ Keras optimizers on M1/M2 Macs. Falling back to the legacy Keras optimizer, i.e., `tf.keras.optimizers.legacy.SGD`.\n"
     ]
    },
    {
     "name": "stdout",
     "output_type": "stream",
     "text": [
      "Learning rate =  1.0\n",
      "Lambda =  1e-05\n",
      "Test accuracy: 0.092\n",
      "\n",
      "12/12 [==============================] - 0s 14ms/step - loss: 3264006030622720.0000 - accuracy: 0.1167\n"
     ]
    },
    {
     "name": "stderr",
     "output_type": "stream",
     "text": [
      "WARNING:absl:At this time, the v2.11+ optimizer `tf.keras.optimizers.SGD` runs slowly on M1/M2 Macs, please use the legacy Keras optimizer instead, located at `tf.keras.optimizers.legacy.SGD`.\n",
      "WARNING:absl:There is a known slowdown when using v2.11+ Keras optimizers on M1/M2 Macs. Falling back to the legacy Keras optimizer, i.e., `tf.keras.optimizers.legacy.SGD`.\n"
     ]
    },
    {
     "name": "stdout",
     "output_type": "stream",
     "text": [
      "Learning rate =  1.0\n",
      "Lambda =  0.0001\n",
      "Test accuracy: 0.117\n",
      "\n",
      "12/12 [==============================] - 0s 16ms/step - loss: 1210712320.0000 - accuracy: 0.0778\n"
     ]
    },
    {
     "name": "stderr",
     "output_type": "stream",
     "text": [
      "WARNING:absl:At this time, the v2.11+ optimizer `tf.keras.optimizers.SGD` runs slowly on M1/M2 Macs, please use the legacy Keras optimizer instead, located at `tf.keras.optimizers.legacy.SGD`.\n",
      "WARNING:absl:There is a known slowdown when using v2.11+ Keras optimizers on M1/M2 Macs. Falling back to the legacy Keras optimizer, i.e., `tf.keras.optimizers.legacy.SGD`.\n"
     ]
    },
    {
     "name": "stdout",
     "output_type": "stream",
     "text": [
      "Learning rate =  1.0\n",
      "Lambda =  0.001\n",
      "Test accuracy: 0.078\n",
      "\n",
      "12/12 [==============================] - 0s 15ms/step - loss: 407183040.0000 - accuracy: 0.1250\n"
     ]
    },
    {
     "name": "stderr",
     "output_type": "stream",
     "text": [
      "WARNING:absl:At this time, the v2.11+ optimizer `tf.keras.optimizers.SGD` runs slowly on M1/M2 Macs, please use the legacy Keras optimizer instead, located at `tf.keras.optimizers.legacy.SGD`.\n",
      "WARNING:absl:There is a known slowdown when using v2.11+ Keras optimizers on M1/M2 Macs. Falling back to the legacy Keras optimizer, i.e., `tf.keras.optimizers.legacy.SGD`.\n"
     ]
    },
    {
     "name": "stdout",
     "output_type": "stream",
     "text": [
      "Learning rate =  1.0\n",
      "Lambda =  0.01\n",
      "Test accuracy: 0.125\n",
      "\n",
      "12/12 [==============================] - 0s 16ms/step - loss: 176814560.0000 - accuracy: 0.1139\n"
     ]
    },
    {
     "name": "stderr",
     "output_type": "stream",
     "text": [
      "WARNING:absl:At this time, the v2.11+ optimizer `tf.keras.optimizers.SGD` runs slowly on M1/M2 Macs, please use the legacy Keras optimizer instead, located at `tf.keras.optimizers.legacy.SGD`.\n",
      "WARNING:absl:There is a known slowdown when using v2.11+ Keras optimizers on M1/M2 Macs. Falling back to the legacy Keras optimizer, i.e., `tf.keras.optimizers.legacy.SGD`.\n"
     ]
    },
    {
     "name": "stdout",
     "output_type": "stream",
     "text": [
      "Learning rate =  1.0\n",
      "Lambda =  0.1\n",
      "Test accuracy: 0.114\n",
      "\n",
      "12/12 [==============================] - 0s 16ms/step - loss: nan - accuracy: 0.0778\n"
     ]
    },
    {
     "name": "stderr",
     "output_type": "stream",
     "text": [
      "WARNING:absl:At this time, the v2.11+ optimizer `tf.keras.optimizers.SGD` runs slowly on M1/M2 Macs, please use the legacy Keras optimizer instead, located at `tf.keras.optimizers.legacy.SGD`.\n",
      "WARNING:absl:There is a known slowdown when using v2.11+ Keras optimizers on M1/M2 Macs. Falling back to the legacy Keras optimizer, i.e., `tf.keras.optimizers.legacy.SGD`.\n"
     ]
    },
    {
     "name": "stdout",
     "output_type": "stream",
     "text": [
      "Learning rate =  1.0\n",
      "Lambda =  1.0\n",
      "Test accuracy: 0.078\n",
      "\n",
      "12/12 [==============================] - 0s 16ms/step - loss: nan - accuracy: 0.0778\n"
     ]
    },
    {
     "name": "stderr",
     "output_type": "stream",
     "text": [
      "WARNING:absl:At this time, the v2.11+ optimizer `tf.keras.optimizers.SGD` runs slowly on M1/M2 Macs, please use the legacy Keras optimizer instead, located at `tf.keras.optimizers.legacy.SGD`.\n",
      "WARNING:absl:There is a known slowdown when using v2.11+ Keras optimizers on M1/M2 Macs. Falling back to the legacy Keras optimizer, i.e., `tf.keras.optimizers.legacy.SGD`.\n"
     ]
    },
    {
     "name": "stdout",
     "output_type": "stream",
     "text": [
      "Learning rate =  1.0\n",
      "Lambda =  10.0\n",
      "Test accuracy: 0.078\n",
      "\n",
      "12/12 [==============================] - 0s 18ms/step - loss: 39873129881759191536328014561280.0000 - accuracy: 0.1167\n"
     ]
    },
    {
     "name": "stderr",
     "output_type": "stream",
     "text": [
      "WARNING:absl:At this time, the v2.11+ optimizer `tf.keras.optimizers.SGD` runs slowly on M1/M2 Macs, please use the legacy Keras optimizer instead, located at `tf.keras.optimizers.legacy.SGD`.\n",
      "WARNING:absl:There is a known slowdown when using v2.11+ Keras optimizers on M1/M2 Macs. Falling back to the legacy Keras optimizer, i.e., `tf.keras.optimizers.legacy.SGD`.\n"
     ]
    },
    {
     "name": "stdout",
     "output_type": "stream",
     "text": [
      "Learning rate =  10.0\n",
      "Lambda =  1e-05\n",
      "Test accuracy: 0.117\n",
      "\n",
      "12/12 [==============================] - 0s 20ms/step - loss: 2295805439804428172051771031552.0000 - accuracy: 0.0889\n"
     ]
    },
    {
     "name": "stderr",
     "output_type": "stream",
     "text": [
      "WARNING:absl:At this time, the v2.11+ optimizer `tf.keras.optimizers.SGD` runs slowly on M1/M2 Macs, please use the legacy Keras optimizer instead, located at `tf.keras.optimizers.legacy.SGD`.\n",
      "WARNING:absl:There is a known slowdown when using v2.11+ Keras optimizers on M1/M2 Macs. Falling back to the legacy Keras optimizer, i.e., `tf.keras.optimizers.legacy.SGD`.\n"
     ]
    },
    {
     "name": "stdout",
     "output_type": "stream",
     "text": [
      "Learning rate =  10.0\n",
      "Lambda =  0.0001\n",
      "Test accuracy: 0.089\n",
      "\n",
      "12/12 [==============================] - 0s 21ms/step - loss: 1111191052603097088.0000 - accuracy: 0.0917\n",
      "Learning rate =  10.0\n",
      "Lambda =  0.001\n",
      "Test accuracy: 0.092\n",
      "\n"
     ]
    },
    {
     "name": "stderr",
     "output_type": "stream",
     "text": [
      "WARNING:absl:At this time, the v2.11+ optimizer `tf.keras.optimizers.SGD` runs slowly on M1/M2 Macs, please use the legacy Keras optimizer instead, located at `tf.keras.optimizers.legacy.SGD`.\n",
      "WARNING:absl:There is a known slowdown when using v2.11+ Keras optimizers on M1/M2 Macs. Falling back to the legacy Keras optimizer, i.e., `tf.keras.optimizers.legacy.SGD`.\n"
     ]
    },
    {
     "name": "stdout",
     "output_type": "stream",
     "text": [
      "12/12 [==============================] - 0s 21ms/step - loss: 21934998013774926475952128.0000 - accuracy: 0.0889\n",
      "Learning rate =  10.0\n",
      "Lambda =  0.01\n",
      "Test accuracy: 0.089\n",
      "\n"
     ]
    },
    {
     "name": "stderr",
     "output_type": "stream",
     "text": [
      "WARNING:absl:At this time, the v2.11+ optimizer `tf.keras.optimizers.SGD` runs slowly on M1/M2 Macs, please use the legacy Keras optimizer instead, located at `tf.keras.optimizers.legacy.SGD`.\n",
      "WARNING:absl:There is a known slowdown when using v2.11+ Keras optimizers on M1/M2 Macs. Falling back to the legacy Keras optimizer, i.e., `tf.keras.optimizers.legacy.SGD`.\n"
     ]
    },
    {
     "name": "stdout",
     "output_type": "stream",
     "text": [
      "12/12 [==============================] - 0s 18ms/step - loss: nan - accuracy: 0.0778\n",
      "Learning rate =  10.0\n",
      "Lambda =  0.1\n",
      "Test accuracy: 0.078\n",
      "\n"
     ]
    },
    {
     "name": "stderr",
     "output_type": "stream",
     "text": [
      "WARNING:absl:At this time, the v2.11+ optimizer `tf.keras.optimizers.SGD` runs slowly on M1/M2 Macs, please use the legacy Keras optimizer instead, located at `tf.keras.optimizers.legacy.SGD`.\n",
      "WARNING:absl:There is a known slowdown when using v2.11+ Keras optimizers on M1/M2 Macs. Falling back to the legacy Keras optimizer, i.e., `tf.keras.optimizers.legacy.SGD`.\n"
     ]
    },
    {
     "name": "stdout",
     "output_type": "stream",
     "text": [
      "12/12 [==============================] - 0s 18ms/step - loss: nan - accuracy: 0.0778\n"
     ]
    },
    {
     "name": "stderr",
     "output_type": "stream",
     "text": [
      "WARNING:absl:At this time, the v2.11+ optimizer `tf.keras.optimizers.SGD` runs slowly on M1/M2 Macs, please use the legacy Keras optimizer instead, located at `tf.keras.optimizers.legacy.SGD`.\n",
      "WARNING:absl:There is a known slowdown when using v2.11+ Keras optimizers on M1/M2 Macs. Falling back to the legacy Keras optimizer, i.e., `tf.keras.optimizers.legacy.SGD`.\n"
     ]
    },
    {
     "name": "stdout",
     "output_type": "stream",
     "text": [
      "Learning rate =  10.0\n",
      "Lambda =  1.0\n",
      "Test accuracy: 0.078\n",
      "\n",
      "12/12 [==============================] - 0s 18ms/step - loss: nan - accuracy: 0.0778\n",
      "Learning rate =  10.0\n",
      "Lambda =  10.0\n",
      "Test accuracy: 0.078\n",
      "\n"
     ]
    }
   ],
   "source": [
    "CNN_keras = np.zeros((len(eta_vals), len(lmbd_vals)), dtype=object)\n",
    "        \n",
    "for i, eta in enumerate(eta_vals):\n",
    "    for j, lmbd in enumerate(lmbd_vals):\n",
    "        CNN = create_convolutional_neural_network_keras(input_shape, receptive_field,\n",
    "                                              n_filters, n_neurons_connected, n_categories,\n",
    "                                              eta, lmbd)\n",
    "        CNN.fit(X_train, Y_train, epochs=epochs, batch_size=batch_size, verbose=0)\n",
    "        scores = CNN.evaluate(X_test, Y_test)\n",
    "        \n",
    "        CNN_keras[i][j] = CNN\n",
    "        \n",
    "        print(\"Learning rate = \", eta)\n",
    "        print(\"Lambda = \", lmbd)\n",
    "        print(\"Test accuracy: %.3f\" % scores[1])\n",
    "        print()"
   ]
  },
  {
   "cell_type": "markdown",
   "id": "ad84a906",
   "metadata": {
    "editable": true
   },
   "source": [
    "## Final visualization"
   ]
  },
  {
   "cell_type": "code",
   "execution_count": 10,
   "id": "ea130c18",
   "metadata": {
    "collapsed": false,
    "editable": true,
    "jupyter": {
     "outputs_hidden": false
    }
   },
   "outputs": [
    {
     "name": "stdout",
     "output_type": "stream",
     "text": [
      "45/45 [==============================] - 1s 18ms/step - loss: 3.9631 - accuracy: 0.1371\n",
      "12/12 [==============================] - 0s 17ms/step - loss: 4.0398 - accuracy: 0.1417\n",
      "45/45 [==============================] - 1s 16ms/step - loss: 2.4785 - accuracy: 0.1865\n",
      "12/12 [==============================] - 0s 16ms/step - loss: 2.5344 - accuracy: 0.1833\n",
      "45/45 [==============================] - 1s 16ms/step - loss: 4.0069 - accuracy: 0.1712\n",
      "12/12 [==============================] - 0s 16ms/step - loss: 3.6491 - accuracy: 0.1639\n",
      "45/45 [==============================] - 1s 16ms/step - loss: 5.0145 - accuracy: 0.1120\n",
      "12/12 [==============================] - 0s 16ms/step - loss: 4.9854 - accuracy: 0.1083\n",
      "45/45 [==============================] - 1s 16ms/step - loss: 13.5388 - accuracy: 0.1169\n",
      "12/12 [==============================] - 0s 16ms/step - loss: 13.4366 - accuracy: 0.1139\n",
      "45/45 [==============================] - 1s 16ms/step - loss: 91.7687 - accuracy: 0.1009\n",
      "12/12 [==============================] - 0s 16ms/step - loss: 91.9076 - accuracy: 0.0917\n",
      "45/45 [==============================] - 1s 16ms/step - loss: 515.2089 - accuracy: 0.1559\n",
      "12/12 [==============================] - 0s 18ms/step - loss: 515.2705 - accuracy: 0.1611\n",
      "45/45 [==============================] - 1s 17ms/step - loss: 1.9225 - accuracy: 0.3132\n",
      "12/12 [==============================] - 0s 16ms/step - loss: 1.8769 - accuracy: 0.3222\n",
      "45/45 [==============================] - 1s 16ms/step - loss: 1.5962 - accuracy: 0.4927\n",
      "12/12 [==============================] - 0s 16ms/step - loss: 1.6677 - accuracy: 0.4694\n",
      "45/45 [==============================] - 1s 16ms/step - loss: 1.9089 - accuracy: 0.3932\n",
      "12/12 [==============================] - 0s 16ms/step - loss: 1.9363 - accuracy: 0.3722\n",
      "45/45 [==============================] - 1s 16ms/step - loss: 2.5541 - accuracy: 0.4635\n",
      "12/12 [==============================] - 0s 18ms/step - loss: 2.5220 - accuracy: 0.4361\n",
      "45/45 [==============================] - 1s 17ms/step - loss: 10.9686 - accuracy: 0.3062\n",
      "12/12 [==============================] - 0s 19ms/step - loss: 10.8866 - accuracy: 0.3278\n",
      "45/45 [==============================] - 1s 18ms/step - loss: 53.6842 - accuracy: 0.4537\n",
      "12/12 [==============================] - 0s 17ms/step - loss: 53.7592 - accuracy: 0.3722\n",
      "45/45 [==============================] - 1s 19ms/step - loss: 4.6182 - accuracy: 0.1677\n",
      "12/12 [==============================] - 0s 18ms/step - loss: 4.6184 - accuracy: 0.1500\n",
      "45/45 [==============================] - 1s 18ms/step - loss: 0.1837 - accuracy: 0.9485\n",
      "12/12 [==============================] - 0s 17ms/step - loss: 0.2527 - accuracy: 0.9000\n",
      "45/45 [==============================] - 1s 16ms/step - loss: 0.2775 - accuracy: 0.9144\n",
      "12/12 [==============================] - 0s 16ms/step - loss: 0.3268 - accuracy: 0.8972\n",
      "45/45 [==============================] - 1s 16ms/step - loss: 0.3066 - accuracy: 0.9332\n",
      "12/12 [==============================] - 0s 17ms/step - loss: 0.3645 - accuracy: 0.9194\n",
      "45/45 [==============================] - 1s 16ms/step - loss: 1.0888 - accuracy: 0.9492\n",
      "12/12 [==============================] - 0s 16ms/step - loss: 1.1322 - accuracy: 0.9333\n",
      "45/45 [==============================] - 1s 16ms/step - loss: 5.7583 - accuracy: 0.9360\n",
      "12/12 [==============================] - 0s 17ms/step - loss: 5.7984 - accuracy: 0.9222\n",
      "45/45 [==============================] - 1s 17ms/step - loss: 2.5734 - accuracy: 0.4558\n",
      "12/12 [==============================] - 0s 16ms/step - loss: 2.5738 - accuracy: 0.4667\n",
      "45/45 [==============================] - 1s 16ms/step - loss: 2.3024 - accuracy: 0.1044\n",
      "12/12 [==============================] - 0s 16ms/step - loss: 2.3032 - accuracy: 0.0778\n",
      "45/45 [==============================] - 1s 17ms/step - loss: 0.0151 - accuracy: 0.9993\n",
      "12/12 [==============================] - 0s 18ms/step - loss: 0.1319 - accuracy: 0.9500\n",
      "45/45 [==============================] - 1s 18ms/step - loss: 0.0254 - accuracy: 0.9979\n",
      "12/12 [==============================] - 0s 17ms/step - loss: 0.1150 - accuracy: 0.9778\n",
      "45/45 [==============================] - 1s 16ms/step - loss: 0.1258 - accuracy: 0.9951\n",
      "12/12 [==============================] - 0s 16ms/step - loss: 0.1954 - accuracy: 0.9639\n",
      "45/45 [==============================] - 1s 16ms/step - loss: 0.6317 - accuracy: 0.9972\n",
      "12/12 [==============================] - 0s 16ms/step - loss: 0.6933 - accuracy: 0.9778\n",
      "45/45 [==============================] - 1s 16ms/step - loss: 0.8944 - accuracy: 0.9624\n",
      "12/12 [==============================] - 0s 16ms/step - loss: 0.9434 - accuracy: 0.9444\n",
      "45/45 [==============================] - 1s 16ms/step - loss: 2.3020 - accuracy: 0.1044\n",
      "12/12 [==============================] - 0s 17ms/step - loss: 2.3064 - accuracy: 0.0889\n",
      "45/45 [==============================] - 1s 17ms/step - loss: 2.3020 - accuracy: 0.1044\n",
      "12/12 [==============================] - 0s 16ms/step - loss: 2.3063 - accuracy: 0.0778\n",
      "45/45 [==============================] - 1s 17ms/step - loss: 3.5570 - accuracy: 0.6013\n",
      "12/12 [==============================] - 0s 19ms/step - loss: 3.6683 - accuracy: 0.5639\n",
      "45/45 [==============================] - 1s 18ms/step - loss: 2.3048 - accuracy: 0.4287\n",
      "12/12 [==============================] - 0s 17ms/step - loss: 2.3437 - accuracy: 0.3778\n",
      "45/45 [==============================] - 1s 17ms/step - loss: 3.5752 - accuracy: 0.1044\n",
      "12/12 [==============================] - 0s 19ms/step - loss: 3.5803 - accuracy: 0.0778\n",
      "45/45 [==============================] - 1s 17ms/step - loss: 3.5179 - accuracy: 0.8017\n",
      "12/12 [==============================] - 0s 17ms/step - loss: 4.4832 - accuracy: 0.7806\n",
      "45/45 [==============================] - 1s 16ms/step - loss: 2.3020 - accuracy: 0.1044\n",
      "12/12 [==============================] - 0s 17ms/step - loss: 2.3080 - accuracy: 0.0889\n",
      "45/45 [==============================] - 1s 17ms/step - loss: 2.3020 - accuracy: 0.1037\n",
      "12/12 [==============================] - 0s 17ms/step - loss: 2.3078 - accuracy: 0.0889\n",
      "45/45 [==============================] - 1s 17ms/step - loss: nan - accuracy: 0.1044\n",
      "12/12 [==============================] - 0s 16ms/step - loss: nan - accuracy: 0.0778\n",
      "45/45 [==============================] - 1s 16ms/step - loss: 55924092928.0000 - accuracy: 0.1016\n",
      "12/12 [==============================] - 0s 17ms/step - loss: 55958196224.0000 - accuracy: 0.0917\n",
      "45/45 [==============================] - 1s 16ms/step - loss: 3264090050920448.0000 - accuracy: 0.0939\n",
      "12/12 [==============================] - 0s 17ms/step - loss: 3264006030622720.0000 - accuracy: 0.1167\n",
      "45/45 [==============================] - 1s 17ms/step - loss: 1210077568.0000 - accuracy: 0.1044\n",
      "12/12 [==============================] - 0s 16ms/step - loss: 1210712320.0000 - accuracy: 0.0778\n",
      "45/45 [==============================] - 1s 17ms/step - loss: 420511488.0000 - accuracy: 0.0953\n",
      "12/12 [==============================] - 0s 18ms/step - loss: 407183040.0000 - accuracy: 0.1250\n",
      "45/45 [==============================] - 1s 19ms/step - loss: 180683968.0000 - accuracy: 0.0967\n",
      "12/12 [==============================] - 0s 18ms/step - loss: 176814560.0000 - accuracy: 0.1139\n",
      "45/45 [==============================] - 1s 17ms/step - loss: nan - accuracy: 0.1044\n",
      "12/12 [==============================] - 0s 16ms/step - loss: nan - accuracy: 0.0778\n",
      "45/45 [==============================] - 1s 18ms/step - loss: nan - accuracy: 0.1044\n",
      "12/12 [==============================] - 0s 16ms/step - loss: nan - accuracy: 0.0778\n",
      "45/45 [==============================] - 1s 16ms/step - loss: 43046318373083670194096785326080.0000 - accuracy: 0.0939\n",
      "12/12 [==============================] - 0s 16ms/step - loss: 39873129881759191536328014561280.0000 - accuracy: 0.1167\n",
      "45/45 [==============================] - 1s 16ms/step - loss: 2214741070085896664570495238144.0000 - accuracy: 0.1037\n",
      "12/12 [==============================] - 0s 16ms/step - loss: 2295805439804428172051771031552.0000 - accuracy: 0.0889\n",
      "45/45 [==============================] - 1s 16ms/step - loss: 1109466125017546752.0000 - accuracy: 0.1016\n",
      "12/12 [==============================] - 0s 16ms/step - loss: 1111191052603097088.0000 - accuracy: 0.0917\n",
      "45/45 [==============================] - 1s 16ms/step - loss: 22378344754999452625797120.0000 - accuracy: 0.1044\n",
      "12/12 [==============================] - 0s 17ms/step - loss: 21934998013774926475952128.0000 - accuracy: 0.0889\n",
      "45/45 [==============================] - 1s 16ms/step - loss: nan - accuracy: 0.1044\n",
      "12/12 [==============================] - 0s 16ms/step - loss: nan - accuracy: 0.0778\n",
      "45/45 [==============================] - 1s 16ms/step - loss: nan - accuracy: 0.1044\n",
      "12/12 [==============================] - 0s 16ms/step - loss: nan - accuracy: 0.0778\n",
      "45/45 [==============================] - 1s 16ms/step - loss: nan - accuracy: 0.1044\n",
      "12/12 [==============================] - 0s 15ms/step - loss: nan - accuracy: 0.0778\n"
     ]
    },
    {
     "data": {
      "image/png": "[encoded data removed]",
      "text/plain": [
       "<Figure size 1000x1000 with 2 Axes>"
      ]
     },
     "metadata": {},
     "output_type": "display_data"
    },
    {
     "data": {
      "image/png": "[encoded data removed]",
      "text/plain": [
       "<Figure size 1000x1000 with 2 Axes>"
      ]
     },
     "metadata": {},
     "output_type": "display_data"
    }
   ],
   "source": [
    "# visual representation of grid search\n",
    "# uses seaborn heatmap, could probably do this in matplotlib\n",
    "import seaborn as sns\n",
    "\n",
    "sns.set()\n",
    "\n",
    "train_accuracy = np.zeros((len(eta_vals), len(lmbd_vals)))\n",
    "test_accuracy = np.zeros((len(eta_vals), len(lmbd_vals)))\n",
    "\n",
    "for i in range(len(eta_vals)):\n",
    "    for j in range(len(lmbd_vals)):\n",
    "        CNN = CNN_keras[i][j]\n",
    "\n",
    "        train_accuracy[i][j] = CNN.evaluate(X_train, Y_train)[1]\n",
    "        test_accuracy[i][j] = CNN.evaluate(X_test, Y_test)[1]\n",
    "\n",
    "        \n",
    "fig, ax = plt.subplots(figsize = (10, 10))\n",
    "sns.heatmap(train_accuracy, annot=True, ax=ax, cmap=\"viridis\")\n",
    "ax.set_title(\"Training Accuracy\")\n",
    "ax.set_ylabel(\"$\\eta$\")\n",
    "ax.set_xlabel(\"$\\lambda$\")\n",
    "plt.show()\n",
    "\n",
    "fig, ax = plt.subplots(figsize = (10, 10))\n",
    "sns.heatmap(test_accuracy, annot=True, ax=ax, cmap=\"viridis\")\n",
    "ax.set_title(\"Test Accuracy\")\n",
    "ax.set_ylabel(\"$\\eta$\")\n",
    "ax.set_xlabel(\"$\\lambda$\")\n",
    "plt.show()"
   ]
  },
  {
   "cell_type": "markdown",
   "id": "fd05b4ab",
   "metadata": {
    "editable": true
   },
   "source": [
    "## Finally, evaluate the model"
   ]
  },
  {
   "cell_type": "code",
   "execution_count": 10,
   "id": "7e85b35b",
   "metadata": {
    "collapsed": false,
    "editable": true,
    "jupyter": {
     "outputs_hidden": false
    }
   },
   "outputs": [],
   "source": [
    "plt.plot(history.history['accuracy'], label='accuracy')\n",
    "plt.plot(history.history['val_accuracy'], label = 'val_accuracy')\n",
    "plt.xlabel('Epoch')\n",
    "plt.ylabel('Accuracy')\n",
    "plt.ylim([0.5, 1])\n",
    "plt.legend(loc='lower right')\n",
    "\n",
    "test_loss, test_acc = model.evaluate(test_images,  test_labels, verbose=2)\n",
    "\n",
    "print(test_acc)"
   ]
  },
  {
   "cell_type": "markdown",
   "id": "bcedfab3",
   "metadata": {
    "editable": true
   },
   "source": [
    "## Building code using Pytorch\n",
    "\n",
    "This code loads and normalizes the MNIST dataset. Thereafter it defines  a CNN architecture using PyTorch with:\n",
    "1. Two convolutional layers\n",
    "\n",
    "2. Max pooling\n",
    "\n",
    "3. Dropout for regularization\n",
    "\n",
    "4. Two fully connected layers\n",
    "\n",
    "It uses the Adam optimizer and for cost function it employs the\n",
    "Cross-Entropy function. It trains for 10 epochs.\n",
    "You can modify the architecture (number of layers, channels, dropout\n",
    "rate) or training parameters (learning rate, batch size, epochs) to\n",
    "experiment with different configurations."
   ]
  },
  {
   "cell_type": "code",
   "execution_count": 11,
   "id": "f1b43937",
   "metadata": {
    "collapsed": false,
    "editable": true,
    "jupyter": {
     "outputs_hidden": false
    }
   },
   "outputs": [],
   "source": [
    "import torch\n",
    "import torch.nn as nn\n",
    "import torch.nn.functional as F\n",
    "import torch.optim as optim\n",
    "from torchvision import datasets, transforms\n",
    "\n",
    "# Set device\n",
    "device = torch.device(\"cuda\" if torch.cuda.is_available() else \"cpu\")\n",
    "\n",
    "# Define transforms\n",
    "transform = transforms.Compose([\n",
    "   transforms.ToTensor(),\n",
    "   transforms.Normalize((0.1307,), (0.3081,))\n",
    "])\n",
    "\n",
    "# Load datasets\n",
    "train_dataset = datasets.MNIST(root='./data', train=True, download=True, transform=transform)\n",
    "test_dataset = datasets.MNIST(root='./data', train=False, download=True, transform=transform)\n",
    "\n",
    "# Create data loaders\n",
    "train_loader = torch.utils.data.DataLoader(train_dataset, batch_size=64, shuffle=True)\n",
    "test_loader = torch.utils.data.DataLoader(test_dataset, batch_size=64, shuffle=False)\n",
    "\n",
    "# Define CNN model\n",
    "class CNN(nn.Module):\n",
    "   def __init__(self):\n",
    "       super(CNN, self).__init__()\n",
    "       self.conv1 = nn.Conv2d(1, 32, 3, padding=1)\n",
    "       self.conv2 = nn.Conv2d(32, 64, 3, padding=1)\n",
    "       self.pool = nn.MaxPool2d(2, 2)\n",
    "       self.fc1 = nn.Linear(64*7*7, 1024)\n",
    "       self.fc2 = nn.Linear(1024, 10)\n",
    "       self.dropout = nn.Dropout(0.5)\n",
    "\n",
    "   def forward(self, x):\n",
    "       x = self.pool(F.relu(self.conv1(x)))\n",
    "       x = self.pool(F.relu(self.conv2(x)))\n",
    "       x = x.view(-1, 64*7*7)\n",
    "       x = self.dropout(F.relu(self.fc1(x)))\n",
    "       x = self.fc2(x)\n",
    "       return x\n",
    "\n",
    "# Initialize model, loss function, and optimizer\n",
    "model = CNN().to(device)\n",
    "criterion = nn.CrossEntropyLoss()\n",
    "optimizer = optim.Adam(model.parameters(), lr=0.001)\n",
    "\n",
    "# Training loop\n",
    "num_epochs = 10\n",
    "for epoch in range(num_epochs):\n",
    "   model.train()\n",
    "   running_loss = 0.0\n",
    "   for batch_idx, (data, target) in enumerate(train_loader):\n",
    "       data, target = data.to(device), target.to(device)\n",
    "       optimizer.zero_grad()\n",
    "       outputs = model(data)\n",
    "       loss = criterion(outputs, target)\n",
    "       loss.backward()\n",
    "       optimizer.step()\n",
    "       running_loss += loss.item()\n",
    "\n",
    "   print(f'Epoch [{epoch+1}/{num_epochs}], Loss: {running_loss/len(train_loader):.4f}')\n",
    "\n",
    "# Testing the model\n",
    "model.eval()\n",
    "correct = 0\n",
    "total = 0\n",
    "with torch.no_grad():\n",
    "   for data, target in test_loader:\n",
    "       data, target = data.to(device), target.to(device)\n",
    "       outputs = model(data)\n",
    "       _, predicted = torch.max(outputs.data, 1)\n",
    "       total += target.size(0)\n",
    "       correct += (predicted == target).sum().item()\n",
    "\n",
    "print(f'Test Accuracy: {100 * correct / total:.2f}%')"
   ]
  },
  {
   "cell_type": "markdown",
   "id": "5e8a34ed",
   "metadata": {
    "editable": true
   },
   "source": [
    "## What is dropout?\n",
    "\n",
    "Dropout is a regularization technique used to prevent overfitting in\n",
    "neural networks. During training, a randomly selected fraction\n",
    "(typically 20-50$\\%$) of neurons in each layer are temporarily\n",
    "deactivated (dropped out). This compels the network to distribute\n",
    "feature representation across multiple neurons instead of relying on a\n",
    "small subset."
   ]
  },
  {
   "cell_type": "markdown",
   "id": "6cdfdbe8",
   "metadata": {
    "editable": true
   },
   "source": [
    "### Key benefits of Dropout:\n",
    "\n",
    "1. Random Neuron Deactivation: Neurons are randomly ignored during each forward pass.\n",
    "\n",
    "2. Overfitting Reduction: Encourages the learning of more robust data representations by preventing reliance on specific neurons.\n",
    "\n",
    "3. Improved Robustness: At test time, all neurons are active, with weights scaled down to account for the training phase dropout rate.\n",
    "\n",
    "Dropout is commonly applied after fully connected layers in CNNs, but can also be used after convolutional layers.\n",
    "\n",
    "1. Application after convolutional layers: While less frequent, dropout can be applied between convolutional and pooling layers. The inherent regularization provided by shared weights and pooling in convolutional layers already mitigates overfitting.\n",
    "\n",
    "2. Application after fully connected Layers: Dropout is typically applied to fully connected layers due to the increased risk of overfitting caused by the large number of parameters."
   ]
  },
  {
   "cell_type": "markdown",
   "id": "db23cf5a",
   "metadata": {
    "editable": true
   },
   "source": [
    "## Building our own CNN code\n",
    "\n",
    "Here we present a flexible and readable python code for a CNN\n",
    "implemented with NumPy. We will present the code, showcase how to use\n",
    "the codebase and fit a CNN that yields a 99% accuracy on the 28x28\n",
    "MNIST dataset within reasonable time.\n",
    "\n",
    "**The codes here were developed by Eric Reber and Gregor Kajda during spring 2023.**\n",
    "\n",
    "The CNN is compatible with all schedulers, cost functions and\n",
    "activation functions discussed in constructing our neural network\n",
    "codes.\n",
    "\n",
    " The CNN code consists of different types of Layer classes, including\n",
    "Convolution2DLayer, Pooling2DLayer, FlattenLayer, FullyConnectedLayer\n",
    "and OutputLayer, which can be added to the CNN object using the\n",
    "interface of the CNN class. This allows you to easily construct your\n",
    "own CNN, as well as allowing you to get used to an interface similar\n",
    "to that of TensorFlow which is used for real world applications. \n",
    "\n",
    "Another important feature of this code is that it throws errors if\n",
    "unreasonable decisions are made (for example using a kernel that is\n",
    "larger than the image, not using a FlattenLayer, etc), and provides\n",
    "the user with an informative error message."
   ]
  },
  {
   "cell_type": "markdown",
   "id": "b8790c79",
   "metadata": {
    "editable": true
   },
   "source": [
    "### List of contents:\n",
    "\n",
    "1. Schedulers\n",
    "\n",
    "2. Activation Functions\n",
    "\n",
    "3. Cost Functions \n",
    "\n",
    "4. Convolution\n",
    "\n",
    "5. Layers\n",
    "\n",
    "6. CNN \n",
    "\n",
    "7. Some final remarks"
   ]
  },
  {
   "cell_type": "markdown",
   "id": "e1da93a8",
   "metadata": {
    "editable": true
   },
   "source": [
    "### Schedulers\n",
    "\n",
    "The code below shows object oriented implementations of the Constant,\n",
    "Momentum, Adagrad, AdagradMomentum, RMS prop and Adam schedulers. All\n",
    "of the classes belong to the shared abstract Scheduler class, and\n",
    "share the update$\\_$change() and reset() methods allowing for any of the\n",
    "schedulers to be seamlessly used during the training stage, as will\n",
    "later be shown in the fit() method of the neural\n",
    "network. The function Update$\\_$change() only has one parameter, the gradient\n",
    "($\\delta^{l}_{j}a^{l-1}_k$), and returns the change which will be\n",
    "subtracted from the weights. The reset() function takes no parameters,\n",
    "and resets the desired variables. For Constant and Momentum, reset\n",
    "does nothing."
   ]
  },
  {
   "cell_type": "code",
   "execution_count": 12,
   "id": "181df4fd",
   "metadata": {
    "collapsed": false,
    "editable": true,
    "jupyter": {
     "outputs_hidden": false
    }
   },
   "outputs": [],
   "source": [
    "import autograd.numpy as np\n",
    "\n",
    "class Scheduler:\n",
    "    \"\"\"\n",
    "    Abstract class for Schedulers\n",
    "    \"\"\"\n",
    "\n",
    "    def __init__(self, eta):\n",
    "        self.eta = eta\n",
    "\n",
    "    # should be overwritten\n",
    "    def update_change(self, gradient):\n",
    "        raise NotImplementedError\n",
    "\n",
    "    # overwritten if needed\n",
    "    def reset(self):\n",
    "        pass\n",
    "\n",
    "\n",
    "class Constant(Scheduler):\n",
    "    def __init__(self, eta):\n",
    "        super().__init__(eta)\n",
    "\n",
    "    def update_change(self, gradient):\n",
    "        return self.eta * gradient\n",
    "    \n",
    "    def reset(self):\n",
    "        pass\n",
    "\n",
    "\n",
    "class Momentum(Scheduler):\n",
    "    def __init__(self, eta: float, momentum: float):\n",
    "        super().__init__(eta)\n",
    "        self.momentum = momentum\n",
    "        self.change = 0\n",
    "\n",
    "    def update_change(self, gradient):\n",
    "        self.change = self.momentum * self.change + self.eta * gradient\n",
    "        return self.change\n",
    "\n",
    "    def reset(self):\n",
    "        pass\n",
    "\n",
    "\n",
    "class Adagrad(Scheduler):\n",
    "    def __init__(self, eta):\n",
    "        super().__init__(eta)\n",
    "        self.G_t = None\n",
    "\n",
    "    def update_change(self, gradient):\n",
    "        delta = 1e-8  # avoid division ny zero\n",
    "\n",
    "        if self.G_t is None:\n",
    "            self.G_t = np.zeros((gradient.shape[0], gradient.shape[0]))\n",
    "\n",
    "        self.G_t += gradient @ gradient.T\n",
    "\n",
    "        G_t_inverse = 1 / (\n",
    "            delta + np.sqrt(np.reshape(np.diagonal(self.G_t), (self.G_t.shape[0], 1)))\n",
    "        )\n",
    "        return self.eta * gradient * G_t_inverse\n",
    "\n",
    "    def reset(self):\n",
    "        self.G_t = None\n",
    "\n",
    "\n",
    "class AdagradMomentum(Scheduler):\n",
    "    def __init__(self, eta, momentum):\n",
    "        super().__init__(eta)\n",
    "        self.G_t = None\n",
    "        self.momentum = momentum\n",
    "        self.change = 0\n",
    "\n",
    "    def update_change(self, gradient):\n",
    "        delta = 1e-8  # avoid division ny zero\n",
    "\n",
    "        if self.G_t is None:\n",
    "            self.G_t = np.zeros((gradient.shape[0], gradient.shape[0]))\n",
    "\n",
    "        self.G_t += gradient @ gradient.T\n",
    "\n",
    "        G_t_inverse = 1 / (\n",
    "            delta + np.sqrt(np.reshape(np.diagonal(self.G_t), (self.G_t.shape[0], 1)))\n",
    "        )\n",
    "        self.change = self.change * self.momentum + self.eta * gradient * G_t_inverse\n",
    "        return self.change\n",
    "\n",
    "    def reset(self):\n",
    "        self.G_t = None\n",
    "\n",
    "\n",
    "class RMS_prop(Scheduler):\n",
    "    def __init__(self, eta, rho):\n",
    "        super().__init__(eta)\n",
    "        self.rho = rho\n",
    "        self.second = 0.0\n",
    "\n",
    "    def update_change(self, gradient):\n",
    "        delta = 1e-8  # avoid division ny zero\n",
    "        self.second = self.rho * self.second + (1 - self.rho) * gradient * gradient\n",
    "        return self.eta * gradient / (np.sqrt(self.second + delta))\n",
    "\n",
    "    def reset(self):\n",
    "        self.second = 0.0\n",
    "\n",
    "\n",
    "class Adam(Scheduler):\n",
    "    def __init__(self, eta, rho, rho2):\n",
    "        super().__init__(eta)\n",
    "        self.rho = rho\n",
    "        self.rho2 = rho2\n",
    "        self.moment = 0\n",
    "        self.second = 0\n",
    "        self.n_epochs = 1\n",
    "\n",
    "    def update_change(self, gradient):\n",
    "        delta = 1e-8  # avoid division ny zero\n",
    "\n",
    "        self.moment = self.rho * self.moment + (1 - self.rho) * gradient\n",
    "        self.second = self.rho2 * self.second + (1 - self.rho2) * gradient * gradient\n",
    "\n",
    "        moment_corrected = self.moment / (1 - self.rho**self.n_epochs)\n",
    "        second_corrected = self.second / (1 - self.rho2**self.n_epochs)\n",
    "\n",
    "        return self.eta * moment_corrected / (np.sqrt(second_corrected + delta))\n",
    "\n",
    "    def reset(self):\n",
    "        self.n_epochs += 1\n",
    "        self.moment = 0\n",
    "        self.second = 0"
   ]
  },
  {
   "cell_type": "markdown",
   "id": "6395d3cc",
   "metadata": {
    "editable": true
   },
   "source": [
    "### Usage of schedulers\n",
    "\n",
    "To initalize a scheduler, simply create the object and pass in the necessary parameters such as the learning rate and the momentum as shown below. As the Scheduler class is an abstract class it should not called directly, and will raise an error upon usage."
   ]
  },
  {
   "cell_type": "code",
   "execution_count": 13,
   "id": "a374e8bf",
   "metadata": {
    "collapsed": false,
    "editable": true,
    "jupyter": {
     "outputs_hidden": false
    }
   },
   "outputs": [],
   "source": [
    "momentum_scheduler = Momentum(eta=1e-3, momentum=0.9)\n",
    "adam_scheduler = Adam(eta=1e-3, rho=0.9, rho2=0.999)"
   ]
  },
  {
   "cell_type": "markdown",
   "id": "a37292fa",
   "metadata": {
    "editable": true
   },
   "source": [
    "Here is a small example for how a segment of code using schedulers could look. Switching out the schedulers is simple."
   ]
  },
  {
   "cell_type": "code",
   "execution_count": 14,
   "id": "1f1f5d6b",
   "metadata": {
    "collapsed": false,
    "editable": true,
    "jupyter": {
     "outputs_hidden": false
    }
   },
   "outputs": [],
   "source": [
    "weights = np.ones((3,3))\n",
    "print(f\"Before scheduler:\\n{weights=}\")\n",
    "\n",
    "epochs = 10\n",
    "for e in range(epochs):\n",
    "    gradient = np.random.rand(3, 3)\n",
    "    change = adam_scheduler.update_change(gradient)\n",
    "    weights = weights - change\n",
    "    adam_scheduler.reset()\n",
    "\n",
    "print(f\"\\nAfter scheduler:\\n{weights=}\")"
   ]
  },
  {
   "cell_type": "markdown",
   "id": "1ae14644",
   "metadata": {
    "editable": true
   },
   "source": [
    "### Cost functions\n",
    "\n",
    "In this section we will quickly look at cost functions that can be\n",
    "used when creating the neural network. Every cost function takes the\n",
    "target vector as its parameter, and returns a function valued only at\n",
    "X such that it may easily be differentiated."
   ]
  },
  {
   "cell_type": "code",
   "execution_count": 15,
   "id": "dc190ded",
   "metadata": {
    "collapsed": false,
    "editable": true,
    "jupyter": {
     "outputs_hidden": false
    }
   },
   "outputs": [],
   "source": [
    "def CostOLS(target):\n",
    "    \"\"\"\n",
    "    Return OLS function valued only at X, so\n",
    "    that it may be easily differentiated\n",
    "    \"\"\"\n",
    "\n",
    "    def func(X):\n",
    "        return (1.0 / target.shape[0]) * np.sum((target - X) ** 2)\n",
    "\n",
    "    return func\n",
    "\n",
    "\n",
    "def CostLogReg(target):\n",
    "    \"\"\"\n",
    "    Return Logistic Regression cost function\n",
    "    valued only at X, so that it may be easily differentiated\n",
    "    \"\"\"\n",
    "\n",
    "    def func(X):\n",
    "        return -(1.0 / target.shape[0]) * np.sum(\n",
    "            (target * np.log(X + 10e-10)) + ((1 - target) * np.log(1 - X + 10e-10))\n",
    "        )\n",
    "\n",
    "    return func\n",
    "\n",
    "\n",
    "def CostCrossEntropy(target):\n",
    "    \"\"\"\n",
    "    Return cross entropy cost function valued only at X, so\n",
    "    that it may be easily differentiated\n",
    "    \"\"\"\n",
    "    \n",
    "    def func(X):\n",
    "        return -(1.0 / target.size) * np.sum(target * np.log(X + 10e-10))\n",
    "\n",
    "    return func"
   ]
  },
  {
   "cell_type": "markdown",
   "id": "63000395",
   "metadata": {
    "editable": true
   },
   "source": [
    "### Usage of cost functions\n",
    "\n",
    "Below we will provide a short example of how these cost function may\n",
    "be used to obtain results if you wish to test them out on your own\n",
    "using AutoGrad's automatic differentiation."
   ]
  },
  {
   "cell_type": "code",
   "execution_count": 16,
   "id": "0e057f35",
   "metadata": {
    "collapsed": false,
    "editable": true,
    "jupyter": {
     "outputs_hidden": false
    }
   },
   "outputs": [],
   "source": [
    "from autograd import grad\n",
    "\n",
    "target = np.array([[1, 2, 3]]).T\n",
    "a = np.array([[4, 5, 6]]).T\n",
    "\n",
    "cost_func = CostCrossEntropy\n",
    "cost_func_derivative = grad(cost_func(target))\n",
    "\n",
    "valued_at_a = cost_func_derivative(a)\n",
    "print(f\"Derivative of cost function {cost_func.__name__} valued at a:\\n{valued_at_a}\")"
   ]
  },
  {
   "cell_type": "markdown",
   "id": "b342b6fd",
   "metadata": {
    "editable": true
   },
   "source": [
    "### Activation functions\n",
    "\n",
    "Finally, before we look at the layers that make up the neural network,\n",
    "we will look at the activation functions which can be specified\n",
    "between the hidden layers and as the output function. Each function\n",
    "can be valued for any given vector or matrix X, and can be\n",
    "differentiated via derivate()."
   ]
  },
  {
   "cell_type": "code",
   "execution_count": 17,
   "id": "c10b8c34",
   "metadata": {
    "collapsed": false,
    "editable": true,
    "jupyter": {
     "outputs_hidden": false
    }
   },
   "outputs": [],
   "source": [
    "\n",
    "import autograd.numpy as np\n",
    "from autograd import elementwise_grad\n",
    "\n",
    "def identity(X):\n",
    "    return X\n",
    "\n",
    "\n",
    "def sigmoid(X):\n",
    "    try:\n",
    "        return 1.0 / (1 + np.exp(-X))\n",
    "    except FloatingPointError:\n",
    "        return np.where(X > np.zeros(X.shape), np.ones(X.shape), np.zeros(X.shape))\n",
    "\n",
    "\n",
    "def softmax(X):\n",
    "    X = X - np.max(X, axis=-1, keepdims=True)\n",
    "    delta = 10e-10\n",
    "    return np.exp(X) / (np.sum(np.exp(X), axis=-1, keepdims=True) + delta)\n",
    "\n",
    "\n",
    "def RELU(X):\n",
    "    return np.where(X > np.zeros(X.shape), X, np.zeros(X.shape))\n",
    "\n",
    "\n",
    "def LRELU(X):\n",
    "    delta = 10e-4\n",
    "    return np.where(X > np.zeros(X.shape), X, delta * X)\n",
    "\n",
    "\n",
    "def derivate(func):\n",
    "    if func.__name__ == \"RELU\":\n",
    "\n",
    "        def func(X):\n",
    "            return np.where(X > 0, 1, 0)\n",
    "\n",
    "        return func\n",
    "\n",
    "    elif func.__name__ == \"LRELU\":\n",
    "\n",
    "        def func(X):\n",
    "            delta = 10e-4\n",
    "            return np.where(X > 0, 1, delta)\n",
    "\n",
    "        return func\n",
    "\n",
    "    else:\n",
    "        return elementwise_grad(func)"
   ]
  },
  {
   "cell_type": "markdown",
   "id": "acaeeb02",
   "metadata": {
    "editable": true
   },
   "source": [
    "### Usage of activation functions\n",
    "\n",
    "Below we present a short demonstration of how to use an activation\n",
    "function. The derivative of the activation function will be important\n",
    "when calculating the output delta term during backpropagation. Note\n",
    "that derivate() can also be used for cost functions for a more\n",
    "generalized approach."
   ]
  },
  {
   "cell_type": "code",
   "execution_count": 18,
   "id": "50f596b1",
   "metadata": {
    "collapsed": false,
    "editable": true,
    "jupyter": {
     "outputs_hidden": false
    }
   },
   "outputs": [],
   "source": [
    "z = np.array([[4, 5, 6]]).T\n",
    "print(f\"Input to activation function:\\n{z}\")\n",
    "\n",
    "act_func = sigmoid\n",
    "a = act_func(z)\n",
    "print(f\"\\nOutput from {act_func.__name__} activation function:\\n{a}\")\n",
    "\n",
    "act_func_derivative = derivate(act_func)\n",
    "valued_at_z = act_func_derivative(a)\n",
    "print(f\"\\nDerivative of {act_func.__name__} activation function valued at z:\\n{valued_at_z}\")"
   ]
  },
  {
   "cell_type": "markdown",
   "id": "ed3225ff",
   "metadata": {
    "editable": true
   },
   "source": [
    "### Convolution\n",
    "\n",
    "In order to construct a convolutional neural network (CNN), it is\n",
    "crucial to comprehend the fundamental principles of convolution and\n",
    "how it aids in extracting information from images. Convolution, at its\n",
    "core, is merely a mathematical operation between two functions that\n",
    "yields another function. It is represented by an integral between two\n",
    "functions, which is typically expressed as:"
   ]
  },
  {
   "cell_type": "markdown",
   "id": "afb26934",
   "metadata": {
    "editable": true
   },
   "source": [
    "$$\n",
    "(f \\ast g)(t):=\\int_{-\\infty}^{\\infty} f(\\tau) g(t-\\tau) d \\tau.\n",
    "$$"
   ]
  },
  {
   "cell_type": "markdown",
   "id": "9cd10e6a",
   "metadata": {
    "editable": true
   },
   "source": [
    "Here, $f$ and $g$ are the two functions on which we want to perform an\n",
    "operation. The outcome of the convolution operation is represented by\n",
    "$(f \\ast g)$, and it is derived by sliding the function $g$ over $f$ and\n",
    "computing the integral of their product at each position. If both\n",
    "functions are continuous, convolution takes the form shown\n",
    "above. However, if we discretize both $f$ and $g$, the convolution\n",
    "operation will take the form of a sum between the elements of $f$ and $g$:"
   ]
  },
  {
   "cell_type": "markdown",
   "id": "24d486e1",
   "metadata": {
    "editable": true
   },
   "source": [
    "$$\n",
    "(f \\ast g)[n]=\\sum_{m=0}^{n-1} f(m) g(n-m).\n",
    "$$"
   ]
  },
  {
   "cell_type": "markdown",
   "id": "8c2dfba3",
   "metadata": {
    "editable": true
   },
   "source": [
    "The key idea we utilize to extract the information contained in an\n",
    "image is to slide an $m \\times n$ matrix $g$ over an $m \\times n$\n",
    "matrix $f$. In our case, $f$ represents the image, while $g$\n",
    "represents the kernel, oftentimes called a filter. However, since our\n",
    "convolution will be a two-dimensional variant, we need to extend our\n",
    "mathematical formula with an additional summation:"
   ]
  },
  {
   "cell_type": "markdown",
   "id": "5b8acfc8",
   "metadata": {
    "editable": true
   },
   "source": [
    "$$\n",
    "(f \\ast g)(i, j)\\sum_{m=0}^{M-1}\\sum_{n=0}^{N-1} f(m,n) g(i-m, j-n).\n",
    "$$"
   ]
  },
  {
   "cell_type": "markdown",
   "id": "949d0014",
   "metadata": {
    "editable": true
   },
   "source": [
    "It is imperative to note that the size of the kernel g is\n",
    "significantly smaller than the size of the input image f, thereby\n",
    "reducing the amount of computation necessary for feature\n",
    "extraction. Furthermore, the kernel is usually a trainable parameter\n",
    "in a convolutional neural network, allowing the network to learn\n",
    "appropriate kernels for specific tasks.\n",
    "\n",
    "To give you an example of how 2D convolution works in practice,\n",
    "suppose we have an image $f$ of dimension $6 \\times 6$"
   ]
  },
  {
   "cell_type": "markdown",
   "id": "42e48fda",
   "metadata": {
    "editable": true
   },
   "source": [
    "$$\n",
    "f = \\begin{bmatrix}\n",
    "4 & 1 & 2 & 9 & 8 & 6 \\\\\n",
    "9 & 5 & 9 & 5 & 8 & 5 \\\\\n",
    "1 & 5 & 9 & 7 & 6 & 4 \\\\\n",
    "2 & 9 & 8 & 3 & 7 & 1 \\\\\n",
    "8 & 1 & 6 & 4 & 2 & 2 \\\\\n",
    "1 & 0 & 5 & 7 & 8 & 2 \\\\\n",
    "\\end{bmatrix}\n",
    "$$"
   ]
  },
  {
   "cell_type": "markdown",
   "id": "572b3ae0",
   "metadata": {
    "editable": true
   },
   "source": [
    "and a $3 \\times 3$ kernel $g$ called a low-pass filter. Note that the\n",
    "kernel is usually rotated by 180 degrees during convolution, however\n",
    "this has no effect on this kernel."
   ]
  },
  {
   "cell_type": "markdown",
   "id": "f51f9827",
   "metadata": {
    "editable": true
   },
   "source": [
    "$$\n",
    "g = \\frac{1}{9}\n",
    "\\begin{bmatrix}\n",
    "1 & 1 & 1 \\\\\n",
    "1 & 1 & 1 \\\\\n",
    "1 & 1 & 1 \\\\\n",
    "\\end{bmatrix}\n",
    "$$"
   ]
  },
  {
   "cell_type": "markdown",
   "id": "4afbdb58",
   "metadata": {
    "editable": true
   },
   "source": [
    "In order to filter the image, we have to extract a $3 \\times 3$\n",
    "element from the upper left corner of $f$, and perform element-wise\n",
    "multiplication of the extracted image pixels with the elements of the\n",
    "kernel $g$:"
   ]
  },
  {
   "cell_type": "markdown",
   "id": "e6a8a468",
   "metadata": {
    "editable": true
   },
   "source": [
    "$$\n",
    "\\begin{bmatrix}\n",
    "4 & 1 & 2 \\\\\n",
    "9 & 5 & 9 \\\\\n",
    "1 & 5 & 9 \\\\\n",
    "\\end{bmatrix}\n",
    "\\cdot\n",
    "\\begin{bmatrix}\n",
    "\\frac{1}{9} & \\frac{1}{9} & \\frac{1}{9} \\\\\n",
    "\\frac{1}{9} & \\frac{1}{9} & \\frac{1}{9} \\\\\n",
    "\\frac{1}{9} & \\frac{1}{9} & \\frac{1}{9} \\\\\n",
    "\\end{bmatrix}\n",
    "=\n",
    "\\begin{bmatrix}\n",
    "\\frac{4}{9} & \\frac{1}{9} & \\frac{2}{9} \\\\\n",
    "\\frac{9}{9} & \\frac{5}{9} & \\frac{9}{9} \\\\\n",
    "\\frac{1}{9} & \\frac{5}{9} & \\frac{9}{9} \\\\\n",
    "\\end {bmatrix}\n",
    "= \\boldsymbol{A}\n",
    "$$"
   ]
  },
  {
   "cell_type": "markdown",
   "id": "f8509606",
   "metadata": {
    "editable": true
   },
   "source": [
    "Then, following the multiplication, we summarize all the elements of the resulting matrix $\\boldsymbol{A}$:"
   ]
  },
  {
   "cell_type": "markdown",
   "id": "ff17ab32",
   "metadata": {
    "editable": true
   },
   "source": [
    "$$\n",
    "(f \\ast g)(0, 0)= \\sum_{i=0}^{2} \\sum_{j=0}^{2} a_{i,j} = 5,\n",
    "$$"
   ]
  },
  {
   "cell_type": "markdown",
   "id": "6a9821b5",
   "metadata": {
    "editable": true
   },
   "source": [
    "which corresponds to the first element of the filtered image $(f \\ast g)$.\n",
    "\n",
    "Here we use a stride of $S=1$, a parameter denoted $S$ which describes how\n",
    "many indexes we move the kernel $g$ to the right before repeating the\n",
    "calculations above for the next $3 \\times 3$ element of the image\n",
    "$f$. It is usually presumed that $S=1$, however, larger values for $S$\n",
    "can be used to reduce the dimentionality of the filtered image such\n",
    "that the convolution operation is more computationally efficient. In\n",
    "the context of a convolutional neural network, this will become very\n",
    "useful.\n",
    "\n",
    "The full result of the convolution is:"
   ]
  },
  {
   "cell_type": "markdown",
   "id": "ee9eb48a",
   "metadata": {
    "editable": true
   },
   "source": [
    "$$\n",
    "(f \\ast g) =\n",
    "\\begin{bmatrix}\n",
    "5 & 5.78 & 7 & 6.44 \\\\\n",
    "6.33 & 6.67 & 6.89 & 5.11 \\\\\n",
    "5.44 & 5.78 & 5.78 & 4 \\\\\n",
    "4.44 & 4.78 & 5.56 & 4 \\\\\n",
    "\\end{bmatrix}\n",
    "$$"
   ]
  },
  {
   "cell_type": "markdown",
   "id": "1175fad1",
   "metadata": {
    "editable": true
   },
   "source": [
    "The result is markedly smaller in shape than the original image. This\n",
    "occurs when using convolution without first padding the image with\n",
    "additional columns and rows, allowing us to keep the original image\n",
    "shape after sliding the kernel over the image.  How many rows and\n",
    "columns we wish to pad the image with depends strictly on the shape of\n",
    "the kernel, as we wish to pad the image with $r$ additional rows and\n",
    "$c$ additional columns."
   ]
  },
  {
   "cell_type": "markdown",
   "id": "9998b918",
   "metadata": {
    "editable": true
   },
   "source": [
    "$$\n",
    "r =\\lfloor \\frac{\\mathrm{kernel height}}{2} \\rfloor \\cdot 2 \\\\\n",
    "c =\\lfloor \\frac{\\mathrm{kernel width}}{2} \\rfloor \\cdot 2\n",
    "$$"
   ]
  },
  {
   "cell_type": "markdown",
   "id": "c849f0ed",
   "metadata": {
    "editable": true
   },
   "source": [
    "Note the notation $\\lfloor \\frac{\\mathrm{kernel width}}{2} \\rfloor$ means that\n",
    "we floor the result of the division, meaning we round down to a whole\n",
    "number in case $\\frac{\\mathrm{kernel width}}{2}$ results in a floating point\n",
    "number.\n",
    "\n",
    "Using those simple equations, we find out by how much we have to\n",
    "extend the dimensions of the original image. Before proceeding,\n",
    "however, we might ask what we shall fill the additional rows and\n",
    "columns with? One of the most common approaches to padding is\n",
    "zero-padding, which as the name suggest, involves filling the rows and\n",
    "columns with zeros. This is the approach that we will be using for\n",
    "this demonstration. If we apply this padding to out original $6 \\times 6$\n",
    "image, the result will be an $8 \\times 8$ image as the kernel has a width and\n",
    "height of 3. Note that the original image is encapsuled by the\n",
    "zero-padded rows and columns:"
   ]
  },
  {
   "cell_type": "markdown",
   "id": "3dd3fe73",
   "metadata": {
    "editable": true
   },
   "source": [
    "$$\n",
    "\\begin{bmatrix}\n",
    "0 & 0 & 0 & 0 & 0 & 0 & 0 & 0 \\\\\n",
    "0 & 4 & 1 & 2 & 9 & 8 & 6 & 0 \\\\\n",
    "0 & 9 & 5 & 9 & 5 & 8 & 5 & 0 \\\\\n",
    "0 & 1 & 5 & 9 & 7 & 6 & 4 & 0 \\\\\n",
    "0 & 2 & 9 & 8 & 3 & 7 & 1 & 0 \\\\\n",
    "0 & 8 & 1 & 6 & 4 & 2 & 2 & 0 \\\\\n",
    "0 & 1 & 0 & 5 & 7 & 8 & 2 & 0 \\\\\n",
    "0 & 0 & 0 & 0 & 0 & 0 & 0 & 0 \\\\\n",
    "\\end{bmatrix}.\n",
    "$$"
   ]
  },
  {
   "cell_type": "markdown",
   "id": "d8696829",
   "metadata": {
    "editable": true
   },
   "source": [
    "Below we have provided code that demonstrates padding and\n",
    "convolution. As you will see when we run the code, the size of the\n",
    "image will remain unchanged when using padding.~"
   ]
  },
  {
   "cell_type": "code",
   "execution_count": 19,
   "id": "1150ddbc",
   "metadata": {
    "collapsed": false,
    "editable": true,
    "jupyter": {
     "outputs_hidden": false
    }
   },
   "outputs": [],
   "source": [
    "import numpy as np\n",
    "\n",
    "def padding(image, kernel):\n",
    "    # calculate r and c\n",
    "    r = (kernel.shape[0] // 2) * 2\n",
    "    c = (kernel.shape[1] // 2) * 2\n",
    "    \n",
    "    # padded image dimensions\n",
    "    padded_height = image.shape[0] + r\n",
    "    padded_width = image.shape[1] + c\n",
    "    \n",
    "    # for more readable code\n",
    "    k_half_height = kernel.shape[0] // 2\n",
    "    k_half_width = kernel.shape[1] // 2\n",
    "\n",
    "    # zero matrix with padded dimensions\n",
    "    padded_img = np.zeros((padded_height, padded_width))\n",
    "\n",
    "    # place image into zero matrix\n",
    "    padded_img[k_half_height : padded_height - k_half_height,\n",
    "               k_half_width : padded_width - k_half_width] = image[:, :]\n",
    "\n",
    "    return padded_img\n",
    "\n",
    "def convolve(original_image, padded_image, kernel, stride=1):\n",
    "    # rotate kernel by 180 degrees\n",
    "    kernel = np.rot90(np.rot90(kernel))\n",
    "\n",
    "    # note that kernel height // 2 is written as 'm'\n",
    "    # and kernel width // 2 as 'n' in the mathematical notation\n",
    "    m = kernel.shape[0] // 2\n",
    "    n = kernel.shape[1] // 2\n",
    "    \n",
    "    r = (kernel.shape[0] // 2) * 2\n",
    "    c = (kernel.shape[1] // 2) * 2\n",
    "    \n",
    "    # initialize output array\n",
    "    convolved_image = np.zeros(original_image.shape)\n",
    "    image_height = original_image.shape[0]\n",
    "    image_width = original_image.shape[1]\n",
    "\n",
    "    # the convolution\n",
    "    for i in range(m, image_height + m, stride):\n",
    "        for j in range(n, image_width + n, stride):\n",
    "            convolved_image[i-m, j-n] = np.sum(\n",
    "                padded_image[i : i + m, j : j + n]\n",
    "                * kernel\n",
    "            )\n",
    "            \n",
    "    return convolved_image\n",
    "\n",
    "def convolve(image, kernel, stride=1):\n",
    "    for i in range(2):\n",
    "        kernel = np.rot90(kernel)\n",
    "\n",
    "    k_half_height = kernel.shape[0] // 2\n",
    "    k_half_width = kernel.shape[0] // 2\n",
    "\n",
    "    conv_image = np.zeros(image.shape)\n",
    "    pad_image = padding(image, kernel)\n",
    "\n",
    "    for i in range(k_half_height, conv_image.shape[0] + k_half_height, stride):\n",
    "        for j in range(k_half_width, conv_image.shape[1] + k_half_width, stride):\n",
    "            conv_image[i - k_half_height, j - k_half_width] = np.sum(\n",
    "                pad_image[\n",
    "                    i - k_half_height : i + k_half_height + 1, j - k_half_width : j + k_half_width + 1\n",
    "                ]\n",
    "                * kernel\n",
    "            )\n",
    "\n",
    "    return conv_image"
   ]
  },
  {
   "cell_type": "markdown",
   "id": "8755f327",
   "metadata": {
    "editable": true
   },
   "source": [
    "Fun fact: When filtering images, you will see that convolution\n",
    "involves rotating the kernel by 180 degrees.  However, this is not the\n",
    "case when applying convolution in a CNN, where the same operation that is not\n",
    "rotated by 180 degrees is called cross-correlation, which is normally implemented in most libraries."
   ]
  },
  {
   "cell_type": "code",
   "execution_count": 20,
   "id": "1cd1ef91",
   "metadata": {
    "collapsed": false,
    "editable": true,
    "jupyter": {
     "outputs_hidden": false
    }
   },
   "outputs": [],
   "source": [
    "\n",
    "original_image = np.array([[4, 1, 2, 9, 8, 6],\n",
    "                 [9, 5, 9, 5, 8, 5],\n",
    "                 [1, 5, 9, 7, 6, 4],\n",
    "                 [2, 9, 8, 3, 7, 1],\n",
    "                 [8, 1, 6, 4, 2, 2],\n",
    "                 [1, 0, 5, 7, 8, 2]])\n",
    "\n",
    "kernel = (1/9)*np.ones((3,3))\n",
    "\n",
    "print(f\"{original_image.shape=}\")\n",
    "\n",
    "# note that convolve() performs padding\n",
    "convolved_image = convolve(original_image, kernel, stride=1)\n",
    "\n",
    "print(f\"{convolved_image.shape=}\")"
   ]
  },
  {
   "cell_type": "markdown",
   "id": "47392735",
   "metadata": {
    "editable": true
   },
   "source": [
    "As you can see, the resulting image is of the same size as the\n",
    "original image. To round of our demonstration of convolution, we will\n",
    "present the results of convolution using commonly used kernels. In a\n",
    "CNN, the values of the kernels are randomly initialized, and then\n",
    "learned during training. These kernels will extract information\n",
    "regarding the picture, such as for example the edge detection filter\n",
    "demonstrated below extracts the edges present in the picture. Of\n",
    "course, there is no guarantee that the CNN will learn an edge\n",
    "detection filter, but this should provide some intuiton as to how the\n",
    "CNN is able to use kernels to make better predictions than a regular\n",
    "feed forward neural network."
   ]
  },
  {
   "cell_type": "code",
   "execution_count": 21,
   "id": "8b1f4f74",
   "metadata": {
    "collapsed": false,
    "editable": true,
    "jupyter": {
     "outputs_hidden": false
    }
   },
   "outputs": [],
   "source": [
    "# Now an example using a real image and first a gaussian low-pass filter and then a Sobel filter\n",
    "import numpy as np\n",
    "import imageio.v3 as imageio\n",
    "import matplotlib.pyplot as plt\n",
    "import time\n",
    "\n",
    "def generate_gauss_mask(sigma, K=1):\n",
    "    side = np.ceil(1 + 8 * sigma)\n",
    "    y, x = np.mgrid[-side // 2 + 1 : (side // 2) + 1, -side // 2 + 1 : (side // 2) + 1]\n",
    "    ker_coef = K / (2 * np.pi * sigma**2)\n",
    "    g = np.exp(-((x**2 + y**2) / (2.0 * sigma**2)))\n",
    "\n",
    "    return g, ker_coef\n",
    "\n",
    "\n",
    "img_path = \"data/IMG-2167.JPG\"\n",
    "image_of_cute_dog = imageio.imread(img_path, mode='L')\n",
    "\n",
    "plt.imshow(image_of_cute_dog, cmap=\"gray\", vmin=0, vmax=255, aspect=\"auto\")\n",
    "plt.title(\"Original image\")\n",
    "plt.show()\n",
    "\n",
    "gauss, kernel = generate_gauss_mask(sigma=6)\n",
    "gauss_kernel = gauss*kernel\n",
    "\n",
    "filtered_image = convolve(image_of_cute_dog, gauss_kernel)\n",
    "plt.imshow(filtered_image, cmap=\"gray\", vmin=0, vmax=255, aspect=\"auto\")\n",
    "plt.title(\"Result of convolution with gauss kernel (blurring filter)\")\n",
    "plt.show()\n",
    "\n",
    "sobel_kernel = np.array([[1, 2, 1],\n",
    "                    [0, 0, 0], \n",
    "                    [-1, -2, -1]])\n",
    "\n",
    "filtered_image = convolve(image_of_cute_dog, sobel_kernel)\n",
    "\n",
    "plt.imshow(filtered_image, cmap=\"gray\", vmin=0, vmax=255, aspect=\"auto\")\n",
    "plt.title(\"Result of convolution with sobel kernel (edge detection filter)\")\n",
    "plt.show()"
   ]
  },
  {
   "cell_type": "markdown",
   "id": "8d3c0fec",
   "metadata": {
    "editable": true
   },
   "source": [
    "### Layers\n",
    "\n",
    "The code below initialises global variables for readability and\n",
    "describes the abstract class Layers. This is not important in order to\n",
    "understand the CNN, but is benefitial for organizing the code neatly."
   ]
  },
  {
   "cell_type": "code",
   "execution_count": 22,
   "id": "fdb608c0",
   "metadata": {
    "collapsed": false,
    "editable": true,
    "jupyter": {
     "outputs_hidden": false
    }
   },
   "outputs": [],
   "source": [
    "import math\n",
    "import autograd.numpy as np\n",
    "from copy import deepcopy, copy\n",
    "from autograd import grad\n",
    "from typing import Callable\n",
    "\n",
    "# global variables for index readability\n",
    "input_index = 0\n",
    "node_index = 1\n",
    "bias_index = 1\n",
    "input_channel_index = 1\n",
    "feature_maps_index = 1\n",
    "height_index = 2\n",
    "width_index = 3\n",
    "kernel_feature_maps_index = 1\n",
    "kernel_input_channels_index = 0\n",
    "\n",
    "\n",
    "class Layer:\n",
    "    def __init__(self, seed):\n",
    "        self.seed = seed\n",
    "\n",
    "    def _feedforward(self):\n",
    "        raise NotImplementedError\n",
    "\n",
    "    def _backpropagate(self):\n",
    "        raise NotImplementedError\n",
    "\n",
    "    def _reset_weights(self, previous_nodes):\n",
    "        raise NotImplementedError"
   ]
  },
  {
   "cell_type": "markdown",
   "id": "fd1cb80b",
   "metadata": {
    "editable": true
   },
   "source": [
    "### Convolution2DLayer: convolution in a hidden layer\n",
    "\n",
    "After establishing the foundational understanding of applying\n",
    "convolution to spatial data, let us delve into the intricate workings\n",
    "of a convolutional layer in a Convolutional Neural Network (CNN). The\n",
    "primary function of convolution, as previously discussed, is to\n",
    "extract pertinent information from images while simultaneously\n",
    "decreasing the scale of our data. To initiate the image processing, we\n",
    "shall begin by partitioning the images into color channels (unless the\n",
    "image is grayscale), comprising three primary colors: red, green, and\n",
    "blue. We will subsequently utilize trainable kernels to construct a\n",
    "higher-dimensional encoding of each channel called feature\n",
    "maps. Successive layers will receive these feature maps as inputs,\n",
    "generating further encodings, albeit with reduced dimensions. The term\n",
    "trainable kernels denotes the initialization of pre-defined\n",
    "kernel-shaped weights, which we will then train via backpropagation,\n",
    "similar to how weights are trained in a Feedforward Neural Network.\n",
    "\n",
    "To ensure seamless integration between our implementation of the\n",
    "convolutional layer and popular machine learning frameworks like\n",
    "Tensorflow (Keras) and PyTorch, we have adopted a design pattern that\n",
    "mirrors the construction of models using these APIs. This involves\n",
    "implementing our convolutional layer as a Python class or object,\n",
    "which allows for a more modular and flexible approach to building\n",
    "neural networks. By structuring our code in this way, users can easily\n",
    "incorporate our implementation into their existing machine learning\n",
    "pipelines without having to make significant changes to their\n",
    "codebase. Additionally, this design pattern promotes code reusability\n",
    "and makes it easier to maintain and update our convolutional layer\n",
    "implementation over time.\n",
    "\n",
    "Note that the Convolution2DLayer takes in an activation function as a parameter, as it also performs non-linearity."
   ]
  },
  {
   "cell_type": "code",
   "execution_count": 23,
   "id": "c89e378b",
   "metadata": {
    "collapsed": false,
    "editable": true,
    "jupyter": {
     "outputs_hidden": false
    }
   },
   "outputs": [],
   "source": [
    "class Convolution2DLayer(Layer):\n",
    "    def __init__(\n",
    "        self,\n",
    "        input_channels,\n",
    "        feature_maps,\n",
    "        kernel_height,\n",
    "        kernel_width,\n",
    "        v_stride,\n",
    "        h_stride,\n",
    "        pad,\n",
    "        act_func: Callable,\n",
    "        seed=None,\n",
    "        reset_weights_independently=True,\n",
    "    ):\n",
    "        super().__init__(seed)\n",
    "        self.input_channels = input_channels\n",
    "        self.feature_maps = feature_maps\n",
    "        self.kernel_height = kernel_height\n",
    "        self.kernel_width = kernel_width\n",
    "        self.v_stride = v_stride\n",
    "        self.h_stride = h_stride\n",
    "        self.pad = pad\n",
    "        self.act_func = act_func\n",
    "\n",
    "        # such that the layer can be used on its own\n",
    "        # outside of the CNN module\n",
    "        if reset_weights_independently == True:\n",
    "            self._reset_weights_independently()\n",
    "\n",
    "    def _feedforward(self, X_batch):\n",
    "        # note that the shape of X_batch = [inputs, input_maps, img_height, img_width]\n",
    "\n",
    "        # pad the input batch\n",
    "        X_batch_padded = self._padding(X_batch)\n",
    "\n",
    "        # calculate height_index and width_index after stride\n",
    "        strided_height = int(np.ceil(X_batch.shape[height_index] / self.v_stride))\n",
    "        strided_width = int(np.ceil(X_batch.shape[width_index] / self.h_stride))\n",
    "\n",
    "        # create output array\n",
    "        output = np.ndarray(\n",
    "            (\n",
    "                X_batch.shape[input_index],\n",
    "                self.feature_maps,\n",
    "                strided_height,\n",
    "                strided_width,\n",
    "            )\n",
    "        )\n",
    "\n",
    "        # save input and output for backpropagation\n",
    "        self.X_batch_feedforward = X_batch\n",
    "        self.output_shape = output.shape\n",
    "\n",
    "        # checking for errors, no need to look here :)\n",
    "        self._check_for_errors()\n",
    "\n",
    "        # convolve input with kernel\n",
    "        for img in range(X_batch.shape[input_index]):\n",
    "            for chin in range(self.input_channels):\n",
    "                for fmap in range(self.feature_maps):\n",
    "                    out_h = 0\n",
    "                    for h in range(0, X_batch.shape[height_index], self.v_stride):\n",
    "                        out_w = 0\n",
    "                        for w in range(0, X_batch.shape[width_index], self.h_stride):\n",
    "                            output[img, fmap, out_h, out_w] = np.sum(\n",
    "                                X_batch_padded[\n",
    "                                    img,\n",
    "                                    chin,\n",
    "                                    h : h + self.kernel_height,\n",
    "                                    w : w + self.kernel_width,\n",
    "                                ]\n",
    "                                * self.kernel[chin, fmap, :, :]\n",
    "                            )\n",
    "                            out_w += 1\n",
    "                        out_h += 1\n",
    "\n",
    "        # Pay attention to the fact that we're not rotating the kernel by 180 degrees when filtering the image in\n",
    "        # the convolutional layer, as convolution in terms of Machine Learning is a procedure known as cross-correlation\n",
    "        # in image processing and signal processing\n",
    "\n",
    "        # return a\n",
    "        return self.act_func(output / (self.kernel_height))\n",
    "\n",
    "    def _backpropagate(self, delta_term_next):\n",
    "        # intiate matrices\n",
    "        delta_term = np.zeros((self.X_batch_feedforward.shape))\n",
    "        gradient_kernel = np.zeros((self.kernel.shape))\n",
    "\n",
    "        # pad input for convolution\n",
    "        X_batch_padded = self._padding(self.X_batch_feedforward)\n",
    "\n",
    "        # Since an activation function is used at the output of the convolution layer, its derivative\n",
    "        # has to be accounted for in the backpropagation -> as if ReLU was a layer on its own.\n",
    "        act_derivative = derivate(self.act_func)\n",
    "        delta_term_next = act_derivative(delta_term_next)\n",
    "\n",
    "        # fill in 0's for values removed by vertical stride in feedforward\n",
    "        if self.v_stride > 1:\n",
    "            v_ind = 1\n",
    "            for i in range(delta_term_next.shape[height_index]):\n",
    "                for j in range(self.v_stride - 1):\n",
    "                    delta_term_next = np.insert(\n",
    "                        delta_term_next, v_ind, 0, axis=height_index\n",
    "                    )\n",
    "                v_ind += self.v_stride\n",
    "\n",
    "        # fill in 0's for values removed by horizontal stride in feedforward\n",
    "        if self.h_stride > 1:\n",
    "            h_ind = 1\n",
    "            for i in range(delta_term_next.shape[width_index]):\n",
    "                for k in range(self.h_stride - 1):\n",
    "                    delta_term_next = np.insert(\n",
    "                        delta_term_next, h_ind, 0, axis=width_index\n",
    "                    )\n",
    "                h_ind += self.h_stride\n",
    "\n",
    "        # crops out 0-rows and 0-columns\n",
    "        delta_term_next = delta_term_next[\n",
    "            :,\n",
    "            :,\n",
    "            : self.X_batch_feedforward.shape[height_index],\n",
    "            : self.X_batch_feedforward.shape[width_index],\n",
    "        ]\n",
    "\n",
    "        # the gradient received from the next layer also needs to be padded\n",
    "        delta_term_next = self._padding(delta_term_next)\n",
    "\n",
    "        # calculate delta term by convolving next delta term with kernel\n",
    "        for img in range(self.X_batch_feedforward.shape[input_index]):\n",
    "            for chin in range(self.input_channels):\n",
    "                for fmap in range(self.feature_maps):\n",
    "                    for h in range(self.X_batch_feedforward.shape[height_index]):\n",
    "                        for w in range(self.X_batch_feedforward.shape[width_index]):\n",
    "                            delta_term[img, chin, h, w] = np.sum(\n",
    "                                delta_term_next[\n",
    "                                    img,\n",
    "                                    fmap,\n",
    "                                    h : h + self.kernel_height,\n",
    "                                    w : w + self.kernel_width,\n",
    "                                ]\n",
    "                                * np.rot90(np.rot90(self.kernel[chin, fmap, :, :]))\n",
    "                            )\n",
    "\n",
    "        # calculate gradient for kernel for weight update\n",
    "        # also via convolution\n",
    "        for chin in range(self.input_channels):\n",
    "            for fmap in range(self.feature_maps):\n",
    "                for k_x in range(self.kernel_height):\n",
    "                    for k_y in range(self.kernel_width):\n",
    "                        gradient_kernel[chin, fmap, k_x, k_y] = np.sum(\n",
    "                            X_batch_padded[\n",
    "                                img,\n",
    "                                chin,\n",
    "                                h : h + self.kernel_height,\n",
    "                                w : w + self.kernel_width,\n",
    "                            ]\n",
    "                            * delta_term_next[\n",
    "                                img,\n",
    "                                fmap,\n",
    "                                h : h + self.kernel_height,\n",
    "                                w : w + self.kernel_width,\n",
    "                            ]\n",
    "                        )\n",
    "        # all kernels are updated with weight gradient of kernel\n",
    "        self.kernel -= gradient_kernel\n",
    "\n",
    "        # return delta term\n",
    "        return delta_term\n",
    "\n",
    "    def _padding(self, X_batch, batch_type=\"image\"):\n",
    "\n",
    "        # same padding for images\n",
    "        if self.pad == \"same\" and batch_type == \"image\":\n",
    "            padded_height = X_batch.shape[height_index] + (self.kernel_height // 2) * 2\n",
    "            padded_width = X_batch.shape[width_index] + (self.kernel_width // 2) * 2\n",
    "            half_kernel_height = self.kernel_height // 2\n",
    "            half_kernel_width = self.kernel_width // 2\n",
    "\n",
    "            # initialize padded array\n",
    "            X_batch_padded = np.ndarray(\n",
    "                (\n",
    "                    X_batch.shape[input_index],\n",
    "                    X_batch.shape[feature_maps_index],\n",
    "                    padded_height,\n",
    "                    padded_width,\n",
    "                )\n",
    "            )\n",
    "\n",
    "            # zero pad all images in X_batch\n",
    "            for img in range(X_batch.shape[input_index]):\n",
    "                padded_img = np.zeros(\n",
    "                    (X_batch.shape[feature_maps_index], padded_height, padded_width)\n",
    "                )\n",
    "                padded_img[\n",
    "                    :,\n",
    "                    half_kernel_height : padded_height - half_kernel_height,\n",
    "                    half_kernel_width : padded_width - half_kernel_width,\n",
    "                ] = X_batch[img, :, :, :]\n",
    "                X_batch_padded[img, :, :, :] = padded_img[:, :, :]\n",
    "\n",
    "            return X_batch_padded\n",
    "\n",
    "        # same padding for gradients\n",
    "        elif self.pad == \"same\" and batch_type == \"grad\":\n",
    "            padded_height = X_batch.shape[height_index] + (self.kernel_height // 2) * 2\n",
    "            padded_width = X_batch.shape[width_index] + (self.kernel_width // 2) * 2\n",
    "            half_kernel_height = self.kernel_height // 2\n",
    "            half_kernel_width = self.kernel_width // 2\n",
    "\n",
    "            # initialize padded array\n",
    "            delta_term_padded = np.zeros(\n",
    "                (\n",
    "                    X_batch.shape[input_index],\n",
    "                    X_batch.shape[feature_maps_index],\n",
    "                    padded_height,\n",
    "                    padded_width,\n",
    "                )\n",
    "            )\n",
    "\n",
    "            # zero pad delta term\n",
    "            delta_term_padded[\n",
    "                :, :, : X_batch.shape[height_index], : X_batch.shape[width_index]\n",
    "            ] = X_batch[:, :, :, :]\n",
    "\n",
    "            return delta_term_padded\n",
    "\n",
    "        else:\n",
    "            return X_batch\n",
    "\n",
    "    def _reset_weights_independently(self):\n",
    "        # sets seed to remove randomness inbetween runs\n",
    "        if self.seed is not None:\n",
    "            np.random.seed(self.seed)\n",
    "\n",
    "        # initializes kernel matrix\n",
    "        self.kernel = np.ndarray(\n",
    "            (\n",
    "                self.input_channels,\n",
    "                self.feature_maps,\n",
    "                self.kernel_height,\n",
    "                self.kernel_width,\n",
    "            )\n",
    "        )\n",
    "\n",
    "        # randomly initializes weights\n",
    "        for chin in range(self.kernel.shape[kernel_input_channels_index]):\n",
    "            for fmap in range(self.kernel.shape[kernel_feature_maps_index]):\n",
    "                self.kernel[chin, fmap, :, :] = np.random.rand(\n",
    "                    self.kernel_height, self.kernel_width\n",
    "                )\n",
    "\n",
    "    def _reset_weights(self, previous_nodes):\n",
    "        # sets weights\n",
    "        self._reset_weights_independently()\n",
    "\n",
    "        # returns shape of output used for subsequent layer's weight initiation\n",
    "        strided_height = int(\n",
    "            np.ceil(previous_nodes.shape[height_index] / self.v_stride)\n",
    "        )\n",
    "        strided_width = int(np.ceil(previous_nodes.shape[width_index] / self.h_stride))\n",
    "        next_nodes = np.ones(\n",
    "            (\n",
    "                previous_nodes.shape[input_index],\n",
    "                self.feature_maps,\n",
    "                strided_height,\n",
    "                strided_width,\n",
    "            )\n",
    "        )\n",
    "        return next_nodes / self.kernel_height\n",
    "\n",
    "    def _check_for_errors(self):\n",
    "        if self.X_batch_feedforward.shape[input_channel_index] != self.input_channels:\n",
    "            raise AssertionError(\n",
    "                f\"ERROR: Number of input channels in data ({self.X_batch_feedforward.shape[input_channel_index]}) is not equal to input channels in Convolution2DLayerOPT ({self.input_channels})! Please change the number of input channels of the Convolution2DLayer such that they are equal\"\n",
    "            )"
   ]
  },
  {
   "cell_type": "markdown",
   "id": "89d47b62",
   "metadata": {
    "editable": true
   },
   "source": [
    "### Backpropagation in the convolutional layer\n",
    "\n",
    "As you may have noticed, we have not yet explained how the\n",
    "backpropagation algorithm works in a convolutional layer. However,\n",
    "having covered all other major details about convolutional layers, we\n",
    "are now prepared to do so. It should come as no surprise that the\n",
    "calculation of delta terms at each convolutional layer takes the form\n",
    "of convolution. After the gradient has been propagated backwards\n",
    "through the flattening layer, where it was reshaped into an\n",
    "appropriate form, calculating the update value for the kernel is\n",
    "simply a matter of convolving the output gradient with the input of\n",
    "the layer for which we are updating the weights. For more detail, this\n",
    "article serves as an excellent resource, see\n",
    "<https://pavisj.medium.com/convolutions-and-backpropagations-46026a8f5d2c>"
   ]
  },
  {
   "cell_type": "markdown",
   "id": "f2c66e01",
   "metadata": {
    "editable": true
   },
   "source": [
    "### Demonstration\n",
    "\n",
    "We can use the convolutional layer above to perform a simple convolution on an image of the now familiar cute dog."
   ]
  },
  {
   "cell_type": "code",
   "execution_count": 24,
   "id": "74719b1c",
   "metadata": {
    "collapsed": false,
    "editable": true,
    "jupyter": {
     "outputs_hidden": false
    }
   },
   "outputs": [],
   "source": [
    "import numpy as np\n",
    "import imageio.v3 as imageio\n",
    "import matplotlib.pyplot as plt\n",
    "\n",
    "def plot_convolution_result(X, layer):\n",
    "    plt.imshow(X[0, 0, :, :], vmin=0, vmax=255, cmap=\"gray\")\n",
    "    plt.title(\"Original image\")\n",
    "    plt.colorbar()\n",
    "    plt.show()\n",
    "    conv_result = layer._feedforward(X)\n",
    "    plt.title(\"Result of convolutional layer\")\n",
    "    plt.imshow(conv_result[0, 0, :, :], vmin=0, vmax=255, cmap=\"gray\")\n",
    "    plt.colorbar()\n",
    "    plt.show()\n",
    "\n",
    "# create layer\n",
    "layer = Convolution2DLayer(\n",
    "    input_channels=3,\n",
    "    feature_maps=1,\n",
    "    kernel_height=4,\n",
    "    kernel_width=4,\n",
    "    v_stride=2,\n",
    "    h_stride=2,\n",
    "    pad=\"same\",\n",
    "    act_func=identity,\n",
    "    seed=2023,\n",
    "    )\n",
    "\n",
    "# read in image path, make data correct format\n",
    "img_path = img_path = \"data/IMG-2167.JPG\"\n",
    "image_of_cute_dog = imageio.imread(img_path)\n",
    "image_shape = image_of_cute_dog.shape\n",
    "image_of_cute_dog = image_of_cute_dog.reshape(1, image_shape[0], image_shape[1], image_shape[2])\n",
    "image_of_cute_dog = image_of_cute_dog.transpose(0, 3, 1, 2)\n",
    "\n",
    "# plot the result of the convolution\n",
    "plot_convolution_result(image_of_cute_dog, layer)"
   ]
  },
  {
   "cell_type": "markdown",
   "id": "0b8346ae",
   "metadata": {
    "editable": true
   },
   "source": [
    "We cobserve that the result has half the pixels on each axis due to\n",
    "the fact that we've used a horizontal and vertical stride of 2. The\n",
    "result of this convolution is not very insightfull, as the kernel has\n",
    "completely random values for the first feedforward pass. However, as\n",
    "we perform multiple forward and backward passes, the results of the\n",
    "convolution should provide identifying features of the image it uses\n",
    "for classification.\n",
    "\n",
    "Note that image data usually comes in many different shapes and sizes,\n",
    "but for our CNN we require the input data be formatted as \\[Number of\n",
    "inputs, input channels, input height, input width\\]. Occasionally, the\n",
    "data you come accross use will be formatted like this, but on many\n",
    "occasions reshaping and transposing the dimensions is sadly necessary."
   ]
  },
  {
   "cell_type": "markdown",
   "id": "cc54672d",
   "metadata": {
    "editable": true
   },
   "source": [
    "### Pooling Layer\n",
    "\n",
    "The pooling layer is another widely used type of layer in\n",
    "convolutional neural networks that enables data downsampling to a more\n",
    "manageable size. Despite recent technological advancements that allow\n",
    "for convolution without excessive size reduction of the data, the\n",
    "pooling layer still remains a fundamental component of convolutional\n",
    "neural networks. It can be used before, after, or in between\n",
    "convolutional layers, although finding the optimal placement of layers\n",
    "and network depth requires experimentation to achieve the best\n",
    "performance for a given problem. The code we provide allows you to\n",
    "perform two types of pooling known as max pooling and average pooling."
   ]
  },
  {
   "cell_type": "code",
   "execution_count": 25,
   "id": "30ef438c",
   "metadata": {
    "collapsed": false,
    "editable": true,
    "jupyter": {
     "outputs_hidden": false
    }
   },
   "outputs": [],
   "source": [
    "class Pooling2DLayer(Layer):\n",
    "    def __init__(\n",
    "        self,\n",
    "        kernel_height,\n",
    "        kernel_width,\n",
    "        v_stride,\n",
    "        h_stride,\n",
    "        pooling=\"max\",\n",
    "        seed=None,\n",
    "    ):\n",
    "        super().__init__(seed)\n",
    "        self.kernel_height = kernel_height\n",
    "        self.kernel_width = kernel_width\n",
    "        self.v_stride = v_stride\n",
    "        self.h_stride = h_stride\n",
    "        self.pooling = pooling\n",
    "\n",
    "    def _feedforward(self, X_batch):\n",
    "        # Saving the input for use in the backwardpass\n",
    "        self.X_batch_feedforward = X_batch\n",
    "\n",
    "        # check if user is silly\n",
    "        self._check_for_errors()\n",
    "\n",
    "        # Computing the size of the feature maps based on kernel size and the stride parameter\n",
    "        strided_height = (\n",
    "            X_batch.shape[height_index] - self.kernel_height\n",
    "        ) // self.v_stride + 1\n",
    "        if X_batch.shape[height_index] == X_batch.shape[width_index]:\n",
    "            strided_width = strided_height\n",
    "        else:\n",
    "            strided_width = (\n",
    "                X_batch.shape[width_index] - self.kernel_width\n",
    "            ) // self.h_stride + 1\n",
    "\n",
    "        # initialize output array\n",
    "        output = np.ndarray(\n",
    "            (\n",
    "                X_batch.shape[input_index],\n",
    "                X_batch.shape[feature_maps_index],\n",
    "                strided_height,\n",
    "                strided_width,\n",
    "            )\n",
    "        )\n",
    "\n",
    "        # select pooling action, either max or average pooling\n",
    "        if self.pooling == \"max\":\n",
    "            self.pooling_action = np.max\n",
    "        elif self.pooling == \"average\":\n",
    "            self.pooling_action = np.mean\n",
    "\n",
    "        # pool based on kernel size and stride\n",
    "        for img in range(output.shape[input_index]):\n",
    "            for fmap in range(output.shape[feature_maps_index]):\n",
    "                for h in range(strided_height):\n",
    "                    for w in range(strided_width):\n",
    "                        output[img, fmap, h, w] = self.pooling_action(\n",
    "                            X_batch[\n",
    "                                img,\n",
    "                                fmap,\n",
    "                                (h * self.v_stride) : (h * self.v_stride)\n",
    "                                + self.kernel_height,\n",
    "                                (w * self.h_stride) : (w * self.h_stride)\n",
    "                                + self.kernel_width,\n",
    "                            ]\n",
    "                        )\n",
    "\n",
    "        # output for feedforward in next layer\n",
    "        return output\n",
    "\n",
    "    def _backpropagate(self, delta_term_next):\n",
    "        # initiate delta term array\n",
    "        delta_term = np.zeros((self.X_batch_feedforward.shape))\n",
    "\n",
    "        for img in range(delta_term_next.shape[input_index]):\n",
    "            for fmap in range(delta_term_next.shape[feature_maps_index]):\n",
    "                for h in range(0, delta_term_next.shape[height_index], self.v_stride):\n",
    "                    for w in range(\n",
    "                        0, delta_term_next.shape[width_index], self.h_stride\n",
    "                    ):\n",
    "                        # max pooling\n",
    "                        if self.pooling == \"max\":\n",
    "                            # get window\n",
    "                            window = self.X_batch_feedforward[\n",
    "                                img,\n",
    "                                fmap,\n",
    "                                h : h + self.kernel_height,\n",
    "                                w : w + self.kernel_width,\n",
    "                            ]\n",
    "\n",
    "                            # find max values indices in window\n",
    "                            max_h, max_w = np.unravel_index(\n",
    "                                window.argmax(), window.shape\n",
    "                            )\n",
    "\n",
    "                            # set values in new, upsampled delta term\n",
    "                            delta_term[\n",
    "                                img,\n",
    "                                fmap,\n",
    "                                (h + max_h),\n",
    "                                (w + max_w),\n",
    "                            ] += delta_term_next[img, fmap, h, w]\n",
    "\n",
    "                        # average pooling\n",
    "                        if self.pooling == \"average\":\n",
    "                            delta_term[\n",
    "                                img,\n",
    "                                fmap,\n",
    "                                h : h + self.kernel_height,\n",
    "                                w : w + self.kernel_width,\n",
    "                            ] = (\n",
    "                                delta_term_next[img, fmap, h, w]\n",
    "                                / self.kernel_height\n",
    "                                / self.kernel_width\n",
    "                            )\n",
    "        # returns input to backpropagation in previous layer\n",
    "        return delta_term\n",
    "\n",
    "    def _reset_weights(self, previous_nodes):\n",
    "        # calculate strided height, strided width\n",
    "        strided_height = (\n",
    "            previous_nodes.shape[height_index] - self.kernel_height\n",
    "        ) // self.v_stride + 1\n",
    "        if previous_nodes.shape[height_index] == previous_nodes.shape[width_index]:\n",
    "            strided_width = strided_height\n",
    "        else:\n",
    "            strided_width = (\n",
    "                previous_nodes.shape[width_index] - self.kernel_width\n",
    "            ) // self.h_stride + 1\n",
    "\n",
    "        # initiate output array\n",
    "        output = np.ones(\n",
    "            (\n",
    "                previous_nodes.shape[input_index],\n",
    "                previous_nodes.shape[feature_maps_index],\n",
    "                strided_height,\n",
    "                strided_width,\n",
    "            )\n",
    "        )\n",
    "\n",
    "        # returns output with shape used for reset weights in next layer\n",
    "        return output\n",
    "\n",
    "    def _check_for_errors(self):\n",
    "        # check if input is smaller than kernel size -> error\n",
    "        assert (\n",
    "            self.X_batch_feedforward.shape[width_index] >= self.kernel_width\n",
    "        ), f\"ERROR: Pooling kernel width_index ({self.kernel_width}) larger than data width_index ({self.X_batch_feedforward.input.shape[2]}), please lower the kernel width_index of the Pooling2DLayer\"\n",
    "        assert (\n",
    "            self.X_batch_feedforward.shape[height_index] >= self.kernel_height\n",
    "        ), f\"ERROR: Pooling kernel height_index ({self.kernel_height}) larger than data height_index ({self.X_batch_feedforward.input.shape[3]}), please lower the kernel height_index of the Pooling2DLayer\""
   ]
  },
  {
   "cell_type": "markdown",
   "id": "80e2ed89",
   "metadata": {
    "editable": true
   },
   "source": [
    "### Flattening Layer\n",
    "\n",
    "Before we can begin building our first CNN model, we need to introduce\n",
    "the flattening layer. As its name suggests, the flattening layer\n",
    "transforms the data into a one-dimensional vector that can be fed into\n",
    "the feedforward layers of our network. This layer plays a crucial role\n",
    "in preparing the data for further processing in the\n",
    "network. Additionally, the flattening layer is responsible for\n",
    "reshaping the gradient to the proper shape during\n",
    "backpropagation. This ensures that the kernels are correctly updated,\n",
    "allowing for effective learning in the network."
   ]
  },
  {
   "cell_type": "code",
   "execution_count": 26,
   "id": "cc5cd1e5",
   "metadata": {
    "collapsed": false,
    "editable": true,
    "jupyter": {
     "outputs_hidden": false
    }
   },
   "outputs": [],
   "source": [
    "class FlattenLayer(Layer):\n",
    "    def __init__(self, act_func=LRELU, seed=None):\n",
    "        super().__init__(seed)\n",
    "        self.act_func = act_func\n",
    "\n",
    "    def _feedforward(self, X_batch):\n",
    "        # save input for backpropagation\n",
    "        self.X_batch_feedforward_shape = X_batch.shape\n",
    "        # Remember, the data has the following shape: (I, FM, H, W, ) in the convolutional layers\n",
    "        # whilst the data has the shape (I, FM * H * W) in the fully connected layers\n",
    "        # I = Inputs, FM = Feature Maps, H = Height and W = Width.\n",
    "        X_batch = X_batch.reshape(\n",
    "            X_batch.shape[input_index],\n",
    "            X_batch.shape[feature_maps_index]\n",
    "            * X_batch.shape[height_index]\n",
    "            * X_batch.shape[width_index],\n",
    "        )\n",
    "\n",
    "        # add bias to a\n",
    "        self.z_matrix = X_batch\n",
    "        bias = np.ones((X_batch.shape[input_index], 1)) * 0.01\n",
    "        self.a_matrix = np.hstack([bias, X_batch])\n",
    "\n",
    "        # return a, the input to feedforward in next layer\n",
    "        return self.a_matrix\n",
    "\n",
    "    def _backpropagate(self, weights_next, delta_term_next):\n",
    "        activation_derivative = derivate(self.act_func)\n",
    "\n",
    "        # calculate delta term\n",
    "        delta_term = (\n",
    "            weights_next[bias_index:, :] @ delta_term_next.T\n",
    "        ).T * activation_derivative(self.z_matrix)\n",
    "\n",
    "        # FlattenLayer does not update weights\n",
    "        # reshapes delta layer to convolutional layer data format [Input, Feature_Maps, Height, Width]\n",
    "        return delta_term.reshape(self.X_batch_feedforward_shape)\n",
    "\n",
    "    def _reset_weights(self, previous_nodes):\n",
    "        # note that the previous nodes to the FlattenLayer are from the convolutional layers\n",
    "        previous_nodes = previous_nodes.reshape(\n",
    "            previous_nodes.shape[input_index],\n",
    "            previous_nodes.shape[feature_maps_index]\n",
    "            * previous_nodes.shape[height_index]\n",
    "            * previous_nodes.shape[width_index],\n",
    "        )\n",
    "\n",
    "        # return shape used in reset_weights in next layer\n",
    "        return previous_nodes.shape[node_index]\n",
    "\n",
    "    def get_prev_a(self):\n",
    "        return self.a_matrix"
   ]
  },
  {
   "cell_type": "markdown",
   "id": "cc8ced77",
   "metadata": {
    "editable": true
   },
   "source": [
    "### Fully Connected Layers\n",
    "\n",
    "Finally, the result from the flatten layer will pass to a series of\n",
    "fully connected layers, which function as a normal feed forward neural\n",
    "network. The fully connected layers are split into two classes;\n",
    "FullyConnectedLayer which acts as a hidden layer, and OutputLayer,\n",
    "which acts as the single output layer at the end of the CNN. If one\n",
    "wishes to use this codebase to construct a normal feed forward neural\n",
    "network, it must start with a FlattenLayer due to techincal details\n",
    "regarding weight intitialization. However many FullyConnectedLayers\n",
    "can be added to the CNN, and in each layer the amount of nodes, which\n",
    "activation function and scheduler to use can be specified. In\n",
    "practice, the scheduler will be specified in the CNN object\n",
    "initialization, and inherited if no other scheduler is specified."
   ]
  },
  {
   "cell_type": "code",
   "execution_count": 27,
   "id": "f0b7717a",
   "metadata": {
    "collapsed": false,
    "editable": true,
    "jupyter": {
     "outputs_hidden": false
    }
   },
   "outputs": [],
   "source": [
    "class FullyConnectedLayer(Layer):\n",
    "    # FullyConnectedLayer per default uses LRELU and Adam scheduler\n",
    "    # with an eta of 0.0001, rho of 0.9 and rho2 of 0.999\n",
    "    def __init__(\n",
    "        self,\n",
    "        nodes: int,\n",
    "        act_func: Callable = LRELU,\n",
    "        scheduler: Scheduler = Adam(eta=1e-4, rho=0.9, rho2=0.999),\n",
    "        seed: int = None,\n",
    "    ):\n",
    "        super().__init__(seed)\n",
    "        self.nodes = nodes\n",
    "        self.act_func = act_func\n",
    "        self.scheduler_weight = copy(scheduler)\n",
    "        self.scheduler_bias = copy(scheduler)\n",
    "\n",
    "        # initiate matrices for later\n",
    "        self.weights = None\n",
    "        self.a_matrix = None\n",
    "        self.z_matrix = None\n",
    "\n",
    "    def _feedforward(self, X_batch):\n",
    "        # calculate z\n",
    "        self.z_matrix = X_batch @ self.weights\n",
    "\n",
    "        # calculate a, add bias\n",
    "        bias = np.ones((X_batch.shape[input_index], 1)) * 0.01\n",
    "        self.a_matrix = self.act_func(self.z_matrix)\n",
    "        self.a_matrix = np.hstack([bias, self.a_matrix])\n",
    "\n",
    "        # return a, the input for feedforward in next layer\n",
    "        return self.a_matrix\n",
    "\n",
    "    def _backpropagate(self, weights_next, delta_term_next, a_previous, lam):\n",
    "        # take the derivative of the activation function\n",
    "        activation_derivative = derivate(self.act_func)\n",
    "\n",
    "        # calculate the delta term\n",
    "        delta_term = (\n",
    "            weights_next[bias_index:, :] @ delta_term_next.T\n",
    "        ).T * activation_derivative(self.z_matrix)\n",
    "\n",
    "        # intitiate matrix to store gradient\n",
    "        # note that we exclude the bias term, which we will calculate later\n",
    "        gradient_weights = np.zeros(\n",
    "            (\n",
    "                a_previous.shape[input_index],\n",
    "                a_previous.shape[node_index] - bias_index,\n",
    "                delta_term.shape[node_index],\n",
    "            )\n",
    "        )\n",
    "\n",
    "        # calculate gradient = delta term * previous a\n",
    "        for i in range(len(delta_term)):\n",
    "            gradient_weights[i, :, :] = np.outer(\n",
    "                a_previous[i, bias_index:], delta_term[i, :]\n",
    "            )\n",
    "\n",
    "        # sum the gradient, divide by input_index\n",
    "        gradient_weights = np.mean(gradient_weights, axis=input_index)\n",
    "        # for the bias gradient we do not multiply by previous a\n",
    "        gradient_bias = np.mean(delta_term, axis=input_index).reshape(\n",
    "            1, delta_term.shape[node_index]\n",
    "        )\n",
    "\n",
    "        # regularization term\n",
    "        gradient_weights += self.weights[bias_index:, :] * lam\n",
    "\n",
    "        # send gradients into scheduler\n",
    "        # returns update matrix which will be used to update the weights and bias\n",
    "        update_matrix = np.vstack(\n",
    "            [\n",
    "                self.scheduler_bias.update_change(gradient_bias),\n",
    "                self.scheduler_weight.update_change(gradient_weights),\n",
    "            ]\n",
    "        )\n",
    "\n",
    "        # update weights\n",
    "        self.weights -= update_matrix\n",
    "\n",
    "        # return weights and delta term, input for backpropagation in previous layer\n",
    "        return self.weights, delta_term\n",
    "\n",
    "    def _reset_weights(self, previous_nodes):\n",
    "        # sets seed to remove randomness inbetween runs\n",
    "        if self.seed is not None:\n",
    "            np.random.seed(self.seed)\n",
    "\n",
    "        # add bias, initiate random weights\n",
    "        bias = 1\n",
    "        self.weights = np.random.randn(previous_nodes + bias, self.nodes)\n",
    "\n",
    "        # returns number of nodes, used for reset_weights in next layer\n",
    "        return self.nodes\n",
    "\n",
    "    def _reset_scheduler(self):\n",
    "        # resets scheduler per epoch\n",
    "        self.scheduler_weight.reset()\n",
    "        self.scheduler_bias.reset()\n",
    "\n",
    "    def get_prev_a(self):\n",
    "        # returns a matrix, used in backpropagation\n",
    "        return self.a_matrix\n",
    "\n",
    "\n",
    "class OutputLayer(FullyConnectedLayer):\n",
    "    def __init__(\n",
    "        self,\n",
    "        nodes: int,\n",
    "        output_func: Callable = LRELU,\n",
    "        cost_func: Callable = CostCrossEntropy,\n",
    "        scheduler: Scheduler = Adam(eta=1e-4, rho=0.9, rho2=0.999),\n",
    "        seed: int = None,\n",
    "    ):\n",
    "        super().__init__(nodes, output_func, copy(scheduler), seed)\n",
    "        self.cost_func = cost_func\n",
    "\n",
    "        # initiate matrices for later\n",
    "        self.weights = None\n",
    "        self.a_matrix = None\n",
    "        self.z_matrix = None\n",
    "\n",
    "        # decides if the output layer performs binary or multi-class classification\n",
    "        self._set_pred_format()\n",
    "\n",
    "    def _feedforward(self, X_batch: np.ndarray):\n",
    "        # calculate a, z\n",
    "        # note that bias is not added as this would create an extra output class\n",
    "        self.z_matrix = X_batch @ self.weights\n",
    "        self.a_matrix = self.act_func(self.z_matrix)\n",
    "\n",
    "        # returns prediction\n",
    "        return self.a_matrix\n",
    "\n",
    "    def _backpropagate(self, target, a_previous, lam):\n",
    "        # note that in the OutputLayer the activation function is the output function\n",
    "        activation_derivative = derivate(self.act_func)\n",
    "\n",
    "        # calculate output delta terms\n",
    "        # for multi-class or binary classification\n",
    "        if self.pred_format == \"Multi-class\":\n",
    "            delta_term = self.a_matrix - target\n",
    "        else:\n",
    "            cost_func_derivative = grad(self.cost_func(target))\n",
    "            delta_term = activation_derivative(self.z_matrix) * cost_func_derivative(\n",
    "                self.a_matrix\n",
    "            )\n",
    "\n",
    "        # intiate matrix that stores gradient\n",
    "        gradient_weights = np.zeros(\n",
    "            (\n",
    "                a_previous.shape[input_index],\n",
    "                a_previous.shape[node_index] - bias_index,\n",
    "                delta_term.shape[node_index],\n",
    "            )\n",
    "        )\n",
    "\n",
    "        # calculate gradient = delta term * previous a\n",
    "        for i in range(len(delta_term)):\n",
    "            gradient_weights[i, :, :] = np.outer(\n",
    "                a_previous[i, bias_index:], delta_term[i, :]\n",
    "            )\n",
    "\n",
    "        # sum the gradient, divide by input_index\n",
    "        gradient_weights = np.mean(gradient_weights, axis=input_index)\n",
    "        # for the bias gradient we do not multiply by previous a\n",
    "        gradient_bias = np.mean(delta_term, axis=input_index).reshape(\n",
    "            1, delta_term.shape[node_index]\n",
    "        )\n",
    "\n",
    "        # regularization term\n",
    "        gradient_weights += self.weights[bias_index:, :] * lam\n",
    "\n",
    "        # send gradients into scheduler\n",
    "        # returns update matrix which will be used to update the weights and bias\n",
    "        update_matrix = np.vstack(\n",
    "            [\n",
    "                self.scheduler_bias.update_change(gradient_bias),\n",
    "                self.scheduler_weight.update_change(gradient_weights),\n",
    "            ]\n",
    "        )\n",
    "\n",
    "        # update weights\n",
    "        self.weights -= update_matrix\n",
    "\n",
    "        # return weights and delta term, input for backpropagation in previous layer\n",
    "        return self.weights, delta_term\n",
    "\n",
    "    def _reset_weights(self, previous_nodes):\n",
    "        # sets seed to remove randomness inbetween runs\n",
    "        if self.seed is not None:\n",
    "            np.random.seed(self.seed)\n",
    "\n",
    "        # add bias, initiate random weights\n",
    "        bias = 1\n",
    "        self.weights = np.random.rand(previous_nodes + bias, self.nodes)\n",
    "\n",
    "        # returns number of nodes, used for reset_weights in next layer\n",
    "        return self.nodes\n",
    "\n",
    "    def _reset_scheduler(self):\n",
    "        # resets scheduler per epoch\n",
    "        self.scheduler_weight.reset()\n",
    "        self.scheduler_bias.reset()\n",
    "\n",
    "    def _set_pred_format(self):\n",
    "        # sets prediction format to either regression, binary or multi-class classification\n",
    "        if self.act_func.__name__ is None or self.act_func.__name__ == \"identity\":\n",
    "            self.pred_format = \"Regression\"\n",
    "        elif self.act_func.__name__ == \"sigmoid\" or self.act_func.__name__ == \"tanh\":\n",
    "            self.pred_format = \"Binary\"\n",
    "        else:\n",
    "            self.pred_format = \"Multi-class\"\n",
    "\n",
    "    def get_pred_format(self):\n",
    "        # returns format of prediction\n",
    "        return self.pred_format"
   ]
  },
  {
   "cell_type": "markdown",
   "id": "7b77e429",
   "metadata": {
    "editable": true
   },
   "source": [
    "### Optimized Convolution2DLayer\n",
    "\n",
    "For our CNN, we have also implemented an optimized version of the\n",
    "Convolution2DLayer, Convolution2DLayerOPT, which runs much faster. See\n",
    "VII. Remarks for discussion. This layer will per default be used by\n",
    "the CNN due to its computational advantages, but is much less\n",
    "readable. We've documented it such that specially interested students\n",
    "can understand the principles behind it, but it is not recommended to\n",
    "read. In short, we reshape and transpose parts of the image such that\n",
    "the convolutional operation can be swapped out for a simple matrix\n",
    "multiplication."
   ]
  },
  {
   "cell_type": "code",
   "execution_count": 28,
   "id": "ba6e0c30",
   "metadata": {
    "collapsed": false,
    "editable": true,
    "jupyter": {
     "outputs_hidden": false
    }
   },
   "outputs": [],
   "source": [
    "class Convolution2DLayerOPT(Convolution2DLayer):\n",
    "    \"\"\"\n",
    "    Am optimized version of the convolution layer above which\n",
    "    utilizes an approach of extracting windows of size equivalent\n",
    "    in size to the filter. The convoution is then performed on those\n",
    "    windows instead of a full feature map.\n",
    "    \"\"\"\n",
    "\n",
    "    def __init__(\n",
    "        self,\n",
    "        input_channels,\n",
    "        feature_maps,\n",
    "        kernel_height,\n",
    "        kernel_width,\n",
    "        v_stride,\n",
    "        h_stride,\n",
    "        pad,\n",
    "        act_func: Callable,\n",
    "        seed=None,\n",
    "        reset_weights_independently=True,\n",
    "    ):\n",
    "        super().__init__(\n",
    "            input_channels,\n",
    "            feature_maps,\n",
    "            kernel_height,\n",
    "            kernel_width,\n",
    "            v_stride,\n",
    "            h_stride,\n",
    "            pad,\n",
    "            act_func,\n",
    "            seed,\n",
    "        )\n",
    "        # true if layer is used outside of CNN\n",
    "        if reset_weights_independently == True:\n",
    "            self._reset_weights_independently()\n",
    "\n",
    "    def _feedforward(self, X_batch):\n",
    "        # The optimized _feedforward method is difficult to understand but computationally more efficient\n",
    "        # for a more \"by the book\" approach, please look at the _feedforward method of Convolution2DLayer\n",
    "\n",
    "        # save the input for backpropagation\n",
    "        self.X_batch_feedforward = X_batch\n",
    "\n",
    "        # check that there are the correct amount of input channels\n",
    "        self._check_for_errors()\n",
    "\n",
    "        # calculate new shape after stride\n",
    "        strided_height = int(np.ceil(X_batch.shape[height_index] / self.v_stride))\n",
    "        strided_width = int(np.ceil(X_batch.shape[width_index] / self.h_stride))\n",
    "\n",
    "        # get windows of the image for more computationally efficient convolution\n",
    "        # the idea is that we want to align the dimensions that we wish to matrix\n",
    "        # multiply, then use a simple matrix multiplication instead of convolution.\n",
    "        # then, we reshape the size back to its intended shape\n",
    "        windows = self._extract_windows(X_batch)\n",
    "        windows = windows.transpose(1, 0, 2, 3, 4).reshape(\n",
    "            X_batch.shape[input_index],\n",
    "            strided_height * strided_width,\n",
    "            -1,\n",
    "        )\n",
    "\n",
    "        # reshape the kernel for more computationally efficient convolution\n",
    "        kernel = self.kernel\n",
    "        kernel = kernel.transpose(0, 2, 3, 1).reshape(\n",
    "            kernel.shape[kernel_input_channels_index]\n",
    "            * kernel.shape[height_index]\n",
    "            * kernel.shape[width_index],\n",
    "            -1,\n",
    "        )\n",
    "\n",
    "        # use simple matrix calculation to obtain output\n",
    "        output = (\n",
    "            (windows @ kernel)\n",
    "            .reshape(\n",
    "                X_batch.shape[input_index],\n",
    "                strided_height,\n",
    "                strided_width,\n",
    "                -1,\n",
    "            )\n",
    "            .transpose(0, 3, 1, 2)\n",
    "        )\n",
    "\n",
    "        # The output is reshaped and rearranged to appropriate shape\n",
    "        return self.act_func(\n",
    "            output / (self.kernel_height * X_batch.shape[feature_maps_index])\n",
    "        )\n",
    "\n",
    "    def _backpropagate(self, delta_term_next):\n",
    "        # The optimized _backpropagate method is difficult to understand but computationally more efficient\n",
    "        # for a more \"by the book\" approach, please look at the _backpropagate method of Convolution2DLayer\n",
    "        act_derivative = derivate(self.act_func)\n",
    "        delta_term_next = act_derivative(delta_term_next)\n",
    "\n",
    "        # calculate strided dimensions\n",
    "        strided_height = int(\n",
    "            np.ceil(self.X_batch_feedforward.shape[height_index] / self.v_stride)\n",
    "        )\n",
    "        strided_width = int(\n",
    "            np.ceil(self.X_batch_feedforward.shape[width_index] / self.h_stride)\n",
    "        )\n",
    "\n",
    "        # copy kernel\n",
    "        kernel = self.kernel\n",
    "\n",
    "        # get windows, reshape for matrix multiplication\n",
    "        windows = self._extract_windows(self.X_batch_feedforward, \"image\").reshape(\n",
    "            self.X_batch_feedforward.shape[input_index]\n",
    "            * strided_height\n",
    "            * strided_width,\n",
    "            -1,\n",
    "        )\n",
    "\n",
    "        # initialize output gradient, reshape and transpose into correct shape\n",
    "        # for matrix multiplication\n",
    "        output_grad_tr = delta_term_next.transpose(0, 2, 3, 1).reshape(\n",
    "            self.X_batch_feedforward.shape[input_index]\n",
    "            * strided_height\n",
    "            * strided_width,\n",
    "            -1,\n",
    "        )\n",
    "\n",
    "        # calculate gradient kernel via simple matrix multiplication and reshaping\n",
    "        gradient_kernel = (\n",
    "            (windows.T @ output_grad_tr)\n",
    "            .reshape(\n",
    "                kernel.shape[kernel_input_channels_index],\n",
    "                kernel.shape[height_index],\n",
    "                kernel.shape[width_index],\n",
    "                kernel.shape[kernel_feature_maps_index],\n",
    "            )\n",
    "            .transpose(0, 3, 1, 2)\n",
    "        )\n",
    "\n",
    "        # for computing the input gradient\n",
    "        windows_out, upsampled_height, upsampled_width = self._extract_windows(\n",
    "            delta_term_next, \"grad\"\n",
    "        )\n",
    "\n",
    "        # calculate new window dimensions\n",
    "        new_windows_first_dim = (\n",
    "            self.X_batch_feedforward.shape[input_index]\n",
    "            * upsampled_height\n",
    "            * upsampled_width\n",
    "        )\n",
    "        # ceil allows for various asymmetric kernels\n",
    "        new_windows_sec_dim = int(np.ceil(windows_out.size / new_windows_first_dim))\n",
    "\n",
    "        # reshape for matrix multiplication\n",
    "        windows_out = windows_out.transpose(1, 0, 2, 3, 4).reshape(\n",
    "            new_windows_first_dim, new_windows_sec_dim\n",
    "        )\n",
    "\n",
    "        # reshape for matrix multiplication\n",
    "        kernel_reshaped = kernel.reshape(self.input_channels, -1)\n",
    "\n",
    "        # calculating input gradient for next convolutional layer\n",
    "        input_grad = (windows_out @ kernel_reshaped.T).reshape(\n",
    "            self.X_batch_feedforward.shape[input_index],\n",
    "            upsampled_height,\n",
    "            upsampled_width,\n",
    "            kernel.shape[kernel_input_channels_index],\n",
    "        )\n",
    "        input_grad = input_grad.transpose(0, 3, 1, 2)\n",
    "\n",
    "        # Update the weights in the kernel\n",
    "        self.kernel -= gradient_kernel\n",
    "\n",
    "        # Output the gradient to propagate backwards\n",
    "        return input_grad\n",
    "\n",
    "    def _extract_windows(self, X_batch, batch_type=\"image\"):\n",
    "        \"\"\"\n",
    "        Receives as input the X_batch with shape (inputs, feature_maps, image_height, image_width)\n",
    "        and extract windows of size kernel_height * kernel_width for every image and every feature_map.\n",
    "        It then returns an np.ndarray of shape (image_height * image_width, inputs, feature_maps, kernel_height, kernel_width)\n",
    "        which will be used either to filter the images in feedforward or to calculate the gradient.\n",
    "        \"\"\"\n",
    "\n",
    "        # initialize list of windows\n",
    "        windows = []\n",
    "\n",
    "        if batch_type == \"image\":\n",
    "            # pad the images\n",
    "            X_batch_padded = self._padding(X_batch, batch_type=\"image\")\n",
    "            img_height, img_width = X_batch_padded.shape[2:]\n",
    "            # For each location in the image...\n",
    "            for h in range(\n",
    "                0,\n",
    "                X_batch.shape[height_index],\n",
    "                self.v_stride,\n",
    "            ):\n",
    "                for w in range(\n",
    "                    0,\n",
    "                    X_batch.shape[width_index],\n",
    "                    self.h_stride,\n",
    "                ):\n",
    "                    # ...obtain an image patch of the original size (strided)\n",
    "\n",
    "                    # get window\n",
    "                    window = X_batch_padded[\n",
    "                        :,\n",
    "                        :,\n",
    "                        h : h + self.kernel_height,\n",
    "                        w : w + self.kernel_width,\n",
    "                    ]\n",
    "\n",
    "                    # append to list of windows\n",
    "                    windows.append(window)\n",
    "\n",
    "            # return numpy array instead of list\n",
    "            return np.stack(windows)\n",
    "\n",
    "        # In order to be able to perform backprogagation by the method of window extraction,\n",
    "        # here is a modified approach to extracting the windows which allow for the necessary\n",
    "        # upsampling of the gradient in case the on of the stride parameters is larger than one.\n",
    "\n",
    "        if batch_type == \"grad\":\n",
    "\n",
    "            # In the case of one of the stride parameters being odd, we have to take some\n",
    "            # extra care in calculating the upsampled size of X_batch. We solve this\n",
    "            # by simply flooring the result of dividing stride by 2.\n",
    "            if self.v_stride < 2 or self.v_stride % 2 == 0:\n",
    "                v_stride = 0\n",
    "            else:\n",
    "                v_stride = int(np.floor(self.v_stride / 2))\n",
    "\n",
    "            if self.h_stride < 2 or self.h_stride % 2 == 0:\n",
    "                h_stride = 0\n",
    "            else:\n",
    "                h_stride = int(np.floor(self.h_stride / 2))\n",
    "\n",
    "            upsampled_height = (X_batch.shape[height_index] * self.v_stride) - v_stride\n",
    "            upsampled_width = (X_batch.shape[width_index] * self.h_stride) - h_stride\n",
    "\n",
    "            # When upsampling, we need to insert rows and columns filled with zeros\n",
    "            # into each feature map. How many of those we have to insert is purely\n",
    "            # dependant on the value of stride parameter in the vertical and horizontal\n",
    "            # direction.\n",
    "            if self.v_stride > 1:\n",
    "                v_ind = 1\n",
    "                for i in range(X_batch.shape[height_index]):\n",
    "                    for j in range(self.v_stride - 1):\n",
    "                        X_batch = np.insert(X_batch, v_ind, 0, axis=height_index)\n",
    "                    v_ind += self.v_stride\n",
    "\n",
    "            if self.h_stride > 1:\n",
    "                h_ind = 1\n",
    "                for i in range(X_batch.shape[width_index]):\n",
    "                    for k in range(self.h_stride - 1):\n",
    "                        X_batch = np.insert(X_batch, h_ind, 0, axis=width_index)\n",
    "                    h_ind += self.h_stride\n",
    "\n",
    "            # Since the insertion of zero-filled rows and columns isn't perfect, we have\n",
    "            # to assure that the resulting feature maps will have the expected upsampled height\n",
    "            # and width by cutting them og at desired dimensions.\n",
    "\n",
    "            X_batch = X_batch[:, :, :upsampled_height, :upsampled_width]\n",
    "\n",
    "            X_batch_padded = self._padding(X_batch, batch_type=\"grad\")\n",
    "\n",
    "            # initialize list of windows\n",
    "            windows = []\n",
    "\n",
    "            # For each location in the image...\n",
    "            for h in range(\n",
    "                0,\n",
    "                X_batch.shape[height_index],\n",
    "                self.v_stride,\n",
    "            ):\n",
    "                for w in range(\n",
    "                    0,\n",
    "                    X_batch.shape[width_index],\n",
    "                    self.h_stride,\n",
    "                ):\n",
    "                    # ...obtain an image patch of the original size (strided)\n",
    "\n",
    "                    # get window\n",
    "                    window = X_batch_padded[\n",
    "                        :, :, h : h + self.kernel_height, w : w + self.kernel_width\n",
    "                    ]\n",
    "\n",
    "                    # append window to list\n",
    "                    windows.append(window)\n",
    "\n",
    "            # return numpy array, unsampled dimensions\n",
    "            return np.stack(windows), upsampled_height, upsampled_width\n",
    "\n",
    "    def _check_for_errors(self):\n",
    "        # compares input channels of data to input channels of Convolution2DLayer\n",
    "        if self.X_batch_feedforward.shape[input_channel_index] != self.input_channels:\n",
    "            raise AssertionError(\n",
    "                f\"ERROR: Number of input channels in data ({self.X_batch_feedforward.shape[input_channel_index]}) is not equal to input channels in Convolution2DLayerOPT ({self.input_channels})! Please change the number of input channels of the Convolution2DLayer such that they are equal\"\n",
    "            )"
   ]
  },
  {
   "cell_type": "markdown",
   "id": "f3eace30",
   "metadata": {
    "editable": true
   },
   "source": [
    "### The Convolutional Neural Network (CNN)\n",
    "\n",
    "Finally, we present the code for the CNN. The CNN class organizes all the layers, and allows for training on image data."
   ]
  },
  {
   "cell_type": "code",
   "execution_count": 29,
   "id": "a7f96966",
   "metadata": {
    "collapsed": false,
    "editable": true,
    "jupyter": {
     "outputs_hidden": false
    }
   },
   "outputs": [],
   "source": [
    "import math\n",
    "import autograd.numpy as np\n",
    "import sys\n",
    "import warnings\n",
    "from autograd import grad, elementwise_grad\n",
    "from random import random, seed\n",
    "from copy import deepcopy\n",
    "from typing import Tuple, Callable\n",
    "from sklearn.utils import resample\n",
    "\n",
    "warnings.simplefilter(\"error\")\n",
    "\n",
    "\n",
    "class CNN:\n",
    "    def __init__(\n",
    "        self,\n",
    "        cost_func: Callable = CostCrossEntropy,\n",
    "        scheduler: Scheduler = Adam(eta=1e-4, rho=0.9, rho2=0.999),\n",
    "        seed: int = None,\n",
    "    ):\n",
    "        \"\"\"\n",
    "        Description:\n",
    "        ------------\n",
    "            Instantiates CNN object\n",
    "\n",
    "        Parameters:\n",
    "        ------------\n",
    "            I   output_func (costFunctions) cost function for feed forward neural network part of CNN,\n",
    "                such as \"CostLogReg\", \"CostOLS\" or \"CostCrossEntropy\"\n",
    "\n",
    "            II  scheduler (Scheduler) optional parameter, default set to Adam. Can also be set to other\n",
    "                schedulers such as AdaGrad, Momentum, RMS_prop and Constant. Note that schedulers have\n",
    "                to be instantiated first with proper parameters (for example eta, rho and rho2 for Adam)\n",
    "\n",
    "            III seed (int) used for seeding all random operations\n",
    "        \"\"\"\n",
    "        self.layers = list()\n",
    "        self.cost_func = cost_func\n",
    "        self.scheduler = scheduler\n",
    "        self.schedulers_weight = list()\n",
    "        self.schedulers_bias = list()\n",
    "        self.seed = seed\n",
    "        self.pred_format = None\n",
    "\n",
    "    def add_FullyConnectedLayer(\n",
    "        self, nodes: int, act_func=LRELU, scheduler=None\n",
    "    ) -> None:\n",
    "        \"\"\"\n",
    "        Description:\n",
    "        ------------\n",
    "            Add a FullyConnectedLayer to the CNN, i.e. a hidden layer in the feed forward neural\n",
    "            network part of the CNN. Often called a Dense layer in literature\n",
    "\n",
    "        Parameters:\n",
    "        ------------\n",
    "            I   nodes (int) number of nodes in FullyConnectedLayer\n",
    "            II  act_func (activationFunctions) activation function of FullyConnectedLayer,\n",
    "                such as \"sigmoid\", \"RELU\", \"LRELU\", \"softmax\" or \"identity\"\n",
    "            III scheduler (Scheduler) optional parameter, default set to Adam. Can also be set to other\n",
    "                schedulers such as AdaGrad, Momentum, RMS_prop and Constant\n",
    "        \"\"\"\n",
    "        assert self.layers, \"FullyConnectedLayer should follow FlattenLayer in CNN\"\n",
    "\n",
    "        if scheduler is None:\n",
    "            scheduler = self.scheduler\n",
    "\n",
    "        layer = FullyConnectedLayer(nodes, act_func, scheduler, self.seed)\n",
    "        self.layers.append(layer)\n",
    "\n",
    "    def add_OutputLayer(self, nodes: int, output_func=sigmoid, scheduler=None) -> None:\n",
    "        \"\"\"\n",
    "        Description:\n",
    "        ------------\n",
    "            Add an OutputLayer to the CNN, i.e. a the final layer in the feed forward neural\n",
    "            network part of the CNN\n",
    "\n",
    "        Parameters:\n",
    "        ------------\n",
    "            I   nodes (int) number of nodes in OutputLayer. Set nodes=1 for binary classification and\n",
    "                nodes = number of classes for multi-class classification\n",
    "            II  output_func (activationFunctions) activation function for the output layer, such as\n",
    "                \"identity\" for regression, \"sigmoid\" for binary classification and \"softmax\" for multi-class\n",
    "                classification\n",
    "            III scheduler (Scheduler) optional parameter, default set to Adam. Can also be set to other\n",
    "                schedulers such as AdaGrad, Momentum, RMS_prop and Constant\n",
    "        \"\"\"\n",
    "        assert self.layers, \"OutputLayer should follow FullyConnectedLayer in CNN\"\n",
    "\n",
    "        if scheduler is None:\n",
    "            scheduler = self.scheduler\n",
    "\n",
    "        output_layer = OutputLayer(\n",
    "            nodes, output_func, self.cost_func, scheduler, self.seed\n",
    "        )\n",
    "        self.layers.append(output_layer)\n",
    "        self.pred_format = output_layer.get_pred_format()\n",
    "\n",
    "    def add_FlattenLayer(self, act_func=LRELU) -> None:\n",
    "        \"\"\"\n",
    "        Description:\n",
    "        ------------\n",
    "            Add a FlattenLayer to the CNN, which flattens the image data such that it is formatted to\n",
    "            be used in the feed forward neural network part of the CNN\n",
    "        \"\"\"\n",
    "        self.layers.append(FlattenLayer(act_func=act_func, seed=self.seed))\n",
    "\n",
    "    def add_Convolution2DLayer(\n",
    "        self,\n",
    "        input_channels=1,\n",
    "        feature_maps=1,\n",
    "        kernel_height=3,\n",
    "        kernel_width=3,\n",
    "        v_stride=1,\n",
    "        h_stride=1,\n",
    "        pad=\"same\",\n",
    "        act_func=LRELU,\n",
    "        optimized=True,\n",
    "    ) -> None:\n",
    "        \"\"\"\n",
    "        Description:\n",
    "        ------------\n",
    "            Add a Convolution2DLayer to the CNN, i.e. a convolutional layer with a 2 dimensional kernel. Should be\n",
    "            the first layer added to the CNN\n",
    "\n",
    "        Parameters:\n",
    "        ------------\n",
    "            I   input_channels (int) specifies amount of input channels. For monochrome images, use input_channels\n",
    "                = 1, and input_channels = 3 for colored images, where each channel represents one of R, G and B\n",
    "            II  feature_maps (int) amount of feature maps in CNN\n",
    "            III kernel_height (int) height of the kernel, also called 'convolutional filter' in literature\n",
    "            IV  kernel_width (int) width of the kernel, also called 'convolutional filter' in literature\n",
    "            V   v_stride (int) value of vertical stride for dimentionality reduction\n",
    "            VI  h_stride (int) value of horizontal stride for dimentionality reduction\n",
    "            VII pad (str) default = \"same\" ensures output size is the same as input size (given stride=1)\n",
    "           VIII act_func (activationFunctions) default = \"LRELU\", nonlinear activation function\n",
    "             IX optimized (bool) default = True, uses Convolution2DLayerOPT if True which is much faster when\n",
    "                compared to Convolution2DLayer, which is a more straightforward, understandable implementation\n",
    "        \"\"\"\n",
    "        if optimized:\n",
    "            conv_layer = Convolution2DLayerOPT(\n",
    "                input_channels,\n",
    "                feature_maps,\n",
    "                kernel_height,\n",
    "                kernel_width,\n",
    "                v_stride,\n",
    "                h_stride,\n",
    "                pad,\n",
    "                act_func,\n",
    "                self.seed,\n",
    "                reset_weights_independently=False,\n",
    "            )\n",
    "        else:\n",
    "            conv_layer = Convolution2DLayer(\n",
    "                input_channels,\n",
    "                feature_maps,\n",
    "                kernel_height,\n",
    "                kernel_width,\n",
    "                v_stride,\n",
    "                h_stride,\n",
    "                pad,\n",
    "                act_func,\n",
    "                self.seed,\n",
    "                reset_weights_independently=False,\n",
    "            )\n",
    "        self.layers.append(conv_layer)\n",
    "\n",
    "    def add_PoolingLayer(\n",
    "        self, kernel_height=2, kernel_width=2, v_stride=1, h_stride=1, pooling=\"max\"\n",
    "    ) -> None:\n",
    "        \"\"\"\n",
    "        Description:\n",
    "        ------------\n",
    "            Add a Pooling2DLayer to the CNN, i.e. a pooling layer that reduces the dimentionality of\n",
    "            the image data. It is not necessary to use a Pooling2DLayer when creating a CNN, but it\n",
    "            can be used to speed up the training\n",
    "\n",
    "        Parameters:\n",
    "        ------------\n",
    "            I   kernel_height (int) height of the kernel used for pooling\n",
    "            II  kernel_width (int) width of the kernel used for pooling\n",
    "            III v_stride (int) value of vertical stride for dimentionality reduction\n",
    "            IV  h_stride (int) value of horizontal stride for dimentionality reduction\n",
    "            V   pooling (str) either \"max\" or \"average\", describes type of pooling performed\n",
    "        \"\"\"\n",
    "        pooling_layer = Pooling2DLayer(\n",
    "            kernel_height, kernel_width, v_stride, h_stride, pooling, self.seed\n",
    "        )\n",
    "        self.layers.append(pooling_layer)\n",
    "\n",
    "    def fit(\n",
    "        self,\n",
    "        X: np.ndarray,\n",
    "        t: np.ndarray,\n",
    "        epochs: int = 100,\n",
    "        lam: float = 0,\n",
    "        batches: int = 1,\n",
    "        X_val: np.ndarray = None,\n",
    "        t_val: np.ndarray = None,\n",
    "    ) -> dict:\n",
    "        \"\"\"\n",
    "        Description:\n",
    "        ------------\n",
    "            Fits the CNN to input X for a given amount of epochs. Performs feedforward and backpropagation passes,\n",
    "            can utilize batches, regulariziation and validation if desired.\n",
    "\n",
    "        Parameters:\n",
    "        ------------\n",
    "            X (numpy array) with input data in format [images, input channels,\n",
    "            image height, image_width]\n",
    "            t (numpy array) target labels for input data\n",
    "            epochs (int) amount of epochs\n",
    "            lam (float) regulariziation term lambda\n",
    "            batches (int) amount of batches input data splits into\n",
    "            X_val (numpy array) validation data\n",
    "            t_val (numpy array) target labels for validation data\n",
    "\n",
    "        Returns:\n",
    "        ------------\n",
    "            scores (dict) a dictionary with \"train_error\", \"train_acc\", \"val_error\", val_acc\" keys\n",
    "            that contain numpy arrays with float values of all accuracies/errors over all epochs.\n",
    "            Can be used to create plots. Also used to update the progress bar during training\n",
    "        \"\"\"\n",
    "\n",
    "        # setup\n",
    "        if self.seed is not None:\n",
    "            np.random.seed(self.seed)\n",
    "\n",
    "        # initialize weights\n",
    "        self._initialize_weights(X)\n",
    "\n",
    "        # create arrays for score metrics\n",
    "        scores = self._initialize_scores(epochs)\n",
    "\n",
    "        assert batches <= t.shape[0]\n",
    "        batch_size = X.shape[0] // batches\n",
    "\n",
    "        try:\n",
    "            for epoch in range(epochs):\n",
    "                for batch in range(batches):\n",
    "                    # minibatch gradient descent\n",
    "                    # If the for loop has reached the last batch, take all thats left\n",
    "                    if batch == batches - 1:\n",
    "                        X_batch = X[batch * batch_size :, :, :, :]\n",
    "                        t_batch = t[batch * batch_size :, :]\n",
    "                    else:\n",
    "                        X_batch = X[\n",
    "                            batch * batch_size : (batch + 1) * batch_size, :, :, :\n",
    "                        ]\n",
    "                        t_batch = t[batch * batch_size : (batch + 1) * batch_size, :]\n",
    "\n",
    "                    self._feedforward(X_batch)\n",
    "                    self._backpropagate(t_batch, lam)\n",
    "\n",
    "                # reset schedulers for each epoch (some schedulers pass in this call)\n",
    "                for layer in self.layers:\n",
    "                    if isinstance(layer, FullyConnectedLayer):\n",
    "                        layer._reset_scheduler()\n",
    "\n",
    "                # computing performance metrics\n",
    "                scores = self._compute_scores(scores, epoch, X, t, X_val, t_val)\n",
    "\n",
    "                # printing progress bar\n",
    "                print_length = self._progress_bar(\n",
    "                    epoch,\n",
    "                    epochs,\n",
    "                    scores,\n",
    "                )\n",
    "        # allows for stopping training at any point and seeing the result\n",
    "        except KeyboardInterrupt:\n",
    "            pass\n",
    "\n",
    "        # visualization of training progression (similiar to tensorflow progression bar)\n",
    "        sys.stdout.write(\"\\r\" + \" \" * print_length)\n",
    "        sys.stdout.flush()\n",
    "        self._progress_bar(\n",
    "            epochs,\n",
    "            epochs,\n",
    "            scores,\n",
    "        )\n",
    "        sys.stdout.write(\"\")\n",
    "\n",
    "        return scores\n",
    "\n",
    "    def _feedforward(self, X_batch) -> np.ndarray:\n",
    "        \"\"\"\n",
    "        Description:\n",
    "        ------------\n",
    "            Performs the feedforward pass for all layers in the CNN. Called from fit()\n",
    "        \"\"\"\n",
    "        a = X_batch\n",
    "        for layer in self.layers:\n",
    "            a = layer._feedforward(a)\n",
    "\n",
    "        return a\n",
    "\n",
    "    def _backpropagate(self, t_batch, lam) -> None:\n",
    "        \"\"\"\n",
    "        Description:\n",
    "        ------------\n",
    "            Performs backpropagation for all layers in the CNN. Called from fit()\n",
    "        \"\"\"\n",
    "        assert len(self.layers) >= 2\n",
    "        reversed_layers = self.layers[::-1]\n",
    "\n",
    "        # for every layer, backwards\n",
    "        for i in range(len(reversed_layers) - 1):\n",
    "            layer = reversed_layers[i]\n",
    "            prev_layer = reversed_layers[i + 1]\n",
    "\n",
    "            # OutputLayer\n",
    "            if isinstance(layer, OutputLayer):\n",
    "                prev_a = prev_layer.get_prev_a()\n",
    "                weights_next, delta_next = layer._backpropagate(t_batch, prev_a, lam)\n",
    "\n",
    "            # FullyConnectedLayer\n",
    "            elif isinstance(layer, FullyConnectedLayer):\n",
    "                assert (\n",
    "                    delta_next is not None\n",
    "                ), \"No OutputLayer to follow FullyConnectedLayer\"\n",
    "                assert (\n",
    "                    weights_next is not None\n",
    "                ), \"No OutputLayer to follow FullyConnectedLayer\"\n",
    "                prev_a = prev_layer.get_prev_a()\n",
    "                weights_next, delta_next = layer._backpropagate(\n",
    "                    weights_next, delta_next, prev_a, lam\n",
    "                )\n",
    "\n",
    "            # FlattenLayer\n",
    "            elif isinstance(layer, FlattenLayer):\n",
    "                assert (\n",
    "                    delta_next is not None\n",
    "                ), \"No FullyConnectedLayer to follow FlattenLayer\"\n",
    "                assert (\n",
    "                    weights_next is not None\n",
    "                ), \"No FullyConnectedLayer to follow FlattenLayer\"\n",
    "                delta_next = layer._backpropagate(weights_next, delta_next)\n",
    "\n",
    "            # Convolution2DLayer and Convolution2DLayerOPT\n",
    "            elif isinstance(layer, Convolution2DLayer):\n",
    "                assert (\n",
    "                    delta_next is not None\n",
    "                ), \"No FlattenLayer to follow Convolution2DLayer\"\n",
    "                delta_next = layer._backpropagate(delta_next)\n",
    "\n",
    "            # Pooling2DLayer\n",
    "            elif isinstance(layer, Pooling2DLayer):\n",
    "                assert delta_next is not None, \"No Layer to follow Pooling2DLayer\"\n",
    "                delta_next = layer._backpropagate(delta_next)\n",
    "\n",
    "            # Catch error\n",
    "            else:\n",
    "                raise NotImplementedError\n",
    "\n",
    "    def _compute_scores(\n",
    "        self,\n",
    "        scores: dict,\n",
    "        epoch: int,\n",
    "        X: np.ndarray,\n",
    "        t: np.ndarray,\n",
    "        X_val: np.ndarray,\n",
    "        t_val: np.ndarray,\n",
    "    ) -> dict:\n",
    "        \"\"\"\n",
    "        Description:\n",
    "        ------------\n",
    "            Computes scores such as training error, training accuracy, validation error\n",
    "            and validation accuracy for the CNN depending on if a validation set is used\n",
    "            and if the CNN performs classification or regression\n",
    "\n",
    "        Returns:\n",
    "        ------------\n",
    "            scores (dict) a dictionary with \"train_error\", \"train_acc\", \"val_error\", val_acc\" keys\n",
    "            that contain numpy arrays with float values of all accuracies/errors over all epochs.\n",
    "            Can be used to create plots. Also used to update the progress bar during training\n",
    "        \"\"\"\n",
    "\n",
    "        pred_train = self.predict(X)\n",
    "        cost_function_train = self.cost_func(t)\n",
    "        train_error = cost_function_train(pred_train)\n",
    "        scores[\"train_error\"][epoch] = train_error\n",
    "\n",
    "        if X_val is not None and t_val is not None:\n",
    "            cost_function_val = self.cost_func(t_val)\n",
    "            pred_val = self.predict(X_val)\n",
    "            val_error = cost_function_val(pred_val)\n",
    "            scores[\"val_error\"][epoch] = val_error\n",
    "\n",
    "        if self.pred_format != \"Regression\":\n",
    "            train_acc = self._accuracy(pred_train, t)\n",
    "            scores[\"train_acc\"][epoch] = train_acc\n",
    "            if X_val is not None and t_val is not None:\n",
    "                val_acc = self._accuracy(pred_val, t_val)\n",
    "                scores[\"val_acc\"][epoch] = val_acc\n",
    "\n",
    "        return scores\n",
    "\n",
    "    def _initialize_scores(self, epochs) -> dict:\n",
    "        \"\"\"\n",
    "        Description:\n",
    "        ------------\n",
    "            Initializes scores such as training error, training accuracy, validation error\n",
    "            and validation accuracy for the CNN\n",
    "\n",
    "        Returns:\n",
    "        ------------\n",
    "            A dictionary with \"train_error\", \"train_acc\", \"val_error\", val_acc\" keys that\n",
    "            will contain numpy arrays with float values of all accuracies/errors over all epochs\n",
    "            when passed through the _compute_scores() function during fit()\n",
    "        \"\"\"\n",
    "        scores = dict()\n",
    "\n",
    "        train_errors = np.empty(epochs)\n",
    "        train_errors.fill(np.nan)\n",
    "        val_errors = np.empty(epochs)\n",
    "        val_errors.fill(np.nan)\n",
    "\n",
    "        train_accs = np.empty(epochs)\n",
    "        train_accs.fill(np.nan)\n",
    "        val_accs = np.empty(epochs)\n",
    "        val_accs.fill(np.nan)\n",
    "\n",
    "        scores[\"train_error\"] = train_errors\n",
    "        scores[\"val_error\"] = val_errors\n",
    "        scores[\"train_acc\"] = train_accs\n",
    "        scores[\"val_acc\"] = val_accs\n",
    "\n",
    "        return scores\n",
    "\n",
    "    def _initialize_weights(self, X: np.ndarray) -> None:\n",
    "        \"\"\"\n",
    "        Description:\n",
    "        ------------\n",
    "            Initializes weights for all layers in CNN\n",
    "\n",
    "        Parameters:\n",
    "        ------------\n",
    "            I   X (np.ndarray) input of format [img, feature_maps, height, width]\n",
    "        \"\"\"\n",
    "        prev_nodes = X\n",
    "        for layer in self.layers:\n",
    "            prev_nodes = layer._reset_weights(prev_nodes)\n",
    "\n",
    "    def predict(self, X: np.ndarray, *, threshold=0.5) -> np.ndarray:\n",
    "        \"\"\"\n",
    "        Description:\n",
    "        ------------\n",
    "            Predicts output of input X\n",
    "\n",
    "        Parameters:\n",
    "        ------------\n",
    "            I   X (np.ndarray) input [img, feature_maps, height, width]\n",
    "        \"\"\"\n",
    "\n",
    "        prediction = self._feedforward(X)\n",
    "\n",
    "        if self.pred_format == \"Binary\":\n",
    "            return np.where(prediction > threshold, 1, 0)\n",
    "        elif self.pred_format == \"Multi-class\":\n",
    "            class_prediction = np.zeros(prediction.shape)\n",
    "            for i in range(prediction.shape[0]):\n",
    "                class_prediction[i, np.argmax(prediction[i, :])] = 1\n",
    "            return class_prediction\n",
    "        else:\n",
    "            return prediction\n",
    "\n",
    "    def _accuracy(self, prediction: np.ndarray, target: np.ndarray) -> float:\n",
    "        \"\"\"\n",
    "        Description:\n",
    "        ------------\n",
    "            Calculates accuracy of given prediction to target\n",
    "\n",
    "        Parameters:\n",
    "        ------------\n",
    "            I   prediction (np.ndarray): output of predict() fuction\n",
    "            (1s and 0s in case of classification, and real numbers in case of regression)\n",
    "            II  target (np.ndarray): vector of true values (What the network should predict)\n",
    "\n",
    "        Returns:\n",
    "        ------------\n",
    "            A floating point number representing the percentage of correctly classified instances.\n",
    "        \"\"\"\n",
    "        assert prediction.size == target.size\n",
    "        return np.average((target == prediction))\n",
    "\n",
    "    def _progress_bar(self, epoch: int, epochs: int, scores: dict) -> int:\n",
    "        \"\"\"\n",
    "        Description:\n",
    "        ------------\n",
    "            Displays progress of training\n",
    "        \"\"\"\n",
    "        progression = epoch / epochs\n",
    "        epoch -= 1\n",
    "        print_length = 40\n",
    "        num_equals = int(progression * print_length)\n",
    "        num_not = print_length - num_equals\n",
    "        arrow = \">\" if num_equals > 0 else \"\"\n",
    "        bar = \"[\" + \"=\" * (num_equals - 1) + arrow + \"-\" * num_not + \"]\"\n",
    "        perc_print = self._fmt(progression * 100, N=5)\n",
    "        line = f\"  {bar} {perc_print}% \"\n",
    "\n",
    "        for key, score in scores.items():\n",
    "            if np.isnan(score[epoch]) == False:\n",
    "                value = self._fmt(score[epoch], N=4)\n",
    "                line += f\"| {key}: {value} \"\n",
    "        print(line, end=\"\\r\")\n",
    "        return len(line)\n",
    "\n",
    "    def _fmt(self, value: int, N=4) -> str:\n",
    "        \"\"\"\n",
    "        Description:\n",
    "        ------------\n",
    "            Formats decimal numbers for progress bar\n",
    "        \"\"\"\n",
    "        if value > 0:\n",
    "            v = value\n",
    "        elif value < 0:\n",
    "            v = -10 * value\n",
    "        else:\n",
    "            v = 1\n",
    "        n = 1 + math.floor(math.log10(v))\n",
    "        if n >= N - 1:\n",
    "            return str(round(value))\n",
    "            # or overflow\n",
    "        return f\"{value:.{N-n-1}f}\""
   ]
  },
  {
   "cell_type": "markdown",
   "id": "5acd91d5",
   "metadata": {
    "editable": true
   },
   "source": [
    "### Usage of CNN code\n",
    "\n",
    "Using the CNN codebase is very simple. We begin by initiating a CNN\n",
    "object, which takes a cost function, a scheduler and a seed as its\n",
    "arguments. If a scheduler is not provided, it will per default\n",
    "initiate an Adam scheduler with eta=1e-4, and if a seed is not\n",
    "provided, the CNN will not be seeded, meaning it will run with a\n",
    "different random seed every run. Below we demonstrate an initiation of\n",
    "our CNN."
   ]
  },
  {
   "cell_type": "code",
   "execution_count": 30,
   "id": "167b083d",
   "metadata": {
    "collapsed": false,
    "editable": true,
    "jupyter": {
     "outputs_hidden": false
    }
   },
   "outputs": [],
   "source": [
    "adam_scheduler = Adam(eta=1e-3, rho=0.9, rho2=0.999)\n",
    "cnn = CNN(cost_func=CostCrossEntropy, scheduler=adam_scheduler, seed=2023)"
   ]
  },
  {
   "cell_type": "markdown",
   "id": "0184f539",
   "metadata": {
    "editable": true
   },
   "source": [
    "Now that we have our CNN object, we can begin to add layers to it!\n",
    "Many of the add$\\_$layer functions have default values, for example\n",
    "add$\\_$Convolution2DLayer() has a default v$\\_$stride and h$\\_$stride of\n",
    "1. However, these can of course be set to any value you please. Note\n",
    "that the input channels of a subsequent convolutional layer must equal\n",
    "the previous convolutional layer's feature maps."
   ]
  },
  {
   "cell_type": "code",
   "execution_count": 31,
   "id": "6a982567",
   "metadata": {
    "collapsed": false,
    "editable": true,
    "jupyter": {
     "outputs_hidden": false
    }
   },
   "outputs": [],
   "source": [
    "cnn.add_Convolution2DLayer(\n",
    "    input_channels=1,\n",
    "    feature_maps=1,\n",
    "    kernel_height=3,\n",
    "    kernel_width=3,\n",
    "    act_func=LRELU,\n",
    ")\n",
    "\n",
    "cnn.add_FlattenLayer()\n",
    "\n",
    "cnn.add_FullyConnectedLayer(30, LRELU)\n",
    "\n",
    "cnn.add_FullyConnectedLayer(20, LRELU)\n",
    "\n",
    "cnn.add_OutputLayer(10, softmax)"
   ]
  },
  {
   "cell_type": "markdown",
   "id": "34f3e37b",
   "metadata": {
    "editable": true
   },
   "source": [
    "Here we have created a CNN with the following architecture:\n",
    "\n",
    "1. A convolutional layer with 1 input channel, with a kernel height of 2 and a width of 2, which uses LRELU as its non-linearity function. This layer outputs 1 feature map, which feed into the subsequent layer.\n",
    "\n",
    "2. A flatten layer\n",
    "\n",
    "3. A hidden layer with 30 nodes, with LRELU as its activation function\n",
    "\n",
    "4. Another hidden layer but with 20 nodes\n",
    "\n",
    "5. The output layer, with softmax as its activation function and 10 nodes. We use 10 nodes because we will be using a dataset with 10 classes.\n",
    "\n",
    "Now, before we can train the model, we need to load in our data. We\n",
    "will use the MNIST dataset and use 10000 $28 \\times  28$ images."
   ]
  },
  {
   "cell_type": "code",
   "execution_count": 32,
   "id": "3f2ade88",
   "metadata": {
    "collapsed": false,
    "editable": true,
    "jupyter": {
     "outputs_hidden": false
    }
   },
   "outputs": [],
   "source": [
    "from sklearn.datasets import fetch_openml\n",
    "from sklearn.model_selection import train_test_split\n",
    "\n",
    "def onehot(target: np.ndarray):\n",
    "    onehot = np.zeros((target.size, target.max() + 1))\n",
    "    onehot[np.arange(target.size), target] = 1\n",
    "    return onehot\n",
    "\n",
    "# get dataset\n",
    "dataset = fetch_openml(\"mnist_784\", parser=\"auto\")\n",
    "mnist = dataset.data.to_numpy(dtype=\"float\")[:10000, :]\n",
    "\n",
    "# scale data\n",
    "for i in range(mnist.shape[1]):\n",
    "    mnist[:, i] /= 255\n",
    "    \n",
    "# reshape to add single input channel to data shape [inputs, input_channels, height, width]\n",
    "mnist = mnist.reshape(mnist.shape[0], 1, 28, 28)\n",
    "\n",
    "# one hot encode target as we are doing multi-class classification\n",
    "target = onehot(np.array([int(i) for i in dataset.target.to_numpy()[:10000]]))\n",
    "\n",
    "# split into training and validation data\n",
    "x_train, x_val, y_train, y_val = train_test_split(mnist, target)"
   ]
  },
  {
   "cell_type": "markdown",
   "id": "6f833a44",
   "metadata": {
    "editable": true
   },
   "source": [
    "Now we may train our model. Note that we can utilize regularization in\n",
    "the CNN by using the lam (lambda) parameter in fit(), and utilize\n",
    "different types of gradient descent by specifying the amount of\n",
    "batches via the batches parameter as shown below.\n",
    "\n",
    "The functionfit() returns a score dictionary of the training error and\n",
    "accuracy (and validation error and accuracy if a validation set is\n",
    "provided) which can be used to plot the error and accuracy of the\n",
    "model over epochs."
   ]
  },
  {
   "cell_type": "code",
   "execution_count": 33,
   "id": "390e7e93",
   "metadata": {
    "collapsed": false,
    "editable": true,
    "jupyter": {
     "outputs_hidden": false
    }
   },
   "outputs": [],
   "source": [
    "scores = cnn.fit(\n",
    "    x_train,\n",
    "    y_train,\n",
    "    lam=1e-5,\n",
    "    batches=10,\n",
    "    epochs=100,\n",
    "    X_val=x_val,\n",
    "    t_val=y_val,\n",
    ")\n",
    "\n",
    "plt.plot(scores[\"train_acc\"], label=\"Training\")\n",
    "plt.plot(scores[\"val_acc\"], label=\"Validation\")\n",
    "plt.ylim([0.8,1])\n",
    "plt.xlabel(\"Epochs\")\n",
    "plt.ylabel(\"Accuracy\")\n",
    "plt.legend()\n",
    "plt.show()"
   ]
  },
  {
   "cell_type": "markdown",
   "id": "f5758740",
   "metadata": {
    "editable": true
   },
   "source": [
    "Considering we only trained the model for 100 epochs without any tuning of the hyperparameters, this result is pretty good.\n",
    "\n",
    "The codebase allows for great flexibility in CNN\n",
    "architectures. Pooling layers can be added before, inbetween or after\n",
    "convolutional layers, but due to the great optimizations made within\n",
    "Convolution2DLayerOPT, we recommend using the v$\\_$stride and h$\\_$stride\n",
    "parameters in add$\\_$Convolution2DLayer() to reduce the dimentionality of\n",
    "the problem as the pooling layer is slow in comparison. To use the\n",
    "unoptimized version of Convolution2DLayer, simply pass optimized=False\n",
    "as an argument in add$\\_$Convolution2DLayer().\n",
    "\n",
    "If one wishes to perform binary classification using the CNN, simply\n",
    "use the cost function 'CostLogReg' when initializing the CNN and use 1\n",
    "node at the OutputLayer.\n",
    "\n",
    "Below we have created another, more untraditional architecture using\n",
    "our code to demonstrate its flexibility and different attributes such\n",
    "as asymmetric stride that might become useful when constructing your\n",
    "own CNN."
   ]
  },
  {
   "cell_type": "code",
   "execution_count": 34,
   "id": "39d40c57",
   "metadata": {
    "collapsed": false,
    "editable": true,
    "jupyter": {
     "outputs_hidden": false
    }
   },
   "outputs": [],
   "source": [
    "adam_scheduler = Adam(eta=1e-3, rho=0.9, rho2=0.999)\n",
    "cnn = CNN(cost_func=CostCrossEntropy, scheduler=adam_scheduler, seed=2023)\n",
    "\n",
    "cnn.add_Convolution2DLayer(\n",
    "    input_channels=1,\n",
    "    feature_maps=7,\n",
    "    kernel_height=7,\n",
    "    kernel_width=1,\n",
    "    act_func=LRELU,\n",
    ")\n",
    "\n",
    "cnn.add_PoolingLayer(\n",
    "    kernel_height=2,\n",
    "    kernel_width=2,\n",
    "    pooling=\"average\",\n",
    ")\n",
    "\n",
    "cnn.add_PoolingLayer(\n",
    "    kernel_height=2,\n",
    "    kernel_width=2,\n",
    "    pooling=\"max\",\n",
    ")\n",
    "\n",
    "cnn.add_Convolution2DLayer(\n",
    "    input_channels=7,\n",
    "    feature_maps=1,\n",
    "    kernel_height=4,\n",
    "    kernel_width=4,\n",
    "    v_stride=2,\n",
    "    h_stride=3,\n",
    "    act_func=LRELU,\n",
    "    optimized=False,\n",
    ")\n",
    "\n",
    "cnn.add_Convolution2DLayer(\n",
    "    input_channels=1,\n",
    "    feature_maps=1,\n",
    "    kernel_height=2,\n",
    "    kernel_width=2,\n",
    "    act_func=sigmoid,\n",
    "    optimized=True,\n",
    ")\n",
    "\n",
    "cnn.add_PoolingLayer(\n",
    "    kernel_height=2,\n",
    "    kernel_width=2,\n",
    "    pooling=\"max\"\n",
    ")\n",
    "\n",
    "cnn.add_FlattenLayer()\n",
    "\n",
    "cnn.add_FullyConnectedLayer(100, LRELU)\n",
    "\n",
    "cnn.add_FullyConnectedLayer(10, sigmoid)\n",
    "\n",
    "cnn.add_FullyConnectedLayer(101, identity)\n",
    "\n",
    "cnn.add_OutputLayer(10, softmax)"
   ]
  },
  {
   "cell_type": "markdown",
   "id": "32ee973d",
   "metadata": {
    "editable": true
   },
   "source": [
    "Here we see the use of asymmetrical 1D kernels such as the $7 \\times\n",
    "1$ kernel in the first convolutional layer, both max and average\n",
    "pooling, asymmetric stride in the unoptimized convolutional layer,\n",
    "more pooling, a flatten layer, a hidden layer with 100 nodes using\n",
    "LRELU, another hidden layer with 10 hidden nodes that uses the sigmoid\n",
    "activation function, and another hidden layer with 101 nodes which\n",
    "utilizes no activation function (identity). Finally, we arrive at the\n",
    "output layer with 10 nodes, which uses softmax as its activation\n",
    "function."
   ]
  },
  {
   "cell_type": "markdown",
   "id": "d270b785",
   "metadata": {
    "editable": true
   },
   "source": [
    "### Additional Remarks\n",
    "\n",
    "The stride parameter controls the distance between each convolution\n",
    "and the kernel/filter. If our image is padded, stride is the only\n",
    "parameter that determines the size of the output from a convolutional\n",
    "layer. However, if we decide not to perform any padding, the size of\n",
    "the output feature map depends on both the stride and kernel size. It\n",
    "is important to note that neither the stride nor the kernel has to be\n",
    "symmetrical. This means that we can use a rectangular filter if we\n",
    "choose, and the stride in the vertical direction (axis=0 in Python)\n",
    "does not need to be the same as the stride in the horizontal direction\n",
    "(axis=1 in Python). It may even be the case that asymmetric\n",
    "combinations of stride or kernel dimensions, or both, yield better\n",
    "results than symmetric values for these parameters."
   ]
  },
  {
   "cell_type": "code",
   "execution_count": 35,
   "id": "f4b81c4d",
   "metadata": {
    "collapsed": false,
    "editable": true,
    "jupyter": {
     "outputs_hidden": false
    }
   },
   "outputs": [],
   "source": [
    "def convolve(image, kernel, stride=1):\n",
    "    for i in range(2):\n",
    "        kernel = np.rot90(kernel)\n",
    "\n",
    "    k_half_height = kernel.shape[0] // 2\n",
    "    k_half_width = kernel.shape[0] // 2\n",
    "\n",
    "    conv_image = np.zeros(image.shape)\n",
    "    pad_image = padding(image, kernel)\n",
    "\n",
    "    for i in range(k_half_height, conv_image.shape[0] + k_half_height, stride):\n",
    "        for j in range(k_half_width, conv_image.shape[1] + k_half_width, stride):\n",
    "            conv_image[i - k_half_height, j - k_half_width] = np.sum(\n",
    "                pad_image[\n",
    "                    i - k_half_height : i + k_half_height + 1, j - k_half_width : j + k_half_width + 1\n",
    "                ]\n",
    "                * kernel\n",
    "            )\n",
    "\n",
    "    return conv_image"
   ]
  },
  {
   "cell_type": "markdown",
   "id": "2661bdd3",
   "metadata": {
    "editable": true
   },
   "source": [
    "### Remarks on the speed\n",
    "\n",
    "Despite the naive convolution algorithm shown above working finely, it\n",
    "is extremely slow, requiring approximately 20-30 seconds to process a\n",
    "single image. The time complexity of 2D convolution, which is O(NMnm),\n",
    "rapidly becomes a constraint and may, at worst, make computations\n",
    "infeasible. Consequently, optimizing the naive 2D convolution\n",
    "algorithm is a necessity, as the execution time of the algorithm\n",
    "significantly increases as the input data size expands. This can pose\n",
    "a bottleneck in applications that necessitate real-time processing of\n",
    "large data volumes, such as image and video processing, deep learning,\n",
    "and scientific simulations.\n",
    "\n",
    "To address this issue, we shall present two widely used optimization\n",
    "techniques: the separable kernel approach and Fast Fourier Transform\n",
    "(FFT). Both of these methods can drastically reduce the computational\n",
    "complexity of convolution and enhance the overall efficiency of\n",
    "processing substantial data quantities. While we shall refrain from\n",
    "delving into the intricacies of these algorithms, we strongly\n",
    "encourage you to examine at least the application of FFT to optimize\n",
    "computations."
   ]
  },
  {
   "cell_type": "markdown",
   "id": "6048e681",
   "metadata": {
    "editable": true
   },
   "source": [
    "### Convolution using separable kernels"
   ]
  },
  {
   "cell_type": "code",
   "execution_count": 36,
   "id": "122007f6",
   "metadata": {
    "collapsed": false,
    "editable": true,
    "jupyter": {
     "outputs_hidden": false
    }
   },
   "outputs": [],
   "source": [
    "def conv2DSep(image, kernel, coef, stride=1, pad=\"zero\"):\n",
    "    for i in range(2):\n",
    "        kernel = np.rot90(kernel)\n",
    "\n",
    "    # The kernel is quadratic, thus we only need one of its dimensions\n",
    "    half_dim = kernel.shape[0] // 2\n",
    "\n",
    "    ker1 = np.array(kernel[0, :])\n",
    "    ker2 = np.array(kernel[:, 0])\n",
    "\n",
    "    if pad == \"zero\":\n",
    "        conv_image = np.zeros(image.shape)\n",
    "        pad_image = padding(image, kernel)\n",
    "    else:\n",
    "        conv_image = np.zeros(\n",
    "            (image.shape[0] - kernel.shape[0], image.shape[1] - kernel.shape[1])\n",
    "        )\n",
    "        pad_image = image[:, :]\n",
    "\n",
    "    for i in range(half_dim, conv_image.shape[0] + half_dim, stride):\n",
    "        for j in range(half_dim, conv_image.shape[1] + half_dim, stride):\n",
    "            conv_image[i - half_dim, j - half_dim] = (\n",
    "                pad_image[\n",
    "                    i - half_dim : i + half_dim + 1, j - half_dim : j + half_dim + 1\n",
    "                ]\n",
    "                @ ker1\n",
    "                @ ker2.T\n",
    "                * coef\n",
    "            )\n",
    "\n",
    "    return conv_image\n",
    "\n",
    "img_path = img_path = \"data/IMG-2167.JPG\"\n",
    "image_of_cute_dog = imageio.imread(img_path, mode=\"L\")\n",
    "start_time = time.time()\n",
    "filtered_image = conv2DSep(image_of_cute_dog, kernel=sobel_kernel, coef=1)\n",
    "print(f'Time taken for convolution with seperated kernel on 128x128 image {time.time() - start_time}')\n",
    "plt.imshow(filtered_image, cmap=\"gray\", vmin=0, vmax=255, aspect=\"auto\")\n",
    "plt.show()"
   ]
  },
  {
   "cell_type": "markdown",
   "id": "880e79a5",
   "metadata": {
    "editable": true
   },
   "source": [
    "By taking advantage of the capabilities of separable kernels, we can\n",
    "effectively cut the computational expense of filtering an image in\n",
    "half. Yet, if we seek even more rapid processing, we can turn to the\n",
    "Fast Fourier Transform (FFT) algorithm provided by the numpy\n",
    "library. By utilizing FFT to transform the input image and filter into\n",
    "the frequency domain, we can perform convolution in this domain. This\n",
    "approach significantly reduces the number of operations needed and\n",
    "results in a marked speedup relative to other convolution\n",
    "techniques. In addition, it is worth noting that the FFT is widely\n",
    "regarded as one of the most critical algorithms developed to date,\n",
    "with applications ranging from digital signal processing to scientific\n",
    "computing."
   ]
  },
  {
   "cell_type": "markdown",
   "id": "8c4c4d6a",
   "metadata": {
    "editable": true
   },
   "source": [
    "### Convolution in the Fourier domain"
   ]
  },
  {
   "cell_type": "code",
   "execution_count": 37,
   "id": "30fd883a",
   "metadata": {
    "collapsed": false,
    "editable": true,
    "jupyter": {
     "outputs_hidden": false
    }
   },
   "outputs": [],
   "source": [
    "start_time = time.time()\n",
    "img_fft = np.fft.fft2(image_of_cute_dog)\n",
    "kernel_fft = np.fft.fft2(sobel_kernel, s=image_of_cute_dog.shape)\n",
    "\n",
    "conv_image = img_fft * kernel_fft\n",
    "\n",
    "filtered_image = np.fft.ifft2(conv_image)\n",
    "print(f'Time take for convolution in the fourier domain: {time.time() - start_time}')\n",
    "plt.imshow(filtered_image.real, cmap=\"gray\", vmin=0, vmax=255, aspect=\"auto\")\n",
    "plt.show()"
   ]
  },
  {
   "cell_type": "markdown",
   "id": "0ec04c3d",
   "metadata": {
    "editable": true
   },
   "source": [
    "It is evident that executing convolution in the Fourier domain yields\n",
    "the quickest computation time. Nonetheless, one should exercise\n",
    "caution, particularly when dealing with images of relatively small\n",
    "dimensions, as one of the other methods may prove to be more\n",
    "expeditious than FFT-enhanced convolution. The overhead involved in\n",
    "transferring both the image and filter into the Fourier domain,\n",
    "followed by their subsequent transformation back into the spatial\n",
    "domain, results in a minor inconvenience. Therefore, it is imperative\n",
    "to remain cognizant of this fact when utilizing FFT as the primary\n",
    "optimization technique."
   ]
  },
  {
   "cell_type": "markdown",
   "id": "e9c21f40",
   "metadata": {
    "editable": true
   },
   "source": [
    "## From NNs and CNNs to recurrent neural networks (RNNs)\n",
    "\n",
    "There are limitation of NNs, one of which being that FFNNs are not\n",
    "designed to handle sequential data (data for which the order matters)\n",
    "effectively because they lack the capabilities of storing information\n",
    "about previous inputs; each input is being treated indepen-\n",
    "dently. This is a limitation when dealing with sequential data where\n",
    "past information can be vital to correctly process current and future\n",
    "inputs."
   ]
  },
  {
   "cell_type": "markdown",
   "id": "35eff7cf",
   "metadata": {
    "editable": true
   },
   "source": [
    "## Feedback connections\n",
    "\n",
    "In contrast to NNs, recurrent networks introduce feedback\n",
    "connections, meaning the information is allowed to be carried to\n",
    "subsequent nodes across different time steps. These cyclic or feedback\n",
    "connections have the objective of providing the network with some kind\n",
    "of memory, making RNNs particularly suited for time- series data,\n",
    "natural language processing, speech recognition, and several other\n",
    "problems for which the order of the data is crucial.  The RNN\n",
    "architectures vary greatly in how they manage information flow and\n",
    "memory in the network."
   ]
  },
  {
   "cell_type": "markdown",
   "id": "504c97d4",
   "metadata": {
    "editable": true
   },
   "source": [
    "## Vanishing gradients\n",
    "\n",
    "Different architectures often aim at improving\n",
    "some sub-optimal characteristics of the network. The simplest form of\n",
    "recurrent network, commonly called simple or vanilla RNN, for example,\n",
    "is known to suffer from the problem of vanishing gradients. This\n",
    "problem arises due to the nature of backpropagation in time. Gradients\n",
    "of the cost/loss function may get exponentially small (or large) if\n",
    "there are many layers in the network, which is the case of RNN when\n",
    "the sequence gets long."
   ]
  },
  {
   "cell_type": "markdown",
   "id": "ec2b455b",
   "metadata": {
    "editable": true
   },
   "source": [
    "## Recurrent neural networks (RNNs): Overarching view\n",
    "\n",
    "Till now our focus has been, including convolutional neural networks\n",
    "as well, on feedforward neural networks. The output or the activations\n",
    "flow only in one direction, from the input layer to the output layer.\n",
    "\n",
    "A recurrent neural network (RNN) looks very much like a feedforward\n",
    "neural network, except that it also has connections pointing\n",
    "backward. \n",
    "\n",
    "RNNs are used to analyze time series data such as stock prices, and\n",
    "tell you when to buy or sell. In autonomous driving systems, they can\n",
    "anticipate car trajectories and help avoid accidents. More generally,\n",
    "they can work on sequences of arbitrary lengths, rather than on\n",
    "fixed-sized inputs like all the nets we have discussed so far. For\n",
    "example, they can take sentences, documents, or audio samples as\n",
    "input, making them extremely useful for natural language processing\n",
    "systems such as automatic translation and speech-to-text."
   ]
  },
  {
   "cell_type": "markdown",
   "id": "099d22a3",
   "metadata": {
    "editable": true
   },
   "source": [
    "## Sequential data only?\n",
    "\n",
    "An important issue is that in many deep learning methods we assume\n",
    "that the input and output data can be treated as independent and\n",
    "identically distributed, normally abbreviated to **iid**.\n",
    "This means that the data we use can be seen as mutually independent.\n",
    "\n",
    "This is however not the case for most data sets used in RNNs since we\n",
    "are dealing with sequences of data with strong inter-dependencies.\n",
    "This applies in particular to time series, which are sequential by\n",
    "contruction."
   ]
  },
  {
   "cell_type": "markdown",
   "id": "73f4b404",
   "metadata": {
    "editable": true
   },
   "source": [
    "## Differential equations\n",
    "\n",
    "As an example, the solutions of ordinary differential equations can be\n",
    "represented as a time series, similarly, how stock prices evolve as\n",
    "function of time is another example of a typical time series, or voice\n",
    "records and many other examples.\n",
    "\n",
    "Not all sequential data may however have a time stamp, texts being a\n",
    "typical example thereof, or DNA sequences.\n",
    "\n",
    "The main focus here is on data that can be structured either as time\n",
    "series or as ordered series of data.  We will not focus on for example\n",
    "natural language processing or similar data sets."
   ]
  },
  {
   "cell_type": "markdown",
   "id": "48ecdd32",
   "metadata": {
    "editable": true
   },
   "source": [
    "## A simple regression example using TensorFlow with Keras"
   ]
  },
  {
   "cell_type": "code",
   "execution_count": 38,
   "id": "76836d30",
   "metadata": {
    "collapsed": false,
    "editable": true,
    "jupyter": {
     "outputs_hidden": false
    }
   },
   "outputs": [],
   "source": [
    "# Start importing packages\n",
    "import pandas as pd\n",
    "import numpy as np\n",
    "import matplotlib.pyplot as plt\n",
    "import tensorflow as tf\n",
    "from tensorflow.keras import datasets, layers, models\n",
    "from tensorflow.keras.layers import Input\n",
    "from tensorflow.keras.models import Model, Sequential \n",
    "from tensorflow.keras.layers import Dense, SimpleRNN, LSTM, GRU\n",
    "from tensorflow.keras import optimizers     \n",
    "from tensorflow.keras import regularizers           \n",
    "from tensorflow.keras.utils import to_categorical \n",
    "\n",
    "# convert into dataset matrix\n",
    "def convertToMatrix(data, step):\n",
    " X, Y =[], []\n",
    " for i in range(len(data)-step):\n",
    "  d=i+step  \n",
    "  X.append(data[i:d,])\n",
    "  Y.append(data[d,])\n",
    " return np.array(X), np.array(Y)\n",
    "\n",
    "step = 4\n",
    "N = 1000    \n",
    "Tp = 800    \n",
    "\n",
    "t=np.arange(0,N)\n",
    "x=np.sin(0.02*t)+2*np.random.rand(N)\n",
    "df = pd.DataFrame(x)\n",
    "df.head()\n",
    "# Setting up training data\n",
    "values=df.values\n",
    "train,test = values[0:Tp,:], values[Tp:N,:]\n",
    "# add step elements into train and test\n",
    "test = np.append(test,np.repeat(test[-1,],step))\n",
    "train = np.append(train,np.repeat(train[-1,],step))\n",
    "trainX,trainY =convertToMatrix(train,step)\n",
    "testX,testY =convertToMatrix(test,step)\n",
    "trainX = np.reshape(trainX, (trainX.shape[0], 1, trainX.shape[1]))\n",
    "testX = np.reshape(testX, (testX.shape[0], 1, testX.shape[1]))\n",
    "# Defining the model with a simple RNN\n",
    "model = Sequential()\n",
    "model.add(SimpleRNN(units=32, input_shape=(1,step), activation=\"relu\"))\n",
    "model.add(Dense(8, activation=\"relu\")) \n",
    "model.add(Dense(1))\n",
    "model.compile(loss='mean_squared_error', optimizer='rmsprop')\n",
    "model.summary()\n",
    "# Training\n",
    "model.fit(trainX,trainY, epochs=100, batch_size=16, verbose=2)\n",
    "trainPredict = model.predict(trainX)\n",
    "testPredict= model.predict(testX)\n",
    "predicted=np.concatenate((trainPredict,testPredict),axis=0)\n",
    "trainScore = model.evaluate(trainX, trainY, verbose=0)\n",
    "print(trainScore)\n",
    "plt.plot(df)\n",
    "plt.plot(predicted)\n",
    "plt.show()"
   ]
  },
  {
   "cell_type": "markdown",
   "id": "09898dd5",
   "metadata": {
    "editable": true
   },
   "source": [
    "## Corresponding example using PyTorch\n",
    "\n",
    "The structure of the code here is as follows\n",
    "1. Generate a sine function  and splits it into training and validation sets\n",
    "\n",
    "2. Create a custom data set for sequence generation\n",
    "\n",
    "3. Define an RNN model with one RNN layer and a final plain linear layer\n",
    "\n",
    "4. Train the model using the mean-squared error as cost function and the Adam optimizer\n",
    "\n",
    "5. Generate predictions using recursive forecasting\n",
    "\n",
    "6. Plot the results and training/validation loss curves\n",
    "\n",
    "The model takes sequences of 20 previous values to predict the next\n",
    "value of the sine function. The recursive prediction uses the model's own\n",
    "predictions to generate future values, showing how well it maintains\n",
    "the sine wave pattern over time.\n",
    "\n",
    "The final plots show the the predicted values vs. the actual sine wave for the validation period\n",
    "and the training and validation cost function curves to monitor for overfitting."
   ]
  },
  {
   "cell_type": "code",
   "execution_count": 39,
   "id": "4ae7f77d",
   "metadata": {
    "collapsed": false,
    "editable": true,
    "jupyter": {
     "outputs_hidden": false
    }
   },
   "outputs": [],
   "source": [
    "import torch\n",
    "import torch.nn as nn\n",
    "import numpy as np\n",
    "import matplotlib.pyplot as plt\n",
    "\n",
    "# Generate synthetic sine wave data\n",
    "t = torch.linspace(0, 4*np.pi, 1000)\n",
    "data = torch.sin(t)\n",
    "\n",
    "# Split data into training and validation\n",
    "train_data = data[:800]\n",
    "val_data = data[800:]\n",
    "\n",
    "# Hyperparameters\n",
    "seq_len = 20\n",
    "batch_size = 32\n",
    "hidden_size = 64\n",
    "num_epochs = 100\n",
    "learning_rate = 0.001\n",
    "\n",
    "# Create dataset and dataloaders\n",
    "class SineDataset(torch.utils.data.Dataset):\n",
    "   def __init__(self, data, seq_len):\n",
    "       self.data = data\n",
    "       self.seq_len = seq_len\n",
    "\n",
    "   def __len__(self):\n",
    "       return len(self.data) - self.seq_len\n",
    "\n",
    "   def __getitem__(self, idx):\n",
    "       x = self.data[idx:idx+self.seq_len]\n",
    "       y = self.data[idx+self.seq_len]\n",
    "       return x.unsqueeze(-1), y  # Add feature dimension\n",
    "\n",
    "train_dataset = SineDataset(train_data, seq_len)\n",
    "val_dataset = SineDataset(val_data, seq_len)\n",
    "\n",
    "train_loader = torch.utils.data.DataLoader(train_dataset, batch_size=batch_size, shuffle=True)\n",
    "val_loader = torch.utils.data.DataLoader(val_dataset, batch_size=batch_size, shuffle=False)\n",
    "\n",
    "# Define RNN model\n",
    "class RNNModel(nn.Module):\n",
    "   def __init__(self, input_size, hidden_size, output_size):\n",
    "       super(RNNModel, self).__init__()\n",
    "       self.rnn = nn.RNN(input_size, hidden_size, batch_first=True)\n",
    "       self.fc = nn.Linear(hidden_size, output_size)\n",
    "\n",
    "   def forward(self, x):\n",
    "       out, _ = self.rnn(x)  # out: (batch_size, seq_len, hidden_size)\n",
    "       out = out[:, -1, :]   # Take last time step output\n",
    "       out = self.fc(out)\n",
    "       return out\n",
    "\n",
    "model = RNNModel(input_size=1, hidden_size=hidden_size, output_size=1)\n",
    "criterion = nn.MSELoss()\n",
    "optimizer = torch.optim.Adam(model.parameters(), lr=learning_rate)\n",
    "\n",
    "# Training loop\n",
    "train_losses = []\n",
    "val_losses = []\n",
    "\n",
    "for epoch in range(num_epochs):\n",
    "   model.train()\n",
    "   epoch_train_loss = 0\n",
    "   for x_batch, y_batch in train_loader:\n",
    "       optimizer.zero_grad()\n",
    "       y_pred = model(x_batch)\n",
    "       loss = criterion(y_pred, y_batch.unsqueeze(-1))\n",
    "       loss.backward()\n",
    "       optimizer.step()\n",
    "       epoch_train_loss += loss.item()\n",
    "\n",
    "   # Validation\n",
    "   model.eval()\n",
    "   epoch_val_loss = 0\n",
    "   with torch.no_grad():\n",
    "       for x_val, y_val in val_loader:\n",
    "           y_pred_val = model(x_val)\n",
    "           val_loss = criterion(y_pred_val, y_val.unsqueeze(-1))\n",
    "           epoch_val_loss += val_loss.item()\n",
    "\n",
    "   # Calculate average losses\n",
    "   train_loss = epoch_train_loss / len(train_loader)\n",
    "   val_loss = epoch_val_loss / len(val_loader)\n",
    "   train_losses.append(train_loss)\n",
    "   val_losses.append(val_loss)\n",
    "\n",
    "   print(f'Epoch {epoch+1}/{num_epochs}, Train Loss: {train_loss:.4f}, Val Loss: {val_loss:.4f}')\n",
    "\n",
    "# Generate predictions\n",
    "model.eval()\n",
    "initial_sequence = train_data[-seq_len:].reshape(1, seq_len, 1)\n",
    "predictions = []\n",
    "current_sequence = initial_sequence.clone()\n",
    "\n",
    "with torch.no_grad():\n",
    "   for _ in range(len(val_data)):\n",
    "       pred = model(current_sequence)\n",
    "       predictions.append(pred.item())\n",
    "       # Update sequence by removing first element and adding new prediction\n",
    "       current_sequence = torch.cat([current_sequence[:, 1:, :], pred.unsqueeze(1)], dim=1)\n",
    "\n",
    "# Plot results\n",
    "plt.figure(figsize=(12, 6))\n",
    "plt.plot(t[800:].numpy(), val_data.numpy(), label='True values')\n",
    "plt.plot(t[800:].numpy(), predictions, label='Predictions')\n",
    "plt.title('Sine Wave Prediction')\n",
    "plt.xlabel('Time')\n",
    "plt.ylabel('Value')\n",
    "plt.legend()\n",
    "plt.show()\n",
    "\n",
    "# Plot training and validation loss\n",
    "plt.figure(figsize=(10, 5))\n",
    "plt.plot(train_losses, label='Training Loss')\n",
    "plt.plot(val_losses, label='Validation Loss')\n",
    "plt.title('Training and Validation Loss')\n",
    "plt.xlabel('Epoch')\n",
    "plt.ylabel('Loss')\n",
    "plt.legend()\n",
    "plt.show()"
   ]
  },
  {
   "cell_type": "markdown",
   "id": "250c3ed7",
   "metadata": {
    "editable": true
   },
   "source": [
    "## RNNs\n",
    "\n",
    "RNNs are very powerful, because they\n",
    "combine two properties:\n",
    "1. Distributed hidden state that allows them to store a lot of information about the past efficiently.\n",
    "\n",
    "2. Non-linear dynamics that allows them to update their hidden state in complicated ways.\n",
    "\n",
    "With enough neurons and time, RNNs\n",
    "can compute anything that can be\n",
    "computed by your computer."
   ]
  },
  {
   "cell_type": "markdown",
   "id": "2e5c4a3d",
   "metadata": {
    "editable": true
   },
   "source": [
    "## What kinds of behaviour can RNNs exhibit?\n",
    "\n",
    "1. They can oscillate. \n",
    "\n",
    "2. They can settle to point attractors.\n",
    "\n",
    "3. They can behave chaotically.\n",
    "\n",
    "4. RNNs could potentially learn to implement lots of small programs that each capture a nugget of knowledge and run in parallel, interacting to produce very complicated effects.\n",
    "\n",
    "But the extensive computational needs  of RNNs makes them very hard to train."
   ]
  },
  {
   "cell_type": "markdown",
   "id": "5987534f",
   "metadata": {
    "editable": true
   },
   "source": [
    "## Basic layout,  [Figures from Sebastian Rashcka et al, Machine learning with Sickit-Learn and PyTorch](https://sebastianraschka.com/blog/2022/ml-pytorch-book.html)\n",
    "\n",
    "<!-- dom:FIGURE: [figslides/RNN1.png, width=700 frac=0.9] -->\n",
    "<!-- begin figure -->\n",
    "\n",
    "<img src=\"figslides/RNN1.png\" width=\"700\"><p style=\"font-size: 0.9em\"><i>Figure 1: </i></p>\n",
    "<!-- end figure -->"
   ]
  },
  {
   "cell_type": "markdown",
   "id": "14de7eca",
   "metadata": {
    "editable": true
   },
   "source": [
    "## Solving differential equations with RNNs\n",
    "\n",
    "To gain some intuition on how we can use RNNs for time series, let us\n",
    "tailor the representation of the solution of a differential equation\n",
    "as a time series.\n",
    "\n",
    "Consider the famous differential equation (Newton's equation of motion for damped harmonic oscillations, scaled in terms of dimensionless time)"
   ]
  },
  {
   "cell_type": "markdown",
   "id": "2599c3a3",
   "metadata": {
    "editable": true
   },
   "source": [
    "$$\n",
    "\\frac{d^2x}{dt^2}+\\eta\\frac{dx}{dt}+x(t)=F(t),\n",
    "$$"
   ]
  },
  {
   "cell_type": "markdown",
   "id": "62f349c7",
   "metadata": {
    "editable": true
   },
   "source": [
    "where $\\eta$ is a constant used in scaling time into a dimensionless variable and $F(t)$ is an external force acting on the system.\n",
    "The constant $\\eta$ is a so-called damping."
   ]
  },
  {
   "cell_type": "markdown",
   "id": "e878cf30",
   "metadata": {
    "editable": true
   },
   "source": [
    "## Two first-order differential equations\n",
    "\n",
    "In solving the above second-order equation, it is common to rewrite it in terms of two coupled first-order equations\n",
    "with the velocity"
   ]
  },
  {
   "cell_type": "markdown",
   "id": "d29074c7",
   "metadata": {
    "editable": true
   },
   "source": [
    "$$\n",
    "v(t)=\\frac{dx}{dt},\n",
    "$$"
   ]
  },
  {
   "cell_type": "markdown",
   "id": "ffb15535",
   "metadata": {
    "editable": true
   },
   "source": [
    "and the acceleration"
   ]
  },
  {
   "cell_type": "markdown",
   "id": "1c8a820c",
   "metadata": {
    "editable": true
   },
   "source": [
    "$$\n",
    "\\frac{dv}{dt}=F(t)-\\eta v(t)-x(t).\n",
    "$$"
   ]
  },
  {
   "cell_type": "markdown",
   "id": "80052c5b",
   "metadata": {
    "editable": true
   },
   "source": [
    "With the initial conditions $v_0=v(t_0)$ and $x_0=x(t_0)$ defined, we can integrate these equations and find their respective solutions."
   ]
  },
  {
   "cell_type": "markdown",
   "id": "da53e89a",
   "metadata": {
    "editable": true
   },
   "source": [
    "## Velocity only\n",
    "\n",
    "Let us focus on the velocity only. Discretizing and using the simplest\n",
    "possible approximation for the derivative, we have Euler's forward\n",
    "method for the updated velocity at a time step $i+1$ given by"
   ]
  },
  {
   "cell_type": "markdown",
   "id": "f76fc134",
   "metadata": {
    "editable": true
   },
   "source": [
    "$$\n",
    "v_{i+1}=v_i+\\Delta t \\frac{dv}{dt}_{\\vert_{v=v_i}}=v_i+\\Delta t\\left(F_i-\\eta v_i-x_i\\right).\n",
    "$$"
   ]
  },
  {
   "cell_type": "markdown",
   "id": "bfcbcd94",
   "metadata": {
    "editable": true
   },
   "source": [
    "Defining a function"
   ]
  },
  {
   "cell_type": "markdown",
   "id": "480e28c9",
   "metadata": {
    "editable": true
   },
   "source": [
    "$$\n",
    "h_i(x_i,v_i,F_i)=v_i+\\Delta t\\left(F_i-\\eta v_i-x_i\\right),\n",
    "$$"
   ]
  },
  {
   "cell_type": "markdown",
   "id": "60bc80de",
   "metadata": {
    "editable": true
   },
   "source": [
    "we have"
   ]
  },
  {
   "cell_type": "markdown",
   "id": "78164f98",
   "metadata": {
    "editable": true
   },
   "source": [
    "$$\n",
    "v_{i+1}=h_i(x_i,v_i,F_i).\n",
    "$$"
   ]
  },
  {
   "cell_type": "markdown",
   "id": "4c38f167",
   "metadata": {
    "editable": true
   },
   "source": [
    "## Linking with RNNs\n",
    "\n",
    "The equation"
   ]
  },
  {
   "cell_type": "markdown",
   "id": "4d52dbfa",
   "metadata": {
    "editable": true
   },
   "source": [
    "$$\n",
    "v_{i+1}=h_i(x_i,v_i,F_i).\n",
    "$$"
   ]
  },
  {
   "cell_type": "markdown",
   "id": "8560e8fc",
   "metadata": {
    "editable": true
   },
   "source": [
    "can be used to train a feed-forward neural network with inputs $v_i$ and outputs $v_{i+1}$ at a time $t_i$. But we can think of this also as a recurrent neural network\n",
    "with inputs $v_i$, $x_i$ and $F_i$ at each time step $t_i$, and producing an output $v_{i+1}$.\n",
    "\n",
    "Noting that"
   ]
  },
  {
   "cell_type": "markdown",
   "id": "c804b4ac",
   "metadata": {
    "editable": true
   },
   "source": [
    "$$\n",
    "v_{i}=v_{i-1}+\\Delta t\\left(F_{i-1}-\\eta v_{i-1}-x_{i-1}\\right)=h_{i-1}.\n",
    "$$"
   ]
  },
  {
   "cell_type": "markdown",
   "id": "d4793db0",
   "metadata": {
    "editable": true
   },
   "source": [
    "we have"
   ]
  },
  {
   "cell_type": "markdown",
   "id": "b3390bec",
   "metadata": {
    "editable": true
   },
   "source": [
    "$$\n",
    "v_{i}=h_{i-1}(x_{i-1},v_{i-1},F_{i-1}),\n",
    "$$"
   ]
  },
  {
   "cell_type": "markdown",
   "id": "d91e62b0",
   "metadata": {
    "editable": true
   },
   "source": [
    "and we can rewrite"
   ]
  },
  {
   "cell_type": "markdown",
   "id": "e6a44363",
   "metadata": {
    "editable": true
   },
   "source": [
    "$$\n",
    "v_{i+1}=h_i(x_i,h_{i-1},F_i).\n",
    "$$"
   ]
  },
  {
   "cell_type": "markdown",
   "id": "c479143e",
   "metadata": {
    "editable": true
   },
   "source": [
    "## Minor rewrite\n",
    "\n",
    "We can thus set up a recurring series which depends on the inputs $x_i$ and $F_i$ and the previous values $h_{i-1}$.\n",
    "We assume now that the inputs at each step (or time $t_i$) is given by $x_i$ only and we denote the outputs for $\\tilde{y}_i$ instead of $v_{i_1}$, we have then the compact equation for our outputs at each step $t_i$"
   ]
  },
  {
   "cell_type": "markdown",
   "id": "485a5470",
   "metadata": {
    "editable": true
   },
   "source": [
    "$$\n",
    "y_{i}=h_i(x_i,h_{i-1}).\n",
    "$$"
   ]
  },
  {
   "cell_type": "markdown",
   "id": "f04300b9",
   "metadata": {
    "editable": true
   },
   "source": [
    "We can think of this as an element in a recurrent network where our\n",
    "network (our model) produces an output $y_i$ which is then compared\n",
    "with a target value through a given cost/loss function that we\n",
    "optimize. The target values at a given step $t_i$ could be the results\n",
    "of a measurement or simply the analytical results of a differential\n",
    "equation."
   ]
  },
  {
   "cell_type": "markdown",
   "id": "94405de2",
   "metadata": {
    "editable": true
   },
   "source": [
    "## RNNs in more detail\n",
    "\n",
    "<!-- dom:FIGURE: [figslides/RNN2.png, width=700 frac=0.9] -->\n",
    "<!-- begin figure -->\n",
    "\n",
    "<img src=\"figslides/RNN2.png\" width=\"700\"><p style=\"font-size: 0.9em\"><i>Figure 1: </i></p>\n",
    "<!-- end figure -->"
   ]
  },
  {
   "cell_type": "markdown",
   "id": "e4754efe",
   "metadata": {
    "editable": true
   },
   "source": [
    "## RNNs in more detail, part 2\n",
    "\n",
    "<!-- dom:FIGURE: [figslides/RNN3.png, width=700 frac=0.9] -->\n",
    "<!-- begin figure -->\n",
    "\n",
    "<img src=\"figslides/RNN3.png\" width=\"700\"><p style=\"font-size: 0.9em\"><i>Figure 1: </i></p>\n",
    "<!-- end figure -->"
   ]
  },
  {
   "cell_type": "markdown",
   "id": "ab440c11",
   "metadata": {
    "editable": true
   },
   "source": [
    "## RNNs in more detail, part 3\n",
    "\n",
    "<!-- dom:FIGURE: [figslides/RNN4.png, width=700 frac=0.9] -->\n",
    "<!-- begin figure -->\n",
    "\n",
    "<img src=\"figslides/RNN4.png\" width=\"700\"><p style=\"font-size: 0.9em\"><i>Figure 1: </i></p>\n",
    "<!-- end figure -->"
   ]
  },
  {
   "cell_type": "markdown",
   "id": "1f0da4f0",
   "metadata": {
    "editable": true
   },
   "source": [
    "## RNNs in more detail, part 4\n",
    "\n",
    "<!-- dom:FIGURE: [figslides/RNN5.png, width=700 frac=0.9] -->\n",
    "<!-- begin figure -->\n",
    "\n",
    "<img src=\"figslides/RNN5.png\" width=\"700\"><p style=\"font-size: 0.9em\"><i>Figure 1: </i></p>\n",
    "<!-- end figure -->"
   ]
  },
  {
   "cell_type": "markdown",
   "id": "b12e02da",
   "metadata": {
    "editable": true
   },
   "source": [
    "## RNNs in more detail, part 5\n",
    "\n",
    "<!-- dom:FIGURE: [figslides/RNN6.png, width=700 frac=0.9] -->\n",
    "<!-- begin figure -->\n",
    "\n",
    "<img src=\"figslides/RNN6.png\" width=\"700\"><p style=\"font-size: 0.9em\"><i>Figure 1: </i></p>\n",
    "<!-- end figure -->"
   ]
  },
  {
   "cell_type": "markdown",
   "id": "862cac88",
   "metadata": {
    "editable": true
   },
   "source": [
    "## RNNs in more detail, part 6\n",
    "\n",
    "<!-- dom:FIGURE: [figslides/RNN7.png, width=700 frac=0.9] -->\n",
    "<!-- begin figure -->\n",
    "\n",
    "<img src=\"figslides/RNN7.png\" width=\"700\"><p style=\"font-size: 0.9em\"><i>Figure 1: </i></p>\n",
    "<!-- end figure -->"
   ]
  },
  {
   "cell_type": "markdown",
   "id": "f778e34f",
   "metadata": {
    "editable": true
   },
   "source": [
    "## RNNs in more detail, part 7\n",
    "\n",
    "<!-- dom:FIGURE: [figslides/RNN8.png, width=700 frac=0.9] -->\n",
    "<!-- begin figure -->\n",
    "\n",
    "<img src=\"figslides/RNN8.png\" width=\"700\"><p style=\"font-size: 0.9em\"><i>Figure 1: </i></p>\n",
    "<!-- end figure -->"
   ]
  },
  {
   "cell_type": "markdown",
   "id": "280528f9",
   "metadata": {
    "editable": true
   },
   "source": [
    "## Backpropagation through time\n",
    "\n",
    "We can think of the recurrent net as a layered, feed-forward\n",
    "net with shared weights and then train the feed-forward net\n",
    "with weight constraints.\n",
    "\n",
    "We can also think of this training algorithm in the time domain:\n",
    "1. The forward pass builds up a stack of the activities of all the units at each time step.\n",
    "\n",
    "2. The backward pass peels activities off the stack to compute the error derivatives at each time step.\n",
    "\n",
    "3. After the backward pass we add together the derivatives at all the different times for each weight."
   ]
  },
  {
   "cell_type": "markdown",
   "id": "25771ba5",
   "metadata": {
    "editable": true
   },
   "source": [
    "## The backward pass is linear\n",
    "\n",
    "1. There is a big difference between the forward and backward passes.\n",
    "\n",
    "2. In the forward pass we use squashing functions (like the logistic) to prevent the activity vectors from exploding.\n",
    "\n",
    "3. The backward pass, is completely linear. If you double the error derivatives at the final layer, all the error derivatives will double.\n",
    "\n",
    "The forward pass determines the slope of the linear function used for\n",
    "backpropagating through each neuron"
   ]
  },
  {
   "cell_type": "markdown",
   "id": "6a038794",
   "metadata": {
    "editable": true
   },
   "source": [
    "## The problem of exploding or vanishing gradients\n",
    "* What happens to the magnitude of the gradients as we backpropagate through many layers?\n",
    "\n",
    "a. If the weights are small, the gradients shrink exponentially.\n",
    "\n",
    "b. If the weights are big the gradients grow exponentially.\n",
    "\n",
    "* Typical feed-forward neural nets can cope with these exponential effects because they only have a few hidden layers.\n",
    "\n",
    "* In an RNN trained on long sequences (e.g. 100 time steps) the gradients can easily explode or vanish.\n",
    "\n",
    "a. We can avoid this by initializing the weights very carefully.\n",
    "\n",
    "* Even with good initial weights, its very hard to detect that the current target output depends on an input from many time-steps ago.\n",
    "\n",
    "RNNs have difficulty dealing with long-range dependencies."
   ]
  },
  {
   "cell_type": "markdown",
   "id": "c181eb3a",
   "metadata": {
    "editable": true
   },
   "source": [
    "## Mathematical setup\n",
    "\n",
    "The expression for the simplest Recurrent network resembles that of a\n",
    "regular feed-forward neural network, but now with\n",
    "the concept of temporal dependencies"
   ]
  },
  {
   "cell_type": "markdown",
   "id": "1fb41ff9",
   "metadata": {
    "editable": true
   },
   "source": [
    "$$\n",
    "\\begin{align*}\n",
    "    \\mathbf{a}^{(t)} & = U * \\mathbf{x}^{(t)} + W * \\mathbf{h}^{(t-1)} + \\mathbf{b}, \\notag \\\\\n",
    "    \\mathbf{h}^{(t)} &= \\sigma_h(\\mathbf{a}^{(t)}), \\notag\\\\\n",
    "    \\mathbf{y}^{(t)} &= V * \\mathbf{h}^{(t)} + \\mathbf{c}, \\notag\\\\\n",
    "    \\mathbf{\\hat{y}}^{(t)} &= \\sigma_y(\\mathbf{y}^{(t)}).\n",
    "\\end{align*}\n",
    "$$"
   ]
  },
  {
   "cell_type": "markdown",
   "id": "ca436491",
   "metadata": {
    "editable": true
   },
   "source": [
    "## Back propagation in time through figures, part 1\n",
    "\n",
    "<!-- dom:FIGURE: [figslides/RNN9.png, width=700 frac=0.9] -->\n",
    "<!-- begin figure -->\n",
    "\n",
    "<img src=\"figslides/RNN9.png\" width=\"700\"><p style=\"font-size: 0.9em\"><i>Figure 1: </i></p>\n",
    "<!-- end figure -->"
   ]
  },
  {
   "cell_type": "markdown",
   "id": "449094c7",
   "metadata": {
    "editable": true
   },
   "source": [
    "## Back propagation in time, part 2\n",
    "\n",
    "<!-- dom:FIGURE: [figslides/RNN10.png, width=700 frac=0.9] -->\n",
    "<!-- begin figure -->\n",
    "\n",
    "<img src=\"figslides/RNN10.png\" width=\"700\"><p style=\"font-size: 0.9em\"><i>Figure 1: </i></p>\n",
    "<!-- end figure -->"
   ]
  },
  {
   "cell_type": "markdown",
   "id": "bbe604a0",
   "metadata": {
    "editable": true
   },
   "source": [
    "## Back propagation in time, part 3\n",
    "\n",
    "<!-- dom:FIGURE: [figslides/RNN11.png, width=700 frac=0.9] -->\n",
    "<!-- begin figure -->\n",
    "\n",
    "<img src=\"figslides/RNN11.png\" width=\"700\"><p style=\"font-size: 0.9em\"><i>Figure 1: </i></p>\n",
    "<!-- end figure -->"
   ]
  },
  {
   "cell_type": "markdown",
   "id": "cac1e890",
   "metadata": {
    "editable": true
   },
   "source": [
    "## Back propagation in time, part 4\n",
    "\n",
    "<!-- dom:FIGURE: [figslides/RNN12.png, width=700 frac=0.9] -->\n",
    "<!-- begin figure -->\n",
    "\n",
    "<img src=\"figslides/RNN12.png\" width=\"700\"><p style=\"font-size: 0.9em\"><i>Figure 1: </i></p>\n",
    "<!-- end figure -->"
   ]
  },
  {
   "cell_type": "markdown",
   "id": "7610c5a1",
   "metadata": {
    "editable": true
   },
   "source": [
    "## Back propagation in time in equations\n",
    "\n",
    "To derive the expression of the gradients of $\\mathcal{L}$ for\n",
    "the RNN, we need to start recursively from the nodes closer to the\n",
    "output layer in the temporal unrolling scheme - such as $\\mathbf{y}$\n",
    "and $\\mathbf{h}$ at final time $t = \\tau$,"
   ]
  },
  {
   "cell_type": "markdown",
   "id": "a5001783",
   "metadata": {
    "editable": true
   },
   "source": [
    "$$\n",
    "\\begin{align*}\n",
    "    (\\nabla_{ \\mathbf{y}^{(t)}} \\mathcal{L})_{i} &= \\frac{\\partial \\mathcal{L}}{\\partial L^{(t)}}\\frac{\\partial L^{(t)}}{\\partial y_{i}^{(t)}}, \\notag\\\\\n",
    "    \\nabla_{\\mathbf{h}^{(\\tau)}} \\mathcal{L} &= \\mathbf{V}^\\mathsf{T}\\nabla_{ \\mathbf{y}^{(\\tau)}} \\mathcal{L}.\n",
    "\\end{align*}\n",
    "$$"
   ]
  },
  {
   "cell_type": "markdown",
   "id": "7dfc12ce",
   "metadata": {
    "editable": true
   },
   "source": [
    "## Chain rule again\n",
    "For the following hidden nodes, we have to iterate through time, so by the chain rule,"
   ]
  },
  {
   "cell_type": "markdown",
   "id": "99436b04",
   "metadata": {
    "editable": true
   },
   "source": [
    "$$\n",
    "\\begin{align*}\n",
    "    \\nabla_{\\mathbf{h}^{(t)}} \\mathcal{L} &= \\left(\\frac{\\partial\\mathbf{h}^{(t+1)}}{\\partial\\mathbf{h}^{(t)}}\\right)^\\mathsf{T}\\nabla_{\\mathbf{h}^{(t+1)}}\\mathcal{L} + \\left(\\frac{\\partial\\mathbf{y}^{(t)}}{\\partial\\mathbf{h}^{(t)}}\\right)^\\mathsf{T}\\nabla_{ \\mathbf{y}^{(t)}} \\mathcal{L}.\n",
    "\\end{align*}\n",
    "$$"
   ]
  },
  {
   "cell_type": "markdown",
   "id": "506c7fb4",
   "metadata": {
    "editable": true
   },
   "source": [
    "## Gradients of loss functions\n",
    "Similarly, the gradients of $\\mathcal{L}$ with respect to the weights and biases follow,"
   ]
  },
  {
   "cell_type": "markdown",
   "id": "65d97a6c",
   "metadata": {
    "editable": true
   },
   "source": [
    "<!-- Equation labels as ordinary links -->\n",
    "<div id=\"eq:rnn_gradients3\"></div>\n",
    "\n",
    "$$\n",
    "\\begin{align*}\n",
    "    \\nabla_{\\mathbf{c}} \\mathcal{L} &=\\sum_{t}\\left(\\frac{\\partial \\mathbf{y}^{(t)}}{\\partial \\mathbf{c}}\\right)^\\mathsf{T} \\nabla_{\\mathbf{y}^{(t)}} \\mathcal{L} \\notag\\\\\n",
    "    \\nabla_{\\mathbf{b}} \\mathcal{L} &=\\sum_{t}\\left(\\frac{\\partial \\mathbf{h}^{(t)}}{\\partial \\mathbf{b}}\\right)^\\mathsf{T}        \\nabla_{\\mathbf{h}^{(t)}} \\mathcal{L} \\notag\\\\\n",
    "    \\nabla_{\\mathbf{V}} \\mathcal{L} &=\\sum_{t}\\sum_{i}\\left(\\frac{\\partial \\mathcal{L}}{\\partial y_i^{(t)} }\\right)\\nabla_{\\mathbf{V}^{(t)}}y_i^{(t)} \\notag\\\\\n",
    "    \\nabla_{\\mathbf{W}} \\mathcal{L} &=\\sum_{t}\\sum_{i}\\left(\\frac{\\partial \\mathcal{L}}{\\partial h_i^{(t)}}\\right)\\nabla_{\\mathbf{w}^{(t)}} h_i^{(t)} \\notag\\\\\n",
    "    \\nabla_{\\mathbf{U}} \\mathcal{L} &=\\sum_{t}\\sum_{i}\\left(\\frac{\\partial \\mathcal{L}}{\\partial h_i^{(t)}}\\right)\\nabla_{\\mathbf{U}^{(t)}}h_i^{(t)}.\n",
    "    \\label{eq:rnn_gradients3} \\tag{1}\n",
    "\\end{align*}\n",
    "$$"
   ]
  },
  {
   "cell_type": "markdown",
   "id": "65107e95",
   "metadata": {
    "editable": true
   },
   "source": [
    "## Summary of RNNs\n",
    "\n",
    "Recurrent neural networks (RNNs) have in general no probabilistic component\n",
    "in a model. With a given fixed input and target from data, the RNNs learn the intermediate\n",
    "association between various layers.\n",
    "The inputs, outputs, and internal representation (hidden states) are all\n",
    "real-valued vectors.\n",
    "\n",
    "In a  traditional NN, it is assumed that every input is\n",
    "independent of each other.  But with sequential data, the input at a given stage $t$ depends on the input from the previous stage $t-1$"
   ]
  },
  {
   "cell_type": "markdown",
   "id": "660e9485",
   "metadata": {
    "editable": true
   },
   "source": [
    "## Summary of a  typical RNN\n",
    "\n",
    "1. Weight matrices $U$, $W$ and $V$ that connect the input layer at a stage $t$ with the hidden layer $h_t$, the previous hidden layer $h_{t-1}$ with $h_t$ and the hidden layer $h_t$ connecting with the output layer at the same stage and producing an output $\\tilde{y}_t$, respectively.\n",
    "\n",
    "2. The output from the hidden layer $h_t$ is oftem modulated by a $\\tanh{}$ function $h_t=\\sigma_h(x_t,h_{t-1})=\\tanh{(Ux_t+Wh_{t-1}+b)}$ with $b$ a bias value\n",
    "\n",
    "3. The output from the hidden layer produces $\\tilde{y}_t=\\sigma_y(Vh_t+c)$ where $c$ is a new bias parameter.\n",
    "\n",
    "4. The output from the training at a given stage is in turn compared with the observation $y_t$ thorugh a chosen cost function.\n",
    "\n",
    "The function $g$ can any of the standard activation functions, that is a Sigmoid, a Softmax, a ReLU and other.\n",
    "The parameters are trained through the so-called back-propagation through time (BPTT) algorithm."
   ]
  },
  {
   "cell_type": "markdown",
   "id": "c40f281e",
   "metadata": {
    "editable": true
   },
   "source": [
    "## Four effective ways to learn an RNN and preparing for next week\n",
    "1. Long Short Term Memory Make the RNN out of little modules that are designed to remember values for a long time.\n",
    "\n",
    "2. Hessian Free Optimization: Deal with the vanishing gradients problem by using a fancy optimizer that can detect directions with a tiny gradient but even smaller curvature.\n",
    "\n",
    "3. Echo State Networks (ESN): Initialize the input a hidden and hidden-hidden and output-hidden connections very carefully so that the hidden state has a huge reservoir of weakly coupled oscillators which can be selectively driven by the input. ESNs only need to learn the hidden-output connections.\n",
    "\n",
    "4. Good initialization with momentum Initialize like in Echo State Networks, but then learn all of the connections using momentum"
   ]
  }
 ],
 "metadata": {
  "kernelspec": {
   "display_name": "Python 3 (ipykernel)",
   "language": "python",
   "name": "python3"
  },
  "language_info": {
   "codemirror_mode": {
    "name": "ipython",
    "version": 3
   },
   "file_extension": ".py",
   "mimetype": "text/x-python",
   "name": "python",
   "nbconvert_exporter": "python",
   "pygments_lexer": "ipython3",
   "version": "3.9.15"
  }
 },
 "nbformat": 4,
 "nbformat_minor": 5
}
