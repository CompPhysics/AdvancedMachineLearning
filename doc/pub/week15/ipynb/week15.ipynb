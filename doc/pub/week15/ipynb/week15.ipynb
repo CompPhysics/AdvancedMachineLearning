{
 "cells": [
  {
   "cell_type": "markdown",
   "id": "96119368",
   "metadata": {},
   "source": [
    "<!-- HTML file automatically generated from DocOnce source (https://github.com/doconce/doconce/)\n",
    "doconce format html week15.do.txt --no_mako -->\n",
    "<!-- dom:TITLE: Advanced machine learning and data analysis for the physical sciences -->"
   ]
  },
  {
   "cell_type": "markdown",
   "id": "aebb93f3",
   "metadata": {},
   "source": [
    "# Advanced machine learning and data analysis for the physical sciences\n",
    "**Morten Hjorth-Jensen**, Department of Physics and Center for Computing in Science Education, University of Oslo, Norway and Department of Physics and Astronomy and Facility for Rare Isotope Beams, Michigan State University, East Lansing, Michigan, USA\n",
    "\n",
    "Date: **April 30, 2024**"
   ]
  },
  {
   "cell_type": "markdown",
   "id": "a2c42406",
   "metadata": {},
   "source": [
    "## Plans for the week of April 29- May 3, 2024\n",
    "\n",
    "**Deep generative models.**\n",
    "\n",
    "1. Summary of Variational Autoencoders\n",
    "\n",
    "2. Generative Adversarial Networks (GANs), see <https://lilianweng.github.io/posts/2017-08-20-gan/> for nice overview\n",
    "\n",
    "3. Start discussion of diffusion models, motivation mainly\n",
    "\n",
    "4. [Video of lecture](https://youtu.be/Cg8n9aWwHuU)\n",
    "\n",
    "5. [Whiteboard notes](https://github.com/CompPhysics/AdvancedMachineLearning/blob/main/doc/HandwrittenNotes/2024/NotesApril30.pdf)"
   ]
  },
  {
   "cell_type": "markdown",
   "id": "9d7fc66c",
   "metadata": {},
   "source": [
    "## Readings\n",
    "\n",
    "1. Reading recommendation: Goodfellow et al, for GANs see sections 20.10-20.11\n",
    "\n",
    "2. For codes and background, see Raschka et al, Machine Learning with PyTorch and Scikit-Learn, chapter 17, see <https://github.com/rasbt/python-machine-learning-book-3rd-edition/tree/master/ch17> for codes\n",
    "\n",
    "3. Babcock and Bali, Generative AI with Python and TensorFlow2, chapter 6 and codes at <https://github.com/raghavbali/generative_ai_with_tensorflow/blob/master/Chapter_6/conditional_gan.ipynb>"
   ]
  },
  {
   "cell_type": "markdown",
   "id": "6aa19173",
   "metadata": {},
   "source": [
    "## Summary of Variational Autoencoders (VAEs)\n",
    "\n",
    "In our short summary of VAes, we will also remind you about the\n",
    "mathematics of Boltzmann machines and the Kullback-Leibler divergence,\n",
    "leading to used ways to optimize the probability\n",
    "distributions, namely what is called \n",
    "* Contrastive optimization"
   ]
  },
  {
   "cell_type": "markdown",
   "id": "93d56625",
   "metadata": {},
   "source": [
    "## Boltzmann machines and energy-based models and contrastive optimization"
   ]
  },
  {
   "cell_type": "markdown",
   "id": "75dc4919",
   "metadata": {},
   "source": [
    "## Energy models\n",
    "\n",
    "For Boltzmann machines  we defined a domain $\\boldsymbol{X}$ of stochastic variables $\\boldsymbol{X}= \\{x_0,x_1, \\dots , x_{n-1}\\}$ with a pertinent probability distribution"
   ]
  },
  {
   "cell_type": "markdown",
   "id": "43a1314d",
   "metadata": {},
   "source": [
    "$$\n",
    "p(\\boldsymbol{X})=\\prod_{x_i\\in \\boldsymbol{X}}p(x_i),\n",
    "$$"
   ]
  },
  {
   "cell_type": "markdown",
   "id": "05d5ea9d",
   "metadata": {},
   "source": [
    "where we have assumed that the random varaibles $x_i$ are all independent and identically distributed (iid)."
   ]
  },
  {
   "cell_type": "markdown",
   "id": "994753d9",
   "metadata": {},
   "source": [
    "## Probability model\n",
    "\n",
    "We defined a probability"
   ]
  },
  {
   "cell_type": "markdown",
   "id": "c9e96bb1",
   "metadata": {},
   "source": [
    "$$\n",
    "p(x_i,h_j;\\boldsymbol{\\Theta}) = \\frac{f(x_i,h_j;\\boldsymbol{\\Theta})}{Z(\\boldsymbol{\\Theta})},\n",
    "$$"
   ]
  },
  {
   "cell_type": "markdown",
   "id": "8ef8573c",
   "metadata": {},
   "source": [
    "where $f(x_i,h_j;\\boldsymbol{\\Theta})$ is a function which we assume is larger or\n",
    "equal than zero and obeys all properties required for a probability\n",
    "distribution and $Z(\\boldsymbol{\\Theta})$ is a normalization constant. Inspired by\n",
    "statistical mechanics, we call it often for the partition function.\n",
    "It is defined as (assuming that we have discrete probability distributions)"
   ]
  },
  {
   "cell_type": "markdown",
   "id": "7e41b238",
   "metadata": {},
   "source": [
    "$$\n",
    "Z(\\boldsymbol{\\Theta})=\\sum_{x_i\\in \\boldsymbol{X}}\\sum_{h_j\\in \\boldsymbol{H}} f(x_i,h_j;\\boldsymbol{\\Theta}).\n",
    "$$"
   ]
  },
  {
   "cell_type": "markdown",
   "id": "8c689358",
   "metadata": {},
   "source": [
    "## Marginal and conditional probabilities\n",
    "\n",
    "We can in turn define the marginal probabilities"
   ]
  },
  {
   "cell_type": "markdown",
   "id": "8427211d",
   "metadata": {},
   "source": [
    "$$\n",
    "p(x_i;\\boldsymbol{\\Theta}) = \\frac{\\sum_{h_j\\in \\boldsymbol{H}}f(x_i,h_j;\\boldsymbol{\\Theta})}{Z(\\boldsymbol{\\Theta})},\n",
    "$$"
   ]
  },
  {
   "cell_type": "markdown",
   "id": "9b21c18f",
   "metadata": {},
   "source": [
    "and"
   ]
  },
  {
   "cell_type": "markdown",
   "id": "bab4eaaa",
   "metadata": {},
   "source": [
    "$$\n",
    "p(h_i;\\boldsymbol{\\Theta}) = \\frac{\\sum_{x_i\\in \\boldsymbol{X}}f(x_i,h_j;\\boldsymbol{\\Theta})}{Z(\\boldsymbol{\\Theta})}.\n",
    "$$"
   ]
  },
  {
   "cell_type": "markdown",
   "id": "7161a3f4",
   "metadata": {},
   "source": [
    "## Partition function\n",
    "\n",
    "**Note the change to a vector notation**. A variable like $\\boldsymbol{x}$\n",
    "represents now a specific **configuration**. We can generate an infinity\n",
    "of such configurations. The final partition function is then the sum\n",
    "over all such possible configurations, that is"
   ]
  },
  {
   "cell_type": "markdown",
   "id": "36f570cc",
   "metadata": {},
   "source": [
    "$$\n",
    "Z(\\boldsymbol{\\Theta})=\\sum_{x_i\\in \\boldsymbol{X}}\\sum_{h_j\\in \\boldsymbol{H}} f(x_i,h_j;\\boldsymbol{\\Theta}),\n",
    "$$"
   ]
  },
  {
   "cell_type": "markdown",
   "id": "6b76f01b",
   "metadata": {},
   "source": [
    "changes to"
   ]
  },
  {
   "cell_type": "markdown",
   "id": "0baa9cbd",
   "metadata": {},
   "source": [
    "$$\n",
    "Z(\\boldsymbol{\\Theta})=\\sum_{\\boldsymbol{x}}\\sum_{\\boldsymbol{h}} f(\\boldsymbol{x},\\boldsymbol{h};\\boldsymbol{\\Theta}).\n",
    "$$"
   ]
  },
  {
   "cell_type": "markdown",
   "id": "d1d09800",
   "metadata": {},
   "source": [
    "If we have a binary set of variable $x_i$ and $h_j$ and $M$ values of $x_i$ and $N$ values of $h_j$ we have in total $2^M$ and $2^N$ possible $\\boldsymbol{x}$ and $\\boldsymbol{h}$ configurations, respectively.\n",
    "\n",
    "We see that even for the modest binary case, we can easily approach a\n",
    "number of configuration which is not possible to deal with."
   ]
  },
  {
   "cell_type": "markdown",
   "id": "17879c8c",
   "metadata": {},
   "source": [
    "## Optimization problem\n",
    "\n",
    "At the end, we are not interested in the probabilities of the hidden variables. The probability we thus want to optimize is"
   ]
  },
  {
   "cell_type": "markdown",
   "id": "8018036e",
   "metadata": {},
   "source": [
    "$$\n",
    "p(\\boldsymbol{X};\\boldsymbol{\\Theta})=\\prod_{x_i\\in \\boldsymbol{X}}p(x_i;\\boldsymbol{\\Theta})=\\prod_{x_i\\in \\boldsymbol{X}}\\left(\\frac{\\sum_{h_j\\in \\boldsymbol{H}}f(x_i,h_j;\\boldsymbol{\\Theta})}{Z(\\boldsymbol{\\Theta})}\\right),\n",
    "$$"
   ]
  },
  {
   "cell_type": "markdown",
   "id": "225cbb25",
   "metadata": {},
   "source": [
    "which we rewrite as"
   ]
  },
  {
   "cell_type": "markdown",
   "id": "01ffb4f6",
   "metadata": {},
   "source": [
    "$$\n",
    "p(\\boldsymbol{X};\\boldsymbol{\\Theta})=\\frac{1}{Z(\\boldsymbol{\\Theta})}\\prod_{x_i\\in \\boldsymbol{X}}\\left(\\sum_{h_j\\in \\boldsymbol{H}}f(x_i,h_j;\\boldsymbol{\\Theta})\\right).\n",
    "$$"
   ]
  },
  {
   "cell_type": "markdown",
   "id": "b2957044",
   "metadata": {},
   "source": [
    "## Further simplifications\n",
    "\n",
    "We simplify further by rewriting it as"
   ]
  },
  {
   "cell_type": "markdown",
   "id": "7d063cda",
   "metadata": {},
   "source": [
    "$$\n",
    "p(\\boldsymbol{X};\\boldsymbol{\\Theta})=\\frac{1}{Z(\\boldsymbol{\\Theta})}\\prod_{x_i\\in \\boldsymbol{X}}f(x_i;\\boldsymbol{\\Theta}),\n",
    "$$"
   ]
  },
  {
   "cell_type": "markdown",
   "id": "740e92dc",
   "metadata": {},
   "source": [
    "where we used $p(x_i;\\boldsymbol{\\Theta}) = \\sum_{h_j\\in \\boldsymbol{H}}f(x_i,h_j;\\boldsymbol{\\Theta})$.\n",
    "The optimization problem is then"
   ]
  },
  {
   "cell_type": "markdown",
   "id": "a87dd00e",
   "metadata": {},
   "source": [
    "$$\n",
    "{\\displaystyle \\mathrm{arg} \\hspace{0.1cm}\\max_{\\boldsymbol{\\boldsymbol{\\Theta}}\\in {\\mathbb{R}}^{p}}} \\hspace{0.1cm}p(\\boldsymbol{X};\\boldsymbol{\\Theta}).\n",
    "$$"
   ]
  },
  {
   "cell_type": "markdown",
   "id": "1bcf069d",
   "metadata": {},
   "source": [
    "## Optimizing the logarithm instead\n",
    "\n",
    "Computing the derivatives with respect to the parameters $\\boldsymbol{\\Theta}$ is\n",
    "easier (and equivalent) with taking the logarithm of the\n",
    "probability. We will thus optimize"
   ]
  },
  {
   "cell_type": "markdown",
   "id": "06e640ea",
   "metadata": {},
   "source": [
    "$$\n",
    "{\\displaystyle \\mathrm{arg} \\hspace{0.1cm}\\max_{\\boldsymbol{\\boldsymbol{\\Theta}}\\in {\\mathbb{R}}^{p}}} \\hspace{0.1cm}\\log{p(\\boldsymbol{X};\\boldsymbol{\\Theta})},\n",
    "$$"
   ]
  },
  {
   "cell_type": "markdown",
   "id": "45247f94",
   "metadata": {},
   "source": [
    "which leads to"
   ]
  },
  {
   "cell_type": "markdown",
   "id": "cdad41db",
   "metadata": {},
   "source": [
    "$$\n",
    "\\nabla_{\\boldsymbol{\\Theta}}\\log{p(\\boldsymbol{X};\\boldsymbol{\\Theta})}=0.\n",
    "$$"
   ]
  },
  {
   "cell_type": "markdown",
   "id": "2e262685",
   "metadata": {},
   "source": [
    "## Expression for the gradients\n",
    "\n",
    "This leads to the following equation"
   ]
  },
  {
   "cell_type": "markdown",
   "id": "b86a804b",
   "metadata": {},
   "source": [
    "$$\n",
    "\\nabla_{\\boldsymbol{\\Theta}}\\log{p(\\boldsymbol{X};\\boldsymbol{\\Theta})}=\\nabla_{\\boldsymbol{\\Theta}}\\left(\\sum_{x_i\\in \\boldsymbol{X}}\\log{f(x_i;\\boldsymbol{\\Theta})}\\right)-\\nabla_{\\boldsymbol{\\Theta}}\\log{Z(\\boldsymbol{\\Theta})}=0.\n",
    "$$"
   ]
  },
  {
   "cell_type": "markdown",
   "id": "7d866878",
   "metadata": {},
   "source": [
    "The first term is called the positive phase and we assume that we have a model for the function $f$ from which we can sample values. Below we will develop an explicit model for this.\n",
    "The second term is called the negative phase and is the one which leads to more difficulties."
   ]
  },
  {
   "cell_type": "markdown",
   "id": "c3087620",
   "metadata": {},
   "source": [
    "## Contrastive optimization\n",
    "The evaluation of these two terms leads to what in the literature is called contrastive optimization.\n",
    "\n",
    "If we optimize the negative **log** of the PDF, the aboves phases simply change sign.\n",
    "\n",
    "For a further discussion of energy-based models, see the notes by Philip Lippe at <https://uvadlc-notebooks.readthedocs.io/en/latest/tutorial_notebooks/tutorial8/Deep_Energy_Models.html>"
   ]
  },
  {
   "cell_type": "markdown",
   "id": "34198726",
   "metadata": {},
   "source": [
    "## The derivative of the partition function\n",
    "\n",
    "The partition function, defined above as"
   ]
  },
  {
   "cell_type": "markdown",
   "id": "b5df0af8",
   "metadata": {},
   "source": [
    "$$\n",
    "Z(\\boldsymbol{\\Theta})=\\sum_{x_i\\in \\boldsymbol{X}}\\sum_{h_j\\in \\boldsymbol{H}} f(x_i,h_j;\\boldsymbol{\\Theta}),\n",
    "$$"
   ]
  },
  {
   "cell_type": "markdown",
   "id": "7084b368",
   "metadata": {},
   "source": [
    "is in general the most problematic term. In principle both $x$ and $h$ can span large degrees of freedom, if not even infinitely many ones, and computing the partition function itself is often not desirable or even feasible. The above derivative of the partition function can however be written in terms of an expectation value which is in turn evaluated  using Monte Carlo sampling and the theory of Markov chains, popularly shortened to MCMC (or just MC$^2$)."
   ]
  },
  {
   "cell_type": "markdown",
   "id": "61f90cc6",
   "metadata": {},
   "source": [
    "## Explicit expression for the derivative\n",
    "We can rewrite"
   ]
  },
  {
   "cell_type": "markdown",
   "id": "2edf2700",
   "metadata": {},
   "source": [
    "$$\n",
    "\\nabla_{\\boldsymbol{\\Theta}}\\log{Z(\\boldsymbol{\\Theta})}=\\frac{\\nabla_{\\boldsymbol{\\Theta}}Z(\\boldsymbol{\\Theta})}{Z(\\boldsymbol{\\Theta})},\n",
    "$$"
   ]
  },
  {
   "cell_type": "markdown",
   "id": "063d5556",
   "metadata": {},
   "source": [
    "which reads in more detail"
   ]
  },
  {
   "cell_type": "markdown",
   "id": "711268ba",
   "metadata": {},
   "source": [
    "$$\n",
    "\\nabla_{\\boldsymbol{\\Theta}}\\log{Z(\\boldsymbol{\\Theta})}=\\frac{\\nabla_{\\boldsymbol{\\Theta}} \\sum_{x_i\\in \\boldsymbol{X}}f(x_i;\\boldsymbol{\\Theta})   }{Z(\\boldsymbol{\\Theta})}.\n",
    "$$"
   ]
  },
  {
   "cell_type": "markdown",
   "id": "dc12aa11",
   "metadata": {},
   "source": [
    "We can rewrite the function $f$ (we have assumed that is larger or\n",
    "equal than zero) as $f=\\exp{\\log{f}}$. We can then reqrite the last\n",
    "equation as"
   ]
  },
  {
   "cell_type": "markdown",
   "id": "f2a57ed9",
   "metadata": {},
   "source": [
    "$$\n",
    "\\nabla_{\\boldsymbol{\\Theta}}\\log{Z(\\boldsymbol{\\Theta})}=\\frac{ \\sum_{x_i\\in \\boldsymbol{X}} \\nabla_{\\boldsymbol{\\Theta}}\\exp{\\log{f(x_i;\\boldsymbol{\\Theta})}}   }{Z(\\boldsymbol{\\Theta})}.\n",
    "$$"
   ]
  },
  {
   "cell_type": "markdown",
   "id": "65998d6f",
   "metadata": {},
   "source": [
    "## Final expression\n",
    "\n",
    "Taking the derivative gives us"
   ]
  },
  {
   "cell_type": "markdown",
   "id": "f9a10b1f",
   "metadata": {},
   "source": [
    "$$\n",
    "\\nabla_{\\boldsymbol{\\Theta}}\\log{Z(\\boldsymbol{\\Theta})}=\\frac{ \\sum_{x_i\\in \\boldsymbol{X}}f(x_i;\\boldsymbol{\\Theta}) \\nabla_{\\boldsymbol{\\Theta}}\\log{f(x_i;\\boldsymbol{\\Theta})}   }{Z(\\boldsymbol{\\Theta})},\n",
    "$$"
   ]
  },
  {
   "cell_type": "markdown",
   "id": "6037b8ea",
   "metadata": {},
   "source": [
    "which is the expectation value of $\\log{f}$"
   ]
  },
  {
   "cell_type": "markdown",
   "id": "015896e6",
   "metadata": {},
   "source": [
    "$$\n",
    "\\nabla_{\\boldsymbol{\\Theta}}\\log{Z(\\boldsymbol{\\Theta})}=\\sum_{x_i\\in \\boldsymbol{X}}p(x_i;\\boldsymbol{\\Theta}) \\nabla_{\\boldsymbol{\\Theta}}\\log{f(x_i;\\boldsymbol{\\Theta})},\n",
    "$$"
   ]
  },
  {
   "cell_type": "markdown",
   "id": "0f02d101",
   "metadata": {},
   "source": [
    "that is"
   ]
  },
  {
   "cell_type": "markdown",
   "id": "d4bd21d2",
   "metadata": {},
   "source": [
    "$$\n",
    "\\nabla_{\\boldsymbol{\\Theta}}\\log{Z(\\boldsymbol{\\Theta})}=\\mathbb{E}(\\log{f(x_i;\\boldsymbol{\\Theta})}).\n",
    "$$"
   ]
  },
  {
   "cell_type": "markdown",
   "id": "0c743402",
   "metadata": {},
   "source": [
    "This quantity is evaluated using Monte Carlo sampling, with Gibbs\n",
    "sampling as the standard sampling rule."
   ]
  },
  {
   "cell_type": "markdown",
   "id": "9a706a7b",
   "metadata": {},
   "source": [
    "## Kullback-Leibler divergence\n",
    "\n",
    "Before we continue, we need to remind ourselves about the\n",
    "Kullback-Leibler divergence introduced earlier. This will also allow\n",
    "us to introduce another measure used in connection with the training\n",
    "of Generative Adversarial Networks, the so-called Jensen-Shannon divergence..\n",
    "These metrics are useful for quantifying the similarity between two probability distributions.\n",
    "\n",
    "The Kullback–Leibler (KL) divergence, labeled $D_{KL}$,   measures how one probability distribution $p$ diverges from a second expected probability distribution $q$,\n",
    "that is"
   ]
  },
  {
   "cell_type": "markdown",
   "id": "9a5bec2c",
   "metadata": {},
   "source": [
    "$$\n",
    "D_{KL}(p \\| q) = \\int_x p(x) \\log \\frac{p(x)}{q(x)} dx.\n",
    "$$"
   ]
  },
  {
   "cell_type": "markdown",
   "id": "af40f17e",
   "metadata": {},
   "source": [
    "The KL-divegrnece $D_{KL}$ achieves the minimum zero when $p(x) == q(x)$ everywhere.\n",
    "\n",
    "Note that the KL divergence is asymmetric. In cases where $p(x)$ is\n",
    "close to zero, but $q(x)$ is significantly non-zero, the $q$'s effect\n",
    "is disregarded. It could cause buggy results when we just want to\n",
    "measure the similarity between two equally important distributions."
   ]
  },
  {
   "cell_type": "markdown",
   "id": "fc046fd9",
   "metadata": {},
   "source": [
    "## Jensen-Shannon divergence\n",
    "\n",
    "The Jensen–Shannon (JS) divergence is another measure of similarity between\n",
    "two probability distributions, bounded by $[0, 1]$. The JS-divergence is\n",
    "symmetric and more smooth than the KL-divergence.\n",
    "It is defined as"
   ]
  },
  {
   "cell_type": "markdown",
   "id": "b607cb68",
   "metadata": {},
   "source": [
    "$$\n",
    "D_{JS}(p \\| q) = \\frac{1}{2} D_{KL}(p \\| \\frac{p + q}{2}) + \\frac{1}{2} D_{KL}(q \\| \\frac{p + q}{2})\n",
    "$$"
   ]
  },
  {
   "cell_type": "markdown",
   "id": "d3955fe7",
   "metadata": {},
   "source": [
    "Many practitioners believe that one reason behind GANs' big success is\n",
    "switching the loss function from asymmetric KL-divergence in\n",
    "traditional maximum-likelihood approach to symmetric JS-divergence."
   ]
  },
  {
   "cell_type": "markdown",
   "id": "84cc256b",
   "metadata": {},
   "source": [
    "## Generative model,  basic overview (Borrowed from Rashcka et al)\n",
    "\n",
    "<!-- dom:FIGURE: [figures/figure1.png, width=900 frac=1.0] -->\n",
    "<!-- begin figure -->\n",
    "\n",
    "<img src=\"figures/figure1.png\" width=\"900\"><p style=\"font-size: 0.9em\"><i>Figure 1: </i></p>\n",
    "<!-- end figure -->"
   ]
  },
  {
   "cell_type": "markdown",
   "id": "8ca928f9",
   "metadata": {},
   "source": [
    "## Reminder on VAEs\n",
    "\n",
    "Mathematically, we can imagine the latent variables and the data we\n",
    "observe as modeled by a joint distribution $p(\\boldsymbol{x}, \\boldsymbol{h};\\boldsymbol{\\Theta})$.  Recall one\n",
    "approach of generative modeling, termed likelihood-based, is to\n",
    "learn a model to maximize the likelihood $p(\\boldsymbol{x};\\boldsymbol{\\Theta})$ of all observed\n",
    "$\\boldsymbol{x}$.  There are two ways we can manipulate this joint distribution\n",
    "to recover the likelihood of purely our observed data $p(\\boldsymbol{x};\\boldsymbol{\\Theta})$; we can\n",
    "explicitly marginalize\n",
    "out the latent variable $\\boldsymbol{h}$"
   ]
  },
  {
   "cell_type": "markdown",
   "id": "e34574b5",
   "metadata": {},
   "source": [
    "$$\n",
    "p(\\boldsymbol{x}) = \\int p(\\boldsymbol{x}, \\boldsymbol{h})d\\boldsymbol{h}\n",
    "$$"
   ]
  },
  {
   "cell_type": "markdown",
   "id": "ff830408",
   "metadata": {},
   "source": [
    "or, we could also appeal to the chain rule of probability"
   ]
  },
  {
   "cell_type": "markdown",
   "id": "f5cadeef",
   "metadata": {},
   "source": [
    "$$\n",
    "p(\\boldsymbol{x}) = \\frac{p(\\boldsymbol{x}, \\boldsymbol{h})}{p(\\boldsymbol{h}|\\boldsymbol{x})}\n",
    "$$"
   ]
  },
  {
   "cell_type": "markdown",
   "id": "67ae8eeb",
   "metadata": {},
   "source": [
    "We suppress here the dependence\ton the optimization parameters $\\boldsymbol{\\Theta}$."
   ]
  },
  {
   "cell_type": "markdown",
   "id": "5dc01603",
   "metadata": {},
   "source": [
    "## Evidence Lower Bound\n",
    "Directly computing and maximizing the likelihood $p(\\boldsymbol{x})$ is\n",
    "difficult because it either involves integrating out all latent\n",
    "variables $\\boldsymbol{h}$, which is intractable for\n",
    "complex models, or it involves having access to a ground truth latent\n",
    "encoder $p(\\boldsymbol{h}|\\boldsymbol{x})$.\n",
    "\n",
    "Using the last  two equations, we can derive a term called the Evidence Lower Bound (ELBO), which as its name suggests, is a lower\n",
    "  bound of the evidence.  The evidence is quantified in this case as\n",
    "the log likelihood of the observed data.  Then, maximizing the ELBO\n",
    "becomes a proxy objective with which to optimize a latent variable\n",
    "model; in the best case, when the ELBO is powerfully parameterized and\n",
    "perfectly optimized, it becomes exactly equivalent to the evidence."
   ]
  },
  {
   "cell_type": "markdown",
   "id": "3b31f22a",
   "metadata": {},
   "source": [
    "## ELBO equations\n",
    "Formally, the equation of the ELBO is"
   ]
  },
  {
   "cell_type": "markdown",
   "id": "ec75d4b1",
   "metadata": {},
   "source": [
    "$$\n",
    "\\mathbb{E}_{q_{\\boldsymbol{\\phi}}(\\boldsymbol{h}|\\boldsymbol{x})}\\left[\\log\\frac{p(\\boldsymbol{x}, \\boldsymbol{h})}{q_{\\boldsymbol{\\phi}}(\\boldsymbol{h}|\\boldsymbol{x})}\\right]\n",
    "$$"
   ]
  },
  {
   "cell_type": "markdown",
   "id": "4c6c0611",
   "metadata": {},
   "source": [
    "To make the relationship with the evidence explicit, we can mathematically write:"
   ]
  },
  {
   "cell_type": "markdown",
   "id": "95a40cf2",
   "metadata": {},
   "source": [
    "$$\n",
    "\\log p(\\boldsymbol{x}) \\geq \\mathbb{E}_{q_{\\boldsymbol{\\phi}}(\\boldsymbol{h}|\\boldsymbol{x})}\\left[\\log\\frac{p(\\boldsymbol{x}, \\boldsymbol{h})}{q_{\\boldsymbol{\\phi}}(\\boldsymbol{h}|\\boldsymbol{x})}\\right]\n",
    "$$"
   ]
  },
  {
   "cell_type": "markdown",
   "id": "4e517175",
   "metadata": {},
   "source": [
    "## Introducing the encoder function\n",
    "\n",
    "Here, $q_{\\boldsymbol{\\phi}}(\\boldsymbol{h}|\\boldsymbol{x})$ is a flexible approximate\n",
    "variational distribution with parameters $\\boldsymbol{\\phi}$ that we seek to\n",
    "optimize.  Intuitively, it can be thought of as a parameterizable\n",
    "model that is learned to estimate the true distribution over latent\n",
    "variables for given observations $\\boldsymbol{x}$; in other words, it seeks to\n",
    "approximate true posterior $p(\\boldsymbol{h}|\\boldsymbol{x})$.  As we saw last week when we\n",
    "explored Variational Autoencoders, as we increase the lower bound\n",
    "by tuning the parameters $\\boldsymbol{\\phi}$ to maximize the ELBO, we gain\n",
    "access to components that can be used to model the true data\n",
    "distribution and sample from it, thus learning a generative model."
   ]
  },
  {
   "cell_type": "markdown",
   "id": "d64f2186",
   "metadata": {},
   "source": [
    "## The derivation from last week\n",
    "\n",
    "To better understand the relationship between the evidence and the ELBO, let us perform another derivation, this time using"
   ]
  },
  {
   "cell_type": "markdown",
   "id": "a89c0835",
   "metadata": {},
   "source": [
    "$$\n",
    "\\begin{align*}\n",
    "\\log p(\\boldsymbol{x}) & = \\log p(\\boldsymbol{x}) \\int q_{\\boldsymbol{\\phi}}(\\boldsymbol{h}|\\boldsymbol{x})d\\boldsymbol{h} && \\text{(Multiply by $1 = \\int q_{\\boldsymbol{\\phi}}(\\boldsymbol{h}|\\boldsymbol{x})d\\boldsymbol{h}$)}\\\\\n",
    "          & = \\int q_{\\boldsymbol{\\phi}}(\\boldsymbol{h}|\\boldsymbol{x})(\\log p(\\boldsymbol{x}))d\\boldsymbol{h} && \\text{(Bring evidence into integral)}\\\\\n",
    "          & = \\mathbb{E}_{q_{\\boldsymbol{\\phi}}(\\boldsymbol{h}|\\boldsymbol{x})}\\left[\\log p(\\boldsymbol{x})\\right] && \\text{(Definition of Expectation)}\\\\\n",
    "          & = \\mathbb{E}_{q_{\\boldsymbol{\\phi}}(\\boldsymbol{h}|\\boldsymbol{x})}\\left[\\log\\frac{p(\\boldsymbol{x}, \\boldsymbol{h})}{p(\\boldsymbol{h}|\\boldsymbol{x})}\\right]&& \\\\\n",
    "          & = \\mathbb{E}_{q_{\\boldsymbol{\\phi}}(\\boldsymbol{h}|\\boldsymbol{x})}\\left[\\log\\frac{p(\\boldsymbol{x}, \\boldsymbol{h})q_{\\boldsymbol{\\phi}}(\\boldsymbol{h}|\\boldsymbol{x})}{p(\\boldsymbol{h}|\\boldsymbol{x})q_{\\boldsymbol{\\phi}}(\\boldsymbol{h}|\\boldsymbol{x})}\\right]&& \\text{(Multiply by $1 = \\frac{q_{\\boldsymbol{\\phi}}(\\boldsymbol{h}|\\boldsymbol{x})}{q_{\\boldsymbol{\\phi}}(\\boldsymbol{h}|\\boldsymbol{x})}$)}\\\\\n",
    "          & = \\mathbb{E}_{q_{\\boldsymbol{\\phi}}(\\boldsymbol{h}|\\boldsymbol{x})}\\left[\\log\\frac{p(\\boldsymbol{x}, \\boldsymbol{h})}{q_{\\boldsymbol{\\phi}}(\\boldsymbol{h}|\\boldsymbol{x})}\\right] + \\mathbb{E}_{q_{\\boldsymbol{\\phi}}(\\boldsymbol{h}|\\boldsymbol{x})}\\left[\\log\\frac{q_{\\boldsymbol{\\phi}}(\\boldsymbol{h}|\\boldsymbol{x})}{p(\\boldsymbol{h}|\\boldsymbol{x})}\\right] && \\text{(Split the Expectation)}\\\\\n",
    "          & = \\mathbb{E}_{q_{\\boldsymbol{\\phi}}(\\boldsymbol{h}|\\boldsymbol{x})}\\left[\\log\\frac{p(\\boldsymbol{x}, \\boldsymbol{h})}{q_{\\boldsymbol{\\phi}}(\\boldsymbol{h}|\\boldsymbol{x})}\\right] +\n",
    "\t  D_{KL}(q_{\\boldsymbol{\\phi}}(\\boldsymbol{h}|\\boldsymbol{x})\\vert\\vert p(\\boldsymbol{h}|\\boldsymbol{x}))  && \\text{(Definition of KL Divergence)}\\\\\n",
    "          & \\geq \\mathbb{E}_{q_{\\boldsymbol{\\phi}}(\\boldsymbol{h}|\\boldsymbol{x})}\\left[\\log\\frac{p(\\boldsymbol{x}, \\boldsymbol{h})}{q_{\\boldsymbol{\\phi}}(\\boldsymbol{h}|\\boldsymbol{x})}\\right]  && \\text{(KL Divergence always $\\geq 0$)}\n",
    "\\end{align*}\n",
    "$$"
   ]
  },
  {
   "cell_type": "markdown",
   "id": "e2891d62",
   "metadata": {},
   "source": [
    "## Analysis\n",
    "\n",
    "From this derivation, we clearly observe from the last equation\n",
    "that the evidence is equal to the ELBO plus the KL Divergence between\n",
    "the approximate posterior $q_{\\boldsymbol{\\phi}}(\\boldsymbol{h}|\\boldsymbol{x})$ and the true\n",
    "posterior $p(\\boldsymbol{h}|\\boldsymbol{x})$.  Understanding this term is the\n",
    "key to understanding not only the relationship between the ELBO and\n",
    "the evidence, but also the reason why optimizing the ELBO is an\n",
    "appropriate objective at all."
   ]
  },
  {
   "cell_type": "markdown",
   "id": "ab74566a",
   "metadata": {},
   "source": [
    "## The VAE\n",
    "\n",
    "In the default formulation of the VAE by Kingma and Welling (2015), we directly maximize the ELBO.  This\n",
    "approach is \\textit{variational}, because we optimize for the best\n",
    "$q_{\\boldsymbol{\\phi}}(\\boldsymbol{h}|\\boldsymbol{x})$ amongst a family of potential posterior\n",
    "distributions parameterized by $\\boldsymbol{\\phi}$.  It is called an\n",
    "\\textit{autoencoder} because it is reminiscent of a traditional\n",
    "autoencoder model, where input data is trained to predict itself after\n",
    "undergoing an intermediate bottlenecking representation step."
   ]
  },
  {
   "cell_type": "markdown",
   "id": "c10c9ab8",
   "metadata": {},
   "source": [
    "## Dissecting the equations\n",
    "To make\n",
    "this connection explicit, let us dissect the ELBO term further:"
   ]
  },
  {
   "cell_type": "markdown",
   "id": "67dcbb80",
   "metadata": {},
   "source": [
    "$$\n",
    "\\begin{align*}\n",
    "{\\mathbb{E}_{q_{\\boldsymbol{\\phi}}(\\boldsymbol{h}|\\boldsymbol{x})}\\left[\\log\\frac{p(\\boldsymbol{x}, \\boldsymbol{h})}{q_{\\boldsymbol{\\phi}}(\\boldsymbol{h}|\\boldsymbol{x})}\\right]}\n",
    "&= {\\mathbb{E}_{q_{\\boldsymbol{\\phi}}(\\boldsymbol{h}|\\boldsymbol{x})}\\left[\\log\\frac{p_{\\boldsymbol{\\theta}}(\\boldsymbol{x}|\\boldsymbol{h})p(\\boldsymbol{h})}{q_{\\boldsymbol{\\phi}}(\\boldsymbol{h}|\\boldsymbol{x})}\\right]}         && {\\text{(Chain Rule of Probability)}}\\\\\n",
    "&= {\\mathbb{E}_{q_{\\boldsymbol{\\phi}}(\\boldsymbol{h}|\\boldsymbol{x})}\\left[\\log p_{\\boldsymbol{\\theta}}(\\boldsymbol{x}|\\boldsymbol{h})\\right] + \\mathbb{E}_{q_{\\boldsymbol{\\phi}}(\\boldsymbol{h}|\\boldsymbol{x})}\\left[\\log\\frac{p(\\boldsymbol{h})}{q_{\\boldsymbol{\\phi}}(\\boldsymbol{h}|\\boldsymbol{x})}\\right]}         && {\\text{(Split the Expectation)}}\\\\\n",
    "&= \\underbrace{{\\mathbb{E}_{q_{\\boldsymbol{\\phi}}(\\boldsymbol{h}|\\boldsymbol{x})}\\left[\\log p_{\\boldsymbol{\\theta}}(\\boldsymbol{x}|\\boldsymbol{h})\\right]}}_\\text{reconstruction term} - \\underbrace{{D_{KL}(q_{\\boldsymbol{\\phi}}(\\boldsymbol{h}|\\boldsymbol{x})}\\vert\\vert{p(\\boldsymbol{h}))}}_\\text{prior matching term} && {\\text{(Definition of KL Divergence)}}\n",
    "\\end{align*}\n",
    "$$"
   ]
  },
  {
   "cell_type": "markdown",
   "id": "c55ff2ea",
   "metadata": {},
   "source": [
    "## Bottlenecking distribution\n",
    "\n",
    "In this case, we learn an intermediate bottlenecking distribution\n",
    "$q_{\\boldsymbol{\\phi}}(\\boldsymbol{h}|\\boldsymbol{x})$ that can be treated as\n",
    "an \\textit{encoder}; it transforms inputs into a distribution over\n",
    "possible latents.  Simultaneously, we learn a deterministic function\n",
    "$p_{\\boldsymbol{\\theta}}(\\boldsymbol{x}|\\boldsymbol{h})$ to convert a given latent vector\n",
    "$\\boldsymbol{h}$ into an observation $\\boldsymbol{x}$, which can be interpreted as\n",
    "a \\textit{decoder}."
   ]
  },
  {
   "cell_type": "markdown",
   "id": "d9439b9f",
   "metadata": {},
   "source": [
    "## Decoder and encoder\n",
    "The two terms in the last equation each have intuitive descriptions: the first\n",
    "term measures the reconstruction likelihood of the decoder from our\n",
    "variational distribution; this ensures that the learned distribution\n",
    "is modeling effective latents that the original data can be\n",
    "regenerated from.  The second term measures how similar the learned\n",
    "variational distribution is to a prior belief held over latent\n",
    "variables.  Minimizing this term encourages the encoder to actually\n",
    "learn a distribution rather than collapse into a Dirac delta function.\n",
    "Maximizing the ELBO is thus equivalent to maximizing its first term\n",
    "and minimizing its second term."
   ]
  },
  {
   "cell_type": "markdown",
   "id": "f9ceb9d0",
   "metadata": {},
   "source": [
    "## Defining feature of VAEs\n",
    "\n",
    "A defining feature of the VAE is how the ELBO is optimized jointly over parameters $\\boldsymbol{\\phi}$ and $\\boldsymbol{\\theta}$.  The encoder of the VAE is commonly chosen to model a multivariate Gaussian with diagonal covariance, and the prior is often selected to be a standard multivariate Gaussian:"
   ]
  },
  {
   "cell_type": "markdown",
   "id": "bdfe0f49",
   "metadata": {},
   "source": [
    "$$\n",
    "\\begin{align*}\n",
    "    q_{\\boldsymbol{\\phi}}(\\boldsymbol{h}|\\boldsymbol{x}) &= N(\\boldsymbol{h}; \\boldsymbol{\\mu}_{\\boldsymbol{\\phi}}(\\boldsymbol{x}), \\boldsymbol{\\sigma}_{\\boldsymbol{\\phi}}^2(\\boldsymbol{x})\\textbf{I})\\\\\n",
    "    p(\\boldsymbol{h}) &= N(\\boldsymbol{h}; \\boldsymbol{0}, \\textbf{I})\n",
    "\\end{align*}\n",
    "$$"
   ]
  },
  {
   "cell_type": "markdown",
   "id": "8fe4d619",
   "metadata": {},
   "source": [
    "## Analytical evaluation\n",
    "\n",
    "Then, the KL divergence term of the ELBO can be computed analytically, and the reconstruction term can be approximated using a Monte Carlo estimate.  Our objective can then be rewritten as:"
   ]
  },
  {
   "cell_type": "markdown",
   "id": "bf4550cd",
   "metadata": {},
   "source": [
    "$$\n",
    "\\begin{align*}\n",
    "  \\mathrm{argmax}_{\\boldsymbol{\\phi}, \\boldsymbol{\\theta}} \\mathbb{E}_{q_{\\boldsymbol{\\phi}}(\\boldsymbol{h}|\\boldsymbol{x})}\\left[\\log p_{\\boldsymbol{\\theta}}(\\boldsymbol{x}|\\boldsymbol{h})\\right] - D_{KL}(q_{\\boldsymbol{\\phi}}(\\boldsymbol{h}|\\boldsymbol{x})\\vert\\vert p(\\boldsymbol{h})) \\approx \\mathrm{argmax}_{\\boldsymbol{\\phi}, \\boldsymbol{\\theta}} \\sum_{l=1}^{L}\\log p_{\\boldsymbol{\\theta}}(\\boldsymbol{x}|\\boldsymbol{h}^{(l)}) - D_{KL}(q_{\\boldsymbol{\\phi}}(\\boldsymbol{h}|\\boldsymbol{x})\\vert\\vert p(\\boldsymbol{h}))\n",
    "\\end{align*}\n",
    "$$"
   ]
  },
  {
   "cell_type": "markdown",
   "id": "27616a37",
   "metadata": {},
   "source": [
    "where latents $\\{\\boldsymbol{h}^{(l)}\\}_{l=1}^L$ are sampled from $q_{\\boldsymbol{\\phi}}(\\boldsymbol{h}|\\boldsymbol{x})$, for every observation $\\boldsymbol{x}$ in the dataset."
   ]
  },
  {
   "cell_type": "markdown",
   "id": "c4e66325",
   "metadata": {},
   "source": [
    "## Reparameterization trick\n",
    "\n",
    "However, a problem arises in this default setup: each $\\boldsymbol{h}^{(l)}$\n",
    "that our loss is computed on is generated by a stochastic sampling\n",
    "procedure, which is generally non-differentiable.  Fortunately, this\n",
    "can be addressed via the \\textit{reparameterization trick} when\n",
    "$q_{\\boldsymbol{\\phi}}(\\boldsymbol{h}|\\boldsymbol{x})$ is designed to model certain\n",
    "distributions, including the multivariate Gaussian."
   ]
  },
  {
   "cell_type": "markdown",
   "id": "b9d38d03",
   "metadata": {},
   "source": [
    "## Actual implementation\n",
    "\n",
    "The reparameterization trick rewrites a random variable as a\n",
    "deterministic function of a noise variable; this allows for the\n",
    "optimization of the non-stochastic terms through gradient descent.\n",
    "For example, samples from a normal distribution\n",
    "$x \\sim N(x;\\mu, \\sigma^2)$ with arbitrary mean $\\mu$ and\n",
    "variance $\\sigma^2$ can be rewritten as"
   ]
  },
  {
   "cell_type": "markdown",
   "id": "0aea5eef",
   "metadata": {},
   "source": [
    "$$\n",
    "\\begin{align*}\n",
    "    x &= \\mu + \\sigma\\epsilon \\quad \\text{with } \\epsilon \\sim N(\\epsilon; 0, \\boldsymbol{I})\n",
    "\\end{align*}\n",
    "$$"
   ]
  },
  {
   "cell_type": "markdown",
   "id": "0303db71",
   "metadata": {},
   "source": [
    "## Interpretation\n",
    "An arbitrary Gaussian distributions can be interpreted as\n",
    "standard Gaussians (of which $\\epsilon$ is a sample) that have their\n",
    "mean shifted from zero to the target mean $\\mu$ by addition, and their\n",
    "variance stretched by the target variance $\\sigma^2$.  Therefore, by\n",
    "the reparameterization trick, sampling from an arbitrary Gaussian\n",
    "distribution can be performed by sampling from a standard Gaussian,\n",
    "scaling the result by the target standard deviation, and shifting it\n",
    "by the target mean."
   ]
  },
  {
   "cell_type": "markdown",
   "id": "c8ae0332",
   "metadata": {},
   "source": [
    "## Deterministic function\n",
    "\n",
    "In a VAE, each $\\boldsymbol{h}$ is thus computed as a deterministic function of input $\\boldsymbol{x}$ and auxiliary noise variable $\\boldsymbol{\\epsilon}$:"
   ]
  },
  {
   "cell_type": "markdown",
   "id": "145e1d23",
   "metadata": {},
   "source": [
    "$$\n",
    "\\begin{align*}\n",
    "    \\boldsymbol{h} &= \\boldsymbol{\\mu}_{\\boldsymbol{\\phi}}(\\boldsymbol{x}) + \\boldsymbol{\\sigma}_{\\boldsymbol{\\phi}}(\\boldsymbol{x})\\odot\\boldsymbol{\\epsilon} \\quad \\text{with } \\boldsymbol{\\epsilon} \\sim N(\\boldsymbol{\\epsilon};\\boldsymbol{0}, \\textbf{I})\n",
    "\\end{align*}\n",
    "$$"
   ]
  },
  {
   "cell_type": "markdown",
   "id": "91175b87",
   "metadata": {},
   "source": [
    "where $\\odot$ represents an element-wise product.  Under this\n",
    "reparameterized version of $\\boldsymbol{h}$, gradients can then be computed\n",
    "with respect to $\\boldsymbol{\\phi}$ as desired, to optimize\n",
    "$\\boldsymbol{\\mu}_{\\boldsymbol{\\phi}}$ and $\\boldsymbol{\\sigma}_{\\boldsymbol{\\phi}}$.  The VAE\n",
    "therefore utilizes the reparameterization trick and Monte Carlo\n",
    "estimates to optimize the ELBO jointly over $\\boldsymbol{\\phi}$ and\n",
    "$\\boldsymbol{\\theta}$."
   ]
  },
  {
   "cell_type": "markdown",
   "id": "c481783a",
   "metadata": {},
   "source": [
    "## After training\n",
    "\n",
    "After training a VAE, generating new data can be performed by sampling\n",
    "directly from the latent space $p(\\boldsymbol{h})$ and then running it through\n",
    "the decoder.  Variational Autoencoders are particularly interesting\n",
    "when the dimensionality of $\\boldsymbol{h}$ is less than that of input\n",
    "$\\boldsymbol{x}$, as we might then be learning compact, useful\n",
    "representations.  Furthermore, when a semantically meaningful latent\n",
    "space is learned, latent vectors can be edited before being passed to\n",
    "the decoder to more precisely control the data generated."
   ]
  },
  {
   "cell_type": "markdown",
   "id": "7d67f771",
   "metadata": {},
   "source": [
    "## What is a GAN?\n",
    "\n",
    "A GAN is a deep neural network which consists of two networks, a\n",
    "so-called generator network and a discriminating network, or just\n",
    "discriminator. Through several iterations of generation and\n",
    "discrimination, the idea is that these networks will train each other,\n",
    "while also trying to outsmart each other.\n",
    "\n",
    "In its simplest version, the two networks could be two standard neural networks with a given number of hidden of hidden layers and parameters to train."
   ]
  },
  {
   "cell_type": "markdown",
   "id": "0c077ee2",
   "metadata": {},
   "source": [
    "## Labeling the networks\n",
    "\n",
    "For a GAN we have: \n",
    "1. a discriminator $D$ estimates the probability of a given sample coming from the real dataset. It works as a critic and is optimized to tell the fake samples from the realo ones. We say a  discriminator tries to distinguish between real data and those generated by the abovementioned generator.\n",
    "\n",
    "2. a generator $G$ outputs synthetic samples given a noise variable input $z$ ($z$ brings in potential output diversity). It is trained to capture the real data distribution in order to generate samples that can be as real as possible, or in other words, can trick the discriminator to offer a high probability.\n",
    "\n",
    "At the end of the training, the generator can be used to generate for\n",
    "example new images. In this sense we have trained a model which can\n",
    "produce new samples. We say that we have implicitely defined a\n",
    "probability."
   ]
  },
  {
   "cell_type": "markdown",
   "id": "53ec4578",
   "metadata": {},
   "source": [
    "## More on Generative Adversarial Networks\n",
    "\n",
    "Generative adversarial networks  have shown great results in\n",
    "many generative tasks to replicate the real-world rich content such as\n",
    "images, human language, and music. It is inspired by game theory: two\n",
    "models, a generator and a discriminator, are competing with each other while\n",
    "making each other stronger at the same time. However, it is rather\n",
    "challenging to train a GANs model, \n",
    "training instability or failure to converge."
   ]
  },
  {
   "cell_type": "markdown",
   "id": "bcdde09a",
   "metadata": {},
   "source": [
    "## What is a generator network?\n",
    "\n",
    "A generator network is often a deep network which uses existing data\n",
    "to generate new data (from for example simulations of physical\n",
    "systems, imagesm video, audio and more) from randomly generated\n",
    "inputs, the so-called latent space. Training the network allows us to\n",
    "generate say new data, images etc. As an example a generator network\n",
    "could for example be a Boltzmann machine as discussed earlier. This\n",
    "machine is trained to produce for example a quantum mechanical\n",
    "probability distribution.\n",
    "\n",
    "It can be a simple neural network with an input layer and an output layer and a given number of hidden layers."
   ]
  },
  {
   "cell_type": "markdown",
   "id": "25ef8da4",
   "metadata": {},
   "source": [
    "## Appplications of GANs\n",
    "\n",
    "There are exteremely many applications of GANs\n",
    "1. Image generation\n",
    "\n",
    "2. Text-to-image analysis\n",
    "\n",
    "3. Face-aging\n",
    "\n",
    "4. Image-to-image translation\n",
    "\n",
    "5. Video synthesis\n",
    "\n",
    "6. High-resolution image generation\n",
    "\n",
    "7. Completing missing parts of images and much more"
   ]
  },
  {
   "cell_type": "markdown",
   "id": "e38132f3",
   "metadata": {},
   "source": [
    "## Discriminator versus generator  (Borrowed from Rashcka et al)\n",
    "\n",
    "<!-- dom:FIGURE: [figures/figure2.png, width=900 frac=1.0] -->\n",
    "<!-- begin figure -->\n",
    "\n",
    "<img src=\"figures/figure2.png\" width=\"900\"><p style=\"font-size: 0.9em\"><i>Figure 1: </i></p>\n",
    "<!-- end figure -->"
   ]
  },
  {
   "cell_type": "markdown",
   "id": "d98212d2",
   "metadata": {},
   "source": [
    "## Generative Adversarial Networks\n",
    "\n",
    "**Generative Adversarial Networks** are a type of unsupervised machine learning\n",
    "algorithm proposed by Goodfellow et. al, see <https://arxiv.org/pdf/1406.2661.pdf>\n",
    "in 2014 (Read the paper first it's only 6 pages). The simplest formulation of\n",
    "the model is based on a game theoretic approach, *zero sum game*, where we pit\n",
    "two neural networks against one another. We define two rival networks, one\n",
    "generator $g$, and one discriminator $d$. The generator directly produces\n",
    "samples"
   ]
  },
  {
   "cell_type": "markdown",
   "id": "1a513db1",
   "metadata": {},
   "source": [
    "$$\n",
    "x = g(z; \\theta^{(g)}).\n",
    "$$"
   ]
  },
  {
   "cell_type": "markdown",
   "id": "709b4a86",
   "metadata": {},
   "source": [
    "## Discriminator\n",
    "\n",
    "The discriminator attempts to distinguish between samples drawn from the\n",
    "training data and samples drawn from the generator. In other words, it tries to\n",
    "tell the difference between the fake data produced by $g$ and the actual data\n",
    "samples we want to do prediction on. The discriminator outputs a probability\n",
    "value given by"
   ]
  },
  {
   "cell_type": "markdown",
   "id": "d107962f",
   "metadata": {},
   "source": [
    "$$\n",
    "d(x; \\theta^{(d)}).\n",
    "$$"
   ]
  },
  {
   "cell_type": "markdown",
   "id": "b8e48395",
   "metadata": {},
   "source": [
    "indicating the probability that $x$ is a real training example rather than a\n",
    "fake sample the generator has generated."
   ]
  },
  {
   "cell_type": "markdown",
   "id": "aba7be1d",
   "metadata": {},
   "source": [
    "## Zero-sum game\n",
    "\n",
    "The simplest way to formulate the\n",
    "learning process in a generative adversarial network is a zero-sum game, in\n",
    "which a function"
   ]
  },
  {
   "cell_type": "markdown",
   "id": "cba880be",
   "metadata": {},
   "source": [
    "$$\n",
    "v(\\theta^{(g)}, \\theta^{(d)}),\n",
    "$$"
   ]
  },
  {
   "cell_type": "markdown",
   "id": "a305156e",
   "metadata": {},
   "source": [
    "determines the reward for the discriminator, while the generator gets the\n",
    "conjugate reward"
   ]
  },
  {
   "cell_type": "markdown",
   "id": "e4dffc6c",
   "metadata": {},
   "source": [
    "$$\n",
    "-v(\\theta^{(g)}, \\theta^{(d)})\n",
    "$$"
   ]
  },
  {
   "cell_type": "markdown",
   "id": "c201a002",
   "metadata": {},
   "source": [
    "## Maximizing reward\n",
    "\n",
    "During learning both of the networks maximize their own reward function, so that\n",
    "the generator gets better and better at tricking the discriminator, while the\n",
    "discriminator gets better and better at telling the difference between the fake\n",
    "and real data. The generator and discriminator alternate on which one trains at\n",
    "one time (i.e. for one epoch). In other words, we keep the generator constant\n",
    "and train the discriminator, then we keep the discriminator constant to train\n",
    "the generator and repeat. It is this back and forth dynamic which lets GANs\n",
    "tackle otherwise intractable generative problems. As the generator improves with\n",
    " training, the discriminator's performance gets worse because it cannot easily\n",
    " tell the difference between real and fake. If the generator ends up succeeding\n",
    " perfectly, the the discriminator will do no better than random guessing i.e.\n",
    " 50\\%."
   ]
  },
  {
   "cell_type": "markdown",
   "id": "24c3b8f9",
   "metadata": {},
   "source": [
    "## Progression in training\n",
    "\n",
    "This progression in the training poses a problem for the convergence\n",
    " criteria for GANs. The discriminator feedback gets less meaningful over time,\n",
    " if we continue training after this point then the generator is effectively\n",
    " training on junk data which can undo the learning up to that point. Therefore,\n",
    " we stop training when the discriminator starts outputting $1/2$ everywhere.\n",
    " At convergence we have"
   ]
  },
  {
   "cell_type": "markdown",
   "id": "3df54ba0",
   "metadata": {},
   "source": [
    "$$\n",
    "g^* = \\underset{g}{\\mathrm{argmin}}\\hspace{2pt}\n",
    "          \\underset{d}{\\mathrm{max}}v(\\theta^{(g)}, \\theta^{(d)}),\n",
    "$$"
   ]
  },
  {
   "cell_type": "markdown",
   "id": "7d82020a",
   "metadata": {},
   "source": [
    "## Deafault choice\n",
    "The default choice for $v$ is"
   ]
  },
  {
   "cell_type": "markdown",
   "id": "c90109c5",
   "metadata": {},
   "source": [
    "$$\n",
    "v(\\theta^{(g)}, \\theta^{(d)}) = \\mathbb{E}_{x\\sim p_\\mathrm{data}}\\log d(x)\n",
    "                                  + \\mathbb{E}_{x\\sim p_\\mathrm{model}}\n",
    "                                  \\log (1 - d(x)).\n",
    "$$"
   ]
  },
  {
   "cell_type": "markdown",
   "id": "21266d81",
   "metadata": {},
   "source": [
    "## Design of GANs\n",
    "The main motivation for the design of GANs is that the learning process requires\n",
    "neither approximate inference (variational autoencoders for example) nor\n",
    "approximation of a partition function. In the case where"
   ]
  },
  {
   "cell_type": "markdown",
   "id": "50383a8c",
   "metadata": {},
   "source": [
    "$$\n",
    "\\underset{d}{\\mathrm{max}}v(\\theta^{(g)}, \\theta^{(d)})\n",
    "$$"
   ]
  },
  {
   "cell_type": "markdown",
   "id": "88c986a1",
   "metadata": {},
   "source": [
    "is convex in $\\theta^{(g)}$ then the procedure is guaranteed to converge and is\n",
    "asymptotically consistent\n",
    "( [Seth Lloyd on QuGANs](https://arxiv.org/pdf/1804.09139.pdf)  ). This is in\n",
    "general not the case and it is possible to get situations where the training\n",
    "process never converges because the generator and discriminator chase one\n",
    "another around in the parameter space indefinitely."
   ]
  },
  {
   "cell_type": "markdown",
   "id": "02b9b1b4",
   "metadata": {},
   "source": [
    "## Steps in building a GAN  (Borrowed from Rashcka et al)\n",
    "\n",
    "<!-- dom:FIGURE: [figures/figure3.png, width=900 frac=1.0] -->\n",
    "<!-- begin figure -->\n",
    "\n",
    "<img src=\"figures/figure3.png\" width=\"900\"><p style=\"font-size: 0.9em\"><i>Figure 1: </i></p>\n",
    "<!-- end figure -->"
   ]
  },
  {
   "cell_type": "markdown",
   "id": "d03d8e49",
   "metadata": {},
   "source": [
    "## Improving functionalities\n",
    "\n",
    "These two models compete against each other during the training\n",
    "process: the generator $G$ is trying hard to trick the discriminator,\n",
    "while the critic model $D$ is trying hard not to be cheated. This\n",
    "interesting zero-sum game between two models motivates both to improve\n",
    "their functionalities."
   ]
  },
  {
   "cell_type": "markdown",
   "id": "307750b2",
   "metadata": {},
   "source": [
    "## Setup of the GAN\n",
    "\n",
    "We define a probability $p_{\\boldsymbol{h}}$ which is used by the\n",
    "generator. Usually it is given by a uniform distribution over the\n",
    "input input $\\boldsymbol{h}$. Thereafter we define the distribution of the\n",
    "generator which we want to train, $p_{g}$ This is the generator's\n",
    "distribution over the data $\\boldsymbol{x}$. Finally, we have the distribution\n",
    "$p_{r}$ over the real sample $\\boldsymbol{x}$"
   ]
  },
  {
   "cell_type": "markdown",
   "id": "2624562b",
   "metadata": {},
   "source": [
    "## Optimization part\n",
    "\n",
    "On one hand, we want to make sure the discriminator $D$'s decisions\n",
    "over real data are accurate by maximizing $\\mathbb{E}_{\\boldsymbol{x} \\sim\n",
    "p_{r}(\\boldsymbol{x})} [\\log D(\\boldsymbol{x})]$. Meanwhile, given a fake sample $G(\\boldsymbol{h}), \\boldsymbol{h} \\sim\n",
    "p_{\\boldsymbol{h}}(\\boldsymbol{h})$, the discriminator is expected to output a probability,\n",
    "$D(G(\\boldsymbol{h}))$, close to zero by maximizing $\\mathbb{E}_{\\boldsymbol{h} \\sim p_{\\boldsymbol{h}}(\\boldsymbol{h})}\n",
    "[\\log (1 - D(G(\\boldsymbol{h})))]$.\n",
    "\n",
    "On the other hand, the generator is trained to increase the chances of\n",
    "$D$ producing a high probability for a fake example, thus to minimize\n",
    "$\\mathbb{E}_{\\boldsymbol{h} \\sim p_{\\boldsymbol{h}}(\\boldsymbol{h})} [\\log (1 - D(G(\\boldsymbol{h})))]$."
   ]
  },
  {
   "cell_type": "markdown",
   "id": "20b5ae73",
   "metadata": {},
   "source": [
    "## Minimax game\n",
    "\n",
    "When combining both aspects together, $D$ and $G$ are playing a **minimax game** in which we should optimize the following loss function:"
   ]
  },
  {
   "cell_type": "markdown",
   "id": "d4b13e59",
   "metadata": {},
   "source": [
    "$$\n",
    "\\begin{aligned}\n",
    "\\min_G \\max_D L(D, G) \n",
    "& = \\mathbb{E}_{\\boldsymbol{x} \\sim p_{r}(\\boldsymbol{x})} [\\log D(\\boldsymbol{x})] + \\mathbb{E}_{\\boldsymbol{h} \\sim p_{\\boldsymbol{h}}(\\boldsymbol{h})} [\\log(1 - D(G(\\boldsymbol{h})))] \\\\\n",
    "& = \\mathbb{E}_{\\boldsymbol{x} \\sim p_{r}(\\boldsymbol{x})} [\\log D(\\boldsymbol{x})] + \\mathbb{E}_{\\boldsymbol{x} \\sim p_g(\\boldsymbol{x})} [\\log(1 - D(\\boldsymbol{x})]\n",
    "\\end{aligned}\n",
    "$$"
   ]
  },
  {
   "cell_type": "markdown",
   "id": "cd030146",
   "metadata": {},
   "source": [
    "where $\\mathbb{E}_{\\boldsymbol{x} \\sim p_{r}(\\boldsymbol{x})} [\\log D(\\boldsymbol{x})]$ has no impact on $G$ during gradient descent updates."
   ]
  },
  {
   "cell_type": "markdown",
   "id": "35f030ba",
   "metadata": {},
   "source": [
    "## Optimal value for $D$\n",
    "\n",
    "Now we have a well-defined loss function. Let's first examine what is the best value for $D$."
   ]
  },
  {
   "cell_type": "markdown",
   "id": "db28d3a1",
   "metadata": {},
   "source": [
    "$$\n",
    "L(G, D) = \\int_{\\boldsymbol{x}} \\bigg( p_{r}(\\boldsymbol{x}) \\log(D(\\boldsymbol{x})) + p_g (\\boldsymbol{x}) \\log(1 - D(\\boldsymbol{x})) \\bigg) dx\n",
    "$$"
   ]
  },
  {
   "cell_type": "markdown",
   "id": "3f156ae2",
   "metadata": {},
   "source": [
    "## Best value of $D$\n",
    "Since we are interested in what is the best value of $D(\\boldsymbol{x})$ to maximize $L(G, D)$, let us label"
   ]
  },
  {
   "cell_type": "markdown",
   "id": "2404233e",
   "metadata": {},
   "source": [
    "$$\n",
    "\\tilde{\\boldsymbol{x}} = D(\\boldsymbol{x}), \n",
    "A=p_{r}(\\boldsymbol{x}), \n",
    "B=p_g(\\boldsymbol{x})\n",
    "$$"
   ]
  },
  {
   "cell_type": "markdown",
   "id": "08bef4fd",
   "metadata": {},
   "source": [
    "## Ignore integral\n",
    "\n",
    "And then what is inside the integral (we can safely ignore the integral because $\\boldsymbol{x}$ is sampled over all the possible values) is:"
   ]
  },
  {
   "cell_type": "markdown",
   "id": "ce26f09c",
   "metadata": {},
   "source": [
    "$$\n",
    "\\begin{align*}\n",
    "f(\\tilde{\\boldsymbol{x}}) \n",
    "& = A \\log{\\tilde{\\boldsymbol{x}}} + B \\log{(1-\\tilde{\\boldsymbol{x}})} \\\\\n",
    "\\frac{d f(\\tilde{\\boldsymbol{x}})}{d \\tilde{\\boldsymbol{x}}} & = A \\frac{1}{\\tilde{\\boldsymbol{x}}} - B\\frac{1}{1 - \\tilde{\\boldsymbol{x}}} \\\\\n",
    "& = \\frac{A - (A + B)\\tilde{\\boldsymbol{x}}} {\\tilde{\\boldsymbol{x}} (1 - \\tilde{\\boldsymbol{x}})}. \\\\\n",
    "\\end{align*}\n",
    "$$"
   ]
  },
  {
   "cell_type": "markdown",
   "id": "7ab0e0fd",
   "metadata": {},
   "source": [
    "## Best values\n",
    "\n",
    "Thus, if we set $\\frac{d f(\\tilde{\\boldsymbol{x}})}{d \\tilde{\\boldsymbol{x}}} = 0$, we get\n",
    "the best value of the discriminator: $D^*(\\boldsymbol{x}) = \\tilde{\\boldsymbol{x}}^* =\n",
    "\\frac{A}{A + B} = \\frac{p_{r}(\\boldsymbol{x})}{p_{r}(\\boldsymbol{x}) + p_g(\\boldsymbol{x})}\n",
    "\\in [0, 1]$.  Once the generator is trained to its optimal, $p_g$ gets\n",
    "very close to $p_{r}$. When $p_g = p_{r}$, $D^*(\\boldsymbol{x})$ becomes\n",
    "$1/2$. We will observe this when running the code below here.\n",
    "\n",
    "When both $G$ and $D$ are at their optimal values, we have $p_g = p_{r}$ and $D^*(\\boldsymbol{x}) = 1/2$ and the loss function becomes:"
   ]
  },
  {
   "cell_type": "markdown",
   "id": "5c639ca9",
   "metadata": {},
   "source": [
    "$$\n",
    "\\begin{align*}\n",
    "L(G, D^*) \n",
    "&= \\int_{\\boldsymbol{x}} \\bigg( p_{r}(\\boldsymbol{x}) \\log(D^*(\\boldsymbol{x})) + p_g (\\boldsymbol{x}) \\log(1 - D^*(\\boldsymbol{x})) \\bigg) d\\boldsymbol{x} \\\\\n",
    "&= \\log \\frac{1}{2} \\int_{\\boldsymbol{h}} p_{r}(\\boldsymbol{x}) d\\boldsymbol{x} + \\log \\frac{1}{2} \\int_{\\boldsymbol{x}} p_g(\\boldsymbol{x}) d\\boldsymbol{x} \\\\\n",
    "&= -2\\log2\n",
    "\\end{align*}\n",
    "$$"
   ]
  },
  {
   "cell_type": "markdown",
   "id": "47b0d519",
   "metadata": {},
   "source": [
    "## What does the Loss Function Represent?\n",
    "\n",
    "The JS divergence between $p_{r}$ and $p_g$ can be computed as:"
   ]
  },
  {
   "cell_type": "markdown",
   "id": "f8947ad1",
   "metadata": {},
   "source": [
    "$$\n",
    "\\begin{align*}\n",
    "D_{JS}(p_{r} \\| p_g) \n",
    "=& \\frac{1}{2} D_{KL}(p_{r} || \\frac{p_{r} + p_g}{2}) + \\frac{1}{2} D_{KL}(p_{g} || \\frac{p_{r} + p_g}{2}) \\\\\n",
    "=& \\frac{1}{2} \\bigg( \\log2 + \\int_x p_{r}(\\boldsymbol{x}) \\log \\frac{p_{r}(\\boldsymbol{x})}{p_{r} + p_g(\\boldsymbol{x})} d\\boldsymbol{x} \\bigg) + \\\\& \\frac{1}{2} \\bigg( \\log2 + \\int_x p_g(\\boldsymbol{x}) \\log \\frac{p_g(\\boldsymbol{x})}{p_{r} + p_g(\\boldsymbol{x})} d\\boldsymbol{x} \\bigg) \\\\\n",
    "=& \\frac{1}{2} \\bigg( \\log4 + L(G, D^*) \\bigg)\n",
    "\\end{align*}\n",
    "$$"
   ]
  },
  {
   "cell_type": "markdown",
   "id": "959668ae",
   "metadata": {},
   "source": [
    "## What does the loss function quantify?\n",
    "\n",
    "We have"
   ]
  },
  {
   "cell_type": "markdown",
   "id": "9c6bbe88",
   "metadata": {},
   "source": [
    "$$\n",
    "L(G, D^*) = 2D_{JS}(p_{r} \\| p_g) - 2\\log2.\n",
    "$$"
   ]
  },
  {
   "cell_type": "markdown",
   "id": "08541909",
   "metadata": {},
   "source": [
    "Essentially the loss function of GAN quantifies the similarity between\n",
    "the generative data distribution $p_g$ and the real sample\n",
    "distribution $p_{r}$ by JS divergence when the discriminator is\n",
    "optimal. The best $G^*$ that replicates the real data distribution\n",
    "leads to the minimum $L(G^*, D^*) = -2\\log2$ which is aligned with\n",
    "equations above.\n",
    "\n",
    "<!-- Direct quote: **In this best-performing formulation, the generator aims to -->\n",
    "<!-- increase the log probability that the discriminator makes a mistake, rather than -->\n",
    "<!-- aiming to decrease the log probability that the discriminator makes the correct -->\n",
    "<!-- prediction.** Another interesting read can be found at <https://arxiv.org/abs/1701.00160>. -->"
   ]
  },
  {
   "cell_type": "markdown",
   "id": "5e789af0",
   "metadata": {},
   "source": [
    "## Writing Our First Generative Adversarial Network\n",
    "\n",
    "This part is best seen using the jupyter-notebook. We follow here\n",
    "closely the code developed by Raschka et al from chapter 17 of their\n",
    "textbook, see <https://github.com/rasbt/python-machine-learning-book-3rd-edition/tree/master/ch17> for codes."
   ]
  },
  {
   "cell_type": "markdown",
   "id": "f80f52e3",
   "metadata": {},
   "source": [
    "## Implementing the networks   (Borrowed from Rashcka et al)\n",
    "\n",
    "<!-- dom:FIGURE: [figures/figure4.png, width=900 frac=1.0] -->\n",
    "<!-- begin figure -->\n",
    "\n",
    "<img src=\"figures/figure4.png\" width=\"900\"><p style=\"font-size: 0.9em\"><i>Figure 1: </i></p>\n",
    "<!-- end figure -->"
   ]
  },
  {
   "cell_type": "markdown",
   "id": "7cf61d3c",
   "metadata": {},
   "source": [
    "## Code elements"
   ]
  },
  {
   "cell_type": "code",
   "execution_count": 1,
   "id": "f6b8a00f",
   "metadata": {},
   "outputs": [
    {
     "name": "stdout",
     "output_type": "stream",
     "text": [
      "2.2.0\n",
      "GPU Available: False\n"
     ]
    }
   ],
   "source": [
    "%matplotlib inline\n",
    "\n",
    "import torch\n",
    "print(torch.__version__)\n",
    "print(\"GPU Available:\", torch.cuda.is_available())\n",
    "\n",
    "if torch.cuda.is_available():\n",
    "    device = torch.device(\"cuda:0\")\n",
    "else:\n",
    "    device = \"cpu\"\n",
    "\n",
    "import torch.nn as nn\n",
    "import numpy as np\n",
    "import matplotlib.pyplot as plt"
   ]
  },
  {
   "cell_type": "markdown",
   "id": "271bc970",
   "metadata": {},
   "source": [
    "## Setting up the GAN"
   ]
  },
  {
   "cell_type": "code",
   "execution_count": 2,
   "id": "a5a62325",
   "metadata": {},
   "outputs": [],
   "source": [
    "## define a function for the generator:\n",
    "def make_generator_network(\n",
    "        input_size=20,\n",
    "        num_hidden_layers=1,\n",
    "        num_hidden_units=100,\n",
    "        num_output_units=784):\n",
    "    model = nn.Sequential()\n",
    "    for i in range(num_hidden_layers):\n",
    "        model.add_module(f'fc_g{i}', \n",
    "                         nn.Linear(input_size, \n",
    "                                   num_hidden_units)) \n",
    "        model.add_module(f'relu_g{i}', \n",
    "                         nn.LeakyReLU())     \n",
    "        input_size = num_hidden_units\n",
    "    model.add_module(f'fc_g{num_hidden_layers}', \n",
    "                    nn.Linear(input_size, num_output_units))   \n",
    "    model.add_module('tanh_g', nn.Tanh())      \n",
    "    return model\n",
    "\n",
    "## define a function for the discriminator:\n",
    "def make_discriminator_network(\n",
    "        input_size,\n",
    "        num_hidden_layers=1,\n",
    "        num_hidden_units=100,\n",
    "        num_output_units=1):\n",
    "    model = nn.Sequential()\n",
    "    for i in range(num_hidden_layers):\n",
    "        model.add_module(f'fc_d{i}', \n",
    "                 nn.Linear(input_size, \n",
    "                           num_hidden_units, bias=False)) \n",
    "        model.add_module(f'relu_d{i}', \n",
    "                         nn.LeakyReLU())  \n",
    "        model.add_module('dropout', nn.Dropout(p=0.5))\n",
    "        input_size = num_hidden_units\n",
    "    model.add_module(f'fc_d{num_hidden_layers}', \n",
    "                     nn.Linear(input_size, num_output_units))   \n",
    "    model.add_module('sigmoid', nn.Sigmoid())\n",
    "    return model"
   ]
  },
  {
   "cell_type": "markdown",
   "id": "fb055b7c",
   "metadata": {},
   "source": [
    "## Printing the model"
   ]
  },
  {
   "cell_type": "code",
   "execution_count": 3,
   "id": "c123803b",
   "metadata": {},
   "outputs": [
    {
     "name": "stdout",
     "output_type": "stream",
     "text": [
      "Sequential(\n",
      "  (fc_g0): Linear(in_features=20, out_features=100, bias=True)\n",
      "  (relu_g0): LeakyReLU(negative_slope=0.01)\n",
      "  (fc_g1): Linear(in_features=100, out_features=784, bias=True)\n",
      "  (tanh_g): Tanh()\n",
      ")\n"
     ]
    }
   ],
   "source": [
    "image_size = (28, 28)\n",
    "z_size = 20\n",
    "\n",
    "gen_hidden_layers = 1\n",
    "gen_hidden_size = 100\n",
    "disc_hidden_layers = 1\n",
    "disc_hidden_size = 100\n",
    "\n",
    "torch.manual_seed(1)\n",
    "\n",
    "gen_model = make_generator_network(\n",
    "    input_size=z_size,\n",
    "    num_hidden_layers=gen_hidden_layers, \n",
    "    num_hidden_units=gen_hidden_size,\n",
    "    num_output_units=np.prod(image_size))\n",
    " \n",
    "print(gen_model)"
   ]
  },
  {
   "cell_type": "code",
   "execution_count": 4,
   "id": "77bf006c",
   "metadata": {},
   "outputs": [
    {
     "name": "stdout",
     "output_type": "stream",
     "text": [
      "Sequential(\n",
      "  (fc_d0): Linear(in_features=784, out_features=100, bias=False)\n",
      "  (relu_d0): LeakyReLU(negative_slope=0.01)\n",
      "  (dropout): Dropout(p=0.5, inplace=False)\n",
      "  (fc_d1): Linear(in_features=100, out_features=1, bias=True)\n",
      "  (sigmoid): Sigmoid()\n",
      ")\n"
     ]
    }
   ],
   "source": [
    "disc_model = make_discriminator_network(\n",
    "    input_size=np.prod(image_size),\n",
    "    num_hidden_layers=disc_hidden_layers,\n",
    "    num_hidden_units=disc_hidden_size)\n",
    "\n",
    "print(disc_model)"
   ]
  },
  {
   "cell_type": "markdown",
   "id": "56073ddf",
   "metadata": {},
   "source": [
    "## Defining the training set"
   ]
  },
  {
   "cell_type": "code",
   "execution_count": 5,
   "id": "1395b1ad",
   "metadata": {},
   "outputs": [
    {
     "name": "stderr",
     "output_type": "stream",
     "text": [
      "/Users/mhjensen/miniforge3/envs/myenv/lib/python3.9/site-packages/torchvision/io/image.py:13: UserWarning: Failed to load image Python extension: 'dlopen(/Users/mhjensen/miniforge3/envs/myenv/lib/python3.9/site-packages/torchvision/image.so, 0x0006): Symbol not found: __ZN3c1017RegisterOperatorsD1Ev\n",
      "  Referenced from: <2D1B8D5C-7891-3680-9CF9-F771AE880676> /Users/mhjensen/miniforge3/envs/myenv/lib/python3.9/site-packages/torchvision/image.so\n",
      "  Expected in:     <ADC0A61A-5B83-3A02-975F-EE5DFF441305> /Users/mhjensen/miniforge3/envs/myenv/lib/python3.9/site-packages/torch/lib/libtorch_cpu.dylib'If you don't plan on using image functionality from `torchvision.io`, you can ignore this warning. Otherwise, there might be something wrong with your environment. Did you have `libjpeg` or `libpng` installed before building `torchvision` from source?\n",
      "  warn(\n"
     ]
    },
    {
     "name": "stdout",
     "output_type": "stream",
     "text": [
      "Min: -1.0 Max: 1.0\n",
      "torch.Size([1, 28, 28])\n"
     ]
    }
   ],
   "source": [
    "import torchvision \n",
    "from torchvision import transforms \n",
    "\n",
    "\n",
    "image_path = './'\n",
    "transform = transforms.Compose([\n",
    "    transforms.ToTensor(),\n",
    "    transforms.Normalize(mean=(0.5), std=(0.5)),\n",
    "])\n",
    "mnist_dataset = torchvision.datasets.MNIST(root=image_path, \n",
    "                                           train=True, \n",
    "                                           transform=transform, \n",
    "                                           download=True)\n",
    "\n",
    "example, label = next(iter(mnist_dataset))\n",
    "print(f'Min: {example.min()} Max: {example.max()}')\n",
    "print(example.shape)"
   ]
  },
  {
   "cell_type": "markdown",
   "id": "fa9e6641",
   "metadata": {},
   "source": [
    "## Defining the training set, part 2"
   ]
  },
  {
   "cell_type": "code",
   "execution_count": 6,
   "id": "11da79b2",
   "metadata": {},
   "outputs": [
    {
     "name": "stdout",
     "output_type": "stream",
     "text": [
      "input-z -- shape: torch.Size([32, 20])\n",
      "input-real -- shape: torch.Size([32, 784])\n",
      "Output of G -- shape: torch.Size([32, 784])\n",
      "Disc. (real) -- shape: torch.Size([32, 1])\n",
      "Disc. (fake) -- shape: torch.Size([32, 1])\n"
     ]
    }
   ],
   "source": [
    "def create_noise(batch_size, z_size, mode_z):\n",
    "    if mode_z == 'uniform':\n",
    "        input_z = torch.rand(batch_size, z_size)*2 - 1 \n",
    "    elif mode_z == 'normal':\n",
    "        input_z = torch.randn(batch_size, z_size)\n",
    "    return input_z\n",
    "\n",
    "\n",
    "from torch.utils.data import DataLoader\n",
    "\n",
    "\n",
    "batch_size = 32\n",
    "dataloader = DataLoader(mnist_dataset, batch_size, shuffle=False)\n",
    "input_real, label = next(iter(dataloader))\n",
    "input_real = input_real.view(batch_size, -1)\n",
    "\n",
    "torch.manual_seed(1)\n",
    "mode_z = 'uniform'  # 'uniform' vs. 'normal'\n",
    "input_z = create_noise(batch_size, z_size, mode_z)\n",
    "\n",
    "print('input-z -- shape:', input_z.shape)\n",
    "print('input-real -- shape:', input_real.shape)\n",
    "\n",
    "g_output = gen_model(input_z)\n",
    "print('Output of G -- shape:', g_output.shape)\n",
    "\n",
    "d_proba_real = disc_model(input_real)\n",
    "d_proba_fake = disc_model(g_output)\n",
    "print('Disc. (real) -- shape:', d_proba_real.shape)\n",
    "print('Disc. (fake) -- shape:', d_proba_fake.shape)"
   ]
  },
  {
   "cell_type": "markdown",
   "id": "63081210",
   "metadata": {},
   "source": [
    "## Training the GAN"
   ]
  },
  {
   "cell_type": "code",
   "execution_count": 7,
   "id": "aed0c755",
   "metadata": {},
   "outputs": [
    {
     "name": "stdout",
     "output_type": "stream",
     "text": [
      "Generator Loss: 0.6944\n",
      "Discriminator Losses: Real 0.7758 Fake 0.6924\n"
     ]
    }
   ],
   "source": [
    "loss_fn = nn.BCELoss()\n",
    "\n",
    "## Loss for the Generator\n",
    "g_labels_real = torch.ones_like(d_proba_fake)\n",
    "g_loss = loss_fn(d_proba_fake, g_labels_real)\n",
    "print(f'Generator Loss: {g_loss:.4f}')\n",
    "\n",
    "## Loss for the Discriminator\n",
    "d_labels_real = torch.ones_like(d_proba_real)\n",
    "d_labels_fake = torch.zeros_like(d_proba_fake)\n",
    "\n",
    "d_loss_real = loss_fn(d_proba_real, d_labels_real)\n",
    "d_loss_fake = loss_fn(d_proba_fake, d_labels_fake)\n",
    "print(f'Discriminator Losses: Real {d_loss_real:.4f} Fake {d_loss_fake:.4f}')"
   ]
  },
  {
   "cell_type": "markdown",
   "id": "cd10b115",
   "metadata": {},
   "source": [
    "## More on training"
   ]
  },
  {
   "cell_type": "code",
   "execution_count": 8,
   "id": "9f6a8443",
   "metadata": {},
   "outputs": [],
   "source": [
    "batch_size = 64\n",
    "\n",
    "torch.manual_seed(1)\n",
    "np.random.seed(1)\n",
    "\n",
    "## Set up the dataset\n",
    "mnist_dl = DataLoader(mnist_dataset, batch_size=batch_size, \n",
    "                      shuffle=True, drop_last=True)\n",
    " \n",
    "## Set up the models\n",
    "gen_model = make_generator_network(\n",
    "    input_size=z_size,\n",
    "    num_hidden_layers=gen_hidden_layers, \n",
    "    num_hidden_units=gen_hidden_size,\n",
    "    num_output_units=np.prod(image_size)).to(device)\n",
    " \n",
    "disc_model = make_discriminator_network(\n",
    "    input_size=np.prod(image_size),\n",
    "    num_hidden_layers=disc_hidden_layers,\n",
    "    num_hidden_units=disc_hidden_size).to(device)\n",
    " \n",
    "## Loss function and optimizers:\n",
    "loss_fn = nn.BCELoss()\n",
    "g_optimizer = torch.optim.Adam(gen_model.parameters())\n",
    "d_optimizer = torch.optim.Adam(disc_model.parameters())\n",
    "\n",
    "## Train the discriminator\n",
    "def d_train(x):\n",
    "    disc_model.zero_grad()\n",
    "\n",
    "    # Train discriminator with a real batch\n",
    "    batch_size = x.size(0)\n",
    "    x = x.view(batch_size, -1).to(device)\n",
    "    d_labels_real = torch.ones(batch_size, 1, device=device)\n",
    "\n",
    "    d_proba_real = disc_model(x)\n",
    "    d_loss_real = loss_fn(d_proba_real, d_labels_real)\n",
    "\n",
    "    # Train discriminator on a fake batch\n",
    "    input_z = create_noise(batch_size, z_size, mode_z).to(device)\n",
    "    g_output = gen_model(input_z)\n",
    "    \n",
    "    d_proba_fake = disc_model(g_output)\n",
    "    d_labels_fake = torch.zeros(batch_size, 1, device=device)\n",
    "    d_loss_fake = loss_fn(d_proba_fake, d_labels_fake)\n",
    "\n",
    "    # gradient backprop & optimize ONLY D's parameters\n",
    "    d_loss = d_loss_real + d_loss_fake\n",
    "    d_loss.backward()\n",
    "    d_optimizer.step()\n",
    "  \n",
    "    return d_loss.data.item(), d_proba_real.detach(), d_proba_fake.detach()\n",
    "\n",
    "## Train the generator\n",
    "def g_train(x):\n",
    "    gen_model.zero_grad()\n",
    "    \n",
    "    batch_size = x.size(0)\n",
    "    input_z = create_noise(batch_size, z_size, mode_z).to(device)\n",
    "    g_labels_real = torch.ones(batch_size, 1, device=device)\n",
    "\n",
    "    g_output = gen_model(input_z)\n",
    "    d_proba_fake = disc_model(g_output)\n",
    "    g_loss = loss_fn(d_proba_fake, g_labels_real)\n",
    "\n",
    "    # gradient backprop & optimize ONLY G's parameters\n",
    "    g_loss.backward()\n",
    "    g_optimizer.step()\n",
    "        \n",
    "    return g_loss.data.item()"
   ]
  },
  {
   "cell_type": "code",
   "execution_count": 9,
   "id": "a56e2cb1",
   "metadata": {},
   "outputs": [
    {
     "name": "stdout",
     "output_type": "stream",
     "text": [
      "Epoch 001 | Avg Losses >> G/D 0.9169/0.8954 [D-Real: 0.8062 D-Fake: 0.4670]\n",
      "Epoch 002 | Avg Losses >> G/D 1.0160/1.0904 [D-Real: 0.6298 D-Fake: 0.4150]\n",
      "Epoch 003 | Avg Losses >> G/D 0.9259/1.2066 [D-Real: 0.5767 D-Fake: 0.4275]\n",
      "Epoch 004 | Avg Losses >> G/D 0.8778/1.2460 [D-Real: 0.5619 D-Fake: 0.4424]\n",
      "Epoch 005 | Avg Losses >> G/D 1.0375/1.1777 [D-Real: 0.5905 D-Fake: 0.4071]\n",
      "Epoch 006 | Avg Losses >> G/D 0.9422/1.2174 [D-Real: 0.5754 D-Fake: 0.4265]\n",
      "Epoch 007 | Avg Losses >> G/D 0.8936/1.2574 [D-Real: 0.5577 D-Fake: 0.4380]\n",
      "Epoch 008 | Avg Losses >> G/D 0.8840/1.2712 [D-Real: 0.5521 D-Fake: 0.4427]\n",
      "Epoch 009 | Avg Losses >> G/D 0.9981/1.1884 [D-Real: 0.5890 D-Fake: 0.4132]\n",
      "Epoch 010 | Avg Losses >> G/D 1.0122/1.1749 [D-Real: 0.5968 D-Fake: 0.4100]\n",
      "Epoch 011 | Avg Losses >> G/D 0.9869/1.1894 [D-Real: 0.5897 D-Fake: 0.4123]\n",
      "Epoch 012 | Avg Losses >> G/D 0.8997/1.2510 [D-Real: 0.5631 D-Fake: 0.4351]\n",
      "Epoch 013 | Avg Losses >> G/D 0.8892/1.2610 [D-Real: 0.5590 D-Fake: 0.4407]\n",
      "Epoch 014 | Avg Losses >> G/D 0.8136/1.3101 [D-Real: 0.5358 D-Fake: 0.4603]\n",
      "Epoch 015 | Avg Losses >> G/D 0.8842/1.2685 [D-Real: 0.5548 D-Fake: 0.4434]\n",
      "Epoch 016 | Avg Losses >> G/D 0.8571/1.2733 [D-Real: 0.5551 D-Fake: 0.4495]\n",
      "Epoch 017 | Avg Losses >> G/D 0.8477/1.2829 [D-Real: 0.5484 D-Fake: 0.4511]\n",
      "Epoch 018 | Avg Losses >> G/D 0.8547/1.2757 [D-Real: 0.5539 D-Fake: 0.4497]\n",
      "Epoch 019 | Avg Losses >> G/D 0.8674/1.2816 [D-Real: 0.5503 D-Fake: 0.4469]\n",
      "Epoch 020 | Avg Losses >> G/D 0.8361/1.2930 [D-Real: 0.5453 D-Fake: 0.4552]\n",
      "Epoch 021 | Avg Losses >> G/D 0.8203/1.3056 [D-Real: 0.5394 D-Fake: 0.4612]\n",
      "Epoch 022 | Avg Losses >> G/D 0.8113/1.3134 [D-Real: 0.5353 D-Fake: 0.4629]\n",
      "Epoch 023 | Avg Losses >> G/D 0.7900/1.3273 [D-Real: 0.5289 D-Fake: 0.4687]\n",
      "Epoch 024 | Avg Losses >> G/D 0.7649/1.3443 [D-Real: 0.5201 D-Fake: 0.4761]\n",
      "Epoch 025 | Avg Losses >> G/D 0.7903/1.3263 [D-Real: 0.5312 D-Fake: 0.4706]\n",
      "Epoch 026 | Avg Losses >> G/D 0.7929/1.3269 [D-Real: 0.5294 D-Fake: 0.4694]\n",
      "Epoch 027 | Avg Losses >> G/D 0.8207/1.3031 [D-Real: 0.5403 D-Fake: 0.4608]\n",
      "Epoch 028 | Avg Losses >> G/D 0.8320/1.2921 [D-Real: 0.5470 D-Fake: 0.4578]\n",
      "Epoch 029 | Avg Losses >> G/D 0.8349/1.2895 [D-Real: 0.5473 D-Fake: 0.4558]\n",
      "Epoch 030 | Avg Losses >> G/D 0.8149/1.3041 [D-Real: 0.5400 D-Fake: 0.4598]\n",
      "Epoch 031 | Avg Losses >> G/D 0.7898/1.3246 [D-Real: 0.5307 D-Fake: 0.4695]\n",
      "Epoch 032 | Avg Losses >> G/D 0.7815/1.3337 [D-Real: 0.5259 D-Fake: 0.4711]\n",
      "Epoch 033 | Avg Losses >> G/D 0.7767/1.3355 [D-Real: 0.5257 D-Fake: 0.4737]\n",
      "Epoch 034 | Avg Losses >> G/D 0.7713/1.3398 [D-Real: 0.5235 D-Fake: 0.4759]\n",
      "Epoch 035 | Avg Losses >> G/D 0.7910/1.3283 [D-Real: 0.5289 D-Fake: 0.4695]\n",
      "Epoch 036 | Avg Losses >> G/D 0.7704/1.3392 [D-Real: 0.5248 D-Fake: 0.4761]\n",
      "Epoch 037 | Avg Losses >> G/D 0.7568/1.3478 [D-Real: 0.5202 D-Fake: 0.4795]\n",
      "Epoch 038 | Avg Losses >> G/D 0.7568/1.3468 [D-Real: 0.5202 D-Fake: 0.4795]\n",
      "Epoch 039 | Avg Losses >> G/D 0.7662/1.3439 [D-Real: 0.5221 D-Fake: 0.4774]\n",
      "Epoch 040 | Avg Losses >> G/D 0.7622/1.3452 [D-Real: 0.5205 D-Fake: 0.4781]\n",
      "Epoch 041 | Avg Losses >> G/D 0.7661/1.3474 [D-Real: 0.5212 D-Fake: 0.4785]\n",
      "Epoch 042 | Avg Losses >> G/D 0.7590/1.3475 [D-Real: 0.5200 D-Fake: 0.4793]\n",
      "Epoch 043 | Avg Losses >> G/D 0.7678/1.3365 [D-Real: 0.5254 D-Fake: 0.4769]\n",
      "Epoch 044 | Avg Losses >> G/D 0.7648/1.3441 [D-Real: 0.5216 D-Fake: 0.4781]\n",
      "Epoch 045 | Avg Losses >> G/D 0.7657/1.3423 [D-Real: 0.5234 D-Fake: 0.4771]\n",
      "Epoch 046 | Avg Losses >> G/D 0.7510/1.3517 [D-Real: 0.5171 D-Fake: 0.4811]\n",
      "Epoch 047 | Avg Losses >> G/D 0.7572/1.3481 [D-Real: 0.5206 D-Fake: 0.4806]\n",
      "Epoch 048 | Avg Losses >> G/D 0.7379/1.3625 [D-Real: 0.5130 D-Fake: 0.4856]\n",
      "Epoch 049 | Avg Losses >> G/D 0.7403/1.3598 [D-Real: 0.5138 D-Fake: 0.4857]\n",
      "Epoch 050 | Avg Losses >> G/D 0.7661/1.3426 [D-Real: 0.5233 D-Fake: 0.4784]\n",
      "Epoch 051 | Avg Losses >> G/D 0.7614/1.3433 [D-Real: 0.5225 D-Fake: 0.4785]\n",
      "Epoch 052 | Avg Losses >> G/D 0.7506/1.3582 [D-Real: 0.5146 D-Fake: 0.4827]\n",
      "Epoch 053 | Avg Losses >> G/D 0.7430/1.3542 [D-Real: 0.5167 D-Fake: 0.4840]\n",
      "Epoch 054 | Avg Losses >> G/D 0.7521/1.3467 [D-Real: 0.5198 D-Fake: 0.4806]\n",
      "Epoch 055 | Avg Losses >> G/D 0.7447/1.3562 [D-Real: 0.5164 D-Fake: 0.4837]\n",
      "Epoch 056 | Avg Losses >> G/D 0.7504/1.3561 [D-Real: 0.5164 D-Fake: 0.4824]\n",
      "Epoch 057 | Avg Losses >> G/D 0.7604/1.3445 [D-Real: 0.5219 D-Fake: 0.4797]\n",
      "Epoch 058 | Avg Losses >> G/D 0.7549/1.3510 [D-Real: 0.5190 D-Fake: 0.4812]\n",
      "Epoch 059 | Avg Losses >> G/D 0.7474/1.3538 [D-Real: 0.5178 D-Fake: 0.4834]\n",
      "Epoch 060 | Avg Losses >> G/D 0.7614/1.3452 [D-Real: 0.5218 D-Fake: 0.4793]\n",
      "Epoch 061 | Avg Losses >> G/D 0.7549/1.3487 [D-Real: 0.5202 D-Fake: 0.4806]\n",
      "Epoch 062 | Avg Losses >> G/D 0.7641/1.3471 [D-Real: 0.5204 D-Fake: 0.4785]\n",
      "Epoch 063 | Avg Losses >> G/D 0.7610/1.3454 [D-Real: 0.5218 D-Fake: 0.4789]\n",
      "Epoch 064 | Avg Losses >> G/D 0.7643/1.3462 [D-Real: 0.5211 D-Fake: 0.4784]\n",
      "Epoch 065 | Avg Losses >> G/D 0.7704/1.3408 [D-Real: 0.5243 D-Fake: 0.4775]\n",
      "Epoch 066 | Avg Losses >> G/D 0.7719/1.3356 [D-Real: 0.5256 D-Fake: 0.4752]\n",
      "Epoch 067 | Avg Losses >> G/D 0.7720/1.3429 [D-Real: 0.5232 D-Fake: 0.4767]\n",
      "Epoch 068 | Avg Losses >> G/D 0.7591/1.3485 [D-Real: 0.5205 D-Fake: 0.4803]\n",
      "Epoch 069 | Avg Losses >> G/D 0.7603/1.3439 [D-Real: 0.5219 D-Fake: 0.4790]\n",
      "Epoch 070 | Avg Losses >> G/D 0.7570/1.3469 [D-Real: 0.5211 D-Fake: 0.4801]\n",
      "Epoch 071 | Avg Losses >> G/D 0.7606/1.3471 [D-Real: 0.5208 D-Fake: 0.4793]\n",
      "Epoch 072 | Avg Losses >> G/D 0.7669/1.3405 [D-Real: 0.5232 D-Fake: 0.4769]\n",
      "Epoch 073 | Avg Losses >> G/D 0.7632/1.3420 [D-Real: 0.5225 D-Fake: 0.4773]\n",
      "Epoch 074 | Avg Losses >> G/D 0.7676/1.3439 [D-Real: 0.5222 D-Fake: 0.4769]\n",
      "Epoch 075 | Avg Losses >> G/D 0.7617/1.3460 [D-Real: 0.5208 D-Fake: 0.4786]\n",
      "Epoch 076 | Avg Losses >> G/D 0.7716/1.3401 [D-Real: 0.5246 D-Fake: 0.4766]\n",
      "Epoch 077 | Avg Losses >> G/D 0.7707/1.3366 [D-Real: 0.5254 D-Fake: 0.4752]\n",
      "Epoch 078 | Avg Losses >> G/D 0.7714/1.3368 [D-Real: 0.5253 D-Fake: 0.4753]\n",
      "Epoch 079 | Avg Losses >> G/D 0.7715/1.3364 [D-Real: 0.5258 D-Fake: 0.4754]\n",
      "Epoch 080 | Avg Losses >> G/D 0.7768/1.3364 [D-Real: 0.5257 D-Fake: 0.4747]\n",
      "Epoch 081 | Avg Losses >> G/D 0.7791/1.3315 [D-Real: 0.5283 D-Fake: 0.4734]\n",
      "Epoch 082 | Avg Losses >> G/D 0.7772/1.3333 [D-Real: 0.5268 D-Fake: 0.4737]\n",
      "Epoch 083 | Avg Losses >> G/D 0.7769/1.3409 [D-Real: 0.5235 D-Fake: 0.4742]\n",
      "Epoch 084 | Avg Losses >> G/D 0.7694/1.3397 [D-Real: 0.5237 D-Fake: 0.4764]\n",
      "Epoch 085 | Avg Losses >> G/D 0.7730/1.3423 [D-Real: 0.5232 D-Fake: 0.4757]\n",
      "Epoch 086 | Avg Losses >> G/D 0.7706/1.3411 [D-Real: 0.5239 D-Fake: 0.4772]\n",
      "Epoch 087 | Avg Losses >> G/D 0.7557/1.3486 [D-Real: 0.5202 D-Fake: 0.4812]\n",
      "Epoch 088 | Avg Losses >> G/D 0.7545/1.3531 [D-Real: 0.5169 D-Fake: 0.4804]\n",
      "Epoch 089 | Avg Losses >> G/D 0.7639/1.3423 [D-Real: 0.5228 D-Fake: 0.4776]\n",
      "Epoch 090 | Avg Losses >> G/D 0.7589/1.3506 [D-Real: 0.5194 D-Fake: 0.4805]\n",
      "Epoch 091 | Avg Losses >> G/D 0.7683/1.3395 [D-Real: 0.5240 D-Fake: 0.4769]\n",
      "Epoch 092 | Avg Losses >> G/D 0.7710/1.3368 [D-Real: 0.5254 D-Fake: 0.4752]\n",
      "Epoch 093 | Avg Losses >> G/D 0.7585/1.3461 [D-Real: 0.5206 D-Fake: 0.4792]\n",
      "Epoch 094 | Avg Losses >> G/D 0.7725/1.3386 [D-Real: 0.5241 D-Fake: 0.4751]\n",
      "Epoch 095 | Avg Losses >> G/D 0.7635/1.3487 [D-Real: 0.5206 D-Fake: 0.4796]\n",
      "Epoch 096 | Avg Losses >> G/D 0.7696/1.3405 [D-Real: 0.5238 D-Fake: 0.4763]\n",
      "Epoch 097 | Avg Losses >> G/D 0.7582/1.3470 [D-Real: 0.5208 D-Fake: 0.4803]\n",
      "Epoch 098 | Avg Losses >> G/D 0.7640/1.3435 [D-Real: 0.5219 D-Fake: 0.4779]\n",
      "Epoch 099 | Avg Losses >> G/D 0.7636/1.3476 [D-Real: 0.5214 D-Fake: 0.4791]\n",
      "Epoch 100 | Avg Losses >> G/D 0.7547/1.3481 [D-Real: 0.5197 D-Fake: 0.4801]\n"
     ]
    }
   ],
   "source": [
    "fixed_z = create_noise(batch_size, z_size, mode_z).to(device)\n",
    "\n",
    "def create_samples(g_model, input_z):\n",
    "    g_output = g_model(input_z)\n",
    "    images = torch.reshape(g_output, (batch_size, *image_size))    \n",
    "    return (images+1)/2.0\n",
    "\n",
    "epoch_samples = []\n",
    "\n",
    "all_d_losses = []\n",
    "all_g_losses = []\n",
    "\n",
    "all_d_real = []\n",
    "all_d_fake = []\n",
    "\n",
    "num_epochs = 100\n",
    "torch.manual_seed(1)\n",
    "for epoch in range(1, num_epochs+1):\n",
    "    d_losses, g_losses = [], []\n",
    "    d_vals_real, d_vals_fake = [], []\n",
    "    for i, (x, _) in enumerate(mnist_dl):\n",
    "        d_loss, d_proba_real, d_proba_fake = d_train(x)\n",
    "        d_losses.append(d_loss)\n",
    "        g_losses.append(g_train(x))\n",
    "        \n",
    "        d_vals_real.append(d_proba_real.mean().cpu())\n",
    "        d_vals_fake.append(d_proba_fake.mean().cpu())\n",
    "        \n",
    "    all_d_losses.append(torch.tensor(d_losses).mean())\n",
    "    all_g_losses.append(torch.tensor(g_losses).mean())\n",
    "    all_d_real.append(torch.tensor(d_vals_real).mean())\n",
    "    all_d_fake.append(torch.tensor(d_vals_fake).mean())\n",
    "    print(f'Epoch {epoch:03d} | Avg Losses >>'\n",
    "          f' G/D {all_g_losses[-1]:.4f}/{all_d_losses[-1]:.4f}'\n",
    "          f' [D-Real: {all_d_real[-1]:.4f} D-Fake: {all_d_fake[-1]:.4f}]')\n",
    "    epoch_samples.append(\n",
    "        create_samples(gen_model, fixed_z).detach().cpu().numpy())"
   ]
  },
  {
   "cell_type": "markdown",
   "id": "dc0d0f3e",
   "metadata": {},
   "source": [
    "## Visualizing"
   ]
  },
  {
   "cell_type": "code",
   "execution_count": 10,
   "id": "689f1d3d",
   "metadata": {},
   "outputs": [
    {
     "data": {
      "image/png": "[encoded data removed]",
      "text/plain": [
       "<Figure size 1600x600 with 2 Axes>"
      ]
     },
     "metadata": {},
     "output_type": "display_data"
    }
   ],
   "source": [
    "import itertools\n",
    "\n",
    "\n",
    "fig = plt.figure(figsize=(16, 6))\n",
    "\n",
    "## Plotting the losses\n",
    "ax = fig.add_subplot(1, 2, 1)\n",
    " \n",
    "plt.plot(all_g_losses, label='Generator loss')\n",
    "half_d_losses = [all_d_loss/2 for all_d_loss in all_d_losses]\n",
    "plt.plot(half_d_losses, label='Discriminator loss')\n",
    "plt.legend(fontsize=20)\n",
    "ax.set_xlabel('Iteration', size=15)\n",
    "ax.set_ylabel('Loss', size=15)\n",
    "\n",
    "## Plotting the outputs of the discriminator\n",
    "ax = fig.add_subplot(1, 2, 2)\n",
    "plt.plot(all_d_real, label=r'Real: $D(\\mathbf{x})$')\n",
    "plt.plot(all_d_fake, label=r'Fake: $D(G(\\mathbf{z}))$')\n",
    "plt.legend(fontsize=20)\n",
    "ax.set_xlabel('Iteration', size=15)\n",
    "ax.set_ylabel('Discriminator output', size=15)\n",
    "\n",
    "#plt.savefig('figures/ch17-gan-learning-curve.pdf')\n",
    "plt.show()"
   ]
  },
  {
   "cell_type": "code",
   "execution_count": 11,
   "id": "98afa091",
   "metadata": {},
   "outputs": [
    {
     "data": {
      "image/png": "[encoded data removed]",
      "text/plain": [
       "<Figure size 1000x1400 with 30 Axes>"
      ]
     },
     "metadata": {},
     "output_type": "display_data"
    }
   ],
   "source": [
    "selected_epochs = [1, 2, 4, 10, 50, 100]\n",
    "fig = plt.figure(figsize=(10, 14))\n",
    "for i,e in enumerate(selected_epochs):\n",
    "    for j in range(5):\n",
    "        ax = fig.add_subplot(6, 5, i*5+j+1)\n",
    "        ax.set_xticks([])\n",
    "        ax.set_yticks([])\n",
    "        if j == 0:\n",
    "            ax.text(\n",
    "                -0.06, 0.5, f'Epoch {e}',\n",
    "                rotation=90, size=18, color='red',\n",
    "                horizontalalignment='right',\n",
    "                verticalalignment='center', \n",
    "                transform=ax.transAxes)\n",
    "        \n",
    "        image = epoch_samples[e-1][j]\n",
    "        ax.imshow(image, cmap='gray_r')\n",
    "    \n",
    "#plt.savefig('figures/ch17-vanila-gan-samples.pdf')\n",
    "plt.show()"
   ]
  },
  {
   "cell_type": "markdown",
   "id": "06a2301d",
   "metadata": {},
   "source": [
    "## Calculating scores"
   ]
  },
  {
   "cell_type": "code",
   "execution_count": 13,
   "id": "5c014405",
   "metadata": {},
   "outputs": [
    {
     "ename": "AssertionError",
     "evalue": "Torch not compiled with CUDA enabled",
     "output_type": "error",
     "traceback": [
      "\u001b[0;31m---------------------------------------------------------------------------\u001b[0m",
      "\u001b[0;31mAssertionError\u001b[0m                            Traceback (most recent call last)",
      "Cell \u001b[0;32mIn[13], line 44\u001b[0m\n\u001b[1;32m     41\u001b[0m whole_dl \u001b[38;5;241m=\u001b[39m DataLoader(mnist_dataset, batch_size\u001b[38;5;241m=\u001b[39m\u001b[38;5;241m10000\u001b[39m, \n\u001b[1;32m     42\u001b[0m                       shuffle\u001b[38;5;241m=\u001b[39m\u001b[38;5;28;01mTrue\u001b[39;00m, drop_last\u001b[38;5;241m=\u001b[39m\u001b[38;5;28;01mTrue\u001b[39;00m) \n\u001b[1;32m     43\u001b[0m real_image \u001b[38;5;241m=\u001b[39m \u001b[38;5;28mnext\u001b[39m(\u001b[38;5;28miter\u001b[39m(whole_dl))[\u001b[38;5;241m0\u001b[39m]\n\u001b[0;32m---> 44\u001b[0m \u001b[43mcompute_score\u001b[49m\u001b[43m(\u001b[49m\u001b[43mtorch\u001b[49m\u001b[38;5;241;43m.\u001b[39;49m\u001b[43mfrom_numpy\u001b[49m\u001b[43m(\u001b[49m\u001b[43mepoch_samples\u001b[49m\u001b[43m[\u001b[49m\u001b[38;5;241;43m-\u001b[39;49m\u001b[38;5;241;43m1\u001b[39;49m\u001b[43m]\u001b[49m\u001b[43m)\u001b[49m\u001b[43m,\u001b[49m\u001b[43m \u001b[49m\u001b[43mreal_image\u001b[49m\u001b[43m)\u001b[49m\n",
      "Cell \u001b[0;32mIn[13], line 34\u001b[0m, in \u001b[0;36mcompute_score\u001b[0;34m(fake, real, k, sigma, sqrt)\u001b[0m\n\u001b[1;32m     32\u001b[0m \u001b[38;5;28;01mdef\u001b[39;00m \u001b[38;5;21mcompute_score\u001b[39m(fake, real , k\u001b[38;5;241m=\u001b[39m\u001b[38;5;241m1\u001b[39m, sigma\u001b[38;5;241m=\u001b[39m\u001b[38;5;241m1\u001b[39m, sqrt\u001b[38;5;241m=\u001b[39m\u001b[38;5;28;01mTrue\u001b[39;00m):\n\u001b[0;32m---> 34\u001b[0m     Mxx \u001b[38;5;241m=\u001b[39m \u001b[43mdistance\u001b[49m\u001b[43m(\u001b[49m\u001b[43mreal\u001b[49m\u001b[43m,\u001b[49m\u001b[43m \u001b[49m\u001b[43mreal\u001b[49m\u001b[43m,\u001b[49m\u001b[43m \u001b[49m\u001b[38;5;28;43;01mFalse\u001b[39;49;00m\u001b[43m)\u001b[49m\n\u001b[1;32m     35\u001b[0m     Mxy \u001b[38;5;241m=\u001b[39m distance(real, fake, \u001b[38;5;28;01mFalse\u001b[39;00m)\n\u001b[1;32m     36\u001b[0m     Myy \u001b[38;5;241m=\u001b[39m distance(fake, fake, \u001b[38;5;28;01mFalse\u001b[39;00m)\n",
      "Cell \u001b[0;32mIn[13], line 7\u001b[0m, in \u001b[0;36mdistance\u001b[0;34m(X, Y, sqrt)\u001b[0m\n\u001b[1;32m      5\u001b[0m nX \u001b[38;5;241m=\u001b[39m X\u001b[38;5;241m.\u001b[39msize(\u001b[38;5;241m0\u001b[39m)\n\u001b[1;32m      6\u001b[0m nY \u001b[38;5;241m=\u001b[39m Y\u001b[38;5;241m.\u001b[39msize(\u001b[38;5;241m0\u001b[39m)\n\u001b[0;32m----> 7\u001b[0m X \u001b[38;5;241m=\u001b[39m \u001b[43mX\u001b[49m\u001b[38;5;241;43m.\u001b[39;49m\u001b[43mview\u001b[49m\u001b[43m(\u001b[49m\u001b[43mnX\u001b[49m\u001b[43m,\u001b[49m\u001b[38;5;241;43m-\u001b[39;49m\u001b[38;5;241;43m1\u001b[39;49m\u001b[43m)\u001b[49m\u001b[38;5;241;43m.\u001b[39;49m\u001b[43mcuda\u001b[49m\u001b[43m(\u001b[49m\u001b[43m)\u001b[49m\n\u001b[1;32m      8\u001b[0m X2 \u001b[38;5;241m=\u001b[39m (X\u001b[38;5;241m*\u001b[39mX)\u001b[38;5;241m.\u001b[39msum(\u001b[38;5;241m1\u001b[39m)\u001b[38;5;241m.\u001b[39mresize_(nX,\u001b[38;5;241m1\u001b[39m)\n\u001b[1;32m      9\u001b[0m Y \u001b[38;5;241m=\u001b[39m Y\u001b[38;5;241m.\u001b[39mview(nY,\u001b[38;5;241m-\u001b[39m\u001b[38;5;241m1\u001b[39m)\u001b[38;5;241m.\u001b[39mcuda()\n",
      "File \u001b[0;32m~/miniforge3/envs/myenv/lib/python3.9/site-packages/torch/cuda/__init__.py:293\u001b[0m, in \u001b[0;36m_lazy_init\u001b[0;34m()\u001b[0m\n\u001b[1;32m    288\u001b[0m     \u001b[38;5;28;01mraise\u001b[39;00m \u001b[38;5;167;01mRuntimeError\u001b[39;00m(\n\u001b[1;32m    289\u001b[0m         \u001b[38;5;124m\"\u001b[39m\u001b[38;5;124mCannot re-initialize CUDA in forked subprocess. To use CUDA with \u001b[39m\u001b[38;5;124m\"\u001b[39m\n\u001b[1;32m    290\u001b[0m         \u001b[38;5;124m\"\u001b[39m\u001b[38;5;124mmultiprocessing, you must use the \u001b[39m\u001b[38;5;124m'\u001b[39m\u001b[38;5;124mspawn\u001b[39m\u001b[38;5;124m'\u001b[39m\u001b[38;5;124m start method\u001b[39m\u001b[38;5;124m\"\u001b[39m\n\u001b[1;32m    291\u001b[0m     )\n\u001b[1;32m    292\u001b[0m \u001b[38;5;28;01mif\u001b[39;00m \u001b[38;5;129;01mnot\u001b[39;00m \u001b[38;5;28mhasattr\u001b[39m(torch\u001b[38;5;241m.\u001b[39m_C, \u001b[38;5;124m\"\u001b[39m\u001b[38;5;124m_cuda_getDeviceCount\u001b[39m\u001b[38;5;124m\"\u001b[39m):\n\u001b[0;32m--> 293\u001b[0m     \u001b[38;5;28;01mraise\u001b[39;00m \u001b[38;5;167;01mAssertionError\u001b[39;00m(\u001b[38;5;124m\"\u001b[39m\u001b[38;5;124mTorch not compiled with CUDA enabled\u001b[39m\u001b[38;5;124m\"\u001b[39m)\n\u001b[1;32m    294\u001b[0m \u001b[38;5;28;01mif\u001b[39;00m _cudart \u001b[38;5;129;01mis\u001b[39;00m \u001b[38;5;28;01mNone\u001b[39;00m:\n\u001b[1;32m    295\u001b[0m     \u001b[38;5;28;01mraise\u001b[39;00m \u001b[38;5;167;01mAssertionError\u001b[39;00m(\n\u001b[1;32m    296\u001b[0m         \u001b[38;5;124m\"\u001b[39m\u001b[38;5;124mlibcudart functions unavailable. It looks like you have a broken build?\u001b[39m\u001b[38;5;124m\"\u001b[39m\n\u001b[1;32m    297\u001b[0m     )\n",
      "\u001b[0;31mAssertionError\u001b[0m: Torch not compiled with CUDA enabled"
     ]
    }
   ],
   "source": [
    "import math\n",
    "\n",
    "\n",
    "def distance(X, Y, sqrt):\n",
    "    nX = X.size(0)\n",
    "    nY = Y.size(0)\n",
    "    X = X.view(nX,-1).cuda()\n",
    "    X2 = (X*X).sum(1).resize_(nX,1)\n",
    "    Y = Y.view(nY,-1).cuda()\n",
    "    Y2 = (Y*Y).sum(1).resize_(nY,1)\n",
    "\n",
    "    M = torch.zeros(nX, nY)\n",
    "    M.copy_(X2.expand(nX,nY) + Y2.expand(nY,nX).transpose(0,1) - 2*torch.mm(X,Y.transpose(0,1)))\n",
    "\n",
    "    del X, X2, Y, Y2\n",
    "    \n",
    "    if sqrt:\n",
    "        M = ((M+M.abs())/2).sqrt()\n",
    "    \n",
    "    return M\n",
    "\n",
    "def mmd(Mxx, Mxy, Myy, sigma) :\n",
    "    scale = Mxx.mean()\n",
    "    Mxx = torch.exp(-Mxx/(scale*2*sigma*sigma))\n",
    "    Mxy = torch.exp(-Mxy/(scale*2*sigma*sigma))\n",
    "    Myy = torch.exp(-Myy/(scale*2*sigma*sigma))\n",
    "    a = Mxx.mean()+Myy.mean()-2*Mxy.mean()\n",
    "    mmd = math.sqrt(max(a, 0))\n",
    "\n",
    "    return mmd\n",
    "\n",
    "def compute_score(fake, real , k=1, sigma=1, sqrt=True):\n",
    "\n",
    "    Mxx = distance(real, real, False)\n",
    "    Mxy = distance(real, fake, False)\n",
    "    Myy = distance(fake, fake, False)\n",
    "\n",
    " \n",
    "    print(mmd(Mxx, Mxy, Myy, sigma))\n",
    "\n",
    "whole_dl = DataLoader(mnist_dataset, batch_size=10000, \n",
    "                      shuffle=True, drop_last=True) \n",
    "real_image = next(iter(whole_dl))[0]\n",
    "compute_score(torch.from_numpy(epoch_samples[-1]), real_image)"
   ]
  },
  {
   "cell_type": "markdown",
   "id": "6507897b",
   "metadata": {},
   "source": [
    "## Diffusion models, basics\n",
    "\n",
    "Diffusion models are inspired by non-equilibrium thermodynamics. They\n",
    "define a Markov chain of diffusion steps to slowly add random noise to\n",
    "data and then learn to reverse the diffusion process to construct\n",
    "desired data samples from the noise. Unlike VAE or flow models,\n",
    "diffusion models are learned with a fixed procedure and the latent\n",
    "variable has high dimensionality (same as the original data)."
   ]
  },
  {
   "cell_type": "markdown",
   "id": "441fdce2",
   "metadata": {},
   "source": [
    "## Problems with probabilistic models\n",
    "\n",
    "Historically, probabilistic models suffer from a tradeoff between two\n",
    "conflicting objectives: \\textit{tractability} and\n",
    "\\textit{flexibility}. Models that are \\textit{tractable} can be\n",
    "analytically evaluated and easily fit to data (e.g. a Gaussian or\n",
    "Laplace). However, these models are unable to aptly describe structure\n",
    "in rich datasets. On the other hand, models that are \\textit{flexible}\n",
    "can be molded to fit structure in arbitrary data. For example, we can\n",
    "define models in terms of any (non-negative) function $\\phi(\\boldsymbol{x})$\n",
    "yielding the flexible distribution $p\\left(\\boldsymbol{x}\\right) =\n",
    "\\frac{\\phi\\left(\\boldsymbol{x} \\right)}{Z}$, where $Z$ is a normalization\n",
    "constant. However, computing this normalization constant is generally\n",
    "intractable. Evaluating, training, or drawing samples from such\n",
    "flexible models typically requires a very expensive Monte Carlo\n",
    "process."
   ]
  },
  {
   "cell_type": "markdown",
   "id": "2eeb55a6",
   "metadata": {},
   "source": [
    "## Diffusion models\n",
    "Diffusion models have several interesting features\n",
    "* extreme flexibility in model structure,\n",
    "\n",
    "* exact sampling,\n",
    "\n",
    "* easy multiplication with other distributions, e.g. in order to compute a posterior, and\n",
    "\n",
    "* the model log likelihood, and the probability of individual states, to be cheaply evaluated."
   ]
  },
  {
   "cell_type": "markdown",
   "id": "dd96ded0",
   "metadata": {},
   "source": [
    "## Original idea\n",
    "\n",
    "In the original formulation, one uses a Markov chain to gradually\n",
    "convert one distribution into another, an idea used in non-equilibrium\n",
    "statistical physics and sequential Monte Carlo. Diffusion models build\n",
    "a generative Markov chain which converts a simple known distribution\n",
    "(e.g. a Gaussian) into a target (data) distribution using a diffusion\n",
    "process. Rather than use this Markov chain to approximately evaluate a\n",
    "model which has been otherwise defined, one can  explicitly define the\n",
    "probabilistic model as the endpoint of the Markov chain. Since each\n",
    "step in the diffusion chain has an analytically evaluable probability,\n",
    "the full chain can also be analytically evaluated."
   ]
  },
  {
   "cell_type": "markdown",
   "id": "5b5f9d3b",
   "metadata": {},
   "source": [
    "## Diffusion learning\n",
    "\n",
    "Learning in this framework involves estimating small perturbations to\n",
    "a diffusion process. Estimating small, analytically tractable,\n",
    "perturbations is more tractable than explicitly describing the full\n",
    "distribution with a single, non-analytically-normalizable, potential\n",
    "function.  Furthermore, since a diffusion process exists for any\n",
    "smooth target distribution, this method can capture data distributions\n",
    "of arbitrary form."
   ]
  }
 ],
 "metadata": {
  "kernelspec": {
   "display_name": "Python 3 (ipykernel)",
   "language": "python",
   "name": "python3"
  },
  "language_info": {
   "codemirror_mode": {
    "name": "ipython",
    "version": 3
   },
   "file_extension": ".py",
   "mimetype": "text/x-python",
   "name": "python",
   "nbconvert_exporter": "python",
   "pygments_lexer": "ipython3",
   "version": "3.9.18"
  }
 },
 "nbformat": 4,
 "nbformat_minor": 5
}
