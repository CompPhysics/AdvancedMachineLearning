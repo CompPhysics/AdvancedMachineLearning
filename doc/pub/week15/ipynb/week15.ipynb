{
 "cells": [
  {
   "cell_type": "markdown",
   "id": "4c6b7a77",
   "metadata": {
    "editable": true
   },
   "source": [
    "<!-- HTML file automatically generated from DocOnce source (https://github.com/doconce/doconce/)\n",
    "doconce format html week15.do.txt --no_mako -->\n",
    "<!-- dom:TITLE: Advanced machine learning and data analysis for the physical sciences -->"
   ]
  },
  {
   "cell_type": "markdown",
   "id": "51b1fc98",
   "metadata": {
    "editable": true
   },
   "source": [
    "# Advanced machine learning and data analysis for the physical sciences\n",
    "**Morten Hjorth-Jensen**, Department of Physics and Center for Computing in Science Education, University of Oslo, Norway\n",
    "\n",
    "Date: **May 8, 2025**"
   ]
  },
  {
   "cell_type": "markdown",
   "id": "38009d0e",
   "metadata": {
    "editable": true
   },
   "source": [
    "## Plans for the week of May 5-9, 2025\n",
    "\n",
    "**Deep generative models.**\n",
    "\n",
    "1. Mathematics of diffusion models and selected examples"
   ]
  },
  {
   "cell_type": "markdown",
   "id": "98ef1659",
   "metadata": {
    "editable": true
   },
   "source": [
    "## Readings\n",
    "\n",
    "**Reading on diffusion models.**\n",
    "\n",
    "1. A central paper is the one by Sohl-Dickstein et al, Deep Unsupervised Learning using Nonequilibrium Thermodynamics, <https://arxiv.org/abs/1503.03585>\n",
    "\n",
    "2. Calvin Luo at <https://arxiv.org/abs/2208.11970>\n",
    "\n",
    "3. See also Diederik P. Kingma, Tim Salimans, Ben Poole, Jonathan Ho, Variational Diffusion Models, <https://arxiv.org/abs/2107.00630>\n",
    "\n",
    "4. See also David Foster *Generative Deep Learning*, chapter 8 on diffusion models."
   ]
  },
  {
   "cell_type": "markdown",
   "id": "aead386a",
   "metadata": {
    "editable": true
   },
   "source": [
    "## Diffusion models, basics\n",
    "\n",
    "Diffusion models are inspired by non-equilibrium thermodynamics. They\n",
    "define a Markov chain of diffusion steps to slowly add random noise to\n",
    "data and then learn to reverse the diffusion process to construct\n",
    "desired data samples from the noise. Unlike VAE or flow models,\n",
    "diffusion models are learned with a fixed procedure and the latent\n",
    "variable has high dimensionality (same as the original data)."
   ]
  },
  {
   "cell_type": "markdown",
   "id": "4dea0148",
   "metadata": {
    "editable": true
   },
   "source": [
    "## Why diffusion models?\n",
    "\n",
    "Diffusion models are prominent in generating high-quality images,\n",
    "video, sound, etc. They are named for their similarity to the natural\n",
    "diffusion process in physics, which describes how molecules move from\n",
    "high-concentration to low-concentration areas. In the context of\n",
    "machine learning, diffusion models generate new data by reversing a\n",
    "diffusion process, that is information loss due to noise\n",
    "intervention. The main idea here is to add random noise to data and\n",
    "then undo the process to get the original data distribution from the\n",
    "noisy data.\n",
    "\n",
    "The famous DALL-E 2, Midjourney, and open-source Stable Diffusion that\n",
    "create realistic images based on the user's text input are all\n",
    "examples of diffusion models."
   ]
  },
  {
   "cell_type": "markdown",
   "id": "150b34a6",
   "metadata": {
    "editable": true
   },
   "source": [
    "## What are diffusion models?\n",
    "\n",
    "Diffusion models are advanced machine learning algorithms that\n",
    "uniquely generate high-quality data by progressively adding noise to a\n",
    "dataset and then learning to reverse this process. This innovative\n",
    "approach enables them to create remarkably accurate and detailed\n",
    "outputs, from lifelike images to coherent text sequences. Central to\n",
    "their function is the concept of gradually degrading data quality,\n",
    "only to reconstruct it to its original form or transform it into\n",
    "something new. This technique enhances the fidelity of generated data\n",
    "and offers new possibilities in areas like medical imaging, autonomous\n",
    "vehicles, and personalized AI assistants."
   ]
  },
  {
   "cell_type": "markdown",
   "id": "fd29453b",
   "metadata": {
    "editable": true
   },
   "source": [
    "## Problems with probabilistic models\n",
    "\n",
    "Historically, probabilistic models suffer from a tradeoff between two\n",
    "conflicting objectives: \\textit{tractability} and\n",
    "\\textit{flexibility}. Models that are \\textit{tractable} can be\n",
    "analytically evaluated and easily fit to data (e.g. a Gaussian or\n",
    "Laplace). However, these models are unable to aptly describe structure\n",
    "in rich datasets. On the other hand, models that are \\textit{flexible}\n",
    "can be molded to fit structure in arbitrary data. For example, we can\n",
    "define models in terms of any (non-negative) function $\\phi(\\boldsymbol{x})$\n",
    "yielding the flexible distribution $p\\left(\\boldsymbol{x}\\right) =\n",
    "\\frac{\\phi\\left(\\boldsymbol{x} \\right)}{Z}$, where $Z$ is a normalization\n",
    "constant. However, computing this normalization constant is generally\n",
    "intractable. Evaluating, training, or drawing samples from such\n",
    "flexible models typically requires a very expensive Monte Carlo\n",
    "process."
   ]
  },
  {
   "cell_type": "markdown",
   "id": "9c331bf4",
   "metadata": {
    "editable": true
   },
   "source": [
    "## Diffusion models\n",
    "Diffusion models have several interesting features\n",
    "* extreme flexibility in model structure,\n",
    "\n",
    "* exact sampling,\n",
    "\n",
    "* easy multiplication with other distributions, e.g. in order to compute a posterior, and\n",
    "\n",
    "* the model log likelihood, and the probability of individual states, to be cheaply evaluated."
   ]
  },
  {
   "cell_type": "markdown",
   "id": "c5fce9af",
   "metadata": {
    "editable": true
   },
   "source": [
    "## Original idea\n",
    "\n",
    "In the original formulation, one uses a Markov chain to gradually\n",
    "convert one distribution into another, an idea used in non-equilibrium\n",
    "statistical physics and sequential Monte Carlo. Diffusion models build\n",
    "a generative Markov chain which converts a simple known distribution\n",
    "(e.g. a Gaussian) into a target (data) distribution using a diffusion\n",
    "process. Rather than use this Markov chain to approximately evaluate a\n",
    "model which has been otherwise defined, one can  explicitly define the\n",
    "probabilistic model as the endpoint of the Markov chain. Since each\n",
    "step in the diffusion chain has an analytically evaluable probability,\n",
    "the full chain can also be analytically evaluated."
   ]
  },
  {
   "cell_type": "markdown",
   "id": "b548f8bb",
   "metadata": {
    "editable": true
   },
   "source": [
    "## Diffusion learning\n",
    "\n",
    "Learning in this framework involves estimating small perturbations to\n",
    "a diffusion process. Estimating small, analytically tractable,\n",
    "perturbations is more tractable than explicitly describing the full\n",
    "distribution with a single, non-analytically-normalizable, potential\n",
    "function.  Furthermore, since a diffusion process exists for any\n",
    "smooth target distribution, this method can capture data distributions\n",
    "of arbitrary form."
   ]
  },
  {
   "cell_type": "markdown",
   "id": "b4a8444c",
   "metadata": {
    "editable": true
   },
   "source": [
    "## How diffusion models work\n",
    "\n",
    "Diffusion models work in a dual-phase mechanism: They first train a\n",
    "neural network to introduce noise into the dataset(a staple in the\n",
    "forward diffusion process) and then methodically reverse this\n",
    "process."
   ]
  },
  {
   "cell_type": "markdown",
   "id": "e6367fd1",
   "metadata": {
    "editable": true
   },
   "source": [
    "## Data preprocessing\n",
    "\n",
    "Before the diffusion process begins, data needs to be appropriately\n",
    "formatted for model training. This process involves data cleaning to\n",
    "remove outliers, data normalization to scale features consistently,\n",
    "and data augmentation to increase dataset diversity, especially in the\n",
    "case of image data. Standardization is also applied to achieve normal\n",
    "data distribution, which is important for handling noisy image\n",
    "data. Different data types, such as text or images, may require\n",
    "specific preprocessing steps, like addressing class-imbalance\n",
    "issues. Well-executed data processing ensures high-quality training\n",
    "data and contributes to the model's ability to learn meaningful\n",
    "patterns and generate high-quality images (or other data types) during\n",
    "inference."
   ]
  },
  {
   "cell_type": "markdown",
   "id": "3a07d53f",
   "metadata": {
    "editable": true
   },
   "source": [
    "## Mathematics of diffusion models\n",
    "\n",
    "Let us go back our discussions of the variational autoencoders from the lecture of April 24, see\n",
    "<https://github.com/CompPhysics/AdvancedMachineLearning/blob/main/doc/pub/week14/ipynb/week14.ipynb>. As\n",
    "a first attempt at understanding diffusion models, we can think of\n",
    "these as stacked VAEs, or better, recursive VAEs.\n",
    "\n",
    "Let us try to see why. As an intermediate step, we consider so-called\n",
    "hierarchical VAEs, which can be seen as a generalization of VAEs that\n",
    "include multiple hierarchies of latent spaces.\n",
    "\n",
    "**Note**: Many of the derivations and figures here are inspired and borrowed from the excellent exposition of diffusion models by Calvin Luo at <https://arxiv.org/abs/2208.11970>."
   ]
  },
  {
   "cell_type": "markdown",
   "id": "bc36fb55",
   "metadata": {
    "editable": true
   },
   "source": [
    "## Chains of VAEs\n",
    "\n",
    "Markovian\n",
    "VAEs represent a  generative process where we use  Markov chain to build a hierarchy of VAEs.\n",
    "\n",
    "Each transition down the hierarchy is Markovian, where we decode each\n",
    "latent set of variables $\\boldsymbol{h}_t$ in terms of the previous latent variable $\\boldsymbol{h}_{t-1}$.\n",
    "Intuitively, and visually, this can be seen as simply stacking VAEs on\n",
    "top of each other (see figure next slide).\n",
    "\n",
    "One can think of such a model as a recursive VAE."
   ]
  },
  {
   "cell_type": "markdown",
   "id": "eb799f0c",
   "metadata": {
    "editable": true
   },
   "source": [
    "## Mathematical representation\n",
    "\n",
    "Mathematically, we represent the joint distribution and the posterior\n",
    "of a Markovian VAE as"
   ]
  },
  {
   "cell_type": "markdown",
   "id": "c41a894b",
   "metadata": {
    "editable": true
   },
   "source": [
    "$$\n",
    "\\begin{align*}\n",
    "    p(\\boldsymbol{x}, \\boldsymbol{h}_{1:T}) &= p(\\boldsymbol{h}_T)p_{\\boldsymbol{\\theta}}(\\boldsymbol{x}|\\boldsymbol{h}_1)\\prod_{t=2}^{T}p_{\\boldsymbol{\\theta}}(\\boldsymbol{h}_{t-1}|\\boldsymbol{h}_{t})\\\\\n",
    "    q_{\\boldsymbol{\\phi}}(\\boldsymbol{h}_{1:T}|\\boldsymbol{x}) &= q_{\\boldsymbol{\\phi}}(\\boldsymbol{h}_1|\\boldsymbol{x})\\prod_{t=2}^{T}q_{\\boldsymbol{\\phi}}(\\boldsymbol{h}_{t}|\\boldsymbol{h}_{t-1})\n",
    "\\end{align*}\n",
    "$$"
   ]
  },
  {
   "cell_type": "markdown",
   "id": "6a14b68c",
   "metadata": {
    "editable": true
   },
   "source": [
    "## Back to the marginal probability\n",
    "\n",
    "We can then define the marginal probability we want to optimize as"
   ]
  },
  {
   "cell_type": "markdown",
   "id": "e60a85d7",
   "metadata": {
    "editable": true
   },
   "source": [
    "$$\n",
    "\\begin{align*}\n",
    "\\log p(\\boldsymbol{x}) &= \\log \\int p(\\boldsymbol{x}, \\boldsymbol{h}_{1:T}) d\\boldsymbol{h}_{1:T}  \\\\\n",
    "&= \\log \\int \\frac{p(\\boldsymbol{x}, \\boldsymbol{h}_{1:T})q_{\\boldsymbol{\\phi}}(\\boldsymbol{h}_{1:T}|\\boldsymbol{x})}{q_{\\boldsymbol{\\phi}}(\\boldsymbol{h}_{1:T}|\\boldsymbol{x})} d\\boldsymbol{h}_{1:T}         && \\text{(Multiply by 1 = $\\frac{q_{\\boldsymbol{\\phi}}(\\boldsymbol{h}_{1:T}|\\boldsymbol{x})}{q_{\\boldsymbol{\\phi}}(\\boldsymbol{h}_{1:T}|\\boldsymbol{x})}$)}\\\\\n",
    "&= \\log \\mathbb{E}_{q_{\\boldsymbol{\\phi}}(\\boldsymbol{h}_{1:T}|\\boldsymbol{x})}\\left[\\frac{p(\\boldsymbol{x}, \\boldsymbol{h}_{1:T})}{q_{\\boldsymbol{\\phi}}(\\boldsymbol{h}_{1:T}|\\boldsymbol{x})}\\right]         && \\text{(Definition of Expectation)}\\\\\n",
    "&\\geq \\mathbb{E}_{q_{\\boldsymbol{\\phi}}(\\boldsymbol{h}_{1:T}|\\boldsymbol{x})}\\left[\\log \\frac{p(\\boldsymbol{x}, \\boldsymbol{h}_{1:T})}{q_{\\boldsymbol{\\phi}}(\\boldsymbol{h}_{1:T}|\\boldsymbol{x})}\\right]         && \\text{(Discussed last week)}\n",
    "\\end{align*}\n",
    "$$"
   ]
  },
  {
   "cell_type": "markdown",
   "id": "81a90caf",
   "metadata": {
    "editable": true
   },
   "source": [
    "## Diffusion models for hierarchical VAE, from <https://arxiv.org/abs/2208.11970>\n",
    "\n",
    "A Markovian hierarchical Variational Autoencoder with $T$ hierarchical\n",
    "latents.  The generative process is modeled as a Markov chain, where\n",
    "each latent $\\boldsymbol{h}_t$ is generated only from the previous latent\n",
    "$\\boldsymbol{h}_{t+1}$. Here $\\boldsymbol{z}$ is our latent variable $\\boldsymbol{h}$.\n",
    "\n",
    "<!-- dom:FIGURE: [figures/figure1.png, width=800 frac=1.0] -->\n",
    "<!-- begin figure -->\n",
    "\n",
    "<img src=\"figures/figure1.png\" width=\"800\"><p style=\"font-size: 0.9em\"><i>Figure 1: </i></p>\n",
    "<!-- end figure -->"
   ]
  },
  {
   "cell_type": "markdown",
   "id": "875421ce",
   "metadata": {
    "editable": true
   },
   "source": [
    "## Equation for the Markovian hierarchical VAE\n",
    "\n",
    "We obtain then"
   ]
  },
  {
   "cell_type": "markdown",
   "id": "6e517448",
   "metadata": {
    "editable": true
   },
   "source": [
    "$$\n",
    "\\begin{align*}\n",
    "\\mathbb{E}_{q_{\\boldsymbol{\\phi}}(\\boldsymbol{h}_{1:T}|\\boldsymbol{x})}\\left[\\log \\frac{p(\\boldsymbol{x}, \\boldsymbol{h}_{1:T})}{q_{\\boldsymbol{\\phi}}(\\boldsymbol{h}_{1:T}|\\boldsymbol{x})}\\right]\n",
    "&= \\mathbb{E}_{q_{\\boldsymbol{\\phi}}(\\boldsymbol{h}_{1:T}|\\boldsymbol{x})}\\left[\\log \\frac{p(\\boldsymbol{h}_T)p_{\\boldsymbol{\\theta}}(\\boldsymbol{x}|\\boldsymbol{h}_1)\\prod_{t=2}^{T}p_{\\boldsymbol{\\theta}}(\\boldsymbol{h}_{t-1}|\\boldsymbol{h}_{t})}{q_{\\boldsymbol{\\phi}}(\\boldsymbol{h}_1|\\boldsymbol{x})\\prod_{t=2}^{T}q_{\\boldsymbol{\\phi}}(\\boldsymbol{h}_{t}|\\boldsymbol{h}_{t-1})}\\right]\n",
    "\\end{align*}\n",
    "$$"
   ]
  },
  {
   "cell_type": "markdown",
   "id": "aa96a8cf",
   "metadata": {
    "editable": true
   },
   "source": [
    "We will modify this equation when we discuss what are normally called Variational Diffusion Models."
   ]
  },
  {
   "cell_type": "markdown",
   "id": "3761bfe1",
   "metadata": {
    "editable": true
   },
   "source": [
    "## Variational Diffusion Models\n",
    "\n",
    "The easiest way to think of a Variational Diffusion Model (VDM) is as a Markovian Hierarchical Variational Autoencoder with three key restrictions:\n",
    "\n",
    "1. The latent dimension is exactly equal to the data dimension\n",
    "\n",
    "2. The structure of the latent encoder at each timestep is not learned; it is pre-defined as a linear Gaussian model.  In other words, it is a Gaussian distribution centered around the output of the previous timestep\n",
    "\n",
    "3. The Gaussian parameters of the latent encoders vary over time in such a way that the distribution of the latent at final timestep $T$ is a standard Gaussian\n",
    "\n",
    "The VDM posterior is"
   ]
  },
  {
   "cell_type": "markdown",
   "id": "4b3d531a",
   "metadata": {
    "editable": true
   },
   "source": [
    "$$\n",
    "\\begin{align*}\n",
    "    q(\\boldsymbol{x}_{1:T}|\\boldsymbol{x}_0) = \\prod_{t = 1}^{T}q(\\boldsymbol{x}_{t}|\\boldsymbol{x}_{t-1})\n",
    "\\end{align*}\n",
    "$$"
   ]
  },
  {
   "cell_type": "markdown",
   "id": "8fe62a81",
   "metadata": {
    "editable": true
   },
   "source": [
    "## Second assumption\n",
    "\n",
    "The distribution of each latent variable in the encoder is a Gaussian centered around its previous hierarchical latent.\n",
    "Here then, the structure of the encoder at each timestep $t$ is not learned; it\n",
    "is fixed as a linear Gaussian model, where the mean and standard\n",
    "deviation can be set beforehand as hyperparameters, or learned as\n",
    "parameters."
   ]
  },
  {
   "cell_type": "markdown",
   "id": "e838246e",
   "metadata": {
    "editable": true
   },
   "source": [
    "## Parameterizing Gaussian encoder\n",
    "\n",
    "We parameterize the Gaussian encoder with mean $\\boldsymbol{\\mu}_t(\\boldsymbol{x}_t) =\n",
    "\\sqrt{\\alpha_t} \\boldsymbol{x}_{t-1}$, and variance $\\boldsymbol{\\Sigma}_t(\\boldsymbol{x}_t) =\n",
    "(1 - \\alpha_t) \\textbf{I}$, where the form of the coefficients are\n",
    "chosen such that the variance of the latent variables stay at a\n",
    "similar scale; in other words, the encoding process is\n",
    "variance-preserving.\n",
    "\n",
    "Note that alternate Gaussian parameterizations\n",
    "are allowed, and lead to similar derivations.  The main takeaway is\n",
    "that $\\alpha_t$ is a (potentially learnable) coefficient that can vary\n",
    "with the hierarchical depth $t$, for flexibility."
   ]
  },
  {
   "cell_type": "markdown",
   "id": "607c5164",
   "metadata": {
    "editable": true
   },
   "source": [
    "## Encoder transitions\n",
    "\n",
    "Mathematically, the encoder transitions are defined as"
   ]
  },
  {
   "cell_type": "markdown",
   "id": "34e231fc",
   "metadata": {
    "editable": true
   },
   "source": [
    "<!-- Equation labels as ordinary links -->\n",
    "<div id=\"eq:27\"></div>\n",
    "\n",
    "$$\n",
    "\\begin{align*}\n",
    "    q(\\boldsymbol{x}_{t}|\\boldsymbol{x}_{t-1}) = \\mathcal{N}(\\boldsymbol{x}_{t} ; \\sqrt{\\alpha_t} \\boldsymbol{x}_{t-1}, (1 - \\alpha_t) \\textbf{I}) \\label{eq:27} \\tag{1}\n",
    "\\end{align*}\n",
    "$$"
   ]
  },
  {
   "cell_type": "markdown",
   "id": "11ad9c0d",
   "metadata": {
    "editable": true
   },
   "source": [
    "## Third assumption\n",
    "\n",
    "From the third assumption, we know that $\\alpha_t$ evolves over time\n",
    "according to a fixed or learnable schedule structured such that the\n",
    "distribution of the final latent $p(\\boldsymbol{x}_T)$ is a standard Gaussian.\n",
    "We can then update the joint distribution of a Markovian VAE to write\n",
    "the joint distribution for a VDM as"
   ]
  },
  {
   "cell_type": "markdown",
   "id": "fd6d2809",
   "metadata": {
    "editable": true
   },
   "source": [
    "$$\n",
    "\\begin{align*}\n",
    "p(\\boldsymbol{x}_{0:T}) &= p(\\boldsymbol{x}_T)\\prod_{t=1}^{T}p_{\\boldsymbol{\\theta}}(\\boldsymbol{x}_{t-1}|\\boldsymbol{x}_t) \\\\\n",
    "\\text{where,}&\\nonumber\\\\\n",
    "p(\\boldsymbol{x}_T) &= \\mathcal{N}(\\boldsymbol{x}_T; \\boldsymbol{0}, \\textbf{I})\n",
    "\\end{align*}\n",
    "$$"
   ]
  },
  {
   "cell_type": "markdown",
   "id": "35960373",
   "metadata": {
    "editable": true
   },
   "source": [
    "## Noisification\n",
    "\n",
    "Collectively, what this set of assumptions describes is a steady\n",
    "noisification of an image input over time. We progressively corrupt an\n",
    "image by adding Gaussian noise until eventually it becomes completely\n",
    "identical to pure Gaussian noise.  See figure on next slide."
   ]
  },
  {
   "cell_type": "markdown",
   "id": "824273f2",
   "metadata": {
    "editable": true
   },
   "source": [
    "## Diffusion models, from <https://arxiv.org/abs/2208.11970>\n",
    "\n",
    "<!-- dom:FIGURE: [figures/figure2.png, width=800 frac=1.0] -->\n",
    "<!-- begin figure -->\n",
    "\n",
    "<img src=\"figures/figure2.png\" width=\"800\"><p style=\"font-size: 0.9em\"><i>Figure 1: </i></p>\n",
    "<!-- end figure -->"
   ]
  },
  {
   "cell_type": "markdown",
   "id": "caeaac11",
   "metadata": {
    "editable": true
   },
   "source": [
    "## Gaussian modeling\n",
    "\n",
    "Note that our encoder distributions $q(\\boldsymbol{x}_t|\\boldsymbol{x}_{t-1})$ are no\n",
    "longer parameterized by $\\boldsymbol{\\phi}$, as they are completely modeled as\n",
    "Gaussians with defined mean and variance parameters at each timestep.\n",
    "Therefore, in a VDM, we are only interested in learning conditionals\n",
    "$p_{\\boldsymbol{\\theta}}(\\boldsymbol{x}_{t-1}|\\boldsymbol{x}_{t})$, so that we can simulate\n",
    "new data.  After optimizing the VDM, the sampling procedure is as\n",
    "simple as sampling Gaussian noise from $p(\\boldsymbol{x}_T)$ and iteratively\n",
    "running the denoising transitions\n",
    "$p_{\\boldsymbol{\\theta}}(\\boldsymbol{x}_{t-1}|\\boldsymbol{x}_{t})$ for $T$ steps to generate a\n",
    "novel $\\boldsymbol{x}_0$."
   ]
  },
  {
   "cell_type": "markdown",
   "id": "9578dbaa",
   "metadata": {
    "editable": true
   },
   "source": [
    "## Optimizing the variational diffusion model"
   ]
  },
  {
   "cell_type": "markdown",
   "id": "2c571946",
   "metadata": {
    "editable": true
   },
   "source": [
    "$$\n",
    "\\begin{align*}\n",
    "\\log p(\\boldsymbol{x})\n",
    "&= \\log \\int p(\\boldsymbol{x}_{0:T}) d\\boldsymbol{x}_{1:T}\\\\\n",
    "&= \\log \\int \\frac{p(\\boldsymbol{x}_{0:T})q(\\boldsymbol{x}_{1:T}|\\boldsymbol{x}_0)}{q(\\boldsymbol{x}_{1:T}|\\boldsymbol{x}_0)} d\\boldsymbol{x}_{1:T}\\\\\n",
    "&= \\log \\mathbb{E}_{q(\\boldsymbol{x}_{1:T}|\\boldsymbol{x}_0)}\\left[\\frac{p(\\boldsymbol{x}_{0:T})}{q(\\boldsymbol{x}_{1:T}|\\boldsymbol{x}_0)}\\right]\\\\\n",
    "&\\geq {\\mathbb{E}_{q(\\boldsymbol{x}_{1:T}|\\boldsymbol{x}_0)}\\left[\\log \\frac{p(\\boldsymbol{x}_{0:T})}{q(\\boldsymbol{x}_{1:T}|\\boldsymbol{x}_0)}\\right]}\\\\\n",
    "&= {\\mathbb{E}_{q(\\boldsymbol{x}_{1:T}|\\boldsymbol{x}_0)}\\left[\\log \\frac{p(\\boldsymbol{x}_T)\\prod_{t=1}^{T}p_{\\boldsymbol{\\theta}}(\\boldsymbol{x}_{t-1}|\\boldsymbol{x}_t)}{\\prod_{t = 1}^{T}q(\\boldsymbol{x}_{t}|\\boldsymbol{x}_{t-1})}\\right]}\\\\\n",
    "&= {\\mathbb{E}_{q(\\boldsymbol{x}_{1:T}|\\boldsymbol{x}_0)}\\left[\\log \\frac{p(\\boldsymbol{x}_T)p_{\\boldsymbol{\\theta}}(\\boldsymbol{x}_0|\\boldsymbol{x}_1)\\prod_{t=2}^{T}p_{\\boldsymbol{\\theta}}(\\boldsymbol{x}_{t-1}|\\boldsymbol{x}_t)}{q(\\boldsymbol{x}_T|\\boldsymbol{x}_{T-1})\\prod_{t = 1}^{T-1}q(\\boldsymbol{x}_{t}|\\boldsymbol{x}_{t-1})}\\right]}\\\\\n",
    "&= {\\mathbb{E}_{q(\\boldsymbol{x}_{1:T}|\\boldsymbol{x}_0)}\\left[\\log \\frac{p(\\boldsymbol{x}_T)p_{\\boldsymbol{\\theta}}(\\boldsymbol{x}_0|\\boldsymbol{x}_1)\\prod_{t=1}^{T-1}p_{\\boldsymbol{\\theta}}(\\boldsymbol{x}_{t}|\\boldsymbol{x}_{t+1})}{q(\\boldsymbol{x}_T|\\boldsymbol{x}_{T-1})\\prod_{t = 1}^{T-1}q(\\boldsymbol{x}_{t}|\\boldsymbol{x}_{t-1})}\\right]}\\\\\n",
    "&= {\\mathbb{E}_{q(\\boldsymbol{x}_{1:T}|\\boldsymbol{x}_0)}\\left[\\log \\frac{p(\\boldsymbol{x}_T)p_{\\boldsymbol{\\theta}}(\\boldsymbol{x}_0|\\boldsymbol{x}_1)}{q(\\boldsymbol{x}_T|\\boldsymbol{x}_{T-1})}\\right] + \\mathbb{E}_{q(\\boldsymbol{x}_{1:T}|\\boldsymbol{x}_0)}\\left[\\log \\prod_{t = 1}^{T-1}\\frac{p_{\\boldsymbol{\\theta}}(\\boldsymbol{x}_{t}|\\boldsymbol{x}_{t+1})}{q(\\boldsymbol{x}_{t}|\\boldsymbol{x}_{t-1})}\\right]}\\\\\n",
    "\\end{align*}\n",
    "$$"
   ]
  },
  {
   "cell_type": "markdown",
   "id": "680e0af6",
   "metadata": {
    "editable": true
   },
   "source": [
    "## Continues"
   ]
  },
  {
   "cell_type": "markdown",
   "id": "6c1d6696",
   "metadata": {
    "editable": true
   },
   "source": [
    "$$\n",
    "\\begin{align*}\n",
    "\\log p(\\boldsymbol{x})\n",
    "&= {\\mathbb{E}_{q(\\boldsymbol{x}_{1:T}|\\boldsymbol{x}_0)}\\left[\\log \\frac{p(\\boldsymbol{x}_T)p_{\\boldsymbol{\\theta}}(\\boldsymbol{x}_0|\\boldsymbol{x}_1)}{q(\\boldsymbol{x}_T|\\boldsymbol{x}_{T-1})}\\right] + \\mathbb{E}_{q(\\boldsymbol{x}_{1:T}|\\boldsymbol{x}_0)}\\left[\\log \\prod_{t = 1}^{T-1}\\frac{p_{\\boldsymbol{\\theta}}(\\boldsymbol{x}_{t}|\\boldsymbol{x}_{t+1})}{q(\\boldsymbol{x}_{t}|\\boldsymbol{x}_{t-1})}\\right]}\\\\\n",
    "&= {\\mathbb{E}_{q(\\boldsymbol{x}_{1:T}|\\boldsymbol{x}_0)}\\left[\\log p_{\\boldsymbol{\\theta}}(\\boldsymbol{x}_0|\\boldsymbol{x}_1)\\right] + \\mathbb{E}_{q(\\boldsymbol{x}_{1:T}|\\boldsymbol{x}_0)}\\left[\\log \\frac{p(\\boldsymbol{x}_T)}{q(\\boldsymbol{x}_T|\\boldsymbol{x}_{T-1})}\\right] + \\mathbb{E}_{q(\\boldsymbol{x}_{1:T}|\\boldsymbol{x}_0)}\\left[ \\sum_{t=1}^{T-1} \\log \\frac{p_{\\boldsymbol{\\theta}}(\\boldsymbol{x}_{t}|\\boldsymbol{x}_{t+1})}{q(\\boldsymbol{x}_{t}|\\boldsymbol{x}_{t-1})}\\right]}\\\\\n",
    "&= {\\mathbb{E}_{q(\\boldsymbol{x}_{1:T}|\\boldsymbol{x}_0)}\\left[\\log p_{\\boldsymbol{\\theta}}(\\boldsymbol{x}_0|\\boldsymbol{x}_1)\\right] + \\mathbb{E}_{q(\\boldsymbol{x}_{1:T}|\\boldsymbol{x}_0)}\\left[\\log \\frac{p(\\boldsymbol{x}_T)}{q(\\boldsymbol{x}_T|\\boldsymbol{x}_{T-1})}\\right] + \\sum_{t=1}^{T-1}\\mathbb{E}_{q(\\boldsymbol{x}_{1:T}|\\boldsymbol{x}_0)}\\left[ \\log \\frac{p_{\\boldsymbol{\\theta}}(\\boldsymbol{x}_{t}|\\boldsymbol{x}_{t+1})}{q(\\boldsymbol{x}_{t}|\\boldsymbol{x}_{t-1})}\\right]}\\\\\n",
    "&= {\\mathbb{E}_{q(\\boldsymbol{x}_{1}|\\boldsymbol{x}_0)}\\left[\\log p_{\\boldsymbol{\\theta}}(\\boldsymbol{x}_0|\\boldsymbol{x}_1)\\right] + \\mathbb{E}_{q(\\boldsymbol{x}_{T-1}, \\boldsymbol{x}_T|\\boldsymbol{x}_0)}\\left[\\log \\frac{p(\\boldsymbol{x}_T)}{q(\\boldsymbol{x}_T|\\boldsymbol{x}_{T-1})}\\right] + \\sum_{t=1}^{T-1}\\mathbb{E}_{q(\\boldsymbol{x}_{t-1}, \\boldsymbol{x}_t, \\boldsymbol{x}_{t+1}|\\boldsymbol{x}_0)}\\left[\\log \\frac{p_{\\boldsymbol{\\theta}}(\\boldsymbol{x}_{t}|\\boldsymbol{x}_{t+1})}{q(\\boldsymbol{x}_{t}|\\boldsymbol{x}_{t-1})}\\right]}\\\\\n",
    "\\end{align*}\n",
    "$$"
   ]
  },
  {
   "cell_type": "markdown",
   "id": "24ea5057",
   "metadata": {
    "editable": true
   },
   "source": [
    "## Interpretations\n",
    "\n",
    "These equations can be interpreted as\n",
    "\n",
    "* $\\mathbb{E}_{q(\\boldsymbol{x}_{1}|\\boldsymbol{x}_0)}\\left[\\log p_{\\boldsymbol{\\theta}}(\\boldsymbol{x}_0|\\boldsymbol{x}_1)\\right]$ can be interpreted as a **reconstruction term**, predicting the log probability of the original data sample given the first-step latent.  This term also appears in a vanilla VAE, and can be trained similarly.\n",
    "\n",
    "* $\\mathbb{E}_{q(\\boldsymbol{x}_{T-1}|\\boldsymbol{x}_0)}\\left[D_{KL}(q(\\boldsymbol{x}_T|\\boldsymbol{x}_{T-1})\\vert\\vert p(\\boldsymbol{x}_T))\\right]$ is a **prior matching term**; it is minimized when the final latent distribution matches the Gaussian prior.  This term requires no optimization, as it has no trainable parameters; furthermore, as we have assumed a large enough $T$ such that the final distribution is Gaussian, this term effectively becomes zero."
   ]
  },
  {
   "cell_type": "markdown",
   "id": "cf40f466",
   "metadata": {
    "editable": true
   },
   "source": [
    "## The last term\n",
    "\n",
    "* $\\mathbb{E}_{q(\\boldsymbol{x}_{t-1}, \\boldsymbol{x}_{t+1}|\\boldsymbol{x}_0)}\\left[D_{KL}(q(\\boldsymbol{x}_{t}|\\boldsymbol{x}_{t-1})\\vert\\vert p_{\\boldsymbol{\\theta}}(\\boldsymbol{x}_{t}|\\boldsymbol{x}_{t+1}))\\right]$ is a \\textit{consistency term}; it endeavors to make the distribution at $\\boldsymbol{x}_t$ consistent, from both forward and backward processes.  That is, a denoising step from a noisier image should match the corresponding noising step from a cleaner image, for every intermediate timestep; this is reflected mathematically by the KL Divergence.  This term is minimized when we train $p_{\\theta}(\\boldsymbol{x}_t|\\boldsymbol{x}_{t+1})$ to match the Gaussian distribution $q(\\boldsymbol{x}_t|\\boldsymbol{x}_{t-1})$."
   ]
  },
  {
   "cell_type": "markdown",
   "id": "1d22c132",
   "metadata": {
    "editable": true
   },
   "source": [
    "## Diffusion models, part 2, from <https://arxiv.org/abs/2208.11970>\n",
    "\n",
    "<!-- dom:FIGURE: [figures/figure3.png, width=800 frac=1.0] -->\n",
    "<!-- begin figure -->\n",
    "\n",
    "<img src=\"figures/figure3.png\" width=\"800\"><p style=\"font-size: 0.9em\"><i>Figure 1: </i></p>\n",
    "<!-- end figure -->"
   ]
  },
  {
   "cell_type": "markdown",
   "id": "a6b89089",
   "metadata": {
    "editable": true
   },
   "source": [
    "## Optimization cost\n",
    "\n",
    "The cost of optimizing a VDM is primarily dominated by the third term, since we must optimize over all timesteps $t$.\n",
    "\n",
    "Under this derivation, all three terms are computed as expectations,\n",
    "and can therefore be approximated using Monte Carlo estimates.\n",
    "However, actually optimizing the ELBO using the terms we just derived\n",
    "might be suboptimal; because the consistency term is computed as an\n",
    "expectation over two random variables $\\left\\{\\boldsymbol{x}_{t-1},\n",
    "\\boldsymbol{x}_{t+1}\\right\\}$ for every timestep, the variance of its Monte\n",
    "Carlo estimate could potentially be higher than a term that is\n",
    "estimated using only one random variable per timestep.  As it is\n",
    "computed by summing up $T-1$ consistency terms, the final estimated\n",
    "value may have high variance for large $T$ values."
   ]
  },
  {
   "cell_type": "markdown",
   "id": "b66d0424",
   "metadata": {
    "editable": true
   },
   "source": [
    "## Image quality\n",
    "\n",
    "An advantage of diffusion models over for example VAEs (and also GANs\n",
    "to be discussed next time) is the ease of training with simple and\n",
    "efficient loss functions and their ability to generate highly\n",
    "realistic images. They excel at closely matching the distribution of\n",
    "real images, outperforming GANs in this aspect. This proficiency is\n",
    "due to the distinct mechanisms in diffusion models, allowing for more\n",
    "precise replication of real-world imagery."
   ]
  },
  {
   "cell_type": "markdown",
   "id": "9a2e93da",
   "metadata": {
    "editable": true
   },
   "source": [
    "## Training stability\n",
    "\n",
    "Regarding training stability, generative diffusion models have an edge\n",
    "over GANs. GANs often struggle with *mode collapse*, which is  a limitation\n",
    "where they produce a limited output variety. Diffusion models\n",
    "effectively avoid this issue through their gradual data smoothing\n",
    "process, leading to a more diverse range of generated images."
   ]
  },
  {
   "cell_type": "markdown",
   "id": "d42a2afe",
   "metadata": {
    "editable": true
   },
   "source": [
    "## Input types\n",
    "\n",
    "It is also important to mention that diffusion models handle various\n",
    "input types. They perform diverse generative tasks like text-to-image\n",
    "synthesis, layout-to-image generation, inpainting, and\n",
    "super-resolution tasks."
   ]
  },
  {
   "cell_type": "markdown",
   "id": "edd11ed4",
   "metadata": {
    "editable": true
   },
   "source": [
    "## Denoising diffusion probabilistic models (DDPMs)\n",
    "\n",
    "Denoising diffusion probabilistic models (DDPMs) are a specific type\n",
    "of diffusion model that focuses on probabilistically removing noise\n",
    "from data. During training, they learn how noise is added to data over\n",
    "time and how to reverse this process to recover the original\n",
    "data. This involves using probabilities to make educated guesses about\n",
    "what the data looked like before noise was added. This approach is\n",
    "essential for the model's capability to accurately reconstruct data,\n",
    "ensuring the outputs aren’t just noise-free but also closely resemble\n",
    "the original data."
   ]
  },
  {
   "cell_type": "markdown",
   "id": "54bdc1c0",
   "metadata": {
    "editable": true
   },
   "source": [
    "## Techniques for speeding up diffusion models\n",
    "\n",
    "Generating a sample from DDPM using the reverse diffusion process is\n",
    "quite slow because it involves many steps, possibly up to a\n",
    "thousand. For instance, according to Song et al. (2020), it takes\n",
    "about 20 hours to generate 50,000 small images with a DDPM, while a\n",
    "GAN can create the same amount in less than a minute using an Nvidia\n",
    "2080 Ti GPU.\n",
    "\n",
    "There is an alternative method called Denoising Diffusion Implicit\n",
    "Model (DDIM) that stands out for its efficiency and quality. Unlike\n",
    "traditional models, DDIM needs fewer steps to create clear images from\n",
    "noisy data."
   ]
  },
  {
   "cell_type": "markdown",
   "id": "ffb524ae",
   "metadata": {
    "editable": true
   },
   "source": [
    "## Applications of diffusion models\n",
    "\n",
    "There are very diverse applications of diffusion models, one of the most exciting being digital art creation.\n",
    "The document at <https://www.superannotate.com/blog/diffusion-models#:~:text=A%20primary%20advantage%20of%20diffusion,to%20generate%20highly%20realistic%20images> gives many nice examples of applications.\n",
    "."
   ]
  },
  {
   "cell_type": "markdown",
   "id": "de3564df",
   "metadata": {
    "editable": true
   },
   "source": [
    "## PyTorch implementation of a Denoising Diffusion Probabilistic Model (DDPM) trained on the MNIST dataset\n",
    "\n",
    "The code covers:\n",
    "1. Model definition (a simple U-Net-style convolutional network)\n",
    "\n",
    "2. Forward diffusion (adding noise over $T$ timesteps)\n",
    "\n",
    "3. Reverse denoising process\n",
    "\n",
    "4. Training loop\n",
    "\n",
    "5. Sampling from the trained model\n",
    "\n",
    "This example is adapted from several open-source tutorials and\n",
    "implementations, demonstrating how to build a diffusion model from\n",
    "scratch in under 200 lines of PyTorch.\n",
    "I have borrowed extensively from \n",
    "1. Jackson-Kang’s PyTorch diffusion tutorial, see <https://github.com/Jackson-Kang/Pytorch-Diffusion-Model-Tutorial>  and\n",
    "\n",
    "2. awjuliani’s PyTorch DDPM implementation, see <https://github.com/awjuliani/pytorch-diffusion>"
   ]
  },
  {
   "cell_type": "markdown",
   "id": "36511456",
   "metadata": {
    "editable": true
   },
   "source": [
    "## Problem with diffusion models\n",
    "\n",
    "Diffusion models gradually corrupt data by adding Gaussian noise over\n",
    "a sequence of timesteps and then learn to reverse this noising process\n",
    "with a neural network.\n",
    "\n",
    "The corruption schedule is typically linear or cosine in variance.\n",
    "\n",
    "During training, the network is optimized to predict the original\n",
    "noise added at each timestep, using a mean-squared error loss.\n",
    "\n",
    "At inference, one starts from random noise and iteratively applies the\n",
    "learned denoising steps to generate new samples."
   ]
  },
  {
   "cell_type": "markdown",
   "id": "930d47ee",
   "metadata": {
    "editable": true
   },
   "source": [
    "## Imports and Utilities"
   ]
  },
  {
   "cell_type": "code",
   "execution_count": 1,
   "id": "53130148",
   "metadata": {
    "collapsed": false,
    "editable": true
   },
   "outputs": [],
   "source": [
    "%matplotlib inline\n",
    "\n",
    "import torch\n",
    "import torch.nn as nn\n",
    "import torch.nn.functional as F\n",
    "from torchvision import datasets, transforms\n",
    "from torch.utils.data import DataLoader\n",
    "import matplotlib.pyplot as plt\n",
    "import math"
   ]
  },
  {
   "cell_type": "markdown",
   "id": "6f7d746b",
   "metadata": {
    "editable": true
   },
   "source": [
    "## Hyperparameters and schedules"
   ]
  },
  {
   "cell_type": "code",
   "execution_count": 2,
   "id": "0fb918a5",
   "metadata": {
    "collapsed": false,
    "editable": true
   },
   "outputs": [],
   "source": [
    "device = 'cuda' if torch.cuda.is_available() else 'cpu'\n",
    "\n",
    "# Training settings\n",
    "batch_size = 128\n",
    "epochs     = 5\n",
    "lr         = 2e-4\n",
    "img_size   = 28\n",
    "channels   = 1\n",
    "\n",
    "# Diffusion hyperparameters\n",
    "T = 300  # number of diffusion steps  [oai_citation:5‡Medium](https://papers-100-lines.medium.com/diffusion-models-from-scratch-mnist-data-tutorial-in-100-lines-of-pytorch-code-a609e1558cee?utm_source=chatgpt.com)\n",
    "beta_start, beta_end = 1e-4, 0.02\n",
    "betas = torch.linspace(beta_start, beta_end, T, device=device)  # linear schedule  [oai_citation:6‡Medium](https://medium.com/data-science/diffusion-model-from-scratch-in-pytorch-ddpm-9d9760528946?utm_source=chatgpt.com)\n",
    "alphas = 1. - betas\n",
    "alphas_cumprod = torch.cumprod(alphas, dim=0)"
   ]
  },
  {
   "cell_type": "markdown",
   "id": "2f31faac",
   "metadata": {
    "editable": true
   },
   "source": [
    "## Data Loading"
   ]
  },
  {
   "cell_type": "code",
   "execution_count": 3,
   "id": "39670e62",
   "metadata": {
    "collapsed": false,
    "editable": true
   },
   "outputs": [],
   "source": [
    "transform = transforms.Compose([\n",
    "    transforms.ToTensor(),\n",
    "    transforms.Normalize((0.5,), (0.5,)),\n",
    "])\n",
    "\n",
    "train_ds = datasets.MNIST('.', train=True, download=True, transform=transform)\n",
    "train_loader = DataLoader(train_ds, batch_size=batch_size, shuffle=True)"
   ]
  },
  {
   "cell_type": "markdown",
   "id": "28a0a24c",
   "metadata": {
    "editable": true
   },
   "source": [
    "## Model definition\n",
    "\n",
    "We present a  lightweight U-Net inspired model for noise prediction:"
   ]
  },
  {
   "cell_type": "code",
   "execution_count": 4,
   "id": "225f5f24",
   "metadata": {
    "collapsed": false,
    "editable": true
   },
   "outputs": [],
   "source": [
    "class SimpleUNet(nn.Module):\n",
    "    def __init__(self, c):\n",
    "        super().__init__()\n",
    "        self.enc1 = nn.Conv2d(c, 64, 3, padding=1)\n",
    "        self.enc2 = nn.Conv2d(64, 128, 3, padding=1)\n",
    "        self.dec1 = nn.ConvTranspose2d(128, 64, 3, padding=1)\n",
    "        self.dec2 = nn.ConvTranspose2d(64, c, 3, padding=1)\n",
    "        self.act  = nn.ReLU()\n",
    "        # timestep embedding to condition on t\n",
    "        self.time_mlp = nn.Sequential(\n",
    "            nn.Linear(1, 64),\n",
    "            nn.ReLU(),\n",
    "            nn.Linear(64, 64),\n",
    "        )\n",
    "\n",
    "    def forward(self, x, t):\n",
    "        # x: [B, C, H, W], t: [B]\n",
    "        h = self.act(self.enc1(x))                       #  [oai_citation:7‡GitHub](https://github.com/Jackson-Kang/Pytorch-Diffusion-Model-Tutorial?utm_source=chatgpt.com)\n",
    "        h = self.act(self.enc2(h))\n",
    "        # add time embedding\n",
    "        t = t.unsqueeze(-1)                             \n",
    "        temb = self.time_mlp(t)                          #  [oai_citation:8‡GitHub](https://github.com/tonyduan/diffusion?utm_source=chatgpt.com)\n",
    "        temb = temb.view(-1, 64, 1, 1)\n",
    "        h = h + temb\n",
    "        h = self.act(self.dec1(h))\n",
    "        return self.dec2(h)"
   ]
  },
  {
   "cell_type": "markdown",
   "id": "11bbe885",
   "metadata": {
    "editable": true
   },
   "source": [
    "## Forward Diffusion $q(x_t\\vert x_0)$"
   ]
  },
  {
   "cell_type": "code",
   "execution_count": 5,
   "id": "807f8103",
   "metadata": {
    "collapsed": false,
    "editable": true
   },
   "outputs": [],
   "source": [
    "def q_sample(x0, t, noise=None):\n",
    "    \"\"\"Add noise to x0 at timestep t.\"\"\"\n",
    "    if noise is None:\n",
    "        noise = torch.randn_like(x0)\n",
    "    sqrt_acp = alphas_cumprod[t]**0.5\n",
    "    sqrt_1macp = (1 - alphas_cumprod[t])**0.5\n",
    "    return sqrt_acp.view(-1,1,1,1)*x0 + sqrt_1macp.view(-1,1,1,1)*noise"
   ]
  },
  {
   "cell_type": "markdown",
   "id": "2ae219b1",
   "metadata": {
    "editable": true
   },
   "source": [
    "## Cost/Loss function"
   ]
  },
  {
   "cell_type": "code",
   "execution_count": 6,
   "id": "e7987cc4",
   "metadata": {
    "collapsed": false,
    "editable": true
   },
   "outputs": [],
   "source": [
    "def diffusion_loss(model, x0):\n",
    "    \"\"\"Compute MSE between predicted noise and true noise.\"\"\"\n",
    "    B = x0.size(0)\n",
    "    t = torch.randint(0, T, (B,), device=device).long()\n",
    "    noise = torch.randn_like(x0)\n",
    "    x_noisy = q_sample(x0, t, noise)\n",
    "    pred_noise = model(x_noisy, t.float()/T)\n",
    "    return F.mse_loss(pred_noise, noise)"
   ]
  },
  {
   "cell_type": "markdown",
   "id": "8dbcd05b",
   "metadata": {
    "editable": true
   },
   "source": [
    "## Training loop"
   ]
  },
  {
   "cell_type": "code",
   "execution_count": 7,
   "id": "34bc9ddf",
   "metadata": {
    "collapsed": false,
    "editable": true
   },
   "outputs": [],
   "source": [
    "model = SimpleUNet(channels).to(device)\n",
    "opt   = torch.optim.Adam(model.parameters(), lr=lr)\n",
    "\n",
    "for epoch in range(epochs):\n",
    "    total_loss = 0\n",
    "    for x, _ in train_loader:\n",
    "        x = x.to(device)\n",
    "        loss = diffusion_loss(model, x)\n",
    "        opt.zero_grad()\n",
    "        loss.backward()\n",
    "        opt.step()\n",
    "        total_loss += loss.item()\n",
    "    print(f\"Epoch {epoch+1}/{epochs}, Loss: {total_loss/len(train_loader):.4f}\")"
   ]
  },
  {
   "cell_type": "markdown",
   "id": "0149cfe4",
   "metadata": {
    "editable": true
   },
   "source": [
    "## Sampling (Reverse Diffusion)"
   ]
  },
  {
   "cell_type": "code",
   "execution_count": 8,
   "id": "f5eac0df",
   "metadata": {
    "collapsed": false,
    "editable": true
   },
   "outputs": [],
   "source": [
    "@torch.no_grad()\n",
    "def p_sample_loop(model, shape):\n",
    "    x = torch.randn(shape, device=device)\n",
    "    for i in reversed(range(T)):\n",
    "        t = torch.full((shape[0],), i, device=device).float()/T\n",
    "        eps_pred = model(x, t)\n",
    "        beta_t = betas[i]\n",
    "        alpha_t = alphas[i]\n",
    "        acp_t   = alphas_cumprod[i]\n",
    "        coef1 = 1 / alpha_t.sqrt()\n",
    "        coef2 = beta_t / ( (1 - acp_t).sqrt() )\n",
    "        x = coef1*(x - coef2*eps_pred)\n",
    "        if i > 0:\n",
    "            z = torch.randn_like(x)\n",
    "            sigma = beta_t.sqrt()\n",
    "            x = x + sigma*z\n",
    "    return x\n",
    "\n",
    "# Generate samples\n",
    "samples = p_sample_loop(model, (16, channels, img_size, img_size))\n",
    "samples = samples.clamp(-1,1).cpu()\n",
    "grid = torchvision.utils.make_grid(samples, nrow=4, normalize=True)\n",
    "plt.figure(figsize=(5,5))\n",
    "plt.imshow(grid.permute(1,2,0))\n",
    "plt.axis('off')"
   ]
  },
  {
   "cell_type": "markdown",
   "id": "a0782648",
   "metadata": {
    "editable": true
   },
   "source": [
    "## More details\n",
    "\n",
    "For more details and implementations, see Calvin Luo at <https://arxiv.org/abs/2208.11970>\n",
    "\n",
    "<!-- FIGURE: [figures/figure4.png, width=800 frac=1.0] -->"
   ]
  }
 ],
 "metadata": {},
 "nbformat": 4,
 "nbformat_minor": 5
}
