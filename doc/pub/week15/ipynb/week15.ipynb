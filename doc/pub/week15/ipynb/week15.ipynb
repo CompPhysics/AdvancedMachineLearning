{
 "cells": [
  {
   "cell_type": "markdown",
   "id": "c888a179",
   "metadata": {
    "editable": true
   },
   "source": [
    "<!-- HTML file automatically generated from DocOnce source (https://github.com/doconce/doconce/)\n",
    "doconce format html week15.do.txt --no_mako -->\n",
    "<!-- dom:TITLE: May 6-10: Advanced machine learning and data analysis for the physical sciences -->"
   ]
  },
  {
   "cell_type": "markdown",
   "id": "17ea13ed",
   "metadata": {
    "editable": true
   },
   "source": [
    "# May 6-10: Advanced machine learning and data analysis for the physical sciences\n",
    "**Morten Hjorth-Jensen**, Department of Physics and Center for Computing in Science Education, University of Oslo, Norway and Department of Physics and Astronomy and Facility for Rare Isotope Beams, Michigan State University, East Lansing, Michigan, USA\n",
    "\n",
    "Date: **May 6-10, 2024**"
   ]
  },
  {
   "cell_type": "markdown",
   "id": "00bfc989",
   "metadata": {
    "editable": true
   },
   "source": [
    "## Plans for the week May 6-10\n",
    "\n",
    "**Summary of course.**\n",
    "\n",
    "1. The deadline for the project is set to June 1\n",
    "\n",
    "2. For the rest of the semester we can schedule individual zoom meetings if needed"
   ]
  }
 ],
 "metadata": {},
 "nbformat": 4,
 "nbformat_minor": 5
}
