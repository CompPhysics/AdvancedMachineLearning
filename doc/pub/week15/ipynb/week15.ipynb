{
 "cells": [
  {
   "cell_type": "markdown",
   "id": "c7cf0fce",
   "metadata": {
    "editable": true
   },
   "source": [
    "<!-- HTML file automatically generated from DocOnce source (https://github.com/doconce/doconce/)\n",
    "doconce format html week15.do.txt --no_mako -->\n",
    "<!-- dom:TITLE: Advanced machine learning and data analysis for the physical sciences -->"
   ]
  },
  {
   "cell_type": "markdown",
   "id": "e66f7980",
   "metadata": {
    "editable": true
   },
   "source": [
    "# Advanced machine learning and data analysis for the physical sciences\n",
    "**Morten Hjorth-Jensen**, Department of Physics and Center for Computing in Science Education, University of Oslo, Norway and Department of Physics and Astronomy and Facility for Rare Isotope Beams, Michigan State University, East Lansing, Michigan, USA\n",
    "\n",
    "Date: **April 30, 2024**"
   ]
  },
  {
   "cell_type": "markdown",
   "id": "b25a54f4",
   "metadata": {
    "editable": true
   },
   "source": [
    "## Plans for the week of April 29- May 3, 2024\n",
    "\n",
    "**Deep generative models.**\n",
    "\n",
    "1. Summary of Variational Autoencoders\n",
    "\n",
    "2. Generative Adversarial Networks (GANs), see <https://lilianweng.github.io/posts/2017-08-20-gan/> for nice overview\n",
    "\n",
    "3. Start discussion of diffusion models, motivation\n",
    "\n",
    "4. [Video of lecture](https://youtu.be/Cg8n9aWwHuU)\n",
    "\n",
    "5. [Whiteboard notes](https://github.com/CompPhysics/AdvancedMachineLearning/blob/main/doc/HandwrittenNotes/2024/NotesApril30.pdf)"
   ]
  },
  {
   "cell_type": "markdown",
   "id": "7304c3a4",
   "metadata": {
    "editable": true
   },
   "source": [
    "## Readings\n",
    "\n",
    "1. Reading recommendation: Goodfellow et al, for GANs see sections 20.10-20.11\n",
    "\n",
    "2. For codes and background, see Raschka et al, Machine with PyTorch and Scikit-Learn, chapter 17, see <https://github.com/rasbt/python-machine-learning-book-3rd-edition/tree/master/ch17> for codes\n",
    "\n",
    "3. Babcock and Bali, Generative AI with Python and TensorFlow2, chapter 6 and codes at <https://github.com/raghavbali/generative_ai_with_tensorflow/blob/master/Chapter_6/conditional_gan.ipynb>"
   ]
  },
  {
   "cell_type": "markdown",
   "id": "1f29a278",
   "metadata": {
    "editable": true
   },
   "source": [
    "## Summary of Variational Autoencoders (VAEs)\n",
    "\n",
    "In our short summary of VAes, we will also remind you about the\n",
    "mathematics of Boltzmann machines and the Kullback-Leibler divergence,\n",
    "leading to used ways to optimize the probability\n",
    "distributions, namely what is called \n",
    "* Contrastive optimization"
   ]
  },
  {
   "cell_type": "markdown",
   "id": "ad62142e",
   "metadata": {
    "editable": true
   },
   "source": [
    "## Boltzmann machines and energy-based models and contrastive optimization"
   ]
  },
  {
   "cell_type": "markdown",
   "id": "3c906e0c",
   "metadata": {
    "editable": true
   },
   "source": [
    "## Energy models\n",
    "\n",
    "For Boltzmann machines  we defined a domain $\\boldsymbol{X}$ of stochastic variables $\\boldsymbol{X}= \\{x_0,x_1, \\dots , x_{n-1}\\}$ with a pertinent probability distribution"
   ]
  },
  {
   "cell_type": "markdown",
   "id": "9e92737f",
   "metadata": {
    "editable": true
   },
   "source": [
    "$$\n",
    "p(\\boldsymbol{X})=\\prod_{x_i\\in \\boldsymbol{X}}p(x_i),\n",
    "$$"
   ]
  },
  {
   "cell_type": "markdown",
   "id": "ea1bf8fd",
   "metadata": {
    "editable": true
   },
   "source": [
    "where we have assumed that the random varaibles $x_i$ are all independent and identically distributed (iid)."
   ]
  },
  {
   "cell_type": "markdown",
   "id": "1d00646e",
   "metadata": {
    "editable": true
   },
   "source": [
    "## Probability model\n",
    "\n",
    "We defined a probability"
   ]
  },
  {
   "cell_type": "markdown",
   "id": "a3f6475d",
   "metadata": {
    "editable": true
   },
   "source": [
    "$$\n",
    "p(x_i,h_j;\\boldsymbol{\\Theta}) = \\frac{f(x_i,h_j;\\boldsymbol{\\Theta})}{Z(\\boldsymbol{\\Theta})},\n",
    "$$"
   ]
  },
  {
   "cell_type": "markdown",
   "id": "8f95be62",
   "metadata": {
    "editable": true
   },
   "source": [
    "where $f(x_i,h_j;\\boldsymbol{\\Theta})$ is a function which we assume is larger or\n",
    "equal than zero and obeys all properties required for a probability\n",
    "distribution and $Z(\\boldsymbol{\\Theta})$ is a normalization constant. Inspired by\n",
    "statistical mechanics, we call it often for the partition function.\n",
    "It is defined as (assuming that we have discrete probability distributions)"
   ]
  },
  {
   "cell_type": "markdown",
   "id": "184db513",
   "metadata": {
    "editable": true
   },
   "source": [
    "$$\n",
    "Z(\\boldsymbol{\\Theta})=\\sum_{x_i\\in \\boldsymbol{X}}\\sum_{h_j\\in \\boldsymbol{H}} f(x_i,h_j;\\boldsymbol{\\Theta}).\n",
    "$$"
   ]
  },
  {
   "cell_type": "markdown",
   "id": "a9270d8e",
   "metadata": {
    "editable": true
   },
   "source": [
    "## Marginal and conditional probabilities\n",
    "\n",
    "We can in turn define the marginal probabilities"
   ]
  },
  {
   "cell_type": "markdown",
   "id": "e58357fd",
   "metadata": {
    "editable": true
   },
   "source": [
    "$$\n",
    "p(x_i;\\boldsymbol{\\Theta}) = \\frac{\\sum_{h_j\\in \\boldsymbol{H}}f(x_i,h_j;\\boldsymbol{\\Theta})}{Z(\\boldsymbol{\\Theta})},\n",
    "$$"
   ]
  },
  {
   "cell_type": "markdown",
   "id": "6b570b28",
   "metadata": {
    "editable": true
   },
   "source": [
    "and"
   ]
  },
  {
   "cell_type": "markdown",
   "id": "c938f39d",
   "metadata": {
    "editable": true
   },
   "source": [
    "$$\n",
    "p(h_i;\\boldsymbol{\\Theta}) = \\frac{\\sum_{x_i\\in \\boldsymbol{X}}f(x_i,h_j;\\boldsymbol{\\Theta})}{Z(\\boldsymbol{\\Theta})}.\n",
    "$$"
   ]
  },
  {
   "cell_type": "markdown",
   "id": "13461367",
   "metadata": {
    "editable": true
   },
   "source": [
    "## Partition function\n",
    "\n",
    "**Note the change to a vector notation**. A variable like $\\boldsymbol{x}$\n",
    "represents now a specific **configuration**. We can generate an infinity\n",
    "of such configurations. The final partition function is then the sum\n",
    "over all such possible configurations, that is"
   ]
  },
  {
   "cell_type": "markdown",
   "id": "1050da2f",
   "metadata": {
    "editable": true
   },
   "source": [
    "$$\n",
    "Z(\\boldsymbol{\\Theta})=\\sum_{x_i\\in \\boldsymbol{X}}\\sum_{h_j\\in \\boldsymbol{H}} f(x_i,h_j;\\boldsymbol{\\Theta}),\n",
    "$$"
   ]
  },
  {
   "cell_type": "markdown",
   "id": "094c2485",
   "metadata": {
    "editable": true
   },
   "source": [
    "changes to"
   ]
  },
  {
   "cell_type": "markdown",
   "id": "7a888b05",
   "metadata": {
    "editable": true
   },
   "source": [
    "$$\n",
    "Z(\\boldsymbol{\\Theta})=\\sum_{\\boldsymbol{x}}\\sum_{\\boldsymbol{h}} f(\\boldsymbol{x},\\boldsymbol{h};\\boldsymbol{\\Theta}).\n",
    "$$"
   ]
  },
  {
   "cell_type": "markdown",
   "id": "27b7e939",
   "metadata": {
    "editable": true
   },
   "source": [
    "If we have a binary set of variable $x_i$ and $h_j$ and $M$ values of $x_i$ and $N$ values of $h_j$ we have in total $2^M$ and $2^N$ possible $\\boldsymbol{x}$ and $\\boldsymbol{h}$ configurations, respectively.\n",
    "\n",
    "We see that even for the modest binary case, we can easily approach a\n",
    "number of configuration which is not possible to deal with."
   ]
  },
  {
   "cell_type": "markdown",
   "id": "0a367b8d",
   "metadata": {
    "editable": true
   },
   "source": [
    "## Optimization problem\n",
    "\n",
    "At the end, we are not interested in the probabilities of the hidden variables. The probability we thus want to optimize is"
   ]
  },
  {
   "cell_type": "markdown",
   "id": "67e2aac1",
   "metadata": {
    "editable": true
   },
   "source": [
    "$$\n",
    "p(\\boldsymbol{X};\\boldsymbol{\\Theta})=\\prod_{x_i\\in \\boldsymbol{X}}p(x_i;\\boldsymbol{\\Theta})=\\prod_{x_i\\in \\boldsymbol{X}}\\left(\\frac{\\sum_{h_j\\in \\boldsymbol{H}}f(x_i,h_j;\\boldsymbol{\\Theta})}{Z(\\boldsymbol{\\Theta})}\\right),\n",
    "$$"
   ]
  },
  {
   "cell_type": "markdown",
   "id": "552dd312",
   "metadata": {
    "editable": true
   },
   "source": [
    "which we rewrite as"
   ]
  },
  {
   "cell_type": "markdown",
   "id": "3bc3b94c",
   "metadata": {
    "editable": true
   },
   "source": [
    "$$\n",
    "p(\\boldsymbol{X};\\boldsymbol{\\Theta})=\\frac{1}{Z(\\boldsymbol{\\Theta})}\\prod_{x_i\\in \\boldsymbol{X}}\\left(\\sum_{h_j\\in \\boldsymbol{H}}f(x_i,h_j;\\boldsymbol{\\Theta})\\right).\n",
    "$$"
   ]
  },
  {
   "cell_type": "markdown",
   "id": "008ec2d0",
   "metadata": {
    "editable": true
   },
   "source": [
    "## Further simplifications\n",
    "\n",
    "We simplify further by rewriting it as"
   ]
  },
  {
   "cell_type": "markdown",
   "id": "90a0b8a3",
   "metadata": {
    "editable": true
   },
   "source": [
    "$$\n",
    "p(\\boldsymbol{X};\\boldsymbol{\\Theta})=\\frac{1}{Z(\\boldsymbol{\\Theta})}\\prod_{x_i\\in \\boldsymbol{X}}f(x_i;\\boldsymbol{\\Theta}),\n",
    "$$"
   ]
  },
  {
   "cell_type": "markdown",
   "id": "fce8a947",
   "metadata": {
    "editable": true
   },
   "source": [
    "where we used $p(x_i;\\boldsymbol{\\Theta}) = \\sum_{h_j\\in \\boldsymbol{H}}f(x_i,h_j;\\boldsymbol{\\Theta})$.\n",
    "The optimization problem is then"
   ]
  },
  {
   "cell_type": "markdown",
   "id": "aed7c7b0",
   "metadata": {
    "editable": true
   },
   "source": [
    "$$\n",
    "{\\displaystyle \\mathrm{arg} \\hspace{0.1cm}\\max_{\\boldsymbol{\\boldsymbol{\\Theta}}\\in {\\mathbb{R}}^{p}}} \\hspace{0.1cm}p(\\boldsymbol{X};\\boldsymbol{\\Theta}).\n",
    "$$"
   ]
  },
  {
   "cell_type": "markdown",
   "id": "f59709c5",
   "metadata": {
    "editable": true
   },
   "source": [
    "## Optimizing the logarithm instead\n",
    "\n",
    "Computing the derivatives with respect to the parameters $\\boldsymbol{\\Theta}$ is\n",
    "easier (and equivalent) with taking the logarithm of the\n",
    "probability. We will thus optimize"
   ]
  },
  {
   "cell_type": "markdown",
   "id": "b6a46f04",
   "metadata": {
    "editable": true
   },
   "source": [
    "$$\n",
    "{\\displaystyle \\mathrm{arg} \\hspace{0.1cm}\\max_{\\boldsymbol{\\boldsymbol{\\Theta}}\\in {\\mathbb{R}}^{p}}} \\hspace{0.1cm}\\log{p(\\boldsymbol{X};\\boldsymbol{\\Theta})},\n",
    "$$"
   ]
  },
  {
   "cell_type": "markdown",
   "id": "d309349e",
   "metadata": {
    "editable": true
   },
   "source": [
    "which leads to"
   ]
  },
  {
   "cell_type": "markdown",
   "id": "a29d8581",
   "metadata": {
    "editable": true
   },
   "source": [
    "$$\n",
    "\\nabla_{\\boldsymbol{\\Theta}}\\log{p(\\boldsymbol{X};\\boldsymbol{\\Theta})}=0.\n",
    "$$"
   ]
  },
  {
   "cell_type": "markdown",
   "id": "d844c4dd",
   "metadata": {
    "editable": true
   },
   "source": [
    "## Expression for the gradients\n",
    "\n",
    "This leads to the following equation"
   ]
  },
  {
   "cell_type": "markdown",
   "id": "684424fc",
   "metadata": {
    "editable": true
   },
   "source": [
    "$$\n",
    "\\nabla_{\\boldsymbol{\\Theta}}\\log{p(\\boldsymbol{X};\\boldsymbol{\\Theta})}=\\nabla_{\\boldsymbol{\\Theta}}\\left(\\sum_{x_i\\in \\boldsymbol{X}}\\log{f(x_i;\\boldsymbol{\\Theta})}\\right)-\\nabla_{\\boldsymbol{\\Theta}}\\log{Z(\\boldsymbol{\\Theta})}=0.\n",
    "$$"
   ]
  },
  {
   "cell_type": "markdown",
   "id": "540c038b",
   "metadata": {
    "editable": true
   },
   "source": [
    "The first term is called the positive phase and we assume that we have a model for the function $f$ from which we can sample values. Below we will develop an explicit model for this.\n",
    "The second term is called the negative phase and is the one which leads to more difficulties."
   ]
  },
  {
   "cell_type": "markdown",
   "id": "1dd6f171",
   "metadata": {
    "editable": true
   },
   "source": [
    "## Contrastive optimization\n",
    "The evaluation of these two terms leads to what in the literature is called contrastive optimization.\n",
    "\n",
    "If we optimize the negative **log** of the PDF, the aboves phases simply change sign.\n",
    "\n",
    "For a further discussion of energy-based models, see the notes by Philip Lippe at <https://uvadlc-notebooks.readthedocs.io/en/latest/tutorial_notebooks/tutorial8/Deep_Energy_Models.html>"
   ]
  },
  {
   "cell_type": "markdown",
   "id": "99fdc241",
   "metadata": {
    "editable": true
   },
   "source": [
    "## The derivative of the partition function\n",
    "\n",
    "The partition function, defined above as"
   ]
  },
  {
   "cell_type": "markdown",
   "id": "0366d1a3",
   "metadata": {
    "editable": true
   },
   "source": [
    "$$\n",
    "Z(\\boldsymbol{\\Theta})=\\sum_{x_i\\in \\boldsymbol{X}}\\sum_{h_j\\in \\boldsymbol{H}} f(x_i,h_j;\\boldsymbol{\\Theta}),\n",
    "$$"
   ]
  },
  {
   "cell_type": "markdown",
   "id": "0ad245f3",
   "metadata": {
    "editable": true
   },
   "source": [
    "is in general the most problematic term. In principle both $x$ and $h$ can span large degrees of freedom, if not even infinitely many ones, and computing the partition function itself is often not desirable or even feasible. The above derivative of the partition function can however be written in terms of an expectation value which is in turn evaluated  using Monte Carlo sampling and the theory of Markov chains, popularly shortened to MCMC (or just MC$^2$)."
   ]
  },
  {
   "cell_type": "markdown",
   "id": "62a879d0",
   "metadata": {
    "editable": true
   },
   "source": [
    "## Explicit expression for the derivative\n",
    "We can rewrite"
   ]
  },
  {
   "cell_type": "markdown",
   "id": "2dd7dc01",
   "metadata": {
    "editable": true
   },
   "source": [
    "$$\n",
    "\\nabla_{\\boldsymbol{\\Theta}}\\log{Z(\\boldsymbol{\\Theta})}=\\frac{\\nabla_{\\boldsymbol{\\Theta}}Z(\\boldsymbol{\\Theta})}{Z(\\boldsymbol{\\Theta})},\n",
    "$$"
   ]
  },
  {
   "cell_type": "markdown",
   "id": "afd4999e",
   "metadata": {
    "editable": true
   },
   "source": [
    "which reads in more detail"
   ]
  },
  {
   "cell_type": "markdown",
   "id": "610cb88e",
   "metadata": {
    "editable": true
   },
   "source": [
    "$$\n",
    "\\nabla_{\\boldsymbol{\\Theta}}\\log{Z(\\boldsymbol{\\Theta})}=\\frac{\\nabla_{\\boldsymbol{\\Theta}} \\sum_{x_i\\in \\boldsymbol{X}}f(x_i;\\boldsymbol{\\Theta})   }{Z(\\boldsymbol{\\Theta})}.\n",
    "$$"
   ]
  },
  {
   "cell_type": "markdown",
   "id": "3093f6b2",
   "metadata": {
    "editable": true
   },
   "source": [
    "We can rewrite the function $f$ (we have assumed that is larger or\n",
    "equal than zero) as $f=\\exp{\\log{f}}$. We can then reqrite the last\n",
    "equation as"
   ]
  },
  {
   "cell_type": "markdown",
   "id": "ffac2f38",
   "metadata": {
    "editable": true
   },
   "source": [
    "$$\n",
    "\\nabla_{\\boldsymbol{\\Theta}}\\log{Z(\\boldsymbol{\\Theta})}=\\frac{ \\sum_{x_i\\in \\boldsymbol{X}} \\nabla_{\\boldsymbol{\\Theta}}\\exp{\\log{f(x_i;\\boldsymbol{\\Theta})}}   }{Z(\\boldsymbol{\\Theta})}.\n",
    "$$"
   ]
  },
  {
   "cell_type": "markdown",
   "id": "c3d13ab4",
   "metadata": {
    "editable": true
   },
   "source": [
    "## Final expression\n",
    "\n",
    "Taking the derivative gives us"
   ]
  },
  {
   "cell_type": "markdown",
   "id": "28f81e5e",
   "metadata": {
    "editable": true
   },
   "source": [
    "$$\n",
    "\\nabla_{\\boldsymbol{\\Theta}}\\log{Z(\\boldsymbol{\\Theta})}=\\frac{ \\sum_{x_i\\in \\boldsymbol{X}}f(x_i;\\boldsymbol{\\Theta}) \\nabla_{\\boldsymbol{\\Theta}}\\log{f(x_i;\\boldsymbol{\\Theta})}   }{Z(\\boldsymbol{\\Theta})},\n",
    "$$"
   ]
  },
  {
   "cell_type": "markdown",
   "id": "62fc9e76",
   "metadata": {
    "editable": true
   },
   "source": [
    "which is the expectation value of $\\log{f}$"
   ]
  },
  {
   "cell_type": "markdown",
   "id": "f4c94f15",
   "metadata": {
    "editable": true
   },
   "source": [
    "$$\n",
    "\\nabla_{\\boldsymbol{\\Theta}}\\log{Z(\\boldsymbol{\\Theta})}=\\sum_{x_i\\in \\boldsymbol{X}}p(x_i;\\boldsymbol{\\Theta}) \\nabla_{\\boldsymbol{\\Theta}}\\log{f(x_i;\\boldsymbol{\\Theta})},\n",
    "$$"
   ]
  },
  {
   "cell_type": "markdown",
   "id": "8d9acf3f",
   "metadata": {
    "editable": true
   },
   "source": [
    "that is"
   ]
  },
  {
   "cell_type": "markdown",
   "id": "b15612ff",
   "metadata": {
    "editable": true
   },
   "source": [
    "$$\n",
    "\\nabla_{\\boldsymbol{\\Theta}}\\log{Z(\\boldsymbol{\\Theta})}=\\mathbb{E}(\\log{f(x_i;\\boldsymbol{\\Theta})}).\n",
    "$$"
   ]
  },
  {
   "cell_type": "markdown",
   "id": "e1390374",
   "metadata": {
    "editable": true
   },
   "source": [
    "This quantity is evaluated using Monte Carlo sampling, with Gibbs\n",
    "sampling as the standard sampling rule."
   ]
  },
  {
   "cell_type": "markdown",
   "id": "f391425b",
   "metadata": {
    "editable": true
   },
   "source": [
    "## Kullback-Leibler divergence\n",
    "\n",
    "Before we continue, we need to remind ourselves about the\n",
    "Kullback-Leibler divergence introduced earlier. This will also allow\n",
    "us to introduce another measure used in connection with the training\n",
    "of Generative Adversarial Networks, the so-called Jensen-Shannon divergence..\n",
    "These metrics are useful for quantifying the similarity between two probability distributions.\n",
    "\n",
    "The Kullback–Leibler (KL) divergence, labeled $D_{KL}$,   measures how one probability distribution $p$ diverges from a second expected probability distribution $q$,\n",
    "that is"
   ]
  },
  {
   "cell_type": "markdown",
   "id": "71586dc3",
   "metadata": {
    "editable": true
   },
   "source": [
    "$$\n",
    "D_{KL}(p \\| q) = \\int_x p(x) \\log \\frac{p(x)}{q(x)} dx.\n",
    "$$"
   ]
  },
  {
   "cell_type": "markdown",
   "id": "6042b046",
   "metadata": {
    "editable": true
   },
   "source": [
    "The KL-divegrnece $D_{KL}$ achieves the minimum zero when $p(x) == q(x)$ everywhere.\n",
    "\n",
    "Note that the KL divergence is asymmetric. In cases where $p(x)$ is\n",
    "close to zero, but $q(x)$ is significantly non-zero, the $q$'s effect\n",
    "is disregarded. It could cause buggy results when we just want to\n",
    "measure the similarity between two equally important distributions."
   ]
  },
  {
   "cell_type": "markdown",
   "id": "d20cf644",
   "metadata": {
    "editable": true
   },
   "source": [
    "## Jensen-Shannon divergence\n",
    "\n",
    "The Jensen–Shannon (JS) divergence is another measure of similarity between\n",
    "two probability distributions, bounded by $[0, 1]$. The JS-divergence is\n",
    "symmetric and more smooth than the KL-divergence.\n",
    "It is defined as"
   ]
  },
  {
   "cell_type": "markdown",
   "id": "1d9ded24",
   "metadata": {
    "editable": true
   },
   "source": [
    "$$\n",
    "D_{JS}(p \\| q) = \\frac{1}{2} D_{KL}(p \\| \\frac{p + q}{2}) + \\frac{1}{2} D_{KL}(q \\| \\frac{p + q}{2})\n",
    "$$"
   ]
  },
  {
   "cell_type": "markdown",
   "id": "e42178b6",
   "metadata": {
    "editable": true
   },
   "source": [
    "Many practitioners believe that one reason behind GANs' big success is\n",
    "switching the loss function from asymmetric KL-divergence in\n",
    "traditional maximum-likelihood approach to symmetric JS-divergence."
   ]
  },
  {
   "cell_type": "markdown",
   "id": "09f95d9a",
   "metadata": {
    "editable": true
   },
   "source": [
    "## Generative model,  basic overview (Borrowed from Rashcka et al)\n",
    "\n",
    "<!-- dom:FIGURE: [figures/figure1.png, width=900 frac=1.0] -->\n",
    "<!-- begin figure -->\n",
    "\n",
    "<img src=\"figures/figure1.png\" width=\"900\"><p style=\"font-size: 0.9em\"><i>Figure 1: </i></p>\n",
    "<!-- end figure -->"
   ]
  },
  {
   "cell_type": "markdown",
   "id": "18a2b94d",
   "metadata": {
    "editable": true
   },
   "source": [
    "## Reminder on VAEs\n",
    "\n",
    "Mathematically, we can imagine the latent variables and the data we\n",
    "observe as modeled by a joint distribution $p(\\boldsymbol{x}, \\boldsymbol{h};\\boldsymbol{\\Theta})$.  Recall one\n",
    "approach of generative modeling, termed likelihood-based, is to\n",
    "learn a model to maximize the likelihood $p(\\boldsymbol{x};\\boldsymbol{\\Theta})$ of all observed\n",
    "$\\boldsymbol{x}$.  There are two ways we can manipulate this joint distribution\n",
    "to recover the likelihood of purely our observed data $p(\\boldsymbol{x};\\boldsymbol{\\Theta})$; we can\n",
    "explicitly marginalize\n",
    "out the latent variable $\\boldsymbol{h}$"
   ]
  },
  {
   "cell_type": "markdown",
   "id": "19583482",
   "metadata": {
    "editable": true
   },
   "source": [
    "$$\n",
    "p(\\boldsymbol{x}) = \\int p(\\boldsymbol{x}, \\boldsymbol{h})d\\boldsymbol{h}\n",
    "$$"
   ]
  },
  {
   "cell_type": "markdown",
   "id": "0836982d",
   "metadata": {
    "editable": true
   },
   "source": [
    "or, we could also appeal to the chain rule of probability"
   ]
  },
  {
   "cell_type": "markdown",
   "id": "ae4be538",
   "metadata": {
    "editable": true
   },
   "source": [
    "$$\n",
    "p(\\boldsymbol{x}) = \\frac{p(\\boldsymbol{x}, \\boldsymbol{h})}{p(\\boldsymbol{h}|\\boldsymbol{x})}\n",
    "$$"
   ]
  },
  {
   "cell_type": "markdown",
   "id": "7ffb8c95",
   "metadata": {
    "editable": true
   },
   "source": [
    "We suppress here the dependence\ton the optimization parameters $\\boldsymbol{\\Theta}$."
   ]
  },
  {
   "cell_type": "markdown",
   "id": "62aa7b51",
   "metadata": {
    "editable": true
   },
   "source": [
    "## Evidence Lower Bound\n",
    "Directly computing and maximizing the likelihood $p(\\boldsymbol{x})$ is\n",
    "difficult because it either involves integrating out all latent\n",
    "variables $\\boldsymbol{h}$, which is intractable for\n",
    "complex models, or it involves having access to a ground truth latent\n",
    "encoder $p(\\boldsymbol{h}|\\boldsymbol{x})$.\n",
    "\n",
    "Using the last  two equations, we can derive a term called the Evidence Lower Bound (ELBO), which as its name suggests, is a lower\n",
    "  bound of the evidence.  The evidence is quantified in this case as\n",
    "the log likelihood of the observed data.  Then, maximizing the ELBO\n",
    "becomes a proxy objective with which to optimize a latent variable\n",
    "model; in the best case, when the ELBO is powerfully parameterized and\n",
    "perfectly optimized, it becomes exactly equivalent to the evidence."
   ]
  },
  {
   "cell_type": "markdown",
   "id": "f8b3736f",
   "metadata": {
    "editable": true
   },
   "source": [
    "## ELBO equations\n",
    "Formally, the equation of the ELBO is"
   ]
  },
  {
   "cell_type": "markdown",
   "id": "780e9d0f",
   "metadata": {
    "editable": true
   },
   "source": [
    "$$\n",
    "\\mathbb{E}_{q_{\\boldsymbol{\\phi}}(\\boldsymbol{h}|\\boldsymbol{x})}\\left[\\log\\frac{p(\\boldsymbol{x}, \\boldsymbol{h})}{q_{\\boldsymbol{\\phi}}(\\boldsymbol{h}|\\boldsymbol{x})}\\right]\n",
    "$$"
   ]
  },
  {
   "cell_type": "markdown",
   "id": "216c8f3a",
   "metadata": {
    "editable": true
   },
   "source": [
    "To make the relationship with the evidence explicit, we can mathematically write:"
   ]
  },
  {
   "cell_type": "markdown",
   "id": "05117498",
   "metadata": {
    "editable": true
   },
   "source": [
    "$$\n",
    "\\log p(\\boldsymbol{x}) \\geq \\mathbb{E}_{q_{\\boldsymbol{\\phi}}(\\boldsymbol{h}|\\boldsymbol{x})}\\left[\\log\\frac{p(\\boldsymbol{x}, \\boldsymbol{h})}{q_{\\boldsymbol{\\phi}}(\\boldsymbol{h}|\\boldsymbol{x})}\\right]\n",
    "$$"
   ]
  },
  {
   "cell_type": "markdown",
   "id": "e095ece6",
   "metadata": {
    "editable": true
   },
   "source": [
    "## Introducing the encoder function\n",
    "\n",
    "Here, $q_{\\boldsymbol{\\phi}}(\\boldsymbol{h}|\\boldsymbol{x})$ is a flexible approximate\n",
    "variational distribution with parameters $\\boldsymbol{\\phi}$ that we seek to\n",
    "optimize.  Intuitively, it can be thought of as a parameterizable\n",
    "model that is learned to estimate the true distribution over latent\n",
    "variables for given observations $\\boldsymbol{x}$; in other words, it seeks to\n",
    "approximate true posterior $p(\\boldsymbol{h}|\\boldsymbol{x})$.  As we saw last week when we\n",
    "explored Variational Autoencoders, as we increase the lower bound\n",
    "by tuning the parameters $\\boldsymbol{\\phi}$ to maximize the ELBO, we gain\n",
    "access to components that can be used to model the true data\n",
    "distribution and sample from it, thus learning a generative model."
   ]
  },
  {
   "cell_type": "markdown",
   "id": "447b2be9",
   "metadata": {
    "editable": true
   },
   "source": [
    "## The derivation from last week\n",
    "\n",
    "To better understand the relationship between the evidence and the ELBO, let us perform another derivation, this time using"
   ]
  },
  {
   "cell_type": "markdown",
   "id": "709128f2",
   "metadata": {
    "editable": true
   },
   "source": [
    "$$\n",
    "\\begin{align*}\n",
    "\\log p(\\boldsymbol{x}) & = \\log p(\\boldsymbol{x}) \\int q_{\\boldsymbol{\\phi}}(\\boldsymbol{h}|\\boldsymbol{x})dh && \\text{(Multiply by $1 = \\int q_{\\boldsymbol{\\phi}}(\\boldsymbol{h}|\\boldsymbol{x})d\\boldsymbol{h}$)}\\\\\n",
    "          & = \\int q_{\\boldsymbol{\\phi}}(\\boldsymbol{h}|\\boldsymbol{x})(\\log p(\\boldsymbol{x}))dh && \\text{(Bring evidence into integral)}\\\\\n",
    "          & = \\mathbb{E}_{q_{\\boldsymbol{\\phi}}(\\boldsymbol{h}|\\boldsymbol{x})}\\left[\\log p(\\boldsymbol{x})\\right] && \\text{(Definition of Expectation)}\\\\\n",
    "          & = \\mathbb{E}_{q_{\\boldsymbol{\\phi}}(\\boldsymbol{h}|\\boldsymbol{x})}\\left[\\log\\frac{p(\\boldsymbol{x}, \\boldsymbol{h})}{p(\\boldsymbol{h}|\\boldsymbol{x})}\\right]&& \\\\\n",
    "          & = \\mathbb{E}_{q_{\\boldsymbol{\\phi}}(\\boldsymbol{h}|\\boldsymbol{x})}\\left[\\log\\frac{p(\\boldsymbol{x}, \\boldsymbol{h})q_{\\boldsymbol{\\phi}}(\\boldsymbol{h}|\\boldsymbol{x})}{p(\\boldsymbol{h}|\\boldsymbol{x})q_{\\boldsymbol{\\phi}}(\\boldsymbol{h}|\\boldsymbol{x})}\\right]&& \\text{(Multiply by $1 = \\frac{q_{\\boldsymbol{\\phi}}(\\boldsymbol{h}|\\boldsymbol{x})}{q_{\\boldsymbol{\\phi}}(\\boldsymbol{h}|\\boldsymbol{x})}$)}\\\\\n",
    "          & = \\mathbb{E}_{q_{\\boldsymbol{\\phi}}(\\boldsymbol{h}|\\boldsymbol{x})}\\left[\\log\\frac{p(\\boldsymbol{x}, \\boldsymbol{h})}{q_{\\boldsymbol{\\phi}}(\\boldsymbol{h}|\\boldsymbol{x})}\\right] + \\mathbb{E}_{q_{\\boldsymbol{\\phi}}(\\boldsymbol{h}|\\boldsymbol{x})}\\left[\\log\\frac{q_{\\boldsymbol{\\phi}}(\\boldsymbol{h}|\\boldsymbol{x})}{p(\\boldsymbol{h}|\\boldsymbol{x})}\\right] && \\text{(Split the Expectation)}\\\\\n",
    "          & = \\mathbb{E}_{q_{\\boldsymbol{\\phi}}(\\boldsymbol{h}|\\boldsymbol{x})}\\left[\\log\\frac{p(\\boldsymbol{x}, \\boldsymbol{h})}{q_{\\boldsymbol{\\phi}}(\\boldsymbol{h}|\\boldsymbol{x})}\\right] +\n",
    "\t  D_{KL}(q_{\\boldsymbol{\\phi}}(\\boldsymbol{h}|\\boldsymbol{x})\\vert\\vert p(\\boldsymbol{h}|\\boldsymbol{x}))  && \\text{(Definition of KL Divergence)}\\\\\n",
    "          & \\geq \\mathbb{E}_{q_{\\boldsymbol{\\phi}}(\\boldsymbol{h}|\\boldsymbol{x})}\\left[\\log\\frac{p(\\boldsymbol{x}, \\boldsymbol{h})}{q_{\\boldsymbol{\\phi}}(\\boldsymbol{h}|\\boldsymbol{x})}\\right]  && \\text{(KL Divergence always $\\geq 0$)}\n",
    "\\end{align*}\n",
    "$$"
   ]
  },
  {
   "cell_type": "markdown",
   "id": "2840182f",
   "metadata": {
    "editable": true
   },
   "source": [
    "## Analysis\n",
    "\n",
    "From this derivation, we clearly observe from the last equation\n",
    "that the evidence is equal to the ELBO plus the KL Divergence between\n",
    "the approximate posterior $q_{\\boldsymbol{\\phi}}(\\boldsymbol{h}|\\boldsymbol{x})$ and the true\n",
    "posterior $p(\\boldsymbol{h}|\\boldsymbol{x})$.  Understanding this term is the\n",
    "key to understanding not only the relationship between the ELBO and\n",
    "the evidence, but also the reason why optimizing the ELBO is an\n",
    "appropriate objective at all."
   ]
  },
  {
   "cell_type": "markdown",
   "id": "a19f85d0",
   "metadata": {
    "editable": true
   },
   "source": [
    "## The VAE\n",
    "\n",
    "In the default formulation of the VAE by Kingma and Welling (2015), we directly maximize the ELBO.  This\n",
    "approach is \\textit{variational}, because we optimize for the best\n",
    "$q_{\\boldsymbol{\\phi}}(\\boldsymbol{h}|\\boldsymbol{x})$ amongst a family of potential posterior\n",
    "distributions parameterized by $\\boldsymbol{\\phi}$.  It is called an\n",
    "\\textit{autoencoder} because it is reminiscent of a traditional\n",
    "autoencoder model, where input data is trained to predict itself after\n",
    "undergoing an intermediate bottlenecking representation step."
   ]
  },
  {
   "cell_type": "markdown",
   "id": "8dd0ce7b",
   "metadata": {
    "editable": true
   },
   "source": [
    "## Dissecting the equations\n",
    "To make\n",
    "this connection explicit, let us dissect the ELBO term further:"
   ]
  },
  {
   "cell_type": "markdown",
   "id": "0e1892c3",
   "metadata": {
    "editable": true
   },
   "source": [
    "$$\n",
    "\\begin{align*}\n",
    "{\\mathbb{E}_{q_{\\boldsymbol{\\phi}}(\\boldsymbol{h}|\\boldsymbol{x})}\\left[\\log\\frac{p(\\boldsymbol{x}, \\boldsymbol{h})}{q_{\\boldsymbol{\\phi}}(\\boldsymbol{h}|\\boldsymbol{x})}\\right]}\n",
    "&= {\\mathbb{E}_{q_{\\boldsymbol{\\phi}}(\\boldsymbol{h}|\\boldsymbol{x})}\\left[\\log\\frac{p_{\\boldsymbol{\\theta}}(\\boldsymbol{x}|\\boldsymbol{h})p(\\boldsymbol{h})}{q_{\\boldsymbol{\\phi}}(\\boldsymbol{h}|\\boldsymbol{x})}\\right]}         && {\\text{(Chain Rule of Probability)}}\\\\\n",
    "&= {\\mathbb{E}_{q_{\\boldsymbol{\\phi}}(\\boldsymbol{h}|\\boldsymbol{x})}\\left[\\log p_{\\boldsymbol{\\theta}}(\\boldsymbol{x}|\\boldsymbol{h})\\right] + \\mathbb{E}_{q_{\\boldsymbol{\\phi}}(\\boldsymbol{h}|\\boldsymbol{x})}\\left[\\log\\frac{p(\\boldsymbol{h})}{q_{\\boldsymbol{\\phi}}(\\boldsymbol{h}|\\boldsymbol{x})}\\right]}         && {\\text{(Split the Expectation)}}\\\\\n",
    "&= \\underbrace{{\\mathbb{E}_{q_{\\boldsymbol{\\phi}}(\\boldsymbol{h}|\\boldsymbol{x})}\\left[\\log p_{\\boldsymbol{\\theta}}(\\boldsymbol{x}|\\boldsymbol{h})\\right]}}_\\text{reconstruction term} - \\underbrace{{D_{KL}(q_{\\boldsymbol{\\phi}}(\\boldsymbol{h}|\\boldsymbol{x})}\\vert\\vert{p(\\boldsymbol{h}))}}_\\text{prior matching term} && {\\text{(Definition of KL Divergence)}}\n",
    "\\end{align*}\n",
    "$$"
   ]
  },
  {
   "cell_type": "markdown",
   "id": "c87201d3",
   "metadata": {
    "editable": true
   },
   "source": [
    "## Bottlenecking distribution\n",
    "\n",
    "In this case, we learn an intermediate bottlenecking distribution\n",
    "$q_{\\boldsymbol{\\phi}}(\\boldsymbol{h}|\\boldsymbol{x})$ that can be treated as\n",
    "an \\textit{encoder}; it transforms inputs into a distribution over\n",
    "possible latents.  Simultaneously, we learn a deterministic function\n",
    "$p_{\\boldsymbol{\\theta}}(\\boldsymbol{x}|\\boldsymbol{h})$ to convert a given latent vector\n",
    "$\\boldsymbol{h}$ into an observation $\\boldsymbol{x}$, which can be interpreted as\n",
    "a \\textit{decoder}."
   ]
  },
  {
   "cell_type": "markdown",
   "id": "bfab7537",
   "metadata": {
    "editable": true
   },
   "source": [
    "## Decoder and encoder\n",
    "The two terms in the last equation each have intuitive descriptions: the first\n",
    "term measures the reconstruction likelihood of the decoder from our\n",
    "variational distribution; this ensures that the learned distribution\n",
    "is modeling effective latents that the original data can be\n",
    "regenerated from.  The second term measures how similar the learned\n",
    "variational distribution is to a prior belief held over latent\n",
    "variables.  Minimizing this term encourages the encoder to actually\n",
    "learn a distribution rather than collapse into a Dirac delta function.\n",
    "Maximizing the ELBO is thus equivalent to maximizing its first term\n",
    "and minimizing its second term."
   ]
  },
  {
   "cell_type": "markdown",
   "id": "a3919404",
   "metadata": {
    "editable": true
   },
   "source": [
    "## Defining feature of VAEs\n",
    "\n",
    "A defining feature of the VAE is how the ELBO is optimized jointly over parameters $\\boldsymbol{\\phi}$ and $\\boldsymbol{\\theta}$.  The encoder of the VAE is commonly chosen to model a multivariate Gaussian with diagonal covariance, and the prior is often selected to be a standard multivariate Gaussian:"
   ]
  },
  {
   "cell_type": "markdown",
   "id": "4c967472",
   "metadata": {
    "editable": true
   },
   "source": [
    "$$\n",
    "\\begin{align*}\n",
    "    q_{\\boldsymbol{\\phi}}(\\boldsymbol{h}|\\boldsymbol{x}) &= N(\\boldsymbol{h}; \\boldsymbol{\\mu}_{\\boldsymbol{\\phi}}(\\boldsymbol{x}), \\boldsymbol{\\sigma}_{\\boldsymbol{\\phi}}^2(\\boldsymbol{x})\\textbf{I})\\\\\n",
    "    p(\\boldsymbol{h}) &= N(\\boldsymbol{h}; \\boldsymbol{0}, \\textbf{I})\n",
    "\\end{align*}\n",
    "$$"
   ]
  },
  {
   "cell_type": "markdown",
   "id": "52a6f5da",
   "metadata": {
    "editable": true
   },
   "source": [
    "## Analytical evaluation\n",
    "\n",
    "Then, the KL divergence term of the ELBO can be computed analytically, and the reconstruction term can be approximated using a Monte Carlo estimate.  Our objective can then be rewritten as:"
   ]
  },
  {
   "cell_type": "markdown",
   "id": "d57e59e7",
   "metadata": {
    "editable": true
   },
   "source": [
    "$$\n",
    "\\begin{align*}\n",
    "  \\mathrm{argmax}_{\\boldsymbol{\\phi}, \\boldsymbol{\\theta}} \\mathbb{E}_{q_{\\boldsymbol{\\phi}}(\\boldsymbol{h}|\\boldsymbol{x})}\\left[\\log p_{\\boldsymbol{\\theta}}(\\boldsymbol{x}|\\boldsymbol{h})\\right] - D_{KL}(q_{\\boldsymbol{\\phi}}(\\boldsymbol{h}|\\boldsymbol{x})\\vert\\vert p(\\boldsymbol{h})) \\approx \\mathrm{argmax}_{\\boldsymbol{\\phi}, \\boldsymbol{\\theta}} \\sum_{l=1}^{L}\\log p_{\\boldsymbol{\\theta}}(\\boldsymbol{x}|\\boldsymbol{h}^{(l)}) - D_{KL}(q_{\\boldsymbol{\\phi}}(\\boldsymbol{h}|\\boldsymbol{x})\\vert\\vert p(\\boldsymbol{h}))\n",
    "\\end{align*}\n",
    "$$"
   ]
  },
  {
   "cell_type": "markdown",
   "id": "921da238",
   "metadata": {
    "editable": true
   },
   "source": [
    "where latents $\\{\\boldsymbol{h}^{(l)}\\}_{l=1}^L$ are sampled from $q_{\\boldsymbol{\\phi}}(\\boldsymbol{h}|\\boldsymbol{x})$, for every observation $\\boldsymbol{x}$ in the dataset."
   ]
  },
  {
   "cell_type": "markdown",
   "id": "00966db8",
   "metadata": {
    "editable": true
   },
   "source": [
    "## Reparameterization trick\n",
    "\n",
    "However, a problem arises in this default setup: each $\\boldsymbol{h}^{(l)}$\n",
    "that our loss is computed on is generated by a stochastic sampling\n",
    "procedure, which is generally non-differentiable.  Fortunately, this\n",
    "can be addressed via the \\textit{reparameterization trick} when\n",
    "$q_{\\boldsymbol{\\phi}}(\\boldsymbol{h}|\\boldsymbol{x})$ is designed to model certain\n",
    "distributions, including the multivariate Gaussian."
   ]
  },
  {
   "cell_type": "markdown",
   "id": "3b9fb44a",
   "metadata": {
    "editable": true
   },
   "source": [
    "## Actual implementation\n",
    "\n",
    "The reparameterization trick rewrites a random variable as a\n",
    "deterministic function of a noise variable; this allows for the\n",
    "optimization of the non-stochastic terms through gradient descent.\n",
    "For example, samples from a normal distribution\n",
    "$x \\sim N(x;\\mu, \\sigma^2)$ with arbitrary mean $\\mu$ and\n",
    "variance $\\sigma^2$ can be rewritten as"
   ]
  },
  {
   "cell_type": "markdown",
   "id": "93627bb2",
   "metadata": {
    "editable": true
   },
   "source": [
    "$$\n",
    "\\begin{align*}\n",
    "    x &= \\mu + \\sigma\\epsilon \\quad \\text{with } \\epsilon \\sim N(\\epsilon; 0, \\boldsymbol{I})\n",
    "\\end{align*}\n",
    "$$"
   ]
  },
  {
   "cell_type": "markdown",
   "id": "82348034",
   "metadata": {
    "editable": true
   },
   "source": [
    "## Interpretation\n",
    "An arbitrary Gaussian distributions can be interpreted as\n",
    "standard Gaussians (of which $\\epsilon$ is a sample) that have their\n",
    "mean shifted from zero to the target mean $\\mu$ by addition, and their\n",
    "variance stretched by the target variance $\\sigma^2$.  Therefore, by\n",
    "the reparameterization trick, sampling from an arbitrary Gaussian\n",
    "distribution can be performed by sampling from a standard Gaussian,\n",
    "scaling the result by the target standard deviation, and shifting it\n",
    "by the target mean."
   ]
  },
  {
   "cell_type": "markdown",
   "id": "29eb0946",
   "metadata": {
    "editable": true
   },
   "source": [
    "## Deterministic function\n",
    "\n",
    "In a VAE, each $\\boldsymbol{h}$ is thus computed as a deterministic function of input $\\boldsymbol{x}$ and auxiliary noise variable $\\boldsymbol{\\epsilon}$:"
   ]
  },
  {
   "cell_type": "markdown",
   "id": "c96afc97",
   "metadata": {
    "editable": true
   },
   "source": [
    "$$\n",
    "\\begin{align*}\n",
    "    \\boldsymbol{h} &= \\boldsymbol{\\mu}_{\\boldsymbol{\\phi}}(\\boldsymbol{x}) + \\boldsymbol{\\sigma}_{\\boldsymbol{\\phi}}(\\boldsymbol{x})\\odot\\boldsymbol{\\epsilon} \\quad \\text{with } \\boldsymbol{\\epsilon} \\sim N(\\boldsymbol{\\epsilon};\\boldsymbol{0}, \\textbf{I})\n",
    "\\end{align*}\n",
    "$$"
   ]
  },
  {
   "cell_type": "markdown",
   "id": "9a77743c",
   "metadata": {
    "editable": true
   },
   "source": [
    "where $\\odot$ represents an element-wise product.  Under this\n",
    "reparameterized version of $\\boldsymbol{h}$, gradients can then be computed\n",
    "with respect to $\\boldsymbol{\\phi}$ as desired, to optimize\n",
    "$\\boldsymbol{\\mu}_{\\boldsymbol{\\phi}}$ and $\\boldsymbol{\\sigma}_{\\boldsymbol{\\phi}}$.  The VAE\n",
    "therefore utilizes the reparameterization trick and Monte Carlo\n",
    "estimates to optimize the ELBO jointly over $\\boldsymbol{\\phi}$ and\n",
    "$\\boldsymbol{\\theta}$."
   ]
  },
  {
   "cell_type": "markdown",
   "id": "8059d00f",
   "metadata": {
    "editable": true
   },
   "source": [
    "## After training\n",
    "\n",
    "After training a VAE, generating new data can be performed by sampling\n",
    "directly from the latent space $p(\\boldsymbol{h})$ and then running it through\n",
    "the decoder.  Variational Autoencoders are particularly interesting\n",
    "when the dimensionality of $\\boldsymbol{h}$ is less than that of input\n",
    "$\\boldsymbol{x}$, as we might then be learning compact, useful\n",
    "representations.  Furthermore, when a semantically meaningful latent\n",
    "space is learned, latent vectors can be edited before being passed to\n",
    "the decoder to more precisely control the data generated."
   ]
  },
  {
   "cell_type": "markdown",
   "id": "68e50592",
   "metadata": {
    "editable": true
   },
   "source": [
    "## What is a GAN?\n",
    "\n",
    "A GAN is a deep neural network which consists of two networks, a\n",
    "so-called generator network and a discriminating network, or just\n",
    "discriminator. Through several iterations of generation and\n",
    "discrimination, the idea is that these networks will train each other,\n",
    "while also trying to outsmart each other.\n",
    "\n",
    "In its simplest version, the two networks could be two standard neural networks with a given number of hidden of hidden layers and parameters to train."
   ]
  },
  {
   "cell_type": "markdown",
   "id": "9fe155ca",
   "metadata": {
    "editable": true
   },
   "source": [
    "## What is a generator network?\n",
    "\n",
    "A generator network is often a deep network which uses existing data\n",
    "to generate new data (from for example simulations of physical\n",
    "systems, imagesm video, audio and more) from randomly generated\n",
    "inputs, the so-called latent space. Training the network allows us to\n",
    "generate say new data, images etc. As an example a generator network\n",
    "could for example be a Boltzmann machine as discussed earlier. This\n",
    "machine is trained to produce for example a quantum mechanical\n",
    "probability distribution.\n",
    "\n",
    "It can be a simple neural network with an input layer and an output layer and a given number of hidden layers."
   ]
  },
  {
   "cell_type": "markdown",
   "id": "834bb255",
   "metadata": {
    "editable": true
   },
   "source": [
    "## And what is a discriminator network?\n",
    "\n",
    "A discriminator tries to distinguish between real data and those generated by the abovementioned generator."
   ]
  },
  {
   "cell_type": "markdown",
   "id": "4f134c60",
   "metadata": {
    "editable": true
   },
   "source": [
    "## Appplications of GANs\n",
    "\n",
    "There are exteremely many applications of GANs\n",
    "1. Image generation\n",
    "\n",
    "2. Text-to-image analysis\n",
    "\n",
    "3. Face-aging\n",
    "\n",
    "4. Image-to-image translation\n",
    "\n",
    "5. Video synthesis\n",
    "\n",
    "6. High-resolution image generation\n",
    "\n",
    "7. Completing missing parts of images and much more"
   ]
  },
  {
   "cell_type": "markdown",
   "id": "db32ac68",
   "metadata": {
    "editable": true
   },
   "source": [
    "## Discriminator versus generator  (Borrowed from Rashcka et al)\n",
    "\n",
    "<!-- dom:FIGURE: [figures/figure2.png, width=900 frac=1.0] -->\n",
    "<!-- begin figure -->\n",
    "\n",
    "<img src=\"figures/figure2.png\" width=\"900\"><p style=\"font-size: 0.9em\"><i>Figure 1: </i></p>\n",
    "<!-- end figure -->"
   ]
  },
  {
   "cell_type": "markdown",
   "id": "ba47c9c1",
   "metadata": {
    "editable": true
   },
   "source": [
    "## Generative Adversarial Networks\n",
    "\n",
    "**Generative Adversarial Networks** are a type of unsupervised machine learning\n",
    "algorithm proposed by Goodfellow et. al, see <https://arxiv.org/pdf/1406.2661.pdf>\n",
    "in 2014 (Read the paper first it's only 6 pages). The simplest formulation of\n",
    "the model is based on a game theoretic approach, *zero sum game*, where we pit\n",
    "two neural networks against one another. We define two rival networks, one\n",
    "generator $g$, and one discriminator $d$. The generator directly produces\n",
    "samples"
   ]
  },
  {
   "cell_type": "markdown",
   "id": "fb895c87",
   "metadata": {
    "editable": true
   },
   "source": [
    "$$\n",
    "x = g(z; \\theta^{(g)}).\n",
    "$$"
   ]
  },
  {
   "cell_type": "markdown",
   "id": "444ccf63",
   "metadata": {
    "editable": true
   },
   "source": [
    "## Discriminator\n",
    "\n",
    "The discriminator attempts to distinguish between samples drawn from the\n",
    "training data and samples drawn from the generator. In other words, it tries to\n",
    "tell the difference between the fake data produced by $g$ and the actual data\n",
    "samples we want to do prediction on. The discriminator outputs a probability\n",
    "value given by"
   ]
  },
  {
   "cell_type": "markdown",
   "id": "1a3f4662",
   "metadata": {
    "editable": true
   },
   "source": [
    "$$\n",
    "d(x; \\theta^{(d)}).\n",
    "$$"
   ]
  },
  {
   "cell_type": "markdown",
   "id": "7ddadfca",
   "metadata": {
    "editable": true
   },
   "source": [
    "indicating the probability that $x$ is a real training example rather than a\n",
    "fake sample the generator has generated."
   ]
  },
  {
   "cell_type": "markdown",
   "id": "a244b68b",
   "metadata": {
    "editable": true
   },
   "source": [
    "## Zero-sum game\n",
    "\n",
    "The simplest way to formulate the\n",
    "learning process in a generative adversarial network is a zero-sum game, in\n",
    "which a function"
   ]
  },
  {
   "cell_type": "markdown",
   "id": "0dcc133a",
   "metadata": {
    "editable": true
   },
   "source": [
    "$$\n",
    "v(\\theta^{(g)}, \\theta^{(d)}),\n",
    "$$"
   ]
  },
  {
   "cell_type": "markdown",
   "id": "1fb4338d",
   "metadata": {
    "editable": true
   },
   "source": [
    "determines the reward for the discriminator, while the generator gets the\n",
    "conjugate reward"
   ]
  },
  {
   "cell_type": "markdown",
   "id": "c41ac754",
   "metadata": {
    "editable": true
   },
   "source": [
    "$$\n",
    "-v(\\theta^{(g)}, \\theta^{(d)})\n",
    "$$"
   ]
  },
  {
   "cell_type": "markdown",
   "id": "8f6aa934",
   "metadata": {
    "editable": true
   },
   "source": [
    "## Maximizing reward\n",
    "\n",
    "During learning both of the networks maximize their own reward function, so that\n",
    "the generator gets better and better at tricking the discriminator, while the\n",
    "discriminator gets better and better at telling the difference between the fake\n",
    "and real data. The generator and discriminator alternate on which one trains at\n",
    "one time (i.e. for one epoch). In other words, we keep the generator constant\n",
    "and train the discriminator, then we keep the discriminator constant to train\n",
    "the generator and repeat. It is this back and forth dynamic which lets GANs\n",
    "tackle otherwise intractable generative problems. As the generator improves with\n",
    " training, the discriminator's performance gets worse because it cannot easily\n",
    " tell the difference between real and fake. If the generator ends up succeeding\n",
    " perfectly, the the discriminator will do no better than random guessing i.e.\n",
    " 50\\%."
   ]
  },
  {
   "cell_type": "markdown",
   "id": "ab5ce09f",
   "metadata": {
    "editable": true
   },
   "source": [
    "## Progression in training\n",
    "\n",
    "This progression in the training poses a problem for the convergence\n",
    " criteria for GANs. The discriminator feedback gets less meaningful over time,\n",
    " if we continue training after this point then the generator is effectively\n",
    " training on junk data which can undo the learning up to that point. Therefore,\n",
    " we stop training when the discriminator starts outputting $1/2$ everywhere.\n",
    " At convergence we have"
   ]
  },
  {
   "cell_type": "markdown",
   "id": "30d20331",
   "metadata": {
    "editable": true
   },
   "source": [
    "$$\n",
    "g^* = \\underset{g}{\\mathrm{argmin}}\\hspace{2pt}\n",
    "          \\underset{d}{\\mathrm{max}}v(\\theta^{(g)}, \\theta^{(d)}),\n",
    "$$"
   ]
  },
  {
   "cell_type": "markdown",
   "id": "a4aed469",
   "metadata": {
    "editable": true
   },
   "source": [
    "## Deafault choice\n",
    "The default choice for $v$ is"
   ]
  },
  {
   "cell_type": "markdown",
   "id": "7dc442ca",
   "metadata": {
    "editable": true
   },
   "source": [
    "$$\n",
    "v(\\theta^{(g)}, \\theta^{(d)}) = \\mathbb{E}_{x\\sim p_\\mathrm{data}}\\log d(x)\n",
    "                                  + \\mathbb{E}_{x\\sim p_\\mathrm{model}}\n",
    "                                  \\log (1 - d(x)).\n",
    "$$"
   ]
  },
  {
   "cell_type": "markdown",
   "id": "00bbdf9f",
   "metadata": {
    "editable": true
   },
   "source": [
    "## Design of GANs\n",
    "The main motivation for the design of GANs is that the learning process requires\n",
    "neither approximate inference (variational autoencoders for example) nor\n",
    "approximation of a partition function. In the case where"
   ]
  },
  {
   "cell_type": "markdown",
   "id": "f328f999",
   "metadata": {
    "editable": true
   },
   "source": [
    "$$\n",
    "\\underset{d}{\\mathrm{max}}v(\\theta^{(g)}, \\theta^{(d)})\n",
    "$$"
   ]
  },
  {
   "cell_type": "markdown",
   "id": "6a2e4da3",
   "metadata": {
    "editable": true
   },
   "source": [
    "is convex in $\\theta^{(g)}$ then the procedure is guaranteed to converge and is\n",
    "asymptotically consistent\n",
    "( [Seth Lloyd on QuGANs](https://arxiv.org/pdf/1804.09139.pdf)  ). This is in\n",
    "general not the case and it is possible to get situations where the training\n",
    "process never converges because the generator and discriminator chase one\n",
    "another around in the parameter space indefinitely."
   ]
  },
  {
   "cell_type": "markdown",
   "id": "bcca6687",
   "metadata": {
    "editable": true
   },
   "source": [
    "## Steps in building a GAN  (Borrowed from Rashcka et al)\n",
    "\n",
    "<!-- dom:FIGURE: [figures/figure3.png, width=900 frac=1.0] -->\n",
    "<!-- begin figure -->\n",
    "\n",
    "<img src=\"figures/figure3.png\" width=\"900\"><p style=\"font-size: 0.9em\"><i>Figure 1: </i></p>\n",
    "<!-- end figure -->"
   ]
  },
  {
   "cell_type": "markdown",
   "id": "98cb8499",
   "metadata": {
    "editable": true
   },
   "source": [
    "## Generative Adversarial Networks\n",
    "Generative adversarial networks (GANs) have shown great results in\n",
    "many generative tasks to replicate the real-world rich content such as\n",
    "images, human language, and music. It is inspired by game theory: two\n",
    "models, a generator and a discriminator, are competing with each other while\n",
    "making each other stronger at the same time. However, it is rather\n",
    "challenging to train a GANs model, \n",
    "training instability or failure to converge.\n",
    "\n",
    "Generative adversarial networks  consist  of two models (in their simplest form as two opposing feed forward neural networks)\n",
    "1. A discriminator $D$ estimates the probability of a given sample coming from the real dataset. It works as a critic and is optimized to tell the fake samples from the realo ones\n",
    "\n",
    "2. A generator $G$ outputs synthetic samples given a noise variable input $z$ ($z$ brings in potential output diversity). It is trained to capture the real data distribution in order to generate samples that can be as real as possible, or in other words, can trick the discriminator to offer a high probability.\n",
    "\n",
    "At the end of the training, the generator can be used to generate for\n",
    "example new images. In this sense we have trained a model which can\n",
    "produce new samples. We say that we have implicitely defined a\n",
    "probability.\n",
    "\n",
    "These two models compete against each other during the training\n",
    "process: the generator $G$ is trying hard to trick the discriminator,\n",
    "while the critic model $D$ is trying hard not to be cheated. This\n",
    "interesting zero-sum game between two models motivates both to improve\n",
    "their functionalities.\n",
    "\n",
    "<!-- Given, -->\n",
    "\n",
    "<!-- $p_{z}$  Data distribution over noise input $z$  Usually, just uniform. -->\n",
    "<!-- $p_{g}$  The generator's distribution over data $x$ -->\n",
    "<!-- $p_{r}$   Data distribution over real sample $x$ -->\n",
    "\n",
    "On one hand, we want to make sure the discriminator $D$'s decisions\n",
    "over real data are accurate by maximizing $\\mathbb{E}_{x \\sim\n",
    "p_{r}(x)} [\\log D(x)]$. Meanwhile, given a fake sample $G(z), z \\sim\n",
    "p_z(z)$, the discriminator is expected to output a probability,\n",
    "$D(G(z))$, close to zero by maximizing $\\mathbb{E}_{z \\sim p_{z}(z)}\n",
    "[\\log (1 - D(G(z)))]$.\n",
    "\n",
    "On the other hand, the generator is trained to increase the chances of\n",
    "$D$ producing a high probability for a fake example, thus to minimize\n",
    "$\\mathbb{E}_{z \\sim p_{z}(z)} [\\log (1 - D(G(z)))]$.\n",
    "\n",
    "When combining both aspects together, $D$ and $G$ are playing a \\textit{minimax game} in which we should optimize the following loss function:"
   ]
  },
  {
   "cell_type": "markdown",
   "id": "e6af787f",
   "metadata": {
    "editable": true
   },
   "source": [
    "$$\n",
    "\\begin{aligned}\n",
    "\\min_G \\max_D L(D, G) \n",
    "& = \\mathbb{E}_{x \\sim p_{r}(x)} [\\log D(x)] + \\mathbb{E}_{z \\sim p_z(z)} [\\log(1 - D(G(z)))] \\\\\n",
    "& = \\mathbb{E}_{x \\sim p_{r}(x)} [\\log D(x)] + \\mathbb{E}_{x \\sim p_g(x)} [\\log(1 - D(x)]\n",
    "\\end{aligned}\n",
    "$$"
   ]
  },
  {
   "cell_type": "markdown",
   "id": "d9a15e9a",
   "metadata": {
    "editable": true
   },
   "source": [
    "where $\\mathbb{E}_{x \\sim p_{r}(x)} [\\log D(x)]$ has no impact on $G$ during gradient descent updates."
   ]
  },
  {
   "cell_type": "markdown",
   "id": "ee24c8ff",
   "metadata": {
    "editable": true
   },
   "source": [
    "## Optimal value for $D$\n",
    "\n",
    "Now we have a well-defined loss function. Let's first examine what is the best value for $D$."
   ]
  },
  {
   "cell_type": "markdown",
   "id": "f811ecdf",
   "metadata": {
    "editable": true
   },
   "source": [
    "$$\n",
    "L(G, D) = \\int_x \\bigg( p_{r}(x) \\log(D(x)) + p_g (x) \\log(1 - D(x)) \\bigg) dx\n",
    "$$"
   ]
  },
  {
   "cell_type": "markdown",
   "id": "27776912",
   "metadata": {
    "editable": true
   },
   "source": [
    "Since we are interested in what is the best value of $D(x)$ to maximize $L(G, D)$, let us label"
   ]
  },
  {
   "cell_type": "markdown",
   "id": "6d3b9d73",
   "metadata": {
    "editable": true
   },
   "source": [
    "$$\n",
    "\\tilde{x} = D(x), \n",
    "A=p_{r}(x), \n",
    "B=p_g(x)\n",
    "$$"
   ]
  },
  {
   "cell_type": "markdown",
   "id": "b4911af2",
   "metadata": {
    "editable": true
   },
   "source": [
    "And then what is inside the integral (we can safely ignore the integral because $x$ is sampled over all the possible values) is:"
   ]
  },
  {
   "cell_type": "markdown",
   "id": "5162efda",
   "metadata": {
    "editable": true
   },
   "source": [
    "$$\n",
    "\\begin{align*}\n",
    "f(\\tilde{x}) \n",
    "& = A log\\tilde{x} + B log(1-\\tilde{x}) \\\\\n",
    "\\frac{d f(\\tilde{x})}{d \\tilde{x}}\n",
    "& = A \\frac{1}{ln10} \\frac{1}{\\tilde{x}} - B \\frac{1}{ln10} \\frac{1}{1 - \\tilde{x}} \\\\\n",
    "& = \\frac{1}{ln10} (\\frac{A}{\\tilde{x}} - \\frac{B}{1-\\tilde{x}}) \\\\\n",
    "& = \\frac{1}{ln10} \\frac{A - (A + B)\\tilde{x}}{\\tilde{x} (1 - \\tilde{x})} \\\\\n",
    "\\end{align*}\n",
    "$$"
   ]
  },
  {
   "cell_type": "markdown",
   "id": "bee57995",
   "metadata": {
    "editable": true
   },
   "source": [
    "Thus, set $\\frac{d f(\\tilde{x})}{d \\tilde{x}} = 0$, we get the best value of the discriminator: $D^*(x) = \\tilde{x}^* = \\frac{A}{A + B} = \\frac{p_{r}(x)}{p_{r}(x) + p_g(x)} \\in [0, 1]$.\n",
    "Once the generator is trained to its optimal, $p_g$ gets very close to $p_{r}$. When $p_g = p_{r}$, $D^*(x)$ becomes $1/2$.\n",
    "\n",
    "When both $G$ and $D$ are at their optimal values, we have $p_g = p_{r}$ and $D^*(x) = 1/2$ and the loss function becomes:"
   ]
  },
  {
   "cell_type": "markdown",
   "id": "27ffb307",
   "metadata": {
    "editable": true
   },
   "source": [
    "$$\n",
    "\\begin{align*}\n",
    "L(G, D^*) \n",
    "&= \\int_x \\bigg( p_{r}(x) \\log(D^*(x)) + p_g (x) \\log(1 - D^*(x)) \\bigg) dx \\\\\n",
    "&= \\log \\frac{1}{2} \\int_x p_{r}(x) dx + \\log \\frac{1}{2} \\int_x p_g(x) dx \\\\\n",
    "&= -2\\log2\n",
    "\\end{align*}\n",
    "$$"
   ]
  },
  {
   "cell_type": "markdown",
   "id": "97400366",
   "metadata": {
    "editable": true
   },
   "source": [
    "## What does the Loss Function Represent?\n",
    "\n",
    "The JS divergence between $p_{r}$ and $p_g$ can be computed as:"
   ]
  },
  {
   "cell_type": "markdown",
   "id": "f12302f0",
   "metadata": {
    "editable": true
   },
   "source": [
    "$$\n",
    "\\begin{align*}\n",
    "D_{JS}(p_{r} \\| p_g) \n",
    "=& \\frac{1}{2} D_{KL}(p_{r} || \\frac{p_{r} + p_g}{2}) + \\frac{1}{2} D_{KL}(p_{g} || \\frac{p_{r} + p_g}{2}) \\\\\n",
    "=& \\frac{1}{2} \\bigg( \\log2 + \\int_x p_{r}(x) \\log \\frac{p_{r}(x)}{p_{r} + p_g(x)} dx \\bigg) + \\\\& \\frac{1}{2} \\bigg( \\log2 + \\int_x p_g(x) \\log \\frac{p_g(x)}{p_{r} + p_g(x)} dx \\bigg) \\\\\n",
    "=& \\frac{1}{2} \\bigg( \\log4 + L(G, D^*) \\bigg)\n",
    "\\end{align*}\n",
    "$$"
   ]
  },
  {
   "cell_type": "markdown",
   "id": "b636eff3",
   "metadata": {
    "editable": true
   },
   "source": [
    "Thus,"
   ]
  },
  {
   "cell_type": "markdown",
   "id": "c20b731a",
   "metadata": {
    "editable": true
   },
   "source": [
    "$$\n",
    "L(G, D^*) = 2D_{JS}(p_{r} \\| p_g) - 2\\log2\n",
    "$$"
   ]
  },
  {
   "cell_type": "markdown",
   "id": "ba5eb4c6",
   "metadata": {
    "editable": true
   },
   "source": [
    "Essentially the loss function of GAN quantifies the similarity between\n",
    "the generative data distribution $p_g$ and the real sample\n",
    "distribution $p_{r}$ by JS divergence when the discriminator is\n",
    "optimal. The best $G^*$ that replicates the real data distribution\n",
    "leads to the minimum $L(G^*, D^*) = -2\\log2$ which is aligned with\n",
    "equations above."
   ]
  },
  {
   "cell_type": "markdown",
   "id": "6ccd7370",
   "metadata": {
    "editable": true
   },
   "source": [
    "## More references\n",
    "\n",
    "A much deeper discussion on\n",
    "the currently open research problem of GAN convergence is available\n",
    "from <https://www.deeplearningbook.org/contents/generative_models.html>. To\n",
    "anyone interested in learning more about GANs it is a highly recommended read.\n",
    "Direct quote: **In this best-performing formulation, the generator aims to\n",
    "increase the log probability that the discriminator makes a mistake, rather than\n",
    "aiming to decrease the log probability that the discriminator makes the correct\n",
    "prediction.** Another interesting read can be found at <https://arxiv.org/abs/1701.00160>."
   ]
  },
  {
   "cell_type": "markdown",
   "id": "7bf93525",
   "metadata": {
    "editable": true
   },
   "source": [
    "## Writing Our First Generative Adversarial Network\n",
    "\n",
    "This part is best seen using the jupyter-notebook. We follow here\n",
    "closely the code developed by Raschka et al from chapter 17 of their\n",
    "textbook, see <https://github.com/rasbt/python-machine-learning-book-3rd-edition/tree/master/ch17> for codes."
   ]
  },
  {
   "cell_type": "markdown",
   "id": "e1d7f1d1",
   "metadata": {
    "editable": true
   },
   "source": [
    "## Implementing the networks   (Borrowed from Rashcka et al)\n",
    "\n",
    "<!-- dom:FIGURE: [figures/figure4.png, width=900 frac=1.0] -->\n",
    "<!-- begin figure -->\n",
    "\n",
    "<img src=\"figures/figure4.png\" width=\"900\"><p style=\"font-size: 0.9em\"><i>Figure 1: </i></p>\n",
    "<!-- end figure -->"
   ]
  },
  {
   "cell_type": "markdown",
   "id": "1c26f00a",
   "metadata": {
    "editable": true
   },
   "source": [
    "## Code elements"
   ]
  },
  {
   "cell_type": "code",
   "execution_count": 1,
   "id": "3f9bdab9",
   "metadata": {
    "collapsed": false,
    "editable": true
   },
   "outputs": [],
   "source": [
    "%matplotlib inline\n",
    "\n",
    "import torch\n",
    "print(torch.__version__)\n",
    "print(\"GPU Available:\", torch.cuda.is_available())\n",
    "\n",
    "if torch.cuda.is_available():\n",
    "    device = torch.device(\"cuda:0\")\n",
    "else:\n",
    "    device = \"cpu\"\n",
    "\n",
    "import torch.nn as nn\n",
    "import numpy as np\n",
    "import matplotlib.pyplot as plt"
   ]
  },
  {
   "cell_type": "markdown",
   "id": "280dbb97",
   "metadata": {
    "editable": true
   },
   "source": [
    "## Setting up the GAN"
   ]
  },
  {
   "cell_type": "code",
   "execution_count": 2,
   "id": "7e0df89a",
   "metadata": {
    "collapsed": false,
    "editable": true
   },
   "outputs": [],
   "source": [
    "## define a function for the generator:\n",
    "def make_generator_network(\n",
    "        input_size=20,\n",
    "        num_hidden_layers=1,\n",
    "        num_hidden_units=100,\n",
    "        num_output_units=784):\n",
    "    model = nn.Sequential()\n",
    "    for i in range(num_hidden_layers):\n",
    "        model.add_module(f'fc_g{i}', \n",
    "                         nn.Linear(input_size, \n",
    "                                   num_hidden_units)) \n",
    "        model.add_module(f'relu_g{i}', \n",
    "                         nn.LeakyReLU())     \n",
    "        input_size = num_hidden_units\n",
    "    model.add_module(f'fc_g{num_hidden_layers}', \n",
    "                    nn.Linear(input_size, num_output_units))   \n",
    "    model.add_module('tanh_g', nn.Tanh())      \n",
    "    return model\n",
    "\n",
    "## define a function for the discriminator:\n",
    "def make_discriminator_network(\n",
    "        input_size,\n",
    "        num_hidden_layers=1,\n",
    "        num_hidden_units=100,\n",
    "        num_output_units=1):\n",
    "    model = nn.Sequential()\n",
    "    for i in range(num_hidden_layers):\n",
    "        model.add_module(f'fc_d{i}', \n",
    "                 nn.Linear(input_size, \n",
    "                           num_hidden_units, bias=False)) \n",
    "        model.add_module(f'relu_d{i}', \n",
    "                         nn.LeakyReLU())  \n",
    "        model.add_module('dropout', nn.Dropout(p=0.5))\n",
    "        input_size = num_hidden_units\n",
    "    model.add_module(f'fc_d{num_hidden_layers}', \n",
    "                     nn.Linear(input_size, num_output_units))   \n",
    "    model.add_module('sigmoid', nn.Sigmoid())\n",
    "    return model"
   ]
  },
  {
   "cell_type": "markdown",
   "id": "3ec46b09",
   "metadata": {
    "editable": true
   },
   "source": [
    "## Printing the model"
   ]
  },
  {
   "cell_type": "code",
   "execution_count": 3,
   "id": "309e2e3a",
   "metadata": {
    "collapsed": false,
    "editable": true
   },
   "outputs": [],
   "source": [
    "image_size = (28, 28)\n",
    "z_size = 20\n",
    "\n",
    "gen_hidden_layers = 1\n",
    "gen_hidden_size = 100\n",
    "disc_hidden_layers = 1\n",
    "disc_hidden_size = 100\n",
    "\n",
    "torch.manual_seed(1)\n",
    "\n",
    "gen_model = make_generator_network(\n",
    "    input_size=z_size,\n",
    "    num_hidden_layers=gen_hidden_layers, \n",
    "    num_hidden_units=gen_hidden_size,\n",
    "    num_output_units=np.prod(image_size))\n",
    " \n",
    "print(gen_model)"
   ]
  },
  {
   "cell_type": "code",
   "execution_count": 4,
   "id": "646796ec",
   "metadata": {
    "collapsed": false,
    "editable": true
   },
   "outputs": [],
   "source": [
    "disc_model = make_discriminator_network(\n",
    "    input_size=np.prod(image_size),\n",
    "    num_hidden_layers=disc_hidden_layers,\n",
    "    num_hidden_units=disc_hidden_size)\n",
    "\n",
    "print(disc_model)"
   ]
  },
  {
   "cell_type": "markdown",
   "id": "7a0473da",
   "metadata": {
    "editable": true
   },
   "source": [
    "## Defining the training set"
   ]
  },
  {
   "cell_type": "code",
   "execution_count": 5,
   "id": "b1f5b069",
   "metadata": {
    "collapsed": false,
    "editable": true
   },
   "outputs": [],
   "source": [
    "import torchvision \n",
    "from torchvision import transforms \n",
    "\n",
    "\n",
    "image_path = './'\n",
    "transform = transforms.Compose([\n",
    "    transforms.ToTensor(),\n",
    "    transforms.Normalize(mean=(0.5), std=(0.5)),\n",
    "])\n",
    "mnist_dataset = torchvision.datasets.MNIST(root=image_path, \n",
    "                                           train=True, \n",
    "                                           transform=transform, \n",
    "                                           download=True)\n",
    "\n",
    "example, label = next(iter(mnist_dataset))\n",
    "print(f'Min: {example.min()} Max: {example.max()}')\n",
    "print(example.shape)"
   ]
  },
  {
   "cell_type": "markdown",
   "id": "332100d5",
   "metadata": {
    "editable": true
   },
   "source": [
    "## Defining the training set, part 2"
   ]
  },
  {
   "cell_type": "code",
   "execution_count": 6,
   "id": "4d6be600",
   "metadata": {
    "collapsed": false,
    "editable": true
   },
   "outputs": [],
   "source": [
    "def create_noise(batch_size, z_size, mode_z):\n",
    "    if mode_z == 'uniform':\n",
    "        input_z = torch.rand(batch_size, z_size)*2 - 1 \n",
    "    elif mode_z == 'normal':\n",
    "        input_z = torch.randn(batch_size, z_size)\n",
    "    return input_z\n",
    "\n",
    "\n",
    "from torch.utils.data import DataLoader\n",
    "\n",
    "\n",
    "batch_size = 32\n",
    "dataloader = DataLoader(mnist_dataset, batch_size, shuffle=False)\n",
    "input_real, label = next(iter(dataloader))\n",
    "input_real = input_real.view(batch_size, -1)\n",
    "\n",
    "torch.manual_seed(1)\n",
    "mode_z = 'uniform'  # 'uniform' vs. 'normal'\n",
    "input_z = create_noise(batch_size, z_size, mode_z)\n",
    "\n",
    "print('input-z -- shape:', input_z.shape)\n",
    "print('input-real -- shape:', input_real.shape)\n",
    "\n",
    "g_output = gen_model(input_z)\n",
    "print('Output of G -- shape:', g_output.shape)\n",
    "\n",
    "d_proba_real = disc_model(input_real)\n",
    "d_proba_fake = disc_model(g_output)\n",
    "print('Disc. (real) -- shape:', d_proba_real.shape)\n",
    "print('Disc. (fake) -- shape:', d_proba_fake.shape)"
   ]
  },
  {
   "cell_type": "markdown",
   "id": "2f8ab669",
   "metadata": {
    "editable": true
   },
   "source": [
    "## Training the GAN"
   ]
  },
  {
   "cell_type": "code",
   "execution_count": 7,
   "id": "c858d332",
   "metadata": {
    "collapsed": false,
    "editable": true
   },
   "outputs": [],
   "source": [
    "loss_fn = nn.BCELoss()\n",
    "\n",
    "## Loss for the Generator\n",
    "g_labels_real = torch.ones_like(d_proba_fake)\n",
    "g_loss = loss_fn(d_proba_fake, g_labels_real)\n",
    "print(f'Generator Loss: {g_loss:.4f}')\n",
    "\n",
    "## Loss for the Discriminator\n",
    "d_labels_real = torch.ones_like(d_proba_real)\n",
    "d_labels_fake = torch.zeros_like(d_proba_fake)\n",
    "\n",
    "d_loss_real = loss_fn(d_proba_real, d_labels_real)\n",
    "d_loss_fake = loss_fn(d_proba_fake, d_labels_fake)\n",
    "print(f'Discriminator Losses: Real {d_loss_real:.4f} Fake {d_loss_fake:.4f}')"
   ]
  },
  {
   "cell_type": "markdown",
   "id": "6cb82728",
   "metadata": {
    "editable": true
   },
   "source": [
    "## More on training"
   ]
  },
  {
   "cell_type": "code",
   "execution_count": 8,
   "id": "ec774a9e",
   "metadata": {
    "collapsed": false,
    "editable": true
   },
   "outputs": [],
   "source": [
    "batch_size = 64\n",
    "\n",
    "torch.manual_seed(1)\n",
    "np.random.seed(1)\n",
    "\n",
    "## Set up the dataset\n",
    "mnist_dl = DataLoader(mnist_dataset, batch_size=batch_size, \n",
    "                      shuffle=True, drop_last=True)\n",
    " \n",
    "## Set up the models\n",
    "gen_model = make_generator_network(\n",
    "    input_size=z_size,\n",
    "    num_hidden_layers=gen_hidden_layers, \n",
    "    num_hidden_units=gen_hidden_size,\n",
    "    num_output_units=np.prod(image_size)).to(device)\n",
    " \n",
    "disc_model = make_discriminator_network(\n",
    "    input_size=np.prod(image_size),\n",
    "    num_hidden_layers=disc_hidden_layers,\n",
    "    num_hidden_units=disc_hidden_size).to(device)\n",
    " \n",
    "## Loss function and optimizers:\n",
    "loss_fn = nn.BCELoss()\n",
    "g_optimizer = torch.optim.Adam(gen_model.parameters())\n",
    "d_optimizer = torch.optim.Adam(disc_model.parameters())\n",
    "\n",
    "## Train the discriminator\n",
    "def d_train(x):\n",
    "    disc_model.zero_grad()\n",
    "\n",
    "    # Train discriminator with a real batch\n",
    "    batch_size = x.size(0)\n",
    "    x = x.view(batch_size, -1).to(device)\n",
    "    d_labels_real = torch.ones(batch_size, 1, device=device)\n",
    "\n",
    "    d_proba_real = disc_model(x)\n",
    "    d_loss_real = loss_fn(d_proba_real, d_labels_real)\n",
    "\n",
    "    # Train discriminator on a fake batch\n",
    "    input_z = create_noise(batch_size, z_size, mode_z).to(device)\n",
    "    g_output = gen_model(input_z)\n",
    "    \n",
    "    d_proba_fake = disc_model(g_output)\n",
    "    d_labels_fake = torch.zeros(batch_size, 1, device=device)\n",
    "    d_loss_fake = loss_fn(d_proba_fake, d_labels_fake)\n",
    "\n",
    "    # gradient backprop & optimize ONLY D's parameters\n",
    "    d_loss = d_loss_real + d_loss_fake\n",
    "    d_loss.backward()\n",
    "    d_optimizer.step()\n",
    "  \n",
    "    return d_loss.data.item(), d_proba_real.detach(), d_proba_fake.detach()\n",
    "\n",
    "## Train the generator\n",
    "def g_train(x):\n",
    "    gen_model.zero_grad()\n",
    "    \n",
    "    batch_size = x.size(0)\n",
    "    input_z = create_noise(batch_size, z_size, mode_z).to(device)\n",
    "    g_labels_real = torch.ones(batch_size, 1, device=device)\n",
    "\n",
    "    g_output = gen_model(input_z)\n",
    "    d_proba_fake = disc_model(g_output)\n",
    "    g_loss = loss_fn(d_proba_fake, g_labels_real)\n",
    "\n",
    "    # gradient backprop & optimize ONLY G's parameters\n",
    "    g_loss.backward()\n",
    "    g_optimizer.step()\n",
    "        \n",
    "    return g_loss.data.item()"
   ]
  },
  {
   "cell_type": "code",
   "execution_count": 9,
   "id": "67c4d3de",
   "metadata": {
    "collapsed": false,
    "editable": true
   },
   "outputs": [],
   "source": [
    "fixed_z = create_noise(batch_size, z_size, mode_z).to(device)\n",
    "\n",
    "def create_samples(g_model, input_z):\n",
    "    g_output = g_model(input_z)\n",
    "    images = torch.reshape(g_output, (batch_size, *image_size))    \n",
    "    return (images+1)/2.0\n",
    "\n",
    "epoch_samples = []\n",
    "\n",
    "all_d_losses = []\n",
    "all_g_losses = []\n",
    "\n",
    "all_d_real = []\n",
    "all_d_fake = []\n",
    "\n",
    "num_epochs = 100\n",
    "torch.manual_seed(1)\n",
    "for epoch in range(1, num_epochs+1):\n",
    "    d_losses, g_losses = [], []\n",
    "    d_vals_real, d_vals_fake = [], []\n",
    "    for i, (x, _) in enumerate(mnist_dl):\n",
    "        d_loss, d_proba_real, d_proba_fake = d_train(x)\n",
    "        d_losses.append(d_loss)\n",
    "        g_losses.append(g_train(x))\n",
    "        \n",
    "        d_vals_real.append(d_proba_real.mean().cpu())\n",
    "        d_vals_fake.append(d_proba_fake.mean().cpu())\n",
    "        \n",
    "    all_d_losses.append(torch.tensor(d_losses).mean())\n",
    "    all_g_losses.append(torch.tensor(g_losses).mean())\n",
    "    all_d_real.append(torch.tensor(d_vals_real).mean())\n",
    "    all_d_fake.append(torch.tensor(d_vals_fake).mean())\n",
    "    print(f'Epoch {epoch:03d} | Avg Losses >>'\n",
    "          f' G/D {all_g_losses[-1]:.4f}/{all_d_losses[-1]:.4f}'\n",
    "          f' [D-Real: {all_d_real[-1]:.4f} D-Fake: {all_d_fake[-1]:.4f}]')\n",
    "    epoch_samples.append(\n",
    "        create_samples(gen_model, fixed_z).detach().cpu().numpy())"
   ]
  },
  {
   "cell_type": "markdown",
   "id": "9156f147",
   "metadata": {
    "editable": true
   },
   "source": [
    "## Visualizing"
   ]
  },
  {
   "cell_type": "code",
   "execution_count": 10,
   "id": "42fef552",
   "metadata": {
    "collapsed": false,
    "editable": true
   },
   "outputs": [],
   "source": [
    "import itertools\n",
    "\n",
    "\n",
    "fig = plt.figure(figsize=(16, 6))\n",
    "\n",
    "## Plotting the losses\n",
    "ax = fig.add_subplot(1, 2, 1)\n",
    " \n",
    "plt.plot(all_g_losses, label='Generator loss')\n",
    "half_d_losses = [all_d_loss/2 for all_d_loss in all_d_losses]\n",
    "plt.plot(half_d_losses, label='Discriminator loss')\n",
    "plt.legend(fontsize=20)\n",
    "ax.set_xlabel('Iteration', size=15)\n",
    "ax.set_ylabel('Loss', size=15)\n",
    "\n",
    "## Plotting the outputs of the discriminator\n",
    "ax = fig.add_subplot(1, 2, 2)\n",
    "plt.plot(all_d_real, label=r'Real: $D(\\mathbf{x})$')\n",
    "plt.plot(all_d_fake, label=r'Fake: $D(G(\\mathbf{z}))$')\n",
    "plt.legend(fontsize=20)\n",
    "ax.set_xlabel('Iteration', size=15)\n",
    "ax.set_ylabel('Discriminator output', size=15)\n",
    "\n",
    "#plt.savefig('figures/ch17-gan-learning-curve.pdf')\n",
    "plt.show()"
   ]
  },
  {
   "cell_type": "code",
   "execution_count": 11,
   "id": "4514f6ff",
   "metadata": {
    "collapsed": false,
    "editable": true
   },
   "outputs": [],
   "source": [
    "selected_epochs = [1, 2, 4, 10, 50, 100]\n",
    "fig = plt.figure(figsize=(10, 14))\n",
    "for i,e in enumerate(selected_epochs):\n",
    "    for j in range(5):\n",
    "        ax = fig.add_subplot(6, 5, i*5+j+1)\n",
    "        ax.set_xticks([])\n",
    "        ax.set_yticks([])\n",
    "        if j == 0:\n",
    "            ax.text(\n",
    "                -0.06, 0.5, f'Epoch {e}',\n",
    "                rotation=90, size=18, color='red',\n",
    "                horizontalalignment='right',\n",
    "                verticalalignment='center', \n",
    "                transform=ax.transAxes)\n",
    "        \n",
    "        image = epoch_samples[e-1][j]\n",
    "        ax.imshow(image, cmap='gray_r')\n",
    "    \n",
    "#plt.savefig('figures/ch17-vanila-gan-samples.pdf')\n",
    "plt.show()"
   ]
  },
  {
   "cell_type": "markdown",
   "id": "3f004fd2",
   "metadata": {
    "editable": true
   },
   "source": [
    "## Calculating scores"
   ]
  },
  {
   "cell_type": "code",
   "execution_count": 12,
   "id": "3dcb337e",
   "metadata": {
    "collapsed": false,
    "editable": true
   },
   "outputs": [],
   "source": [
    "import math\n",
    "\n",
    "\n",
    "def distance(X, Y, sqrt):\n",
    "    nX = X.size(0)\n",
    "    nY = Y.size(0)\n",
    "    X = X.view(nX,-1).cuda()\n",
    "    X2 = (X*X).sum(1).resize_(nX,1)\n",
    "    Y = Y.view(nY,-1).cuda()\n",
    "    Y2 = (Y*Y).sum(1).resize_(nY,1)\n",
    "\n",
    "    M = torch.zeros(nX, nY)\n",
    "    M.copy_(X2.expand(nX,nY) + Y2.expand(nY,nX).transpose(0,1) - 2*torch.mm(X,Y.transpose(0,1)))\n",
    "\n",
    "    del X, X2, Y, Y2\n",
    "    \n",
    "    if sqrt:\n",
    "        M = ((M+M.abs())/2).sqrt()\n",
    "    \n",
    "    return M\n",
    "\n",
    "def mmd(Mxx, Mxy, Myy, sigma) :\n",
    "    scale = Mxx.mean()\n",
    "    Mxx = torch.exp(-Mxx/(scale*2*sigma*sigma))\n",
    "    Mxy = torch.exp(-Mxy/(scale*2*sigma*sigma))\n",
    "    Myy = torch.exp(-Myy/(scale*2*sigma*sigma))\n",
    "    a = Mxx.mean()+Myy.mean()-2*Mxy.mean()\n",
    "    mmd = math.sqrt(max(a, 0))\n",
    "\n",
    "    return mmd\n",
    "\n",
    "def compute_score(fake, real , k=1, sigma=1, sqrt=True):\n",
    "\n",
    "    Mxx = distance(real, real, False)\n",
    "    Mxy = distance(real, fake, False)\n",
    "    Myy = distance(fake, fake, False)\n",
    "\n",
    " \n",
    "    print(mmd(Mxx, Mxy, Myy, sigma))\n",
    "\n",
    "whole_dl = DataLoader(mnist_dataset, batch_size=10000, \n",
    "                      shuffle=True, drop_last=True) \n",
    "real_image = next(iter(whole_dl))[0]\n",
    "compute_score(torch.from_numpy(epoch_samples[-1]), real_image)"
   ]
  },
  {
   "cell_type": "markdown",
   "id": "57bbb2c1",
   "metadata": {
    "editable": true
   },
   "source": [
    "## Diffusion models, basics\n",
    "\n",
    "Diffusion models are inspired by non-equilibrium thermodynamics. They\n",
    "define a Markov chain of diffusion steps to slowly add random noise to\n",
    "data and then learn to reverse the diffusion process to construct\n",
    "desired data samples from the noise. Unlike VAE or flow models,\n",
    "diffusion models are learned with a fixed procedure and the latent\n",
    "variable has high dimensionality (same as the original data)."
   ]
  },
  {
   "cell_type": "markdown",
   "id": "5dc8db83",
   "metadata": {
    "editable": true
   },
   "source": [
    "## Problems with probabilistic models\n",
    "\n",
    "Historically, probabilistic models suffer from a tradeoff between two\n",
    "conflicting objectives: \\textit{tractability} and\n",
    "\\textit{flexibility}. Models that are \\textit{tractable} can be\n",
    "analytically evaluated and easily fit to data (e.g. a Gaussian or\n",
    "Laplace). However, these models are unable to aptly describe structure\n",
    "in rich datasets. On the other hand, models that are \\textit{flexible}\n",
    "can be molded to fit structure in arbitrary data. For example, we can\n",
    "define models in terms of any (non-negative) function $\\phi(\\boldsymbol{x})$\n",
    "yielding the flexible distribution $p\\left(\\boldsymbol{x}\\right) =\n",
    "\\frac{\\phi\\left(\\boldsymbol{x} \\right)}{Z}$, where $Z$ is a normalization\n",
    "constant. However, computing this normalization constant is generally\n",
    "intractable. Evaluating, training, or drawing samples from such\n",
    "flexible models typically requires a very expensive Monte Carlo\n",
    "process."
   ]
  },
  {
   "cell_type": "markdown",
   "id": "61f738e9",
   "metadata": {
    "editable": true
   },
   "source": [
    "## Diffusion models\n",
    "Diffusion models have several interesting features\n",
    "* extreme flexibility in model structure,\n",
    "\n",
    "* exact sampling,\n",
    "\n",
    "* easy multiplication with other distributions, e.g. in order to compute a posterior, and\n",
    "\n",
    "* the model log likelihood, and the probability of individual states, to be cheaply evaluated."
   ]
  },
  {
   "cell_type": "markdown",
   "id": "58d4283f",
   "metadata": {
    "editable": true
   },
   "source": [
    "## Original idea\n",
    "\n",
    "In the original formulation, one uses a Markov chain to gradually\n",
    "convert one distribution into another, an idea used in non-equilibrium\n",
    "statistical physics and sequential Monte Carlo. Diffusion models build\n",
    "a generative Markov chain which converts a simple known distribution\n",
    "(e.g. a Gaussian) into a target (data) distribution using a diffusion\n",
    "process. Rather than use this Markov chain to approximately evaluate a\n",
    "model which has been otherwise defined, one can  explicitly define the\n",
    "probabilistic model as the endpoint of the Markov chain. Since each\n",
    "step in the diffusion chain has an analytically evaluable probability,\n",
    "the full chain can also be analytically evaluated."
   ]
  },
  {
   "cell_type": "markdown",
   "id": "b39700a0",
   "metadata": {
    "editable": true
   },
   "source": [
    "## Diffusion learning\n",
    "\n",
    "Learning in this framework involves estimating small perturbations to\n",
    "a diffusion process. Estimating small, analytically tractable,\n",
    "perturbations is more tractable than explicitly describing the full\n",
    "distribution with a single, non-analytically-normalizable, potential\n",
    "function.  Furthermore, since a diffusion process exists for any\n",
    "smooth target distribution, this method can capture data distributions\n",
    "of arbitrary form."
   ]
  }
 ],
 "metadata": {},
 "nbformat": 4,
 "nbformat_minor": 5
}
