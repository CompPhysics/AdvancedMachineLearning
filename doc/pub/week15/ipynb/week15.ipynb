{
 "cells": [
  {
   "cell_type": "markdown",
   "id": "0278aaf2",
   "metadata": {
    "editable": true
   },
   "source": [
    "<!-- HTML file automatically generated from DocOnce source (https://github.com/doconce/doconce/)\n",
    "doconce format html week15.do.txt --no_mako -->\n",
    "<!-- dom:TITLE: May 8-12: Advanced machine learning and data analysis for the physical sciences -->"
   ]
  },
  {
   "cell_type": "markdown",
   "id": "ca6de62c",
   "metadata": {
    "editable": true
   },
   "source": [
    "# May 8-12: Advanced machine learning and data analysis for the physical sciences\n",
    "**Morten Hjorth-Jensen**, Department of Physics and Center for Computing in Science Education, University of Oslo, Norway and Department of Physics and Astronomy and Facility for Rare Isotope Beams, Michigan State University, East Lansing, Michigan, USA\n",
    "\n",
    "Date: **May 8-12, 2023**"
   ]
  },
  {
   "cell_type": "markdown",
   "id": "a55d265f",
   "metadata": {
    "editable": true
   },
   "source": [
    "## Plans for the week May 8-12\n",
    "\n",
    "**Last session.**\n",
    "\n",
    "1. Gaussian processes and Bayesian statistics\n",
    "\n",
    "2. [Video of lecture](https://youtu.be/)\n",
    "\n",
    "3. [Whiteboard notes](https://github.com/CompPhysics/AdvancedMachineLearning/blob/main/doc/HandwrittenNotes/NotesApr262023.pdf)"
   ]
  }
 ],
 "metadata": {},
 "nbformat": 4,
 "nbformat_minor": 5
}
