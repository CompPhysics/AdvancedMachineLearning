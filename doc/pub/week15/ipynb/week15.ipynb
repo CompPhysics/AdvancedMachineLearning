{
 "cells": [
  {
   "cell_type": "markdown",
   "id": "c24caffc",
   "metadata": {
    "editable": true
   },
   "source": [
    "<!-- HTML file automatically generated from DocOnce source (https://github.com/doconce/doconce/)\n",
    "doconce format html week15.do.txt --no_mako -->\n",
    "<!-- dom:TITLE: May 8-12: Advanced machine learning and data analysis for the physical sciences -->"
   ]
  },
  {
   "cell_type": "markdown",
   "id": "0dcff983",
   "metadata": {
    "editable": true
   },
   "source": [
    "# May 8-12: Advanced machine learning and data analysis for the physical sciences\n",
    "**Morten Hjorth-Jensen**, Department of Physics and Center for Computing in Science Education, University of Oslo, Norway and Department of Physics and Astronomy and Facility for Rare Isotope Beams, Michigan State University, East Lansing, Michigan, USA\n",
    "\n",
    "Date: **May 8-12, 2023**"
   ]
  },
  {
   "cell_type": "markdown",
   "id": "fbeb7484",
   "metadata": {
    "editable": true
   },
   "source": [
    "## Plans for the week May 8-12\n",
    "\n",
    "**Project discussion and work only.**\n",
    "\n",
    "1. The deadline for the project is set to May 31, with the oral exam (via zoom only)  from the second half of June.\n",
    "\n",
    "2. For the rest of the semester we can schedule individual zoom meetings if needed"
   ]
  }
 ],
 "metadata": {},
 "nbformat": 4,
 "nbformat_minor": 5
}
