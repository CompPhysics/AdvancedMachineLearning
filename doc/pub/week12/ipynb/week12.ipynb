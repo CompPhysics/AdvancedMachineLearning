{
 "cells": [
  {
   "cell_type": "markdown",
   "id": "dd10011a",
   "metadata": {
    "editable": true
   },
   "source": [
    "<!-- HTML file automatically generated from DocOnce source (https://github.com/doconce/doconce/)\n",
    "doconce format html week12.do.txt --no_mako -->\n",
    "<!-- dom:TITLE: Advanced machine learning and data analysis for the physical sciences -->"
   ]
  },
  {
   "cell_type": "markdown",
   "id": "f8af6d21",
   "metadata": {
    "editable": true
   },
   "source": [
    "# Advanced machine learning and data analysis for the physical sciences\n",
    "**Morten Hjorth-Jensen**, Department of Physics and Center for Computing in Science Education, University of Oslo, Norway and Department of Physics and Astronomy and Facility for Rare Isotope Beams, Michigan State University, East Lansing, Michigan, USA\n",
    "\n",
    "Date: **April 9, 2024**"
   ]
  },
  {
   "cell_type": "markdown",
   "id": "3df5d039",
   "metadata": {
    "editable": true
   },
   "source": [
    "## Plans for the week April 8-12, 2024\n",
    "\n",
    "**Generative methods, energy models and Boltzmann machines.**\n",
    "\n",
    "1. Restricted Boltzmann machines, reminder from last week\n",
    "\n",
    "2. Reminder on Markov Chain Monte Carlo and Gibbs sampling\n",
    "\n",
    "3. Discussions of various Boltzmann machines\n",
    "\n",
    "4. Implementation of Boltzmann machines using TensorFlow and Pytorch\n",
    "\n",
    "5. Reading recommendation: Goodfellow et al chapters 18.1-18.2,  20.1-20-7; To create Boltzmann machine using Keras, see Babcock and Bali chapter 4, see <https://github.com/PacktPublishing/Hands-On-Generative-AI-with-Python-and-TensorFlow-2/blob/master/Chapter_4/models/rbm.py>\n",
    "\n",
    "6. See also Foster, chapter 7 on energy-based models at <https://github.com/davidADSP/Generative_Deep_Learning_2nd_Edition/tree/main/notebooks/07_ebm/01_ebm>\n",
    "<!-- o \"Video of lecture\":\"\" -->\n",
    "<!-- o [Whiteboard notes](https://github.com/CompPhysics/AdvancedMachineLearning/blob/main/doc/HandwrittenNotes/2024/NotesApril9.pdf) -->"
   ]
  },
  {
   "cell_type": "markdown",
   "id": "843eb627",
   "metadata": {
    "editable": true
   },
   "source": [
    "## Essential elements of generative models\n",
    "\n",
    "The aim of generative methods is to train a probability distribution $p$. The methods we will focus on are:\n",
    "1. Energy based models, with the family of Boltzmann distributions as a typical example\n",
    "\n",
    "2. Variational autoencoders, based on our discussions on autoencoders\n",
    "\n",
    "3. Generative adversarial networks (GANs) and\n",
    "\n",
    "4. Diffusion models"
   ]
  },
  {
   "cell_type": "markdown",
   "id": "bf700a16",
   "metadata": {
    "editable": true
   },
   "source": [
    "## Energy models\n",
    "\n",
    "Last week we defined a domain $\\boldsymbol{X}$ of stochastic variables $\\boldsymbol{X}= \\{x_0,x_1, \\dots , x_{n-1}\\}$ with a pertinent probability distribution"
   ]
  },
  {
   "cell_type": "markdown",
   "id": "63db5875",
   "metadata": {
    "editable": true
   },
   "source": [
    "$$\n",
    "p(\\boldsymbol{X})=\\prod_{x_i\\in \\boldsymbol{X}}p(x_i),\n",
    "$$"
   ]
  },
  {
   "cell_type": "markdown",
   "id": "2e14043f",
   "metadata": {
    "editable": true
   },
   "source": [
    "where we have assumed that the random varaibles $x_i$ are all independent and identically distributed (iid).\n",
    "\n",
    "We will now assume that we can defined this function in terms of optimization parameters $\\boldsymbol{\\Theta}$, which could be the biases and weights of deep network, and a set of hidden variables we also assume to be random variables which also are iid. The domain of these variables is\n",
    "$\\boldsymbol{H}= \\{h_0,h_1, \\dots , h_{m-1}\\}$."
   ]
  },
  {
   "cell_type": "markdown",
   "id": "37577163",
   "metadata": {
    "editable": true
   },
   "source": [
    "## Probability model\n",
    "\n",
    "We define a probability"
   ]
  },
  {
   "cell_type": "markdown",
   "id": "ec3e05ae",
   "metadata": {
    "editable": true
   },
   "source": [
    "$$\n",
    "p(x_i,h_j;\\boldsymbol{\\Theta}) = \\frac{f(x_i,h_j;\\boldsymbol{\\Theta})}{Z(\\boldsymbol{\\Theta})},\n",
    "$$"
   ]
  },
  {
   "cell_type": "markdown",
   "id": "a3dc4906",
   "metadata": {
    "editable": true
   },
   "source": [
    "where $f(x_i,h_j;\\boldsymbol{\\Theta})$ is a function which we assume is larger or\n",
    "equal than zero and obeys all properties required for a probability\n",
    "distribution and $Z(\\boldsymbol{\\Theta})$ is a normalization constant. Inspired by\n",
    "statistical mechanics, we call it often for the partition function.\n",
    "It is defined as (assuming that we have discrete probability distributions)"
   ]
  },
  {
   "cell_type": "markdown",
   "id": "9074b86e",
   "metadata": {
    "editable": true
   },
   "source": [
    "$$\n",
    "Z(\\boldsymbol{\\Theta})=\\sum_{x_i\\in \\boldsymbol{X}}\\sum_{h_j\\in \\boldsymbol{H}} f(x_i,h_j;\\boldsymbol{\\Theta}).\n",
    "$$"
   ]
  },
  {
   "cell_type": "markdown",
   "id": "596b8a8f",
   "metadata": {
    "editable": true
   },
   "source": [
    "## Marginal and conditional probabilities\n",
    "\n",
    "We can in turn define the marginal probabilities"
   ]
  },
  {
   "cell_type": "markdown",
   "id": "eec12ec9",
   "metadata": {
    "editable": true
   },
   "source": [
    "$$\n",
    "p(x_i;\\boldsymbol{\\Theta}) = \\frac{\\sum_{h_j\\in \\boldsymbol{H}}f(x_i,h_j;\\boldsymbol{\\Theta})}{Z(\\boldsymbol{\\Theta})},\n",
    "$$"
   ]
  },
  {
   "cell_type": "markdown",
   "id": "88114762",
   "metadata": {
    "editable": true
   },
   "source": [
    "and"
   ]
  },
  {
   "cell_type": "markdown",
   "id": "2e9f2fec",
   "metadata": {
    "editable": true
   },
   "source": [
    "$$\n",
    "p(h_i;\\boldsymbol{\\Theta}) = \\frac{\\sum_{x_i\\in \\boldsymbol{X}}f(x_i,h_j;\\boldsymbol{\\Theta})}{Z(\\boldsymbol{\\Theta})}.\n",
    "$$"
   ]
  },
  {
   "cell_type": "markdown",
   "id": "2c55b19d",
   "metadata": {
    "editable": true
   },
   "source": [
    "Similarly, we have the conditional probabilities"
   ]
  },
  {
   "cell_type": "markdown",
   "id": "761b3a0f",
   "metadata": {
    "editable": true
   },
   "source": [
    "$$\n",
    "p(\\boldsymbol{h}|\\boldsymbol{x})=\\prod_j p(h_j| \\boldsymbol{x}),\n",
    "$$"
   ]
  },
  {
   "cell_type": "markdown",
   "id": "744736c0",
   "metadata": {
    "editable": true
   },
   "source": [
    "and"
   ]
  },
  {
   "cell_type": "markdown",
   "id": "26427c8d",
   "metadata": {
    "editable": true
   },
   "source": [
    "$$\n",
    "p(\\boldsymbol{x}|\\boldsymbol{h})=\\prod_i p(x_i | \\boldsymbol{h}).\n",
    "$$"
   ]
  },
  {
   "cell_type": "markdown",
   "id": "8d950427",
   "metadata": {
    "editable": true
   },
   "source": [
    "Explicit expressions will be presented below."
   ]
  },
  {
   "cell_type": "markdown",
   "id": "ad5c31b0",
   "metadata": {
    "editable": true
   },
   "source": [
    "## Optimization problem\n",
    "\n",
    "At the end, we are not interested in the probabilities of the hidden variables. The probability we thus want to optimize is"
   ]
  },
  {
   "cell_type": "markdown",
   "id": "e13aa569",
   "metadata": {
    "editable": true
   },
   "source": [
    "$$\n",
    "p(\\boldsymbol{X};\\boldsymbol{\\Theta})=\\prod_{x_i\\in \\boldsymbol{X}}p(x_i;\\boldsymbol{\\Theta})=\\prod_{x_i\\in \\boldsymbol{X}}\\left(\\frac{\\sum_{h_j\\in \\boldsymbol{H}}f(x_i,h_j;\\boldsymbol{\\Theta})}{Z(\\boldsymbol{\\Theta})}\\right),\n",
    "$$"
   ]
  },
  {
   "cell_type": "markdown",
   "id": "2009018b",
   "metadata": {
    "editable": true
   },
   "source": [
    "which we rewrite as"
   ]
  },
  {
   "cell_type": "markdown",
   "id": "3e71dfff",
   "metadata": {
    "editable": true
   },
   "source": [
    "$$\n",
    "p(\\boldsymbol{X};\\boldsymbol{\\Theta})=\\frac{1}{Z(\\boldsymbol{\\Theta})}\\prod_{x_i\\in \\boldsymbol{X}}\\left(\\sum_{h_j\\in \\boldsymbol{H}}f(x_i,h_j;\\boldsymbol{\\Theta})\\right).\n",
    "$$"
   ]
  },
  {
   "cell_type": "markdown",
   "id": "68e64019",
   "metadata": {
    "editable": true
   },
   "source": [
    "## Further simplifications\n",
    "\n",
    "We simplify further by rewriting it as"
   ]
  },
  {
   "cell_type": "markdown",
   "id": "d7966cc4",
   "metadata": {
    "editable": true
   },
   "source": [
    "$$\n",
    "p(\\boldsymbol{X};\\boldsymbol{\\Theta})=\\frac{1}{Z(\\boldsymbol{\\Theta})}\\prod_{x_i\\in \\boldsymbol{X}}f(x_i;\\boldsymbol{\\Theta}),\n",
    "$$"
   ]
  },
  {
   "cell_type": "markdown",
   "id": "0e02b703",
   "metadata": {
    "editable": true
   },
   "source": [
    "where we used $p(x_i;\\boldsymbol{\\Theta}) = \\sum_{h_j\\in \\boldsymbol{H}}f(x_i,h_j;\\boldsymbol{\\Theta})$.\n",
    "The optimization problem is then"
   ]
  },
  {
   "cell_type": "markdown",
   "id": "6c580e99",
   "metadata": {
    "editable": true
   },
   "source": [
    "$$\n",
    "{\\displaystyle \\mathrm{arg} \\hspace{0.1cm}\\max_{\\boldsymbol{\\boldsymbol{\\Theta}}\\in {\\mathbb{R}}^{p}}} \\hspace{0.1cm}p(\\boldsymbol{X};\\boldsymbol{\\Theta}).\n",
    "$$"
   ]
  },
  {
   "cell_type": "markdown",
   "id": "68f9a5eb",
   "metadata": {
    "editable": true
   },
   "source": [
    "## Optimizing the logarithm instead\n",
    "\n",
    "Computing the derivatives with respect to the parameters $\\boldsymbol{\\Theta}$ is\n",
    "easier (and equivalent) with taking the logarithm of the\n",
    "probability. We will thus optimize"
   ]
  },
  {
   "cell_type": "markdown",
   "id": "731fed19",
   "metadata": {
    "editable": true
   },
   "source": [
    "$$\n",
    "{\\displaystyle \\mathrm{arg} \\hspace{0.1cm}\\max_{\\boldsymbol{\\boldsymbol{\\Theta}}\\in {\\mathbb{R}}^{p}}} \\hspace{0.1cm}\\log{p(\\boldsymbol{X};\\boldsymbol{\\Theta})},\n",
    "$$"
   ]
  },
  {
   "cell_type": "markdown",
   "id": "a066fc47",
   "metadata": {
    "editable": true
   },
   "source": [
    "which leads to"
   ]
  },
  {
   "cell_type": "markdown",
   "id": "1c619e98",
   "metadata": {
    "editable": true
   },
   "source": [
    "$$\n",
    "\\nabla_{\\boldsymbol{\\Theta}}\\log{p(\\boldsymbol{X};\\boldsymbol{\\Theta})}=0.\n",
    "$$"
   ]
  },
  {
   "cell_type": "markdown",
   "id": "00e6bbb0",
   "metadata": {
    "editable": true
   },
   "source": [
    "## Expression for the gradients\n",
    "This leads to the following equation"
   ]
  },
  {
   "cell_type": "markdown",
   "id": "0ba14ae2",
   "metadata": {
    "editable": true
   },
   "source": [
    "$$\n",
    "\\nabla_{\\boldsymbol{\\Theta}}\\log{p(\\boldsymbol{X};\\boldsymbol{\\Theta})}=\\nabla_{\\boldsymbol{\\Theta}}\\left(\\sum_{x_i\\in \\boldsymbol{X}}\\log{f(x_i;\\boldsymbol{\\Theta})}\\right)-\\nabla_{\\boldsymbol{\\Theta}}\\log{Z(\\boldsymbol{\\Theta})}=0.\n",
    "$$"
   ]
  },
  {
   "cell_type": "markdown",
   "id": "80808b60",
   "metadata": {
    "editable": true
   },
   "source": [
    "The first term is called the positive phase and we assume that we have a model for the function $f$ from which we can sample values. Below we will develop an explicit model for this.\n",
    "The second term is called the negative phase and is the one which leads to more difficulties."
   ]
  },
  {
   "cell_type": "markdown",
   "id": "6e984502",
   "metadata": {
    "editable": true
   },
   "source": [
    "## The derivative of the partition function\n",
    "\n",
    "The partition function, defined above as"
   ]
  },
  {
   "cell_type": "markdown",
   "id": "da480278",
   "metadata": {
    "editable": true
   },
   "source": [
    "$$\n",
    "Z(\\boldsymbol{\\Theta})=\\sum_{x_i\\in \\boldsymbol{X}}\\sum_{h_j\\in \\boldsymbol{H}} f(x_i,h_j;\\boldsymbol{\\Theta}),\n",
    "$$"
   ]
  },
  {
   "cell_type": "markdown",
   "id": "6938cdbc",
   "metadata": {
    "editable": true
   },
   "source": [
    "is in general the most problematic term. In principle both $x$ and $h$ can span large degrees of freedom, if not even infinitely many ones, and computing the partition function itself is often not desirable or even feasible. The above derivative of the partition function can however be written in terms of an expectation value which is in turn evaluated  using Monte Carlo sampling and the theory of Markov chains, popularly shortened to MCMC (or just MC$^2$)."
   ]
  },
  {
   "cell_type": "markdown",
   "id": "035338bf",
   "metadata": {
    "editable": true
   },
   "source": [
    "## Explicit expression for the derivative\n",
    "We can rewrite"
   ]
  },
  {
   "cell_type": "markdown",
   "id": "6186d10f",
   "metadata": {
    "editable": true
   },
   "source": [
    "$$\n",
    "\\nabla_{\\boldsymbol{\\Theta}}\\log{Z(\\boldsymbol{\\Theta})}=\\frac{\\nabla_{\\boldsymbol{\\Theta}}Z(\\boldsymbol{\\Theta})}{Z(\\boldsymbol{\\Theta})},\n",
    "$$"
   ]
  },
  {
   "cell_type": "markdown",
   "id": "54a60cda",
   "metadata": {
    "editable": true
   },
   "source": [
    "which reads in more detail"
   ]
  },
  {
   "cell_type": "markdown",
   "id": "677d6211",
   "metadata": {
    "editable": true
   },
   "source": [
    "$$\n",
    "\\nabla_{\\boldsymbol{\\Theta}}\\log{Z(\\boldsymbol{\\Theta})}=\\frac{\\nabla_{\\boldsymbol{\\Theta}} \\sum_{x_i\\in \\boldsymbol{X}}f(x_i;\\boldsymbol{\\Theta})   }{Z(\\boldsymbol{\\Theta})}.\n",
    "$$"
   ]
  },
  {
   "cell_type": "markdown",
   "id": "5fb9fbe3",
   "metadata": {
    "editable": true
   },
   "source": [
    "We can rewrite the function $f$ (we have assumed that is larger or\n",
    "equal than zero) as $f=\\exp{\\log{f}}$. We can then reqrite the last\n",
    "equation as"
   ]
  },
  {
   "cell_type": "markdown",
   "id": "3f679502",
   "metadata": {
    "editable": true
   },
   "source": [
    "$$\n",
    "\\nabla_{\\boldsymbol{\\Theta}}\\log{Z(\\boldsymbol{\\Theta})}=\\frac{ \\sum_{x_i\\in \\boldsymbol{X}} \\nabla_{\\boldsymbol{\\Theta}}\\exp{\\log{f(x_i;\\boldsymbol{\\Theta})}}   }{Z(\\boldsymbol{\\Theta})}.\n",
    "$$"
   ]
  },
  {
   "cell_type": "markdown",
   "id": "8d4a19b2",
   "metadata": {
    "editable": true
   },
   "source": [
    "## Final expression\n",
    "\n",
    "Taking the derivative gives us"
   ]
  },
  {
   "cell_type": "markdown",
   "id": "b2194b65",
   "metadata": {
    "editable": true
   },
   "source": [
    "$$\n",
    "\\nabla_{\\boldsymbol{\\Theta}}\\log{Z(\\boldsymbol{\\Theta})}=\\frac{ \\sum_{x_i\\in \\boldsymbol{X}}f(x_i;\\boldsymbol{\\Theta}) \\nabla_{\\boldsymbol{\\Theta}}\\log{f(x_i;\\boldsymbol{\\Theta})}   }{Z(\\boldsymbol{\\Theta})},\n",
    "$$"
   ]
  },
  {
   "cell_type": "markdown",
   "id": "61f5b1e2",
   "metadata": {
    "editable": true
   },
   "source": [
    "which is the expectation value of $\\log{f}$"
   ]
  },
  {
   "cell_type": "markdown",
   "id": "a83f38b9",
   "metadata": {
    "editable": true
   },
   "source": [
    "$$\n",
    "\\nabla_{\\boldsymbol{\\Theta}}\\log{Z(\\boldsymbol{\\Theta})}=\\sum_{x_i\\in \\boldsymbol{X}}p(x_i;\\boldsymbol{\\Theta}) \\nabla_{\\boldsymbol{\\Theta}}\\log{f(x_i;\\boldsymbol{\\Theta})},\n",
    "$$"
   ]
  },
  {
   "cell_type": "markdown",
   "id": "cc77fbf1",
   "metadata": {
    "editable": true
   },
   "source": [
    "that is"
   ]
  },
  {
   "cell_type": "markdown",
   "id": "3e4b1985",
   "metadata": {
    "editable": true
   },
   "source": [
    "$$\n",
    "\\nabla_{\\boldsymbol{\\Theta}}\\log{Z(\\boldsymbol{\\Theta})}=\\mathbb{E}(\\log{f(x_i;\\boldsymbol{\\Theta})}).\n",
    "$$"
   ]
  },
  {
   "cell_type": "markdown",
   "id": "32cfed11",
   "metadata": {
    "editable": true
   },
   "source": [
    "This quantity is evaluated using Monte Carlo sampling, with Gibbs\n",
    "sampling as the standard sampling rule.  Before we discuss the\n",
    "explicit algorithms, we need to remind ourselves about Markov chains\n",
    "and sampling rules like the Metropolis-Hastings algorithm and Gibbs\n",
    "sampling."
   ]
  },
  {
   "cell_type": "markdown",
   "id": "7cd44f42",
   "metadata": {
    "editable": true
   },
   "source": [
    "## Introducing the energy model\n",
    "\n",
    "As we will see below, a typical Boltzmann machines employs a probability distribution"
   ]
  },
  {
   "cell_type": "markdown",
   "id": "6e47b1aa",
   "metadata": {
    "editable": true
   },
   "source": [
    "$$\n",
    "p(\\boldsymbol{x},\\boldsymbol{h};\\boldsymbol{\\Theta}) = \\frac{f(\\boldsymbol{x},\\boldsymbol{h};\\boldsymbol{\\Theta})}{Z(\\boldsymbol{\\Theta})},\n",
    "$$"
   ]
  },
  {
   "cell_type": "markdown",
   "id": "e9eac6bd",
   "metadata": {
    "editable": true
   },
   "source": [
    "where $f(\\boldsymbol{x},\\boldsymbol{h};\\boldsymbol{\\Theta})$ is given by a so-called energy model. If we assume that the random variables $x_i$ and $h_j$ take binary values only, for example $x_i,h_j=\\{0,1\\}$, we have a so-called binary-binary model where"
   ]
  },
  {
   "cell_type": "markdown",
   "id": "b36ff163",
   "metadata": {
    "editable": true
   },
   "source": [
    "$$\n",
    "f(\\boldsymbol{x},\\boldsymbol{h};\\boldsymbol{\\Theta})=-E(\\boldsymbol{x}, \\boldsymbol{h};\\boldsymbol{\\Theta}) = \\sum_{x_i\\in \\boldsymbol{X}} x_i a_i+\\sum_{h_j\\in \\boldsymbol{H}} b_j h_j + \\sum_{x_i\\in \\boldsymbol{X},h_j\\in\\boldsymbol{H}} x_i w_{ij} h_j,\n",
    "$$"
   ]
  },
  {
   "cell_type": "markdown",
   "id": "c0293784",
   "metadata": {
    "editable": true
   },
   "source": [
    "where the set of parameters are given by the biases and weights $\\boldsymbol{\\Theta}=\\{\\boldsymbol{a},\\boldsymbol{b},\\boldsymbol{W}\\}$.\n",
    "**Note the vector notation** instead of $x_i$ and $h_j$ for $f$. The vectors $\\boldsymbol{x}$ and $\\boldsymbol{h}$ represent a specific instance of stochastic variables $x_i$ and $h_j$. These arrangements of $\\boldsymbol{x}$ and $\\boldsymbol{h}$ lead to a specific energy configuration."
   ]
  },
  {
   "cell_type": "markdown",
   "id": "b9eee84b",
   "metadata": {
    "editable": true
   },
   "source": [
    "## More compact notation\n",
    "\n",
    "With the above definition we can write the probability as"
   ]
  },
  {
   "cell_type": "markdown",
   "id": "706bb6b6",
   "metadata": {
    "editable": true
   },
   "source": [
    "$$\n",
    "p(\\boldsymbol{x},\\boldsymbol{h};\\boldsymbol{\\Theta}) = \\frac{\\exp{(\\boldsymbol{a}^T\\boldsymbol{x}+\\boldsymbol{b}^T\\boldsymbol{h}+\\boldsymbol{x}^T\\boldsymbol{W}\\boldsymbol{h})}}{Z(\\boldsymbol{\\Theta})},\n",
    "$$"
   ]
  },
  {
   "cell_type": "markdown",
   "id": "362742e6",
   "metadata": {
    "editable": true
   },
   "source": [
    "where the biases $\\boldsymbol{a}$ and $\\boldsymbol{h}$ and the weights defined by the matrix $\\boldsymbol{W}$ are the parameters we need to optimize."
   ]
  },
  {
   "cell_type": "markdown",
   "id": "e0034caa",
   "metadata": {
    "editable": true
   },
   "source": [
    "## Anticipating results to be derived\n",
    "\n",
    "Since the binary-binary energy model is linear in the parameters $a_i$, $b_j$ and\n",
    "$w_{ij}$, it is easy to see that the derivatives with respect to the\n",
    "various optimization parameters yield expressions used in the\n",
    "evaluation of gradients like"
   ]
  },
  {
   "cell_type": "markdown",
   "id": "96b581a2",
   "metadata": {
    "editable": true
   },
   "source": [
    "$$\n",
    "\\frac{\\partial E(\\boldsymbol{x}, \\boldsymbol{h};\\boldsymbol{\\Theta})}{\\partial w_{ij}}=-x_ih_j,\n",
    "$$"
   ]
  },
  {
   "cell_type": "markdown",
   "id": "93c0184a",
   "metadata": {
    "editable": true
   },
   "source": [
    "and"
   ]
  },
  {
   "cell_type": "markdown",
   "id": "1dce23f1",
   "metadata": {
    "editable": true
   },
   "source": [
    "$$\n",
    "\\frac{\\partial E(\\boldsymbol{x}, \\boldsymbol{h};\\boldsymbol{\\Theta})}{\\partial a_i}=-x_i,\n",
    "$$"
   ]
  },
  {
   "cell_type": "markdown",
   "id": "a63218ff",
   "metadata": {
    "editable": true
   },
   "source": [
    "and"
   ]
  },
  {
   "cell_type": "markdown",
   "id": "dac4cc45",
   "metadata": {
    "editable": true
   },
   "source": [
    "$$\n",
    "\\frac{\\partial E(\\boldsymbol{x}, \\boldsymbol{h};\\boldsymbol{\\Theta})}{\\partial b_j}=-h_j.\n",
    "$$"
   ]
  },
  {
   "cell_type": "markdown",
   "id": "c90bb53d",
   "metadata": {
    "editable": true
   },
   "source": [
    "## Reminder on Markov Chain Monte Carlo\n",
    "\n",
    "* We want to study a physical system which evolves towards equilibrium, from given  initial conditions.\n",
    "\n",
    "* We start with a PDF $w(x_0,t_0)$  and we want to understand how the system evolves with time.\n",
    "\n",
    "* We want to reach a situation where after a given number of time steps we obtain a steady state. This means that the system reaches its most likely state (equilibrium situation)\n",
    "\n",
    "* Our PDF is normally a multidimensional object whose normalization constant is impossible to find.\n",
    "\n",
    "* Analytical calculations from $w(x,t)$ are not possible.\n",
    "\n",
    "* To sample directly from from $w(x,t)$ is not possible/difficult.\n",
    "\n",
    "* The transition probability $W$ is also not  known.\n",
    "\n",
    "* How can we establish that we have reached a steady state?   Sounds impossible!\n",
    "\n",
    "**Use Markov chain Monte Carlo**"
   ]
  },
  {
   "cell_type": "markdown",
   "id": "da71d656",
   "metadata": {
    "editable": true
   },
   "source": [
    "## Brownian motion and Markov processes\n",
    "A Markov process is a random walk with a selected probability for making a\n",
    "move. The new move is independent of the previous history of the system.\n",
    "\n",
    "The Markov process is used repeatedly in Monte Carlo simulations in order to generate\n",
    "new random states.\n",
    "\n",
    "The reason for choosing a Markov process is that when it is run for a\n",
    "long enough time starting with a random state, we will eventually reach the most likely state of the system.\n",
    "\n",
    "In thermodynamics, this means that after a certain number of Markov processes\n",
    "we reach an equilibrium distribution.\n",
    "\n",
    "This mimicks the way a real system reaches\n",
    "its most likely state at a given temperature of the surroundings."
   ]
  },
  {
   "cell_type": "markdown",
   "id": "181198f7",
   "metadata": {
    "editable": true
   },
   "source": [
    "## Brownian motion and Markov processes, Ergodicity and Detailed balance\n",
    "\n",
    "To reach this distribution, the Markov process needs to obey two important conditions, that of\n",
    "**ergodicity** and **detailed balance**. These conditions impose then constraints on our algorithms\n",
    "for accepting or rejecting new random states.\n",
    "\n",
    "The Metropolis algorithm discussed here\n",
    "abides to both these constraints.\n",
    "\n",
    "The Metropolis algorithm is widely used in Monte Carlo\n",
    "simulations and the understanding of it rests within\n",
    "the interpretation of random walks and Markov processes.\n",
    "\n",
    "For a proof the ergodic theorem see <https://www.pnas.org/doi/10.1073/pnas.17.2.656>."
   ]
  },
  {
   "cell_type": "markdown",
   "id": "f46cfeae",
   "metadata": {
    "editable": true
   },
   "source": [
    "## Brownian motion and Markov processes, jargon\n",
    "\n",
    "In a random walk one defines a mathematical entity called a **walker**, \n",
    "whose  attributes\n",
    "completely define the state of the system in question. \n",
    "\n",
    "The state of the system  can refer to any physical quantities,\n",
    "from the vibrational state of a molecule specified by a set of quantum numbers, \n",
    "to the brands of coffee in your favourite supermarket.\n",
    "\n",
    "The walker moves in an appropriate state space by a combination of \n",
    "deterministic and random displacements from its previous\n",
    "position.\n",
    "\n",
    "This sequence of steps forms a **chain**."
   ]
  },
  {
   "cell_type": "markdown",
   "id": "fdd5cc64",
   "metadata": {
    "editable": true
   },
   "source": [
    "## Brownian motion and Markov processes, sequence of ingredients\n",
    "\n",
    "* We want to study a physical system which evolves towards equilibrium, from given  initial conditions.\n",
    "\n",
    "* Markov chains are intimately linked with the physical process of diffusion. \n",
    "\n",
    "* From a Markov chain we can then derive the conditions for detailed balance and ergodicity. These are the conditions needed for obtaining a steady state.\n",
    "\n",
    "* The widely used algorithm for doing this is the so-called Metropolis algorithm, in its refined form the Metropolis-Hastings algorithm."
   ]
  },
  {
   "cell_type": "markdown",
   "id": "e998d3ad",
   "metadata": {
    "editable": true
   },
   "source": [
    "## Markov processes\n",
    "A Markov process allows in principle for a microscopic description of Brownian motion.\n",
    "As with the random walk studied in the previous section, we consider a particle \n",
    "which moves along the  $x$-axis in the form of a series of jumps with step length \n",
    "$\\Delta x = l$. Time and space are discretized and the subsequent moves are\n",
    "statistically independent, i.e., the new move depends only on the previous step\n",
    "and not on the results from earlier trials. \n",
    "We start at a position $x=jl=j\\Delta x$ and move to \n",
    "a new position $x =i\\Delta x$ during a step $\\Delta t=\\epsilon$, where \n",
    "$i\\ge  0$ and $j\\ge 0$ are integers. \n",
    "The original probability distribution function (PDF) of the particles is given by  \n",
    "$p_i(t=0)$ where $i$ refers to a specific position on the grid in\n",
    "\n",
    "The function $p_i(t=0)$ is now the discretized version of $p(x,t)$.\n",
    "We can regard the discretized PDF as a vector."
   ]
  },
  {
   "cell_type": "markdown",
   "id": "34c6ac5c",
   "metadata": {
    "editable": true
   },
   "source": [
    "## Markov processes\n",
    "For the Markov process we have a transition probability from a position\n",
    "$x=jl$ to a position $x=il$ given by"
   ]
  },
  {
   "cell_type": "markdown",
   "id": "fa647ac1",
   "metadata": {
    "editable": true
   },
   "source": [
    "$$\n",
    "W_{ij}(\\epsilon)=W(il-jl,\\epsilon)=\\left\\{\\begin{array}{cc}\\frac{1}{2} & |i-j| = 1\\\\\n",
    "             0 & \\mathrm{else} \\end{array} \\right. ,\n",
    "$$"
   ]
  },
  {
   "cell_type": "markdown",
   "id": "ea218c9b",
   "metadata": {
    "editable": true
   },
   "source": [
    "where $W_{ij}$ is normally called \n",
    "the transition probability and we can represent it, see below,\n",
    "as a matrix. \n",
    "**Here we have specialized to a case where the transition probability is known**.\n",
    "\n",
    "Our new PDF $p_i(t=\\epsilon)$ is now related to the PDF at\n",
    "$t=0$ through the relation"
   ]
  },
  {
   "cell_type": "markdown",
   "id": "5811999a",
   "metadata": {
    "editable": true
   },
   "source": [
    "$$\n",
    "p_i(t=\\epsilon) =\\sum_{j} W(j\\rightarrow i)p_j(t=0).\n",
    "$$"
   ]
  },
  {
   "cell_type": "markdown",
   "id": "a0efd8e9",
   "metadata": {
    "editable": true
   },
   "source": [
    "This equation represents the discretized time-development of an original \n",
    "PDF with equal probability of jumping left or right."
   ]
  },
  {
   "cell_type": "markdown",
   "id": "999983c3",
   "metadata": {
    "editable": true
   },
   "source": [
    "## Markov processes, the probabilities\n",
    "\n",
    "Since both $\\boldsymbol{W}$ and $\\boldsymbol{p}$ represent probabilities, they have to be normalized, i.e., we require\n",
    "that at each time step we have"
   ]
  },
  {
   "cell_type": "markdown",
   "id": "3d55808d",
   "metadata": {
    "editable": true
   },
   "source": [
    "$$\n",
    "\\sum_i p_i(t) = 1,\n",
    "$$"
   ]
  },
  {
   "cell_type": "markdown",
   "id": "e2c70595",
   "metadata": {
    "editable": true
   },
   "source": [
    "and"
   ]
  },
  {
   "cell_type": "markdown",
   "id": "a7c7b40d",
   "metadata": {
    "editable": true
   },
   "source": [
    "$$\n",
    "\\sum_j W(j\\rightarrow i) = 1,\n",
    "$$"
   ]
  },
  {
   "cell_type": "markdown",
   "id": "a3123400",
   "metadata": {
    "editable": true
   },
   "source": [
    "which applies for all $j$-values.\n",
    "The further constraints are\n",
    "$0 \\le W_{ij} \\le 1$  and  $0 \\le p_{j} \\le 1$.\n",
    "Note that the probability for remaining at the same place is in general \n",
    "not necessarily equal zero."
   ]
  },
  {
   "cell_type": "markdown",
   "id": "63c74969",
   "metadata": {
    "editable": true
   },
   "source": [
    "## Markov processes\n",
    "The time development of our initial PDF can now be represented through the action of\n",
    "the transition probability matrix applied $n$ times. At a \n",
    "time  $t_n=n\\epsilon$ our initial distribution has developed into"
   ]
  },
  {
   "cell_type": "markdown",
   "id": "4a14d559",
   "metadata": {
    "editable": true
   },
   "source": [
    "$$\n",
    "p_i(t_n) = \\sum_jW_{ij}(t_n)p_j(0),\n",
    "$$"
   ]
  },
  {
   "cell_type": "markdown",
   "id": "f4aa66b0",
   "metadata": {
    "editable": true
   },
   "source": [
    "and defining"
   ]
  },
  {
   "cell_type": "markdown",
   "id": "b6dd9c7b",
   "metadata": {
    "editable": true
   },
   "source": [
    "$$\n",
    "W(il-jl,n\\epsilon)=(W^n(\\epsilon))_{ij}\n",
    "$$"
   ]
  },
  {
   "cell_type": "markdown",
   "id": "2094d7d2",
   "metadata": {
    "editable": true
   },
   "source": [
    "we obtain"
   ]
  },
  {
   "cell_type": "markdown",
   "id": "b6c2fc1f",
   "metadata": {
    "editable": true
   },
   "source": [
    "$$\n",
    "p_i(n\\epsilon) = \\sum_j(W^n(\\epsilon))_{ij}p_j(0),\n",
    "$$"
   ]
  },
  {
   "cell_type": "markdown",
   "id": "1e5d6a5c",
   "metadata": {
    "editable": true
   },
   "source": [
    "or in matrix-vector form"
   ]
  },
  {
   "cell_type": "markdown",
   "id": "b01d9a7b",
   "metadata": {
    "editable": true
   },
   "source": [
    "<!-- Equation labels as ordinary links -->\n",
    "<div id=\"eq:wfinal\"></div>\n",
    "\n",
    "$$\n",
    "\\begin{equation} \\label{eq:wfinal} \\tag{1}\n",
    "   \\boldsymbol{p}(n\\epsilon) = \\boldsymbol{W}^n(\\epsilon)\\boldsymbol{p}(0).\n",
    "\\end{equation}\n",
    "$$"
   ]
  },
  {
   "cell_type": "markdown",
   "id": "629083f2",
   "metadata": {
    "editable": true
   },
   "source": [
    "## What do the results mean?\n",
    "\n",
    "We have after $t$-steps"
   ]
  },
  {
   "cell_type": "markdown",
   "id": "95afb125",
   "metadata": {
    "editable": true
   },
   "source": [
    "$$\n",
    "\\boldsymbol{p}(t) = \\boldsymbol{W}^t\\boldsymbol{p}(0),\n",
    "$$"
   ]
  },
  {
   "cell_type": "markdown",
   "id": "995c78df",
   "metadata": {
    "editable": true
   },
   "source": [
    "with $\\boldsymbol{p}(0)$ the distribution at $t=0$ and $\\boldsymbol{W}$ representing the \n",
    "transition probability matrix."
   ]
  },
  {
   "cell_type": "markdown",
   "id": "f86273e2",
   "metadata": {
    "editable": true
   },
   "source": [
    "## Understanding the basics\n",
    "\n",
    "We can always expand $\\boldsymbol{w}(0)$ in terms of the right eigenvectors \n",
    "$\\boldsymbol{v}$ of $\\boldsymbol{W}$ as"
   ]
  },
  {
   "cell_type": "markdown",
   "id": "109b955a",
   "metadata": {
    "editable": true
   },
   "source": [
    "$$\n",
    "\\boldsymbol{p}(0)  = \\sum_i\\alpha_i\\boldsymbol{v}_i,\n",
    "$$"
   ]
  },
  {
   "cell_type": "markdown",
   "id": "c13ed053",
   "metadata": {
    "editable": true
   },
   "source": [
    "resulting in"
   ]
  },
  {
   "cell_type": "markdown",
   "id": "52d5e5af",
   "metadata": {
    "editable": true
   },
   "source": [
    "$$\n",
    "\\boldsymbol{p}(t) = \\boldsymbol{W}^t\\boldsymbol{p}(0)=\\boldsymbol{W}^t\\sum_i\\alpha_i\\boldsymbol{v}_i=\n",
    "\\sum_i\\lambda_i^t\\alpha_i\\boldsymbol{v}_i,\n",
    "$$"
   ]
  },
  {
   "cell_type": "markdown",
   "id": "4be47fa6",
   "metadata": {
    "editable": true
   },
   "source": [
    "with $\\lambda_i$ the $i^{\\mathrm{th}}$ eigenvalue corresponding to  \n",
    "the eigenvector $\\boldsymbol{v}_i$. \n",
    "\n",
    "If we assume that $\\lambda_0$ is the largest eigenvector we see that in the limit $t\\rightarrow \\infty$,\n",
    "$\\boldsymbol{p}(t)$ becomes proportional to the corresponding eigenvector \n",
    "$\\boldsymbol{v}_0$. This is our steady state or final distribution."
   ]
  },
  {
   "cell_type": "markdown",
   "id": "0cee0aa8",
   "metadata": {
    "editable": true
   },
   "source": [
    "## Basics of the Metropolis Algorithm\n",
    "\n",
    "The Metropolis\n",
    "algorithm is a method to sample a normalized probability\n",
    "distribution by a stochastic process. We define $p_i^{(n)}$ to\n",
    "be the probability for finding the system in the state $i$ at step $n$.\n",
    "\n",
    "In the simulations, our assumption is that we have a model for $p_i^{(n)}$, but we do not know $W$.\n",
    "We will hence model $W$ in terms of a likelihood for making transition $T$ and a likelihood for accepting a transition.\n",
    "That is"
   ]
  },
  {
   "cell_type": "markdown",
   "id": "f4d9cc2f",
   "metadata": {
    "editable": true
   },
   "source": [
    "$$\n",
    "W_{i\\rightarrow j}=A_{i\\rightarrow j}T_{i\\rightarrow j}\n",
    "$$"
   ]
  },
  {
   "cell_type": "markdown",
   "id": "d18ced41",
   "metadata": {
    "editable": true
   },
   "source": [
    "## The basic of the Metropolis Algorithm\n",
    "\n",
    "* Sample a possible new state $j$ with some probability $T_{i\\rightarrow j}$.\n",
    "\n",
    "* Accept the new state $j$ with probability $A_{i \\rightarrow j}$ and use it as the next sample.\n",
    "\n",
    "* With probability $1-A_{i\\rightarrow j}$ the move is rejected and the original state $i$ is used again as a sample.\n",
    "\n",
    "We wish to derive the required properties of $T$ and $A$ such that\n",
    "$p_i^{(n\\rightarrow \\infty)} \\rightarrow p_i$ so that starting\n",
    "from any distribution, the method converges to the correct distribution.\n",
    "Note that the description here is for a discrete probability distribution.\n",
    "Replacing probabilities $p_i$ with expressions like $p(x_i)dx_i$ will\n",
    "take all of these over to the corresponding continuum expressions."
   ]
  },
  {
   "cell_type": "markdown",
   "id": "60694f22",
   "metadata": {
    "editable": true
   },
   "source": [
    "## More on the Metropolis\n",
    "\n",
    "The dynamical equation for $p_i^{(n)}$ can be written directly from\n",
    "the description above. The probability of being in the state $i$ at step $n$\n",
    "is given by the probability of being in any state $j$ at the previous step,\n",
    "and making an accepted transition to $i$ added to the probability of\n",
    "being in the state $i$, making a transition to any state $j$ and\n",
    "rejecting the move:"
   ]
  },
  {
   "cell_type": "markdown",
   "id": "f108b4de",
   "metadata": {
    "editable": true
   },
   "source": [
    "<!-- Equation labels as ordinary links -->\n",
    "<div id=\"eq:eq1\"></div>\n",
    "\n",
    "$$\n",
    "\\begin{equation}\n",
    "\\label{eq:eq1} \\tag{2}\n",
    "p^{(n)}_i = \\sum_j \\left [\n",
    "p^{(n-1)}_jT_{j\\rightarrow i} A_{j\\rightarrow i} \n",
    "+p^{(n-1)}_iT_{i\\rightarrow j}\\left ( 1- A_{i\\rightarrow j} \\right)\n",
    "\\right ] \\,.\n",
    "\\end{equation}\n",
    "$$"
   ]
  },
  {
   "cell_type": "markdown",
   "id": "41234af7",
   "metadata": {
    "editable": true
   },
   "source": [
    "## Metropolis algorithm, setting it up\n",
    "Since the probability of making some transition must be 1,\n",
    "$\\sum_j T_{i\\rightarrow j} = 1$, and Eq. ([2](#eq:eq1)) becomes"
   ]
  },
  {
   "cell_type": "markdown",
   "id": "e20b4ec4",
   "metadata": {
    "editable": true
   },
   "source": [
    "<!-- Equation labels as ordinary links -->\n",
    "<div id=\"_auto1\"></div>\n",
    "\n",
    "$$\n",
    "\\begin{equation}\n",
    "p^{(n)}_i = p^{(n-1)}_i +\n",
    " \\sum_j \\left [\n",
    "p^{(n-1)}_jT_{j\\rightarrow i} A_{j\\rightarrow i} \n",
    "-p^{(n-1)}_iT_{i\\rightarrow j}A_{i\\rightarrow j}\n",
    "\\right ] \\,.\n",
    "\\label{_auto1} \\tag{3}\n",
    "\\end{equation}\n",
    "$$"
   ]
  },
  {
   "cell_type": "markdown",
   "id": "f558266b",
   "metadata": {
    "editable": true
   },
   "source": [
    "## Metropolis continues\n",
    "\n",
    "For large $n$ we require that $p^{(n\\rightarrow \\infty)}_i = p_i$,\n",
    "the desired probability distribution. Taking this limit, gives the\n",
    "balance requirement"
   ]
  },
  {
   "cell_type": "markdown",
   "id": "81b9c299",
   "metadata": {
    "editable": true
   },
   "source": [
    "<!-- Equation labels as ordinary links -->\n",
    "<div id=\"_auto2\"></div>\n",
    "\n",
    "$$\n",
    "\\begin{equation}\n",
    "\\sum_j \\left [p_jT_{j\\rightarrow i} A_{j\\rightarrow i}-p_iT_{i\\rightarrow j}A_{i\\rightarrow j}\n",
    "\\right ] = 0,\n",
    "\\label{_auto2} \\tag{4}\n",
    "\\end{equation}\n",
    "$$"
   ]
  },
  {
   "cell_type": "markdown",
   "id": "fffb32fe",
   "metadata": {
    "editable": true
   },
   "source": [
    "## Detailed Balance\n",
    "\n",
    "The balance requirement is very weak. Typically the much stronger detailed\n",
    "balance requirement is enforced, that is rather than the sum being\n",
    "set to zero, we set each term separately to zero and use this\n",
    "to determine the acceptance probabilities. Rearranging, the result is"
   ]
  },
  {
   "cell_type": "markdown",
   "id": "51214b48",
   "metadata": {
    "editable": true
   },
   "source": [
    "<!-- Equation labels as ordinary links -->\n",
    "<div id=\"_auto3\"></div>\n",
    "\n",
    "$$\n",
    "\\begin{equation}\n",
    "\\frac{ A_{j\\rightarrow i}}{A_{i\\rightarrow j}}\n",
    "= \\frac{p_iT_{i\\rightarrow j}}{ p_jT_{j\\rightarrow i}} \\,.\n",
    "\\label{_auto3} \\tag{5}\n",
    "\\end{equation}\n",
    "$$"
   ]
  },
  {
   "cell_type": "markdown",
   "id": "d06486ed",
   "metadata": {
    "editable": true
   },
   "source": [
    "This is the [detailed balance requirement](https://cims.nyu.edu/~holmes/teaching/asa19/handout_Lecture3_2019.pdf)"
   ]
  },
  {
   "cell_type": "markdown",
   "id": "dbee7e9a",
   "metadata": {
    "editable": true
   },
   "source": [
    "## More on Detailed Balance\n",
    "\n",
    "The Metropolis choice is to maximize the $A$ values, that is"
   ]
  },
  {
   "cell_type": "markdown",
   "id": "bc499275",
   "metadata": {
    "editable": true
   },
   "source": [
    "<!-- Equation labels as ordinary links -->\n",
    "<div id=\"_auto4\"></div>\n",
    "\n",
    "$$\n",
    "\\begin{equation}\n",
    "A_{j \\rightarrow i} = \\min \\left ( 1,\n",
    "\\frac{p_iT_{i\\rightarrow j}}{ p_jT_{j\\rightarrow i}}\\right ).\n",
    "\\label{_auto4} \\tag{6}\n",
    "\\end{equation}\n",
    "$$"
   ]
  },
  {
   "cell_type": "markdown",
   "id": "3c988950",
   "metadata": {
    "editable": true
   },
   "source": [
    "Other choices are possible, but they all correspond to multilplying\n",
    "$A_{i\\rightarrow j}$ and $A_{j\\rightarrow i}$ by the same constant\n",
    "smaller than unity. The penalty function method uses just such\n",
    "a factor to compensate for $p_i$ that are evaluated stochastically\n",
    "and are therefore noisy.\n",
    "\n",
    "Having chosen the acceptance probabilities, we have guaranteed that\n",
    "if the  $p_i^{(n)}$ has equilibrated, that is if it is equal to $p_i$,\n",
    "it will remain equilibrated."
   ]
  },
  {
   "cell_type": "markdown",
   "id": "5a73d02a",
   "metadata": {
    "editable": true
   },
   "source": [
    "## Gibbs sampling\n",
    "\n",
    "An efficient way if performing the sampling is through the use of\n",
    "Gibbs sampling. The latter uses the conditional probability instead of\n",
    "the full probability as done in the Metropolis algorithm.\n",
    "\n",
    "More text to be added here, see whiteboard notes April 9 and Goodfellow et al sections 18.1-18.2"
   ]
  },
  {
   "cell_type": "markdown",
   "id": "9f61b731",
   "metadata": {
    "editable": true
   },
   "source": [
    "## Boltzmann Machines, marginal and conditional probabilities\n",
    "\n",
    "A generative model can learn to represent and sample from a\n",
    "probability distribution. The core idea is to learn a parametric model\n",
    "of the probability distribution from which the training data was\n",
    "drawn. As an example\n",
    "1. A model for images could learn to draw new examples of cats and dogs, given a training dataset of images of cats and dogs.\n",
    "\n",
    "2. Generate a sample of an ordered or disordered Ising model phase, having been given samples of such phases.\n",
    "\n",
    "3. Model the trial function for Monte Carlo calculations"
   ]
  },
  {
   "cell_type": "markdown",
   "id": "07e9d9c3",
   "metadata": {
    "editable": true
   },
   "source": [
    "## Generative and discriminative models\n",
    "\n",
    "Generative and discriminative models use both gradient-descent based\n",
    "learning procedures for minimizing cost functions\n",
    "\n",
    "However, in energy based models we don't use backpropagation and automatic\n",
    "differentiation for computing gradients, instead we turn to Markov\n",
    "Chain Monte Carlo methods.\n",
    "\n",
    "A typical deep neural network has several hidden layers. A restricted\n",
    "Boltzmann machine has normally one hidden layer, however several RBMs can\n",
    "be stacked to make up deep Belief Networks, of which they constitute\n",
    "the building blocks."
   ]
  },
  {
   "cell_type": "markdown",
   "id": "dc14c17a",
   "metadata": {
    "editable": true
   },
   "source": [
    "## Basics of the Boltzmann machine\n",
    "A BM is what we would call an undirected probabilistic graphical model\n",
    "with stochastic continuous or discrete units.\n",
    "\n",
    "It is interpreted as a stochastic recurrent neural network where the\n",
    "state of each unit(neurons/nodes) depends on the units it is connected\n",
    "to. The weights in the network represent thus the strength of the\n",
    "interaction between various units/nodes."
   ]
  },
  {
   "cell_type": "markdown",
   "id": "821c2393",
   "metadata": {
    "editable": true
   },
   "source": [
    "## More about the basics\n",
    "A standard BM network is divided into a set of observable and visible units $\\boldsymbol{x}$ and a set of unknown hidden units/nodes $\\boldsymbol{h}$.\n",
    "\n",
    "Additionally there can be bias nodes for the hidden and visible layers. These biases are normally set to $1$.\n",
    "\n",
    "BMs are stackable, meaning they cwe can train a BM which serves as input to another BM. We can construct deep networks for learning complex PDFs. The layers can be trained one after another, a feature which makes them popular in deep learning"
   ]
  },
  {
   "cell_type": "markdown",
   "id": "61f559c5",
   "metadata": {
    "editable": true
   },
   "source": [
    "## Difficult to train\n",
    "\n",
    "However, they are often hard to train. This leads to the introduction\n",
    "of so-called restricted BMs, or RBMS.  Here we take away all lateral\n",
    "connections between nodes in the visible layer as well as connections\n",
    "between nodes in the hidden layer."
   ]
  },
  {
   "cell_type": "markdown",
   "id": "022d7aad",
   "metadata": {
    "editable": true
   },
   "source": [
    "## The network layers\n",
    "\n",
    "1. A function $\\boldsymbol{x}$ that represents the visible layer, a vector of $M$ elements (nodes). This layer represents both what the RBM might be given as training input, and what we want it to be able to reconstruct. This might for example be the pixels of an image, the spin values of the Ising model, or coefficients representing speech.\n",
    "\n",
    "2. The function $\\boldsymbol{h}$ represents the hidden, or latent, layer. A vector of $N$ elements (nodes). Also called \"feature detectors\"."
   ]
  },
  {
   "cell_type": "markdown",
   "id": "73356557",
   "metadata": {
    "editable": true
   },
   "source": [
    "## Goal of hidden layer\n",
    "\n",
    "The goal of the hidden layer is to increase the model's expressive\n",
    "power. We encode complex interactions between visible variables by\n",
    "introducing additional, hidden variables that interact with visible\n",
    "degrees of freedom in a simple manner, yet still reproduce the complex\n",
    "correlations between visible degrees in the data once marginalized\n",
    "over (integrated out)."
   ]
  },
  {
   "cell_type": "markdown",
   "id": "65a1fdc0",
   "metadata": {
    "editable": true
   },
   "source": [
    "## The parameters\n",
    "\n",
    "The network parameters, to be optimized/learned:\n",
    "1. $\\boldsymbol{a}$ represents the visible bias, a vector of same length $M$ as $\\boldsymbol{x}$.\n",
    "\n",
    "2. $\\boldsymbol{b}$ represents the hidden bias, a vector of same length $N$  as $\\boldsymbol{h}$.\n",
    "\n",
    "3. $\\boldsymbol{W}$ represents the interaction weights, a matrix of size $M\\times N$.\n",
    "\n",
    "Note that we have specified the lengths of $bm{x}$ and $\\boldsymbol{h}$. These\n",
    "lengths define the number of visible and hidden units, respectively."
   ]
  },
  {
   "cell_type": "markdown",
   "id": "aa5c0860",
   "metadata": {
    "editable": true
   },
   "source": [
    "## Joint distribution\n",
    "\n",
    "The restricted Boltzmann machine is described by a Boltzmann distribution"
   ]
  },
  {
   "cell_type": "markdown",
   "id": "20e3c052",
   "metadata": {
    "editable": true
   },
   "source": [
    "<!-- Equation labels as ordinary links -->\n",
    "<div id=\"_auto5\"></div>\n",
    "\n",
    "$$\n",
    "\\begin{equation}\n",
    "\tP_{rbm}(\\boldsymbol{x},\\boldsymbol{h},\\boldsymbol{\\Theta}) = \\frac{1}{Z(\\boldsymbol{\\Theta})} \\exp{-(\\frac{1}{T_0}E(\\boldsymbol{x},\\boldsymbol{h},\\boldsymbol{\\Theta}))},\n",
    "\\label{_auto5} \\tag{7}\n",
    "\\end{equation}\n",
    "$$"
   ]
  },
  {
   "cell_type": "markdown",
   "id": "42e3db2d",
   "metadata": {
    "editable": true
   },
   "source": [
    "where $Z$ is the normalization constant or partition function discussed earlier and defined as"
   ]
  },
  {
   "cell_type": "markdown",
   "id": "24377a75",
   "metadata": {
    "editable": true
   },
   "source": [
    "<!-- Equation labels as ordinary links -->\n",
    "<div id=\"_auto6\"></div>\n",
    "\n",
    "$$\n",
    "\\begin{equation}\n",
    "\tZ(\\boldsymbol{\\Theta}) = \\int \\int \\exp{-\\frac{1}{T}E(\\boldsymbol{x},\\boldsymbol{h},\\boldsymbol{\\Theta})} d\\boldsymbol{x} d\\boldsymbol{h}.\n",
    "\\label{_auto6} \\tag{8}\n",
    "\\end{equation}\n",
    "$$"
   ]
  },
  {
   "cell_type": "markdown",
   "id": "950065b5",
   "metadata": {
    "editable": true
   },
   "source": [
    "It is common to set  $T$ to one."
   ]
  },
  {
   "cell_type": "markdown",
   "id": "ae076e68",
   "metadata": {
    "editable": true
   },
   "source": [
    "## Network Elements, the energy function\n",
    "\n",
    "The function $E(\\boldsymbol{x},\\boldsymbol{h})$ gives the **energy** of a\n",
    "configuration (pair of vectors) $(\\boldsymbol{x}, \\boldsymbol{h})$. The lower\n",
    "the energy of a configuration, the higher the probability of it. This\n",
    "function also depends on the parameters $\\boldsymbol{a}$, $\\boldsymbol{b}$ and\n",
    "$W$. Thus, when we adjust them during the learning procedure, we are\n",
    "adjusting the energy function to best fit our problem."
   ]
  },
  {
   "cell_type": "markdown",
   "id": "be316187",
   "metadata": {
    "editable": true
   },
   "source": [
    "## Defining different types of RBMs\n",
    "\n",
    "There are different variants of RBMs, and the differences lie in the types of visible and hidden units we choose as well as in the implementation of the energy function $E(\\boldsymbol{x},\\boldsymbol{h})$. The connection between the nodes in the two layers is given by the weights $w_{ij}$. \n",
    "\n",
    "**Binary-Binary RBM:**\n",
    "\n",
    "RBMs were first developed using binary units in both the visible and hidden layer. The corresponding energy function is defined as follows:"
   ]
  },
  {
   "cell_type": "markdown",
   "id": "18e5cca5",
   "metadata": {
    "editable": true
   },
   "source": [
    "<!-- Equation labels as ordinary links -->\n",
    "<div id=\"_auto7\"></div>\n",
    "\n",
    "$$\n",
    "\\begin{equation}\n",
    "\tE(\\boldsymbol{x}, \\boldsymbol{h}) = - \\sum_i^M x_i a_i- \\sum_j^N b_j h_j - \\sum_{i,j}^{M,N} x_i w_{ij} h_j,\n",
    "\\label{_auto7} \\tag{9}\n",
    "\\end{equation}\n",
    "$$"
   ]
  },
  {
   "cell_type": "markdown",
   "id": "261f6e6d",
   "metadata": {
    "editable": true
   },
   "source": [
    "where the binary values taken on by the nodes are most commonly 0 and 1."
   ]
  },
  {
   "cell_type": "markdown",
   "id": "547f30b1",
   "metadata": {
    "editable": true
   },
   "source": [
    "## Gaussian-binary RBM\n",
    "\n",
    "Another varient is the RBM where the visible units are Gaussian while the hidden units remain binary:"
   ]
  },
  {
   "cell_type": "markdown",
   "id": "2494e52f",
   "metadata": {
    "editable": true
   },
   "source": [
    "<!-- Equation labels as ordinary links -->\n",
    "<div id=\"_auto8\"></div>\n",
    "\n",
    "$$\n",
    "\\begin{equation}\n",
    "\tE(\\boldsymbol{x}, \\boldsymbol{h}) = \\sum_i^M \\frac{(x_i - a_i)^2}{2\\sigma_i^2} - \\sum_j^N b_j h_j - \\sum_{i,j}^{M,N} \\frac{x_i w_{ij} h_j}{\\sigma_i^2}. \n",
    "\\label{_auto8} \\tag{10}\n",
    "\\end{equation}\n",
    "$$"
   ]
  },
  {
   "cell_type": "markdown",
   "id": "1831413e",
   "metadata": {
    "editable": true
   },
   "source": [
    "This type of RBMs are useful when we model continuous data (i.e., we wish $\\boldsymbol{x}$ to be continuous)"
   ]
  },
  {
   "cell_type": "markdown",
   "id": "51386de6",
   "metadata": {
    "editable": true
   },
   "source": [
    "## Cost function\n",
    "\n",
    "When working with a training dataset, the most common training\n",
    "approach is maximizing the log-likelihood of the training data. The\n",
    "log likelihood characterizes the log-probability of generating the\n",
    "observed data using our generative model. Using this method our cost\n",
    "function is chosen as the negative log-likelihood. The learning then\n",
    "consists of trying to find parameters that maximize the probability of\n",
    "the dataset, and is known as Maximum Likelihood Estimation (MLE).\n",
    "\n",
    "Denoting the parameters as $\\boldsymbol{\\Theta} = a_1,...,a_M,b_1,...,b_N,w_{11},...,w_{MN}$, the log-likelihood is given by"
   ]
  },
  {
   "cell_type": "markdown",
   "id": "07c1f257",
   "metadata": {
    "editable": true
   },
   "source": [
    "<!-- Equation labels as ordinary links -->\n",
    "<div id=\"_auto9\"></div>\n",
    "\n",
    "$$\n",
    "\\begin{equation}\n",
    "\t\\mathcal{L}(\\{ \\Theta_i \\}) = \\langle \\text{log} P_\\theta(\\boldsymbol{x}) \\rangle_{data} \n",
    "\\label{_auto9} \\tag{11}\n",
    "\\end{equation}\n",
    "$$"
   ]
  },
  {
   "cell_type": "markdown",
   "id": "907e2489",
   "metadata": {
    "editable": true
   },
   "source": [
    "<!-- Equation labels as ordinary links -->\n",
    "<div id=\"_auto10\"></div>\n",
    "\n",
    "$$\n",
    "\\begin{equation} \n",
    "\t= - \\langle E(\\boldsymbol{x}; \\{ \\Theta_i\\}) \\rangle_{data} - \\text{log} Z(\\{ \\Theta_i\\}),\n",
    "\\label{_auto10} \\tag{12}\n",
    "\\end{equation}\n",
    "$$"
   ]
  },
  {
   "cell_type": "markdown",
   "id": "de45485a",
   "metadata": {
    "editable": true
   },
   "source": [
    "where we used that the normalization constant does not depend on the data, $\\langle \\text{log} Z(\\{ \\Theta_i\\}) \\rangle = \\text{log} Z(\\{ \\Theta_i\\})$\n",
    "Our cost function is the negative log-likelihood, $\\mathcal{C}(\\{ \\Theta_i \\}) = - \\mathcal{L}(\\{ \\Theta_i \\})$"
   ]
  },
  {
   "cell_type": "markdown",
   "id": "6f03cb97",
   "metadata": {
    "editable": true
   },
   "source": [
    "## Optimization / Training\n",
    "\n",
    "The training procedure of choice often is Stochastic Gradient Descent (SGD). It consists of a series of iterations where we update the parameters according to the equation"
   ]
  },
  {
   "cell_type": "markdown",
   "id": "b725615e",
   "metadata": {
    "editable": true
   },
   "source": [
    "<!-- Equation labels as ordinary links -->\n",
    "<div id=\"_auto11\"></div>\n",
    "\n",
    "$$\n",
    "\\begin{equation}\n",
    "\t\\boldsymbol{\\Theta}_{k+1} = \\boldsymbol{\\Theta}_k - \\eta \\nabla \\mathcal{C} (\\boldsymbol{\\Theta}_k)\n",
    "\\label{_auto11} \\tag{13}\n",
    "\\end{equation}\n",
    "$$"
   ]
  },
  {
   "cell_type": "markdown",
   "id": "f2049e99",
   "metadata": {
    "editable": true
   },
   "source": [
    "at each $k$-th iteration. There are a range of variants of the algorithm which aim at making the learning rate $\\eta$ more adaptive so the method might be more efficient while remaining stable."
   ]
  },
  {
   "cell_type": "markdown",
   "id": "a812b7d9",
   "metadata": {
    "editable": true
   },
   "source": [
    "## Gradients\n",
    "We now need the gradient of the cost function in order to minimize it. We find that"
   ]
  },
  {
   "cell_type": "markdown",
   "id": "3d9b9e2b",
   "metadata": {
    "editable": true
   },
   "source": [
    "<!-- Equation labels as ordinary links -->\n",
    "<div id=\"_auto12\"></div>\n",
    "\n",
    "$$\n",
    "\\begin{equation}\n",
    "\t\\frac{\\partial \\mathcal{C}(\\{ \\Theta_i\\})}{\\partial \\Theta_i}\n",
    "\t= \\langle \\frac{\\partial E(\\boldsymbol{x}; \\Theta_i)}{\\partial \\Theta_i} \\rangle_{data}\n",
    "\t+ \\frac{\\partial \\text{log} Z(\\{ \\Theta_i\\})}{\\partial \\Theta_i} \n",
    "\\label{_auto12} \\tag{14}\n",
    "\\end{equation}\n",
    "$$"
   ]
  },
  {
   "cell_type": "markdown",
   "id": "6f4112a0",
   "metadata": {
    "editable": true
   },
   "source": [
    "<!-- Equation labels as ordinary links -->\n",
    "<div id=\"_auto13\"></div>\n",
    "\n",
    "$$\n",
    "\\begin{equation} \n",
    "\t= \\langle O_i(\\boldsymbol{x}) \\rangle_{data} - \\langle O_i(\\boldsymbol{x}) \\rangle_{model}.\n",
    "\\label{_auto13} \\tag{15}\n",
    "\\end{equation}\n",
    "$$"
   ]
  },
  {
   "cell_type": "markdown",
   "id": "f9e74869",
   "metadata": {
    "editable": true
   },
   "source": [
    "## Simplifications\n",
    "\n",
    "In order to simplify notation we defined the \"operator\""
   ]
  },
  {
   "cell_type": "markdown",
   "id": "e09aaf24",
   "metadata": {
    "editable": true
   },
   "source": [
    "<!-- Equation labels as ordinary links -->\n",
    "<div id=\"_auto14\"></div>\n",
    "\n",
    "$$\n",
    "\\begin{equation}\n",
    "\tO_i(\\boldsymbol{x}) = \\frac{\\partial E(\\boldsymbol{x}; \\Theta_i)}{\\partial \\Theta_i}, \n",
    "\\label{_auto14} \\tag{16}\n",
    "\\end{equation}\n",
    "$$"
   ]
  },
  {
   "cell_type": "markdown",
   "id": "1afc8161",
   "metadata": {
    "editable": true
   },
   "source": [
    "and used the statistical mechanics relationship between expectation values and the log-partition function:"
   ]
  },
  {
   "cell_type": "markdown",
   "id": "0f445b35",
   "metadata": {
    "editable": true
   },
   "source": [
    "<!-- Equation labels as ordinary links -->\n",
    "<div id=\"_auto15\"></div>\n",
    "\n",
    "$$\n",
    "\\begin{equation}\n",
    "\t\\langle O_i(\\boldsymbol{x}) \\rangle_{model} = \\text{Tr} P_\\Theta(\\boldsymbol{x})O_i(\\boldsymbol{x}) = - \\frac{\\partial \\text{log} Z(\\{ \\Theta_i\\})}{\\partial \\Theta_i}.\n",
    "\\label{_auto15} \\tag{17}\n",
    "\\end{equation}\n",
    "$$"
   ]
  },
  {
   "cell_type": "markdown",
   "id": "d785f224",
   "metadata": {
    "editable": true
   },
   "source": [
    "## Positive and negative phases\n",
    "As discussed earlier, the data-dependent term in the gradient is known as the positive phase\n",
    "of the gradient, while the model-dependent term is known as the\n",
    "negative phase of the gradient. The aim of the training is to lower\n",
    "the energy of configurations that are near observed data points\n",
    "(increasing their probability), and raising the energy of\n",
    "configurations that are far from observed data points (decreasing\n",
    "their probability)."
   ]
  },
  {
   "cell_type": "markdown",
   "id": "0c44b5cb",
   "metadata": {
    "editable": true
   },
   "source": [
    "## Gradient examples\n",
    "The gradient of the negative log-likelihood cost function of a Binary-Binary RBM is then"
   ]
  },
  {
   "cell_type": "markdown",
   "id": "ebf60339",
   "metadata": {
    "editable": true
   },
   "source": [
    "<!-- Equation labels as ordinary links -->\n",
    "<div id=\"_auto16\"></div>\n",
    "\n",
    "$$\n",
    "\\begin{equation}\n",
    "\t\\frac{\\partial \\mathcal{C} (w_{ij}, a_i, b_j)}{\\partial w_{ij}} = \\langle x_i h_j \\rangle_{data} - \\langle x_i h_j \\rangle_{model} \n",
    "\\label{_auto16} \\tag{18}\n",
    "\\end{equation}\n",
    "$$"
   ]
  },
  {
   "cell_type": "markdown",
   "id": "50709abb",
   "metadata": {
    "editable": true
   },
   "source": [
    "<!-- Equation labels as ordinary links -->\n",
    "<div id=\"_auto17\"></div>\n",
    "\n",
    "$$\n",
    "\\begin{equation} \n",
    "\t\\frac{\\partial \\mathcal{C} (w_{ij}, a_i, b_j)}{\\partial a_{ij}} = \\langle x_i \\rangle_{data} - \\langle x_i \\rangle_{model} \n",
    "\\label{_auto17} \\tag{19}\n",
    "\\end{equation}\n",
    "$$"
   ]
  },
  {
   "cell_type": "markdown",
   "id": "fd4944e6",
   "metadata": {
    "editable": true
   },
   "source": [
    "<!-- Equation labels as ordinary links -->\n",
    "<div id=\"_auto18\"></div>\n",
    "\n",
    "$$\n",
    "\\begin{equation} \n",
    "\t\\frac{\\partial \\mathcal{C} (w_{ij}, a_i, b_j)}{\\partial b_{ij}} = \\langle h_i \\rangle_{data} - \\langle h_i \\rangle_{model}. \n",
    "\\label{_auto18} \\tag{20}\n",
    "\\end{equation}\n",
    "$$"
   ]
  },
  {
   "cell_type": "markdown",
   "id": "315e7777",
   "metadata": {
    "editable": true
   },
   "source": [
    "<!-- Equation labels as ordinary links -->\n",
    "<div id=\"_auto19\"></div>\n",
    "\n",
    "$$\n",
    "\\begin{equation} \n",
    "\\label{_auto19} \\tag{21}\n",
    "\\end{equation}\n",
    "$$"
   ]
  },
  {
   "cell_type": "markdown",
   "id": "f6bd0351",
   "metadata": {
    "editable": true
   },
   "source": [
    "To get the expectation values with respect to the *data*, we set the visible units to each of the observed samples in the training data, then update the hidden units according to the conditional probability found before. We then average over all samples in the training data to calculate expectation values with respect to the data."
   ]
  },
  {
   "cell_type": "markdown",
   "id": "8eafba56",
   "metadata": {
    "editable": true
   },
   "source": [
    "## Kullback-Leibler relative entropy\n",
    "\n",
    "When the goal of the training is to approximate a probability\n",
    "distribution, as it is in generative modeling, another relevant\n",
    "measure is the **Kullback-Leibler divergence**, also known as the\n",
    "relative entropy or Shannon entropy. It is a non-symmetric measure of the\n",
    "dissimilarity between two probability density functions $p$ and\n",
    "$q$. If $p$ is the unkown probability which we approximate with $q$,\n",
    "we can measure the difference by"
   ]
  },
  {
   "cell_type": "markdown",
   "id": "649a58f4",
   "metadata": {
    "editable": true
   },
   "source": [
    "<!-- Equation labels as ordinary links -->\n",
    "<div id=\"_auto20\"></div>\n",
    "\n",
    "$$\n",
    "\\begin{equation}\n",
    "\t\\text{KL}(p||q) = \\int_{-\\infty}^{\\infty} p (\\boldsymbol{x}) \\log \\frac{p(\\boldsymbol{x})}{q(\\boldsymbol{x})}  d\\boldsymbol{x}.\n",
    "\\label{_auto20} \\tag{22}\n",
    "\\end{equation}\n",
    "$$"
   ]
  },
  {
   "cell_type": "markdown",
   "id": "484908f0",
   "metadata": {
    "editable": true
   },
   "source": [
    "## Kullback-Leibler divergence\n",
    "\n",
    "Thus, the Kullback-Leibler divergence between the distribution of the\n",
    "training data $f(\\boldsymbol{x})$ and the model distribution $p(\\boldsymbol{x}|\n",
    "\\boldsymbol{\\Theta})$ is"
   ]
  },
  {
   "cell_type": "markdown",
   "id": "86616964",
   "metadata": {
    "editable": true
   },
   "source": [
    "$$\n",
    "\\begin{align*}\n",
    "\t\\text{KL} (f(\\boldsymbol{x})|| p(\\boldsymbol{x}| \\boldsymbol{\\Theta})) =& \\int_{-\\infty}^{\\infty}\n",
    "\tf (\\boldsymbol{x}) \\log \\frac{f(\\boldsymbol{x})}{p(\\boldsymbol{x}| \\boldsymbol{\\Theta})} d\\boldsymbol{x} \\\\\n",
    "\t=& \\int_{-\\infty}^{\\infty} f(\\boldsymbol{x}) \\log f(\\boldsymbol{x}) d\\boldsymbol{x} - \\int_{-\\infty}^{\\infty} f(\\boldsymbol{x}) \\log\n",
    "\tp(\\boldsymbol{x}| \\boldsymbol{\\Theta}) d\\boldsymbol{x} \\\\\n",
    "\t%=& \\mathbb{E}_{f(\\boldsymbol{x})} (\\log f(\\boldsymbol{x})) - \\mathbb{E}_{f(\\boldsymbol{x})} (\\log p(\\boldsymbol{x}| \\boldsymbol{\\Theta}))\n",
    "\t=& \\langle \\log f(\\boldsymbol{x}) \\rangle_{f(\\boldsymbol{x})} - \\langle \\log p(\\boldsymbol{x}| \\boldsymbol{\\Theta}) \\rangle_{f(\\boldsymbol{x})} \\\\\n",
    "\t=& \\langle \\log f(\\boldsymbol{x}) \\rangle_{data} + \\langle E(\\boldsymbol{x}) \\rangle_{data} + \\log Z \\\\\n",
    "\t=& \\langle \\log f(\\boldsymbol{x}) \\rangle_{data} + \\mathcal{C}_{LL} .\n",
    "\\end{align*}\n",
    "$$"
   ]
  },
  {
   "cell_type": "markdown",
   "id": "f0c58c16",
   "metadata": {
    "editable": true
   },
   "source": [
    "## Maximizing log-likelihood\n",
    "\n",
    "The first term is constant with respect to $\\boldsymbol{\\Theta}$ since\n",
    "$f(\\boldsymbol{x})$ is independent of $\\boldsymbol{\\Theta}$. Thus the Kullback-Leibler\n",
    "Divergence is minimal when the second term is minimal. The second term\n",
    "is the log-likelihood cost function, hence minimizing the\n",
    "Kullback-Leibler divergence is equivalent to maximizing the\n",
    "log-likelihood.\n",
    "\n",
    "To further understand generative models it is useful to study the\n",
    "gradient of the cost function which is needed in order to minimize it\n",
    "using methods like stochastic gradient descent."
   ]
  },
  {
   "cell_type": "markdown",
   "id": "f80d0b3c",
   "metadata": {
    "editable": true
   },
   "source": [
    "## More on the partition function\n",
    "\n",
    "The partition function is the generating function of\n",
    "expectation values, in particular there are mathematical relationships\n",
    "between expectation values and the log-partition function. In this\n",
    "case we have"
   ]
  },
  {
   "cell_type": "markdown",
   "id": "93a185e8",
   "metadata": {
    "editable": true
   },
   "source": [
    "<!-- Equation labels as ordinary links -->\n",
    "<div id=\"_auto21\"></div>\n",
    "\n",
    "$$\n",
    "\\begin{equation}\n",
    "\t\\langle \\frac{ \\partial E(\\boldsymbol{x}; \\Theta_i) } { \\partial \\Theta_i} \\rangle_{model}\n",
    "\t= \\int p(\\boldsymbol{x}| \\boldsymbol{\\Theta}) \\frac{ \\partial E(\\boldsymbol{x}; \\Theta_i) } { \\partial \\Theta_i} d\\boldsymbol{x} \n",
    "\t= -\\frac{\\partial \\log Z(\\Theta_i)}{ \\partial  \\Theta_i} .\n",
    "\\label{_auto21} \\tag{23}\n",
    "\\end{equation}\n",
    "$$"
   ]
  },
  {
   "cell_type": "markdown",
   "id": "c4820166",
   "metadata": {
    "editable": true
   },
   "source": [
    "Here $\\langle \\cdot \\rangle_{model}$ is the expectation value over the model probability distribution $p(\\boldsymbol{x}| \\boldsymbol{\\Theta})$."
   ]
  },
  {
   "cell_type": "markdown",
   "id": "6cf87ba1",
   "metadata": {
    "editable": true
   },
   "source": [
    "## Setting up for gradient descent calculations\n",
    "\n",
    "Using the previous relationship we can express the gradient of the cost function as"
   ]
  },
  {
   "cell_type": "markdown",
   "id": "ee2d0c7b",
   "metadata": {
    "editable": true
   },
   "source": [
    "<!-- Equation labels as ordinary links -->\n",
    "<div id=\"_auto22\"></div>\n",
    "\n",
    "$$\n",
    "\\begin{equation}\n",
    "\t\\frac{\\partial \\mathcal{C}_{LL}}{\\partial \\Theta_i}\n",
    "\t= \\langle \\frac{ \\partial E(\\boldsymbol{x}; \\Theta_i) } { \\partial \\Theta_i} \\rangle_{data} + \\frac{\\partial \\log Z(\\Theta_i)}{ \\partial  \\Theta_i} \n",
    "\\label{_auto22} \\tag{24}\n",
    "\\end{equation}\n",
    "$$"
   ]
  },
  {
   "cell_type": "markdown",
   "id": "fc8d3c4f",
   "metadata": {
    "editable": true
   },
   "source": [
    "<!-- Equation labels as ordinary links -->\n",
    "<div id=\"_auto23\"></div>\n",
    "\n",
    "$$\n",
    "\\begin{equation} \n",
    "\t= \\langle \\frac{ \\partial E(\\boldsymbol{x}; \\Theta_i) } { \\partial \\Theta_i} \\rangle_{data} - \\langle \\frac{ \\partial E(\\boldsymbol{x}; \\Theta_i) } { \\partial \\Theta_i} \\rangle_{model} \n",
    "\\label{_auto23} \\tag{25}\n",
    "\\end{equation}\n",
    "$$"
   ]
  },
  {
   "cell_type": "markdown",
   "id": "0bcecc4d",
   "metadata": {
    "editable": true
   },
   "source": [
    "<!-- Equation labels as ordinary links -->\n",
    "<div id=\"_auto24\"></div>\n",
    "\n",
    "$$\n",
    "\\begin{equation} \n",
    "\t%= \\langle O_i(\\boldsymbol{x}) \\rangle_{data} - \\langle O_i(\\boldsymbol{x}) \\rangle_{model}\n",
    "\\label{_auto24} \\tag{26}\n",
    "\\end{equation}\n",
    "$$"
   ]
  },
  {
   "cell_type": "markdown",
   "id": "c1051139",
   "metadata": {
    "editable": true
   },
   "source": [
    "## Difference of moments\n",
    "\n",
    "This expression shows that the gradient of the log-likelihood cost\n",
    "function is a **difference of moments**, with one calculated from\n",
    "the data and one calculated from the model. The data-dependent term is\n",
    "called the **positive phase** and the model-dependent term is\n",
    "called the **negative phase** of the gradient. We see now that\n",
    "minimizing the cost function results in lowering the energy of\n",
    "configurations $\\boldsymbol{x}$ near points in the training data and\n",
    "increasing the energy of configurations not observed in the training\n",
    "data. That means we increase the model's probability of configurations\n",
    "similar to those in the training data."
   ]
  },
  {
   "cell_type": "markdown",
   "id": "09a5d19f",
   "metadata": {
    "editable": true
   },
   "source": [
    "## More observations\n",
    "\n",
    "The gradient of the cost function also demonstrates why gradients of\n",
    "unsupervised, generative models must be computed differently from for\n",
    "those of for example FNNs. While the data-dependent expectation value\n",
    "is easily calculated based on the samples $\\boldsymbol{x}_i$ in the training\n",
    "data, we must sample from the model in order to generate samples from\n",
    "which to caclulate the model-dependent term. We sample from the model\n",
    "by using MCMC-based methods. We can not sample from the model directly\n",
    "because the partition function $Z$ is generally intractable."
   ]
  },
  {
   "cell_type": "markdown",
   "id": "2dda3eac",
   "metadata": {
    "editable": true
   },
   "source": [
    "## Adding hyperparameters\n",
    "\n",
    "As in supervised machine learning problems, the goal is also here to\n",
    "perform well on **unseen** data, that is to have good\n",
    "generalization from the training data. The distribution $f(x)$ we\n",
    "approximate is not the **true** distribution we wish to estimate,\n",
    "it is limited to the training data. Hence, in unsupervised training as\n",
    "well it is important to prevent overfitting to the training data. Thus\n",
    "it is common to add regularizers to the cost function in the same\n",
    "manner as we discussed for say linear regression."
   ]
  },
  {
   "cell_type": "markdown",
   "id": "75752ee8",
   "metadata": {
    "editable": true
   },
   "source": [
    "## Mathematical details\n",
    "\n",
    "Because we are restricted to potential functions which are positive it\n",
    "is convenient to express them as exponentials.\n",
    "\n",
    "The original RBM had binary visible and hidden nodes. They were\n",
    "showned to be universal approximators of discrete distributions.\n",
    "It was also shown that adding hidden units yields\n",
    "strictly improved modelling power."
   ]
  },
  {
   "cell_type": "markdown",
   "id": "d4d2d02d",
   "metadata": {
    "editable": true
   },
   "source": [
    "## Binary-binary RBMs\n",
    "\n",
    "The common choice of binary values\n",
    "are 0 and 1. However, in some physics applications, -1 and 1 might be\n",
    "a more natural choice. We will here use 0 and 1. We habe the energy function"
   ]
  },
  {
   "cell_type": "markdown",
   "id": "f01d414d",
   "metadata": {
    "editable": true
   },
   "source": [
    "<!-- Equation labels as ordinary links -->\n",
    "<div id=\"_auto25\"></div>\n",
    "\n",
    "$$\n",
    "\\begin{equation}\n",
    "\tE_{BB}(\\boldsymbol{x}, \\boldsymbol{h}) = - \\sum_i^M x_i a_i- \\sum_j^N b_j h_j - \\sum_{i,j}^{M,N} x_i w_{ij} h_j.\n",
    "\\label{_auto25} \\tag{27}\n",
    "\\end{equation}\n",
    "$$"
   ]
  },
  {
   "cell_type": "markdown",
   "id": "ccf06f56",
   "metadata": {
    "editable": true
   },
   "source": [
    "## Marginal probability\n",
    "\n",
    "We have the binary-binary marginal probability defined as"
   ]
  },
  {
   "cell_type": "markdown",
   "id": "55e897cb",
   "metadata": {
    "editable": true
   },
   "source": [
    "<!-- Equation labels as ordinary links -->\n",
    "<div id=\"_auto26\"></div>\n",
    "\n",
    "$$\n",
    "\\begin{equation}\n",
    "\tp_{BB}(\\boldsymbol{x}, \\boldsymbol{h}) = \\frac{1}{Z_{BB}} e^{\\sum_i^M a_i x_i + \\sum_j^N b_j h_j + \\sum_{ij}^{M,N} x_i w_{ij} h_j} \n",
    "\\label{_auto26} \\tag{28}\n",
    "\\end{equation}\n",
    "$$"
   ]
  },
  {
   "cell_type": "markdown",
   "id": "d82c1048",
   "metadata": {
    "editable": true
   },
   "source": [
    "<!-- Equation labels as ordinary links -->\n",
    "<div id=\"_auto27\"></div>\n",
    "\n",
    "$$\n",
    "\\begin{equation} \n",
    "\t= \\frac{1}{Z_{BB}} e^{\\boldsymbol{x}^T \\boldsymbol{a} + \\boldsymbol{b}^T \\boldsymbol{h} + \\boldsymbol{x}^T \\boldsymbol{W} \\boldsymbol{h}}\n",
    "\\label{_auto27} \\tag{29}\n",
    "\\end{equation}\n",
    "$$"
   ]
  },
  {
   "cell_type": "markdown",
   "id": "ebb932df",
   "metadata": {
    "editable": true
   },
   "source": [
    "with the partition function"
   ]
  },
  {
   "cell_type": "markdown",
   "id": "47450184",
   "metadata": {
    "editable": true
   },
   "source": [
    "<!-- Equation labels as ordinary links -->\n",
    "<div id=\"_auto28\"></div>\n",
    "\n",
    "$$\n",
    "\\begin{equation}\n",
    "\tZ_{BB} = \\sum_{\\boldsymbol{x}, \\boldsymbol{h}} e^{\\boldsymbol{x}^T \\boldsymbol{a} + \\boldsymbol{b}^T \\boldsymbol{h} + \\boldsymbol{x}^T \\boldsymbol{W} \\boldsymbol{h}} .\n",
    "\\label{_auto28} \\tag{30}\n",
    "\\end{equation}\n",
    "$$"
   ]
  },
  {
   "cell_type": "markdown",
   "id": "c72b7a74",
   "metadata": {
    "editable": true
   },
   "source": [
    "## Marginal Probability Density Function for the visible units\n",
    "\n",
    "In order to find the probability of any configuration of the visible units we derive the marginal probability density function."
   ]
  },
  {
   "cell_type": "markdown",
   "id": "c1a64827",
   "metadata": {
    "editable": true
   },
   "source": [
    "<!-- Equation labels as ordinary links -->\n",
    "<div id=\"_auto29\"></div>\n",
    "\n",
    "$$\n",
    "\\begin{equation}\n",
    "\tp_{BB} (\\boldsymbol{x}) = \\sum_{\\boldsymbol{h}} p_{BB} (\\boldsymbol{x}, \\boldsymbol{h}) \n",
    "\\label{_auto29} \\tag{31}\n",
    "\\end{equation}\n",
    "$$"
   ]
  },
  {
   "cell_type": "markdown",
   "id": "2c396ecb",
   "metadata": {
    "editable": true
   },
   "source": [
    "$$\n",
    "= \\frac{1}{Z_{BB}} \\sum_{\\boldsymbol{h}} e^{\\boldsymbol{x}^T \\boldsymbol{a} + \\boldsymbol{b}^T \\boldsymbol{h} + \\boldsymbol{x}^T \\boldsymbol{W} \\boldsymbol{h}} \\nonumber\n",
    "$$"
   ]
  },
  {
   "cell_type": "markdown",
   "id": "b635dcef",
   "metadata": {
    "editable": true
   },
   "source": [
    "$$\n",
    "= \\frac{1}{Z_{BB}} e^{\\boldsymbol{x}^T \\boldsymbol{a}} \\sum_{\\boldsymbol{h}} e^{\\sum_j^N (b_j + \\boldsymbol{x}^T \\boldsymbol{w}_{\\ast j})h_j} \\nonumber\n",
    "$$"
   ]
  },
  {
   "cell_type": "markdown",
   "id": "a87dfa01",
   "metadata": {
    "editable": true
   },
   "source": [
    "$$\n",
    "= \\frac{1}{Z_{BB}} e^{\\boldsymbol{x}^T \\boldsymbol{a}} \\sum_{\\boldsymbol{h}} \\prod_j^N e^{ (b_j + \\boldsymbol{x}^T \\boldsymbol{w}_{\\ast j})h_j} \\nonumber\n",
    "$$"
   ]
  },
  {
   "cell_type": "markdown",
   "id": "5f0cfae1",
   "metadata": {
    "editable": true
   },
   "source": [
    "$$\n",
    "= \\frac{1}{Z_{BB}} e^{\\boldsymbol{x}^T \\boldsymbol{a}} \\bigg ( \\sum_{h_1} e^{(b_1 + \\boldsymbol{x}^T \\boldsymbol{w}_{\\ast 1})h_1}\n",
    "\t\\times \\sum_{h_2} e^{(b_2 + \\boldsymbol{x}^T \\boldsymbol{w}_{\\ast 2})h_2} \\times \\nonumber\n",
    "$$"
   ]
  },
  {
   "cell_type": "markdown",
   "id": "7cb8113b",
   "metadata": {
    "editable": true
   },
   "source": [
    "$$\n",
    "... \\times \\sum_{h_2} e^{(b_N + \\boldsymbol{x}^T \\boldsymbol{w}_{\\ast N})h_N} \\bigg ) \\nonumber\n",
    "$$"
   ]
  },
  {
   "cell_type": "markdown",
   "id": "351cfebb",
   "metadata": {
    "editable": true
   },
   "source": [
    "$$\n",
    "= \\frac{1}{Z_{BB}} e^{\\boldsymbol{x}^T \\boldsymbol{a}} \\prod_j^N \\sum_{h_j} e^{(b_j + \\boldsymbol{x}^T \\boldsymbol{w}_{\\ast j}) h_j} \\nonumber\n",
    "$$"
   ]
  },
  {
   "cell_type": "markdown",
   "id": "c2f1a67f",
   "metadata": {
    "editable": true
   },
   "source": [
    "<!-- Equation labels as ordinary links -->\n",
    "<div id=\"_auto30\"></div>\n",
    "\n",
    "$$\n",
    "\\begin{equation} \n",
    "\t= \\frac{1}{Z_{BB}} e^{\\boldsymbol{x}^T \\boldsymbol{a}} \\prod_j^N (1 + e^{b_j + \\boldsymbol{x}^T \\boldsymbol{w}_{\\ast j}}) .\n",
    "\\label{_auto30} \\tag{32}\n",
    "\\end{equation}\n",
    "$$"
   ]
  },
  {
   "cell_type": "markdown",
   "id": "e4dd5b20",
   "metadata": {
    "editable": true
   },
   "source": [
    "## Marginal probability for hidden units\n",
    "\n",
    "A similar derivation yields the marginal probability of the hidden units"
   ]
  },
  {
   "cell_type": "markdown",
   "id": "bb4fef8e",
   "metadata": {
    "editable": true
   },
   "source": [
    "<!-- Equation labels as ordinary links -->\n",
    "<div id=\"_auto31\"></div>\n",
    "\n",
    "$$\n",
    "\\begin{equation}\n",
    "\tp_{BB} (\\boldsymbol{h}) = \\frac{1}{Z_{BB}} e^{\\boldsymbol{b}^T \\boldsymbol{h}} \\prod_i^M (1 + e^{a_i + \\boldsymbol{w}_{i\\ast}^T \\boldsymbol{h}}) .\n",
    "\\label{_auto31} \\tag{33}\n",
    "\\end{equation}\n",
    "$$"
   ]
  },
  {
   "cell_type": "markdown",
   "id": "ece01056",
   "metadata": {
    "editable": true
   },
   "source": [
    "## Conditional Probability Density Functions\n",
    "\n",
    "We derive the probability of the hidden units given the visible units using Bayes' rule"
   ]
  },
  {
   "cell_type": "markdown",
   "id": "e7b5aadc",
   "metadata": {
    "editable": true
   },
   "source": [
    "$$\n",
    "p_{BB} (\\boldsymbol{h}|\\boldsymbol{x}) = \\frac{p_{BB} (\\boldsymbol{x}, \\boldsymbol{h})}{p_{BB} (\\boldsymbol{x})} \\nonumber\n",
    "$$"
   ]
  },
  {
   "cell_type": "markdown",
   "id": "749e95f4",
   "metadata": {
    "editable": true
   },
   "source": [
    "$$\n",
    "= \\frac{ \\frac{1}{Z_{BB}}  e^{\\boldsymbol{x}^T \\boldsymbol{a} + \\boldsymbol{b}^T \\boldsymbol{h} + \\boldsymbol{x}^T \\boldsymbol{W} \\boldsymbol{h}} }\n",
    "\t        {\\frac{1}{Z_{BB}} e^{\\boldsymbol{x}^T \\boldsymbol{a}} \\prod_j^N (1 + e^{b_j + \\boldsymbol{x}^T \\boldsymbol{w}_{\\ast j}})} \\nonumber\n",
    "$$"
   ]
  },
  {
   "cell_type": "markdown",
   "id": "2b7c3ecc",
   "metadata": {
    "editable": true
   },
   "source": [
    "$$\n",
    "= \\frac{  e^{\\boldsymbol{x}^T \\boldsymbol{a}} e^{ \\sum_j^N (b_j + \\boldsymbol{x}^T \\boldsymbol{w}_{\\ast j} ) h_j} }\n",
    "\t        { e^{\\boldsymbol{x}^T \\boldsymbol{a}} \\prod_j^N (1 + e^{b_j + \\boldsymbol{x}^T \\boldsymbol{w}_{\\ast j}})} \\nonumber\n",
    "$$"
   ]
  },
  {
   "cell_type": "markdown",
   "id": "6f4240eb",
   "metadata": {
    "editable": true
   },
   "source": [
    "$$\n",
    "= \\prod_j^N \\frac{ e^{(b_j + \\boldsymbol{x}^T \\boldsymbol{w}_{\\ast j} ) h_j}  }\n",
    "\t{1 + e^{b_j + \\boldsymbol{x}^T \\boldsymbol{w}_{\\ast j}}} \\nonumber\n",
    "$$"
   ]
  },
  {
   "cell_type": "markdown",
   "id": "29475ae8",
   "metadata": {
    "editable": true
   },
   "source": [
    "<!-- Equation labels as ordinary links -->\n",
    "<div id=\"_auto32\"></div>\n",
    "\n",
    "$$\n",
    "\\begin{equation} \n",
    "\t= \\prod_j^N p_{BB} (h_j| \\boldsymbol{x}) .\n",
    "\\label{_auto32} \\tag{34}\n",
    "\\end{equation}\n",
    "$$"
   ]
  },
  {
   "cell_type": "markdown",
   "id": "4b23b0e9",
   "metadata": {
    "editable": true
   },
   "source": [
    "## On and off probabilities\n",
    "\n",
    "From this we find the probability of a hidden unit being \"on\" or \"off\":"
   ]
  },
  {
   "cell_type": "markdown",
   "id": "aa99dff6",
   "metadata": {
    "editable": true
   },
   "source": [
    "<!-- Equation labels as ordinary links -->\n",
    "<div id=\"_auto33\"></div>\n",
    "\n",
    "$$\n",
    "\\begin{equation}\n",
    "\tp_{BB} (h_j=1 | \\boldsymbol{x}) =   \\frac{ e^{(b_j + \\boldsymbol{x}^T \\boldsymbol{w}_{\\ast j} ) h_j}  }\n",
    "\t{1 + e^{b_j + \\boldsymbol{x}^T \\boldsymbol{w}_{\\ast j}}} \n",
    "\\label{_auto33} \\tag{35}\n",
    "\\end{equation}\n",
    "$$"
   ]
  },
  {
   "cell_type": "markdown",
   "id": "1fe627cb",
   "metadata": {
    "editable": true
   },
   "source": [
    "<!-- Equation labels as ordinary links -->\n",
    "<div id=\"_auto34\"></div>\n",
    "\n",
    "$$\n",
    "\\begin{equation} \n",
    "\t=  \\frac{ e^{(b_j + \\boldsymbol{x}^T \\boldsymbol{w}_{\\ast j} )}  }\n",
    "\t{1 + e^{b_j + \\boldsymbol{x}^T \\boldsymbol{w}_{\\ast j}}} \n",
    "\\label{_auto34} \\tag{36}\n",
    "\\end{equation}\n",
    "$$"
   ]
  },
  {
   "cell_type": "markdown",
   "id": "af63ae5f",
   "metadata": {
    "editable": true
   },
   "source": [
    "<!-- Equation labels as ordinary links -->\n",
    "<div id=\"_auto35\"></div>\n",
    "\n",
    "$$\n",
    "\\begin{equation} \n",
    "\t=  \\frac{ 1 }{1 + e^{-(b_j + \\boldsymbol{x}^T \\boldsymbol{w}_{\\ast j})} } ,\n",
    "\\label{_auto35} \\tag{37}\n",
    "\\end{equation}\n",
    "$$"
   ]
  },
  {
   "cell_type": "markdown",
   "id": "e60dd6c0",
   "metadata": {
    "editable": true
   },
   "source": [
    "and"
   ]
  },
  {
   "cell_type": "markdown",
   "id": "58a4395e",
   "metadata": {
    "editable": true
   },
   "source": [
    "<!-- Equation labels as ordinary links -->\n",
    "<div id=\"_auto36\"></div>\n",
    "\n",
    "$$\n",
    "\\begin{equation}\n",
    "\tp_{BB} (h_j=0 | \\boldsymbol{x}) =\\frac{ 1 }{1 + e^{b_j + \\boldsymbol{x}^T \\boldsymbol{w}_{\\ast j}} } .\n",
    "\\label{_auto36} \\tag{38}\n",
    "\\end{equation}\n",
    "$$"
   ]
  },
  {
   "cell_type": "markdown",
   "id": "84903896",
   "metadata": {
    "editable": true
   },
   "source": [
    "## Conditional probability for visible units\n",
    "\n",
    "Similarly we have that the conditional probability of the visible units given the hidden are"
   ]
  },
  {
   "cell_type": "markdown",
   "id": "ea696c2a",
   "metadata": {
    "editable": true
   },
   "source": [
    "<!-- Equation labels as ordinary links -->\n",
    "<div id=\"_auto37\"></div>\n",
    "\n",
    "$$\n",
    "\\begin{equation}\n",
    "\tp_{BB} (\\boldsymbol{x}|\\boldsymbol{h}) = \\prod_i^M \\frac{ e^{ (a_i + \\boldsymbol{w}_{i\\ast}^T \\boldsymbol{h}) x_i} }{ 1 + e^{a_i + \\boldsymbol{w}_{i\\ast}^T \\boldsymbol{h}} } \n",
    "\\label{_auto37} \\tag{39}\n",
    "\\end{equation}\n",
    "$$"
   ]
  },
  {
   "cell_type": "markdown",
   "id": "425763af",
   "metadata": {
    "editable": true
   },
   "source": [
    "<!-- Equation labels as ordinary links -->\n",
    "<div id=\"_auto38\"></div>\n",
    "\n",
    "$$\n",
    "\\begin{equation} \n",
    "\t= \\prod_i^M p_{BB} (x_i | \\boldsymbol{h}) .\n",
    "\\label{_auto38} \\tag{40}\n",
    "\\end{equation}\n",
    "$$"
   ]
  },
  {
   "cell_type": "markdown",
   "id": "90478119",
   "metadata": {
    "editable": true
   },
   "source": [
    "<!-- Equation labels as ordinary links -->\n",
    "<div id=\"_auto39\"></div>\n",
    "\n",
    "$$\n",
    "\\begin{equation}\n",
    "\tp_{BB} (x_i=1 | \\boldsymbol{h}) = \\frac{1}{1 + e^{-(a_i + \\boldsymbol{w}_{i\\ast}^T \\boldsymbol{h} )}} \n",
    "\\label{_auto39} \\tag{41}\n",
    "\\end{equation}\n",
    "$$"
   ]
  },
  {
   "cell_type": "markdown",
   "id": "29d6fcf2",
   "metadata": {
    "editable": true
   },
   "source": [
    "<!-- Equation labels as ordinary links -->\n",
    "<div id=\"_auto40\"></div>\n",
    "\n",
    "$$\n",
    "\\begin{equation} \n",
    "\tp_{BB} (x_i=0 | \\boldsymbol{h}) = \\frac{1}{1 + e^{a_i + \\boldsymbol{w}_{i\\ast}^T \\boldsymbol{h} }} .\n",
    "\\label{_auto40} \\tag{42}\n",
    "\\end{equation}\n",
    "$$"
   ]
  },
  {
   "cell_type": "markdown",
   "id": "9991e2a5",
   "metadata": {
    "editable": true
   },
   "source": [
    "## Gaussian-Binary Restricted Boltzmann Machines\n",
    "\n",
    "Inserting into the expression for $E_{RBM}(\\boldsymbol{x},\\boldsymbol{h})$ in equation  results in the energy"
   ]
  },
  {
   "cell_type": "markdown",
   "id": "33b73fc5",
   "metadata": {
    "editable": true
   },
   "source": [
    "$$\n",
    "E_{GB}(\\boldsymbol{x}, \\boldsymbol{h}) = \\sum_i^M \\frac{(x_i - a_i)^2}{2\\sigma_i^2}\n",
    "\t- \\sum_j^N b_j h_j \n",
    "\t-\\sum_{ij}^{M,N} \\frac{x_i w_{ij} h_j}{\\sigma_i^2} \\nonumber\n",
    "$$"
   ]
  },
  {
   "cell_type": "markdown",
   "id": "967f1a66",
   "metadata": {
    "editable": true
   },
   "source": [
    "<!-- Equation labels as ordinary links -->\n",
    "<div id=\"_auto41\"></div>\n",
    "\n",
    "$$\n",
    "\\begin{equation} \n",
    "\t= \\vert\\vert\\frac{\\boldsymbol{x} -\\boldsymbol{a}}{2\\boldsymbol{\\sigma}}\\vert\\vert^2 - \\boldsymbol{b}^T \\boldsymbol{h} \n",
    "\t- (\\frac{\\boldsymbol{x}}{\\boldsymbol{\\sigma}^2})^T \\boldsymbol{W}\\boldsymbol{h} . \n",
    "\\label{_auto41} \\tag{43}\n",
    "\\end{equation}\n",
    "$$"
   ]
  },
  {
   "cell_type": "markdown",
   "id": "e2695e7e",
   "metadata": {
    "editable": true
   },
   "source": [
    "## Joint Probability Density Function"
   ]
  },
  {
   "cell_type": "markdown",
   "id": "65bba70e",
   "metadata": {
    "editable": true
   },
   "source": [
    "$$\n",
    "p_{GB} (\\boldsymbol{x}, \\boldsymbol{h}) = \\frac{1}{Z_{GB}} e^{-\\vert\\vert\\frac{\\boldsymbol{x} -\\boldsymbol{a}}{2\\boldsymbol{\\sigma}}\\vert\\vert^2 + \\boldsymbol{b}^T \\boldsymbol{h} \n",
    "\t+ (\\frac{\\boldsymbol{x}}{\\boldsymbol{\\sigma}^2})^T \\boldsymbol{W}\\boldsymbol{h}} \\nonumber\n",
    "$$"
   ]
  },
  {
   "cell_type": "markdown",
   "id": "8aca2e62",
   "metadata": {
    "editable": true
   },
   "source": [
    "$$\n",
    "= \\frac{1}{Z_{GB}} e^{- \\sum_i^M \\frac{(x_i - a_i)^2}{2\\sigma_i^2}\n",
    "\t+ \\sum_j^N b_j h_j \n",
    "\t+\\sum_{ij}^{M,N} \\frac{x_i w_{ij} h_j}{\\sigma_i^2}} \\nonumber\n",
    "$$"
   ]
  },
  {
   "cell_type": "markdown",
   "id": "3871d00c",
   "metadata": {
    "editable": true
   },
   "source": [
    "<!-- Equation labels as ordinary links -->\n",
    "<div id=\"_auto42\"></div>\n",
    "\n",
    "$$\n",
    "\\begin{equation} \n",
    "\t= \\frac{1}{Z_{GB}} \\prod_{ij}^{M,N} e^{-\\frac{(x_i - a_i)^2}{2\\sigma_i^2}\n",
    "\t+ b_j h_j \n",
    "\t+\\frac{x_i w_{ij} h_j}{\\sigma_i^2}} ,\n",
    "\\label{_auto42} \\tag{44}\n",
    "\\end{equation}\n",
    "$$"
   ]
  },
  {
   "cell_type": "markdown",
   "id": "61e59243",
   "metadata": {
    "editable": true
   },
   "source": [
    "with the partition function given by"
   ]
  },
  {
   "cell_type": "markdown",
   "id": "cf41c1ac",
   "metadata": {
    "editable": true
   },
   "source": [
    "<!-- Equation labels as ordinary links -->\n",
    "<div id=\"_auto43\"></div>\n",
    "\n",
    "$$\n",
    "\\begin{equation}\n",
    "\tZ_{GB} = \\int \\sum_{\\tilde{\\boldsymbol{h}}}^{\\tilde{\\boldsymbol{H}}} e^{-\\vert\\vert\\frac{\\tilde{\\boldsymbol{x}} -\\boldsymbol{a}}{2\\boldsymbol{\\sigma}}\\vert\\vert^2 + \\boldsymbol{b}^T \\tilde{\\boldsymbol{h}} \n",
    "\t+ (\\frac{\\tilde{\\boldsymbol{x}}}{\\boldsymbol{\\sigma}^2})^T \\boldsymbol{W}\\tilde{\\boldsymbol{h}}} d\\tilde{\\boldsymbol{x}} .\n",
    "\\label{_auto43} \\tag{45}\n",
    "\\end{equation}\n",
    "$$"
   ]
  },
  {
   "cell_type": "markdown",
   "id": "f425e7bf",
   "metadata": {
    "editable": true
   },
   "source": [
    "## Marginal Probability Density Functions\n",
    "\n",
    "We proceed to find the marginal probability densitites of the\n",
    "Gaussian-binary RBM. We first marginalize over the binary hidden units\n",
    "to find $p_{GB} (\\boldsymbol{x})$"
   ]
  },
  {
   "cell_type": "markdown",
   "id": "00aa5830",
   "metadata": {
    "editable": true
   },
   "source": [
    "$$\n",
    "p_{GB} (\\boldsymbol{x}) = \\sum_{\\tilde{\\boldsymbol{h}}}^{\\tilde{\\boldsymbol{H}}} p_{GB} (\\boldsymbol{x}, \\tilde{\\boldsymbol{h}}) \\nonumber\n",
    "$$"
   ]
  },
  {
   "cell_type": "markdown",
   "id": "5906b61d",
   "metadata": {
    "editable": true
   },
   "source": [
    "$$\n",
    "= \\frac{1}{Z_{GB}} \\sum_{\\tilde{\\boldsymbol{h}}}^{\\tilde{\\boldsymbol{H}}} \n",
    "\te^{-\\vert\\vert\\frac{\\boldsymbol{x} -\\boldsymbol{a}}{2\\boldsymbol{\\sigma}}\\vert\\vert^2 + \\boldsymbol{b}^T \\tilde{\\boldsymbol{h}} \n",
    "\t+ (\\frac{\\boldsymbol{x}}{\\boldsymbol{\\sigma}^2})^T \\boldsymbol{W}\\tilde{\\boldsymbol{h}}} \\nonumber\n",
    "$$"
   ]
  },
  {
   "cell_type": "markdown",
   "id": "ff93baaf",
   "metadata": {
    "editable": true
   },
   "source": [
    "<!-- Equation labels as ordinary links -->\n",
    "<div id=\"_auto44\"></div>\n",
    "\n",
    "$$\n",
    "\\begin{equation} \n",
    "\t= \\frac{1}{Z_{GB}} e^{-\\vert\\vert\\frac{\\boldsymbol{x} -\\boldsymbol{a}}{2\\boldsymbol{\\sigma}}\\vert\\vert^2}\n",
    "\t\\prod_j^N (1 + e^{b_j + (\\frac{\\boldsymbol{x}}{\\boldsymbol{\\sigma}^2})^T \\boldsymbol{w}_{\\ast j}} ) .\n",
    "\\label{_auto44} \\tag{46}\n",
    "\\end{equation}\n",
    "$$"
   ]
  },
  {
   "cell_type": "markdown",
   "id": "b8b5e0f7",
   "metadata": {
    "editable": true
   },
   "source": [
    "We next marginalize over the visible units. This is the first time we\n",
    "marginalize over continuous values. We rewrite the exponential factor\n",
    "dependent on $\\boldsymbol{x}$ as a Gaussian function before we integrate in\n",
    "the last step."
   ]
  },
  {
   "cell_type": "markdown",
   "id": "03975f32",
   "metadata": {
    "editable": true
   },
   "source": [
    "$$\n",
    "p_{GB} (\\boldsymbol{h}) = \\int p_{GB} (\\tilde{\\boldsymbol{x}}, \\boldsymbol{h}) d\\tilde{\\boldsymbol{x}} \\nonumber\n",
    "$$"
   ]
  },
  {
   "cell_type": "markdown",
   "id": "3d0aac12",
   "metadata": {
    "editable": true
   },
   "source": [
    "$$\n",
    "= \\frac{1}{Z_{GB}} \\int e^{-\\vert\\vert\\frac{\\tilde{\\boldsymbol{x}} -\\boldsymbol{a}}{2\\boldsymbol{\\sigma}}\\vert\\vert^2 + \\boldsymbol{b}^T \\boldsymbol{h} \n",
    "\t+ (\\frac{\\tilde{\\boldsymbol{x}}}{\\boldsymbol{\\sigma}^2})^T \\boldsymbol{W}\\boldsymbol{h}} d\\tilde{\\boldsymbol{x}} \\nonumber\n",
    "$$"
   ]
  },
  {
   "cell_type": "markdown",
   "id": "ae715177",
   "metadata": {
    "editable": true
   },
   "source": [
    "$$\n",
    "= \\frac{1}{Z_{GB}} e^{\\boldsymbol{b}^T \\boldsymbol{h} } \\int \\prod_i^M\n",
    "\te^{- \\frac{(\\tilde{x}_i - a_i)^2}{2\\sigma_i^2} + \\frac{\\tilde{x}_i \\boldsymbol{w}_{i\\ast}^T \\boldsymbol{h}}{\\sigma_i^2} } d\\tilde{\\boldsymbol{x}} \\nonumber\n",
    "$$"
   ]
  },
  {
   "cell_type": "markdown",
   "id": "6fe9d25c",
   "metadata": {
    "editable": true
   },
   "source": [
    "$$\n",
    "= \\frac{1}{Z_{GB}} e^{\\boldsymbol{b}^T \\boldsymbol{h} }\n",
    "\t\\biggl( \\int e^{- \\frac{(\\tilde{x}_1 - a_1)^2}{2\\sigma_1^2} + \\frac{\\tilde{x}_1 \\boldsymbol{w}_{1\\ast}^T \\boldsymbol{h}}{\\sigma_1^2} } d\\tilde{x}_1 \\nonumber\n",
    "$$"
   ]
  },
  {
   "cell_type": "markdown",
   "id": "e3003463",
   "metadata": {
    "editable": true
   },
   "source": [
    "$$\n",
    "\\times \\int e^{- \\frac{(\\tilde{x}_2 - a_2)^2}{2\\sigma_2^2} + \\frac{\\tilde{x}_2 \\boldsymbol{w}_{2\\ast}^T \\boldsymbol{h}}{\\sigma_2^2} } d\\tilde{x}_2 \\nonumber\n",
    "$$"
   ]
  },
  {
   "cell_type": "markdown",
   "id": "ef01de10",
   "metadata": {
    "editable": true
   },
   "source": [
    "$$\n",
    "\\times ... \\nonumber\n",
    "$$"
   ]
  },
  {
   "cell_type": "markdown",
   "id": "9bb323b1",
   "metadata": {
    "editable": true
   },
   "source": [
    "$$\n",
    "\\times \\int e^{- \\frac{(\\tilde{x}_M - a_M)^2}{2\\sigma_M^2} + \\frac{\\tilde{x}_M \\boldsymbol{w}_{M\\ast}^T \\boldsymbol{h}}{\\sigma_M^2} } d\\tilde{x}_M \\biggr) \\nonumber\n",
    "$$"
   ]
  },
  {
   "cell_type": "markdown",
   "id": "03889442",
   "metadata": {
    "editable": true
   },
   "source": [
    "$$\n",
    "= \\frac{1}{Z_{GB}} e^{\\boldsymbol{b}^T \\boldsymbol{h}} \\prod_i^M\n",
    "\t\\int e^{- \\frac{(\\tilde{x}_i - a_i)^2 - 2\\tilde{x}_i \\boldsymbol{w}_{i\\ast}^T \\boldsymbol{h}}{2\\sigma_i^2} } d\\tilde{x}_i \\nonumber\n",
    "$$"
   ]
  },
  {
   "cell_type": "markdown",
   "id": "8b6dc690",
   "metadata": {
    "editable": true
   },
   "source": [
    "$$\n",
    "= \\frac{1}{Z_{GB}} e^{\\boldsymbol{b}^T \\boldsymbol{h}} \\prod_i^M\n",
    "\t\\int e^{- \\frac{\\tilde{x}_i^2 - 2\\tilde{x}_i(a_i + \\tilde{x}_i \\boldsymbol{w}_{i\\ast}^T \\boldsymbol{h}) + a_i^2}{2\\sigma_i^2} } d\\tilde{x}_i \\nonumber\n",
    "$$"
   ]
  },
  {
   "cell_type": "markdown",
   "id": "19c8522c",
   "metadata": {
    "editable": true
   },
   "source": [
    "$$\n",
    "= \\frac{1}{Z_{GB}} e^{\\boldsymbol{b}^T \\boldsymbol{h}} \\prod_i^M\n",
    "\t\\int e^{- \\frac{\\tilde{x}_i^2 - 2\\tilde{x}_i(a_i + \\boldsymbol{w}_{i\\ast}^T \\boldsymbol{h}) + (a_i + \\boldsymbol{w}_{i\\ast}^T \\boldsymbol{h})^2 - (a_i + \\boldsymbol{w}_{i\\ast}^T \\boldsymbol{h})^2 + a_i^2}{2\\sigma_i^2} } d\\tilde{x}_i \\nonumber\n",
    "$$"
   ]
  },
  {
   "cell_type": "markdown",
   "id": "79a40de5",
   "metadata": {
    "editable": true
   },
   "source": [
    "$$\n",
    "= \\frac{1}{Z_{GB}} e^{\\boldsymbol{b}^T \\boldsymbol{h}} \\prod_i^M\n",
    "\t\\int e^{- \\frac{(\\tilde{x}_i - (a_i + \\boldsymbol{w}_{i\\ast}^T \\boldsymbol{h}))^2 - a_i^2 -2a_i \\boldsymbol{w}_{i\\ast}^T \\boldsymbol{h} - (\\boldsymbol{w}_{i\\ast}^T \\boldsymbol{h})^2 + a_i^2}{2\\sigma_i^2} } d\\tilde{x}_i \\nonumber\n",
    "$$"
   ]
  },
  {
   "cell_type": "markdown",
   "id": "3eea6039",
   "metadata": {
    "editable": true
   },
   "source": [
    "$$\n",
    "= \\frac{1}{Z_{GB}} e^{\\boldsymbol{b}^T \\boldsymbol{h}} \\prod_i^M\n",
    "\te^{\\frac{2a_i \\boldsymbol{w}_{i\\ast}^T \\boldsymbol{h} +(\\boldsymbol{w}_{i\\ast}^T \\boldsymbol{h})^2 }{2\\sigma_i^2}}\n",
    "\t\\int e^{- \\frac{(\\tilde{x}_i - a_i - \\boldsymbol{w}_{i\\ast}^T \\boldsymbol{h})^2}{2\\sigma_i^2}}\n",
    "\td\\tilde{x}_i \\nonumber\n",
    "$$"
   ]
  },
  {
   "cell_type": "markdown",
   "id": "1dc0119f",
   "metadata": {
    "editable": true
   },
   "source": [
    "<!-- Equation labels as ordinary links -->\n",
    "<div id=\"_auto45\"></div>\n",
    "\n",
    "$$\n",
    "\\begin{equation} \n",
    "\t= \\frac{1}{Z_{GB}} e^{\\boldsymbol{b}^T \\boldsymbol{h}} \\prod_i^M\n",
    "\t\\sqrt{2\\pi \\sigma_i^2}\n",
    "\te^{\\frac{2a_i \\boldsymbol{w}_{i\\ast}^T \\boldsymbol{h} +(\\boldsymbol{w}_{i\\ast}^T \\boldsymbol{h})^2 }{2\\sigma_i^2}} .\n",
    "\\label{_auto45} \\tag{47}\n",
    "\\end{equation}\n",
    "$$"
   ]
  },
  {
   "cell_type": "markdown",
   "id": "31e31ca6",
   "metadata": {
    "editable": true
   },
   "source": [
    "## Conditional Probability Density Functions\n",
    "\n",
    "We finish by deriving the conditional probabilities."
   ]
  },
  {
   "cell_type": "markdown",
   "id": "ceeb7c36",
   "metadata": {
    "editable": true
   },
   "source": [
    "$$\n",
    "p_{GB} (\\boldsymbol{h}| \\boldsymbol{x}) = \\frac{p_{GB} (\\boldsymbol{x}, \\boldsymbol{h})}{p_{GB} (\\boldsymbol{x})} \\nonumber\n",
    "$$"
   ]
  },
  {
   "cell_type": "markdown",
   "id": "5e8df068",
   "metadata": {
    "editable": true
   },
   "source": [
    "$$\n",
    "= \\frac{\\frac{1}{Z_{GB}} e^{-\\vert\\vert\\frac{\\boldsymbol{x} -\\boldsymbol{a}}{2\\boldsymbol{\\sigma}}\\vert\\vert^2 + \\boldsymbol{b}^T \\boldsymbol{h} \n",
    "\t+ (\\frac{\\boldsymbol{x}}{\\boldsymbol{\\sigma}^2})^T \\boldsymbol{W}\\boldsymbol{h}}}\n",
    "\t{\\frac{1}{Z_{GB}} e^{-\\vert\\vert\\frac{\\boldsymbol{x} -\\boldsymbol{a}}{2\\boldsymbol{\\sigma}}\\vert\\vert^2}\n",
    "\t\\prod_j^N (1 + e^{b_j + (\\frac{\\boldsymbol{x}}{\\boldsymbol{\\sigma}^2})^T \\boldsymbol{w}_{\\ast j}} ) }\n",
    "\t\\nonumber\n",
    "$$"
   ]
  },
  {
   "cell_type": "markdown",
   "id": "8d62d939",
   "metadata": {
    "editable": true
   },
   "source": [
    "$$\n",
    "= \\prod_j^N \\frac{e^{(b_j + (\\frac{\\boldsymbol{x}}{\\boldsymbol{\\sigma}^2})^T \\boldsymbol{w}_{\\ast j})h_j } }\n",
    "\t{1 + e^{b_j + (\\frac{\\boldsymbol{x}}{\\boldsymbol{\\sigma}^2})^T \\boldsymbol{w}_{\\ast j}}} \\nonumber\n",
    "$$"
   ]
  },
  {
   "cell_type": "markdown",
   "id": "bfbab4b5",
   "metadata": {
    "editable": true
   },
   "source": [
    "<!-- Equation labels as ordinary links -->\n",
    "<div id=\"_auto46\"></div>\n",
    "\n",
    "$$\n",
    "\\begin{equation} \n",
    "\t= \\prod_j^N p_{GB} (h_j|\\boldsymbol{x}).\n",
    "\\label{_auto46} \\tag{48}\n",
    "\\end{equation}\n",
    "$$"
   ]
  },
  {
   "cell_type": "markdown",
   "id": "9165df26",
   "metadata": {
    "editable": true
   },
   "source": [
    "The conditional probability of a binary hidden unit $h_j$ being on or off again takes the form of a sigmoid function"
   ]
  },
  {
   "cell_type": "markdown",
   "id": "b12cc016",
   "metadata": {
    "editable": true
   },
   "source": [
    "$$\n",
    "p_{GB} (h_j =1 | \\boldsymbol{x}) = \\frac{e^{b_j + (\\frac{\\boldsymbol{x}}{\\boldsymbol{\\sigma}^2})^T \\boldsymbol{w}_{\\ast j} } }\n",
    "\t{1 + e^{b_j + (\\frac{\\boldsymbol{x}}{\\boldsymbol{\\sigma}^2})^T \\boldsymbol{w}_{\\ast j}}} \\nonumber\n",
    "$$"
   ]
  },
  {
   "cell_type": "markdown",
   "id": "0ba54af5",
   "metadata": {
    "editable": true
   },
   "source": [
    "<!-- Equation labels as ordinary links -->\n",
    "<div id=\"_auto47\"></div>\n",
    "\n",
    "$$\n",
    "\\begin{equation} \n",
    "\t= \\frac{1}{1 + e^{-b_j - (\\frac{\\boldsymbol{x}}{\\boldsymbol{\\sigma}^2})^T \\boldsymbol{w}_{\\ast j}}} \n",
    "\\label{_auto47} \\tag{49}\n",
    "\\end{equation}\n",
    "$$"
   ]
  },
  {
   "cell_type": "markdown",
   "id": "cacfb113",
   "metadata": {
    "editable": true
   },
   "source": [
    "<!-- Equation labels as ordinary links -->\n",
    "<div id=\"_auto48\"></div>\n",
    "\n",
    "$$\n",
    "\\begin{equation} \n",
    "\tp_{GB} (h_j =0 | \\boldsymbol{x}) =\n",
    "\t\\frac{1}{1 + e^{b_j +(\\frac{\\boldsymbol{x}}{\\boldsymbol{\\sigma}^2})^T \\boldsymbol{w}_{\\ast j}}} .\n",
    "\\label{_auto48} \\tag{50}\n",
    "\\end{equation}\n",
    "$$"
   ]
  },
  {
   "cell_type": "markdown",
   "id": "ca1d0394",
   "metadata": {
    "editable": true
   },
   "source": [
    "The conditional probability of the continuous $\\boldsymbol{x}$ now has another form, however."
   ]
  },
  {
   "cell_type": "markdown",
   "id": "6a67bfb3",
   "metadata": {
    "editable": true
   },
   "source": [
    "$$\n",
    "p_{GB} (\\boldsymbol{x}|\\boldsymbol{h})\n",
    "\t= \\frac{p_{GB} (\\boldsymbol{x}, \\boldsymbol{h})}{p_{GB} (\\boldsymbol{h})} \\nonumber\n",
    "$$"
   ]
  },
  {
   "cell_type": "markdown",
   "id": "a9c2081e",
   "metadata": {
    "editable": true
   },
   "source": [
    "$$\n",
    "= \\frac{\\frac{1}{Z_{GB}} e^{-\\vert\\vert\\frac{\\boldsymbol{x} -\\boldsymbol{a}}{2\\boldsymbol{\\sigma}}\\vert\\vert^2 + \\boldsymbol{b}^T \\boldsymbol{h} \n",
    "\t+ (\\frac{\\boldsymbol{x}}{\\boldsymbol{\\sigma}^2})^T \\boldsymbol{W}\\boldsymbol{h}}}\n",
    "\t{\\frac{1}{Z_{GB}} e^{\\boldsymbol{b}^T \\boldsymbol{h}} \\prod_i^M\n",
    "\t\\sqrt{2\\pi \\sigma_i^2}\n",
    "\te^{\\frac{2a_i \\boldsymbol{w}_{i\\ast}^T \\boldsymbol{h} +(\\boldsymbol{w}_{i\\ast}^T \\boldsymbol{h})^2 }{2\\sigma_i^2}}}\n",
    "\t\\nonumber\n",
    "$$"
   ]
  },
  {
   "cell_type": "markdown",
   "id": "f77fac2c",
   "metadata": {
    "editable": true
   },
   "source": [
    "$$\n",
    "= \\prod_i^M \\frac{1}{\\sqrt{2\\pi \\sigma_i^2}}\n",
    "\t\\frac{e^{- \\frac{(x_i - a_i)^2}{2\\sigma_i^2} + \\frac{x_i \\boldsymbol{w}_{i\\ast}^T \\boldsymbol{h}}{2\\sigma_i^2} }}\n",
    "\t{e^{\\frac{2a_i \\boldsymbol{w}_{i\\ast}^T \\boldsymbol{h} +(\\boldsymbol{w}_{i\\ast}^T \\boldsymbol{h})^2 }{2\\sigma_i^2}}}\n",
    "\t\\nonumber\n",
    "$$"
   ]
  },
  {
   "cell_type": "markdown",
   "id": "8a235672",
   "metadata": {
    "editable": true
   },
   "source": [
    "$$\n",
    "= \\prod_i^M \\frac{1}{\\sqrt{2\\pi \\sigma_i^2}}\n",
    "\t\\frac{e^{-\\frac{x_i^2 - 2a_i x_i + a_i^2 - 2x_i \\boldsymbol{w}_{i\\ast}^T\\boldsymbol{h} }{2\\sigma_i^2} } }\n",
    "\t{e^{\\frac{2a_i \\boldsymbol{w}_{i\\ast}^T \\boldsymbol{h} +(\\boldsymbol{w}_{i\\ast}^T \\boldsymbol{h})^2 }{2\\sigma_i^2}}}\n",
    "\t\\nonumber\n",
    "$$"
   ]
  },
  {
   "cell_type": "markdown",
   "id": "0949fbe1",
   "metadata": {
    "editable": true
   },
   "source": [
    "$$\n",
    "= \\prod_i^M \\frac{1}{\\sqrt{2\\pi \\sigma_i^2}}\n",
    "\te^{- \\frac{x_i^2 - 2a_i x_i + a_i^2 - 2x_i \\boldsymbol{w}_{i\\ast}^T\\boldsymbol{h}\n",
    "\t+ 2a_i \\boldsymbol{w}_{i\\ast}^T \\boldsymbol{h} +(\\boldsymbol{w}_{i\\ast}^T \\boldsymbol{h})^2}\n",
    "\t{2\\sigma_i^2} }\n",
    "\t\\nonumber\n",
    "$$"
   ]
  },
  {
   "cell_type": "markdown",
   "id": "356fc00b",
   "metadata": {
    "editable": true
   },
   "source": [
    "$$\n",
    "= \\prod_i^M \\frac{1}{\\sqrt{2\\pi \\sigma_i^2}}\n",
    "\te^{ - \\frac{(x_i - b_i - \\boldsymbol{w}_{i\\ast}^T \\boldsymbol{h})^2}{2\\sigma_i^2}} \\nonumber\n",
    "$$"
   ]
  },
  {
   "cell_type": "markdown",
   "id": "b3950c40",
   "metadata": {
    "editable": true
   },
   "source": [
    "<!-- Equation labels as ordinary links -->\n",
    "<div id=\"_auto49\"></div>\n",
    "\n",
    "$$\n",
    "\\begin{equation} \n",
    "\t= \\prod_i^M \\mathcal{N}\n",
    "\t(x_i | b_i + \\boldsymbol{w}_{i\\ast}^T \\boldsymbol{h}, \\sigma_i^2) \n",
    "\\label{_auto49} \\tag{51}\n",
    "\\end{equation}\n",
    "$$"
   ]
  },
  {
   "cell_type": "markdown",
   "id": "8c02e0ba",
   "metadata": {
    "editable": true
   },
   "source": [
    "<!-- Equation labels as ordinary links -->\n",
    "<div id=\"_auto50\"></div>\n",
    "\n",
    "$$\n",
    "\\begin{equation} \n",
    "\t\\Rightarrow p_{GB} (x_i|\\boldsymbol{h}) = \\mathcal{N}\n",
    "\t(x_i | b_i + \\boldsymbol{w}_{i\\ast}^T \\boldsymbol{h}, \\sigma_i^2) .\n",
    "\\label{_auto50} \\tag{52}\n",
    "\\end{equation}\n",
    "$$"
   ]
  },
  {
   "cell_type": "markdown",
   "id": "240b9d25",
   "metadata": {
    "editable": true
   },
   "source": [
    "The form of these conditional probabilities explains the name\n",
    "\"Gaussian\" and the form of the Gaussian-binary energy function. We see\n",
    "that the conditional probability of $x_i$ given $\\boldsymbol{h}$ is a normal\n",
    "distribution with mean $b_i + \\boldsymbol{w}_{i\\ast}^T \\boldsymbol{h}$ and variance\n",
    "$\\sigma_i^2$."
   ]
  },
  {
   "cell_type": "markdown",
   "id": "fbeb4e2d",
   "metadata": {
    "editable": true
   },
   "source": [
    "## Code for RBMs using PyTorch"
   ]
  },
  {
   "cell_type": "code",
   "execution_count": 1,
   "id": "d2f59e7c",
   "metadata": {
    "collapsed": false,
    "editable": true
   },
   "outputs": [],
   "source": [
    "%matplotlib inline\n",
    "\n",
    "import numpy as np\n",
    "import torch\n",
    "import torch.utils.data\n",
    "import torch.nn as nn\n",
    "import torch.nn.functional as F\n",
    "import torch.optim as optim\n",
    "from torch.autograd import Variable\n",
    "from torchvision import datasets, transforms\n",
    "from torchvision.utils import make_grid , save_image\n",
    "import matplotlib.pyplot as plt\n",
    "\n",
    "\n",
    "batch_size = 64\n",
    "train_loader = torch.utils.data.DataLoader(\n",
    "datasets.MNIST('./data',\n",
    "    train=True,\n",
    "    download = True,\n",
    "    transform = transforms.Compose(\n",
    "        [transforms.ToTensor()])\n",
    "     ),\n",
    "     batch_size=batch_size\n",
    ")\n",
    "\n",
    "test_loader = torch.utils.data.DataLoader(\n",
    "datasets.MNIST('./data',\n",
    "    train=False,\n",
    "    transform=transforms.Compose(\n",
    "    [transforms.ToTensor()])\n",
    "    ),\n",
    "    batch_size=batch_size)\n",
    "\n",
    "\n",
    "class RBM(nn.Module):\n",
    "   def __init__(self,\n",
    "               n_vis=784,\n",
    "               n_hin=500,\n",
    "               k=5):\n",
    "        super(RBM, self).__init__()\n",
    "        self.W = nn.Parameter(torch.randn(n_hin,n_vis)*1e-2)\n",
    "        self.v_bias = nn.Parameter(torch.zeros(n_vis))\n",
    "        self.h_bias = nn.Parameter(torch.zeros(n_hin))\n",
    "        self.k = k\n",
    "    \n",
    "   def sample_from_p(self,p):\n",
    "       return F.relu(torch.sign(p - Variable(torch.rand(p.size()))))\n",
    "    \n",
    "   def v_to_h(self,v):\n",
    "        p_h = F.sigmoid(F.linear(v,self.W,self.h_bias))\n",
    "        sample_h = self.sample_from_p(p_h)\n",
    "        return p_h,sample_h\n",
    "    \n",
    "   def h_to_v(self,h):\n",
    "        p_v = F.sigmoid(F.linear(h,self.W.t(),self.v_bias))\n",
    "        sample_v = self.sample_from_p(p_v)\n",
    "        return p_v,sample_v\n",
    "        \n",
    "   def forward(self,v):\n",
    "        pre_h1,h1 = self.v_to_h(v)\n",
    "        \n",
    "        h_ = h1\n",
    "        for _ in range(self.k):\n",
    "            pre_v_,v_ = self.h_to_v(h_)\n",
    "            pre_h_,h_ = self.v_to_h(v_)\n",
    "        \n",
    "        return v,v_\n",
    "    \n",
    "   def free_energy(self,v):\n",
    "        vbias_term = v.mv(self.v_bias)\n",
    "        wx_b = F.linear(v,self.W,self.h_bias)\n",
    "        hidden_term = wx_b.exp().add(1).log().sum(1)\n",
    "        return (-hidden_term - vbias_term).mean()\n",
    "\n",
    "\n",
    "\n",
    "\n",
    "rbm = RBM(k=1)\n",
    "train_op = optim.SGD(rbm.parameters(),0.1)\n",
    "\n",
    "for epoch in range(10):\n",
    "    loss_ = []\n",
    "    for _, (data,target) in enumerate(train_loader):\n",
    "        data = Variable(data.view(-1,784))\n",
    "        sample_data = data.bernoulli()\n",
    "        \n",
    "        v,v1 = rbm(sample_data)\n",
    "        loss = rbm.free_energy(v) - rbm.free_energy(v1)\n",
    "        loss_.append(loss.data)\n",
    "        train_op.zero_grad()\n",
    "        loss.backward()\n",
    "        train_op.step()\n",
    "\n",
    "    print(\"Training loss for {} epoch: {}\".format(epoch, np.mean(loss_)))\n",
    "\n",
    "\n",
    "def show_adn_save(file_name,img):\n",
    "    npimg = np.transpose(img.numpy(),(1,2,0))\n",
    "    f = \"./%s.png\" % file_name\n",
    "    plt.imshow(npimg)\n",
    "    plt.imsave(f,npimg)\n",
    "\n",
    "show_adn_save(\"real\",make_grid(v.view(32,1,28,28).data))\n",
    "show_adn_save(\"generate\",make_grid(v1.view(32,1,28,28).data))"
   ]
  },
  {
   "cell_type": "markdown",
   "id": "179ea00a",
   "metadata": {
    "editable": true
   },
   "source": [
    "## Tensor-flow examples\n",
    "\n",
    "1. To create Boltzmann machine using Keras, see Babcock and Bali chapter 4, see <https://github.com/PacktPublishing/Hands-On-Generative-AI-with-Python-and-TensorFlow-2/blob/master/Chapter_4/models/rbm.py>\n",
    "\n",
    "2. See also Foster, chapter 7 on energy-based models at <https://github.com/davidADSP/Generative_Deep_Learning_2nd_Edition/tree/main/notebooks/07_ebm/01_ebm>"
   ]
  }
 ],
 "metadata": {},
 "nbformat": 4,
 "nbformat_minor": 5
}
