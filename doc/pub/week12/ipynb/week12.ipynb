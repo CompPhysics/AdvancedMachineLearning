{
 "cells": [
  {
   "cell_type": "markdown",
   "id": "5b01ce9d",
   "metadata": {
    "editable": true
   },
   "source": [
    "<!-- HTML file automatically generated from DocOnce source (https://github.com/doconce/doconce/)\n",
    "doconce format html week12.do.txt --no_mako -->\n",
    "<!-- dom:TITLE: April 8-12: Advanced machine learning and data analysis for the physical sciences -->"
   ]
  },
  {
   "cell_type": "markdown",
   "id": "0e1bc2a9",
   "metadata": {
    "editable": true
   },
   "source": [
    "# April 8-12: Advanced machine learning and data analysis for the physical sciences\n",
    "**Morten Hjorth-Jensen**, Department of Physics and Center for Computing in Science Education, University of Oslo, Norway and Department of Physics and Astronomy and Facility for Rare Isotope Beams, Michigan State University, East Lansing, Michigan, USA\n",
    "\n",
    "Date: **April 8-12, 2024**"
   ]
  },
  {
   "cell_type": "markdown",
   "id": "ebb227aa",
   "metadata": {
    "editable": true
   },
   "source": [
    "## Plans for the week April 8-12\n",
    "\n",
    "**Boltzmann machines.**\n",
    "\n",
    "1. Restricted Boltzmann machines, reminder from last week\n",
    "\n",
    "2. Variational autoencoders\n",
    "\n",
    "3. Reading recommendation: Goodfellow et al chapters 18,  20.1-20-7\n",
    "<!-- o [Video of lecture](https://youtu.be/KeTW6klG50w) -->\n",
    "<!-- o [Whiteboard notes](https://github.com/CompPhysics/AdvancedMachineLearning/blob/main/doc/HandwrittenNotes/NotesApr192023.pdf) -->"
   ]
  },
  {
   "cell_type": "markdown",
   "id": "c1e29240",
   "metadata": {
    "editable": true
   },
   "source": [
    "## Variational Autoencoders (VAE)"
   ]
  },
  {
   "cell_type": "markdown",
   "id": "28adfb94",
   "metadata": {
    "editable": true
   },
   "source": [
    "## Generative Models\n",
    "**Generative models** describe a class of statistical models that are a contrast\n",
    "to **discriminative models**. Informally we say that generative models can\n",
    "generate new data instances while discriminative models discriminate between\n",
    "different kinds of data instances. A generative model could generate new photos\n",
    "of animals that look like 'real' animals while a discriminative model could tell\n",
    "a dog from a cat. More formally, given a data set $x$ and a set of labels /\n",
    "targets $y$. Generative models capture the joint probability $p(x, y)$, or\n",
    "just $p(x)$ if there are no labels, while discriminative models capture the\n",
    "conditional probability $p(y | x)$. Discriminative models generally try to draw\n",
    "boundaries in the data space (often high dimensional), while generative models\n",
    "try to model how data is placed throughout the space."
   ]
  },
  {
   "cell_type": "markdown",
   "id": "0c881552",
   "metadata": {
    "editable": true
   },
   "source": [
    "## Generative Adversarial Networks\n",
    "**Generative Adversarial Networks** are a type of unsupervised machine learning\n",
    "algorithm proposed by [Goodfellow et. al](https://arxiv.org/pdf/1406.2661.pdf)\n",
    "in 2014 (Read the paper first it's only 6 pages). The simplest formulation of\n",
    "the model is based on a game theoretic approach, *zero sum game*, where we pit\n",
    "two neural networks against one another. We define two rival networks, one\n",
    "generator $g$, and one discriminator $d$. The generator directly produces\n",
    "samples"
   ]
  },
  {
   "cell_type": "markdown",
   "id": "1ec9116a",
   "metadata": {
    "editable": true
   },
   "source": [
    "<!-- Equation labels as ordinary links -->\n",
    "<div id=\"_auto1\"></div>\n",
    "\n",
    "$$\n",
    "\\begin{equation}\n",
    "    x = g(z; \\theta^{(g)})\n",
    "\\label{_auto1} \\tag{1}\n",
    "\\end{equation}\n",
    "$$"
   ]
  },
  {
   "cell_type": "markdown",
   "id": "db1e7e84",
   "metadata": {
    "editable": true
   },
   "source": [
    "The discriminator attempts to distinguish between samples drawn from the\n",
    "training data and samples drawn from the generator. In other words, it tries to\n",
    "tell the difference between the fake data produced by $g$ and the actual data\n",
    "samples we want to do prediction on. The discriminator outputs a probability\n",
    "value given by"
   ]
  },
  {
   "cell_type": "markdown",
   "id": "866af157",
   "metadata": {
    "editable": true
   },
   "source": [
    "<!-- Equation labels as ordinary links -->\n",
    "<div id=\"_auto2\"></div>\n",
    "\n",
    "$$\n",
    "\\begin{equation}\n",
    "    d(x; \\theta^{(d)})\n",
    "\\label{_auto2} \\tag{2}\n",
    "\\end{equation}\n",
    "$$"
   ]
  },
  {
   "cell_type": "markdown",
   "id": "bfc3d993",
   "metadata": {
    "editable": true
   },
   "source": [
    "indicating the probability that $x$ is a real training example rather than a\n",
    "fake sample the generator has generated. The simplest way to formulate the\n",
    "learning process in a generative adversarial network is a zero-sum game, in\n",
    "which a function"
   ]
  },
  {
   "cell_type": "markdown",
   "id": "b88a1e0a",
   "metadata": {
    "editable": true
   },
   "source": [
    "<!-- Equation labels as ordinary links -->\n",
    "<div id=\"_auto3\"></div>\n",
    "\n",
    "$$\n",
    "\\begin{equation}\n",
    "    v(\\theta^{(g)}, \\theta^{(d)})\n",
    "\\label{_auto3} \\tag{3}\n",
    "\\end{equation}\n",
    "$$"
   ]
  },
  {
   "cell_type": "markdown",
   "id": "31538f43",
   "metadata": {
    "editable": true
   },
   "source": [
    "determines the reward for the discriminator, while the generator gets the\n",
    "conjugate reward"
   ]
  },
  {
   "cell_type": "markdown",
   "id": "b4fd5497",
   "metadata": {
    "editable": true
   },
   "source": [
    "<!-- Equation labels as ordinary links -->\n",
    "<div id=\"_auto4\"></div>\n",
    "\n",
    "$$\n",
    "\\begin{equation}\n",
    "    -v(\\theta^{(g)}, \\theta^{(d)})\n",
    "\\label{_auto4} \\tag{4}\n",
    "\\end{equation}\n",
    "$$"
   ]
  },
  {
   "cell_type": "markdown",
   "id": "8256973b",
   "metadata": {
    "editable": true
   },
   "source": [
    "During learning both of the networks maximize their own reward function, so that\n",
    "the generator gets better and better at tricking the discriminator, while the\n",
    "discriminator gets better and better at telling the difference between the fake\n",
    "and real data. The generator and discriminator alternate on which one trains at\n",
    "one time (i.e. for one epoch). In other words, we keep the generator constant\n",
    "and train the discriminator, then we keep the discriminator constant to train\n",
    "the generator and repeat. It is this back and forth dynamic which lets GANs\n",
    "tackle otherwise intractable generative problems. As the generator improves with\n",
    " training, the discriminator's performance gets worse because it cannot easily\n",
    " tell the difference between real and fake. If the generator ends up succeeding\n",
    " perfectly, the the discriminator will do no better than random guessing i.e.\n",
    " 50\\%. This progression in the training poses a problem for the convergence\n",
    " criteria for GANs. The discriminator feedback gets less meaningful over time,\n",
    " if we continue training after this point then the generator is effectively\n",
    " training on junk data which can undo the learning up to that point. Therefore,\n",
    " we stop training when the discriminator starts outputting $1/2$ everywhere.\n",
    " At convergence we have"
   ]
  },
  {
   "cell_type": "markdown",
   "id": "fc384d1e",
   "metadata": {
    "editable": true
   },
   "source": [
    "<!-- Equation labels as ordinary links -->\n",
    "<div id=\"_auto5\"></div>\n",
    "\n",
    "$$\n",
    "\\begin{equation}\n",
    "    g^* = \\underset{g}{\\mathrm{argmin}}\\hspace{2pt}\n",
    "          \\underset{d}{\\mathrm{max}}v(\\theta^{(g)}, \\theta^{(d)})\n",
    "\\label{_auto5} \\tag{5}\n",
    "\\end{equation}\n",
    "$$"
   ]
  },
  {
   "cell_type": "markdown",
   "id": "8458f35a",
   "metadata": {
    "editable": true
   },
   "source": [
    "The default choice for $v$ is"
   ]
  },
  {
   "cell_type": "markdown",
   "id": "a67e258e",
   "metadata": {
    "editable": true
   },
   "source": [
    "<!-- Equation labels as ordinary links -->\n",
    "<div id=\"_auto6\"></div>\n",
    "\n",
    "$$\n",
    "\\begin{equation}\n",
    "    v(\\theta^{(g)}, \\theta^{(d)}) = \\mathbb{E}_{x\\sim p_\\mathrm{data}}\\log d(x)\n",
    "                                  + \\mathbb{E}_{x\\sim p_\\mathrm{model}}\n",
    "                                  \\log (1 - d(x))\n",
    "\\label{_auto6} \\tag{6}\n",
    "\\end{equation}\n",
    "$$"
   ]
  },
  {
   "cell_type": "markdown",
   "id": "bd248d08",
   "metadata": {
    "editable": true
   },
   "source": [
    "The main motivation for the design of GANs is that the learning process requires\n",
    "neither approximate inference (variational autoencoders for example) nor\n",
    "approximation of a partition function. In the case where"
   ]
  },
  {
   "cell_type": "markdown",
   "id": "2e739d6c",
   "metadata": {
    "editable": true
   },
   "source": [
    "<!-- Equation labels as ordinary links -->\n",
    "<div id=\"_auto7\"></div>\n",
    "\n",
    "$$\n",
    "\\begin{equation}\n",
    "    \\underset{d}{\\mathrm{max}}v(\\theta^{(g)}, \\theta^{(d)})\n",
    "\\label{_auto7} \\tag{7}\n",
    "\\end{equation}\n",
    "$$"
   ]
  },
  {
   "cell_type": "markdown",
   "id": "ec03560a",
   "metadata": {
    "editable": true
   },
   "source": [
    "is convex in $\\theta^{(g)}$ then the procedure is guaranteed to converge and is\n",
    "asymptotically consistent\n",
    "( [Seth Lloyd on QuGANs](https://arxiv.org/pdf/1804.09139.pdf)  ). This is in\n",
    "general not the case and it is possible to get situations where the training\n",
    "process never converges because the generator and discriminator chase one\n",
    "another around in the parameter space indefinitely. A much deeper discussion on\n",
    "the currently open research problem of GAN convergence is available\n",
    "[here](https://www.deeplearningbook.org/contents/generative_models.html). To\n",
    "anyone interested in learning more about GANs it is a highly recommended read.\n",
    "Direct quote: \"In this best-performing formulation, the generator aims to\n",
    "increase the log probability that the discriminator makes a mistake, rather than\n",
    "aiming to decrease the log probability that the discriminator makes the correct\n",
    "prediction.\" [Another interesting read](https://arxiv.org/abs/1701.00160)"
   ]
  }
 ],
 "metadata": {},
 "nbformat": 4,
 "nbformat_minor": 5
}
