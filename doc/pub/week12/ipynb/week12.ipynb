{
 "cells": [
  {
   "cell_type": "markdown",
   "id": "c74c5077",
   "metadata": {},
   "source": [
    "<!-- HTML file automatically generated from DocOnce source (https://github.com/doconce/doconce/)\n",
    "doconce format html week12.do.txt --no_mako -->\n",
    "<!-- dom:TITLE: Advanced machine learning and data analysis for the physical sciences -->"
   ]
  },
  {
   "cell_type": "markdown",
   "id": "ed8e9d6a",
   "metadata": {},
   "source": [
    "# Advanced machine learning and data analysis for the physical sciences\n",
    "**Morten Hjorth-Jensen**, Department of Physics and Center for Computing in Science Education, University of Oslo, Norway and Department of Physics and Astronomy and Facility for Rare Isotope Beams, Michigan State University, East Lansing, Michigan, USA\n",
    "\n",
    "Date: **April 9, 2024**"
   ]
  },
  {
   "cell_type": "markdown",
   "id": "b3a49616",
   "metadata": {},
   "source": [
    "## Plans for the week April 8-12, 2024\n",
    "\n",
    "**Generative methods, energy models and Boltzmann machines.**\n",
    "\n",
    "1. Restricted Boltzmann machines, reminder from last week\n",
    "\n",
    "2. Reminder on Markov Chain Monte Carlo and Gibbs sampling\n",
    "\n",
    "3. Discussions of various Boltzmann machines\n",
    "\n",
    "4. Implementation of Boltzmann machines using TensorFlow and Pytorch\n",
    "\n",
    "5. Reading recommendation: Goodfellow et al chapters 18.1-18.2,  20.1-20-7; To create Boltzmann machine using Keras, see Babcock and Bali chapter 4, see <https://github.com/PacktPublishing/Hands-On-Generative-AI-with-Python-and-TensorFlow-2/blob/master/Chapter_4/models/rbm.py>\n",
    "\n",
    "6. See also Foster, chapter 7 on energy-based models at <https://github.com/davidADSP/Generative_Deep_Learning_2nd_Edition/tree/main/notebooks/07_ebm/01_ebm>\n",
    "\n",
    "7. [Video of lecture](https://youtu.be/hEjcK0ZkuAA)\n",
    "\n",
    "8. [Whiteboard notes](https://github.com/CompPhysics/AdvancedMachineLearning/blob/main/doc/HandwrittenNotes/2024/NotesApril9.pdf)"
   ]
  },
  {
   "cell_type": "markdown",
   "id": "e8779103",
   "metadata": {},
   "source": [
    "## Essential elements of generative models\n",
    "\n",
    "The aim of generative methods is to train a probability distribution $p$. The methods we will focus on are:\n",
    "1. Energy based models, with the family of Boltzmann distributions as a typical example\n",
    "\n",
    "2. Variational autoencoders, based on our discussions on autoencoders\n",
    "\n",
    "3. Generative adversarial networks (GANs) and\n",
    "\n",
    "4. Diffusion models"
   ]
  },
  {
   "cell_type": "markdown",
   "id": "065fd2f5",
   "metadata": {},
   "source": [
    "## Energy models\n",
    "\n",
    "Last week we defined a domain $\\boldsymbol{X}$ of stochastic variables $\\boldsymbol{X}= \\{x_0,x_1, \\dots , x_{n-1}\\}$ with a pertinent probability distribution"
   ]
  },
  {
   "cell_type": "markdown",
   "id": "f10faa8b",
   "metadata": {},
   "source": [
    "$$\n",
    "p(\\boldsymbol{X})=\\prod_{x_i\\in \\boldsymbol{X}}p(x_i),\n",
    "$$"
   ]
  },
  {
   "cell_type": "markdown",
   "id": "70d850e6",
   "metadata": {},
   "source": [
    "where we have assumed that the random varaibles $x_i$ are all independent and identically distributed (iid).\n",
    "\n",
    "We will now assume that we can defined this function in terms of optimization parameters $\\boldsymbol{\\Theta}$, which could be the biases and weights of deep network, and a set of hidden variables we also assume to be random variables which also are iid. The domain of these variables is\n",
    "$\\boldsymbol{H}= \\{h_0,h_1, \\dots , h_{m-1}\\}$."
   ]
  },
  {
   "cell_type": "markdown",
   "id": "6e80c65b",
   "metadata": {},
   "source": [
    "## Probability model\n",
    "\n",
    "We define a probability"
   ]
  },
  {
   "cell_type": "markdown",
   "id": "1dbcbd29",
   "metadata": {},
   "source": [
    "$$\n",
    "p(x_i,h_j;\\boldsymbol{\\Theta}) = \\frac{f(x_i,h_j;\\boldsymbol{\\Theta})}{Z(\\boldsymbol{\\Theta})},\n",
    "$$"
   ]
  },
  {
   "cell_type": "markdown",
   "id": "b394bb53",
   "metadata": {},
   "source": [
    "where $f(x_i,h_j;\\boldsymbol{\\Theta})$ is a function which we assume is larger or\n",
    "equal than zero and obeys all properties required for a probability\n",
    "distribution and $Z(\\boldsymbol{\\Theta})$ is a normalization constant. Inspired by\n",
    "statistical mechanics, we call it often for the partition function.\n",
    "It is defined as (assuming that we have discrete probability distributions)"
   ]
  },
  {
   "cell_type": "markdown",
   "id": "c79898d5",
   "metadata": {},
   "source": [
    "$$\n",
    "Z(\\boldsymbol{\\Theta})=\\sum_{x_i\\in \\boldsymbol{X}}\\sum_{h_j\\in \\boldsymbol{H}} f(x_i,h_j;\\boldsymbol{\\Theta}).\n",
    "$$"
   ]
  },
  {
   "cell_type": "markdown",
   "id": "c061f6f4",
   "metadata": {},
   "source": [
    "## Marginal and conditional probabilities\n",
    "\n",
    "We can in turn define the marginal probabilities"
   ]
  },
  {
   "cell_type": "markdown",
   "id": "b3dc7b32",
   "metadata": {},
   "source": [
    "$$\n",
    "p(x_i;\\boldsymbol{\\Theta}) = \\frac{\\sum_{h_j\\in \\boldsymbol{H}}f(x_i,h_j;\\boldsymbol{\\Theta})}{Z(\\boldsymbol{\\Theta})},\n",
    "$$"
   ]
  },
  {
   "cell_type": "markdown",
   "id": "0f342dc3",
   "metadata": {},
   "source": [
    "and"
   ]
  },
  {
   "cell_type": "markdown",
   "id": "8fede168",
   "metadata": {},
   "source": [
    "$$\n",
    "p(h_i;\\boldsymbol{\\Theta}) = \\frac{\\sum_{x_i\\in \\boldsymbol{X}}f(x_i,h_j;\\boldsymbol{\\Theta})}{Z(\\boldsymbol{\\Theta})}.\n",
    "$$"
   ]
  },
  {
   "cell_type": "markdown",
   "id": "e1a73a8a",
   "metadata": {},
   "source": [
    "## Change of notation\n",
    "\n",
    "**Note the change to a vector notation**. A variable like $\\boldsymbol{x}$\n",
    "represents now a specific **configuration**. We can generate an infinity\n",
    "of such configurations. The final partition function is then the sum\n",
    "over all such possible configurations, that is"
   ]
  },
  {
   "cell_type": "markdown",
   "id": "0ca56b4f",
   "metadata": {},
   "source": [
    "$$\n",
    "Z(\\boldsymbol{\\Theta})=\\sum_{x_i\\in \\boldsymbol{X}}\\sum_{h_j\\in \\boldsymbol{H}} f(x_i,h_j;\\boldsymbol{\\Theta}),\n",
    "$$"
   ]
  },
  {
   "cell_type": "markdown",
   "id": "fa037ec8",
   "metadata": {},
   "source": [
    "changes to"
   ]
  },
  {
   "cell_type": "markdown",
   "id": "d6ea9dc1",
   "metadata": {},
   "source": [
    "$$\n",
    "Z(\\boldsymbol{\\Theta})=\\sum_{\\boldsymbol{x}}\\sum_{\\boldsymbol{h}} f(\\boldsymbol{x},\\boldsymbol{h};\\boldsymbol{\\Theta}).\n",
    "$$"
   ]
  },
  {
   "cell_type": "markdown",
   "id": "de7d79d7",
   "metadata": {},
   "source": [
    "If we have a binary set of variable $x_i$ and $h_j$ and $M$ values of $x_i$ and $N$ values of $h_j$ we have in total $2^M$ and $2^N$ possible $\\boldsymbol{x}$ and $\\boldsymbol{h}$ configurations, respectively.\n",
    "\n",
    "We see that even for the modest binary case, we can easily approach a\n",
    "number of configuration which is not possible to deal with."
   ]
  },
  {
   "cell_type": "markdown",
   "id": "197cf64e",
   "metadata": {},
   "source": [
    "## Optimization problem\n",
    "\n",
    "At the end, we are not interested in the probabilities of the hidden variables. The probability we thus want to optimize is"
   ]
  },
  {
   "cell_type": "markdown",
   "id": "eecda6d5",
   "metadata": {},
   "source": [
    "$$\n",
    "p(\\boldsymbol{X};\\boldsymbol{\\Theta})=\\prod_{x_i\\in \\boldsymbol{X}}p(x_i;\\boldsymbol{\\Theta})=\\prod_{x_i\\in \\boldsymbol{X}}\\left(\\frac{\\sum_{h_j\\in \\boldsymbol{H}}f(x_i,h_j;\\boldsymbol{\\Theta})}{Z(\\boldsymbol{\\Theta})}\\right),\n",
    "$$"
   ]
  },
  {
   "cell_type": "markdown",
   "id": "ce5c3f4b",
   "metadata": {},
   "source": [
    "which we rewrite as"
   ]
  },
  {
   "cell_type": "markdown",
   "id": "bc4c9a21",
   "metadata": {},
   "source": [
    "$$\n",
    "p(\\boldsymbol{X};\\boldsymbol{\\Theta})=\\frac{1}{Z(\\boldsymbol{\\Theta})}\\prod_{x_i\\in \\boldsymbol{X}}\\left(\\sum_{h_j\\in \\boldsymbol{H}}f(x_i,h_j;\\boldsymbol{\\Theta})\\right).\n",
    "$$"
   ]
  },
  {
   "cell_type": "markdown",
   "id": "24c85d83",
   "metadata": {},
   "source": [
    "## Further simplifications\n",
    "\n",
    "We simplify further by rewriting it as"
   ]
  },
  {
   "cell_type": "markdown",
   "id": "85eff0d9",
   "metadata": {},
   "source": [
    "$$\n",
    "p(\\boldsymbol{X};\\boldsymbol{\\Theta})=\\frac{1}{Z(\\boldsymbol{\\Theta})}\\prod_{x_i\\in \\boldsymbol{X}}f(x_i;\\boldsymbol{\\Theta}),\n",
    "$$"
   ]
  },
  {
   "cell_type": "markdown",
   "id": "04509b31",
   "metadata": {},
   "source": [
    "where we used $p(x_i;\\boldsymbol{\\Theta}) = \\sum_{h_j\\in \\boldsymbol{H}}f(x_i,h_j;\\boldsymbol{\\Theta})$.\n",
    "The optimization problem is then"
   ]
  },
  {
   "cell_type": "markdown",
   "id": "d6fdc0b3",
   "metadata": {},
   "source": [
    "$$\n",
    "{\\displaystyle \\mathrm{arg} \\hspace{0.1cm}\\max_{\\boldsymbol{\\boldsymbol{\\Theta}}\\in {\\mathbb{R}}^{p}}} \\hspace{0.1cm}p(\\boldsymbol{X};\\boldsymbol{\\Theta}).\n",
    "$$"
   ]
  },
  {
   "cell_type": "markdown",
   "id": "7d379e52",
   "metadata": {},
   "source": [
    "## Optimizing the logarithm instead\n",
    "\n",
    "Computing the derivatives with respect to the parameters $\\boldsymbol{\\Theta}$ is\n",
    "easier (and equivalent) with taking the logarithm of the\n",
    "probability. We will thus optimize"
   ]
  },
  {
   "cell_type": "markdown",
   "id": "ab4e884e",
   "metadata": {},
   "source": [
    "$$\n",
    "{\\displaystyle \\mathrm{arg} \\hspace{0.1cm}\\max_{\\boldsymbol{\\boldsymbol{\\Theta}}\\in {\\mathbb{R}}^{p}}} \\hspace{0.1cm}\\log{p(\\boldsymbol{X};\\boldsymbol{\\Theta})},\n",
    "$$"
   ]
  },
  {
   "cell_type": "markdown",
   "id": "71546799",
   "metadata": {},
   "source": [
    "which leads to"
   ]
  },
  {
   "cell_type": "markdown",
   "id": "b8fd5e21",
   "metadata": {},
   "source": [
    "$$\n",
    "\\nabla_{\\boldsymbol{\\Theta}}\\log{p(\\boldsymbol{X};\\boldsymbol{\\Theta})}=0.\n",
    "$$"
   ]
  },
  {
   "cell_type": "markdown",
   "id": "e72332f7",
   "metadata": {},
   "source": [
    "## Expression for the gradients\n",
    "This leads to the following equation"
   ]
  },
  {
   "cell_type": "markdown",
   "id": "45808ada",
   "metadata": {},
   "source": [
    "$$\n",
    "\\nabla_{\\boldsymbol{\\Theta}}\\log{p(\\boldsymbol{X};\\boldsymbol{\\Theta})}=\\nabla_{\\boldsymbol{\\Theta}}\\left(\\sum_{x_i\\in \\boldsymbol{X}}\\log{f(x_i;\\boldsymbol{\\Theta})}\\right)-\\nabla_{\\boldsymbol{\\Theta}}\\log{Z(\\boldsymbol{\\Theta})}=0.\n",
    "$$"
   ]
  },
  {
   "cell_type": "markdown",
   "id": "2029cfff",
   "metadata": {},
   "source": [
    "The first term is called the positive phase and we assume that we have a model for the function $f$ from which we can sample values. Below we will develop an explicit model for this.\n",
    "The second term is called the negative phase and is the one which leads to more difficulties."
   ]
  },
  {
   "cell_type": "markdown",
   "id": "dca274df",
   "metadata": {},
   "source": [
    "## The derivative of the partition function\n",
    "\n",
    "The partition function, defined above as"
   ]
  },
  {
   "cell_type": "markdown",
   "id": "4bd326b1",
   "metadata": {},
   "source": [
    "$$\n",
    "Z(\\boldsymbol{\\Theta})=\\sum_{x_i\\in \\boldsymbol{X}}\\sum_{h_j\\in \\boldsymbol{H}} f(x_i,h_j;\\boldsymbol{\\Theta}),\n",
    "$$"
   ]
  },
  {
   "cell_type": "markdown",
   "id": "e79d7a2a",
   "metadata": {},
   "source": [
    "is in general the most problematic term. In principle both $x$ and $h$ can span large degrees of freedom, if not even infinitely many ones, and computing the partition function itself is often not desirable or even feasible. The above derivative of the partition function can however be written in terms of an expectation value which is in turn evaluated  using Monte Carlo sampling and the theory of Markov chains, popularly shortened to MCMC (or just MC$^2$)."
   ]
  },
  {
   "cell_type": "markdown",
   "id": "abc51a6c",
   "metadata": {},
   "source": [
    "## Explicit expression for the derivative\n",
    "We can rewrite"
   ]
  },
  {
   "cell_type": "markdown",
   "id": "0239e131",
   "metadata": {},
   "source": [
    "$$\n",
    "\\nabla_{\\boldsymbol{\\Theta}}\\log{Z(\\boldsymbol{\\Theta})}=\\frac{\\nabla_{\\boldsymbol{\\Theta}}Z(\\boldsymbol{\\Theta})}{Z(\\boldsymbol{\\Theta})},\n",
    "$$"
   ]
  },
  {
   "cell_type": "markdown",
   "id": "b24fbc34",
   "metadata": {},
   "source": [
    "which reads in more detail"
   ]
  },
  {
   "cell_type": "markdown",
   "id": "e16a1dcc",
   "metadata": {},
   "source": [
    "$$\n",
    "\\nabla_{\\boldsymbol{\\Theta}}\\log{Z(\\boldsymbol{\\Theta})}=\\frac{\\nabla_{\\boldsymbol{\\Theta}} \\sum_{x_i\\in \\boldsymbol{X}}f(x_i;\\boldsymbol{\\Theta})   }{Z(\\boldsymbol{\\Theta})}.\n",
    "$$"
   ]
  },
  {
   "cell_type": "markdown",
   "id": "83b771c6",
   "metadata": {},
   "source": [
    "We can rewrite the function $f$ (we have assumed that is larger or\n",
    "equal than zero) as $f=\\exp{\\log{f}}$. We can then reqrite the last\n",
    "equation as"
   ]
  },
  {
   "cell_type": "markdown",
   "id": "4692a646",
   "metadata": {},
   "source": [
    "$$\n",
    "\\nabla_{\\boldsymbol{\\Theta}}\\log{Z(\\boldsymbol{\\Theta})}=\\frac{ \\sum_{x_i\\in \\boldsymbol{X}} \\nabla_{\\boldsymbol{\\Theta}}\\exp{\\log{f(x_i;\\boldsymbol{\\Theta})}}   }{Z(\\boldsymbol{\\Theta})}.\n",
    "$$"
   ]
  },
  {
   "cell_type": "markdown",
   "id": "973941e9",
   "metadata": {},
   "source": [
    "## Final expression\n",
    "\n",
    "Taking the derivative gives us"
   ]
  },
  {
   "cell_type": "markdown",
   "id": "e3e5d95b",
   "metadata": {},
   "source": [
    "$$\n",
    "\\nabla_{\\boldsymbol{\\Theta}}\\log{Z(\\boldsymbol{\\Theta})}=\\frac{ \\sum_{x_i\\in \\boldsymbol{X}}f(x_i;\\boldsymbol{\\Theta}) \\nabla_{\\boldsymbol{\\Theta}}\\log{f(x_i;\\boldsymbol{\\Theta})}   }{Z(\\boldsymbol{\\Theta})},\n",
    "$$"
   ]
  },
  {
   "cell_type": "markdown",
   "id": "3554fe69",
   "metadata": {},
   "source": [
    "which is the expectation value of $\\log{f}$"
   ]
  },
  {
   "cell_type": "markdown",
   "id": "3c9200ff",
   "metadata": {},
   "source": [
    "$$\n",
    "\\nabla_{\\boldsymbol{\\Theta}}\\log{Z(\\boldsymbol{\\Theta})}=\\sum_{x_i\\in \\boldsymbol{X}}p(x_i;\\boldsymbol{\\Theta}) \\nabla_{\\boldsymbol{\\Theta}}\\log{f(x_i;\\boldsymbol{\\Theta})},\n",
    "$$"
   ]
  },
  {
   "cell_type": "markdown",
   "id": "620212cd",
   "metadata": {},
   "source": [
    "that is"
   ]
  },
  {
   "cell_type": "markdown",
   "id": "a404d8c0",
   "metadata": {},
   "source": [
    "$$\n",
    "\\nabla_{\\boldsymbol{\\Theta}}\\log{Z(\\boldsymbol{\\Theta})}=\\mathbb{E}(\\log{f(x_i;\\boldsymbol{\\Theta})}).\n",
    "$$"
   ]
  },
  {
   "cell_type": "markdown",
   "id": "8a7a9558",
   "metadata": {},
   "source": [
    "This quantity is evaluated using Monte Carlo sampling, with Gibbs\n",
    "sampling as the standard sampling rule.  Before we discuss the\n",
    "explicit algorithms, we need to remind ourselves about Markov chains\n",
    "and sampling rules like the Metropolis-Hastings algorithm and Gibbs\n",
    "sampling."
   ]
  },
  {
   "cell_type": "markdown",
   "id": "91bd86fd",
   "metadata": {},
   "source": [
    "## Introducing the energy model\n",
    "\n",
    "As we will see below, a typical Boltzmann machines employs a probability distribution"
   ]
  },
  {
   "cell_type": "markdown",
   "id": "812246d8",
   "metadata": {},
   "source": [
    "$$\n",
    "p(\\boldsymbol{x},\\boldsymbol{h};\\boldsymbol{\\Theta}) = \\frac{f(\\boldsymbol{x},\\boldsymbol{h};\\boldsymbol{\\Theta})}{Z(\\boldsymbol{\\Theta})},\n",
    "$$"
   ]
  },
  {
   "cell_type": "markdown",
   "id": "83cca73b",
   "metadata": {},
   "source": [
    "where $f(\\boldsymbol{x},\\boldsymbol{h};\\boldsymbol{\\Theta})$ is given by a so-called energy model. If we assume that the random variables $x_i$ and $h_j$ take binary values only, for example $x_i,h_j=\\{0,1\\}$, we have a so-called binary-binary model where"
   ]
  },
  {
   "cell_type": "markdown",
   "id": "7810f5f2",
   "metadata": {},
   "source": [
    "$$\n",
    "f(\\boldsymbol{x},\\boldsymbol{h};\\boldsymbol{\\Theta})=-E(\\boldsymbol{x}, \\boldsymbol{h};\\boldsymbol{\\Theta}) = \\sum_{x_i\\in \\boldsymbol{X}} x_i a_i+\\sum_{h_j\\in \\boldsymbol{H}} b_j h_j + \\sum_{x_i\\in \\boldsymbol{X},h_j\\in\\boldsymbol{H}} x_i w_{ij} h_j,\n",
    "$$"
   ]
  },
  {
   "cell_type": "markdown",
   "id": "e5ca1aa1",
   "metadata": {},
   "source": [
    "where the set of parameters are given by the biases and weights $\\boldsymbol{\\Theta}=\\{\\boldsymbol{a},\\boldsymbol{b},\\boldsymbol{W}\\}$.\n",
    "**Note the vector notation** instead of $x_i$ and $h_j$ for $f$. The vectors $\\boldsymbol{x}$ and $\\boldsymbol{h}$ represent a specific instance of stochastic variables $x_i$ and $h_j$. These arrangements of $\\boldsymbol{x}$ and $\\boldsymbol{h}$ lead to a specific energy configuration."
   ]
  },
  {
   "cell_type": "markdown",
   "id": "727b4250",
   "metadata": {},
   "source": [
    "## More compact notation\n",
    "\n",
    "With the above definition we can write the probability as"
   ]
  },
  {
   "cell_type": "markdown",
   "id": "64fc3939",
   "metadata": {},
   "source": [
    "$$\n",
    "p(\\boldsymbol{x},\\boldsymbol{h};\\boldsymbol{\\Theta}) = \\frac{\\exp{(\\boldsymbol{a}^T\\boldsymbol{x}+\\boldsymbol{b}^T\\boldsymbol{h}+\\boldsymbol{x}^T\\boldsymbol{W}\\boldsymbol{h})}}{Z(\\boldsymbol{\\Theta})},\n",
    "$$"
   ]
  },
  {
   "cell_type": "markdown",
   "id": "6c0b2579",
   "metadata": {},
   "source": [
    "where the biases $\\boldsymbol{a}$ and $\\boldsymbol{h}$ and the weights defined by the matrix $\\boldsymbol{W}$ are the parameters we need to optimize."
   ]
  },
  {
   "cell_type": "markdown",
   "id": "c5687676",
   "metadata": {},
   "source": [
    "## Anticipating results to be derived\n",
    "\n",
    "Since the binary-binary energy model is linear in the parameters $a_i$, $b_j$ and\n",
    "$w_{ij}$, it is easy to see that the derivatives with respect to the\n",
    "various optimization parameters yield expressions used in the\n",
    "evaluation of gradients like"
   ]
  },
  {
   "cell_type": "markdown",
   "id": "8ea168a2",
   "metadata": {},
   "source": [
    "$$\n",
    "\\frac{\\partial E(\\boldsymbol{x}, \\boldsymbol{h};\\boldsymbol{\\Theta})}{\\partial w_{ij}}=-x_ih_j,\n",
    "$$"
   ]
  },
  {
   "cell_type": "markdown",
   "id": "39f323a6",
   "metadata": {},
   "source": [
    "and"
   ]
  },
  {
   "cell_type": "markdown",
   "id": "3ce4f82c",
   "metadata": {},
   "source": [
    "$$\n",
    "\\frac{\\partial E(\\boldsymbol{x}, \\boldsymbol{h};\\boldsymbol{\\Theta})}{\\partial a_i}=-x_i,\n",
    "$$"
   ]
  },
  {
   "cell_type": "markdown",
   "id": "c7dc5756",
   "metadata": {},
   "source": [
    "and"
   ]
  },
  {
   "cell_type": "markdown",
   "id": "def0ee20",
   "metadata": {},
   "source": [
    "$$\n",
    "\\frac{\\partial E(\\boldsymbol{x}, \\boldsymbol{h};\\boldsymbol{\\Theta})}{\\partial b_j}=-h_j.\n",
    "$$"
   ]
  },
  {
   "cell_type": "markdown",
   "id": "449bc36a",
   "metadata": {},
   "source": [
    "## Reminder on Markov Chain Monte Carlo\n",
    "\n",
    "* We want to study a physical system which evolves towards equilibrium, from given  initial conditions.\n",
    "\n",
    "* We start with a PDF $w(x_0,t_0)$  and we want to understand how the system evolves with time.\n",
    "\n",
    "* We want to reach a situation where after a given number of time steps we obtain a steady state. This means that the system reaches its most likely state (equilibrium situation)\n",
    "\n",
    "* Our PDF is normally a multidimensional object whose normalization constant is impossible to find.\n",
    "\n",
    "* Analytical calculations from $w(x,t)$ are not possible.\n",
    "\n",
    "* To sample directly from from $w(x,t)$ is not possible/difficult.\n",
    "\n",
    "* The transition probability $W$ is also not  known.\n",
    "\n",
    "* How can we establish that we have reached a steady state?   Sounds impossible!\n",
    "\n",
    "**Use Markov chain Monte Carlo**"
   ]
  },
  {
   "cell_type": "markdown",
   "id": "23e18c4c",
   "metadata": {},
   "source": [
    "## Brownian motion and Markov processes\n",
    "A Markov process is a random walk with a selected probability for making a\n",
    "move. The new move is independent of the previous history of the system.\n",
    "\n",
    "The Markov process is used repeatedly in Monte Carlo simulations in order to generate\n",
    "new random states.\n",
    "\n",
    "The reason for choosing a Markov process is that when it is run for a\n",
    "long enough time starting with a random state, we will eventually reach the most likely state of the system.\n",
    "\n",
    "In thermodynamics, this means that after a certain number of Markov processes\n",
    "we reach an equilibrium distribution.\n",
    "\n",
    "This mimicks the way a real system reaches\n",
    "its most likely state at a given temperature of the surroundings."
   ]
  },
  {
   "cell_type": "markdown",
   "id": "d1bcc4bc",
   "metadata": {},
   "source": [
    "## Brownian motion and Markov processes, Ergodicity and Detailed balance\n",
    "\n",
    "To reach this distribution, the Markov process needs to obey two important conditions, that of\n",
    "**ergodicity** and **detailed balance**. These conditions impose then constraints on our algorithms\n",
    "for accepting or rejecting new random states.\n",
    "\n",
    "The Metropolis algorithm discussed here\n",
    "abides to both these constraints.\n",
    "\n",
    "The Metropolis algorithm is widely used in Monte Carlo\n",
    "simulations and the understanding of it rests within\n",
    "the interpretation of random walks and Markov processes.\n",
    "\n",
    "For a proof the ergodic theorem see <https://www.pnas.org/doi/10.1073/pnas.17.2.656>."
   ]
  },
  {
   "cell_type": "markdown",
   "id": "2df490fd",
   "metadata": {},
   "source": [
    "## Brownian motion and Markov processes, jargon\n",
    "\n",
    "In a random walk one defines a mathematical entity called a **walker**, \n",
    "whose  attributes\n",
    "completely define the state of the system in question. \n",
    "\n",
    "The state of the system  can refer to any physical quantities,\n",
    "from the vibrational state of a molecule specified by a set of quantum numbers, \n",
    "to the brands of coffee in your favourite supermarket.\n",
    "\n",
    "The walker moves in an appropriate state space by a combination of \n",
    "deterministic and random displacements from its previous\n",
    "position.\n",
    "\n",
    "This sequence of steps forms a **chain**."
   ]
  },
  {
   "cell_type": "markdown",
   "id": "d68f1376",
   "metadata": {},
   "source": [
    "## Brownian motion and Markov processes, sequence of ingredients\n",
    "\n",
    "* We want to study a physical system which evolves towards equilibrium, from given  initial conditions.\n",
    "\n",
    "* Markov chains are intimately linked with the physical process of diffusion. \n",
    "\n",
    "* From a Markov chain we can then derive the conditions for detailed balance and ergodicity. These are the conditions needed for obtaining a steady state.\n",
    "\n",
    "* The widely used algorithm for doing this is the so-called Metropolis algorithm, in its refined form the Metropolis-Hastings algorithm."
   ]
  },
  {
   "cell_type": "markdown",
   "id": "5a56f7b6",
   "metadata": {},
   "source": [
    "## Markov processes\n",
    "A Markov process allows in principle for a microscopic description of Brownian motion.\n",
    "As with the random walk studied in the previous section, we consider a particle \n",
    "which moves along the  $x$-axis in the form of a series of jumps with step length \n",
    "$\\Delta x = l$. Time and space are discretized and the subsequent moves are\n",
    "statistically independent, i.e., the new move depends only on the previous step\n",
    "and not on the results from earlier trials. \n",
    "We start at a position $x=jl=j\\Delta x$ and move to \n",
    "a new position $x =i\\Delta x$ during a step $\\Delta t=\\epsilon$, where \n",
    "$i\\ge  0$ and $j\\ge 0$ are integers. \n",
    "The original probability distribution function (PDF) of the particles is given by  \n",
    "$p_i(t=0)$ where $i$ refers to a specific position on the grid in\n",
    "\n",
    "The function $p_i(t=0)$ is now the discretized version of $p(x,t)$.\n",
    "We can regard the discretized PDF as a vector."
   ]
  },
  {
   "cell_type": "markdown",
   "id": "efd6a3b1",
   "metadata": {},
   "source": [
    "## Markov processes\n",
    "For the Markov process we have a transition probability from a position\n",
    "$x=jl$ to a position $x=il$ given by"
   ]
  },
  {
   "cell_type": "markdown",
   "id": "8a2869e2",
   "metadata": {},
   "source": [
    "$$\n",
    "W_{ij}(\\epsilon)=W(il-jl,\\epsilon)=\\left\\{\\begin{array}{cc}\\frac{1}{2} & |i-j| = 1\\\\\n",
    "             0 & \\mathrm{else} \\end{array} \\right. ,\n",
    "$$"
   ]
  },
  {
   "cell_type": "markdown",
   "id": "1513564f",
   "metadata": {},
   "source": [
    "where $W_{ij}$ is normally called \n",
    "the transition probability and we can represent it, see below,\n",
    "as a matrix. \n",
    "**Here we have specialized to a case where the transition probability is known**.\n",
    "\n",
    "Our new PDF $p_i(t=\\epsilon)$ is now related to the PDF at\n",
    "$t=0$ through the relation"
   ]
  },
  {
   "cell_type": "markdown",
   "id": "046e8307",
   "metadata": {},
   "source": [
    "$$\n",
    "p_i(t=\\epsilon) =\\sum_{j} W(j\\rightarrow i)p_j(t=0).\n",
    "$$"
   ]
  },
  {
   "cell_type": "markdown",
   "id": "6508d938",
   "metadata": {},
   "source": [
    "This equation represents the discretized time-development of an original \n",
    "PDF with equal probability of jumping left or right."
   ]
  },
  {
   "cell_type": "markdown",
   "id": "d177808d",
   "metadata": {},
   "source": [
    "## Markov processes, the probabilities\n",
    "\n",
    "Since both $\\boldsymbol{W}$ and $\\boldsymbol{p}$ represent probabilities, they have to be normalized, i.e., we require\n",
    "that at each time step we have"
   ]
  },
  {
   "cell_type": "markdown",
   "id": "fc34b71f",
   "metadata": {},
   "source": [
    "$$\n",
    "\\sum_i p_i(t) = 1,\n",
    "$$"
   ]
  },
  {
   "cell_type": "markdown",
   "id": "b0bdb526",
   "metadata": {},
   "source": [
    "and"
   ]
  },
  {
   "cell_type": "markdown",
   "id": "e84b32a0",
   "metadata": {},
   "source": [
    "$$\n",
    "\\sum_j W(j\\rightarrow i) = 1,\n",
    "$$"
   ]
  },
  {
   "cell_type": "markdown",
   "id": "03a837c7",
   "metadata": {},
   "source": [
    "which applies for all $j$-values.\n",
    "The further constraints are\n",
    "$0 \\le W_{ij} \\le 1$  and  $0 \\le p_{j} \\le 1$.\n",
    "Note that the probability for remaining at the same place is in general \n",
    "not necessarily equal zero."
   ]
  },
  {
   "cell_type": "markdown",
   "id": "fe8dfad8",
   "metadata": {},
   "source": [
    "## Markov processes\n",
    "The time development of our initial PDF can now be represented through the action of\n",
    "the transition probability matrix applied $n$ times. At a \n",
    "time  $t_n=n\\epsilon$ our initial distribution has developed into"
   ]
  },
  {
   "cell_type": "markdown",
   "id": "0409c8e8",
   "metadata": {},
   "source": [
    "$$\n",
    "p_i(t_n) = \\sum_jW_{ij}(t_n)p_j(0),\n",
    "$$"
   ]
  },
  {
   "cell_type": "markdown",
   "id": "87041c05",
   "metadata": {},
   "source": [
    "and defining"
   ]
  },
  {
   "cell_type": "markdown",
   "id": "683eb9b4",
   "metadata": {},
   "source": [
    "$$\n",
    "W(il-jl,n\\epsilon)=(W^n(\\epsilon))_{ij}\n",
    "$$"
   ]
  },
  {
   "cell_type": "markdown",
   "id": "9fdea6ab",
   "metadata": {},
   "source": [
    "we obtain"
   ]
  },
  {
   "cell_type": "markdown",
   "id": "09394cf1",
   "metadata": {},
   "source": [
    "$$\n",
    "p_i(n\\epsilon) = \\sum_j(W^n(\\epsilon))_{ij}p_j(0),\n",
    "$$"
   ]
  },
  {
   "cell_type": "markdown",
   "id": "3e536a48",
   "metadata": {},
   "source": [
    "or in matrix-vector form"
   ]
  },
  {
   "cell_type": "markdown",
   "id": "e3f645e2",
   "metadata": {},
   "source": [
    "<!-- Equation labels as ordinary links -->\n",
    "<div id=\"eq:wfinal\"></div>\n",
    "\n",
    "$$\n",
    "\\begin{equation} \\label{eq:wfinal} \\tag{1}\n",
    "   \\boldsymbol{p}(n\\epsilon) = \\boldsymbol{W}^n(\\epsilon)\\boldsymbol{p}(0).\n",
    "\\end{equation}\n",
    "$$"
   ]
  },
  {
   "cell_type": "markdown",
   "id": "75c8f9f9",
   "metadata": {},
   "source": [
    "## What do the results mean?\n",
    "\n",
    "We have after $t$-steps"
   ]
  },
  {
   "cell_type": "markdown",
   "id": "b6e8c30b",
   "metadata": {},
   "source": [
    "$$\n",
    "\\boldsymbol{p}(t) = \\boldsymbol{W}^t\\boldsymbol{p}(0),\n",
    "$$"
   ]
  },
  {
   "cell_type": "markdown",
   "id": "1e647fee",
   "metadata": {},
   "source": [
    "with $\\boldsymbol{p}(0)$ the distribution at $t=0$ and $\\boldsymbol{W}$ representing the \n",
    "transition probability matrix."
   ]
  },
  {
   "cell_type": "markdown",
   "id": "d959bae6",
   "metadata": {},
   "source": [
    "## Understanding the basics\n",
    "\n",
    "We can always expand $\\boldsymbol{w}(0)$ in terms of the right eigenvectors \n",
    "$\\boldsymbol{v}$ of $\\boldsymbol{W}$ as"
   ]
  },
  {
   "cell_type": "markdown",
   "id": "062bb9b7",
   "metadata": {},
   "source": [
    "$$\n",
    "\\boldsymbol{p}(0)  = \\sum_i\\alpha_i\\boldsymbol{v}_i,\n",
    "$$"
   ]
  },
  {
   "cell_type": "markdown",
   "id": "67af21bd",
   "metadata": {},
   "source": [
    "resulting in"
   ]
  },
  {
   "cell_type": "markdown",
   "id": "7273b950",
   "metadata": {},
   "source": [
    "$$\n",
    "\\boldsymbol{p}(t) = \\boldsymbol{W}^t\\boldsymbol{p}(0)=\\boldsymbol{W}^t\\sum_i\\alpha_i\\boldsymbol{v}_i=\n",
    "\\sum_i\\lambda_i^t\\alpha_i\\boldsymbol{v}_i,\n",
    "$$"
   ]
  },
  {
   "cell_type": "markdown",
   "id": "5552ee8d",
   "metadata": {},
   "source": [
    "with $\\lambda_i$ the $i^{\\mathrm{th}}$ eigenvalue corresponding to  \n",
    "the eigenvector $\\boldsymbol{v}_i$. \n",
    "\n",
    "If we assume that $\\lambda_0$ is the largest eigenvector we see that in the limit $t\\rightarrow \\infty$,\n",
    "$\\boldsymbol{p}(t)$ becomes proportional to the corresponding eigenvector \n",
    "$\\boldsymbol{v}_0$. This is our steady state or final distribution."
   ]
  },
  {
   "cell_type": "markdown",
   "id": "7fafbf5d",
   "metadata": {},
   "source": [
    "## Basics of the Metropolis Algorithm\n",
    "\n",
    "The Metropolis\n",
    "algorithm is a method to sample a normalized probability\n",
    "distribution by a stochastic process. We define $p_i^{(n)}$ to\n",
    "be the probability for finding the system in the state $i$ at step $n$.\n",
    "\n",
    "In the simulations, our assumption is that we have a model for $p_i^{(n)}$, but we do not know $W$.\n",
    "We will hence model $W$ in terms of a likelihood for making transition $T$ and a likelihood for accepting a transition.\n",
    "That is"
   ]
  },
  {
   "cell_type": "markdown",
   "id": "e4a69dd4",
   "metadata": {},
   "source": [
    "$$\n",
    "W_{i\\rightarrow j}=A_{i\\rightarrow j}T_{i\\rightarrow j}\n",
    "$$"
   ]
  },
  {
   "cell_type": "markdown",
   "id": "ef6f099c",
   "metadata": {},
   "source": [
    "## The basic of the Metropolis Algorithm\n",
    "\n",
    "* Sample a possible new state $j$ with some probability $T_{i\\rightarrow j}$.\n",
    "\n",
    "* Accept the new state $j$ with probability $A_{i \\rightarrow j}$ and use it as the next sample.\n",
    "\n",
    "* With probability $1-A_{i\\rightarrow j}$ the move is rejected and the original state $i$ is used again as a sample.\n",
    "\n",
    "We wish to derive the required properties of $T$ and $A$ such that\n",
    "$p_i^{(n\\rightarrow \\infty)} \\rightarrow p_i$ so that starting\n",
    "from any distribution, the method converges to the correct distribution.\n",
    "Note that the description here is for a discrete probability distribution.\n",
    "Replacing probabilities $p_i$ with expressions like $p(x_i)dx_i$ will\n",
    "take all of these over to the corresponding continuum expressions."
   ]
  },
  {
   "cell_type": "markdown",
   "id": "d0039c8a",
   "metadata": {},
   "source": [
    "## More on the Metropolis\n",
    "\n",
    "The dynamical equation for $p_i^{(n)}$ can be written directly from\n",
    "the description above. The probability of being in the state $i$ at step $n$\n",
    "is given by the probability of being in any state $j$ at the previous step,\n",
    "and making an accepted transition to $i$ added to the probability of\n",
    "being in the state $i$, making a transition to any state $j$ and\n",
    "rejecting the move:"
   ]
  },
  {
   "cell_type": "markdown",
   "id": "01874bf7",
   "metadata": {},
   "source": [
    "<!-- Equation labels as ordinary links -->\n",
    "<div id=\"eq:eq1\"></div>\n",
    "\n",
    "$$\n",
    "\\begin{equation}\n",
    "\\label{eq:eq1} \\tag{2}\n",
    "p^{(n)}_i = \\sum_j \\left [\n",
    "p^{(n-1)}_jT_{j\\rightarrow i} A_{j\\rightarrow i} \n",
    "+p^{(n-1)}_iT_{i\\rightarrow j}\\left ( 1- A_{i\\rightarrow j} \\right)\n",
    "\\right ] \\,.\n",
    "\\end{equation}\n",
    "$$"
   ]
  },
  {
   "cell_type": "markdown",
   "id": "bdb01042",
   "metadata": {},
   "source": [
    "## Metropolis algorithm, setting it up\n",
    "Since the probability of making some transition must be 1,\n",
    "$\\sum_j T_{i\\rightarrow j} = 1$, and Eq. ([2](#eq:eq1)) becomes"
   ]
  },
  {
   "cell_type": "markdown",
   "id": "9ac4b017",
   "metadata": {},
   "source": [
    "<!-- Equation labels as ordinary links -->\n",
    "<div id=\"_auto1\"></div>\n",
    "\n",
    "$$\n",
    "\\begin{equation}\n",
    "p^{(n)}_i = p^{(n-1)}_i +\n",
    " \\sum_j \\left [\n",
    "p^{(n-1)}_jT_{j\\rightarrow i} A_{j\\rightarrow i} \n",
    "-p^{(n-1)}_iT_{i\\rightarrow j}A_{i\\rightarrow j}\n",
    "\\right ] \\,.\n",
    "\\label{_auto1} \\tag{3}\n",
    "\\end{equation}\n",
    "$$"
   ]
  },
  {
   "cell_type": "markdown",
   "id": "aff9ed85",
   "metadata": {},
   "source": [
    "## Metropolis continues\n",
    "\n",
    "For large $n$ we require that $p^{(n\\rightarrow \\infty)}_i = p_i$,\n",
    "the desired probability distribution. Taking this limit, gives the\n",
    "balance requirement"
   ]
  },
  {
   "cell_type": "markdown",
   "id": "e175c76c",
   "metadata": {},
   "source": [
    "<!-- Equation labels as ordinary links -->\n",
    "<div id=\"_auto2\"></div>\n",
    "\n",
    "$$\n",
    "\\begin{equation}\n",
    "\\sum_j \\left [p_jT_{j\\rightarrow i} A_{j\\rightarrow i}-p_iT_{i\\rightarrow j}A_{i\\rightarrow j}\n",
    "\\right ] = 0,\n",
    "\\label{_auto2} \\tag{4}\n",
    "\\end{equation}\n",
    "$$"
   ]
  },
  {
   "cell_type": "markdown",
   "id": "307cfb50",
   "metadata": {},
   "source": [
    "## Detailed Balance\n",
    "\n",
    "The balance requirement is very weak. Typically the much stronger detailed\n",
    "balance requirement is enforced, that is rather than the sum being\n",
    "set to zero, we set each term separately to zero and use this\n",
    "to determine the acceptance probabilities. Rearranging, the result is"
   ]
  },
  {
   "cell_type": "markdown",
   "id": "82cd492f",
   "metadata": {},
   "source": [
    "<!-- Equation labels as ordinary links -->\n",
    "<div id=\"_auto3\"></div>\n",
    "\n",
    "$$\n",
    "\\begin{equation}\n",
    "\\frac{ A_{j\\rightarrow i}}{A_{i\\rightarrow j}}\n",
    "= \\frac{p_iT_{i\\rightarrow j}}{ p_jT_{j\\rightarrow i}} \\,.\n",
    "\\label{_auto3} \\tag{5}\n",
    "\\end{equation}\n",
    "$$"
   ]
  },
  {
   "cell_type": "markdown",
   "id": "ae749ff2",
   "metadata": {},
   "source": [
    "This is the [detailed balance requirement](https://cims.nyu.edu/~holmes/teaching/asa19/handout_Lecture3_2019.pdf)"
   ]
  },
  {
   "cell_type": "markdown",
   "id": "3633d025",
   "metadata": {},
   "source": [
    "## More on Detailed Balance\n",
    "\n",
    "The Metropolis choice is to maximize the $A$ values, that is"
   ]
  },
  {
   "cell_type": "markdown",
   "id": "aeb8f2a1",
   "metadata": {},
   "source": [
    "<!-- Equation labels as ordinary links -->\n",
    "<div id=\"_auto4\"></div>\n",
    "\n",
    "$$\n",
    "\\begin{equation}\n",
    "A_{j \\rightarrow i} = \\min \\left ( 1,\n",
    "\\frac{p_iT_{i\\rightarrow j}}{ p_jT_{j\\rightarrow i}}\\right ).\n",
    "\\label{_auto4} \\tag{6}\n",
    "\\end{equation}\n",
    "$$"
   ]
  },
  {
   "cell_type": "markdown",
   "id": "af49e814",
   "metadata": {},
   "source": [
    "Other choices are possible, but they all correspond to multiplying\n",
    "$A_{i\\rightarrow j}$ and $A_{j\\rightarrow i}$ by the same constant\n",
    "smaller than unity. The penalty function method uses just such\n",
    "a factor to compensate for $p_i$ that are evaluated stochastically\n",
    "and are therefore noisy.\n",
    "\n",
    "Having chosen the acceptance probabilities, we have guaranteed that\n",
    "if the  $p_i^{(n)}$ has equilibrated, that is if it is equal to $p_i$,\n",
    "it will remain equilibrated."
   ]
  },
  {
   "cell_type": "markdown",
   "id": "ed48f44b",
   "metadata": {},
   "source": [
    "## Gibbs sampling\n",
    "\n",
    "An efficient way if performing the sampling is through the use of\n",
    "Gibbs sampling. The latter uses the conditional probability instead of\n",
    "the full probability as done in the Metropolis algorithm.\n",
    "\n",
    "Gibbs sampling is useful for sampling from high-dimensional\n",
    "distributions where single-variable conditional distributions are\n",
    "known.\n",
    "\n",
    "For example, say it is too expensive to sample from $p(x_0, x_1, x_2,\n",
    "..., x_d)$. With Gibbs sampling, we initialize all variables to\n",
    "arbitrary values. Then while taking each sample, we also iterate\n",
    "through the dimensions and replace its value with a sample from the\n",
    "univariate conditional distribution. For example we can update $x_1$\n",
    "using $p(x_1 \\mid x_0, x_2, ..., x_d)$, which is easy to sample over\n",
    "because it is  only one dimension."
   ]
  },
  {
   "cell_type": "markdown",
   "id": "98712260",
   "metadata": {},
   "source": [
    "## Understanding Gibbs samoling\n",
    "\n",
    "This part is best seen with the jupyter-notebook.\n",
    "These notes have been adapted from <https://www.inf.ed.ac.uk/teaching/courses/mlpr/2017/>\n",
    "\n",
    "To illustrate Gibbs\n",
    "sampling we will sample several points and compare them with those\n",
    "generated from a known distribution, in our case the well-known\n",
    "two-dimensional Gaussian defined as"
   ]
  },
  {
   "cell_type": "markdown",
   "id": "ae857417",
   "metadata": {},
   "source": [
    "$$\n",
    "p(a, b) = \\mathcal N\\left(\\left[\\begin{array}{c} a \\\\ b \\end{array}\\right]; \\left[\\begin{array}{c}\\mu_a \\\\ \\mu_b\\end{array}\\right], \\left[\\begin{array}{cc}\\sigma_a & cov(a, b) \\\\ cov(a, b) & \\sigma_b\\end{array}\\right]\\right) = \\mathcal N\\left(\\left[\\begin{array}{c}a \\\\ b\\end{array}\\right]; \\left[\\begin{array}{c}0 \\\\ 0\\end{array}\\right], \\left[\\begin{array}{cc}1 & 0.5 \\\\ 0.5 & 1\\end{array}\\right]\\right).\n",
    "$$"
   ]
  },
  {
   "cell_type": "code",
   "execution_count": 1,
   "id": "f795f023",
   "metadata": {},
   "outputs": [],
   "source": [
    "%matplotlib inline\n",
    "\n",
    "import numpy as np\n",
    "import matplotlib.pyplot as plt\n",
    "# two dimensions\n",
    "D = 2\n",
    "\n",
    "# set up the means (standard normal distribution\n",
    "a_mu = 0\n",
    "b_mu = 0\n",
    "# and the variances and covariances\n",
    "a_sigma = 1\n",
    "b_sigma = 1\n",
    "a_b_cov = 0.5\n",
    "\n",
    "joint_cov = np.vstack(((a_sigma, a_b_cov), (a_b_cov, b_sigma)))\n",
    "joint_mu = np.vstack((a_mu, b_mu))"
   ]
  },
  {
   "cell_type": "markdown",
   "id": "e71dd817",
   "metadata": {},
   "source": [
    "Here we have used $\\epsilon \\sim \\mathcal N(0, 1)$ which allows us to sample from $\\mathcal{N}(\\mu, \\sigma^2)$ by using $\\sigma\\epsilon + \\mu$.\n",
    "In the case of multivariate Gaussians, we use the Cholesky decomposition of the covariance matrix\n",
    "and then use it and the mean to adjust numbers generated using `np.random.randn`."
   ]
  },
  {
   "cell_type": "code",
   "execution_count": 2,
   "id": "39a02d7b",
   "metadata": {},
   "outputs": [],
   "source": [
    "N = 10000\n",
    "L = np.linalg.cholesky(joint_cov)\n",
    "samples_from_true_distribution =  L @ np.random.randn(D, N) + joint_mu\n",
    "plt.plot(*samples_from_true_distribution, '.', alpha=0.1)\n",
    "plt.axis([-4, 4, -4, 4])\n",
    "plt.show()"
   ]
  },
  {
   "cell_type": "markdown",
   "id": "ceb1f6f5",
   "metadata": {},
   "source": [
    "## Conditional probabilities\n",
    "\n",
    "Gibbs sampling requires conditional distributions for each variable. \n",
    "\n",
    "In the case of Gaussians, there is  a closed-form for the conditional. With a [multivariate Gaussian](http://www.inf.ed.ac.uk/teaching/courses/mlpr/2017/notes/w7c_gaussian_processes.html) we have"
   ]
  },
  {
   "cell_type": "markdown",
   "id": "5389776d",
   "metadata": {},
   "source": [
    "$$\n",
    "p(\\textbf{f}, \\textbf{g}) = \n",
    "\\mathcal N\\left(\n",
    "\\left[\\begin{array}{c} \\textbf{f} \\\\ \\textbf{g} \\end{array}\\right];\n",
    "\\left[\\begin{array}{c}\\textbf{a} \\\\ \\textbf{b}\\end{array}\\right], \n",
    "\\left[\\begin{array}{cc}A & C^{\\top} \\\\ C & B\\end{array}\\right]\n",
    "\\right),\n",
    "$$"
   ]
  },
  {
   "cell_type": "markdown",
   "id": "e546c0fe",
   "metadata": {},
   "source": [
    "with the conditional probability"
   ]
  },
  {
   "cell_type": "markdown",
   "id": "5aca5fb1",
   "metadata": {},
   "source": [
    "$$\n",
    "p(\\textbf{f} \\mid \\textbf{g}) = \\mathcal N(\\textbf{f}; \\textbf{a} + CB^{-1}(\\textbf{g} - \\textbf{b}), A - CB^{-1}C^{\\top}).\n",
    "$$"
   ]
  },
  {
   "cell_type": "code",
   "execution_count": 3,
   "id": "75146e5d",
   "metadata": {},
   "outputs": [],
   "source": [
    "def get_conditional_dist(joint_mu, joint_cov, var_index):\n",
    "    '''Returns the conditional distribution given the joint distribution and which variable\n",
    "    the conditional probability should use.\n",
    "    Right now this only works for 2-variable joint distributions.\n",
    "    \n",
    "      joint_mu: joint distribution's mu\n",
    "      joint_cov: joint distribution's covariance\n",
    "      var_index: index of the variable in the joint distribution. Everything else will be \n",
    "        conditioned on. For example, if the joint distribution p(a, b, c) has mu [mu_a, mu_b, mu_c],\n",
    "        to get p(c | a, b), use var_index = 2.\n",
    "      \n",
    "    returns:\n",
    "      a function that can sample from the univariate conditional distribution\n",
    "    '''\n",
    "    assert joint_mu.shape[0] == 2, 'Sorry, this function only works for 2-dimensional joint distributions right now'\n",
    "    a = joint_mu[var_index]\n",
    "    b = joint_mu[~var_index]\n",
    "    \n",
    "    A = joint_cov[var_index, var_index]\n",
    "    B = joint_cov[~var_index, ~var_index]\n",
    "    C = joint_cov[var_index, ~var_index]\n",
    "    \n",
    "    # we're dealing with one dimension so\n",
    "    B_inv = 1/B\n",
    "    \n",
    "    # Return a function that can sample given a value of g\n",
    "    def dist(g):\n",
    "        # a + C*B^{-1}(g - b)\n",
    "        mu = a + C * B_inv * (g - b)\n",
    "        # A - C * B^{-1} * C^T\n",
    "        cov = A - B_inv * C * C\n",
    "        return np.sqrt(cov) * np.random.randn(1) + mu\n",
    "    \n",
    "    return dist"
   ]
  },
  {
   "cell_type": "markdown",
   "id": "5b3ae6ff",
   "metadata": {},
   "source": [
    "With this we cna set up the conditionals for this problem"
   ]
  },
  {
   "cell_type": "code",
   "execution_count": 4,
   "id": "bd918caa",
   "metadata": {},
   "outputs": [],
   "source": [
    "# Set up the conditional probability distribution for each dimension\n",
    "# For example, I can sample p(a | b) using sample_for_dim[0].\n",
    "\n",
    "univariate_conditionals = [\n",
    "    get_conditional_dist(joint_mu, joint_cov, d)\n",
    "    for d in range(D)\n",
    "]"
   ]
  },
  {
   "cell_type": "markdown",
   "id": "b3dad320",
   "metadata": {},
   "source": [
    "The $gibbs\\_sample$ function here only needs the univariate conditionals and how many samples to take."
   ]
  },
  {
   "cell_type": "code",
   "execution_count": 5,
   "id": "596e2981",
   "metadata": {},
   "outputs": [],
   "source": [
    "def gibbs_sample(univariate_conditionals, sample_count):\n",
    "    '''Does Gibbs sampling given the distribution's univariate conditionals.\n",
    "    \n",
    "    Returns a D x N matrix\n",
    "    '''\n",
    "    D = len(univariate_conditionals)\n",
    "    assert D == 2, \"Sorry, this only supports 2 dimensions right now\"\n",
    "    \n",
    "    # initializes an empty matrix for the samples\n",
    "    samples = np.zeros((D, sample_count))\n",
    "\n",
    "    # initialize the first sample to some arbitrary value\n",
    "    samples[:, 0] = [3, -3]\n",
    "    \n",
    "    for i in range(1, sample_count):\n",
    "        # first set this sample equal to the previous sample\n",
    "        samples[:, i] = samples[:, i - 1]\n",
    "        \n",
    "        # now update the dimension whose turn it is using the conditional distribution\n",
    "        # pass in all dimension from the previous sample except this dimension\n",
    "        d = i % D\n",
    "        samples[d, i] = univariate_conditionals[d](samples[~d, i - 1])\n",
    "                 \n",
    "    return samples"
   ]
  },
  {
   "cell_type": "markdown",
   "id": "7113e861",
   "metadata": {},
   "source": [
    "One thing to keep in mind about Gibbs sampling is that it only updates\n",
    "one dimension at a time. This means that samples from around the same\n",
    "time are correlated with each other. We have drawn the line connecting\n",
    "sequential samples to show this."
   ]
  },
  {
   "cell_type": "code",
   "execution_count": 6,
   "id": "6df0166e",
   "metadata": {},
   "outputs": [],
   "source": [
    "samples = gibbs_sample(univariate_conditionals, sample_count=100)\n",
    "fig, ax = plt.subplots()\n",
    "\n",
    "ax.plot(*samples_from_true_distribution, '.', alpha=0.1)\n",
    "ax.plot(*samples, 'k')\n",
    "ax.plot(*samples, '.r')\n",
    "ax.axis('square')\n",
    "plt.show()"
   ]
  },
  {
   "cell_type": "markdown",
   "id": "9a0d0e18",
   "metadata": {},
   "source": [
    "Finally we sample a bunch of points and see how they compare to those\n",
    "from the original distribution. It looks the same! What's cool is that\n",
    "the one using Gibbs sampling only used samples from the univariate\n",
    "conditionals!"
   ]
  },
  {
   "cell_type": "code",
   "execution_count": 7,
   "id": "1c1dfcd6",
   "metadata": {},
   "outputs": [],
   "source": [
    "samples = gibbs_sample(univariate_conditionals, sample_count=N)\n",
    "fig, axs = plt.subplots(1, 3, figsize=(12, 4), sharex=True, sharey=True)\n",
    "# set all the axes\n",
    "axs[0].axis([-4, 4, -4, 4])\n",
    "axs[0].plot(*samples_from_true_distribution, '.', alpha=0.1)\n",
    "axs[0].set_title('original p(a, b)')\n",
    "axs[1].plot(*samples, 'k', alpha=0.8)\n",
    "axs[1].set_title('gibbs sampling path')\n",
    "axs[2].plot(*samples, '.g', alpha=0.1)\n",
    "axs[2].set_title('gibbs samples')\n",
    "plt.show()"
   ]
  },
  {
   "cell_type": "markdown",
   "id": "82bab2a3",
   "metadata": {},
   "source": [
    "## Boltzmann Machines, marginal and conditional probabilities\n",
    "\n",
    "A generative model can learn to represent and sample from a\n",
    "probability distribution. The core idea is to learn a parametric model\n",
    "of the probability distribution from which the training data was\n",
    "drawn. As an example\n",
    "1. A model for images could learn to draw new examples of cats and dogs, given a training dataset of images of cats and dogs.\n",
    "\n",
    "2. Generate a sample of an ordered or disordered Ising model phase, having been given samples of such phases.\n",
    "\n",
    "3. Model the trial function for Monte Carlo calculations"
   ]
  },
  {
   "cell_type": "markdown",
   "id": "5357a15b",
   "metadata": {},
   "source": [
    "## Generative and discriminative models\n",
    "\n",
    "Generative and discriminative models use both gradient-descent based\n",
    "learning procedures for minimizing cost functions\n",
    "\n",
    "However, in energy based models we don't use backpropagation and automatic\n",
    "differentiation for computing gradients, instead we turn to Markov\n",
    "Chain Monte Carlo methods.\n",
    "\n",
    "A typical deep neural network has several hidden layers. A restricted\n",
    "Boltzmann machine has normally one hidden layer, however several RBMs can\n",
    "be stacked to make up deep Belief Networks, of which they constitute\n",
    "the building blocks."
   ]
  },
  {
   "cell_type": "markdown",
   "id": "ddba4d29",
   "metadata": {},
   "source": [
    "## Basics of the Boltzmann machine\n",
    "A BM is what we would call an undirected probabilistic graphical model\n",
    "with stochastic continuous or discrete units.\n",
    "\n",
    "It is interpreted as a stochastic recurrent neural network where the\n",
    "state of each unit(neurons/nodes) depends on the units it is connected\n",
    "to. The weights in the network represent thus the strength of the\n",
    "interaction between various units/nodes."
   ]
  },
  {
   "cell_type": "markdown",
   "id": "8fedcee2",
   "metadata": {},
   "source": [
    "## More about the basics\n",
    "A standard BM network is divided into a set of observable and visible units $\\boldsymbol{x}$ and a set of unknown hidden units/nodes $\\boldsymbol{h}$.\n",
    "\n",
    "Additionally there can be bias nodes for the hidden and visible layers. These biases are normally set to $1$.\n",
    "\n",
    "BMs are stackable, meaning they cwe can train a BM which serves as input to another BM. We can construct deep networks for learning complex PDFs. The layers can be trained one after another, a feature which makes them popular in deep learning"
   ]
  },
  {
   "cell_type": "markdown",
   "id": "f4a337c1",
   "metadata": {},
   "source": [
    "## Difficult to train\n",
    "\n",
    "However, they are often hard to train. This leads to the introduction\n",
    "of so-called restricted BMs, or RBMS.  Here we take away all lateral\n",
    "connections between nodes in the visible layer as well as connections\n",
    "between nodes in the hidden layer."
   ]
  },
  {
   "cell_type": "markdown",
   "id": "7c9c2644",
   "metadata": {},
   "source": [
    "## The network layers\n",
    "\n",
    "1. A function $\\boldsymbol{x}$ that represents the visible layer, a vector of $M$ elements (nodes). This layer represents both what the RBM might be given as training input, and what we want it to be able to reconstruct. This might for example be the pixels of an image, the spin values of the Ising model, or coefficients representing speech.\n",
    "\n",
    "2. The function $\\boldsymbol{h}$ represents the hidden, or latent, layer. A vector of $N$ elements (nodes). Also called \"feature detectors\"."
   ]
  },
  {
   "cell_type": "markdown",
   "id": "4cf1ba86",
   "metadata": {},
   "source": [
    "## Goal of hidden layer\n",
    "\n",
    "The goal of the hidden layer is to increase the model's expressive\n",
    "power. We encode complex interactions between visible variables by\n",
    "introducing additional, hidden variables that interact with visible\n",
    "degrees of freedom in a simple manner, yet still reproduce the complex\n",
    "correlations between visible degrees in the data once marginalized\n",
    "over (integrated out)."
   ]
  },
  {
   "cell_type": "markdown",
   "id": "d17d3da3",
   "metadata": {},
   "source": [
    "## The parameters\n",
    "\n",
    "The network parameters, to be optimized/learned:\n",
    "1. $\\boldsymbol{a}$ represents the visible bias, a vector of same length $M$ as $\\boldsymbol{x}$.\n",
    "\n",
    "2. $\\boldsymbol{b}$ represents the hidden bias, a vector of same length $N$  as $\\boldsymbol{h}$.\n",
    "\n",
    "3. $\\boldsymbol{W}$ represents the interaction weights, a matrix of size $M\\times N$.\n",
    "\n",
    "Note that we have specified the lengths of $bm{x}$ and $\\boldsymbol{h}$. These\n",
    "lengths define the number of visible and hidden units, respectively."
   ]
  },
  {
   "cell_type": "markdown",
   "id": "884add68",
   "metadata": {},
   "source": [
    "## Joint distribution\n",
    "\n",
    "The restricted Boltzmann machine is described by a Boltzmann distribution"
   ]
  },
  {
   "cell_type": "markdown",
   "id": "20244246",
   "metadata": {},
   "source": [
    "$$\n",
    "\\begin{align*}\n",
    "\tP_{rbm}(\\boldsymbol{x},\\boldsymbol{h},\\boldsymbol{\\Theta}) = \\frac{1}{Z(\\boldsymbol{\\Theta})} \\exp{-(E(\\boldsymbol{x},\\boldsymbol{h},\\boldsymbol{\\Theta}))},\n",
    "\\end{align*}\n",
    "$$"
   ]
  },
  {
   "cell_type": "markdown",
   "id": "dce5d15e",
   "metadata": {},
   "source": [
    "where $Z$ is the normalization constant or partition function discussed earlier and defined as"
   ]
  },
  {
   "cell_type": "markdown",
   "id": "c7dfc564",
   "metadata": {},
   "source": [
    "$$\n",
    "\\begin{align*}\n",
    "\tZ(\\boldsymbol{\\Theta}) = \\int \\int \\exp{-E(\\boldsymbol{x},\\boldsymbol{h},\\boldsymbol{\\Theta})} d\\boldsymbol{x} d\\boldsymbol{h}.\n",
    "\\end{align*}\n",
    "$$"
   ]
  },
  {
   "cell_type": "markdown",
   "id": "2e4b47fe",
   "metadata": {},
   "source": [
    "It is common to set  the temperature $T$ to one. It is omitted in the equations above. The energy is thus a dimensionless function."
   ]
  },
  {
   "cell_type": "markdown",
   "id": "7577dce0",
   "metadata": {},
   "source": [
    "## Network Elements, the energy function\n",
    "\n",
    "The function $E(\\boldsymbol{x},\\boldsymbol{h},\\boldsymbol{\\Theta})$ gives the **energy** of a\n",
    "configuration (pair of vectors) $(\\boldsymbol{x}, \\boldsymbol{h})$. The lower\n",
    "the energy of a configuration, the higher the probability of it. This\n",
    "function also depends on the parameters $\\boldsymbol{a}$, $\\boldsymbol{b}$ and\n",
    "$W$. Thus, when we adjust them during the learning procedure, we are\n",
    "adjusting the energy function to best fit our problem."
   ]
  },
  {
   "cell_type": "markdown",
   "id": "2c4f67b3",
   "metadata": {},
   "source": [
    "## Defining different types of RBMs\n",
    "\n",
    "There are different variants of RBMs, and the differences lie in the types of visible and hidden units we choose as well as in the implementation of the energy function $E(\\boldsymbol{x},\\boldsymbol{h},\\boldsymbol{\\Theta})$. The connection between the nodes in the two layers is given by the weights $w_{ij}$. \n",
    "\n",
    "**Binary-Binary RBM:**\n",
    "\n",
    "RBMs were first developed using binary units in both the visible and hidden layer. The corresponding energy function is defined as follows:"
   ]
  },
  {
   "cell_type": "markdown",
   "id": "be53bb63",
   "metadata": {},
   "source": [
    "$$\n",
    "\\begin{align*}\n",
    "\tE(\\boldsymbol{x}, \\boldsymbol{h},\\boldsymbol{\\Theta}) = - \\sum_i^M x_i a_i- \\sum_j^N b_j h_j - \\sum_{i,j}^{M,N} x_i w_{ij} h_j,\n",
    "\\end{align*}\n",
    "$$"
   ]
  },
  {
   "cell_type": "markdown",
   "id": "97acc20b",
   "metadata": {},
   "source": [
    "where the binary values taken on by the nodes are most commonly 0 and 1."
   ]
  },
  {
   "cell_type": "markdown",
   "id": "d35fc2cc",
   "metadata": {},
   "source": [
    "## Gaussian-binary RBM\n",
    "\n",
    "Another varient is the RBM where the visible units are Gaussian while the hidden units remain binary:"
   ]
  },
  {
   "cell_type": "markdown",
   "id": "08be2acc",
   "metadata": {},
   "source": [
    "$$\n",
    "\\begin{align*}\n",
    "\tE(\\boldsymbol{x}, \\boldsymbol{h},\\boldsymbol{\\Theta}) = \\sum_i^M \\frac{(x_i - a_i)^2}{2\\sigma_i^2} - \\sum_j^N b_j h_j - \\sum_{i,j}^{M,N} \\frac{x_i w_{ij} h_j}{\\sigma_i^2}. \n",
    "\\end{align*}\n",
    "$$"
   ]
  },
  {
   "cell_type": "markdown",
   "id": "3e2044e5",
   "metadata": {},
   "source": [
    "This type of RBMs are useful when we model continuous data (i.e., we wish $\\boldsymbol{x}$ to be continuous). The paramater $\\sigma_i^2$ is meant to represent a variance and is foten just set to one."
   ]
  },
  {
   "cell_type": "markdown",
   "id": "6dd770b0",
   "metadata": {},
   "source": [
    "## Cost function\n",
    "\n",
    "When working with a training dataset, the most common training\n",
    "approach is maximizing the log-likelihood of the training data. The\n",
    "log likelihood characterizes the log-probability of generating the\n",
    "observed data using our generative model. Using this method our cost\n",
    "function is chosen as the negative log-likelihood. The learning then\n",
    "consists of trying to find parameters that maximize the probability of\n",
    "the dataset, and is known as Maximum Likelihood Estimation (MLE).\n",
    "\n",
    "Denoting the parameters as $\\boldsymbol{\\Theta} = a_1,...,a_M,b_1,...,b_N,w_{11},...,w_{MN}$, the log-likelihood is given by"
   ]
  },
  {
   "cell_type": "markdown",
   "id": "38e21966",
   "metadata": {},
   "source": [
    "$$\n",
    "\\begin{align*}\n",
    "\t\\mathcal{L}(\\{ \\Theta_i \\}) &= \\langle \\text{log} P_\\theta(\\boldsymbol{x}) \\rangle_{data} \\\\\n",
    "\t&= - \\langle E(\\boldsymbol{x}; \\{ \\Theta_i\\}) \\rangle_{data} - \\text{log} Z(\\{ \\Theta_i\\}),\n",
    "\\end{align*}\n",
    "$$"
   ]
  },
  {
   "cell_type": "markdown",
   "id": "c8288992",
   "metadata": {},
   "source": [
    "where we used that the normalization constant does not depend on the data, $\\langle \\text{log} Z(\\{ \\Theta_i\\}) \\rangle = \\text{log} Z(\\{ \\Theta_i\\})$\n",
    "Our cost function is the negative log-likelihood, $\\mathcal{C}(\\{ \\Theta_i \\}) = - \\mathcal{L}(\\{ \\Theta_i \\})$"
   ]
  },
  {
   "cell_type": "markdown",
   "id": "a4837dac",
   "metadata": {},
   "source": [
    "## Optimization / Training\n",
    "\n",
    "The training procedure of choice often is Stochastic Gradient Descent (SGD). It consists of a series of iterations where we update the parameters according to the equation"
   ]
  },
  {
   "cell_type": "markdown",
   "id": "0890fe94",
   "metadata": {},
   "source": [
    "$$\n",
    "\\begin{align*}\n",
    "\t\\boldsymbol{\\Theta}_{k+1} = \\boldsymbol{\\Theta}_k - \\eta \\nabla \\mathcal{C} (\\boldsymbol{\\Theta}_k)\n",
    "\\end{align*}\n",
    "$$"
   ]
  },
  {
   "cell_type": "markdown",
   "id": "2f96808f",
   "metadata": {},
   "source": [
    "at each $k$-th iteration. There are a range of variants of the algorithm which aim at making the learning rate $\\eta$ more adaptive so the method might be more efficient while remaining stable."
   ]
  },
  {
   "cell_type": "markdown",
   "id": "77e25971",
   "metadata": {},
   "source": [
    "## Gradients\n",
    "We now need the gradient of the cost function in order to minimize it. We find that"
   ]
  },
  {
   "cell_type": "markdown",
   "id": "6a878117",
   "metadata": {},
   "source": [
    "$$\n",
    "\\begin{align*}\n",
    "\t\\frac{\\partial \\mathcal{C}(\\{ \\Theta_i\\})}{\\partial \\Theta_i}\n",
    "\t&= \\langle \\frac{\\partial E(\\boldsymbol{x}; \\Theta_i)}{\\partial \\Theta_i} \\rangle_{data}\n",
    "\t+ \\frac{\\partial \\text{log} Z(\\{ \\Theta_i\\})}{\\partial \\Theta_i} \\\\\n",
    "\t&= \\langle O_i(\\boldsymbol{x}) \\rangle_{data} - \\langle O_i(\\boldsymbol{x}) \\rangle_{model}.\n",
    "\\end{align*}\n",
    "$$"
   ]
  },
  {
   "cell_type": "markdown",
   "id": "e9e56033",
   "metadata": {},
   "source": [
    "## Simplifications\n",
    "\n",
    "In order to simplify notation we defined the \"operator\""
   ]
  },
  {
   "cell_type": "markdown",
   "id": "f42e6111",
   "metadata": {},
   "source": [
    "$$\n",
    "\\begin{align*}\n",
    "\tO_i(\\boldsymbol{x}) = \\frac{\\partial E(\\boldsymbol{x}; \\Theta_i)}{\\partial \\Theta_i}, \n",
    "\\end{align*}\n",
    "$$"
   ]
  },
  {
   "cell_type": "markdown",
   "id": "12cf65f2",
   "metadata": {},
   "source": [
    "and used the statistical mechanics relationship between expectation values and the log-partition function:"
   ]
  },
  {
   "cell_type": "markdown",
   "id": "a4970501",
   "metadata": {},
   "source": [
    "$$\n",
    "\\begin{align*}\n",
    "\t\\langle O_i(\\boldsymbol{x}) \\rangle_{model} = \\text{Tr} P_\\Theta(\\boldsymbol{x})O_i(\\boldsymbol{x}) = - \\frac{\\partial \\text{log} Z(\\{ \\Theta_i\\})}{\\partial \\Theta_i}.\n",
    "\\end{align*}\n",
    "$$"
   ]
  },
  {
   "cell_type": "markdown",
   "id": "72b0aad1",
   "metadata": {},
   "source": [
    "## Positive and negative phases\n",
    "As discussed earlier, the data-dependent term in the gradient is known as the positive phase\n",
    "of the gradient, while the model-dependent term is known as the\n",
    "negative phase of the gradient. The aim of the training is to lower\n",
    "the energy of configurations that are near observed data points\n",
    "(increasing their probability), and raising the energy of\n",
    "configurations that are far from observed data points (decreasing\n",
    "their probability)."
   ]
  },
  {
   "cell_type": "markdown",
   "id": "4a584554",
   "metadata": {},
   "source": [
    "## Gradient examples\n",
    "The gradient of the negative log-likelihood cost function of a Binary-Binary RBM is then"
   ]
  },
  {
   "cell_type": "markdown",
   "id": "fdd3cbac",
   "metadata": {},
   "source": [
    "$$\n",
    "\\begin{align*}\n",
    "\t\\frac{\\partial \\mathcal{C} (w_{ij}, a_i, b_j)}{\\partial w_{ij}} =& \\langle x_i h_j \\rangle_{data} - \\langle x_i h_j \\rangle_{model} \\\\\n",
    "\t\\frac{\\partial \\mathcal{C} (w_{ij}, a_i, b_j)}{\\partial a_{ij}} =& \\langle x_i \\rangle_{data} - \\langle x_i \\rangle_{model} \\\\\n",
    "\t\\frac{\\partial \\mathcal{C} (w_{ij}, a_i, b_j)}{\\partial b_{ij}} =& \\langle h_i \\rangle_{data} - \\langle h_i \\rangle_{model}. \\\\\n",
    "\\end{align*}\n",
    "$$"
   ]
  },
  {
   "cell_type": "markdown",
   "id": "1fcfa071",
   "metadata": {},
   "source": [
    "To get the expectation values with respect to the *data*, we set the visible units to each of the observed samples in the training data, then update the hidden units according to the conditional probability found before. We then average over all samples in the training data to calculate expectation values with respect to the data."
   ]
  },
  {
   "cell_type": "markdown",
   "id": "e33eb4a9",
   "metadata": {},
   "source": [
    "## Kullback-Leibler relative entropy\n",
    "\n",
    "When the goal of the training is to approximate a probability\n",
    "distribution, as it is in generative modeling, another relevant\n",
    "measure is the **Kullback-Leibler divergence**, also known as the\n",
    "relative entropy or Shannon entropy. It is a non-symmetric measure of the\n",
    "dissimilarity between two probability density functions $p$ and\n",
    "$q$. If $p$ is the unkown probability which we approximate with $q$,\n",
    "we can measure the difference by"
   ]
  },
  {
   "cell_type": "markdown",
   "id": "c6f598dc",
   "metadata": {},
   "source": [
    "$$\n",
    "\\begin{align*}\n",
    "\t\\text{KL}(p||q) = \\int_{-\\infty}^{\\infty} p (\\boldsymbol{x}) \\log \\frac{p(\\boldsymbol{x})}{q(\\boldsymbol{x})}  d\\boldsymbol{x}.\n",
    "\\end{align*}\n",
    "$$"
   ]
  },
  {
   "cell_type": "markdown",
   "id": "74b29efa",
   "metadata": {},
   "source": [
    "## Kullback-Leibler divergence\n",
    "\n",
    "Thus, the Kullback-Leibler divergence between the distribution of the\n",
    "training data $f(\\boldsymbol{x})$ and the model distribution $p(\\boldsymbol{x}|\n",
    "\\boldsymbol{\\Theta})$ is"
   ]
  },
  {
   "cell_type": "markdown",
   "id": "0efab152",
   "metadata": {},
   "source": [
    "$$\n",
    "\\begin{align*}\n",
    "\t\\text{KL} (f(\\boldsymbol{x})|| p(\\boldsymbol{x}| \\boldsymbol{\\Theta})) =& \\int_{-\\infty}^{\\infty}\n",
    "\tf (\\boldsymbol{x}) \\log \\frac{f(\\boldsymbol{x})}{p(\\boldsymbol{x}| \\boldsymbol{\\Theta})} d\\boldsymbol{x} \\\\\n",
    "\t=& \\int_{-\\infty}^{\\infty} f(\\boldsymbol{x}) \\log f(\\boldsymbol{x}) d\\boldsymbol{x} - \\int_{-\\infty}^{\\infty} f(\\boldsymbol{x}) \\log\n",
    "\tp(\\boldsymbol{x}| \\boldsymbol{\\Theta}) d\\boldsymbol{x} \\\\\n",
    "\t%=& \\mathbb{E}_{f(\\boldsymbol{x})} (\\log f(\\boldsymbol{x})) - \\mathbb{E}_{f(\\boldsymbol{x})} (\\log p(\\boldsymbol{x}| \\boldsymbol{\\Theta}))\n",
    "\t=& \\langle \\log f(\\boldsymbol{x}) \\rangle_{f(\\boldsymbol{x})} - \\langle \\log p(\\boldsymbol{x}| \\boldsymbol{\\Theta}) \\rangle_{f(\\boldsymbol{x})} \\\\\n",
    "\t=& \\langle \\log f(\\boldsymbol{x}) \\rangle_{data} + \\langle E(\\boldsymbol{x}) \\rangle_{data} + \\log Z \\\\\n",
    "\t=& \\langle \\log f(\\boldsymbol{x}) \\rangle_{data} + \\mathcal{C}_{LL} .\n",
    "\\end{align*}\n",
    "$$"
   ]
  },
  {
   "cell_type": "markdown",
   "id": "e9b961d5",
   "metadata": {},
   "source": [
    "## Maximizing log-likelihood\n",
    "\n",
    "The first term is constant with respect to $\\boldsymbol{\\Theta}$ since\n",
    "$f(\\boldsymbol{x})$ is independent of $\\boldsymbol{\\Theta}$. Thus the Kullback-Leibler\n",
    "Divergence is minimal when the second term is minimal. The second term\n",
    "is the log-likelihood cost function, hence minimizing the\n",
    "Kullback-Leibler divergence is equivalent to maximizing the\n",
    "log-likelihood.\n",
    "\n",
    "To further understand generative models it is useful to study the\n",
    "gradient of the cost function which is needed in order to minimize it\n",
    "using methods like stochastic gradient descent."
   ]
  },
  {
   "cell_type": "markdown",
   "id": "8c7ebfbe",
   "metadata": {},
   "source": [
    "## More on the partition function\n",
    "\n",
    "The partition function is the generating function of\n",
    "expectation values, in particular there are mathematical relationships\n",
    "between expectation values and the log-partition function. In this\n",
    "case we have"
   ]
  },
  {
   "cell_type": "markdown",
   "id": "3e01baad",
   "metadata": {},
   "source": [
    "$$\n",
    "\\begin{align*}\n",
    "\t\\langle \\frac{ \\partial E(\\boldsymbol{x}; \\Theta_i) } { \\partial \\Theta_i} \\rangle_{model}\n",
    "\t= \\int p(\\boldsymbol{x}| \\boldsymbol{\\Theta}) \\frac{ \\partial E(\\boldsymbol{x}; \\Theta_i) } { \\partial \\Theta_i} d\\boldsymbol{x} \n",
    "\t= -\\frac{\\partial \\log Z(\\Theta_i)}{ \\partial  \\Theta_i} .\n",
    "\\end{align*}\n",
    "$$"
   ]
  },
  {
   "cell_type": "markdown",
   "id": "4442ceaf",
   "metadata": {},
   "source": [
    "Here $\\langle \\cdot \\rangle_{model}$ is the expectation value over the model probability distribution $p(\\boldsymbol{x}| \\boldsymbol{\\Theta})$."
   ]
  },
  {
   "cell_type": "markdown",
   "id": "10bb24f3",
   "metadata": {},
   "source": [
    "## Setting up for gradient descent calculations\n",
    "\n",
    "Using the previous relationship we can express the gradient of the cost function as"
   ]
  },
  {
   "cell_type": "markdown",
   "id": "66ef1f41",
   "metadata": {},
   "source": [
    "$$\n",
    "\\begin{align*}\n",
    "\t\\frac{\\partial \\mathcal{C}_{LL}}{\\partial \\Theta_i}\n",
    "\t=& \\langle \\frac{ \\partial E(\\boldsymbol{x}; \\Theta_i) } { \\partial \\Theta_i} \\rangle_{data} + \\frac{\\partial \\log Z(\\Theta_i)}{ \\partial  \\Theta_i} \\\\\n",
    "\t=& \\langle \\frac{ \\partial E(\\boldsymbol{x}; \\Theta_i) } { \\partial \\Theta_i} \\rangle_{data} - \\langle \\frac{ \\partial E(\\boldsymbol{x}; \\Theta_i) } { \\partial \\Theta_i} \\rangle_{model} \\\\\n",
    "\t%=& \\langle O_i(\\boldsymbol{x}) \\rangle_{data} - \\langle O_i(\\boldsymbol{x}) \\rangle_{model}\n",
    "\\end{align*}\n",
    "$$"
   ]
  },
  {
   "cell_type": "markdown",
   "id": "e7a4956c",
   "metadata": {},
   "source": [
    "## Difference of moments\n",
    "\n",
    "This expression shows that the gradient of the log-likelihood cost\n",
    "function is a **difference of moments**, with one calculated from\n",
    "the data and one calculated from the model. The data-dependent term is\n",
    "called the **positive phase** and the model-dependent term is\n",
    "called the **negative phase** of the gradient. We see now that\n",
    "minimizing the cost function results in lowering the energy of\n",
    "configurations $\\boldsymbol{x}$ near points in the training data and\n",
    "increasing the energy of configurations not observed in the training\n",
    "data. That means we increase the model's probability of configurations\n",
    "similar to those in the training data."
   ]
  },
  {
   "cell_type": "markdown",
   "id": "cf9b9393",
   "metadata": {},
   "source": [
    "## More observations\n",
    "\n",
    "The gradient of the cost function also demonstrates why gradients of\n",
    "unsupervised, generative models must be computed differently from for\n",
    "those of for example FNNs. While the data-dependent expectation value\n",
    "is easily calculated based on the samples $\\boldsymbol{x}_i$ in the training\n",
    "data, we must sample from the model in order to generate samples from\n",
    "which to caclulate the model-dependent term. We sample from the model\n",
    "by using MCMC-based methods. We can not sample from the model directly\n",
    "because the partition function $Z$ is generally intractable."
   ]
  },
  {
   "cell_type": "markdown",
   "id": "68843be1",
   "metadata": {},
   "source": [
    "## Adding hyperparameters\n",
    "\n",
    "As in supervised machine learning problems, the goal is also here to\n",
    "perform well on **unseen** data, that is to have good\n",
    "generalization from the training data. The distribution $f(x)$ we\n",
    "approximate is not the **true** distribution we wish to estimate,\n",
    "it is limited to the training data. Hence, in unsupervised training as\n",
    "well it is important to prevent overfitting to the training data. Thus\n",
    "it is common to add regularizers to the cost function in the same\n",
    "manner as we discussed for say linear regression."
   ]
  },
  {
   "cell_type": "markdown",
   "id": "017299c1",
   "metadata": {},
   "source": [
    "## Mathematical details\n",
    "\n",
    "Because we are restricted to potential functions which are positive it\n",
    "is convenient to express them as exponentials.\n",
    "\n",
    "The original RBM had binary visible and hidden nodes. They were\n",
    "showned to be universal approximators of discrete distributions.\n",
    "It was also shown that adding hidden units yields\n",
    "strictly improved modelling power."
   ]
  },
  {
   "cell_type": "markdown",
   "id": "bb49a13f",
   "metadata": {},
   "source": [
    "## Binary-binary (BB) RBMs\n",
    "\n",
    "The common choice of binary values\n",
    "are 0 and 1. However, in some physics applications, -1 and 1 might be\n",
    "a more natural choice. We will here use 0 and 1. We habe the energy function"
   ]
  },
  {
   "cell_type": "markdown",
   "id": "0d5fcbb4",
   "metadata": {},
   "source": [
    "$$\n",
    "\\begin{align*}\n",
    "\tE_{BB}(\\boldsymbol{x}, \\boldsymbol{h},\\boldsymbol{\\Theta}) = - \\sum_i^M x_i a_i- \\sum_j^N b_j h_j - \\sum_{i,j}^{M,N} x_i w_{ij} h_j.\n",
    "\\end{align*}\n",
    "$$"
   ]
  },
  {
   "cell_type": "markdown",
   "id": "0ea14c5d",
   "metadata": {},
   "source": [
    "## Marginal probability\n",
    "\n",
    "We have the binary-binary marginal probability defined as"
   ]
  },
  {
   "cell_type": "markdown",
   "id": "3e8ffcd0",
   "metadata": {},
   "source": [
    "$$\n",
    "\\begin{align*}\n",
    "\tp_{BB}(\\boldsymbol{x}, \\boldsymbol{h},\\boldsymbol{\\Theta}) =& \\frac{1}{Z_{BB}(\\boldsymbol{\\Theta})} e^{\\sum_i^M a_i x_i + \\sum_j^N b_j h_j + \\sum_{ij}^{M,N} x_i w_{ij} h_j} \\\\\n",
    "\t=& \\frac{1}{Z_{BB}(\\boldsymbol{\\Theta})} e^{\\boldsymbol{a}^T \\boldsymbol{x} + \\boldsymbol{b}^T \\boldsymbol{h} + \\boldsymbol{x}^T \\boldsymbol{W} \\boldsymbol{h}}\n",
    "\\end{align*}\n",
    "$$"
   ]
  },
  {
   "cell_type": "markdown",
   "id": "34cd11bc",
   "metadata": {},
   "source": [
    "with the partition function"
   ]
  },
  {
   "cell_type": "markdown",
   "id": "74af317e",
   "metadata": {},
   "source": [
    "$$\n",
    "\\begin{align*}\n",
    "\tZ_{BB}(\\boldsymbol{\\Theta}) = \\sum_{\\boldsymbol{x}, \\boldsymbol{h}} e^{\\boldsymbol{a}^T \\boldsymbol{x} + \\boldsymbol{b}^T \\boldsymbol{h} + \\boldsymbol{x}^T \\boldsymbol{W} \\boldsymbol{h}} .\n",
    "\\end{align*}\n",
    "$$"
   ]
  },
  {
   "cell_type": "markdown",
   "id": "b53ceb39",
   "metadata": {},
   "source": [
    "## Marginal Probability Density Function for the visible units\n",
    "\n",
    "In order to find the probability of any configuration of the visible units we derive the marginal probability density function."
   ]
  },
  {
   "cell_type": "markdown",
   "id": "ce76ea5e",
   "metadata": {},
   "source": [
    "$$\n",
    "\\begin{align*}\n",
    "\tp_{BB} (\\boldsymbol{x},\\boldsymbol{\\Theta}) =& \\sum_{\\boldsymbol{h}} p_{BB} (\\boldsymbol{x}, \\boldsymbol{h},\\boldsymbol{\\Theta}) \\\\\n",
    "\t=& \\frac{1}{Z_{BB}} \\sum_{\\boldsymbol{h}} e^{\\boldsymbol{a}^T \\boldsymbol{x} + \\boldsymbol{b}^T \\boldsymbol{h} + \\boldsymbol{x}^T \\boldsymbol{W} \\boldsymbol{h}} \\nonumber \\\\\n",
    "\t=& \\frac{1}{Z_{BB}} e^{\\boldsymbol{a}^T \\boldsymbol{x}} \\sum_{\\boldsymbol{h}} e^{\\sum_j^N (b_j + \\boldsymbol{x}^T \\boldsymbol{w}_{\\ast j})h_j} \\nonumber \\\\\n",
    "\t=& \\frac{1}{Z_{BB}} e^{\\boldsymbol{a}^T \\boldsymbol{x}} \\sum_{\\boldsymbol{h}} \\prod_j^N e^{ (b_j + \\boldsymbol{x}^T \\boldsymbol{w}_{\\ast j})h_j} \\nonumber \\\\\n",
    "\t=& \\frac{1}{Z_{BB}} e^{\\boldsymbol{a}^T \\boldsymbol{x}} \\bigg ( \\sum_{h_1} e^{(b_1 + \\boldsymbol{x}^T \\boldsymbol{w}_{\\ast 1})h_1}\n",
    "\t\\times \\sum_{h_2} e^{(b_2 + \\boldsymbol{x}^T \\boldsymbol{w}_{\\ast 2})h_2} \\times \\nonumber \\\\\n",
    "\t& ... \\times \\sum_{h_2} e^{(b_N + \\boldsymbol{x}^T \\boldsymbol{w}_{\\ast N})h_N} \\bigg ) \\nonumber \\\\\n",
    "\t=& \\frac{1}{Z_{BB}} e^{\\boldsymbol{a}^T \\boldsymbol{x}} \\prod_j^N \\sum_{h_j} e^{(b_j + \\boldsymbol{x}^T \\boldsymbol{w}_{\\ast j}) h_j} \\nonumber \\\\\n",
    "\t=& \\frac{1}{Z_{BB}} e^{\\boldsymbol{a}^T \\boldsymbol{x}} \\prod_j^N (1 + e^{b_j + \\boldsymbol{x}^T \\boldsymbol{w}_{\\ast j}}) .\n",
    "\\end{align*}\n",
    "$$"
   ]
  },
  {
   "cell_type": "markdown",
   "id": "ce562cf7",
   "metadata": {},
   "source": [
    "## Marginal probability for hidden units\n",
    "\n",
    "A similar derivation yields the marginal probability of the hidden units"
   ]
  },
  {
   "cell_type": "markdown",
   "id": "f0c32a60",
   "metadata": {},
   "source": [
    "$$\n",
    "\\begin{align*}\n",
    "\tp_{BB} (\\boldsymbol{h},\\boldsymbol{\\Theta}) = \\frac{1}{Z_{BB}(\\boldsymbol{\\Theta})} e^{\\boldsymbol{b}^T \\boldsymbol{h}} \\prod_i^M (1 + e^{a_i + \\boldsymbol{w}_{i\\ast}^T \\boldsymbol{h}}) .\n",
    "\\end{align*}\n",
    "$$"
   ]
  },
  {
   "cell_type": "markdown",
   "id": "14759780",
   "metadata": {},
   "source": [
    "## Conditional Probability Density Functions\n",
    "\n",
    "We derive the probability of the hidden units given the visible units using Bayes' rule\n",
    "(we drop the explicit $\\boldsymbol{\\Theta}$ dependence)"
   ]
  },
  {
   "cell_type": "markdown",
   "id": "1bbf5159",
   "metadata": {},
   "source": [
    "$$\n",
    "\\begin{align*}\n",
    "\tp_{BB} (\\boldsymbol{h}|\\boldsymbol{x}) =& \\frac{p_{BB} (\\boldsymbol{x}, \\boldsymbol{h})}{p_{BB} (\\boldsymbol{x})} \\nonumber \\\\\n",
    "\t=& \\frac{ \\frac{1}{Z_{BB}}  e^{\\boldsymbol{a}^T \\boldsymbol{x} + \\boldsymbol{b}^T \\boldsymbol{h} + \\boldsymbol{x}^T \\boldsymbol{W} \\boldsymbol{h}} }\n",
    "\t        {\\frac{1}{Z_{BB}} e^{\\boldsymbol{a}^T \\boldsymbol{x}} \\prod_j^N (1 + e^{b_j + \\boldsymbol{x}^T \\boldsymbol{w}_{\\ast j}})} \\nonumber \\\\\n",
    "\t=& \\frac{  e^{\\boldsymbol{a}^T \\boldsymbol{x}} e^{ \\sum_j^N (b_j + \\boldsymbol{x}^T \\boldsymbol{w}_{\\ast j} ) h_j} }\n",
    "\t        { e^{\\boldsymbol{a}^T \\boldsymbol{x}} \\prod_j^N (1 + e^{b_j + \\boldsymbol{x}^T \\boldsymbol{w}_{\\ast j}})} \\nonumber \\\\\n",
    "\t=& \\prod_j^N \\frac{ e^{(b_j + \\boldsymbol{x}^T \\boldsymbol{w}_{\\ast j} ) h_j}  }\n",
    "\t{1 + e^{b_j + \\boldsymbol{x}^T \\boldsymbol{w}_{\\ast j}}} \\nonumber \\\\\n",
    "\t=& \\prod_j^N p_{BB} (h_j| \\boldsymbol{x}) .\n",
    "\\end{align*}\n",
    "$$"
   ]
  },
  {
   "cell_type": "markdown",
   "id": "2f7ba7fd",
   "metadata": {},
   "source": [
    "## On and off probabilities\n",
    "\n",
    "From this we find the probability of a hidden unit being \"on\" or \"off\":"
   ]
  },
  {
   "cell_type": "markdown",
   "id": "8983c13a",
   "metadata": {},
   "source": [
    "$$\n",
    "\\begin{align*}\n",
    "\tp_{BB} (h_j=1 | \\boldsymbol{x}) =&   \\frac{ e^{(b_j + \\boldsymbol{x}^T \\boldsymbol{w}_{\\ast j} ) h_j}  }\n",
    "\t{1 + e^{b_j + \\boldsymbol{x}^T \\boldsymbol{w}_{\\ast j}}} \\\\\n",
    "\t=&  \\frac{ e^{(b_j + \\boldsymbol{x}^T \\boldsymbol{w}_{\\ast j} )}  }\n",
    "\t{1 + e^{b_j + \\boldsymbol{x}^T \\boldsymbol{w}_{\\ast j}}} \\\\\n",
    "\t=&  \\frac{ 1 }{1 + e^{-(b_j + \\boldsymbol{x}^T \\boldsymbol{w}_{\\ast j})} } ,\n",
    "\\end{align*}\n",
    "$$"
   ]
  },
  {
   "cell_type": "markdown",
   "id": "d1faa343",
   "metadata": {},
   "source": [
    "and"
   ]
  },
  {
   "cell_type": "markdown",
   "id": "f645ded4",
   "metadata": {},
   "source": [
    "$$\n",
    "\\begin{align*}\n",
    "\tp_{BB} (h_j=0 | \\boldsymbol{x}) =\\frac{ 1 }{1 + e^{b_j + \\boldsymbol{x}^T \\boldsymbol{w}_{\\ast j}} } .\n",
    "\\end{align*}\n",
    "$$"
   ]
  },
  {
   "cell_type": "markdown",
   "id": "059dfbc3",
   "metadata": {},
   "source": [
    "## Conditional probability for visible units\n",
    "\n",
    "Similarly we have that the conditional probability of the visible units given the hidden are"
   ]
  },
  {
   "cell_type": "markdown",
   "id": "d58189de",
   "metadata": {},
   "source": [
    "$$\n",
    "\\begin{align*}\n",
    "\tp_{BB} (\\boldsymbol{x}|\\boldsymbol{h}) =& \\prod_i^M \\frac{ e^{ (a_i + \\boldsymbol{w}_{i\\ast}^T \\boldsymbol{h}) x_i} }{ 1 + e^{a_i + \\boldsymbol{w}_{i\\ast}^T \\boldsymbol{h}} } \\\\\n",
    "\t&= \\prod_i^M p_{BB} (x_i | \\boldsymbol{h}) .\n",
    "\\end{align*}\n",
    "$$"
   ]
  },
  {
   "cell_type": "markdown",
   "id": "4fd3c9b6",
   "metadata": {},
   "source": [
    "We have"
   ]
  },
  {
   "cell_type": "markdown",
   "id": "38c75b23",
   "metadata": {},
   "source": [
    "$$\n",
    "\\begin{align*}\n",
    "\tp_{BB} (x_i=1 | \\boldsymbol{h}) =& \\frac{1}{1 + e^{-(a_i + \\boldsymbol{w}_{i\\ast}^T \\boldsymbol{h} )}} \\\\\n",
    "\tp_{BB} (x_i=0 | \\boldsymbol{h}) =& \\frac{1}{1 + e^{a_i + \\boldsymbol{w}_{i\\ast}^T \\boldsymbol{h} }} .\n",
    "\\end{align*}\n",
    "$$"
   ]
  },
  {
   "cell_type": "markdown",
   "id": "43db17b2",
   "metadata": {},
   "source": [
    "## Gaussian-Binary Restricted Boltzmann Machines\n",
    "\n",
    "Inserting into the expression for $E_{RBM}(\\boldsymbol{x},\\boldsymbol{h},\\boldsymbol{\\Theta})$ in equation  results in the energy"
   ]
  },
  {
   "cell_type": "markdown",
   "id": "75fd9c8c",
   "metadata": {},
   "source": [
    "$$\n",
    "\\begin{align*}\n",
    "\tE_{GB}(\\boldsymbol{x}, \\boldsymbol{h},\\boldsymbol{\\Theta}) =& \\sum_i^M \\frac{(x_i - a_i)^2}{2\\sigma_i^2}\n",
    "\t- \\sum_j^N b_j h_j \n",
    "\t-\\sum_{ij}^{M,N} \\frac{x_i w_{ij} h_j}{\\sigma_i^2} \\nonumber \\\\\n",
    "\t=& \\vert\\vert\\frac{\\boldsymbol{x} -\\boldsymbol{a}}{2\\boldsymbol{\\sigma}}\\vert\\vert^2 - \\boldsymbol{b}^T \\boldsymbol{h} \n",
    "\t- (\\frac{\\boldsymbol{x}}{\\boldsymbol{\\sigma}^2})^T \\boldsymbol{W}\\boldsymbol{h} . \n",
    "\\end{align*}\n",
    "$$"
   ]
  },
  {
   "cell_type": "markdown",
   "id": "8dd018ee",
   "metadata": {},
   "source": [
    "## Joint Probability Density Function"
   ]
  },
  {
   "cell_type": "markdown",
   "id": "5ad8bd93",
   "metadata": {},
   "source": [
    "$$\n",
    "\\begin{align*}\n",
    "\tp_{GB} (\\boldsymbol{x}, \\boldsymbol{h},\\boldsymbol{\\Theta}) =& \\frac{1}{Z_{GB}} e^{-\\vert\\vert\\frac{\\boldsymbol{x} -\\boldsymbol{a}}{2\\boldsymbol{\\sigma}}\\vert\\vert^2 + \\boldsymbol{b}^T \\boldsymbol{h} \n",
    "\t+ (\\frac{\\boldsymbol{x}}{\\boldsymbol{\\sigma}^2})^T \\boldsymbol{W}\\boldsymbol{h}} \\nonumber \\\\\n",
    "\t=& \\frac{1}{Z_{GB}} e^{- \\sum_i^M \\frac{(x_i - a_i)^2}{2\\sigma_i^2}\n",
    "\t+ \\sum_j^N b_j h_j \n",
    "\t+\\sum_{ij}^{M,N} \\frac{x_i w_{ij} h_j}{\\sigma_i^2}} \\nonumber \\\\\n",
    "\t=& \\frac{1}{Z_{GB}} \\prod_{ij}^{M,N} e^{-\\frac{(x_i - a_i)^2}{2\\sigma_i^2}\n",
    "\t+ b_j h_j \n",
    "\t+\\frac{x_i w_{ij} h_j}{\\sigma_i^2}}.\n",
    "\\end{align*}\n",
    "$$"
   ]
  },
  {
   "cell_type": "markdown",
   "id": "489d1061",
   "metadata": {},
   "source": [
    "## Partition function\n",
    "\n",
    "The partition function is given by"
   ]
  },
  {
   "cell_type": "markdown",
   "id": "75e44bef",
   "metadata": {},
   "source": [
    "$$\n",
    "\\begin{align*}\n",
    "\tZ_{GB} =& \\int \\sum_{\\tilde{\\boldsymbol{h}}}^{\\tilde{\\boldsymbol{H}}} e^{-\\vert\\vert\\frac{\\tilde{\\boldsymbol{x}} -\\boldsymbol{a}}{2\\boldsymbol{\\sigma}}\\vert\\vert^2 + \\boldsymbol{b}^T \\tilde{\\boldsymbol{h}} \n",
    "\t+ (\\frac{\\tilde{\\boldsymbol{x}}}{\\boldsymbol{\\sigma}^2})^T \\boldsymbol{W}\\tilde{\\boldsymbol{h}}} d\\tilde{\\boldsymbol{x}} .\n",
    "\\end{align*}\n",
    "$$"
   ]
  },
  {
   "cell_type": "markdown",
   "id": "bbcdb644",
   "metadata": {},
   "source": [
    "## Marginal Probability Density Functions\n",
    "\n",
    "We proceed to find the marginal probability densitites of the\n",
    "Gaussian-binary RBM. We first marginalize over the binary hidden units\n",
    "to find $p_{GB} (\\boldsymbol{x})$"
   ]
  },
  {
   "cell_type": "markdown",
   "id": "29e4fb96",
   "metadata": {},
   "source": [
    "$$\n",
    "\\begin{align*}\n",
    "\tp_{GB} (\\boldsymbol{x}) =& \\sum_{\\tilde{\\boldsymbol{h}}}^{\\tilde{\\boldsymbol{H}}} p_{GB} (\\boldsymbol{x}, \\tilde{\\boldsymbol{h}}) \\nonumber \\\\\n",
    "\t=& \\frac{1}{Z_{GB}} \\sum_{\\tilde{\\boldsymbol{h}}}^{\\tilde{\\boldsymbol{H}}} \n",
    "\te^{-\\vert\\vert\\frac{\\boldsymbol{x} -\\boldsymbol{a}}{2\\boldsymbol{\\sigma}}\\vert\\vert^2 + \\boldsymbol{b}^T \\tilde{\\boldsymbol{h}} \n",
    "\t+ (\\frac{\\boldsymbol{x}}{\\boldsymbol{\\sigma}^2})^T \\boldsymbol{W}\\tilde{\\boldsymbol{h}}} \\nonumber \\\\\n",
    "\t=& \\frac{1}{Z_{GB}} e^{-\\vert\\vert\\frac{\\boldsymbol{x} -\\boldsymbol{a}}{2\\boldsymbol{\\sigma}}\\vert\\vert^2}\n",
    "\t\\prod_j^N (1 + e^{b_j + (\\frac{\\boldsymbol{x}}{\\boldsymbol{\\sigma}^2})^T \\boldsymbol{w}_{\\ast j}} ) .\n",
    "\\end{align*}\n",
    "$$"
   ]
  },
  {
   "cell_type": "markdown",
   "id": "f0702e31",
   "metadata": {},
   "source": [
    "## Then the visible units\n",
    "We next marginalize over the visible units. This is the first time we\n",
    "marginalize over continuous values. We rewrite the exponential factor\n",
    "dependent on $\\boldsymbol{x}$ as a Gaussian function before we integrate in\n",
    "the last step."
   ]
  },
  {
   "cell_type": "markdown",
   "id": "b8941f59",
   "metadata": {},
   "source": [
    "$$\n",
    "\\begin{align*}\n",
    "\tp_{GB} (\\boldsymbol{h}) =& \\int p_{GB} (\\tilde{\\boldsymbol{x}}, \\boldsymbol{h}) d\\tilde{\\boldsymbol{x}} \\nonumber \\\\\n",
    "\t=& \\frac{1}{Z_{GB}} \\int e^{-\\vert\\vert\\frac{\\tilde{\\boldsymbol{x}} -\\boldsymbol{a}}{2\\boldsymbol{\\sigma}}\\vert\\vert^2 + \\boldsymbol{b}^T \\boldsymbol{h} \n",
    "\t+ (\\frac{\\tilde{\\boldsymbol{x}}}{\\boldsymbol{\\sigma}^2})^T \\boldsymbol{W}\\boldsymbol{h}} d\\tilde{\\boldsymbol{x}} \\nonumber \\\\\n",
    "\t=& \\frac{1}{Z_{GB}} e^{\\boldsymbol{b}^T \\boldsymbol{h} } \\int \\prod_i^M\n",
    "\te^{- \\frac{(\\tilde{x}_i - a_i)^2}{2\\sigma_i^2} + \\frac{\\tilde{x}_i \\boldsymbol{w}_{i\\ast}^T \\boldsymbol{h}}{\\sigma_i^2} } d\\tilde{\\boldsymbol{x}} \\nonumber \\\\\n",
    "\t=& \\frac{1}{Z_{GB}} e^{\\boldsymbol{b}^T \\boldsymbol{h} }\n",
    "\t\\biggl( \\int e^{- \\frac{(\\tilde{x}_1 - a_1)^2}{2\\sigma_1^2} + \\frac{\\tilde{x}_1 \\boldsymbol{w}_{1\\ast}^T \\boldsymbol{h}}{\\sigma_1^2} } d\\tilde{x}_1 \\nonumber \\\\\n",
    "\t& \\times \\int e^{- \\frac{(\\tilde{x}_2 - a_2)^2}{2\\sigma_2^2} + \\frac{\\tilde{x}_2 \\boldsymbol{w}_{2\\ast}^T \\boldsymbol{h}}{\\sigma_2^2} } d\\tilde{x}_2 \\nonumber \\\\\n",
    "\t& \\times ... \\nonumber \\\\\n",
    "\t&\\times \\int e^{- \\frac{(\\tilde{x}_M - a_M)^2}{2\\sigma_M^2} + \\frac{\\tilde{x}_M \\boldsymbol{w}_{M\\ast}^T \\boldsymbol{h}}{\\sigma_M^2} } d\\tilde{x}_M \\biggr) \\nonumber \\\\\n",
    "\t=& \\frac{1}{Z_{GB}} e^{\\boldsymbol{b}^T \\boldsymbol{h}} \\prod_i^M\n",
    "\t\\int e^{- \\frac{(\\tilde{x}_i - a_i)^2 - 2\\tilde{x}_i \\boldsymbol{w}_{i\\ast}^T \\boldsymbol{h}}{2\\sigma_i^2} } d\\tilde{x}_i \\nonumber \\\\\n",
    "\t=& \\frac{1}{Z_{GB}} e^{\\boldsymbol{b}^T \\boldsymbol{h}} \\prod_i^M\n",
    "\t\\int e^{- \\frac{\\tilde{x}_i^2 - 2\\tilde{x}_i(a_i + \\tilde{x}_i \\boldsymbol{w}_{i\\ast}^T \\boldsymbol{h}) + a_i^2}{2\\sigma_i^2} } d\\tilde{x}_i \\nonumber \\\\\n",
    "\t=& \\frac{1}{Z_{GB}} e^{\\boldsymbol{b}^T \\boldsymbol{h}} \\prod_i^M\n",
    "\t\\int e^{- \\frac{\\tilde{x}_i^2 - 2\\tilde{x}_i(a_i + \\boldsymbol{w}_{i\\ast}^T \\boldsymbol{h}) + (a_i + \\boldsymbol{w}_{i\\ast}^T \\boldsymbol{h})^2 - (a_i + \\boldsymbol{w}_{i\\ast}^T \\boldsymbol{h})^2 + a_i^2}{2\\sigma_i^2} } d\\tilde{x}_i \\nonumber \\\\\n",
    "\t=& \\frac{1}{Z_{GB}} e^{\\boldsymbol{b}^T \\boldsymbol{h}} \\prod_i^M\n",
    "\t\\int e^{- \\frac{(\\tilde{x}_i - (a_i + \\boldsymbol{w}_{i\\ast}^T \\boldsymbol{h}))^2 - a_i^2 -2a_i \\boldsymbol{w}_{i\\ast}^T \\boldsymbol{h} - (\\boldsymbol{w}_{i\\ast}^T \\boldsymbol{h})^2 + a_i^2}{2\\sigma_i^2} } d\\tilde{x}_i \\nonumber \\\\\n",
    "\t=& \\frac{1}{Z_{GB}} e^{\\boldsymbol{b}^T \\boldsymbol{h}} \\prod_i^M\n",
    "\te^{\\frac{2a_i \\boldsymbol{w}_{i\\ast}^T \\boldsymbol{h} +(\\boldsymbol{w}_{i\\ast}^T \\boldsymbol{h})^2 }{2\\sigma_i^2}}\n",
    "\t\\int e^{- \\frac{(\\tilde{x}_i - a_i - \\boldsymbol{w}_{i\\ast}^T \\boldsymbol{h})^2}{2\\sigma_i^2}}\n",
    "\td\\tilde{x}_i \\nonumber \\\\\n",
    "\t=& \\frac{1}{Z_{GB}} e^{\\boldsymbol{b}^T \\boldsymbol{h}} \\prod_i^M\n",
    "\t\\sqrt{2\\pi \\sigma_i^2}\n",
    "\te^{\\frac{2a_i \\boldsymbol{w}_{i\\ast}^T \\boldsymbol{h} +(\\boldsymbol{w}_{i\\ast}^T \\boldsymbol{h})^2 }{2\\sigma_i^2}} .\n",
    "\\end{align*}\n",
    "$$"
   ]
  },
  {
   "cell_type": "markdown",
   "id": "225c4077",
   "metadata": {},
   "source": [
    "## Conditional Probability Density Functions\n",
    "\n",
    "We finish by deriving the conditional probabilities."
   ]
  },
  {
   "cell_type": "markdown",
   "id": "51ea004b",
   "metadata": {},
   "source": [
    "$$\n",
    "\\begin{align*}\n",
    "\tp_{GB} (\\boldsymbol{h}| \\boldsymbol{x}) =& \\frac{p_{GB} (\\boldsymbol{x}, \\boldsymbol{h})}{p_{GB} (\\boldsymbol{x})} \\nonumber \\\\\n",
    "\t=& \\frac{\\frac{1}{Z_{GB}} e^{-\\vert\\vert\\frac{\\boldsymbol{x} -\\boldsymbol{a}}{2\\boldsymbol{\\sigma}}\\vert\\vert^2 + \\boldsymbol{b}^T \\boldsymbol{h} \n",
    "\t+ (\\frac{\\boldsymbol{x}}{\\boldsymbol{\\sigma}^2})^T \\boldsymbol{W}\\boldsymbol{h}}}\n",
    "\t{\\frac{1}{Z_{GB}} e^{-\\vert\\vert\\frac{\\boldsymbol{x} -\\boldsymbol{a}}{2\\boldsymbol{\\sigma}}\\vert\\vert^2}\n",
    "\t\\prod_j^N (1 + e^{b_j + (\\frac{\\boldsymbol{x}}{\\boldsymbol{\\sigma}^2})^T \\boldsymbol{w}_{\\ast j}} ) }\n",
    "\t\\nonumber \\\\\n",
    "\t=& \\prod_j^N \\frac{e^{(b_j + (\\frac{\\boldsymbol{x}}{\\boldsymbol{\\sigma}^2})^T \\boldsymbol{w}_{\\ast j})h_j } }\n",
    "\t{1 + e^{b_j + (\\frac{\\boldsymbol{x}}{\\boldsymbol{\\sigma}^2})^T \\boldsymbol{w}_{\\ast j}}} \\nonumber \\\\\n",
    "\t=& \\prod_j^N p_{GB} (h_j|\\boldsymbol{x}).\n",
    "\\end{align*}\n",
    "$$"
   ]
  },
  {
   "cell_type": "markdown",
   "id": "0d0e4ae6",
   "metadata": {},
   "source": [
    "## Hidden units\n",
    "\n",
    "The conditional probability of a binary hidden unit $h_j$ being on or off again takes the form of a sigmoid function"
   ]
  },
  {
   "cell_type": "markdown",
   "id": "741f65b3",
   "metadata": {},
   "source": [
    "$$\n",
    "\\begin{align*}\n",
    "\tp_{GB} (h_j =1 | \\boldsymbol{x}) =& \\frac{e^{b_j + (\\frac{\\boldsymbol{x}}{\\boldsymbol{\\sigma}^2})^T \\boldsymbol{w}_{\\ast j} } }\n",
    "\t{1 + e^{b_j + (\\frac{\\boldsymbol{x}}{\\boldsymbol{\\sigma}^2})^T \\boldsymbol{w}_{\\ast j}}} \\nonumber \\\\\n",
    "\t=& \\frac{1}{1 + e^{-b_j - (\\frac{\\boldsymbol{x}}{\\boldsymbol{\\sigma}^2})^T \\boldsymbol{w}_{\\ast j}}} \\\\\n",
    "\tp_{GB} (h_j =0 | \\boldsymbol{x}) =&\n",
    "\t\\frac{1}{1 + e^{b_j +(\\frac{\\boldsymbol{x}}{\\boldsymbol{\\sigma}^2})^T \\boldsymbol{w}_{\\ast j}}} .\n",
    "\\end{align*}\n",
    "$$"
   ]
  },
  {
   "cell_type": "markdown",
   "id": "f75656f0",
   "metadata": {},
   "source": [
    "## Visible units\n",
    "\n",
    "The conditional probability of the continuous $\\boldsymbol{x}$ now has another form, however."
   ]
  },
  {
   "cell_type": "markdown",
   "id": "3408c70f",
   "metadata": {},
   "source": [
    "$$\n",
    "\\begin{align*}\n",
    "\tp_{GB} (\\boldsymbol{x}|\\boldsymbol{h})\n",
    "\t=& \\frac{p_{GB} (\\boldsymbol{x}, \\boldsymbol{h})}{p_{GB} (\\boldsymbol{h})} \\nonumber \\\\\n",
    "\t=& \\frac{\\frac{1}{Z_{GB}} e^{-\\vert\\vert\\frac{\\boldsymbol{x} -\\boldsymbol{a}}{2\\boldsymbol{\\sigma}}\\vert\\vert^2 + \\boldsymbol{b}^T \\boldsymbol{h} \n",
    "\t+ (\\frac{\\boldsymbol{x}}{\\boldsymbol{\\sigma}^2})^T \\boldsymbol{W}\\boldsymbol{h}}}\n",
    "\t{\\frac{1}{Z_{GB}} e^{\\boldsymbol{b}^T \\boldsymbol{h}} \\prod_i^M\n",
    "\t\\sqrt{2\\pi \\sigma_i^2}\n",
    "\te^{\\frac{2a_i \\boldsymbol{w}_{i\\ast}^T \\boldsymbol{h} +(\\boldsymbol{w}_{i\\ast}^T \\boldsymbol{h})^2 }{2\\sigma_i^2}}}\n",
    "\t\\nonumber \\\\\n",
    "\t=& \\prod_i^M \\frac{1}{\\sqrt{2\\pi \\sigma_i^2}}\n",
    "\t\\frac{e^{- \\frac{(x_i - a_i)^2}{2\\sigma_i^2} + \\frac{x_i \\boldsymbol{w}_{i\\ast}^T \\boldsymbol{h}}{2\\sigma_i^2} }}\n",
    "\t{e^{\\frac{2a_i \\boldsymbol{w}_{i\\ast}^T \\boldsymbol{h} +(\\boldsymbol{w}_{i\\ast}^T \\boldsymbol{h})^2 }{2\\sigma_i^2}}}\n",
    "\t\\nonumber \\\\\n",
    "\t=& \\prod_i^M \\frac{1}{\\sqrt{2\\pi \\sigma_i^2}}\n",
    "\t\\frac{e^{-\\frac{x_i^2 - 2a_i x_i + a_i^2 - 2x_i \\boldsymbol{w}_{i\\ast}^T\\boldsymbol{h} }{2\\sigma_i^2} } }\n",
    "\t{e^{\\frac{2a_i \\boldsymbol{w}_{i\\ast}^T \\boldsymbol{h} +(\\boldsymbol{w}_{i\\ast}^T \\boldsymbol{h})^2 }{2\\sigma_i^2}}}\n",
    "\t\\nonumber \\\\\n",
    "\t=& \\prod_i^M \\frac{1}{\\sqrt{2\\pi \\sigma_i^2}}\n",
    "\te^{- \\frac{x_i^2 - 2a_i x_i + a_i^2 - 2x_i \\boldsymbol{w}_{i\\ast}^T\\boldsymbol{h}\n",
    "\t+ 2a_i \\boldsymbol{w}_{i\\ast}^T \\boldsymbol{h} +(\\boldsymbol{w}_{i\\ast}^T \\boldsymbol{h})^2}\n",
    "\t{2\\sigma_i^2} }\n",
    "\t\\nonumber \\\\\n",
    "\t=& \\prod_i^M \\frac{1}{\\sqrt{2\\pi \\sigma_i^2}}\n",
    "\te^{ - \\frac{(x_i - b_i - \\boldsymbol{w}_{i\\ast}^T \\boldsymbol{h})^2}{2\\sigma_i^2}} \\nonumber \\\\\n",
    "\t=& \\prod_i^M \\mathcal{N}\n",
    "\t(x_i | b_i + \\boldsymbol{w}_{i\\ast}^T \\boldsymbol{h}, \\sigma_i^2) \\\\\n",
    "\t\\Rightarrow p_{GB} (x_i|\\boldsymbol{h}) =& \\mathcal{N}\n",
    "\t(x_i | b_i + \\boldsymbol{w}_{i\\ast}^T \\boldsymbol{h}, \\sigma_i^2) .\n",
    "\\end{align*}\n",
    "$$"
   ]
  },
  {
   "cell_type": "markdown",
   "id": "0177b066",
   "metadata": {},
   "source": [
    "## Comments\n",
    "\n",
    "The form of these conditional probabilities explains the name\n",
    "\"Gaussian\" and the form of the Gaussian-binary energy function. We see\n",
    "that the conditional probability of $x_i$ given $\\boldsymbol{h}$ is a normal\n",
    "distribution with mean $b_i + \\boldsymbol{w}_{i\\ast}^T \\boldsymbol{h}$ and variance\n",
    "$\\sigma_i^2$."
   ]
  },
  {
   "cell_type": "markdown",
   "id": "bb14d990",
   "metadata": {},
   "source": [
    "## Code for RBMs using PyTorch"
   ]
  },
  {
   "cell_type": "code",
   "execution_count": 1,
   "id": "8476d1a5",
   "metadata": {},
   "outputs": [
    {
     "name": "stderr",
     "output_type": "stream",
     "text": [
      "/Users/mhjensen/miniforge3/envs/myenv/lib/python3.9/site-packages/torchvision/io/image.py:13: UserWarning: Failed to load image Python extension: 'dlopen(/Users/mhjensen/miniforge3/envs/myenv/lib/python3.9/site-packages/torchvision/image.so, 0x0006): Symbol not found: __ZN3c1017RegisterOperatorsD1Ev\n",
      "  Referenced from: <2D1B8D5C-7891-3680-9CF9-F771AE880676> /Users/mhjensen/miniforge3/envs/myenv/lib/python3.9/site-packages/torchvision/image.so\n",
      "  Expected in:     <ADC0A61A-5B83-3A02-975F-EE5DFF441305> /Users/mhjensen/miniforge3/envs/myenv/lib/python3.9/site-packages/torch/lib/libtorch_cpu.dylib'If you don't plan on using image functionality from `torchvision.io`, you can ignore this warning. Otherwise, there might be something wrong with your environment. Did you have `libjpeg` or `libpng` installed before building `torchvision` from source?\n",
      "  warn(\n"
     ]
    },
    {
     "name": "stdout",
     "output_type": "stream",
     "text": [
      "Training loss for 0 epoch: -8.40273666381836\n",
      "Training loss for 1 epoch: -6.65485143661499\n",
      "Training loss for 2 epoch: -4.6180100440979\n",
      "Training loss for 3 epoch: -3.1848721504211426\n",
      "Training loss for 4 epoch: -2.2645301818847656\n",
      "Training loss for 5 epoch: -1.6228995323181152\n",
      "Training loss for 6 epoch: -1.1289337873458862\n",
      "Training loss for 7 epoch: -0.7515658140182495\n",
      "Training loss for 8 epoch: -0.5163537263870239\n",
      "Training loss for 9 epoch: -0.34294143319129944\n"
     ]
    },
    {
     "data": {
      "image/png": "[encoded data removed]",
      "text/plain": [
       "<Figure size 640x480 with 1 Axes>"
      ]
     },
     "metadata": {},
     "output_type": "display_data"
    }
   ],
   "source": [
    "import numpy as np\n",
    "import torch\n",
    "import torch.utils.data\n",
    "import torch.nn as nn\n",
    "import torch.nn.functional as F\n",
    "import torch.optim as optim\n",
    "from torch.autograd import Variable\n",
    "from torchvision import datasets, transforms\n",
    "from torchvision.utils import make_grid , save_image\n",
    "import matplotlib.pyplot as plt\n",
    "\n",
    "\n",
    "batch_size = 64\n",
    "train_loader = torch.utils.data.DataLoader(\n",
    "datasets.MNIST('./data',\n",
    "    train=True,\n",
    "    download = True,\n",
    "    transform = transforms.Compose(\n",
    "        [transforms.ToTensor()])\n",
    "     ),\n",
    "     batch_size=batch_size\n",
    ")\n",
    "\n",
    "test_loader = torch.utils.data.DataLoader(\n",
    "datasets.MNIST('./data',\n",
    "    train=False,\n",
    "    transform=transforms.Compose(\n",
    "    [transforms.ToTensor()])\n",
    "    ),\n",
    "    batch_size=batch_size)\n",
    "\n",
    "\n",
    "class RBM(nn.Module):\n",
    "   def __init__(self,\n",
    "               n_vis=784,\n",
    "               n_hin=500,\n",
    "               k=5):\n",
    "        super(RBM, self).__init__()\n",
    "        self.W = nn.Parameter(torch.randn(n_hin,n_vis)*1e-2)\n",
    "        self.v_bias = nn.Parameter(torch.zeros(n_vis))\n",
    "        self.h_bias = nn.Parameter(torch.zeros(n_hin))\n",
    "        self.k = k\n",
    "    \n",
    "   def sample_from_p(self,p):\n",
    "       return F.relu(torch.sign(p - Variable(torch.rand(p.size()))))\n",
    "    \n",
    "   def v_to_h(self,v):\n",
    "        p_h = F.sigmoid(F.linear(v,self.W,self.h_bias))\n",
    "        sample_h = self.sample_from_p(p_h)\n",
    "        return p_h,sample_h\n",
    "    \n",
    "   def h_to_v(self,h):\n",
    "        p_v = F.sigmoid(F.linear(h,self.W.t(),self.v_bias))\n",
    "        sample_v = self.sample_from_p(p_v)\n",
    "        return p_v,sample_v\n",
    "        \n",
    "   def forward(self,v):\n",
    "        pre_h1,h1 = self.v_to_h(v)\n",
    "        \n",
    "        h_ = h1\n",
    "        for _ in range(self.k):\n",
    "            pre_v_,v_ = self.h_to_v(h_)\n",
    "            pre_h_,h_ = self.v_to_h(v_)\n",
    "        \n",
    "        return v,v_\n",
    "    \n",
    "   def free_energy(self,v):\n",
    "        vbias_term = v.mv(self.v_bias)\n",
    "        wx_b = F.linear(v,self.W,self.h_bias)\n",
    "        hidden_term = wx_b.exp().add(1).log().sum(1)\n",
    "        return (-hidden_term - vbias_term).mean()\n",
    "\n",
    "\n",
    "\n",
    "\n",
    "rbm = RBM(k=1)\n",
    "train_op = optim.SGD(rbm.parameters(),0.1)\n",
    "\n",
    "for epoch in range(10):\n",
    "    loss_ = []\n",
    "    for _, (data,target) in enumerate(train_loader):\n",
    "        data = Variable(data.view(-1,784))\n",
    "        sample_data = data.bernoulli()\n",
    "        \n",
    "        v,v1 = rbm(sample_data)\n",
    "        loss = rbm.free_energy(v) - rbm.free_energy(v1)\n",
    "        loss_.append(loss.data)\n",
    "        train_op.zero_grad()\n",
    "        loss.backward()\n",
    "        train_op.step()\n",
    "\n",
    "    print(\"Training loss for {} epoch: {}\".format(epoch, np.mean(loss_)))\n",
    "\n",
    "\n",
    "def show_adn_save(file_name,img):\n",
    "    npimg = np.transpose(img.numpy(),(1,2,0))\n",
    "    f = \"./%s.png\" % file_name\n",
    "    plt.imshow(npimg)\n",
    "    plt.imsave(f,npimg)\n",
    "\n",
    "show_adn_save(\"real\",make_grid(v.view(32,1,28,28).data))\n",
    "show_adn_save(\"generate\",make_grid(v1.view(32,1,28,28).data))"
   ]
  },
  {
   "cell_type": "markdown",
   "id": "3ee1679c",
   "metadata": {},
   "source": [
    "## Energy-based models and Langevin sampling\n",
    "\n",
    "See discussions in Foster, chapter 7 on energy-based models at <https://github.com/davidADSP/Generative_Deep_Learning_2nd_Edition/tree/main/notebooks/07_ebm/01_ebm>\n",
    "\n",
    "That notebook is based on a recent article by Du and Mordatch, **Implicit generation and modeling with energy-based models**, see <https://arxiv.org/pdf/1903.08689.pdf.>"
   ]
  },
  {
   "cell_type": "markdown",
   "id": "3e380f88",
   "metadata": {},
   "source": [
    "## Tensor-flow examples\n",
    "\n",
    "1. To create Boltzmann machine using Keras, see Babcock and Bali chapter 4, see <https://github.com/PacktPublishing/Hands-On-Generative-AI-with-Python-and-TensorFlow-2/blob/master/Chapter_4/models/rbm.py>\n",
    "\n",
    "2. See also Foster, chapter 7 on energy-based models at <https://github.com/davidADSP/Generative_Deep_Learning_2nd_Edition/tree/main/notebooks/07_ebm/01_ebm>"
   ]
  }
 ],
 "metadata": {
  "kernelspec": {
   "display_name": "Python 3 (ipykernel)",
   "language": "python",
   "name": "python3"
  },
  "language_info": {
   "codemirror_mode": {
    "name": "ipython",
    "version": 3
   },
   "file_extension": ".py",
   "mimetype": "text/x-python",
   "name": "python",
   "nbconvert_exporter": "python",
   "pygments_lexer": "ipython3",
   "version": "3.9.18"
  }
 },
 "nbformat": 4,
 "nbformat_minor": 5
}
