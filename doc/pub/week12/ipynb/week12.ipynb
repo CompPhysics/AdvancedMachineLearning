{
 "cells": [
  {
   "cell_type": "markdown",
   "id": "0915bdcd",
   "metadata": {
    "editable": true
   },
   "source": [
    "<!-- HTML file automatically generated from DocOnce source (https://github.com/doconce/doconce/)\n",
    "doconce format html week12.do.txt --no_mako -->\n",
    "<!-- dom:TITLE: Advanced machine learning and data analysis for the physical sciences -->"
   ]
  },
  {
   "cell_type": "markdown",
   "id": "0cd49fb1",
   "metadata": {
    "editable": true
   },
   "source": [
    "# Advanced machine learning and data analysis for the physical sciences\n",
    "**Morten Hjorth-Jensen**, Department of Physics and Center for Computing in Science Education, University of Oslo, Norway\n",
    "\n",
    "Date: **April 10, 2025**"
   ]
  },
  {
   "cell_type": "markdown",
   "id": "47edfb46",
   "metadata": {
    "editable": true
   },
   "source": [
    "## Plans for the week April 7-11, 2025\n",
    "\n",
    "**Generative methods, energy models and Boltzmann machines.**\n",
    "\n",
    "1. Summary of discussions on Restricted Boltzmann machines, reminder from last week\n",
    "\n",
    "2. Introduction to Variational Autoencoders (VAEs)\n",
    "\n",
    "3. [Video of lecture](https://youtu.be/Mm9Xasy8qNw)\n",
    "\n",
    "4. [Whiteboard notes](https://github.com/CompPhysics/AdvancedMachineLearning/blob/main/doc/HandwrittenNotes/2025/NotesApril10.pdf)"
   ]
  },
  {
   "cell_type": "markdown",
   "id": "3bd266dc",
   "metadata": {
    "editable": true
   },
   "source": [
    "## Reading recommendations\n",
    "1. Boltzmann machines: Goodfellow et al chapters 18.1-18.2,  20.1-20-7; To create Boltzmann machine using Keras, see Babcock and Bali chapter 4, see <https://github.com/PacktPublishing/Hands-On-Generative-AI-with-Python-and-TensorFlow-2/blob/master/Chapter_4/models/rbm.py>\n",
    "\n",
    "2. More on Boltzmann machines: see also Foster, chapter 7 on energy-based models at <https://github.com/davidADSP/Generative_Deep_Learning_2nd_Edition/tree/main/notebooks/07_ebm/01_ebm>\n",
    "\n",
    "3. VAEs: Goodfellow et al, for VAEs see sections 20.10-20.11"
   ]
  },
  {
   "cell_type": "markdown",
   "id": "0af3c812",
   "metadata": {
    "editable": true
   },
   "source": [
    "## Essential elements of generative models\n",
    "\n",
    "The aim of generative methods is to train a probability distribution $p$. The methods we will focus on are:\n",
    "1. Energy based models, with the family of Boltzmann distributions as a typical example\n",
    "\n",
    "2. Variational autoencoders, based on our discussions on autoencoders\n",
    "\n",
    "3. Generative adversarial networks (GANs) and\n",
    "\n",
    "4. Diffusion models"
   ]
  },
  {
   "cell_type": "markdown",
   "id": "1211f465",
   "metadata": {
    "editable": true
   },
   "source": [
    "## Energy models, reminders from last two weeks\n",
    "\n",
    "During the last two weeks we defined a domain $\\boldsymbol{X}$ of stochastic variables $\\boldsymbol{X}= \\{x_0,x_1, \\dots , x_{n-1}\\}$ with a pertinent probability distribution"
   ]
  },
  {
   "cell_type": "markdown",
   "id": "e8d22b69",
   "metadata": {
    "editable": true
   },
   "source": [
    "$$\n",
    "p(\\boldsymbol{X})=\\prod_{x_i\\in \\boldsymbol{X}}p(x_i),\n",
    "$$"
   ]
  },
  {
   "cell_type": "markdown",
   "id": "2216e31f",
   "metadata": {
    "editable": true
   },
   "source": [
    "where we have assumed that the random varaibles $x_i$ are all independent and identically distributed (iid).\n",
    "\n",
    "We will now assume that we can defined this function in terms of optimization parameters $\\boldsymbol{\\Theta}$, which could be the biases and weights of deep network, and a set of hidden variables we also assume to be random variables which also are iid. The domain of these variables is\n",
    "$\\boldsymbol{H}= \\{h_0,h_1, \\dots , h_{m-1}\\}$."
   ]
  },
  {
   "cell_type": "markdown",
   "id": "afdf483d",
   "metadata": {
    "editable": true
   },
   "source": [
    "## Probability model\n",
    "\n",
    "We define a probability"
   ]
  },
  {
   "cell_type": "markdown",
   "id": "31cb7db3",
   "metadata": {
    "editable": true
   },
   "source": [
    "$$\n",
    "p(x_i,h_j;\\boldsymbol{\\Theta}) = \\frac{f(x_i,h_j;\\boldsymbol{\\Theta})}{Z(\\boldsymbol{\\Theta})},\n",
    "$$"
   ]
  },
  {
   "cell_type": "markdown",
   "id": "d95823c7",
   "metadata": {
    "editable": true
   },
   "source": [
    "where $f(x_i,h_j;\\boldsymbol{\\Theta})$ is a function which we assume is larger or\n",
    "equal than zero and obeys all properties required for a probability\n",
    "distribution and $Z(\\boldsymbol{\\Theta})$ is a normalization constant. Inspired by\n",
    "statistical mechanics, we call it often for the partition function.\n",
    "It is defined as (assuming that we have discrete probability distributions)"
   ]
  },
  {
   "cell_type": "markdown",
   "id": "95dad79d",
   "metadata": {
    "editable": true
   },
   "source": [
    "$$\n",
    "Z(\\boldsymbol{\\Theta})=\\sum_{x_i\\in \\boldsymbol{X}}\\sum_{h_j\\in \\boldsymbol{H}} f(x_i,h_j;\\boldsymbol{\\Theta}).\n",
    "$$"
   ]
  },
  {
   "cell_type": "markdown",
   "id": "ce8f65ec",
   "metadata": {
    "editable": true
   },
   "source": [
    "## Marginal and conditional probabilities\n",
    "\n",
    "We can in turn define the marginal probabilities"
   ]
  },
  {
   "cell_type": "markdown",
   "id": "7586ff0f",
   "metadata": {
    "editable": true
   },
   "source": [
    "$$\n",
    "p(x_i;\\boldsymbol{\\Theta}) = \\frac{\\sum_{h_j\\in \\boldsymbol{H}}f(x_i,h_j;\\boldsymbol{\\Theta})}{Z(\\boldsymbol{\\Theta})},\n",
    "$$"
   ]
  },
  {
   "cell_type": "markdown",
   "id": "89e62c6d",
   "metadata": {
    "editable": true
   },
   "source": [
    "and"
   ]
  },
  {
   "cell_type": "markdown",
   "id": "f9e62d46",
   "metadata": {
    "editable": true
   },
   "source": [
    "$$\n",
    "p(h_i;\\boldsymbol{\\Theta}) = \\frac{\\sum_{x_i\\in \\boldsymbol{X}}f(x_i,h_j;\\boldsymbol{\\Theta})}{Z(\\boldsymbol{\\Theta})}.\n",
    "$$"
   ]
  },
  {
   "cell_type": "markdown",
   "id": "2b1422a5",
   "metadata": {
    "editable": true
   },
   "source": [
    "## Change of notation\n",
    "\n",
    "**Note the change to a vector notation**. A variable like $\\boldsymbol{x}$\n",
    "represents now a specific **configuration**. We can generate an infinity\n",
    "of such configurations. The final partition function is then the sum\n",
    "over all such possible configurations, that is"
   ]
  },
  {
   "cell_type": "markdown",
   "id": "138c9973",
   "metadata": {
    "editable": true
   },
   "source": [
    "$$\n",
    "Z(\\boldsymbol{\\Theta})=\\sum_{x_i\\in \\boldsymbol{X}}\\sum_{h_j\\in \\boldsymbol{H}} f(x_i,h_j;\\boldsymbol{\\Theta}),\n",
    "$$"
   ]
  },
  {
   "cell_type": "markdown",
   "id": "87277a07",
   "metadata": {
    "editable": true
   },
   "source": [
    "changes to"
   ]
  },
  {
   "cell_type": "markdown",
   "id": "aea17820",
   "metadata": {
    "editable": true
   },
   "source": [
    "$$\n",
    "Z(\\boldsymbol{\\Theta})=\\sum_{\\boldsymbol{x}}\\sum_{\\boldsymbol{h}} f(\\boldsymbol{x},\\boldsymbol{h};\\boldsymbol{\\Theta}).\n",
    "$$"
   ]
  },
  {
   "cell_type": "markdown",
   "id": "366a90b6",
   "metadata": {
    "editable": true
   },
   "source": [
    "If we have a binary set of variable $x_i$ and $h_j$ and $M$ values of $x_i$ and $N$ values of $h_j$ we have in total $2^M$ and $2^N$ possible $\\boldsymbol{x}$ and $\\boldsymbol{h}$ configurations, respectively.\n",
    "\n",
    "We see that even for the modest binary case, we can easily approach a\n",
    "number of configuration which is not possible to deal with."
   ]
  },
  {
   "cell_type": "markdown",
   "id": "1c8b9f8e",
   "metadata": {
    "editable": true
   },
   "source": [
    "## Optimization problem\n",
    "\n",
    "At the end, we are not interested in the probabilities of the hidden variables. The probability we thus want to optimize is"
   ]
  },
  {
   "cell_type": "markdown",
   "id": "996614cb",
   "metadata": {
    "editable": true
   },
   "source": [
    "$$\n",
    "p(\\boldsymbol{X};\\boldsymbol{\\Theta})=\\prod_{x_i\\in \\boldsymbol{X}}p(x_i;\\boldsymbol{\\Theta})=\\prod_{x_i\\in \\boldsymbol{X}}\\left(\\frac{\\sum_{h_j\\in \\boldsymbol{H}}f(x_i,h_j;\\boldsymbol{\\Theta})}{Z(\\boldsymbol{\\Theta})}\\right),\n",
    "$$"
   ]
  },
  {
   "cell_type": "markdown",
   "id": "69896578",
   "metadata": {
    "editable": true
   },
   "source": [
    "which we rewrite as"
   ]
  },
  {
   "cell_type": "markdown",
   "id": "7508ae84",
   "metadata": {
    "editable": true
   },
   "source": [
    "$$\n",
    "p(\\boldsymbol{X};\\boldsymbol{\\Theta})=\\frac{1}{Z(\\boldsymbol{\\Theta})}\\prod_{x_i\\in \\boldsymbol{X}}\\left(\\sum_{h_j\\in \\boldsymbol{H}}f(x_i,h_j;\\boldsymbol{\\Theta})\\right).\n",
    "$$"
   ]
  },
  {
   "cell_type": "markdown",
   "id": "808c65d5",
   "metadata": {
    "editable": true
   },
   "source": [
    "## Further simplifications\n",
    "\n",
    "We simplify further by rewriting it as"
   ]
  },
  {
   "cell_type": "markdown",
   "id": "5544fe5d",
   "metadata": {
    "editable": true
   },
   "source": [
    "$$\n",
    "p(\\boldsymbol{X};\\boldsymbol{\\Theta})=\\frac{1}{Z(\\boldsymbol{\\Theta})}\\prod_{x_i\\in \\boldsymbol{X}}f(x_i;\\boldsymbol{\\Theta}),\n",
    "$$"
   ]
  },
  {
   "cell_type": "markdown",
   "id": "47cb37de",
   "metadata": {
    "editable": true
   },
   "source": [
    "where we used $p(x_i;\\boldsymbol{\\Theta}) = \\sum_{h_j\\in \\boldsymbol{H}}f(x_i,h_j;\\boldsymbol{\\Theta})$.\n",
    "The optimization problem is then"
   ]
  },
  {
   "cell_type": "markdown",
   "id": "634612d7",
   "metadata": {
    "editable": true
   },
   "source": [
    "$$\n",
    "{\\displaystyle \\mathrm{arg} \\hspace{0.1cm}\\max_{\\boldsymbol{\\boldsymbol{\\Theta}}\\in {\\mathbb{R}}^{p}}} \\hspace{0.1cm}p(\\boldsymbol{X};\\boldsymbol{\\Theta}).\n",
    "$$"
   ]
  },
  {
   "cell_type": "markdown",
   "id": "51f17dc2",
   "metadata": {
    "editable": true
   },
   "source": [
    "## Optimizing the logarithm instead\n",
    "\n",
    "Computing the derivatives with respect to the parameters $\\boldsymbol{\\Theta}$ is\n",
    "easier (and equivalent) with taking the logarithm of the\n",
    "probability. We will thus optimize"
   ]
  },
  {
   "cell_type": "markdown",
   "id": "b2f57b2a",
   "metadata": {
    "editable": true
   },
   "source": [
    "$$\n",
    "{\\displaystyle \\mathrm{arg} \\hspace{0.1cm}\\max_{\\boldsymbol{\\boldsymbol{\\Theta}}\\in {\\mathbb{R}}^{p}}} \\hspace{0.1cm}\\log{p(\\boldsymbol{X};\\boldsymbol{\\Theta})},\n",
    "$$"
   ]
  },
  {
   "cell_type": "markdown",
   "id": "881e6e24",
   "metadata": {
    "editable": true
   },
   "source": [
    "which leads to"
   ]
  },
  {
   "cell_type": "markdown",
   "id": "86916c8f",
   "metadata": {
    "editable": true
   },
   "source": [
    "$$\n",
    "\\nabla_{\\boldsymbol{\\Theta}}\\log{p(\\boldsymbol{X};\\boldsymbol{\\Theta})}=0.\n",
    "$$"
   ]
  },
  {
   "cell_type": "markdown",
   "id": "39574f57",
   "metadata": {
    "editable": true
   },
   "source": [
    "## Expression for the gradients\n",
    "This leads to the following equation"
   ]
  },
  {
   "cell_type": "markdown",
   "id": "e94bc9fa",
   "metadata": {
    "editable": true
   },
   "source": [
    "$$\n",
    "\\nabla_{\\boldsymbol{\\Theta}}\\log{p(\\boldsymbol{X};\\boldsymbol{\\Theta})}=\\nabla_{\\boldsymbol{\\Theta}}\\left(\\sum_{x_i\\in \\boldsymbol{X}}\\log{f(x_i;\\boldsymbol{\\Theta})}\\right)-\\nabla_{\\boldsymbol{\\Theta}}\\log{Z(\\boldsymbol{\\Theta})}=0.\n",
    "$$"
   ]
  },
  {
   "cell_type": "markdown",
   "id": "ee8a4fa5",
   "metadata": {
    "editable": true
   },
   "source": [
    "The first term is called the positive phase and we assume that we have a model for the function $f$ from which we can sample values. Below we will develop an explicit model for this.\n",
    "The second term is called the negative phase and is the one which leads to more difficulties."
   ]
  },
  {
   "cell_type": "markdown",
   "id": "ec698ac8",
   "metadata": {
    "editable": true
   },
   "source": [
    "## The derivative of the partition function\n",
    "\n",
    "The partition function, defined above as"
   ]
  },
  {
   "cell_type": "markdown",
   "id": "140a61b3",
   "metadata": {
    "editable": true
   },
   "source": [
    "$$\n",
    "Z(\\boldsymbol{\\Theta})=\\sum_{x_i\\in \\boldsymbol{X}}\\sum_{h_j\\in \\boldsymbol{H}} f(x_i,h_j;\\boldsymbol{\\Theta}),\n",
    "$$"
   ]
  },
  {
   "cell_type": "markdown",
   "id": "59259411",
   "metadata": {
    "editable": true
   },
   "source": [
    "is in general the most problematic term. In principle both $x$ and $h$ can span large degrees of freedom, if not even infinitely many ones, and computing the partition function itself is often not desirable or even feasible. The above derivative of the partition function can however be written in terms of an expectation value which is in turn evaluated  using Monte Carlo sampling and the theory of Markov chains, popularly shortened to MCMC (or just MC$^2$)."
   ]
  },
  {
   "cell_type": "markdown",
   "id": "78c2ef9e",
   "metadata": {
    "editable": true
   },
   "source": [
    "## Explicit expression for the derivative\n",
    "We can rewrite"
   ]
  },
  {
   "cell_type": "markdown",
   "id": "c7c5e048",
   "metadata": {
    "editable": true
   },
   "source": [
    "$$\n",
    "\\nabla_{\\boldsymbol{\\Theta}}\\log{Z(\\boldsymbol{\\Theta})}=\\frac{\\nabla_{\\boldsymbol{\\Theta}}Z(\\boldsymbol{\\Theta})}{Z(\\boldsymbol{\\Theta})},\n",
    "$$"
   ]
  },
  {
   "cell_type": "markdown",
   "id": "1bbd7806",
   "metadata": {
    "editable": true
   },
   "source": [
    "which reads in more detail"
   ]
  },
  {
   "cell_type": "markdown",
   "id": "59e96374",
   "metadata": {
    "editable": true
   },
   "source": [
    "$$\n",
    "\\nabla_{\\boldsymbol{\\Theta}}\\log{Z(\\boldsymbol{\\Theta})}=\\frac{\\nabla_{\\boldsymbol{\\Theta}} \\sum_{x_i\\in \\boldsymbol{X}}f(x_i;\\boldsymbol{\\Theta})   }{Z(\\boldsymbol{\\Theta})}.\n",
    "$$"
   ]
  },
  {
   "cell_type": "markdown",
   "id": "37e1bfaf",
   "metadata": {
    "editable": true
   },
   "source": [
    "We can rewrite the function $f$ (we have assumed that is larger or\n",
    "equal than zero) as $f=\\exp{\\log{f}}$. We can then reqrite the last\n",
    "equation as"
   ]
  },
  {
   "cell_type": "markdown",
   "id": "995468e5",
   "metadata": {
    "editable": true
   },
   "source": [
    "$$\n",
    "\\nabla_{\\boldsymbol{\\Theta}}\\log{Z(\\boldsymbol{\\Theta})}=\\frac{ \\sum_{x_i\\in \\boldsymbol{X}} \\nabla_{\\boldsymbol{\\Theta}}\\exp{\\log{f(x_i;\\boldsymbol{\\Theta})}}   }{Z(\\boldsymbol{\\Theta})}.\n",
    "$$"
   ]
  },
  {
   "cell_type": "markdown",
   "id": "ecae0f6b",
   "metadata": {
    "editable": true
   },
   "source": [
    "## Final expression\n",
    "\n",
    "Taking the derivative gives us"
   ]
  },
  {
   "cell_type": "markdown",
   "id": "d9ee6f4d",
   "metadata": {
    "editable": true
   },
   "source": [
    "$$\n",
    "\\nabla_{\\boldsymbol{\\Theta}}\\log{Z(\\boldsymbol{\\Theta})}=\\frac{ \\sum_{x_i\\in \\boldsymbol{X}}f(x_i;\\boldsymbol{\\Theta}) \\nabla_{\\boldsymbol{\\Theta}}\\log{f(x_i;\\boldsymbol{\\Theta})}   }{Z(\\boldsymbol{\\Theta})},\n",
    "$$"
   ]
  },
  {
   "cell_type": "markdown",
   "id": "35326c7f",
   "metadata": {
    "editable": true
   },
   "source": [
    "which is the expectation value of $\\log{f}$"
   ]
  },
  {
   "cell_type": "markdown",
   "id": "5842aa63",
   "metadata": {
    "editable": true
   },
   "source": [
    "$$\n",
    "\\nabla_{\\boldsymbol{\\Theta}}\\log{Z(\\boldsymbol{\\Theta})}=\\sum_{x_i\\in \\boldsymbol{X}}p(x_i;\\boldsymbol{\\Theta}) \\nabla_{\\boldsymbol{\\Theta}}\\log{f(x_i;\\boldsymbol{\\Theta})},\n",
    "$$"
   ]
  },
  {
   "cell_type": "markdown",
   "id": "cca9129e",
   "metadata": {
    "editable": true
   },
   "source": [
    "that is"
   ]
  },
  {
   "cell_type": "markdown",
   "id": "7f7a44df",
   "metadata": {
    "editable": true
   },
   "source": [
    "$$\n",
    "\\nabla_{\\boldsymbol{\\Theta}}\\log{Z(\\boldsymbol{\\Theta})}=\\mathbb{E}(\\log{f(x_i;\\boldsymbol{\\Theta})}).\n",
    "$$"
   ]
  },
  {
   "cell_type": "markdown",
   "id": "c58b6d3e",
   "metadata": {
    "editable": true
   },
   "source": [
    "This quantity is evaluated using Monte Carlo sampling, with Gibbs\n",
    "sampling as the standard sampling rule.  Before we discuss the\n",
    "explicit algorithms, we need to remind ourselves about Markov chains\n",
    "and sampling rules like the Metropolis-Hastings algorithm and Gibbs\n",
    "sampling."
   ]
  },
  {
   "cell_type": "markdown",
   "id": "5a477b0b",
   "metadata": {
    "editable": true
   },
   "source": [
    "## Positive and negative phases\n",
    "As discussed earlier, the data-dependent term in the gradient is known as the positive phase\n",
    "of the gradient, while the model-dependent term is known as the\n",
    "negative phase of the gradient. The aim of the training is to lower\n",
    "the energy of configurations that are near observed data points\n",
    "(increasing their probability), and raising the energy of\n",
    "configurations that are far from observed data points (decreasing\n",
    "their probability)."
   ]
  },
  {
   "cell_type": "markdown",
   "id": "ef23f5d4",
   "metadata": {
    "editable": true
   },
   "source": [
    "## Theory of Variational Autoencoders\n",
    "\n",
    "Let us remind ourself about what an autoencoder is, see the jupyter-notebooks at <https://github.com/CompPhysics/AdvancedMachineLearning/blob/main/doc/pub/week8/ipynb/week8.ipynb> and <https://github.com/CompPhysics/AdvancedMachineLearning/blob/main/doc/pub/week9/ipynb/week9.ipynb>."
   ]
  },
  {
   "cell_type": "markdown",
   "id": "8d4b0047",
   "metadata": {
    "editable": true
   },
   "source": [
    "## The Autoencoder again\n",
    "\n",
    "Autoencoders are neural networks where the outputs are its own\n",
    "inputs. They are split into an **encoder part**\n",
    "which maps the input $\\boldsymbol{x}$ via a function $f(\\boldsymbol{x},\\boldsymbol{W})$ (this\n",
    "is the encoder part) to a **so-called code part** (or intermediate part)\n",
    "with the result $\\boldsymbol{h}$"
   ]
  },
  {
   "cell_type": "markdown",
   "id": "9c84a76a",
   "metadata": {
    "editable": true
   },
   "source": [
    "$$\n",
    "\\boldsymbol{h} = f(\\boldsymbol{x},\\boldsymbol{W})),\n",
    "$$"
   ]
  },
  {
   "cell_type": "markdown",
   "id": "2e0f6292",
   "metadata": {
    "editable": true
   },
   "source": [
    "where $\\boldsymbol{W}$ are the weights to be determined.  The **decoder** parts maps, via its own parameters (weights given by the matrix $\\boldsymbol{V}$ and its own biases) to \n",
    "the final ouput"
   ]
  },
  {
   "cell_type": "markdown",
   "id": "0458a823",
   "metadata": {
    "editable": true
   },
   "source": [
    "$$\n",
    "\\tilde{\\boldsymbol{x}} = g(\\boldsymbol{h},\\boldsymbol{V})).\n",
    "$$"
   ]
  },
  {
   "cell_type": "markdown",
   "id": "c2ac1c6d",
   "metadata": {
    "editable": true
   },
   "source": [
    "The goal is to minimize the construction error, often done by optimizing the means squared error."
   ]
  },
  {
   "cell_type": "markdown",
   "id": "1571531e",
   "metadata": {
    "editable": true
   },
   "source": [
    "## Schematic image of an Autoencoder\n",
    "\n",
    "<!-- dom:FIGURE: [figures/ae1.png, width=700 frac=1.0] -->\n",
    "<!-- begin figure -->\n",
    "\n",
    "<img src=\"figures/ae1.png\" width=\"700\"><p style=\"font-size: 0.9em\"><i>Figure 1: </i></p>\n",
    "<!-- end figure -->"
   ]
  },
  {
   "cell_type": "markdown",
   "id": "550f6bab",
   "metadata": {
    "editable": true
   },
   "source": [
    "## Mathematics of Variational Autoencoders\n",
    "\n",
    "We have defined earlier a probability (marginal) distribution with hidden variables $\\boldsymbol{h}$ and parameters $\\boldsymbol{\\Theta}$ as"
   ]
  },
  {
   "cell_type": "markdown",
   "id": "7ff6732b",
   "metadata": {
    "editable": true
   },
   "source": [
    "$$\n",
    "p(\\boldsymbol{x};\\boldsymbol{\\Theta}) = \\int d\\boldsymbol{h}p(\\boldsymbol{x},\\boldsymbol{h};\\boldsymbol{\\Theta}),\n",
    "$$"
   ]
  },
  {
   "cell_type": "markdown",
   "id": "ab44203a",
   "metadata": {
    "editable": true
   },
   "source": [
    "for continuous variables $\\boldsymbol{h}$ and"
   ]
  },
  {
   "cell_type": "markdown",
   "id": "dd62a0df",
   "metadata": {
    "editable": true
   },
   "source": [
    "$$\n",
    "p(\\boldsymbol{x};\\boldsymbol{\\Theta}) = \\sum_{\\boldsymbol{h}}p(\\boldsymbol{x},\\boldsymbol{h};\\boldsymbol{\\Theta}),\n",
    "$$"
   ]
  },
  {
   "cell_type": "markdown",
   "id": "cfd7b8ff",
   "metadata": {
    "editable": true
   },
   "source": [
    "for discrete stochastic events $\\boldsymbol{h}$. The variables $\\boldsymbol{h}$ are normally called the **latent variables** in the theory of autoencoders. We will also call then for that here."
   ]
  },
  {
   "cell_type": "markdown",
   "id": "dd6d01c0",
   "metadata": {
    "editable": true
   },
   "source": [
    "## Using the conditional probability\n",
    "\n",
    "Using the the definition of the conditional probabilities $p(\\boldsymbol{x}\\vert\\boldsymbol{h};\\boldsymbol{\\Theta})$, $p(\\boldsymbol{h}\\vert\\boldsymbol{x};\\boldsymbol{\\Theta})$ and \n",
    "and the prior $p(\\boldsymbol{h})$, we can rewrite the above equation as"
   ]
  },
  {
   "cell_type": "markdown",
   "id": "51b9b0c6",
   "metadata": {
    "editable": true
   },
   "source": [
    "$$\n",
    "p(\\boldsymbol{x};\\boldsymbol{\\Theta}) = \\sum_{\\boldsymbol{h}}p(\\boldsymbol{x}\\vert\\boldsymbol{h};\\boldsymbol{\\Theta})p(\\boldsymbol{h}),\n",
    "$$"
   ]
  },
  {
   "cell_type": "markdown",
   "id": "d63d9d5a",
   "metadata": {
    "editable": true
   },
   "source": [
    "which allows us to make the dependence of $\\boldsymbol{x}$ on $\\boldsymbol{h}$\n",
    "explicit by using the law of total probability. The intuition behind\n",
    "this approach for finding the marginal probability for $\\boldsymbol{x}$ is to\n",
    "optimize the above equations with respect to the parameters\n",
    "$\\boldsymbol{\\Theta}$.  This is done normally by maximizing the probability,\n",
    "the so-called maximum-likelihood approach discussed earlier."
   ]
  },
  {
   "cell_type": "markdown",
   "id": "adfda774",
   "metadata": {
    "editable": true
   },
   "source": [
    "## VAEs versus autoencoders\n",
    "\n",
    "This trained probability is assumed to be able to produce similar\n",
    "samples as the input.  In VAEs it is then common to compare via for\n",
    "example the mean-squared error or the cross-entropy the predicted\n",
    "values with the input values.  Compared with autoencoders, we are now\n",
    "producing a probability instead of a functions which mimicks the\n",
    "input.\n",
    "\n",
    "In VAEs, the choice of this output distribution is often Gaussian,\n",
    "meaning that the conditional probability is"
   ]
  },
  {
   "cell_type": "markdown",
   "id": "496c0a83",
   "metadata": {
    "editable": true
   },
   "source": [
    "$$\n",
    "p(\\boldsymbol{x}\\vert\\boldsymbol{h};\\boldsymbol{\\Theta})=N(\\boldsymbol{x}\\vert f(\\boldsymbol{h};\\boldsymbol{\\Theta}), \\sigma^2\\times \\boldsymbol{I}),\n",
    "$$"
   ]
  },
  {
   "cell_type": "markdown",
   "id": "bad21026",
   "metadata": {
    "editable": true
   },
   "source": [
    "with mean value given by the function $f(\\boldsymbol{h};\\boldsymbol{\\Theta})$ and a\n",
    "diagonal covariance matrix multiplied by a parameter $\\sigma^2$ which\n",
    "is treated as a hyperparameter."
   ]
  },
  {
   "cell_type": "markdown",
   "id": "6f644f99",
   "metadata": {
    "editable": true
   },
   "source": [
    "## Gradient descent\n",
    "\n",
    "By having a Gaussian distribution, we can use gradient descent (or any\n",
    "other optimization technique) to increase $p(\\boldsymbol{x};\\boldsymbol{\\Theta})$ by\n",
    "making $f(\\boldsymbol{h};\\boldsymbol{\\Theta})$ approach $\\boldsymbol{x}$ for some $\\boldsymbol{h}$,\n",
    "gradually making the training data more likely under the generative\n",
    "model. The important property is simply that the marginal probability\n",
    "can be computed, and it is continuous in $\\boldsymbol{\\Theta}$."
   ]
  },
  {
   "cell_type": "markdown",
   "id": "3a99ba3a",
   "metadata": {
    "editable": true
   },
   "source": [
    "## Are VAEs just modified autoencoders?\n",
    "\n",
    "The mathematical basis of VAEs actually has relatively little to do\n",
    "with classical autoencoders, for example the sparse autoencoders or\n",
    "denoising autoencoders discussed earlier.\n",
    "\n",
    "VAEs approximately maximize the probability equation discussed\n",
    "above. They are called autoencoders only because the final training\n",
    "objective that derives from this setup does have an encoder and a\n",
    "decoder, and resembles a traditional autoencoder. Unlike sparse\n",
    "autoencoders, there are generally no tuning parameters analogous to\n",
    "the sparsity penalties. And unlike sparse and denoising autoencoders,\n",
    "we can sample directly from $p(\\boldsymbol{x})$ without performing Markov\n",
    "Chain Monte Carlo."
   ]
  },
  {
   "cell_type": "markdown",
   "id": "8e70dccb",
   "metadata": {
    "editable": true
   },
   "source": [
    "## Training VAEs\n",
    "\n",
    "To solve the integral or sum for $p(\\boldsymbol{x})$, there are two problems\n",
    "that VAEs must deal with: how to define the latent variables $\\boldsymbol{h}$,\n",
    "that is decide what information they represent, and how to deal with\n",
    "the integral over $\\boldsymbol{h}$.  VAEs give a definite answer to both."
   ]
  },
  {
   "cell_type": "markdown",
   "id": "82d55471",
   "metadata": {
    "editable": true
   },
   "source": [
    "## Motivation from Kingma and Welling, An Introduction to Variational Autoencoders, <https://arxiv.org/abs/1906.02691>\n",
    "\n",
    "*There are many reasons why generative modeling is attractive. First,\n",
    "we can express physical laws and constraints into the generative\n",
    "process while details that we don’t know or care about, i.e. nuisance\n",
    "variables, are treated as noise. The resulting models are usually\n",
    "highly intuitive and interpretable and by testing them against\n",
    "observations we can confirm or reject our theories about how the world\n",
    "works.  Another reason for trying to understand the generative process\n",
    "of data is that it naturally expresses causal relations of the\n",
    "world. Causal relations have the great advantage that they generalize\n",
    "much better to new situations than mere correlations. For instance,\n",
    "once we understand the generative process of an earthquake, we can use\n",
    "that knowledge both in California and in Chile.*"
   ]
  },
  {
   "cell_type": "markdown",
   "id": "703b2607",
   "metadata": {
    "editable": true
   },
   "source": [
    "## Mathematics of  VAEs\n",
    "\n",
    "We want to train the marginal probability with some latent varrables $\\boldsymbol{h}$"
   ]
  },
  {
   "cell_type": "markdown",
   "id": "3111dd5b",
   "metadata": {
    "editable": true
   },
   "source": [
    "$$\n",
    "p(\\boldsymbol{x};\\boldsymbol{\\Theta}) = \\int d\\boldsymbol{h}p(\\boldsymbol{x},\\boldsymbol{h};\\boldsymbol{\\Theta}),\n",
    "$$"
   ]
  },
  {
   "cell_type": "markdown",
   "id": "408b351e",
   "metadata": {
    "editable": true
   },
   "source": [
    "for the continuous version (see previous slides for the discrete variant)."
   ]
  },
  {
   "cell_type": "markdown",
   "id": "b3cc25b3",
   "metadata": {
    "editable": true
   },
   "source": [
    "## Using the KL divergence\n",
    "\n",
    "In practice, for most $\\boldsymbol{h}$, $p(\\boldsymbol{x}\\vert \\boldsymbol{h}; \\boldsymbol{\\Theta})$\n",
    "will be nearly zero, and hence contributes almost nothing to our\n",
    "estimate of $p(\\boldsymbol{x})$.\n",
    "\n",
    "The key idea behind the variational autoencoder is to attempt to\n",
    "sample values of $\\boldsymbol{h}$ that are likely to have produced $\\boldsymbol{x}$,\n",
    "and compute $p(\\boldsymbol{x})$ just from those.\n",
    "\n",
    "This means that we need a new function $Q(\\boldsymbol{h}|\\boldsymbol{x})$ which can\n",
    "take a value of $\\boldsymbol{x}$ and give us a distribution over $\\boldsymbol{h}$\n",
    "values that are likely to produce $\\boldsymbol{x}$.  Hopefully the space of\n",
    "$\\boldsymbol{h}$ values that are likely under $Q$ will be much smaller than\n",
    "the space of all $\\boldsymbol{h}$'s that are likely under the prior\n",
    "$p(\\boldsymbol{h})$.  This lets us, for example, compute $E_{\\boldsymbol{h}\\sim\n",
    "Q}p(\\boldsymbol{x}\\vert \\boldsymbol{h})$ relatively easily. Note that we drop\n",
    "$\\boldsymbol{\\Theta}$ from here and for notational simplicity."
   ]
  },
  {
   "cell_type": "markdown",
   "id": "30f44304",
   "metadata": {
    "editable": true
   },
   "source": [
    "## Kullback-Leibler again\n",
    "\n",
    "However, if $\\boldsymbol{h}$ is sampled from an arbitrary distribution with\n",
    "PDF $Q(\\boldsymbol{h})$, which is not $\\mathcal{N}(0,I)$, then how does that\n",
    "help us optimize $p(\\boldsymbol{x})$?\n",
    "\n",
    "The first thing we need to do is relate\n",
    "$E_{\\boldsymbol{h}\\sim Q}P(\\boldsymbol{x}\\vert \\boldsymbol{h})$ and $p(\\boldsymbol{x})$.  We will see where $Q$ comes from later.\n",
    "\n",
    "The relationship between $E_{\\boldsymbol{h}\\sim Q}p(\\boldsymbol{x}\\vert \\boldsymbol{h})$ and $p(\\boldsymbol{x})$ is one of the cornerstones of variational Bayesian methods.\n",
    "We begin with the definition of Kullback-Leibler divergence (KL divergence or $\\mathcal{D}$) between $p(\\boldsymbol{h}\\vert \\boldsymbol{x})$ and $Q(\\boldsymbol{h})$, for some arbitrary $Q$ (which may or may not depend on $\\boldsymbol{x}$):"
   ]
  },
  {
   "cell_type": "markdown",
   "id": "7a29a112",
   "metadata": {
    "editable": true
   },
   "source": [
    "$$\n",
    "\\mathcal{D}\\left[Q(\\boldsymbol{h})\\|p(\\boldsymbol{h}|\\boldsymbol{x})\\right]=E_{\\boldsymbol{h}\\sim Q}\\left[\\log Q(\\boldsymbol{h}) - \\log p(\\boldsymbol{h}|\\boldsymbol{x}) \\right].\n",
    "$$"
   ]
  },
  {
   "cell_type": "markdown",
   "id": "740b8994",
   "metadata": {
    "editable": true
   },
   "source": [
    "## And applying Bayes rule\n",
    "\n",
    "We can get both $p(\\boldsymbol{x})$ and $p(\\boldsymbol{x}\\vert \\boldsymbol{h})$ into this equation by applying Bayes rule to $p(\\boldsymbol{h}|\\boldsymbol{x})$"
   ]
  },
  {
   "cell_type": "markdown",
   "id": "c13b3751",
   "metadata": {
    "editable": true
   },
   "source": [
    "$$\n",
    "\\mathcal{D}\\left[Q(\\boldsymbol{h})\\|p(\\boldsymbol{h}\\vert \\boldsymbol{x})\\right]=E_{\\boldsymbol{h}\\sim Q}\\left[\\log Q(\\boldsymbol{h}) - \\log p(\\boldsymbol{x}|\\boldsymbol{h}) - \\log p(\\boldsymbol{h}) \\right] + \\log p(\\boldsymbol{x}).\n",
    "$$"
   ]
  },
  {
   "cell_type": "markdown",
   "id": "3ed860de",
   "metadata": {
    "editable": true
   },
   "source": [
    "Here, $\\log p(\\boldsymbol{x})$ comes out of the expectation because it does not depend on $\\boldsymbol{h}$.\n",
    "Negating both sides, rearranging, and contracting part of $E_{\\boldsymbol{h}\\sim Q}$ into a KL-divergence terms yields:"
   ]
  },
  {
   "cell_type": "markdown",
   "id": "a7388e2d",
   "metadata": {
    "editable": true
   },
   "source": [
    "$$\n",
    "\\log p(\\boldsymbol{x}) - \\mathcal{D}\\left[Q(\\boldsymbol{h})\\|p(\\boldsymbol{h}\\vert \\boldsymbol{x})\\right]=E_{\\boldsymbol{h}\\sim Q}\\left[\\log p(\\boldsymbol{x}\\vert\\boldsymbol{h})  \\right] - \\mathcal{D}\\left[Q(\\boldsymbol{h})\\|P(\\boldsymbol{h})\\right].\n",
    "$$"
   ]
  },
  {
   "cell_type": "markdown",
   "id": "a7f4ab28",
   "metadata": {
    "editable": true
   },
   "source": [
    "## Rearranging\n",
    "\n",
    "Using Bayes rule we obtain"
   ]
  },
  {
   "cell_type": "markdown",
   "id": "db363d77",
   "metadata": {
    "editable": true
   },
   "source": [
    "$$\n",
    "E_{\\boldsymbol{h}\\sim Q}\\left[\\log p(y_i|\\boldsymbol{h},x_i)\\right]=E_{\\boldsymbol{h}\\sim Q}\\left[\\log p(\\boldsymbol{h}|y_i,x_i) - \\log p(\\boldsymbol{h}|x_i) + \\log p(y_i|x_i) \\right]\n",
    "$$"
   ]
  },
  {
   "cell_type": "markdown",
   "id": "a6cdd959",
   "metadata": {
    "editable": true
   },
   "source": [
    "Rearranging the terms and subtracting $E_{\\boldsymbol{h}\\sim Q}\\log Q(\\boldsymbol{h})$ from both sides gives"
   ]
  },
  {
   "cell_type": "markdown",
   "id": "ea4746e0",
   "metadata": {
    "editable": true
   },
   "source": [
    "$$\n",
    "\\begin{array}{c}\n",
    "\\log P(y_i|x_i) - E_{\\boldsymbol{h}\\sim Q}\\left[\\log Q(\\boldsymbol{h})-\\log p(\\boldsymbol{h}|x_i,y_i)\\right]=\\hspace{10em}\\\\\n",
    "\\hspace{10em}E_{\\boldsymbol{h}\\sim Q}\\left[\\log p(y_i|\\boldsymbol{h},x_i)+\\log p(\\boldsymbol{h}|x_i)-\\log Q(\\boldsymbol{h})\\right]\n",
    "\\end{array}\n",
    "$$"
   ]
  },
  {
   "cell_type": "markdown",
   "id": "8384d1b6",
   "metadata": {
    "editable": true
   },
   "source": [
    "Note that $\\boldsymbol{x}$ is fixed, and $Q$ can be \\textit{any} distribution, not\n",
    "just a distribution which does a good job mapping $\\boldsymbol{x}$ to the $\\boldsymbol{h}$'s\n",
    "that can produce $X$."
   ]
  },
  {
   "cell_type": "markdown",
   "id": "aa08cb9c",
   "metadata": {
    "editable": true
   },
   "source": [
    "## Inferring the probability\n",
    "\n",
    "Since we are interested in inferring $p(\\boldsymbol{x})$, it makes sense to\n",
    "construct a $Q$ which \\textit{does} depend on $\\boldsymbol{x}$, and in particular,\n",
    "one which makes $\\mathcal{D}\\left[Q(\\boldsymbol{h})\\|p(\\boldsymbol{h}|\\boldsymbol{x})\\right]$ small"
   ]
  },
  {
   "cell_type": "markdown",
   "id": "0dddea3c",
   "metadata": {
    "editable": true
   },
   "source": [
    "$$\n",
    "\\log p(\\boldsymbol{x}) - \\mathcal{D}\\left[Q(\\boldsymbol{h}|\\boldsymbol{x})\\|p(\\boldsymbol{h}|\\boldsymbol{x})\\right]=E_{\\boldsymbol{h}\\sim Q}\\left[\\log p(\\boldsymbol{x}|\\boldsymbol{h})  \\right] - \\mathcal{D}\\left[Q(\\boldsymbol{h}|\\boldsymbol{x})\\|p(\\boldsymbol{h})\\right].\n",
    "$$"
   ]
  },
  {
   "cell_type": "markdown",
   "id": "762a2d8d",
   "metadata": {
    "editable": true
   },
   "source": [
    "Hence, during training, it makes sense to choose a $Q$ which will make\n",
    "$E_{\\boldsymbol{h}\\sim Q}[\\log Q(\\boldsymbol{h})-$ $\\log p(\\boldsymbol{h}|x_i,y_i)]$ (a\n",
    "$\\mathcal{D}$-divergence) small, such that the right hand side is a\n",
    "close approximation to $\\log p(y_i|y_i)$."
   ]
  },
  {
   "cell_type": "markdown",
   "id": "68a96522",
   "metadata": {
    "editable": true
   },
   "source": [
    "## Central equation of VAEs\n",
    "\n",
    "This equation serves as the core of the variational autoencoder, and\n",
    "it is worth spending some time thinking about what it means.\n",
    "\n",
    "1. The left hand side has the quantity we want to maximize, namely $\\log p(\\boldsymbol{x})$ plus an error term.\n",
    "\n",
    "2. The right hand side is something we can optimize via stochastic gradient descent given the right choice of $Q$."
   ]
  },
  {
   "cell_type": "markdown",
   "id": "95b866da",
   "metadata": {
    "editable": true
   },
   "source": [
    "## Setting up SGD\n",
    "So how can we perform stochastic gradient descent?\n",
    "\n",
    "First we need to be a bit more specific about the form that $Q(\\boldsymbol{h}|\\boldsymbol{x})$\n",
    "will take.  The usual choice is to say that\n",
    "$Q(\\boldsymbol{h}|\\boldsymbol{x})=\\mathcal{N}(\\boldsymbol{h}|\\mu(\\boldsymbol{x};\\vartheta),\\Sigma(;\\vartheta))$, where\n",
    "$\\mu$ and $\\Sigma$ are arbitrary deterministic functions with\n",
    "parameters $\\vartheta$ that can be learned from data (we will omit\n",
    "$\\vartheta$ in later equations).  In practice, $\\mu$ and $\\Sigma$ are\n",
    "again implemented via neural networks, and $\\Sigma$ is constrained to\n",
    "be a diagonal matrix."
   ]
  },
  {
   "cell_type": "markdown",
   "id": "7b3a9416",
   "metadata": {
    "editable": true
   },
   "source": [
    "## More on the SGD\n",
    "\n",
    "The name variational \"autoencoder\" comes from\n",
    "the fact that $\\mu$ and $\\Sigma$ are \"encoding\" $\\boldsymbol{x}$ into the latent\n",
    "space $\\boldsymbol{h}$.  The advantages of this choice are computational, as they\n",
    "make it clear how to compute the right hand side.  The last\n",
    "term---$\\mathcal{D}\\left[Q(\\boldsymbol{h}|\\boldsymbol{x})\\|p(\\boldsymbol{h})\\right]$---is now a KL-divergence\n",
    "between two multivariate Gaussian distributions, which can be computed\n",
    "in closed form as:"
   ]
  },
  {
   "cell_type": "markdown",
   "id": "cf5c1682",
   "metadata": {
    "editable": true
   },
   "source": [
    "$$\n",
    "\\begin{array}{c}\n",
    " \\mathcal{D}[\\mathcal{N}(\\mu_0,\\Sigma_0) \\| \\mathcal{N}(\\mu_1,\\Sigma_1)] = \\hspace{20em}\\\\\n",
    "  \\hspace{5em}\\frac{ 1 }{ 2 } \\left( \\mathrm{tr} \\left( \\Sigma_1^{-1} \\Sigma_0 \\right) + \\left( \\mu_1 - \\mu_0\\right)^\\top \\Sigma_1^{-1} ( \\mu_1 - \\mu_0 ) - k + \\log \\left( \\frac{ \\det \\Sigma_1 }{ \\det \\Sigma_0  } \\right)  \\right)\n",
    "\\end{array}\n",
    "$$"
   ]
  },
  {
   "cell_type": "markdown",
   "id": "e2504f60",
   "metadata": {
    "editable": true
   },
   "source": [
    "where $k$ is the dimensionality of the distribution."
   ]
  },
  {
   "cell_type": "markdown",
   "id": "f5cf9ec5",
   "metadata": {
    "editable": true
   },
   "source": [
    "## Simplification\n",
    "In our case, this simplifies to:"
   ]
  },
  {
   "cell_type": "markdown",
   "id": "69282861",
   "metadata": {
    "editable": true
   },
   "source": [
    "$$\n",
    "\\begin{array}{c}\n",
    " \\mathcal{D}[\\mathcal{N}(\\mu(X),\\Sigma(X)) \\| \\mathcal{N}(0,I)] = \\hspace{20em}\\\\\n",
    "\\hspace{6em}\\frac{ 1 }{ 2 } \\left( \\mathrm{tr} \\left( \\Sigma(X) \\right) + \\left( \\mu(X)\\right)^\\top ( \\mu(X) ) - k - \\log\\det\\left(  \\Sigma(X)  \\right)  \\right).\n",
    "\\end{array}\n",
    "$$"
   ]
  },
  {
   "cell_type": "markdown",
   "id": "a35b2a32",
   "metadata": {
    "editable": true
   },
   "source": [
    "## Terms to compute\n",
    "\n",
    "The first term on the right hand side is a bit more tricky.\n",
    "We could use sampling to estimate $E_{z\\sim Q}\\left[\\log P(X|z)  \\right]$, but getting a good estimate would require passing many samples of $z$ through $f$, which would be expensive.\n",
    "Hence, as is standard in stochastic gradient descent, we take one sample of $z$ and treat $\\log P(X|z)$ for that $z$ as an approximation of $E_{z\\sim Q}\\left[\\log P(X|z)  \\right]$.\n",
    "After all, we are already doing stochastic gradient descent over different values of $X$ sampled from a dataset $D$.\n",
    "The full equation we want to optimize is:"
   ]
  },
  {
   "cell_type": "markdown",
   "id": "80fb13b6",
   "metadata": {
    "editable": true
   },
   "source": [
    "$$\n",
    "\\begin{array}{c}\n",
    "    E_{X\\sim D}\\left[\\log P(X) - \\mathcal{D}\\left[Q(z|X)\\|P(z|X)\\right]\\right]=\\hspace{16em}\\\\\n",
    "\\hspace{10em}E_{X\\sim D}\\left[E_{z\\sim Q}\\left[\\log P(X|z)  \\right] - \\mathcal{D}\\left[Q(z|X)\\|P(z)\\right]\\right].\n",
    "\\end{array}\n",
    "$$"
   ]
  },
  {
   "cell_type": "markdown",
   "id": "b863379f",
   "metadata": {
    "editable": true
   },
   "source": [
    "## Computing the gradients\n",
    "\n",
    "If we take the gradient of this equation, the gradient symbol can be moved into the expectations.\n",
    "Therefore, we can sample a single value of $X$ and a single value of $z$ from the distribution $Q(z|X)$, and compute the gradient of:"
   ]
  },
  {
   "cell_type": "markdown",
   "id": "2697bc8d",
   "metadata": {
    "editable": true
   },
   "source": [
    "<!-- Equation labels as ordinary links -->\n",
    "<div id=\"_auto1\"></div>\n",
    "\n",
    "$$\n",
    "\\begin{equation}\n",
    " \\log P(X|z)-\\mathcal{D}\\left[Q(z|X)\\|P(z)\\right].\n",
    "\\label{_auto1} \\tag{1}\n",
    "\\end{equation}\n",
    "$$"
   ]
  },
  {
   "cell_type": "markdown",
   "id": "6dac3b44",
   "metadata": {
    "editable": true
   },
   "source": [
    "We can then average the gradient of this function over arbitrarily many samples of $X$ and $z$, and the result converges to the gradient.\n",
    "\n",
    "There is, however, a significant problem\n",
    "$E_{z\\sim Q}\\left[\\log P(X|z)  \\right]$ depends not just on the parameters of $P$, but also on the parameters of $Q$.\n",
    "\n",
    "In order to make VAEs work, it is essential to drive $Q$ to produce codes for $X$ that $P$ can reliably decode."
   ]
  },
  {
   "cell_type": "markdown",
   "id": "6e64cde8",
   "metadata": {
    "editable": true
   },
   "source": [
    "$$\n",
    "E_{X\\sim D}\\left[E_{\\epsilon\\sim\\mathcal{N}(0,I)}[\\log P(X|z=\\mu(X)+\\Sigma^{1/2}(X)*\\epsilon)]-\\mathcal{D}\\left[Q(z|X)\\|P(z)\\right]\\right].\n",
    "$$"
   ]
  },
  {
   "cell_type": "markdown",
   "id": "ae8b7700",
   "metadata": {
    "editable": true
   },
   "source": [
    "## Code examples using Keras\n",
    "\n",
    "Code taken from  <https://keras.io/examples/generative/vae/>"
   ]
  },
  {
   "cell_type": "code",
   "execution_count": 1,
   "id": "2ee08d8e",
   "metadata": {
    "collapsed": false,
    "editable": true
   },
   "outputs": [],
   "source": [
    "%matplotlib inline\n",
    "\n",
    "\"\"\"\n",
    "Title: Variational AutoEncoder\n",
    "Author: [fchollet](https://twitter.com/fchollet)\n",
    "Date created: 2020/05/03\n",
    "Last modified: 2023/11/22\n",
    "Description: Convolutional Variational AutoEncoder (VAE) trained on MNIST digits.\n",
    "Accelerator: GPU\n",
    "\"\"\"\n",
    "\n",
    "\"\"\"\n",
    "## Setup\n",
    "\"\"\"\n",
    "\n",
    "import os\n",
    "\n",
    "os.environ[\"KERAS_BACKEND\"] = \"tensorflow\"\n",
    "\n",
    "import numpy as np\n",
    "import tensorflow as tf\n",
    "import keras\n",
    "from keras import layers\n",
    "\n",
    "\"\"\"\n",
    "## Create a sampling layer\n",
    "\"\"\"\n",
    "\n",
    "\n",
    "class Sampling(layers.Layer):\n",
    "    \"\"\"Uses (z_mean, z_log_var) to sample z, the vector encoding a digit.\"\"\"\n",
    "\n",
    "    def call(self, inputs):\n",
    "        z_mean, z_log_var = inputs\n",
    "        batch = tf.shape(z_mean)[0]\n",
    "        dim = tf.shape(z_mean)[1]\n",
    "        epsilon = tf.random.normal(shape=(batch, dim))\n",
    "        return z_mean + tf.exp(0.5 * z_log_var) * epsilon\n",
    "\n",
    "\n",
    "\"\"\"\n",
    "## Build the encoder\n",
    "\"\"\"\n",
    "\n",
    "latent_dim = 2\n",
    "\n",
    "encoder_inputs = keras.Input(shape=(28, 28, 1))\n",
    "x = layers.Conv2D(32, 3, activation=\"relu\", strides=2, padding=\"same\")(encoder_inputs)\n",
    "x = layers.Conv2D(64, 3, activation=\"relu\", strides=2, padding=\"same\")(x)\n",
    "x = layers.Flatten()(x)\n",
    "x = layers.Dense(16, activation=\"relu\")(x)\n",
    "z_mean = layers.Dense(latent_dim, name=\"z_mean\")(x)\n",
    "z_log_var = layers.Dense(latent_dim, name=\"z_log_var\")(x)\n",
    "z = Sampling()([z_mean, z_log_var])\n",
    "encoder = keras.Model(encoder_inputs, [z_mean, z_log_var, z], name=\"encoder\")\n",
    "encoder.summary()\n",
    "\n",
    "\"\"\"\n",
    "## Build the decoder\n",
    "\"\"\"\n",
    "\n",
    "latent_inputs = keras.Input(shape=(latent_dim,))\n",
    "x = layers.Dense(7 * 7 * 64, activation=\"relu\")(latent_inputs)\n",
    "x = layers.Reshape((7, 7, 64))(x)\n",
    "x = layers.Conv2DTranspose(64, 3, activation=\"relu\", strides=2, padding=\"same\")(x)\n",
    "x = layers.Conv2DTranspose(32, 3, activation=\"relu\", strides=2, padding=\"same\")(x)\n",
    "decoder_outputs = layers.Conv2DTranspose(1, 3, activation=\"sigmoid\", padding=\"same\")(x)\n",
    "decoder = keras.Model(latent_inputs, decoder_outputs, name=\"decoder\")\n",
    "decoder.summary()\n",
    "\n",
    "\"\"\"\n",
    "## Define the VAE as a `Model` with a custom `train_step`\n",
    "\"\"\"\n",
    "\n",
    "\n",
    "class VAE(keras.Model):\n",
    "    def __init__(self, encoder, decoder, **kwargs):\n",
    "        super().__init__(**kwargs)\n",
    "        self.encoder = encoder\n",
    "        self.decoder = decoder\n",
    "        self.total_loss_tracker = keras.metrics.Mean(name=\"total_loss\")\n",
    "        self.reconstruction_loss_tracker = keras.metrics.Mean(\n",
    "            name=\"reconstruction_loss\"\n",
    "        )\n",
    "        self.kl_loss_tracker = keras.metrics.Mean(name=\"kl_loss\")\n",
    "\n",
    "    @property\n",
    "    def metrics(self):\n",
    "        return [\n",
    "            self.total_loss_tracker,\n",
    "            self.reconstruction_loss_tracker,\n",
    "            self.kl_loss_tracker,\n",
    "        ]\n",
    "\n",
    "    def train_step(self, data):\n",
    "        with tf.GradientTape() as tape:\n",
    "            z_mean, z_log_var, z = self.encoder(data)\n",
    "            reconstruction = self.decoder(z)\n",
    "            reconstruction_loss = tf.reduce_mean(\n",
    "                tf.reduce_sum(\n",
    "                    keras.losses.binary_crossentropy(data, reconstruction),\n",
    "                    axis=(1, 2),\n",
    "                )\n",
    "            )\n",
    "            kl_loss = -0.5 * (1 + z_log_var - tf.square(z_mean) - tf.exp(z_log_var))\n",
    "            kl_loss = tf.reduce_mean(tf.reduce_sum(kl_loss, axis=1))\n",
    "            total_loss = reconstruction_loss + kl_loss\n",
    "        grads = tape.gradient(total_loss, self.trainable_weights)\n",
    "        self.optimizer.apply_gradients(zip(grads, self.trainable_weights))\n",
    "        self.total_loss_tracker.update_state(total_loss)\n",
    "        self.reconstruction_loss_tracker.update_state(reconstruction_loss)\n",
    "        self.kl_loss_tracker.update_state(kl_loss)\n",
    "        return {\n",
    "            \"loss\": self.total_loss_tracker.result(),\n",
    "            \"reconstruction_loss\": self.reconstruction_loss_tracker.result(),\n",
    "            \"kl_loss\": self.kl_loss_tracker.result(),\n",
    "        }\n",
    "\n",
    "\n",
    "\"\"\"\n",
    "## Train the VAE\n",
    "\"\"\"\n",
    "\n",
    "(x_train, _), (x_test, _) = keras.datasets.mnist.load_data()\n",
    "mnist_digits = np.concatenate([x_train, x_test], axis=0)\n",
    "mnist_digits = np.expand_dims(mnist_digits, -1).astype(\"float32\") / 255\n",
    "\n",
    "vae = VAE(encoder, decoder)\n",
    "vae.compile(optimizer=keras.optimizers.Adam())\n",
    "vae.fit(mnist_digits, epochs=30, batch_size=128)\n",
    "\n",
    "\"\"\"\n",
    "## Display a grid of sampled digits\n",
    "\"\"\"\n",
    "\n",
    "import matplotlib.pyplot as plt\n",
    "\n",
    "\n",
    "def plot_latent_space(vae, n=30, figsize=15):\n",
    "    # display a n*n 2D manifold of digits\n",
    "    digit_size = 28\n",
    "    scale = 1.0\n",
    "    figure = np.zeros((digit_size * n, digit_size * n))\n",
    "    # linearly spaced coordinates corresponding to the 2D plot\n",
    "    # of digit classes in the latent space\n",
    "    grid_x = np.linspace(-scale, scale, n)\n",
    "    grid_y = np.linspace(-scale, scale, n)[::-1]\n",
    "\n",
    "    for i, yi in enumerate(grid_y):\n",
    "        for j, xi in enumerate(grid_x):\n",
    "            z_sample = np.array([[xi, yi]])\n",
    "            x_decoded = vae.decoder.predict(z_sample, verbose=0)\n",
    "            digit = x_decoded[0].reshape(digit_size, digit_size)\n",
    "            figure[\n",
    "                i * digit_size : (i + 1) * digit_size,\n",
    "                j * digit_size : (j + 1) * digit_size,\n",
    "            ] = digit\n",
    "\n",
    "    plt.figure(figsize=(figsize, figsize))\n",
    "    start_range = digit_size // 2\n",
    "    end_range = n * digit_size + start_range\n",
    "    pixel_range = np.arange(start_range, end_range, digit_size)\n",
    "    sample_range_x = np.round(grid_x, 1)\n",
    "    sample_range_y = np.round(grid_y, 1)\n",
    "    plt.xticks(pixel_range, sample_range_x)\n",
    "    plt.yticks(pixel_range, sample_range_y)\n",
    "    plt.xlabel(\"z[0]\")\n",
    "    plt.ylabel(\"z[1]\")\n",
    "    plt.imshow(figure, cmap=\"Greys_r\")\n",
    "    plt.show()\n",
    "\n",
    "\n",
    "plot_latent_space(vae)\n",
    "\n",
    "\"\"\"\n",
    "## Display how the latent space clusters different digit classes\n",
    "\"\"\"\n",
    "\n",
    "\n",
    "def plot_label_clusters(vae, data, labels):\n",
    "    # display a 2D plot of the digit classes in the latent space\n",
    "    z_mean, _, _ = vae.encoder.predict(data, verbose=0)\n",
    "    plt.figure(figsize=(12, 10))\n",
    "    plt.scatter(z_mean[:, 0], z_mean[:, 1], c=labels)\n",
    "    plt.colorbar()\n",
    "    plt.xlabel(\"z[0]\")\n",
    "    plt.ylabel(\"z[1]\")\n",
    "    plt.show()\n",
    "\n",
    "\n",
    "(x_train, y_train), _ = keras.datasets.mnist.load_data()\n",
    "x_train = np.expand_dims(x_train, -1).astype(\"float32\") / 255\n",
    "\n",
    "plot_label_clusters(vae, x_train, y_train)"
   ]
  },
  {
   "cell_type": "markdown",
   "id": "b00e64c2",
   "metadata": {
    "editable": true
   },
   "source": [
    "## Code in PyTorch for VAEs"
   ]
  },
  {
   "cell_type": "code",
   "execution_count": 2,
   "id": "40e4890e",
   "metadata": {
    "collapsed": false,
    "editable": true
   },
   "outputs": [],
   "source": [
    "import torch\n",
    "from torch.autograd import Variable\n",
    "import numpy as np\n",
    "import torch.nn.functional as F\n",
    "import torchvision\n",
    "from torchvision import transforms\n",
    "import torch.optim as optim\n",
    "from torch import nn\n",
    "import matplotlib.pyplot as plt\n",
    "from torch import distributions\n",
    "\n",
    "class Encoder(torch.nn.Module):\n",
    "    def __init__(self, D_in, H, latent_size):\n",
    "        super(Encoder, self).__init__()\n",
    "        self.linear1 = torch.nn.Linear(D_in, H)\n",
    "        self.linear2 = torch.nn.Linear(H, H)\n",
    "        self.enc_mu = torch.nn.Linear(H, latent_size)\n",
    "        self.enc_log_sigma = torch.nn.Linear(H, latent_size)\n",
    "\n",
    "    def forward(self, x):\n",
    "        x = F.relu(self.linear1(x))\n",
    "        x = F.relu(self.linear2(x))\n",
    "        mu = self.enc_mu(x)\n",
    "        log_sigma = self.enc_log_sigma(x)\n",
    "        sigma = torch.exp(log_sigma)\n",
    "        return torch.distributions.Normal(loc=mu, scale=sigma)\n",
    "\n",
    "\n",
    "class Decoder(torch.nn.Module):\n",
    "    def __init__(self, D_in, H, D_out):\n",
    "        super(Decoder, self).__init__()\n",
    "        self.linear1 = torch.nn.Linear(D_in, H)\n",
    "        self.linear2 = torch.nn.Linear(H, D_out)\n",
    "        \n",
    "\n",
    "    def forward(self, x):\n",
    "        x = F.relu(self.linear1(x))\n",
    "        mu = torch.tanh(self.linear2(x))\n",
    "        return torch.distributions.Normal(mu, torch.ones_like(mu))\n",
    "\n",
    "class VAE(torch.nn.Module):\n",
    "    def __init__(self, encoder, decoder):\n",
    "        super(VAE, self).__init__()\n",
    "        self.encoder = encoder\n",
    "        self.decoder = decoder\n",
    "\n",
    "    def forward(self, state):\n",
    "        q_z = self.encoder(state)\n",
    "        z = q_z.rsample()\n",
    "        return self.decoder(z), q_z\n",
    "\n",
    "\n",
    "transform = transforms.Compose(\n",
    "    [transforms.ToTensor(),\n",
    "     # Normalize the images to be -0.5, 0.5\n",
    "     transforms.Normalize(0.5, 1)]\n",
    "    )\n",
    "mnist = torchvision.datasets.MNIST('./', download=True, transform=transform)\n",
    "\n",
    "input_dim = 28 * 28\n",
    "batch_size = 128\n",
    "num_epochs = 100\n",
    "learning_rate = 0.001\n",
    "hidden_size = 512\n",
    "latent_size = 8\n",
    "\n",
    "if torch.cuda.is_available():\n",
    "    device = torch.device('cuda')\n",
    "else:\n",
    "    device = torch.device('cpu')\n",
    "\n",
    "dataloader = torch.utils.data.DataLoader(\n",
    "    mnist, batch_size=batch_size,\n",
    "    shuffle=True, \n",
    "    pin_memory=torch.cuda.is_available())\n",
    "\n",
    "print('Number of samples: ', len(mnist))\n",
    "\n",
    "encoder = Encoder(input_dim, hidden_size, latent_size)\n",
    "decoder = Decoder(latent_size, hidden_size, input_dim)\n",
    "\n",
    "vae = VAE(encoder, decoder).to(device)\n",
    "\n",
    "optimizer = optim.Adam(vae.parameters(), lr=learning_rate)\n",
    "for epoch in range(num_epochs):\n",
    "    for data in dataloader:\n",
    "        inputs, _ = data\n",
    "        inputs = inputs.view(-1, input_dim).to(device)\n",
    "        optimizer.zero_grad()\n",
    "        p_x, q_z = vae(inputs)\n",
    "        log_likelihood = p_x.log_prob(inputs).sum(-1).mean()\n",
    "        kl = torch.distributions.kl_divergence(\n",
    "            q_z, \n",
    "            torch.distributions.Normal(0, 1.)\n",
    "        ).sum(-1).mean()\n",
    "        loss = -(log_likelihood - kl)\n",
    "        loss.backward()\n",
    "        optimizer.step()\n",
    "        l = loss.item()\n",
    "    print(epoch, l, log_likelihood.item(), kl.item())"
   ]
  }
 ],
 "metadata": {},
 "nbformat": 4,
 "nbformat_minor": 5
}
