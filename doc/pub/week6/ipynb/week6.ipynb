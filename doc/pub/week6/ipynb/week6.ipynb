{
 "cells": [
  {
   "cell_type": "markdown",
   "id": "e47dac75",
   "metadata": {},
   "source": [
    "<!-- HTML file automatically generated from DocOnce source (https://github.com/doconce/doconce/)\n",
    "doconce format html week6.do.txt --no_mako -->\n",
    "<!-- dom:TITLE: Advanced machine learning and data analysis for the physical sciences -->"
   ]
  },
  {
   "cell_type": "markdown",
   "id": "84533397",
   "metadata": {},
   "source": [
    "# Advanced machine learning and data analysis for the physical sciences\n",
    "**Morten Hjorth-Jensen**, Department of Physics and Center for Computing in Science Education, University of Oslo, Norway\n",
    "\n",
    "Date: **February 27, 2025**"
   ]
  },
  {
   "cell_type": "markdown",
   "id": "9a8e5421",
   "metadata": {},
   "source": [
    "## Plans for the week February 24-28, 2025\n",
    "\n",
    "1. Intro to and mathematics of  Recurrent Neural Networks (RNNs)\n",
    "<!-- o [Video of lecture](https://youtu.be/DhuQ1H9RwfQ) -->\n",
    "<!-- o [Whiteboard notes](https://github.com/CompPhysics/AdvancedMachineLearning/blob/main/doc/HandwrittenNotes/2025/NotesFebruary13.pdf) -->"
   ]
  },
  {
   "cell_type": "markdown",
   "id": "82adcdae",
   "metadata": {},
   "source": [
    "## Reading recommendations\n",
    "\n",
    "1. For RNNs, see Goodfellow et al chapter 10.\n",
    "\n",
    "2. Reading suggestions for implementation of RNNs in PyTorch: [See Rashcka et al.'s chapter 15 and GitHub site](https://github.com/rasbt/machine-learning-book/tree/main/ch15)."
   ]
  },
  {
   "cell_type": "markdown",
   "id": "61bd8651",
   "metadata": {},
   "source": [
    "## TensorFlow examples\n",
    "For TensorFlow (using Keras) implementations, we recommend\n",
    "1. [David Foster Generative Learning, see chapters 2 and 3 from the GitHub link](https://github.com/davidADSP/Generative_Deep_Learning_2nd_Edition/tree/main/notebooks/02_deeplearning/02_cnn)\n",
    "\n",
    "2. [Joseph Babcock and Raghav Bali Generative AI with Python and their GitHub link, chapter 3](https://github.com/raghavbali/generative_ai_with_tensorflow)"
   ]
  },
  {
   "cell_type": "markdown",
   "id": "94c10929",
   "metadata": {},
   "source": [
    "## From NNs and CNNs to recurrent neural networks (RNNs)\n",
    "\n",
    "There are limitation of NNs, one of which being that FFNNs are not\n",
    "designed to handle sequential data (data for which the order matters)\n",
    "effectively because they lack the capabilities of storing information\n",
    "about previous inputs; each input is being treated indepen-\n",
    "dently. This is a limitation when dealing with sequential data where\n",
    "past information can be vital to correctly process current and future\n",
    "inputs."
   ]
  },
  {
   "cell_type": "markdown",
   "id": "c842dce8",
   "metadata": {},
   "source": [
    "## Feedback connections\n",
    "\n",
    "In contrast to NNs, recurrent networks introduce feedback\n",
    "connections, meaning the information is allowed to be carried to\n",
    "subsequent nodes across different time steps. These cyclic or feedback\n",
    "connections have the objective of providing the network with some kind\n",
    "of memory, making RNNs particularly suited for time- series data,\n",
    "natural language processing, speech recognition, and several other\n",
    "problems for which the order of the data is crucial.  The RNN\n",
    "architectures vary greatly in how they manage information flow and\n",
    "memory in the network."
   ]
  },
  {
   "cell_type": "markdown",
   "id": "6544f044",
   "metadata": {},
   "source": [
    "## Vanishing gradients\n",
    "\n",
    "Different architectures often aim at improving\n",
    "some sub-optimal characteristics of the network. The simplest form of\n",
    "recurrent network, commonly called simple or vanilla RNN, for example,\n",
    "is known to suffer from the problem of vanishing gradients. This\n",
    "problem arises due to the nature of backpropagation in time. Gradients\n",
    "of the cost/loss function may get exponentially small (or large) if\n",
    "there are many layers in the network, which is the case of RNN when\n",
    "the sequence gets long."
   ]
  },
  {
   "cell_type": "markdown",
   "id": "9dbe1f3e",
   "metadata": {},
   "source": [
    "## Recurrent neural networks (RNNs): Overarching view\n",
    "\n",
    "Till now our focus has been, including convolutional neural networks\n",
    "as well, on feedforward neural networks. The output or the activations\n",
    "flow only in one direction, from the input layer to the output layer.\n",
    "\n",
    "A recurrent neural network (RNN) looks very much like a feedforward\n",
    "neural network, except that it also has connections pointing\n",
    "backward. \n",
    "\n",
    "RNNs are used to analyze time series data such as stock prices, and\n",
    "tell you when to buy or sell. In autonomous driving systems, they can\n",
    "anticipate car trajectories and help avoid accidents. More generally,\n",
    "they can work on sequences of arbitrary lengths, rather than on\n",
    "fixed-sized inputs like all the nets we have discussed so far. For\n",
    "example, they can take sentences, documents, or audio samples as\n",
    "input, making them extremely useful for natural language processing\n",
    "systems such as automatic translation and speech-to-text."
   ]
  },
  {
   "cell_type": "markdown",
   "id": "dce2772c",
   "metadata": {},
   "source": [
    "## Sequential data only?\n",
    "\n",
    "An important issue is that in many deep learning methods we assume\n",
    "that the input and output data can be treated as independent and\n",
    "identically distributed, normally abbreviated to **iid**.\n",
    "This means that the data we use can be seen as mutually independent.\n",
    "\n",
    "This is however not the case for most data sets used in RNNs since we\n",
    "are dealing with sequences of data with strong inter-dependencies.\n",
    "This applies in particular to time series, which are sequential by\n",
    "contruction."
   ]
  },
  {
   "cell_type": "markdown",
   "id": "153c41b4",
   "metadata": {},
   "source": [
    "## Differential equations\n",
    "\n",
    "As an example, the solutions of ordinary differential equations can be\n",
    "represented as a time series, similarly, how stock prices evolve as\n",
    "function of time is another example of a typical time series, or voice\n",
    "records and many other examples.\n",
    "\n",
    "Not all sequential data may however have a time stamp, texts being a\n",
    "typical example thereof, or DNA sequences.\n",
    "\n",
    "The main focus here is on data that can be structured either as time\n",
    "series or as ordered series of data.  We will not focus on for example\n",
    "natural language processing or similar data sets."
   ]
  },
  {
   "cell_type": "markdown",
   "id": "dfffa176",
   "metadata": {},
   "source": [
    "## A simple regression example using TensorFlow with Keras"
   ]
  },
  {
   "cell_type": "code",
   "execution_count": 1,
   "id": "4401d77b",
   "metadata": {},
   "outputs": [
    {
     "name": "stderr",
     "output_type": "stream",
     "text": [
      "/Users/mhjensen/miniforge3/envs/myenv/lib/python3.9/site-packages/keras/src/layers/rnn/rnn.py:204: UserWarning: Do not pass an `input_shape`/`input_dim` argument to a layer. When using Sequential models, prefer using an `Input(shape)` object as the first layer in the model instead.\n",
      "  super().__init__(**kwargs)\n"
     ]
    },
    {
     "data": {
      "text/html": [
       "<pre style=\"white-space:pre;overflow-x:auto;line-height:normal;font-family:Menlo,'DejaVu Sans Mono',consolas,'Courier New',monospace\"><span style=\"font-weight: bold\">Model: \"sequential\"</span>\n",
       "</pre>\n"
      ],
      "text/plain": [
       "\u001b[1mModel: \"sequential\"\u001b[0m\n"
      ]
     },
     "metadata": {},
     "output_type": "display_data"
    },
    {
     "data": {
      "text/html": [
       "<pre style=\"white-space:pre;overflow-x:auto;line-height:normal;font-family:Menlo,'DejaVu Sans Mono',consolas,'Courier New',monospace\">┏━━━━━━━━━━━━━━━━━━━━━━━━━━━━━━━━━┳━━━━━━━━━━━━━━━━━━━━━━━━┳━━━━━━━━━━━━━━━┓\n",
       "┃<span style=\"font-weight: bold\"> Layer (type)                    </span>┃<span style=\"font-weight: bold\"> Output Shape           </span>┃<span style=\"font-weight: bold\">       Param # </span>┃\n",
       "┡━━━━━━━━━━━━━━━━━━━━━━━━━━━━━━━━━╇━━━━━━━━━━━━━━━━━━━━━━━━╇━━━━━━━━━━━━━━━┩\n",
       "│ simple_rnn (<span style=\"color: #0087ff; text-decoration-color: #0087ff\">SimpleRNN</span>)          │ (<span style=\"color: #00d7ff; text-decoration-color: #00d7ff\">None</span>, <span style=\"color: #00af00; text-decoration-color: #00af00\">32</span>)             │         <span style=\"color: #00af00; text-decoration-color: #00af00\">1,184</span> │\n",
       "├─────────────────────────────────┼────────────────────────┼───────────────┤\n",
       "│ dense (<span style=\"color: #0087ff; text-decoration-color: #0087ff\">Dense</span>)                   │ (<span style=\"color: #00d7ff; text-decoration-color: #00d7ff\">None</span>, <span style=\"color: #00af00; text-decoration-color: #00af00\">8</span>)              │           <span style=\"color: #00af00; text-decoration-color: #00af00\">264</span> │\n",
       "├─────────────────────────────────┼────────────────────────┼───────────────┤\n",
       "│ dense_1 (<span style=\"color: #0087ff; text-decoration-color: #0087ff\">Dense</span>)                 │ (<span style=\"color: #00d7ff; text-decoration-color: #00d7ff\">None</span>, <span style=\"color: #00af00; text-decoration-color: #00af00\">1</span>)              │             <span style=\"color: #00af00; text-decoration-color: #00af00\">9</span> │\n",
       "└─────────────────────────────────┴────────────────────────┴───────────────┘\n",
       "</pre>\n"
      ],
      "text/plain": [
       "┏━━━━━━━━━━━━━━━━━━━━━━━━━━━━━━━━━┳━━━━━━━━━━━━━━━━━━━━━━━━┳━━━━━━━━━━━━━━━┓\n",
       "┃\u001b[1m \u001b[0m\u001b[1mLayer (type)                   \u001b[0m\u001b[1m \u001b[0m┃\u001b[1m \u001b[0m\u001b[1mOutput Shape          \u001b[0m\u001b[1m \u001b[0m┃\u001b[1m \u001b[0m\u001b[1m      Param #\u001b[0m\u001b[1m \u001b[0m┃\n",
       "┡━━━━━━━━━━━━━━━━━━━━━━━━━━━━━━━━━╇━━━━━━━━━━━━━━━━━━━━━━━━╇━━━━━━━━━━━━━━━┩\n",
       "│ simple_rnn (\u001b[38;5;33mSimpleRNN\u001b[0m)          │ (\u001b[38;5;45mNone\u001b[0m, \u001b[38;5;34m32\u001b[0m)             │         \u001b[38;5;34m1,184\u001b[0m │\n",
       "├─────────────────────────────────┼────────────────────────┼───────────────┤\n",
       "│ dense (\u001b[38;5;33mDense\u001b[0m)                   │ (\u001b[38;5;45mNone\u001b[0m, \u001b[38;5;34m8\u001b[0m)              │           \u001b[38;5;34m264\u001b[0m │\n",
       "├─────────────────────────────────┼────────────────────────┼───────────────┤\n",
       "│ dense_1 (\u001b[38;5;33mDense\u001b[0m)                 │ (\u001b[38;5;45mNone\u001b[0m, \u001b[38;5;34m1\u001b[0m)              │             \u001b[38;5;34m9\u001b[0m │\n",
       "└─────────────────────────────────┴────────────────────────┴───────────────┘\n"
      ]
     },
     "metadata": {},
     "output_type": "display_data"
    },
    {
     "data": {
      "text/html": [
       "<pre style=\"white-space:pre;overflow-x:auto;line-height:normal;font-family:Menlo,'DejaVu Sans Mono',consolas,'Courier New',monospace\"><span style=\"font-weight: bold\"> Total params: </span><span style=\"color: #00af00; text-decoration-color: #00af00\">1,457</span> (5.69 KB)\n",
       "</pre>\n"
      ],
      "text/plain": [
       "\u001b[1m Total params: \u001b[0m\u001b[38;5;34m1,457\u001b[0m (5.69 KB)\n"
      ]
     },
     "metadata": {},
     "output_type": "display_data"
    },
    {
     "data": {
      "text/html": [
       "<pre style=\"white-space:pre;overflow-x:auto;line-height:normal;font-family:Menlo,'DejaVu Sans Mono',consolas,'Courier New',monospace\"><span style=\"font-weight: bold\"> Trainable params: </span><span style=\"color: #00af00; text-decoration-color: #00af00\">1,457</span> (5.69 KB)\n",
       "</pre>\n"
      ],
      "text/plain": [
       "\u001b[1m Trainable params: \u001b[0m\u001b[38;5;34m1,457\u001b[0m (5.69 KB)\n"
      ]
     },
     "metadata": {},
     "output_type": "display_data"
    },
    {
     "data": {
      "text/html": [
       "<pre style=\"white-space:pre;overflow-x:auto;line-height:normal;font-family:Menlo,'DejaVu Sans Mono',consolas,'Courier New',monospace\"><span style=\"font-weight: bold\"> Non-trainable params: </span><span style=\"color: #00af00; text-decoration-color: #00af00\">0</span> (0.00 B)\n",
       "</pre>\n"
      ],
      "text/plain": [
       "\u001b[1m Non-trainable params: \u001b[0m\u001b[38;5;34m0\u001b[0m (0.00 B)\n"
      ]
     },
     "metadata": {},
     "output_type": "display_data"
    },
    {
     "name": "stdout",
     "output_type": "stream",
     "text": [
      "Epoch 1/100\n",
      "50/50 - 1s - 21ms/step - loss: 0.5779\n",
      "Epoch 2/100\n",
      "50/50 - 0s - 7ms/step - loss: 0.4268\n",
      "Epoch 3/100\n",
      "50/50 - 0s - 7ms/step - loss: 0.4215\n",
      "Epoch 4/100\n",
      "50/50 - 0s - 7ms/step - loss: 0.4217\n",
      "Epoch 5/100\n",
      "50/50 - 0s - 8ms/step - loss: 0.4168\n",
      "Epoch 6/100\n",
      "50/50 - 0s - 8ms/step - loss: 0.4166\n",
      "Epoch 7/100\n",
      "50/50 - 0s - 8ms/step - loss: 0.4152\n",
      "Epoch 8/100\n",
      "50/50 - 0s - 8ms/step - loss: 0.4144\n",
      "Epoch 9/100\n",
      "50/50 - 0s - 8ms/step - loss: 0.4131\n",
      "Epoch 10/100\n",
      "50/50 - 0s - 8ms/step - loss: 0.4128\n",
      "Epoch 11/100\n",
      "50/50 - 0s - 8ms/step - loss: 0.4121\n",
      "Epoch 12/100\n",
      "50/50 - 0s - 8ms/step - loss: 0.4111\n",
      "Epoch 13/100\n",
      "50/50 - 0s - 8ms/step - loss: 0.4111\n",
      "Epoch 14/100\n",
      "50/50 - 0s - 9ms/step - loss: 0.4101\n",
      "Epoch 15/100\n",
      "50/50 - 1s - 14ms/step - loss: 0.4094\n",
      "Epoch 16/100\n",
      "50/50 - 0s - 9ms/step - loss: 0.4067\n",
      "Epoch 17/100\n",
      "50/50 - 0s - 9ms/step - loss: 0.4094\n",
      "Epoch 18/100\n",
      "50/50 - 0s - 9ms/step - loss: 0.4075\n",
      "Epoch 19/100\n",
      "50/50 - 1s - 10ms/step - loss: 0.4067\n",
      "Epoch 20/100\n",
      "50/50 - 0s - 8ms/step - loss: 0.4053\n",
      "Epoch 21/100\n",
      "50/50 - 0s - 8ms/step - loss: 0.4066\n",
      "Epoch 22/100\n",
      "50/50 - 0s - 9ms/step - loss: 0.4043\n",
      "Epoch 23/100\n",
      "50/50 - 0s - 7ms/step - loss: 0.4050\n",
      "Epoch 24/100\n",
      "50/50 - 0s - 7ms/step - loss: 0.4045\n",
      "Epoch 25/100\n",
      "50/50 - 0s - 7ms/step - loss: 0.4034\n",
      "Epoch 26/100\n",
      "50/50 - 0s - 7ms/step - loss: 0.4035\n",
      "Epoch 27/100\n",
      "50/50 - 0s - 7ms/step - loss: 0.4012\n",
      "Epoch 28/100\n",
      "50/50 - 0s - 7ms/step - loss: 0.4024\n",
      "Epoch 29/100\n",
      "50/50 - 0s - 7ms/step - loss: 0.4017\n",
      "Epoch 30/100\n",
      "50/50 - 0s - 7ms/step - loss: 0.4000\n",
      "Epoch 31/100\n",
      "50/50 - 0s - 7ms/step - loss: 0.4004\n",
      "Epoch 32/100\n",
      "50/50 - 0s - 7ms/step - loss: 0.3991\n",
      "Epoch 33/100\n",
      "50/50 - 0s - 7ms/step - loss: 0.3995\n",
      "Epoch 34/100\n",
      "50/50 - 0s - 7ms/step - loss: 0.3967\n",
      "Epoch 35/100\n",
      "50/50 - 0s - 7ms/step - loss: 0.3981\n",
      "Epoch 36/100\n",
      "50/50 - 0s - 7ms/step - loss: 0.3972\n",
      "Epoch 37/100\n",
      "50/50 - 0s - 7ms/step - loss: 0.3963\n",
      "Epoch 38/100\n",
      "50/50 - 0s - 7ms/step - loss: 0.3974\n",
      "Epoch 39/100\n",
      "50/50 - 0s - 7ms/step - loss: 0.3959\n",
      "Epoch 40/100\n",
      "50/50 - 0s - 7ms/step - loss: 0.3963\n",
      "Epoch 41/100\n",
      "50/50 - 0s - 7ms/step - loss: 0.3936\n",
      "Epoch 42/100\n",
      "50/50 - 0s - 7ms/step - loss: 0.3951\n",
      "Epoch 43/100\n",
      "50/50 - 0s - 7ms/step - loss: 0.3928\n",
      "Epoch 44/100\n",
      "50/50 - 0s - 7ms/step - loss: 0.3945\n",
      "Epoch 45/100\n",
      "50/50 - 0s - 7ms/step - loss: 0.3925\n",
      "Epoch 46/100\n",
      "50/50 - 0s - 7ms/step - loss: 0.3927\n",
      "Epoch 47/100\n",
      "50/50 - 0s - 7ms/step - loss: 0.3912\n",
      "Epoch 48/100\n",
      "50/50 - 0s - 7ms/step - loss: 0.3905\n",
      "Epoch 49/100\n",
      "50/50 - 0s - 7ms/step - loss: 0.3896\n",
      "Epoch 50/100\n",
      "50/50 - 0s - 7ms/step - loss: 0.3899\n",
      "Epoch 51/100\n",
      "50/50 - 0s - 7ms/step - loss: 0.3902\n",
      "Epoch 52/100\n",
      "50/50 - 0s - 7ms/step - loss: 0.3878\n",
      "Epoch 53/100\n",
      "50/50 - 0s - 7ms/step - loss: 0.3897\n",
      "Epoch 54/100\n",
      "50/50 - 0s - 7ms/step - loss: 0.3878\n",
      "Epoch 55/100\n",
      "50/50 - 0s - 7ms/step - loss: 0.3873\n",
      "Epoch 56/100\n",
      "50/50 - 0s - 7ms/step - loss: 0.3862\n",
      "Epoch 57/100\n",
      "50/50 - 0s - 7ms/step - loss: 0.3887\n",
      "Epoch 58/100\n",
      "50/50 - 0s - 7ms/step - loss: 0.3856\n",
      "Epoch 59/100\n",
      "50/50 - 0s - 7ms/step - loss: 0.3869\n",
      "Epoch 60/100\n",
      "50/50 - 0s - 10ms/step - loss: 0.3855\n",
      "Epoch 61/100\n",
      "50/50 - 0s - 9ms/step - loss: 0.3865\n",
      "Epoch 62/100\n",
      "50/50 - 0s - 7ms/step - loss: 0.3852\n",
      "Epoch 63/100\n",
      "50/50 - 0s - 7ms/step - loss: 0.3839\n",
      "Epoch 64/100\n",
      "50/50 - 0s - 7ms/step - loss: 0.3841\n",
      "Epoch 65/100\n",
      "50/50 - 0s - 7ms/step - loss: 0.3852\n",
      "Epoch 66/100\n",
      "50/50 - 0s - 7ms/step - loss: 0.3819\n",
      "Epoch 67/100\n",
      "50/50 - 0s - 7ms/step - loss: 0.3830\n",
      "Epoch 68/100\n",
      "50/50 - 0s - 7ms/step - loss: 0.3826\n",
      "Epoch 69/100\n",
      "50/50 - 0s - 7ms/step - loss: 0.3824\n",
      "Epoch 70/100\n",
      "50/50 - 0s - 7ms/step - loss: 0.3807\n",
      "Epoch 71/100\n",
      "50/50 - 0s - 7ms/step - loss: 0.3842\n",
      "Epoch 72/100\n",
      "50/50 - 0s - 7ms/step - loss: 0.3808\n",
      "Epoch 73/100\n",
      "50/50 - 0s - 7ms/step - loss: 0.3815\n",
      "Epoch 74/100\n",
      "50/50 - 0s - 7ms/step - loss: 0.3794\n",
      "Epoch 75/100\n",
      "50/50 - 0s - 7ms/step - loss: 0.3813\n",
      "Epoch 76/100\n",
      "50/50 - 0s - 7ms/step - loss: 0.3800\n",
      "Epoch 77/100\n",
      "50/50 - 0s - 7ms/step - loss: 0.3797\n",
      "Epoch 78/100\n",
      "50/50 - 0s - 7ms/step - loss: 0.3811\n",
      "Epoch 79/100\n",
      "50/50 - 0s - 7ms/step - loss: 0.3797\n",
      "Epoch 80/100\n",
      "50/50 - 0s - 7ms/step - loss: 0.3788\n",
      "Epoch 81/100\n",
      "50/50 - 0s - 7ms/step - loss: 0.3784\n",
      "Epoch 82/100\n",
      "50/50 - 0s - 7ms/step - loss: 0.3770\n",
      "Epoch 83/100\n",
      "50/50 - 0s - 7ms/step - loss: 0.3778\n",
      "Epoch 84/100\n",
      "50/50 - 0s - 7ms/step - loss: 0.3777\n",
      "Epoch 85/100\n",
      "50/50 - 0s - 7ms/step - loss: 0.3785\n",
      "Epoch 86/100\n",
      "50/50 - 0s - 7ms/step - loss: 0.3760\n",
      "Epoch 87/100\n",
      "50/50 - 0s - 7ms/step - loss: 0.3775\n",
      "Epoch 88/100\n",
      "50/50 - 0s - 7ms/step - loss: 0.3764\n",
      "Epoch 89/100\n",
      "50/50 - 0s - 7ms/step - loss: 0.3771\n",
      "Epoch 90/100\n",
      "50/50 - 0s - 7ms/step - loss: 0.3749\n",
      "Epoch 91/100\n",
      "50/50 - 0s - 7ms/step - loss: 0.3758\n",
      "Epoch 92/100\n",
      "50/50 - 0s - 7ms/step - loss: 0.3764\n",
      "Epoch 93/100\n",
      "50/50 - 0s - 7ms/step - loss: 0.3756\n",
      "Epoch 94/100\n",
      "50/50 - 0s - 7ms/step - loss: 0.3744\n",
      "Epoch 95/100\n",
      "50/50 - 0s - 7ms/step - loss: 0.3751\n",
      "Epoch 96/100\n",
      "50/50 - 0s - 7ms/step - loss: 0.3739\n",
      "Epoch 97/100\n",
      "50/50 - 0s - 7ms/step - loss: 0.3748\n",
      "Epoch 98/100\n",
      "50/50 - 0s - 7ms/step - loss: 0.3738\n",
      "Epoch 99/100\n",
      "50/50 - 0s - 7ms/step - loss: 0.3742\n",
      "Epoch 100/100\n",
      "50/50 - 0s - 7ms/step - loss: 0.3744\n",
      "\u001b[1m25/25\u001b[0m \u001b[32m━━━━━━━━━━━━━━━━━━━━\u001b[0m\u001b[37m\u001b[0m \u001b[1m0s\u001b[0m 3ms/step\n",
      "\u001b[1m7/7\u001b[0m \u001b[32m━━━━━━━━━━━━━━━━━━━━\u001b[0m\u001b[37m\u001b[0m \u001b[1m0s\u001b[0m 14ms/step\n",
      "0.3672870397567749\n"
     ]
    },
    {
     "data": {
      "image/png": "[encoded data removed]",
      "text/plain": [
       "<Figure size 640x480 with 1 Axes>"
      ]
     },
     "metadata": {},
     "output_type": "display_data"
    }
   ],
   "source": [
    "%matplotlib inline\n",
    "\n",
    "# Start importing packages\n",
    "import pandas as pd\n",
    "import numpy as np\n",
    "import matplotlib.pyplot as plt\n",
    "import tensorflow as tf\n",
    "from tensorflow.keras import datasets, layers, models\n",
    "from tensorflow.keras.layers import Input\n",
    "from tensorflow.keras.models import Model, Sequential \n",
    "from tensorflow.keras.layers import Dense, SimpleRNN, LSTM, GRU\n",
    "from tensorflow.keras import optimizers     \n",
    "from tensorflow.keras import regularizers           \n",
    "from tensorflow.keras.utils import to_categorical \n",
    "\n",
    "# convert into dataset matrix\n",
    "def convertToMatrix(data, step):\n",
    " X, Y =[], []\n",
    " for i in range(len(data)-step):\n",
    "  d=i+step  \n",
    "  X.append(data[i:d,])\n",
    "  Y.append(data[d,])\n",
    " return np.array(X), np.array(Y)\n",
    "\n",
    "step = 4\n",
    "N = 1000    \n",
    "Tp = 800    \n",
    "\n",
    "t=np.arange(0,N)\n",
    "x=np.sin(0.02*t)+2*np.random.rand(N)\n",
    "df = pd.DataFrame(x)\n",
    "df.head()\n",
    "# Setting up training data\n",
    "values=df.values\n",
    "train,test = values[0:Tp,:], values[Tp:N,:]\n",
    "# add step elements into train and test\n",
    "test = np.append(test,np.repeat(test[-1,],step))\n",
    "train = np.append(train,np.repeat(train[-1,],step))\n",
    "trainX,trainY =convertToMatrix(train,step)\n",
    "testX,testY =convertToMatrix(test,step)\n",
    "trainX = np.reshape(trainX, (trainX.shape[0], 1, trainX.shape[1]))\n",
    "testX = np.reshape(testX, (testX.shape[0], 1, testX.shape[1]))\n",
    "# Defining the model with a simple RNN\n",
    "model = Sequential()\n",
    "model.add(SimpleRNN(units=32, input_shape=(1,step), activation=\"relu\"))\n",
    "model.add(Dense(8, activation=\"relu\")) \n",
    "model.add(Dense(1))\n",
    "model.compile(loss='mean_squared_error', optimizer='rmsprop')\n",
    "model.summary()\n",
    "# Training\n",
    "model.fit(trainX,trainY, epochs=100, batch_size=16, verbose=2)\n",
    "trainPredict = model.predict(trainX)\n",
    "testPredict= model.predict(testX)\n",
    "predicted=np.concatenate((trainPredict,testPredict),axis=0)\n",
    "trainScore = model.evaluate(trainX, trainY, verbose=0)\n",
    "print(trainScore)\n",
    "plt.plot(df)\n",
    "plt.plot(predicted)\n",
    "plt.show()"
   ]
  },
  {
   "cell_type": "markdown",
   "id": "556ed49e",
   "metadata": {},
   "source": [
    "## Corresponding example using PyTorch\n",
    "\n",
    "The structure of the code here is as follows\n",
    "1. Generate a sine function  and splits it into training and validation sets\n",
    "\n",
    "2. Create a custom data set for sequence generation\n",
    "\n",
    "3. Define an RNN model with one RNN layer and a final plain linear layer\n",
    "\n",
    "4. Train the model using the mean-squared error as cost function and the Adam optimizer\n",
    "\n",
    "5. Generate predictions using recursive forecasting\n",
    "\n",
    "6. Plot the results and training/validation loss curves\n",
    "\n",
    "The model takes sequences of 20 previous values to predict the next\n",
    "value of the sine function. The recursive prediction uses the model's own\n",
    "predictions to generate future values, showing how well it maintains\n",
    "the sine wave pattern over time.\n",
    "\n",
    "The final plots show the the predicted values vs. the actual sine wave for the validation period\n",
    "and the training and validation cost function curves to monitor for overfitting."
   ]
  },
  {
   "cell_type": "code",
   "execution_count": 2,
   "id": "3bc98eaf",
   "metadata": {},
   "outputs": [],
   "source": [
    "import torch\n",
    "import torch.nn as nn\n",
    "import numpy as np\n",
    "import matplotlib.pyplot as plt\n",
    "\n",
    "# Generate synthetic sine wave data\n",
    "t = torch.linspace(0, 4*np.pi, 1000)\n",
    "data = torch.sin(t)\n",
    "\n",
    "# Split data into training and validation\n",
    "train_data = data[:800]\n",
    "val_data = data[800:]\n",
    "\n",
    "# Hyperparameters\n",
    "seq_len = 20\n",
    "batch_size = 32\n",
    "hidden_size = 64\n",
    "num_epochs = 100\n",
    "learning_rate = 0.001\n",
    "\n",
    "# Create dataset and dataloaders\n",
    "class SineDataset(torch.utils.data.Dataset):\n",
    "   def __init__(self, data, seq_len):\n",
    "       self.data = data\n",
    "       self.seq_len = seq_len\n",
    "\n",
    "   def __len__(self):\n",
    "       return len(self.data) - self.seq_len\n",
    "\n",
    "   def __getitem__(self, idx):\n",
    "       x = self.data[idx:idx+self.seq_len]\n",
    "       y = self.data[idx+self.seq_len]\n",
    "       return x.unsqueeze(-1), y  # Add feature dimension\n",
    "\n",
    "train_dataset = SineDataset(train_data, seq_len)\n",
    "val_dataset = SineDataset(val_data, seq_len)\n",
    "\n",
    "train_loader = torch.utils.data.DataLoader(train_dataset, batch_size=batch_size, shuffle=True)\n",
    "val_loader = torch.utils.data.DataLoader(val_dataset, batch_size=batch_size, shuffle=False)\n",
    "\n",
    "# Define RNN model\n",
    "class RNNModel(nn.Module):\n",
    "   def __init__(self, input_size, hidden_size, output_size):\n",
    "       super(RNNModel, self).__init__()\n",
    "       self.rnn = nn.RNN(input_size, hidden_size, batch_first=True)\n",
    "       self.fc = nn.Linear(hidden_size, output_size)\n",
    "\n",
    "   def forward(self, x):\n",
    "       out, _ = self.rnn(x)  # out: (batch_size, seq_len, hidden_size)\n",
    "       out = out[:, -1, :]   # Take last time step output\n",
    "       out = self.fc(out)\n",
    "       return out\n",
    "\n",
    "model = RNNModel(input_size=1, hidden_size=hidden_size, output_size=1)\n",
    "criterion = nn.MSELoss()\n",
    "optimizer = torch.optim.Adam(model.parameters(), lr=learning_rate)\n",
    "\n",
    "# Training loop\n",
    "train_losses = []\n",
    "val_losses = []\n",
    "\n",
    "for epoch in range(num_epochs):\n",
    "   model.train()\n",
    "   epoch_train_loss = 0\n",
    "   for x_batch, y_batch in train_loader:\n",
    "       optimizer.zero_grad()\n",
    "       y_pred = model(x_batch)\n",
    "       loss = criterion(y_pred, y_batch.unsqueeze(-1))\n",
    "       loss.backward()\n",
    "       optimizer.step()\n",
    "       epoch_train_loss += loss.item()\n",
    "\n",
    "   # Validation\n",
    "   model.eval()\n",
    "   epoch_val_loss = 0\n",
    "   with torch.no_grad():\n",
    "       for x_val, y_val in val_loader:\n",
    "           y_pred_val = model(x_val)\n",
    "           val_loss = criterion(y_pred_val, y_val.unsqueeze(-1))\n",
    "           epoch_val_loss += val_loss.item()\n",
    "\n",
    "   # Calculate average losses\n",
    "   train_loss = epoch_train_loss / len(train_loader)\n",
    "   val_loss = epoch_val_loss / len(val_loader)\n",
    "   train_losses.append(train_loss)\n",
    "   val_losses.append(val_loss)\n",
    "\n",
    "   print(f'Epoch {epoch+1}/{num_epochs}, Train Loss: {train_loss:.4f}, Val Loss: {val_loss:.4f}')\n",
    "\n",
    "# Generate predictions\n",
    "model.eval()\n",
    "initial_sequence = train_data[-seq_len:].reshape(1, seq_len, 1)\n",
    "predictions = []\n",
    "current_sequence = initial_sequence.clone()\n",
    "\n",
    "with torch.no_grad():\n",
    "   for _ in range(len(val_data)):\n",
    "       pred = model(current_sequence)\n",
    "       predictions.append(pred.item())\n",
    "       # Update sequence by removing first element and adding new prediction\n",
    "       current_sequence = torch.cat([current_sequence[:, 1:, :], pred.unsqueeze(1)], dim=1)\n",
    "\n",
    "# Plot results\n",
    "plt.figure(figsize=(12, 6))\n",
    "plt.plot(t[800:].numpy(), val_data.numpy(), label='True values')\n",
    "plt.plot(t[800:].numpy(), predictions, label='Predictions')\n",
    "plt.title('Sine Wave Prediction')\n",
    "plt.xlabel('Time')\n",
    "plt.ylabel('Value')\n",
    "plt.legend()\n",
    "plt.show()\n",
    "\n",
    "# Plot training and validation loss\n",
    "plt.figure(figsize=(10, 5))\n",
    "plt.plot(train_losses, label='Training Loss')\n",
    "plt.plot(val_losses, label='Validation Loss')\n",
    "plt.title('Training and Validation Loss')\n",
    "plt.xlabel('Epoch')\n",
    "plt.ylabel('Loss')\n",
    "plt.legend()\n",
    "plt.show()"
   ]
  },
  {
   "cell_type": "markdown",
   "id": "e86f5532",
   "metadata": {},
   "source": [
    "## RNNs\n",
    "\n",
    "RNNs are very powerful, because they\n",
    "combine two properties:\n",
    "1. Distributed hidden state that allows them to store a lot of information about the past efficiently.\n",
    "\n",
    "2. Non-linear dynamics that allows them to update their hidden state in complicated ways.\n",
    "\n",
    "With enough neurons and time, RNNs\n",
    "can compute anything that can be\n",
    "computed by your computer."
   ]
  },
  {
   "cell_type": "markdown",
   "id": "bcc02285",
   "metadata": {},
   "source": [
    "## What kinds of behaviour can RNNs exhibit?\n",
    "\n",
    "1. They can oscillate. \n",
    "\n",
    "2. They can settle to point attractors.\n",
    "\n",
    "3. They can behave chaotically.\n",
    "\n",
    "4. RNNs could potentially learn to implement lots of small programs that each capture a nugget of knowledge and run in parallel, interacting to produce very complicated effects.\n",
    "\n",
    "But the extensive computational needs  of RNNs makes them very hard to train."
   ]
  },
  {
   "cell_type": "markdown",
   "id": "a043a36a",
   "metadata": {},
   "source": [
    "## Basic layout,  [Figures from Sebastian Rashcka et al, Machine learning with Sickit-Learn and PyTorch](https://sebastianraschka.com/blog/2022/ml-pytorch-book.html)\n",
    "\n",
    "<!-- dom:FIGURE: [figslides/RNN1.png, width=700 frac=0.9] -->\n",
    "<!-- begin figure -->\n",
    "\n",
    "<img src=\"figslides/RNN1.png\" width=\"700\"><p style=\"font-size: 0.9em\"><i>Figure 1: </i></p>\n",
    "<!-- end figure -->"
   ]
  },
  {
   "cell_type": "markdown",
   "id": "31cd9392",
   "metadata": {},
   "source": [
    "## Solving differential equations with RNNs\n",
    "\n",
    "To gain some intuition on how we can use RNNs for time series, let us\n",
    "tailor the representation of the solution of a differential equation\n",
    "as a time series.\n",
    "\n",
    "Consider the famous differential equation (Newton's equation of motion for damped harmonic oscillations, scaled in terms of dimensionless time)"
   ]
  },
  {
   "cell_type": "markdown",
   "id": "01864d65",
   "metadata": {},
   "source": [
    "$$\n",
    "\\frac{d^2x}{dt^2}+\\eta\\frac{dx}{dt}+x(t)=F(t),\n",
    "$$"
   ]
  },
  {
   "cell_type": "markdown",
   "id": "4d4a76d5",
   "metadata": {},
   "source": [
    "where $\\eta$ is a constant used in scaling time into a dimensionless variable and $F(t)$ is an external force acting on the system.\n",
    "The constant $\\eta$ is a so-called damping."
   ]
  },
  {
   "cell_type": "markdown",
   "id": "a427d2dc",
   "metadata": {},
   "source": [
    "## Two first-order differential equations\n",
    "\n",
    "In solving the above second-order equation, it is common to rewrite it in terms of two coupled first-order equations\n",
    "with the velocity"
   ]
  },
  {
   "cell_type": "markdown",
   "id": "a849f72c",
   "metadata": {},
   "source": [
    "$$\n",
    "v(t)=\\frac{dx}{dt},\n",
    "$$"
   ]
  },
  {
   "cell_type": "markdown",
   "id": "2ca581ca",
   "metadata": {},
   "source": [
    "and the acceleration"
   ]
  },
  {
   "cell_type": "markdown",
   "id": "5577d039",
   "metadata": {},
   "source": [
    "$$\n",
    "\\frac{dv}{dt}=F(t)-\\eta v(t)-x(t).\n",
    "$$"
   ]
  },
  {
   "cell_type": "markdown",
   "id": "13234045",
   "metadata": {},
   "source": [
    "With the initial conditions $v_0=v(t_0)$ and $x_0=x(t_0)$ defined, we can integrate these equations and find their respective solutions."
   ]
  },
  {
   "cell_type": "markdown",
   "id": "72fa70af",
   "metadata": {},
   "source": [
    "## Velocity only\n",
    "\n",
    "Let us focus on the velocity only. Discretizing and using the simplest\n",
    "possible approximation for the derivative, we have Euler's forward\n",
    "method for the updated velocity at a time step $i+1$ given by"
   ]
  },
  {
   "cell_type": "markdown",
   "id": "4058e2ed",
   "metadata": {},
   "source": [
    "$$\n",
    "v_{i+1}=v_i+\\Delta t \\frac{dv}{dt}_{\\vert_{v=v_i}}=v_i+\\Delta t\\left(F_i-\\eta v_i-x_i\\right).\n",
    "$$"
   ]
  },
  {
   "cell_type": "markdown",
   "id": "87db11c0",
   "metadata": {},
   "source": [
    "Defining a function"
   ]
  },
  {
   "cell_type": "markdown",
   "id": "00fe56ef",
   "metadata": {},
   "source": [
    "$$\n",
    "h_i(x_i,v_i,F_i)=v_i+\\Delta t\\left(F_i-\\eta v_i-x_i\\right),\n",
    "$$"
   ]
  },
  {
   "cell_type": "markdown",
   "id": "3df715f8",
   "metadata": {},
   "source": [
    "we have"
   ]
  },
  {
   "cell_type": "markdown",
   "id": "2f0c132f",
   "metadata": {},
   "source": [
    "$$\n",
    "v_{i+1}=h_i(x_i,v_i,F_i).\n",
    "$$"
   ]
  },
  {
   "cell_type": "markdown",
   "id": "db4cdb94",
   "metadata": {},
   "source": [
    "## Linking with RNNs\n",
    "\n",
    "The equation"
   ]
  },
  {
   "cell_type": "markdown",
   "id": "67b0ea53",
   "metadata": {},
   "source": [
    "$$\n",
    "v_{i+1}=h_i(x_i,v_i,F_i).\n",
    "$$"
   ]
  },
  {
   "cell_type": "markdown",
   "id": "6bead5d0",
   "metadata": {},
   "source": [
    "can be used to train a feed-forward neural network with inputs $v_i$ and outputs $v_{i+1}$ at a time $t_i$. But we can think of this also as a recurrent neural network\n",
    "with inputs $v_i$, $x_i$ and $F_i$ at each time step $t_i$, and producing an output $v_{i+1}$.\n",
    "\n",
    "Noting that"
   ]
  },
  {
   "cell_type": "markdown",
   "id": "d6441ce7",
   "metadata": {},
   "source": [
    "$$\n",
    "v_{i}=v_{i-1}+\\Delta t\\left(F_{i-1}-\\eta v_{i-1}-x_{i-1}\\right)=h_{i-1}.\n",
    "$$"
   ]
  },
  {
   "cell_type": "markdown",
   "id": "6e0fdf16",
   "metadata": {},
   "source": [
    "we have"
   ]
  },
  {
   "cell_type": "markdown",
   "id": "472aa79b",
   "metadata": {},
   "source": [
    "$$\n",
    "v_{i}=h_{i-1}(x_{i-1},v_{i-1},F_{i-1}),\n",
    "$$"
   ]
  },
  {
   "cell_type": "markdown",
   "id": "5968f4a6",
   "metadata": {},
   "source": [
    "and we can rewrite"
   ]
  },
  {
   "cell_type": "markdown",
   "id": "5b6d814b",
   "metadata": {},
   "source": [
    "$$\n",
    "v_{i+1}=h_i(x_i,h_{i-1},F_i).\n",
    "$$"
   ]
  },
  {
   "cell_type": "markdown",
   "id": "4397aa37",
   "metadata": {},
   "source": [
    "## Minor rewrite\n",
    "\n",
    "We can thus set up a recurring series which depends on the inputs $x_i$ and $F_i$ and the previous values $h_{i-1}$.\n",
    "We assume now that the inputs at each step (or time $t_i$) is given by $x_i$ only and we denote the outputs for $\\tilde{y}_i$ instead of $v_{i_1}$, we have then the compact equation for our outputs at each step $t_i$"
   ]
  },
  {
   "cell_type": "markdown",
   "id": "62c446f6",
   "metadata": {},
   "source": [
    "$$\n",
    "y_{i}=h_i(x_i,h_{i-1}).\n",
    "$$"
   ]
  },
  {
   "cell_type": "markdown",
   "id": "014e61a6",
   "metadata": {},
   "source": [
    "We can think of this as an element in a recurrent network where our\n",
    "network (our model) produces an output $y_i$ which is then compared\n",
    "with a target value through a given cost/loss function that we\n",
    "optimize. The target values at a given step $t_i$ could be the results\n",
    "of a measurement or simply the analytical results of a differential\n",
    "equation."
   ]
  },
  {
   "cell_type": "markdown",
   "id": "4a881100",
   "metadata": {},
   "source": [
    "## RNNs in more detail\n",
    "\n",
    "<!-- dom:FIGURE: [figslides/RNN2.png, width=700 frac=0.9] -->\n",
    "<!-- begin figure -->\n",
    "\n",
    "<img src=\"figslides/RNN2.png\" width=\"700\"><p style=\"font-size: 0.9em\"><i>Figure 1: </i></p>\n",
    "<!-- end figure -->"
   ]
  },
  {
   "cell_type": "markdown",
   "id": "173313e7",
   "metadata": {},
   "source": [
    "## RNNs in more detail, part 2\n",
    "\n",
    "<!-- dom:FIGURE: [figslides/RNN3.png, width=700 frac=0.9] -->\n",
    "<!-- begin figure -->\n",
    "\n",
    "<img src=\"figslides/RNN3.png\" width=\"700\"><p style=\"font-size: 0.9em\"><i>Figure 1: </i></p>\n",
    "<!-- end figure -->"
   ]
  },
  {
   "cell_type": "markdown",
   "id": "cc8f208c",
   "metadata": {},
   "source": [
    "## RNNs in more detail, part 3\n",
    "\n",
    "<!-- dom:FIGURE: [figslides/RNN4.png, width=700 frac=0.9] -->\n",
    "<!-- begin figure -->\n",
    "\n",
    "<img src=\"figslides/RNN4.png\" width=\"700\"><p style=\"font-size: 0.9em\"><i>Figure 1: </i></p>\n",
    "<!-- end figure -->"
   ]
  },
  {
   "cell_type": "markdown",
   "id": "6ae70af8",
   "metadata": {},
   "source": [
    "## RNNs in more detail, part 4\n",
    "\n",
    "<!-- dom:FIGURE: [figslides/RNN5.png, width=700 frac=0.9] -->\n",
    "<!-- begin figure -->\n",
    "\n",
    "<img src=\"figslides/RNN5.png\" width=\"700\"><p style=\"font-size: 0.9em\"><i>Figure 1: </i></p>\n",
    "<!-- end figure -->"
   ]
  },
  {
   "cell_type": "markdown",
   "id": "1aef69b3",
   "metadata": {},
   "source": [
    "## RNNs in more detail, part 5\n",
    "\n",
    "<!-- dom:FIGURE: [figslides/RNN6.png, width=700 frac=0.9] -->\n",
    "<!-- begin figure -->\n",
    "\n",
    "<img src=\"figslides/RNN6.png\" width=\"700\"><p style=\"font-size: 0.9em\"><i>Figure 1: </i></p>\n",
    "<!-- end figure -->"
   ]
  },
  {
   "cell_type": "markdown",
   "id": "58679888",
   "metadata": {},
   "source": [
    "## RNNs in more detail, part 6\n",
    "\n",
    "<!-- dom:FIGURE: [figslides/RNN7.png, width=700 frac=0.9] -->\n",
    "<!-- begin figure -->\n",
    "\n",
    "<img src=\"figslides/RNN7.png\" width=\"700\"><p style=\"font-size: 0.9em\"><i>Figure 1: </i></p>\n",
    "<!-- end figure -->"
   ]
  },
  {
   "cell_type": "markdown",
   "id": "b6c4ecf1",
   "metadata": {},
   "source": [
    "## RNNs in more detail, part 7\n",
    "\n",
    "<!-- dom:FIGURE: [figslides/RNN8.png, width=700 frac=0.9] -->\n",
    "<!-- begin figure -->\n",
    "\n",
    "<img src=\"figslides/RNN8.png\" width=\"700\"><p style=\"font-size: 0.9em\"><i>Figure 1: </i></p>\n",
    "<!-- end figure -->"
   ]
  },
  {
   "cell_type": "markdown",
   "id": "dfcbb8d7",
   "metadata": {},
   "source": [
    "## Backpropagation through time\n",
    "\n",
    "We can think of the recurrent net as a layered, feed-forward\n",
    "net with shared weights and then train the feed-forward net\n",
    "with weight constraints.\n",
    "\n",
    "We can also think of this training algorithm in the time domain:\n",
    "1. The forward pass builds up a stack of the activities of all the units at each time step.\n",
    "\n",
    "2. The backward pass peels activities off the stack to compute the error derivatives at each time step.\n",
    "\n",
    "3. After the backward pass we add together the derivatives at all the different times for each weight."
   ]
  },
  {
   "cell_type": "markdown",
   "id": "913ae761",
   "metadata": {},
   "source": [
    "## The backward pass is linear\n",
    "\n",
    "1. There is a big difference between the forward and backward passes.\n",
    "\n",
    "2. In the forward pass we use squashing functions (like the logistic) to prevent the activity vectors from exploding.\n",
    "\n",
    "3. The backward pass, is completely linear. If you double the error derivatives at the final layer, all the error derivatives will double.\n",
    "\n",
    "The forward pass determines the slope of the linear function used for\n",
    "backpropagating through each neuron"
   ]
  },
  {
   "cell_type": "markdown",
   "id": "3b17df70",
   "metadata": {},
   "source": [
    "## The problem of exploding or vanishing gradients\n",
    "* What happens to the magnitude of the gradients as we backpropagate through many layers?\n",
    "\n",
    "a. If the weights are small, the gradients shrink exponentially.\n",
    "\n",
    "b. If the weights are big the gradients grow exponentially.\n",
    "\n",
    "* Typical feed-forward neural nets can cope with these exponential effects because they only have a few hidden layers.\n",
    "\n",
    "* In an RNN trained on long sequences (e.g. 100 time steps) the gradients can easily explode or vanish.\n",
    "\n",
    "a. We can avoid this by initializing the weights very carefully.\n",
    "\n",
    "* Even with good initial weights, its very hard to detect that the current target output depends on an input from many time-steps ago.\n",
    "\n",
    "RNNs have difficulty dealing with long-range dependencies."
   ]
  },
  {
   "cell_type": "markdown",
   "id": "3da270c9",
   "metadata": {},
   "source": [
    "## Mathematical setup\n",
    "\n",
    "The expression for the simplest Recurrent network resembles that of a\n",
    "regular feed-forward neural network, but now with\n",
    "the concept of temporal dependencies"
   ]
  },
  {
   "cell_type": "markdown",
   "id": "c03e07d5",
   "metadata": {},
   "source": [
    "$$\n",
    "\\begin{align*}\n",
    "    \\mathbf{a}^{(t)} & = U * \\mathbf{x}^{(t)} + W * \\mathbf{h}^{(t-1)} + \\mathbf{b}, \\notag \\\\\n",
    "    \\mathbf{h}^{(t)} &= \\sigma_h(\\mathbf{a}^{(t)}), \\notag\\\\\n",
    "    \\mathbf{y}^{(t)} &= V * \\mathbf{h}^{(t)} + \\mathbf{c}, \\notag\\\\\n",
    "    \\mathbf{\\hat{y}}^{(t)} &= \\sigma_y(\\mathbf{y}^{(t)}).\n",
    "\\end{align*}\n",
    "$$"
   ]
  },
  {
   "cell_type": "markdown",
   "id": "8178b36f",
   "metadata": {},
   "source": [
    "## Back propagation in time through figures, part 1\n",
    "\n",
    "<!-- dom:FIGURE: [figslides/RNN9.png, width=700 frac=0.9] -->\n",
    "<!-- begin figure -->\n",
    "\n",
    "<img src=\"figslides/RNN9.png\" width=\"700\"><p style=\"font-size: 0.9em\"><i>Figure 1: </i></p>\n",
    "<!-- end figure -->"
   ]
  },
  {
   "cell_type": "markdown",
   "id": "253385f9",
   "metadata": {},
   "source": [
    "## Back propagation in time, part 2\n",
    "\n",
    "<!-- dom:FIGURE: [figslides/RNN10.png, width=700 frac=0.9] -->\n",
    "<!-- begin figure -->\n",
    "\n",
    "<img src=\"figslides/RNN10.png\" width=\"700\"><p style=\"font-size: 0.9em\"><i>Figure 1: </i></p>\n",
    "<!-- end figure -->"
   ]
  },
  {
   "cell_type": "markdown",
   "id": "b41a980a",
   "metadata": {},
   "source": [
    "## Back propagation in time, part 3\n",
    "\n",
    "<!-- dom:FIGURE: [figslides/RNN11.png, width=700 frac=0.9] -->\n",
    "<!-- begin figure -->\n",
    "\n",
    "<img src=\"figslides/RNN11.png\" width=\"700\"><p style=\"font-size: 0.9em\"><i>Figure 1: </i></p>\n",
    "<!-- end figure -->"
   ]
  },
  {
   "cell_type": "markdown",
   "id": "683b3370",
   "metadata": {},
   "source": [
    "## Back propagation in time, part 4\n",
    "\n",
    "<!-- dom:FIGURE: [figslides/RNN12.png, width=700 frac=0.9] -->\n",
    "<!-- begin figure -->\n",
    "\n",
    "<img src=\"figslides/RNN12.png\" width=\"700\"><p style=\"font-size: 0.9em\"><i>Figure 1: </i></p>\n",
    "<!-- end figure -->"
   ]
  },
  {
   "cell_type": "markdown",
   "id": "c3933381",
   "metadata": {},
   "source": [
    "## Back propagation in time in equations\n",
    "\n",
    "To derive the expression of the gradients of $\\mathcal{L}$ for\n",
    "the RNN, we need to start recursively from the nodes closer to the\n",
    "output layer in the temporal unrolling scheme - such as $\\mathbf{y}$\n",
    "and $\\mathbf{h}$ at final time $t = \\tau$,"
   ]
  },
  {
   "cell_type": "markdown",
   "id": "cc8eb4db",
   "metadata": {},
   "source": [
    "$$\n",
    "\\begin{align*}\n",
    "    (\\nabla_{ \\mathbf{y}^{(t)}} \\mathcal{L})_{i} &= \\frac{\\partial \\mathcal{L}}{\\partial L^{(t)}}\\frac{\\partial L^{(t)}}{\\partial y_{i}^{(t)}}, \\notag\\\\\n",
    "    \\nabla_{\\mathbf{h}^{(\\tau)}} \\mathcal{L} &= \\mathbf{V}^\\mathsf{T}\\nabla_{ \\mathbf{y}^{(\\tau)}} \\mathcal{L}.\n",
    "\\end{align*}\n",
    "$$"
   ]
  },
  {
   "cell_type": "markdown",
   "id": "8e56df9d",
   "metadata": {},
   "source": [
    "## Chain rule again\n",
    "For the following hidden nodes, we have to iterate through time, so by the chain rule,"
   ]
  },
  {
   "cell_type": "markdown",
   "id": "47d97a60",
   "metadata": {},
   "source": [
    "$$\n",
    "\\begin{align*}\n",
    "    \\nabla_{\\mathbf{h}^{(t)}} \\mathcal{L} &= \\left(\\frac{\\partial\\mathbf{h}^{(t+1)}}{\\partial\\mathbf{h}^{(t)}}\\right)^\\mathsf{T}\\nabla_{\\mathbf{h}^{(t+1)}}\\mathcal{L} + \\left(\\frac{\\partial\\mathbf{y}^{(t)}}{\\partial\\mathbf{h}^{(t)}}\\right)^\\mathsf{T}\\nabla_{ \\mathbf{y}^{(t)}} \\mathcal{L}.\n",
    "\\end{align*}\n",
    "$$"
   ]
  },
  {
   "cell_type": "markdown",
   "id": "6bab9b14",
   "metadata": {},
   "source": [
    "## Gradients of loss functions\n",
    "Similarly, the gradients of $\\mathcal{L}$ with respect to the weights and biases follow,"
   ]
  },
  {
   "cell_type": "markdown",
   "id": "7ee6c801",
   "metadata": {},
   "source": [
    "<!-- Equation labels as ordinary links -->\n",
    "<div id=\"eq:rnn_gradients3\"></div>\n",
    "\n",
    "$$\n",
    "\\begin{align*}\n",
    "    \\nabla_{\\mathbf{c}} \\mathcal{L} &=\\sum_{t}\\left(\\frac{\\partial \\mathbf{y}^{(t)}}{\\partial \\mathbf{c}}\\right)^\\mathsf{T} \\nabla_{\\mathbf{y}^{(t)}} \\mathcal{L} \\notag\\\\\n",
    "    \\nabla_{\\mathbf{b}} \\mathcal{L} &=\\sum_{t}\\left(\\frac{\\partial \\mathbf{h}^{(t)}}{\\partial \\mathbf{b}}\\right)^\\mathsf{T}        \\nabla_{\\mathbf{h}^{(t)}} \\mathcal{L} \\notag\\\\\n",
    "    \\nabla_{\\mathbf{V}} \\mathcal{L} &=\\sum_{t}\\sum_{i}\\left(\\frac{\\partial \\mathcal{L}}{\\partial y_i^{(t)} }\\right)\\nabla_{\\mathbf{V}^{(t)}}y_i^{(t)} \\notag\\\\\n",
    "    \\nabla_{\\mathbf{W}} \\mathcal{L} &=\\sum_{t}\\sum_{i}\\left(\\frac{\\partial \\mathcal{L}}{\\partial h_i^{(t)}}\\right)\\nabla_{\\mathbf{w}^{(t)}} h_i^{(t)} \\notag\\\\\n",
    "    \\nabla_{\\mathbf{U}} \\mathcal{L} &=\\sum_{t}\\sum_{i}\\left(\\frac{\\partial \\mathcal{L}}{\\partial h_i^{(t)}}\\right)\\nabla_{\\mathbf{U}^{(t)}}h_i^{(t)}.\n",
    "    \\label{eq:rnn_gradients3} \\tag{1}\n",
    "\\end{align*}\n",
    "$$"
   ]
  },
  {
   "cell_type": "markdown",
   "id": "24c1bdb4",
   "metadata": {},
   "source": [
    "## Summary of RNNs\n",
    "\n",
    "Recurrent neural networks (RNNs) have in general no probabilistic component\n",
    "in a model. With a given fixed input and target from data, the RNNs learn the intermediate\n",
    "association between various layers.\n",
    "The inputs, outputs, and internal representation (hidden states) are all\n",
    "real-valued vectors.\n",
    "\n",
    "In a  traditional NN, it is assumed that every input is\n",
    "independent of each other.  But with sequential data, the input at a given stage $t$ depends on the input from the previous stage $t-1$"
   ]
  },
  {
   "cell_type": "markdown",
   "id": "85125e90",
   "metadata": {},
   "source": [
    "## Summary of a  typical RNN\n",
    "\n",
    "1. Weight matrices $U$, $W$ and $V$ that connect the input layer at a stage $t$ with the hidden layer $h_t$, the previous hidden layer $h_{t-1}$ with $h_t$ and the hidden layer $h_t$ connecting with the output layer at the same stage and producing an output $\\tilde{y}_t$, respectively.\n",
    "\n",
    "2. The output from the hidden layer $h_t$ is oftem modulated by a $\\tanh{}$ function $h_t=\\sigma_h(x_t,h_{t-1})=\\tanh{(Ux_t+Wh_{t-1}+b)}$ with $b$ a bias value\n",
    "\n",
    "3. The output from the hidden layer produces $\\tilde{y}_t=\\sigma_y(Vh_t+c)$ where $c$ is a new bias parameter.\n",
    "\n",
    "4. The output from the training at a given stage is in turn compared with the observation $y_t$ thorugh a chosen cost function.\n",
    "\n",
    "The function $g$ can any of the standard activation functions, that is a Sigmoid, a Softmax, a ReLU and other.\n",
    "The parameters are trained through the so-called back-propagation through time (BPTT) algorithm."
   ]
  },
  {
   "cell_type": "markdown",
   "id": "22b62bf8",
   "metadata": {},
   "source": [
    "## Four effective ways to learn an RNN and preparing for next week\n",
    "1. Long Short Term Memory Make the RNN out of little modules that are designed to remember values for a long time.\n",
    "\n",
    "2. Hessian Free Optimization: Deal with the vanishing gradients problem by using a fancy optimizer that can detect directions with a tiny gradient but even smaller curvature.\n",
    "\n",
    "3. Echo State Networks (ESN): Initialize the input a hidden and hidden-hidden and output-hidden connections very carefully so that the hidden state has a huge reservoir of weakly coupled oscillators which can be selectively driven by the input. ESNs only need to learn the hidden-output connections.\n",
    "\n",
    "4. Good initialization with momentum Initialize like in Echo State Networks, but then learn all of the connections using momentum"
   ]
  }
 ],
 "metadata": {
  "kernelspec": {
   "display_name": "Python 3 (ipykernel)",
   "language": "python",
   "name": "python3"
  },
  "language_info": {
   "codemirror_mode": {
    "name": "ipython",
    "version": 3
   },
   "file_extension": ".py",
   "mimetype": "text/x-python",
   "name": "python",
   "nbconvert_exporter": "python",
   "pygments_lexer": "ipython3",
   "version": "3.9.15"
  }
 },
 "nbformat": 4,
 "nbformat_minor": 5
}
