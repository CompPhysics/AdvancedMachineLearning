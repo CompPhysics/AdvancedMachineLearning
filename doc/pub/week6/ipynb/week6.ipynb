{
 "cells": [
  {
   "cell_type": "markdown",
   "id": "2154b501",
   "metadata": {
    "editable": true
   },
   "source": [
    "<!-- HTML file automatically generated from DocOnce source (https://github.com/doconce/doconce/)\n",
    "doconce format html week6.do.txt --no_mako -->\n",
    "<!-- dom:TITLE: February 19-23: Advanced machine learning and data analysis for the physical sciences -->"
   ]
  },
  {
   "cell_type": "markdown",
   "id": "28335c35",
   "metadata": {
    "editable": true
   },
   "source": [
    "# February 19-23: Advanced machine learning and data analysis for the physical sciences\n",
    "**Morten Hjorth-Jensen**, Department of Physics and Center for Computing in Science Education, University of Oslo, Norway and Department of Physics and Astronomy and Facility for Rare Isotope Beams, Michigan State University, East Lansing, Michigan, USA\n",
    "\n",
    "Date: **February 19-23, 2024**"
   ]
  },
  {
   "cell_type": "markdown",
   "id": "689b6746",
   "metadata": {
    "editable": true
   },
   "source": [
    "## Plans for the weeks February 19-23\n",
    "\n",
    "1. Mathematics of Convolutional  Neural Networks (CNNs), padding, strid, pooling and more\n",
    "\n",
    "2. Discussion of codes for CNNs, own code, TensorFlow+Keras and PyTorch examples"
   ]
  },
  {
   "cell_type": "markdown",
   "id": "ac382dca",
   "metadata": {
    "editable": true
   },
   "source": [
    "## Reading recommendations\n",
    "\n",
    "1. For CNNs, see Goodfellow et al chapter 9. See also chapter 11 and 12 on practicalities and applications\n",
    "\n",
    "2. Reading suggestions for implementation of CNNs in PyTorch: [See Rashcka et al.'s chapter 14](https://github.com/rasbt/machine-learning-book/tree/main/ch14). The jupyter-notebook for this chapter is available from Rachska's GitHub site linked here.\n",
    "\n",
    "3. For TensorFlow implementations, we recommend\n",
    "\n",
    "a. [David Foster Generative Learning, see chapter 2 from the GitHub link](https://github.com/davidADSP/Generative_Deep_Learning_2nd_Edition/tree/main/notebooks/02_deeplearning/02_cnn)\n",
    "\n",
    "b. Joseph Babcock and Raghav Bali Generative AI with Python and their GitHub link, chapter 3\":\"https://github.com/raghavbali/generative_ai_with_tensorflow\""
   ]
  },
  {
   "cell_type": "markdown",
   "id": "5f2b778d",
   "metadata": {
    "editable": true
   },
   "source": [
    "## CNNs in brief\n",
    "\n",
    "In summary:\n",
    "\n",
    "* A CNN architecture is in the simplest case a list of Layers that transform the image volume into an output volume (e.g. holding the class scores)\n",
    "\n",
    "* There are a few distinct types of Layers (e.g. CONV/FC/RELU/POOL are by far the most popular)\n",
    "\n",
    "* Each Layer accepts an input 3D volume and transforms it to an output 3D volume through a differentiable function\n",
    "\n",
    "* Each Layer may or may not have parameters (e.g. CONV/FC do, RELU/POOL don’t)\n",
    "\n",
    "* Each Layer may or may not have additional hyperparameters (e.g. CONV/FC/POOL do, RELU doesn’t)"
   ]
  },
  {
   "cell_type": "markdown",
   "id": "7a238639",
   "metadata": {
    "editable": true
   },
   "source": [
    "## A deep CNN model ([From Raschka et al](https://github.com/rasbt/machine-learning-book))\n",
    "\n",
    "<!-- dom:FIGURE: [figslides/deepcnn.png, width=500 frac=0.67]  A deep CNN -->\n",
    "<!-- begin figure -->\n",
    "\n",
    "<img src=\"figslides/deepcnn.png\" width=\"500\"><p style=\"font-size: 0.9em\"><i>Figure 1: A deep CNN</i></p>\n",
    "<!-- end figure -->"
   ]
  },
  {
   "cell_type": "markdown",
   "id": "25991986",
   "metadata": {
    "editable": true
   },
   "source": [
    "## Key Idea\n",
    "\n",
    "A dense neural network is representd by an affine operation (like matrix-matrix multiplication) where all parameters are included.\n",
    "\n",
    "The key idea in CNNs for say imaging is that in images neighbor pixels tend to be related! So we connect\n",
    "only neighboring neurons in the input instead of connecting all with the first hidden layer.\n",
    "\n",
    "We say we perform a filtering (convolution is the mathematical operation)."
   ]
  },
  {
   "cell_type": "markdown",
   "id": "51d05cf5",
   "metadata": {
    "editable": true
   },
   "source": [
    "## Mathematics of CNNs\n",
    "\n",
    "The mathematics of CNNs is based on the mathematical operation of\n",
    "**convolution**.  In mathematics (in particular in functional analysis),\n",
    "convolution is represented by mathematical operations (integration,\n",
    "summation etc) on two functions in order to produce a third function\n",
    "that expresses how the shape of one gets modified by the other.\n",
    "Convolution has a plethora of applications in a variety of\n",
    "disciplines, spanning from statistics to signal processing, computer\n",
    "vision, solutions of differential equations,linear algebra,\n",
    "engineering, and yes, machine learning.\n",
    "\n",
    "Mathematically, convolution is defined as follows (one-dimensional example):\n",
    "Let us define a continuous function $y(t)$ given by"
   ]
  },
  {
   "cell_type": "markdown",
   "id": "e4cad718",
   "metadata": {
    "editable": true
   },
   "source": [
    "$$\n",
    "y(t) = \\int x(a) w(t-a) da,\n",
    "$$"
   ]
  },
  {
   "cell_type": "markdown",
   "id": "867d9c7f",
   "metadata": {
    "editable": true
   },
   "source": [
    "where $x(a)$ represents a so-called input and $w(t-a)$ is normally called the weight function or kernel.\n",
    "\n",
    "The above integral is written in  a more compact form as"
   ]
  },
  {
   "cell_type": "markdown",
   "id": "ce0e51db",
   "metadata": {
    "editable": true
   },
   "source": [
    "$$\n",
    "y(t) = \\left(x * w\\right)(t).\n",
    "$$"
   ]
  },
  {
   "cell_type": "markdown",
   "id": "a0a6a3ac",
   "metadata": {
    "editable": true
   },
   "source": [
    "The discretized version reads"
   ]
  },
  {
   "cell_type": "markdown",
   "id": "897cd512",
   "metadata": {
    "editable": true
   },
   "source": [
    "$$\n",
    "y(t) = \\sum_{a=-\\infty}^{a=\\infty}x(a)w(t-a).\n",
    "$$"
   ]
  },
  {
   "cell_type": "markdown",
   "id": "38d9b89b",
   "metadata": {
    "editable": true
   },
   "source": [
    "Computing the inverse of the above convolution operations is known as deconvolution and the process is commutative.\n",
    "\n",
    "How can we use this? And what does it mean? Let us study some familiar examples first."
   ]
  },
  {
   "cell_type": "markdown",
   "id": "4a0eb5a5",
   "metadata": {
    "editable": true
   },
   "source": [
    "## Convolution Examples: Polynomial multiplication\n",
    "\n",
    "Our first example is that of a multiplication between two polynomials,\n",
    "which we will rewrite in terms of the mathematics of convolution. In\n",
    "the final stage, since the problem here is a discrete one, we will\n",
    "recast the final expression in terms of a matrix-vector\n",
    "multiplication, where the matrix is a so-called [Toeplitz matrix\n",
    "](https://link.springer.com/book/10.1007/978-93-86279-04-0).\n",
    "\n",
    "Let us look a the following polynomials to second and third order, respectively:"
   ]
  },
  {
   "cell_type": "markdown",
   "id": "44ae2d77",
   "metadata": {
    "editable": true
   },
   "source": [
    "$$\n",
    "p(t) = \\alpha_0+\\alpha_1 t+\\alpha_2 t^2,\n",
    "$$"
   ]
  },
  {
   "cell_type": "markdown",
   "id": "46bef1dc",
   "metadata": {
    "editable": true
   },
   "source": [
    "and"
   ]
  },
  {
   "cell_type": "markdown",
   "id": "5e1aa8c1",
   "metadata": {
    "editable": true
   },
   "source": [
    "$$\n",
    "s(t) = \\beta_0+\\beta_1 t+\\beta_2 t^2+\\beta_3 t^3.\n",
    "$$"
   ]
  },
  {
   "cell_type": "markdown",
   "id": "57b10dee",
   "metadata": {
    "editable": true
   },
   "source": [
    "The polynomial multiplication gives us a new polynomial of degree $5$"
   ]
  },
  {
   "cell_type": "markdown",
   "id": "a220a4ea",
   "metadata": {
    "editable": true
   },
   "source": [
    "$$\n",
    "z(t) = \\delta_0+\\delta_1 t+\\delta_2 t^2+\\delta_3 t^3+\\delta_4 t^4+\\delta_5 t^5.\n",
    "$$"
   ]
  },
  {
   "cell_type": "markdown",
   "id": "5f9aaf09",
   "metadata": {
    "editable": true
   },
   "source": [
    "## Efficient Polynomial Multiplication\n",
    "\n",
    "Computing polynomial products can be implemented efficiently if we rewrite the more brute force multiplications using convolution.\n",
    "We note first that the new coefficients are given as"
   ]
  },
  {
   "cell_type": "markdown",
   "id": "7423d22e",
   "metadata": {
    "editable": true
   },
   "source": [
    "$$\n",
    "\\begin{split}\n",
    "\\delta_0=&\\alpha_0\\beta_0\\\\\n",
    "\\delta_1=&\\alpha_1\\beta_0+\\alpha_0\\beta_1\\\\\n",
    "\\delta_2=&\\alpha_0\\beta_2+\\alpha_1\\beta_1+\\alpha_2\\beta_0\\\\\n",
    "\\delta_3=&\\alpha_1\\beta_2+\\alpha_2\\beta_1+\\alpha_0\\beta_3\\\\\n",
    "\\delta_4=&\\alpha_2\\beta_2+\\alpha_1\\beta_3\\\\\n",
    "\\delta_5=&\\alpha_2\\beta_3.\\\\\n",
    "\\end{split}\n",
    "$$"
   ]
  },
  {
   "cell_type": "markdown",
   "id": "79849724",
   "metadata": {
    "editable": true
   },
   "source": [
    "We note that $\\alpha_i=0$ except for $i\\in \\left\\{0,1,2\\right\\}$ and $\\beta_i=0$ except for $i\\in\\left\\{0,1,2,3\\right\\}$.\n",
    "\n",
    "We can then rewrite the coefficients $\\delta_j$ using a discrete convolution as"
   ]
  },
  {
   "cell_type": "markdown",
   "id": "2dda971c",
   "metadata": {
    "editable": true
   },
   "source": [
    "$$\n",
    "\\delta_j = \\sum_{i=-\\infty}^{i=\\infty}\\alpha_i\\beta_{j-i}=(\\alpha * \\beta)_j,\n",
    "$$"
   ]
  },
  {
   "cell_type": "markdown",
   "id": "f869702f",
   "metadata": {
    "editable": true
   },
   "source": [
    "or as a double sum with restriction $l=i+j$"
   ]
  },
  {
   "cell_type": "markdown",
   "id": "c1df9b50",
   "metadata": {
    "editable": true
   },
   "source": [
    "$$\n",
    "\\delta_l = \\sum_{ij}\\alpha_i\\beta_{j}.\n",
    "$$"
   ]
  },
  {
   "cell_type": "markdown",
   "id": "99b0653f",
   "metadata": {
    "editable": true
   },
   "source": [
    "## Further simplification\n",
    "\n",
    "Although we may have redundant operations with some few zeros for $\\beta_i$, we can rewrite the above sum in a more compact way as"
   ]
  },
  {
   "cell_type": "markdown",
   "id": "0b9b7746",
   "metadata": {
    "editable": true
   },
   "source": [
    "$$\n",
    "\\delta_i = \\sum_{k=0}^{k=m-1}\\alpha_k\\beta_{i-k},\n",
    "$$"
   ]
  },
  {
   "cell_type": "markdown",
   "id": "74b18c70",
   "metadata": {
    "editable": true
   },
   "source": [
    "where $m=3$ in our case, the maximum length of\n",
    "the vector $\\alpha$. Note that the vector $\\boldsymbol{\\beta}$ has length $n=4$. Below we will find an even more efficient representation."
   ]
  },
  {
   "cell_type": "markdown",
   "id": "9a78092d",
   "metadata": {
    "editable": true
   },
   "source": [
    "## A more efficient way of coding the above Convolution\n",
    "\n",
    "Since we only have a finite number of $\\alpha$ and $\\beta$ values\n",
    "which are non-zero, we can rewrite the above convolution expressions\n",
    "as a matrix-vector multiplication"
   ]
  },
  {
   "cell_type": "markdown",
   "id": "48c47a13",
   "metadata": {
    "editable": true
   },
   "source": [
    "$$\n",
    "\\boldsymbol{\\delta}=\\begin{bmatrix}\\alpha_0 & 0 & 0 & 0 \\\\\n",
    "                            \\alpha_1 & \\alpha_0 & 0 & 0 \\\\\n",
    "\t\t\t    \\alpha_2 & \\alpha_1 & \\alpha_0 & 0 \\\\\n",
    "\t\t\t    0 & \\alpha_2 & \\alpha_1 & \\alpha_0 \\\\\n",
    "\t\t\t    0 & 0 & \\alpha_2 & \\alpha_1 \\\\\n",
    "\t\t\t    0 & 0 & 0 & \\alpha_2\n",
    "\t\t\t    \\end{bmatrix}\\begin{bmatrix} \\beta_0 \\\\ \\beta_1 \\\\ \\beta_2 \\\\ \\beta_3\\end{bmatrix}.\n",
    "$$"
   ]
  },
  {
   "cell_type": "markdown",
   "id": "657267d9",
   "metadata": {
    "editable": true
   },
   "source": [
    "## Commutative process\n",
    "\n",
    "The process is commutative and we can easily see that we can rewrite the multiplication in terms of  a matrix holding $\\beta$ and a vector holding $\\alpha$.\n",
    "In this case we have"
   ]
  },
  {
   "cell_type": "markdown",
   "id": "53b65c20",
   "metadata": {
    "editable": true
   },
   "source": [
    "$$\n",
    "\\boldsymbol{\\delta}=\\begin{bmatrix}\\beta_0 & 0 & 0  \\\\\n",
    "                            \\beta_1 & \\beta_0 & 0  \\\\\n",
    "\t\t\t    \\beta_2 & \\beta_1 & \\beta_0  \\\\\n",
    "\t\t\t    \\beta_3 & \\beta_2 & \\beta_1 \\\\\n",
    "\t\t\t    0 & \\beta_3 & \\beta_2 \\\\\n",
    "\t\t\t    0 & 0 & \\beta_3\n",
    "\t\t\t    \\end{bmatrix}\\begin{bmatrix} \\alpha_0 \\\\ \\alpha_1 \\\\ \\alpha_2\\end{bmatrix}.\n",
    "$$"
   ]
  },
  {
   "cell_type": "markdown",
   "id": "4541c9dd",
   "metadata": {
    "editable": true
   },
   "source": [
    "Note that the use of these matrices is for mathematical purposes only\n",
    "and not implementation purposes.  When implementing the above equation\n",
    "we do not encode (and allocate memory) the matrices explicitely.  We\n",
    "rather code the convolutions in the minimal memory footprint that they\n",
    "require."
   ]
  },
  {
   "cell_type": "markdown",
   "id": "40687e1f",
   "metadata": {
    "editable": true
   },
   "source": [
    "## Toeplitz matrices\n",
    "\n",
    "The above matrices are examples of so-called [Toeplitz\n",
    "matrices](https://link.springer.com/book/10.1007/978-93-86279-04-0). A\n",
    "Toeplitz matrix is a matrix in which each descending diagonal from\n",
    "left to right is constant. For instance the last matrix, which we\n",
    "rewrite as"
   ]
  },
  {
   "cell_type": "markdown",
   "id": "c945db75",
   "metadata": {
    "editable": true
   },
   "source": [
    "$$\n",
    "\\boldsymbol{A}=\\begin{bmatrix}a_0 & 0 & 0  \\\\\n",
    "                            a_1 & a_0 & 0  \\\\\n",
    "\t\t\t    a_2 & a_1 & a_0  \\\\\n",
    "\t\t\t    a_3 & a_2 & a_1 \\\\\n",
    "\t\t\t    0 & a_3 & a_2 \\\\\n",
    "\t\t\t    0 & 0 & a_3\n",
    "\t\t\t    \\end{bmatrix},\n",
    "$$"
   ]
  },
  {
   "cell_type": "markdown",
   "id": "b97d066b",
   "metadata": {
    "editable": true
   },
   "source": [
    "with elements $a_{ii}=a_{i+1,j+1}=a_{i-j}$ is an example of a Toeplitz\n",
    "matrix. Such a matrix does not need to be a square matrix.  Toeplitz\n",
    "matrices are also closely connected with Fourier series, because the multiplication operator by a trigonometric\n",
    "polynomial, compressed to a finite-dimensional space, can be\n",
    "represented by such a matrix. The example above shows that we can\n",
    "represent linear convolution as multiplication of a Toeplitz matrix by\n",
    "a vector."
   ]
  },
  {
   "cell_type": "markdown",
   "id": "d58c4189",
   "metadata": {
    "editable": true
   },
   "source": [
    "## Fourier series and Toeplitz matrices\n",
    "\n",
    "This is an active and ogoing research area concerning CNNs. The following articles may be of interest\n",
    "1. [Read more about the convolution theorem and Fouriers series](https://www.sciencedirect.com/topics/engineering/convolution-theorem#:~:text=The%20convolution%20theorem%20(together%20with,k%20)%20G%20(%20k%20)%20.)\n",
    "\n",
    "2. [Fourier Transform Layer](https://www.sciencedirect.com/science/article/pii/S1568494623006257)"
   ]
  },
  {
   "cell_type": "markdown",
   "id": "2522879d",
   "metadata": {
    "editable": true
   },
   "source": [
    "## Generalizing the above one-dimensional case\n",
    "\n",
    "In order to align the above simple case with the more general convolution cases, we rename $\\boldsymbol{\\alpha}$, whose length is $m=3$, with $\\boldsymbol{w}$.\n",
    "We will interpret $\\boldsymbol{w}$ as a weight/filter function with which we want to perform the convolution with an input variabale $\\boldsymbol{x}$ of length $n$.\n",
    "We will assume always that the filter $\\boldsymbol{w}$ has dimensionality $m \\le n$.\n",
    "\n",
    "We replace thus $\\boldsymbol{\\beta}$ with $\\boldsymbol{x}$ and $\\boldsymbol{\\delta}$ with $\\boldsymbol{y}$ and have"
   ]
  },
  {
   "cell_type": "markdown",
   "id": "286a0f16",
   "metadata": {
    "editable": true
   },
   "source": [
    "$$\n",
    "y(i) \\left(x*w\\right)(i)= \\sum_{k=0}^{k=m-1}w(k)x(i-k),\n",
    "$$"
   ]
  },
  {
   "cell_type": "markdown",
   "id": "96c66041",
   "metadata": {
    "editable": true
   },
   "source": [
    "where $m=3$ in our case, the maximum length of the vector $\\boldsymbol{w}$.\n",
    "Here the symbol $*$ represents the mathematical operation of convolution."
   ]
  },
  {
   "cell_type": "markdown",
   "id": "ec762927",
   "metadata": {
    "editable": true
   },
   "source": [
    "## Memory considerations\n",
    "\n",
    "This expression leaves us however with some terms with negative\n",
    "indices, for example $x(-1)$ and $x(-2)$ which may not be defined. Our\n",
    "vector $\\boldsymbol{x}$ has components $x(0)$, $x(1)$, $x(2)$ and $x(3)$. The\n",
    "index for $\\boldsymbol{x}$ runs from $j=0$ to $j=3$ since $\\boldsymbol{x}$ is meant to\n",
    "represent a third-order polynomial.\n",
    "\n",
    "Furthermore, the index $i$ runs from $i=0$ to $i=5$ since $\\boldsymbol{y}$ contains the coefficients of a fifth-order polynomial.\n",
    "When $i=5$ we may also values of $x(4)$ and $x(5)$ which are not defined.\n",
    "\n",
    "The solution to this is what is called **padding**!\n",
    "We simply define a new vector $x$ with two added elements set to zero before $x(0)$ and two new elements after $x(3)$ set to zero. That is, we augment the\n",
    "length of $\\boldsymbol{x}$ from $n=4$ to $n+2P=8$, where $P=2$ is the padding constant, see discussions below as well."
   ]
  },
  {
   "cell_type": "markdown",
   "id": "213a9f6b",
   "metadata": {
    "editable": true
   },
   "source": [
    "## New vector\n",
    "\n",
    "We have now a new vector defined as $x(0)=0$, $x(1)=0$,\n",
    "$x(2)=\\beta_0$, $x(3)=\\beta_1$, $x(4)=\\beta_2$, $x(5)=\\beta_3$,\n",
    "$x(6)=0$, and $x(7)=0$. We have added four new elements, which\n",
    "are all zero. The benefit is that we can rewrite the equation for\n",
    "$\\boldsymbol{y}$, with $i=0,1,\\dots,5$,"
   ]
  },
  {
   "cell_type": "markdown",
   "id": "cf001a39",
   "metadata": {
    "editable": true
   },
   "source": [
    "$$\n",
    "y(i) = \\sum_{k=0}^{k=m-1}w(k)x(i+(m-1)-k).\n",
    "$$"
   ]
  },
  {
   "cell_type": "markdown",
   "id": "ba1b9e8d",
   "metadata": {
    "editable": true
   },
   "source": [
    "As an example, we have"
   ]
  },
  {
   "cell_type": "markdown",
   "id": "4ca9e65d",
   "metadata": {
    "editable": true
   },
   "source": [
    "$$\n",
    "y(4)=x(6)w(0)+x(5)w(1)+x(4)w(2)=0\\times \\alpha_0+\\beta_3\\alpha_1+\\beta_2\\alpha_2,\n",
    "$$"
   ]
  },
  {
   "cell_type": "markdown",
   "id": "2ad25731",
   "metadata": {
    "editable": true
   },
   "source": [
    "as before except that we have now the term $x(6)w(0)$.\n",
    "\n",
    "Similarly\n",
    "As an example, we have"
   ]
  },
  {
   "cell_type": "markdown",
   "id": "c56168fe",
   "metadata": {
    "editable": true
   },
   "source": [
    "$$\n",
    "y(5)=x(7)w(0)+x(6)w(1)+x(5)w(2)=0\\times \\alpha_0+0\\times\\alpha_1+\\beta_3\\alpha_2,\n",
    "$$"
   ]
  },
  {
   "cell_type": "markdown",
   "id": "9790a7a8",
   "metadata": {
    "editable": true
   },
   "source": [
    "the fifth-order term.\n",
    "\n",
    "The zeroth-order term is"
   ]
  },
  {
   "cell_type": "markdown",
   "id": "0d6f7137",
   "metadata": {
    "editable": true
   },
   "source": [
    "$$\n",
    "y(0)=x(2)w(0)+x(1)w(1)+x(0)w(2)=\\beta_0 \\alpha_0+0\\times\\alpha_1+0\\times\\alpha_2=\\alpha_0\\beta_0.\n",
    "$$"
   ]
  },
  {
   "cell_type": "markdown",
   "id": "5fbcb498",
   "metadata": {
    "editable": true
   },
   "source": [
    "## Rewriting as dot products\n",
    "\n",
    "If we now flip the filter vector, with the following term as a typical example"
   ]
  },
  {
   "cell_type": "markdown",
   "id": "13978f53",
   "metadata": {
    "editable": true
   },
   "source": [
    "$$\n",
    "y(0)=x(2)w(0)+x(1)w(1)+x(0)w(2)=x(2)\\tilde{w}(2)+x(1)\\tilde{w}(1)+x(0)\\tilde{w}(0),\n",
    "$$"
   ]
  },
  {
   "cell_type": "markdown",
   "id": "6bbe8b9c",
   "metadata": {
    "editable": true
   },
   "source": [
    "with $\\tilde{w}(0)=w(2)$, $\\tilde{w}(1)=w(1)$, and $\\tilde{w}(2)=w(0)$, we can then rewrite the above sum as a dot product of\n",
    "$x(i:i+(m-1))\\tilde{w}$ for element $y(i), where $x(i:i+(m-1))$ is simply a patch of $\\boldsymbol{x}$ of size $m-1$.\n",
    "\n",
    "The padding $P$ we have introduced for the convolution stage is just\n",
    "another hyperparameter which is introduced as part of the\n",
    "architecture. Similarly, below we will also introduce another\n",
    "hyperparameter called **Stride** $S$. For the latter, see the examples discussed during the lecture of Tuesday Feb 20."
   ]
  },
  {
   "cell_type": "markdown",
   "id": "266d789e",
   "metadata": {
    "editable": true
   },
   "source": [
    "## Cross correlation\n",
    "\n",
    "In essentially all applications one uses what is called cross correlation instead of the standard convolution described above.\n",
    "This means that multiplication is performed in the same direction and instead of the general expression we have discussed above (with infinite sums)"
   ]
  },
  {
   "cell_type": "markdown",
   "id": "13f45826",
   "metadata": {
    "editable": true
   },
   "source": [
    "$$\n",
    "y(i) = \\sum_{k=-\\infty}^{k=\\infty}w(k)x(i-k),\n",
    "$$"
   ]
  },
  {
   "cell_type": "markdown",
   "id": "85dbd85d",
   "metadata": {
    "editable": true
   },
   "source": [
    "we have now"
   ]
  },
  {
   "cell_type": "markdown",
   "id": "bae57e2f",
   "metadata": {
    "editable": true
   },
   "source": [
    "$$\n",
    "y(i) = \\sum_{k=-\\infty}^{k=\\infty}w(k)x(i+k).\n",
    "$$"
   ]
  },
  {
   "cell_type": "markdown",
   "id": "c29e8a8d",
   "metadata": {
    "editable": true
   },
   "source": [
    "Both TensorFlow and PyTorch (as well as our own code example below), implement the last equation, although it is normally referred to as convolution.\n",
    "The same padding rules and stride rules discussed below apply to this expression as well.\n",
    "\n",
    "We leave it as an exercise for you to convince yourself that the example we have discussed till now, gives the same final expression using the last expression."
   ]
  },
  {
   "cell_type": "markdown",
   "id": "4e0b6c37",
   "metadata": {
    "editable": true
   },
   "source": [
    "## Two-dimensional objects\n",
    "\n",
    "We are now ready to start studying the discrete convolutions relevant for convolutional neural networks.\n",
    "We often use convolutions over more than one dimension at a time. If\n",
    "we have a two-dimensional image $X$ as input, we can have a **filter**\n",
    "defined by a two-dimensional **kernel/weight/filter** $W$. This leads to an output $Y$"
   ]
  },
  {
   "cell_type": "markdown",
   "id": "e44991af",
   "metadata": {
    "editable": true
   },
   "source": [
    "$$\n",
    "Y(i,j)=(X * W)(i,j) = \\sum_m\\sum_n X(m,n)W(i-m,j-n).\n",
    "$$"
   ]
  },
  {
   "cell_type": "markdown",
   "id": "1ee44348",
   "metadata": {
    "editable": true
   },
   "source": [
    "Convolution is a commutative process, which means we can rewrite this equation as"
   ]
  },
  {
   "cell_type": "markdown",
   "id": "027e95e1",
   "metadata": {
    "editable": true
   },
   "source": [
    "$$\n",
    "Y(i,j)=(X * W)(i,j) = \\sum_m\\sum_n X(i-m,j-n)W(m,n).\n",
    "$$"
   ]
  },
  {
   "cell_type": "markdown",
   "id": "8611bc9d",
   "metadata": {
    "editable": true
   },
   "source": [
    "Normally the latter is more straightforward to implement in  a machine larning library since there is less variation in the range of values of $m$ and $n$.\n",
    "\n",
    "As mentioned above, most deep learning libraries implement cross-correlation instead of convolution (although it is referred to s convolution)"
   ]
  },
  {
   "cell_type": "markdown",
   "id": "462f784b",
   "metadata": {
    "editable": true
   },
   "source": [
    "$$\n",
    "Y(i,j)=(X * W)(i,j) = \\sum_m\\sum_n X(i+m,j+n)W(m,n).\n",
    "$$"
   ]
  },
  {
   "cell_type": "markdown",
   "id": "0238d204",
   "metadata": {
    "editable": true
   },
   "source": [
    "## CNNs in more detail\n",
    "\n",
    "Let assume we have an input matrix $X$ of dimensionality $3\\times 3$\n",
    "and a $2\\times 2$ filter $W$ given by the following matrices"
   ]
  },
  {
   "cell_type": "markdown",
   "id": "6cb086ef",
   "metadata": {
    "editable": true
   },
   "source": [
    "$$\n",
    "\\boldsymbol{X}=\\begin{bmatrix}x_{00} & x_{01} & x_{02}  \\\\\n",
    "                      x_{10} & x_{11} & x_{12}  \\\\\n",
    "\t              x_{20} & x_{21} & x_{22} \\end{bmatrix},\n",
    "$$"
   ]
  },
  {
   "cell_type": "markdown",
   "id": "9aa31f4f",
   "metadata": {
    "editable": true
   },
   "source": [
    "and"
   ]
  },
  {
   "cell_type": "markdown",
   "id": "f1b7944d",
   "metadata": {
    "editable": true
   },
   "source": [
    "$$\n",
    "\\boldsymbol{W}=\\begin{bmatrix}w_{00} & w_{01} \\\\\n",
    "\t              w_{10} & w_{11}\\end{bmatrix}.\n",
    "$$"
   ]
  },
  {
   "cell_type": "markdown",
   "id": "0ec80383",
   "metadata": {
    "editable": true
   },
   "source": [
    "We introduce now the hyperparameter $S$ **stride**. Stride represents how the filter $W$ moves the convolution process on the matrix $X$.\n",
    "We strongly recommend the repository on [Arithmetic of deep learning by Dumoulin and Visin](https://github.com/vdumoulin/conv_arithmetic) \n",
    "\n",
    "Here we set the stride equal to $S=1$, which means that, starting with the element $x_{00}$, the filter will act on $2\\times 2$ submatrices each time, starting with the upper corner and moving according to the stride value column by column. \n",
    "\n",
    "Here we perform the operation"
   ]
  },
  {
   "cell_type": "markdown",
   "id": "f9037582",
   "metadata": {
    "editable": true
   },
   "source": [
    "$$\n",
    "Y_(i,j)=(X * W)(i,j) = \\sum_m\\sum_n X(i-m,j-n)W(m,n),\n",
    "$$"
   ]
  },
  {
   "cell_type": "markdown",
   "id": "beb28ad0",
   "metadata": {
    "editable": true
   },
   "source": [
    "and obtain"
   ]
  },
  {
   "cell_type": "markdown",
   "id": "6ecc8c85",
   "metadata": {
    "editable": true
   },
   "source": [
    "$$\n",
    "\\boldsymbol{Y}=\\begin{bmatrix}x_{00}w_{00}+x_{01}w_{01}+x_{10}w_{10}+x_{11}w_{11} & x_{01}w_{00}+x_{02}w_{01}+x_{11}w_{10}+x_{12}w_{11}  \\\\\n",
    "\t              x_{10}w_{00}+x_{11}w_{01}+x_{20}w_{10}+x_{21}w_{11} & x_{11}w_{00}+x_{12}w_{01}+x_{21}w_{10}+x_{22}w_{11}\\end{bmatrix}.\n",
    "$$"
   ]
  },
  {
   "cell_type": "markdown",
   "id": "a0bb0eba",
   "metadata": {
    "editable": true
   },
   "source": [
    "We can rewrite this operation in terms of a matrix-vector multiplication by defining a new vector where we flatten out the inputs as a vector $\\boldsymbol{X}'$ of length $9$ and\n",
    "a matrix $\\boldsymbol{W}'$ with dimension $4\\times 9$ as"
   ]
  },
  {
   "cell_type": "markdown",
   "id": "70f5d89c",
   "metadata": {
    "editable": true
   },
   "source": [
    "$$\n",
    "\\boldsymbol{X}'=\\begin{bmatrix}x_{00} \\\\ x_{01} \\\\ x_{02} \\\\ x_{10} \\\\ x_{11} \\\\ x_{12} \\\\ x_{20} \\\\ x_{21} \\\\ x_{22} \\end{bmatrix},\n",
    "$$"
   ]
  },
  {
   "cell_type": "markdown",
   "id": "4e5eac93",
   "metadata": {
    "editable": true
   },
   "source": [
    "and the new matrix"
   ]
  },
  {
   "cell_type": "markdown",
   "id": "ba9ecbff",
   "metadata": {
    "editable": true
   },
   "source": [
    "$$\n",
    "\\boldsymbol{W}'=\\begin{bmatrix} w_{00} & w_{01} & 0 & w_{10} & w_{11} & 0 & 0 & 0 & 0 \\\\\n",
    "                        0  & w_{00} & w_{01} & 0 & w_{10} & w_{11} & 0 & 0 & 0 \\\\\n",
    "\t\t\t0 & 0 & 0 & w_{00} & w_{01} & 0 & w_{10} & w_{11} & 0  \\\\\n",
    "                        0 & 0 & 0 & 0 & w_{00} & w_{01} & 0 & w_{10} & w_{11}\\end{bmatrix}.\n",
    "$$"
   ]
  },
  {
   "cell_type": "markdown",
   "id": "c72bf3e3",
   "metadata": {
    "editable": true
   },
   "source": [
    "We see easily that performing the matrix-vector multiplication $\\boldsymbol{W}'\\boldsymbol{X}'$ is the same as the above convolution with stride $S=1$, that is"
   ]
  },
  {
   "cell_type": "markdown",
   "id": "abf90554",
   "metadata": {
    "editable": true
   },
   "source": [
    "$$\n",
    "Y=(\\boldsymbol{W}*\\boldsymbol{X}),\n",
    "$$"
   ]
  },
  {
   "cell_type": "markdown",
   "id": "36763bb9",
   "metadata": {
    "editable": true
   },
   "source": [
    "is now given by $\\boldsymbol{W}'\\boldsymbol{X}'$ which is a vector of length $4$ instead of the originally resulting  $2\\times 2$ output matrix."
   ]
  },
  {
   "cell_type": "markdown",
   "id": "4df4264b",
   "metadata": {
    "editable": true
   },
   "source": [
    "## The convolution stage\n",
    "\n",
    "The convolution stage, where we apply different filters $\\boldsymbol{W}$ in\n",
    "order to reduce the dimensionality of an image, adds, in addition to\n",
    "the weights and biases (to be trained by the back propagation\n",
    "algorithm) that define the filters, two hyperparameters, the so-called\n",
    "**padding** $P$ and the stride $S$.\n",
    "\n",
    "These will be discussed in the forthcoming (material to be added, see also whiteboard notes from lecture on Feb 20)."
   ]
  },
  {
   "cell_type": "markdown",
   "id": "f480ef67",
   "metadata": {
    "editable": true
   },
   "source": [
    "## Performing a discrete convolution with padding ([From Raschka et al](https://github.com/rasbt/machine-learning-book))\n",
    "\n",
    "<!-- dom:FIGURE: [figslides/discreteconv.png, width=500 frac=0.67]  A deep CNN -->\n",
    "<!-- begin figure -->\n",
    "\n",
    "<img src=\"figslides/discreteconv.png\" width=\"500\"><p style=\"font-size: 0.9em\"><i>Figure 1: A deep CNN</i></p>\n",
    "<!-- end figure -->"
   ]
  },
  {
   "cell_type": "markdown",
   "id": "7c6b60be",
   "metadata": {
    "editable": true
   },
   "source": [
    "## Performing a general discrete convolution ([From Raschka et al](https://github.com/rasbt/machine-learning-book))\n",
    "\n",
    "<!-- dom:FIGURE: [figslides/discreteconv1.png, width=500 frac=0.67]  A deep CNN -->\n",
    "<!-- begin figure -->\n",
    "\n",
    "<img src=\"figslides/discreteconv1.png\" width=\"500\"><p style=\"font-size: 0.9em\"><i>Figure 1: A deep CNN</i></p>\n",
    "<!-- end figure -->"
   ]
  },
  {
   "cell_type": "markdown",
   "id": "a82cbc38",
   "metadata": {
    "editable": true
   },
   "source": [
    "## Set of filters\n",
    "\n",
    "The collection of kernels/filters $W$ defining a discrete convolution has a shape\n",
    "corresponding to some permutation of $(n, m, k_1, \\ldots, k_N)$, where"
   ]
  },
  {
   "cell_type": "markdown",
   "id": "672bcbaa",
   "metadata": {
    "editable": true
   },
   "source": [
    "$$\n",
    "\\begin{split}\n",
    "    n &\\equiv \\text{number of output feature maps},\\\\\n",
    "    m &\\equiv \\text{number of input feature maps},\\\\\n",
    "    k_j &\\equiv \\text{kernel size along axis $j$}.\n",
    "\\end{split}\n",
    "$$"
   ]
  },
  {
   "cell_type": "markdown",
   "id": "9525de36",
   "metadata": {
    "editable": true
   },
   "source": [
    "The following properties affect the output size $o_j$ of a convolutional layer\n",
    "along axis $j$:\n",
    "\n",
    "1. $i_j$: input size along axis $j$,\n",
    "\n",
    "2. $k_j$: kernel/filter size along axis $j$,\n",
    "\n",
    "3. stride (distance between two consecutive positions of the kernel/filter) along axis $j$,\n",
    "\n",
    "4. zero padding (number of zeros concatenated at the beginning and at the end of an axis) along axis $j$.\n",
    "\n",
    "For instance, the above examples shows a  $2\\times 2$ kernel/filter $\\boldsymbol{W}$  applied to a $3 \\times 3$ input padded with a $0 \\times 0$\n",
    "border of zeros using $1 \\times 1$ strides.\n",
    "\n",
    "Note that strides constitute a form of **subsampling**. As an alternative to\n",
    "being interpreted as a measure of how much the kernel/filter is translated, strides\n",
    "can also be viewed as how much of the output is retained. For instance, moving\n",
    "the kernel by hops of two is equivalent to moving the kernel by hops of one but\n",
    "retaining only odd output elements."
   ]
  },
  {
   "cell_type": "markdown",
   "id": "cde44506",
   "metadata": {
    "editable": true
   },
   "source": [
    "## Pooling\n",
    "\n",
    "In addition to discrete convolutions themselves, {\\em pooling\\/} operations\n",
    "make up another important building block in CNNs. Pooling operations reduce\n",
    "the size of feature maps by using some function to summarize subregions, such\n",
    "as taking the average or the maximum value.\n",
    "\n",
    "Pooling works by sliding a window across the input and feeding the content of\n",
    "the window to a {\\em pooling function}. In some sense, pooling works very much\n",
    "like a discrete convolution, but replaces the linear combination described by\n",
    "the kernel with some other function. Poolin\n",
    "provides an example for average pooling, and \n",
    "does the same for max pooling.\n",
    "\n",
    "The following properties affect the output size $o_j$ of a pooling layer\n",
    "along axis $j$:\n",
    "\n",
    "1. $i_j$: input size along axis $j$,\n",
    "\n",
    "2. $k_j$: pooling window size along axis $j$,\n",
    "\n",
    "3. $s_j$: stride (distance between two consecutive positions of the pooling window) along axis $j$.\n",
    "\n",
    "The analysis of the relationship between convolutional layer properties is eased\n",
    "by the fact that they don't interact across axes, i.e., the choice of kernel\n",
    "size, stride and zero padding along axis $j$ only affects the output size of\n",
    "axis $j$. Because of that, we will focus on the following simplified\n",
    "setting:\n",
    "\n",
    "1. 2-D discrete convolutions ($N = 2$),\n",
    "\n",
    "2. square inputs ($i_1 = i_2 = i$),\n",
    "\n",
    "3. square kernel size ($k_1 = k_2 = k$),\n",
    "\n",
    "4. same strides along both axes ($s_1 = s_2 = s$),\n",
    "\n",
    "5. same zero padding along both axes ($p_1 = p_2 = p$).\n",
    "\n",
    "This facilitates the analysis and the visualization, but keep in mind that the\n",
    "results outlined here also generalize to the N-D and non-square cases."
   ]
  },
  {
   "cell_type": "markdown",
   "id": "8fff529a",
   "metadata": {
    "editable": true
   },
   "source": [
    "## No zero padding, unit strides\n",
    "\n",
    "The simplest case to analyze is when the kernel just slides across every\n",
    "position of the input (i.e., $s = 1$ and $p = 0$).\n",
    "\n",
    "For any $i$ and $k$, and for $s = 1$ and $p = 0$,"
   ]
  },
  {
   "cell_type": "markdown",
   "id": "1eacf5e4",
   "metadata": {
    "editable": true
   },
   "source": [
    "$$\n",
    "o = (i - k) + 1.\n",
    "$$"
   ]
  },
  {
   "cell_type": "markdown",
   "id": "aeea2040",
   "metadata": {
    "editable": true
   },
   "source": [
    "## Zero padding, unit strides\n",
    "\n",
    "To factor in zero padding (i.e., only restricting to $s = 1$), let's consider\n",
    "its effect on the effective input size: padding with $p$ zeros changes the\n",
    "effective input size from $i$ to $i + 2p$. In the general case, we can infer the following\n",
    "relationship\n",
    "\n",
    "For any $i$, $k$ and $p$, and for $s = 1$,"
   ]
  },
  {
   "cell_type": "markdown",
   "id": "679e83e5",
   "metadata": {
    "editable": true
   },
   "source": [
    "$$\n",
    "o = (i - k) + 2p + 1.\n",
    "$$"
   ]
  },
  {
   "cell_type": "markdown",
   "id": "7da4595a",
   "metadata": {
    "editable": true
   },
   "source": [
    "## Half (same) padding\n",
    "\n",
    "Having the output size be the same as the input size (i.e., $o = i$) can be a\n",
    "desirable property:\n",
    "\n",
    "For any $i$ and for $k$ odd ($k = 2n + 1, \\quad n \\in \\mathbb{N}$), $s = 1$ and\n",
    "$p = \\lfloor k / 2 \\rfloor = n$,"
   ]
  },
  {
   "cell_type": "markdown",
   "id": "36418272",
   "metadata": {
    "editable": true
   },
   "source": [
    "$$\n",
    "\\begin{split}\n",
    "    o &= i + 2 \\lfloor k / 2 \\rfloor - (k - 1) \\\\\n",
    "      &= i + 2n - 2n \\\\\n",
    "      &= i.\n",
    "\\end{split}\n",
    "$$"
   ]
  },
  {
   "cell_type": "markdown",
   "id": "82a1b552",
   "metadata": {
    "editable": true
   },
   "source": [
    "## Full padding\n",
    "\n",
    "While convolving a kernel generally decreases the output size with\n",
    "respect to the input size, sometimes the opposite is required. This can be\n",
    "achieved with proper zero padding:\n",
    "\n",
    "For any $i$ and $k$, and for $p = k - 1$ and $s = 1$,"
   ]
  },
  {
   "cell_type": "markdown",
   "id": "e147980a",
   "metadata": {
    "editable": true
   },
   "source": [
    "$$\n",
    "\\begin{split}\n",
    "    o &= i + 2(k - 1) - (k - 1) \\\\\n",
    "      &= i + (k - 1).\n",
    "\\end{split}\n",
    "$$"
   ]
  },
  {
   "cell_type": "markdown",
   "id": "5bb5c4c7",
   "metadata": {
    "editable": true
   },
   "source": [
    "This is sometimes referred to as full padding, because in this\n",
    "setting every possible partial or complete superimposition of the kernel on the\n",
    "input feature map is taken into account."
   ]
  },
  {
   "cell_type": "markdown",
   "id": "f8ddc003",
   "metadata": {
    "editable": true
   },
   "source": [
    "## Pooling arithmetic\n",
    "\n",
    "In a neural network, pooling layers provide invariance to small translations of\n",
    "the input. The most common kind of pooling is **max pooling**, which\n",
    "consists in splitting the input in (usually non-overlapping) patches and\n",
    "outputting the maximum value of each patch. Other kinds of pooling exist, e.g.,\n",
    "mean or average pooling, which all share the same idea of aggregating the input\n",
    "locally by applying a non-linearity to the content of some patches.\n",
    "\n",
    "Since pooling does not involve\n",
    "zero padding, the relationship describing the general case is as follows:\n",
    "\n",
    "For any $i$, $k$ and $s$,"
   ]
  },
  {
   "cell_type": "markdown",
   "id": "d285da64",
   "metadata": {
    "editable": true
   },
   "source": [
    "$$\n",
    "o = \\left\\lfloor \\frac{i - k}{s} \\right\\rfloor + 1.\n",
    "$$"
   ]
  },
  {
   "cell_type": "markdown",
   "id": "03f57a66",
   "metadata": {
    "editable": true
   },
   "source": [
    "## Pooling types ([From Raschka et al](https://github.com/rasbt/machine-learning-book))\n",
    "\n",
    "<!-- dom:FIGURE: [figslides/maxpooling.png, width=500 frac=0.67]  A deep CNN -->\n",
    "<!-- begin figure -->\n",
    "\n",
    "<img src=\"figslides/maxpooling.png\" width=\"500\"><p style=\"font-size: 0.9em\"><i>Figure 1: A deep CNN</i></p>\n",
    "<!-- end figure -->"
   ]
  },
  {
   "cell_type": "markdown",
   "id": "ad387216",
   "metadata": {
    "editable": true
   },
   "source": [
    "## Building our own CNN code\n",
    "\n",
    "Here we present a flexible and readable python code for a CNN\n",
    "implemented with NumPy. We will present the code, showcase how to use\n",
    "the codebase and fit a CNN that yields a 99% accuracy on the 28x28\n",
    "MNIST dataset within reasonable time.\n",
    "\n",
    "The CNN is compatible with all schedulers, cost functions and\n",
    "activation functions discussed in constructing our neural network\n",
    "codes.\n",
    "\n",
    " The CNN code consists of different types of Layer classes, including\n",
    "Convolution2DLayer, Pooling2DLayer, FlattenLayer, FullyConnectedLayer\n",
    "and OutputLayer, which can be added to the CNN object using the\n",
    "interface of the CNN class. This allows you to easily construct your\n",
    "own CNN, as well as allowing you to get used to an interface similar\n",
    "to that of TensorFlow which is used for real world applications. \n",
    "\n",
    "Another important feature of this code is that it throws errors if\n",
    "unreasonable decisions are made (for example using a kernel that is\n",
    "larger than the image, not using a FlattenLayer, etc), and provides\n",
    "the user with an informative error message."
   ]
  },
  {
   "cell_type": "markdown",
   "id": "e5c603ac",
   "metadata": {
    "editable": true
   },
   "source": [
    "### List of contents:\n",
    "\n",
    "1. Schedulers\n",
    "\n",
    "2. Activation Functions\n",
    "\n",
    "3. Cost Functions \n",
    "\n",
    "4. Convolution\n",
    "\n",
    "5. Layers\n",
    "\n",
    "6. CNN \n",
    "\n",
    "7. Some final remarks"
   ]
  },
  {
   "cell_type": "markdown",
   "id": "c8af696e",
   "metadata": {
    "editable": true
   },
   "source": [
    "### Schedulers\n",
    "\n",
    "The code below shows object oriented implementations of the Constant,\n",
    "Momentum, Adagrad, AdagradMomentum, RMS prop and Adam schedulers. All\n",
    "of the classes belong to the shared abstract Scheduler class, and\n",
    "share the update_change() and reset() methods allowing for any of the\n",
    "schedulers to be seamlessly used during the training stage, as will\n",
    "later be shown in the fit() method of the neural\n",
    "network. Update_change() only has one parameter, the gradient\n",
    "($\\delta^{l}_{j}a^{l-1}_k$), and returns the change which will be\n",
    "subtracted from the weights. The reset() function takes no parameters,\n",
    "and resets the desired variables. For Constant and Momentum, reset\n",
    "does nothing."
   ]
  },
  {
   "cell_type": "code",
   "execution_count": 1,
   "id": "66529c75",
   "metadata": {
    "collapsed": false,
    "editable": true
   },
   "outputs": [],
   "source": [
    "import autograd.numpy as np\n",
    "\n",
    "class Scheduler:\n",
    "    \"\"\"\n",
    "    Abstract class for Schedulers\n",
    "    \"\"\"\n",
    "\n",
    "    def __init__(self, eta):\n",
    "        self.eta = eta\n",
    "\n",
    "    # should be overwritten\n",
    "    def update_change(self, gradient):\n",
    "        raise NotImplementedError\n",
    "\n",
    "    # overwritten if needed\n",
    "    def reset(self):\n",
    "        pass\n",
    "\n",
    "\n",
    "class Constant(Scheduler):\n",
    "    def __init__(self, eta):\n",
    "        super().__init__(eta)\n",
    "\n",
    "    def update_change(self, gradient):\n",
    "        return self.eta * gradient\n",
    "    \n",
    "    def reset(self):\n",
    "        pass\n",
    "\n",
    "\n",
    "class Momentum(Scheduler):\n",
    "    def __init__(self, eta: float, momentum: float):\n",
    "        super().__init__(eta)\n",
    "        self.momentum = momentum\n",
    "        self.change = 0\n",
    "\n",
    "    def update_change(self, gradient):\n",
    "        self.change = self.momentum * self.change + self.eta * gradient\n",
    "        return self.change\n",
    "\n",
    "    def reset(self):\n",
    "        pass\n",
    "\n",
    "\n",
    "class Adagrad(Scheduler):\n",
    "    def __init__(self, eta):\n",
    "        super().__init__(eta)\n",
    "        self.G_t = None\n",
    "\n",
    "    def update_change(self, gradient):\n",
    "        delta = 1e-8  # avoid division ny zero\n",
    "\n",
    "        if self.G_t is None:\n",
    "            self.G_t = np.zeros((gradient.shape[0], gradient.shape[0]))\n",
    "\n",
    "        self.G_t += gradient @ gradient.T\n",
    "\n",
    "        G_t_inverse = 1 / (\n",
    "            delta + np.sqrt(np.reshape(np.diagonal(self.G_t), (self.G_t.shape[0], 1)))\n",
    "        )\n",
    "        return self.eta * gradient * G_t_inverse\n",
    "\n",
    "    def reset(self):\n",
    "        self.G_t = None\n",
    "\n",
    "\n",
    "class AdagradMomentum(Scheduler):\n",
    "    def __init__(self, eta, momentum):\n",
    "        super().__init__(eta)\n",
    "        self.G_t = None\n",
    "        self.momentum = momentum\n",
    "        self.change = 0\n",
    "\n",
    "    def update_change(self, gradient):\n",
    "        delta = 1e-8  # avoid division ny zero\n",
    "\n",
    "        if self.G_t is None:\n",
    "            self.G_t = np.zeros((gradient.shape[0], gradient.shape[0]))\n",
    "\n",
    "        self.G_t += gradient @ gradient.T\n",
    "\n",
    "        G_t_inverse = 1 / (\n",
    "            delta + np.sqrt(np.reshape(np.diagonal(self.G_t), (self.G_t.shape[0], 1)))\n",
    "        )\n",
    "        self.change = self.change * self.momentum + self.eta * gradient * G_t_inverse\n",
    "        return self.change\n",
    "\n",
    "    def reset(self):\n",
    "        self.G_t = None\n",
    "\n",
    "\n",
    "class RMS_prop(Scheduler):\n",
    "    def __init__(self, eta, rho):\n",
    "        super().__init__(eta)\n",
    "        self.rho = rho\n",
    "        self.second = 0.0\n",
    "\n",
    "    def update_change(self, gradient):\n",
    "        delta = 1e-8  # avoid division ny zero\n",
    "        self.second = self.rho * self.second + (1 - self.rho) * gradient * gradient\n",
    "        return self.eta * gradient / (np.sqrt(self.second + delta))\n",
    "\n",
    "    def reset(self):\n",
    "        self.second = 0.0\n",
    "\n",
    "\n",
    "class Adam(Scheduler):\n",
    "    def __init__(self, eta, rho, rho2):\n",
    "        super().__init__(eta)\n",
    "        self.rho = rho\n",
    "        self.rho2 = rho2\n",
    "        self.moment = 0\n",
    "        self.second = 0\n",
    "        self.n_epochs = 1\n",
    "\n",
    "    def update_change(self, gradient):\n",
    "        delta = 1e-8  # avoid division ny zero\n",
    "\n",
    "        self.moment = self.rho * self.moment + (1 - self.rho) * gradient\n",
    "        self.second = self.rho2 * self.second + (1 - self.rho2) * gradient * gradient\n",
    "\n",
    "        moment_corrected = self.moment / (1 - self.rho**self.n_epochs)\n",
    "        second_corrected = self.second / (1 - self.rho2**self.n_epochs)\n",
    "\n",
    "        return self.eta * moment_corrected / (np.sqrt(second_corrected + delta))\n",
    "\n",
    "    def reset(self):\n",
    "        self.n_epochs += 1\n",
    "        self.moment = 0\n",
    "        self.second = 0"
   ]
  },
  {
   "cell_type": "markdown",
   "id": "29d9e2fc",
   "metadata": {
    "editable": true
   },
   "source": [
    "### Usage of schedulers\n",
    "\n",
    "To initalize a scheduler, simply create the object and pass in the necessary parameters such as the learning rate and the momentum as shown below. As the Scheduler class is an abstract class it should not called directly, and will raise an error upon usage."
   ]
  },
  {
   "cell_type": "code",
   "execution_count": 2,
   "id": "b234309c",
   "metadata": {
    "collapsed": false,
    "editable": true
   },
   "outputs": [],
   "source": [
    "momentum_scheduler = Momentum(eta=1e-3, momentum=0.9)\n",
    "adam_scheduler = Adam(eta=1e-3, rho=0.9, rho2=0.999)"
   ]
  },
  {
   "cell_type": "markdown",
   "id": "1e430a87",
   "metadata": {
    "editable": true
   },
   "source": [
    "Here is a small example for how a segment of code using schedulers could look. Switching out the schedulers is simple."
   ]
  },
  {
   "cell_type": "code",
   "execution_count": 3,
   "id": "3c844c78",
   "metadata": {
    "collapsed": false,
    "editable": true
   },
   "outputs": [],
   "source": [
    "weights = np.ones((3,3))\n",
    "print(f\"Before scheduler:\\n{weights=}\")\n",
    "\n",
    "epochs = 10\n",
    "for e in range(epochs):\n",
    "    gradient = np.random.rand(3, 3)\n",
    "    change = adam_scheduler.update_change(gradient)\n",
    "    weights = weights - change\n",
    "    adam_scheduler.reset()\n",
    "\n",
    "print(f\"\\nAfter scheduler:\\n{weights=}\")"
   ]
  },
  {
   "cell_type": "markdown",
   "id": "90541a8f",
   "metadata": {
    "editable": true
   },
   "source": [
    "### Cost functions\n",
    "\n",
    "In this section we will quickly look at cost functions that can be\n",
    "used when creating the neural network. Every cost function takes the\n",
    "target vector as its parameter, and returns a function valued only at\n",
    "X such that it may easily be differentiated."
   ]
  },
  {
   "cell_type": "code",
   "execution_count": 4,
   "id": "7b57bda9",
   "metadata": {
    "collapsed": false,
    "editable": true
   },
   "outputs": [],
   "source": [
    "def CostOLS(target):\n",
    "    \"\"\"\n",
    "    Return OLS function valued only at X, so\n",
    "    that it may be easily differentiated\n",
    "    \"\"\"\n",
    "\n",
    "    def func(X):\n",
    "        return (1.0 / target.shape[0]) * np.sum((target - X) ** 2)\n",
    "\n",
    "    return func\n",
    "\n",
    "\n",
    "def CostLogReg(target):\n",
    "    \"\"\"\n",
    "    Return Logistic Regression cost function\n",
    "    valued only at X, so that it may be easily differentiated\n",
    "    \"\"\"\n",
    "\n",
    "    def func(X):\n",
    "        return -(1.0 / target.shape[0]) * np.sum(\n",
    "            (target * np.log(X + 10e-10)) + ((1 - target) * np.log(1 - X + 10e-10))\n",
    "        )\n",
    "\n",
    "    return func\n",
    "\n",
    "\n",
    "def CostCrossEntropy(target):\n",
    "    \"\"\"\n",
    "    Return cross entropy cost function valued only at X, so\n",
    "    that it may be easily differentiated\n",
    "    \"\"\"\n",
    "    \n",
    "    def func(X):\n",
    "        return -(1.0 / target.size) * np.sum(target * np.log(X + 10e-10))\n",
    "\n",
    "    return func"
   ]
  },
  {
   "cell_type": "markdown",
   "id": "815df3ad",
   "metadata": {
    "editable": true
   },
   "source": [
    "### Usage of cost functions\n",
    "\n",
    "Below we will provide a short example of how these cost function may\n",
    "be used to obtain results if you wish to test them out on your own\n",
    "using AutoGrad's automatic differentiation."
   ]
  },
  {
   "cell_type": "code",
   "execution_count": 5,
   "id": "668ddc4d",
   "metadata": {
    "collapsed": false,
    "editable": true
   },
   "outputs": [],
   "source": [
    "from autograd import grad\n",
    "\n",
    "target = np.array([[1, 2, 3]]).T\n",
    "a = np.array([[4, 5, 6]]).T\n",
    "\n",
    "cost_func = CostCrossEntropy\n",
    "cost_func_derivative = grad(cost_func(target))\n",
    "\n",
    "valued_at_a = cost_func_derivative(a)\n",
    "print(f\"Derivative of cost function {cost_func.__name__} valued at a:\\n{valued_at_a}\")"
   ]
  },
  {
   "cell_type": "markdown",
   "id": "539ac8e9",
   "metadata": {
    "editable": true
   },
   "source": [
    "### Activation functions\n",
    "\n",
    "Finally, before we look at the layers that make up the neural network,\n",
    "we will look at the activation functions which can be specified\n",
    "between the hidden layers and as the output function. Each function\n",
    "can be valued for any given vector or matrix X, and can be\n",
    "differentiated via derivate()."
   ]
  },
  {
   "cell_type": "code",
   "execution_count": 6,
   "id": "f8f0371a",
   "metadata": {
    "collapsed": false,
    "editable": true
   },
   "outputs": [],
   "source": [
    "\n",
    "import autograd.numpy as np\n",
    "from autograd import elementwise_grad\n",
    "\n",
    "def identity(X):\n",
    "    return X\n",
    "\n",
    "\n",
    "def sigmoid(X):\n",
    "    try:\n",
    "        return 1.0 / (1 + np.exp(-X))\n",
    "    except FloatingPointError:\n",
    "        return np.where(X > np.zeros(X.shape), np.ones(X.shape), np.zeros(X.shape))\n",
    "\n",
    "\n",
    "def softmax(X):\n",
    "    X = X - np.max(X, axis=-1, keepdims=True)\n",
    "    delta = 10e-10\n",
    "    return np.exp(X) / (np.sum(np.exp(X), axis=-1, keepdims=True) + delta)\n",
    "\n",
    "\n",
    "def RELU(X):\n",
    "    return np.where(X > np.zeros(X.shape), X, np.zeros(X.shape))\n",
    "\n",
    "\n",
    "def LRELU(X):\n",
    "    delta = 10e-4\n",
    "    return np.where(X > np.zeros(X.shape), X, delta * X)\n",
    "\n",
    "\n",
    "def derivate(func):\n",
    "    if func.__name__ == \"RELU\":\n",
    "\n",
    "        def func(X):\n",
    "            return np.where(X > 0, 1, 0)\n",
    "\n",
    "        return func\n",
    "\n",
    "    elif func.__name__ == \"LRELU\":\n",
    "\n",
    "        def func(X):\n",
    "            delta = 10e-4\n",
    "            return np.where(X > 0, 1, delta)\n",
    "\n",
    "        return func\n",
    "\n",
    "    else:\n",
    "        return elementwise_grad(func)"
   ]
  },
  {
   "cell_type": "markdown",
   "id": "76b5fc68",
   "metadata": {
    "editable": true
   },
   "source": [
    "### Usage of activation functions\n",
    "\n",
    "Below we present a short demonstration of how to use an activation\n",
    "function. The derivative of the activation function will be important\n",
    "when calculating the output delta term during backpropagation. Note\n",
    "that derivate() can also be used for cost functions for a more\n",
    "generalized approach."
   ]
  },
  {
   "cell_type": "code",
   "execution_count": 7,
   "id": "56e89045",
   "metadata": {
    "collapsed": false,
    "editable": true
   },
   "outputs": [],
   "source": [
    "z = np.array([[4, 5, 6]]).T\n",
    "print(f\"Input to activation function:\\n{z}\")\n",
    "\n",
    "act_func = sigmoid\n",
    "a = act_func(z)\n",
    "print(f\"\\nOutput from {act_func.__name__} activation function:\\n{a}\")\n",
    "\n",
    "act_func_derivative = derivate(act_func)\n",
    "valued_at_z = act_func_derivative(a)\n",
    "print(f\"\\nDerivative of {act_func.__name__} activation function valued at z:\\n{valued_at_z}\")"
   ]
  },
  {
   "cell_type": "markdown",
   "id": "a98dbb71",
   "metadata": {
    "editable": true
   },
   "source": [
    "### Convolution\n",
    "\n",
    "In order to construct a convolutional neural network (CNN), it is\n",
    "crucial to comprehend the fundamental principles of convolution and\n",
    "how it aids in extracting information from images. Convolution, at its\n",
    "core, is merely a mathematical operation between two functions that\n",
    "yields another function. It is represented by an integral between two\n",
    "functions, which is typically expressed as:"
   ]
  },
  {
   "cell_type": "markdown",
   "id": "ce87e25e",
   "metadata": {
    "editable": true
   },
   "source": [
    "$$\n",
    "(f \\ast g)(t):=\\int_{-\\infty}^{\\infty} f(\\tau) g(t-\\tau) d \\tau.\n",
    "$$"
   ]
  },
  {
   "cell_type": "markdown",
   "id": "5119b2fa",
   "metadata": {
    "editable": true
   },
   "source": [
    "Here, f and g are the two functions on which we want to perform an\n",
    "operation. The outcome of the convolution operation is represented by\n",
    "$(f \\ast g)$, and it is derived by sliding the function g over f and\n",
    "computing the integral of their product at each position. If both\n",
    "functions are continuous, convolution takes the form shown\n",
    "above. However, if we discretize both f and g, the convolution\n",
    "operation will take the form of a sum between the elements of f and g:"
   ]
  },
  {
   "cell_type": "markdown",
   "id": "04d34550",
   "metadata": {
    "editable": true
   },
   "source": [
    "$$\n",
    "(f \\ast g)[n]=\\sum_{m=0}^{n-1} f[m] g[n-m].\n",
    "$$"
   ]
  },
  {
   "cell_type": "markdown",
   "id": "4160a6ee",
   "metadata": {
    "editable": true
   },
   "source": [
    "The key idea we utilize to extract the information contained in an\n",
    "image is to slide an $m \\times n$ matrix *g* over an $m \\times n$\n",
    "matrix *f*. In our case, *f* represents the image, while *g*\n",
    "represents the kernel, oftentimes called a filter. However, since our\n",
    "convolution will be a two-dimensional variant, we need to extend our\n",
    "mathematical formula with an additional summation:"
   ]
  },
  {
   "cell_type": "markdown",
   "id": "a5faca05",
   "metadata": {
    "editable": true
   },
   "source": [
    "$$\n",
    "(f \\ast g)[i, j]\\sum_{m=0}^{M-1}\\sum_{n=0}^{N-1} f[m,n] g[i-m, j-n].\n",
    "$$"
   ]
  },
  {
   "cell_type": "markdown",
   "id": "9c8d9f77",
   "metadata": {
    "editable": true
   },
   "source": [
    "It is imperative to note that the size of the kernel g is\n",
    "significantly smaller than the size of the input image f, thereby\n",
    "reducing the amount of computation necessary for feature\n",
    "extraction. Furthermore, the kernel is usually a trainable parameter\n",
    "in a convolutional neural network, allowing the network to learn\n",
    "appropriate kernels for specific tasks.\n",
    "\n",
    "To give you an example of how 2D convolution works in practice,\n",
    "suppose we have an image *f* of dimension $6 \\times 6$"
   ]
  },
  {
   "cell_type": "markdown",
   "id": "fc65ed80",
   "metadata": {
    "editable": true
   },
   "source": [
    "$$\n",
    "f = \\begin{bmatrix}\n",
    "4 & 1 & 2 & 9 & 8 & 6 \\\\\n",
    "9 & 5 & 9 & 5 & 8 & 5 \\\\\n",
    "1 & 5 & 9 & 7 & 6 & 4 \\\\\n",
    "2 & 9 & 8 & 3 & 7 & 1 \\\\\n",
    "8 & 1 & 6 & 4 & 2 & 2 \\\\\n",
    "1 & 0 & 5 & 7 & 8 & 2 \\\\\n",
    "\\end{bmatrix}\n",
    "$$"
   ]
  },
  {
   "cell_type": "markdown",
   "id": "3703e393",
   "metadata": {
    "editable": true
   },
   "source": [
    "and a $3 \\times 3$ kernel *g* called a low-pass filter. Note that the\n",
    "kernel is usually rotated by 180 degrees during convolution, however\n",
    "this has no effect on this kernel."
   ]
  },
  {
   "cell_type": "markdown",
   "id": "66e581e3",
   "metadata": {
    "editable": true
   },
   "source": [
    "$$\n",
    "g = \\frac{1}{9}\n",
    "\\begin{bmatrix}\n",
    "1 & 1 & 1 \\\\\n",
    "1 & 1 & 1 \\\\\n",
    "1 & 1 & 1 \\\\\n",
    "\\end{bmatrix}\n",
    "$$"
   ]
  },
  {
   "cell_type": "markdown",
   "id": "5c2b4fbb",
   "metadata": {
    "editable": true
   },
   "source": [
    "In order to filter the image, we have to extract a $3 \\times 3$\n",
    "element from the upper left corner of *f*, and perform element-wise\n",
    "multiplication of the extracted image pixels with the elements of the\n",
    "kernel *g*:"
   ]
  },
  {
   "cell_type": "markdown",
   "id": "6b9216d9",
   "metadata": {
    "editable": true
   },
   "source": [
    "$$\n",
    "\\begin{bmatrix}\n",
    "4 & 1 & 2 \\\\\n",
    "9 & 5 & 9 \\\\\n",
    "1 & 5 & 9 \\\\\n",
    "\\end{bmatrix}\n",
    "\\cdot\n",
    "\\begin{bmatrix}\n",
    "\\frac{1}{9} & \\frac{1}{9} & \\frac{1}{9} \\\\\n",
    "\\frac{1}{9} & \\frac{1}{9} & \\frac{1}{9} \\\\\n",
    "\\frac{1}{9} & \\frac{1}{9} & \\frac{1}{9} \\\\\n",
    "\\end{bmatrix}\n",
    "=\n",
    "\\begin{bmatrix}\n",
    "\\frac{4}{9} & \\frac{1}{9} & \\frac{2}{9} \\\\\n",
    "\\frac{9}{9} & \\frac{5}{9} & \\frac{9}{9} \\\\\n",
    "\\frac{1}{9} & \\frac{5}{9} & \\frac{9}{9} \\\\\n",
    "\\end {bmatrix}\n",
    "= \\textbf{A}\n",
    "$$"
   ]
  },
  {
   "cell_type": "markdown",
   "id": "988b5de4",
   "metadata": {
    "editable": true
   },
   "source": [
    "Then, following the multiplication, we summarize all the elements of the resulting matrix A:"
   ]
  },
  {
   "cell_type": "markdown",
   "id": "27efbecc",
   "metadata": {
    "editable": true
   },
   "source": [
    "$$\n",
    "(f \\ast g)[0, 0]= \\sum_{i=0}^{2} \\sum_{j=0}^{2} a_{i,j} = 5\n",
    "$$"
   ]
  },
  {
   "cell_type": "markdown",
   "id": "41ab0ff7",
   "metadata": {
    "editable": true
   },
   "source": [
    "Which corresponds to the first element of the filtered image $(f \\ast g)$.\n",
    "\n",
    "Here we use a stride of 1, a parameter denoted *s* which describes how\n",
    "many indexes we move the kernel *g* to the right before repeating the\n",
    "calculations above for the next $3 \\times 3$ element of the image\n",
    "*f*. It is usually presumed that *s*=1, however, larger values for *s*\n",
    "can be used to reduce the dimentionality of the filtered image such\n",
    "that the convolution operation is more computationally efficient. In\n",
    "the context of a convolutional neural network, this will become very\n",
    "useful.\n",
    "\n",
    "The full result of the convolution is:"
   ]
  },
  {
   "cell_type": "markdown",
   "id": "8b094957",
   "metadata": {
    "editable": true
   },
   "source": [
    "$$\n",
    "(f \\ast g) =\n",
    "\\begin{bmatrix}\n",
    "5 & 5.78 & 7 & 6.44 \\\\\n",
    "6.33 & 6.67 & 6.89 & 5.11 \\\\\n",
    "5.44 & 5.78 & 5.78 & 4 \\\\\n",
    "4.44 & 4.78 & 5.56 & 4 \\\\\n",
    "\\end{bmatrix}\n",
    "$$"
   ]
  },
  {
   "cell_type": "markdown",
   "id": "78f13c3c",
   "metadata": {
    "editable": true
   },
   "source": [
    "The result is markedly smaller in shape than the original image. This occurs when using convolution without first padding the image with additional columns and rows, allowing us to keep the original image shape after sliding the kernel over the image.\n",
    "How many rows and columns we wish to pad the image with depends strictly on the shape of the kernel, as we wish to pad the image with *r* additional rows and *c* additional columns."
   ]
  },
  {
   "cell_type": "markdown",
   "id": "6198770b",
   "metadata": {
    "editable": true
   },
   "source": [
    "$$\n",
    "r =\\lfloor \\frac{kernel\\ height}{2} \\rfloor \\cdot 2 \\\\\n",
    "c =\\lfloor \\frac{kernel\\ width}{2} \\rfloor \\cdot 2\n",
    "$$"
   ]
  },
  {
   "cell_type": "markdown",
   "id": "cd001414",
   "metadata": {
    "editable": true
   },
   "source": [
    "Note the notation $\\lfloor \\frac{kernel width}{2} \\rfloor$ means that\n",
    "we floor the result of the division, meaning we round down to a whole\n",
    "number in case $\\frac{kernel width}{2}$ results in a floating point\n",
    "number.\n",
    "\n",
    "Using those simple equations, we find out by how much we have to\n",
    "extend the dimensions of the original image. Before proceeding,\n",
    "however, we might ask what we shall fill the additional rows and\n",
    "columns with? One of the most common approaches to padding is\n",
    "zero-padding, which as the name suggest, involves filling the rows and\n",
    "columns with zeros. This is the approach that we will be using for\n",
    "this demonstration. If we apply this padding to out original $6 \\times 6$\n",
    "image, the result will be an $8 \\times 8$ image as the kernel has a width and\n",
    "height of 3. Note that the original image is encapsuled by the\n",
    "zero-padded rows and columns:"
   ]
  },
  {
   "cell_type": "markdown",
   "id": "07971403",
   "metadata": {
    "editable": true
   },
   "source": [
    "$$\n",
    "\\begin{bmatrix}\n",
    "0 & 0 & 0 & 0 & 0 & 0 & 0 & 0 \\\\\n",
    "0 & 4 & 1 & 2 & 9 & 8 & 6 & 0 \\\\\n",
    "0 & 9 & 5 & 9 & 5 & 8 & 5 & 0 \\\\\n",
    "0 & 1 & 5 & 9 & 7 & 6 & 4 & 0 \\\\\n",
    "0 & 2 & 9 & 8 & 3 & 7 & 1 & 0 \\\\\n",
    "0 & 8 & 1 & 6 & 4 & 2 & 2 & 0 \\\\\n",
    "0 & 1 & 0 & 5 & 7 & 8 & 2 & 0 \\\\\n",
    "0 & 0 & 0 & 0 & 0 & 0 & 0 & 0 \\\\\n",
    "\n",
    "\\end{bmatrix}\n",
    "$$"
   ]
  },
  {
   "cell_type": "markdown",
   "id": "b4de9d0e",
   "metadata": {
    "editable": true
   },
   "source": [
    "Below we have provided code that demonstrates padding and convolution. As you will see when we run the code, the size of the image will remain unchanged when using padding.~"
   ]
  },
  {
   "cell_type": "code",
   "execution_count": 8,
   "id": "682df5d6",
   "metadata": {
    "collapsed": false,
    "editable": true
   },
   "outputs": [],
   "source": [
    "import numpy as np\n",
    "\n",
    "def padding(image, kernel):\n",
    "    # calculate r and c\n",
    "    r = (kernel.shape[0] // 2) * 2\n",
    "    c = (kernel.shape[1] // 2) * 2\n",
    "    \n",
    "    # padded image dimensions\n",
    "    padded_height = image.shape[0] + r\n",
    "    padded_width = image.shape[1] + c\n",
    "    \n",
    "    # for more readable code\n",
    "    k_half_height = kernel.shape[0] // 2\n",
    "    k_half_width = kernel.shape[1] // 2\n",
    "\n",
    "    # zero matrix with padded dimensions\n",
    "    padded_img = np.zeros((padded_height, padded_width))\n",
    "\n",
    "    # place image into zero matrix\n",
    "    padded_img[k_half_height : padded_height - k_half_height,\n",
    "               k_half_width : padded_width - k_half_width] = image[:, :]\n",
    "\n",
    "    return padded_img\n",
    "\n",
    "def convolve(original_image, padded_image, kernel, stride=1):\n",
    "    # rotate kernel by 180 degrees\n",
    "    kernel = np.rot90(np.rot90(kernel))\n",
    "\n",
    "    # note that kernel height // 2 is written as 'm'\n",
    "    # and kernel width // 2 as 'n' in the mathematical notation\n",
    "    m = kernel.shape[0] // 2\n",
    "    n = kernel.shape[1] // 2\n",
    "    \n",
    "    r = (kernel.shape[0] // 2) * 2\n",
    "    c = (kernel.shape[1] // 2) * 2\n",
    "    \n",
    "    # initialize output array\n",
    "    convolved_image = np.zeros(original_image.shape)\n",
    "    image_height = original_image.shape[0]\n",
    "    image_width = original_image.shape[1]\n",
    "\n",
    "    # the convolution\n",
    "    for i in range(m, image_height + m, stride):\n",
    "        for j in range(n, image_width + n, stride):\n",
    "            convolved_image[i-m, j-n] = np.sum(\n",
    "                padded_image[i : i + m, j : j + n]\n",
    "                * kernel\n",
    "            )\n",
    "            \n",
    "    return convolved_image\n",
    "\n",
    "def convolve(image, kernel, stride=1):\n",
    "    for i in range(2):\n",
    "        kernel = np.rot90(kernel)\n",
    "\n",
    "    k_half_height = kernel.shape[0] // 2\n",
    "    k_half_width = kernel.shape[0] // 2\n",
    "\n",
    "    conv_image = np.zeros(image.shape)\n",
    "    pad_image = padding(image, kernel)\n",
    "\n",
    "    for i in range(k_half_height, conv_image.shape[0] + k_half_height, stride):\n",
    "        for j in range(k_half_width, conv_image.shape[1] + k_half_width, stride):\n",
    "            conv_image[i - k_half_height, j - k_half_width] = np.sum(\n",
    "                pad_image[\n",
    "                    i - k_half_height : i + k_half_height + 1, j - k_half_width : j + k_half_width + 1\n",
    "                ]\n",
    "                * kernel\n",
    "            )\n",
    "\n",
    "    return conv_image"
   ]
  },
  {
   "cell_type": "markdown",
   "id": "560073fa",
   "metadata": {
    "editable": true
   },
   "source": [
    "Fun fact: When filtering images, you will see that convolution involves rotating the kernel by 180 degrees. \n",
    "However, this is not the case when applying convolution in a CNN, where the same operation not rotated by 180 degrees is called \n",
    "cross-correlation."
   ]
  },
  {
   "cell_type": "code",
   "execution_count": 9,
   "id": "21803ec7",
   "metadata": {
    "collapsed": false,
    "editable": true
   },
   "outputs": [],
   "source": [
    "\n",
    "original_image = np.array([[4, 1, 2, 9, 8, 6],\n",
    "                 [9, 5, 9, 5, 8, 5],\n",
    "                 [1, 5, 9, 7, 6, 4],\n",
    "                 [2, 9, 8, 3, 7, 1],\n",
    "                 [8, 1, 6, 4, 2, 2],\n",
    "                 [1, 0, 5, 7, 8, 2]])\n",
    "\n",
    "kernel = (1/9)*np.ones((3,3))\n",
    "\n",
    "print(f\"{original_image.shape=}\")\n",
    "\n",
    "# note that convolve() performs padding\n",
    "convolved_image = convolve(original_image, kernel, stride=1)\n",
    "\n",
    "print(f\"{convolved_image.shape=}\")"
   ]
  },
  {
   "cell_type": "markdown",
   "id": "f05b8e36",
   "metadata": {
    "editable": true
   },
   "source": [
    "As you can see, the resulting image is of the same size as the\n",
    "original image. To round of our demonstration of convolution, we will\n",
    "present the results of convolution using commonly used kernels. In a\n",
    "CNN, the values of the kernels are randomly initialized, and then\n",
    "learned during training. These kernels will extract information\n",
    "regarding the picture, such as for example the edge detection filter\n",
    "demonstrated below extracts the edges present in the picture. Of\n",
    "course, there is no guarantee that the CNN will learn an edge\n",
    "detection filter, but this should provide some intuiton as to how the\n",
    "CNN is able to use kernels to make better predictions than a regular\n",
    "feed forward neural network."
   ]
  },
  {
   "cell_type": "code",
   "execution_count": 10,
   "id": "743b5f97",
   "metadata": {
    "collapsed": false,
    "editable": true
   },
   "outputs": [],
   "source": [
    "%matplotlib inline\n",
    "\n",
    "# Now an example using a real image and first a gaussian low-pass filter and then a sobel filter\n",
    "import numpy as np\n",
    "import imageio.v3 as imageio\n",
    "import matplotlib.pyplot as plt\n",
    "import time\n",
    "\n",
    "def generate_gauss_mask(sigma, K=1):\n",
    "    side = np.ceil(1 + 8 * sigma)\n",
    "    y, x = np.mgrid[-side // 2 + 1 : (side // 2) + 1, -side // 2 + 1 : (side // 2) + 1]\n",
    "    ker_coef = K / (2 * np.pi * sigma**2)\n",
    "    g = np.exp(-((x**2 + y**2) / (2.0 * sigma**2)))\n",
    "\n",
    "    return g, ker_coef\n",
    "\n",
    "\n",
    "img_path = \"data/IMG-2167.JPG\"\n",
    "image_of_cute_dog = imageio.imread(img_path, mode='L')\n",
    "\n",
    "plt.imshow(image_of_cute_dog, cmap=\"gray\", vmin=0, vmax=255, aspect=\"auto\")\n",
    "plt.title(\"Original image\")\n",
    "plt.show()\n",
    "\n",
    "gauss, kernel = generate_gauss_mask(sigma=6)\n",
    "gauss_kernel = gauss*kernel\n",
    "\n",
    "filtered_image = convolve(image_of_cute_dog, gauss_kernel)\n",
    "plt.imshow(filtered_image, cmap=\"gray\", vmin=0, vmax=255, aspect=\"auto\")\n",
    "plt.title(\"Result of convolution with gauss kernel (blurring filter)\")\n",
    "plt.show()\n",
    "\n",
    "sobel_kernel = np.array([[1, 2, 1],\n",
    "                    [0, 0, 0], \n",
    "                    [-1, -2, -1]])\n",
    "\n",
    "filtered_image = convolve(image_of_cute_dog, sobel_kernel)\n",
    "\n",
    "plt.imshow(filtered_image, cmap=\"gray\", vmin=0, vmax=255, aspect=\"auto\")\n",
    "plt.title(\"Result of convolution with sobel kernel (edge detection filter)\")\n",
    "plt.show()"
   ]
  },
  {
   "cell_type": "markdown",
   "id": "04ca1d39",
   "metadata": {
    "editable": true
   },
   "source": [
    "### Layers\n",
    "\n",
    "The code below initialises global variables for readability and\n",
    "describes the abstract class Layers. This is not important in order to\n",
    "understand the CNN, but is benefitial for organizing the code neatly."
   ]
  },
  {
   "cell_type": "code",
   "execution_count": 11,
   "id": "68f904eb",
   "metadata": {
    "collapsed": false,
    "editable": true
   },
   "outputs": [],
   "source": [
    "import math\n",
    "import autograd.numpy as np\n",
    "from copy import deepcopy, copy\n",
    "from autograd import grad\n",
    "from typing import Callable\n",
    "\n",
    "# global variables for index readability\n",
    "input_index = 0\n",
    "node_index = 1\n",
    "bias_index = 1\n",
    "input_channel_index = 1\n",
    "feature_maps_index = 1\n",
    "height_index = 2\n",
    "width_index = 3\n",
    "kernel_feature_maps_index = 1\n",
    "kernel_input_channels_index = 0\n",
    "\n",
    "\n",
    "class Layer:\n",
    "    def __init__(self, seed):\n",
    "        self.seed = seed\n",
    "\n",
    "    def _feedforward(self):\n",
    "        raise NotImplementedError\n",
    "\n",
    "    def _backpropagate(self):\n",
    "        raise NotImplementedError\n",
    "\n",
    "    def _reset_weights(self, previous_nodes):\n",
    "        raise NotImplementedError"
   ]
  },
  {
   "cell_type": "markdown",
   "id": "1cf41563",
   "metadata": {
    "editable": true
   },
   "source": [
    "### Convolution2DLayer: convolution in a hidden layer\n",
    "\n",
    "After establishing the foundational understanding of applying\n",
    "convolution to spatial data, let us delve into the intricate workings\n",
    "of a convolutional layer in a Convolutional Neural Network (CNN). The\n",
    "primary function of convolution, as previously discussed, is to\n",
    "extract pertinent information from images while simultaneously\n",
    "decreasing the scale of our data. To initiate the image processing, we\n",
    "shall begin by partitioning the images into color channels (unless the\n",
    "image is grayscale), comprising three primary colors: red, green, and\n",
    "blue. We will subsequently utilize trainable kernels to construct a\n",
    "higher-dimensional encoding of each channel called feature\n",
    "maps. Successive layers will receive these feature maps as inputs,\n",
    "generating further encodings, albeit with reduced dimensions. The term\n",
    "trainable kernels denotes the initialization of pre-defined\n",
    "kernel-shaped weights, which we will then train via backpropagation,\n",
    "similar to how weights are trained in a Feedforward Neural Network.\n",
    "\n",
    "To ensure seamless integration between our implementation of the\n",
    "convolutional layer and popular machine learning frameworks like\n",
    "Tensorflow (Keras) and PyTorch, we have adopted a design pattern that\n",
    "mirrors the construction of models using these APIs. This involves\n",
    "implementing our convolutional layer as a Python class or object,\n",
    "which allows for a more modular and flexible approach to building\n",
    "neural networks. By structuring our code in this way, users can easily\n",
    "incorporate our implementation into their existing machine learning\n",
    "pipelines without having to make significant changes to their\n",
    "codebase. Additionally, this design pattern promotes code reusability\n",
    "and makes it easier to maintain and update our convolutional layer\n",
    "implementation over time.\n",
    "\n",
    "Note that the Convolution2DLayer takes in an activation function as a parameter, as it also performs non-linearity."
   ]
  },
  {
   "cell_type": "code",
   "execution_count": 12,
   "id": "74e8056c",
   "metadata": {
    "collapsed": false,
    "editable": true
   },
   "outputs": [],
   "source": [
    "class Convolution2DLayer(Layer):\n",
    "    def __init__(\n",
    "        self,\n",
    "        input_channels,\n",
    "        feature_maps,\n",
    "        kernel_height,\n",
    "        kernel_width,\n",
    "        v_stride,\n",
    "        h_stride,\n",
    "        pad,\n",
    "        act_func: Callable,\n",
    "        seed=None,\n",
    "        reset_weights_independently=True,\n",
    "    ):\n",
    "        super().__init__(seed)\n",
    "        self.input_channels = input_channels\n",
    "        self.feature_maps = feature_maps\n",
    "        self.kernel_height = kernel_height\n",
    "        self.kernel_width = kernel_width\n",
    "        self.v_stride = v_stride\n",
    "        self.h_stride = h_stride\n",
    "        self.pad = pad\n",
    "        self.act_func = act_func\n",
    "\n",
    "        # such that the layer can be used on its own\n",
    "        # outside of the CNN module\n",
    "        if reset_weights_independently == True:\n",
    "            self._reset_weights_independently()\n",
    "\n",
    "    def _feedforward(self, X_batch):\n",
    "        # note that the shape of X_batch = [inputs, input_maps, img_height, img_width]\n",
    "\n",
    "        # pad the input batch\n",
    "        X_batch_padded = self._padding(X_batch)\n",
    "\n",
    "        # calculate height_index and width_index after stride\n",
    "        strided_height = int(np.ceil(X_batch.shape[height_index] / self.v_stride))\n",
    "        strided_width = int(np.ceil(X_batch.shape[width_index] / self.h_stride))\n",
    "\n",
    "        # create output array\n",
    "        output = np.ndarray(\n",
    "            (\n",
    "                X_batch.shape[input_index],\n",
    "                self.feature_maps,\n",
    "                strided_height,\n",
    "                strided_width,\n",
    "            )\n",
    "        )\n",
    "\n",
    "        # save input and output for backpropagation\n",
    "        self.X_batch_feedforward = X_batch\n",
    "        self.output_shape = output.shape\n",
    "\n",
    "        # checking for errors, no need to look here :)\n",
    "        self._check_for_errors()\n",
    "\n",
    "        # convolve input with kernel\n",
    "        for img in range(X_batch.shape[input_index]):\n",
    "            for chin in range(self.input_channels):\n",
    "                for fmap in range(self.feature_maps):\n",
    "                    out_h = 0\n",
    "                    for h in range(0, X_batch.shape[height_index], self.v_stride):\n",
    "                        out_w = 0\n",
    "                        for w in range(0, X_batch.shape[width_index], self.h_stride):\n",
    "                            output[img, fmap, out_h, out_w] = np.sum(\n",
    "                                X_batch_padded[\n",
    "                                    img,\n",
    "                                    chin,\n",
    "                                    h : h + self.kernel_height,\n",
    "                                    w : w + self.kernel_width,\n",
    "                                ]\n",
    "                                * self.kernel[chin, fmap, :, :]\n",
    "                            )\n",
    "                            out_w += 1\n",
    "                        out_h += 1\n",
    "\n",
    "        # Pay attention to the fact that we're not rotating the kernel by 180 degrees when filtering the image in\n",
    "        # the convolutional layer, as convolution in terms of Machine Learning is a procedure known as cross-correlation\n",
    "        # in image processing and signal processing\n",
    "\n",
    "        # return a\n",
    "        return self.act_func(output / (self.kernel_height))\n",
    "\n",
    "    def _backpropagate(self, delta_term_next):\n",
    "        # intiate matrices\n",
    "        delta_term = np.zeros((self.X_batch_feedforward.shape))\n",
    "        gradient_kernel = np.zeros((self.kernel.shape))\n",
    "\n",
    "        # pad input for convolution\n",
    "        X_batch_padded = self._padding(self.X_batch_feedforward)\n",
    "\n",
    "        # Since an activation function is used at the output of the convolution layer, its derivative\n",
    "        # has to be accounted for in the backpropagation -> as if ReLU was a layer on its own.\n",
    "        act_derivative = derivate(self.act_func)\n",
    "        delta_term_next = act_derivative(delta_term_next)\n",
    "\n",
    "        # fill in 0's for values removed by vertical stride in feedforward\n",
    "        if self.v_stride > 1:\n",
    "            v_ind = 1\n",
    "            for i in range(delta_term_next.shape[height_index]):\n",
    "                for j in range(self.v_stride - 1):\n",
    "                    delta_term_next = np.insert(\n",
    "                        delta_term_next, v_ind, 0, axis=height_index\n",
    "                    )\n",
    "                v_ind += self.v_stride\n",
    "\n",
    "        # fill in 0's for values removed by horizontal stride in feedforward\n",
    "        if self.h_stride > 1:\n",
    "            h_ind = 1\n",
    "            for i in range(delta_term_next.shape[width_index]):\n",
    "                for k in range(self.h_stride - 1):\n",
    "                    delta_term_next = np.insert(\n",
    "                        delta_term_next, h_ind, 0, axis=width_index\n",
    "                    )\n",
    "                h_ind += self.h_stride\n",
    "\n",
    "        # crops out 0-rows and 0-columns\n",
    "        delta_term_next = delta_term_next[\n",
    "            :,\n",
    "            :,\n",
    "            : self.X_batch_feedforward.shape[height_index],\n",
    "            : self.X_batch_feedforward.shape[width_index],\n",
    "        ]\n",
    "\n",
    "        # the gradient received from the next layer also needs to be padded\n",
    "        delta_term_next = self._padding(delta_term_next)\n",
    "\n",
    "        # calculate delta term by convolving next delta term with kernel\n",
    "        for img in range(self.X_batch_feedforward.shape[input_index]):\n",
    "            for chin in range(self.input_channels):\n",
    "                for fmap in range(self.feature_maps):\n",
    "                    for h in range(self.X_batch_feedforward.shape[height_index]):\n",
    "                        for w in range(self.X_batch_feedforward.shape[width_index]):\n",
    "                            delta_term[img, chin, h, w] = np.sum(\n",
    "                                delta_term_next[\n",
    "                                    img,\n",
    "                                    fmap,\n",
    "                                    h : h + self.kernel_height,\n",
    "                                    w : w + self.kernel_width,\n",
    "                                ]\n",
    "                                * np.rot90(np.rot90(self.kernel[chin, fmap, :, :]))\n",
    "                            )\n",
    "\n",
    "        # calculate gradient for kernel for weight update\n",
    "        # also via convolution\n",
    "        for chin in range(self.input_channels):\n",
    "            for fmap in range(self.feature_maps):\n",
    "                for k_x in range(self.kernel_height):\n",
    "                    for k_y in range(self.kernel_width):\n",
    "                        gradient_kernel[chin, fmap, k_x, k_y] = np.sum(\n",
    "                            X_batch_padded[\n",
    "                                img,\n",
    "                                chin,\n",
    "                                h : h + self.kernel_height,\n",
    "                                w : w + self.kernel_width,\n",
    "                            ]\n",
    "                            * delta_term_next[\n",
    "                                img,\n",
    "                                fmap,\n",
    "                                h : h + self.kernel_height,\n",
    "                                w : w + self.kernel_width,\n",
    "                            ]\n",
    "                        )\n",
    "        # all kernels are updated with weight gradient of kernel\n",
    "        self.kernel -= gradient_kernel\n",
    "\n",
    "        # return delta term\n",
    "        return delta_term\n",
    "\n",
    "    def _padding(self, X_batch, batch_type=\"image\"):\n",
    "\n",
    "        # same padding for images\n",
    "        if self.pad == \"same\" and batch_type == \"image\":\n",
    "            padded_height = X_batch.shape[height_index] + (self.kernel_height // 2) * 2\n",
    "            padded_width = X_batch.shape[width_index] + (self.kernel_width // 2) * 2\n",
    "            half_kernel_height = self.kernel_height // 2\n",
    "            half_kernel_width = self.kernel_width // 2\n",
    "\n",
    "            # initialize padded array\n",
    "            X_batch_padded = np.ndarray(\n",
    "                (\n",
    "                    X_batch.shape[input_index],\n",
    "                    X_batch.shape[feature_maps_index],\n",
    "                    padded_height,\n",
    "                    padded_width,\n",
    "                )\n",
    "            )\n",
    "\n",
    "            # zero pad all images in X_batch\n",
    "            for img in range(X_batch.shape[input_index]):\n",
    "                padded_img = np.zeros(\n",
    "                    (X_batch.shape[feature_maps_index], padded_height, padded_width)\n",
    "                )\n",
    "                padded_img[\n",
    "                    :,\n",
    "                    half_kernel_height : padded_height - half_kernel_height,\n",
    "                    half_kernel_width : padded_width - half_kernel_width,\n",
    "                ] = X_batch[img, :, :, :]\n",
    "                X_batch_padded[img, :, :, :] = padded_img[:, :, :]\n",
    "\n",
    "            return X_batch_padded\n",
    "\n",
    "        # same padding for gradients\n",
    "        elif self.pad == \"same\" and batch_type == \"grad\":\n",
    "            padded_height = X_batch.shape[height_index] + (self.kernel_height // 2) * 2\n",
    "            padded_width = X_batch.shape[width_index] + (self.kernel_width // 2) * 2\n",
    "            half_kernel_height = self.kernel_height // 2\n",
    "            half_kernel_width = self.kernel_width // 2\n",
    "\n",
    "            # initialize padded array\n",
    "            delta_term_padded = np.zeros(\n",
    "                (\n",
    "                    X_batch.shape[input_index],\n",
    "                    X_batch.shape[feature_maps_index],\n",
    "                    padded_height,\n",
    "                    padded_width,\n",
    "                )\n",
    "            )\n",
    "\n",
    "            # zero pad delta term\n",
    "            delta_term_padded[\n",
    "                :, :, : X_batch.shape[height_index], : X_batch.shape[width_index]\n",
    "            ] = X_batch[:, :, :, :]\n",
    "\n",
    "            return delta_term_padded\n",
    "\n",
    "        else:\n",
    "            return X_batch\n",
    "\n",
    "    def _reset_weights_independently(self):\n",
    "        # sets seed to remove randomness inbetween runs\n",
    "        if self.seed is not None:\n",
    "            np.random.seed(self.seed)\n",
    "\n",
    "        # initializes kernel matrix\n",
    "        self.kernel = np.ndarray(\n",
    "            (\n",
    "                self.input_channels,\n",
    "                self.feature_maps,\n",
    "                self.kernel_height,\n",
    "                self.kernel_width,\n",
    "            )\n",
    "        )\n",
    "\n",
    "        # randomly initializes weights\n",
    "        for chin in range(self.kernel.shape[kernel_input_channels_index]):\n",
    "            for fmap in range(self.kernel.shape[kernel_feature_maps_index]):\n",
    "                self.kernel[chin, fmap, :, :] = np.random.rand(\n",
    "                    self.kernel_height, self.kernel_width\n",
    "                )\n",
    "\n",
    "    def _reset_weights(self, previous_nodes):\n",
    "        # sets weights\n",
    "        self._reset_weights_independently()\n",
    "\n",
    "        # returns shape of output used for subsequent layer's weight initiation\n",
    "        strided_height = int(\n",
    "            np.ceil(previous_nodes.shape[height_index] / self.v_stride)\n",
    "        )\n",
    "        strided_width = int(np.ceil(previous_nodes.shape[width_index] / self.h_stride))\n",
    "        next_nodes = np.ones(\n",
    "            (\n",
    "                previous_nodes.shape[input_index],\n",
    "                self.feature_maps,\n",
    "                strided_height,\n",
    "                strided_width,\n",
    "            )\n",
    "        )\n",
    "        return next_nodes / self.kernel_height\n",
    "\n",
    "    def _check_for_errors(self):\n",
    "        if self.X_batch_feedforward.shape[input_channel_index] != self.input_channels:\n",
    "            raise AssertionError(\n",
    "                f\"ERROR: Number of input channels in data ({self.X_batch_feedforward.shape[input_channel_index]}) is not equal to input channels in Convolution2DLayerOPT ({self.input_channels})! Please change the number of input channels of the Convolution2DLayer such that they are equal\"\n",
    "            )"
   ]
  },
  {
   "cell_type": "markdown",
   "id": "c4e1cf13",
   "metadata": {
    "editable": true
   },
   "source": [
    "### Backpropagation in the convolutional layer\n",
    "\n",
    "As you may have noticed, we have not yet explained how the\n",
    "backpropagation algorithm works in a convolutional layer. However,\n",
    "having covered all other major details about convolutional layers, we\n",
    "are now prepared to do so. It should come as no surprise that the\n",
    "calculation of delta terms at each convolutional layer takes the form\n",
    "of convolution. After the gradient has been propagated backwards\n",
    "through the flattening layer, where it was reshaped into an\n",
    "appropriate form, calculating the update value for the kernel is\n",
    "simply a matter of convolving the output gradient with the input of\n",
    "the layer for which we are updating the weights. For more detail, this\n",
    "article serves as an excellent resource, see\n",
    "<https://pavisj.medium.com/convolutions-and-backpropagations-46026a8f5d2c>"
   ]
  },
  {
   "cell_type": "markdown",
   "id": "85a3633a",
   "metadata": {
    "editable": true
   },
   "source": [
    "### Demonstration\n",
    "\n",
    "We can use the convolutional layer above to perform a simple convolution on an image of the now familiar cute dog."
   ]
  },
  {
   "cell_type": "code",
   "execution_count": 13,
   "id": "6ad7841d",
   "metadata": {
    "collapsed": false,
    "editable": true
   },
   "outputs": [],
   "source": [
    "import numpy as np\n",
    "import imageio.v3 as imageio\n",
    "import matplotlib.pyplot as plt\n",
    "\n",
    "def plot_convolution_result(X, layer):\n",
    "    plt.imshow(X[0, 0, :, :], vmin=0, vmax=255, cmap=\"gray\")\n",
    "    plt.title(\"Original image\")\n",
    "    plt.colorbar()\n",
    "    plt.show()\n",
    "    conv_result = layer._feedforward(X)\n",
    "    plt.title(\"Result of convolutional layer\")\n",
    "    plt.imshow(conv_result[0, 0, :, :], vmin=0, vmax=255, cmap=\"gray\")\n",
    "    plt.colorbar()\n",
    "    plt.show()\n",
    "\n",
    "# create layer\n",
    "layer = Convolution2DLayer(\n",
    "    input_channels=3,\n",
    "    feature_maps=1,\n",
    "    kernel_height=4,\n",
    "    kernel_width=4,\n",
    "    v_stride=2,\n",
    "    h_stride=2,\n",
    "    pad=\"same\",\n",
    "    act_func=identity,\n",
    "    seed=2023,\n",
    "    )\n",
    "\n",
    "# read in image path, make data correct format\n",
    "img_path = img_path = \"data/IMG-2167.JPG\"\n",
    "image_of_cute_dog = imageio.imread(img_path)\n",
    "image_shape = image_of_cute_dog.shape\n",
    "image_of_cute_dog = image_of_cute_dog.reshape(1, image_shape[0], image_shape[1], image_shape[2])\n",
    "image_of_cute_dog = image_of_cute_dog.transpose(0, 3, 1, 2)\n",
    "\n",
    "# plot the result of the convolution\n",
    "plot_convolution_result(image_of_cute_dog, layer)"
   ]
  },
  {
   "cell_type": "markdown",
   "id": "5389edfe",
   "metadata": {
    "editable": true
   },
   "source": [
    "We cobserve that the result has half the pixels on each axis due to\n",
    "the fact that we've used a horizontal and vertical stride of 2. The\n",
    "result of this convolution is not very insightfull, as the kernel has\n",
    "completely random values for the first feedforward pass. However, as\n",
    "we perform multiple forward and backward passes, the results of the\n",
    "convolution should provide identifying features of the image it uses\n",
    "for classification.\n",
    "\n",
    "Note that image data usually comes in many different shapes and sizes,\n",
    "but for our CNN we require the input data be formatted as \\[Number of\n",
    "inputs, input channels, input height, input width\\]. Occasionally, the\n",
    "data you come accross use will be formatted like this, but on many\n",
    "occasions reshaping and transposing the dimensions is sadly necessary."
   ]
  },
  {
   "cell_type": "markdown",
   "id": "ddc38551",
   "metadata": {
    "editable": true
   },
   "source": [
    "### Pooling Layer\n",
    "\n",
    "The pooling layer is another widely used type of layer in\n",
    "convolutional neural networks that enables data downsampling to a more\n",
    "manageable size. Despite recent technological advancements that allow\n",
    "for convolution without excessive size reduction of the data, the\n",
    "pooling layer still remains a fundamental component of convolutional\n",
    "neural networks. It can be used before, after, or in between\n",
    "convolutional layers, although finding the optimal placement of layers\n",
    "and network depth requires experimentation to achieve the best\n",
    "performance for a given problem. The code we provide allows you to\n",
    "perform two types of pooling known as max pooling and average pooling."
   ]
  },
  {
   "cell_type": "code",
   "execution_count": 14,
   "id": "8c689520",
   "metadata": {
    "collapsed": false,
    "editable": true
   },
   "outputs": [],
   "source": [
    "class Pooling2DLayer(Layer):\n",
    "    def __init__(\n",
    "        self,\n",
    "        kernel_height,\n",
    "        kernel_width,\n",
    "        v_stride,\n",
    "        h_stride,\n",
    "        pooling=\"max\",\n",
    "        seed=None,\n",
    "    ):\n",
    "        super().__init__(seed)\n",
    "        self.kernel_height = kernel_height\n",
    "        self.kernel_width = kernel_width\n",
    "        self.v_stride = v_stride\n",
    "        self.h_stride = h_stride\n",
    "        self.pooling = pooling\n",
    "\n",
    "    def _feedforward(self, X_batch):\n",
    "        # Saving the input for use in the backwardpass\n",
    "        self.X_batch_feedforward = X_batch\n",
    "\n",
    "        # check if user is silly\n",
    "        self._check_for_errors()\n",
    "\n",
    "        # Computing the size of the feature maps based on kernel size and the stride parameter\n",
    "        strided_height = (\n",
    "            X_batch.shape[height_index] - self.kernel_height\n",
    "        ) // self.v_stride + 1\n",
    "        if X_batch.shape[height_index] == X_batch.shape[width_index]:\n",
    "            strided_width = strided_height\n",
    "        else:\n",
    "            strided_width = (\n",
    "                X_batch.shape[width_index] - self.kernel_width\n",
    "            ) // self.h_stride + 1\n",
    "\n",
    "        # initialize output array\n",
    "        output = np.ndarray(\n",
    "            (\n",
    "                X_batch.shape[input_index],\n",
    "                X_batch.shape[feature_maps_index],\n",
    "                strided_height,\n",
    "                strided_width,\n",
    "            )\n",
    "        )\n",
    "\n",
    "        # select pooling action, either max or average pooling\n",
    "        if self.pooling == \"max\":\n",
    "            self.pooling_action = np.max\n",
    "        elif self.pooling == \"average\":\n",
    "            self.pooling_action = np.mean\n",
    "\n",
    "        # pool based on kernel size and stride\n",
    "        for img in range(output.shape[input_index]):\n",
    "            for fmap in range(output.shape[feature_maps_index]):\n",
    "                for h in range(strided_height):\n",
    "                    for w in range(strided_width):\n",
    "                        output[img, fmap, h, w] = self.pooling_action(\n",
    "                            X_batch[\n",
    "                                img,\n",
    "                                fmap,\n",
    "                                (h * self.v_stride) : (h * self.v_stride)\n",
    "                                + self.kernel_height,\n",
    "                                (w * self.h_stride) : (w * self.h_stride)\n",
    "                                + self.kernel_width,\n",
    "                            ]\n",
    "                        )\n",
    "\n",
    "        # output for feedforward in next layer\n",
    "        return output\n",
    "\n",
    "    def _backpropagate(self, delta_term_next):\n",
    "        # initiate delta term array\n",
    "        delta_term = np.zeros((self.X_batch_feedforward.shape))\n",
    "\n",
    "        for img in range(delta_term_next.shape[input_index]):\n",
    "            for fmap in range(delta_term_next.shape[feature_maps_index]):\n",
    "                for h in range(0, delta_term_next.shape[height_index], self.v_stride):\n",
    "                    for w in range(\n",
    "                        0, delta_term_next.shape[width_index], self.h_stride\n",
    "                    ):\n",
    "                        # max pooling\n",
    "                        if self.pooling == \"max\":\n",
    "                            # get window\n",
    "                            window = self.X_batch_feedforward[\n",
    "                                img,\n",
    "                                fmap,\n",
    "                                h : h + self.kernel_height,\n",
    "                                w : w + self.kernel_width,\n",
    "                            ]\n",
    "\n",
    "                            # find max values indices in window\n",
    "                            max_h, max_w = np.unravel_index(\n",
    "                                window.argmax(), window.shape\n",
    "                            )\n",
    "\n",
    "                            # set values in new, upsampled delta term\n",
    "                            delta_term[\n",
    "                                img,\n",
    "                                fmap,\n",
    "                                (h + max_h),\n",
    "                                (w + max_w),\n",
    "                            ] += delta_term_next[img, fmap, h, w]\n",
    "\n",
    "                        # average pooling\n",
    "                        if self.pooling == \"average\":\n",
    "                            delta_term[\n",
    "                                img,\n",
    "                                fmap,\n",
    "                                h : h + self.kernel_height,\n",
    "                                w : w + self.kernel_width,\n",
    "                            ] = (\n",
    "                                delta_term_next[img, fmap, h, w]\n",
    "                                / self.kernel_height\n",
    "                                / self.kernel_width\n",
    "                            )\n",
    "        # returns input to backpropagation in previous layer\n",
    "        return delta_term\n",
    "\n",
    "    def _reset_weights(self, previous_nodes):\n",
    "        # calculate strided height, strided width\n",
    "        strided_height = (\n",
    "            previous_nodes.shape[height_index] - self.kernel_height\n",
    "        ) // self.v_stride + 1\n",
    "        if previous_nodes.shape[height_index] == previous_nodes.shape[width_index]:\n",
    "            strided_width = strided_height\n",
    "        else:\n",
    "            strided_width = (\n",
    "                previous_nodes.shape[width_index] - self.kernel_width\n",
    "            ) // self.h_stride + 1\n",
    "\n",
    "        # initiate output array\n",
    "        output = np.ones(\n",
    "            (\n",
    "                previous_nodes.shape[input_index],\n",
    "                previous_nodes.shape[feature_maps_index],\n",
    "                strided_height,\n",
    "                strided_width,\n",
    "            )\n",
    "        )\n",
    "\n",
    "        # returns output with shape used for reset weights in next layer\n",
    "        return output\n",
    "\n",
    "    def _check_for_errors(self):\n",
    "        # check if input is smaller than kernel size -> error\n",
    "        assert (\n",
    "            self.X_batch_feedforward.shape[width_index] >= self.kernel_width\n",
    "        ), f\"ERROR: Pooling kernel width_index ({self.kernel_width}) larger than data width_index ({self.X_batch_feedforward.input.shape[2]}), please lower the kernel width_index of the Pooling2DLayer\"\n",
    "        assert (\n",
    "            self.X_batch_feedforward.shape[height_index] >= self.kernel_height\n",
    "        ), f\"ERROR: Pooling kernel height_index ({self.kernel_height}) larger than data height_index ({self.X_batch_feedforward.input.shape[3]}), please lower the kernel height_index of the Pooling2DLayer\""
   ]
  },
  {
   "cell_type": "markdown",
   "id": "39b8c8c0",
   "metadata": {
    "editable": true
   },
   "source": [
    "### Flattening Layer\n",
    "\n",
    "Before we can begin building our first CNN model, we need to introduce\n",
    "the flattening layer. As its name suggests, the flattening layer\n",
    "transforms the data into a one-dimensional vector that can be fed into\n",
    "the feedforward layers of our network. This layer plays a crucial role\n",
    "in preparing the data for further processing in the\n",
    "network. Additionally, the flattening layer is responsible for\n",
    "reshaping the gradient to the proper shape during\n",
    "backpropagation. This ensures that the kernels are correctly updated,\n",
    "allowing for effective learning in the network."
   ]
  },
  {
   "cell_type": "code",
   "execution_count": 15,
   "id": "52ed142f",
   "metadata": {
    "collapsed": false,
    "editable": true
   },
   "outputs": [],
   "source": [
    "class FlattenLayer(Layer):\n",
    "    def __init__(self, act_func=LRELU, seed=None):\n",
    "        super().__init__(seed)\n",
    "        self.act_func = act_func\n",
    "\n",
    "    def _feedforward(self, X_batch):\n",
    "        # save input for backpropagation\n",
    "        self.X_batch_feedforward_shape = X_batch.shape\n",
    "        # Remember, the data has the following shape: (I, FM, H, W, ) in the convolutional layers\n",
    "        # whilst the data has the shape (I, FM * H * W) in the fully connected layers\n",
    "        # I = Inputs, FM = Feature Maps, H = Height and W = Width.\n",
    "        X_batch = X_batch.reshape(\n",
    "            X_batch.shape[input_index],\n",
    "            X_batch.shape[feature_maps_index]\n",
    "            * X_batch.shape[height_index]\n",
    "            * X_batch.shape[width_index],\n",
    "        )\n",
    "\n",
    "        # add bias to a\n",
    "        self.z_matrix = X_batch\n",
    "        bias = np.ones((X_batch.shape[input_index], 1)) * 0.01\n",
    "        self.a_matrix = np.hstack([bias, X_batch])\n",
    "\n",
    "        # return a, the input to feedforward in next layer\n",
    "        return self.a_matrix\n",
    "\n",
    "    def _backpropagate(self, weights_next, delta_term_next):\n",
    "        activation_derivative = derivate(self.act_func)\n",
    "\n",
    "        # calculate delta term\n",
    "        delta_term = (\n",
    "            weights_next[bias_index:, :] @ delta_term_next.T\n",
    "        ).T * activation_derivative(self.z_matrix)\n",
    "\n",
    "        # FlattenLayer does not update weights\n",
    "        # reshapes delta layer to convolutional layer data format [Input, Feature_Maps, Height, Width]\n",
    "        return delta_term.reshape(self.X_batch_feedforward_shape)\n",
    "\n",
    "    def _reset_weights(self, previous_nodes):\n",
    "        # note that the previous nodes to the FlattenLayer are from the convolutional layers\n",
    "        previous_nodes = previous_nodes.reshape(\n",
    "            previous_nodes.shape[input_index],\n",
    "            previous_nodes.shape[feature_maps_index]\n",
    "            * previous_nodes.shape[height_index]\n",
    "            * previous_nodes.shape[width_index],\n",
    "        )\n",
    "\n",
    "        # return shape used in reset_weights in next layer\n",
    "        return previous_nodes.shape[node_index]\n",
    "\n",
    "    def get_prev_a(self):\n",
    "        return self.a_matrix"
   ]
  },
  {
   "cell_type": "markdown",
   "id": "f6a630f9",
   "metadata": {
    "editable": true
   },
   "source": [
    "### Fully Connected Layers\n",
    "\n",
    "Finally, the result from the flatten layer will pass to a series of\n",
    "fully connected layers, which function as a normal feed forward neural\n",
    "network. The fully connected layers are split into two classes;\n",
    "FullyConnectedLayer which acts as a hidden layer, and OutputLayer,\n",
    "which acts as the single output layer at the end of the CNN. If one\n",
    "wishes to use this codebase to construct a normal feed forward neural\n",
    "network, it must start with a FlattenLayer due to techincal details\n",
    "regarding weight intitialization. However many FullyConnectedLayers\n",
    "can be added to the CNN, and in each layer the amount of nodes, which\n",
    "activation function and scheduler to use can be specified. In\n",
    "practice, the scheduler will be specified in the CNN object\n",
    "initialization, and inherited if no other scheduler is specified."
   ]
  },
  {
   "cell_type": "code",
   "execution_count": 16,
   "id": "97856b1e",
   "metadata": {
    "collapsed": false,
    "editable": true
   },
   "outputs": [],
   "source": [
    "class FullyConnectedLayer(Layer):\n",
    "    # FullyConnectedLayer per default uses LRELU and Adam scheduler\n",
    "    # with an eta of 0.0001, rho of 0.9 and rho2 of 0.999\n",
    "    def __init__(\n",
    "        self,\n",
    "        nodes: int,\n",
    "        act_func: Callable = LRELU,\n",
    "        scheduler: Scheduler = Adam(eta=1e-4, rho=0.9, rho2=0.999),\n",
    "        seed: int = None,\n",
    "    ):\n",
    "        super().__init__(seed)\n",
    "        self.nodes = nodes\n",
    "        self.act_func = act_func\n",
    "        self.scheduler_weight = copy(scheduler)\n",
    "        self.scheduler_bias = copy(scheduler)\n",
    "\n",
    "        # initiate matrices for later\n",
    "        self.weights = None\n",
    "        self.a_matrix = None\n",
    "        self.z_matrix = None\n",
    "\n",
    "    def _feedforward(self, X_batch):\n",
    "        # calculate z\n",
    "        self.z_matrix = X_batch @ self.weights\n",
    "\n",
    "        # calculate a, add bias\n",
    "        bias = np.ones((X_batch.shape[input_index], 1)) * 0.01\n",
    "        self.a_matrix = self.act_func(self.z_matrix)\n",
    "        self.a_matrix = np.hstack([bias, self.a_matrix])\n",
    "\n",
    "        # return a, the input for feedforward in next layer\n",
    "        return self.a_matrix\n",
    "\n",
    "    def _backpropagate(self, weights_next, delta_term_next, a_previous, lam):\n",
    "        # take the derivative of the activation function\n",
    "        activation_derivative = derivate(self.act_func)\n",
    "\n",
    "        # calculate the delta term\n",
    "        delta_term = (\n",
    "            weights_next[bias_index:, :] @ delta_term_next.T\n",
    "        ).T * activation_derivative(self.z_matrix)\n",
    "\n",
    "        # intitiate matrix to store gradient\n",
    "        # note that we exclude the bias term, which we will calculate later\n",
    "        gradient_weights = np.zeros(\n",
    "            (\n",
    "                a_previous.shape[input_index],\n",
    "                a_previous.shape[node_index] - bias_index,\n",
    "                delta_term.shape[node_index],\n",
    "            )\n",
    "        )\n",
    "\n",
    "        # calculate gradient = delta term * previous a\n",
    "        for i in range(len(delta_term)):\n",
    "            gradient_weights[i, :, :] = np.outer(\n",
    "                a_previous[i, bias_index:], delta_term[i, :]\n",
    "            )\n",
    "\n",
    "        # sum the gradient, divide by input_index\n",
    "        gradient_weights = np.mean(gradient_weights, axis=input_index)\n",
    "        # for the bias gradient we do not multiply by previous a\n",
    "        gradient_bias = np.mean(delta_term, axis=input_index).reshape(\n",
    "            1, delta_term.shape[node_index]\n",
    "        )\n",
    "\n",
    "        # regularization term\n",
    "        gradient_weights += self.weights[bias_index:, :] * lam\n",
    "\n",
    "        # send gradients into scheduler\n",
    "        # returns update matrix which will be used to update the weights and bias\n",
    "        update_matrix = np.vstack(\n",
    "            [\n",
    "                self.scheduler_bias.update_change(gradient_bias),\n",
    "                self.scheduler_weight.update_change(gradient_weights),\n",
    "            ]\n",
    "        )\n",
    "\n",
    "        # update weights\n",
    "        self.weights -= update_matrix\n",
    "\n",
    "        # return weights and delta term, input for backpropagation in previous layer\n",
    "        return self.weights, delta_term\n",
    "\n",
    "    def _reset_weights(self, previous_nodes):\n",
    "        # sets seed to remove randomness inbetween runs\n",
    "        if self.seed is not None:\n",
    "            np.random.seed(self.seed)\n",
    "\n",
    "        # add bias, initiate random weights\n",
    "        bias = 1\n",
    "        self.weights = np.random.randn(previous_nodes + bias, self.nodes)\n",
    "\n",
    "        # returns number of nodes, used for reset_weights in next layer\n",
    "        return self.nodes\n",
    "\n",
    "    def _reset_scheduler(self):\n",
    "        # resets scheduler per epoch\n",
    "        self.scheduler_weight.reset()\n",
    "        self.scheduler_bias.reset()\n",
    "\n",
    "    def get_prev_a(self):\n",
    "        # returns a matrix, used in backpropagation\n",
    "        return self.a_matrix\n",
    "\n",
    "\n",
    "class OutputLayer(FullyConnectedLayer):\n",
    "    def __init__(\n",
    "        self,\n",
    "        nodes: int,\n",
    "        output_func: Callable = LRELU,\n",
    "        cost_func: Callable = CostCrossEntropy,\n",
    "        scheduler: Scheduler = Adam(eta=1e-4, rho=0.9, rho2=0.999),\n",
    "        seed: int = None,\n",
    "    ):\n",
    "        super().__init__(nodes, output_func, copy(scheduler), seed)\n",
    "        self.cost_func = cost_func\n",
    "\n",
    "        # initiate matrices for later\n",
    "        self.weights = None\n",
    "        self.a_matrix = None\n",
    "        self.z_matrix = None\n",
    "\n",
    "        # decides if the output layer performs binary or multi-class classification\n",
    "        self._set_pred_format()\n",
    "\n",
    "    def _feedforward(self, X_batch: np.ndarray):\n",
    "        # calculate a, z\n",
    "        # note that bias is not added as this would create an extra output class\n",
    "        self.z_matrix = X_batch @ self.weights\n",
    "        self.a_matrix = self.act_func(self.z_matrix)\n",
    "\n",
    "        # returns prediction\n",
    "        return self.a_matrix\n",
    "\n",
    "    def _backpropagate(self, target, a_previous, lam):\n",
    "        # note that in the OutputLayer the activation function is the output function\n",
    "        activation_derivative = derivate(self.act_func)\n",
    "\n",
    "        # calculate output delta terms\n",
    "        # for multi-class or binary classification\n",
    "        if self.pred_format == \"Multi-class\":\n",
    "            delta_term = self.a_matrix - target\n",
    "        else:\n",
    "            cost_func_derivative = grad(self.cost_func(target))\n",
    "            delta_term = activation_derivative(self.z_matrix) * cost_func_derivative(\n",
    "                self.a_matrix\n",
    "            )\n",
    "\n",
    "        # intiate matrix that stores gradient\n",
    "        gradient_weights = np.zeros(\n",
    "            (\n",
    "                a_previous.shape[input_index],\n",
    "                a_previous.shape[node_index] - bias_index,\n",
    "                delta_term.shape[node_index],\n",
    "            )\n",
    "        )\n",
    "\n",
    "        # calculate gradient = delta term * previous a\n",
    "        for i in range(len(delta_term)):\n",
    "            gradient_weights[i, :, :] = np.outer(\n",
    "                a_previous[i, bias_index:], delta_term[i, :]\n",
    "            )\n",
    "\n",
    "        # sum the gradient, divide by input_index\n",
    "        gradient_weights = np.mean(gradient_weights, axis=input_index)\n",
    "        # for the bias gradient we do not multiply by previous a\n",
    "        gradient_bias = np.mean(delta_term, axis=input_index).reshape(\n",
    "            1, delta_term.shape[node_index]\n",
    "        )\n",
    "\n",
    "        # regularization term\n",
    "        gradient_weights += self.weights[bias_index:, :] * lam\n",
    "\n",
    "        # send gradients into scheduler\n",
    "        # returns update matrix which will be used to update the weights and bias\n",
    "        update_matrix = np.vstack(\n",
    "            [\n",
    "                self.scheduler_bias.update_change(gradient_bias),\n",
    "                self.scheduler_weight.update_change(gradient_weights),\n",
    "            ]\n",
    "        )\n",
    "\n",
    "        # update weights\n",
    "        self.weights -= update_matrix\n",
    "\n",
    "        # return weights and delta term, input for backpropagation in previous layer\n",
    "        return self.weights, delta_term\n",
    "\n",
    "    def _reset_weights(self, previous_nodes):\n",
    "        # sets seed to remove randomness inbetween runs\n",
    "        if self.seed is not None:\n",
    "            np.random.seed(self.seed)\n",
    "\n",
    "        # add bias, initiate random weights\n",
    "        bias = 1\n",
    "        self.weights = np.random.rand(previous_nodes + bias, self.nodes)\n",
    "\n",
    "        # returns number of nodes, used for reset_weights in next layer\n",
    "        return self.nodes\n",
    "\n",
    "    def _reset_scheduler(self):\n",
    "        # resets scheduler per epoch\n",
    "        self.scheduler_weight.reset()\n",
    "        self.scheduler_bias.reset()\n",
    "\n",
    "    def _set_pred_format(self):\n",
    "        # sets prediction format to either regression, binary or multi-class classification\n",
    "        if self.act_func.__name__ is None or self.act_func.__name__ == \"identity\":\n",
    "            self.pred_format = \"Regression\"\n",
    "        elif self.act_func.__name__ == \"sigmoid\" or self.act_func.__name__ == \"tanh\":\n",
    "            self.pred_format = \"Binary\"\n",
    "        else:\n",
    "            self.pred_format = \"Multi-class\"\n",
    "\n",
    "    def get_pred_format(self):\n",
    "        # returns format of prediction\n",
    "        return self.pred_format"
   ]
  },
  {
   "cell_type": "markdown",
   "id": "dd14f109",
   "metadata": {
    "editable": true
   },
   "source": [
    "### Optimized Convolution2DLayer\n",
    "\n",
    "For our CNN, we have also implemented an optimized version of the\n",
    "Convolution2DLayer, Convolution2DLayerOPT, which runs much faster. See\n",
    "VII. Remarks for discussion. This layer will per default be used by\n",
    "the CNN due to its computational advantages, but is much less\n",
    "readable. We've documented it such that specially interested students\n",
    "can understand the principles behind it, but it is not recommended to\n",
    "read. In short, we reshape and transpose parts of the image such that\n",
    "the convolutional operation can be swapped out for a simple matrix\n",
    "multiplication."
   ]
  },
  {
   "cell_type": "code",
   "execution_count": 17,
   "id": "cd2ed2f2",
   "metadata": {
    "collapsed": false,
    "editable": true
   },
   "outputs": [],
   "source": [
    "class Convolution2DLayerOPT(Convolution2DLayer):\n",
    "    \"\"\"\n",
    "    Am optimized version of the convolution layer above which\n",
    "    utilizes an approach of extracting windows of size equivalent\n",
    "    in size to the filter. The convoution is then performed on those\n",
    "    windows instead of a full feature map.\n",
    "    \"\"\"\n",
    "\n",
    "    def __init__(\n",
    "        self,\n",
    "        input_channels,\n",
    "        feature_maps,\n",
    "        kernel_height,\n",
    "        kernel_width,\n",
    "        v_stride,\n",
    "        h_stride,\n",
    "        pad,\n",
    "        act_func: Callable,\n",
    "        seed=None,\n",
    "        reset_weights_independently=True,\n",
    "    ):\n",
    "        super().__init__(\n",
    "            input_channels,\n",
    "            feature_maps,\n",
    "            kernel_height,\n",
    "            kernel_width,\n",
    "            v_stride,\n",
    "            h_stride,\n",
    "            pad,\n",
    "            act_func,\n",
    "            seed,\n",
    "        )\n",
    "        # true if layer is used outside of CNN\n",
    "        if reset_weights_independently == True:\n",
    "            self._reset_weights_independently()\n",
    "\n",
    "    def _feedforward(self, X_batch):\n",
    "        # The optimized _feedforward method is difficult to understand but computationally more efficient\n",
    "        # for a more \"by the book\" approach, please look at the _feedforward method of Convolution2DLayer\n",
    "\n",
    "        # save the input for backpropagation\n",
    "        self.X_batch_feedforward = X_batch\n",
    "\n",
    "        # check that there are the correct amount of input channels\n",
    "        self._check_for_errors()\n",
    "\n",
    "        # calculate new shape after stride\n",
    "        strided_height = int(np.ceil(X_batch.shape[height_index] / self.v_stride))\n",
    "        strided_width = int(np.ceil(X_batch.shape[width_index] / self.h_stride))\n",
    "\n",
    "        # get windows of the image for more computationally efficient convolution\n",
    "        # the idea is that we want to align the dimensions that we wish to matrix\n",
    "        # multiply, then use a simple matrix multiplication instead of convolution.\n",
    "        # then, we reshape the size back to its intended shape\n",
    "        windows = self._extract_windows(X_batch)\n",
    "        windows = windows.transpose(1, 0, 2, 3, 4).reshape(\n",
    "            X_batch.shape[input_index],\n",
    "            strided_height * strided_width,\n",
    "            -1,\n",
    "        )\n",
    "\n",
    "        # reshape the kernel for more computationally efficient convolution\n",
    "        kernel = self.kernel\n",
    "        kernel = kernel.transpose(0, 2, 3, 1).reshape(\n",
    "            kernel.shape[kernel_input_channels_index]\n",
    "            * kernel.shape[height_index]\n",
    "            * kernel.shape[width_index],\n",
    "            -1,\n",
    "        )\n",
    "\n",
    "        # use simple matrix calculation to obtain output\n",
    "        output = (\n",
    "            (windows @ kernel)\n",
    "            .reshape(\n",
    "                X_batch.shape[input_index],\n",
    "                strided_height,\n",
    "                strided_width,\n",
    "                -1,\n",
    "            )\n",
    "            .transpose(0, 3, 1, 2)\n",
    "        )\n",
    "\n",
    "        # The output is reshaped and rearranged to appropriate shape\n",
    "        return self.act_func(\n",
    "            output / (self.kernel_height * X_batch.shape[feature_maps_index])\n",
    "        )\n",
    "\n",
    "    def _backpropagate(self, delta_term_next):\n",
    "        # The optimized _backpropagate method is difficult to understand but computationally more efficient\n",
    "        # for a more \"by the book\" approach, please look at the _backpropagate method of Convolution2DLayer\n",
    "        act_derivative = derivate(self.act_func)\n",
    "        delta_term_next = act_derivative(delta_term_next)\n",
    "\n",
    "        # calculate strided dimensions\n",
    "        strided_height = int(\n",
    "            np.ceil(self.X_batch_feedforward.shape[height_index] / self.v_stride)\n",
    "        )\n",
    "        strided_width = int(\n",
    "            np.ceil(self.X_batch_feedforward.shape[width_index] / self.h_stride)\n",
    "        )\n",
    "\n",
    "        # copy kernel\n",
    "        kernel = self.kernel\n",
    "\n",
    "        # get windows, reshape for matrix multiplication\n",
    "        windows = self._extract_windows(self.X_batch_feedforward, \"image\").reshape(\n",
    "            self.X_batch_feedforward.shape[input_index]\n",
    "            * strided_height\n",
    "            * strided_width,\n",
    "            -1,\n",
    "        )\n",
    "\n",
    "        # initialize output gradient, reshape and transpose into correct shape\n",
    "        # for matrix multiplication\n",
    "        output_grad_tr = delta_term_next.transpose(0, 2, 3, 1).reshape(\n",
    "            self.X_batch_feedforward.shape[input_index]\n",
    "            * strided_height\n",
    "            * strided_width,\n",
    "            -1,\n",
    "        )\n",
    "\n",
    "        # calculate gradient kernel via simple matrix multiplication and reshaping\n",
    "        gradient_kernel = (\n",
    "            (windows.T @ output_grad_tr)\n",
    "            .reshape(\n",
    "                kernel.shape[kernel_input_channels_index],\n",
    "                kernel.shape[height_index],\n",
    "                kernel.shape[width_index],\n",
    "                kernel.shape[kernel_feature_maps_index],\n",
    "            )\n",
    "            .transpose(0, 3, 1, 2)\n",
    "        )\n",
    "\n",
    "        # for computing the input gradient\n",
    "        windows_out, upsampled_height, upsampled_width = self._extract_windows(\n",
    "            delta_term_next, \"grad\"\n",
    "        )\n",
    "\n",
    "        # calculate new window dimensions\n",
    "        new_windows_first_dim = (\n",
    "            self.X_batch_feedforward.shape[input_index]\n",
    "            * upsampled_height\n",
    "            * upsampled_width\n",
    "        )\n",
    "        # ceil allows for various asymmetric kernels\n",
    "        new_windows_sec_dim = int(np.ceil(windows_out.size / new_windows_first_dim))\n",
    "\n",
    "        # reshape for matrix multiplication\n",
    "        windows_out = windows_out.transpose(1, 0, 2, 3, 4).reshape(\n",
    "            new_windows_first_dim, new_windows_sec_dim\n",
    "        )\n",
    "\n",
    "        # reshape for matrix multiplication\n",
    "        kernel_reshaped = kernel.reshape(self.input_channels, -1)\n",
    "\n",
    "        # calculating input gradient for next convolutional layer\n",
    "        input_grad = (windows_out @ kernel_reshaped.T).reshape(\n",
    "            self.X_batch_feedforward.shape[input_index],\n",
    "            upsampled_height,\n",
    "            upsampled_width,\n",
    "            kernel.shape[kernel_input_channels_index],\n",
    "        )\n",
    "        input_grad = input_grad.transpose(0, 3, 1, 2)\n",
    "\n",
    "        # Update the weights in the kernel\n",
    "        self.kernel -= gradient_kernel\n",
    "\n",
    "        # Output the gradient to propagate backwards\n",
    "        return input_grad\n",
    "\n",
    "    def _extract_windows(self, X_batch, batch_type=\"image\"):\n",
    "        \"\"\"\n",
    "        Receives as input the X_batch with shape (inputs, feature_maps, image_height, image_width)\n",
    "        and extract windows of size kernel_height * kernel_width for every image and every feature_map.\n",
    "        It then returns an np.ndarray of shape (image_height * image_width, inputs, feature_maps, kernel_height, kernel_width)\n",
    "        which will be used either to filter the images in feedforward or to calculate the gradient.\n",
    "        \"\"\"\n",
    "\n",
    "        # initialize list of windows\n",
    "        windows = []\n",
    "\n",
    "        if batch_type == \"image\":\n",
    "            # pad the images\n",
    "            X_batch_padded = self._padding(X_batch, batch_type=\"image\")\n",
    "            img_height, img_width = X_batch_padded.shape[2:]\n",
    "            # For each location in the image...\n",
    "            for h in range(\n",
    "                0,\n",
    "                X_batch.shape[height_index],\n",
    "                self.v_stride,\n",
    "            ):\n",
    "                for w in range(\n",
    "                    0,\n",
    "                    X_batch.shape[width_index],\n",
    "                    self.h_stride,\n",
    "                ):\n",
    "                    # ...obtain an image patch of the original size (strided)\n",
    "\n",
    "                    # get window\n",
    "                    window = X_batch_padded[\n",
    "                        :,\n",
    "                        :,\n",
    "                        h : h + self.kernel_height,\n",
    "                        w : w + self.kernel_width,\n",
    "                    ]\n",
    "\n",
    "                    # append to list of windows\n",
    "                    windows.append(window)\n",
    "\n",
    "            # return numpy array instead of list\n",
    "            return np.stack(windows)\n",
    "\n",
    "        # In order to be able to perform backprogagation by the method of window extraction,\n",
    "        # here is a modified approach to extracting the windows which allow for the necessary\n",
    "        # upsampling of the gradient in case the on of the stride parameters is larger than one.\n",
    "\n",
    "        if batch_type == \"grad\":\n",
    "\n",
    "            # In the case of one of the stride parameters being odd, we have to take some\n",
    "            # extra care in calculating the upsampled size of X_batch. We solve this\n",
    "            # by simply flooring the result of dividing stride by 2.\n",
    "            if self.v_stride < 2 or self.v_stride % 2 == 0:\n",
    "                v_stride = 0\n",
    "            else:\n",
    "                v_stride = int(np.floor(self.v_stride / 2))\n",
    "\n",
    "            if self.h_stride < 2 or self.h_stride % 2 == 0:\n",
    "                h_stride = 0\n",
    "            else:\n",
    "                h_stride = int(np.floor(self.h_stride / 2))\n",
    "\n",
    "            upsampled_height = (X_batch.shape[height_index] * self.v_stride) - v_stride\n",
    "            upsampled_width = (X_batch.shape[width_index] * self.h_stride) - h_stride\n",
    "\n",
    "            # When upsampling, we need to insert rows and columns filled with zeros\n",
    "            # into each feature map. How many of those we have to insert is purely\n",
    "            # dependant on the value of stride parameter in the vertical and horizontal\n",
    "            # direction.\n",
    "            if self.v_stride > 1:\n",
    "                v_ind = 1\n",
    "                for i in range(X_batch.shape[height_index]):\n",
    "                    for j in range(self.v_stride - 1):\n",
    "                        X_batch = np.insert(X_batch, v_ind, 0, axis=height_index)\n",
    "                    v_ind += self.v_stride\n",
    "\n",
    "            if self.h_stride > 1:\n",
    "                h_ind = 1\n",
    "                for i in range(X_batch.shape[width_index]):\n",
    "                    for k in range(self.h_stride - 1):\n",
    "                        X_batch = np.insert(X_batch, h_ind, 0, axis=width_index)\n",
    "                    h_ind += self.h_stride\n",
    "\n",
    "            # Since the insertion of zero-filled rows and columns isn't perfect, we have\n",
    "            # to assure that the resulting feature maps will have the expected upsampled height\n",
    "            # and width by cutting them og at desired dimensions.\n",
    "\n",
    "            X_batch = X_batch[:, :, :upsampled_height, :upsampled_width]\n",
    "\n",
    "            X_batch_padded = self._padding(X_batch, batch_type=\"grad\")\n",
    "\n",
    "            # initialize list of windows\n",
    "            windows = []\n",
    "\n",
    "            # For each location in the image...\n",
    "            for h in range(\n",
    "                0,\n",
    "                X_batch.shape[height_index],\n",
    "                self.v_stride,\n",
    "            ):\n",
    "                for w in range(\n",
    "                    0,\n",
    "                    X_batch.shape[width_index],\n",
    "                    self.h_stride,\n",
    "                ):\n",
    "                    # ...obtain an image patch of the original size (strided)\n",
    "\n",
    "                    # get window\n",
    "                    window = X_batch_padded[\n",
    "                        :, :, h : h + self.kernel_height, w : w + self.kernel_width\n",
    "                    ]\n",
    "\n",
    "                    # append window to list\n",
    "                    windows.append(window)\n",
    "\n",
    "            # return numpy array, unsampled dimensions\n",
    "            return np.stack(windows), upsampled_height, upsampled_width\n",
    "\n",
    "    def _check_for_errors(self):\n",
    "        # compares input channels of data to input channels of Convolution2DLayer\n",
    "        if self.X_batch_feedforward.shape[input_channel_index] != self.input_channels:\n",
    "            raise AssertionError(\n",
    "                f\"ERROR: Number of input channels in data ({self.X_batch_feedforward.shape[input_channel_index]}) is not equal to input channels in Convolution2DLayerOPT ({self.input_channels})! Please change the number of input channels of the Convolution2DLayer such that they are equal\"\n",
    "            )"
   ]
  },
  {
   "cell_type": "markdown",
   "id": "b3e28576",
   "metadata": {
    "editable": true
   },
   "source": [
    "### The Convolutional Neural Network (CNN)\n",
    "\n",
    "Finally, we present the code for the CNN. The CNN class organizes all the layers, and allows for training on image data."
   ]
  },
  {
   "cell_type": "code",
   "execution_count": 18,
   "id": "fd216695",
   "metadata": {
    "collapsed": false,
    "editable": true
   },
   "outputs": [],
   "source": [
    "import math\n",
    "import autograd.numpy as np\n",
    "import sys\n",
    "import warnings\n",
    "from autograd import grad, elementwise_grad\n",
    "from random import random, seed\n",
    "from copy import deepcopy\n",
    "from typing import Tuple, Callable\n",
    "from sklearn.utils import resample\n",
    "\n",
    "warnings.simplefilter(\"error\")\n",
    "\n",
    "\n",
    "class CNN:\n",
    "    def __init__(\n",
    "        self,\n",
    "        cost_func: Callable = CostCrossEntropy,\n",
    "        scheduler: Scheduler = Adam(eta=1e-4, rho=0.9, rho2=0.999),\n",
    "        seed: int = None,\n",
    "    ):\n",
    "        \"\"\"\n",
    "        Description:\n",
    "        ------------\n",
    "            Instantiates CNN object\n",
    "\n",
    "        Parameters:\n",
    "        ------------\n",
    "            I   output_func (costFunctions) cost function for feed forward neural network part of CNN,\n",
    "                such as \"CostLogReg\", \"CostOLS\" or \"CostCrossEntropy\"\n",
    "\n",
    "            II  scheduler (Scheduler) optional parameter, default set to Adam. Can also be set to other\n",
    "                schedulers such as AdaGrad, Momentum, RMS_prop and Constant. Note that schedulers have\n",
    "                to be instantiated first with proper parameters (for example eta, rho and rho2 for Adam)\n",
    "\n",
    "            III seed (int) used for seeding all random operations\n",
    "        \"\"\"\n",
    "        self.layers = list()\n",
    "        self.cost_func = cost_func\n",
    "        self.scheduler = scheduler\n",
    "        self.schedulers_weight = list()\n",
    "        self.schedulers_bias = list()\n",
    "        self.seed = seed\n",
    "        self.pred_format = None\n",
    "\n",
    "    def add_FullyConnectedLayer(\n",
    "        self, nodes: int, act_func=LRELU, scheduler=None\n",
    "    ) -> None:\n",
    "        \"\"\"\n",
    "        Description:\n",
    "        ------------\n",
    "            Add a FullyConnectedLayer to the CNN, i.e. a hidden layer in the feed forward neural\n",
    "            network part of the CNN. Often called a Dense layer in literature\n",
    "\n",
    "        Parameters:\n",
    "        ------------\n",
    "            I   nodes (int) number of nodes in FullyConnectedLayer\n",
    "            II  act_func (activationFunctions) activation function of FullyConnectedLayer,\n",
    "                such as \"sigmoid\", \"RELU\", \"LRELU\", \"softmax\" or \"identity\"\n",
    "            III scheduler (Scheduler) optional parameter, default set to Adam. Can also be set to other\n",
    "                schedulers such as AdaGrad, Momentum, RMS_prop and Constant\n",
    "        \"\"\"\n",
    "        assert self.layers, \"FullyConnectedLayer should follow FlattenLayer in CNN\"\n",
    "\n",
    "        if scheduler is None:\n",
    "            scheduler = self.scheduler\n",
    "\n",
    "        layer = FullyConnectedLayer(nodes, act_func, scheduler, self.seed)\n",
    "        self.layers.append(layer)\n",
    "\n",
    "    def add_OutputLayer(self, nodes: int, output_func=sigmoid, scheduler=None) -> None:\n",
    "        \"\"\"\n",
    "        Description:\n",
    "        ------------\n",
    "            Add an OutputLayer to the CNN, i.e. a the final layer in the feed forward neural\n",
    "            network part of the CNN\n",
    "\n",
    "        Parameters:\n",
    "        ------------\n",
    "            I   nodes (int) number of nodes in OutputLayer. Set nodes=1 for binary classification and\n",
    "                nodes = number of classes for multi-class classification\n",
    "            II  output_func (activationFunctions) activation function for the output layer, such as\n",
    "                \"identity\" for regression, \"sigmoid\" for binary classification and \"softmax\" for multi-class\n",
    "                classification\n",
    "            III scheduler (Scheduler) optional parameter, default set to Adam. Can also be set to other\n",
    "                schedulers such as AdaGrad, Momentum, RMS_prop and Constant\n",
    "        \"\"\"\n",
    "        assert self.layers, \"OutputLayer should follow FullyConnectedLayer in CNN\"\n",
    "\n",
    "        if scheduler is None:\n",
    "            scheduler = self.scheduler\n",
    "\n",
    "        output_layer = OutputLayer(\n",
    "            nodes, output_func, self.cost_func, scheduler, self.seed\n",
    "        )\n",
    "        self.layers.append(output_layer)\n",
    "        self.pred_format = output_layer.get_pred_format()\n",
    "\n",
    "    def add_FlattenLayer(self, act_func=LRELU) -> None:\n",
    "        \"\"\"\n",
    "        Description:\n",
    "        ------------\n",
    "            Add a FlattenLayer to the CNN, which flattens the image data such that it is formatted to\n",
    "            be used in the feed forward neural network part of the CNN\n",
    "        \"\"\"\n",
    "        self.layers.append(FlattenLayer(act_func=act_func, seed=self.seed))\n",
    "\n",
    "    def add_Convolution2DLayer(\n",
    "        self,\n",
    "        input_channels=1,\n",
    "        feature_maps=1,\n",
    "        kernel_height=3,\n",
    "        kernel_width=3,\n",
    "        v_stride=1,\n",
    "        h_stride=1,\n",
    "        pad=\"same\",\n",
    "        act_func=LRELU,\n",
    "        optimized=True,\n",
    "    ) -> None:\n",
    "        \"\"\"\n",
    "        Description:\n",
    "        ------------\n",
    "            Add a Convolution2DLayer to the CNN, i.e. a convolutional layer with a 2 dimensional kernel. Should be\n",
    "            the first layer added to the CNN\n",
    "\n",
    "        Parameters:\n",
    "        ------------\n",
    "            I   input_channels (int) specifies amount of input channels. For monochrome images, use input_channels\n",
    "                = 1, and input_channels = 3 for colored images, where each channel represents one of R, G and B\n",
    "            II  feature_maps (int) amount of feature maps in CNN\n",
    "            III kernel_height (int) height of the kernel, also called 'convolutional filter' in literature\n",
    "            IV  kernel_width (int) width of the kernel, also called 'convolutional filter' in literature\n",
    "            V   v_stride (int) value of vertical stride for dimentionality reduction\n",
    "            VI  h_stride (int) value of horizontal stride for dimentionality reduction\n",
    "            VII pad (str) default = \"same\" ensures output size is the same as input size (given stride=1)\n",
    "           VIII act_func (activationFunctions) default = \"LRELU\", nonlinear activation function\n",
    "             IX optimized (bool) default = True, uses Convolution2DLayerOPT if True which is much faster when\n",
    "                compared to Convolution2DLayer, which is a more straightforward, understandable implementation\n",
    "        \"\"\"\n",
    "        if optimized:\n",
    "            conv_layer = Convolution2DLayerOPT(\n",
    "                input_channels,\n",
    "                feature_maps,\n",
    "                kernel_height,\n",
    "                kernel_width,\n",
    "                v_stride,\n",
    "                h_stride,\n",
    "                pad,\n",
    "                act_func,\n",
    "                self.seed,\n",
    "                reset_weights_independently=False,\n",
    "            )\n",
    "        else:\n",
    "            conv_layer = Convolution2DLayer(\n",
    "                input_channels,\n",
    "                feature_maps,\n",
    "                kernel_height,\n",
    "                kernel_width,\n",
    "                v_stride,\n",
    "                h_stride,\n",
    "                pad,\n",
    "                act_func,\n",
    "                self.seed,\n",
    "                reset_weights_independently=False,\n",
    "            )\n",
    "        self.layers.append(conv_layer)\n",
    "\n",
    "    def add_PoolingLayer(\n",
    "        self, kernel_height=2, kernel_width=2, v_stride=1, h_stride=1, pooling=\"max\"\n",
    "    ) -> None:\n",
    "        \"\"\"\n",
    "        Description:\n",
    "        ------------\n",
    "            Add a Pooling2DLayer to the CNN, i.e. a pooling layer that reduces the dimentionality of\n",
    "            the image data. It is not necessary to use a Pooling2DLayer when creating a CNN, but it\n",
    "            can be used to speed up the training\n",
    "\n",
    "        Parameters:\n",
    "        ------------\n",
    "            I   kernel_height (int) height of the kernel used for pooling\n",
    "            II  kernel_width (int) width of the kernel used for pooling\n",
    "            III v_stride (int) value of vertical stride for dimentionality reduction\n",
    "            IV  h_stride (int) value of horizontal stride for dimentionality reduction\n",
    "            V   pooling (str) either \"max\" or \"average\", describes type of pooling performed\n",
    "        \"\"\"\n",
    "        pooling_layer = Pooling2DLayer(\n",
    "            kernel_height, kernel_width, v_stride, h_stride, pooling, self.seed\n",
    "        )\n",
    "        self.layers.append(pooling_layer)\n",
    "\n",
    "    def fit(\n",
    "        self,\n",
    "        X: np.ndarray,\n",
    "        t: np.ndarray,\n",
    "        epochs: int = 100,\n",
    "        lam: float = 0,\n",
    "        batches: int = 1,\n",
    "        X_val: np.ndarray = None,\n",
    "        t_val: np.ndarray = None,\n",
    "    ) -> dict:\n",
    "        \"\"\"\n",
    "        Description:\n",
    "        ------------\n",
    "            Fits the CNN to input X for a given amount of epochs. Performs feedforward and backpropagation passes,\n",
    "            can utilize batches, regulariziation and validation if desired.\n",
    "\n",
    "        Parameters:\n",
    "        ------------\n",
    "            X (numpy array) with input data in format [images, input channels,\n",
    "            image height, image_width]\n",
    "            t (numpy array) target labels for input data\n",
    "            epochs (int) amount of epochs\n",
    "            lam (float) regulariziation term lambda\n",
    "            batches (int) amount of batches input data splits into\n",
    "            X_val (numpy array) validation data\n",
    "            t_val (numpy array) target labels for validation data\n",
    "\n",
    "        Returns:\n",
    "        ------------\n",
    "            scores (dict) a dictionary with \"train_error\", \"train_acc\", \"val_error\", val_acc\" keys\n",
    "            that contain numpy arrays with float values of all accuracies/errors over all epochs.\n",
    "            Can be used to create plots. Also used to update the progress bar during training\n",
    "        \"\"\"\n",
    "\n",
    "        # setup\n",
    "        if self.seed is not None:\n",
    "            np.random.seed(self.seed)\n",
    "\n",
    "        # initialize weights\n",
    "        self._initialize_weights(X)\n",
    "\n",
    "        # create arrays for score metrics\n",
    "        scores = self._initialize_scores(epochs)\n",
    "\n",
    "        assert batches <= t.shape[0]\n",
    "        batch_size = X.shape[0] // batches\n",
    "\n",
    "        try:\n",
    "            for epoch in range(epochs):\n",
    "                for batch in range(batches):\n",
    "                    # minibatch gradient descent\n",
    "                    # If the for loop has reached the last batch, take all thats left\n",
    "                    if batch == batches - 1:\n",
    "                        X_batch = X[batch * batch_size :, :, :, :]\n",
    "                        t_batch = t[batch * batch_size :, :]\n",
    "                    else:\n",
    "                        X_batch = X[\n",
    "                            batch * batch_size : (batch + 1) * batch_size, :, :, :\n",
    "                        ]\n",
    "                        t_batch = t[batch * batch_size : (batch + 1) * batch_size, :]\n",
    "\n",
    "                    self._feedforward(X_batch)\n",
    "                    self._backpropagate(t_batch, lam)\n",
    "\n",
    "                # reset schedulers for each epoch (some schedulers pass in this call)\n",
    "                for layer in self.layers:\n",
    "                    if isinstance(layer, FullyConnectedLayer):\n",
    "                        layer._reset_scheduler()\n",
    "\n",
    "                # computing performance metrics\n",
    "                scores = self._compute_scores(scores, epoch, X, t, X_val, t_val)\n",
    "\n",
    "                # printing progress bar\n",
    "                print_length = self._progress_bar(\n",
    "                    epoch,\n",
    "                    epochs,\n",
    "                    scores,\n",
    "                )\n",
    "        # allows for stopping training at any point and seeing the result\n",
    "        except KeyboardInterrupt:\n",
    "            pass\n",
    "\n",
    "        # visualization of training progression (similiar to tensorflow progression bar)\n",
    "        sys.stdout.write(\"\\r\" + \" \" * print_length)\n",
    "        sys.stdout.flush()\n",
    "        self._progress_bar(\n",
    "            epochs,\n",
    "            epochs,\n",
    "            scores,\n",
    "        )\n",
    "        sys.stdout.write(\"\")\n",
    "\n",
    "        return scores\n",
    "\n",
    "    def _feedforward(self, X_batch) -> np.ndarray:\n",
    "        \"\"\"\n",
    "        Description:\n",
    "        ------------\n",
    "            Performs the feedforward pass for all layers in the CNN. Called from fit()\n",
    "        \"\"\"\n",
    "        a = X_batch\n",
    "        for layer in self.layers:\n",
    "            a = layer._feedforward(a)\n",
    "\n",
    "        return a\n",
    "\n",
    "    def _backpropagate(self, t_batch, lam) -> None:\n",
    "        \"\"\"\n",
    "        Description:\n",
    "        ------------\n",
    "            Performs backpropagation for all layers in the CNN. Called from fit()\n",
    "        \"\"\"\n",
    "        assert len(self.layers) >= 2\n",
    "        reversed_layers = self.layers[::-1]\n",
    "\n",
    "        # for every layer, backwards\n",
    "        for i in range(len(reversed_layers) - 1):\n",
    "            layer = reversed_layers[i]\n",
    "            prev_layer = reversed_layers[i + 1]\n",
    "\n",
    "            # OutputLayer\n",
    "            if isinstance(layer, OutputLayer):\n",
    "                prev_a = prev_layer.get_prev_a()\n",
    "                weights_next, delta_next = layer._backpropagate(t_batch, prev_a, lam)\n",
    "\n",
    "            # FullyConnectedLayer\n",
    "            elif isinstance(layer, FullyConnectedLayer):\n",
    "                assert (\n",
    "                    delta_next is not None\n",
    "                ), \"No OutputLayer to follow FullyConnectedLayer\"\n",
    "                assert (\n",
    "                    weights_next is not None\n",
    "                ), \"No OutputLayer to follow FullyConnectedLayer\"\n",
    "                prev_a = prev_layer.get_prev_a()\n",
    "                weights_next, delta_next = layer._backpropagate(\n",
    "                    weights_next, delta_next, prev_a, lam\n",
    "                )\n",
    "\n",
    "            # FlattenLayer\n",
    "            elif isinstance(layer, FlattenLayer):\n",
    "                assert (\n",
    "                    delta_next is not None\n",
    "                ), \"No FullyConnectedLayer to follow FlattenLayer\"\n",
    "                assert (\n",
    "                    weights_next is not None\n",
    "                ), \"No FullyConnectedLayer to follow FlattenLayer\"\n",
    "                delta_next = layer._backpropagate(weights_next, delta_next)\n",
    "\n",
    "            # Convolution2DLayer and Convolution2DLayerOPT\n",
    "            elif isinstance(layer, Convolution2DLayer):\n",
    "                assert (\n",
    "                    delta_next is not None\n",
    "                ), \"No FlattenLayer to follow Convolution2DLayer\"\n",
    "                delta_next = layer._backpropagate(delta_next)\n",
    "\n",
    "            # Pooling2DLayer\n",
    "            elif isinstance(layer, Pooling2DLayer):\n",
    "                assert delta_next is not None, \"No Layer to follow Pooling2DLayer\"\n",
    "                delta_next = layer._backpropagate(delta_next)\n",
    "\n",
    "            # Catch error\n",
    "            else:\n",
    "                raise NotImplementedError\n",
    "\n",
    "    def _compute_scores(\n",
    "        self,\n",
    "        scores: dict,\n",
    "        epoch: int,\n",
    "        X: np.ndarray,\n",
    "        t: np.ndarray,\n",
    "        X_val: np.ndarray,\n",
    "        t_val: np.ndarray,\n",
    "    ) -> dict:\n",
    "        \"\"\"\n",
    "        Description:\n",
    "        ------------\n",
    "            Computes scores such as training error, training accuracy, validation error\n",
    "            and validation accuracy for the CNN depending on if a validation set is used\n",
    "            and if the CNN performs classification or regression\n",
    "\n",
    "        Returns:\n",
    "        ------------\n",
    "            scores (dict) a dictionary with \"train_error\", \"train_acc\", \"val_error\", val_acc\" keys\n",
    "            that contain numpy arrays with float values of all accuracies/errors over all epochs.\n",
    "            Can be used to create plots. Also used to update the progress bar during training\n",
    "        \"\"\"\n",
    "\n",
    "        pred_train = self.predict(X)\n",
    "        cost_function_train = self.cost_func(t)\n",
    "        train_error = cost_function_train(pred_train)\n",
    "        scores[\"train_error\"][epoch] = train_error\n",
    "\n",
    "        if X_val is not None and t_val is not None:\n",
    "            cost_function_val = self.cost_func(t_val)\n",
    "            pred_val = self.predict(X_val)\n",
    "            val_error = cost_function_val(pred_val)\n",
    "            scores[\"val_error\"][epoch] = val_error\n",
    "\n",
    "        if self.pred_format != \"Regression\":\n",
    "            train_acc = self._accuracy(pred_train, t)\n",
    "            scores[\"train_acc\"][epoch] = train_acc\n",
    "            if X_val is not None and t_val is not None:\n",
    "                val_acc = self._accuracy(pred_val, t_val)\n",
    "                scores[\"val_acc\"][epoch] = val_acc\n",
    "\n",
    "        return scores\n",
    "\n",
    "    def _initialize_scores(self, epochs) -> dict:\n",
    "        \"\"\"\n",
    "        Description:\n",
    "        ------------\n",
    "            Initializes scores such as training error, training accuracy, validation error\n",
    "            and validation accuracy for the CNN\n",
    "\n",
    "        Returns:\n",
    "        ------------\n",
    "            A dictionary with \"train_error\", \"train_acc\", \"val_error\", val_acc\" keys that\n",
    "            will contain numpy arrays with float values of all accuracies/errors over all epochs\n",
    "            when passed through the _compute_scores() function during fit()\n",
    "        \"\"\"\n",
    "        scores = dict()\n",
    "\n",
    "        train_errors = np.empty(epochs)\n",
    "        train_errors.fill(np.nan)\n",
    "        val_errors = np.empty(epochs)\n",
    "        val_errors.fill(np.nan)\n",
    "\n",
    "        train_accs = np.empty(epochs)\n",
    "        train_accs.fill(np.nan)\n",
    "        val_accs = np.empty(epochs)\n",
    "        val_accs.fill(np.nan)\n",
    "\n",
    "        scores[\"train_error\"] = train_errors\n",
    "        scores[\"val_error\"] = val_errors\n",
    "        scores[\"train_acc\"] = train_accs\n",
    "        scores[\"val_acc\"] = val_accs\n",
    "\n",
    "        return scores\n",
    "\n",
    "    def _initialize_weights(self, X: np.ndarray) -> None:\n",
    "        \"\"\"\n",
    "        Description:\n",
    "        ------------\n",
    "            Initializes weights for all layers in CNN\n",
    "\n",
    "        Parameters:\n",
    "        ------------\n",
    "            I   X (np.ndarray) input of format [img, feature_maps, height, width]\n",
    "        \"\"\"\n",
    "        prev_nodes = X\n",
    "        for layer in self.layers:\n",
    "            prev_nodes = layer._reset_weights(prev_nodes)\n",
    "\n",
    "    def predict(self, X: np.ndarray, *, threshold=0.5) -> np.ndarray:\n",
    "        \"\"\"\n",
    "        Description:\n",
    "        ------------\n",
    "            Predicts output of input X\n",
    "\n",
    "        Parameters:\n",
    "        ------------\n",
    "            I   X (np.ndarray) input [img, feature_maps, height, width]\n",
    "        \"\"\"\n",
    "\n",
    "        prediction = self._feedforward(X)\n",
    "\n",
    "        if self.pred_format == \"Binary\":\n",
    "            return np.where(prediction > threshold, 1, 0)\n",
    "        elif self.pred_format == \"Multi-class\":\n",
    "            class_prediction = np.zeros(prediction.shape)\n",
    "            for i in range(prediction.shape[0]):\n",
    "                class_prediction[i, np.argmax(prediction[i, :])] = 1\n",
    "            return class_prediction\n",
    "        else:\n",
    "            return prediction\n",
    "\n",
    "    def _accuracy(self, prediction: np.ndarray, target: np.ndarray) -> float:\n",
    "        \"\"\"\n",
    "        Description:\n",
    "        ------------\n",
    "            Calculates accuracy of given prediction to target\n",
    "\n",
    "        Parameters:\n",
    "        ------------\n",
    "            I   prediction (np.ndarray): output of predict() fuction\n",
    "            (1s and 0s in case of classification, and real numbers in case of regression)\n",
    "            II  target (np.ndarray): vector of true values (What the network should predict)\n",
    "\n",
    "        Returns:\n",
    "        ------------\n",
    "            A floating point number representing the percentage of correctly classified instances.\n",
    "        \"\"\"\n",
    "        assert prediction.size == target.size\n",
    "        return np.average((target == prediction))\n",
    "\n",
    "    def _progress_bar(self, epoch: int, epochs: int, scores: dict) -> int:\n",
    "        \"\"\"\n",
    "        Description:\n",
    "        ------------\n",
    "            Displays progress of training\n",
    "        \"\"\"\n",
    "        progression = epoch / epochs\n",
    "        epoch -= 1\n",
    "        print_length = 40\n",
    "        num_equals = int(progression * print_length)\n",
    "        num_not = print_length - num_equals\n",
    "        arrow = \">\" if num_equals > 0 else \"\"\n",
    "        bar = \"[\" + \"=\" * (num_equals - 1) + arrow + \"-\" * num_not + \"]\"\n",
    "        perc_print = self._fmt(progression * 100, N=5)\n",
    "        line = f\"  {bar} {perc_print}% \"\n",
    "\n",
    "        for key, score in scores.items():\n",
    "            if np.isnan(score[epoch]) == False:\n",
    "                value = self._fmt(score[epoch], N=4)\n",
    "                line += f\"| {key}: {value} \"\n",
    "        print(line, end=\"\\r\")\n",
    "        return len(line)\n",
    "\n",
    "    def _fmt(self, value: int, N=4) -> str:\n",
    "        \"\"\"\n",
    "        Description:\n",
    "        ------------\n",
    "            Formats decimal numbers for progress bar\n",
    "        \"\"\"\n",
    "        if value > 0:\n",
    "            v = value\n",
    "        elif value < 0:\n",
    "            v = -10 * value\n",
    "        else:\n",
    "            v = 1\n",
    "        n = 1 + math.floor(math.log10(v))\n",
    "        if n >= N - 1:\n",
    "            return str(round(value))\n",
    "            # or overflow\n",
    "        return f\"{value:.{N-n-1}f}\""
   ]
  },
  {
   "cell_type": "markdown",
   "id": "da40f00b",
   "metadata": {
    "editable": true
   },
   "source": [
    "### Usage of CNN code\n",
    "\n",
    "Using the CNN codebase is very simple. We begin by initiating a CNN\n",
    "object, which takes a cost function, a scheduler and a seed as its\n",
    "arguments. If a scheduler is not provided, it will per default\n",
    "initiate an Adam scheduler with eta=1e-4, and if a seed is not\n",
    "provided, the CNN will not be seeded, meaning it will run with a\n",
    "different random seed every run. Below we demonstrate an initiation of\n",
    "our CNN."
   ]
  },
  {
   "cell_type": "code",
   "execution_count": 19,
   "id": "5b1caad9",
   "metadata": {
    "collapsed": false,
    "editable": true
   },
   "outputs": [],
   "source": [
    "adam_scheduler = Adam(eta=1e-3, rho=0.9, rho2=0.999)\n",
    "cnn = CNN(cost_func=CostCrossEntropy, scheduler=adam_scheduler, seed=2023)"
   ]
  },
  {
   "cell_type": "markdown",
   "id": "eca6f4c6",
   "metadata": {
    "editable": true
   },
   "source": [
    "Now that we have our CNN object, we can begin to add layers to it!\n",
    "Many of the add_layer functions have default values, for example\n",
    "add_Convolution2DLayer() has a default v_stride and h_stride of\n",
    "1. However, these can of course be set to any value you please. Note\n",
    "that the input channels of a subsequent convolutional layer must equal\n",
    "the previous convolutional layer's feature maps."
   ]
  },
  {
   "cell_type": "code",
   "execution_count": 20,
   "id": "8a4127af",
   "metadata": {
    "collapsed": false,
    "editable": true
   },
   "outputs": [],
   "source": [
    "cnn.add_Convolution2DLayer(\n",
    "    input_channels=1,\n",
    "    feature_maps=1,\n",
    "    kernel_height=3,\n",
    "    kernel_width=3,\n",
    "    act_func=LRELU,\n",
    ")\n",
    "\n",
    "cnn.add_FlattenLayer()\n",
    "\n",
    "cnn.add_FullyConnectedLayer(30, LRELU)\n",
    "\n",
    "cnn.add_FullyConnectedLayer(20, LRELU)\n",
    "\n",
    "cnn.add_OutputLayer(10, softmax)"
   ]
  },
  {
   "cell_type": "markdown",
   "id": "afa1fa22",
   "metadata": {
    "editable": true
   },
   "source": [
    "Here we have created a CNN with the following architecture:\n",
    "\n",
    "1. A convolutional layer with 1 input channel, with a kernel height of 2 and a width of 2, which uses LRELU as its non-linearity function. This layer outputs 1 feature map, which feed into the subsequent layer.\n",
    "\n",
    "2. A flatten layer\n",
    "\n",
    "3. A hidden layer with 30 nodes, with LRELU as its activation function\n",
    "\n",
    "4. Another hidden layer but with 20 nodes\n",
    "\n",
    "5. The output layer, with softmax as its activation function and 10 nodes. We use 10 nodes because we will be using a dataset with 10 classes.\n",
    "\n",
    "Now, before we can train the model, we need to load in our data. We\n",
    "will use the MNIST dataset and use 10000 $28 \\times  28 images$."
   ]
  },
  {
   "cell_type": "code",
   "execution_count": 21,
   "id": "ff052869",
   "metadata": {
    "collapsed": false,
    "editable": true
   },
   "outputs": [],
   "source": [
    "from sklearn.datasets import fetch_openml\n",
    "from sklearn.model_selection import train_test_split\n",
    "\n",
    "def onehot(target: np.ndarray):\n",
    "    onehot = np.zeros((target.size, target.max() + 1))\n",
    "    onehot[np.arange(target.size), target] = 1\n",
    "    return onehot\n",
    "\n",
    "# get dataset\n",
    "dataset = fetch_openml(\"mnist_784\", parser=\"auto\")\n",
    "mnist = dataset.data.to_numpy(dtype=\"float\")[:10000, :]\n",
    "\n",
    "# scale data\n",
    "for i in range(mnist.shape[1]):\n",
    "    mnist[:, i] /= 255\n",
    "    \n",
    "# reshape to add single input channel to data shape [inputs, input_channels, height, width]\n",
    "mnist = mnist.reshape(mnist.shape[0], 1, 28, 28)\n",
    "\n",
    "# one hot encode target as we are doing multi-class classification\n",
    "target = onehot(np.array([int(i) for i in dataset.target.to_numpy()[:10000]]))\n",
    "\n",
    "# split into training and validation data\n",
    "x_train, x_val, y_train, y_val = train_test_split(mnist, target)"
   ]
  },
  {
   "cell_type": "markdown",
   "id": "12744253",
   "metadata": {
    "editable": true
   },
   "source": [
    "Now we may train our model. Note that we can utilize regularization in\n",
    "the CNN by using the lam (lambda) parameter in fit(), and utilize\n",
    "different types of gradient descent by specifying the amount of\n",
    "batches via the batches parameter as shown below.\n",
    "\n",
    "The functionfit() returns a score dictionary of the training error and\n",
    "accuracy (and validation error and accuracy if a validation set is\n",
    "provided) which can be used to plot the error and accuracy of the\n",
    "model over epochs."
   ]
  },
  {
   "cell_type": "code",
   "execution_count": 22,
   "id": "b62c314b",
   "metadata": {
    "collapsed": false,
    "editable": true
   },
   "outputs": [],
   "source": [
    "scores = cnn.fit(\n",
    "    x_train,\n",
    "    y_train,\n",
    "    lam=1e-5,\n",
    "    batches=10,\n",
    "    epochs=100,\n",
    "    X_val=x_val,\n",
    "    t_val=y_val,\n",
    ")\n",
    "\n",
    "plt.plot(scores[\"train_acc\"], label=\"Training\")\n",
    "plt.plot(scores[\"val_acc\"], label=\"Validation\")\n",
    "plt.ylim([0.8,1])\n",
    "plt.xlabel(\"Epochs\")\n",
    "plt.ylabel(\"Accuracy\")\n",
    "plt.legend()\n",
    "plt.show()"
   ]
  },
  {
   "cell_type": "markdown",
   "id": "af1eb562",
   "metadata": {
    "editable": true
   },
   "source": [
    "Considering we only trained the model for 100 epochs without any tuning of the hyperparameters, this result is pretty good.\n",
    "\n",
    "The codebase allows for great flexibility in CNN\n",
    "architectures. Pooling layers can be added before, inbetween or after\n",
    "convolutional layers, but due to the great optimizations made within\n",
    "Convolution2DLayerOPT, we recommend using the v_stride and h_stride\n",
    "parameters in add_Convolution2DLayer() to reduce the dimentionality of\n",
    "the problem as the pooling layer is slow in comparison. To use the\n",
    "unoptimized version of Convolution2DLayer, simply pass optimized=False\n",
    "as an argument in add_Convolution2DLayer().\n",
    "\n",
    "If one wishes to perform binary classification using the CNN, simply\n",
    "use the cost function 'CostLogReg' when initializing the CNN and use 1\n",
    "node at the OutputLayer.\n",
    "\n",
    "Below we have created another, more untraditional architecture using\n",
    "our code to demonstrate its flexibility and different attributes such\n",
    "as asymmetric stride that might become useful when constructing your\n",
    "own CNN."
   ]
  },
  {
   "cell_type": "code",
   "execution_count": 23,
   "id": "e3e614b3",
   "metadata": {
    "collapsed": false,
    "editable": true
   },
   "outputs": [],
   "source": [
    "adam_scheduler = Adam(eta=1e-3, rho=0.9, rho2=0.999)\n",
    "cnn = CNN(cost_func=CostCrossEntropy, scheduler=adam_scheduler, seed=2023)\n",
    "\n",
    "cnn.add_Convolution2DLayer(\n",
    "    input_channels=1,\n",
    "    feature_maps=7,\n",
    "    kernel_height=7,\n",
    "    kernel_width=1,\n",
    "    act_func=LRELU,\n",
    ")\n",
    "\n",
    "cnn.add_PoolingLayer(\n",
    "    kernel_height=2,\n",
    "    kernel_width=2,\n",
    "    pooling=\"average\",\n",
    ")\n",
    "\n",
    "cnn.add_PoolingLayer(\n",
    "    kernel_height=2,\n",
    "    kernel_width=2,\n",
    "    pooling=\"max\",\n",
    ")\n",
    "\n",
    "cnn.add_Convolution2DLayer(\n",
    "    input_channels=7,\n",
    "    feature_maps=1,\n",
    "    kernel_height=4,\n",
    "    kernel_width=4,\n",
    "    v_stride=2,\n",
    "    h_stride=3,\n",
    "    act_func=LRELU,\n",
    "    optimized=False,\n",
    ")\n",
    "\n",
    "cnn.add_Convolution2DLayer(\n",
    "    input_channels=1,\n",
    "    feature_maps=1,\n",
    "    kernel_height=2,\n",
    "    kernel_width=2,\n",
    "    act_func=sigmoid,\n",
    "    optimized=True,\n",
    ")\n",
    "\n",
    "cnn.add_PoolingLayer(\n",
    "    kernel_height=2,\n",
    "    kernel_width=2,\n",
    "    pooling=\"max\"\n",
    ")\n",
    "\n",
    "cnn.add_FlattenLayer()\n",
    "\n",
    "cnn.add_FullyConnectedLayer(100, LRELU)\n",
    "\n",
    "cnn.add_FullyConnectedLayer(10, sigmoid)\n",
    "\n",
    "cnn.add_FullyConnectedLayer(101, identity)\n",
    "\n",
    "cnn.add_OutputLayer(10, softmax)"
   ]
  },
  {
   "cell_type": "markdown",
   "id": "fc59cb15",
   "metadata": {
    "editable": true
   },
   "source": [
    "Here we see the use of asymmetrical 1D kernels such as the $7 \\times\n",
    "1$ kernel in the first convolutional layer, both max and average\n",
    "pooling, asymmetric stride in the unoptimized convolutional layer,\n",
    "more pooling, a flatten layer, a hidden layer with 100 nodes using\n",
    "LRELU, another hidden layer with 10 hidden nodes that uses the sigmoid\n",
    "activation function, and another hidden layer with 101 nodes which\n",
    "utilizes no activation function (identity). Finally, we arrive at the\n",
    "output layer with 10 nodes, which uses softmax as its activation\n",
    "function."
   ]
  },
  {
   "cell_type": "markdown",
   "id": "1db7caca",
   "metadata": {
    "editable": true
   },
   "source": [
    "### Additional Remarks\n",
    "\n",
    "The stride parameter controls the distance between each convolution\n",
    "and the kernel/filter. If our image is padded, stride is the only\n",
    "parameter that determines the size of the output from a convolutional\n",
    "layer. However, if we decide not to perform any padding, the size of\n",
    "the output feature map depends on both the stride and kernel size. It\n",
    "is important to note that neither the stride nor the kernel has to be\n",
    "symmetrical. This means that we can use a rectangular filter if we\n",
    "choose, and the stride in the vertical direction (axis=0 in Python)\n",
    "does not need to be the same as the stride in the horizontal direction\n",
    "(axis=1 in Python). It may even be the case that asymmetric\n",
    "combinations of stride or kernel dimensions, or both, yield better\n",
    "results than symmetric values for these parameters."
   ]
  },
  {
   "cell_type": "code",
   "execution_count": 24,
   "id": "c265866b",
   "metadata": {
    "collapsed": false,
    "editable": true
   },
   "outputs": [],
   "source": [
    "def convolve(image, kernel, stride=1):\n",
    "    for i in range(2):\n",
    "        kernel = np.rot90(kernel)\n",
    "\n",
    "    k_half_height = kernel.shape[0] // 2\n",
    "    k_half_width = kernel.shape[0] // 2\n",
    "\n",
    "    conv_image = np.zeros(image.shape)\n",
    "    pad_image = padding(image, kernel)\n",
    "\n",
    "    for i in range(k_half_height, conv_image.shape[0] + k_half_height, stride):\n",
    "        for j in range(k_half_width, conv_image.shape[1] + k_half_width, stride):\n",
    "            conv_image[i - k_half_height, j - k_half_width] = np.sum(\n",
    "                pad_image[\n",
    "                    i - k_half_height : i + k_half_height + 1, j - k_half_width : j + k_half_width + 1\n",
    "                ]\n",
    "                * kernel\n",
    "            )\n",
    "\n",
    "    return conv_image"
   ]
  },
  {
   "cell_type": "markdown",
   "id": "6980a2e7",
   "metadata": {
    "editable": true
   },
   "source": [
    "### Remarks on the speed\n",
    "\n",
    "Despite the naive convolution algorithm shown above working finely, it\n",
    "is extremely slow, requiring approximately 20-30 seconds to process a\n",
    "single image. The time complexity of 2D convolution, which is O(NMnm),\n",
    "rapidly becomes a constraint and may, at worst, make computations\n",
    "infeasible. Consequently, optimizing the naive 2D convolution\n",
    "algorithm is a necessity, as the execution time of the algorithm\n",
    "significantly increases as the input data size expands. This can pose\n",
    "a bottleneck in applications that necessitate real-time processing of\n",
    "large data volumes, such as image and video processing, deep learning,\n",
    "and scientific simulations.\n",
    "\n",
    "To address this issue, we shall present two widely used optimization\n",
    "techniques: the separable kernel approach and Fast Fourier Transform\n",
    "(FFT). Both of these methods can drastically reduce the computational\n",
    "complexity of convolution and enhance the overall efficiency of\n",
    "processing substantial data quantities. While we shall refrain from\n",
    "delving into the intricacies of these algorithms, we strongly\n",
    "encourage you to examine at least the application of FFT to optimize\n",
    "computations."
   ]
  },
  {
   "cell_type": "markdown",
   "id": "f7332083",
   "metadata": {
    "editable": true
   },
   "source": [
    "### Convolution using separable kernels"
   ]
  },
  {
   "cell_type": "code",
   "execution_count": 25,
   "id": "d04dfb13",
   "metadata": {
    "collapsed": false,
    "editable": true
   },
   "outputs": [],
   "source": [
    "def conv2DSep(image, kernel, coef, stride=1, pad=\"zero\"):\n",
    "    for i in range(2):\n",
    "        kernel = np.rot90(kernel)\n",
    "\n",
    "    # The kernel is quadratic, thus we only need one of its dimensions\n",
    "    half_dim = kernel.shape[0] // 2\n",
    "\n",
    "    ker1 = np.array(kernel[0, :])\n",
    "    ker2 = np.array(kernel[:, 0])\n",
    "\n",
    "    if pad == \"zero\":\n",
    "        conv_image = np.zeros(image.shape)\n",
    "        pad_image = padding(image, kernel)\n",
    "    else:\n",
    "        conv_image = np.zeros(\n",
    "            (image.shape[0] - kernel.shape[0], image.shape[1] - kernel.shape[1])\n",
    "        )\n",
    "        pad_image = image[:, :]\n",
    "\n",
    "    for i in range(half_dim, conv_image.shape[0] + half_dim, stride):\n",
    "        for j in range(half_dim, conv_image.shape[1] + half_dim, stride):\n",
    "            conv_image[i - half_dim, j - half_dim] = (\n",
    "                pad_image[\n",
    "                    i - half_dim : i + half_dim + 1, j - half_dim : j + half_dim + 1\n",
    "                ]\n",
    "                @ ker1\n",
    "                @ ker2.T\n",
    "                * coef\n",
    "            )\n",
    "\n",
    "    return conv_image\n",
    "\n",
    "img_path = img_path = \"data/IMG-2167.JPG\"\n",
    "image_of_cute_dog = imageio.imread(img_path, mode=\"L\")\n",
    "start_time = time.time()\n",
    "filtered_image = conv2DSep(image_of_cute_dog, kernel=sobel_kernel, coef=1)\n",
    "print(f'Time taken for convolution with seperated kernel on 128x128 image {time.time() - start_time}')\n",
    "plt.imshow(filtered_image, cmap=\"gray\", vmin=0, vmax=255, aspect=\"auto\")\n",
    "plt.show()"
   ]
  },
  {
   "cell_type": "markdown",
   "id": "0fdc3c82",
   "metadata": {
    "editable": true
   },
   "source": [
    "By taking advantage of the capabilities of separable kernels, we can\n",
    "effectively cut the computational expense of filtering an image in\n",
    "half. Yet, if we seek even more rapid processing, we can turn to the\n",
    "Fast Fourier Transform (FFT) algorithm provided by the numpy\n",
    "library. By utilizing FFT to transform the input image and filter into\n",
    "the frequency domain, we can perform convolution in this domain. This\n",
    "approach significantly reduces the number of operations needed and\n",
    "results in a marked speedup relative to other convolution\n",
    "techniques. In addition, it is worth noting that the FFT is widely\n",
    "regarded as one of the most critical algorithms developed to date,\n",
    "with applications ranging from digital signal processing to scientific\n",
    "computing."
   ]
  },
  {
   "cell_type": "markdown",
   "id": "1bc51704",
   "metadata": {
    "editable": true
   },
   "source": [
    "### Convolution in the Fourier domain"
   ]
  },
  {
   "cell_type": "code",
   "execution_count": 26,
   "id": "0f4f10cc",
   "metadata": {
    "collapsed": false,
    "editable": true
   },
   "outputs": [],
   "source": [
    "start_time = time.time()\n",
    "img_fft = np.fft.fft2(image_of_cute_dog)\n",
    "kernel_fft = np.fft.fft2(sobel_kernel, s=image_of_cute_dog.shape)\n",
    "\n",
    "conv_image = img_fft * kernel_fft\n",
    "\n",
    "filtered_image = np.fft.ifft2(conv_image)\n",
    "print(f'Time take for convolution in the fourier domain: {time.time() - start_time}')\n",
    "plt.imshow(filtered_image.real, cmap=\"gray\", vmin=0, vmax=255, aspect=\"auto\")\n",
    "plt.show()"
   ]
  },
  {
   "cell_type": "markdown",
   "id": "05f84cfb",
   "metadata": {
    "editable": true
   },
   "source": [
    "It is evident that executing convolution in the Fourier domain yields\n",
    "the quickest computation time. Nonetheless, one should exercise\n",
    "caution, particularly when dealing with images of relatively small\n",
    "dimensions, as one of the other methods may prove to be more\n",
    "expeditious than FFT-enhanced convolution. The overhead involved in\n",
    "transferring both the image and filter into the Fourier domain,\n",
    "followed by their subsequent transformation back into the spatial\n",
    "domain, results in a minor inconvenience. Therefore, it is imperative\n",
    "to remain cognizant of this fact when utilizing FFT as the primary\n",
    "optimization technique."
   ]
  },
  {
   "cell_type": "markdown",
   "id": "11c795ed",
   "metadata": {
    "editable": true
   },
   "source": [
    "## Building convolutional neural networks in Tensorflow and Keras\n",
    "\n",
    "As discussed above, CNNs are neural networks built from the assumption that the inputs\n",
    "to the network are 2D images. This is important because the number of features or pixels in images\n",
    "grows very fast with the image size, and an enormous number of weights and biases are needed in order to build an accurate network.  \n",
    "\n",
    "As before, we still have our input, a hidden layer and an output. What's novel about convolutional networks\n",
    "are the **convolutional** and **pooling** layers stacked in pairs between the input and the hidden layer.\n",
    "In addition, the data is no longer represented as a 2D feature matrix, instead each input is a number of 2D\n",
    "matrices, typically 1 for each color dimension (Red, Green, Blue)."
   ]
  },
  {
   "cell_type": "markdown",
   "id": "9c742972",
   "metadata": {
    "editable": true
   },
   "source": [
    "## Setting it up\n",
    "\n",
    "It means that to represent the entire\n",
    "dataset of images, we require a 4D matrix or **tensor**. This tensor has the dimensions:"
   ]
  },
  {
   "cell_type": "markdown",
   "id": "3cf7827e",
   "metadata": {
    "editable": true
   },
   "source": [
    "$$\n",
    "(n_{inputs},\\, n_{pixels, width},\\, n_{pixels, height},\\, depth) .\n",
    "$$"
   ]
  },
  {
   "cell_type": "markdown",
   "id": "a64bee9b",
   "metadata": {
    "editable": true
   },
   "source": [
    "## The MNIST dataset again\n",
    "\n",
    "The MNIST dataset consists of grayscale images with a pixel size of\n",
    "$28\\times 28$, meaning we require $28 \\times 28 = 724$ weights to each\n",
    "neuron in the first hidden layer.\n",
    "\n",
    "If we were to analyze images of size $128\\times 128$ we would require\n",
    "$128 \\times 128 = 16384$ weights to each neuron. Even worse if we were\n",
    "dealing with color images, as most images are, we have an image matrix\n",
    "of size $128\\times 128$ for each color dimension (Red, Green, Blue),\n",
    "meaning 3 times the number of weights $= 49152$ are required for every\n",
    "single neuron in the first hidden layer."
   ]
  },
  {
   "cell_type": "markdown",
   "id": "f1185436",
   "metadata": {
    "editable": true
   },
   "source": [
    "## Strong correlations\n",
    "\n",
    "Images typically have strong local correlations, meaning that a small\n",
    "part of the image varies little from its neighboring regions. If for\n",
    "example we have an image of a blue car, we can roughly assume that a\n",
    "small blue part of the image is surrounded by other blue regions.\n",
    "\n",
    "Therefore, instead of connecting every single pixel to a neuron in the\n",
    "first hidden layer, as we have previously done with deep neural\n",
    "networks, we can instead connect each neuron to a small part of the\n",
    "image (in all 3 RGB depth dimensions).  The size of each small area is\n",
    "fixed, and known as a [receptive](https://en.wikipedia.org/wiki/Receptive_field)."
   ]
  },
  {
   "cell_type": "markdown",
   "id": "0a686896",
   "metadata": {
    "editable": true
   },
   "source": [
    "## Layers of a CNN\n",
    "\n",
    "The layers of a convolutional neural network arrange neurons in 3D: width, height and depth.  \n",
    "The input image is typically a square matrix of depth 3. \n",
    "\n",
    "A **convolution** is performed on the image which outputs\n",
    "a 3D volume of neurons. The weights to the input are arranged in a number of 2D matrices, known as **filters**.\n",
    "\n",
    "Each filter slides along the input image, taking the dot product\n",
    "between each small part of the image and the filter, in all depth\n",
    "dimensions. This is then passed through a non-linear function,\n",
    "typically the **Rectified Linear (ReLu)** function, which serves as the\n",
    "activation of the neurons in the first convolutional layer. This is\n",
    "further passed through a **pooling layer**, which reduces the size of the\n",
    "convolutional layer, e.g. by taking the maximum or average across some\n",
    "small regions, and this serves as input to the next convolutional\n",
    "layer."
   ]
  },
  {
   "cell_type": "markdown",
   "id": "c66f3e48",
   "metadata": {
    "editable": true
   },
   "source": [
    "## Systematic reduction\n",
    "\n",
    "By systematically reducing the size of the input volume, through\n",
    "convolution and pooling, the network should create representations of\n",
    "small parts of the input, and then from them assemble representations\n",
    "of larger areas.  The final pooling layer is flattened to serve as\n",
    "input to a hidden layer, such that each neuron in the final pooling\n",
    "layer is connected to every single neuron in the hidden layer. This\n",
    "then serves as input to the output layer, e.g. a softmax output for\n",
    "classification."
   ]
  },
  {
   "cell_type": "markdown",
   "id": "34ce7893",
   "metadata": {
    "editable": true
   },
   "source": [
    "## Prerequisites: Collect and pre-process data"
   ]
  },
  {
   "cell_type": "code",
   "execution_count": 27,
   "id": "5985f947",
   "metadata": {
    "collapsed": false,
    "editable": true
   },
   "outputs": [],
   "source": [
    "# import necessary packages\n",
    "import numpy as np\n",
    "import matplotlib.pyplot as plt\n",
    "from sklearn import datasets\n",
    "\n",
    "\n",
    "# ensure the same random numbers appear every time\n",
    "np.random.seed(0)\n",
    "\n",
    "# display images in notebook\n",
    "%matplotlib inline\n",
    "plt.rcParams['figure.figsize'] = (12,12)\n",
    "\n",
    "\n",
    "# download MNIST dataset\n",
    "digits = datasets.load_digits()\n",
    "\n",
    "# define inputs and labels\n",
    "inputs = digits.images\n",
    "labels = digits.target\n",
    "\n",
    "# RGB images have a depth of 3\n",
    "# our images are grayscale so they should have a depth of 1\n",
    "inputs = inputs[:,:,:,np.newaxis]\n",
    "\n",
    "print(\"inputs = (n_inputs, pixel_width, pixel_height, depth) = \" + str(inputs.shape))\n",
    "print(\"labels = (n_inputs) = \" + str(labels.shape))\n",
    "\n",
    "\n",
    "# choose some random images to display\n",
    "n_inputs = len(inputs)\n",
    "indices = np.arange(n_inputs)\n",
    "random_indices = np.random.choice(indices, size=5)\n",
    "\n",
    "for i, image in enumerate(digits.images[random_indices]):\n",
    "    plt.subplot(1, 5, i+1)\n",
    "    plt.axis('off')\n",
    "    plt.imshow(image, cmap=plt.cm.gray_r, interpolation='nearest')\n",
    "    plt.title(\"Label: %d\" % digits.target[random_indices[i]])\n",
    "plt.show()"
   ]
  },
  {
   "cell_type": "markdown",
   "id": "139e5496",
   "metadata": {
    "editable": true
   },
   "source": [
    "## Importing Keras and Tensorflow"
   ]
  },
  {
   "cell_type": "code",
   "execution_count": 28,
   "id": "3aa0782e",
   "metadata": {
    "collapsed": false,
    "editable": true
   },
   "outputs": [],
   "source": [
    "from tensorflow.keras import datasets, layers, models\n",
    "from tensorflow.keras.layers import Input\n",
    "from tensorflow.keras.models import Sequential      #This allows appending layers to existing models\n",
    "from tensorflow.keras.layers import Dense           #This allows defining the characteristics of a particular layer\n",
    "from tensorflow.keras import optimizers             #This allows using whichever optimiser we want (sgd,adam,RMSprop)\n",
    "from tensorflow.keras import regularizers           #This allows using whichever regularizer we want (l1,l2,l1_l2)\n",
    "from tensorflow.keras.utils import to_categorical   #This allows using categorical cross entropy as the cost function\n",
    "#from tensorflow.keras import Conv2D\n",
    "#from tensorflow.keras import MaxPooling2D\n",
    "#from tensorflow.keras import Flatten\n",
    "\n",
    "from sklearn.model_selection import train_test_split\n",
    "\n",
    "# representation of labels\n",
    "labels = to_categorical(labels)\n",
    "\n",
    "# split into train and test data\n",
    "# one-liner from scikit-learn library\n",
    "train_size = 0.8\n",
    "test_size = 1 - train_size\n",
    "X_train, X_test, Y_train, Y_test = train_test_split(inputs, labels, train_size=train_size,\n",
    "                                                    test_size=test_size)"
   ]
  },
  {
   "cell_type": "markdown",
   "id": "8aa329b3",
   "metadata": {
    "editable": true
   },
   "source": [
    "## Running with Keras"
   ]
  },
  {
   "cell_type": "code",
   "execution_count": 29,
   "id": "1a68d265",
   "metadata": {
    "collapsed": false,
    "editable": true
   },
   "outputs": [],
   "source": [
    "def create_convolutional_neural_network_keras(input_shape, receptive_field,\n",
    "                                              n_filters, n_neurons_connected, n_categories,\n",
    "                                              eta, lmbd):\n",
    "    model = Sequential()\n",
    "    model.add(layers.Conv2D(n_filters, (receptive_field, receptive_field), input_shape=input_shape, padding='same',\n",
    "              activation='relu', kernel_regularizer=regularizers.l2(lmbd)))\n",
    "    model.add(layers.MaxPooling2D(pool_size=(2, 2)))\n",
    "    model.add(layers.Flatten())\n",
    "    model.add(layers.Dense(n_neurons_connected, activation='relu', kernel_regularizer=regularizers.l2(lmbd)))\n",
    "    model.add(layers.Dense(n_categories, activation='softmax', kernel_regularizer=regularizers.l2(lmbd)))\n",
    "    \n",
    "    sgd = optimizers.SGD(lr=eta)\n",
    "    model.compile(loss='categorical_crossentropy', optimizer=sgd, metrics=['accuracy'])\n",
    "    \n",
    "    return model\n",
    "\n",
    "epochs = 100\n",
    "batch_size = 100\n",
    "input_shape = X_train.shape[1:4]\n",
    "receptive_field = 3\n",
    "n_filters = 10\n",
    "n_neurons_connected = 50\n",
    "n_categories = 10\n",
    "\n",
    "eta_vals = np.logspace(-5, 1, 7)\n",
    "lmbd_vals = np.logspace(-5, 1, 7)"
   ]
  },
  {
   "cell_type": "markdown",
   "id": "08c1e4dd",
   "metadata": {
    "editable": true
   },
   "source": [
    "## Final part"
   ]
  },
  {
   "cell_type": "code",
   "execution_count": 30,
   "id": "df4a9f49",
   "metadata": {
    "collapsed": false,
    "editable": true
   },
   "outputs": [],
   "source": [
    "CNN_keras = np.zeros((len(eta_vals), len(lmbd_vals)), dtype=object)\n",
    "        \n",
    "for i, eta in enumerate(eta_vals):\n",
    "    for j, lmbd in enumerate(lmbd_vals):\n",
    "        CNN = create_convolutional_neural_network_keras(input_shape, receptive_field,\n",
    "                                              n_filters, n_neurons_connected, n_categories,\n",
    "                                              eta, lmbd)\n",
    "        CNN.fit(X_train, Y_train, epochs=epochs, batch_size=batch_size, verbose=0)\n",
    "        scores = CNN.evaluate(X_test, Y_test)\n",
    "        \n",
    "        CNN_keras[i][j] = CNN\n",
    "        \n",
    "        print(\"Learning rate = \", eta)\n",
    "        print(\"Lambda = \", lmbd)\n",
    "        print(\"Test accuracy: %.3f\" % scores[1])\n",
    "        print()"
   ]
  },
  {
   "cell_type": "markdown",
   "id": "7e939bdd",
   "metadata": {
    "editable": true
   },
   "source": [
    "## Final visualization"
   ]
  },
  {
   "cell_type": "code",
   "execution_count": 31,
   "id": "676e7ba4",
   "metadata": {
    "collapsed": false,
    "editable": true
   },
   "outputs": [],
   "source": [
    "# visual representation of grid search\n",
    "# uses seaborn heatmap, could probably do this in matplotlib\n",
    "import seaborn as sns\n",
    "\n",
    "sns.set()\n",
    "\n",
    "train_accuracy = np.zeros((len(eta_vals), len(lmbd_vals)))\n",
    "test_accuracy = np.zeros((len(eta_vals), len(lmbd_vals)))\n",
    "\n",
    "for i in range(len(eta_vals)):\n",
    "    for j in range(len(lmbd_vals)):\n",
    "        CNN = CNN_keras[i][j]\n",
    "\n",
    "        train_accuracy[i][j] = CNN.evaluate(X_train, Y_train)[1]\n",
    "        test_accuracy[i][j] = CNN.evaluate(X_test, Y_test)[1]\n",
    "\n",
    "        \n",
    "fig, ax = plt.subplots(figsize = (10, 10))\n",
    "sns.heatmap(train_accuracy, annot=True, ax=ax, cmap=\"viridis\")\n",
    "ax.set_title(\"Training Accuracy\")\n",
    "ax.set_ylabel(\"$\\eta$\")\n",
    "ax.set_xlabel(\"$\\lambda$\")\n",
    "plt.show()\n",
    "\n",
    "fig, ax = plt.subplots(figsize = (10, 10))\n",
    "sns.heatmap(test_accuracy, annot=True, ax=ax, cmap=\"viridis\")\n",
    "ax.set_title(\"Test Accuracy\")\n",
    "ax.set_ylabel(\"$\\eta$\")\n",
    "ax.set_xlabel(\"$\\lambda$\")\n",
    "plt.show()"
   ]
  }
 ],
 "metadata": {},
 "nbformat": 4,
 "nbformat_minor": 5
}
