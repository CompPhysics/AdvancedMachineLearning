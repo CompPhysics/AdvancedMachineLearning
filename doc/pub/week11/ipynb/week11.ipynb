{
 "cells": [
  {
   "cell_type": "markdown",
   "id": "1fdd131a",
   "metadata": {
    "editable": true
   },
   "source": [
    "<!-- HTML file automatically generated from DocOnce source (https://github.com/doconce/doconce/)\n",
    "doconce format html week11.do.txt --no_mako -->\n",
    "<!-- dom:TITLE: April 10-14: Advanced machine learning and data analysis for the physical sciences -->"
   ]
  },
  {
   "cell_type": "markdown",
   "id": "cb615c2d",
   "metadata": {
    "editable": true
   },
   "source": [
    "# April 10-14: Advanced machine learning and data analysis for the physical sciences\n",
    "**Morten Hjorth-Jensen**, Department of Physics and Center for Computing in Science Education, University of Oslo, Norway and Department of Physics and Astronomy and Facility for Rare Isotope Beams, Michigan State University, East Lansing, Michigan, USA\n",
    "\n",
    "Date: **April 10-14, 2023**"
   ]
  },
  {
   "cell_type": "markdown",
   "id": "ab42eb03",
   "metadata": {
    "editable": true
   },
   "source": [
    "## Plans for the week April 10-14\n",
    "\n",
    "**Deep generative models.**\n",
    "\n",
    "1. Boltzmann machines\n",
    "\n",
    "2. Reading recommendation: Goodfellow et al chapter 20.1-20.7\n",
    "\n",
    "3. [Video of lecture](https://youtu.be/)\n",
    "\n",
    "4. [Whiteboard notes](https://github.com/CompPhysics/AdvancedMachineLearning/blob/main/doc/HandwrittenNotes/NotesApr122023.pdf)"
   ]
  }
 ],
 "metadata": {},
 "nbformat": 4,
 "nbformat_minor": 5
}
