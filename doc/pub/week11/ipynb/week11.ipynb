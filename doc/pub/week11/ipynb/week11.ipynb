{
 "cells": [
  {
   "cell_type": "markdown",
   "id": "eb56fa28",
   "metadata": {
    "editable": true
   },
   "source": [
    "<!-- HTML file automatically generated from DocOnce source (https://github.com/doconce/doconce/)\n",
    "doconce format html week11.do.txt --no_mako -->\n",
    "<!-- dom:TITLE: March 31-April 4: Advanced machine learning and data analysis for the physical sciences -->"
   ]
  },
  {
   "cell_type": "markdown",
   "id": "505aea62",
   "metadata": {
    "editable": true
   },
   "source": [
    "# March 31-April 4: Advanced machine learning and data analysis for the physical sciences\n",
    "**Morten Hjorth-Jensen**, Department of Physics and Center for Computing in Science Education, University of Oslo, Norway\n",
    "\n",
    "Date: **April 3, 2025**"
   ]
  },
  {
   "cell_type": "markdown",
   "id": "49ab3ed1",
   "metadata": {
    "editable": true
   },
   "source": [
    "## Plans for the week of March 31-April 4\n",
    "\n",
    "**Generative methods, energy models and Boltzmann machines.**\n",
    "\n",
    "1. Restricted Boltzmann machines, reminder from last week\n",
    "\n",
    "2. Reminder on Markov Chain Monte Carlo from last week\n",
    "\n",
    "3. Gibbs sampling\n",
    "\n",
    "4. Discussions of various Boltzmann machines\n",
    "\n",
    "5. Implementation of Boltzmann machines using TensorFlow and Pytorch\n",
    "\n",
    "6. Reading recommendation: Goodfellow et al chapters 18.1-18.2,  20.1-20-7; To create Boltzmann machine using Keras, see Babcock and Bali chapter 4, see <https://github.com/PacktPublishing/Hands-On-Generative-AI-with-Python-and-TensorFlow-2/blob/master/Chapter_4/models/rbm.py>\n",
    "\n",
    "7. See also Foster, chapter 7 on energy-based models at <https://github.com/davidADSP/Generative_Deep_Learning_2nd_Edition/tree/main/notebooks/07_ebm/01_ebm>\n",
    "<!-- o [Video of lecture](https://youtu.be/hEjcK0ZkuAA) -->\n",
    "<!-- o [Whiteboard notes](https://github.com/CompPhysics/AdvancedMachineLearning/blob/main/doc/HandwrittenNotes/2024/NotesApril9.pdf) -->"
   ]
  },
  {
   "cell_type": "markdown",
   "id": "2a4d0dd1",
   "metadata": {
    "editable": true
   },
   "source": [
    "## Essential elements of generative models, reminder from last week\n",
    "\n",
    "The aim of generative methods is to train a probability distribution $p$. The methods we will focus on are:\n",
    "1. Energy based models, with the family of Boltzmann distributions as a typical example\n",
    "\n",
    "2. Variational autoencoders, based on our discussions on autoencoders\n",
    "\n",
    "3. Generative adversarial networks (GANs) and\n",
    "\n",
    "4. Diffusion models"
   ]
  },
  {
   "cell_type": "markdown",
   "id": "c07f2647",
   "metadata": {
    "editable": true
   },
   "source": [
    "## Energy models\n",
    "\n",
    "Last week we defined a domain $\\boldsymbol{X}$ of stochastic variables $\\boldsymbol{X}= \\{x_0,x_1, \\dots , x_{n-1}\\}$ with a pertinent probability distribution"
   ]
  },
  {
   "cell_type": "markdown",
   "id": "7f51c806",
   "metadata": {
    "editable": true
   },
   "source": [
    "$$\n",
    "p(\\boldsymbol{X})=\\prod_{x_i\\in \\boldsymbol{X}}p(x_i),\n",
    "$$"
   ]
  },
  {
   "cell_type": "markdown",
   "id": "25d48c13",
   "metadata": {
    "editable": true
   },
   "source": [
    "where we have assumed that the random varaibles $x_i$ are all independent and identically distributed (iid).\n",
    "\n",
    "We will now assume that we can defined this function in terms of optimization parameters $\\boldsymbol{\\Theta}$, which could be the biases and weights of deep network, and a set of hidden variables we also assume to be random variables which also are iid. The domain of these variables is\n",
    "$\\boldsymbol{H}= \\{h_0,h_1, \\dots , h_{m-1}\\}$."
   ]
  },
  {
   "cell_type": "markdown",
   "id": "aa56cb7a",
   "metadata": {
    "editable": true
   },
   "source": [
    "## Probability model\n",
    "\n",
    "We define a probability"
   ]
  },
  {
   "cell_type": "markdown",
   "id": "704cdf01",
   "metadata": {
    "editable": true
   },
   "source": [
    "$$\n",
    "p(x_i,h_j;\\boldsymbol{\\Theta}) = \\frac{f(x_i,h_j;\\boldsymbol{\\Theta})}{Z(\\boldsymbol{\\Theta})},\n",
    "$$"
   ]
  },
  {
   "cell_type": "markdown",
   "id": "fd164009",
   "metadata": {
    "editable": true
   },
   "source": [
    "where $f(x_i,h_j;\\boldsymbol{\\Theta})$ is a function which we assume is larger or\n",
    "equal than zero and obeys all properties required for a probability\n",
    "distribution and $Z(\\boldsymbol{\\Theta})$ is a normalization constant. Inspired by\n",
    "statistical mechanics, we call it often for the partition function.\n",
    "It is defined as (assuming that we have discrete probability distributions)"
   ]
  },
  {
   "cell_type": "markdown",
   "id": "3c33e6cf",
   "metadata": {
    "editable": true
   },
   "source": [
    "$$\n",
    "Z(\\boldsymbol{\\Theta})=\\sum_{x_i\\in \\boldsymbol{X}}\\sum_{h_j\\in \\boldsymbol{H}} f(x_i,h_j;\\boldsymbol{\\Theta}).\n",
    "$$"
   ]
  },
  {
   "cell_type": "markdown",
   "id": "dfa0327a",
   "metadata": {
    "editable": true
   },
   "source": [
    "## Marginal and conditional probabilities\n",
    "\n",
    "We can in turn define the marginal probabilities"
   ]
  },
  {
   "cell_type": "markdown",
   "id": "7339e0b6",
   "metadata": {
    "editable": true
   },
   "source": [
    "$$\n",
    "p(x_i;\\boldsymbol{\\Theta}) = \\frac{\\sum_{h_j\\in \\boldsymbol{H}}f(x_i,h_j;\\boldsymbol{\\Theta})}{Z(\\boldsymbol{\\Theta})},\n",
    "$$"
   ]
  },
  {
   "cell_type": "markdown",
   "id": "0a28c933",
   "metadata": {
    "editable": true
   },
   "source": [
    "and"
   ]
  },
  {
   "cell_type": "markdown",
   "id": "dc11cb0b",
   "metadata": {
    "editable": true
   },
   "source": [
    "$$\n",
    "p(h_i;\\boldsymbol{\\Theta}) = \\frac{\\sum_{x_i\\in \\boldsymbol{X}}f(x_i,h_j;\\boldsymbol{\\Theta})}{Z(\\boldsymbol{\\Theta})}.\n",
    "$$"
   ]
  },
  {
   "cell_type": "markdown",
   "id": "e0128f40",
   "metadata": {
    "editable": true
   },
   "source": [
    "## Change of notation\n",
    "\n",
    "**Note the change to a vector notation**. A variable like $\\boldsymbol{x}$\n",
    "represents now a specific **configuration**. We can generate an infinity\n",
    "of such configurations. The final partition function is then the sum\n",
    "over all such possible configurations, that is"
   ]
  },
  {
   "cell_type": "markdown",
   "id": "c80f2ca1",
   "metadata": {
    "editable": true
   },
   "source": [
    "$$\n",
    "Z(\\boldsymbol{\\Theta})=\\sum_{x_i\\in \\boldsymbol{X}}\\sum_{h_j\\in \\boldsymbol{H}} f(x_i,h_j;\\boldsymbol{\\Theta}),\n",
    "$$"
   ]
  },
  {
   "cell_type": "markdown",
   "id": "0b78d7bb",
   "metadata": {
    "editable": true
   },
   "source": [
    "changes to"
   ]
  },
  {
   "cell_type": "markdown",
   "id": "72a4a7e8",
   "metadata": {
    "editable": true
   },
   "source": [
    "$$\n",
    "Z(\\boldsymbol{\\Theta})=\\sum_{\\boldsymbol{x}}\\sum_{\\boldsymbol{h}} f(\\boldsymbol{x},\\boldsymbol{h};\\boldsymbol{\\Theta}).\n",
    "$$"
   ]
  },
  {
   "cell_type": "markdown",
   "id": "9cbca443",
   "metadata": {
    "editable": true
   },
   "source": [
    "If we have a binary set of variable $x_i$ and $h_j$ and $M$ values of $x_i$ and $N$ values of $h_j$ we have in total $2^M$ and $2^N$ possible $\\boldsymbol{x}$ and $\\boldsymbol{h}$ configurations, respectively.\n",
    "\n",
    "We see that even for the modest binary case, we can easily approach a\n",
    "number of configuration which is not possible to deal with."
   ]
  },
  {
   "cell_type": "markdown",
   "id": "a23627c1",
   "metadata": {
    "editable": true
   },
   "source": [
    "## Optimization problem\n",
    "\n",
    "At the end, we are not interested in the probabilities of the hidden variables. The probability we thus want to optimize is"
   ]
  },
  {
   "cell_type": "markdown",
   "id": "e63c760b",
   "metadata": {
    "editable": true
   },
   "source": [
    "$$\n",
    "p(\\boldsymbol{X};\\boldsymbol{\\Theta})=\\prod_{x_i\\in \\boldsymbol{X}}p(x_i;\\boldsymbol{\\Theta})=\\prod_{x_i\\in \\boldsymbol{X}}\\left(\\frac{\\sum_{h_j\\in \\boldsymbol{H}}f(x_i,h_j;\\boldsymbol{\\Theta})}{Z(\\boldsymbol{\\Theta})}\\right),\n",
    "$$"
   ]
  },
  {
   "cell_type": "markdown",
   "id": "18dd723a",
   "metadata": {
    "editable": true
   },
   "source": [
    "which we rewrite as"
   ]
  },
  {
   "cell_type": "markdown",
   "id": "0271b80d",
   "metadata": {
    "editable": true
   },
   "source": [
    "$$\n",
    "p(\\boldsymbol{X};\\boldsymbol{\\Theta})=\\frac{1}{Z(\\boldsymbol{\\Theta})}\\prod_{x_i\\in \\boldsymbol{X}}\\left(\\sum_{h_j\\in \\boldsymbol{H}}f(x_i,h_j;\\boldsymbol{\\Theta})\\right).\n",
    "$$"
   ]
  },
  {
   "cell_type": "markdown",
   "id": "cc846fe6",
   "metadata": {
    "editable": true
   },
   "source": [
    "## Further simplifications\n",
    "\n",
    "We simplify further by rewriting it as"
   ]
  },
  {
   "cell_type": "markdown",
   "id": "cf74c959",
   "metadata": {
    "editable": true
   },
   "source": [
    "$$\n",
    "p(\\boldsymbol{X};\\boldsymbol{\\Theta})=\\frac{1}{Z(\\boldsymbol{\\Theta})}\\prod_{x_i\\in \\boldsymbol{X}}f(x_i;\\boldsymbol{\\Theta}),\n",
    "$$"
   ]
  },
  {
   "cell_type": "markdown",
   "id": "f8700ffe",
   "metadata": {
    "editable": true
   },
   "source": [
    "where we used $p(x_i;\\boldsymbol{\\Theta}) = \\sum_{h_j\\in \\boldsymbol{H}}f(x_i,h_j;\\boldsymbol{\\Theta})$.\n",
    "The optimization problem is then"
   ]
  },
  {
   "cell_type": "markdown",
   "id": "cf9dbf80",
   "metadata": {
    "editable": true
   },
   "source": [
    "$$\n",
    "{\\displaystyle \\mathrm{arg} \\hspace{0.1cm}\\max_{\\boldsymbol{\\boldsymbol{\\Theta}}\\in {\\mathbb{R}}^{p}}} \\hspace{0.1cm}p(\\boldsymbol{X};\\boldsymbol{\\Theta}).\n",
    "$$"
   ]
  },
  {
   "cell_type": "markdown",
   "id": "45943dba",
   "metadata": {
    "editable": true
   },
   "source": [
    "## Optimizing the logarithm instead\n",
    "\n",
    "Computing the derivatives with respect to the parameters $\\boldsymbol{\\Theta}$ is\n",
    "easier (and equivalent) with taking the logarithm of the\n",
    "probability. We will thus optimize"
   ]
  },
  {
   "cell_type": "markdown",
   "id": "330cb6e1",
   "metadata": {
    "editable": true
   },
   "source": [
    "$$\n",
    "{\\displaystyle \\mathrm{arg} \\hspace{0.1cm}\\max_{\\boldsymbol{\\boldsymbol{\\Theta}}\\in {\\mathbb{R}}^{p}}} \\hspace{0.1cm}\\log{p(\\boldsymbol{X};\\boldsymbol{\\Theta})},\n",
    "$$"
   ]
  },
  {
   "cell_type": "markdown",
   "id": "9f2aee25",
   "metadata": {
    "editable": true
   },
   "source": [
    "which leads to"
   ]
  },
  {
   "cell_type": "markdown",
   "id": "e28510c2",
   "metadata": {
    "editable": true
   },
   "source": [
    "$$\n",
    "\\nabla_{\\boldsymbol{\\Theta}}\\log{p(\\boldsymbol{X};\\boldsymbol{\\Theta})}=0.\n",
    "$$"
   ]
  },
  {
   "cell_type": "markdown",
   "id": "2fb9766d",
   "metadata": {
    "editable": true
   },
   "source": [
    "## Expression for the gradients\n",
    "This leads to the following equation"
   ]
  },
  {
   "cell_type": "markdown",
   "id": "c008b196",
   "metadata": {
    "editable": true
   },
   "source": [
    "$$\n",
    "\\nabla_{\\boldsymbol{\\Theta}}\\log{p(\\boldsymbol{X};\\boldsymbol{\\Theta})}=\\nabla_{\\boldsymbol{\\Theta}}\\left(\\sum_{x_i\\in \\boldsymbol{X}}\\log{f(x_i;\\boldsymbol{\\Theta})}\\right)-\\nabla_{\\boldsymbol{\\Theta}}\\log{Z(\\boldsymbol{\\Theta})}=0.\n",
    "$$"
   ]
  },
  {
   "cell_type": "markdown",
   "id": "ce17923c",
   "metadata": {
    "editable": true
   },
   "source": [
    "The first term is called the positive phase and we assume that we have a model for the function $f$ from which we can sample values. Below we will develop an explicit model for this.\n",
    "The second term is called the negative phase and is the one which leads to more difficulties."
   ]
  },
  {
   "cell_type": "markdown",
   "id": "cdce045d",
   "metadata": {
    "editable": true
   },
   "source": [
    "## The derivative of the partition function\n",
    "\n",
    "The partition function, defined above as"
   ]
  },
  {
   "cell_type": "markdown",
   "id": "5504d15b",
   "metadata": {
    "editable": true
   },
   "source": [
    "$$\n",
    "Z(\\boldsymbol{\\Theta})=\\sum_{x_i\\in \\boldsymbol{X}}\\sum_{h_j\\in \\boldsymbol{H}} f(x_i,h_j;\\boldsymbol{\\Theta}),\n",
    "$$"
   ]
  },
  {
   "cell_type": "markdown",
   "id": "bb1b4b9e",
   "metadata": {
    "editable": true
   },
   "source": [
    "is in general the most problematic term. In principle both $x$ and $h$ can span large degrees of freedom, if not even infinitely many ones, and computing the partition function itself is often not desirable or even feasible. The above derivative of the partition function can however be written in terms of an expectation value which is in turn evaluated  using Monte Carlo sampling and the theory of Markov chains, popularly shortened to MCMC (or just MC$^2$)."
   ]
  },
  {
   "cell_type": "markdown",
   "id": "e0922db1",
   "metadata": {
    "editable": true
   },
   "source": [
    "## Explicit expression for the derivative\n",
    "We can rewrite"
   ]
  },
  {
   "cell_type": "markdown",
   "id": "1dd30587",
   "metadata": {
    "editable": true
   },
   "source": [
    "$$\n",
    "\\nabla_{\\boldsymbol{\\Theta}}\\log{Z(\\boldsymbol{\\Theta})}=\\frac{\\nabla_{\\boldsymbol{\\Theta}}Z(\\boldsymbol{\\Theta})}{Z(\\boldsymbol{\\Theta})},\n",
    "$$"
   ]
  },
  {
   "cell_type": "markdown",
   "id": "6d5020f2",
   "metadata": {
    "editable": true
   },
   "source": [
    "which reads in more detail"
   ]
  },
  {
   "cell_type": "markdown",
   "id": "6974314f",
   "metadata": {
    "editable": true
   },
   "source": [
    "$$\n",
    "\\nabla_{\\boldsymbol{\\Theta}}\\log{Z(\\boldsymbol{\\Theta})}=\\frac{\\nabla_{\\boldsymbol{\\Theta}} \\sum_{x_i\\in \\boldsymbol{X}}f(x_i;\\boldsymbol{\\Theta})   }{Z(\\boldsymbol{\\Theta})}.\n",
    "$$"
   ]
  },
  {
   "cell_type": "markdown",
   "id": "f839ad6c",
   "metadata": {
    "editable": true
   },
   "source": [
    "We can rewrite the function $f$ (we have assumed that is larger or\n",
    "equal than zero) as $f=\\exp{\\log{f}}$. We can then reqrite the last\n",
    "equation as"
   ]
  },
  {
   "cell_type": "markdown",
   "id": "629a2b6e",
   "metadata": {
    "editable": true
   },
   "source": [
    "$$\n",
    "\\nabla_{\\boldsymbol{\\Theta}}\\log{Z(\\boldsymbol{\\Theta})}=\\frac{ \\sum_{x_i\\in \\boldsymbol{X}} \\nabla_{\\boldsymbol{\\Theta}}\\exp{\\log{f(x_i;\\boldsymbol{\\Theta})}}   }{Z(\\boldsymbol{\\Theta})}.\n",
    "$$"
   ]
  },
  {
   "cell_type": "markdown",
   "id": "891f0fe9",
   "metadata": {
    "editable": true
   },
   "source": [
    "## Final expression\n",
    "\n",
    "Taking the derivative gives us"
   ]
  },
  {
   "cell_type": "markdown",
   "id": "b34a41ef",
   "metadata": {
    "editable": true
   },
   "source": [
    "$$\n",
    "\\nabla_{\\boldsymbol{\\Theta}}\\log{Z(\\boldsymbol{\\Theta})}=\\frac{ \\sum_{x_i\\in \\boldsymbol{X}}f(x_i;\\boldsymbol{\\Theta}) \\nabla_{\\boldsymbol{\\Theta}}\\log{f(x_i;\\boldsymbol{\\Theta})}   }{Z(\\boldsymbol{\\Theta})},\n",
    "$$"
   ]
  },
  {
   "cell_type": "markdown",
   "id": "055b9366",
   "metadata": {
    "editable": true
   },
   "source": [
    "which is the expectation value of $\\log{f}$"
   ]
  },
  {
   "cell_type": "markdown",
   "id": "e45019c4",
   "metadata": {
    "editable": true
   },
   "source": [
    "$$\n",
    "\\nabla_{\\boldsymbol{\\Theta}}\\log{Z(\\boldsymbol{\\Theta})}=\\sum_{x_i\\in \\boldsymbol{X}}p(x_i;\\boldsymbol{\\Theta}) \\nabla_{\\boldsymbol{\\Theta}}\\log{f(x_i;\\boldsymbol{\\Theta})},\n",
    "$$"
   ]
  },
  {
   "cell_type": "markdown",
   "id": "af3c0406",
   "metadata": {
    "editable": true
   },
   "source": [
    "that is"
   ]
  },
  {
   "cell_type": "markdown",
   "id": "49c8cd3f",
   "metadata": {
    "editable": true
   },
   "source": [
    "$$\n",
    "\\nabla_{\\boldsymbol{\\Theta}}\\log{Z(\\boldsymbol{\\Theta})}=\\mathbb{E}(\\log{f(x_i;\\boldsymbol{\\Theta})}).\n",
    "$$"
   ]
  },
  {
   "cell_type": "markdown",
   "id": "8a0b150a",
   "metadata": {
    "editable": true
   },
   "source": [
    "This quantity is evaluated using Monte Carlo sampling, with Gibbs\n",
    "sampling as the standard sampling rule.  Before we discuss the\n",
    "explicit algorithms, we need to remind ourselves about Markov chains\n",
    "and sampling rules like the Metropolis-Hastings algorithm and Gibbs\n",
    "sampling."
   ]
  },
  {
   "cell_type": "markdown",
   "id": "3a9984f2",
   "metadata": {
    "editable": true
   },
   "source": [
    "## Introducing the energy model\n",
    "\n",
    "As we will see below, a typical Boltzmann machines employs a probability distribution"
   ]
  },
  {
   "cell_type": "markdown",
   "id": "53258b56",
   "metadata": {
    "editable": true
   },
   "source": [
    "$$\n",
    "p(\\boldsymbol{x},\\boldsymbol{h};\\boldsymbol{\\Theta}) = \\frac{f(\\boldsymbol{x},\\boldsymbol{h};\\boldsymbol{\\Theta})}{Z(\\boldsymbol{\\Theta})},\n",
    "$$"
   ]
  },
  {
   "cell_type": "markdown",
   "id": "15b1a675",
   "metadata": {
    "editable": true
   },
   "source": [
    "where $f(\\boldsymbol{x},\\boldsymbol{h};\\boldsymbol{\\Theta})$ is given by a so-called energy model. If we assume that the random variables $x_i$ and $h_j$ take binary values only, for example $x_i,h_j=\\{0,1\\}$, we have a so-called binary-binary model where"
   ]
  },
  {
   "cell_type": "markdown",
   "id": "f6306473",
   "metadata": {
    "editable": true
   },
   "source": [
    "$$\n",
    "f(\\boldsymbol{x},\\boldsymbol{h};\\boldsymbol{\\Theta})=-E(\\boldsymbol{x}, \\boldsymbol{h};\\boldsymbol{\\Theta}) = \\sum_{x_i\\in \\boldsymbol{X}} x_i a_i+\\sum_{h_j\\in \\boldsymbol{H}} b_j h_j + \\sum_{x_i\\in \\boldsymbol{X},h_j\\in\\boldsymbol{H}} x_i w_{ij} h_j,\n",
    "$$"
   ]
  },
  {
   "cell_type": "markdown",
   "id": "39af089e",
   "metadata": {
    "editable": true
   },
   "source": [
    "where the set of parameters are given by the biases and weights $\\boldsymbol{\\Theta}=\\{\\boldsymbol{a},\\boldsymbol{b},\\boldsymbol{W}\\}$.\n",
    "**Note the vector notation** instead of $x_i$ and $h_j$ for $f$. The vectors $\\boldsymbol{x}$ and $\\boldsymbol{h}$ represent a specific instance of stochastic variables $x_i$ and $h_j$. These arrangements of $\\boldsymbol{x}$ and $\\boldsymbol{h}$ lead to a specific energy configuration."
   ]
  },
  {
   "cell_type": "markdown",
   "id": "d279c5d0",
   "metadata": {
    "editable": true
   },
   "source": [
    "## More compact notation\n",
    "\n",
    "With the above definition we can write the probability as"
   ]
  },
  {
   "cell_type": "markdown",
   "id": "7f86b61d",
   "metadata": {
    "editable": true
   },
   "source": [
    "$$\n",
    "p(\\boldsymbol{x},\\boldsymbol{h};\\boldsymbol{\\Theta}) = \\frac{\\exp{(\\boldsymbol{a}^T\\boldsymbol{x}+\\boldsymbol{b}^T\\boldsymbol{h}+\\boldsymbol{x}^T\\boldsymbol{W}\\boldsymbol{h})}}{Z(\\boldsymbol{\\Theta})},\n",
    "$$"
   ]
  },
  {
   "cell_type": "markdown",
   "id": "7049042d",
   "metadata": {
    "editable": true
   },
   "source": [
    "where the biases $\\boldsymbol{a}$ and $\\boldsymbol{h}$ and the weights defined by the matrix $\\boldsymbol{W}$ are the parameters we need to optimize."
   ]
  },
  {
   "cell_type": "markdown",
   "id": "c67eabfd",
   "metadata": {
    "editable": true
   },
   "source": [
    "## Anticipating results to be derived\n",
    "\n",
    "Since the binary-binary energy model is linear in the parameters $a_i$, $b_j$ and\n",
    "$w_{ij}$, it is easy to see that the derivatives with respect to the\n",
    "various optimization parameters yield expressions used in the\n",
    "evaluation of gradients like"
   ]
  },
  {
   "cell_type": "markdown",
   "id": "241eecb7",
   "metadata": {
    "editable": true
   },
   "source": [
    "$$\n",
    "\\frac{\\partial E(\\boldsymbol{x}, \\boldsymbol{h};\\boldsymbol{\\Theta})}{\\partial w_{ij}}=-x_ih_j,\n",
    "$$"
   ]
  },
  {
   "cell_type": "markdown",
   "id": "3fc4b91a",
   "metadata": {
    "editable": true
   },
   "source": [
    "and"
   ]
  },
  {
   "cell_type": "markdown",
   "id": "9cc8a5ed",
   "metadata": {
    "editable": true
   },
   "source": [
    "$$\n",
    "\\frac{\\partial E(\\boldsymbol{x}, \\boldsymbol{h};\\boldsymbol{\\Theta})}{\\partial a_i}=-x_i,\n",
    "$$"
   ]
  },
  {
   "cell_type": "markdown",
   "id": "fa71836c",
   "metadata": {
    "editable": true
   },
   "source": [
    "and"
   ]
  },
  {
   "cell_type": "markdown",
   "id": "0867b26a",
   "metadata": {
    "editable": true
   },
   "source": [
    "$$\n",
    "\\frac{\\partial E(\\boldsymbol{x}, \\boldsymbol{h};\\boldsymbol{\\Theta})}{\\partial b_j}=-h_j.\n",
    "$$"
   ]
  },
  {
   "cell_type": "markdown",
   "id": "ab6db654",
   "metadata": {
    "editable": true
   },
   "source": [
    "## Reminder on Markov Chain Monte Carlo, reminder from last week\n",
    "\n",
    "* We want to study a physical system which evolves towards equilibrium, from given  initial conditions.\n",
    "\n",
    "* We start with a PDF $w(x_0,t_0)$  and we want to understand how the system evolves with time.\n",
    "\n",
    "* We want to reach a situation where after a given number of time steps we obtain a steady state. This means that the system reaches its most likely state (equilibrium situation)\n",
    "\n",
    "* Our PDF is normally a multidimensional object whose normalization constant is impossible to find.\n",
    "\n",
    "* Analytical calculations from $w(x,t)$ are not possible.\n",
    "\n",
    "* To sample directly from from $w(x,t)$ is not possible/difficult.\n",
    "\n",
    "* The transition probability $W$ is also not  known.\n",
    "\n",
    "* How can we establish that we have reached a steady state?   Sounds impossible!\n",
    "\n",
    "**Use Markov chain Monte Carlo**"
   ]
  },
  {
   "cell_type": "markdown",
   "id": "93de0e75",
   "metadata": {
    "editable": true
   },
   "source": [
    "## Brownian motion and Markov processes\n",
    "A Markov process is a random walk with a selected probability for making a\n",
    "move. The new move is independent of the previous history of the system.\n",
    "\n",
    "The Markov process is used repeatedly in Monte Carlo simulations in order to generate\n",
    "new random states.\n",
    "\n",
    "The reason for choosing a Markov process is that when it is run for a\n",
    "long enough time starting with a random state, we will eventually reach the most likely state of the system.\n",
    "\n",
    "In thermodynamics, this means that after a certain number of Markov processes\n",
    "we reach an equilibrium distribution.\n",
    "\n",
    "This mimicks the way a real system reaches\n",
    "its most likely state at a given temperature of the surroundings."
   ]
  },
  {
   "cell_type": "markdown",
   "id": "bb876f0b",
   "metadata": {
    "editable": true
   },
   "source": [
    "## Brownian motion and Markov processes, Ergodicity and Detailed balance\n",
    "\n",
    "To reach this distribution, the Markov process needs to obey two important conditions, that of\n",
    "**ergodicity** and **detailed balance**. These conditions impose then constraints on our algorithms\n",
    "for accepting or rejecting new random states.\n",
    "\n",
    "The Metropolis algorithm discussed here\n",
    "abides to both these constraints.\n",
    "\n",
    "The Metropolis algorithm is widely used in Monte Carlo\n",
    "simulations and the understanding of it rests within\n",
    "the interpretation of random walks and Markov processes.\n",
    "\n",
    "For a proof the ergodic theorem see <https://www.pnas.org/doi/10.1073/pnas.17.2.656>."
   ]
  },
  {
   "cell_type": "markdown",
   "id": "e22a42da",
   "metadata": {
    "editable": true
   },
   "source": [
    "## Brownian motion and Markov processes, jargon\n",
    "\n",
    "In a random walk one defines a mathematical entity called a **walker**, \n",
    "whose  attributes\n",
    "completely define the state of the system in question. \n",
    "\n",
    "The state of the system  can refer to any physical quantities,\n",
    "from the vibrational state of a molecule specified by a set of quantum numbers, \n",
    "to the brands of coffee in your favourite supermarket.\n",
    "\n",
    "The walker moves in an appropriate state space by a combination of \n",
    "deterministic and random displacements from its previous\n",
    "position.\n",
    "\n",
    "This sequence of steps forms a **chain**."
   ]
  },
  {
   "cell_type": "markdown",
   "id": "35d4dc87",
   "metadata": {
    "editable": true
   },
   "source": [
    "## Brownian motion and Markov processes, sequence of ingredients\n",
    "\n",
    "* We want to study a physical system which evolves towards equilibrium, from given  initial conditions.\n",
    "\n",
    "* Markov chains are intimately linked with the physical process of diffusion. \n",
    "\n",
    "* From a Markov chain we can then derive the conditions for detailed balance and ergodicity. These are the conditions needed for obtaining a steady state.\n",
    "\n",
    "* The widely used algorithm for doing this is the so-called Metropolis algorithm, in its refined form the Metropolis-Hastings algorithm."
   ]
  },
  {
   "cell_type": "markdown",
   "id": "a7017ea7",
   "metadata": {
    "editable": true
   },
   "source": [
    "## Markov processes\n",
    "A Markov process allows in principle for a microscopic description of Brownian motion.\n",
    "As with the random walk studied in the previous section, we consider a particle \n",
    "which moves along the  $x$-axis in the form of a series of jumps with step length \n",
    "$\\Delta x = l$. Time and space are discretized and the subsequent moves are\n",
    "statistically independent, i.e., the new move depends only on the previous step\n",
    "and not on the results from earlier trials. \n",
    "We start at a position $x=jl=j\\Delta x$ and move to \n",
    "a new position $x =i\\Delta x$ during a step $\\Delta t=\\epsilon$, where \n",
    "$i\\ge  0$ and $j\\ge 0$ are integers. \n",
    "The original probability distribution function (PDF) of the particles is given by  \n",
    "$p_i(t=0)$ where $i$ refers to a specific position on the grid in\n",
    "\n",
    "The function $p_i(t=0)$ is now the discretized version of $p(x,t)$.\n",
    "We can regard the discretized PDF as a vector."
   ]
  },
  {
   "cell_type": "markdown",
   "id": "f491f989",
   "metadata": {
    "editable": true
   },
   "source": [
    "## Markov processes\n",
    "For the Markov process we have a transition probability from a position\n",
    "$x=jl$ to a position $x=il$ given by"
   ]
  },
  {
   "cell_type": "markdown",
   "id": "dcf2d7a0",
   "metadata": {
    "editable": true
   },
   "source": [
    "$$\n",
    "W_{ij}(\\epsilon)=W(il-jl,\\epsilon)=\\left\\{\\begin{array}{cc}\\frac{1}{2} & |i-j| = 1\\\\\n",
    "             0 & \\mathrm{else} \\end{array} \\right. ,\n",
    "$$"
   ]
  },
  {
   "cell_type": "markdown",
   "id": "6fe18493",
   "metadata": {
    "editable": true
   },
   "source": [
    "where $W_{ij}$ is normally called \n",
    "the transition probability and we can represent it, see below,\n",
    "as a matrix. \n",
    "**Here we have specialized to a case where the transition probability is known**.\n",
    "\n",
    "Our new PDF $p_i(t=\\epsilon)$ is now related to the PDF at\n",
    "$t=0$ through the relation"
   ]
  },
  {
   "cell_type": "markdown",
   "id": "ca71a197",
   "metadata": {
    "editable": true
   },
   "source": [
    "$$\n",
    "p_i(t=\\epsilon) =\\sum_{j} W(j\\rightarrow i)p_j(t=0).\n",
    "$$"
   ]
  },
  {
   "cell_type": "markdown",
   "id": "d317958b",
   "metadata": {
    "editable": true
   },
   "source": [
    "This equation represents the discretized time-development of an original \n",
    "PDF with equal probability of jumping left or right."
   ]
  },
  {
   "cell_type": "markdown",
   "id": "924d0573",
   "metadata": {
    "editable": true
   },
   "source": [
    "## Markov processes, the probabilities\n",
    "\n",
    "Since both $\\boldsymbol{W}$ and $\\boldsymbol{p}$ represent probabilities, they have to be normalized, i.e., we require\n",
    "that at each time step we have"
   ]
  },
  {
   "cell_type": "markdown",
   "id": "f2897c44",
   "metadata": {
    "editable": true
   },
   "source": [
    "$$\n",
    "\\sum_i p_i(t) = 1,\n",
    "$$"
   ]
  },
  {
   "cell_type": "markdown",
   "id": "806074f2",
   "metadata": {
    "editable": true
   },
   "source": [
    "and"
   ]
  },
  {
   "cell_type": "markdown",
   "id": "14e9af3d",
   "metadata": {
    "editable": true
   },
   "source": [
    "$$\n",
    "\\sum_j W(j\\rightarrow i) = 1,\n",
    "$$"
   ]
  },
  {
   "cell_type": "markdown",
   "id": "c62012b3",
   "metadata": {
    "editable": true
   },
   "source": [
    "which applies for all $j$-values.\n",
    "The further constraints are\n",
    "$0 \\le W_{ij} \\le 1$  and  $0 \\le p_{j} \\le 1$.\n",
    "Note that the probability for remaining at the same place is in general \n",
    "not necessarily equal zero."
   ]
  },
  {
   "cell_type": "markdown",
   "id": "d422757b",
   "metadata": {
    "editable": true
   },
   "source": [
    "## Markov processes\n",
    "The time development of our initial PDF can now be represented through the action of\n",
    "the transition probability matrix applied $n$ times. At a \n",
    "time  $t_n=n\\epsilon$ our initial distribution has developed into"
   ]
  },
  {
   "cell_type": "markdown",
   "id": "c49a2d2d",
   "metadata": {
    "editable": true
   },
   "source": [
    "$$\n",
    "p_i(t_n) = \\sum_jW_{ij}(t_n)p_j(0),\n",
    "$$"
   ]
  },
  {
   "cell_type": "markdown",
   "id": "f816c431",
   "metadata": {
    "editable": true
   },
   "source": [
    "and defining"
   ]
  },
  {
   "cell_type": "markdown",
   "id": "89aef7c1",
   "metadata": {
    "editable": true
   },
   "source": [
    "$$\n",
    "W(il-jl,n\\epsilon)=(W^n(\\epsilon))_{ij}\n",
    "$$"
   ]
  },
  {
   "cell_type": "markdown",
   "id": "c2d4db60",
   "metadata": {
    "editable": true
   },
   "source": [
    "we obtain"
   ]
  },
  {
   "cell_type": "markdown",
   "id": "d3d682da",
   "metadata": {
    "editable": true
   },
   "source": [
    "$$\n",
    "p_i(n\\epsilon) = \\sum_j(W^n(\\epsilon))_{ij}p_j(0),\n",
    "$$"
   ]
  },
  {
   "cell_type": "markdown",
   "id": "6b868c6d",
   "metadata": {
    "editable": true
   },
   "source": [
    "or in matrix-vector form"
   ]
  },
  {
   "cell_type": "markdown",
   "id": "9d6dff9c",
   "metadata": {
    "editable": true
   },
   "source": [
    "<!-- Equation labels as ordinary links -->\n",
    "<div id=\"eq:wfinal\"></div>\n",
    "\n",
    "$$\n",
    "\\begin{equation} \\label{eq:wfinal} \\tag{1}\n",
    "   \\boldsymbol{p}(n\\epsilon) = \\boldsymbol{W}^n(\\epsilon)\\boldsymbol{p}(0).\n",
    "\\end{equation}\n",
    "$$"
   ]
  },
  {
   "cell_type": "markdown",
   "id": "67ccd336",
   "metadata": {
    "editable": true
   },
   "source": [
    "## What do the results mean?\n",
    "\n",
    "We have after $t$-steps"
   ]
  },
  {
   "cell_type": "markdown",
   "id": "dbfb89eb",
   "metadata": {
    "editable": true
   },
   "source": [
    "$$\n",
    "\\boldsymbol{p}(t) = \\boldsymbol{W}^t\\boldsymbol{p}(0),\n",
    "$$"
   ]
  },
  {
   "cell_type": "markdown",
   "id": "f42c29c8",
   "metadata": {
    "editable": true
   },
   "source": [
    "with $\\boldsymbol{p}(0)$ the distribution at $t=0$ and $\\boldsymbol{W}$ representing the \n",
    "transition probability matrix."
   ]
  },
  {
   "cell_type": "markdown",
   "id": "825372b2",
   "metadata": {
    "editable": true
   },
   "source": [
    "## Understanding the basics\n",
    "\n",
    "We can always expand $\\boldsymbol{w}(0)$ in terms of the right eigenvectors \n",
    "$\\boldsymbol{v}$ of $\\boldsymbol{W}$ as"
   ]
  },
  {
   "cell_type": "markdown",
   "id": "57b3d69a",
   "metadata": {
    "editable": true
   },
   "source": [
    "$$\n",
    "\\boldsymbol{p}(0)  = \\sum_i\\alpha_i\\boldsymbol{v}_i,\n",
    "$$"
   ]
  },
  {
   "cell_type": "markdown",
   "id": "09bcf17a",
   "metadata": {
    "editable": true
   },
   "source": [
    "resulting in"
   ]
  },
  {
   "cell_type": "markdown",
   "id": "206c7bb4",
   "metadata": {
    "editable": true
   },
   "source": [
    "$$\n",
    "\\boldsymbol{p}(t) = \\boldsymbol{W}^t\\boldsymbol{p}(0)=\\boldsymbol{W}^t\\sum_i\\alpha_i\\boldsymbol{v}_i=\n",
    "\\sum_i\\lambda_i^t\\alpha_i\\boldsymbol{v}_i,\n",
    "$$"
   ]
  },
  {
   "cell_type": "markdown",
   "id": "3c7b0011",
   "metadata": {
    "editable": true
   },
   "source": [
    "with $\\lambda_i$ the $i^{\\mathrm{th}}$ eigenvalue corresponding to  \n",
    "the eigenvector $\\boldsymbol{v}_i$. \n",
    "\n",
    "If we assume that $\\lambda_0$ is the largest eigenvector we see that in the limit $t\\rightarrow \\infty$,\n",
    "$\\boldsymbol{p}(t)$ becomes proportional to the corresponding eigenvector \n",
    "$\\boldsymbol{v}_0$. This is our steady state or final distribution."
   ]
  },
  {
   "cell_type": "markdown",
   "id": "495c6fb4",
   "metadata": {
    "editable": true
   },
   "source": [
    "## Basics of the Metropolis Algorithm\n",
    "\n",
    "The Metropolis\n",
    "algorithm is a method to sample a normalized probability\n",
    "distribution by a stochastic process. We define $p_i^{(n)}$ to\n",
    "be the probability for finding the system in the state $i$ at step $n$.\n",
    "\n",
    "In the simulations, our assumption is that we have a model for $p_i^{(n)}$, but we do not know $W$.\n",
    "We will hence model $W$ in terms of a likelihood for making transition $T$ and a likelihood for accepting a transition.\n",
    "That is"
   ]
  },
  {
   "cell_type": "markdown",
   "id": "1126b4c6",
   "metadata": {
    "editable": true
   },
   "source": [
    "$$\n",
    "W_{i\\rightarrow j}=A_{i\\rightarrow j}T_{i\\rightarrow j}\n",
    "$$"
   ]
  },
  {
   "cell_type": "markdown",
   "id": "ab4ba408",
   "metadata": {
    "editable": true
   },
   "source": [
    "## The basic of the Metropolis Algorithm\n",
    "\n",
    "* Sample a possible new state $j$ with some probability $T_{i\\rightarrow j}$.\n",
    "\n",
    "* Accept the new state $j$ with probability $A_{i \\rightarrow j}$ and use it as the next sample.\n",
    "\n",
    "* With probability $1-A_{i\\rightarrow j}$ the move is rejected and the original state $i$ is used again as a sample.\n",
    "\n",
    "We wish to derive the required properties of $T$ and $A$ such that\n",
    "$p_i^{(n\\rightarrow \\infty)} \\rightarrow p_i$ so that starting\n",
    "from any distribution, the method converges to the correct distribution.\n",
    "Note that the description here is for a discrete probability distribution.\n",
    "Replacing probabilities $p_i$ with expressions like $p(x_i)dx_i$ will\n",
    "take all of these over to the corresponding continuum expressions."
   ]
  },
  {
   "cell_type": "markdown",
   "id": "9af268d5",
   "metadata": {
    "editable": true
   },
   "source": [
    "## More on the Metropolis\n",
    "\n",
    "The dynamical equation for $p_i^{(n)}$ can be written directly from\n",
    "the description above. The probability of being in the state $i$ at step $n$\n",
    "is given by the probability of being in any state $j$ at the previous step,\n",
    "and making an accepted transition to $i$ added to the probability of\n",
    "being in the state $i$, making a transition to any state $j$ and\n",
    "rejecting the move:"
   ]
  },
  {
   "cell_type": "markdown",
   "id": "a218b320",
   "metadata": {
    "editable": true
   },
   "source": [
    "<!-- Equation labels as ordinary links -->\n",
    "<div id=\"eq:eq1\"></div>\n",
    "\n",
    "$$\n",
    "\\begin{equation}\n",
    "\\label{eq:eq1} \\tag{2}\n",
    "p^{(n)}_i = \\sum_j \\left [\n",
    "p^{(n-1)}_jT_{j\\rightarrow i} A_{j\\rightarrow i} \n",
    "+p^{(n-1)}_iT_{i\\rightarrow j}\\left ( 1- A_{i\\rightarrow j} \\right)\n",
    "\\right ] \\,.\n",
    "\\end{equation}\n",
    "$$"
   ]
  },
  {
   "cell_type": "markdown",
   "id": "ea95dd5b",
   "metadata": {
    "editable": true
   },
   "source": [
    "## Metropolis algorithm, setting it up\n",
    "Since the probability of making some transition must be 1,\n",
    "$\\sum_j T_{i\\rightarrow j} = 1$, and Eq. ([2](#eq:eq1)) becomes"
   ]
  },
  {
   "cell_type": "markdown",
   "id": "ac965c6e",
   "metadata": {
    "editable": true
   },
   "source": [
    "<!-- Equation labels as ordinary links -->\n",
    "<div id=\"_auto1\"></div>\n",
    "\n",
    "$$\n",
    "\\begin{equation}\n",
    "p^{(n)}_i = p^{(n-1)}_i +\n",
    " \\sum_j \\left [\n",
    "p^{(n-1)}_jT_{j\\rightarrow i} A_{j\\rightarrow i} \n",
    "-p^{(n-1)}_iT_{i\\rightarrow j}A_{i\\rightarrow j}\n",
    "\\right ] \\,.\n",
    "\\label{_auto1} \\tag{3}\n",
    "\\end{equation}\n",
    "$$"
   ]
  },
  {
   "cell_type": "markdown",
   "id": "176e9792",
   "metadata": {
    "editable": true
   },
   "source": [
    "## Metropolis continues\n",
    "\n",
    "For large $n$ we require that $p^{(n\\rightarrow \\infty)}_i = p_i$,\n",
    "the desired probability distribution. Taking this limit, gives the\n",
    "balance requirement"
   ]
  },
  {
   "cell_type": "markdown",
   "id": "1cf09184",
   "metadata": {
    "editable": true
   },
   "source": [
    "<!-- Equation labels as ordinary links -->\n",
    "<div id=\"_auto2\"></div>\n",
    "\n",
    "$$\n",
    "\\begin{equation}\n",
    "\\sum_j \\left [p_jT_{j\\rightarrow i} A_{j\\rightarrow i}-p_iT_{i\\rightarrow j}A_{i\\rightarrow j}\n",
    "\\right ] = 0,\n",
    "\\label{_auto2} \\tag{4}\n",
    "\\end{equation}\n",
    "$$"
   ]
  },
  {
   "cell_type": "markdown",
   "id": "e753835e",
   "metadata": {
    "editable": true
   },
   "source": [
    "## Detailed Balance\n",
    "\n",
    "The balance requirement is very weak. Typically the much stronger detailed\n",
    "balance requirement is enforced, that is rather than the sum being\n",
    "set to zero, we set each term separately to zero and use this\n",
    "to determine the acceptance probabilities. Rearranging, the result is"
   ]
  },
  {
   "cell_type": "markdown",
   "id": "37d350ba",
   "metadata": {
    "editable": true
   },
   "source": [
    "<!-- Equation labels as ordinary links -->\n",
    "<div id=\"_auto3\"></div>\n",
    "\n",
    "$$\n",
    "\\begin{equation}\n",
    "\\frac{ A_{j\\rightarrow i}}{A_{i\\rightarrow j}}\n",
    "= \\frac{p_iT_{i\\rightarrow j}}{ p_jT_{j\\rightarrow i}} \\,.\n",
    "\\label{_auto3} \\tag{5}\n",
    "\\end{equation}\n",
    "$$"
   ]
  },
  {
   "cell_type": "markdown",
   "id": "72420770",
   "metadata": {
    "editable": true
   },
   "source": [
    "This is the [detailed balance requirement](https://cims.nyu.edu/~holmes/teaching/asa19/handout_Lecture3_2019.pdf)"
   ]
  },
  {
   "cell_type": "markdown",
   "id": "354e3cd8",
   "metadata": {
    "editable": true
   },
   "source": [
    "## More on Detailed Balance\n",
    "\n",
    "The Metropolis choice is to maximize the $A$ values, that is"
   ]
  },
  {
   "cell_type": "markdown",
   "id": "c2ae06ae",
   "metadata": {
    "editable": true
   },
   "source": [
    "<!-- Equation labels as ordinary links -->\n",
    "<div id=\"_auto4\"></div>\n",
    "\n",
    "$$\n",
    "\\begin{equation}\n",
    "A_{j \\rightarrow i} = \\min \\left ( 1,\n",
    "\\frac{p_iT_{i\\rightarrow j}}{ p_jT_{j\\rightarrow i}}\\right ).\n",
    "\\label{_auto4} \\tag{6}\n",
    "\\end{equation}\n",
    "$$"
   ]
  },
  {
   "cell_type": "markdown",
   "id": "26e4f4ca",
   "metadata": {
    "editable": true
   },
   "source": [
    "Other choices are possible, but they all correspond to multiplying\n",
    "$A_{i\\rightarrow j}$ and $A_{j\\rightarrow i}$ by the same constant\n",
    "smaller than unity. The penalty function method uses just such\n",
    "a factor to compensate for $p_i$ that are evaluated stochastically\n",
    "and are therefore noisy.\n",
    "\n",
    "Having chosen the acceptance probabilities, we have guaranteed that\n",
    "if the  $p_i^{(n)}$ has equilibrated, that is if it is equal to $p_i$,\n",
    "it will remain equilibrated."
   ]
  },
  {
   "cell_type": "markdown",
   "id": "17f56035",
   "metadata": {
    "editable": true
   },
   "source": [
    "## Gibbs sampling\n",
    "\n",
    "An efficient way if performing the sampling is through the use of\n",
    "Gibbs sampling. The latter uses the conditional probability instead of\n",
    "the full probability as done in the Metropolis algorithm.\n",
    "\n",
    "Gibbs sampling is useful for sampling from high-dimensional\n",
    "distributions where single-variable conditional distributions are\n",
    "known.\n",
    "\n",
    "For example, say it is too expensive to sample from $p(x_0, x_1, x_2,\n",
    "..., x_d)$. With Gibbs sampling, we initialize all variables to\n",
    "arbitrary values. Then while taking each sample, we also iterate\n",
    "through the dimensions and replace its value with a sample from the\n",
    "univariate conditional distribution. For example we can update $x_1$\n",
    "using $p(x_1 \\mid x_0, x_2, ..., x_d)$, which is easy to sample over\n",
    "because it is  only one dimension."
   ]
  },
  {
   "cell_type": "markdown",
   "id": "8d0e4bcc",
   "metadata": {
    "editable": true
   },
   "source": [
    "## Understanding Gibbs samoling\n",
    "\n",
    "This part is best seen with the jupyter-notebook.\n",
    "These notes have been adapted from <https://www.inf.ed.ac.uk/teaching/courses/mlpr/2017/>\n",
    "\n",
    "To illustrate Gibbs\n",
    "sampling we will sample several points and compare them with those\n",
    "generated from a known distribution, in our case the well-known\n",
    "two-dimensional Gaussian defined as"
   ]
  },
  {
   "cell_type": "markdown",
   "id": "02b730ce",
   "metadata": {
    "editable": true
   },
   "source": [
    "$$\n",
    "p(a, b) = \\mathcal N\\left(\\left[\\begin{array}{c} a \\\\ b \\end{array}\\right]; \\left[\\begin{array}{c}\\mu_a \\\\ \\mu_b\\end{array}\\right], \\left[\\begin{array}{cc}\\sigma_a & cov(a, b) \\\\ cov(a, b) & \\sigma_b\\end{array}\\right]\\right) = \\mathcal N\\left(\\left[\\begin{array}{c}a \\\\ b\\end{array}\\right]; \\left[\\begin{array}{c}0 \\\\ 0\\end{array}\\right], \\left[\\begin{array}{cc}1 & 0.5 \\\\ 0.5 & 1\\end{array}\\right]\\right).\n",
    "$$"
   ]
  },
  {
   "cell_type": "code",
   "execution_count": 1,
   "id": "d25eb39a",
   "metadata": {
    "collapsed": false,
    "editable": true
   },
   "outputs": [],
   "source": [
    "%matplotlib inline\n",
    "\n",
    "import numpy as np\n",
    "import matplotlib.pyplot as plt\n",
    "# two dimensions\n",
    "D = 2\n",
    "\n",
    "# set up the means (standard normal distribution\n",
    "a_mu = 0\n",
    "b_mu = 0\n",
    "# and the variances and covariances\n",
    "a_sigma = 1\n",
    "b_sigma = 1\n",
    "a_b_cov = 0.5\n",
    "\n",
    "joint_cov = np.vstack(((a_sigma, a_b_cov), (a_b_cov, b_sigma)))\n",
    "joint_mu = np.vstack((a_mu, b_mu))"
   ]
  },
  {
   "cell_type": "markdown",
   "id": "bf12195f",
   "metadata": {
    "editable": true
   },
   "source": [
    "Here we have used $\\epsilon \\sim \\mathcal N(0, 1)$ which allows us to sample from $\\mathcal{N}(\\mu, \\sigma^2)$ by using $\\sigma\\epsilon + \\mu$.\n",
    "In the case of multivariate Gaussians, we use the Cholesky decomposition of the covariance matrix\n",
    "and then use it and the mean to adjust numbers generated using `np.random.randn`."
   ]
  },
  {
   "cell_type": "code",
   "execution_count": 2,
   "id": "377c3368",
   "metadata": {
    "collapsed": false,
    "editable": true
   },
   "outputs": [],
   "source": [
    "N = 10000\n",
    "L = np.linalg.cholesky(joint_cov)\n",
    "samples_from_true_distribution =  L @ np.random.randn(D, N) + joint_mu\n",
    "plt.plot(*samples_from_true_distribution, '.', alpha=0.1)\n",
    "plt.axis([-4, 4, -4, 4])\n",
    "plt.show()"
   ]
  },
  {
   "cell_type": "markdown",
   "id": "34ae50cc",
   "metadata": {
    "editable": true
   },
   "source": [
    "## Conditional probabilities\n",
    "\n",
    "Gibbs sampling requires conditional distributions for each variable. \n",
    "\n",
    "In the case of Gaussians, there is  a closed-form for the conditional. With a [multivariate Gaussian](http://www.inf.ed.ac.uk/teaching/courses/mlpr/2017/notes/w7c_gaussian_processes.html) we have"
   ]
  },
  {
   "cell_type": "markdown",
   "id": "c590ed7c",
   "metadata": {
    "editable": true
   },
   "source": [
    "$$\n",
    "p(\\textbf{f}, \\textbf{g}) = \n",
    "\\mathcal N\\left(\n",
    "\\left[\\begin{array}{c} \\textbf{f} \\\\ \\textbf{g} \\end{array}\\right];\n",
    "\\left[\\begin{array}{c}\\textbf{a} \\\\ \\textbf{b}\\end{array}\\right], \n",
    "\\left[\\begin{array}{cc}A & C^{\\top} \\\\ C & B\\end{array}\\right]\n",
    "\\right),\n",
    "$$"
   ]
  },
  {
   "cell_type": "markdown",
   "id": "62b30088",
   "metadata": {
    "editable": true
   },
   "source": [
    "with the conditional probability"
   ]
  },
  {
   "cell_type": "markdown",
   "id": "b57ad197",
   "metadata": {
    "editable": true
   },
   "source": [
    "$$\n",
    "p(\\textbf{f} \\mid \\textbf{g}) = \\mathcal N(\\textbf{f}; \\textbf{a} + CB^{-1}(\\textbf{g} - \\textbf{b}), A - CB^{-1}C^{\\top}).\n",
    "$$"
   ]
  },
  {
   "cell_type": "code",
   "execution_count": 3,
   "id": "b739ce9d",
   "metadata": {
    "collapsed": false,
    "editable": true
   },
   "outputs": [],
   "source": [
    "def get_conditional_dist(joint_mu, joint_cov, var_index):\n",
    "    '''Returns the conditional distribution given the joint distribution and which variable\n",
    "    the conditional probability should use.\n",
    "    Right now this only works for 2-variable joint distributions.\n",
    "    \n",
    "      joint_mu: joint distribution's mu\n",
    "      joint_cov: joint distribution's covariance\n",
    "      var_index: index of the variable in the joint distribution. Everything else will be \n",
    "        conditioned on. For example, if the joint distribution p(a, b, c) has mu [mu_a, mu_b, mu_c],\n",
    "        to get p(c | a, b), use var_index = 2.\n",
    "      \n",
    "    returns:\n",
    "      a function that can sample from the univariate conditional distribution\n",
    "    '''\n",
    "    assert joint_mu.shape[0] == 2, 'Sorry, this function only works for 2-dimensional joint distributions right now'\n",
    "    a = joint_mu[var_index]\n",
    "    b = joint_mu[~var_index]\n",
    "    \n",
    "    A = joint_cov[var_index, var_index]\n",
    "    B = joint_cov[~var_index, ~var_index]\n",
    "    C = joint_cov[var_index, ~var_index]\n",
    "    \n",
    "    # we're dealing with one dimension so\n",
    "    B_inv = 1/B\n",
    "    \n",
    "    # Return a function that can sample given a value of g\n",
    "    def dist(g):\n",
    "        # a + C*B^{-1}(g - b)\n",
    "        mu = a + C * B_inv * (g - b)\n",
    "        # A - C * B^{-1} * C^T\n",
    "        cov = A - B_inv * C * C\n",
    "        return np.sqrt(cov) * np.random.randn(1) + mu\n",
    "    \n",
    "    return dist"
   ]
  },
  {
   "cell_type": "markdown",
   "id": "d80d6e05",
   "metadata": {
    "editable": true
   },
   "source": [
    "With this we cna set up the conditionals for this problem"
   ]
  },
  {
   "cell_type": "code",
   "execution_count": 4,
   "id": "c55f1d5d",
   "metadata": {
    "collapsed": false,
    "editable": true
   },
   "outputs": [],
   "source": [
    "# Set up the conditional probability distribution for each dimension\n",
    "# For example, I can sample p(a | b) using sample_for_dim[0].\n",
    "\n",
    "univariate_conditionals = [\n",
    "    get_conditional_dist(joint_mu, joint_cov, d)\n",
    "    for d in range(D)\n",
    "]"
   ]
  },
  {
   "cell_type": "markdown",
   "id": "802a940c",
   "metadata": {
    "editable": true
   },
   "source": [
    "The $gibbs\\_sample$ function here only needs the univariate conditionals and how many samples to take."
   ]
  },
  {
   "cell_type": "code",
   "execution_count": 5,
   "id": "3f0fe796",
   "metadata": {
    "collapsed": false,
    "editable": true
   },
   "outputs": [],
   "source": [
    "def gibbs_sample(univariate_conditionals, sample_count):\n",
    "    '''Does Gibbs sampling given the distribution's univariate conditionals.\n",
    "    \n",
    "    Returns a D x N matrix\n",
    "    '''\n",
    "    D = len(univariate_conditionals)\n",
    "    assert D == 2, \"Sorry, this only supports 2 dimensions right now\"\n",
    "    \n",
    "    # initializes an empty matrix for the samples\n",
    "    samples = np.zeros((D, sample_count))\n",
    "\n",
    "    # initialize the first sample to some arbitrary value\n",
    "    samples[:, 0] = [3, -3]\n",
    "    \n",
    "    for i in range(1, sample_count):\n",
    "        # first set this sample equal to the previous sample\n",
    "        samples[:, i] = samples[:, i - 1]\n",
    "        \n",
    "        # now update the dimension whose turn it is using the conditional distribution\n",
    "        # pass in all dimension from the previous sample except this dimension\n",
    "        d = i % D\n",
    "        samples[d, i] = univariate_conditionals[d](samples[~d, i - 1])\n",
    "                 \n",
    "    return samples"
   ]
  },
  {
   "cell_type": "markdown",
   "id": "3cd19fe3",
   "metadata": {
    "editable": true
   },
   "source": [
    "One thing to keep in mind about Gibbs sampling is that it only updates\n",
    "one dimension at a time. This means that samples from around the same\n",
    "time are correlated with each other. We have drawn the line connecting\n",
    "sequential samples to show this."
   ]
  },
  {
   "cell_type": "code",
   "execution_count": 6,
   "id": "fcc876da",
   "metadata": {
    "collapsed": false,
    "editable": true
   },
   "outputs": [],
   "source": [
    "samples = gibbs_sample(univariate_conditionals, sample_count=100)\n",
    "fig, ax = plt.subplots()\n",
    "\n",
    "ax.plot(*samples_from_true_distribution, '.', alpha=0.1)\n",
    "ax.plot(*samples, 'k')\n",
    "ax.plot(*samples, '.r')\n",
    "ax.axis('square')\n",
    "plt.show()"
   ]
  },
  {
   "cell_type": "markdown",
   "id": "e3a10649",
   "metadata": {
    "editable": true
   },
   "source": [
    "Finally we sample a bunch of points and see how they compare to those\n",
    "from the original distribution. It looks the same! What's cool is that\n",
    "the one using Gibbs sampling only used samples from the univariate\n",
    "conditionals!"
   ]
  },
  {
   "cell_type": "code",
   "execution_count": 7,
   "id": "46af0ac1",
   "metadata": {
    "collapsed": false,
    "editable": true
   },
   "outputs": [],
   "source": [
    "samples = gibbs_sample(univariate_conditionals, sample_count=N)\n",
    "fig, axs = plt.subplots(1, 3, figsize=(12, 4), sharex=True, sharey=True)\n",
    "# set all the axes\n",
    "axs[0].axis([-4, 4, -4, 4])\n",
    "axs[0].plot(*samples_from_true_distribution, '.', alpha=0.1)\n",
    "axs[0].set_title('original p(a, b)')\n",
    "axs[1].plot(*samples, 'k', alpha=0.8)\n",
    "axs[1].set_title('gibbs sampling path')\n",
    "axs[2].plot(*samples, '.g', alpha=0.1)\n",
    "axs[2].set_title('gibbs samples')\n",
    "plt.show()"
   ]
  },
  {
   "cell_type": "markdown",
   "id": "6cb00d4a",
   "metadata": {
    "editable": true
   },
   "source": [
    "## Boltzmann Machines, marginal and conditional probabilities\n",
    "\n",
    "A generative model can learn to represent and sample from a\n",
    "probability distribution. The core idea is to learn a parametric model\n",
    "of the probability distribution from which the training data was\n",
    "drawn. As an example\n",
    "1. A model for images could learn to draw new examples of cats and dogs, given a training dataset of images of cats and dogs.\n",
    "\n",
    "2. Generate a sample of an ordered or disordered Ising model phase, having been given samples of such phases.\n",
    "\n",
    "3. Model the trial function for Monte Carlo calculations"
   ]
  },
  {
   "cell_type": "markdown",
   "id": "cb68a654",
   "metadata": {
    "editable": true
   },
   "source": [
    "## Generative and discriminative models\n",
    "\n",
    "Generative and discriminative models use both gradient-descent based\n",
    "learning procedures for minimizing cost functions\n",
    "\n",
    "However, in energy based models we don't use backpropagation and automatic\n",
    "differentiation for computing gradients, instead we turn to Markov\n",
    "Chain Monte Carlo methods.\n",
    "\n",
    "A typical deep neural network has several hidden layers. A restricted\n",
    "Boltzmann machine has normally one hidden layer, however several RBMs can\n",
    "be stacked to make up deep Belief Networks, of which they constitute\n",
    "the building blocks."
   ]
  },
  {
   "cell_type": "markdown",
   "id": "99f8d1f6",
   "metadata": {
    "editable": true
   },
   "source": [
    "## Basics of the Boltzmann machine\n",
    "A BM is what we would call an undirected probabilistic graphical model\n",
    "with stochastic continuous or discrete units.\n",
    "\n",
    "It is interpreted as a stochastic recurrent neural network where the\n",
    "state of each unit(neurons/nodes) depends on the units it is connected\n",
    "to. The weights in the network represent thus the strength of the\n",
    "interaction between various units/nodes."
   ]
  },
  {
   "cell_type": "markdown",
   "id": "808f1ad4",
   "metadata": {
    "editable": true
   },
   "source": [
    "## More about the basics\n",
    "A standard BM network is divided into a set of observable and visible units $\\boldsymbol{x}$ and a set of unknown hidden units/nodes $\\boldsymbol{h}$.\n",
    "\n",
    "Additionally there can be bias nodes for the hidden and visible layers. These biases are normally set to $1$.\n",
    "\n",
    "BMs are stackable, meaning they cwe can train a BM which serves as input to another BM. We can construct deep networks for learning complex PDFs. The layers can be trained one after another, a feature which makes them popular in deep learning"
   ]
  },
  {
   "cell_type": "markdown",
   "id": "af0c3b4f",
   "metadata": {
    "editable": true
   },
   "source": [
    "## Difficult to train\n",
    "\n",
    "However, they are often hard to train. This leads to the introduction\n",
    "of so-called restricted BMs, or RBMS.  Here we take away all lateral\n",
    "connections between nodes in the visible layer as well as connections\n",
    "between nodes in the hidden layer."
   ]
  },
  {
   "cell_type": "markdown",
   "id": "59951566",
   "metadata": {
    "editable": true
   },
   "source": [
    "## The network layers\n",
    "\n",
    "1. A function $\\boldsymbol{x}$ that represents the visible layer, a vector of $M$ elements (nodes). This layer represents both what the RBM might be given as training input, and what we want it to be able to reconstruct. This might for example be the pixels of an image, the spin values of the Ising model, or coefficients representing speech.\n",
    "\n",
    "2. The function $\\boldsymbol{h}$ represents the hidden, or latent, layer. A vector of $N$ elements (nodes). Also called \"feature detectors\"."
   ]
  },
  {
   "cell_type": "markdown",
   "id": "c3798c89",
   "metadata": {
    "editable": true
   },
   "source": [
    "## Goal of hidden layer\n",
    "\n",
    "The goal of the hidden layer is to increase the model's expressive\n",
    "power. We encode complex interactions between visible variables by\n",
    "introducing additional, hidden variables that interact with visible\n",
    "degrees of freedom in a simple manner, yet still reproduce the complex\n",
    "correlations between visible degrees in the data once marginalized\n",
    "over (integrated out)."
   ]
  },
  {
   "cell_type": "markdown",
   "id": "38b00378",
   "metadata": {
    "editable": true
   },
   "source": [
    "## The parameters\n",
    "\n",
    "The network parameters, to be optimized/learned:\n",
    "1. $\\boldsymbol{a}$ represents the visible bias, a vector of same length $M$ as $\\boldsymbol{x}$.\n",
    "\n",
    "2. $\\boldsymbol{b}$ represents the hidden bias, a vector of same length $N$  as $\\boldsymbol{h}$.\n",
    "\n",
    "3. $\\boldsymbol{W}$ represents the interaction weights, a matrix of size $M\\times N$.\n",
    "\n",
    "Note that we have specified the lengths of $bm{x}$ and $\\boldsymbol{h}$. These\n",
    "lengths define the number of visible and hidden units, respectively."
   ]
  },
  {
   "cell_type": "markdown",
   "id": "0363a78d",
   "metadata": {
    "editable": true
   },
   "source": [
    "## Joint distribution\n",
    "\n",
    "The restricted Boltzmann machine is described by a Boltzmann distribution"
   ]
  },
  {
   "cell_type": "markdown",
   "id": "cbd5ef8f",
   "metadata": {
    "editable": true
   },
   "source": [
    "$$\n",
    "\\begin{align*}\n",
    "\tP_{rbm}(\\boldsymbol{x},\\boldsymbol{h},\\boldsymbol{\\Theta}) = \\frac{1}{Z(\\boldsymbol{\\Theta})} \\exp{-(E(\\boldsymbol{x},\\boldsymbol{h},\\boldsymbol{\\Theta}))},\n",
    "\\end{align*}\n",
    "$$"
   ]
  },
  {
   "cell_type": "markdown",
   "id": "f7d7da11",
   "metadata": {
    "editable": true
   },
   "source": [
    "where $Z$ is the normalization constant or partition function discussed earlier and defined as"
   ]
  },
  {
   "cell_type": "markdown",
   "id": "fff5b02e",
   "metadata": {
    "editable": true
   },
   "source": [
    "$$\n",
    "\\begin{align*}\n",
    "\tZ(\\boldsymbol{\\Theta}) = \\int \\int \\exp{-E(\\boldsymbol{x},\\boldsymbol{h},\\boldsymbol{\\Theta})} d\\boldsymbol{x} d\\boldsymbol{h}.\n",
    "\\end{align*}\n",
    "$$"
   ]
  },
  {
   "cell_type": "markdown",
   "id": "090ec903",
   "metadata": {
    "editable": true
   },
   "source": [
    "It is common to set  the temperature $T$ to one. It is omitted in the equations above. The energy is thus a dimensionless function."
   ]
  },
  {
   "cell_type": "markdown",
   "id": "cdded0a0",
   "metadata": {
    "editable": true
   },
   "source": [
    "## Network Elements, the energy function\n",
    "\n",
    "The function $E(\\boldsymbol{x},\\boldsymbol{h},\\boldsymbol{\\Theta})$ gives the **energy** of a\n",
    "configuration (pair of vectors) $(\\boldsymbol{x}, \\boldsymbol{h})$. The lower\n",
    "the energy of a configuration, the higher the probability of it. This\n",
    "function also depends on the parameters $\\boldsymbol{a}$, $\\boldsymbol{b}$ and\n",
    "$W$. Thus, when we adjust them during the learning procedure, we are\n",
    "adjusting the energy function to best fit our problem."
   ]
  },
  {
   "cell_type": "markdown",
   "id": "9cb606a2",
   "metadata": {
    "editable": true
   },
   "source": [
    "## Defining different types of RBMs\n",
    "\n",
    "There are different variants of RBMs, and the differences lie in the types of visible and hidden units we choose as well as in the implementation of the energy function $E(\\boldsymbol{x},\\boldsymbol{h},\\boldsymbol{\\Theta})$. The connection between the nodes in the two layers is given by the weights $w_{ij}$. \n",
    "\n",
    "**Binary-Binary RBM:**\n",
    "\n",
    "RBMs were first developed using binary units in both the visible and hidden layer. The corresponding energy function is defined as follows:"
   ]
  },
  {
   "cell_type": "markdown",
   "id": "a6e09cf0",
   "metadata": {
    "editable": true
   },
   "source": [
    "$$\n",
    "\\begin{align*}\n",
    "\tE(\\boldsymbol{x}, \\boldsymbol{h},\\boldsymbol{\\Theta}) = - \\sum_i^M x_i a_i- \\sum_j^N b_j h_j - \\sum_{i,j}^{M,N} x_i w_{ij} h_j,\n",
    "\\end{align*}\n",
    "$$"
   ]
  },
  {
   "cell_type": "markdown",
   "id": "342f67dd",
   "metadata": {
    "editable": true
   },
   "source": [
    "where the binary values taken on by the nodes are most commonly 0 and 1."
   ]
  },
  {
   "cell_type": "markdown",
   "id": "63cf7bca",
   "metadata": {
    "editable": true
   },
   "source": [
    "## Gaussian-binary RBM\n",
    "\n",
    "Another varient is the RBM where the visible units are Gaussian while the hidden units remain binary:"
   ]
  },
  {
   "cell_type": "markdown",
   "id": "914e7975",
   "metadata": {
    "editable": true
   },
   "source": [
    "$$\n",
    "\\begin{align*}\n",
    "\tE(\\boldsymbol{x}, \\boldsymbol{h},\\boldsymbol{\\Theta}) = \\sum_i^M \\frac{(x_i - a_i)^2}{2\\sigma_i^2} - \\sum_j^N b_j h_j - \\sum_{i,j}^{M,N} \\frac{x_i w_{ij} h_j}{\\sigma_i^2}. \n",
    "\\end{align*}\n",
    "$$"
   ]
  },
  {
   "cell_type": "markdown",
   "id": "c3c9cfab",
   "metadata": {
    "editable": true
   },
   "source": [
    "This type of RBMs are useful when we model continuous data (i.e., we wish $\\boldsymbol{x}$ to be continuous). The paramater $\\sigma_i^2$ is meant to represent a variance and is foten just set to one."
   ]
  },
  {
   "cell_type": "markdown",
   "id": "b5aa48c7",
   "metadata": {
    "editable": true
   },
   "source": [
    "## Cost function\n",
    "\n",
    "When working with a training dataset, the most common training\n",
    "approach is maximizing the log-likelihood of the training data. The\n",
    "log likelihood characterizes the log-probability of generating the\n",
    "observed data using our generative model. Using this method our cost\n",
    "function is chosen as the negative log-likelihood. The learning then\n",
    "consists of trying to find parameters that maximize the probability of\n",
    "the dataset, and is known as Maximum Likelihood Estimation (MLE).\n",
    "\n",
    "Denoting the parameters as $\\boldsymbol{\\Theta} = a_1,...,a_M,b_1,...,b_N,w_{11},...,w_{MN}$, the log-likelihood is given by"
   ]
  },
  {
   "cell_type": "markdown",
   "id": "449fc659",
   "metadata": {
    "editable": true
   },
   "source": [
    "$$\n",
    "\\begin{align*}\n",
    "\t\\mathcal{L}(\\{ \\Theta_i \\}) &= \\langle \\text{log} P_\\theta(\\boldsymbol{x}) \\rangle_{data} \\\\\n",
    "\t&= - \\langle E(\\boldsymbol{x}; \\{ \\Theta_i\\}) \\rangle_{data} - \\text{log} Z(\\{ \\Theta_i\\}),\n",
    "\\end{align*}\n",
    "$$"
   ]
  },
  {
   "cell_type": "markdown",
   "id": "14cca440",
   "metadata": {
    "editable": true
   },
   "source": [
    "where we used that the normalization constant does not depend on the data, $\\langle \\text{log} Z(\\{ \\Theta_i\\}) \\rangle = \\text{log} Z(\\{ \\Theta_i\\})$\n",
    "Our cost function is the negative log-likelihood, $\\mathcal{C}(\\{ \\Theta_i \\}) = - \\mathcal{L}(\\{ \\Theta_i \\})$"
   ]
  },
  {
   "cell_type": "markdown",
   "id": "043dcade",
   "metadata": {
    "editable": true
   },
   "source": [
    "## Optimization / Training\n",
    "\n",
    "The training procedure of choice often is Stochastic Gradient Descent (SGD). It consists of a series of iterations where we update the parameters according to the equation"
   ]
  },
  {
   "cell_type": "markdown",
   "id": "b0b111e8",
   "metadata": {
    "editable": true
   },
   "source": [
    "$$\n",
    "\\begin{align*}\n",
    "\t\\boldsymbol{\\Theta}_{k+1} = \\boldsymbol{\\Theta}_k - \\eta \\nabla \\mathcal{C} (\\boldsymbol{\\Theta}_k)\n",
    "\\end{align*}\n",
    "$$"
   ]
  },
  {
   "cell_type": "markdown",
   "id": "f22e51a1",
   "metadata": {
    "editable": true
   },
   "source": [
    "at each $k$-th iteration. There are a range of variants of the algorithm which aim at making the learning rate $\\eta$ more adaptive so the method might be more efficient while remaining stable."
   ]
  },
  {
   "cell_type": "markdown",
   "id": "7d26166c",
   "metadata": {
    "editable": true
   },
   "source": [
    "## Gradients\n",
    "We now need the gradient of the cost function in order to minimize it. We find that"
   ]
  },
  {
   "cell_type": "markdown",
   "id": "97adefe6",
   "metadata": {
    "editable": true
   },
   "source": [
    "$$\n",
    "\\begin{align*}\n",
    "\t\\frac{\\partial \\mathcal{C}(\\{ \\Theta_i\\})}{\\partial \\Theta_i}\n",
    "\t&= \\langle \\frac{\\partial E(\\boldsymbol{x}; \\Theta_i)}{\\partial \\Theta_i} \\rangle_{data}\n",
    "\t+ \\frac{\\partial \\text{log} Z(\\{ \\Theta_i\\})}{\\partial \\Theta_i} \\\\\n",
    "\t&= \\langle O_i(\\boldsymbol{x}) \\rangle_{data} - \\langle O_i(\\boldsymbol{x}) \\rangle_{model}.\n",
    "\\end{align*}\n",
    "$$"
   ]
  },
  {
   "cell_type": "markdown",
   "id": "085070ff",
   "metadata": {
    "editable": true
   },
   "source": [
    "## Simplifications\n",
    "\n",
    "In order to simplify notation we defined the \"operator\""
   ]
  },
  {
   "cell_type": "markdown",
   "id": "7f8d1909",
   "metadata": {
    "editable": true
   },
   "source": [
    "$$\n",
    "\\begin{align*}\n",
    "\tO_i(\\boldsymbol{x}) = \\frac{\\partial E(\\boldsymbol{x}; \\Theta_i)}{\\partial \\Theta_i}, \n",
    "\\end{align*}\n",
    "$$"
   ]
  },
  {
   "cell_type": "markdown",
   "id": "581f4a83",
   "metadata": {
    "editable": true
   },
   "source": [
    "and used the statistical mechanics relationship between expectation values and the log-partition function:"
   ]
  },
  {
   "cell_type": "markdown",
   "id": "6500cb08",
   "metadata": {
    "editable": true
   },
   "source": [
    "$$\n",
    "\\begin{align*}\n",
    "\t\\langle O_i(\\boldsymbol{x}) \\rangle_{model} = \\text{Tr} P_\\Theta(\\boldsymbol{x})O_i(\\boldsymbol{x}) = - \\frac{\\partial \\text{log} Z(\\{ \\Theta_i\\})}{\\partial \\Theta_i}.\n",
    "\\end{align*}\n",
    "$$"
   ]
  },
  {
   "cell_type": "markdown",
   "id": "6d39df31",
   "metadata": {
    "editable": true
   },
   "source": [
    "## Positive and negative phases\n",
    "As discussed earlier, the data-dependent term in the gradient is known as the positive phase\n",
    "of the gradient, while the model-dependent term is known as the\n",
    "negative phase of the gradient. The aim of the training is to lower\n",
    "the energy of configurations that are near observed data points\n",
    "(increasing their probability), and raising the energy of\n",
    "configurations that are far from observed data points (decreasing\n",
    "their probability)."
   ]
  },
  {
   "cell_type": "markdown",
   "id": "147a480a",
   "metadata": {
    "editable": true
   },
   "source": [
    "## Gradient examples\n",
    "The gradient of the negative log-likelihood cost function of a Binary-Binary RBM is then"
   ]
  },
  {
   "cell_type": "markdown",
   "id": "fa2747b9",
   "metadata": {
    "editable": true
   },
   "source": [
    "$$\n",
    "\\begin{align*}\n",
    "\t\\frac{\\partial \\mathcal{C} (w_{ij}, a_i, b_j)}{\\partial w_{ij}} =& \\langle x_i h_j \\rangle_{data} - \\langle x_i h_j \\rangle_{model} \\\\\n",
    "\t\\frac{\\partial \\mathcal{C} (w_{ij}, a_i, b_j)}{\\partial a_{ij}} =& \\langle x_i \\rangle_{data} - \\langle x_i \\rangle_{model} \\\\\n",
    "\t\\frac{\\partial \\mathcal{C} (w_{ij}, a_i, b_j)}{\\partial b_{ij}} =& \\langle h_i \\rangle_{data} - \\langle h_i \\rangle_{model}. \\\\\n",
    "\\end{align*}\n",
    "$$"
   ]
  },
  {
   "cell_type": "markdown",
   "id": "7afd9316",
   "metadata": {
    "editable": true
   },
   "source": [
    "To get the expectation values with respect to the *data*, we set the visible units to each of the observed samples in the training data, then update the hidden units according to the conditional probability found before. We then average over all samples in the training data to calculate expectation values with respect to the data."
   ]
  },
  {
   "cell_type": "markdown",
   "id": "465d9cc7",
   "metadata": {
    "editable": true
   },
   "source": [
    "## Kullback-Leibler relative entropy\n",
    "\n",
    "When the goal of the training is to approximate a probability\n",
    "distribution, as it is in generative modeling, another relevant\n",
    "measure is the **Kullback-Leibler divergence**, also known as the\n",
    "relative entropy or Shannon entropy. It is a non-symmetric measure of the\n",
    "dissimilarity between two probability density functions $p$ and\n",
    "$q$. If $p$ is the unkown probability which we approximate with $q$,\n",
    "we can measure the difference by"
   ]
  },
  {
   "cell_type": "markdown",
   "id": "87915161",
   "metadata": {
    "editable": true
   },
   "source": [
    "$$\n",
    "\\begin{align*}\n",
    "\t\\text{KL}(p||q) = \\int_{-\\infty}^{\\infty} p (\\boldsymbol{x}) \\log \\frac{p(\\boldsymbol{x})}{q(\\boldsymbol{x})}  d\\boldsymbol{x}.\n",
    "\\end{align*}\n",
    "$$"
   ]
  },
  {
   "cell_type": "markdown",
   "id": "853111d0",
   "metadata": {
    "editable": true
   },
   "source": [
    "## Kullback-Leibler divergence\n",
    "\n",
    "Thus, the Kullback-Leibler divergence between the distribution of the\n",
    "training data $f(\\boldsymbol{x})$ and the model distribution $p(\\boldsymbol{x}|\n",
    "\\boldsymbol{\\Theta})$ is"
   ]
  },
  {
   "cell_type": "markdown",
   "id": "f694ad94",
   "metadata": {
    "editable": true
   },
   "source": [
    "$$\n",
    "\\begin{align*}\n",
    "\t\\text{KL} (f(\\boldsymbol{x})|| p(\\boldsymbol{x}| \\boldsymbol{\\Theta})) =& \\int_{-\\infty}^{\\infty}\n",
    "\tf (\\boldsymbol{x}) \\log \\frac{f(\\boldsymbol{x})}{p(\\boldsymbol{x}| \\boldsymbol{\\Theta})} d\\boldsymbol{x} \\\\\n",
    "\t=& \\int_{-\\infty}^{\\infty} f(\\boldsymbol{x}) \\log f(\\boldsymbol{x}) d\\boldsymbol{x} - \\int_{-\\infty}^{\\infty} f(\\boldsymbol{x}) \\log\n",
    "\tp(\\boldsymbol{x}| \\boldsymbol{\\Theta}) d\\boldsymbol{x} \\\\\n",
    "\t%=& \\mathbb{E}_{f(\\boldsymbol{x})} (\\log f(\\boldsymbol{x})) - \\mathbb{E}_{f(\\boldsymbol{x})} (\\log p(\\boldsymbol{x}| \\boldsymbol{\\Theta}))\n",
    "\t=& \\langle \\log f(\\boldsymbol{x}) \\rangle_{f(\\boldsymbol{x})} - \\langle \\log p(\\boldsymbol{x}| \\boldsymbol{\\Theta}) \\rangle_{f(\\boldsymbol{x})} \\\\\n",
    "\t=& \\langle \\log f(\\boldsymbol{x}) \\rangle_{data} + \\langle E(\\boldsymbol{x}) \\rangle_{data} + \\log Z \\\\\n",
    "\t=& \\langle \\log f(\\boldsymbol{x}) \\rangle_{data} + \\mathcal{C}_{LL} .\n",
    "\\end{align*}\n",
    "$$"
   ]
  },
  {
   "cell_type": "markdown",
   "id": "ef56d195",
   "metadata": {
    "editable": true
   },
   "source": [
    "## Maximizing log-likelihood\n",
    "\n",
    "The first term is constant with respect to $\\boldsymbol{\\Theta}$ since\n",
    "$f(\\boldsymbol{x})$ is independent of $\\boldsymbol{\\Theta}$. Thus the Kullback-Leibler\n",
    "Divergence is minimal when the second term is minimal. The second term\n",
    "is the log-likelihood cost function, hence minimizing the\n",
    "Kullback-Leibler divergence is equivalent to maximizing the\n",
    "log-likelihood.\n",
    "\n",
    "To further understand generative models it is useful to study the\n",
    "gradient of the cost function which is needed in order to minimize it\n",
    "using methods like stochastic gradient descent."
   ]
  },
  {
   "cell_type": "markdown",
   "id": "95d6fef6",
   "metadata": {
    "editable": true
   },
   "source": [
    "## More on the partition function\n",
    "\n",
    "The partition function is the generating function of\n",
    "expectation values, in particular there are mathematical relationships\n",
    "between expectation values and the log-partition function. In this\n",
    "case we have"
   ]
  },
  {
   "cell_type": "markdown",
   "id": "33ae3d0c",
   "metadata": {
    "editable": true
   },
   "source": [
    "$$\n",
    "\\begin{align*}\n",
    "\t\\langle \\frac{ \\partial E(\\boldsymbol{x}; \\Theta_i) } { \\partial \\Theta_i} \\rangle_{model}\n",
    "\t= \\int p(\\boldsymbol{x}| \\boldsymbol{\\Theta}) \\frac{ \\partial E(\\boldsymbol{x}; \\Theta_i) } { \\partial \\Theta_i} d\\boldsymbol{x} \n",
    "\t= -\\frac{\\partial \\log Z(\\Theta_i)}{ \\partial  \\Theta_i} .\n",
    "\\end{align*}\n",
    "$$"
   ]
  },
  {
   "cell_type": "markdown",
   "id": "68483e31",
   "metadata": {
    "editable": true
   },
   "source": [
    "Here $\\langle \\cdot \\rangle_{model}$ is the expectation value over the model probability distribution $p(\\boldsymbol{x}| \\boldsymbol{\\Theta})$."
   ]
  },
  {
   "cell_type": "markdown",
   "id": "9f8f9f84",
   "metadata": {
    "editable": true
   },
   "source": [
    "## Setting up for gradient descent calculations\n",
    "\n",
    "Using the previous relationship we can express the gradient of the cost function as"
   ]
  },
  {
   "cell_type": "markdown",
   "id": "0472c4a5",
   "metadata": {
    "editable": true
   },
   "source": [
    "$$\n",
    "\\begin{align*}\n",
    "\t\\frac{\\partial \\mathcal{C}_{LL}}{\\partial \\Theta_i}\n",
    "\t=& \\langle \\frac{ \\partial E(\\boldsymbol{x}; \\Theta_i) } { \\partial \\Theta_i} \\rangle_{data} + \\frac{\\partial \\log Z(\\Theta_i)}{ \\partial  \\Theta_i} \\\\\n",
    "\t=& \\langle \\frac{ \\partial E(\\boldsymbol{x}; \\Theta_i) } { \\partial \\Theta_i} \\rangle_{data} - \\langle \\frac{ \\partial E(\\boldsymbol{x}; \\Theta_i) } { \\partial \\Theta_i} \\rangle_{model} \\\\\n",
    "\t%=& \\langle O_i(\\boldsymbol{x}) \\rangle_{data} - \\langle O_i(\\boldsymbol{x}) \\rangle_{model}\n",
    "\\end{align*}\n",
    "$$"
   ]
  },
  {
   "cell_type": "markdown",
   "id": "96f63a40",
   "metadata": {
    "editable": true
   },
   "source": [
    "## Difference of moments\n",
    "\n",
    "This expression shows that the gradient of the log-likelihood cost\n",
    "function is a **difference of moments**, with one calculated from\n",
    "the data and one calculated from the model. The data-dependent term is\n",
    "called the **positive phase** and the model-dependent term is\n",
    "called the **negative phase** of the gradient. We see now that\n",
    "minimizing the cost function results in lowering the energy of\n",
    "configurations $\\boldsymbol{x}$ near points in the training data and\n",
    "increasing the energy of configurations not observed in the training\n",
    "data. That means we increase the model's probability of configurations\n",
    "similar to those in the training data."
   ]
  },
  {
   "cell_type": "markdown",
   "id": "d4133cb6",
   "metadata": {
    "editable": true
   },
   "source": [
    "## More observations\n",
    "\n",
    "The gradient of the cost function also demonstrates why gradients of\n",
    "unsupervised, generative models must be computed differently from for\n",
    "those of for example FNNs. While the data-dependent expectation value\n",
    "is easily calculated based on the samples $\\boldsymbol{x}_i$ in the training\n",
    "data, we must sample from the model in order to generate samples from\n",
    "which to caclulate the model-dependent term. We sample from the model\n",
    "by using MCMC-based methods. We can not sample from the model directly\n",
    "because the partition function $Z$ is generally intractable."
   ]
  },
  {
   "cell_type": "markdown",
   "id": "d05d18c2",
   "metadata": {
    "editable": true
   },
   "source": [
    "## Adding hyperparameters\n",
    "\n",
    "As in supervised machine learning problems, the goal is also here to\n",
    "perform well on **unseen** data, that is to have good\n",
    "generalization from the training data. The distribution $f(x)$ we\n",
    "approximate is not the **true** distribution we wish to estimate,\n",
    "it is limited to the training data. Hence, in unsupervised training as\n",
    "well it is important to prevent overfitting to the training data. Thus\n",
    "it is common to add regularizers to the cost function in the same\n",
    "manner as we discussed for say linear regression."
   ]
  },
  {
   "cell_type": "markdown",
   "id": "825c163d",
   "metadata": {
    "editable": true
   },
   "source": [
    "## Mathematical details\n",
    "\n",
    "Because we are restricted to potential functions which are positive it\n",
    "is convenient to express them as exponentials.\n",
    "\n",
    "The original RBM had binary visible and hidden nodes. They were\n",
    "showned to be universal approximators of discrete distributions.\n",
    "It was also shown that adding hidden units yields\n",
    "strictly improved modelling power."
   ]
  },
  {
   "cell_type": "markdown",
   "id": "28908fe8",
   "metadata": {
    "editable": true
   },
   "source": [
    "## Binary-binary (BB) RBMs\n",
    "\n",
    "The common choice of binary values\n",
    "are 0 and 1. However, in some physics applications, -1 and 1 might be\n",
    "a more natural choice. We will here use 0 and 1. We habe the energy function"
   ]
  },
  {
   "cell_type": "markdown",
   "id": "b47540fe",
   "metadata": {
    "editable": true
   },
   "source": [
    "$$\n",
    "\\begin{align*}\n",
    "\tE_{BB}(\\boldsymbol{x}, \\boldsymbol{h},\\boldsymbol{\\Theta}) = - \\sum_i^M x_i a_i- \\sum_j^N b_j h_j - \\sum_{i,j}^{M,N} x_i w_{ij} h_j.\n",
    "\\end{align*}\n",
    "$$"
   ]
  },
  {
   "cell_type": "markdown",
   "id": "db438985",
   "metadata": {
    "editable": true
   },
   "source": [
    "## Marginal probability\n",
    "\n",
    "We have the binary-binary marginal probability defined as"
   ]
  },
  {
   "cell_type": "markdown",
   "id": "40db1070",
   "metadata": {
    "editable": true
   },
   "source": [
    "$$\n",
    "\\begin{align*}\n",
    "\tp_{BB}(\\boldsymbol{x}, \\boldsymbol{h},\\boldsymbol{\\Theta}) =& \\frac{1}{Z_{BB}(\\boldsymbol{\\Theta})} e^{\\sum_i^M a_i x_i + \\sum_j^N b_j h_j + \\sum_{ij}^{M,N} x_i w_{ij} h_j} \\\\\n",
    "\t=& \\frac{1}{Z_{BB}(\\boldsymbol{\\Theta})} e^{\\boldsymbol{a}^T \\boldsymbol{x} + \\boldsymbol{b}^T \\boldsymbol{h} + \\boldsymbol{x}^T \\boldsymbol{W} \\boldsymbol{h}}\n",
    "\\end{align*}\n",
    "$$"
   ]
  },
  {
   "cell_type": "markdown",
   "id": "bdc858b1",
   "metadata": {
    "editable": true
   },
   "source": [
    "with the partition function"
   ]
  },
  {
   "cell_type": "markdown",
   "id": "803f4f8f",
   "metadata": {
    "editable": true
   },
   "source": [
    "$$\n",
    "\\begin{align*}\n",
    "\tZ_{BB}(\\boldsymbol{\\Theta}) = \\sum_{\\boldsymbol{x}, \\boldsymbol{h}} e^{\\boldsymbol{a}^T \\boldsymbol{x} + \\boldsymbol{b}^T \\boldsymbol{h} + \\boldsymbol{x}^T \\boldsymbol{W} \\boldsymbol{h}} .\n",
    "\\end{align*}\n",
    "$$"
   ]
  },
  {
   "cell_type": "markdown",
   "id": "503fe750",
   "metadata": {
    "editable": true
   },
   "source": [
    "## Marginal Probability Density Function for the visible units\n",
    "\n",
    "In order to find the probability of any configuration of the visible units we derive the marginal probability density function."
   ]
  },
  {
   "cell_type": "markdown",
   "id": "9668b5e0",
   "metadata": {
    "editable": true
   },
   "source": [
    "$$\n",
    "\\begin{align*}\n",
    "\tp_{BB} (\\boldsymbol{x},\\boldsymbol{\\Theta}) =& \\sum_{\\boldsymbol{h}} p_{BB} (\\boldsymbol{x}, \\boldsymbol{h},\\boldsymbol{\\Theta}) \\\\\n",
    "\t=& \\frac{1}{Z_{BB}} \\sum_{\\boldsymbol{h}} e^{\\boldsymbol{a}^T \\boldsymbol{x} + \\boldsymbol{b}^T \\boldsymbol{h} + \\boldsymbol{x}^T \\boldsymbol{W} \\boldsymbol{h}} \\nonumber \\\\\n",
    "\t=& \\frac{1}{Z_{BB}} e^{\\boldsymbol{a}^T \\boldsymbol{x}} \\sum_{\\boldsymbol{h}} e^{\\sum_j^N (b_j + \\boldsymbol{x}^T \\boldsymbol{w}_{\\ast j})h_j} \\nonumber \\\\\n",
    "\t=& \\frac{1}{Z_{BB}} e^{\\boldsymbol{a}^T \\boldsymbol{x}} \\sum_{\\boldsymbol{h}} \\prod_j^N e^{ (b_j + \\boldsymbol{x}^T \\boldsymbol{w}_{\\ast j})h_j} \\nonumber \\\\\n",
    "\t=& \\frac{1}{Z_{BB}} e^{\\boldsymbol{a}^T \\boldsymbol{x}} \\bigg ( \\sum_{h_1} e^{(b_1 + \\boldsymbol{x}^T \\boldsymbol{w}_{\\ast 1})h_1}\n",
    "\t\\times \\sum_{h_2} e^{(b_2 + \\boldsymbol{x}^T \\boldsymbol{w}_{\\ast 2})h_2} \\times \\nonumber \\\\\n",
    "\t& ... \\times \\sum_{h_2} e^{(b_N + \\boldsymbol{x}^T \\boldsymbol{w}_{\\ast N})h_N} \\bigg ) \\nonumber \\\\\n",
    "\t=& \\frac{1}{Z_{BB}} e^{\\boldsymbol{a}^T \\boldsymbol{x}} \\prod_j^N \\sum_{h_j} e^{(b_j + \\boldsymbol{x}^T \\boldsymbol{w}_{\\ast j}) h_j} \\nonumber \\\\\n",
    "\t=& \\frac{1}{Z_{BB}} e^{\\boldsymbol{a}^T \\boldsymbol{x}} \\prod_j^N (1 + e^{b_j + \\boldsymbol{x}^T \\boldsymbol{w}_{\\ast j}}) .\n",
    "\\end{align*}\n",
    "$$"
   ]
  },
  {
   "cell_type": "markdown",
   "id": "c90de93c",
   "metadata": {
    "editable": true
   },
   "source": [
    "## Marginal probability for hidden units\n",
    "\n",
    "A similar derivation yields the marginal probability of the hidden units"
   ]
  },
  {
   "cell_type": "markdown",
   "id": "daa8e506",
   "metadata": {
    "editable": true
   },
   "source": [
    "$$\n",
    "\\begin{align*}\n",
    "\tp_{BB} (\\boldsymbol{h},\\boldsymbol{\\Theta}) = \\frac{1}{Z_{BB}(\\boldsymbol{\\Theta})} e^{\\boldsymbol{b}^T \\boldsymbol{h}} \\prod_i^M (1 + e^{a_i + \\boldsymbol{w}_{i\\ast}^T \\boldsymbol{h}}) .\n",
    "\\end{align*}\n",
    "$$"
   ]
  },
  {
   "cell_type": "markdown",
   "id": "75393422",
   "metadata": {
    "editable": true
   },
   "source": [
    "## Conditional Probability Density Functions\n",
    "\n",
    "We derive the probability of the hidden units given the visible units using Bayes' rule\n",
    "(we drop the explicit $\\boldsymbol{\\Theta}$ dependence)"
   ]
  },
  {
   "cell_type": "markdown",
   "id": "6ed1cb56",
   "metadata": {
    "editable": true
   },
   "source": [
    "$$\n",
    "\\begin{align*}\n",
    "\tp_{BB} (\\boldsymbol{h}|\\boldsymbol{x}) =& \\frac{p_{BB} (\\boldsymbol{x}, \\boldsymbol{h})}{p_{BB} (\\boldsymbol{x})} \\nonumber \\\\\n",
    "\t=& \\frac{ \\frac{1}{Z_{BB}}  e^{\\boldsymbol{a}^T \\boldsymbol{x} + \\boldsymbol{b}^T \\boldsymbol{h} + \\boldsymbol{x}^T \\boldsymbol{W} \\boldsymbol{h}} }\n",
    "\t        {\\frac{1}{Z_{BB}} e^{\\boldsymbol{a}^T \\boldsymbol{x}} \\prod_j^N (1 + e^{b_j + \\boldsymbol{x}^T \\boldsymbol{w}_{\\ast j}})} \\nonumber \\\\\n",
    "\t=& \\frac{  e^{\\boldsymbol{a}^T \\boldsymbol{x}} e^{ \\sum_j^N (b_j + \\boldsymbol{x}^T \\boldsymbol{w}_{\\ast j} ) h_j} }\n",
    "\t        { e^{\\boldsymbol{a}^T \\boldsymbol{x}} \\prod_j^N (1 + e^{b_j + \\boldsymbol{x}^T \\boldsymbol{w}_{\\ast j}})} \\nonumber \\\\\n",
    "\t=& \\prod_j^N \\frac{ e^{(b_j + \\boldsymbol{x}^T \\boldsymbol{w}_{\\ast j} ) h_j}  }\n",
    "\t{1 + e^{b_j + \\boldsymbol{x}^T \\boldsymbol{w}_{\\ast j}}} \\nonumber \\\\\n",
    "\t=& \\prod_j^N p_{BB} (h_j| \\boldsymbol{x}) .\n",
    "\\end{align*}\n",
    "$$"
   ]
  },
  {
   "cell_type": "markdown",
   "id": "5c92d3c4",
   "metadata": {
    "editable": true
   },
   "source": [
    "## On and off probabilities\n",
    "\n",
    "From this we find the probability of a hidden unit being \"on\" or \"off\":"
   ]
  },
  {
   "cell_type": "markdown",
   "id": "7c153ada",
   "metadata": {
    "editable": true
   },
   "source": [
    "$$\n",
    "\\begin{align*}\n",
    "\tp_{BB} (h_j=1 | \\boldsymbol{x}) =&   \\frac{ e^{(b_j + \\boldsymbol{x}^T \\boldsymbol{w}_{\\ast j} ) h_j}  }\n",
    "\t{1 + e^{b_j + \\boldsymbol{x}^T \\boldsymbol{w}_{\\ast j}}} \\\\\n",
    "\t=&  \\frac{ e^{(b_j + \\boldsymbol{x}^T \\boldsymbol{w}_{\\ast j} )}  }\n",
    "\t{1 + e^{b_j + \\boldsymbol{x}^T \\boldsymbol{w}_{\\ast j}}} \\\\\n",
    "\t=&  \\frac{ 1 }{1 + e^{-(b_j + \\boldsymbol{x}^T \\boldsymbol{w}_{\\ast j})} } ,\n",
    "\\end{align*}\n",
    "$$"
   ]
  },
  {
   "cell_type": "markdown",
   "id": "48a226d5",
   "metadata": {
    "editable": true
   },
   "source": [
    "and"
   ]
  },
  {
   "cell_type": "markdown",
   "id": "fb46eee0",
   "metadata": {
    "editable": true
   },
   "source": [
    "$$\n",
    "\\begin{align*}\n",
    "\tp_{BB} (h_j=0 | \\boldsymbol{x}) =\\frac{ 1 }{1 + e^{b_j + \\boldsymbol{x}^T \\boldsymbol{w}_{\\ast j}} } .\n",
    "\\end{align*}\n",
    "$$"
   ]
  },
  {
   "cell_type": "markdown",
   "id": "b4001023",
   "metadata": {
    "editable": true
   },
   "source": [
    "## Conditional probability for visible units\n",
    "\n",
    "Similarly we have that the conditional probability of the visible units given the hidden are"
   ]
  },
  {
   "cell_type": "markdown",
   "id": "9906b424",
   "metadata": {
    "editable": true
   },
   "source": [
    "$$\n",
    "\\begin{align*}\n",
    "\tp_{BB} (\\boldsymbol{x}|\\boldsymbol{h}) =& \\prod_i^M \\frac{ e^{ (a_i + \\boldsymbol{w}_{i\\ast}^T \\boldsymbol{h}) x_i} }{ 1 + e^{a_i + \\boldsymbol{w}_{i\\ast}^T \\boldsymbol{h}} } \\\\\n",
    "\t&= \\prod_i^M p_{BB} (x_i | \\boldsymbol{h}) .\n",
    "\\end{align*}\n",
    "$$"
   ]
  },
  {
   "cell_type": "markdown",
   "id": "3c722f19",
   "metadata": {
    "editable": true
   },
   "source": [
    "We have"
   ]
  },
  {
   "cell_type": "markdown",
   "id": "f2571b68",
   "metadata": {
    "editable": true
   },
   "source": [
    "$$\n",
    "\\begin{align*}\n",
    "\tp_{BB} (x_i=1 | \\boldsymbol{h}) =& \\frac{1}{1 + e^{-(a_i + \\boldsymbol{w}_{i\\ast}^T \\boldsymbol{h} )}} \\\\\n",
    "\tp_{BB} (x_i=0 | \\boldsymbol{h}) =& \\frac{1}{1 + e^{a_i + \\boldsymbol{w}_{i\\ast}^T \\boldsymbol{h} }} .\n",
    "\\end{align*}\n",
    "$$"
   ]
  },
  {
   "cell_type": "markdown",
   "id": "fd9ff962",
   "metadata": {
    "editable": true
   },
   "source": [
    "## Gaussian-Binary Restricted Boltzmann Machines\n",
    "\n",
    "Inserting into the expression for $E_{RBM}(\\boldsymbol{x},\\boldsymbol{h},\\boldsymbol{\\Theta})$ in equation  results in the energy"
   ]
  },
  {
   "cell_type": "markdown",
   "id": "484c2114",
   "metadata": {
    "editable": true
   },
   "source": [
    "$$\n",
    "\\begin{align*}\n",
    "\tE_{GB}(\\boldsymbol{x}, \\boldsymbol{h},\\boldsymbol{\\Theta}) =& \\sum_i^M \\frac{(x_i - a_i)^2}{2\\sigma_i^2}\n",
    "\t- \\sum_j^N b_j h_j \n",
    "\t-\\sum_{ij}^{M,N} \\frac{x_i w_{ij} h_j}{\\sigma_i^2} \\nonumber \\\\\n",
    "\t=& \\vert\\vert\\frac{\\boldsymbol{x} -\\boldsymbol{a}}{2\\boldsymbol{\\sigma}}\\vert\\vert^2 - \\boldsymbol{b}^T \\boldsymbol{h} \n",
    "\t- (\\frac{\\boldsymbol{x}}{\\boldsymbol{\\sigma}^2})^T \\boldsymbol{W}\\boldsymbol{h} . \n",
    "\\end{align*}\n",
    "$$"
   ]
  },
  {
   "cell_type": "markdown",
   "id": "53fed444",
   "metadata": {
    "editable": true
   },
   "source": [
    "## Joint Probability Density Function"
   ]
  },
  {
   "cell_type": "markdown",
   "id": "44f75bbf",
   "metadata": {
    "editable": true
   },
   "source": [
    "$$\n",
    "\\begin{align*}\n",
    "\tp_{GB} (\\boldsymbol{x}, \\boldsymbol{h},\\boldsymbol{\\Theta}) =& \\frac{1}{Z_{GB}} e^{-\\vert\\vert\\frac{\\boldsymbol{x} -\\boldsymbol{a}}{2\\boldsymbol{\\sigma}}\\vert\\vert^2 + \\boldsymbol{b}^T \\boldsymbol{h} \n",
    "\t+ (\\frac{\\boldsymbol{x}}{\\boldsymbol{\\sigma}^2})^T \\boldsymbol{W}\\boldsymbol{h}} \\nonumber \\\\\n",
    "\t=& \\frac{1}{Z_{GB}} e^{- \\sum_i^M \\frac{(x_i - a_i)^2}{2\\sigma_i^2}\n",
    "\t+ \\sum_j^N b_j h_j \n",
    "\t+\\sum_{ij}^{M,N} \\frac{x_i w_{ij} h_j}{\\sigma_i^2}} \\nonumber \\\\\n",
    "\t=& \\frac{1}{Z_{GB}} \\prod_{ij}^{M,N} e^{-\\frac{(x_i - a_i)^2}{2\\sigma_i^2}\n",
    "\t+ b_j h_j \n",
    "\t+\\frac{x_i w_{ij} h_j}{\\sigma_i^2}}.\n",
    "\\end{align*}\n",
    "$$"
   ]
  },
  {
   "cell_type": "markdown",
   "id": "525c49a7",
   "metadata": {
    "editable": true
   },
   "source": [
    "## Partition function\n",
    "\n",
    "The partition function is given by"
   ]
  },
  {
   "cell_type": "markdown",
   "id": "f29386b7",
   "metadata": {
    "editable": true
   },
   "source": [
    "$$\n",
    "\\begin{align*}\n",
    "\tZ_{GB} =& \\int \\sum_{\\tilde{\\boldsymbol{h}}}^{\\tilde{\\boldsymbol{H}}} e^{-\\vert\\vert\\frac{\\tilde{\\boldsymbol{x}} -\\boldsymbol{a}}{2\\boldsymbol{\\sigma}}\\vert\\vert^2 + \\boldsymbol{b}^T \\tilde{\\boldsymbol{h}} \n",
    "\t+ (\\frac{\\tilde{\\boldsymbol{x}}}{\\boldsymbol{\\sigma}^2})^T \\boldsymbol{W}\\tilde{\\boldsymbol{h}}} d\\tilde{\\boldsymbol{x}} .\n",
    "\\end{align*}\n",
    "$$"
   ]
  },
  {
   "cell_type": "markdown",
   "id": "0af57a30",
   "metadata": {
    "editable": true
   },
   "source": [
    "## Marginal Probability Density Functions\n",
    "\n",
    "We proceed to find the marginal probability densitites of the\n",
    "Gaussian-binary RBM. We first marginalize over the binary hidden units\n",
    "to find $p_{GB} (\\boldsymbol{x})$"
   ]
  },
  {
   "cell_type": "markdown",
   "id": "c3cb47fd",
   "metadata": {
    "editable": true
   },
   "source": [
    "$$\n",
    "\\begin{align*}\n",
    "\tp_{GB} (\\boldsymbol{x}) =& \\sum_{\\tilde{\\boldsymbol{h}}}^{\\tilde{\\boldsymbol{H}}} p_{GB} (\\boldsymbol{x}, \\tilde{\\boldsymbol{h}}) \\nonumber \\\\\n",
    "\t=& \\frac{1}{Z_{GB}} \\sum_{\\tilde{\\boldsymbol{h}}}^{\\tilde{\\boldsymbol{H}}} \n",
    "\te^{-\\vert\\vert\\frac{\\boldsymbol{x} -\\boldsymbol{a}}{2\\boldsymbol{\\sigma}}\\vert\\vert^2 + \\boldsymbol{b}^T \\tilde{\\boldsymbol{h}} \n",
    "\t+ (\\frac{\\boldsymbol{x}}{\\boldsymbol{\\sigma}^2})^T \\boldsymbol{W}\\tilde{\\boldsymbol{h}}} \\nonumber \\\\\n",
    "\t=& \\frac{1}{Z_{GB}} e^{-\\vert\\vert\\frac{\\boldsymbol{x} -\\boldsymbol{a}}{2\\boldsymbol{\\sigma}}\\vert\\vert^2}\n",
    "\t\\prod_j^N (1 + e^{b_j + (\\frac{\\boldsymbol{x}}{\\boldsymbol{\\sigma}^2})^T \\boldsymbol{w}_{\\ast j}} ) .\n",
    "\\end{align*}\n",
    "$$"
   ]
  },
  {
   "cell_type": "markdown",
   "id": "9c4d97d9",
   "metadata": {
    "editable": true
   },
   "source": [
    "## Then the visible units\n",
    "We next marginalize over the visible units. This is the first time we\n",
    "marginalize over continuous values. We rewrite the exponential factor\n",
    "dependent on $\\boldsymbol{x}$ as a Gaussian function before we integrate in\n",
    "the last step."
   ]
  },
  {
   "cell_type": "markdown",
   "id": "329fd76b",
   "metadata": {
    "editable": true
   },
   "source": [
    "$$\n",
    "\\begin{align*}\n",
    "\tp_{GB} (\\boldsymbol{h}) =& \\int p_{GB} (\\tilde{\\boldsymbol{x}}, \\boldsymbol{h}) d\\tilde{\\boldsymbol{x}} \\nonumber \\\\\n",
    "\t=& \\frac{1}{Z_{GB}} \\int e^{-\\vert\\vert\\frac{\\tilde{\\boldsymbol{x}} -\\boldsymbol{a}}{2\\boldsymbol{\\sigma}}\\vert\\vert^2 + \\boldsymbol{b}^T \\boldsymbol{h} \n",
    "\t+ (\\frac{\\tilde{\\boldsymbol{x}}}{\\boldsymbol{\\sigma}^2})^T \\boldsymbol{W}\\boldsymbol{h}} d\\tilde{\\boldsymbol{x}} \\nonumber \\\\\n",
    "\t=& \\frac{1}{Z_{GB}} e^{\\boldsymbol{b}^T \\boldsymbol{h} } \\int \\prod_i^M\n",
    "\te^{- \\frac{(\\tilde{x}_i - a_i)^2}{2\\sigma_i^2} + \\frac{\\tilde{x}_i \\boldsymbol{w}_{i\\ast}^T \\boldsymbol{h}}{\\sigma_i^2} } d\\tilde{\\boldsymbol{x}} \\nonumber \\\\\n",
    "\t=& \\frac{1}{Z_{GB}} e^{\\boldsymbol{b}^T \\boldsymbol{h} }\n",
    "\t\\biggl( \\int e^{- \\frac{(\\tilde{x}_1 - a_1)^2}{2\\sigma_1^2} + \\frac{\\tilde{x}_1 \\boldsymbol{w}_{1\\ast}^T \\boldsymbol{h}}{\\sigma_1^2} } d\\tilde{x}_1 \\nonumber \\\\\n",
    "\t& \\times \\int e^{- \\frac{(\\tilde{x}_2 - a_2)^2}{2\\sigma_2^2} + \\frac{\\tilde{x}_2 \\boldsymbol{w}_{2\\ast}^T \\boldsymbol{h}}{\\sigma_2^2} } d\\tilde{x}_2 \\nonumber \\\\\n",
    "\t& \\times ... \\nonumber \\\\\n",
    "\t&\\times \\int e^{- \\frac{(\\tilde{x}_M - a_M)^2}{2\\sigma_M^2} + \\frac{\\tilde{x}_M \\boldsymbol{w}_{M\\ast}^T \\boldsymbol{h}}{\\sigma_M^2} } d\\tilde{x}_M \\biggr) \\nonumber \\\\\n",
    "\t=& \\frac{1}{Z_{GB}} e^{\\boldsymbol{b}^T \\boldsymbol{h}} \\prod_i^M\n",
    "\t\\int e^{- \\frac{(\\tilde{x}_i - a_i)^2 - 2\\tilde{x}_i \\boldsymbol{w}_{i\\ast}^T \\boldsymbol{h}}{2\\sigma_i^2} } d\\tilde{x}_i \\nonumber \\\\\n",
    "\t=& \\frac{1}{Z_{GB}} e^{\\boldsymbol{b}^T \\boldsymbol{h}} \\prod_i^M\n",
    "\t\\int e^{- \\frac{\\tilde{x}_i^2 - 2\\tilde{x}_i(a_i + \\tilde{x}_i \\boldsymbol{w}_{i\\ast}^T \\boldsymbol{h}) + a_i^2}{2\\sigma_i^2} } d\\tilde{x}_i \\nonumber \\\\\n",
    "\t=& \\frac{1}{Z_{GB}} e^{\\boldsymbol{b}^T \\boldsymbol{h}} \\prod_i^M\n",
    "\t\\int e^{- \\frac{\\tilde{x}_i^2 - 2\\tilde{x}_i(a_i + \\boldsymbol{w}_{i\\ast}^T \\boldsymbol{h}) + (a_i + \\boldsymbol{w}_{i\\ast}^T \\boldsymbol{h})^2 - (a_i + \\boldsymbol{w}_{i\\ast}^T \\boldsymbol{h})^2 + a_i^2}{2\\sigma_i^2} } d\\tilde{x}_i \\nonumber \\\\\n",
    "\t=& \\frac{1}{Z_{GB}} e^{\\boldsymbol{b}^T \\boldsymbol{h}} \\prod_i^M\n",
    "\t\\int e^{- \\frac{(\\tilde{x}_i - (a_i + \\boldsymbol{w}_{i\\ast}^T \\boldsymbol{h}))^2 - a_i^2 -2a_i \\boldsymbol{w}_{i\\ast}^T \\boldsymbol{h} - (\\boldsymbol{w}_{i\\ast}^T \\boldsymbol{h})^2 + a_i^2}{2\\sigma_i^2} } d\\tilde{x}_i \\nonumber \\\\\n",
    "\t=& \\frac{1}{Z_{GB}} e^{\\boldsymbol{b}^T \\boldsymbol{h}} \\prod_i^M\n",
    "\te^{\\frac{2a_i \\boldsymbol{w}_{i\\ast}^T \\boldsymbol{h} +(\\boldsymbol{w}_{i\\ast}^T \\boldsymbol{h})^2 }{2\\sigma_i^2}}\n",
    "\t\\int e^{- \\frac{(\\tilde{x}_i - a_i - \\boldsymbol{w}_{i\\ast}^T \\boldsymbol{h})^2}{2\\sigma_i^2}}\n",
    "\td\\tilde{x}_i \\nonumber \\\\\n",
    "\t=& \\frac{1}{Z_{GB}} e^{\\boldsymbol{b}^T \\boldsymbol{h}} \\prod_i^M\n",
    "\t\\sqrt{2\\pi \\sigma_i^2}\n",
    "\te^{\\frac{2a_i \\boldsymbol{w}_{i\\ast}^T \\boldsymbol{h} +(\\boldsymbol{w}_{i\\ast}^T \\boldsymbol{h})^2 }{2\\sigma_i^2}} .\n",
    "\\end{align*}\n",
    "$$"
   ]
  },
  {
   "cell_type": "markdown",
   "id": "608e21b7",
   "metadata": {
    "editable": true
   },
   "source": [
    "## Conditional Probability Density Functions\n",
    "\n",
    "We finish by deriving the conditional probabilities."
   ]
  },
  {
   "cell_type": "markdown",
   "id": "5c6b9ee6",
   "metadata": {
    "editable": true
   },
   "source": [
    "$$\n",
    "\\begin{align*}\n",
    "\tp_{GB} (\\boldsymbol{h}| \\boldsymbol{x}) =& \\frac{p_{GB} (\\boldsymbol{x}, \\boldsymbol{h})}{p_{GB} (\\boldsymbol{x})} \\nonumber \\\\\n",
    "\t=& \\frac{\\frac{1}{Z_{GB}} e^{-\\vert\\vert\\frac{\\boldsymbol{x} -\\boldsymbol{a}}{2\\boldsymbol{\\sigma}}\\vert\\vert^2 + \\boldsymbol{b}^T \\boldsymbol{h} \n",
    "\t+ (\\frac{\\boldsymbol{x}}{\\boldsymbol{\\sigma}^2})^T \\boldsymbol{W}\\boldsymbol{h}}}\n",
    "\t{\\frac{1}{Z_{GB}} e^{-\\vert\\vert\\frac{\\boldsymbol{x} -\\boldsymbol{a}}{2\\boldsymbol{\\sigma}}\\vert\\vert^2}\n",
    "\t\\prod_j^N (1 + e^{b_j + (\\frac{\\boldsymbol{x}}{\\boldsymbol{\\sigma}^2})^T \\boldsymbol{w}_{\\ast j}} ) }\n",
    "\t\\nonumber \\\\\n",
    "\t=& \\prod_j^N \\frac{e^{(b_j + (\\frac{\\boldsymbol{x}}{\\boldsymbol{\\sigma}^2})^T \\boldsymbol{w}_{\\ast j})h_j } }\n",
    "\t{1 + e^{b_j + (\\frac{\\boldsymbol{x}}{\\boldsymbol{\\sigma}^2})^T \\boldsymbol{w}_{\\ast j}}} \\nonumber \\\\\n",
    "\t=& \\prod_j^N p_{GB} (h_j|\\boldsymbol{x}).\n",
    "\\end{align*}\n",
    "$$"
   ]
  },
  {
   "cell_type": "markdown",
   "id": "def97878",
   "metadata": {
    "editable": true
   },
   "source": [
    "## Hidden units\n",
    "\n",
    "The conditional probability of a binary hidden unit $h_j$ being on or off again takes the form of a sigmoid function"
   ]
  },
  {
   "cell_type": "markdown",
   "id": "c6a50820",
   "metadata": {
    "editable": true
   },
   "source": [
    "$$\n",
    "\\begin{align*}\n",
    "\tp_{GB} (h_j =1 | \\boldsymbol{x}) =& \\frac{e^{b_j + (\\frac{\\boldsymbol{x}}{\\boldsymbol{\\sigma}^2})^T \\boldsymbol{w}_{\\ast j} } }\n",
    "\t{1 + e^{b_j + (\\frac{\\boldsymbol{x}}{\\boldsymbol{\\sigma}^2})^T \\boldsymbol{w}_{\\ast j}}} \\nonumber \\\\\n",
    "\t=& \\frac{1}{1 + e^{-b_j - (\\frac{\\boldsymbol{x}}{\\boldsymbol{\\sigma}^2})^T \\boldsymbol{w}_{\\ast j}}} \\\\\n",
    "\tp_{GB} (h_j =0 | \\boldsymbol{x}) =&\n",
    "\t\\frac{1}{1 + e^{b_j +(\\frac{\\boldsymbol{x}}{\\boldsymbol{\\sigma}^2})^T \\boldsymbol{w}_{\\ast j}}} .\n",
    "\\end{align*}\n",
    "$$"
   ]
  },
  {
   "cell_type": "markdown",
   "id": "0c464ec4",
   "metadata": {
    "editable": true
   },
   "source": [
    "## Visible units\n",
    "\n",
    "The conditional probability of the continuous $\\boldsymbol{x}$ now has another form, however."
   ]
  },
  {
   "cell_type": "markdown",
   "id": "a5a2d7e0",
   "metadata": {
    "editable": true
   },
   "source": [
    "$$\n",
    "\\begin{align*}\n",
    "\tp_{GB} (\\boldsymbol{x}|\\boldsymbol{h})\n",
    "\t=& \\frac{p_{GB} (\\boldsymbol{x}, \\boldsymbol{h})}{p_{GB} (\\boldsymbol{h})} \\nonumber \\\\\n",
    "\t=& \\frac{\\frac{1}{Z_{GB}} e^{-\\vert\\vert\\frac{\\boldsymbol{x} -\\boldsymbol{a}}{2\\boldsymbol{\\sigma}}\\vert\\vert^2 + \\boldsymbol{b}^T \\boldsymbol{h} \n",
    "\t+ (\\frac{\\boldsymbol{x}}{\\boldsymbol{\\sigma}^2})^T \\boldsymbol{W}\\boldsymbol{h}}}\n",
    "\t{\\frac{1}{Z_{GB}} e^{\\boldsymbol{b}^T \\boldsymbol{h}} \\prod_i^M\n",
    "\t\\sqrt{2\\pi \\sigma_i^2}\n",
    "\te^{\\frac{2a_i \\boldsymbol{w}_{i\\ast}^T \\boldsymbol{h} +(\\boldsymbol{w}_{i\\ast}^T \\boldsymbol{h})^2 }{2\\sigma_i^2}}}\n",
    "\t\\nonumber \\\\\n",
    "\t=& \\prod_i^M \\frac{1}{\\sqrt{2\\pi \\sigma_i^2}}\n",
    "\t\\frac{e^{- \\frac{(x_i - a_i)^2}{2\\sigma_i^2} + \\frac{x_i \\boldsymbol{w}_{i\\ast}^T \\boldsymbol{h}}{2\\sigma_i^2} }}\n",
    "\t{e^{\\frac{2a_i \\boldsymbol{w}_{i\\ast}^T \\boldsymbol{h} +(\\boldsymbol{w}_{i\\ast}^T \\boldsymbol{h})^2 }{2\\sigma_i^2}}}\n",
    "\t\\nonumber \\\\\n",
    "\t=& \\prod_i^M \\frac{1}{\\sqrt{2\\pi \\sigma_i^2}}\n",
    "\t\\frac{e^{-\\frac{x_i^2 - 2a_i x_i + a_i^2 - 2x_i \\boldsymbol{w}_{i\\ast}^T\\boldsymbol{h} }{2\\sigma_i^2} } }\n",
    "\t{e^{\\frac{2a_i \\boldsymbol{w}_{i\\ast}^T \\boldsymbol{h} +(\\boldsymbol{w}_{i\\ast}^T \\boldsymbol{h})^2 }{2\\sigma_i^2}}}\n",
    "\t\\nonumber \\\\\n",
    "\t=& \\prod_i^M \\frac{1}{\\sqrt{2\\pi \\sigma_i^2}}\n",
    "\te^{- \\frac{x_i^2 - 2a_i x_i + a_i^2 - 2x_i \\boldsymbol{w}_{i\\ast}^T\\boldsymbol{h}\n",
    "\t+ 2a_i \\boldsymbol{w}_{i\\ast}^T \\boldsymbol{h} +(\\boldsymbol{w}_{i\\ast}^T \\boldsymbol{h})^2}\n",
    "\t{2\\sigma_i^2} }\n",
    "\t\\nonumber \\\\\n",
    "\t=& \\prod_i^M \\frac{1}{\\sqrt{2\\pi \\sigma_i^2}}\n",
    "\te^{ - \\frac{(x_i - b_i - \\boldsymbol{w}_{i\\ast}^T \\boldsymbol{h})^2}{2\\sigma_i^2}} \\nonumber \\\\\n",
    "\t=& \\prod_i^M \\mathcal{N}\n",
    "\t(x_i | b_i + \\boldsymbol{w}_{i\\ast}^T \\boldsymbol{h}, \\sigma_i^2) \\\\\n",
    "\t\\Rightarrow p_{GB} (x_i|\\boldsymbol{h}) =& \\mathcal{N}\n",
    "\t(x_i | b_i + \\boldsymbol{w}_{i\\ast}^T \\boldsymbol{h}, \\sigma_i^2) .\n",
    "\\end{align*}\n",
    "$$"
   ]
  },
  {
   "cell_type": "markdown",
   "id": "07941808",
   "metadata": {
    "editable": true
   },
   "source": [
    "## Comments\n",
    "\n",
    "The form of these conditional probabilities explains the name\n",
    "\"Gaussian\" and the form of the Gaussian-binary energy function. We see\n",
    "that the conditional probability of $x_i$ given $\\boldsymbol{h}$ is a normal\n",
    "distribution with mean $b_i + \\boldsymbol{w}_{i\\ast}^T \\boldsymbol{h}$ and variance\n",
    "$\\sigma_i^2$."
   ]
  },
  {
   "cell_type": "markdown",
   "id": "84984199",
   "metadata": {
    "editable": true
   },
   "source": [
    "## Binary-binary RBM"
   ]
  },
  {
   "cell_type": "code",
   "execution_count": 8,
   "id": "a38f5d00",
   "metadata": {
    "collapsed": false,
    "editable": true
   },
   "outputs": [],
   "source": [
    "import numpy as np\n",
    "\n",
    "class BinaryBinaryRBM:\n",
    "    def __init__(self, n_visible, n_hidden, learning_rate=0.1):\n",
    "        # Initialize the RBM with given parameters.\n",
    "        self.n_visible = n_visible\n",
    "        self.n_hidden = n_hidden\n",
    "        self.learning_rate = learning_rate\n",
    "        # Initialize weights and biases\n",
    "        self.weights = np.random.normal(0, 0.01, (n_visible, n_hidden))  # Weights\n",
    "        self.visible_bias = np.zeros(n_visible)  # Bias for visible units\n",
    "        self.hidden_bias = np.zeros(n_hidden)  # Bias for hidden units\n",
    "\n",
    "    def sigmoid(self, x):\n",
    "        # Sigmoid activation function.\n",
    "        return 1 / (1 + np.exp(-x))\n",
    "\n",
    "    def sample_hidden(self, v):\n",
    "        # Sample hidden units given visible units.\n",
    "        activation = np.dot(v, self.weights) + self.hidden_bias\n",
    "        prob_h = self.sigmoid(activation)\n",
    "        return np.random.binomial(n=1, p=prob_h), prob_h\n",
    "\n",
    "    def sample_visible(self, h):\n",
    "        # Sample visible units given hidden units.\n",
    "        activation = np.dot(h, self.weights.T) + self.visible_bias\n",
    "        prob_v = self.sigmoid(activation)\n",
    "        return np.random.binomial(n=1, p=prob_v), prob_v\n",
    "\n",
    "    def contrastive_divergence(self, v0, k=1):\n",
    "        # Contrastive Divergence (CD-k) algorithm for training the RBM, Gibbs sampling\n",
    "        # Positive phase\n",
    "        h0, prob_h0 = self.sample_hidden(v0)\n",
    "        pos_associations = np.outer(v0, prob_h0)\n",
    "        # Gibbs Sampling (k steps)\n",
    "        v_k = v0\n",
    "        for _ in range(k):\n",
    "            h_k, _ = self.sample_hidden(v_k)\n",
    "            v_k, _ = self.sample_visible(h_k)\n",
    "        # Negative phase\n",
    "        h_k, prob_h_k = self.sample_hidden(v_k)\n",
    "        neg_associations = np.outer(v_k, prob_h_k)\n",
    "        # Update weights and biases\n",
    "        self.weights += self.learning_rate * (pos_associations - neg_associations)\n",
    "        self.visible_bias += self.learning_rate * (v0 - v_k)\n",
    "        self.hidden_bias += self.learning_rate * (prob_h0 - prob_h_k)\n",
    "\n",
    "    def train(self, data, epochs=1000, batch_size=10):\n",
    "        # Train the RBM using mini-batch gradient descent.\n",
    "        n_samples = data.shape[0]\n",
    "        for epoch in range(epochs):\n",
    "            np.random.shuffle(data)\n",
    "            for i in range(0, n_samples, batch_size):\n",
    "                batch = data[i:i+batch_size]\n",
    "                for v in batch:\n",
    "                    self.contrastive_divergence(v)\n",
    "            if (epoch + 1) % 100 == 0:\n",
    "                error = self.reconstruction_error(data)\n",
    "                print(f\"Epoch {epoch + 1}/{epochs} - Reconstruction Error: {error:.4f}\")\n",
    "\n",
    "    def reconstruction_error(self, data):\n",
    "        # Compute reconstruction error for the dataset.\n",
    "        error = 0\n",
    "        for v in data:\n",
    "            _, prob_h = self.sample_hidden(v)\n",
    "            _, prob_v = self.sample_visible(prob_h)\n",
    "            error += np.linalg.norm(v - prob_v)\n",
    "        return error / len(data)\n",
    "\n",
    "    def reconstruct(self, v):\n",
    "        # Reconstruct a visible vector after one pass through hidden units.\n",
    "        _, prob_h = self.sample_hidden(v)\n",
    "        _, prob_v = self.sample_visible(prob_h)\n",
    "        return prob_v\n",
    "\n",
    "# Generate synthetic binary data\n",
    "np.random.seed(42)\n",
    "data = np.random.binomial(n=1, p=0.5, size=(100, 6))  # 100 samples, 6 visible units\n",
    "\n",
    "# Initialize and train the RBM\n",
    "rbm = BinaryBinaryRBM(n_visible=6, n_hidden=3, learning_rate=0.1)\n",
    "rbm.train(data, epochs=1000, batch_size=10)\n",
    "\n",
    "# Test the reconstruction\n",
    "sample = np.array([1, 0, 1, 0, 1, 0])\n",
    "reconstructed = rbm.reconstruct(sample)\n",
    "print(f\"\\nOriginal: {sample}\")\n",
    "print(f\"Reconstructed: {np.round(reconstructed, 2)}\")"
   ]
  },
  {
   "cell_type": "markdown",
   "id": "1ddf90c4",
   "metadata": {
    "editable": true
   },
   "source": [
    "## Code for RBMs using PyTorch"
   ]
  },
  {
   "cell_type": "code",
   "execution_count": 9,
   "id": "0c5e4b7a",
   "metadata": {
    "collapsed": false,
    "editable": true
   },
   "outputs": [],
   "source": [
    "import numpy as np\n",
    "import torch\n",
    "import torch.utils.data\n",
    "import torch.nn as nn\n",
    "import torch.nn.functional as F\n",
    "import torch.optim as optim\n",
    "from torch.autograd import Variable\n",
    "from torchvision import datasets, transforms\n",
    "from torchvision.utils import make_grid , save_image\n",
    "import matplotlib.pyplot as plt\n",
    "\n",
    "\n",
    "batch_size = 64\n",
    "train_loader = torch.utils.data.DataLoader(\n",
    "datasets.MNIST('./data',\n",
    "    train=True,\n",
    "    download = True,\n",
    "    transform = transforms.Compose(\n",
    "        [transforms.ToTensor()])\n",
    "     ),\n",
    "     batch_size=batch_size\n",
    ")\n",
    "\n",
    "test_loader = torch.utils.data.DataLoader(\n",
    "datasets.MNIST('./data',\n",
    "    train=False,\n",
    "    transform=transforms.Compose(\n",
    "    [transforms.ToTensor()])\n",
    "    ),\n",
    "    batch_size=batch_size)\n",
    "\n",
    "\n",
    "class RBM(nn.Module):\n",
    "   def __init__(self,\n",
    "               n_vis=784,\n",
    "               n_hin=500,\n",
    "               k=5):\n",
    "        super(RBM, self).__init__()\n",
    "        self.W = nn.Parameter(torch.randn(n_hin,n_vis)*1e-2)\n",
    "        self.v_bias = nn.Parameter(torch.zeros(n_vis))\n",
    "        self.h_bias = nn.Parameter(torch.zeros(n_hin))\n",
    "        self.k = k\n",
    "    \n",
    "   def sample_from_p(self,p):\n",
    "       return F.relu(torch.sign(p - Variable(torch.rand(p.size()))))\n",
    "    \n",
    "   def v_to_h(self,v):\n",
    "        p_h = F.sigmoid(F.linear(v,self.W,self.h_bias))\n",
    "        sample_h = self.sample_from_p(p_h)\n",
    "        return p_h,sample_h\n",
    "    \n",
    "   def h_to_v(self,h):\n",
    "        p_v = F.sigmoid(F.linear(h,self.W.t(),self.v_bias))\n",
    "        sample_v = self.sample_from_p(p_v)\n",
    "        return p_v,sample_v\n",
    "        \n",
    "   def forward(self,v):\n",
    "        pre_h1,h1 = self.v_to_h(v)\n",
    "        \n",
    "        h_ = h1\n",
    "        for _ in range(self.k):\n",
    "            pre_v_,v_ = self.h_to_v(h_)\n",
    "            pre_h_,h_ = self.v_to_h(v_)\n",
    "        \n",
    "        return v,v_\n",
    "    \n",
    "   def free_energy(self,v):\n",
    "        vbias_term = v.mv(self.v_bias)\n",
    "        wx_b = F.linear(v,self.W,self.h_bias)\n",
    "        hidden_term = wx_b.exp().add(1).log().sum(1)\n",
    "        return (-hidden_term - vbias_term).mean()\n",
    "\n",
    "\n",
    "\n",
    "\n",
    "rbm = RBM(k=1)\n",
    "train_op = optim.SGD(rbm.parameters(),0.1)\n",
    "\n",
    "for epoch in range(10):\n",
    "    loss_ = []\n",
    "    for _, (data,target) in enumerate(train_loader):\n",
    "        data = Variable(data.view(-1,784))\n",
    "        sample_data = data.bernoulli()\n",
    "        \n",
    "        v,v1 = rbm(sample_data)\n",
    "        loss = rbm.free_energy(v) - rbm.free_energy(v1)\n",
    "        loss_.append(loss.data)\n",
    "        train_op.zero_grad()\n",
    "        loss.backward()\n",
    "        train_op.step()\n",
    "\n",
    "    print(\"Training loss for {} epoch: {}\".format(epoch, np.mean(loss_)))\n",
    "\n",
    "\n",
    "def show_adn_save(file_name,img):\n",
    "    npimg = np.transpose(img.numpy(),(1,2,0))\n",
    "    f = \"./%s.png\" % file_name\n",
    "    plt.imshow(npimg)\n",
    "    plt.imsave(f,npimg)\n",
    "\n",
    "show_adn_save(\"real\",make_grid(v.view(32,1,28,28).data))\n",
    "show_adn_save(\"generate\",make_grid(v1.view(32,1,28,28).data))"
   ]
  },
  {
   "cell_type": "markdown",
   "id": "ea6b6849",
   "metadata": {
    "editable": true
   },
   "source": [
    "## Energy-based models and Langevin sampling\n",
    "\n",
    "See discussions in Foster, chapter 7 on energy-based models at <https://github.com/davidADSP/Generative_Deep_Learning_2nd_Edition/tree/main/notebooks/07_ebm/01_ebm>\n",
    "\n",
    "That notebook is based on a recent article by Du and Mordatch, **Implicit generation and modeling with energy-based models**, see <https://arxiv.org/pdf/1903.08689.pdf.>"
   ]
  },
  {
   "cell_type": "markdown",
   "id": "95c6208b",
   "metadata": {
    "editable": true
   },
   "source": [
    "## Tensor-flow examples\n",
    "\n",
    "1. To create Boltzmann machine using Keras, see Babcock and Bali chapter 4, see <https://github.com/PacktPublishing/Hands-On-Generative-AI-with-Python-and-TensorFlow-2/blob/master/Chapter_4/models/rbm.py>\n",
    "\n",
    "2. See also Foster, chapter 7 on energy-based models at <https://github.com/davidADSP/Generative_Deep_Learning_2nd_Edition/tree/main/notebooks/07_ebm/01_ebm>"
   ]
  }
 ],
 "metadata": {},
 "nbformat": 4,
 "nbformat_minor": 5
}
