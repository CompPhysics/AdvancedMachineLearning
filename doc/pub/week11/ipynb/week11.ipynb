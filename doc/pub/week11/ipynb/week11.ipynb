{
 "cells": [
  {
   "cell_type": "markdown",
   "id": "3f4f2a87",
   "metadata": {
    "editable": true
   },
   "source": [
    "<!-- HTML file automatically generated from DocOnce source (https://github.com/doconce/doconce/)\n",
    "doconce format html week11.do.txt --no_mako -->\n",
    "<!-- dom:TITLE: April 10-21: Advanced machine learning and data analysis for the physical sciences -->"
   ]
  },
  {
   "cell_type": "markdown",
   "id": "69ae5dcf",
   "metadata": {
    "editable": true
   },
   "source": [
    "# April 10-21: Advanced machine learning and data analysis for the physical sciences\n",
    "**Morten Hjorth-Jensen**, Department of Physics and Center for Computing in Science Education, University of Oslo, Norway and Department of Physics and Astronomy and Facility for Rare Isotope Beams, Michigan State University, East Lansing, Michigan, USA\n",
    "\n",
    "Date: **April 17-21, 2023**"
   ]
  },
  {
   "cell_type": "markdown",
   "id": "c278fbcd",
   "metadata": {
    "editable": true
   },
   "source": [
    "## Plans for the week April 17-21\n",
    "\n",
    "**Deep generative models.**\n",
    "\n",
    "1. Boltzmann machines\n",
    "\n",
    "2. Reading recommendation: Goodfellow et al chapter 20.1-20.7\n",
    "\n",
    "3. [Video of lecture](https://youtu.be/)\n",
    "\n",
    "4. [Whiteboard notes](https://github.com/CompPhysics/AdvancedMachineLearning/blob/main/doc/HandwrittenNotes/NotesApr122023.pdf)"
   ]
  }
 ],
 "metadata": {},
 "nbformat": 4,
 "nbformat_minor": 5
}
