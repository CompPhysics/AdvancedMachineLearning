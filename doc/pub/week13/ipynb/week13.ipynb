{
 "cells": [
  {
   "cell_type": "markdown",
   "id": "d9511fb1",
   "metadata": {},
   "source": [
    "<!-- HTML file automatically generated from DocOnce source (https://github.com/doconce/doconce/)\n",
    "doconce format html week13.do.txt --no_mako -->\n",
    "<!-- dom:TITLE: Advanced machine learning and data analysis for the physical sciences -->"
   ]
  },
  {
   "cell_type": "markdown",
   "id": "db5b637b",
   "metadata": {},
   "source": [
    "# Advanced machine learning and data analysis for the physical sciences\n",
    "**Morten Hjorth-Jensen**, Department of Physics and Center for Computing in Science Education, University of Oslo, Norway and Department of Physics and Astronomy and Facility for Rare Isotope Beams, Michigan State University, East Lansing, Michigan, USA\n",
    "\n",
    "Date: **April 16, 2024**"
   ]
  },
  {
   "cell_type": "markdown",
   "id": "8c6e37b5",
   "metadata": {},
   "source": [
    "## Plans for the week April 15-19, 2024\n",
    "\n",
    "**Deep generative models.**\n",
    "\n",
    "1. Finalizing discussion of Boltzmann machines, implementations using TensorFlow and Pytorch\n",
    "\n",
    "2. Discussion of other energy-based models and Langevin sampling\n",
    "\n",
    "3. Variational Autoencoders (VAE)\n",
    "\n",
    "4. Generative Adversarial Networks (GANs)\n",
    "<!-- o [Video of lecture](https://youtu.be/0VBmdP_iCzA) -->\n",
    "<!-- o [Whiteboard notes](https://github.com/CompPhysics/AdvancedMachineLearning/blob/main/doc/HandwrittenNotes/NotesApr262023.pdf) -->"
   ]
  },
  {
   "cell_type": "markdown",
   "id": "4a7c186c",
   "metadata": {},
   "source": [
    "## Readings\n",
    "1. Reading recommendation: Goodfellow et al, for VAEs and GANs see sections 20.10-20.11\n",
    "\n",
    "2. To create Boltzmann machine using Keras, see Babcock and Bali chapter 4, see <https://github.com/PacktPublishing/Hands-On-Generative-AI-with-Python-and-TensorFlow-2/blob/master/Chapter_4/models/rbm.py>\n",
    "\n",
    "3. See Foster, chapter 7 on energy-based models at <https://github.com/davidADSP/Generative_Deep_Learning_2nd_Edition/tree/main/notebooks/07_ebm/01_ebm>\n",
    "\n",
    "<!-- todo: add about Langevin sampling, see <https://www.lyndonduong.com/sgmcmc/> -->\n",
    "<!-- code for VAEs applied to MNIST and CIFAR perhaps -->"
   ]
  },
  {
   "cell_type": "markdown",
   "id": "a07df752",
   "metadata": {},
   "source": [
    "## Reminder from last week and layout of lecture this week\n",
    "\n",
    "1. We will present first a reminder from last week, see for example the jupyter-notebook at <https://github.com/CompPhysics/AdvancedMachineLearning/blob/main/doc/pub/week12/ipynb/week12.ipynb>\n",
    "\n",
    "2. We will then discuss codes as well as other energy-based models and Langevin sampling instead of Gibbs or Metropolis sampling.\n",
    "\n",
    "3. Thereafter we start our discussions of Variational autoencoders and Generalized adversarial networks"
   ]
  },
  {
   "cell_type": "markdown",
   "id": "5f1ce327",
   "metadata": {},
   "source": [
    "## Code for RBMs using PyTorch for a binary-binary RBM"
   ]
  },
  {
   "cell_type": "code",
   "execution_count": 1,
   "id": "6305d403",
   "metadata": {},
   "outputs": [
    {
     "ename": "ModuleNotFoundError",
     "evalue": "No module named 'torch'",
     "output_type": "error",
     "traceback": [
      "\u001b[0;31m---------------------------------------------------------------------------\u001b[0m",
      "\u001b[0;31mModuleNotFoundError\u001b[0m                       Traceback (most recent call last)",
      "\u001b[0;32m/var/folders/td/3yk470mj5p931p9dtkk0y6jw0000gn/T/ipykernel_10377/1159766218.py\u001b[0m in \u001b[0;36m<module>\u001b[0;34m\u001b[0m\n\u001b[1;32m      2\u001b[0m \u001b[0;34m\u001b[0m\u001b[0m\n\u001b[1;32m      3\u001b[0m \u001b[0;32mimport\u001b[0m \u001b[0mnumpy\u001b[0m \u001b[0;32mas\u001b[0m \u001b[0mnp\u001b[0m\u001b[0;34m\u001b[0m\u001b[0;34m\u001b[0m\u001b[0m\n\u001b[0;32m----> 4\u001b[0;31m \u001b[0;32mimport\u001b[0m \u001b[0mtorch\u001b[0m\u001b[0;34m\u001b[0m\u001b[0;34m\u001b[0m\u001b[0m\n\u001b[0m\u001b[1;32m      5\u001b[0m \u001b[0;32mimport\u001b[0m \u001b[0mtorch\u001b[0m\u001b[0;34m.\u001b[0m\u001b[0mutils\u001b[0m\u001b[0;34m.\u001b[0m\u001b[0mdata\u001b[0m\u001b[0;34m\u001b[0m\u001b[0;34m\u001b[0m\u001b[0m\n\u001b[1;32m      6\u001b[0m \u001b[0;32mimport\u001b[0m \u001b[0mtorch\u001b[0m\u001b[0;34m.\u001b[0m\u001b[0mnn\u001b[0m \u001b[0;32mas\u001b[0m \u001b[0mnn\u001b[0m\u001b[0;34m\u001b[0m\u001b[0;34m\u001b[0m\u001b[0m\n",
      "\u001b[0;31mModuleNotFoundError\u001b[0m: No module named 'torch'"
     ]
    }
   ],
   "source": [
    "%matplotlib inline\n",
    "\n",
    "import numpy as np\n",
    "import torch\n",
    "import torch.utils.data\n",
    "import torch.nn as nn\n",
    "import torch.nn.functional as F\n",
    "import torch.optim as optim\n",
    "from torch.autograd import Variable\n",
    "from torchvision import datasets, transforms\n",
    "from torchvision.utils import make_grid , save_image\n",
    "import matplotlib.pyplot as plt\n",
    "\n",
    "\n",
    "batch_size = 64\n",
    "train_loader = torch.utils.data.DataLoader(\n",
    "datasets.MNIST('./data',\n",
    "    train=True,\n",
    "    download = True,\n",
    "    transform = transforms.Compose(\n",
    "        [transforms.ToTensor()])\n",
    "     ),\n",
    "     batch_size=batch_size\n",
    ")\n",
    "\n",
    "test_loader = torch.utils.data.DataLoader(\n",
    "datasets.MNIST('./data',\n",
    "    train=False,\n",
    "    transform=transforms.Compose(\n",
    "    [transforms.ToTensor()])\n",
    "    ),\n",
    "    batch_size=batch_size)\n",
    "\n",
    "\n",
    "class RBM(nn.Module):\n",
    "   def __init__(self,\n",
    "               n_vis=784,\n",
    "               n_hin=500,\n",
    "               k=5):\n",
    "        super(RBM, self).__init__()\n",
    "        self.W = nn.Parameter(torch.randn(n_hin,n_vis)*1e-2)\n",
    "        self.v_bias = nn.Parameter(torch.zeros(n_vis))\n",
    "        self.h_bias = nn.Parameter(torch.zeros(n_hin))\n",
    "        self.k = k\n",
    "    \n",
    "   def sample_from_p(self,p):\n",
    "       return F.relu(torch.sign(p - Variable(torch.rand(p.size()))))\n",
    "    \n",
    "   def v_to_h(self,v):\n",
    "        p_h = F.sigmoid(F.linear(v,self.W,self.h_bias))\n",
    "        sample_h = self.sample_from_p(p_h)\n",
    "        return p_h,sample_h\n",
    "    \n",
    "   def h_to_v(self,h):\n",
    "        p_v = F.sigmoid(F.linear(h,self.W.t(),self.v_bias))\n",
    "        sample_v = self.sample_from_p(p_v)\n",
    "        return p_v,sample_v\n",
    "        \n",
    "   def forward(self,v):\n",
    "        pre_h1,h1 = self.v_to_h(v)\n",
    "        \n",
    "        h_ = h1\n",
    "        for _ in range(self.k):\n",
    "            pre_v_,v_ = self.h_to_v(h_)\n",
    "            pre_h_,h_ = self.v_to_h(v_)\n",
    "        \n",
    "        return v,v_\n",
    "    \n",
    "   def free_energy(self,v):\n",
    "        vbias_term = v.mv(self.v_bias)\n",
    "        wx_b = F.linear(v,self.W,self.h_bias)\n",
    "        hidden_term = wx_b.exp().add(1).log().sum(1)\n",
    "        return (-hidden_term - vbias_term).mean()\n",
    "\n",
    "\n",
    "\n",
    "\n",
    "rbm = RBM(k=1)\n",
    "train_op = optim.SGD(rbm.parameters(),0.1)\n",
    "\n",
    "for epoch in range(10):\n",
    "    loss_ = []\n",
    "    for _, (data,target) in enumerate(train_loader):\n",
    "        data = Variable(data.view(-1,784))\n",
    "        sample_data = data.bernoulli()\n",
    "        \n",
    "        v,v1 = rbm(sample_data)\n",
    "        loss = rbm.free_energy(v) - rbm.free_energy(v1)\n",
    "        loss_.append(loss.data)\n",
    "        train_op.zero_grad()\n",
    "        loss.backward()\n",
    "        train_op.step()\n",
    "\n",
    "    print(\"Training loss for {} epoch: {}\".format(epoch, np.mean(loss_)))\n",
    "\n",
    "\n",
    "def show_adn_save(file_name,img):\n",
    "    npimg = np.transpose(img.numpy(),(1,2,0))\n",
    "    f = \"./%s.png\" % file_name\n",
    "    plt.imshow(npimg)\n",
    "    plt.imsave(f,npimg)\n",
    "\n",
    "show_adn_save(\"real\",make_grid(v.view(32,1,28,28).data))\n",
    "show_adn_save(\"generate\",make_grid(v1.view(32,1,28,28).data))"
   ]
  },
  {
   "cell_type": "markdown",
   "id": "eeff4aad",
   "metadata": {},
   "source": [
    "## RBM using TensorFlow and Keras\n",
    "\n",
    "1. To create Boltzmann machine using Keras, see Babcock and Bali chapter 4, see <https://github.com/PacktPublishing/Hands-On-Generative-AI-with-Python-and-TensorFlow-2/blob/master/Chapter_4/models/rbm.py>"
   ]
  },
  {
   "cell_type": "markdown",
   "id": "c213977b",
   "metadata": {},
   "source": [
    "## Codes for Energy-based models\n",
    "\n",
    "See discussions in Foster, chapter 7 on energy-based models at <https://github.com/davidADSP/Generative_Deep_Learning_2nd_Edition/tree/main/notebooks/07_ebm/01_ebm>\n",
    "\n",
    "That notebook is based on a recent article by Du and Mordatch, **Implicit generation and modeling with energy-based models**, see <https://arxiv.org/pdf/1903.08689.pdf.>"
   ]
  },
  {
   "cell_type": "markdown",
   "id": "1225798e",
   "metadata": {},
   "source": [
    "## Langevin sampling\n",
    "\n",
    "Also called Stochastic gradient Langevin dynamics (SGLD), is sampling\n",
    "technique composed of characteristics from Stochastic gradient descent\n",
    "(SGD) and Langevin dynamics, a mathematical extension of the Langevin\n",
    "equation.  The SGLD is an iterative\n",
    "optimization algorithm which uses minibatching to create a stochastic\n",
    "gradient estimator, as used in SGD to optimize a differentiable\n",
    "objective function.\n",
    "\n",
    "Unlike traditional SGD, SGLD can be used for\n",
    "Bayesian learning as a sampling method. SGLD may be viewed as Langevin\n",
    "dynamics applied to posterior distributions, but the key difference is\n",
    "that the likelihood gradient terms are minibatched, like in SGD. SGLD,\n",
    "like Langevin dynamics, produces samples from a posterior distribution\n",
    "of parameters based on available data."
   ]
  },
  {
   "cell_type": "markdown",
   "id": "11774b87",
   "metadata": {},
   "source": [
    "## More on the SGLD\n",
    "\n",
    "The SGLD uses the probability $p(\\theta)$ (note that we limit\n",
    "ourselves to just a variable $\\theta$) and updates the **log** of this\n",
    "probability by initializing it through some random prior distribution,\n",
    "normally just a uniform distribution which takes values between\n",
    "$\\theta\\in [-1,1]$,\n",
    "\n",
    "The update is given by"
   ]
  },
  {
   "cell_type": "markdown",
   "id": "f0284a66",
   "metadata": {},
   "source": [
    "$$\n",
    "\\theta_{i+1}=\\theta_{i}+\\eta \\nabla_{\\theta} \\log{p(\\theta_{i})}+\\sqrt{\\eta}w_i,\n",
    "$$"
   ]
  },
  {
   "cell_type": "markdown",
   "id": "7c6d9c0f",
   "metadata": {},
   "source": [
    "where $w_i\\sim N(0,1)$ are normally distributed with mean zero and\n",
    "variance one and $i=0,1,\\dots,k$, with $k$ the final number of\n",
    "iterations.  The parameter $\\eta$ is the learning rate. The term\n",
    "$\\sqrt{\\eta}w_i$ introduces **noise** in the equation."
   ]
  },
  {
   "cell_type": "markdown",
   "id": "d634d5df",
   "metadata": {},
   "source": [
    "## Code example of Langevin Sampling\n",
    "\n",
    "In our calculations the gradient is calculated using the model we have\n",
    "for the probability distribution. For an energy-based model this gives\n",
    "us a derivative which involves the so-called positive and negative\n",
    "phases discussed last week.\n",
    "\n",
    "Read more about Langevin sampling at for example\n",
    "<https://www.lyndonduong.com/sgmcmc/>. This site contains a nice\n",
    "example of a PyTorch code which implements Langevin sampling."
   ]
  },
  {
   "cell_type": "markdown",
   "id": "5f32a06e",
   "metadata": {},
   "source": [
    "## Theory of Variational Autoencoders\n",
    "\n",
    "Let us remind ourself about what an autoencoder is, see the jupyter-notebook at <https://github.com/CompPhysics/AdvancedMachineLearning/blob/main/doc/pub/week10/ipynb/week10.ipynb>."
   ]
  },
  {
   "cell_type": "markdown",
   "id": "77119c94",
   "metadata": {},
   "source": [
    "## The Autoencoder again\n",
    "\n",
    "Autoencoders are neural networks where the outputs are its own\n",
    "inputs. They are split into an **encoder part**\n",
    "which maps the input $\\boldsymbol{x}$ via a function $f(\\boldsymbol{x},\\boldsymbol{W})$ (this\n",
    "is the encoder part) to a **so-called code part** (or intermediate part)\n",
    "with the result $\\boldsymbol{h}$"
   ]
  },
  {
   "cell_type": "markdown",
   "id": "0ede97fe",
   "metadata": {},
   "source": [
    "$$\n",
    "\\boldsymbol{h} = f(\\boldsymbol{x},\\boldsymbol{W})),\n",
    "$$"
   ]
  },
  {
   "cell_type": "markdown",
   "id": "dfd043f6",
   "metadata": {},
   "source": [
    "where $\\boldsymbol{W}$ are the weights to be determined.  The **decoder** parts maps, via its own parameters (weights given by the matrix $\\boldsymbol{V}$ and its own biases) to \n",
    "the final ouput"
   ]
  },
  {
   "cell_type": "markdown",
   "id": "ea742a90",
   "metadata": {},
   "source": [
    "$$\n",
    "\\tilde{\\boldsymbol{x}} = g(\\boldsymbol{h},\\boldsymbol{V})).\n",
    "$$"
   ]
  },
  {
   "cell_type": "markdown",
   "id": "5791b751",
   "metadata": {},
   "source": [
    "The goal is to minimize the construction error, often done by optimizing the means squared error."
   ]
  },
  {
   "cell_type": "markdown",
   "id": "20fe3be0",
   "metadata": {},
   "source": [
    "## Schematic image of an Autoencoder\n",
    "\n",
    "<!-- dom:FIGURE: [figures/ae1.png, width=700 frac=1.0] -->\n",
    "<!-- begin figure -->\n",
    "\n",
    "<img src=\"figures/ae1.png\" width=\"700\"><p style=\"font-size: 0.9em\"><i>Figure 1: </i></p>\n",
    "<!-- end figure -->"
   ]
  },
  {
   "cell_type": "markdown",
   "id": "48678513",
   "metadata": {},
   "source": [
    "## Mathematics of Variational Autoencoders\n",
    "\n",
    "We have defined earlier a probability (marginal) distribution with hidden variables $\\boldsymbol{h}$ and parameters $\\boldsymbol{\\Theta}$ as"
   ]
  },
  {
   "cell_type": "markdown",
   "id": "50ec45b3",
   "metadata": {},
   "source": [
    "$$\n",
    "p(\\boldsymbol{x};\\boldsymbol{\\Theta}) = \\int d\\boldsymbol{h}p(\\boldsymbol{x},\\boldsymbol{h};\\boldsymbol{\\Theta}),\n",
    "$$"
   ]
  },
  {
   "cell_type": "markdown",
   "id": "81859aa4",
   "metadata": {},
   "source": [
    "for continuous variables $\\boldsymbol{h}$ and"
   ]
  },
  {
   "cell_type": "markdown",
   "id": "6ef08546",
   "metadata": {},
   "source": [
    "$$\n",
    "p(\\boldsymbol{x};\\boldsymbol{\\Theta}) = \\sum_{\\boldsymbol{h}}p(\\boldsymbol{x},\\boldsymbol{h};\\boldsymbol{\\Theta}),\n",
    "$$"
   ]
  },
  {
   "cell_type": "markdown",
   "id": "b6e85b16",
   "metadata": {},
   "source": [
    "for discrete stochastic events $\\boldsymbol{h}$. The variables $\\boldsymbol{h}$ are normally called the **latent variables** in the theory of autoencoders. We will also call then for that here."
   ]
  },
  {
   "cell_type": "markdown",
   "id": "06b8691a",
   "metadata": {},
   "source": [
    "## Using the conditional probability\n",
    "\n",
    "Using the the definition of the conditional probabilities $p(\\boldsymbol{x}\\vert\\boldsymbol{h};\\boldsymbol{\\Theta})$, $p(\\boldsymbol{h}\\vert\\boldsymbol{x};\\boldsymbol{\\Theta})$ and \n",
    "and the prior $p(\\boldsymbol{h})$, we can rewrite the above equation as"
   ]
  },
  {
   "cell_type": "markdown",
   "id": "e2cd8277",
   "metadata": {},
   "source": [
    "$$\n",
    "p(\\boldsymbol{x};\\boldsymbol{\\Theta}) = \\sum_{\\boldsymbol{h}}p(\\boldsymbol{x}\\vert\\boldsymbol{h};\\boldsymbol{\\Theta})p(\\boldsymbol{h},\n",
    "$$"
   ]
  },
  {
   "cell_type": "markdown",
   "id": "862ac1eb",
   "metadata": {},
   "source": [
    "which allows us to make the dependence of $\\boldsymbol{x}$ on $\\boldsymbol{h}$\n",
    "explicit by using the law of total probability. The intuition behind\n",
    "this approach for finding the marginal probability for $\\boldsymbol{x}$ is to\n",
    "optimize the above equations with respect to the parameters\n",
    "$\\boldsymbol{\\Theta}$.  This is done normally by maximizing the probability,\n",
    "the so-called maximum-likelihood approach discussed earlier."
   ]
  },
  {
   "cell_type": "markdown",
   "id": "0614d811",
   "metadata": {},
   "source": [
    "## VAEs versus autoencoders\n",
    "\n",
    "This trained probability is assumed to be able to produce similar\n",
    "samples as the input.  In VAEs it is then common to compare via for\n",
    "example the mean-squared error or the cross-entropy the predicted\n",
    "values with the input values.  Compared with autoencoders, we are now\n",
    "producing a probability instead of a functions which mimicks the\n",
    "input.\n",
    "\n",
    "In VAEs, the choice of this output distribution is often Gaussian,\n",
    "meaning that the conditional probability is"
   ]
  },
  {
   "cell_type": "markdown",
   "id": "723ab543",
   "metadata": {},
   "source": [
    "$$\n",
    "p(\\boldsymbol{x}\\vert\\boldsymbol{h};\\boldsymbol{\\Theta})=N(\\boldsymbol{x}\\vert f(\\boldsymbol{h};\\boldsymbol{\\Theta}), \\sigma^2\\times \\boldsymbol{I}),\n",
    "$$"
   ]
  },
  {
   "cell_type": "markdown",
   "id": "4489e94d",
   "metadata": {},
   "source": [
    "with mean value given by the function $f(\\boldsymbol{h};\\boldsymbol{\\Theta})$ and a\n",
    "diagonal covariance matrix multiplied by a parameter $\\sigma^2$ which\n",
    "is treated as a hyperparameter."
   ]
  },
  {
   "cell_type": "markdown",
   "id": "5cddb288",
   "metadata": {},
   "source": [
    "## Gradient descent\n",
    "\n",
    "By having a Gaussian distribution, we can use gradient descent (or any\n",
    "other optimization technique) to increase $p(\\boldsymbol{x};\\boldsymbol{\\Theta})$ by\n",
    "making $f(\\boldsymbol{h};\\boldsymbol{\\Theta})$ approach $\\boldsymbol{x}$ for some $\\boldsymbol{h}$,\n",
    "gradually making the training data more likely under the generative\n",
    "model. The important property is simply that the marginal probability\n",
    "can be computed, and it is continuous in $\\boldsymbol{\\Theta}$.."
   ]
  },
  {
   "cell_type": "markdown",
   "id": "18f42e58",
   "metadata": {},
   "source": [
    "## Are VAEs just modified autoencoders?\n",
    "\n",
    "The mathematical basis of VAEs actually has relatively little to do\n",
    "with classical autoencoders, for example the sparse autoencoders or\n",
    "denoising autoencoders discussed earlier.\n",
    "\n",
    "VAEs approximately maximize the probability equation discussed\n",
    "above. They are called autoencoders only because the final training\n",
    "objective that derives from this setup does have an encoder and a\n",
    "decoder, and resembles a traditional autoencoder. Unlike sparse\n",
    "autoencoders, there are generally no tuning parameters analogous to\n",
    "the sparsity penalties. And unlike sparse and denoising autoencoders,\n",
    "we can sample directly from $p(\\boldsymbol{x})$ without performing Markov\n",
    "Chain Monte Carlo."
   ]
  },
  {
   "cell_type": "markdown",
   "id": "7adc129c",
   "metadata": {},
   "source": [
    "## Training VAEs\n",
    "\n",
    "To solve the integral or sum for $p(\\boldsymbol{x})$, there are two problems\n",
    "that VAEs must deal with: how to define the latent variables $\\boldsymbol{h}$,\n",
    "that is decide what information they represent, and how to deal with\n",
    "the integral over $\\boldsymbol{h}$.  VAEs give a definite answer to both."
   ]
  },
  {
   "cell_type": "markdown",
   "id": "84b16a66",
   "metadata": {},
   "source": [
    "## Kullback-Leibler relative entropy (notation to be updated)\n",
    "\n",
    "When the goal of the training is to approximate a probability\n",
    "distribution, as it is in generative modeling, another relevant\n",
    "measure is the **Kullback-Leibler divergence**, also known as the\n",
    "relative entropy or Shannon entropy. It is a non-symmetric measure of the\n",
    "dissimilarity between two probability density functions $p$ and\n",
    "$q$. If $p$ is the unkown probability which we approximate with $q$,\n",
    "we can measure the difference by"
   ]
  },
  {
   "cell_type": "markdown",
   "id": "e0a1ccbd",
   "metadata": {},
   "source": [
    "$$\n",
    "\\begin{align*}\n",
    "\t\\text{KL}(p||q) = \\int_{-\\infty}^{\\infty} p (\\boldsymbol{x}) \\log \\frac{p(\\boldsymbol{x})}{q(\\boldsymbol{x})}  d\\boldsymbol{x}.\n",
    "\\end{align*}\n",
    "$$"
   ]
  },
  {
   "cell_type": "markdown",
   "id": "60ed4dfb",
   "metadata": {},
   "source": [
    "## Kullback-Leibler divergence and RBMs\n",
    "\n",
    "Thus, the Kullback-Leibler divergence between the distribution of the\n",
    "training data $f(\\boldsymbol{x})$ and the model marginal distribution $p(\\boldsymbol{x};\\boldsymbol{\\Theta})$ from an RBM is"
   ]
  },
  {
   "cell_type": "markdown",
   "id": "e1c69b33",
   "metadata": {},
   "source": [
    "$$\n",
    "\\begin{align*}\n",
    "\t\\text{KL} (f(\\boldsymbol{x})|| p(\\boldsymbol{x}| \\boldsymbol{\\Theta})) =& \\int_{-\\infty}^{\\infty}\n",
    "\tf (\\boldsymbol{x}) \\log \\frac{f(\\boldsymbol{x})}{p(\\boldsymbol{x}; \\boldsymbol{\\Theta})} d\\boldsymbol{x} \\\\\n",
    "\t=& \\int_{-\\infty}^{\\infty} f(\\boldsymbol{x}) \\log f(\\boldsymbol{x}) d\\boldsymbol{x} - \\int_{-\\infty}^{\\infty} f(\\boldsymbol{x}) \\log\n",
    "\tp(\\boldsymbol{x};\\boldsymbol{\\Theta}) d\\boldsymbol{x} \\\\\n",
    "\t%=& \\mathbb{E}_{f(\\boldsymbol{x})} (\\log f(\\boldsymbol{x})) - \\mathbb{E}_{f(\\boldsymbol{x})} (\\log p(\\boldsymbol{x}; \\boldsymbol{\\Theta}))\n",
    "\t=& \\langle \\log f(\\boldsymbol{x}) \\rangle_{f(\\boldsymbol{x})} - \\langle \\log p(\\boldsymbol{x};\\boldsymbol{\\Theta}) \\rangle_{f(\\boldsymbol{x})} \\\\\n",
    "\t=& \\langle \\log f(\\boldsymbol{x}) \\rangle_{data} + \\langle E(\\boldsymbol{x}) \\rangle_{data} + \\log Z.\n",
    "\\end{align*}\n",
    "$$"
   ]
  },
  {
   "cell_type": "markdown",
   "id": "5039040e",
   "metadata": {},
   "source": [
    "## Maximizing log-likelihood\n",
    "\n",
    "The first term is constant with respect to $\\boldsymbol{\\Theta}$ since\n",
    "$f(\\boldsymbol{x})$ is independent of $\\boldsymbol{\\Theta}$. Thus the Kullback-Leibler\n",
    "divergence is minimal when the second term is minimal. The second term\n",
    "is the log-likelihood cost function, hence minimizing the\n",
    "Kullback-Leibler divergence is equivalent to maximizing the\n",
    "log-likelihood."
   ]
  },
  {
   "cell_type": "markdown",
   "id": "e20817ae",
   "metadata": {},
   "source": [
    "## Back to VAEs\n",
    "\n",
    "We want to train the marginal probability with some latent varriables $\\boldsymbol{h}$"
   ]
  },
  {
   "cell_type": "markdown",
   "id": "af730e48",
   "metadata": {},
   "source": [
    "$$\n",
    "p(\\boldsymbol{x};\\boldsymbol{\\Theta}) = \\int d\\boldsymbol{h}p(\\boldsymbol{x},\\boldsymbol{h};\\boldsymbol{\\Theta}),\n",
    "$$"
   ]
  },
  {
   "cell_type": "markdown",
   "id": "cf2d8c81",
   "metadata": {},
   "source": [
    "for the continuous version (see previous slides for the discrete variant)."
   ]
  },
  {
   "cell_type": "markdown",
   "id": "2d9601c5",
   "metadata": {},
   "source": [
    "## Using the KL divergence\n",
    "\n",
    "In practice, for most $\\boldsymbol{h}$, $p(\\boldsymbol{x}\\vert \\boldsymbol{h}; \\boldsymbol{\\Theta})$\n",
    "will be nearly zero, and hence contribute almost nothing to our\n",
    "estimate of $p(\\boldsymbol{x})$.\n",
    "\n",
    "The key idea behind the variational autoencoder is to attempt to\n",
    "sample values of $\\boldsymbol{h}$ that are likely to have produced $\\boldsymbol{x}$,\n",
    "and compute $p(\\boldsymbol{x})$ just from those.\n",
    "\n",
    "This means that we need a new function $Q(\\boldsymbol{h}|\\boldsymbol{x})$ which can\n",
    "take a value of $\\boldsymbol{x}$ and give us a distribution over $\\boldsymbol{h}$\n",
    "values that are likely to produce $\\boldsymbol{x}$.  Hopefully the space of\n",
    "$\\boldsymbol{h}$ values that are likely under $Q$ will be much smaller than\n",
    "the space of all $\\boldsymbol{h}$'s that are likely under the prior\n",
    "$p(\\boldsymbol{h})$.  This lets us, for example, compute $E_{\\boldsymbol{h}\\sim\n",
    "Q}p(\\boldsymbol{x}\\vert \\boldsymbol{h})$ relatively easily. Note that we drop\n",
    "$\\boldsymbol{\\Theta}$ from here and for notational simplicity."
   ]
  },
  {
   "cell_type": "markdown",
   "id": "61fd1096",
   "metadata": {},
   "source": [
    "## Kullback-Leibler again\n",
    "\n",
    "However, if $\\boldsymbol{h}$ is sampled from an arbitrary distribution with\n",
    "PDF $Q(\\boldsymbol{h})$, which is not $\\mathcal{N}(0,I)$, then how does that\n",
    "help us optimize $p(\\boldsymbol{x})$?\n",
    "\n",
    "The first thing we need to do is relate\n",
    "$E_{\\boldsymbol{h}\\sim Q}P(\\boldsymbol{x}\\vert \\boldsymbol{h})$ and $p(\\boldsymbol{x})$.  We will see where $Q$ comes from later.\n",
    "\n",
    "The relationship between $E_{\\boldsymbol{h}\\sim Q}p(\\boldsymbol{x}\\vert \\boldsymbol{h})$ and $p(\\boldsymbol{x})$ is one of the cornerstones of variational Bayesian methods.\n",
    "We begin with the definition of Kullback-Leibler divergence (KL divergence or $\\mathcal{D}$) between $p(\\boldsymbol{h}\\vert \\boldsymbol{x})$ and $Q(\\boldsymbol{h})$, for some arbitrary $Q$ (which may or may not depend on $\\boldsymbol{x}$):"
   ]
  },
  {
   "cell_type": "markdown",
   "id": "07281495",
   "metadata": {},
   "source": [
    "$$\n",
    "\\mathcal{D}\\left[Q(\\boldsymbol{h})\\|p(\\boldsymbol{h}|\\boldsymbol{x})\\right]=E_{\\boldsymbol{h}\\sim Q}\\left[\\log Q(\\boldsymbol{h}) - \\log p(\\boldsymbol{h}|\\boldsymbol{x}) \\right].\n",
    "$$"
   ]
  },
  {
   "cell_type": "markdown",
   "id": "c50beb1e",
   "metadata": {},
   "source": [
    "## And applying Bayes rule\n",
    "\n",
    "We can get both $p(\\boldsymbol{x})$ and $p(\\boldsymbol{x}\\vert \\boldsymbol{h})$ into this equation by applying Bayes rule to $p(\\boldsymbol{h}|\\boldsymbol{x})$"
   ]
  },
  {
   "cell_type": "markdown",
   "id": "9abc1ed3",
   "metadata": {},
   "source": [
    "$$\n",
    "\\mathcal{D}\\left[Q(\\boldsymbol{h})\\|p(\\boldsymbol{h}\\vert \\boldsymbol{x})\\right]=E_{\\boldsymbol{h}\\sim Q}\\left[\\log Q(\\boldsymbol{h}) - \\log p(\\boldsymbol{x}|\\boldsymbol{h}) - \\log p(\\boldsymbol{h}) \\right] + \\log p(\\boldsymbol{x}).\n",
    "$$"
   ]
  },
  {
   "cell_type": "markdown",
   "id": "920b0077",
   "metadata": {},
   "source": [
    "Here, $\\log p(\\boldsymbol{x})$ comes out of the expectation because it does not depend on $\\boldsymbol{h}$.\n",
    "Negating both sides, rearranging, and contracting part of $E_{\\boldsymbol{h}\\sim Q}$ into a KL-divergence terms yields:"
   ]
  },
  {
   "cell_type": "markdown",
   "id": "797eda56",
   "metadata": {},
   "source": [
    "$$\n",
    "\\log p(\\boldsymbol{x}) - \\mathcal{D}\\left[Q(\\boldsymbol{h})\\|p(\\boldsymbol{h}\\vert \\boldsymbol{x})\\right]=E_{\\boldsymbol{h}\\sim Q}\\left[\\log p(\\boldsymbol{x}\\vert\\boldsymbol{h})  \\right] - \\mathcal{D}\\left[Q(\\boldsymbol{h})\\|P(\\boldsymbol{h})\\right].\n",
    "$$"
   ]
  },
  {
   "cell_type": "markdown",
   "id": "cbf0dae7",
   "metadata": {},
   "source": [
    "## Rearraning\n",
    "\n",
    "Using Bayes rule we obtain"
   ]
  },
  {
   "cell_type": "markdown",
   "id": "ba81887e",
   "metadata": {},
   "source": [
    "$$\n",
    "E_{\\boldsymbol{h}\\sim Q}\\left[\\log p(y_i|\\boldsymbol{h},x_i)\\right]=E_{\\boldsymbol{h}\\sim Q}\\left[\\log p(\\boldsymbol{h}|y_i,x_i) - \\log p(\\boldsymbol{h}|x_i) + \\log p(y_i|x_i) \\right]\n",
    "$$"
   ]
  },
  {
   "cell_type": "markdown",
   "id": "9b339c56",
   "metadata": {},
   "source": [
    "Rearranging the terms and subtracting $E_{\\boldsymbol{h}\\sim Q}\\log Q(\\boldsymbol{h})$ from both sides gives"
   ]
  },
  {
   "cell_type": "markdown",
   "id": "4fa60bbb",
   "metadata": {},
   "source": [
    "$$\n",
    "\\begin{array}{c}\n",
    "\\log P(y_i|x_i) - E_{\\boldsymbol{h}\\sim Q}\\left[\\log Q(\\boldsymbol{h})-\\log p(\\boldsymbol{h}|x_i,y_i)\\right]=\\hspace{10em}\\\\\n",
    "\\hspace{10em}E_{\\boldsymbol{h}\\sim Q}\\left[\\log p(y_i|\\boldsymbol{h},x_i)+\\log p(\\boldsymbol{h}|x_i)-\\log Q(\\boldsymbol{h})\\right]\n",
    "\\end{array}\n",
    "$$"
   ]
  },
  {
   "cell_type": "markdown",
   "id": "a09f490a",
   "metadata": {},
   "source": [
    "Note that $\\boldsymbol{x}$ is fixed, and $Q$ can be \\textit{any} distribution, not\n",
    "just a distribution which does a good job mapping $\\boldsymbol{x}$ to the $\\boldsymbol{h}$'s\n",
    "that can produce $X$."
   ]
  },
  {
   "cell_type": "markdown",
   "id": "928bdede",
   "metadata": {},
   "source": [
    "## Inferring the probability\n",
    "\n",
    "Since we are interested in inferring $p(\\boldsymbol{x})$, it makes sense to\n",
    "construct a $Q$ which \\textit{does} depend on $\\boldsymbol{x}$, and in particular,\n",
    "one which makes $\\mathcal{D}\\left[Q(\\boldsymbol{h})\\|p(\\boldsymbol{h}|\\boldsymbol{x})\\right]$ small"
   ]
  },
  {
   "cell_type": "markdown",
   "id": "0e305858",
   "metadata": {},
   "source": [
    "$$\n",
    "\\log p(\\boldsymbol{x}) - \\mathcal{D}\\left[Q(\\boldsymbol{h}|\\boldsymbol{x})\\|p(\\boldsymbol{h}|\\boldsymbol{x})\\right]=E_{\\boldsymbol{h}\\sim Q}\\left[\\log p(\\boldsymbol{x}|\\boldsymbol{h})  \\right] - \\mathcal{D}\\left[Q(\\boldsymbol{h}|\\boldsymbol{x})\\|p(\\boldsymbol{h})\\right].\n",
    "$$"
   ]
  },
  {
   "cell_type": "markdown",
   "id": "be8817fd",
   "metadata": {},
   "source": [
    "Hence, during training, it makes sense to choose a $Q$ which will make\n",
    "$E_{\\boldsymbol{h}\\sim Q}[\\log Q(\\boldsymbol{h})-$ $\\log p(\\boldsymbol{h}|x_i,y_i)]$ (a\n",
    "$\\mathcal{D}$-divergence) small, such that the right hand side is a\n",
    "close approximation to $\\log p(y_i|y_i)$."
   ]
  },
  {
   "cell_type": "markdown",
   "id": "e9e616ed",
   "metadata": {},
   "source": [
    "## Central equation of VAEs\n",
    "\n",
    "This equation serves as the core of the variational autoencoder, and\n",
    "it is worth spending some time thinking about what it means.\n",
    "\n",
    "1. The left hand side has the quantity we want to maximize, namely $\\log p(\\boldsymbol{x})$ plus an error term.\n",
    "\n",
    "2. The right hand side is something we can optimize via stochastic gradient descent given the right choice of $Q$."
   ]
  },
  {
   "cell_type": "markdown",
   "id": "28979759",
   "metadata": {},
   "source": [
    "## Setting up SGD\n",
    "So how can we perform stochastic gradient descent?\n",
    "\n",
    "First we need to be a bit more specific about the form that $Q(\\boldsymbol{h}|\\boldsymbol{x})$\n",
    "will take.  The usual choice is to say that\n",
    "$Q(\\boldsymbol{h}|\\boldsymbol{x})=\\mathcal{N}(\\boldsymbol{h}|\\mu(\\boldsymbol{x};\\vartheta),\\Sigma(;\\vartheta))$, where\n",
    "$\\mu$ and $\\Sigma$ are arbitrary deterministic functions with\n",
    "parameters $\\vartheta$ that can be learned from data (we will omit\n",
    "$\\vartheta$ in later equations).  In practice, $\\mu$ and $\\Sigma$ are\n",
    "again implemented via neural networks, and $\\Sigma$ is constrained to\n",
    "be a diagonal matrix."
   ]
  },
  {
   "cell_type": "markdown",
   "id": "005f9454",
   "metadata": {},
   "source": [
    "## More on the SGD\n",
    "\n",
    "The name variational \"autoencoder\" comes from\n",
    "the fact that $\\mu$ and $\\Sigma$ are \"encoding\" $\\boldsymbol{x}$ into the latent\n",
    "space $\\boldsymbol{h}$.  The advantages of this choice are computational, as they\n",
    "make it clear how to compute the right hand side.  The last\n",
    "term---$\\mathcal{D}\\left[Q(\\boldsymbol{h}|\\boldsymbol{x})\\|p(\\boldsymbol{h})\\right]$---is now a KL-divergence\n",
    "between two multivariate Gaussian distributions, which can be computed\n",
    "in closed form as:"
   ]
  },
  {
   "cell_type": "markdown",
   "id": "02b912b7",
   "metadata": {},
   "source": [
    "$$\n",
    "\\begin{array}{c}\n",
    " \\mathcal{D}[\\mathcal{N}(\\mu_0,\\Sigma_0) \\| \\mathcal{N}(\\mu_1,\\Sigma_1)] = \\hspace{20em}\\\\\n",
    "  \\hspace{5em}\\frac{ 1 }{ 2 } \\left( \\mathrm{tr} \\left( \\Sigma_1^{-1} \\Sigma_0 \\right) + \\left( \\mu_1 - \\mu_0\\right)^\\top \\Sigma_1^{-1} ( \\mu_1 - \\mu_0 ) - k + \\log \\left( \\frac{ \\det \\Sigma_1 }{ \\det \\Sigma_0  } \\right)  \\right)\n",
    "\\end{array}\n",
    "$$"
   ]
  },
  {
   "cell_type": "markdown",
   "id": "f9d0c417",
   "metadata": {},
   "source": [
    "where $k$ is the dimensionality of the distribution."
   ]
  },
  {
   "cell_type": "markdown",
   "id": "bf45f7a8",
   "metadata": {},
   "source": [
    "## Simplification\n",
    "In our case, this simplifies to:"
   ]
  },
  {
   "cell_type": "markdown",
   "id": "af4e9242",
   "metadata": {},
   "source": [
    "$$\n",
    "\\begin{array}{c}\n",
    " \\mathcal{D}[\\mathcal{N}(\\mu(X),\\Sigma(X)) \\| \\mathcal{N}(0,I)] = \\hspace{20em}\\\\\n",
    "\\hspace{6em}\\frac{ 1 }{ 2 } \\left( \\mathrm{tr} \\left( \\Sigma(X) \\right) + \\left( \\mu(X)\\right)^\\top ( \\mu(X) ) - k - \\log\\det\\left(  \\Sigma(X)  \\right)  \\right).\n",
    "\\end{array}\n",
    "$$"
   ]
  },
  {
   "cell_type": "markdown",
   "id": "dd82cf3e",
   "metadata": {},
   "source": [
    "## Terms to compute\n",
    "\n",
    "The first term on the right hand side is a bit more tricky.\n",
    "We could use sampling to estimate $E_{z\\sim Q}\\left[\\log P(X|z)  \\right]$, but getting a good estimate would require passing many samples of $z$ through $f$, which would be expensive.\n",
    "Hence, as is standard in stochastic gradient descent, we take one sample of $z$ and treat $\\log P(X|z)$ for that $z$ as an approximation of $E_{z\\sim Q}\\left[\\log P(X|z)  \\right]$.\n",
    "After all, we are already doing stochastic gradient descent over different values of $X$ sampled from a dataset $D$.\n",
    "The full equation we want to optimize is:"
   ]
  },
  {
   "cell_type": "markdown",
   "id": "70d40c02",
   "metadata": {},
   "source": [
    "$$\n",
    "\\begin{array}{c}\n",
    "    E_{X\\sim D}\\left[\\log P(X) - \\mathcal{D}\\left[Q(z|X)\\|P(z|X)\\right]\\right]=\\hspace{16em}\\\\\n",
    "\\hspace{10em}E_{X\\sim D}\\left[E_{z\\sim Q}\\left[\\log P(X|z)  \\right] - \\mathcal{D}\\left[Q(z|X)\\|P(z)\\right]\\right].\n",
    "\\end{array}\n",
    "$$"
   ]
  },
  {
   "cell_type": "markdown",
   "id": "a8096b5a",
   "metadata": {},
   "source": [
    "## Computing the gradients\n",
    "\n",
    "If we take the gradient of this equation, the gradient symbol can be moved into the expectations.\n",
    "Therefore, we can sample a single value of $X$ and a single value of $z$ from the distribution $Q(z|X)$, and compute the gradient of:"
   ]
  },
  {
   "cell_type": "markdown",
   "id": "7df4b847",
   "metadata": {},
   "source": [
    "<!-- Equation labels as ordinary links -->\n",
    "<div id=\"_auto1\"></div>\n",
    "\n",
    "$$\n",
    "\\begin{equation}\n",
    " \\log P(X|z)-\\mathcal{D}\\left[Q(z|X)\\|P(z)\\right].\n",
    "\\label{_auto1} \\tag{1}\n",
    "\\end{equation}\n",
    "$$"
   ]
  },
  {
   "cell_type": "markdown",
   "id": "6ead5f46",
   "metadata": {},
   "source": [
    "We can then average the gradient of this function over arbitrarily many samples of $X$ and $z$, and the result converges to the gradient.\n",
    "\n",
    "There is, however, a significant problem\n",
    "$E_{z\\sim Q}\\left[\\log P(X|z)  \\right]$ depends not just on the parameters of $P$, but also on the parameters of $Q$.\n",
    "\n",
    "In order to make VAEs work, it is essential to drive $Q$ to produce codes for $X$ that $P$ can reliably decode."
   ]
  },
  {
   "cell_type": "markdown",
   "id": "c3ee905e",
   "metadata": {},
   "source": [
    "$$\n",
    "E_{X\\sim D}\\left[E_{\\epsilon\\sim\\mathcal{N}(0,I)}[\\log P(X|z=\\mu(X)+\\Sigma^{1/2}(X)*\\epsilon)]-\\mathcal{D}\\left[Q(z|X)\\|P(z)\\right]\\right].\n",
    "$$"
   ]
  },
  {
   "cell_type": "markdown",
   "id": "e83b9852",
   "metadata": {},
   "source": [
    "## Code examples using Keras\n",
    "\n",
    "Code taken from  <https://keras.io/examples/generative/vae/>"
   ]
  },
  {
   "cell_type": "code",
   "execution_count": 2,
   "id": "03efb570",
   "metadata": {},
   "outputs": [],
   "source": [
    "\"\"\"\n",
    "Title: Variational AutoEncoder\n",
    "Author: [fchollet](https://twitter.com/fchollet)\n",
    "Date created: 2020/05/03\n",
    "Last modified: 2023/11/22\n",
    "Description: Convolutional Variational AutoEncoder (VAE) trained on MNIST digits.\n",
    "Accelerator: GPU\n",
    "\"\"\"\n",
    "\n",
    "\"\"\"\n",
    "## Setup\n",
    "\"\"\"\n",
    "\n",
    "import os\n",
    "\n",
    "os.environ[\"KERAS_BACKEND\"] = \"tensorflow\"\n",
    "\n",
    "import numpy as np\n",
    "import tensorflow as tf\n",
    "import keras\n",
    "from keras import layers\n",
    "\n",
    "\"\"\"\n",
    "## Create a sampling layer\n",
    "\"\"\"\n",
    "\n",
    "\n",
    "class Sampling(layers.Layer):\n",
    "    \"\"\"Uses (z_mean, z_log_var) to sample z, the vector encoding a digit.\"\"\"\n",
    "\n",
    "    def call(self, inputs):\n",
    "        z_mean, z_log_var = inputs\n",
    "        batch = tf.shape(z_mean)[0]\n",
    "        dim = tf.shape(z_mean)[1]\n",
    "        epsilon = tf.random.normal(shape=(batch, dim))\n",
    "        return z_mean + tf.exp(0.5 * z_log_var) * epsilon\n",
    "\n",
    "\n",
    "\"\"\"\n",
    "## Build the encoder\n",
    "\"\"\"\n",
    "\n",
    "latent_dim = 2\n",
    "\n",
    "encoder_inputs = keras.Input(shape=(28, 28, 1))\n",
    "x = layers.Conv2D(32, 3, activation=\"relu\", strides=2, padding=\"same\")(encoder_inputs)\n",
    "x = layers.Conv2D(64, 3, activation=\"relu\", strides=2, padding=\"same\")(x)\n",
    "x = layers.Flatten()(x)\n",
    "x = layers.Dense(16, activation=\"relu\")(x)\n",
    "z_mean = layers.Dense(latent_dim, name=\"z_mean\")(x)\n",
    "z_log_var = layers.Dense(latent_dim, name=\"z_log_var\")(x)\n",
    "z = Sampling()([z_mean, z_log_var])\n",
    "encoder = keras.Model(encoder_inputs, [z_mean, z_log_var, z], name=\"encoder\")\n",
    "encoder.summary()\n",
    "\n",
    "\"\"\"\n",
    "## Build the decoder\n",
    "\"\"\"\n",
    "\n",
    "latent_inputs = keras.Input(shape=(latent_dim,))\n",
    "x = layers.Dense(7 * 7 * 64, activation=\"relu\")(latent_inputs)\n",
    "x = layers.Reshape((7, 7, 64))(x)\n",
    "x = layers.Conv2DTranspose(64, 3, activation=\"relu\", strides=2, padding=\"same\")(x)\n",
    "x = layers.Conv2DTranspose(32, 3, activation=\"relu\", strides=2, padding=\"same\")(x)\n",
    "decoder_outputs = layers.Conv2DTranspose(1, 3, activation=\"sigmoid\", padding=\"same\")(x)\n",
    "decoder = keras.Model(latent_inputs, decoder_outputs, name=\"decoder\")\n",
    "decoder.summary()\n",
    "\n",
    "\"\"\"\n",
    "## Define the VAE as a `Model` with a custom `train_step`\n",
    "\"\"\"\n",
    "\n",
    "\n",
    "class VAE(keras.Model):\n",
    "    def __init__(self, encoder, decoder, **kwargs):\n",
    "        super().__init__(**kwargs)\n",
    "        self.encoder = encoder\n",
    "        self.decoder = decoder\n",
    "        self.total_loss_tracker = keras.metrics.Mean(name=\"total_loss\")\n",
    "        self.reconstruction_loss_tracker = keras.metrics.Mean(\n",
    "            name=\"reconstruction_loss\"\n",
    "        )\n",
    "        self.kl_loss_tracker = keras.metrics.Mean(name=\"kl_loss\")\n",
    "\n",
    "    @property\n",
    "    def metrics(self):\n",
    "        return [\n",
    "            self.total_loss_tracker,\n",
    "            self.reconstruction_loss_tracker,\n",
    "            self.kl_loss_tracker,\n",
    "        ]\n",
    "\n",
    "    def train_step(self, data):\n",
    "        with tf.GradientTape() as tape:\n",
    "            z_mean, z_log_var, z = self.encoder(data)\n",
    "            reconstruction = self.decoder(z)\n",
    "            reconstruction_loss = tf.reduce_mean(\n",
    "                tf.reduce_sum(\n",
    "                    keras.losses.binary_crossentropy(data, reconstruction),\n",
    "                    axis=(1, 2),\n",
    "                )\n",
    "            )\n",
    "            kl_loss = -0.5 * (1 + z_log_var - tf.square(z_mean) - tf.exp(z_log_var))\n",
    "            kl_loss = tf.reduce_mean(tf.reduce_sum(kl_loss, axis=1))\n",
    "            total_loss = reconstruction_loss + kl_loss\n",
    "        grads = tape.gradient(total_loss, self.trainable_weights)\n",
    "        self.optimizer.apply_gradients(zip(grads, self.trainable_weights))\n",
    "        self.total_loss_tracker.update_state(total_loss)\n",
    "        self.reconstruction_loss_tracker.update_state(reconstruction_loss)\n",
    "        self.kl_loss_tracker.update_state(kl_loss)\n",
    "        return {\n",
    "            \"loss\": self.total_loss_tracker.result(),\n",
    "            \"reconstruction_loss\": self.reconstruction_loss_tracker.result(),\n",
    "            \"kl_loss\": self.kl_loss_tracker.result(),\n",
    "        }\n",
    "\n",
    "\n",
    "\"\"\"\n",
    "## Train the VAE\n",
    "\"\"\"\n",
    "\n",
    "(x_train, _), (x_test, _) = keras.datasets.mnist.load_data()\n",
    "mnist_digits = np.concatenate([x_train, x_test], axis=0)\n",
    "mnist_digits = np.expand_dims(mnist_digits, -1).astype(\"float32\") / 255\n",
    "\n",
    "vae = VAE(encoder, decoder)\n",
    "vae.compile(optimizer=keras.optimizers.Adam())\n",
    "vae.fit(mnist_digits, epochs=30, batch_size=128)\n",
    "\n",
    "\"\"\"\n",
    "## Display a grid of sampled digits\n",
    "\"\"\"\n",
    "\n",
    "import matplotlib.pyplot as plt\n",
    "\n",
    "\n",
    "def plot_latent_space(vae, n=30, figsize=15):\n",
    "    # display a n*n 2D manifold of digits\n",
    "    digit_size = 28\n",
    "    scale = 1.0\n",
    "    figure = np.zeros((digit_size * n, digit_size * n))\n",
    "    # linearly spaced coordinates corresponding to the 2D plot\n",
    "    # of digit classes in the latent space\n",
    "    grid_x = np.linspace(-scale, scale, n)\n",
    "    grid_y = np.linspace(-scale, scale, n)[::-1]\n",
    "\n",
    "    for i, yi in enumerate(grid_y):\n",
    "        for j, xi in enumerate(grid_x):\n",
    "            z_sample = np.array([[xi, yi]])\n",
    "            x_decoded = vae.decoder.predict(z_sample, verbose=0)\n",
    "            digit = x_decoded[0].reshape(digit_size, digit_size)\n",
    "            figure[\n",
    "                i * digit_size : (i + 1) * digit_size,\n",
    "                j * digit_size : (j + 1) * digit_size,\n",
    "            ] = digit\n",
    "\n",
    "    plt.figure(figsize=(figsize, figsize))\n",
    "    start_range = digit_size // 2\n",
    "    end_range = n * digit_size + start_range\n",
    "    pixel_range = np.arange(start_range, end_range, digit_size)\n",
    "    sample_range_x = np.round(grid_x, 1)\n",
    "    sample_range_y = np.round(grid_y, 1)\n",
    "    plt.xticks(pixel_range, sample_range_x)\n",
    "    plt.yticks(pixel_range, sample_range_y)\n",
    "    plt.xlabel(\"z[0]\")\n",
    "    plt.ylabel(\"z[1]\")\n",
    "    plt.imshow(figure, cmap=\"Greys_r\")\n",
    "    plt.show()\n",
    "\n",
    "\n",
    "plot_latent_space(vae)\n",
    "\n",
    "\"\"\"\n",
    "## Display how the latent space clusters different digit classes\n",
    "\"\"\"\n",
    "\n",
    "\n",
    "def plot_label_clusters(vae, data, labels):\n",
    "    # display a 2D plot of the digit classes in the latent space\n",
    "    z_mean, _, _ = vae.encoder.predict(data, verbose=0)\n",
    "    plt.figure(figsize=(12, 10))\n",
    "    plt.scatter(z_mean[:, 0], z_mean[:, 1], c=labels)\n",
    "    plt.colorbar()\n",
    "    plt.xlabel(\"z[0]\")\n",
    "    plt.ylabel(\"z[1]\")\n",
    "    plt.show()\n",
    "\n",
    "\n",
    "(x_train, y_train), _ = keras.datasets.mnist.load_data()\n",
    "x_train = np.expand_dims(x_train, -1).astype(\"float32\") / 255\n",
    "\n",
    "plot_label_clusters(vae, x_train, y_train)"
   ]
  },
  {
   "cell_type": "markdown",
   "id": "1b1dbf7f",
   "metadata": {},
   "source": [
    "## Code in PyTorch for VAEs"
   ]
  },
  {
   "cell_type": "code",
   "execution_count": 3,
   "id": "1be5d528",
   "metadata": {},
   "outputs": [],
   "source": [
    "import torch\n",
    "from torch.autograd import Variable\n",
    "import numpy as np\n",
    "import torch.nn.functional as F\n",
    "import torchvision\n",
    "from torchvision import transforms\n",
    "import torch.optim as optim\n",
    "from torch import nn\n",
    "import matplotlib.pyplot as plt\n",
    "from torch import distributions\n",
    "\n",
    "class Encoder(torch.nn.Module):\n",
    "    def __init__(self, D_in, H, latent_size):\n",
    "        super(Encoder, self).__init__()\n",
    "        self.linear1 = torch.nn.Linear(D_in, H)\n",
    "        self.linear2 = torch.nn.Linear(H, H)\n",
    "        self.enc_mu = torch.nn.Linear(H, latent_size)\n",
    "        self.enc_log_sigma = torch.nn.Linear(H, latent_size)\n",
    "\n",
    "    def forward(self, x):\n",
    "        x = F.relu(self.linear1(x))\n",
    "        x = F.relu(self.linear2(x))\n",
    "        mu = self.enc_mu(x)\n",
    "        log_sigma = self.enc_log_sigma(x)\n",
    "        sigma = torch.exp(log_sigma)\n",
    "        return torch.distributions.Normal(loc=mu, scale=sigma)\n",
    "\n",
    "\n",
    "class Decoder(torch.nn.Module):\n",
    "    def __init__(self, D_in, H, D_out):\n",
    "        super(Decoder, self).__init__()\n",
    "        self.linear1 = torch.nn.Linear(D_in, H)\n",
    "        self.linear2 = torch.nn.Linear(H, D_out)\n",
    "        \n",
    "\n",
    "    def forward(self, x):\n",
    "        x = F.relu(self.linear1(x))\n",
    "        mu = torch.tanh(self.linear2(x))\n",
    "        return torch.distributions.Normal(mu, torch.ones_like(mu))\n",
    "\n",
    "class VAE(torch.nn.Module):\n",
    "    def __init__(self, encoder, decoder):\n",
    "        super(VAE, self).__init__()\n",
    "        self.encoder = encoder\n",
    "        self.decoder = decoder\n",
    "\n",
    "    def forward(self, state):\n",
    "        q_z = self.encoder(state)\n",
    "        z = q_z.rsample()\n",
    "        return self.decoder(z), q_z\n",
    "\n",
    "\n",
    "transform = transforms.Compose(\n",
    "    [transforms.ToTensor(),\n",
    "     # Normalize the images to be -0.5, 0.5\n",
    "     transforms.Normalize(0.5, 1)]\n",
    "    )\n",
    "mnist = torchvision.datasets.MNIST('./', download=True, transform=transform)\n",
    "\n",
    "input_dim = 28 * 28\n",
    "batch_size = 128\n",
    "num_epochs = 100\n",
    "learning_rate = 0.001\n",
    "hidden_size = 512\n",
    "latent_size = 8\n",
    "\n",
    "if torch.cuda.is_available():\n",
    "    device = torch.device('cuda')\n",
    "else:\n",
    "    device = torch.device('cpu')\n",
    "\n",
    "dataloader = torch.utils.data.DataLoader(\n",
    "    mnist, batch_size=batch_size,\n",
    "    shuffle=True, \n",
    "    pin_memory=torch.cuda.is_available())\n",
    "\n",
    "print('Number of samples: ', len(mnist))\n",
    "\n",
    "encoder = Encoder(input_dim, hidden_size, latent_size)\n",
    "decoder = Decoder(latent_size, hidden_size, input_dim)\n",
    "\n",
    "vae = VAE(encoder, decoder).to(device)\n",
    "\n",
    "optimizer = optim.Adam(vae.parameters(), lr=learning_rate)\n",
    "for epoch in range(num_epochs):\n",
    "    for data in dataloader:\n",
    "        inputs, _ = data\n",
    "        inputs = inputs.view(-1, input_dim).to(device)\n",
    "        optimizer.zero_grad()\n",
    "        p_x, q_z = vae(inputs)\n",
    "        log_likelihood = p_x.log_prob(inputs).sum(-1).mean()\n",
    "        kl = torch.distributions.kl_divergence(\n",
    "            q_z, \n",
    "            torch.distributions.Normal(0, 1.)\n",
    "        ).sum(-1).mean()\n",
    "        loss = -(log_likelihood - kl)\n",
    "        loss.backward()\n",
    "        optimizer.step()\n",
    "        l = loss.item()\n",
    "    print(epoch, l, log_likelihood.item(), kl.item())"
   ]
  },
  {
   "cell_type": "markdown",
   "id": "984d379f",
   "metadata": {},
   "source": [
    "## What is a GAN?\n",
    "\n",
    "A GAN is a deep neural network which consists of two networks, a\n",
    "so-called generator network and a discriminating network, or just\n",
    "discriminator. Through several iterations of generation and\n",
    "discrimination, the idea is that these networks will train each other,\n",
    "while also trying to outsmart each other."
   ]
  },
  {
   "cell_type": "markdown",
   "id": "356ddb7d",
   "metadata": {},
   "source": [
    "## What is a generator network?\n",
    "\n",
    "A generator network is often a deep network which uses existing data\n",
    "to generate new data (from for example simulations of physical\n",
    "systems, imagesm video, audio and more) from randomly generated\n",
    "inputs, the so-called latent space. Training the network allows us to\n",
    "generate say new data, images etc. As an example a generator network\n",
    "could for example be a Boltzmann machine as discussed earlier. This\n",
    "machine is trained to produce for example a quantum mechanical\n",
    "probability distribution.\n",
    "\n",
    "It can a simple neural network with an input layer and an output layer and a given number of hidden layers."
   ]
  },
  {
   "cell_type": "markdown",
   "id": "0105d582",
   "metadata": {},
   "source": [
    "## And what is a discriminator network?\n",
    "\n",
    "A discriminator tries to distinguish between real data and those generated by the abovementioned generator."
   ]
  },
  {
   "cell_type": "markdown",
   "id": "6637eb5b",
   "metadata": {},
   "source": [
    "## Appplications of GANs\n",
    "\n",
    "There are exteremely many applications of GANs\n",
    "1. Image generation\n",
    "\n",
    "2. Text-to-image analysis\n",
    "\n",
    "3. Face-aging\n",
    "\n",
    "4. Image-to-image translation\n",
    "\n",
    "5. Video synthesis\n",
    "\n",
    "6. High-resolution image generation\n",
    "\n",
    "7. Completing missing parts of images and much more"
   ]
  },
  {
   "cell_type": "markdown",
   "id": "24be7922",
   "metadata": {},
   "source": [
    "## Generative Adversarial Networks\n",
    "\n",
    "**Generative Adversarial Networks** are a type of unsupervised machine learning\n",
    "algorithm proposed by Goodfellow et. al, see <https://arxiv.org/pdf/1406.2661.pdf>\n",
    "in 2014 (Read the paper first it's only 6 pages). The simplest formulation of\n",
    "the model is based on a game theoretic approach, *zero sum game*, where we pit\n",
    "two neural networks against one another. We define two rival networks, one\n",
    "generator $g$, and one discriminator $d$. The generator directly produces\n",
    "samples"
   ]
  },
  {
   "cell_type": "markdown",
   "id": "b874b584",
   "metadata": {},
   "source": [
    "$$\n",
    "x = g(z; \\theta^{(g)}).\n",
    "$$"
   ]
  },
  {
   "cell_type": "markdown",
   "id": "ec6623b5",
   "metadata": {},
   "source": [
    "## Discriminator\n",
    "\n",
    "The discriminator attempts to distinguish between samples drawn from the\n",
    "training data and samples drawn from the generator. In other words, it tries to\n",
    "tell the difference between the fake data produced by $g$ and the actual data\n",
    "samples we want to do prediction on. The discriminator outputs a probability\n",
    "value given by"
   ]
  },
  {
   "cell_type": "markdown",
   "id": "7ca34a9e",
   "metadata": {},
   "source": [
    "$$\n",
    "d(x; \\theta^{(d)}).\n",
    "$$"
   ]
  },
  {
   "cell_type": "markdown",
   "id": "7b130bbc",
   "metadata": {},
   "source": [
    "indicating the probability that $x$ is a real training example rather than a\n",
    "fake sample the generator has generated."
   ]
  },
  {
   "cell_type": "markdown",
   "id": "d40d338f",
   "metadata": {},
   "source": [
    "## Zero-sum game\n",
    "\n",
    "The simplest way to formulate the\n",
    "learning process in a generative adversarial network is a zero-sum game, in\n",
    "which a function"
   ]
  },
  {
   "cell_type": "markdown",
   "id": "1980e5c9",
   "metadata": {},
   "source": [
    "$$\n",
    "v(\\theta^{(g)}, \\theta^{(d)}),\n",
    "$$"
   ]
  },
  {
   "cell_type": "markdown",
   "id": "68bbcb54",
   "metadata": {},
   "source": [
    "determines the reward for the discriminator, while the generator gets the\n",
    "conjugate reward"
   ]
  },
  {
   "cell_type": "markdown",
   "id": "088322ac",
   "metadata": {},
   "source": [
    "$$\n",
    "-v(\\theta^{(g)}, \\theta^{(d)})\n",
    "$$"
   ]
  },
  {
   "cell_type": "markdown",
   "id": "a343bbf6",
   "metadata": {},
   "source": [
    "## Maximizing reward\n",
    "\n",
    "During learning both of the networks maximize their own reward function, so that\n",
    "the generator gets better and better at tricking the discriminator, while the\n",
    "discriminator gets better and better at telling the difference between the fake\n",
    "and real data. The generator and discriminator alternate on which one trains at\n",
    "one time (i.e. for one epoch). In other words, we keep the generator constant\n",
    "and train the discriminator, then we keep the discriminator constant to train\n",
    "the generator and repeat. It is this back and forth dynamic which lets GANs\n",
    "tackle otherwise intractable generative problems. As the generator improves with\n",
    " training, the discriminator's performance gets worse because it cannot easily\n",
    " tell the difference between real and fake. If the generator ends up succeeding\n",
    " perfectly, the the discriminator will do no better than random guessing i.e.\n",
    " 50\\%."
   ]
  },
  {
   "cell_type": "markdown",
   "id": "c1501aff",
   "metadata": {},
   "source": [
    "## Progression in training\n",
    "\n",
    "This progression in the training poses a problem for the convergence\n",
    " criteria for GANs. The discriminator feedback gets less meaningful over time,\n",
    " if we continue training after this point then the generator is effectively\n",
    " training on junk data which can undo the learning up to that point. Therefore,\n",
    " we stop training when the discriminator starts outputting $1/2$ everywhere.\n",
    " At convergence we have"
   ]
  },
  {
   "cell_type": "markdown",
   "id": "c14ca533",
   "metadata": {},
   "source": [
    "$$\n",
    "g^* = \\underset{g}{\\mathrm{argmin}}\\hspace{2pt}\n",
    "          \\underset{d}{\\mathrm{max}}v(\\theta^{(g)}, \\theta^{(d)}),\n",
    "$$"
   ]
  },
  {
   "cell_type": "markdown",
   "id": "19dae15c",
   "metadata": {},
   "source": [
    "## Deafault choice\n",
    "The default choice for $v$ is"
   ]
  },
  {
   "cell_type": "markdown",
   "id": "aed1e660",
   "metadata": {},
   "source": [
    "$$\n",
    "v(\\theta^{(g)}, \\theta^{(d)}) = \\mathbb{E}_{x\\sim p_\\mathrm{data}}\\log d(x)\n",
    "                                  + \\mathbb{E}_{x\\sim p_\\mathrm{model}}\n",
    "                                  \\log (1 - d(x)).\n",
    "$$"
   ]
  },
  {
   "cell_type": "markdown",
   "id": "7e8d621b",
   "metadata": {},
   "source": [
    "## Design of GANs\n",
    "The main motivation for the design of GANs is that the learning process requires\n",
    "neither approximate inference (variational autoencoders for example) nor\n",
    "approximation of a partition function. In the case where"
   ]
  },
  {
   "cell_type": "markdown",
   "id": "e04f32e9",
   "metadata": {},
   "source": [
    "$$\n",
    "\\underset{d}{\\mathrm{max}}v(\\theta^{(g)}, \\theta^{(d)})\n",
    "$$"
   ]
  },
  {
   "cell_type": "markdown",
   "id": "3959373a",
   "metadata": {},
   "source": [
    "is convex in $\\theta^{(g)}$ then the procedure is guaranteed to converge and is\n",
    "asymptotically consistent\n",
    "( [Seth Lloyd on QuGANs](https://arxiv.org/pdf/1804.09139.pdf)  ). This is in\n",
    "general not the case and it is possible to get situations where the training\n",
    "process never converges because the generator and discriminator chase one\n",
    "another around in the parameter space indefinitely."
   ]
  },
  {
   "cell_type": "markdown",
   "id": "a4fd2b8b",
   "metadata": {},
   "source": [
    "## More references\n",
    "\n",
    "A much deeper discussion on\n",
    "the currently open research problem of GAN convergence is available\n",
    "from <https://www.deeplearningbook.org/contents/generative_models.html>. To\n",
    "anyone interested in learning more about GANs it is a highly recommended read.\n",
    "Direct quote: **In this best-performing formulation, the generator aims to\n",
    "increase the log probability that the discriminator makes a mistake, rather than\n",
    "aiming to decrease the log probability that the discriminator makes the correct\n",
    "prediction.** Another interesting read can be found at <https://arxiv.org/abs/1701.00160>."
   ]
  },
  {
   "cell_type": "markdown",
   "id": "6cfd564c",
   "metadata": {},
   "source": [
    "## Writing Our First Generative Adversarial Network\n",
    "\n",
    "This part is best seen using the jupyter-notebook.\n",
    "\n",
    "Let us implement a GAN in tensorflow. We will study\n",
    "the performance of our GAN on the MNIST dataset. This code is based on and\n",
    "adapted from the Google tutorial at <https://www.tensorflow.org/tutorials/generative/dcgan>\n",
    "\n",
    "First we import our libraries"
   ]
  },
  {
   "cell_type": "code",
   "execution_count": 4,
   "id": "cb8b0bda",
   "metadata": {},
   "outputs": [],
   "source": [
    "import os\n",
    "import time\n",
    "import numpy as np\n",
    "import tensorflow as tf\n",
    "import matplotlib.pyplot as plt\n",
    "from tensorflow.keras import layers\n",
    "from tensorflow.keras.utils import plot_model"
   ]
  },
  {
   "cell_type": "markdown",
   "id": "3576e204",
   "metadata": {},
   "source": [
    "Next we define our hyperparameters and import our data the usual way"
   ]
  },
  {
   "cell_type": "code",
   "execution_count": 5,
   "id": "09b4500f",
   "metadata": {},
   "outputs": [],
   "source": [
    "BUFFER_SIZE = 60000\n",
    "BATCH_SIZE = 256\n",
    "EPOCHS = 30\n",
    "\n",
    "data = tf.keras.datasets.mnist.load_data()\n",
    "(train_images, train_labels), (test_images, test_labels) = data\n",
    "train_images = np.reshape(train_images, (train_images.shape[0],\n",
    "                                         28,\n",
    "                                         28,\n",
    "                                         1)).astype('float32')\n",
    "\n",
    "# we normalize between -1 and 1\n",
    "train_images = (train_images - 127.5) / 127.5\n",
    "training_dataset = tf.data.Dataset.from_tensor_slices(\n",
    "                      train_images).shuffle(BUFFER_SIZE).batch(BATCH_SIZE)"
   ]
  },
  {
   "cell_type": "markdown",
   "id": "40322860",
   "metadata": {},
   "source": [
    "Let's have a quick look"
   ]
  },
  {
   "cell_type": "code",
   "execution_count": 6,
   "id": "6985fd6f",
   "metadata": {},
   "outputs": [],
   "source": [
    "plt.imshow(train_images[0], cmap='Greys')\n",
    "plt.show()"
   ]
  },
  {
   "cell_type": "markdown",
   "id": "4e975df5",
   "metadata": {},
   "source": [
    "Now we define our two models. This is where the 'magic' happens. There are a\n",
    "huge amount of possible formulations for both models. A lot of engineering and\n",
    "trial and error can be done here to try to produce better performing models. For\n",
    "more advanced GANs this is by far the step where you can 'make or break' a\n",
    "model.\n",
    "\n",
    "We start with the generator. As stated in the introductory text the generator\n",
    "$g$ upsamples from a random sample to the shape of what we want to predict. In\n",
    "our case we are trying to predict MNIST images ($28\\times 28$ pixels)."
   ]
  },
  {
   "cell_type": "code",
   "execution_count": 7,
   "id": "97275dba",
   "metadata": {},
   "outputs": [],
   "source": [
    "def generator_model():\n",
    "    \"\"\"\n",
    "    The generator uses upsampling layers tf.keras.layers.Conv2DTranspose() to\n",
    "    produce an image from a random seed. We start with a Dense layer taking this\n",
    "    random sample as an input and subsequently upsample through multiple\n",
    "    convolutional layers.\n",
    "    \"\"\"\n",
    "\n",
    "    # we define our model\n",
    "    model = tf.keras.Sequential()\n",
    "\n",
    "\n",
    "    # adding our input layer. Dense means that every neuron is connected and\n",
    "    # the input shape is the shape of our random noise. The units need to match\n",
    "    # in some sense the upsampling strides to reach our desired output shape.\n",
    "    # we are using 100 random numbers as our seed\n",
    "    model.add(layers.Dense(units=7*7*BATCH_SIZE,\n",
    "                           use_bias=False,\n",
    "                           input_shape=(100, )))\n",
    "    # we normalize the output form the Dense layer\n",
    "    model.add(layers.BatchNormalization())\n",
    "    # and add an activation function to our 'layer'. LeakyReLU avoids vanishing\n",
    "    # gradient problem\n",
    "    model.add(layers.LeakyReLU())\n",
    "    model.add(layers.Reshape((7, 7, BATCH_SIZE)))\n",
    "    assert model.output_shape == (None, 7, 7, BATCH_SIZE)\n",
    "    # even though we just added four keras layers we think of everything above\n",
    "    # as 'one' layer\n",
    "\n",
    "    # next we add our upscaling convolutional layers\n",
    "    model.add(layers.Conv2DTranspose(filters=128,\n",
    "                                     kernel_size=(5, 5),\n",
    "                                     strides=(1, 1),\n",
    "                                     padding='same',\n",
    "                                     use_bias=False))\n",
    "    model.add(layers.BatchNormalization())\n",
    "    model.add(layers.LeakyReLU())\n",
    "    assert model.output_shape == (None, 7, 7, 128)\n",
    "\n",
    "    model.add(layers.Conv2DTranspose(filters=64,\n",
    "                                     kernel_size=(5, 5),\n",
    "                                     strides=(2, 2),\n",
    "                                     padding='same',\n",
    "                                     use_bias=False))\n",
    "    model.add(layers.BatchNormalization())\n",
    "    model.add(layers.LeakyReLU())\n",
    "    assert model.output_shape == (None, 14, 14, 64)\n",
    "\n",
    "    model.add(layers.Conv2DTranspose(filters=1,\n",
    "                                     kernel_size=(5, 5),\n",
    "                                     strides=(2, 2),\n",
    "                                     padding='same',\n",
    "                                     use_bias=False,\n",
    "                                     activation='tanh'))\n",
    "    assert model.output_shape == (None, 28, 28, 1)\n",
    "\n",
    "    return model"
   ]
  },
  {
   "cell_type": "markdown",
   "id": "92883e78",
   "metadata": {},
   "source": [
    "And there we have our 'simple' generator model. Now we move on to defining our\n",
    "discriminator model $d$, which is a convolutional neural network based image\n",
    "classifier."
   ]
  },
  {
   "cell_type": "code",
   "execution_count": 8,
   "id": "24f745f5",
   "metadata": {},
   "outputs": [],
   "source": [
    "def discriminator_model():\n",
    "    \"\"\"\n",
    "    The discriminator is a convolutional neural network based image classifier\n",
    "    \"\"\"\n",
    "\n",
    "    # we define our model\n",
    "    model = tf.keras.Sequential()\n",
    "    model.add(layers.Conv2D(filters=64,\n",
    "                            kernel_size=(5, 5),\n",
    "                            strides=(2, 2),\n",
    "                            padding='same',\n",
    "                            input_shape=[28, 28, 1]))\n",
    "    model.add(layers.LeakyReLU())\n",
    "    # adding a dropout layer as you do in conv-nets\n",
    "    model.add(layers.Dropout(0.3))\n",
    "\n",
    "\n",
    "    model.add(layers.Conv2D(filters=128,\n",
    "                            kernel_size=(5, 5),\n",
    "                            strides=(2, 2),\n",
    "                            padding='same'))\n",
    "    model.add(layers.LeakyReLU())\n",
    "    # adding a dropout layer as you do in conv-nets\n",
    "    model.add(layers.Dropout(0.3))\n",
    "\n",
    "    model.add(layers.Flatten())\n",
    "    model.add(layers.Dense(1))\n",
    "\n",
    "    return model"
   ]
  },
  {
   "cell_type": "markdown",
   "id": "b1231f67",
   "metadata": {},
   "source": [
    "Let us take a look at our models. **Note**: double click images for bigger view."
   ]
  },
  {
   "cell_type": "code",
   "execution_count": 9,
   "id": "e7ad59a6",
   "metadata": {},
   "outputs": [],
   "source": [
    "generator = generator_model()\n",
    "plot_model(generator, show_shapes=True, rankdir='LR')"
   ]
  },
  {
   "cell_type": "code",
   "execution_count": 10,
   "id": "e51a2208",
   "metadata": {},
   "outputs": [],
   "source": [
    "discriminator = discriminator_model()\n",
    "plot_model(discriminator, show_shapes=True, rankdir='LR')"
   ]
  },
  {
   "cell_type": "markdown",
   "id": "96f320b7",
   "metadata": {},
   "source": [
    "Next we need a few helper objects we will use in training"
   ]
  },
  {
   "cell_type": "code",
   "execution_count": 11,
   "id": "c7d157bb",
   "metadata": {},
   "outputs": [],
   "source": [
    "cross_entropy = tf.keras.losses.BinaryCrossentropy(from_logits=True)\n",
    "generator_optimizer = tf.keras.optimizers.Adam(1e-4)\n",
    "discriminator_optimizer = tf.keras.optimizers.Adam(1e-4)"
   ]
  },
  {
   "cell_type": "markdown",
   "id": "8d6f3e4b",
   "metadata": {},
   "source": [
    "The first object, $cross\\_entropy$ is our loss function and the two others are\n",
    "our optimizers. Notice we use the same learning rate for both $g$ and $d$. This\n",
    "is because they need to improve their accuracy at approximately equal speeds to\n",
    "get convergence (not necessarily exactly equal). Now we define our loss\n",
    "functions"
   ]
  },
  {
   "cell_type": "code",
   "execution_count": 12,
   "id": "1a4a7952",
   "metadata": {},
   "outputs": [],
   "source": [
    "def generator_loss(fake_output):\n",
    "    loss = cross_entropy(tf.ones_like(fake_output), fake_output)\n",
    "\n",
    "    return loss"
   ]
  },
  {
   "cell_type": "code",
   "execution_count": 13,
   "id": "208f6586",
   "metadata": {},
   "outputs": [],
   "source": [
    "def discriminator_loss(real_output, fake_output):\n",
    "    real_loss = cross_entropy(tf.ones_like(real_output), real_output)\n",
    "    fake_loss = cross_entropy(tf.zeros_liks(fake_output), fake_output)\n",
    "    total_loss = real_loss + fake_loss\n",
    "\n",
    "    return total_loss"
   ]
  },
  {
   "cell_type": "markdown",
   "id": "b3a7ee25",
   "metadata": {},
   "source": [
    "Next we define a kind of seed to help us compare the learning process over\n",
    "multiple training epochs."
   ]
  },
  {
   "cell_type": "code",
   "execution_count": 14,
   "id": "65b69f99",
   "metadata": {},
   "outputs": [],
   "source": [
    "noise_dimension = 100\n",
    "n_examples_to_generate = 16\n",
    "seed_images = tf.random.normal([n_examples_to_generate, noise_dimension])"
   ]
  },
  {
   "cell_type": "markdown",
   "id": "50960cb9",
   "metadata": {},
   "source": [
    "Now we have everything we need to define our training step, which we will apply\n",
    "for every step in our training loop. Notice the @tf.function flag signifying\n",
    "that the function is tensorflow 'compiled'. Removing this flag doubles the\n",
    "computation time."
   ]
  },
  {
   "cell_type": "code",
   "execution_count": 15,
   "id": "8eca1adb",
   "metadata": {},
   "outputs": [],
   "source": [
    "@tf.function\n",
    "def train_step(images):\n",
    "    noise = tf.random.normal([BATCH_SIZE, noise_dimension])\n",
    "\n",
    "    with tf.GradientTape() as gen_tape, tf.GradientTape() as disc_tape:\n",
    "        generated_images = generator(noise, training=True)\n",
    "\n",
    "        real_output = discriminator(images, training=True)\n",
    "        fake_output = discriminator(generated_images, training=True)\n",
    "\n",
    "        gen_loss = generator_loss(fake_output)\n",
    "        disc_loss = discriminator_loss(real_output, fake_output)\n",
    "\n",
    "    gradients_of_generator = gen_tape.gradient(gen_loss,\n",
    "                                            generator.trainable_variables)\n",
    "    gradients_of_discriminator = disc_tape.gradient(disc_loss,\n",
    "                                            discriminator.trainable_variables)\n",
    "    generator_optimizer.apply_gradients(zip(gradients_of_generator,\n",
    "                                            generator.trainable_variables))\n",
    "    discriminator_optimizer.apply_gradients(zip(gradients_of_discriminator,\n",
    "                                            discriminator.trainable_variables))\n",
    "\n",
    "    return gen_loss, disc_loss"
   ]
  },
  {
   "cell_type": "markdown",
   "id": "7eeeed32",
   "metadata": {},
   "source": [
    "Next we define a helper function to produce an output over our training epochs\n",
    "to see the predictive progression of our generator model. **Note**: I am including\n",
    "this code here, but comment it out in the training loop."
   ]
  },
  {
   "cell_type": "code",
   "execution_count": 16,
   "id": "4a36fc93",
   "metadata": {},
   "outputs": [],
   "source": [
    "def generate_and_save_images(model, epoch, test_input):\n",
    "    # we're making inferences here\n",
    "    predictions = model(test_input, training=False)\n",
    "\n",
    "    fig = plt.figure(figsize=(4, 4))\n",
    "\n",
    "    for i in range(predictions.shape[0]):\n",
    "        plt.subplot(4, 4, i+1)\n",
    "        plt.imshow(predictions[i, :, :, 0] * 127.5 + 127.5, cmap='gray')\n",
    "        plt.axis('off')\n",
    "\n",
    "    plt.savefig(f'./images_from_seed_images/image_at_epoch_{str(epoch).zfill(3)}.png')\n",
    "    plt.close()\n",
    "    #plt.show()"
   ]
  },
  {
   "cell_type": "markdown",
   "id": "8116cd9a",
   "metadata": {},
   "source": [
    "Setting up checkpoints to periodically save our model during training so that\n",
    "everything is not lost even if the program were to somehow terminate while\n",
    "training."
   ]
  },
  {
   "cell_type": "code",
   "execution_count": 17,
   "id": "b08fdd13",
   "metadata": {},
   "outputs": [],
   "source": [
    "# Setting up checkpoints to save model during training\n",
    "checkpoint_dir = './training_checkpoints'\n",
    "checkpoint_prefix = os.path.join(checkpoint_dir, 'ckpt')\n",
    "checkpoint = tf.train.Checkpoint(generator_optimizer=generator_optimizer,\n",
    "                            discriminator_optimizer=discriminator_optimizer,\n",
    "                            generator=generator,\n",
    "                            discriminator=discriminator)"
   ]
  },
  {
   "cell_type": "markdown",
   "id": "2ea45350",
   "metadata": {},
   "source": [
    "Now we define our training loop"
   ]
  },
  {
   "cell_type": "code",
   "execution_count": 18,
   "id": "6d782598",
   "metadata": {},
   "outputs": [],
   "source": [
    "def train(dataset, epochs):\n",
    "    generator_loss_list = []\n",
    "    discriminator_loss_list = []\n",
    "\n",
    "    for epoch in range(epochs):\n",
    "        start = time.time()\n",
    "\n",
    "        for image_batch in dataset:\n",
    "            gen_loss, disc_loss = train_step(image_batch)\n",
    "            generator_loss_list.append(gen_loss.numpy())\n",
    "            discriminator_loss_list.append(disc_loss.numpy())\n",
    "\n",
    "        #generate_and_save_images(generator, epoch + 1, seed_images)\n",
    "\n",
    "        if (epoch + 1) % 15 == 0:\n",
    "            checkpoint.save(file_prefix=checkpoint_prefix)\n",
    "\n",
    "        print(f'Time for epoch {epoch} is {time.time() - start}')\n",
    "\n",
    "    #generate_and_save_images(generator, epochs, seed_images)\n",
    "\n",
    "    loss_file = './data/lossfile.txt'\n",
    "    with open(loss_file, 'w') as outfile:\n",
    "        outfile.write(str(generator_loss_list))\n",
    "        outfile.write('\\n')\n",
    "        outfile.write('\\n')\n",
    "        outfile.write(str(discriminator_loss_list))\n",
    "        outfile.write('\\n')\n",
    "        outfile.write('\\n')"
   ]
  },
  {
   "cell_type": "markdown",
   "id": "72ceb04d",
   "metadata": {},
   "source": [
    "To train simply call this function. **Warning**: this might take a long time so\n",
    "there is a folder of a pretrained network already included in the repository."
   ]
  },
  {
   "cell_type": "code",
   "execution_count": 19,
   "id": "e227a439",
   "metadata": {},
   "outputs": [],
   "source": [
    "train(train_dataset, EPOCHS)"
   ]
  },
  {
   "cell_type": "markdown",
   "id": "075ec19a",
   "metadata": {},
   "source": [
    "And here is the result of training our model for 100 epochs\n",
    "\n",
    "<!-- dom:MOVIE: [images_from_seed_images/generation.gif] -->\n",
    "<!-- begin movie -->"
   ]
  },
  {
   "cell_type": "code",
   "execution_count": 20,
   "id": "130a3dcc",
   "metadata": {},
   "outputs": [],
   "source": [
    "from IPython.display import HTML\n",
    "_s = \"\"\"\n",
    "<embed src=\"images_from_seed_images/generation.gif\"  autoplay=\"false\" loop=\"true\"></embed>\n",
    "<p><em></em></p>\n",
    "\"\"\"\n",
    "HTML(_s)"
   ]
  },
  {
   "cell_type": "markdown",
   "id": "f9c5d91d",
   "metadata": {},
   "source": [
    "<!-- end movie -->\n",
    "\n",
    "Now to avoid having to train and everything, which will take a while depending\n",
    "on your computer setup we now load in the model which produced the above gif."
   ]
  },
  {
   "cell_type": "code",
   "execution_count": 21,
   "id": "cc9ded8d",
   "metadata": {},
   "outputs": [],
   "source": [
    "checkpoint.restore(tf.train.latest_checkpoint(checkpoint_dir))\n",
    "restored_generator = checkpoint.generator\n",
    "restored_discriminator = checkpoint.discriminator\n",
    "\n",
    "print(restored_generator)\n",
    "print(restored_discriminator)"
   ]
  },
  {
   "cell_type": "markdown",
   "id": "b8b2cba7",
   "metadata": {},
   "source": [
    "## Exploring the Latent Space\n",
    "\n",
    "So we have successfully loaded in our latest model. Let us now play around a bit\n",
    "and see what kind of things we can learn about this model. Our generator takes\n",
    "an array of 100 numbers. One idea can be to try to systematically change our\n",
    "input. Let us try and see what we get"
   ]
  },
  {
   "cell_type": "code",
   "execution_count": 22,
   "id": "3d05cb20",
   "metadata": {},
   "outputs": [],
   "source": [
    "def generate_latent_points(number=100, scale_means=1, scale_stds=1):\n",
    "    latent_dim = 100\n",
    "    means = scale_means * tf.linspace(-1, 1, num=latent_dim)\n",
    "    stds = scale_stds * tf.linspace(-1, 1, num=latent_dim)\n",
    "    latent_space_value_range = tf.random.normal([number, number],\n",
    "                                                means,\n",
    "                                                stds,\n",
    "                                                dtype=tf.float64)\n",
    "\n",
    "    return latent_space_value_range\n",
    "\n",
    "def generate_images(latent_points):\n",
    "    # notice we set training to false because we are making inferences\n",
    "    generated_images = restored_generator(latent_space_value_range,\n",
    "                                          training=False)\n",
    "\n",
    "    return generated_images"
   ]
  },
  {
   "cell_type": "code",
   "execution_count": 23,
   "id": "c7c792f1",
   "metadata": {},
   "outputs": [],
   "source": [
    "def plot_result(generated_images, number):\n",
    "    # obviously this assumes sqrt number is an int\n",
    "    fig, axs = plt.subplots(int(np.sqrt(number)), int(np.sqrt(number)),\n",
    "                            figsize=(10, 10))\n",
    "\n",
    "    for i in range(int(np.sqrt(number))):\n",
    "        for j in range(int(np.sqrt(number))):\n",
    "            axs[i, j].imshow(generated_images[i*j], cmap='Greys')\n",
    "            axs[i, j].axis('off')\n",
    "\n",
    "    plt.show()"
   ]
  },
  {
   "cell_type": "code",
   "execution_count": 24,
   "id": "7b4c08a5",
   "metadata": {},
   "outputs": [],
   "source": [
    "generated_images = generate_images(generate_latent_points())\n",
    "plot_result(generated_images, number)"
   ]
  },
  {
   "cell_type": "markdown",
   "id": "b5aa43de",
   "metadata": {},
   "source": [
    "Interesting! We see that the generator generates images that look like MNIST\n",
    "numbers: $1, 4, 7, 9$. Let's try to tweak it a bit more to see if we are able\n",
    "to generate a similar plot where we generate every MNIST number. Let us now try\n",
    "to 'move' a bit around in the latent space. **Note**: decrease the plot number if\n",
    "these following cells take too long to run on your computer."
   ]
  },
  {
   "cell_type": "code",
   "execution_count": 25,
   "id": "9f2d2be8",
   "metadata": {},
   "outputs": [],
   "source": [
    "plot_number = 225\n",
    "\n",
    "generated_images = generate_images(generate_latent_points(number=plot_number,\n",
    "                                                          scale_means=5,\n",
    "                                                          scale_stds=1))\n",
    "plot_result(generated_images, plot_number)\n",
    "\n",
    "generated_images = generate_images(generate_latent_points(number=plot_number,\n",
    "                                                          scale_means=-5,\n",
    "                                                          scale_stds=1))\n",
    "plot_result(generated_images, plot_number)\n",
    "\n",
    "generated_images = generate_images(generate_latent_points(number=plot_number,\n",
    "                                                          scale_means=1,\n",
    "                                                          scale_stds=5))\n",
    "plot_result(generated_images, plot_number)"
   ]
  },
  {
   "cell_type": "markdown",
   "id": "442f77a8",
   "metadata": {},
   "source": [
    "Again, we have found something interesting. *Moving* around using our means\n",
    "takes us from digit to digit, while *moving* around using our standard\n",
    "deviations seem to increase the number of different digits! In the last image\n",
    "above, we can barely make out every MNIST digit. Let us make on last plot using\n",
    "this information by upping the standard deviation of our Gaussian noises."
   ]
  },
  {
   "cell_type": "code",
   "execution_count": 26,
   "id": "c84bfd59",
   "metadata": {},
   "outputs": [],
   "source": [
    "plot_number = 400\n",
    "generated_images = generate_images(generate_latent_points(number=plot_number,\n",
    "                                                          scale_means=1,\n",
    "                                                          scale_stds=10))"
   ]
  },
  {
   "cell_type": "markdown",
   "id": "cc62392c",
   "metadata": {},
   "source": [
    "A pretty cool result! We see that our generator indeed has learned a\n",
    "distribution which qualitatively looks a whole lot like the MNIST dataset."
   ]
  }
 ],
 "metadata": {
  "kernelspec": {
   "display_name": "Python 3 (ipykernel)",
   "language": "python",
   "name": "python3"
  },
  "language_info": {
   "codemirror_mode": {
    "name": "ipython",
    "version": 3
   },
   "file_extension": ".py",
   "mimetype": "text/x-python",
   "name": "python",
   "nbconvert_exporter": "python",
   "pygments_lexer": "ipython3",
   "version": "3.9.18"
  }
 },
 "nbformat": 4,
 "nbformat_minor": 5
}
