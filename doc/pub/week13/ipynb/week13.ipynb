{
 "cells": [
  {
   "cell_type": "markdown",
   "id": "f4323b62",
   "metadata": {
    "editable": true
   },
   "source": [
    "<!-- HTML file automatically generated from DocOnce source (https://github.com/doconce/doconce/)\n",
    "doconce format html week13.do.txt --no_mako -->\n",
    "<!-- dom:TITLE: April 24-28: Advanced machine learning and data analysis for the physical sciences -->"
   ]
  },
  {
   "cell_type": "markdown",
   "id": "ef7ede52",
   "metadata": {
    "editable": true
   },
   "source": [
    "# April 24-28: Advanced machine learning and data analysis for the physical sciences\n",
    "**Morten Hjorth-Jensen**, Department of Physics and Center for Computing in Science Education, University of Oslo, Norway and Department of Physics and Astronomy and Facility for Rare Isotope Beams, Michigan State University, East Lansing, Michigan, USA\n",
    "\n",
    "Date: **April 24-28, 2023**"
   ]
  },
  {
   "cell_type": "markdown",
   "id": "c80bb601",
   "metadata": {
    "editable": true
   },
   "source": [
    "## Plans for the week April 24-28\n",
    "\n",
    "**Gaussian processes and Bayesian statstics.**\n",
    "\n",
    "1. Basics of Gaussiam processes and Bayesian statistics\n",
    "\n",
    "2. [Video of lecture](https://youtu.be/)\n",
    "\n",
    "3. [Whiteboard notes](https://github.com/CompPhysics/AdvancedMachineLearning/blob/main/doc/HandwrittenNotes/NotesApr262023.pdf)"
   ]
  }
 ],
 "metadata": {},
 "nbformat": 4,
 "nbformat_minor": 5
}
