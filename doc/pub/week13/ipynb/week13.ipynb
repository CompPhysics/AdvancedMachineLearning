{
 "cells": [
  {
   "cell_type": "markdown",
   "id": "20a98ab6",
   "metadata": {
    "editable": true
   },
   "source": [
    "<!-- HTML file automatically generated from DocOnce source (https://github.com/doconce/doconce/)\n",
    "doconce format html week13.do.txt --no_mako -->\n",
    "<!-- dom:TITLE: Advanced machine learning and data analysis for the physical sciences -->"
   ]
  },
  {
   "cell_type": "markdown",
   "id": "f12b4a7d",
   "metadata": {
    "editable": true
   },
   "source": [
    "# Advanced machine learning and data analysis for the physical sciences\n",
    "**Morten Hjorth-Jensen**, Department of Physics and Center for Computing in Science Education, University of Oslo, Norway\n",
    "\n",
    "Date: **April 24, 2025**"
   ]
  },
  {
   "cell_type": "markdown",
   "id": "f8a04b34",
   "metadata": {
    "editable": true
   },
   "source": [
    "## Plans for the week April 21-25, 2025\n",
    "\n",
    "**Deep generative models.**\n",
    "\n",
    "1. Discussion of project 2\n",
    "\n",
    "2. Variational Autoencoders (VAE), Mathematics and codes, continuation from last week\n",
    "\n",
    "3. Reading recommendation:\n",
    "\n",
    "a. Goodfellow et al chapter 20.10-20-14\n",
    "\n",
    "b. Calvin Luo <https://calvinyluo.com/2022/08/26/diffusion-tutorial.html>\n",
    "\n",
    "c. An Introduction to Variational Autoencoders, by Kingma and Welling, see <https://arxiv.org/abs/1906.02691>\n",
    "<!-- o [Video of lecture](https://youtu.be/rw-NBN293o4) -->\n",
    "<!-- o [Whiteboard notes](https://github.com/CompPhysics/AdvancedMachineLearning/blob/main/doc/HandwrittenNotes/2024/NotesApril16.pdf) -->\n",
    "\n",
    "<!-- todo: add about Langevin sampling, see <https://www.lyndonduong.com/sgmcmc/> -->\n",
    "<!-- code for VAEs applied to MNIST -->"
   ]
  },
  {
   "cell_type": "markdown",
   "id": "5366514c",
   "metadata": {
    "editable": true
   },
   "source": [
    "## Summary of Variational Autoencoders (VAEs)\n",
    "\n",
    "In our summary of VAes from last time, we will also remind you about the\n",
    "mathematics of Boltzmann machines and the Kullback-Leibler divergence,\n",
    "leading to various  ways to optimize the probability\n",
    "distributions, namely what is called \n",
    "* Contrastive optimization"
   ]
  },
  {
   "cell_type": "markdown",
   "id": "c0474468",
   "metadata": {
    "editable": true
   },
   "source": [
    "## Boltzmann machines and energy-based models and contrastive optimization\n",
    "\n",
    "For Boltzmann machines  we defined a domain $\\boldsymbol{X}$ of stochastic variables $\\boldsymbol{X}= \\{x_0,x_1, \\dots , x_{n-1}\\}$ with a pertinent probability distribution"
   ]
  },
  {
   "cell_type": "markdown",
   "id": "9e9c4239",
   "metadata": {
    "editable": true
   },
   "source": [
    "$$\n",
    "p(\\boldsymbol{X})=\\prod_{x_i\\in \\boldsymbol{X}}p(x_i),\n",
    "$$"
   ]
  },
  {
   "cell_type": "markdown",
   "id": "5d8e55a8",
   "metadata": {
    "editable": true
   },
   "source": [
    "where we have assumed that the random varaibles $x_i$ are all independent and identically distributed (iid)."
   ]
  },
  {
   "cell_type": "markdown",
   "id": "12296b94",
   "metadata": {
    "editable": true
   },
   "source": [
    "## Probability model\n",
    "\n",
    "We defined a probability"
   ]
  },
  {
   "cell_type": "markdown",
   "id": "3acda8d1",
   "metadata": {
    "editable": true
   },
   "source": [
    "$$\n",
    "p(x_i,h_j;\\boldsymbol{\\Theta}) = \\frac{f(x_i,h_j;\\boldsymbol{\\Theta})}{Z(\\boldsymbol{\\Theta})},\n",
    "$$"
   ]
  },
  {
   "cell_type": "markdown",
   "id": "468da8c4",
   "metadata": {
    "editable": true
   },
   "source": [
    "where $f(x_i,h_j;\\boldsymbol{\\Theta})$ is a function which we assume is larger or\n",
    "equal than zero and obeys all properties required for a probability\n",
    "distribution and $Z(\\boldsymbol{\\Theta})$ is a normalization constant. Inspired by\n",
    "statistical mechanics, we call it often for the partition function.\n",
    "It is defined as (assuming that we have discrete probability distributions)"
   ]
  },
  {
   "cell_type": "markdown",
   "id": "f5d4a2b8",
   "metadata": {
    "editable": true
   },
   "source": [
    "$$\n",
    "Z(\\boldsymbol{\\Theta})=\\sum_{x_i\\in \\boldsymbol{X}}\\sum_{h_j\\in \\boldsymbol{H}} f(x_i,h_j;\\boldsymbol{\\Theta}).\n",
    "$$"
   ]
  },
  {
   "cell_type": "markdown",
   "id": "2b4bda50",
   "metadata": {
    "editable": true
   },
   "source": [
    "## Marginal and conditional probabilities\n",
    "\n",
    "We can in turn define the marginal probabilities"
   ]
  },
  {
   "cell_type": "markdown",
   "id": "f24a83c3",
   "metadata": {
    "editable": true
   },
   "source": [
    "$$\n",
    "p(x_i;\\boldsymbol{\\Theta}) = \\frac{\\sum_{h_j\\in \\boldsymbol{H}}f(x_i,h_j;\\boldsymbol{\\Theta})}{Z(\\boldsymbol{\\Theta})},\n",
    "$$"
   ]
  },
  {
   "cell_type": "markdown",
   "id": "5dd6fef5",
   "metadata": {
    "editable": true
   },
   "source": [
    "and"
   ]
  },
  {
   "cell_type": "markdown",
   "id": "016b94c3",
   "metadata": {
    "editable": true
   },
   "source": [
    "$$\n",
    "p(h_i;\\boldsymbol{\\Theta}) = \\frac{\\sum_{x_i\\in \\boldsymbol{X}}f(x_i,h_j;\\boldsymbol{\\Theta})}{Z(\\boldsymbol{\\Theta})}.\n",
    "$$"
   ]
  },
  {
   "cell_type": "markdown",
   "id": "8f10657f",
   "metadata": {
    "editable": true
   },
   "source": [
    "## Partition function\n",
    "\n",
    "**Note the change to a vector notation**. A variable like $\\boldsymbol{x}$\n",
    "represents now a specific **configuration**. We can generate an infinity\n",
    "of such configurations. The final partition function is then the sum\n",
    "over all such possible configurations, that is"
   ]
  },
  {
   "cell_type": "markdown",
   "id": "5d575cef",
   "metadata": {
    "editable": true
   },
   "source": [
    "$$\n",
    "Z(\\boldsymbol{\\Theta})=\\sum_{x_i\\in \\boldsymbol{X}}\\sum_{h_j\\in \\boldsymbol{H}} f(x_i,h_j;\\boldsymbol{\\Theta}),\n",
    "$$"
   ]
  },
  {
   "cell_type": "markdown",
   "id": "683e2e57",
   "metadata": {
    "editable": true
   },
   "source": [
    "changes to"
   ]
  },
  {
   "cell_type": "markdown",
   "id": "5c84c40d",
   "metadata": {
    "editable": true
   },
   "source": [
    "$$\n",
    "Z(\\boldsymbol{\\Theta})=\\sum_{\\boldsymbol{x}}\\sum_{\\boldsymbol{h}} f(\\boldsymbol{x},\\boldsymbol{h};\\boldsymbol{\\Theta}).\n",
    "$$"
   ]
  },
  {
   "cell_type": "markdown",
   "id": "127cbca2",
   "metadata": {
    "editable": true
   },
   "source": [
    "If we have a binary set of variable $x_i$ and $h_j$ and $M$ values of $x_i$ and $N$ values of $h_j$ we have in total $2^M$ and $2^N$ possible $\\boldsymbol{x}$ and $\\boldsymbol{h}$ configurations, respectively.\n",
    "\n",
    "We see that even for the modest binary case, we can easily approach a\n",
    "number of configuration which is not possible to deal with."
   ]
  },
  {
   "cell_type": "markdown",
   "id": "c8335782",
   "metadata": {
    "editable": true
   },
   "source": [
    "## Optimization problem\n",
    "\n",
    "At the end, we are not interested in the probabilities of the hidden variables. The probability we thus want to optimize is"
   ]
  },
  {
   "cell_type": "markdown",
   "id": "48f7acd5",
   "metadata": {
    "editable": true
   },
   "source": [
    "$$\n",
    "p(\\boldsymbol{X};\\boldsymbol{\\Theta})=\\prod_{x_i\\in \\boldsymbol{X}}p(x_i;\\boldsymbol{\\Theta})=\\prod_{x_i\\in \\boldsymbol{X}}\\left(\\frac{\\sum_{h_j\\in \\boldsymbol{H}}f(x_i,h_j;\\boldsymbol{\\Theta})}{Z(\\boldsymbol{\\Theta})}\\right),\n",
    "$$"
   ]
  },
  {
   "cell_type": "markdown",
   "id": "db51943f",
   "metadata": {
    "editable": true
   },
   "source": [
    "which we rewrite as"
   ]
  },
  {
   "cell_type": "markdown",
   "id": "eeb3ea5e",
   "metadata": {
    "editable": true
   },
   "source": [
    "$$\n",
    "p(\\boldsymbol{X};\\boldsymbol{\\Theta})=\\frac{1}{Z(\\boldsymbol{\\Theta})}\\prod_{x_i\\in \\boldsymbol{X}}\\left(\\sum_{h_j\\in \\boldsymbol{H}}f(x_i,h_j;\\boldsymbol{\\Theta})\\right).\n",
    "$$"
   ]
  },
  {
   "cell_type": "markdown",
   "id": "56a07cb5",
   "metadata": {
    "editable": true
   },
   "source": [
    "## Further simplifications\n",
    "\n",
    "We simplify further by rewriting it as"
   ]
  },
  {
   "cell_type": "markdown",
   "id": "1cb454fc",
   "metadata": {
    "editable": true
   },
   "source": [
    "$$\n",
    "p(\\boldsymbol{X};\\boldsymbol{\\Theta})=\\frac{1}{Z(\\boldsymbol{\\Theta})}\\prod_{x_i\\in \\boldsymbol{X}}f(x_i;\\boldsymbol{\\Theta}),\n",
    "$$"
   ]
  },
  {
   "cell_type": "markdown",
   "id": "b3d01a79",
   "metadata": {
    "editable": true
   },
   "source": [
    "where we used $p(x_i;\\boldsymbol{\\Theta}) = \\sum_{h_j\\in \\boldsymbol{H}}f(x_i,h_j;\\boldsymbol{\\Theta})$.\n",
    "The optimization problem is then"
   ]
  },
  {
   "cell_type": "markdown",
   "id": "7b138525",
   "metadata": {
    "editable": true
   },
   "source": [
    "$$\n",
    "{\\displaystyle \\mathrm{arg} \\hspace{0.1cm}\\max_{\\boldsymbol{\\boldsymbol{\\Theta}}\\in {\\mathbb{R}}^{p}}} \\hspace{0.1cm}p(\\boldsymbol{X};\\boldsymbol{\\Theta}).\n",
    "$$"
   ]
  },
  {
   "cell_type": "markdown",
   "id": "6dd3fb45",
   "metadata": {
    "editable": true
   },
   "source": [
    "## Optimizing the logarithm instead\n",
    "\n",
    "Computing the derivatives with respect to the parameters $\\boldsymbol{\\Theta}$ is\n",
    "easier (and equivalent) with taking the logarithm of the\n",
    "probability. We will thus optimize"
   ]
  },
  {
   "cell_type": "markdown",
   "id": "9f79f2da",
   "metadata": {
    "editable": true
   },
   "source": [
    "$$\n",
    "{\\displaystyle \\mathrm{arg} \\hspace{0.1cm}\\max_{\\boldsymbol{\\boldsymbol{\\Theta}}\\in {\\mathbb{R}}^{p}}} \\hspace{0.1cm}\\log{p(\\boldsymbol{X};\\boldsymbol{\\Theta})},\n",
    "$$"
   ]
  },
  {
   "cell_type": "markdown",
   "id": "b90e1d6b",
   "metadata": {
    "editable": true
   },
   "source": [
    "which leads to"
   ]
  },
  {
   "cell_type": "markdown",
   "id": "79244437",
   "metadata": {
    "editable": true
   },
   "source": [
    "$$\n",
    "\\nabla_{\\boldsymbol{\\Theta}}\\log{p(\\boldsymbol{X};\\boldsymbol{\\Theta})}=0.\n",
    "$$"
   ]
  },
  {
   "cell_type": "markdown",
   "id": "a4dc7756",
   "metadata": {
    "editable": true
   },
   "source": [
    "## Expression for the gradients\n",
    "\n",
    "This leads to the following equation"
   ]
  },
  {
   "cell_type": "markdown",
   "id": "75a552a0",
   "metadata": {
    "editable": true
   },
   "source": [
    "$$\n",
    "\\nabla_{\\boldsymbol{\\Theta}}\\log{p(\\boldsymbol{X};\\boldsymbol{\\Theta})}=\\nabla_{\\boldsymbol{\\Theta}}\\left(\\sum_{x_i\\in \\boldsymbol{X}}\\log{f(x_i;\\boldsymbol{\\Theta})}\\right)-\\nabla_{\\boldsymbol{\\Theta}}\\log{Z(\\boldsymbol{\\Theta})}=0.\n",
    "$$"
   ]
  },
  {
   "cell_type": "markdown",
   "id": "e8b9d968",
   "metadata": {
    "editable": true
   },
   "source": [
    "The first term is called the positive phase and we assume that we have a model for the function $f$ from which we can sample values. Below we will develop an explicit model for this.\n",
    "The second term is called the negative phase and is the one which leads to more difficulties."
   ]
  },
  {
   "cell_type": "markdown",
   "id": "b887b3c8",
   "metadata": {
    "editable": true
   },
   "source": [
    "## Contrastive optimization\n",
    "The evaluation of these two terms leads to what in the literature is called contrastive optimization.\n",
    "\n",
    "If we optimize the negative **log** of the PDF, the aboves phases simply change sign.\n",
    "\n",
    "For a further discussion of energy-based models, see the notes by Philip Lippe at <https://uvadlc-notebooks.readthedocs.io/en/latest/tutorial_notebooks/tutorial8/Deep_Energy_Models.html>"
   ]
  },
  {
   "cell_type": "markdown",
   "id": "a24f358b",
   "metadata": {
    "editable": true
   },
   "source": [
    "## The derivative of the partition function\n",
    "\n",
    "The partition function, defined above as"
   ]
  },
  {
   "cell_type": "markdown",
   "id": "7677520b",
   "metadata": {
    "editable": true
   },
   "source": [
    "$$\n",
    "Z(\\boldsymbol{\\Theta})=\\sum_{x_i\\in \\boldsymbol{X}}\\sum_{h_j\\in \\boldsymbol{H}} f(x_i,h_j;\\boldsymbol{\\Theta}),\n",
    "$$"
   ]
  },
  {
   "cell_type": "markdown",
   "id": "4f5a361a",
   "metadata": {
    "editable": true
   },
   "source": [
    "is in general the most problematic term. In principle both $x$ and $h$ can span large degrees of freedom, if not even infinitely many ones, and computing the partition function itself is often not desirable or even feasible. The above derivative of the partition function can however be written in terms of an expectation value which is in turn evaluated  using Monte Carlo sampling and the theory of Markov chains, popularly shortened to MCMC (or just MC$^2$)."
   ]
  },
  {
   "cell_type": "markdown",
   "id": "47ee2278",
   "metadata": {
    "editable": true
   },
   "source": [
    "## Explicit expression for the derivative\n",
    "We can rewrite"
   ]
  },
  {
   "cell_type": "markdown",
   "id": "6a7d189f",
   "metadata": {
    "editable": true
   },
   "source": [
    "$$\n",
    "\\nabla_{\\boldsymbol{\\Theta}}\\log{Z(\\boldsymbol{\\Theta})}=\\frac{\\nabla_{\\boldsymbol{\\Theta}}Z(\\boldsymbol{\\Theta})}{Z(\\boldsymbol{\\Theta})},\n",
    "$$"
   ]
  },
  {
   "cell_type": "markdown",
   "id": "697c1f47",
   "metadata": {
    "editable": true
   },
   "source": [
    "which reads in more detail"
   ]
  },
  {
   "cell_type": "markdown",
   "id": "4677ca83",
   "metadata": {
    "editable": true
   },
   "source": [
    "$$\n",
    "\\nabla_{\\boldsymbol{\\Theta}}\\log{Z(\\boldsymbol{\\Theta})}=\\frac{\\nabla_{\\boldsymbol{\\Theta}} \\sum_{x_i\\in \\boldsymbol{X}}f(x_i;\\boldsymbol{\\Theta})   }{Z(\\boldsymbol{\\Theta})}.\n",
    "$$"
   ]
  },
  {
   "cell_type": "markdown",
   "id": "d0106ff1",
   "metadata": {
    "editable": true
   },
   "source": [
    "We can rewrite the function $f$ (we have assumed that is larger or\n",
    "equal than zero) as $f=\\exp{\\log{f}}$. We can then reqrite the last\n",
    "equation as"
   ]
  },
  {
   "cell_type": "markdown",
   "id": "6ef6e370",
   "metadata": {
    "editable": true
   },
   "source": [
    "$$\n",
    "\\nabla_{\\boldsymbol{\\Theta}}\\log{Z(\\boldsymbol{\\Theta})}=\\frac{ \\sum_{x_i\\in \\boldsymbol{X}} \\nabla_{\\boldsymbol{\\Theta}}\\exp{\\log{f(x_i;\\boldsymbol{\\Theta})}}   }{Z(\\boldsymbol{\\Theta})}.\n",
    "$$"
   ]
  },
  {
   "cell_type": "markdown",
   "id": "4dc8be28",
   "metadata": {
    "editable": true
   },
   "source": [
    "## Final expression\n",
    "\n",
    "Taking the derivative gives us"
   ]
  },
  {
   "cell_type": "markdown",
   "id": "c69742fa",
   "metadata": {
    "editable": true
   },
   "source": [
    "$$\n",
    "\\nabla_{\\boldsymbol{\\Theta}}\\log{Z(\\boldsymbol{\\Theta})}=\\frac{ \\sum_{x_i\\in \\boldsymbol{X}}f(x_i;\\boldsymbol{\\Theta}) \\nabla_{\\boldsymbol{\\Theta}}\\log{f(x_i;\\boldsymbol{\\Theta})}   }{Z(\\boldsymbol{\\Theta})},\n",
    "$$"
   ]
  },
  {
   "cell_type": "markdown",
   "id": "0af8f00f",
   "metadata": {
    "editable": true
   },
   "source": [
    "which is the expectation value of $\\log{f}$"
   ]
  },
  {
   "cell_type": "markdown",
   "id": "7cc256f7",
   "metadata": {
    "editable": true
   },
   "source": [
    "$$\n",
    "\\nabla_{\\boldsymbol{\\Theta}}\\log{Z(\\boldsymbol{\\Theta})}=\\sum_{x_i\\in \\boldsymbol{X}}p(x_i;\\boldsymbol{\\Theta}) \\nabla_{\\boldsymbol{\\Theta}}\\log{f(x_i;\\boldsymbol{\\Theta})},\n",
    "$$"
   ]
  },
  {
   "cell_type": "markdown",
   "id": "87683da2",
   "metadata": {
    "editable": true
   },
   "source": [
    "that is"
   ]
  },
  {
   "cell_type": "markdown",
   "id": "caa3dc94",
   "metadata": {
    "editable": true
   },
   "source": [
    "$$\n",
    "\\nabla_{\\boldsymbol{\\Theta}}\\log{Z(\\boldsymbol{\\Theta})}=\\mathbb{E}(\\log{f(x_i;\\boldsymbol{\\Theta})}).\n",
    "$$"
   ]
  },
  {
   "cell_type": "markdown",
   "id": "98ce1096",
   "metadata": {
    "editable": true
   },
   "source": [
    "This quantity is evaluated using Monte Carlo sampling, with Gibbs\n",
    "sampling as the standard sampling rule."
   ]
  },
  {
   "cell_type": "markdown",
   "id": "4dc07edc",
   "metadata": {
    "editable": true
   },
   "source": [
    "## Kullback-Leibler divergence\n",
    "\n",
    "Before we continue, we need to remind ourselves about the\n",
    "Kullback-Leibler divergence introduced earlier. This will also allow\n",
    "us to introduce another measure used in connection with the training\n",
    "of Generative Adversarial Networks, the so-called Jensen-Shannon divergence..\n",
    "These metrics are useful for quantifying the similarity between two probability distributions.\n",
    "\n",
    "The Kullback–Leibler (KL) divergence, labeled $D_{KL}$,   measures how one probability distribution $p$ diverges from a second expected probability distribution $q$,\n",
    "that is"
   ]
  },
  {
   "cell_type": "markdown",
   "id": "e3660315",
   "metadata": {
    "editable": true
   },
   "source": [
    "$$\n",
    "D_{KL}(p \\| q) = \\int_x p(x) \\log \\frac{p(x)}{q(x)} dx.\n",
    "$$"
   ]
  },
  {
   "cell_type": "markdown",
   "id": "851bac5e",
   "metadata": {
    "editable": true
   },
   "source": [
    "The KL-divegrnece $D_{KL}$ achieves the minimum zero when $p(x) == q(x)$ everywhere.\n",
    "\n",
    "Note that the KL divergence is asymmetric. In cases where $p(x)$ is\n",
    "close to zero, but $q(x)$ is significantly non-zero, the $q$'s effect\n",
    "is disregarded. It could cause buggy results when we just want to\n",
    "measure the similarity between two equally important distributions."
   ]
  },
  {
   "cell_type": "markdown",
   "id": "b620dcb6",
   "metadata": {
    "editable": true
   },
   "source": [
    "## Jensen-Shannon divergence\n",
    "\n",
    "The Jensen–Shannon (JS) divergence is another measure of similarity between\n",
    "two probability distributions, bounded by $[0, 1]$. The JS-divergence is\n",
    "symmetric and more smooth than the KL-divergence.\n",
    "It is defined as"
   ]
  },
  {
   "cell_type": "markdown",
   "id": "662a4e21",
   "metadata": {
    "editable": true
   },
   "source": [
    "$$\n",
    "D_{JS}(p \\| q) = \\frac{1}{2} D_{KL}(p \\| \\frac{p + q}{2}) + \\frac{1}{2} D_{KL}(q \\| \\frac{p + q}{2})\n",
    "$$"
   ]
  },
  {
   "cell_type": "markdown",
   "id": "4f3854b9",
   "metadata": {
    "editable": true
   },
   "source": [
    "Many practitioners believe that one reason behind GANs' big success is\n",
    "switching the loss function from asymmetric KL-divergence in\n",
    "traditional maximum-likelihood approach to symmetric JS-divergence."
   ]
  },
  {
   "cell_type": "markdown",
   "id": "3c725e7e",
   "metadata": {
    "editable": true
   },
   "source": [
    "## Generative model,  basic overview (Borrowed from Rashcka et al)\n",
    "\n",
    "<!-- dom:FIGURE: [figures/figure1.png, width=900 frac=1.0] -->\n",
    "<!-- begin figure -->\n",
    "\n",
    "<img src=\"figures/figure1.png\" width=\"900\"><p style=\"font-size: 0.9em\"><i>Figure 1: </i></p>\n",
    "<!-- end figure -->"
   ]
  },
  {
   "cell_type": "markdown",
   "id": "5a7a878d",
   "metadata": {
    "editable": true
   },
   "source": [
    "## Reminder on VAEs\n",
    "\n",
    "Mathematically, we can imagine the latent variables and the data we\n",
    "observe as modeled by a joint distribution $p(\\boldsymbol{x}, \\boldsymbol{h};\\boldsymbol{\\Theta})$.  Recall one\n",
    "approach of generative modeling, termed likelihood-based, is to\n",
    "learn a model to maximize the likelihood $p(\\boldsymbol{x};\\boldsymbol{\\Theta})$ of all observed\n",
    "$\\boldsymbol{x}$.  There are two ways we can manipulate this joint distribution\n",
    "to recover the likelihood of purely our observed data $p(\\boldsymbol{x};\\boldsymbol{\\Theta})$; we can\n",
    "explicitly marginalize\n",
    "out the latent variable $\\boldsymbol{h}$"
   ]
  },
  {
   "cell_type": "markdown",
   "id": "651911f0",
   "metadata": {
    "editable": true
   },
   "source": [
    "$$\n",
    "p(\\boldsymbol{x}) = \\int p(\\boldsymbol{x}, \\boldsymbol{h})d\\boldsymbol{h}\n",
    "$$"
   ]
  },
  {
   "cell_type": "markdown",
   "id": "69f9ac80",
   "metadata": {
    "editable": true
   },
   "source": [
    "or, we could also appeal to the chain rule of probability"
   ]
  },
  {
   "cell_type": "markdown",
   "id": "32c899af",
   "metadata": {
    "editable": true
   },
   "source": [
    "$$\n",
    "p(\\boldsymbol{x}) = \\frac{p(\\boldsymbol{x}, \\boldsymbol{h})}{p(\\boldsymbol{h}|\\boldsymbol{x})}\n",
    "$$"
   ]
  },
  {
   "cell_type": "markdown",
   "id": "2bebf39c",
   "metadata": {
    "editable": true
   },
   "source": [
    "We suppress here the dependence\ton the optimization parameters $\\boldsymbol{\\Theta}$."
   ]
  },
  {
   "cell_type": "markdown",
   "id": "f04fb7bf",
   "metadata": {
    "editable": true
   },
   "source": [
    "## Evidence Lower Bound\n",
    "Directly computing and maximizing the likelihood $p(\\boldsymbol{x})$ is\n",
    "difficult because it either involves integrating out all latent\n",
    "variables $\\boldsymbol{h}$, which is intractable for\n",
    "complex models, or it involves having access to a ground truth latent\n",
    "encoder $p(\\boldsymbol{h}|\\boldsymbol{x})$.\n",
    "\n",
    "Using the last  two equations, we can derive a term called the Evidence Lower Bound (ELBO), which as its name suggests, is a lower\n",
    "  bound of the evidence.  The evidence is quantified in this case as\n",
    "the log likelihood of the observed data.  Then, maximizing the ELBO\n",
    "becomes a proxy objective with which to optimize a latent variable\n",
    "model; in the best case, when the ELBO is powerfully parameterized and\n",
    "perfectly optimized, it becomes exactly equivalent to the evidence."
   ]
  },
  {
   "cell_type": "markdown",
   "id": "d1c91a82",
   "metadata": {
    "editable": true
   },
   "source": [
    "## ELBO equations\n",
    "Formally, the equation of the ELBO is"
   ]
  },
  {
   "cell_type": "markdown",
   "id": "4a5a50a7",
   "metadata": {
    "editable": true
   },
   "source": [
    "$$\n",
    "\\mathbb{E}_{q_{\\boldsymbol{\\phi}}(\\boldsymbol{h}|\\boldsymbol{x})}\\left[\\log\\frac{p(\\boldsymbol{x}, \\boldsymbol{h})}{q_{\\boldsymbol{\\phi}}(\\boldsymbol{h}|\\boldsymbol{x})}\\right]\n",
    "$$"
   ]
  },
  {
   "cell_type": "markdown",
   "id": "93260ee0",
   "metadata": {
    "editable": true
   },
   "source": [
    "To make the relationship with the evidence explicit, we can mathematically write:"
   ]
  },
  {
   "cell_type": "markdown",
   "id": "4bd8145c",
   "metadata": {
    "editable": true
   },
   "source": [
    "$$\n",
    "\\log p(\\boldsymbol{x}) \\geq \\mathbb{E}_{q_{\\boldsymbol{\\phi}}(\\boldsymbol{h}|\\boldsymbol{x})}\\left[\\log\\frac{p(\\boldsymbol{x}, \\boldsymbol{h})}{q_{\\boldsymbol{\\phi}}(\\boldsymbol{h}|\\boldsymbol{x})}\\right]\n",
    "$$"
   ]
  },
  {
   "cell_type": "markdown",
   "id": "4598474e",
   "metadata": {
    "editable": true
   },
   "source": [
    "## Introducing the encoder function\n",
    "\n",
    "Here, $q_{\\boldsymbol{\\phi}}(\\boldsymbol{h}|\\boldsymbol{x})$ is a flexible approximate\n",
    "variational distribution with parameters $\\boldsymbol{\\phi}$ that we seek to\n",
    "optimize.  Intuitively, it can be thought of as a parameterizable\n",
    "model that is learned to estimate the true distribution over latent\n",
    "variables for given observations $\\boldsymbol{x}$; in other words, it seeks to\n",
    "approximate true posterior $p(\\boldsymbol{h}|\\boldsymbol{x})$.  As we saw last week when we\n",
    "explored Variational Autoencoders, as we increase the lower bound\n",
    "by tuning the parameters $\\boldsymbol{\\phi}$ to maximize the ELBO, we gain\n",
    "access to components that can be used to model the true data\n",
    "distribution and sample from it, thus learning a generative model."
   ]
  },
  {
   "cell_type": "markdown",
   "id": "3fb6fbb8",
   "metadata": {
    "editable": true
   },
   "source": [
    "## The derivation from last week\n",
    "\n",
    "To better understand the relationship between the evidence and the ELBO, let us remind ourselves about the derivations from our previous lecture, this time using"
   ]
  },
  {
   "cell_type": "markdown",
   "id": "9ff257ed",
   "metadata": {
    "editable": true
   },
   "source": [
    "$$\n",
    "\\begin{align*}\n",
    "\\log p(\\boldsymbol{x}) & = \\log p(\\boldsymbol{x}) \\int q_{\\boldsymbol{\\phi}}(\\boldsymbol{h}|\\boldsymbol{x})d\\boldsymbol{h} && \\text{(Multiply by $1 = \\int q_{\\boldsymbol{\\phi}}(\\boldsymbol{h}|\\boldsymbol{x})d\\boldsymbol{h}$)}\\\\\n",
    "          & = \\int q_{\\boldsymbol{\\phi}}(\\boldsymbol{h}|\\boldsymbol{x})(\\log p(\\boldsymbol{x}))d\\boldsymbol{h} && \\text{(Bring evidence into integral)}\\\\\n",
    "          & = \\mathbb{E}_{q_{\\boldsymbol{\\phi}}(\\boldsymbol{h}|\\boldsymbol{x})}\\left[\\log p(\\boldsymbol{x})\\right] && \\text{(Definition of Expectation)}\\\\\n",
    "          & = \\mathbb{E}_{q_{\\boldsymbol{\\phi}}(\\boldsymbol{h}|\\boldsymbol{x})}\\left[\\log\\frac{p(\\boldsymbol{x}, \\boldsymbol{h})}{p(\\boldsymbol{h}|\\boldsymbol{x})}\\right]&& \\\\\n",
    "          & = \\mathbb{E}_{q_{\\boldsymbol{\\phi}}(\\boldsymbol{h}|\\boldsymbol{x})}\\left[\\log\\frac{p(\\boldsymbol{x}, \\boldsymbol{h})q_{\\boldsymbol{\\phi}}(\\boldsymbol{h}|\\boldsymbol{x})}{p(\\boldsymbol{h}|\\boldsymbol{x})q_{\\boldsymbol{\\phi}}(\\boldsymbol{h}|\\boldsymbol{x})}\\right]&& \\text{(Multiply by $1 = \\frac{q_{\\boldsymbol{\\phi}}(\\boldsymbol{h}|\\boldsymbol{x})}{q_{\\boldsymbol{\\phi}}(\\boldsymbol{h}|\\boldsymbol{x})}$)}\\\\\n",
    "          & = \\mathbb{E}_{q_{\\boldsymbol{\\phi}}(\\boldsymbol{h}|\\boldsymbol{x})}\\left[\\log\\frac{p(\\boldsymbol{x}, \\boldsymbol{h})}{q_{\\boldsymbol{\\phi}}(\\boldsymbol{h}|\\boldsymbol{x})}\\right] + \\mathbb{E}_{q_{\\boldsymbol{\\phi}}(\\boldsymbol{h}|\\boldsymbol{x})}\\left[\\log\\frac{q_{\\boldsymbol{\\phi}}(\\boldsymbol{h}|\\boldsymbol{x})}{p(\\boldsymbol{h}|\\boldsymbol{x})}\\right] && \\text{(Split the Expectation)}\\\\\n",
    "          & = \\mathbb{E}_{q_{\\boldsymbol{\\phi}}(\\boldsymbol{h}|\\boldsymbol{x})}\\left[\\log\\frac{p(\\boldsymbol{x}, \\boldsymbol{h})}{q_{\\boldsymbol{\\phi}}(\\boldsymbol{h}|\\boldsymbol{x})}\\right] +\n",
    "\t  D_{KL}(q_{\\boldsymbol{\\phi}}(\\boldsymbol{h}|\\boldsymbol{x})\\vert\\vert p(\\boldsymbol{h}|\\boldsymbol{x}))  && \\text{(Definition of KL Divergence)}\\\\\n",
    "          & \\geq \\mathbb{E}_{q_{\\boldsymbol{\\phi}}(\\boldsymbol{h}|\\boldsymbol{x})}\\left[\\log\\frac{p(\\boldsymbol{x}, \\boldsymbol{h})}{q_{\\boldsymbol{\\phi}}(\\boldsymbol{h}|\\boldsymbol{x})}\\right]  && \\text{(KL Divergence always $\\geq 0$)}\n",
    "\\end{align*}\n",
    "$$"
   ]
  },
  {
   "cell_type": "markdown",
   "id": "c2706b7f",
   "metadata": {
    "editable": true
   },
   "source": [
    "## Analysis\n",
    "\n",
    "From this derivation, we clearly observe from the last equation\n",
    "that the evidence is equal to the ELBO plus the KL Divergence between\n",
    "the approximate posterior $q_{\\boldsymbol{\\phi}}(\\boldsymbol{h}|\\boldsymbol{x})$ and the true\n",
    "posterior $p(\\boldsymbol{h}|\\boldsymbol{x})$.  Understanding this term is the\n",
    "key to understanding not only the relationship between the ELBO and\n",
    "the evidence, but also the reason why optimizing the ELBO is an\n",
    "appropriate objective at all."
   ]
  },
  {
   "cell_type": "markdown",
   "id": "e2d9398c",
   "metadata": {
    "editable": true
   },
   "source": [
    "## The VAE\n",
    "\n",
    "In the default formulation of the VAE by Kingma and Welling (2015), we directly maximize the ELBO.  This\n",
    "approach is \\textit{variational}, because we optimize for the best\n",
    "$q_{\\boldsymbol{\\phi}}(\\boldsymbol{h}|\\boldsymbol{x})$ amongst a family of potential posterior\n",
    "distributions parameterized by $\\boldsymbol{\\phi}$.  It is called an\n",
    "\\textit{autoencoder} because it is reminiscent of a traditional\n",
    "autoencoder model, where input data is trained to predict itself after\n",
    "undergoing an intermediate bottlenecking representation step."
   ]
  },
  {
   "cell_type": "markdown",
   "id": "e08b4a02",
   "metadata": {
    "editable": true
   },
   "source": [
    "## Dissecting the equations\n",
    "To make\n",
    "this connection explicit, let us dissect the ELBO term further:"
   ]
  },
  {
   "cell_type": "markdown",
   "id": "b8fbc892",
   "metadata": {
    "editable": true
   },
   "source": [
    "$$\n",
    "\\begin{align*}\n",
    "{\\mathbb{E}_{q_{\\boldsymbol{\\phi}}(\\boldsymbol{h}|\\boldsymbol{x})}\\left[\\log\\frac{p(\\boldsymbol{x}, \\boldsymbol{h})}{q_{\\boldsymbol{\\phi}}(\\boldsymbol{h}|\\boldsymbol{x})}\\right]}\n",
    "&= {\\mathbb{E}_{q_{\\boldsymbol{\\phi}}(\\boldsymbol{h}|\\boldsymbol{x})}\\left[\\log\\frac{p_{\\boldsymbol{\\theta}}(\\boldsymbol{x}|\\boldsymbol{h})p(\\boldsymbol{h})}{q_{\\boldsymbol{\\phi}}(\\boldsymbol{h}|\\boldsymbol{x})}\\right]}         && {\\text{(Chain Rule of Probability)}}\\\\\n",
    "&= {\\mathbb{E}_{q_{\\boldsymbol{\\phi}}(\\boldsymbol{h}|\\boldsymbol{x})}\\left[\\log p_{\\boldsymbol{\\theta}}(\\boldsymbol{x}|\\boldsymbol{h})\\right] + \\mathbb{E}_{q_{\\boldsymbol{\\phi}}(\\boldsymbol{h}|\\boldsymbol{x})}\\left[\\log\\frac{p(\\boldsymbol{h})}{q_{\\boldsymbol{\\phi}}(\\boldsymbol{h}|\\boldsymbol{x})}\\right]}         && {\\text{(Split the Expectation)}}\\\\\n",
    "&= \\underbrace{{\\mathbb{E}_{q_{\\boldsymbol{\\phi}}(\\boldsymbol{h}|\\boldsymbol{x})}\\left[\\log p_{\\boldsymbol{\\theta}}(\\boldsymbol{x}|\\boldsymbol{h})\\right]}}_\\text{reconstruction term} - \\underbrace{{D_{KL}(q_{\\boldsymbol{\\phi}}(\\boldsymbol{h}|\\boldsymbol{x})}\\vert\\vert{p(\\boldsymbol{h}))}}_\\text{prior matching term} && {\\text{(Definition of KL Divergence)}}\n",
    "\\end{align*}\n",
    "$$"
   ]
  },
  {
   "cell_type": "markdown",
   "id": "b863a8cf",
   "metadata": {
    "editable": true
   },
   "source": [
    "## Bottlenecking distribution\n",
    "\n",
    "In this case, we learn an intermediate bottlenecking distribution\n",
    "$q_{\\boldsymbol{\\phi}}(\\boldsymbol{h}|\\boldsymbol{x})$ that can be treated as\n",
    "an \\textit{encoder}; it transforms inputs into a distribution over\n",
    "possible latents.  Simultaneously, we learn a deterministic function\n",
    "$p_{\\boldsymbol{\\theta}}(\\boldsymbol{x}|\\boldsymbol{h})$ to convert a given latent vector\n",
    "$\\boldsymbol{h}$ into an observation $\\boldsymbol{x}$, which can be interpreted as\n",
    "a \\textit{decoder}."
   ]
  },
  {
   "cell_type": "markdown",
   "id": "21c4e0b8",
   "metadata": {
    "editable": true
   },
   "source": [
    "## Decoder and encoder\n",
    "The two terms in the last equation each have intuitive descriptions: the first\n",
    "term measures the reconstruction likelihood of the decoder from our\n",
    "variational distribution; this ensures that the learned distribution\n",
    "is modeling effective latents that the original data can be\n",
    "regenerated from.  The second term measures how similar the learned\n",
    "variational distribution is to a prior belief held over latent\n",
    "variables.  Minimizing this term encourages the encoder to actually\n",
    "learn a distribution rather than collapse into a Dirac delta function.\n",
    "Maximizing the ELBO is thus equivalent to maximizing its first term\n",
    "and minimizing its second term."
   ]
  },
  {
   "cell_type": "markdown",
   "id": "3714b80a",
   "metadata": {
    "editable": true
   },
   "source": [
    "## Defining feature of VAEs\n",
    "\n",
    "A defining feature of the VAE is how the ELBO is optimized jointly over parameters $\\boldsymbol{\\phi}$ and $\\boldsymbol{\\theta}$.  The encoder of the VAE is commonly chosen to model a multivariate Gaussian with diagonal covariance, and the prior is often selected to be a standard multivariate Gaussian:"
   ]
  },
  {
   "cell_type": "markdown",
   "id": "df34bdaa",
   "metadata": {
    "editable": true
   },
   "source": [
    "$$\n",
    "\\begin{align*}\n",
    "    q_{\\boldsymbol{\\phi}}(\\boldsymbol{h}|\\boldsymbol{x}) &= N(\\boldsymbol{h}; \\boldsymbol{\\mu}_{\\boldsymbol{\\phi}}(\\boldsymbol{x}), \\boldsymbol{\\sigma}_{\\boldsymbol{\\phi}}^2(\\boldsymbol{x})\\textbf{I})\\\\\n",
    "    p(\\boldsymbol{h}) &= N(\\boldsymbol{h}; \\boldsymbol{0}, \\textbf{I})\n",
    "\\end{align*}\n",
    "$$"
   ]
  },
  {
   "cell_type": "markdown",
   "id": "69894a24",
   "metadata": {
    "editable": true
   },
   "source": [
    "## Analytical evaluation\n",
    "\n",
    "Then, the KL divergence term of the ELBO can be computed analytically, and the reconstruction term can be approximated using a Monte Carlo estimate.  Our objective can then be rewritten as:"
   ]
  },
  {
   "cell_type": "markdown",
   "id": "e9b276ef",
   "metadata": {
    "editable": true
   },
   "source": [
    "$$\n",
    "\\begin{align*}\n",
    "  \\mathrm{argmax}_{\\boldsymbol{\\phi}, \\boldsymbol{\\theta}} \\mathbb{E}_{q_{\\boldsymbol{\\phi}}(\\boldsymbol{h}|\\boldsymbol{x})}\\left[\\log p_{\\boldsymbol{\\theta}}(\\boldsymbol{x}|\\boldsymbol{h})\\right] - D_{KL}(q_{\\boldsymbol{\\phi}}(\\boldsymbol{h}|\\boldsymbol{x})\\vert\\vert p(\\boldsymbol{h})) \\approx \\mathrm{argmax}_{\\boldsymbol{\\phi}, \\boldsymbol{\\theta}} \\sum_{l=1}^{L}\\log p_{\\boldsymbol{\\theta}}(\\boldsymbol{x}|\\boldsymbol{h}^{(l)}) - D_{KL}(q_{\\boldsymbol{\\phi}}(\\boldsymbol{h}|\\boldsymbol{x})\\vert\\vert p(\\boldsymbol{h}))\n",
    "\\end{align*}\n",
    "$$"
   ]
  },
  {
   "cell_type": "markdown",
   "id": "b2a4f02a",
   "metadata": {
    "editable": true
   },
   "source": [
    "where latents $\\{\\boldsymbol{h}^{(l)}\\}_{l=1}^L$ are sampled from $q_{\\boldsymbol{\\phi}}(\\boldsymbol{h}|\\boldsymbol{x})$, for every observation $\\boldsymbol{x}$ in the dataset."
   ]
  },
  {
   "cell_type": "markdown",
   "id": "7e993daa",
   "metadata": {
    "editable": true
   },
   "source": [
    "## Reparameterization trick\n",
    "\n",
    "However, a problem arises in this default setup: each $\\boldsymbol{h}^{(l)}$\n",
    "that our loss is computed on is generated by a stochastic sampling\n",
    "procedure, which is generally non-differentiable.  Fortunately, this\n",
    "can be addressed via the \\textit{reparameterization trick} when\n",
    "$q_{\\boldsymbol{\\phi}}(\\boldsymbol{h}|\\boldsymbol{x})$ is designed to model certain\n",
    "distributions, including the multivariate Gaussian."
   ]
  },
  {
   "cell_type": "markdown",
   "id": "087894a6",
   "metadata": {
    "editable": true
   },
   "source": [
    "## Actual implementation\n",
    "\n",
    "The reparameterization trick rewrites a random variable as a\n",
    "deterministic function of a noise variable; this allows for the\n",
    "optimization of the non-stochastic terms through gradient descent.\n",
    "For example, samples from a normal distribution\n",
    "$x \\sim N(x;\\mu, \\sigma^2)$ with arbitrary mean $\\mu$ and\n",
    "variance $\\sigma^2$ can be rewritten as"
   ]
  },
  {
   "cell_type": "markdown",
   "id": "f383f7c6",
   "metadata": {
    "editable": true
   },
   "source": [
    "$$\n",
    "\\begin{align*}\n",
    "    x &= \\mu + \\sigma\\epsilon \\quad \\text{with } \\epsilon \\sim N(\\epsilon; 0, \\boldsymbol{I})\n",
    "\\end{align*}\n",
    "$$"
   ]
  },
  {
   "cell_type": "markdown",
   "id": "c52d2607",
   "metadata": {
    "editable": true
   },
   "source": [
    "## Interpretation\n",
    "An arbitrary Gaussian distributions can be interpreted as\n",
    "standard Gaussians (of which $\\epsilon$ is a sample) that have their\n",
    "mean shifted from zero to the target mean $\\mu$ by addition, and their\n",
    "variance stretched by the target variance $\\sigma^2$.  Therefore, by\n",
    "the reparameterization trick, sampling from an arbitrary Gaussian\n",
    "distribution can be performed by sampling from a standard Gaussian,\n",
    "scaling the result by the target standard deviation, and shifting it\n",
    "by the target mean."
   ]
  },
  {
   "cell_type": "markdown",
   "id": "0cb13546",
   "metadata": {
    "editable": true
   },
   "source": [
    "## Deterministic function\n",
    "\n",
    "In a VAE, each $\\boldsymbol{h}$ is thus computed as a deterministic function of input $\\boldsymbol{x}$ and auxiliary noise variable $\\boldsymbol{\\epsilon}$:"
   ]
  },
  {
   "cell_type": "markdown",
   "id": "50a1ce84",
   "metadata": {
    "editable": true
   },
   "source": [
    "$$\n",
    "\\begin{align*}\n",
    "    \\boldsymbol{h} &= \\boldsymbol{\\mu}_{\\boldsymbol{\\phi}}(\\boldsymbol{x}) + \\boldsymbol{\\sigma}_{\\boldsymbol{\\phi}}(\\boldsymbol{x})\\odot\\boldsymbol{\\epsilon} \\quad \\text{with } \\boldsymbol{\\epsilon} \\sim N(\\boldsymbol{\\epsilon};\\boldsymbol{0}, \\textbf{I})\n",
    "\\end{align*}\n",
    "$$"
   ]
  },
  {
   "cell_type": "markdown",
   "id": "8917f584",
   "metadata": {
    "editable": true
   },
   "source": [
    "where $\\odot$ represents an element-wise product.  Under this\n",
    "reparameterized version of $\\boldsymbol{h}$, gradients can then be computed\n",
    "with respect to $\\boldsymbol{\\phi}$ as desired, to optimize\n",
    "$\\boldsymbol{\\mu}_{\\boldsymbol{\\phi}}$ and $\\boldsymbol{\\sigma}_{\\boldsymbol{\\phi}}$.  The VAE\n",
    "therefore utilizes the reparameterization trick and Monte Carlo\n",
    "estimates to optimize the ELBO jointly over $\\boldsymbol{\\phi}$ and\n",
    "$\\boldsymbol{\\theta}$."
   ]
  },
  {
   "cell_type": "markdown",
   "id": "4f2e4911",
   "metadata": {
    "editable": true
   },
   "source": [
    "## After training\n",
    "\n",
    "After training a VAE, generating new data can be performed by sampling\n",
    "directly from the latent space $p(\\boldsymbol{h})$ and then running it through\n",
    "the decoder.  Variational Autoencoders are particularly interesting\n",
    "when the dimensionality of $\\boldsymbol{h}$ is less than that of input\n",
    "$\\boldsymbol{x}$, as we might then be learning compact, useful\n",
    "representations.  Furthermore, when a semantically meaningful latent\n",
    "space is learned, latent vectors can be edited before being passed to\n",
    "the decoder to more precisely control the data generated."
   ]
  },
  {
   "cell_type": "markdown",
   "id": "907b4c35",
   "metadata": {
    "editable": true
   },
   "source": [
    "## Setting up SGD\n",
    "So how can we perform stochastic gradient descent?\n",
    "\n",
    "First we need to be a bit more specific about the form that $Q(\\boldsymbol{h}|\\boldsymbol{x})$\n",
    "will take.  The usual choice is to say that\n",
    "$Q(\\boldsymbol{h}|\\boldsymbol{x})=\\mathcal{N}(\\boldsymbol{h}|\\mu(\\boldsymbol{x};\\vartheta),\\Sigma(;\\vartheta))$, where\n",
    "$\\mu$ and $\\Sigma$ are arbitrary deterministic functions with\n",
    "parameters $\\vartheta$ that can be learned from data (we will omit\n",
    "$\\vartheta$ in later equations).  In practice, $\\mu$ and $\\Sigma$ are\n",
    "again implemented via neural networks, and $\\Sigma$ is constrained to\n",
    "be a diagonal matrix."
   ]
  },
  {
   "cell_type": "markdown",
   "id": "fa6db3f0",
   "metadata": {
    "editable": true
   },
   "source": [
    "## More on the SGD\n",
    "\n",
    "The name variational \"autoencoder\" comes from\n",
    "the fact that $\\mu$ and $\\Sigma$ are \"encoding\" $\\boldsymbol{x}$ into the latent\n",
    "space $\\boldsymbol{h}$.  The advantages of this choice are computational, as they\n",
    "make it clear how to compute the right hand side.  The last\n",
    "term---$\\mathcal{D}\\left[Q(\\boldsymbol{h}|\\boldsymbol{x})\\|p(\\boldsymbol{h})\\right]$---is now a KL-divergence\n",
    "between two multivariate Gaussian distributions, which can be computed\n",
    "in closed form as:"
   ]
  },
  {
   "cell_type": "markdown",
   "id": "b99d4668",
   "metadata": {
    "editable": true
   },
   "source": [
    "$$\n",
    "\\begin{array}{c}\n",
    " \\mathcal{D}[\\mathcal{N}(\\mu_0,\\Sigma_0) \\| \\mathcal{N}(\\mu_1,\\Sigma_1)] = \\hspace{20em}\\\\\n",
    "  \\hspace{5em}\\frac{ 1 }{ 2 } \\left( \\mathrm{tr} \\left( \\Sigma_1^{-1} \\Sigma_0 \\right) + \\left( \\mu_1 - \\mu_0\\right)^\\top \\Sigma_1^{-1} ( \\mu_1 - \\mu_0 ) - k + \\log \\left( \\frac{ \\det \\Sigma_1 }{ \\det \\Sigma_0  } \\right)  \\right)\n",
    "\\end{array}\n",
    "$$"
   ]
  },
  {
   "cell_type": "markdown",
   "id": "d2c53906",
   "metadata": {
    "editable": true
   },
   "source": [
    "where $k$ is the dimensionality of the distribution."
   ]
  },
  {
   "cell_type": "markdown",
   "id": "a3651540",
   "metadata": {
    "editable": true
   },
   "source": [
    "## Simplification\n",
    "In our case, this simplifies to:"
   ]
  },
  {
   "cell_type": "markdown",
   "id": "f783b961",
   "metadata": {
    "editable": true
   },
   "source": [
    "$$\n",
    "\\begin{array}{c}\n",
    " \\mathcal{D}[\\mathcal{N}(\\mu(X),\\Sigma(X)) \\| \\mathcal{N}(0,I)] = \\hspace{20em}\\\\\n",
    "\\hspace{6em}\\frac{ 1 }{ 2 } \\left( \\mathrm{tr} \\left( \\Sigma(X) \\right) + \\left( \\mu(X)\\right)^\\top ( \\mu(X) ) - k - \\log\\det\\left(  \\Sigma(X)  \\right)  \\right).\n",
    "\\end{array}\n",
    "$$"
   ]
  },
  {
   "cell_type": "markdown",
   "id": "44f3ab7d",
   "metadata": {
    "editable": true
   },
   "source": [
    "## Terms to compute\n",
    "\n",
    "The first term on the right hand side is a bit more tricky.\n",
    "We could use sampling to estimate $E_{z\\sim Q}\\left[\\log P(X|z)  \\right]$, but getting a good estimate would require passing many samples of $z$ through $f$, which would be expensive.\n",
    "Hence, as is standard in stochastic gradient descent, we take one sample of $z$ and treat $\\log P(X|z)$ for that $z$ as an approximation of $E_{z\\sim Q}\\left[\\log P(X|z)  \\right]$.\n",
    "After all, we are already doing stochastic gradient descent over different values of $X$ sampled from a dataset $D$.\n",
    "The full equation we want to optimize is:"
   ]
  },
  {
   "cell_type": "markdown",
   "id": "56434ba7",
   "metadata": {
    "editable": true
   },
   "source": [
    "$$\n",
    "\\begin{array}{c}\n",
    "    E_{X\\sim D}\\left[\\log P(X) - \\mathcal{D}\\left[Q(z|X)\\|P(z|X)\\right]\\right]=\\hspace{16em}\\\\\n",
    "\\hspace{10em}E_{X\\sim D}\\left[E_{z\\sim Q}\\left[\\log P(X|z)  \\right] - \\mathcal{D}\\left[Q(z|X)\\|P(z)\\right]\\right].\n",
    "\\end{array}\n",
    "$$"
   ]
  },
  {
   "cell_type": "markdown",
   "id": "0e0c8100",
   "metadata": {
    "editable": true
   },
   "source": [
    "## Computing the gradients\n",
    "\n",
    "If we take the gradient of this equation, the gradient symbol can be moved into the expectations.\n",
    "Therefore, we can sample a single value of $X$ and a single value of $z$ from the distribution $Q(z|X)$, and compute the gradient of:"
   ]
  },
  {
   "cell_type": "markdown",
   "id": "4dbeb35e",
   "metadata": {
    "editable": true
   },
   "source": [
    "<!-- Equation labels as ordinary links -->\n",
    "<div id=\"_auto1\"></div>\n",
    "\n",
    "$$\n",
    "\\begin{equation}\n",
    " \\log P(X|z)-\\mathcal{D}\\left[Q(z|X)\\|P(z)\\right].\n",
    "\\label{_auto1} \\tag{1}\n",
    "\\end{equation}\n",
    "$$"
   ]
  },
  {
   "cell_type": "markdown",
   "id": "1aed5184",
   "metadata": {
    "editable": true
   },
   "source": [
    "We can then average the gradient of this function over arbitrarily many samples of $X$ and $z$, and the result converges to the gradient.\n",
    "\n",
    "There is, however, a significant problem\n",
    "$E_{z\\sim Q}\\left[\\log P(X|z)  \\right]$ depends not just on the parameters of $P$, but also on the parameters of $Q$.\n",
    "\n",
    "In order to make VAEs work, it is essential to drive $Q$ to produce codes for $X$ that $P$ can reliably decode."
   ]
  },
  {
   "cell_type": "markdown",
   "id": "0824f036",
   "metadata": {
    "editable": true
   },
   "source": [
    "$$\n",
    "E_{X\\sim D}\\left[E_{\\epsilon\\sim\\mathcal{N}(0,I)}[\\log P(X|z=\\mu(X)+\\Sigma^{1/2}(X)*\\epsilon)]-\\mathcal{D}\\left[Q(z|X)\\|P(z)\\right]\\right].\n",
    "$$"
   ]
  },
  {
   "cell_type": "markdown",
   "id": "b33b3556",
   "metadata": {
    "editable": true
   },
   "source": [
    "## Code examples using Keras\n",
    "\n",
    "Code taken from  <https://keras.io/examples/generative/vae/>"
   ]
  },
  {
   "cell_type": "code",
   "execution_count": 1,
   "id": "87ef5ce0",
   "metadata": {
    "collapsed": false,
    "editable": true
   },
   "outputs": [],
   "source": [
    "%matplotlib inline\n",
    "\n",
    "\"\"\"\n",
    "Title: Variational AutoEncoder\n",
    "Author: [fchollet](https://twitter.com/fchollet)\n",
    "Date created: 2020/05/03\n",
    "Last modified: 2023/11/22\n",
    "Description: Convolutional Variational AutoEncoder (VAE) trained on MNIST digits.\n",
    "Accelerator: GPU\n",
    "\"\"\"\n",
    "\n",
    "\"\"\"\n",
    "## Setup\n",
    "\"\"\"\n",
    "\n",
    "import os\n",
    "\n",
    "os.environ[\"KERAS_BACKEND\"] = \"tensorflow\"\n",
    "\n",
    "import numpy as np\n",
    "import tensorflow as tf\n",
    "import keras\n",
    "from keras import layers\n",
    "\n",
    "\"\"\"\n",
    "## Create a sampling layer\n",
    "\"\"\"\n",
    "\n",
    "\n",
    "class Sampling(layers.Layer):\n",
    "    \"\"\"Uses (z_mean, z_log_var) to sample z, the vector encoding a digit.\"\"\"\n",
    "\n",
    "    def call(self, inputs):\n",
    "        z_mean, z_log_var = inputs\n",
    "        batch = tf.shape(z_mean)[0]\n",
    "        dim = tf.shape(z_mean)[1]\n",
    "        epsilon = tf.random.normal(shape=(batch, dim))\n",
    "        return z_mean + tf.exp(0.5 * z_log_var) * epsilon\n",
    "\n",
    "\n",
    "\"\"\"\n",
    "## Build the encoder\n",
    "\"\"\"\n",
    "\n",
    "latent_dim = 2\n",
    "\n",
    "encoder_inputs = keras.Input(shape=(28, 28, 1))\n",
    "x = layers.Conv2D(32, 3, activation=\"relu\", strides=2, padding=\"same\")(encoder_inputs)\n",
    "x = layers.Conv2D(64, 3, activation=\"relu\", strides=2, padding=\"same\")(x)\n",
    "x = layers.Flatten()(x)\n",
    "x = layers.Dense(16, activation=\"relu\")(x)\n",
    "z_mean = layers.Dense(latent_dim, name=\"z_mean\")(x)\n",
    "z_log_var = layers.Dense(latent_dim, name=\"z_log_var\")(x)\n",
    "z = Sampling()([z_mean, z_log_var])\n",
    "encoder = keras.Model(encoder_inputs, [z_mean, z_log_var, z], name=\"encoder\")\n",
    "encoder.summary()\n",
    "\n",
    "\"\"\"\n",
    "## Build the decoder\n",
    "\"\"\"\n",
    "\n",
    "latent_inputs = keras.Input(shape=(latent_dim,))\n",
    "x = layers.Dense(7 * 7 * 64, activation=\"relu\")(latent_inputs)\n",
    "x = layers.Reshape((7, 7, 64))(x)\n",
    "x = layers.Conv2DTranspose(64, 3, activation=\"relu\", strides=2, padding=\"same\")(x)\n",
    "x = layers.Conv2DTranspose(32, 3, activation=\"relu\", strides=2, padding=\"same\")(x)\n",
    "decoder_outputs = layers.Conv2DTranspose(1, 3, activation=\"sigmoid\", padding=\"same\")(x)\n",
    "decoder = keras.Model(latent_inputs, decoder_outputs, name=\"decoder\")\n",
    "decoder.summary()\n",
    "\n",
    "\"\"\"\n",
    "## Define the VAE as a `Model` with a custom `train_step`\n",
    "\"\"\"\n",
    "\n",
    "\n",
    "class VAE(keras.Model):\n",
    "    def __init__(self, encoder, decoder, **kwargs):\n",
    "        super().__init__(**kwargs)\n",
    "        self.encoder = encoder\n",
    "        self.decoder = decoder\n",
    "        self.total_loss_tracker = keras.metrics.Mean(name=\"total_loss\")\n",
    "        self.reconstruction_loss_tracker = keras.metrics.Mean(\n",
    "            name=\"reconstruction_loss\"\n",
    "        )\n",
    "        self.kl_loss_tracker = keras.metrics.Mean(name=\"kl_loss\")\n",
    "\n",
    "    @property\n",
    "    def metrics(self):\n",
    "        return [\n",
    "            self.total_loss_tracker,\n",
    "            self.reconstruction_loss_tracker,\n",
    "            self.kl_loss_tracker,\n",
    "        ]\n",
    "\n",
    "    def train_step(self, data):\n",
    "        with tf.GradientTape() as tape:\n",
    "            z_mean, z_log_var, z = self.encoder(data)\n",
    "            reconstruction = self.decoder(z)\n",
    "            reconstruction_loss = tf.reduce_mean(\n",
    "                tf.reduce_sum(\n",
    "                    keras.losses.binary_crossentropy(data, reconstruction),\n",
    "                    axis=(1, 2),\n",
    "                )\n",
    "            )\n",
    "            kl_loss = -0.5 * (1 + z_log_var - tf.square(z_mean) - tf.exp(z_log_var))\n",
    "            kl_loss = tf.reduce_mean(tf.reduce_sum(kl_loss, axis=1))\n",
    "            total_loss = reconstruction_loss + kl_loss\n",
    "        grads = tape.gradient(total_loss, self.trainable_weights)\n",
    "        self.optimizer.apply_gradients(zip(grads, self.trainable_weights))\n",
    "        self.total_loss_tracker.update_state(total_loss)\n",
    "        self.reconstruction_loss_tracker.update_state(reconstruction_loss)\n",
    "        self.kl_loss_tracker.update_state(kl_loss)\n",
    "        return {\n",
    "            \"loss\": self.total_loss_tracker.result(),\n",
    "            \"reconstruction_loss\": self.reconstruction_loss_tracker.result(),\n",
    "            \"kl_loss\": self.kl_loss_tracker.result(),\n",
    "        }\n",
    "\n",
    "\n",
    "\"\"\"\n",
    "## Train the VAE\n",
    "\"\"\"\n",
    "\n",
    "(x_train, _), (x_test, _) = keras.datasets.mnist.load_data()\n",
    "mnist_digits = np.concatenate([x_train, x_test], axis=0)\n",
    "mnist_digits = np.expand_dims(mnist_digits, -1).astype(\"float32\") / 255\n",
    "\n",
    "vae = VAE(encoder, decoder)\n",
    "vae.compile(optimizer=keras.optimizers.Adam())\n",
    "vae.fit(mnist_digits, epochs=30, batch_size=128)\n",
    "\n",
    "\"\"\"\n",
    "## Display a grid of sampled digits\n",
    "\"\"\"\n",
    "\n",
    "import matplotlib.pyplot as plt\n",
    "\n",
    "\n",
    "def plot_latent_space(vae, n=30, figsize=15):\n",
    "    # display a n*n 2D manifold of digits\n",
    "    digit_size = 28\n",
    "    scale = 1.0\n",
    "    figure = np.zeros((digit_size * n, digit_size * n))\n",
    "    # linearly spaced coordinates corresponding to the 2D plot\n",
    "    # of digit classes in the latent space\n",
    "    grid_x = np.linspace(-scale, scale, n)\n",
    "    grid_y = np.linspace(-scale, scale, n)[::-1]\n",
    "\n",
    "    for i, yi in enumerate(grid_y):\n",
    "        for j, xi in enumerate(grid_x):\n",
    "            z_sample = np.array([[xi, yi]])\n",
    "            x_decoded = vae.decoder.predict(z_sample, verbose=0)\n",
    "            digit = x_decoded[0].reshape(digit_size, digit_size)\n",
    "            figure[\n",
    "                i * digit_size : (i + 1) * digit_size,\n",
    "                j * digit_size : (j + 1) * digit_size,\n",
    "            ] = digit\n",
    "\n",
    "    plt.figure(figsize=(figsize, figsize))\n",
    "    start_range = digit_size // 2\n",
    "    end_range = n * digit_size + start_range\n",
    "    pixel_range = np.arange(start_range, end_range, digit_size)\n",
    "    sample_range_x = np.round(grid_x, 1)\n",
    "    sample_range_y = np.round(grid_y, 1)\n",
    "    plt.xticks(pixel_range, sample_range_x)\n",
    "    plt.yticks(pixel_range, sample_range_y)\n",
    "    plt.xlabel(\"z[0]\")\n",
    "    plt.ylabel(\"z[1]\")\n",
    "    plt.imshow(figure, cmap=\"Greys_r\")\n",
    "    plt.show()\n",
    "\n",
    "\n",
    "plot_latent_space(vae)\n",
    "\n",
    "\"\"\"\n",
    "## Display how the latent space clusters different digit classes\n",
    "\"\"\"\n",
    "\n",
    "\n",
    "def plot_label_clusters(vae, data, labels):\n",
    "    # display a 2D plot of the digit classes in the latent space\n",
    "    z_mean, _, _ = vae.encoder.predict(data, verbose=0)\n",
    "    plt.figure(figsize=(12, 10))\n",
    "    plt.scatter(z_mean[:, 0], z_mean[:, 1], c=labels)\n",
    "    plt.colorbar()\n",
    "    plt.xlabel(\"z[0]\")\n",
    "    plt.ylabel(\"z[1]\")\n",
    "    plt.show()\n",
    "\n",
    "\n",
    "(x_train, y_train), _ = keras.datasets.mnist.load_data()\n",
    "x_train = np.expand_dims(x_train, -1).astype(\"float32\") / 255\n",
    "\n",
    "plot_label_clusters(vae, x_train, y_train)"
   ]
  },
  {
   "cell_type": "markdown",
   "id": "51147f71",
   "metadata": {
    "editable": true
   },
   "source": [
    "## Code in PyTorch for VAEs"
   ]
  },
  {
   "cell_type": "code",
   "execution_count": 2,
   "id": "367eae08",
   "metadata": {
    "collapsed": false,
    "editable": true
   },
   "outputs": [],
   "source": [
    "import torch\n",
    "from torch.autograd import Variable\n",
    "import numpy as np\n",
    "import torch.nn.functional as F\n",
    "import torchvision\n",
    "from torchvision import transforms\n",
    "import torch.optim as optim\n",
    "from torch import nn\n",
    "import matplotlib.pyplot as plt\n",
    "from torch import distributions\n",
    "\n",
    "class Encoder(torch.nn.Module):\n",
    "    def __init__(self, D_in, H, latent_size):\n",
    "        super(Encoder, self).__init__()\n",
    "        self.linear1 = torch.nn.Linear(D_in, H)\n",
    "        self.linear2 = torch.nn.Linear(H, H)\n",
    "        self.enc_mu = torch.nn.Linear(H, latent_size)\n",
    "        self.enc_log_sigma = torch.nn.Linear(H, latent_size)\n",
    "\n",
    "    def forward(self, x):\n",
    "        x = F.relu(self.linear1(x))\n",
    "        x = F.relu(self.linear2(x))\n",
    "        mu = self.enc_mu(x)\n",
    "        log_sigma = self.enc_log_sigma(x)\n",
    "        sigma = torch.exp(log_sigma)\n",
    "        return torch.distributions.Normal(loc=mu, scale=sigma)\n",
    "\n",
    "\n",
    "class Decoder(torch.nn.Module):\n",
    "    def __init__(self, D_in, H, D_out):\n",
    "        super(Decoder, self).__init__()\n",
    "        self.linear1 = torch.nn.Linear(D_in, H)\n",
    "        self.linear2 = torch.nn.Linear(H, D_out)\n",
    "        \n",
    "\n",
    "    def forward(self, x):\n",
    "        x = F.relu(self.linear1(x))\n",
    "        mu = torch.tanh(self.linear2(x))\n",
    "        return torch.distributions.Normal(mu, torch.ones_like(mu))\n",
    "\n",
    "class VAE(torch.nn.Module):\n",
    "    def __init__(self, encoder, decoder):\n",
    "        super(VAE, self).__init__()\n",
    "        self.encoder = encoder\n",
    "        self.decoder = decoder\n",
    "\n",
    "    def forward(self, state):\n",
    "        q_z = self.encoder(state)\n",
    "        z = q_z.rsample()\n",
    "        return self.decoder(z), q_z\n",
    "\n",
    "\n",
    "transform = transforms.Compose(\n",
    "    [transforms.ToTensor(),\n",
    "     # Normalize the images to be -0.5, 0.5\n",
    "     transforms.Normalize(0.5, 1)]\n",
    "    )\n",
    "mnist = torchvision.datasets.MNIST('./', download=True, transform=transform)\n",
    "\n",
    "input_dim = 28 * 28\n",
    "batch_size = 128\n",
    "num_epochs = 100\n",
    "learning_rate = 0.001\n",
    "hidden_size = 512\n",
    "latent_size = 8\n",
    "\n",
    "if torch.cuda.is_available():\n",
    "    device = torch.device('cuda')\n",
    "else:\n",
    "    device = torch.device('cpu')\n",
    "\n",
    "dataloader = torch.utils.data.DataLoader(\n",
    "    mnist, batch_size=batch_size,\n",
    "    shuffle=True, \n",
    "    pin_memory=torch.cuda.is_available())\n",
    "\n",
    "print('Number of samples: ', len(mnist))\n",
    "\n",
    "encoder = Encoder(input_dim, hidden_size, latent_size)\n",
    "decoder = Decoder(latent_size, hidden_size, input_dim)\n",
    "\n",
    "vae = VAE(encoder, decoder).to(device)\n",
    "\n",
    "optimizer = optim.Adam(vae.parameters(), lr=learning_rate)\n",
    "for epoch in range(num_epochs):\n",
    "    for data in dataloader:\n",
    "        inputs, _ = data\n",
    "        inputs = inputs.view(-1, input_dim).to(device)\n",
    "        optimizer.zero_grad()\n",
    "        p_x, q_z = vae(inputs)\n",
    "        log_likelihood = p_x.log_prob(inputs).sum(-1).mean()\n",
    "        kl = torch.distributions.kl_divergence(\n",
    "            q_z, \n",
    "            torch.distributions.Normal(0, 1.)\n",
    "        ).sum(-1).mean()\n",
    "        loss = -(log_likelihood - kl)\n",
    "        loss.backward()\n",
    "        optimizer.step()\n",
    "        l = loss.item()\n",
    "    print(epoch, l, log_likelihood.item(), kl.item())"
   ]
  },
  {
   "cell_type": "markdown",
   "id": "73f5b3b8",
   "metadata": {
    "editable": true
   },
   "source": [
    "## Diffusion models, basics\n",
    "\n",
    "Diffusion models are inspired by non-equilibrium thermodynamics. They\n",
    "define a Markov chain of diffusion steps to slowly add random noise to\n",
    "data and then learn to reverse the diffusion process to construct\n",
    "desired data samples from the noise. Unlike VAE or flow models,\n",
    "diffusion models are learned with a fixed procedure and the latent\n",
    "variable has high dimensionality (same as the original data)."
   ]
  },
  {
   "cell_type": "markdown",
   "id": "16707b48",
   "metadata": {
    "editable": true
   },
   "source": [
    "## Problems with probabilistic models\n",
    "\n",
    "Historically, probabilistic models suffer from a tradeoff between two\n",
    "conflicting objectives: \\textit{tractability} and\n",
    "\\textit{flexibility}. Models that are \\textit{tractable} can be\n",
    "analytically evaluated and easily fit to data (e.g. a Gaussian or\n",
    "Laplace). However, these models are unable to aptly describe structure\n",
    "in rich datasets. On the other hand, models that are \\textit{flexible}\n",
    "can be molded to fit structure in arbitrary data. For example, we can\n",
    "define models in terms of any (non-negative) function $\\phi(\\boldsymbol{x})$\n",
    "yielding the flexible distribution $p\\left(\\boldsymbol{x}\\right) =\n",
    "\\frac{\\phi\\left(\\boldsymbol{x} \\right)}{Z}$, where $Z$ is a normalization\n",
    "constant. However, computing this normalization constant is generally\n",
    "intractable. Evaluating, training, or drawing samples from such\n",
    "flexible models typically requires a very expensive Monte Carlo\n",
    "process."
   ]
  },
  {
   "cell_type": "markdown",
   "id": "82b136fc",
   "metadata": {
    "editable": true
   },
   "source": [
    "## Diffusion models\n",
    "Diffusion models have several interesting features\n",
    "* extreme flexibility in model structure,\n",
    "\n",
    "* exact sampling,\n",
    "\n",
    "* easy multiplication with other distributions, e.g. in order to compute a posterior, and\n",
    "\n",
    "* the model log likelihood, and the probability of individual states, to be cheaply evaluated."
   ]
  },
  {
   "cell_type": "markdown",
   "id": "a7d6761d",
   "metadata": {
    "editable": true
   },
   "source": [
    "## Original idea\n",
    "\n",
    "In the original formulation, one uses a Markov chain to gradually\n",
    "convert one distribution into another, an idea used in non-equilibrium\n",
    "statistical physics and sequential Monte Carlo. Diffusion models build\n",
    "a generative Markov chain which converts a simple known distribution\n",
    "(e.g. a Gaussian) into a target (data) distribution using a diffusion\n",
    "process. Rather than use this Markov chain to approximately evaluate a\n",
    "model which has been otherwise defined, one can  explicitly define the\n",
    "probabilistic model as the endpoint of the Markov chain. Since each\n",
    "step in the diffusion chain has an analytically evaluable probability,\n",
    "the full chain can also be analytically evaluated."
   ]
  },
  {
   "cell_type": "markdown",
   "id": "f0b053f5",
   "metadata": {
    "editable": true
   },
   "source": [
    "## Diffusion learning\n",
    "\n",
    "Learning in this framework involves estimating small perturbations to\n",
    "a diffusion process. Estimating small, analytically tractable,\n",
    "perturbations is more tractable than explicitly describing the full\n",
    "distribution with a single, non-analytically-normalizable, potential\n",
    "function.  Furthermore, since a diffusion process exists for any\n",
    "smooth target distribution, this method can capture data distributions\n",
    "of arbitrary form."
   ]
  },
  {
   "cell_type": "markdown",
   "id": "fa46f40f",
   "metadata": {
    "editable": true
   },
   "source": [
    "## Code examples using Keras\n",
    "\n",
    "Code taken from  <https://keras.io/examples/generative/vae/>"
   ]
  },
  {
   "cell_type": "code",
   "execution_count": 3,
   "id": "54123d47",
   "metadata": {
    "collapsed": false,
    "editable": true
   },
   "outputs": [],
   "source": [
    "\"\"\"\n",
    "Title: Variational AutoEncoder\n",
    "Author: [fchollet](https://twitter.com/fchollet)\n",
    "Date created: 2020/05/03\n",
    "Last modified: 2023/11/22\n",
    "Description: Convolutional Variational AutoEncoder (VAE) trained on MNIST digits.\n",
    "Accelerator: GPU\n",
    "\"\"\"\n",
    "\n",
    "\"\"\"\n",
    "## Setup\n",
    "\"\"\"\n",
    "\n",
    "import os\n",
    "\n",
    "os.environ[\"KERAS_BACKEND\"] = \"tensorflow\"\n",
    "\n",
    "import numpy as np\n",
    "import tensorflow as tf\n",
    "import keras\n",
    "from keras import layers\n",
    "\n",
    "\"\"\"\n",
    "## Create a sampling layer\n",
    "\"\"\"\n",
    "\n",
    "\n",
    "class Sampling(layers.Layer):\n",
    "    \"\"\"Uses (z_mean, z_log_var) to sample z, the vector encoding a digit.\"\"\"\n",
    "\n",
    "    def call(self, inputs):\n",
    "        z_mean, z_log_var = inputs\n",
    "        batch = tf.shape(z_mean)[0]\n",
    "        dim = tf.shape(z_mean)[1]\n",
    "        epsilon = tf.random.normal(shape=(batch, dim))\n",
    "        return z_mean + tf.exp(0.5 * z_log_var) * epsilon\n",
    "\n",
    "\n",
    "\"\"\"\n",
    "## Build the encoder\n",
    "\"\"\"\n",
    "\n",
    "latent_dim = 2\n",
    "\n",
    "encoder_inputs = keras.Input(shape=(28, 28, 1))\n",
    "x = layers.Conv2D(32, 3, activation=\"relu\", strides=2, padding=\"same\")(encoder_inputs)\n",
    "x = layers.Conv2D(64, 3, activation=\"relu\", strides=2, padding=\"same\")(x)\n",
    "x = layers.Flatten()(x)\n",
    "x = layers.Dense(16, activation=\"relu\")(x)\n",
    "z_mean = layers.Dense(latent_dim, name=\"z_mean\")(x)\n",
    "z_log_var = layers.Dense(latent_dim, name=\"z_log_var\")(x)\n",
    "z = Sampling()([z_mean, z_log_var])\n",
    "encoder = keras.Model(encoder_inputs, [z_mean, z_log_var, z], name=\"encoder\")\n",
    "encoder.summary()\n",
    "\n",
    "\"\"\"\n",
    "## Build the decoder\n",
    "\"\"\"\n",
    "\n",
    "latent_inputs = keras.Input(shape=(latent_dim,))\n",
    "x = layers.Dense(7 * 7 * 64, activation=\"relu\")(latent_inputs)\n",
    "x = layers.Reshape((7, 7, 64))(x)\n",
    "x = layers.Conv2DTranspose(64, 3, activation=\"relu\", strides=2, padding=\"same\")(x)\n",
    "x = layers.Conv2DTranspose(32, 3, activation=\"relu\", strides=2, padding=\"same\")(x)\n",
    "decoder_outputs = layers.Conv2DTranspose(1, 3, activation=\"sigmoid\", padding=\"same\")(x)\n",
    "decoder = keras.Model(latent_inputs, decoder_outputs, name=\"decoder\")\n",
    "decoder.summary()\n",
    "\n",
    "\"\"\"\n",
    "## Define the VAE as a `Model` with a custom `train_step`\n",
    "\"\"\"\n",
    "\n",
    "\n",
    "class VAE(keras.Model):\n",
    "    def __init__(self, encoder, decoder, **kwargs):\n",
    "        super().__init__(**kwargs)\n",
    "        self.encoder = encoder\n",
    "        self.decoder = decoder\n",
    "        self.total_loss_tracker = keras.metrics.Mean(name=\"total_loss\")\n",
    "        self.reconstruction_loss_tracker = keras.metrics.Mean(\n",
    "            name=\"reconstruction_loss\"\n",
    "        )\n",
    "        self.kl_loss_tracker = keras.metrics.Mean(name=\"kl_loss\")\n",
    "\n",
    "    @property\n",
    "    def metrics(self):\n",
    "        return [\n",
    "            self.total_loss_tracker,\n",
    "            self.reconstruction_loss_tracker,\n",
    "            self.kl_loss_tracker,\n",
    "        ]\n",
    "\n",
    "    def train_step(self, data):\n",
    "        with tf.GradientTape() as tape:\n",
    "            z_mean, z_log_var, z = self.encoder(data)\n",
    "            reconstruction = self.decoder(z)\n",
    "            reconstruction_loss = tf.reduce_mean(\n",
    "                tf.reduce_sum(\n",
    "                    keras.losses.binary_crossentropy(data, reconstruction),\n",
    "                    axis=(1, 2),\n",
    "                )\n",
    "            )\n",
    "            kl_loss = -0.5 * (1 + z_log_var - tf.square(z_mean) - tf.exp(z_log_var))\n",
    "            kl_loss = tf.reduce_mean(tf.reduce_sum(kl_loss, axis=1))\n",
    "            total_loss = reconstruction_loss + kl_loss\n",
    "        grads = tape.gradient(total_loss, self.trainable_weights)\n",
    "        self.optimizer.apply_gradients(zip(grads, self.trainable_weights))\n",
    "        self.total_loss_tracker.update_state(total_loss)\n",
    "        self.reconstruction_loss_tracker.update_state(reconstruction_loss)\n",
    "        self.kl_loss_tracker.update_state(kl_loss)\n",
    "        return {\n",
    "            \"loss\": self.total_loss_tracker.result(),\n",
    "            \"reconstruction_loss\": self.reconstruction_loss_tracker.result(),\n",
    "            \"kl_loss\": self.kl_loss_tracker.result(),\n",
    "        }\n",
    "\n",
    "\n",
    "\"\"\"\n",
    "## Train the VAE\n",
    "\"\"\"\n",
    "\n",
    "(x_train, _), (x_test, _) = keras.datasets.mnist.load_data()\n",
    "mnist_digits = np.concatenate([x_train, x_test], axis=0)\n",
    "mnist_digits = np.expand_dims(mnist_digits, -1).astype(\"float32\") / 255\n",
    "\n",
    "vae = VAE(encoder, decoder)\n",
    "vae.compile(optimizer=keras.optimizers.Adam())\n",
    "vae.fit(mnist_digits, epochs=30, batch_size=128)\n",
    "\n",
    "\"\"\"\n",
    "## Display a grid of sampled digits\n",
    "\"\"\"\n",
    "\n",
    "import matplotlib.pyplot as plt\n",
    "\n",
    "\n",
    "def plot_latent_space(vae, n=30, figsize=15):\n",
    "    # display a n*n 2D manifold of digits\n",
    "    digit_size = 28\n",
    "    scale = 1.0\n",
    "    figure = np.zeros((digit_size * n, digit_size * n))\n",
    "    # linearly spaced coordinates corresponding to the 2D plot\n",
    "    # of digit classes in the latent space\n",
    "    grid_x = np.linspace(-scale, scale, n)\n",
    "    grid_y = np.linspace(-scale, scale, n)[::-1]\n",
    "\n",
    "    for i, yi in enumerate(grid_y):\n",
    "        for j, xi in enumerate(grid_x):\n",
    "            z_sample = np.array([[xi, yi]])\n",
    "            x_decoded = vae.decoder.predict(z_sample, verbose=0)\n",
    "            digit = x_decoded[0].reshape(digit_size, digit_size)\n",
    "            figure[\n",
    "                i * digit_size : (i + 1) * digit_size,\n",
    "                j * digit_size : (j + 1) * digit_size,\n",
    "            ] = digit\n",
    "\n",
    "    plt.figure(figsize=(figsize, figsize))\n",
    "    start_range = digit_size // 2\n",
    "    end_range = n * digit_size + start_range\n",
    "    pixel_range = np.arange(start_range, end_range, digit_size)\n",
    "    sample_range_x = np.round(grid_x, 1)\n",
    "    sample_range_y = np.round(grid_y, 1)\n",
    "    plt.xticks(pixel_range, sample_range_x)\n",
    "    plt.yticks(pixel_range, sample_range_y)\n",
    "    plt.xlabel(\"z[0]\")\n",
    "    plt.ylabel(\"z[1]\")\n",
    "    plt.imshow(figure, cmap=\"Greys_r\")\n",
    "    plt.show()\n",
    "\n",
    "\n",
    "plot_latent_space(vae)\n",
    "\n",
    "\"\"\"\n",
    "## Display how the latent space clusters different digit classes\n",
    "\"\"\"\n",
    "\n",
    "\n",
    "def plot_label_clusters(vae, data, labels):\n",
    "    # display a 2D plot of the digit classes in the latent space\n",
    "    z_mean, _, _ = vae.encoder.predict(data, verbose=0)\n",
    "    plt.figure(figsize=(12, 10))\n",
    "    plt.scatter(z_mean[:, 0], z_mean[:, 1], c=labels)\n",
    "    plt.colorbar()\n",
    "    plt.xlabel(\"z[0]\")\n",
    "    plt.ylabel(\"z[1]\")\n",
    "    plt.show()\n",
    "\n",
    "\n",
    "(x_train, y_train), _ = keras.datasets.mnist.load_data()\n",
    "x_train = np.expand_dims(x_train, -1).astype(\"float32\") / 255\n",
    "\n",
    "plot_label_clusters(vae, x_train, y_train)"
   ]
  },
  {
   "cell_type": "markdown",
   "id": "da5b1460",
   "metadata": {
    "editable": true
   },
   "source": [
    "## Code in PyTorch for VAEs"
   ]
  },
  {
   "cell_type": "code",
   "execution_count": 4,
   "id": "f9f64e39",
   "metadata": {
    "collapsed": false,
    "editable": true
   },
   "outputs": [],
   "source": [
    "import torch\n",
    "from torch.autograd import Variable\n",
    "import numpy as np\n",
    "import torch.nn.functional as F\n",
    "import torchvision\n",
    "from torchvision import transforms\n",
    "import torch.optim as optim\n",
    "from torch import nn\n",
    "import matplotlib.pyplot as plt\n",
    "from torch import distributions\n",
    "\n",
    "class Encoder(torch.nn.Module):\n",
    "    def __init__(self, D_in, H, latent_size):\n",
    "        super(Encoder, self).__init__()\n",
    "        self.linear1 = torch.nn.Linear(D_in, H)\n",
    "        self.linear2 = torch.nn.Linear(H, H)\n",
    "        self.enc_mu = torch.nn.Linear(H, latent_size)\n",
    "        self.enc_log_sigma = torch.nn.Linear(H, latent_size)\n",
    "\n",
    "    def forward(self, x):\n",
    "        x = F.relu(self.linear1(x))\n",
    "        x = F.relu(self.linear2(x))\n",
    "        mu = self.enc_mu(x)\n",
    "        log_sigma = self.enc_log_sigma(x)\n",
    "        sigma = torch.exp(log_sigma)\n",
    "        return torch.distributions.Normal(loc=mu, scale=sigma)\n",
    "\n",
    "\n",
    "class Decoder(torch.nn.Module):\n",
    "    def __init__(self, D_in, H, D_out):\n",
    "        super(Decoder, self).__init__()\n",
    "        self.linear1 = torch.nn.Linear(D_in, H)\n",
    "        self.linear2 = torch.nn.Linear(H, D_out)\n",
    "        \n",
    "\n",
    "    def forward(self, x):\n",
    "        x = F.relu(self.linear1(x))\n",
    "        mu = torch.tanh(self.linear2(x))\n",
    "        return torch.distributions.Normal(mu, torch.ones_like(mu))\n",
    "\n",
    "class VAE(torch.nn.Module):\n",
    "    def __init__(self, encoder, decoder):\n",
    "        super(VAE, self).__init__()\n",
    "        self.encoder = encoder\n",
    "        self.decoder = decoder\n",
    "\n",
    "    def forward(self, state):\n",
    "        q_z = self.encoder(state)\n",
    "        z = q_z.rsample()\n",
    "        return self.decoder(z), q_z\n",
    "\n",
    "\n",
    "transform = transforms.Compose(\n",
    "    [transforms.ToTensor(),\n",
    "     # Normalize the images to be -0.5, 0.5\n",
    "     transforms.Normalize(0.5, 1)]\n",
    "    )\n",
    "mnist = torchvision.datasets.MNIST('./', download=True, transform=transform)\n",
    "\n",
    "input_dim = 28 * 28\n",
    "batch_size = 128\n",
    "num_epochs = 100\n",
    "learning_rate = 0.001\n",
    "hidden_size = 512\n",
    "latent_size = 8\n",
    "\n",
    "if torch.cuda.is_available():\n",
    "    device = torch.device('cuda')\n",
    "else:\n",
    "    device = torch.device('cpu')\n",
    "\n",
    "dataloader = torch.utils.data.DataLoader(\n",
    "    mnist, batch_size=batch_size,\n",
    "    shuffle=True, \n",
    "    pin_memory=torch.cuda.is_available())\n",
    "\n",
    "print('Number of samples: ', len(mnist))\n",
    "\n",
    "encoder = Encoder(input_dim, hidden_size, latent_size)\n",
    "decoder = Decoder(latent_size, hidden_size, input_dim)\n",
    "\n",
    "vae = VAE(encoder, decoder).to(device)\n",
    "\n",
    "optimizer = optim.Adam(vae.parameters(), lr=learning_rate)\n",
    "for epoch in range(num_epochs):\n",
    "    for data in dataloader:\n",
    "        inputs, _ = data\n",
    "        inputs = inputs.view(-1, input_dim).to(device)\n",
    "        optimizer.zero_grad()\n",
    "        p_x, q_z = vae(inputs)\n",
    "        log_likelihood = p_x.log_prob(inputs).sum(-1).mean()\n",
    "        kl = torch.distributions.kl_divergence(\n",
    "            q_z, \n",
    "            torch.distributions.Normal(0, 1.)\n",
    "        ).sum(-1).mean()\n",
    "        loss = -(log_likelihood - kl)\n",
    "        loss.backward()\n",
    "        optimizer.step()\n",
    "        l = loss.item()\n",
    "    print(epoch, l, log_likelihood.item(), kl.item())"
   ]
  },
  {
   "cell_type": "markdown",
   "id": "06849d3e",
   "metadata": {
    "editable": true
   },
   "source": [
    "## Diffusion models, basics\n",
    "\n",
    "Diffusion models are inspired by non-equilibrium thermodynamics. They\n",
    "define a Markov chain of diffusion steps to slowly add random noise to\n",
    "data and then learn to reverse the diffusion process to construct\n",
    "desired data samples from the noise. Unlike VAE or flow models,\n",
    "diffusion models are learned with a fixed procedure and the latent\n",
    "variable has high dimensionality (same as the original data)."
   ]
  },
  {
   "cell_type": "markdown",
   "id": "08d70be9",
   "metadata": {
    "editable": true
   },
   "source": [
    "## Problems with probabilistic models\n",
    "\n",
    "Historically, probabilistic models suffer from a tradeoff between two\n",
    "conflicting objectives: \\textit{tractability} and\n",
    "\\textit{flexibility}. Models that are \\textit{tractable} can be\n",
    "analytically evaluated and easily fit to data (e.g. a Gaussian or\n",
    "Laplace). However, these models are unable to aptly describe structure\n",
    "in rich datasets. On the other hand, models that are \\textit{flexible}\n",
    "can be molded to fit structure in arbitrary data. For example, we can\n",
    "define models in terms of any (non-negative) function $\\phi(\\boldsymbol{x})$\n",
    "yielding the flexible distribution $p\\left(\\boldsymbol{x}\\right) =\n",
    "\\frac{\\phi\\left(\\boldsymbol{x} \\right)}{Z}$, where $Z$ is a normalization\n",
    "constant. However, computing this normalization constant is generally\n",
    "intractable. Evaluating, training, or drawing samples from such\n",
    "flexible models typically requires a very expensive Monte Carlo\n",
    "process."
   ]
  },
  {
   "cell_type": "markdown",
   "id": "29b40b81",
   "metadata": {
    "editable": true
   },
   "source": [
    "## Diffusion models\n",
    "Diffusion models have several interesting features\n",
    "* extreme flexibility in model structure,\n",
    "\n",
    "* exact sampling,\n",
    "\n",
    "* easy multiplication with other distributions, e.g. in order to compute a posterior, and\n",
    "\n",
    "* the model log likelihood, and the probability of individual states, to be cheaply evaluated."
   ]
  },
  {
   "cell_type": "markdown",
   "id": "894259e4",
   "metadata": {
    "editable": true
   },
   "source": [
    "## Original idea\n",
    "\n",
    "In the original formulation, one uses a Markov chain to gradually\n",
    "convert one distribution into another, an idea used in non-equilibrium\n",
    "statistical physics and sequential Monte Carlo. Diffusion models build\n",
    "a generative Markov chain which converts a simple known distribution\n",
    "(e.g. a Gaussian) into a target (data) distribution using a diffusion\n",
    "process. Rather than use this Markov chain to approximately evaluate a\n",
    "model which has been otherwise defined, one can  explicitly define the\n",
    "probabilistic model as the endpoint of the Markov chain. Since each\n",
    "step in the diffusion chain has an analytically evaluable probability,\n",
    "the full chain can also be analytically evaluated."
   ]
  },
  {
   "cell_type": "markdown",
   "id": "91e87a94",
   "metadata": {
    "editable": true
   },
   "source": [
    "## Diffusion learning\n",
    "\n",
    "Learning in this framework involves estimating small perturbations to\n",
    "a diffusion process. Estimating small, analytically tractable,\n",
    "perturbations is more tractable than explicitly describing the full\n",
    "distribution with a single, non-analytically-normalizable, potential\n",
    "function.  Furthermore, since a diffusion process exists for any\n",
    "smooth target distribution, this method can capture data distributions\n",
    "of arbitrary form."
   ]
  },
  {
   "cell_type": "markdown",
   "id": "605df5b3",
   "metadata": {
    "editable": true
   },
   "source": [
    "## Mathematics of diffusion models\n",
    "\n",
    "Let us go back our discussions of the variational autoencoders from\n",
    "last week, see\n",
    "<https://github.com/CompPhysics/AdvancedMachineLearning/blob/main/doc/pub/week15/ipynb/week15.ipynb>. As\n",
    "a first attempt at understanding diffusion models, we can think of\n",
    "these as stacked VAEs, or better, recursive VAEs.\n",
    "\n",
    "Let us try to see why. As an intermediate step, we consider so-called\n",
    "hierarchical VAEs, which can be seen as a generalization of VAEs that\n",
    "include multiple hierarchies of latent spaces.\n",
    "\n",
    "**Note**: Many of the derivations and figures here are inspired and borrowed from the excellent exposition of diffusion models by Calvin Luo at <https://arxiv.org/abs/2208.11970>."
   ]
  },
  {
   "cell_type": "markdown",
   "id": "ef8ab10b",
   "metadata": {
    "editable": true
   },
   "source": [
    "## Chains of VAEs\n",
    "\n",
    "Markovian\n",
    "VAEs represent a  generative process where we use  Markov chain to build a hierarchy of VAEs.\n",
    "\n",
    "Each transition down the hierarchy is Markovian, where we decode each\n",
    "latent set of variables $\\boldsymbol{h}_t$ in terms of the previous latent variable $\\boldsymbol{h}_{t-1}$.\n",
    "Intuitively, and visually, this can be seen as simply stacking VAEs on\n",
    "top of each other (see figure next slide).\n",
    "\n",
    "One can think of such a model as a recursive VAE."
   ]
  },
  {
   "cell_type": "markdown",
   "id": "34c411a5",
   "metadata": {
    "editable": true
   },
   "source": [
    "## Mathematical representation\n",
    "\n",
    "Mathematically, we represent the joint distribution and the posterior\n",
    "of a Markovian VAE as"
   ]
  },
  {
   "cell_type": "markdown",
   "id": "fd4544da",
   "metadata": {
    "editable": true
   },
   "source": [
    "$$\n",
    "\\begin{align*}\n",
    "    p(\\boldsymbol{x}, \\boldsymbol{h}_{1:T}) &= p(\\boldsymbol{h}_T)p_{\\boldsymbol{\\theta}}(\\boldsymbol{x}|\\boldsymbol{h}_1)\\prod_{t=2}^{T}p_{\\boldsymbol{\\theta}}(\\boldsymbol{h}_{t-1}|\\boldsymbol{h}_{t})\\\\\n",
    "    q_{\\boldsymbol{\\phi}}(\\boldsymbol{h}_{1:T}|\\boldsymbol{x}) &= q_{\\boldsymbol{\\phi}}(\\boldsymbol{h}_1|\\boldsymbol{x})\\prod_{t=2}^{T}q_{\\boldsymbol{\\phi}}(\\boldsymbol{h}_{t}|\\boldsymbol{h}_{t-1})\n",
    "\\end{align*}\n",
    "$$"
   ]
  },
  {
   "cell_type": "markdown",
   "id": "84eb6895",
   "metadata": {
    "editable": true
   },
   "source": [
    "## Back to the marginal probability\n",
    "\n",
    "We can then define the marginal probability we want to optimize as"
   ]
  },
  {
   "cell_type": "markdown",
   "id": "b0c7e4e8",
   "metadata": {
    "editable": true
   },
   "source": [
    "$$\n",
    "\\begin{align*}\n",
    "\\log p(\\boldsymbol{x}) &= \\log \\int p(\\boldsymbol{x}, \\boldsymbol{h}_{1:T}) d\\boldsymbol{h}_{1:T}  \\\\\n",
    "&= \\log \\int \\frac{p(\\boldsymbol{x}, \\boldsymbol{h}_{1:T})q_{\\boldsymbol{\\phi}}(\\boldsymbol{h}_{1:T}|\\boldsymbol{x})}{q_{\\boldsymbol{\\phi}}(\\boldsymbol{h}_{1:T}|\\boldsymbol{x})} d\\boldsymbol{h}_{1:T}         && \\text{(Multiply by 1 = $\\frac{q_{\\boldsymbol{\\phi}}(\\boldsymbol{h}_{1:T}|\\boldsymbol{x})}{q_{\\boldsymbol{\\phi}}(\\boldsymbol{h}_{1:T}|\\boldsymbol{x})}$)}\\\\\n",
    "&= \\log \\mathbb{E}_{q_{\\boldsymbol{\\phi}}(\\boldsymbol{h}_{1:T}|\\boldsymbol{x})}\\left[\\frac{p(\\boldsymbol{x}, \\boldsymbol{h}_{1:T})}{q_{\\boldsymbol{\\phi}}(\\boldsymbol{h}_{1:T}|\\boldsymbol{x})}\\right]         && \\text{(Definition of Expectation)}\\\\\n",
    "&\\geq \\mathbb{E}_{q_{\\boldsymbol{\\phi}}(\\boldsymbol{h}_{1:T}|\\boldsymbol{x})}\\left[\\log \\frac{p(\\boldsymbol{x}, \\boldsymbol{h}_{1:T})}{q_{\\boldsymbol{\\phi}}(\\boldsymbol{h}_{1:T}|\\boldsymbol{x})}\\right]         && \\text{(Discussed last week)}\n",
    "\\end{align*}\n",
    "$$"
   ]
  },
  {
   "cell_type": "markdown",
   "id": "7f3d7fd1",
   "metadata": {
    "editable": true
   },
   "source": [
    "## Diffusion models for hierarchical VAE, from <https://arxiv.org/abs/2208.11970>\n",
    "\n",
    "A Markovian hierarchical Variational Autoencoder with $T$ hierarchical\n",
    "latents.  The generative process is modeled as a Markov chain, where\n",
    "each latent $\\boldsymbol{h}_t$ is generated only from the previous latent\n",
    "$\\boldsymbol{h}_{t+1}$. Here $\\boldsymbol{z}$ is our latent variable $\\boldsymbol{h}$.\n",
    "\n",
    "<!-- dom:FIGURE: [figures/figure1.png, width=800 frac=1.0] -->\n",
    "<!-- begin figure -->\n",
    "\n",
    "<img src=\"figures/figure1.png\" width=\"800\"><p style=\"font-size: 0.9em\"><i>Figure 1: </i></p>\n",
    "<!-- end figure -->"
   ]
  },
  {
   "cell_type": "markdown",
   "id": "769646cb",
   "metadata": {
    "editable": true
   },
   "source": [
    "## Equation for the Markovian hierarchical VAE\n",
    "\n",
    "We obtain then"
   ]
  },
  {
   "cell_type": "markdown",
   "id": "39c09727",
   "metadata": {
    "editable": true
   },
   "source": [
    "$$\n",
    "\\begin{align*}\n",
    "\\mathbb{E}_{q_{\\boldsymbol{\\phi}}(\\boldsymbol{h}_{1:T}|\\boldsymbol{x})}\\left[\\log \\frac{p(\\boldsymbol{x}, \\boldsymbol{h}_{1:T})}{q_{\\boldsymbol{\\phi}}(\\boldsymbol{h}_{1:T}|\\boldsymbol{x})}\\right]\n",
    "&= \\mathbb{E}_{q_{\\boldsymbol{\\phi}}(\\boldsymbol{h}_{1:T}|\\boldsymbol{x})}\\left[\\log \\frac{p(\\boldsymbol{h}_T)p_{\\boldsymbol{\\theta}}(\\boldsymbol{x}|\\boldsymbol{h}_1)\\prod_{t=2}^{T}p_{\\boldsymbol{\\theta}}(\\boldsymbol{h}_{t-1}|\\boldsymbol{h}_{t})}{q_{\\boldsymbol{\\phi}}(\\boldsymbol{h}_1|\\boldsymbol{x})\\prod_{t=2}^{T}q_{\\boldsymbol{\\phi}}(\\boldsymbol{h}_{t}|\\boldsymbol{h}_{t-1})}\\right]\n",
    "\\end{align*}\n",
    "$$"
   ]
  },
  {
   "cell_type": "markdown",
   "id": "454404ac",
   "metadata": {
    "editable": true
   },
   "source": [
    "We will modify this equation when we discuss what are normally called Variational Diffusion Models."
   ]
  },
  {
   "cell_type": "markdown",
   "id": "ae86e2e7",
   "metadata": {
    "editable": true
   },
   "source": [
    "## Variational Diffusion Models\n",
    "\n",
    "The easiest way to think of a Variational Diffusion Model (VDM) is as a Markovian Hierarchical Variational Autoencoder with three key restrictions:\n",
    "\n",
    "1. The latent dimension is exactly equal to the data dimension\n",
    "\n",
    "2. The structure of the latent encoder at each timestep is not learned; it is pre-defined as a linear Gaussian model.  In other words, it is a Gaussian distribution centered around the output of the previous timestep\n",
    "\n",
    "3. The Gaussian parameters of the latent encoders vary over time in such a way that the distribution of the latent at final timestep $T$ is a standard Gaussian\n",
    "\n",
    "The VDM posterior is"
   ]
  },
  {
   "cell_type": "markdown",
   "id": "1cf81466",
   "metadata": {
    "editable": true
   },
   "source": [
    "$$\n",
    "\\begin{align*}\n",
    "    q(\\boldsymbol{x}_{1:T}|\\boldsymbol{x}_0) = \\prod_{t = 1}^{T}q(\\boldsymbol{x}_{t}|\\boldsymbol{x}_{t-1})\n",
    "\\end{align*}\n",
    "$$"
   ]
  },
  {
   "cell_type": "markdown",
   "id": "10b59404",
   "metadata": {
    "editable": true
   },
   "source": [
    "## Second assumption\n",
    "\n",
    "The distribution of each latent variable in the encoder is a Gaussian centered around its previous hierarchical latent.\n",
    "Here then, the structure of the encoder at each timestep $t$ is not learned; it\n",
    "is fixed as a linear Gaussian model, where the mean and standard\n",
    "deviation can be set beforehand as hyperparameters, or learned as\n",
    "parameters."
   ]
  },
  {
   "cell_type": "markdown",
   "id": "95034a1c",
   "metadata": {
    "editable": true
   },
   "source": [
    "## Parameterizing Gaussian encoder\n",
    "\n",
    "We parameterize the Gaussian encoder with mean $\\boldsymbol{\\mu}_t(\\boldsymbol{x}_t) =\n",
    "\\sqrt{\\alpha_t} \\boldsymbol{x}_{t-1}$, and variance $\\boldsymbol{\\Sigma}_t(\\boldsymbol{x}_t) =\n",
    "(1 - \\alpha_t) \\textbf{I}$, where the form of the coefficients are\n",
    "chosen such that the variance of the latent variables stay at a\n",
    "similar scale; in other words, the encoding process is\n",
    "variance-preserving.\n",
    "\n",
    "Note that alternate Gaussian parameterizations\n",
    "are allowed, and lead to similar derivations.  The main takeaway is\n",
    "that $\\alpha_t$ is a (potentially learnable) coefficient that can vary\n",
    "with the hierarchical depth $t$, for flexibility."
   ]
  },
  {
   "cell_type": "markdown",
   "id": "d4cfe5b7",
   "metadata": {
    "editable": true
   },
   "source": [
    "## Encoder transitions\n",
    "\n",
    "Mathematically, the encoder transitions are defined as"
   ]
  },
  {
   "cell_type": "markdown",
   "id": "b0a7dfd9",
   "metadata": {
    "editable": true
   },
   "source": [
    "<!-- Equation labels as ordinary links -->\n",
    "<div id=\"eq:27\"></div>\n",
    "\n",
    "$$\n",
    "\\begin{align*}\n",
    "    q(\\boldsymbol{x}_{t}|\\boldsymbol{x}_{t-1}) = \\mathcal{N}(\\boldsymbol{x}_{t} ; \\sqrt{\\alpha_t} \\boldsymbol{x}_{t-1}, (1 - \\alpha_t) \\textbf{I}) \\label{eq:27} \\tag{2}\n",
    "\\end{align*}\n",
    "$$"
   ]
  },
  {
   "cell_type": "markdown",
   "id": "24cb7a14",
   "metadata": {
    "editable": true
   },
   "source": [
    "## Third assumption\n",
    "\n",
    "From the third assumption, we know that $\\alpha_t$ evolves over time\n",
    "according to a fixed or learnable schedule structured such that the\n",
    "distribution of the final latent $p(\\boldsymbol{x}_T)$ is a standard Gaussian.\n",
    "We can then update the joint distribution of a Markovian VAE to write\n",
    "the joint distribution for a VDM as"
   ]
  },
  {
   "cell_type": "markdown",
   "id": "78b1a13e",
   "metadata": {
    "editable": true
   },
   "source": [
    "$$\n",
    "\\begin{align*}\n",
    "p(\\boldsymbol{x}_{0:T}) &= p(\\boldsymbol{x}_T)\\prod_{t=1}^{T}p_{\\boldsymbol{\\theta}}(\\boldsymbol{x}_{t-1}|\\boldsymbol{x}_t) \\\\\n",
    "\\text{where,}&\\nonumber\\\\\n",
    "p(\\boldsymbol{x}_T) &= \\mathcal{N}(\\boldsymbol{x}_T; \\boldsymbol{0}, \\textbf{I})\n",
    "\\end{align*}\n",
    "$$"
   ]
  },
  {
   "cell_type": "markdown",
   "id": "c05b7c7a",
   "metadata": {
    "editable": true
   },
   "source": [
    "## Noisification\n",
    "\n",
    "Collectively, what this set of assumptions describes is a steady\n",
    "noisification of an image input over time. We progressively corrupt an\n",
    "image by adding Gaussian noise until eventually it becomes completely\n",
    "identical to pure Gaussian noise.  See figure on next slide."
   ]
  },
  {
   "cell_type": "markdown",
   "id": "45c9b05d",
   "metadata": {
    "editable": true
   },
   "source": [
    "## Diffusion models, from <https://arxiv.org/abs/2208.11970>\n",
    "\n",
    "<!-- dom:FIGURE: [figures/figure2.png, width=800 frac=1.0] -->\n",
    "<!-- begin figure -->\n",
    "\n",
    "<img src=\"figures/figure2.png\" width=\"800\"><p style=\"font-size: 0.9em\"><i>Figure 1: </i></p>\n",
    "<!-- end figure -->"
   ]
  },
  {
   "cell_type": "markdown",
   "id": "0827d854",
   "metadata": {
    "editable": true
   },
   "source": [
    "## Gaussian modeling\n",
    "\n",
    "Note that our encoder distributions $q(\\boldsymbol{x}_t|\\boldsymbol{x}_{t-1})$ are no\n",
    "longer parameterized by $\\boldsymbol{\\phi}$, as they are completely modeled as\n",
    "Gaussians with defined mean and variance parameters at each timestep.\n",
    "Therefore, in a VDM, we are only interested in learning conditionals\n",
    "$p_{\\boldsymbol{\\theta}}(\\boldsymbol{x}_{t-1}|\\boldsymbol{x}_{t})$, so that we can simulate\n",
    "new data.  After optimizing the VDM, the sampling procedure is as\n",
    "simple as sampling Gaussian noise from $p(\\boldsymbol{x}_T)$ and iteratively\n",
    "running the denoising transitions\n",
    "$p_{\\boldsymbol{\\theta}}(\\boldsymbol{x}_{t-1}|\\boldsymbol{x}_{t})$ for $T$ steps to generate a\n",
    "novel $\\boldsymbol{x}_0$."
   ]
  },
  {
   "cell_type": "markdown",
   "id": "647dc1f6",
   "metadata": {
    "editable": true
   },
   "source": [
    "## Optimizing the variational diffusion model"
   ]
  },
  {
   "cell_type": "markdown",
   "id": "92303a9f",
   "metadata": {
    "editable": true
   },
   "source": [
    "$$\n",
    "\\begin{align*}\n",
    "\\log p(\\boldsymbol{x})\n",
    "&= \\log \\int p(\\boldsymbol{x}_{0:T}) d\\boldsymbol{x}_{1:T}\\\\\n",
    "&= \\log \\int \\frac{p(\\boldsymbol{x}_{0:T})q(\\boldsymbol{x}_{1:T}|\\boldsymbol{x}_0)}{q(\\boldsymbol{x}_{1:T}|\\boldsymbol{x}_0)} d\\boldsymbol{x}_{1:T}\\\\\n",
    "&= \\log \\mathbb{E}_{q(\\boldsymbol{x}_{1:T}|\\boldsymbol{x}_0)}\\left[\\frac{p(\\boldsymbol{x}_{0:T})}{q(\\boldsymbol{x}_{1:T}|\\boldsymbol{x}_0)}\\right]\\\\\n",
    "&\\geq {\\mathbb{E}_{q(\\boldsymbol{x}_{1:T}|\\boldsymbol{x}_0)}\\left[\\log \\frac{p(\\boldsymbol{x}_{0:T})}{q(\\boldsymbol{x}_{1:T}|\\boldsymbol{x}_0)}\\right]}\\\\\n",
    "&= {\\mathbb{E}_{q(\\boldsymbol{x}_{1:T}|\\boldsymbol{x}_0)}\\left[\\log \\frac{p(\\boldsymbol{x}_T)\\prod_{t=1}^{T}p_{\\boldsymbol{\\theta}}(\\boldsymbol{x}_{t-1}|\\boldsymbol{x}_t)}{\\prod_{t = 1}^{T}q(\\boldsymbol{x}_{t}|\\boldsymbol{x}_{t-1})}\\right]}\\\\\n",
    "&= {\\mathbb{E}_{q(\\boldsymbol{x}_{1:T}|\\boldsymbol{x}_0)}\\left[\\log \\frac{p(\\boldsymbol{x}_T)p_{\\boldsymbol{\\theta}}(\\boldsymbol{x}_0|\\boldsymbol{x}_1)\\prod_{t=2}^{T}p_{\\boldsymbol{\\theta}}(\\boldsymbol{x}_{t-1}|\\boldsymbol{x}_t)}{q(\\boldsymbol{x}_T|\\boldsymbol{x}_{T-1})\\prod_{t = 1}^{T-1}q(\\boldsymbol{x}_{t}|\\boldsymbol{x}_{t-1})}\\right]}\\\\\n",
    "&= {\\mathbb{E}_{q(\\boldsymbol{x}_{1:T}|\\boldsymbol{x}_0)}\\left[\\log \\frac{p(\\boldsymbol{x}_T)p_{\\boldsymbol{\\theta}}(\\boldsymbol{x}_0|\\boldsymbol{x}_1)\\prod_{t=1}^{T-1}p_{\\boldsymbol{\\theta}}(\\boldsymbol{x}_{t}|\\boldsymbol{x}_{t+1})}{q(\\boldsymbol{x}_T|\\boldsymbol{x}_{T-1})\\prod_{t = 1}^{T-1}q(\\boldsymbol{x}_{t}|\\boldsymbol{x}_{t-1})}\\right]}\\\\\n",
    "&= {\\mathbb{E}_{q(\\boldsymbol{x}_{1:T}|\\boldsymbol{x}_0)}\\left[\\log \\frac{p(\\boldsymbol{x}_T)p_{\\boldsymbol{\\theta}}(\\boldsymbol{x}_0|\\boldsymbol{x}_1)}{q(\\boldsymbol{x}_T|\\boldsymbol{x}_{T-1})}\\right] + \\mathbb{E}_{q(\\boldsymbol{x}_{1:T}|\\boldsymbol{x}_0)}\\left[\\log \\prod_{t = 1}^{T-1}\\frac{p_{\\boldsymbol{\\theta}}(\\boldsymbol{x}_{t}|\\boldsymbol{x}_{t+1})}{q(\\boldsymbol{x}_{t}|\\boldsymbol{x}_{t-1})}\\right]}\\\\\n",
    "\\end{align*}\n",
    "$$"
   ]
  },
  {
   "cell_type": "markdown",
   "id": "d947f25e",
   "metadata": {
    "editable": true
   },
   "source": [
    "## Continues"
   ]
  },
  {
   "cell_type": "markdown",
   "id": "36886b9f",
   "metadata": {
    "editable": true
   },
   "source": [
    "$$\n",
    "\\begin{align*}\n",
    "\\log p(\\boldsymbol{x})\n",
    "&= {\\mathbb{E}_{q(\\boldsymbol{x}_{1:T}|\\boldsymbol{x}_0)}\\left[\\log \\frac{p(\\boldsymbol{x}_T)p_{\\boldsymbol{\\theta}}(\\boldsymbol{x}_0|\\boldsymbol{x}_1)}{q(\\boldsymbol{x}_T|\\boldsymbol{x}_{T-1})}\\right] + \\mathbb{E}_{q(\\boldsymbol{x}_{1:T}|\\boldsymbol{x}_0)}\\left[\\log \\prod_{t = 1}^{T-1}\\frac{p_{\\boldsymbol{\\theta}}(\\boldsymbol{x}_{t}|\\boldsymbol{x}_{t+1})}{q(\\boldsymbol{x}_{t}|\\boldsymbol{x}_{t-1})}\\right]}\\\\\n",
    "&= {\\mathbb{E}_{q(\\boldsymbol{x}_{1:T}|\\boldsymbol{x}_0)}\\left[\\log p_{\\boldsymbol{\\theta}}(\\boldsymbol{x}_0|\\boldsymbol{x}_1)\\right] + \\mathbb{E}_{q(\\boldsymbol{x}_{1:T}|\\boldsymbol{x}_0)}\\left[\\log \\frac{p(\\boldsymbol{x}_T)}{q(\\boldsymbol{x}_T|\\boldsymbol{x}_{T-1})}\\right] + \\mathbb{E}_{q(\\boldsymbol{x}_{1:T}|\\boldsymbol{x}_0)}\\left[ \\sum_{t=1}^{T-1} \\log \\frac{p_{\\boldsymbol{\\theta}}(\\boldsymbol{x}_{t}|\\boldsymbol{x}_{t+1})}{q(\\boldsymbol{x}_{t}|\\boldsymbol{x}_{t-1})}\\right]}\\\\\n",
    "&= {\\mathbb{E}_{q(\\boldsymbol{x}_{1:T}|\\boldsymbol{x}_0)}\\left[\\log p_{\\boldsymbol{\\theta}}(\\boldsymbol{x}_0|\\boldsymbol{x}_1)\\right] + \\mathbb{E}_{q(\\boldsymbol{x}_{1:T}|\\boldsymbol{x}_0)}\\left[\\log \\frac{p(\\boldsymbol{x}_T)}{q(\\boldsymbol{x}_T|\\boldsymbol{x}_{T-1})}\\right] + \\sum_{t=1}^{T-1}\\mathbb{E}_{q(\\boldsymbol{x}_{1:T}|\\boldsymbol{x}_0)}\\left[ \\log \\frac{p_{\\boldsymbol{\\theta}}(\\boldsymbol{x}_{t}|\\boldsymbol{x}_{t+1})}{q(\\boldsymbol{x}_{t}|\\boldsymbol{x}_{t-1})}\\right]}\\\\\n",
    "&= {\\mathbb{E}_{q(\\boldsymbol{x}_{1}|\\boldsymbol{x}_0)}\\left[\\log p_{\\boldsymbol{\\theta}}(\\boldsymbol{x}_0|\\boldsymbol{x}_1)\\right] + \\mathbb{E}_{q(\\boldsymbol{x}_{T-1}, \\boldsymbol{x}_T|\\boldsymbol{x}_0)}\\left[\\log \\frac{p(\\boldsymbol{x}_T)}{q(\\boldsymbol{x}_T|\\boldsymbol{x}_{T-1})}\\right] + \\sum_{t=1}^{T-1}\\mathbb{E}_{q(\\boldsymbol{x}_{t-1}, \\boldsymbol{x}_t, \\boldsymbol{x}_{t+1}|\\boldsymbol{x}_0)}\\left[\\log \\frac{p_{\\boldsymbol{\\theta}}(\\boldsymbol{x}_{t}|\\boldsymbol{x}_{t+1})}{q(\\boldsymbol{x}_{t}|\\boldsymbol{x}_{t-1})}\\right]}\\\\\n",
    "\\end{align*}\n",
    "$$"
   ]
  },
  {
   "cell_type": "markdown",
   "id": "772cd49e",
   "metadata": {
    "editable": true
   },
   "source": [
    "## Interpretations\n",
    "\n",
    "These equations can be interpreted as\n",
    "\n",
    "* $\\mathbb{E}_{q(\\boldsymbol{x}_{1}|\\boldsymbol{x}_0)}\\left[\\log p_{\\boldsymbol{\\theta}}(\\boldsymbol{x}_0|\\boldsymbol{x}_1)\\right]$ can be interpreted as a **reconstruction term**, predicting the log probability of the original data sample given the first-step latent.  This term also appears in a vanilla VAE, and can be trained similarly.\n",
    "\n",
    "* $\\mathbb{E}_{q(\\boldsymbol{x}_{T-1}|\\boldsymbol{x}_0)}\\left[D_{KL}(q(\\boldsymbol{x}_T|\\boldsymbol{x}_{T-1})\\vert\\vert p(\\boldsymbol{x}_T))\\right]$ is a **prior matching term**; it is minimized when the final latent distribution matches the Gaussian prior.  This term requires no optimization, as it has no trainable parameters; furthermore, as we have assumed a large enough $T$ such that the final distribution is Gaussian, this term effectively becomes zero."
   ]
  },
  {
   "cell_type": "markdown",
   "id": "27bb38ba",
   "metadata": {
    "editable": true
   },
   "source": [
    "## The last term\n",
    "\n",
    "* $\\mathbb{E}_{q(\\boldsymbol{x}_{t-1}, \\boldsymbol{x}_{t+1}|\\boldsymbol{x}_0)}\\left[D_{KL}(q(\\boldsymbol{x}_{t}|\\boldsymbol{x}_{t-1})\\vert\\vert p_{\\boldsymbol{\\theta}}(\\boldsymbol{x}_{t}|\\boldsymbol{x}_{t+1}))\\right]$ is a \\textit{consistency term}; it endeavors to make the distribution at $\\boldsymbol{x}_t$ consistent, from both forward and backward processes.  That is, a denoising step from a noisier image should match the corresponding noising step from a cleaner image, for every intermediate timestep; this is reflected mathematically by the KL Divergence.  This term is minimized when we train $p_{\\theta}(\\boldsymbol{x}_t|\\boldsymbol{x}_{t+1})$ to match the Gaussian distribution $q(\\boldsymbol{x}_t|\\boldsymbol{x}_{t-1})$."
   ]
  },
  {
   "cell_type": "markdown",
   "id": "24d28c08",
   "metadata": {
    "editable": true
   },
   "source": [
    "## Diffusion models, part 2, from <https://arxiv.org/abs/2208.11970>\n",
    "\n",
    "<!-- dom:FIGURE: [figures/figure3.png, width=800 frac=1.0] -->\n",
    "<!-- begin figure -->\n",
    "\n",
    "<img src=\"figures/figure3.png\" width=\"800\"><p style=\"font-size: 0.9em\"><i>Figure 1: </i></p>\n",
    "<!-- end figure -->"
   ]
  },
  {
   "cell_type": "markdown",
   "id": "f62b74b3",
   "metadata": {
    "editable": true
   },
   "source": [
    "## Optimization cost\n",
    "\n",
    "The cost of optimizing a VDM is primarily dominated by the third term, since we must optimize over all timesteps $t$.\n",
    "\n",
    "Under this derivation, all three terms are computed as expectations,\n",
    "and can therefore be approximated using Monte Carlo estimates.\n",
    "However, actually optimizing the ELBO using the terms we just derived\n",
    "might be suboptimal; because the consistency term is computed as an\n",
    "expectation over two random variables $\\left\\{\\boldsymbol{x}_{t-1},\n",
    "\\boldsymbol{x}_{t+1}\\right\\}$ for every timestep, the variance of its Monte\n",
    "Carlo estimate could potentially be higher than a term that is\n",
    "estimated using only one random variable per timestep.  As it is\n",
    "computed by summing up $T-1$ consistency terms, the final estimated\n",
    "value may have high variance for large $T$ values."
   ]
  },
  {
   "cell_type": "markdown",
   "id": "0fee3c1b",
   "metadata": {
    "editable": true
   },
   "source": [
    "## More details\n",
    "\n",
    "For more details and implementaions, see Calvin Luo at <https://arxiv.org/abs/2208.11970>\n",
    "\n",
    "<!-- FIGURE: [figures/figure4.png, width=800 frac=1.0] -->"
   ]
  }
 ],
 "metadata": {},
 "nbformat": 4,
 "nbformat_minor": 5
}
