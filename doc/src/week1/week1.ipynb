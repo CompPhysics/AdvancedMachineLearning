{
 "cells": [
  {
   "cell_type": "markdown",
   "id": "a6d407ae",
   "metadata": {
    "editable": true
   },
   "source": [
    "<!-- HTML file automatically generated from DocOnce source (https://github.com/doconce/doconce/)\n",
    "doconce format html week1.do.txt --no_mako -->\n",
    "<!-- dom:TITLE: January 15-19: Advanced machine learning and data analysis for the physical sciences -->"
   ]
  },
  {
   "cell_type": "markdown",
   "id": "98a8ac69",
   "metadata": {
    "editable": true
   },
   "source": [
    "# January 15-19: Advanced machine learning and data analysis for the physical sciences\n",
    "**Morten Hjorth-Jensen**, Department of Physics and Center for Computing in Science Education, University of Oslo, Norway and Department of Physics and Astronomy and Facility for Rare Isotope Beams, Michigan State University, East Lansing, Michigan, USA\n",
    "\n",
    "Date: **FYS5429/9429, Spring 2024**"
   ]
  },
  {
   "cell_type": "markdown",
   "id": "16cfd389",
   "metadata": {
    "editable": true
   },
   "source": [
    "## Overview of first week, January 15-19, 2024\n",
    "\n",
    "1. Presentation of course\n",
    "\n",
    "2. Discussion of possible projects and presentation of participants\n",
    "\n",
    "3. Deep learning methods, mathematics and  review of neural networks"
   ]
  },
  {
   "cell_type": "markdown",
   "id": "c12c8a89",
   "metadata": {
    "editable": true
   },
   "source": [
    "## Practicalities\n",
    "\n",
    "1. Lectures Tuesday 1015am-12pm, room FØ434, Department of Physics\n",
    "\n",
    "2. We plan to work on two projects which will define the content of the course, the format can be agreed upon by the participants\n",
    "\n",
    "3. No exam, only two projects. Each projects counts 1/2 of the final grade.\n",
    "\n",
    "4. All info at the GitHub address <https://github.com/CompPhysics/AdvancedMachineLearning>"
   ]
  },
  {
   "cell_type": "markdown",
   "id": "e303e47b",
   "metadata": {
    "editable": true
   },
   "source": [
    "## Deep learning methods covered, tentative\n",
    "\n",
    "1. **Deep learning, classics**\n",
    "\n",
    "a. Feed forward neural networks and its mathematics (NNs)\n",
    "\n",
    "b. Convolutional neural networks (CNNs)\n",
    "\n",
    "c. Recurrent neural networks (RNNs)\n",
    "\n",
    "d. Autoencoders and principal component analysis\n",
    "\n",
    "5. **Deep learning, generative methods**\n",
    "\n",
    "a. Basics of generative models\n",
    "\n",
    "b. Boltzmann machines and energy based methods\n",
    "\n",
    "c. Diffusion models (tentative)\n",
    "\n",
    "d. Variational autoencoders (VAEe)\n",
    "\n",
    "e. Generative Adversarial Networks (GANs)\n",
    "\n",
    "f. Autoregressive methods (tentative)\n",
    "\n",
    "7. **Physical Sciences (often just called Physics informed) informed machine learning**"
   ]
  },
  {
   "cell_type": "markdown",
   "id": "0a420f3d",
   "metadata": {
    "editable": true
   },
   "source": [
    "## [Additional topics:  Kernel regression (Gaussian processes) and Bayesian statistics](https://jenfb.github.io/bkmr/overview.html)\n",
    "\n",
    "Kernel machine regression (KMR), also called Gaussian process\n",
    "regression, is a popular tool in the machine learning literature. The\n",
    "main idea behind KMR is to flexibly model the relationship between a\n",
    "large number of variables and a particular outcome (dependent\n",
    "variable)."
   ]
  },
  {
   "cell_type": "markdown",
   "id": "60497898",
   "metadata": {
    "editable": true
   },
   "source": [
    "## Scientific Machine Learning\n",
    "\n",
    "An important and emerging field is what has been dubbed as scientific ML, see the article by Deiana et al [Applications and Techniques for Fast Machine Learning in Science, Big Data 5, 787421 (2022)](https://doi.org/10.3389/fdata.2022.787421)\n",
    "\n",
    "The authors discuss applications and techniques for fast machine\n",
    "learning (ML) in science - the concept of integrating power ML\n",
    "methods into the real-time experimental data processing loop to\n",
    "accelerate scientific discovery. The report covers three main areas\n",
    "\n",
    "1. applications for fast ML across a number of scientific domains;\n",
    "\n",
    "2. techniques for training and implementing performant and resource-efficient ML algorithms;\n",
    "\n",
    "3. and computing architectures, platforms, and technologies for deploying these algorithms."
   ]
  },
  {
   "cell_type": "markdown",
   "id": "e2e45763",
   "metadata": {
    "editable": true
   },
   "source": [
    "## Physics driven Machine Learning\n",
    "\n",
    "Another hot topic is what has loosely been dubbed **Physics-driven deep learning**. See the recent work on [Learning nonlinear operators via DeepONet based on the universal approximation theorem of operators, Nature Machine Learning, vol 3, 218 (2021)](https://www.nature.com/articles/s42256-021-00302-5).\n",
    "\n",
    "**From their abstract.**\n",
    "\n",
    "A less known but powerful result is that an NN with a single hidden layer can accurately approximate any nonlinear continuous operator. This universal approximation theorem of operators is suggestive of the structure and potential of deep neural networks (DNNs) in learning continuous operators or complex systems from streams of scattered data. ...  We demonstrate that DeepONet can learn various explicit operators, such as integrals and fractional Laplacians, as well as implicit operators that represent deterministic and stochastic differential equations."
   ]
  },
  {
   "cell_type": "markdown",
   "id": "c86fc3dc",
   "metadata": {
    "editable": true
   },
   "source": [
    "## Good books with hands-on material and codes\n",
    "* [Sebastian Rashcka et al, Machine learning with Sickit-Learn and PyTorch](https://sebastianraschka.com/blog/2022/ml-pytorch-book.html)\n",
    "\n",
    "* [David Foster, Generative Deep Learning with TensorFlow](https://www.oreilly.com/library/view/generative-deep-learning/9781098134174/ch01.html)\n",
    "\n",
    "* [Bali and Gavras, Generative AI with Python and TensorFlow 2](https://github.com/PacktPublishing/Hands-On-Generative-AI-with-Python-and-TensorFlow-2)\n",
    "\n",
    "All three books have GitHub addresses from where  one can download all codes. We will borrow most of the material from these three texts as well as \n",
    "from Goodfellow, Bengio and Courville's text [Deep Learning](https://www.deeplearningbook.org/)"
   ]
  },
  {
   "cell_type": "markdown",
   "id": "2b29466e",
   "metadata": {
    "editable": true
   },
   "source": [
    "## Machine learning. A simple perspective on the interface between ML and Physics, HPC is essential\n",
    "\n",
    "<!-- dom:FIGURE: [figures/mlimage.png, width=800 frac=1.0] -->\n",
    "<!-- begin figure -->\n",
    "\n",
    "<img src=\"figures/mlimage.png\" width=\"800\"><p style=\"font-size: 0.9em\"><i>Figure 1: </i></p>\n",
    "<!-- end figure -->"
   ]
  },
  {
   "cell_type": "markdown",
   "id": "44f21a37",
   "metadata": {
    "editable": true
   },
   "source": [
    "## AI/ML and some statements you may have heard (and what do they mean?)\n",
    "\n",
    "1. Fei-Fei Li on ImageNet: **map out the entire world of objects** ([The data that transformed AI research](https://cacm.acm.org/news/219702-the-data-that-transformed-ai-research-and-possibly-the-world/fulltext))\n",
    "\n",
    "2. Russell and Norvig in their popular textbook: **relevant to any intellectual task; it is truly a universal field** ([Artificial Intelligence, A modern approach](http://aima.cs.berkeley.edu/))\n",
    "\n",
    "3. Woody Bledsoe puts it more bluntly: **in the long run, AI is the only science** (quoted in Pamilla McCorduck, [Machines who think](https://www.pamelamccorduck.com/machines-who-think))\n",
    "\n",
    "If you wish to have a critical read on AI/ML from a societal point of view, see [Kate Crawford's recent text Atlas of AI](https://www.katecrawford.net/). See also <https://www.nationaldefensemagazine.org/articles/2023/3/24/ukraine-a-living-lab-for-ai-warfare>\n",
    "\n",
    "**Here: with AI/ML we intend a collection of machine learning methods with an emphasis on statistical learning and data analysis**"
   ]
  },
  {
   "cell_type": "markdown",
   "id": "a8c8bb97",
   "metadata": {
    "editable": true
   },
   "source": [
    "## Types of machine learning\n",
    "\n",
    "The approaches to machine learning are many, but are often split into two main categories. \n",
    "In *supervised learning* we know the answer to a problem,\n",
    "and let the computer deduce the logic behind it. On the other hand, *unsupervised learning*\n",
    "is a method for finding patterns and relationship in data sets without any prior knowledge of the system.\n",
    "\n",
    "An emerging  third category is  *reinforcement learning*. This is a paradigm \n",
    "of learning inspired by behavioural psychology, where learning is achieved by trial-and-error, \n",
    "solely from rewards and punishment."
   ]
  },
  {
   "cell_type": "markdown",
   "id": "23e5af89",
   "metadata": {
    "editable": true
   },
   "source": [
    "## Main categories\n",
    "Another way to categorize machine learning tasks is to consider the desired output of a system.\n",
    "Some of the most common tasks are:\n",
    "\n",
    "  * Classification: Outputs are divided into two or more classes. The goal is to   produce a model that assigns inputs into one of these classes. An example is to identify  digits based on pictures of hand-written ones. Classification is typically supervised learning.\n",
    "\n",
    "  * Regression: Finding a functional relationship between an input data set and a reference data set.   The goal is to construct a function that maps input data to continuous output values.\n",
    "\n",
    "  * Clustering: Data are divided into groups with certain common traits, without knowing the different groups beforehand.  It is thus a form of unsupervised learning."
   ]
  },
  {
   "cell_type": "markdown",
   "id": "e1aca59a",
   "metadata": {
    "editable": true
   },
   "source": [
    "## The plethora  of machine learning algorithms/methods\n",
    "\n",
    "1. Deep learning: Neural Networks (NNs), Convolutional NNs, Recurrent NNs, Transformers, Boltzmann machines, autoencoders and variational autoencoders  and generative adversarial networks and other generative models \n",
    "\n",
    "2. Bayesian statistics and Bayesian Machine Learning, Bayesian experimental design, Bayesian Regression models, Bayesian neural networks, Gaussian processes and much more\n",
    "\n",
    "3. Dimensionality reduction (Principal component analysis), Clustering Methods and more\n",
    "\n",
    "4. Ensemble Methods, Random forests, bagging and voting methods, gradient boosting approaches \n",
    "\n",
    "5. Linear and logistic regression, Kernel methods, support vector machines and more\n",
    "\n",
    "6. Reinforcement Learning; Transfer Learning and more"
   ]
  },
  {
   "cell_type": "markdown",
   "id": "dc90a9e1",
   "metadata": {
    "editable": true
   },
   "source": [
    "## What Is Generative Modeling?\n",
    "\n",
    "Generative modeling can be broadly defined as follows:\n",
    "\n",
    "Generative modeling is a branch of machine learning that involves\n",
    "training a model to produce new data that is similar to a given\n",
    "dataset.\n",
    "\n",
    "What does this mean in practice? Suppose we have a dataset containing\n",
    "photos of horses. We can train a generative model on this dataset to\n",
    "capture the rules that govern the complex relationships between pixels\n",
    "in images of horses. Then we can sample from this model to create\n",
    "novel, realistic images of horses that did not exist in the original\n",
    "dataset."
   ]
  },
  {
   "cell_type": "markdown",
   "id": "53686dd1",
   "metadata": {
    "editable": true
   },
   "source": [
    "## Example of generative modeling, [taken from Generative Deeep Learning by David Foster](https://www.oreilly.com/library/view/generative-deep-learning/9781098134174/ch01.html)\n",
    "\n",
    "<!-- dom:FIGURE: [figures/generativelearning.png, width=900 frac=1.0] -->\n",
    "<!-- begin figure -->\n",
    "\n",
    "<img src=\"figures/generativelearning.png\" width=\"900\"><p style=\"font-size: 0.9em\"><i>Figure 1: </i></p>\n",
    "<!-- end figure -->"
   ]
  },
  {
   "cell_type": "markdown",
   "id": "a36b7a4e",
   "metadata": {
    "editable": true
   },
   "source": [
    "## Generative Modeling\n",
    "\n",
    "In order to build a generative model, we require a dataset consisting\n",
    "of many examples of the entity we are trying to generate. This is\n",
    "known as the training data, and one such data point is called an\n",
    "observation.\n",
    "\n",
    "Each observation consists of many features. For an image generation\n",
    "problem, the features are usually the individual pixel values; for a\n",
    "text generation problem, the features could be individual words or\n",
    "groups of letters. It is our goal to build a model that can generate\n",
    "new sets of features that look as if they have been created using the\n",
    "same rules as the original data. Conceptually, for image generation\n",
    "this is an incredibly difficult task, considering the vast number of\n",
    "ways that individual pixel values can be assigned and the relatively\n",
    "tiny number of such arrangements that constitute an image of the\n",
    "entity we are trying to generate."
   ]
  },
  {
   "cell_type": "markdown",
   "id": "8fd3494d",
   "metadata": {
    "editable": true
   },
   "source": [
    "## Generative Versus Discriminative Modeling\n",
    "\n",
    "In order to truly understand what generative modeling aims to achieve\n",
    "and why this is important, it is useful to compare it to its\n",
    "counterpart, discriminative modeling. If you have studied machine\n",
    "learning, most problems you will have faced will have most likely been\n",
    "discriminative in nature."
   ]
  },
  {
   "cell_type": "markdown",
   "id": "5d8e0cb3",
   "metadata": {
    "editable": true
   },
   "source": [
    "## Example of discriminative modeling, [taken from Generative Deeep Learning by David Foster](https://www.oreilly.com/library/view/generative-deep-learning/9781098134174/ch01.html)\n",
    "\n",
    "<!-- dom:FIGURE: [figures/standarddeeplearning.png, width=900 frac=1.0] -->\n",
    "<!-- begin figure -->\n",
    "\n",
    "<img src=\"figures/standarddeeplearning.png\" width=\"900\"><p style=\"font-size: 0.9em\"><i>Figure 1: </i></p>\n",
    "<!-- end figure -->"
   ]
  },
  {
   "cell_type": "markdown",
   "id": "ca6cecd6",
   "metadata": {
    "editable": true
   },
   "source": [
    "## Discriminative Modeling\n",
    "\n",
    "When performing discriminative modeling, each observation in the\n",
    "training data has a label. For a binary classification problem such as\n",
    "our data could be labeled as ones and zeros. Our model then learns how to\n",
    "discriminate between these two groups and outputs the probability that\n",
    "a new observation has label 1 or 0\n",
    "\n",
    "In contrast, generative modeling doesn’t require the dataset to be\n",
    "labeled because it concerns itself with generating entirely new\n",
    "data (for example an image), rather than trying to predict a label for say  a given image."
   ]
  },
  {
   "cell_type": "markdown",
   "id": "71c7cc87",
   "metadata": {
    "editable": true
   },
   "source": [
    "## Taxonomy of generative deep learning, [taken from Generative Deep Learning by David Foster](https://www.oreilly.com/library/view/generative-deep-learning/9781098134174/ch01.html)\n",
    "\n",
    "<!-- dom:FIGURE: [figures/generativemodels.png, width=900 frac=1.0] -->\n",
    "<!-- begin figure -->\n",
    "\n",
    "<img src=\"figures/generativemodels.png\" width=\"900\"><p style=\"font-size: 0.9em\"><i>Figure 1: </i></p>\n",
    "<!-- end figure -->"
   ]
  },
  {
   "cell_type": "markdown",
   "id": "fd3b90f2",
   "metadata": {
    "editable": true
   },
   "source": [
    "## What are the basic ingredients?\n",
    "Almost every problem in ML and data science starts with the same ingredients:\n",
    "* The dataset $\\mathbf{x}$ (could be some observable quantity of the system we are studying)\n",
    "\n",
    "* A model which is a function of a set of parameters $\\mathbf{\\alpha}$ that relates to the dataset, say a likelihood  function $p(\\mathbf{x}\\vert \\mathbf{\\alpha})$ or just a simple model $f(\\mathbf{\\alpha})$\n",
    "\n",
    "* A so-called **loss/cost/risk** function $\\mathcal{C} (\\mathbf{x}, f(\\mathbf{\\alpha}))$ which allows us to decide how well our model represents the dataset. \n",
    "\n",
    "We seek to minimize the function $\\mathcal{C} (\\mathbf{x}, f(\\mathbf{\\alpha}))$ by finding the parameter values which minimize $\\mathcal{C}$. This leads to  various minimization algorithms. It may surprise many, but at the heart of all machine learning algortihms there is an optimization problem."
   ]
  },
  {
   "cell_type": "markdown",
   "id": "2fe836d0",
   "metadata": {
    "editable": true
   },
   "source": [
    "## Low-level machine learning, the family of ordinary least squares methods\n",
    "\n",
    "Our data which we want to apply a machine learning method on, consist\n",
    "of a set of inputs $\\boldsymbol{x}^T=[x_0,x_1,x_2,\\dots,x_{n-1}]$ and the\n",
    "outputs we want to model $\\boldsymbol{y}^T=[y_0,y_1,y_2,\\dots,y_{n-1}]$.\n",
    "We assume  that the output data can be represented (for a regression case) by a continuous function $f$\n",
    "through"
   ]
  },
  {
   "cell_type": "markdown",
   "id": "57e6370b",
   "metadata": {
    "editable": true
   },
   "source": [
    "$$\n",
    "\\boldsymbol{y}=f(\\boldsymbol{x})+\\boldsymbol{\\epsilon}.\n",
    "$$"
   ]
  },
  {
   "cell_type": "markdown",
   "id": "5a9ae6b8",
   "metadata": {
    "editable": true
   },
   "source": [
    "## Setting up the equations\n",
    "\n",
    "In linear regression we approximate the unknown function with another\n",
    "continuous function $\\tilde{\\boldsymbol{y}}(\\boldsymbol{x})$ which depends linearly on\n",
    "some unknown parameters\n",
    "$\\boldsymbol{\\theta}^T=[\\theta_0,\\theta_1,\\theta_2,\\dots,\\theta_{p-1}]$.\n",
    "\n",
    "The input data can be organized in terms of a so-called design matrix \n",
    "with an approximating function $\\boldsymbol{\\tilde{y}}$"
   ]
  },
  {
   "cell_type": "markdown",
   "id": "7348c433",
   "metadata": {
    "editable": true
   },
   "source": [
    "$$\n",
    "\\boldsymbol{\\tilde{y}}= \\boldsymbol{X}\\boldsymbol{\\theta},\n",
    "$$"
   ]
  },
  {
   "cell_type": "markdown",
   "id": "dee5df3d",
   "metadata": {
    "editable": true
   },
   "source": [
    "## The objective/cost/loss function\n",
    "\n",
    "The  simplest approach is the mean squared error"
   ]
  },
  {
   "cell_type": "markdown",
   "id": "29d25cf4",
   "metadata": {
    "editable": true
   },
   "source": [
    "$$\n",
    "C(\\boldsymbol{\\Theta})=\\frac{1}{n}\\sum_{i=0}^{n-1}\\left(y_i-\\tilde{y}_i\\right)^2=\\frac{1}{n}\\left\\{\\left(\\boldsymbol{y}-\\boldsymbol{\\tilde{y}}\\right)^T\\left(\\boldsymbol{y}-\\boldsymbol{\\tilde{y}}\\right)\\right\\},\n",
    "$$"
   ]
  },
  {
   "cell_type": "markdown",
   "id": "50e42832",
   "metadata": {
    "editable": true
   },
   "source": [
    "or using the matrix $\\boldsymbol{X}$ and in a more compact matrix-vector notation as"
   ]
  },
  {
   "cell_type": "markdown",
   "id": "ed6bbfdd",
   "metadata": {
    "editable": true
   },
   "source": [
    "$$\n",
    "C(\\boldsymbol{\\Theta})=\\frac{1}{n}\\left\\{\\left(\\boldsymbol{y}-\\boldsymbol{X}\\boldsymbol{\\theta}\\right)^T\\left(\\boldsymbol{y}-\\boldsymbol{X}\\boldsymbol{\\theta}\\right)\\right\\}.\n",
    "$$"
   ]
  },
  {
   "cell_type": "markdown",
   "id": "3f5d59d6",
   "metadata": {
    "editable": true
   },
   "source": [
    "This function represents one of many possible ways to define the so-called cost function."
   ]
  },
  {
   "cell_type": "markdown",
   "id": "41f03461",
   "metadata": {
    "editable": true
   },
   "source": [
    "## Training solution\n",
    "\n",
    "Optimizing with respect to the unknown paramters $\\theta_j$ we get"
   ]
  },
  {
   "cell_type": "markdown",
   "id": "f58f175a",
   "metadata": {
    "editable": true
   },
   "source": [
    "$$\n",
    "\\boldsymbol{X}^T\\boldsymbol{y} = \\boldsymbol{X}^T\\boldsymbol{X}\\boldsymbol{\\theta},\n",
    "$$"
   ]
  },
  {
   "cell_type": "markdown",
   "id": "49a25985",
   "metadata": {
    "editable": true
   },
   "source": [
    "and if the matrix $\\boldsymbol{X}^T\\boldsymbol{X}$ is invertible we have the optimal values"
   ]
  },
  {
   "cell_type": "markdown",
   "id": "f5a3e7cb",
   "metadata": {
    "editable": true
   },
   "source": [
    "$$\n",
    "\\hat{\\boldsymbol{\\theta}} =\\left(\\boldsymbol{X}^T\\boldsymbol{X}\\right)^{-1}\\boldsymbol{X}^T\\boldsymbol{y}.\n",
    "$$"
   ]
  },
  {
   "cell_type": "markdown",
   "id": "3a58bd47",
   "metadata": {
    "editable": true
   },
   "source": [
    "We say we 'learn' the unknown paramters $\\boldsymbol{\\theta}$ from the last equation."
   ]
  },
  {
   "cell_type": "markdown",
   "id": "0a830048",
   "metadata": {
    "editable": true
   },
   "source": [
    "## Ridge and LASSO Regression\n",
    "\n",
    "Our optimization problem is"
   ]
  },
  {
   "cell_type": "markdown",
   "id": "a779486a",
   "metadata": {
    "editable": true
   },
   "source": [
    "$$\n",
    "{\\displaystyle \\min_{\\boldsymbol{\\theta}\\in {\\mathbb{R}}^{p}}}\\frac{1}{n}\\left\\{\\left(\\boldsymbol{y}-\\boldsymbol{X}\\boldsymbol{\\theta}\\right)^T\\left(\\boldsymbol{y}-\\boldsymbol{X}\\boldsymbol{\\theta}\\right)\\right\\}.\n",
    "$$"
   ]
  },
  {
   "cell_type": "markdown",
   "id": "f8a32af6",
   "metadata": {
    "editable": true
   },
   "source": [
    "or we can state it as"
   ]
  },
  {
   "cell_type": "markdown",
   "id": "67b2fa69",
   "metadata": {
    "editable": true
   },
   "source": [
    "$$\n",
    "{\\displaystyle \\min_{\\boldsymbol{\\theta}\\in\n",
    "{\\mathbb{R}}^{p}}}\\frac{1}{n}\\sum_{i=0}^{n-1}\\left(y_i-\\tilde{y}_i\\right)^2=\\frac{1}{n}\\vert\\vert \\boldsymbol{y}-\\boldsymbol{X}\\boldsymbol{\\theta}\\vert\\vert_2^2,\n",
    "$$"
   ]
  },
  {
   "cell_type": "markdown",
   "id": "395cc551",
   "metadata": {
    "editable": true
   },
   "source": [
    "where we have used the definition of  a norm-2 vector, that is"
   ]
  },
  {
   "cell_type": "markdown",
   "id": "9449cce2",
   "metadata": {
    "editable": true
   },
   "source": [
    "$$\n",
    "\\vert\\vert \\boldsymbol{x}\\vert\\vert_2 = \\sqrt{\\sum_i x_i^2}.\n",
    "$$"
   ]
  },
  {
   "cell_type": "markdown",
   "id": "61b7f041",
   "metadata": {
    "editable": true
   },
   "source": [
    "## From OLS to Ridge and Lasso\n",
    "\n",
    "By minimizing the above equation with respect to the parameters\n",
    "$\\boldsymbol{\\theta}$ we could then obtain an analytical expression for the\n",
    "parameters $\\boldsymbol{\\theta}$.  We can add a regularization parameter $\\lambda$ by\n",
    "defining a new cost function to be optimized, that is"
   ]
  },
  {
   "cell_type": "markdown",
   "id": "59cc2137",
   "metadata": {
    "editable": true
   },
   "source": [
    "$$\n",
    "{\\displaystyle \\min_{\\boldsymbol{\\theta}\\in\n",
    "{\\mathbb{R}}^{p}}}\\frac{1}{n}\\vert\\vert \\boldsymbol{y}-\\boldsymbol{X}\\boldsymbol{\\theta}\\vert\\vert_2^2+\\lambda\\vert\\vert \\boldsymbol{\\theta}\\vert\\vert_2^2\n",
    "$$"
   ]
  },
  {
   "cell_type": "markdown",
   "id": "74218287",
   "metadata": {
    "editable": true
   },
   "source": [
    "which leads to the Ridge regression minimization problem where we\n",
    "require that $\\vert\\vert \\boldsymbol{\\theta}\\vert\\vert_2^2\\le t$, where $t$ is\n",
    "a finite number larger than zero. We do not include such a constraints in the discussions here."
   ]
  },
  {
   "cell_type": "markdown",
   "id": "55764819",
   "metadata": {
    "editable": true
   },
   "source": [
    "## Lasso regression\n",
    "\n",
    "Defining"
   ]
  },
  {
   "cell_type": "markdown",
   "id": "e2d4336c",
   "metadata": {
    "editable": true
   },
   "source": [
    "$$\n",
    "C(\\boldsymbol{X},\\boldsymbol{\\theta})=\\frac{1}{n}\\vert\\vert \\boldsymbol{y}-\\boldsymbol{X}\\boldsymbol{\\theta}\\vert\\vert_2^2+\\lambda\\vert\\vert \\boldsymbol{\\theta}\\vert\\vert_1,\n",
    "$$"
   ]
  },
  {
   "cell_type": "markdown",
   "id": "1b3c1d07",
   "metadata": {
    "editable": true
   },
   "source": [
    "we have a new optimization equation"
   ]
  },
  {
   "cell_type": "markdown",
   "id": "e3d734f8",
   "metadata": {
    "editable": true
   },
   "source": [
    "$$\n",
    "{\\displaystyle \\min_{\\boldsymbol{\\theta}\\in\n",
    "{\\mathbb{R}}^{p}}}\\frac{1}{n}\\vert\\vert \\boldsymbol{y}-\\boldsymbol{X}\\boldsymbol{\\theta}\\vert\\vert_2^2+\\lambda\\vert\\vert \\boldsymbol{\\theta}\\vert\\vert_1\n",
    "$$"
   ]
  },
  {
   "cell_type": "markdown",
   "id": "d0764476",
   "metadata": {
    "editable": true
   },
   "source": [
    "which leads to Lasso regression. Lasso stands for least absolute shrinkage and selection operator. \n",
    "Here we have defined the norm-1 as"
   ]
  },
  {
   "cell_type": "markdown",
   "id": "49c79369",
   "metadata": {
    "editable": true
   },
   "source": [
    "$$\n",
    "\\vert\\vert \\boldsymbol{x}\\vert\\vert_1 = \\sum_i \\vert x_i\\vert.\n",
    "$$"
   ]
  },
  {
   "cell_type": "markdown",
   "id": "04ad996f",
   "metadata": {
    "editable": true
   },
   "source": [
    "## Examples: Many-body physics, Quantum Monte Carlo and deep learning\n",
    "Given a hamiltonian $H$ and a trial wave function $\\Psi_T$, the variational principle states that the expectation value of $\\langle H \\rangle$, defined through"
   ]
  },
  {
   "cell_type": "markdown",
   "id": "cf6fc907",
   "metadata": {
    "editable": true
   },
   "source": [
    "$$\n",
    "\\langle E \\rangle =\n",
    "   \\frac{\\int d\\boldsymbol{R}\\Psi^{\\ast}_T(\\boldsymbol{R})H(\\boldsymbol{R})\\Psi_T(\\boldsymbol{R})}\n",
    "        {\\int d\\boldsymbol{R}\\Psi^{\\ast}_T(\\boldsymbol{R})\\Psi_T(\\boldsymbol{R})},\n",
    "$$"
   ]
  },
  {
   "cell_type": "markdown",
   "id": "602a9a06",
   "metadata": {
    "editable": true
   },
   "source": [
    "is an upper bound to the ground state energy $E_0$ of the hamiltonian $H$, that is"
   ]
  },
  {
   "cell_type": "markdown",
   "id": "32c7fdc4",
   "metadata": {
    "editable": true
   },
   "source": [
    "$$\n",
    "E_0 \\le \\langle E \\rangle.\n",
    "$$"
   ]
  },
  {
   "cell_type": "markdown",
   "id": "b549f207",
   "metadata": {
    "editable": true
   },
   "source": [
    "In general, the integrals involved in the calculation of various  expectation values  are multi-dimensional ones. Traditional integration methods such as the Gauss-Legendre will not be adequate for say the  computation of the energy of a many-body system.  **Basic philosophy: Let a neural network find the optimal wave function**"
   ]
  },
  {
   "cell_type": "markdown",
   "id": "a069a78e",
   "metadata": {
    "editable": true
   },
   "source": [
    "## Quantum Monte Carlo Motivation\n",
    "**Basic steps.**\n",
    "\n",
    "Choose a trial wave function\n",
    "$\\psi_T(\\boldsymbol{R})$."
   ]
  },
  {
   "cell_type": "markdown",
   "id": "850179c4",
   "metadata": {
    "editable": true
   },
   "source": [
    "$$\n",
    "P(\\boldsymbol{R},\\boldsymbol{\\alpha})= \\frac{\\left|\\psi_T(\\boldsymbol{R},\\boldsymbol{\\alpha})\\right|^2}{\\int \\left|\\psi_T(\\boldsymbol{R},\\boldsymbol{\\alpha})\\right|^2d\\boldsymbol{R}}.\n",
    "$$"
   ]
  },
  {
   "cell_type": "markdown",
   "id": "621c1ca5",
   "metadata": {
    "editable": true
   },
   "source": [
    "This is our model, or likelihood/probability distribution function  (PDF). It depends on some variational parameters $\\boldsymbol{\\alpha}$.\n",
    "The approximation to the expectation value of the Hamiltonian is now"
   ]
  },
  {
   "cell_type": "markdown",
   "id": "7faca2bb",
   "metadata": {
    "editable": true
   },
   "source": [
    "$$\n",
    "\\langle E[\\boldsymbol{\\alpha}] \\rangle = \n",
    "   \\frac{\\int d\\boldsymbol{R}\\Psi^{\\ast}_T(\\boldsymbol{R},\\boldsymbol{\\alpha})H(\\boldsymbol{R})\\Psi_T(\\boldsymbol{R},\\boldsymbol{\\alpha})}\n",
    "        {\\int d\\boldsymbol{R}\\Psi^{\\ast}_T(\\boldsymbol{R},\\boldsymbol{\\alpha})\\Psi_T(\\boldsymbol{R},\\boldsymbol{\\alpha})}.\n",
    "$$"
   ]
  },
  {
   "cell_type": "markdown",
   "id": "4b2ae4bd",
   "metadata": {
    "editable": true
   },
   "source": [
    "## Quantum Monte Carlo Motivation\n",
    "**Define a new quantity.**"
   ]
  },
  {
   "cell_type": "markdown",
   "id": "2c9d9401",
   "metadata": {
    "editable": true
   },
   "source": [
    "$$\n",
    "E_L(\\boldsymbol{R},\\boldsymbol{\\alpha})=\\frac{1}{\\psi_T(\\boldsymbol{R},\\boldsymbol{\\alpha})}H\\psi_T(\\boldsymbol{R},\\boldsymbol{\\alpha}),\n",
    "$$"
   ]
  },
  {
   "cell_type": "markdown",
   "id": "f511fd05",
   "metadata": {
    "editable": true
   },
   "source": [
    "called the local energy, which, together with our trial PDF yields"
   ]
  },
  {
   "cell_type": "markdown",
   "id": "8e66db1b",
   "metadata": {
    "editable": true
   },
   "source": [
    "$$\n",
    "\\langle E[\\boldsymbol{\\alpha}] \\rangle=\\int P(\\boldsymbol{R})E_L(\\boldsymbol{R},\\boldsymbol{\\alpha}) d\\boldsymbol{R}\\approx \\frac{1}{N}\\sum_{i=1}^NE_L(\\boldsymbol{R_i},\\boldsymbol{\\alpha})\n",
    "$$"
   ]
  },
  {
   "cell_type": "markdown",
   "id": "d4d5ab37",
   "metadata": {
    "editable": true
   },
   "source": [
    "with $N$ being the number of Monte Carlo samples."
   ]
  },
  {
   "cell_type": "markdown",
   "id": "086834a9",
   "metadata": {
    "editable": true
   },
   "source": [
    "## Energy derivatives\n",
    "The local energy as function of the variational parameters defines now our **objective/cost** function.\n",
    "\n",
    "To find the derivatives of the local energy expectation value as function of the variational parameters, we can use the chain rule and the hermiticity of the Hamiltonian.  \n",
    "\n",
    "Let us define (with the notation $\\langle E[\\boldsymbol{\\alpha}]\\rangle =\\langle  E_L\\rangle$)"
   ]
  },
  {
   "cell_type": "markdown",
   "id": "298ee4f0",
   "metadata": {
    "editable": true
   },
   "source": [
    "$$\n",
    "\\bar{E}_{\\alpha_i}=\\frac{d\\langle  E_L\\rangle}{d\\alpha_i},\n",
    "$$"
   ]
  },
  {
   "cell_type": "markdown",
   "id": "3778b076",
   "metadata": {
    "editable": true
   },
   "source": [
    "as the derivative of the energy with respect to the variational parameter $\\alpha_i$\n",
    "We define also the derivative of the trial function (skipping the subindex $T$) as"
   ]
  },
  {
   "cell_type": "markdown",
   "id": "88c08740",
   "metadata": {
    "editable": true
   },
   "source": [
    "$$\n",
    "\\bar{\\Psi}_{i}=\\frac{d\\Psi}{d\\alpha_i}.\n",
    "$$"
   ]
  },
  {
   "cell_type": "markdown",
   "id": "c1bc30d0",
   "metadata": {
    "editable": true
   },
   "source": [
    "## Derivatives of the local energy\n",
    "The elements of the gradient of the local energy are"
   ]
  },
  {
   "cell_type": "markdown",
   "id": "affafe94",
   "metadata": {
    "editable": true
   },
   "source": [
    "$$\n",
    "\\bar{E}_{i}= 2\\left( \\langle \\frac{\\bar{\\Psi}_{i}}{\\Psi}E_L\\rangle -\\langle \\frac{\\bar{\\Psi}_{i}}{\\Psi}\\rangle\\langle E_L \\rangle\\right).\n",
    "$$"
   ]
  },
  {
   "cell_type": "markdown",
   "id": "ce11a71b",
   "metadata": {
    "editable": true
   },
   "source": [
    "From a computational point of view it means that you need to compute the expectation values of"
   ]
  },
  {
   "cell_type": "markdown",
   "id": "a2504021",
   "metadata": {
    "editable": true
   },
   "source": [
    "$$\n",
    "\\langle \\frac{\\bar{\\Psi}_{i}}{\\Psi}E_L\\rangle,\n",
    "$$"
   ]
  },
  {
   "cell_type": "markdown",
   "id": "b5abaf25",
   "metadata": {
    "editable": true
   },
   "source": [
    "and"
   ]
  },
  {
   "cell_type": "markdown",
   "id": "b0b1756c",
   "metadata": {
    "editable": true
   },
   "source": [
    "$$\n",
    "\\langle \\frac{\\bar{\\Psi}_{i}}{\\Psi}\\rangle\\langle E_L\\rangle\n",
    "$$"
   ]
  },
  {
   "cell_type": "markdown",
   "id": "ec7bdb40",
   "metadata": {
    "editable": true
   },
   "source": [
    "These integrals are evaluted using MC intergration (with all its possible error sources). Use methods like stochastic gradient or other minimization methods to find the optimal parameters."
   ]
  },
  {
   "cell_type": "markdown",
   "id": "10b720df",
   "metadata": {
    "editable": true
   },
   "source": [
    "## Why Feed Forward Neural Networks (FFNN)?\n",
    "\n",
    "According to the *Universal approximation theorem*, a feed-forward\n",
    "neural network with just a single hidden layer containing a finite\n",
    "number of neurons can approximate a continuous multidimensional\n",
    "function to arbitrary accuracy, assuming the activation function for\n",
    "the hidden layer is a **non-constant, bounded and\n",
    "monotonically-increasing continuous function**."
   ]
  },
  {
   "cell_type": "markdown",
   "id": "66472192",
   "metadata": {
    "editable": true
   },
   "source": [
    "## [Dilute neutron star matter from neural-network quantum states by Fore et al, Physical Review Research 5, 033062 (2023)](https://journals.aps.org/prresearch/pdf/10.1103/PhysRevResearch.5.033062) at density $\\rho=0.04$ fm$^{-3}$\n",
    "\n",
    "<!-- dom:FIGURE: [figures/nmatter.png, width=700 frac=0.9] -->\n",
    "<!-- begin figure -->\n",
    "\n",
    "<img src=\"figures/nmatter.png\" width=\"700\"><p style=\"font-size: 0.9em\"><i>Figure 1: </i></p>\n",
    "<!-- end figure -->"
   ]
  },
  {
   "cell_type": "markdown",
   "id": "cf2cf441",
   "metadata": {
    "editable": true
   },
   "source": [
    "## The electron gas in three dimensions with $N=14$ electrons (Wigner-Seitz radius $r_s=2$ a.u.), [Gabriel Pescia, Jane Kim et al. arXiv.2305.07240,](https://doi.org/10.48550/arXiv.2305.07240)\n",
    "\n",
    "<!-- dom:FIGURE: [figures/elgasnew.png, width=700 frac=0.9] -->\n",
    "<!-- begin figure -->\n",
    "\n",
    "<img src=\"figures/elgasnew.png\" width=\"700\"><p style=\"font-size: 0.9em\"><i>Figure 1: </i></p>\n",
    "<!-- end figure -->"
   ]
  },
  {
   "cell_type": "markdown",
   "id": "d45390d2",
   "metadata": {
    "editable": true
   },
   "source": [
    "## Generative models: Why Boltzmann machines?\n",
    "\n",
    "What is known as restricted Boltzmann Machines (RMB) have received a\n",
    "lot of attention lately.  One of the major reasons is that they can be\n",
    "stacked layer-wise to build deep neural networks that capture\n",
    "complicated statistics.\n",
    "\n",
    "The original RBMs had just one visible layer and a hidden layer, but\n",
    "recently so-called Gaussian-binary RBMs have gained quite some\n",
    "popularity in imaging since they are capable of modeling continuous\n",
    "data that are common to natural images.\n",
    "\n",
    "Furthermore, they have been used to solve complicated quantum\n",
    "mechanical many-particle problems or classical statistical physics\n",
    "problems like the Ising and Potts classes of models."
   ]
  },
  {
   "cell_type": "markdown",
   "id": "e138a3fb",
   "metadata": {
    "editable": true
   },
   "source": [
    "## The structure of the RBM network\n",
    "\n",
    "<!-- dom:FIGURE: [figures/RBM.png, width=800 frac=1.0] -->\n",
    "<!-- begin figure -->\n",
    "\n",
    "<img src=\"figures/RBM.png\" width=\"800\"><p style=\"font-size: 0.9em\"><i>Figure 1: </i></p>\n",
    "<!-- end figure -->"
   ]
  },
  {
   "cell_type": "markdown",
   "id": "1d02c075",
   "metadata": {
    "editable": true
   },
   "source": [
    "## The network\n",
    "\n",
    "**The network layers**:\n",
    "1. A function $\\mathbf{x}$ that represents the visible layer, a vector of $M$ elements (nodes). This layer represents both what the RBM might be given as training input, and what we want it to be able to reconstruct. This might for example be the pixels of an image, the spin values of the Ising model, or coefficients representing speech.\n",
    "\n",
    "2. The function $\\mathbf{h}$ represents the hidden, or latent, layer. A vector of $N$ elements (nodes). Also called \"feature detectors\"."
   ]
  },
  {
   "cell_type": "markdown",
   "id": "d7597f1e",
   "metadata": {
    "editable": true
   },
   "source": [
    "## Goals\n",
    "\n",
    "The goal of the hidden layer is to increase the model's expressive\n",
    "power. We encode complex interactions between visible variables by\n",
    "introducing additional, hidden variables that interact with visible\n",
    "degrees of freedom in a simple manner, yet still reproduce the complex\n",
    "correlations between visible degrees in the data once marginalized\n",
    "over (integrated out).\n",
    "\n",
    "**The network parameters, to be optimized/learned**:\n",
    "1. $\\mathbf{a}$ represents the visible bias, a vector of same length as $\\mathbf{x}$.\n",
    "\n",
    "2. $\\mathbf{b}$ represents the hidden bias, a vector of same lenght as $\\mathbf{h}$.\n",
    "\n",
    "3. $W$ represents the interaction weights, a matrix of size $M\\times N$."
   ]
  },
  {
   "cell_type": "markdown",
   "id": "ff256aef",
   "metadata": {
    "editable": true
   },
   "source": [
    "## Joint distribution\n",
    "The restricted Boltzmann machine is described by a Bolztmann distribution"
   ]
  },
  {
   "cell_type": "markdown",
   "id": "b83fba07",
   "metadata": {
    "editable": true
   },
   "source": [
    "$$\n",
    "P_{rbm}(\\mathbf{x},\\mathbf{h}) = \\frac{1}{Z} e^{-\\frac{1}{T_0}E(\\mathbf{x},\\mathbf{h})},\n",
    "$$"
   ]
  },
  {
   "cell_type": "markdown",
   "id": "5c951c42",
   "metadata": {
    "editable": true
   },
   "source": [
    "where $Z$ is the normalization constant or partition function, defined as"
   ]
  },
  {
   "cell_type": "markdown",
   "id": "f6a1737f",
   "metadata": {
    "editable": true
   },
   "source": [
    "$$\n",
    "Z = \\int \\int e^{-\\frac{1}{T_0}E(\\mathbf{x},\\mathbf{h})} d\\mathbf{x} d\\mathbf{h}.\n",
    "$$"
   ]
  },
  {
   "cell_type": "markdown",
   "id": "723a1c1a",
   "metadata": {
    "editable": true
   },
   "source": [
    "It is common to ignore $T_0$ by setting it to one."
   ]
  },
  {
   "cell_type": "markdown",
   "id": "6d8fa2ef",
   "metadata": {
    "editable": true
   },
   "source": [
    "## Network Elements, the energy function\n",
    "\n",
    "The function $E(\\mathbf{x},\\mathbf{h})$ gives the **energy** of a\n",
    "configuration (pair of vectors) $(\\mathbf{x}, \\mathbf{h})$. The lower\n",
    "the energy of a configuration, the higher the probability of it. This\n",
    "function also depends on the parameters $\\mathbf{a}$, $\\mathbf{b}$ and\n",
    "$W$. Thus, when we adjust them during the learning procedure, we are\n",
    "adjusting the energy function to best fit our problem."
   ]
  },
  {
   "cell_type": "markdown",
   "id": "6c9bcdfc",
   "metadata": {
    "editable": true
   },
   "source": [
    "## Defining different types of RBMs (Energy based models)\n",
    "\n",
    "There are different variants of RBMs, and the differences lie in the types of visible and hidden units we choose as well as in the implementation of the energy function $E(\\mathbf{x},\\mathbf{h})$. The connection between the nodes in the two layers is given by the weights $w_{ij}$. \n",
    "\n",
    "**Binary-Binary RBM:**\n",
    "\n",
    "RBMs were first developed using binary units in both the visible and hidden layer. The corresponding energy function is defined as follows:"
   ]
  },
  {
   "cell_type": "markdown",
   "id": "b5b4a401",
   "metadata": {
    "editable": true
   },
   "source": [
    "$$\n",
    "E(\\mathbf{x}, \\mathbf{h}) = - \\sum_i^M x_i a_i- \\sum_j^N b_j h_j - \\sum_{i,j}^{M,N} x_i w_{ij} h_j,\n",
    "$$"
   ]
  },
  {
   "cell_type": "markdown",
   "id": "141e4159",
   "metadata": {
    "editable": true
   },
   "source": [
    "where the binary values taken on by the nodes are most commonly 0 and 1."
   ]
  },
  {
   "cell_type": "markdown",
   "id": "da93ae7d",
   "metadata": {
    "editable": true
   },
   "source": [
    "## Gaussian binary\n",
    "\n",
    "**Gaussian-Binary RBM:**\n",
    "\n",
    "Another varient is the RBM where the visible units are Gaussian while the hidden units remain binary:"
   ]
  },
  {
   "cell_type": "markdown",
   "id": "137631c5",
   "metadata": {
    "editable": true
   },
   "source": [
    "$$\n",
    "E(\\mathbf{x}, \\mathbf{h}) = \\sum_i^M \\frac{(x_i - a_i)^2}{2\\sigma_i^2} - \\sum_j^N b_j h_j - \\sum_{i,j}^{M,N} \\frac{x_i w_{ij} h_j}{\\sigma_i^2}.\n",
    "$$"
   ]
  },
  {
   "cell_type": "markdown",
   "id": "37c9d47d",
   "metadata": {
    "editable": true
   },
   "source": [
    "## Representing the wave function\n",
    "\n",
    "The wavefunction should be a probability amplitude depending on\n",
    " $\\boldsymbol{x}$. The RBM model is given by the joint distribution of\n",
    " $\\boldsymbol{x}$ and $\\boldsymbol{h}$"
   ]
  },
  {
   "cell_type": "markdown",
   "id": "87cf926c",
   "metadata": {
    "editable": true
   },
   "source": [
    "$$\n",
    "F_{rbm}(\\mathbf{x},\\mathbf{h}) = \\frac{1}{Z} e^{-\\frac{1}{T_0}E(\\mathbf{x},\\mathbf{h})}.\n",
    "$$"
   ]
  },
  {
   "cell_type": "markdown",
   "id": "c814b489",
   "metadata": {
    "editable": true
   },
   "source": [
    "To find the marginal distribution of $\\boldsymbol{x}$ we set:"
   ]
  },
  {
   "cell_type": "markdown",
   "id": "9b21cf0e",
   "metadata": {
    "editable": true
   },
   "source": [
    "$$\n",
    "F_{rbm}(\\mathbf{x}) =\\frac{1}{Z}\\sum_\\mathbf{h} e^{-E(\\mathbf{x}, \\mathbf{h})}.\n",
    "$$"
   ]
  },
  {
   "cell_type": "markdown",
   "id": "57e6c8b4",
   "metadata": {
    "editable": true
   },
   "source": [
    "Now this is what we use to represent the wave function, calling it a neural-network quantum state (NQS)"
   ]
  },
  {
   "cell_type": "markdown",
   "id": "691c153f",
   "metadata": {
    "editable": true
   },
   "source": [
    "$$\n",
    "\\Psi (\\mathbf{X}) = F_{rbm}(\\mathbf{x}),\n",
    "$$"
   ]
  },
  {
   "cell_type": "markdown",
   "id": "5ebfe4f4",
   "metadata": {
    "editable": true
   },
   "source": [
    "or we could square the wave function."
   ]
  },
  {
   "cell_type": "markdown",
   "id": "6b30434a",
   "metadata": {
    "editable": true
   },
   "source": [
    "## Define the cost function\n",
    "\n",
    "Now we don't necessarily have training data (unless we generate it by\n",
    "using some other method). However, what we do have is the variational\n",
    "principle which allows us to obtain the ground state wave function by\n",
    "minimizing the expectation value of the energy of a trial wavefunction\n",
    "(corresponding to the untrained NQS). Similarly to the traditional\n",
    "variational Monte Carlo method then, it is the local energy we wish to\n",
    "minimize. The gradient to use for the stochastic gradient descent\n",
    "procedure is"
   ]
  },
  {
   "cell_type": "markdown",
   "id": "fc64b7be",
   "metadata": {
    "editable": true
   },
   "source": [
    "$$\n",
    "C_i = \\frac{\\partial \\langle E_L \\rangle}{\\partial \\theta_i}\n",
    "\t= 2(\\langle E_L \\frac{1}{\\Psi}\\frac{\\partial \\Psi}{\\partial \\theta_i} \\rangle - \\langle E_L \\rangle \\langle \\frac{1}{\\Psi}\\frac{\\partial \\Psi}{\\partial \\theta_i} \\rangle ),\n",
    "$$"
   ]
  },
  {
   "cell_type": "markdown",
   "id": "801d018d",
   "metadata": {
    "editable": true
   },
   "source": [
    "where the local energy is given by"
   ]
  },
  {
   "cell_type": "markdown",
   "id": "a40d9360",
   "metadata": {
    "editable": true
   },
   "source": [
    "$$\n",
    "E_L = \\frac{1}{\\Psi} \\hat{\\mathbf{H}} \\Psi.\n",
    "$$"
   ]
  },
  {
   "cell_type": "markdown",
   "id": "a4ef0f01",
   "metadata": {
    "editable": true
   },
   "source": [
    "## Extrapolations and model interpretability\n",
    "\n",
    "When you hear phrases like **predictions and estimations** and\n",
    "**correlations and causations**, what do you think of?  May be you think\n",
    "of the difference between classifying new data points and generating\n",
    "new data points.\n",
    "Or perhaps you consider that correlations represent some kind of symmetric statements like\n",
    "if $A$ is correlated with $B$, then $B$ is correlated with\n",
    "$A$. Causation on the other hand is directional, that is if $A$ causes $B$, $B$ does not\n",
    "necessarily cause $A$."
   ]
  },
  {
   "cell_type": "markdown",
   "id": "d1b7f5c4",
   "metadata": {
    "editable": true
   },
   "source": [
    "## Physics based statistical learning and data analysis\n",
    "\n",
    "The above concepts are in some sense the difference between **old-fashioned** machine\n",
    "learning and statistics and Bayesian learning. In machine learning and prediction based\n",
    "tasks, we are often interested in developing algorithms that are\n",
    "capable of learning patterns from given data in an automated fashion,\n",
    "and then using these learned patterns to make predictions or\n",
    "assessments of newly given data. In many cases, our primary concern\n",
    "is the quality of the predictions or assessments, and we are less\n",
    "concerned about the underlying patterns that were learned in order\n",
    "to make these predictions.\n",
    "\n",
    "Physics based statistical learning points however to approaches that give us both predictions and correlations as well as being able to produce error estimates and understand causations.  This leads us to the very interesting field of Bayesian statistics and Bayesian machine learning."
   ]
  },
  {
   "cell_type": "markdown",
   "id": "7a3174c8",
   "metadata": {
    "editable": true
   },
   "source": [
    "## Bayes' Theorem\n",
    "\n",
    "Bayes' theorem"
   ]
  },
  {
   "cell_type": "markdown",
   "id": "d920c083",
   "metadata": {
    "editable": true
   },
   "source": [
    "$$\n",
    "p(X\\vert Y)= \\frac{p(X,Y)}{\\sum_{i=0}^{n-1}p(Y\\vert X=x_i)p(x_i)}=\\frac{p(Y\\vert X)p(X)}{\\sum_{i=0}^{n-1}p(Y\\vert X=x_i)p(x_i)}.\n",
    "$$"
   ]
  },
  {
   "cell_type": "markdown",
   "id": "a54a96cd",
   "metadata": {
    "editable": true
   },
   "source": [
    "The quantity $p(Y\\vert X)$ on the right-hand side of the theorem is\n",
    "evaluated for the observed data $Y$ and can be viewed as a function of\n",
    "the parameter space represented by $X$. This function is not\n",
    "necessarily normalized and is normally called the likelihood function.\n",
    "\n",
    "The function $p(X)$ on the right hand side is called the prior while the function on the left hand side is the called the posterior probability. The denominator on the right hand side serves as a normalization factor for the posterior distribution."
   ]
  },
  {
   "cell_type": "markdown",
   "id": "1d40454f",
   "metadata": {
    "editable": true
   },
   "source": [
    "## [Quantified limits of the nuclear landscape](https://journals.aps.org/prc/abstract/10.1103/PhysRevC.101.044307)\n",
    "\n",
    "Predictions made with eleven global mass model and Bayesian model averaging\n",
    "\n",
    "<!-- dom:FIGURE: [figures/landscape.jpg, width=800 frac=1.0] -->\n",
    "<!-- begin figure -->\n",
    "\n",
    "<img src=\"figures/landscape.jpg\" width=\"800\"><p style=\"font-size: 0.9em\"><i>Figure 1: </i></p>\n",
    "<!-- end figure -->"
   ]
  },
  {
   "cell_type": "markdown",
   "id": "02bd2ae5",
   "metadata": {
    "editable": true
   },
   "source": [
    "## Mathematics of deep learning and neural networks\n",
    "\n",
    "Throughout this course we will use the following notations. Vectors,\n",
    "matrices and higher-order tensors are always boldfaced, with vectors\n",
    "given by lower case letter letters and matrices and higher-order tensors given by upper case letters.\n",
    "\n",
    "Unless otherwise stated, the elements $v_i$ of a vector $\\boldsymbol{v}$ are assumed to be real. That is a vector of length $n$ is defined as\n",
    "$\\boldsymbol{x}\\in \\mathbb{R}^{n}$ and if we have a complex vector we have $\\boldsymbol{x}\\in \\mathbb{C}^{n}$.\n",
    "\n",
    "For a matrix of dimension $n\\times n$ we have \n",
    "$\\boldsymbol{A}\\in \\mathbb{R}^{n\\times n}$ and the first matrix element starts with row element (row-wise ordering) zero and column element zero."
   ]
  },
  {
   "cell_type": "markdown",
   "id": "8aa0f1d0",
   "metadata": {
    "editable": true
   },
   "source": [
    "## Vectors\n",
    "\n",
    "We start by defining a vector $\\boldsymbol{x}$  with $n$ components, with $x_0$ as our first element, as"
   ]
  },
  {
   "cell_type": "markdown",
   "id": "b732373d",
   "metadata": {
    "editable": true
   },
   "source": [
    "$$\n",
    "\\boldsymbol{x} = \\begin{bmatrix} x_0\\\\ x_1 \\\\ x_2 \\\\ \\dots \\\\ \\dots \\\\ x_{n-1} \\end{bmatrix}.\n",
    "$$"
   ]
  },
  {
   "cell_type": "markdown",
   "id": "e446d737",
   "metadata": {
    "editable": true
   },
   "source": [
    "and its transpose"
   ]
  },
  {
   "cell_type": "markdown",
   "id": "c8876b90",
   "metadata": {
    "editable": true
   },
   "source": [
    "$$\n",
    "\\boldsymbol{x}^{T} = \\begin{bmatrix} x_0 & x_1 & x_2 & \\dots & \\dots & x_{n-1} \\end{bmatrix},\n",
    "$$"
   ]
  },
  {
   "cell_type": "markdown",
   "id": "d7b0a35e",
   "metadata": {
    "editable": true
   },
   "source": [
    "In case we have a complex vector we define the hermitian conjugate"
   ]
  },
  {
   "cell_type": "markdown",
   "id": "bd9f8fdd",
   "metadata": {
    "editable": true
   },
   "source": [
    "$$\n",
    "\\boldsymbol{x}^{\\dagger} = \\begin{bmatrix} x_0^* & x_1^* & x_2^* & \\dots & \\dots & x_{n-1}^* \\end{bmatrix},\n",
    "$$"
   ]
  },
  {
   "cell_type": "markdown",
   "id": "88efe559",
   "metadata": {
    "editable": true
   },
   "source": [
    "With a given vector $\\boldsymbol{x}$, we define the inner product as"
   ]
  },
  {
   "cell_type": "markdown",
   "id": "39ab8639",
   "metadata": {
    "editable": true
   },
   "source": [
    "$$\n",
    "\\boldsymbol{x}^T \\boldsymbol{x} = \\sum_{i=0}^{n-1} x_ix_i=x_0^2+x_1^2+\\dots + x_{n-1}^2.\n",
    "$$"
   ]
  },
  {
   "cell_type": "markdown",
   "id": "365f55d2",
   "metadata": {
    "editable": true
   },
   "source": [
    "## Outer products\n",
    "\n",
    "In addition to inner products between vectors/states, the outer\n",
    "product plays a central role in many applications. It is\n",
    "defined as"
   ]
  },
  {
   "cell_type": "markdown",
   "id": "46985ddc",
   "metadata": {
    "editable": true
   },
   "source": [
    "$$\n",
    "\\boldsymbol{x}\\boldsymbol{y}^T = \\begin{bmatrix}\n",
    "               x_0y_0 & x_0y_1 & x_0y_2 & \\dots & \\dots & x_0y_{n-2} & x_0y_{n-1} \\\\\n",
    "\t       x_1y_0 & x_1y_1 & x_1y_2 & \\dots & \\dots & x_1y_{n-2} & x_1y_{n-1} \\\\\n",
    "\t       x_2y_0 & x_2y_1 & x_2y_2 & \\dots & \\dots & x_2y_{n-2} & x_2y_{n-1} \\\\\t       \n",
    "               \\dots &   \\dots   & \\dots  & \\dots & \\dots & \\dots & \\dots \\\\\n",
    "               \\dots &   \\dots   & \\dots  & \\dots & \\dots & \\dots & \\dots \\\\\t       \n",
    "\t       x_{n-2}y_0 & x_{n-2}y_1 & x_{n-2}y_2 & \\dots & \\dots & x_{n-2}y_{n-2} & x_{n-2}y_{n-1} \\\\\n",
    "\t       x_{n-1}y_0 & x_{n-1}y_1 & x_{n-1}y_2 & \\dots & \\dots & x_{n-1}y_{n-2} & x_{n-1}y_{n-1} \\end{bmatrix}\n",
    "$$"
   ]
  },
  {
   "cell_type": "markdown",
   "id": "ce976839",
   "metadata": {
    "editable": true
   },
   "source": [
    "The latter defines also our basic matrix layout."
   ]
  },
  {
   "cell_type": "markdown",
   "id": "15926221",
   "metadata": {
    "editable": true
   },
   "source": [
    "## Basic Matrix Features\n",
    "\n",
    "A general $n\\times n$ matrix is given by"
   ]
  },
  {
   "cell_type": "markdown",
   "id": "37259359",
   "metadata": {
    "editable": true
   },
   "source": [
    "$$\n",
    "\\mathbf{A} =\n",
    "\\begin{bmatrix}\n",
    "               a_{00} & a_{01} & a_{02} & \\dots & \\dots & a_{0n-2} & a_{0n-1} \\\\\n",
    "               a_{10} & a_{11} & a_{12} & \\dots & \\dots & a_{1n-2} & a_{1n-1} \\\\\n",
    "               \\dots &   \\dots   & \\dots  & \\dots & \\dots & \\dots & \\dots \\\\\n",
    "               \\dots &   \\dots   & \\dots  & \\dots & \\dots & \\dots & \\dots \\\\\t       \n",
    "               a_{n-20} & a_{n-21} & a_{n-22} & \\dots & \\dots & a_{n-2n-2} & a_{n-2n-1} \\\\\n",
    "               a_{n-10} & a_{n-11} & a_{n-12} & \\dots & \\dots & a_{n-1n-2} & a_{n-1n-1} \\end{bmatrix},\n",
    "$$"
   ]
  },
  {
   "cell_type": "markdown",
   "id": "564e9bf5",
   "metadata": {
    "editable": true
   },
   "source": [
    "or in terms of its column vectors $\\boldsymbol{a}_i$ as"
   ]
  },
  {
   "cell_type": "markdown",
   "id": "a806dc6e",
   "metadata": {
    "editable": true
   },
   "source": [
    "$$\n",
    "\\mathbf{A} =\n",
    "\\begin{bmatrix}\\boldsymbol{a}_{0} & \\boldsymbol{a}_{1} & \\boldsymbol{a}_{2} & \\dots & \\dots & \\boldsymbol{a}_{n-2} & \\boldsymbol{a}_{n-1}\\end{bmatrix}.\n",
    "$$"
   ]
  },
  {
   "cell_type": "markdown",
   "id": "b92ee850",
   "metadata": {
    "editable": true
   },
   "source": [
    "We can think of a matrix as a diagram of in general $n$ rowns and $m$ columns."
   ]
  },
  {
   "cell_type": "markdown",
   "id": "e2e64915",
   "metadata": {
    "editable": true
   },
   "source": [
    "## The inverse of a matrix\n",
    "The inverse of a matrix (if it exists) is defined by"
   ]
  },
  {
   "cell_type": "markdown",
   "id": "ee6a1c2d",
   "metadata": {
    "editable": true
   },
   "source": [
    "$$\n",
    "\\mathbf{A}^{-1} \\cdot \\mathbf{A} = I,\n",
    "$$"
   ]
  },
  {
   "cell_type": "markdown",
   "id": "aec9a6f9",
   "metadata": {
    "editable": true
   },
   "source": [
    "where $\\boldsymbol{I}$ is the unit matrix."
   ]
  },
  {
   "cell_type": "markdown",
   "id": "6a2aeb67",
   "metadata": {
    "editable": true
   },
   "source": [
    "## Basic Matrix Features\n",
    "\n",
    "**Matrix Properties Reminder.**\n",
    "\n",
    "<table class=\"dotable\" border=\"1\">\n",
    "<thead>\n",
    "<tr><th align=\"center\">              Relations               </th> <th align=\"center\">      Name     </th> <th align=\"center\">                            matrix elements                            </th> </tr>\n",
    "</thead>\n",
    "<tbody>\n",
    "<tr><td align=\"center\">   $A = A^{T}$                               </td> <td align=\"center\">   symmetric          </td> <td align=\"center\">   $a_{ij} = a_{ji}$                                                          </td> </tr>\n",
    "<tr><td align=\"center\">   $A = \\left (A^{T} \\right )^{-1}$          </td> <td align=\"center\">   real orthogonal    </td> <td align=\"center\">   $\\sum_k a_{ik} a_{jk} = \\sum_k a_{ki} a_{kj} = \\delta_{ij}$                </td> </tr>\n",
    "<tr><td align=\"center\">   $A = A^{ * }$                             </td> <td align=\"center\">   real matrix        </td> <td align=\"center\">   $a_{ij} = a_{ij}^{ * }$                                                    </td> </tr>\n",
    "<tr><td align=\"center\">   $A = A^{\\dagger}$                         </td> <td align=\"center\">   hermitian          </td> <td align=\"center\">   $a_{ij} = a_{ji}^{ * }$                                                    </td> </tr>\n",
    "<tr><td align=\"center\">   $A = \\left (A^{\\dagger} \\right )^{-1}$    </td> <td align=\"center\">   unitary            </td> <td align=\"center\">   $\\sum_k a_{ik} a_{jk}^{ * } = \\sum_k a_{ki}^{ * } a_{kj} = \\delta_{ij}$    </td> </tr>\n",
    "</tbody>\n",
    "</table>"
   ]
  },
  {
   "cell_type": "markdown",
   "id": "a2d1c719",
   "metadata": {
    "editable": true
   },
   "source": [
    "## Some famous Matrices\n",
    "\n",
    "  * Diagonal if $a_{ij}=0$ for $i\\ne j$\n",
    "\n",
    "  * Upper triangular if $a_{ij}=0$ for $i > j$\n",
    "\n",
    "  * Lower triangular if $a_{ij}=0$ for $i < j$\n",
    "\n",
    "  * Upper Hessenberg if $a_{ij}=0$ for $i > j+1$\n",
    "\n",
    "  * Lower Hessenberg if $a_{ij}=0$ for $i < j+1$\n",
    "\n",
    "  * Tridiagonal if $a_{ij}=0$ for $|i -j| > 1$\n",
    "\n",
    "  * Lower banded with bandwidth $p$: $a_{ij}=0$ for $i > j+p$\n",
    "\n",
    "  * Upper banded with bandwidth $p$: $a_{ij}=0$ for $i < j+p$\n",
    "\n",
    "  * Banded, block upper triangular, block lower triangular...."
   ]
  },
  {
   "cell_type": "markdown",
   "id": "13fdf825",
   "metadata": {
    "editable": true
   },
   "source": [
    "## Matrix Features\n",
    "\n",
    "**Some Equivalent Statements.**\n",
    "\n",
    "For an $n\\times n$ matrix  $\\mathbf{A}$ the following properties are all equivalent\n",
    "\n",
    "  * If the inverse of $\\mathbf{A}$ exists, $\\mathbf{A}$ is nonsingular.\n",
    "\n",
    "  * The equation $\\mathbf{Ax}=0$ implies $\\mathbf{x}=0$.\n",
    "\n",
    "  * The rows of $\\mathbf{A}$ form a basis of $R^N$.\n",
    "\n",
    "  * The columns of $\\mathbf{A}$ form a basis of $R^N$.\n",
    "\n",
    "  * $\\mathbf{A}$ is a product of elementary matrices.\n",
    "\n",
    "  * $0$ is not eigenvalue of $\\mathbf{A}$."
   ]
  },
  {
   "cell_type": "markdown",
   "id": "796b6f44",
   "metadata": {
    "editable": true
   },
   "source": [
    "## Important Mathematical Operations\n",
    "\n",
    "The basic matrix operations that we will deal with are addition and subtraction"
   ]
  },
  {
   "cell_type": "markdown",
   "id": "710aad57",
   "metadata": {
    "editable": true
   },
   "source": [
    "$$\n",
    "\\mathbf{A}= \\mathbf{B}\\pm\\mathbf{C}  \\Longrightarrow a_{ij} = b_{ij}\\pm c_{ij},\n",
    "$$"
   ]
  },
  {
   "cell_type": "markdown",
   "id": "dff7cbe8",
   "metadata": {
    "editable": true
   },
   "source": [
    "and scalar-matrix multiplication"
   ]
  },
  {
   "cell_type": "markdown",
   "id": "1d704c0d",
   "metadata": {
    "editable": true
   },
   "source": [
    "$$\n",
    "\\mathbf{A}= \\gamma\\mathbf{B}  \\Longrightarrow a_{ij} = \\gamma b_{ij}.\n",
    "$$"
   ]
  },
  {
   "cell_type": "markdown",
   "id": "efe5d014",
   "metadata": {
    "editable": true
   },
   "source": [
    "## Vector-matrix and Matrix-matrix multiplication\n",
    "\n",
    "We have also vector-matrix multiplications"
   ]
  },
  {
   "cell_type": "markdown",
   "id": "2898aee8",
   "metadata": {
    "editable": true
   },
   "source": [
    "$$\n",
    "\\mathbf{y}=\\mathbf{Ax}   \\Longrightarrow y_{i} = \\sum_{j=1}^{n} a_{ij}x_j,\n",
    "$$"
   ]
  },
  {
   "cell_type": "markdown",
   "id": "9a6a1ba3",
   "metadata": {
    "editable": true
   },
   "source": [
    "and matrix-matrix multiplications"
   ]
  },
  {
   "cell_type": "markdown",
   "id": "419585d8",
   "metadata": {
    "editable": true
   },
   "source": [
    "$$\n",
    "\\mathbf{A}=\\mathbf{BC}   \\Longrightarrow a_{ij} = \\sum_{k=1}^{n} b_{ik}c_{kj},\n",
    "$$"
   ]
  },
  {
   "cell_type": "markdown",
   "id": "8aee0b1a",
   "metadata": {
    "editable": true
   },
   "source": [
    "and transpositions of a matrix"
   ]
  },
  {
   "cell_type": "markdown",
   "id": "b4fc0d29",
   "metadata": {
    "editable": true
   },
   "source": [
    "$$\n",
    "\\mathbf{A}=\\mathbf{B}^T   \\Longrightarrow a_{ij} = b_{ji}.\n",
    "$$"
   ]
  },
  {
   "cell_type": "markdown",
   "id": "8b941eb5",
   "metadata": {
    "editable": true
   },
   "source": [
    "## Important Mathematical Operations\n",
    "\n",
    "Similarly, important vector operations that we will deal with are addition and subtraction"
   ]
  },
  {
   "cell_type": "markdown",
   "id": "3a85dd7e",
   "metadata": {
    "editable": true
   },
   "source": [
    "$$\n",
    "\\mathbf{x}= \\mathbf{y}\\pm\\mathbf{z}  \\Longrightarrow x_{i} = y_{i}\\pm z_{i},\n",
    "$$"
   ]
  },
  {
   "cell_type": "markdown",
   "id": "225f425a",
   "metadata": {
    "editable": true
   },
   "source": [
    "scalar-vector multiplication"
   ]
  },
  {
   "cell_type": "markdown",
   "id": "8eab735a",
   "metadata": {
    "editable": true
   },
   "source": [
    "$$\n",
    "\\mathbf{x}= \\gamma\\mathbf{y}  \\Longrightarrow x_{i} = \\gamma y_{i},\n",
    "$$"
   ]
  },
  {
   "cell_type": "markdown",
   "id": "d0d41710",
   "metadata": {
    "editable": true
   },
   "source": [
    "## Other important mathematical operations\n",
    "and vector-vector multiplication (called Hadamard multiplication)"
   ]
  },
  {
   "cell_type": "markdown",
   "id": "1530eed9",
   "metadata": {
    "editable": true
   },
   "source": [
    "$$\n",
    "\\mathbf{x}=\\mathbf{yz}   \\Longrightarrow x_{i} = y_{i}z_i.\n",
    "$$"
   ]
  },
  {
   "cell_type": "markdown",
   "id": "1e980a60",
   "metadata": {
    "editable": true
   },
   "source": [
    "Finally, as already metnioned, the inner or so-called dot product  resulting in a constant"
   ]
  },
  {
   "cell_type": "markdown",
   "id": "c095d2e1",
   "metadata": {
    "editable": true
   },
   "source": [
    "$$\n",
    "x=\\mathbf{y}^T\\mathbf{z}   \\Longrightarrow x = \\sum_{j=1}^{n} y_{j}z_{j},\n",
    "$$"
   ]
  },
  {
   "cell_type": "markdown",
   "id": "59236963",
   "metadata": {
    "editable": true
   },
   "source": [
    "and the outer product, which yields a matrix,"
   ]
  },
  {
   "cell_type": "markdown",
   "id": "da033bf0",
   "metadata": {
    "editable": true
   },
   "source": [
    "$$\n",
    "\\mathbf{A}=  \\mathbf{yz}^T \\Longrightarrow  a_{ij} = y_{i}z_{j},\n",
    "$$"
   ]
  },
  {
   "cell_type": "markdown",
   "id": "48638b96",
   "metadata": {
    "editable": true
   },
   "source": [
    "## Further mathematical notations\n",
    "1. For all/any  $\\forall$\n",
    "\n",
    "2. Implies $\\righarrow$\n",
    "\n",
    "3. Equivalent $\\equiv$\n",
    "\n",
    "4. Real variable $\\mathbb{R}$\n",
    "\n",
    "5. Integer variable $\\mathbb{I}$\n",
    "\n",
    "6. Complex  variable $\\mathbb{C}$"
   ]
  },
  {
   "cell_type": "markdown",
   "id": "4835e2e1",
   "metadata": {
    "editable": true
   },
   "source": [
    "## Setting up the basic equations for neural networks\n",
    "\n",
    "Neural networks, in its so-called feed-forward form, where each\n",
    "iterations contains a feed-forward stage and a back-propgagation\n",
    "stage, consist of series of affine matrix-matrix and matrix-vector\n",
    "multiplications. The unknown parameters (the so-called biases and\n",
    "weights which deternine the architecture of a neural network), are\n",
    "uptaded iteratively using the so-called back-propagation algorithm.\n",
    "This algorithm corresponds to the so-called reverse mode of the\n",
    "automatic differentation algorithm. These algorithms will be discussed\n",
    "in more detail below.\n",
    "\n",
    "We start however first with the  definitions of the various variables which make up a neural network."
   ]
  },
  {
   "cell_type": "markdown",
   "id": "bc78393c",
   "metadata": {
    "editable": true
   },
   "source": [
    "## Overarching view of a neural network\n",
    "\n",
    "The architecture of a neural network defines our model. This model\n",
    "aims at describing some function $f(\\boldsymbol{x}$ which aims at describing\n",
    "some final result (outputs or tagrget values) given a specific inpput\n",
    "$\\boldsymbol{x}$. Note that here $\\boldsymbol{y}$ and $\\boldsymbol{x}$ are not limited to be\n",
    "vectors.\n",
    "\n",
    "The architecture consists of\n",
    "1. An input and an output layer where the input layer is defined by the inputs $\\boldsymbol{x}$. The output layer produces the model ouput $\\boldsymbol{\\tilde{y}}$ which is compared with target value $\\boldsymbol{y}$.\n",
    "\n",
    "2. A given number of hidden layers and neurons for each larers (or nodes or units we will use these namings interchangeably here)\n",
    "\n",
    "3. A given activation function $\\sigma{\\boldsymbol{z}}$ with arguments $\\boldsymbol{z}$ to be defined below. The activation functions may differ from layer to layer and are normally different at elast for the output layer.\n",
    "\n",
    "4. Finally we define a so-called cost or loss function which is used to gauged the quality of our model"
   ]
  },
  {
   "cell_type": "markdown",
   "id": "18a4761c",
   "metadata": {
    "editable": true
   },
   "source": [
    "## Other ingredients of a neural network"
   ]
  }
 ],
 "metadata": {},
 "nbformat": 4,
 "nbformat_minor": 5
}
