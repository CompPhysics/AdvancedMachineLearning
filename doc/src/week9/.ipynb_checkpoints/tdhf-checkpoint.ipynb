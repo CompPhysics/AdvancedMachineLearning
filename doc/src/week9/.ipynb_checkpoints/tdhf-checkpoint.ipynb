{
 "cells": [
  {
   "cell_type": "code",
   "execution_count": 1,
   "metadata": {},
   "outputs": [
    {
     "ename": "ModuleNotFoundError",
     "evalue": "No module named 'quantum_systems'",
     "output_type": "error",
     "traceback": [
      "\u001b[0;31m---------------------------------------------------------------------------\u001b[0m",
      "\u001b[0;31mModuleNotFoundError\u001b[0m                       Traceback (most recent call last)",
      "Input \u001b[0;32mIn [1]\u001b[0m, in \u001b[0;36m<cell line: 4>\u001b[0;34m()\u001b[0m\n\u001b[1;32m      2\u001b[0m \u001b[38;5;28;01mimport\u001b[39;00m \u001b[38;5;21;01mmatplotlib\u001b[39;00m\u001b[38;5;21;01m.\u001b[39;00m\u001b[38;5;21;01mpyplot\u001b[39;00m \u001b[38;5;28;01mas\u001b[39;00m \u001b[38;5;21;01mplt\u001b[39;00m\n\u001b[1;32m      3\u001b[0m \u001b[38;5;28;01mimport\u001b[39;00m \u001b[38;5;21;01mscipy\u001b[39;00m\u001b[38;5;21;01m.\u001b[39;00m\u001b[38;5;21;01mlinalg\u001b[39;00m\u001b[38;5;241m,\u001b[39m \u001b[38;5;21;01mscipy\u001b[39;00m\u001b[38;5;21;01m.\u001b[39;00m\u001b[38;5;21;01mintegrate\u001b[39;00m\n\u001b[0;32m----> 4\u001b[0m \u001b[38;5;28;01mimport\u001b[39;00m \u001b[38;5;21;01mdo\u001b[39;00m\n\u001b[1;32m      5\u001b[0m \u001b[38;5;28;01mfrom\u001b[39;00m \u001b[38;5;21;01mIPython\u001b[39;00m\u001b[38;5;21;01m.\u001b[39;00m\u001b[38;5;21;01mdisplay\u001b[39;00m \u001b[38;5;28;01mimport\u001b[39;00m display, clear_output\n\u001b[1;32m      6\u001b[0m \u001b[38;5;28;01mfrom\u001b[39;00m \u001b[38;5;21;01mquantum_systems\u001b[39;00m \u001b[38;5;28;01mimport\u001b[39;00m ODQD, GeneralOrbitalSystem\n",
      "File \u001b[0;32m~/Teaching/AdvancedMachineLearning/doc/src/Projects/TDHF/code/code/do.py:5\u001b[0m, in \u001b[0;36m<module>\u001b[0;34m\u001b[0m\n\u001b[1;32m      3\u001b[0m \u001b[38;5;28;01mimport\u001b[39;00m \u001b[38;5;21;01mnumpy\u001b[39;00m \u001b[38;5;28;01mas\u001b[39;00m \u001b[38;5;21;01mnp\u001b[39;00m\n\u001b[1;32m      4\u001b[0m \u001b[38;5;28;01mimport\u001b[39;00m \u001b[38;5;21;01mscipy\u001b[39;00m\u001b[38;5;21;01m.\u001b[39;00m\u001b[38;5;21;01mlinalg\u001b[39;00m\u001b[38;5;241m,\u001b[39m \u001b[38;5;21;01mscipy\u001b[39;00m\u001b[38;5;21;01m.\u001b[39;00m\u001b[38;5;21;01mintegrate\u001b[39;00m\n\u001b[0;32m----> 5\u001b[0m \u001b[38;5;28;01mfrom\u001b[39;00m \u001b[38;5;21;01mquantum_systems\u001b[39;00m \u001b[38;5;28;01mimport\u001b[39;00m ODQD, GeneralOrbitalSystem\n\u001b[1;32m      6\u001b[0m \u001b[38;5;28;01mfrom\u001b[39;00m \u001b[38;5;21;01mmatplotlib\u001b[39;00m\u001b[38;5;21;01m.\u001b[39;00m\u001b[38;5;21;01manimation\u001b[39;00m \u001b[38;5;28;01mimport\u001b[39;00m FuncAnimation, PillowWriter\n\u001b[1;32m      7\u001b[0m matplotlib\u001b[38;5;241m.\u001b[39mrcParams[\u001b[38;5;124m'\u001b[39m\u001b[38;5;124mmathtext.fontset\u001b[39m\u001b[38;5;124m'\u001b[39m] \u001b[38;5;241m=\u001b[39m \u001b[38;5;124m'\u001b[39m\u001b[38;5;124mstix\u001b[39m\u001b[38;5;124m'\u001b[39m\n",
      "\u001b[0;31mModuleNotFoundError\u001b[0m: No module named 'quantum_systems'"
     ]
    }
   ],
   "source": [
    "import numpy as np\n",
    "import matplotlib.pyplot as plt\n",
    "import scipy.linalg, scipy.integrate\n",
    "import do\n",
    "from IPython.display import display, clear_output\n",
    "from quantum_systems import ODQD, GeneralOrbitalSystem\n",
    "from matplotlib import animation\n",
    "%load_ext autoreload\n",
    "%autoreload 2"
   ]
  },
  {
   "cell_type": "code",
   "execution_count": null,
   "metadata": {},
   "outputs": [],
   "source": [
    "### PARAMETERS ###\n",
    "l = 10 # Number of eigenstates of the HO potential --> we use these functions to generate the single particle WF\n",
    "grid_length = 10  # The width of the one-dimensional grid\n",
    "num_grid_points = 201  # The number of discretized points on the grid.\n",
    "alpha = 1  # The strength of the Coulomb interaction \n",
    "a = 0.25  # The shielding parameter in the Coulomb interaction potential\n",
    "Omega = 0.25  # The frequency of the harmonic oscillator trap\n",
    "omega = 8*Omega # frequency of the laser field\n",
    "epsilon0 = 1.0 # amplitude of the laser field\n",
    "nparticles = 2"
   ]
  },
  {
   "cell_type": "code",
   "execution_count": null,
   "metadata": {},
   "outputs": [],
   "source": [
    "# Create the system and solve the ground state problem and print total energy: GENERAL CALSE\n",
    "ghf = do.GHF()\n",
    "epsilon, C0, energy_per_step, delta_per_step = ghf.solve_TIHF(tolerance=1e-6, max_iter=100, eval_energy_per_step=False, eval_delta_per_step=False)\n",
    "print(ghf.eval_total_energy(C0))"
   ]
  },
  {
   "cell_type": "code",
   "execution_count": null,
   "metadata": {},
   "outputs": [],
   "source": [
    "# evaluate plot one-body density overlapped with the curve from the article: GENERAL CASE\n",
    "one_body_density = ghf.eval_one_body_density(C0)\n",
    "ghf.plot_one_body_density(one_body_density)"
   ]
  },
  {
   "cell_type": "code",
   "execution_count": null,
   "metadata": {},
   "outputs": [],
   "source": [
    "# time-evolution of the system with the laser source active\n",
    "C, time, overlap, dipole, energy = ghf.solve_TDHF(tstart=0, dt=1e-3, t_max=2*np.pi/ghf.Omega, C0=C0, eval_overlap=False, eval_dipole=False, eval_energy=False, laser_ON=True)"
   ]
  },
  {
   "cell_type": "code",
   "execution_count": null,
   "metadata": {},
   "outputs": [],
   "source": [
    "# Fourier analysis and plot of the results\n",
    "C2, time, dipole, overlap, xFFT, xfreqFFT, overlapFFT, overlapfreqFFT, energy = ghf.fourier_analysis(tolerance=1e-6, max_iter=100, t_laser_ON=10*np.pi, t_max=100*np.pi, dt=1e-3, eval_energy=False)\n",
    "ghf.plot_fourier_analysis(time, dipole, overlap, xFFT, xfreqFFT, overlapFFT, overlapfreqFFT)"
   ]
  },
  {
   "cell_type": "code",
   "execution_count": null,
   "metadata": {},
   "outputs": [],
   "source": [
    "# Create the system and solve the ground state problem and print total energy: RESTRICTED CASE\n",
    "rhf = do.RHF()\n",
    "epsilon, C0, energy_per_step, delta_per_step = rhf.solve_TIHF(tolerance=1e-6, max_iter=100, eval_energy_per_step=False, eval_delta_per_step=False)\n",
    "print(rhf.eval_total_energy(C0))"
   ]
  },
  {
   "cell_type": "code",
   "execution_count": null,
   "metadata": {},
   "outputs": [],
   "source": [
    "# evaluate plot one-body density overlapped with the curve from the article: RESTRICTED CASE\n",
    "one_body_density = rhf.eval_one_body_density(C0)\n",
    "rhf.plot_one_body_density(one_body_density)"
   ]
  }
 ],
 "metadata": {
  "kernelspec": {
   "display_name": "Python 3 (ipykernel)",
   "language": "python",
   "name": "python3"
  },
  "language_info": {
   "codemirror_mode": {
    "name": "ipython",
    "version": 3
   },
   "file_extension": ".py",
   "mimetype": "text/x-python",
   "name": "python",
   "nbconvert_exporter": "python",
   "pygments_lexer": "ipython3",
   "version": "3.9.10"
  }
 },
 "nbformat": 4,
 "nbformat_minor": 4
}
